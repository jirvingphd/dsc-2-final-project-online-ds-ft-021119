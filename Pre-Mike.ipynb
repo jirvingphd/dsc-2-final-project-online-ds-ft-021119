{
 "cells": [
  {
   "cell_type": "markdown",
   "metadata": {
    "toc": true
   },
   "source": [
    "<h1>Table of Contents<span class=\"tocSkip\"></span></h1>\n",
    "<div class=\"toc\"><ul class=\"toc-item\"><li><span><a href=\"#Module-2-Final-Project-Specifications:-Introduction\" data-toc-modified-id=\"Module-2-Final-Project-Specifications:-Introduction-1\">Module 2 Final Project Specifications: Introduction</a></span><ul class=\"toc-item\"><li><ul class=\"toc-item\"><li><span><a href=\"#Objectives\" data-toc-modified-id=\"Objectives-1.0.1\">Objectives</a></span></li><li><span><a href=\"#Final-Project-Summary\" data-toc-modified-id=\"Final-Project-Summary-1.0.2\">Final Project Summary</a></span></li><li><span><a href=\"#The-Project\" data-toc-modified-id=\"The-Project-1.0.3\">The Project</a></span></li></ul></li><li><span><a href=\"#The-Deliverables\" data-toc-modified-id=\"The-Deliverables-1.1\">The Deliverables</a></span><ul class=\"toc-item\"><li><span><a href=\"#Jupyter-Notebook-Must-Haves\" data-toc-modified-id=\"Jupyter-Notebook-Must-Haves-1.1.1\">Jupyter Notebook Must-Haves</a></span></li><li><span><a href=\"#Executive-Summary-Must-Haves\" data-toc-modified-id=\"Executive-Summary-Must-Haves-1.1.2\">Executive Summary Must-Haves</a></span></li><li><span><a href=\"#Blog-Post-Must-Haves\" data-toc-modified-id=\"Blog-Post-Must-Haves-1.1.3\">Blog Post Must-Haves</a></span></li></ul></li></ul></li><li><span><a href=\"#Outline-of-Data-Processing-and-Analysis-(using-OSEMN-model)\" data-toc-modified-id=\"Outline-of-Data-Processing-and-Analysis-(using-OSEMN-model)-2\">Outline of Data Processing and Analysis<br> (using OSEMN model)</a></span></li><li><span><a href=\"#EXPERIMENTAL-DESIGN-PLANNING\" data-toc-modified-id=\"EXPERIMENTAL-DESIGN-PLANNING-3\">EXPERIMENTAL DESIGN PLANNING</a></span><ul class=\"toc-item\"><li><span><a href=\"#Hypothesis-Testing\" data-toc-modified-id=\"Hypothesis-Testing-3.1\">Hypothesis Testing</a></span><ul class=\"toc-item\"><li><span><a href=\"#Hypothesis-1:-(Given-Hypothesis)\" data-toc-modified-id=\"Hypothesis-1:-(Given-Hypothesis)-3.1.1\">Hypothesis 1: (Given Hypothesis)</a></span></li><li><span><a href=\"#Hypothesis-2:\" data-toc-modified-id=\"Hypothesis-2:-3.1.2\">Hypothesis 2:</a></span></li><li><span><a href=\"#Hypothesis-3:\" data-toc-modified-id=\"Hypothesis-3:-3.1.3\">Hypothesis 3:</a></span></li><li><span><a href=\"#Hypothesis-4:\" data-toc-modified-id=\"Hypothesis-4:-3.1.4\">Hypothesis 4:</a></span></li></ul></li></ul></li><li><span><a href=\"#INITIALIZATION-AND-DECLARATION-OF-FUNCTIONS\" data-toc-modified-id=\"INITIALIZATION-AND-DECLARATION-OF-FUNCTIONS-4\">INITIALIZATION AND DECLARATION OF FUNCTIONS</a></span><ul class=\"toc-item\"><li><span><a href=\"#Import-packages:\" data-toc-modified-id=\"Import-packages:-4.1\">Import packages:</a></span></li><li><span><a href=\"#Define-Functions-(from-proj-1)\" data-toc-modified-id=\"Define-Functions-(from-proj-1)-4.2\">Define Functions (from proj 1)</a></span><ul class=\"toc-item\"><li><span><a href=\"#def-check_column\" data-toc-modified-id=\"def-check_column-4.2.1\">def check_column</a></span></li><li><span><a href=\"#def-multiplot\" data-toc-modified-id=\"def-multiplot-4.2.2\">def multiplot</a></span></li><li><span><a href=\"#def-detect_outliers\" data-toc-modified-id=\"def-detect_outliers-4.2.3\">def detect_outliers</a></span></li><li><span><a href=\"#def-plot_hist_scat_sns\" data-toc-modified-id=\"def-plot_hist_scat_sns-4.2.4\">def plot_hist_scat_sns</a></span></li></ul></li><li><span><a href=\"#Defining-Functions-(Proj-2-specific)\" data-toc-modified-id=\"Defining-Functions-(Proj-2-specific)-4.3\">Defining Functions (Proj 2 specific)</a></span><ul class=\"toc-item\"><li><span><a href=\"#def-list2df\" data-toc-modified-id=\"def-list2df-4.3.1\">def list2df</a></span></li><li><span><a href=\"#def-get_col_info\" data-toc-modified-id=\"def-get_col_info-4.3.2\">def get_col_info</a></span></li><li><span><a href=\"#def-get_full_table_info\" data-toc-modified-id=\"def-get_full_table_info-4.3.3\">def get_full_table_info</a></span></li></ul></li></ul></li><li><span><a href=\"#IMPORTING-DATA\" data-toc-modified-id=\"IMPORTING-DATA-5\">IMPORTING DATA</a></span><ul class=\"toc-item\"><li><span><a href=\"#Hey-Mike,\" data-toc-modified-id=\"Hey-Mike,-5.1\"><strong>Hey Mike,</strong></a></span><ul class=\"toc-item\"><li><span><a href=\"#YAY!-The-Sqlite-file-is-working!\" data-toc-modified-id=\"YAY!-The-Sqlite-file-is-working!-5.1.1\">YAY! The Sqlite file is working!</a></span></li><li><span><a href=\"#Importing-Method\" data-toc-modified-id=\"Importing-Method-5.1.2\">Importing Method</a></span></li></ul></li></ul></li><li><span><a href=\"#Hypothesis-1:-discounted-vs-non-discounted-quantites\" data-toc-modified-id=\"Hypothesis-1:-discounted-vs-non-discounted-quantites-6\">Hypothesis 1: discounted vs non-discounted quantites</a></span><ul class=\"toc-item\"><li><ul class=\"toc-item\"><li><span><a href=\"#Note-on-OrderDetails-df:\" data-toc-modified-id=\"Note-on-OrderDetails-df:-6.0.1\">Note on OrderDetails df:</a></span></li><li><span><a href=\"#Now-how-to-proceed?\" data-toc-modified-id=\"Now-how-to-proceed?-6.0.2\">Now how to proceed?</a></span></li></ul></li><li><span><a href=\"#BOOKMARK-START...-\" data-toc-modified-id=\"BOOKMARK-START...--6.1\">BOOKMARK START... <img src=\"https://www.dropbox.com/s/6xqzendi1iyzls8/bookmark.png?raw=1\" width=\"25\"></a></span></li><li><span><a href=\"#Processing-df-into-2-for-normalizaiton-and-ttest\" data-toc-modified-id=\"Processing-df-into-2-for-normalizaiton-and-ttest-6.2\">Processing df into 2 for normalizaiton and ttest</a></span></li><li><span><a href=\"#Now-we-should-test-if-we-remove-those-outliers,-do-we-pass-the-normality-test\" data-toc-modified-id=\"Now-we-should-test-if-we-remove-those-outliers,-do-we-pass-the-normality-test-6.3\">Now we should test if we remove those outliers, do we pass the normality test</a></span><ul class=\"toc-item\"><li><span><a href=\"#DEF-normtest_results-to-run-multiple-normaltests-and-save-results\" data-toc-modified-id=\"DEF-normtest_results-to-run-multiple-normaltests-and-save-results-6.3.1\">DEF normtest_results to run multiple normaltests and save results</a></span></li></ul></li><li><span><a href=\"#...END-BOOKMARK\" data-toc-modified-id=\"...END-BOOKMARK-6.4\">...END BOOKMARK</a></span></li><li><span><a href=\"#Exploring-data\" data-toc-modified-id=\"Exploring-data-6.5\">Exploring data</a></span><ul class=\"toc-item\"><li><span><a href=\"#NEXT-FIGURE-OUT-HOW-TO-EXAMINE-THE-KDE-FOR-...EACH-Discount-level?\" data-toc-modified-id=\"NEXT-FIGURE-OUT-HOW-TO-EXAMINE-THE-KDE-FOR-...EACH-Discount-level?-6.5.1\">NEXT FIGURE OUT HOW TO EXAMINE THE KDE FOR ...EACH Discount level?</a></span></li></ul></li><li><span><a href=\"#Experimental\" data-toc-modified-id=\"Experimental-6.6\">Experimental</a></span></li></ul></li></ul></div>"
   ]
  },
  {
   "cell_type": "markdown",
   "metadata": {
    "colab_type": "text",
    "id": "3yoyuAnnwwP4"
   },
   "source": []
  },
  {
   "cell_type": "markdown",
   "metadata": {
    "colab_type": "text",
    "id": "EZeLgicvwwP6"
   },
   "source": [
    "# Module 2 Final Project Specifications: Introduction"
   ]
  },
  {
   "cell_type": "markdown",
   "metadata": {
    "colab_type": "text",
    "id": "gklyzeSFwwP9"
   },
   "source": [
    "In this lesson, we'll review all the guidelines and specifications for the final project for Module 2. \n",
    "\n",
    "### Objectives\n",
    "\n",
    "* Understand all required aspects of the Final Project for Module 2\n",
    "* Understand all required deliverables\n",
    "* Understand what constitutes a successful project\n",
    "\n",
    "### Final Project Summary\n",
    "\n",
    "Another module down--you're half way there!\n",
    "\n",
    "< img src='halfway-there.gif'>\n",
    "\n",
    "For the culmination of Module 2, you just need to complete the final project!\n",
    "\n",
    "### The Project\n",
    "\n",
    "For this project, you'll be working with the Northwind database--a free, open-source dataset created by Microsoft containing data from a fictional company. You probably remember the Northwind database from our section on Advanced SQL. Here's the schema for the Northwind database:\n",
    "\n",
    "<img src='https://github.com/jirvingphd/dsc-2-final-project-online-ds-ft-021119/blob/master/Northwind_ERD.png?raw=1' width=400>"
   ]
  },
  {
   "cell_type": "markdown",
   "metadata": {
    "colab_type": "text",
    "id": "pgOCAkAHwwP-"
   },
   "source": [
    "## The Deliverables\n",
    "> **The goal of this project** is to test your ability to gather information from a real-world database and use your knowledge of statistical analysis and hypothesis testing to generate analytical insights that can be of value to the company.\n"
   ]
  },
  {
   "cell_type": "markdown",
   "metadata": {
    "colab_type": "text",
    "id": "A4eo2x98wwQA"
   },
   "source": [
    "In addition to answering this question with a hypothesis test, you will also need to come up with **_at least 3 other hypotheses to test on your own_**.  \n",
    "\n",
    "These can by **anything that you think could be imporant information _for the company_.** \n",
    "\n",
    "For this hypothesis, be sure to specify both the **_null hypothesis_** and the **_alternative hypothesis_** for your question.  You should also specify if this is one-tail or a two-tail test. \n",
    "\n",
    "To complete this project, you will need to turn in the following 3 deliverables:\n",
    "\n",
    "1. A **_Jupyter Notebook_** containing any code you've written for this project. \n",
    "2. A **_Blog Post_** explaining your process, methodology, and findings.  \n",
    "3. An **_\"Executive Summary\" PowerPoint Presentation_** that explains the hypothesis tests you ran, your findings, and their relevance to company stakeholders.  "
   ]
  },
  {
   "cell_type": "markdown",
   "metadata": {
    "colab_type": "text",
    "id": "-F7VwA6BwwQB"
   },
   "source": [
    "### Jupyter Notebook Must-Haves\n",
    "\n",
    "For this project, your jupyter notebook should meet the following specifications:\n",
    "\n",
    "**_Organization/Code Cleanliness_**\n",
    "\n",
    "* The notebook should be well organized, easy to follow, and code is commented where appropriate.  \n",
    "<br>  \n",
    "    * Level Up: The notebook contains well-formatted, professional looking markdown cells explaining any substantial code. All functions have docstrings that act as professional-quality documentation.  \n",
    "<br>      \n",
    "* The notebook is written to technical audiences with a way to both understand your approach and reproduce your results. The target audience for this deliverable is other data scientists looking to validate your findings.  \n",
    "<br>    \n",
    "* Any SQL code written to source data should also be included.  \n",
    "\n",
    "**_Findings_**\n",
    "\n",
    "* Your notebook should clearly show how you arrived at your results for each hypothesis test, including how you calculated your p-values.   \n",
    "<br>\n",
    "* You should also include any other statistics that you find relevant to your analysis, such as effect size. "
   ]
  },
  {
   "cell_type": "markdown",
   "metadata": {
    "colab_type": "text",
    "id": "PXe-ZIk3wwQC"
   },
   "source": [
    "### Executive Summary Must-Haves\n",
    "\n",
    "Your presentation should:\n",
    "\n",
    "* Contain between 5-10 professional quality slides detailing:\n",
    "<br>  \n",
    "    * A high-level overview of your methodology  \n",
    "    <br>  \n",
    "    * The results of your hypothesis tests  \n",
    "    <br>  \n",
    "    * Any real-world recommendations you would like to make based on your findings (ask yourself--why should the executive team care about what you found? How can your findings help the company?)  \n",
    "    <br>  \n",
    "* Take no more than 5 minutes to present  \n",
    "<br>  \n",
    "* Avoid technical jargon and explain results in a clear, actionable way for non-technical audiences.  "
   ]
  },
  {
   "cell_type": "markdown",
   "metadata": {
    "colab_type": "text",
    "id": "z6jWCSDawwQD"
   },
   "source": [
    "### Blog Post Must-Haves\n",
    "\n",
    "Your blog post should include everything from how you identified what tables contained the information you need, to how you retrieved it using SQL (and any challenges you ran into while doing so), as well as your methodology and results for your hypothesis tests. \n",
    "\n",
    "**_NOTE:_**  This blog post is your way of showcasing the work you've done on this project--chances are it will soon be read by a recruiter or hiring manager! Take the time to make sure that you craft your story well, and clearly explain your process and findings in a way that clearly shows both your technical expertise **_and_** your ability to communicate your results!\n",
    "___"
   ]
  },
  {
   "cell_type": "markdown",
   "metadata": {
    "colab_type": "text",
    "id": "RXO-WQHYwwQF"
   },
   "source": [
    "___"
   ]
  },
  {
   "cell_type": "markdown",
   "metadata": {
    "colab_type": "text",
    "id": "hLrUyfOEwwQG"
   },
   "source": [
    "# Outline of Data Processing and Analysis<br> (using OSEMN model)"
   ]
  },
  {
   "cell_type": "markdown",
   "metadata": {
    "colab_type": "text",
    "id": "Q70itr8BwwQH"
   },
   "source": [
    "1. **OBTAIN:**\n",
    "    - **Import data, inspect, check for datatypes to convert and null values**<br>\n",
    "        - Display header and info\n",
    "        - Drop any unneeded columns (df.drop(['col1','col2'],axis=1)\n",
    "\n",
    "2. **SCRUB: cast data types, identify outliers, check for multicollinearity, normalize data**<br>\n",
    "    - Check and cast data types\n",
    "        - [ ] Check for #'s that are store as objects (df.info())\n",
    "            - when converting to #'s, look for odd values (like many 0's), or strings that can't be converted\n",
    "            - Decide how to deal weird/null values (df.unique(), df.isna().sum(), df.describe()-min/max, etc\n",
    "        - [ ]  Check for categorical variables stored as integers\n",
    "    - [ ] Check for missing values  (df.isna().sum())\n",
    "        - Can drop rows or colums\n",
    "        - For missing numeric data with median or bin/convert to categorical\n",
    "        - For missing categorical data: make NaN own category OR replace with most common category\n",
    "    - [ ] Check for multicollinearity\n",
    "         - use seaborn to make correlation matrix plot [Evernote Link](https://www.evernote.com/l/AArNyaEwjA5JUL6I9PazHs_ts_hU-m7ja1I/) \n",
    "        - Good rule of thumb is anything over 0.75 corr is high, remove the variable that has the most correl with the largest # of variables\n",
    "    - [ ] Normalize data (may want to do after some exploring)\n",
    "        - Most popular is Z-scoring (but won't fix skew) \n",
    "        - Can log-transform to fix skewed data\n",
    "    \n",
    "            \n",
    "3. **EXPLORE:Check distributions, outliers, etc**\n",
    "    - [ ] Check scales, ranges (df.describe())\n",
    "    - [ ] Check histograms to get an idea of distributions (df.hist()) and dat transformations to perform\n",
    "        - Can also do kernel density estimates\n",
    "    - [ ] Use scatterplots to check for linearity and possible categorical variables (df.plot(kind-'scatter')\n",
    "        - categoricals will look like vertical lines\n",
    "    - [ ] Use pd.plotting.scatter_matrix to visualize possible relationships\n",
    "    - [ ] Check for linearity\n",
    "\n",
    "   \n",
    "4. **FIT AN INITIAL MODEL:** \n",
    "    - Various forms, detail later...\n",
    "    - **Assessing the model:**\n",
    "        - Assess parameters (slope,intercept)\n",
    "        - Check if the model explains the variation in the data (RMSE, F, R_square)\n",
    "        - *Are the coeffs, slopes, intercepts in appropriate units?*\n",
    "        - *Whats the impact of collinearity? Can we ignore?*\n",
    "5. **Revise the fitted model**\n",
    "    - Multicollinearity is big issue for lin regression and cannot fully remove it\n",
    "    - Use the predictive ability of model to test it (like R2 and RMSE)\n",
    "    - Check for missed non-linearity\n",
    "6. **Holdout validation / Train/test split**\n",
    "    - use sklearn train_test_split \n",
    "___"
   ]
  },
  {
   "cell_type": "markdown",
   "metadata": {
    "colab_type": "text",
    "id": "7i8Ev_kKwwQJ"
   },
   "source": []
  },
  {
   "cell_type": "markdown",
   "metadata": {
    "colab_type": "text",
    "id": "ubtNFAFewwQK"
   },
   "source": [
    "# EXPERIMENTAL DESIGN PLANNING"
   ]
  },
  {
   "cell_type": "markdown",
   "metadata": {
    "colab_type": "text",
    "id": "7rzJx4u8wwQL"
   },
   "source": [
    "## Hypothesis Testing\n",
    "\n",
    "You will need query the database to get the data needed to perform a statistical analysis.  In this statistical analysis, **you'll need to perform a hypothesis test (or perhaps several) to answer the following question:**\n",
    "\n",
    "\n",
    "> **_Do discounts have a statistically significant effect on the number of products customers order? If so, at what level(s) of discount?_**\n",
    "\n",
    "### Hypothesis 1: (Given Hypothesis)\n",
    "\n",
    "- $H_1$: The greater the discount, the greater the quantity of products ordered by individual customers?\n",
    "- $H_0$:  Discounts have no effect on the quantity of product ordered by individual customers.  \n",
    "<br>\n",
    "- **Specific Aims:**\n",
    "\n",
    "    - **Aim 1:To select dataset that allows us to compare our target variable, **quantity _per purchase_**, vs the predictor variable discount.**\n",
    "    \n",
    "       - [ ] SELECT OrderID, QUantity,Discount FROM OrderDetails\n",
    "        - GROUPBY discount\n",
    "        - id = OrderId\\\n",
    "        \n",
    "    - **Aim 2: To test the relationship using a[ ]-tailed t-test.**\n",
    "        - One or two tailed?\n",
    "            - __ tailed, because...\n",
    "    - **Aim 3: To determine which level of discounts affect quantity?**\n",
    "    \n",
    " \n",
    "<br>\n",
    "\n",
    "### Hypothesis 2:\n",
    "\n",
    "- $H_1$: Customers buy more of other store items when they are buying discounted items.\n",
    "- $H_0$: Customers buy the same ***amount*** of items\n",
    "    - **amount could mean:**\n",
    "        - the # of items (discounted vs not discounted vs same level of discount?)\n",
    "        - total price per order with/without discounted products\n",
    "<br>\n",
    "- **Specific Aims:**\n",
    "\n",
    "    - Aim 1:To select dataset that allows us to compare our target variable [    ] vs the predictor variable [      ].\n",
    "    - Aim 2: To test the relationship using a [ ] -tailed t-test. \n",
    "    - Aim 3: To determine which levels of the predictor underly the effect.\n",
    "\n",
    "### Hypothesis 3:\n",
    "\n",
    "- $H_1$: \n",
    "- $H_0$:   \n",
    "<br>\n",
    "- **Specific Aims:**\n",
    "\n",
    "    - Aim 1:To select dataset that allows us to compare our target variable [    ] vs the predictor variable [      ].\n",
    "    - Aim 2: To test the relationship using a [ ] -tailed t-test. \n",
    "    - Aim 3: To determine which levels of the predictor underly the effect.\n",
    "    \n",
    "### Hypothesis 4:\n",
    "- $H_1$: \n",
    "- $H_0$:   \n",
    "<br>\n",
    "- **Specific Aims:**\n",
    "\n",
    "    - Aim 1:To select dataset that allows us to compare our target variable [    ] vs the predictor variable [      ].\n",
    "    - Aim 2: To test the relationship using a [ ] -tailed t-test. \n",
    "    - Aim 3: To determine which levels of the predictor underly the effect."
   ]
  },
  {
   "cell_type": "markdown",
   "metadata": {
    "colab_type": "text",
    "id": "Oz3uzog5wwQM"
   },
   "source": [
    "# INITIALIZATION AND DECLARATION OF FUNCTIONS"
   ]
  },
  {
   "cell_type": "markdown",
   "metadata": {
    "colab_type": "text",
    "id": "PVjqeNPowwQN"
   },
   "source": [
    "## Import packages:"
   ]
  },
  {
   "cell_type": "code",
   "execution_count": 1,
   "metadata": {
    "colab": {},
    "colab_type": "code",
    "id": "vl-HKeJJwwQP"
   },
   "outputs": [],
   "source": [
    "# Normal packages\n",
    "import pandas as pd\n",
    "import numpy as np\n",
    "import seaborn as sns\n",
    "import matplotlib.pyplot as plt\n",
    "import matplotlib.ticker as mtick\n",
    "%matplotlib inline\n",
    "\n",
    "# Statsmodels\n",
    "\n",
    "import statsmodels.api as sm\n",
    "import statsmodels.formula.api as smf\n",
    "import statsmodels.stats.api as sms\n",
    "\n",
    "import scipy.stats as stats\n",
    "\n",
    "\n",
    "# Counter\n",
    "from collections import Counter\n",
    "\n",
    "# Sklearn\n",
    "from sklearn.model_selection import train_test_split\n",
    "from sklearn.feature_selection import RFE\n",
    "from sklearn.linear_model import LinearRegression\n",
    "from sklearn.metrics import mean_squared_error\n",
    "from sklearn.preprocessing import MinMaxScaler\n",
    "from sklearn.preprocessing import RobustScaler\n",
    "import sklearn.metrics as metrics\n",
    "\n",
    "\n",
    "import sqlalchemy\n",
    "from sqlalchemy import create_engine\n",
    "from sqlalchemy.orm import Session, sessionmaker\n",
    "from sqlalchemy import inspect"
   ]
  },
  {
   "cell_type": "markdown",
   "metadata": {
    "colab_type": "text",
    "id": "s6AsUbfMwwQU"
   },
   "source": [
    "## Define Functions (from proj 1)"
   ]
  },
  {
   "cell_type": "markdown",
   "metadata": {
    "colab_type": "text",
    "id": "O0xNoo6vwwQV"
   },
   "source": [
    "### def check_column"
   ]
  },
  {
   "cell_type": "code",
   "execution_count": 2,
   "metadata": {
    "colab": {},
    "colab_type": "code",
    "id": "UEz2Osm_wwQW"
   },
   "outputs": [],
   "source": [
    "# Check columns returns the datatype, null values and unique values of input series \n",
    "def check_column(series,nlargest='all'):\n",
    "    print(f\"Column: df['{series.name}']':\")\n",
    "    print(f\"dtype: {series.dtype}\")\n",
    "    print(f\"isna: {series.isna().sum()} out of {len(series)} - {round(series.isna().sum()/len(series)*100,3)}%\")\n",
    "        \n",
    "    print(f'\\nUnique non-na values:') #,df['waterfront'].unique())\n",
    "    if nlargest =='all':\n",
    "        print(series.value_counts())\n",
    "    else:\n",
    "        print(series.value_counts().nlargest(nlargest))"
   ]
  },
  {
   "cell_type": "markdown",
   "metadata": {
    "colab_type": "text",
    "id": "GtI-okJkwwQa"
   },
   "source": [
    "### def multiplot"
   ]
  },
  {
   "cell_type": "code",
   "execution_count": 3,
   "metadata": {
    "colab": {},
    "colab_type": "code",
    "id": "i7lFBscHwwQb"
   },
   "outputs": [],
   "source": [
    "# MULTIPLOT\n",
    "from string import ascii_letters\n",
    "import numpy as np\n",
    "import pandas as pd\n",
    "import seaborn as sns\n",
    "import matplotlib.pyplot as plt\n",
    "\n",
    "\n",
    "def multiplot(df):\n",
    "\n",
    "    sns.set(style=\"white\")\n",
    "\n",
    "    # Compute the correlation matrix\n",
    "    corr = df.corr()\n",
    "\n",
    "    # Generate a mask for the upper triangle\n",
    "    mask = np.zeros_like(corr, dtype=np.bool)\n",
    "    mask[np.triu_indices_from(mask)] = True\n",
    "\n",
    "    # Set up the matplotlib figure\n",
    "    f, ax = plt.subplots(figsize=(16, 16))\n",
    "\n",
    "    # Generate a custom diverging colormap\n",
    "    cmap = sns.diverging_palette(220, 10, as_cmap=True)\n",
    "\n",
    "    # Draw the heatmap with the mask and correct aspect ratio\n",
    "    sns.heatmap(corr, mask=mask, annot=True, cmap=cmap, center=0,\n",
    "                \n",
    "    square=True, linewidths=.5, cbar_kws={\"shrink\": .5}) #"
   ]
  },
  {
   "cell_type": "markdown",
   "metadata": {
    "colab_type": "text",
    "id": "Qk9N1jMywwQf"
   },
   "source": [
    "### def detect_outliers"
   ]
  },
  {
   "cell_type": "code",
   "execution_count": 4,
   "metadata": {
    "colab": {},
    "colab_type": "code",
    "id": "LzpDuDd5wwQg"
   },
   "outputs": [],
   "source": [
    "# Tukey's method using IQR to eliminate \n",
    "def detect_outliers(df,n,features):\n",
    "    outlier_indices = []\n",
    "    # iterate over features(columns)\n",
    "    for col in features:\n",
    "        # 1st quartile (25%)\n",
    "        Q1 = np.percentile(df[col], 25)\n",
    "        # 3rd quartile (75%)\n",
    "        Q3 = np.percentile(df[col],75)\n",
    "        # Interquartile range (IQR)\n",
    "        IQR = Q3 - Q1\n",
    "        # outlier step\n",
    "        outlier_step = 1.5 * IQR\n",
    "        # Determine a list of indices of outliers for feature col\n",
    "        outlier_list_col = df[(df[col] < Q1 - outlier_step) | (df[col] > Q3 + outlier_step )].index\n",
    "        # append the found outlier indices for col to the list of outlier indices \n",
    "        outlier_indices.extend(outlier_list_col)\n",
    "        # select observations containing more than 2 outliers\n",
    "        outlier_indices = Counter(outlier_indices)        \n",
    "        multiple_outliers = list( k for k, v in outlier_indices.items() if v > n )\n",
    "        return multiple_outliers \n",
    "# Outliers_to_drop = detect_outliers(data,2,[\"col1\",\"col2\"])\n",
    "# df.loc[Outliers_to_drop] # Show the outliers rows\n",
    "# Drop outliers\n",
    "# data= data.drop(Outliers_to_drop, axis = 0).reset_index(drop=True)"
   ]
  },
  {
   "cell_type": "markdown",
   "metadata": {
    "colab_type": "text",
    "id": "GDzeDK5gwwQk"
   },
   "source": [
    "### def plot_hist_scat_sns"
   ]
  },
  {
   "cell_type": "code",
   "execution_count": 5,
   "metadata": {
    "colab": {},
    "colab_type": "code",
    "id": "MITbzaCcwwQl"
   },
   "outputs": [],
   "source": [
    "#SEABORN\n",
    "import matplotlib.ticker as mtick\n",
    "import matplotlib.pyplot as plt\n",
    "\n",
    "# Plots histogram and scatter (vs price) side by side\n",
    "def plot_hist_scat_sns(df,target='price'):\n",
    "    plt.style.use('dark_background')\n",
    "\n",
    "    figsize=(10,6)\n",
    "    \n",
    "    ## ----------- DEFINE AESTHETIC CUSTOMIZATIONS ----------- ##\n",
    "    # Axis Label fonts\n",
    "    fontTitle = {'fontsize': 12,\n",
    "               'fontweight': 'bold',\n",
    "                'fontfamily':'serif'}\n",
    "\n",
    "    fontAxis = {'fontsize': 10,\n",
    "               'fontweight': 'bold',\n",
    "                'fontfamily':'serif'}\n",
    "\n",
    "    fontTicks = {'fontsize': 8,\n",
    "               'fontweight':'bold',\n",
    "                'fontfamily':'serif'}\n",
    "\n",
    "    # Formatting dollar sign labels\n",
    "    fmtPrice = '${x:,.0f}'\n",
    "    tickPrice = mtick.StrMethodFormatter(fmtPrice)\n",
    "    \n",
    "\n",
    "    ## ----------- PLOTTING ----------- ##\n",
    "    \n",
    "    ## Loop through dataframe to plot\n",
    "    for column in df.describe():\n",
    "    \n",
    "        # Create figure with subplots for current column\n",
    "        # Note: in order to use identical syntax for large # of subplots (ax[i,j]), \n",
    "        #  declare an extra row of subplots to be removed later\n",
    "        fig, ax = plt.subplots(figsize=figsize, ncols=2, nrows=2)\n",
    "\n",
    "        \n",
    "        \n",
    "        ## ----- SUBPLOT 1 -----##\n",
    "        i,j = 0,0\n",
    "        ax[i,j].set_title(column.capitalize(),fontdict=fontTitle)\n",
    "        \n",
    "        # Define graphing keyword dictionaries for distplot (Subplot 1)\n",
    "        hist_kws = {\"linewidth\": 1, \"alpha\": 1, \"color\": 'blue','edgecolor':'w'}\n",
    "        kde_kws = {\"color\": \"white\", \"linewidth\": 1, \"label\": \"KDE\"}\n",
    "        \n",
    "        # Plot distplot on ax[i,j] using hist_kws and kde_kws\n",
    "        sns.distplot(df[column], norm_hist=True, kde=True,\n",
    "                     hist_kws = hist_kws, kde_kws = kde_kws,\n",
    "                     label=column+' histogram', ax=ax[i,j])\n",
    " \n",
    "\n",
    "        # Set x axis label\n",
    "        ax[i,j].set_xlabel(column.title(),fontdict=fontAxis)\n",
    "    \n",
    "        # Get x-ticks, rotate labels, and return\n",
    "        xticklab1 = ax[i,j].get_xticklabels(which = 'both')\n",
    "        ax[i,j].set_xticklabels(labels=xticklab1, fontdict=fontTicks, rotation=45)\n",
    "        ax[i,j].xaxis.set_major_formatter(mtick.ScalarFormatter())\n",
    "\n",
    "        \n",
    "        # Set y-label \n",
    "        ax[i,j].set_ylabel('Density',fontdict=fontAxis)\n",
    "        yticklab1=ax[i,j].get_yticklabels(which='both')\n",
    "        ax[i,j].set_yticklabels(labels=yticklab1,fontdict=fontTicks)\n",
    "        ax[i,j].yaxis.set_major_formatter(mtick.ScalarFormatter())\n",
    "        \n",
    "        \n",
    "        # Set y-grid\n",
    "        ax[i, j].set_axisbelow(True)\n",
    "        ax[i, j].grid(axis='y',ls='--')\n",
    "\n",
    "\n",
    "        \n",
    "        \n",
    "        ## ----- SUBPLOT 2-----  ##\n",
    "        i,j = 0,1\n",
    "        ax[i,j].set_title(column.capitalize(),fontdict=fontTitle)\n",
    "\n",
    "        # Define the ketword dictionaries for  scatter plot and regression line (subplot 2)\n",
    "        line_kws={\"color\":\"white\",\"alpha\":0.5,\"lw\":4,\"ls\":\":\"}\n",
    "        scatter_kws={'s': 2, 'alpha': 0.5,'marker':'.','color':'blue'}\n",
    "\n",
    "        # Plot regplot on ax[i,j] using line_kws and scatter_kws\n",
    "        sns.regplot(df[column], df[target], \n",
    "                    line_kws = line_kws,\n",
    "                    scatter_kws = scatter_kws,\n",
    "                    ax=ax[i,j])\n",
    "        \n",
    "        # Set x-axis label\n",
    "        ax[i,j].set_xlabel(column.title(),fontdict=fontAxis)\n",
    "\n",
    "         # Get x ticks, rotate labels, and return\n",
    "        xticklab2=ax[i,j].get_xticklabels(which='both')\n",
    "        ax[i,j].set_xticklabels(labels=xticklab2,fontdict=fontTicks, rotation=45)\n",
    "        ax[i,j].xaxis.set_major_formatter(mtick.ScalarFormatter())\n",
    "\n",
    "        # Set  y-axis label\n",
    "        ax[i,j].set_ylabel(target,fontdict=fontAxis)\n",
    "        \n",
    "        # Get, set, and format y-axis Price labels\n",
    "        yticklab = ax[i,j].get_yticklabels()\n",
    "        ax[i,j].set_yticklabels(yticklab,fontdict=fontTicks)\n",
    "        ax[i,j].yaxis.set_major_formatter(mtick.ScalarFormatter())\n",
    "\n",
    "#         ax[i,j].get_yaxis().set_major_formatter(tickPrice) \n",
    "\n",
    "        # Set y-grid\n",
    "        ax[i, j].set_axisbelow(True)\n",
    "        ax[i, j].grid(axis='y',ls='--')       \n",
    "        \n",
    "        ## ---------- Final layout adjustments ----------- ##\n",
    "        # Deleted unused subplots \n",
    "        fig.delaxes(ax[1,1])\n",
    "        fig.delaxes(ax[1,0])\n",
    "\n",
    "        # Optimizing spatial layout\n",
    "        fig.tight_layout()\n",
    "        figtitle=column+'_dist_regr_plots.png'\n",
    "        plt.savefig(figtitle)\n",
    "    return "
   ]
  },
  {
   "cell_type": "markdown",
   "metadata": {
    "colab_type": "text",
    "id": "BVwy49ADwwQn"
   },
   "source": [
    "## Defining Functions (Proj 2 specific)"
   ]
  },
  {
   "cell_type": "markdown",
   "metadata": {
    "colab_type": "text",
    "id": "nkPB_HcdwwQo"
   },
   "source": [
    "### def list2df"
   ]
  },
  {
   "cell_type": "code",
   "execution_count": 6,
   "metadata": {
    "colab": {},
    "colab_type": "code",
    "id": "TwdV-j85wwQp"
   },
   "outputs": [],
   "source": [
    "def list2df(list):#, sort_values='index'):\n",
    "    \"\"\" Take in a list where row[0] = column_names and outputs a dataframe.\n",
    "    \n",
    "    Keyword arguments:\n",
    "    set_index -- df.set_index(set_index)\n",
    "    sortby -- df.sorted()\n",
    "    \"\"\"    \n",
    "    \n",
    "    df_list = pd.DataFrame(list[1:],columns=list[0])\n",
    "#     df_list = df_list[1:]\n",
    "\n",
    "    return df_list"
   ]
  },
  {
   "cell_type": "markdown",
   "metadata": {
    "colab_type": "text",
    "id": "ekTOehxHwwQu"
   },
   "source": [
    "### def get_col_info"
   ]
  },
  {
   "cell_type": "code",
   "execution_count": 7,
   "metadata": {
    "colab": {},
    "colab_type": "code",
    "id": "LOaNcafFwwQv"
   },
   "outputs": [],
   "source": [
    "def  get_col_info(col_name):\n",
    "    \n",
    "    col_list = inspector.get_columns(col_name)\n",
    "    \n",
    "    column_info = [['table','column','dtype']]\n",
    "    print(f'Table Name: {col_name}\\n')\n",
    "\n",
    "    for col in col_list:\n",
    "        column_info.append([str(col_name),col['name'], col['type']])\n",
    "        \n",
    "    df = list2df(column_info)\n",
    "    return column_info"
   ]
  },
  {
   "cell_type": "markdown",
   "metadata": {
    "colab_type": "text",
    "id": "XrvSuzkKwwQz"
   },
   "source": [
    "### def get_full_table_info"
   ]
  },
  {
   "cell_type": "code",
   "execution_count": 8,
   "metadata": {
    "colab": {},
    "colab_type": "code",
    "id": "A0bruXiLwwQ0"
   },
   "outputs": [],
   "source": [
    "def  get_full_table_info(engine):\n",
    "    \n",
    "    column_info = [['table','column','dtype']]\n",
    "    \n",
    "    list_tables= engine.table_names()\n",
    "    \n",
    "    for table in list_tables:\n",
    "        \n",
    "        col_list = inspector.get_columns(table)\n",
    "        \n",
    "        for col in col_list:\n",
    "            \n",
    "            column_info.append([str(table),col['name'], col['type'],col['']])\n",
    "            inspector.get_foreign_keys()\n",
    "    \n",
    "    df = list2df(column_info)\n",
    "    return df"
   ]
  },
  {
   "cell_type": "code",
   "execution_count": 9,
   "metadata": {
    "colab": {},
    "colab_type": "code",
    "id": "Ne6vEM4CwwQ3"
   },
   "outputs": [],
   "source": [
    "# From Mike\n",
    "def describe_outliers(df):\n",
    "    out_count = 0\n",
    "    new_df = pd.DataFrame(columns=['total_outliers', 'percent_total'])\n",
    "    for col in df.columns:\n",
    "        outies = find_outliers(df[col])\n",
    "        out_count += len(outies) \n",
    "        new_df.loc[col] = [len(outies), round((len(outies)/len(df.index))*100, 2)]\n",
    "    new_df.loc['grand_total'] = [sum(new_df['total_outliers']), sum(new_df['percent_total'])]\n",
    "    return new_df"
   ]
  },
  {
   "cell_type": "markdown",
   "metadata": {
    "colab_type": "text",
    "id": "7mKcl3fkwwQ6"
   },
   "source": [
    "# IMPORTING DATA"
   ]
  },
  {
   "cell_type": "markdown",
   "metadata": {
    "colab_type": "text",
    "id": "jNCeTHeV4W9t"
   },
   "source": [
    "## **Hey Mike,**\n",
    "We must change up the start of the script in order to get the sqlite file loaded properly.\n",
    "We basically mount google drive and then tell it the filepath.<br> \n",
    "If you open the sidebar on the left, there is  a Files tab.\n"
   ]
  },
  {
   "cell_type": "code",
   "execution_count": 10,
   "metadata": {
    "colab": {
     "base_uri": "https://localhost:8080/",
     "height": 55
    },
    "colab_type": "code",
    "id": "N0O4-cWq1N53",
    "outputId": "eeab192a-9a4b-4bf2-a7f0-93e8258bd395"
   },
   "outputs": [
    {
     "name": "stdout",
     "output_type": "stream",
     "text": [
      " Volume in drive D is Storage HD\n",
      " Volume Serial Number is 11EC-B280\n",
      "\n",
      " Directory of D:\\Users\\James\\Dropbox (Personal)\\CODING\\_FLATIRON\\Mod2_FinalProject\\dsc-2-final-project-online-ds-ft-021119\n",
      "\n",
      "04/01/2019  12:06 AM    <DIR>          .\n",
      "04/01/2019  12:06 AM    <DIR>          ..\n",
      "03/29/2019  04:47 PM                66 .gitignore\n",
      "03/31/2019  11:51 PM    <DIR>          .ipynb_checkpoints\n",
      "03/29/2019  04:47 PM                95 .learn\n",
      "03/29/2019  04:47 PM           526,610 adventureworks2008_schema.gif\n",
      "03/29/2019  04:47 PM             1,849 CONTRIBUTING.md\n",
      "04/01/2019  12:06 AM            88,191 Copy_of_Sharing_version_JMI_of_mod2_project_WIP.ipynb\n",
      "03/31/2019  02:40 PM            27,514 Discount_dist_regr_plots.png\n",
      "03/29/2019  06:00 PM         2,420,562 Ex_Final Mod 1 Project.ipynb\n",
      "03/29/2019  04:47 PM         2,930,391 halfway-there.gif\n",
      "03/31/2019  01:43 PM           608,128 Hypothesis Testing with SciPy_codeacademy slides.pdf\n",
      "03/29/2019  10:03 PM            20,605 index.ipynb\n",
      "03/29/2019  04:47 PM             1,371 LICENSE.md\n",
      "03/31/2019  05:46 PM           402,856 mod2_project_WIP.ipynb\n",
      "03/29/2019  04:47 PM            88,732 Northwind_ERD.png\n",
      "03/29/2019  04:47 PM           290,816 Northwind_small.sqlite\n",
      "03/31/2019  02:40 PM            41,467 OrderId_dist_regr_plots.png\n",
      "03/31/2019  02:40 PM            38,688 ProductId_dist_regr_plots.png\n",
      "03/31/2019  02:40 PM            27,107 Quantity_dist_regr_plots.png\n",
      "03/29/2019  04:47 PM             4,730 README.md\n",
      "03/31/2019  02:40 PM            34,250 UnitPrice_dist_regr_plots.png\n",
      "              19 File(s)      7,554,028 bytes\n",
      "               3 Dir(s)  514,992,418,816 bytes free\n"
     ]
    }
   ],
   "source": [
    "# #The northwind.sqlite is located in: content/drive/My Drive/Colab Notebooks/datasets/Northwind_small.sqlite\n",
    "# from google.colab import drive\n",
    "# drive.mount('/content/drive') \n",
    "\n",
    "# #!ln -s \"gdrive/My Drive/Colab Notebooks/\" # \"/content/Colab Notebooks\" # I tried to make a link to just load folder but it didn't work. \n",
    "%ls"
   ]
  },
  {
   "cell_type": "code",
   "execution_count": 11,
   "metadata": {
    "colab": {
     "base_uri": "https://localhost:8080/",
     "height": 3761
    },
    "colab_type": "code",
    "id": "NGfWlIw45Xs1",
    "outputId": "47f890d0-a69e-461d-fb1c-03c5cee8f9fc"
   },
   "outputs": [
    {
     "name": "stdout",
     "output_type": "stream",
     "text": [
      "2019-04-01 00:06:12,173 INFO sqlalchemy.engine.base.Engine SELECT CAST('test plain returns' AS VARCHAR(60)) AS anon_1\n",
      "2019-04-01 00:06:12,174 INFO sqlalchemy.engine.base.Engine ()\n",
      "2019-04-01 00:06:12,176 INFO sqlalchemy.engine.base.Engine SELECT CAST('test unicode returns' AS VARCHAR(60)) AS anon_1\n",
      "2019-04-01 00:06:12,176 INFO sqlalchemy.engine.base.Engine ()\n",
      "2019-04-01 00:06:12,178 INFO sqlalchemy.engine.base.Engine SELECT name FROM sqlite_master WHERE type='table' ORDER BY name\n",
      "2019-04-01 00:06:12,179 INFO sqlalchemy.engine.base.Engine ()\n",
      "\n",
      " ['Category', 'Customer', 'CustomerCustomerDemo', 'CustomerDemographic', 'Employee', 'EmployeeTerritory', 'Order', 'OrderDetail', 'Product', 'Region', 'Shipper', 'Supplier', 'Territory']\n"
     ]
    }
   ],
   "source": [
    "filepath = '/content/drive/My Drive/Northwind_small.sqlite'\n",
    "filepath = '/content/drive/My Drive/Northwind_small.sqlite'\n",
    "#-------------------\n",
    "# Testing minimal version of prior code\n",
    "import sqlite3\n",
    "from sqlalchemy import create_engine, inspect\n",
    "# from sqlalchemy import Table, Column, Integer, String, MetaData, ForeignKey,text, Float\n",
    "\n",
    "engine = create_engine('sqlite:///Northwind_small.sqlite',echo=True)\n",
    "inspector = inspect(engine);\n",
    "db_tables = inspector.get_table_names()\n",
    "print('\\n',db_tables);"
   ]
  },
  {
   "cell_type": "code",
   "execution_count": 12,
   "metadata": {
    "colab": {},
    "colab_type": "code",
    "id": "zEqu9PbxwwQ8"
   },
   "outputs": [],
   "source": [
    "# # Testing minimal version of prior code\n",
    "# import sqlite3\n",
    "# from sqlalchemy import create_engine, inspect\n",
    "# from sqlalchemy import Table, Column, Integer, String, MetaData, ForeignKey,text, Float\n",
    "\n",
    "# engine = create_engine(\"sqlite:///Northwind_small.sqlite\",echo=True)\n",
    "# inspector = inspect(engine);\n",
    "# db_tables = inspector.get_table_names()\n",
    "# print('\\n',db_tables);"
   ]
  },
  {
   "cell_type": "markdown",
   "metadata": {
    "colab_type": "text",
    "id": "Lz_NZXdJ55r8"
   },
   "source": [
    "### YAY! The Sqlite file is working!\n"
   ]
  },
  {
   "cell_type": "markdown",
   "metadata": {
    "colab_type": "text",
    "id": "1BgHrsVywwQ6"
   },
   "source": [
    "### Importing Method \n",
    "- Use sqlalchemy to create engine to connect to Northwind_small.sqlite.\n",
    "- use pd.read_sql_query('SELECT * FROM OrderDetail',egine) to directly read db into df"
   ]
  },
  {
   "cell_type": "code",
   "execution_count": 13,
   "metadata": {
    "colab": {
     "base_uri": "https://localhost:8080/",
     "height": 117
    },
    "colab_type": "code",
    "id": "slE9zwdIwwRF",
    "outputId": "f32e8063-e850-4b27-bb2b-d465da83a4bb"
   },
   "outputs": [
    {
     "name": "stdout",
     "output_type": "stream",
     "text": [
      "2019-04-01 00:06:12,197 INFO sqlalchemy.engine.base.Engine PRAGMA table_info(\"OrderDetail\")\n",
      "2019-04-01 00:06:12,198 INFO sqlalchemy.engine.base.Engine ()\n",
      "Table Name: OrderDetail\n",
      "\n"
     ]
    },
    {
     "data": {
      "text/html": [
       "<div>\n",
       "<style scoped>\n",
       "    .dataframe tbody tr th:only-of-type {\n",
       "        vertical-align: middle;\n",
       "    }\n",
       "\n",
       "    .dataframe tbody tr th {\n",
       "        vertical-align: top;\n",
       "    }\n",
       "\n",
       "    .dataframe thead th {\n",
       "        text-align: right;\n",
       "    }\n",
       "</style>\n",
       "<table border=\"1\" class=\"dataframe\">\n",
       "  <thead>\n",
       "    <tr style=\"text-align: right;\">\n",
       "      <th></th>\n",
       "      <th>table</th>\n",
       "      <th>column</th>\n",
       "      <th>dtype</th>\n",
       "    </tr>\n",
       "  </thead>\n",
       "  <tbody>\n",
       "    <tr>\n",
       "      <th>0</th>\n",
       "      <td>OrderDetail</td>\n",
       "      <td>Id</td>\n",
       "      <td>VARCHAR(8000)</td>\n",
       "    </tr>\n",
       "    <tr>\n",
       "      <th>1</th>\n",
       "      <td>OrderDetail</td>\n",
       "      <td>OrderId</td>\n",
       "      <td>INTEGER</td>\n",
       "    </tr>\n",
       "    <tr>\n",
       "      <th>2</th>\n",
       "      <td>OrderDetail</td>\n",
       "      <td>ProductId</td>\n",
       "      <td>INTEGER</td>\n",
       "    </tr>\n",
       "    <tr>\n",
       "      <th>3</th>\n",
       "      <td>OrderDetail</td>\n",
       "      <td>UnitPrice</td>\n",
       "      <td>DECIMAL</td>\n",
       "    </tr>\n",
       "    <tr>\n",
       "      <th>4</th>\n",
       "      <td>OrderDetail</td>\n",
       "      <td>Quantity</td>\n",
       "      <td>INTEGER</td>\n",
       "    </tr>\n",
       "    <tr>\n",
       "      <th>5</th>\n",
       "      <td>OrderDetail</td>\n",
       "      <td>Discount</td>\n",
       "      <td>FLOAT</td>\n",
       "    </tr>\n",
       "  </tbody>\n",
       "</table>\n",
       "</div>"
      ],
      "text/plain": [
       "         table     column          dtype\n",
       "0  OrderDetail         Id  VARCHAR(8000)\n",
       "1  OrderDetail    OrderId        INTEGER\n",
       "2  OrderDetail  ProductId        INTEGER\n",
       "3  OrderDetail  UnitPrice        DECIMAL\n",
       "4  OrderDetail   Quantity        INTEGER\n",
       "5  OrderDetail   Discount          FLOAT"
      ]
     },
     "execution_count": 13,
     "metadata": {},
     "output_type": "execute_result"
    }
   ],
   "source": [
    "list2df(get_col_info('OrderDetail'))"
   ]
  },
  {
   "cell_type": "code",
   "execution_count": null,
   "metadata": {
    "colab": {},
    "colab_type": "code",
    "id": "grfRrQwj6Ff8"
   },
   "outputs": [],
   "source": []
  },
  {
   "cell_type": "markdown",
   "metadata": {
    "colab_type": "text",
    "id": "fcYXKTJe-bjt"
   },
   "source": [
    "# Hypothesis 1: discounted vs non-discounted quantites"
   ]
  },
  {
   "cell_type": "code",
   "execution_count": 14,
   "metadata": {
    "colab": {
     "base_uri": "https://localhost:8080/",
     "height": 2016
    },
    "colab_type": "code",
    "id": "8r91sfLGwwRK",
    "outputId": "921e5bcc-7521-4636-e6f5-eea5452a85bb"
   },
   "outputs": [
    {
     "name": "stdout",
     "output_type": "stream",
     "text": [
      "2019-04-01 00:06:12,230 INFO sqlalchemy.engine.base.Engine SELECT * FROM OrderDetail\n",
      "2019-04-01 00:06:12,231 INFO sqlalchemy.engine.base.Engine ()\n"
     ]
    },
    {
     "data": {
      "text/html": [
       "<div>\n",
       "<style scoped>\n",
       "    .dataframe tbody tr th:only-of-type {\n",
       "        vertical-align: middle;\n",
       "    }\n",
       "\n",
       "    .dataframe tbody tr th {\n",
       "        vertical-align: top;\n",
       "    }\n",
       "\n",
       "    .dataframe thead th {\n",
       "        text-align: right;\n",
       "    }\n",
       "</style>\n",
       "<table border=\"1\" class=\"dataframe\">\n",
       "  <thead>\n",
       "    <tr style=\"text-align: right;\">\n",
       "      <th></th>\n",
       "      <th>Id</th>\n",
       "      <th>OrderId</th>\n",
       "      <th>ProductId</th>\n",
       "      <th>UnitPrice</th>\n",
       "      <th>Quantity</th>\n",
       "      <th>Discount</th>\n",
       "    </tr>\n",
       "  </thead>\n",
       "  <tbody>\n",
       "    <tr>\n",
       "      <th>0</th>\n",
       "      <td>10248/11</td>\n",
       "      <td>10248</td>\n",
       "      <td>11</td>\n",
       "      <td>14.0</td>\n",
       "      <td>12</td>\n",
       "      <td>0.0</td>\n",
       "    </tr>\n",
       "    <tr>\n",
       "      <th>1</th>\n",
       "      <td>10248/42</td>\n",
       "      <td>10248</td>\n",
       "      <td>42</td>\n",
       "      <td>9.8</td>\n",
       "      <td>10</td>\n",
       "      <td>0.0</td>\n",
       "    </tr>\n",
       "    <tr>\n",
       "      <th>2</th>\n",
       "      <td>10248/72</td>\n",
       "      <td>10248</td>\n",
       "      <td>72</td>\n",
       "      <td>34.8</td>\n",
       "      <td>5</td>\n",
       "      <td>0.0</td>\n",
       "    </tr>\n",
       "    <tr>\n",
       "      <th>3</th>\n",
       "      <td>10249/14</td>\n",
       "      <td>10249</td>\n",
       "      <td>14</td>\n",
       "      <td>18.6</td>\n",
       "      <td>9</td>\n",
       "      <td>0.0</td>\n",
       "    </tr>\n",
       "    <tr>\n",
       "      <th>4</th>\n",
       "      <td>10249/51</td>\n",
       "      <td>10249</td>\n",
       "      <td>51</td>\n",
       "      <td>42.4</td>\n",
       "      <td>40</td>\n",
       "      <td>0.0</td>\n",
       "    </tr>\n",
       "  </tbody>\n",
       "</table>\n",
       "</div>"
      ],
      "text/plain": [
       "         Id  OrderId  ProductId  UnitPrice  Quantity  Discount\n",
       "0  10248/11    10248         11       14.0        12       0.0\n",
       "1  10248/42    10248         42        9.8        10       0.0\n",
       "2  10248/72    10248         72       34.8         5       0.0\n",
       "3  10249/14    10249         14       18.6         9       0.0\n",
       "4  10249/51    10249         51       42.4        40       0.0"
      ]
     },
     "execution_count": 14,
     "metadata": {},
     "output_type": "execute_result"
    }
   ],
   "source": [
    "# We want to test hypothesis one, so we need OrderDetail table.\n",
    "table_to_test = \"OrderDetail\"\n",
    "df = pd.read_sql_query(\"SELECT * FROM OrderDetail\",  engine)\n",
    "df.head()"
   ]
  },
  {
   "cell_type": "code",
   "execution_count": 15,
   "metadata": {
    "colab": {},
    "colab_type": "code",
    "id": "bHdkczoawwRO",
    "scrolled": true
   },
   "outputs": [
    {
     "name": "stdout",
     "output_type": "stream",
     "text": [
      "<class 'pandas.core.frame.DataFrame'>\n",
      "RangeIndex: 2155 entries, 0 to 2154\n",
      "Data columns (total 6 columns):\n",
      "Id           2155 non-null object\n",
      "OrderId      2155 non-null int64\n",
      "ProductId    2155 non-null int64\n",
      "UnitPrice    2155 non-null float64\n",
      "Quantity     2155 non-null int64\n",
      "Discount     2155 non-null float64\n",
      "dtypes: float64(2), int64(3), object(1)\n",
      "memory usage: 101.1+ KB\n"
     ]
    }
   ],
   "source": [
    "df.info()"
   ]
  },
  {
   "cell_type": "code",
   "execution_count": 16,
   "metadata": {
    "colab": {},
    "colab_type": "code",
    "id": "hOZ_8uy7HuMr"
   },
   "outputs": [
    {
     "data": {
      "text/plain": [
       "[0.0, 0.01, 0.02, 0.03, 0.04, 0.05, 0.06, 0.1, 0.15, 0.2, 0.25]"
      ]
     },
     "execution_count": 16,
     "metadata": {},
     "output_type": "execute_result"
    }
   ],
   "source": [
    "sorted(df['Discount'].unique())"
   ]
  },
  {
   "cell_type": "markdown",
   "metadata": {
    "colab_type": "text",
    "id": "u1V-i0y6wwTB",
    "scrolled": true
   },
   "source": [
    "### Note on OrderDetails df:\n",
    "1. There are 11 possible values for discounts: \n",
    "    - Values = [0.0, 0.01, 0.02, 0.03, 0.04, 0.05, 0.06, 0.1, 0.15, 0.2, 0.25]<br>\n",
    "    ``` print(sorted(df['Discount'].unique())) ```\n",
    "2. Too many columns to see.\n",
    "    - Can I stack/unstack to see better?\n",
    "    \n",
    "### Now how to proceed?\n",
    "1. Check what I need to run a t-test in python. \n",
    "    - [ ] Once review, use info to determine next steps."
   ]
  },
  {
   "cell_type": "code",
   "execution_count": 17,
   "metadata": {
    "colab": {},
    "colab_type": "code",
    "id": "S7s99OFmwwRS"
   },
   "outputs": [
    {
     "data": {
      "text/plain": [
       "count    2155.000000\n",
       "mean       23.812993\n",
       "std        19.022047\n",
       "min         1.000000\n",
       "25%        10.000000\n",
       "50%        20.000000\n",
       "75%        30.000000\n",
       "max       130.000000\n",
       "Name: Quantity, dtype: float64"
      ]
     },
     "execution_count": 17,
     "metadata": {},
     "output_type": "execute_result"
    }
   ],
   "source": [
    "df['Quantity'].describe()"
   ]
  },
  {
   "cell_type": "code",
   "execution_count": 18,
   "metadata": {
    "colab": {},
    "colab_type": "code",
    "id": "Hv1Y1NyQwwRW"
   },
   "outputs": [
    {
     "data": {
      "text/plain": [
       "<matplotlib.axes._subplots.AxesSubplot at 0x26a4d3ee8d0>"
      ]
     },
     "execution_count": 18,
     "metadata": {},
     "output_type": "execute_result"
    },
    {
     "data": {
      "image/png": "[encoded data removed]",
      "text/plain": [
       "<Figure size 300x300 with 1 Axes>"
      ]
     },
     "metadata": {},
     "output_type": "display_data"
    }
   ],
   "source": [
    "plt.style.use('default')\n",
    "              \n",
    "fig = plt.figure(num=1, figsize=(3,3))\n",
    "ax = fig.add_axes()\n",
    "sns.distplot(df['Quantity'],ax=ax)"
   ]
  },
  {
   "cell_type": "code",
   "execution_count": 19,
   "metadata": {
    "colab": {},
    "colab_type": "code",
    "id": "VX6P3oYJwwRa"
   },
   "outputs": [
    {
     "data": {
      "text/html": [
       "<div>\n",
       "<style scoped>\n",
       "    .dataframe tbody tr th:only-of-type {\n",
       "        vertical-align: middle;\n",
       "    }\n",
       "\n",
       "    .dataframe tbody tr th {\n",
       "        vertical-align: top;\n",
       "    }\n",
       "\n",
       "    .dataframe thead th {\n",
       "        text-align: right;\n",
       "    }\n",
       "</style>\n",
       "<table border=\"1\" class=\"dataframe\">\n",
       "  <thead>\n",
       "    <tr style=\"text-align: right;\">\n",
       "      <th></th>\n",
       "      <th></th>\n",
       "      <th>OrderId</th>\n",
       "      <th>ProductId</th>\n",
       "      <th>UnitPrice</th>\n",
       "      <th>Quantity</th>\n",
       "    </tr>\n",
       "    <tr>\n",
       "      <th>Discount</th>\n",
       "      <th></th>\n",
       "      <th></th>\n",
       "      <th></th>\n",
       "      <th></th>\n",
       "      <th></th>\n",
       "    </tr>\n",
       "  </thead>\n",
       "  <tbody>\n",
       "    <tr>\n",
       "      <th rowspan=\"8\" valign=\"top\">0.00</th>\n",
       "      <th>count</th>\n",
       "      <td>1317.000000</td>\n",
       "      <td>1317.000000</td>\n",
       "      <td>1317.000000</td>\n",
       "      <td>1317.000000</td>\n",
       "    </tr>\n",
       "    <tr>\n",
       "      <th>mean</th>\n",
       "      <td>10662.791951</td>\n",
       "      <td>41.396355</td>\n",
       "      <td>26.171534</td>\n",
       "      <td>21.715262</td>\n",
       "    </tr>\n",
       "    <tr>\n",
       "      <th>std</th>\n",
       "      <td>244.835366</td>\n",
       "      <td>22.217410</td>\n",
       "      <td>29.717354</td>\n",
       "      <td>17.507493</td>\n",
       "    </tr>\n",
       "    <tr>\n",
       "      <th>min</th>\n",
       "      <td>10248.000000</td>\n",
       "      <td>1.000000</td>\n",
       "      <td>2.000000</td>\n",
       "      <td>1.000000</td>\n",
       "    </tr>\n",
       "    <tr>\n",
       "      <th>25%</th>\n",
       "      <td>10448.000000</td>\n",
       "      <td>23.000000</td>\n",
       "      <td>12.000000</td>\n",
       "      <td>10.000000</td>\n",
       "    </tr>\n",
       "    <tr>\n",
       "      <th>50%</th>\n",
       "      <td>10671.000000</td>\n",
       "      <td>41.000000</td>\n",
       "      <td>18.400000</td>\n",
       "      <td>18.000000</td>\n",
       "    </tr>\n",
       "    <tr>\n",
       "      <th>75%</th>\n",
       "      <td>10879.000000</td>\n",
       "      <td>60.000000</td>\n",
       "      <td>32.800000</td>\n",
       "      <td>30.000000</td>\n",
       "    </tr>\n",
       "    <tr>\n",
       "      <th>max</th>\n",
       "      <td>11077.000000</td>\n",
       "      <td>77.000000</td>\n",
       "      <td>263.500000</td>\n",
       "      <td>130.000000</td>\n",
       "    </tr>\n",
       "    <tr>\n",
       "      <th rowspan=\"7\" valign=\"top\">0.01</th>\n",
       "      <th>count</th>\n",
       "      <td>1.000000</td>\n",
       "      <td>1.000000</td>\n",
       "      <td>1.000000</td>\n",
       "      <td>1.000000</td>\n",
       "    </tr>\n",
       "    <tr>\n",
       "      <th>mean</th>\n",
       "      <td>11077.000000</td>\n",
       "      <td>73.000000</td>\n",
       "      <td>15.000000</td>\n",
       "      <td>2.000000</td>\n",
       "    </tr>\n",
       "    <tr>\n",
       "      <th>min</th>\n",
       "      <td>11077.000000</td>\n",
       "      <td>73.000000</td>\n",
       "      <td>15.000000</td>\n",
       "      <td>2.000000</td>\n",
       "    </tr>\n",
       "    <tr>\n",
       "      <th>25%</th>\n",
       "      <td>11077.000000</td>\n",
       "      <td>73.000000</td>\n",
       "      <td>15.000000</td>\n",
       "      <td>2.000000</td>\n",
       "    </tr>\n",
       "    <tr>\n",
       "      <th>50%</th>\n",
       "      <td>11077.000000</td>\n",
       "      <td>73.000000</td>\n",
       "      <td>15.000000</td>\n",
       "      <td>2.000000</td>\n",
       "    </tr>\n",
       "    <tr>\n",
       "      <th>75%</th>\n",
       "      <td>11077.000000</td>\n",
       "      <td>73.000000</td>\n",
       "      <td>15.000000</td>\n",
       "      <td>2.000000</td>\n",
       "    </tr>\n",
       "    <tr>\n",
       "      <th>max</th>\n",
       "      <td>11077.000000</td>\n",
       "      <td>73.000000</td>\n",
       "      <td>15.000000</td>\n",
       "      <td>2.000000</td>\n",
       "    </tr>\n",
       "    <tr>\n",
       "      <th rowspan=\"8\" valign=\"top\">0.02</th>\n",
       "      <th>count</th>\n",
       "      <td>2.000000</td>\n",
       "      <td>2.000000</td>\n",
       "      <td>2.000000</td>\n",
       "      <td>2.000000</td>\n",
       "    </tr>\n",
       "    <tr>\n",
       "      <th>mean</th>\n",
       "      <td>11077.000000</td>\n",
       "      <td>26.000000</td>\n",
       "      <td>18.500000</td>\n",
       "      <td>2.000000</td>\n",
       "    </tr>\n",
       "    <tr>\n",
       "      <th>std</th>\n",
       "      <td>0.000000</td>\n",
       "      <td>28.284271</td>\n",
       "      <td>9.192388</td>\n",
       "      <td>1.414214</td>\n",
       "    </tr>\n",
       "    <tr>\n",
       "      <th>min</th>\n",
       "      <td>11077.000000</td>\n",
       "      <td>6.000000</td>\n",
       "      <td>12.000000</td>\n",
       "      <td>1.000000</td>\n",
       "    </tr>\n",
       "    <tr>\n",
       "      <th>25%</th>\n",
       "      <td>11077.000000</td>\n",
       "      <td>16.000000</td>\n",
       "      <td>15.250000</td>\n",
       "      <td>1.500000</td>\n",
       "    </tr>\n",
       "    <tr>\n",
       "      <th>50%</th>\n",
       "      <td>11077.000000</td>\n",
       "      <td>26.000000</td>\n",
       "      <td>18.500000</td>\n",
       "      <td>2.000000</td>\n",
       "    </tr>\n",
       "    <tr>\n",
       "      <th>75%</th>\n",
       "      <td>11077.000000</td>\n",
       "      <td>36.000000</td>\n",
       "      <td>21.750000</td>\n",
       "      <td>2.500000</td>\n",
       "    </tr>\n",
       "    <tr>\n",
       "      <th>max</th>\n",
       "      <td>11077.000000</td>\n",
       "      <td>46.000000</td>\n",
       "      <td>25.000000</td>\n",
       "      <td>3.000000</td>\n",
       "    </tr>\n",
       "    <tr>\n",
       "      <th rowspan=\"7\" valign=\"top\">0.03</th>\n",
       "      <th>count</th>\n",
       "      <td>3.000000</td>\n",
       "      <td>3.000000</td>\n",
       "      <td>3.000000</td>\n",
       "      <td>3.000000</td>\n",
       "    </tr>\n",
       "    <tr>\n",
       "      <th>mean</th>\n",
       "      <td>11077.000000</td>\n",
       "      <td>31.333333</td>\n",
       "      <td>24.650000</td>\n",
       "      <td>1.666667</td>\n",
       "    </tr>\n",
       "    <tr>\n",
       "      <th>std</th>\n",
       "      <td>0.000000</td>\n",
       "      <td>28.307832</td>\n",
       "      <td>7.992496</td>\n",
       "      <td>0.577350</td>\n",
       "    </tr>\n",
       "    <tr>\n",
       "      <th>min</th>\n",
       "      <td>11077.000000</td>\n",
       "      <td>14.000000</td>\n",
       "      <td>17.450000</td>\n",
       "      <td>1.000000</td>\n",
       "    </tr>\n",
       "    <tr>\n",
       "      <th>25%</th>\n",
       "      <td>11077.000000</td>\n",
       "      <td>15.000000</td>\n",
       "      <td>20.350000</td>\n",
       "      <td>1.500000</td>\n",
       "    </tr>\n",
       "    <tr>\n",
       "      <th>50%</th>\n",
       "      <td>11077.000000</td>\n",
       "      <td>16.000000</td>\n",
       "      <td>23.250000</td>\n",
       "      <td>2.000000</td>\n",
       "    </tr>\n",
       "    <tr>\n",
       "      <th>75%</th>\n",
       "      <td>11077.000000</td>\n",
       "      <td>40.000000</td>\n",
       "      <td>28.250000</td>\n",
       "      <td>2.000000</td>\n",
       "    </tr>\n",
       "    <tr>\n",
       "      <th>...</th>\n",
       "      <th>...</th>\n",
       "      <td>...</td>\n",
       "      <td>...</td>\n",
       "      <td>...</td>\n",
       "      <td>...</td>\n",
       "    </tr>\n",
       "    <tr>\n",
       "      <th rowspan=\"6\" valign=\"top\">0.10</th>\n",
       "      <th>std</th>\n",
       "      <td>220.393484</td>\n",
       "      <td>21.766181</td>\n",
       "      <td>30.679956</td>\n",
       "      <td>21.186503</td>\n",
       "    </tr>\n",
       "    <tr>\n",
       "      <th>min</th>\n",
       "      <td>10288.000000</td>\n",
       "      <td>1.000000</td>\n",
       "      <td>2.500000</td>\n",
       "      <td>2.000000</td>\n",
       "    </tr>\n",
       "    <tr>\n",
       "      <th>25%</th>\n",
       "      <td>10420.000000</td>\n",
       "      <td>21.000000</td>\n",
       "      <td>10.200000</td>\n",
       "      <td>10.000000</td>\n",
       "    </tr>\n",
       "    <tr>\n",
       "      <th>50%</th>\n",
       "      <td>10541.000000</td>\n",
       "      <td>41.000000</td>\n",
       "      <td>18.000000</td>\n",
       "      <td>20.000000</td>\n",
       "    </tr>\n",
       "    <tr>\n",
       "      <th>75%</th>\n",
       "      <td>10764.000000</td>\n",
       "      <td>61.000000</td>\n",
       "      <td>30.000000</td>\n",
       "      <td>30.000000</td>\n",
       "    </tr>\n",
       "    <tr>\n",
       "      <th>max</th>\n",
       "      <td>11077.000000</td>\n",
       "      <td>77.000000</td>\n",
       "      <td>263.500000</td>\n",
       "      <td>130.000000</td>\n",
       "    </tr>\n",
       "    <tr>\n",
       "      <th rowspan=\"8\" valign=\"top\">0.15</th>\n",
       "      <th>count</th>\n",
       "      <td>157.000000</td>\n",
       "      <td>157.000000</td>\n",
       "      <td>157.000000</td>\n",
       "      <td>157.000000</td>\n",
       "    </tr>\n",
       "    <tr>\n",
       "      <th>mean</th>\n",
       "      <td>10656.025478</td>\n",
       "      <td>40.452229</td>\n",
       "      <td>22.975924</td>\n",
       "      <td>28.382166</td>\n",
       "    </tr>\n",
       "    <tr>\n",
       "      <th>std</th>\n",
       "      <td>239.767675</td>\n",
       "      <td>22.830885</td>\n",
       "      <td>16.066346</td>\n",
       "      <td>20.923099</td>\n",
       "    </tr>\n",
       "    <tr>\n",
       "      <th>min</th>\n",
       "      <td>10250.000000</td>\n",
       "      <td>1.000000</td>\n",
       "      <td>2.500000</td>\n",
       "      <td>2.000000</td>\n",
       "    </tr>\n",
       "    <tr>\n",
       "      <th>25%</th>\n",
       "      <td>10469.000000</td>\n",
       "      <td>21.000000</td>\n",
       "      <td>12.750000</td>\n",
       "      <td>15.000000</td>\n",
       "    </tr>\n",
       "    <tr>\n",
       "      <th>50%</th>\n",
       "      <td>10633.000000</td>\n",
       "      <td>43.000000</td>\n",
       "      <td>18.000000</td>\n",
       "      <td>21.000000</td>\n",
       "    </tr>\n",
       "    <tr>\n",
       "      <th>75%</th>\n",
       "      <td>10854.000000</td>\n",
       "      <td>59.000000</td>\n",
       "      <td>32.000000</td>\n",
       "      <td>40.000000</td>\n",
       "    </tr>\n",
       "    <tr>\n",
       "      <th>max</th>\n",
       "      <td>11075.000000</td>\n",
       "      <td>77.000000</td>\n",
       "      <td>99.000000</td>\n",
       "      <td>100.000000</td>\n",
       "    </tr>\n",
       "    <tr>\n",
       "      <th rowspan=\"8\" valign=\"top\">0.20</th>\n",
       "      <th>count</th>\n",
       "      <td>161.000000</td>\n",
       "      <td>161.000000</td>\n",
       "      <td>161.000000</td>\n",
       "      <td>161.000000</td>\n",
       "    </tr>\n",
       "    <tr>\n",
       "      <th>mean</th>\n",
       "      <td>10631.708075</td>\n",
       "      <td>40.031056</td>\n",
       "      <td>23.526770</td>\n",
       "      <td>27.024845</td>\n",
       "    </tr>\n",
       "    <tr>\n",
       "      <th>std</th>\n",
       "      <td>231.401724</td>\n",
       "      <td>22.795675</td>\n",
       "      <td>25.090160</td>\n",
       "      <td>18.832801</td>\n",
       "    </tr>\n",
       "    <tr>\n",
       "      <th>min</th>\n",
       "      <td>10258.000000</td>\n",
       "      <td>1.000000</td>\n",
       "      <td>2.000000</td>\n",
       "      <td>2.000000</td>\n",
       "    </tr>\n",
       "    <tr>\n",
       "      <th>25%</th>\n",
       "      <td>10430.000000</td>\n",
       "      <td>21.000000</td>\n",
       "      <td>12.500000</td>\n",
       "      <td>12.000000</td>\n",
       "    </tr>\n",
       "    <tr>\n",
       "      <th>50%</th>\n",
       "      <td>10597.000000</td>\n",
       "      <td>40.000000</td>\n",
       "      <td>18.000000</td>\n",
       "      <td>21.000000</td>\n",
       "    </tr>\n",
       "    <tr>\n",
       "      <th>75%</th>\n",
       "      <td>10796.000000</td>\n",
       "      <td>59.000000</td>\n",
       "      <td>27.200000</td>\n",
       "      <td>40.000000</td>\n",
       "    </tr>\n",
       "    <tr>\n",
       "      <th>max</th>\n",
       "      <td>11077.000000</td>\n",
       "      <td>77.000000</td>\n",
       "      <td>210.800000</td>\n",
       "      <td>100.000000</td>\n",
       "    </tr>\n",
       "    <tr>\n",
       "      <th rowspan=\"8\" valign=\"top\">0.25</th>\n",
       "      <th>count</th>\n",
       "      <td>154.000000</td>\n",
       "      <td>154.000000</td>\n",
       "      <td>154.000000</td>\n",
       "      <td>154.000000</td>\n",
       "    </tr>\n",
       "    <tr>\n",
       "      <th>mean</th>\n",
       "      <td>10706.500000</td>\n",
       "      <td>37.792208</td>\n",
       "      <td>28.214416</td>\n",
       "      <td>28.240260</td>\n",
       "    </tr>\n",
       "    <tr>\n",
       "      <th>std</th>\n",
       "      <td>233.827383</td>\n",
       "      <td>22.343625</td>\n",
       "      <td>28.762396</td>\n",
       "      <td>20.120570</td>\n",
       "    </tr>\n",
       "    <tr>\n",
       "      <th>min</th>\n",
       "      <td>10260.000000</td>\n",
       "      <td>1.000000</td>\n",
       "      <td>2.500000</td>\n",
       "      <td>2.000000</td>\n",
       "    </tr>\n",
       "    <tr>\n",
       "      <th>25%</th>\n",
       "      <td>10500.750000</td>\n",
       "      <td>19.000000</td>\n",
       "      <td>12.625000</td>\n",
       "      <td>15.000000</td>\n",
       "    </tr>\n",
       "    <tr>\n",
       "      <th>50%</th>\n",
       "      <td>10716.500000</td>\n",
       "      <td>35.500000</td>\n",
       "      <td>19.000000</td>\n",
       "      <td>25.000000</td>\n",
       "    </tr>\n",
       "    <tr>\n",
       "      <th>75%</th>\n",
       "      <td>10912.000000</td>\n",
       "      <td>57.750000</td>\n",
       "      <td>34.000000</td>\n",
       "      <td>36.000000</td>\n",
       "    </tr>\n",
       "    <tr>\n",
       "      <th>max</th>\n",
       "      <td>11076.000000</td>\n",
       "      <td>77.000000</td>\n",
       "      <td>210.800000</td>\n",
       "      <td>120.000000</td>\n",
       "    </tr>\n",
       "  </tbody>\n",
       "</table>\n",
       "<p>85 rows × 4 columns</p>\n",
       "</div>"
      ],
      "text/plain": [
       "                     OrderId    ProductId    UnitPrice     Quantity\n",
       "Discount                                                           \n",
       "0.00     count   1317.000000  1317.000000  1317.000000  1317.000000\n",
       "         mean   10662.791951    41.396355    26.171534    21.715262\n",
       "         std      244.835366    22.217410    29.717354    17.507493\n",
       "         min    10248.000000     1.000000     2.000000     1.000000\n",
       "         25%    10448.000000    23.000000    12.000000    10.000000\n",
       "         50%    10671.000000    41.000000    18.400000    18.000000\n",
       "         75%    10879.000000    60.000000    32.800000    30.000000\n",
       "         max    11077.000000    77.000000   263.500000   130.000000\n",
       "0.01     count      1.000000     1.000000     1.000000     1.000000\n",
       "         mean   11077.000000    73.000000    15.000000     2.000000\n",
       "         min    11077.000000    73.000000    15.000000     2.000000\n",
       "         25%    11077.000000    73.000000    15.000000     2.000000\n",
       "         50%    11077.000000    73.000000    15.000000     2.000000\n",
       "         75%    11077.000000    73.000000    15.000000     2.000000\n",
       "         max    11077.000000    73.000000    15.000000     2.000000\n",
       "0.02     count      2.000000     2.000000     2.000000     2.000000\n",
       "         mean   11077.000000    26.000000    18.500000     2.000000\n",
       "         std        0.000000    28.284271     9.192388     1.414214\n",
       "         min    11077.000000     6.000000    12.000000     1.000000\n",
       "         25%    11077.000000    16.000000    15.250000     1.500000\n",
       "         50%    11077.000000    26.000000    18.500000     2.000000\n",
       "         75%    11077.000000    36.000000    21.750000     2.500000\n",
       "         max    11077.000000    46.000000    25.000000     3.000000\n",
       "0.03     count      3.000000     3.000000     3.000000     3.000000\n",
       "         mean   11077.000000    31.333333    24.650000     1.666667\n",
       "         std        0.000000    28.307832     7.992496     0.577350\n",
       "         min    11077.000000    14.000000    17.450000     1.000000\n",
       "         25%    11077.000000    15.000000    20.350000     1.500000\n",
       "         50%    11077.000000    16.000000    23.250000     2.000000\n",
       "         75%    11077.000000    40.000000    28.250000     2.000000\n",
       "...                      ...          ...          ...          ...\n",
       "0.10     std      220.393484    21.766181    30.679956    21.186503\n",
       "         min    10288.000000     1.000000     2.500000     2.000000\n",
       "         25%    10420.000000    21.000000    10.200000    10.000000\n",
       "         50%    10541.000000    41.000000    18.000000    20.000000\n",
       "         75%    10764.000000    61.000000    30.000000    30.000000\n",
       "         max    11077.000000    77.000000   263.500000   130.000000\n",
       "0.15     count    157.000000   157.000000   157.000000   157.000000\n",
       "         mean   10656.025478    40.452229    22.975924    28.382166\n",
       "         std      239.767675    22.830885    16.066346    20.923099\n",
       "         min    10250.000000     1.000000     2.500000     2.000000\n",
       "         25%    10469.000000    21.000000    12.750000    15.000000\n",
       "         50%    10633.000000    43.000000    18.000000    21.000000\n",
       "         75%    10854.000000    59.000000    32.000000    40.000000\n",
       "         max    11075.000000    77.000000    99.000000   100.000000\n",
       "0.20     count    161.000000   161.000000   161.000000   161.000000\n",
       "         mean   10631.708075    40.031056    23.526770    27.024845\n",
       "         std      231.401724    22.795675    25.090160    18.832801\n",
       "         min    10258.000000     1.000000     2.000000     2.000000\n",
       "         25%    10430.000000    21.000000    12.500000    12.000000\n",
       "         50%    10597.000000    40.000000    18.000000    21.000000\n",
       "         75%    10796.000000    59.000000    27.200000    40.000000\n",
       "         max    11077.000000    77.000000   210.800000   100.000000\n",
       "0.25     count    154.000000   154.000000   154.000000   154.000000\n",
       "         mean   10706.500000    37.792208    28.214416    28.240260\n",
       "         std      233.827383    22.343625    28.762396    20.120570\n",
       "         min    10260.000000     1.000000     2.500000     2.000000\n",
       "         25%    10500.750000    19.000000    12.625000    15.000000\n",
       "         50%    10716.500000    35.500000    19.000000    25.000000\n",
       "         75%    10912.000000    57.750000    34.000000    36.000000\n",
       "         max    11076.000000    77.000000   210.800000   120.000000\n",
       "\n",
       "[85 rows x 4 columns]"
      ]
     },
     "execution_count": 19,
     "metadata": {},
     "output_type": "execute_result"
    }
   ],
   "source": [
    "# Examining descriptive stats by discount\n",
    "df.groupby('Discount').describe().stack()"
   ]
  },
  {
   "cell_type": "markdown",
   "metadata": {
    "colab_type": "text",
    "id": "xVFJ3FrcwwRe"
   },
   "source": []
  },
  {
   "cell_type": "markdown",
   "metadata": {
    "colab_type": "text",
    "id": "Zx9Gwa4bwwRf"
   },
   "source": [
    "## BOOKMARK START... <img src=\"https://www.dropbox.com/s/6xqzendi1iyzls8/bookmark.png?raw=1\" width=25>"
   ]
  },
  {
   "cell_type": "markdown",
   "metadata": {
    "colab_type": "text",
    "id": "QHAKqLPM96FU"
   },
   "source": []
  },
  {
   "cell_type": "markdown",
   "metadata": {
    "colab_type": "text",
    "id": "q-uvY3EMwwRg"
   },
   "source": [
    "## Processing df into 2 for normalizaiton and ttest\n",
    "1. We were first separating the dataframe into the groups we wanted to test. \n",
    "2. **@NOW**: ADDING IN OUTLIER REMOVAL\n",
    "- separate df into 2 dfs:\n",
    "    - df_disc\n",
    "    - df_no_disc\n",
    "- run each df thought detect_outliers to get outlier index\n",
    "\n",
    "```python\n",
    "outliers_disc = detect_outliers(df_disc,0,['Quantity])\n",
    "outliers_no_disc = detect_outliers(df_no_disc,0,['Quantity])\n",
    "```\n",
    "- To see outliers just do:\n",
    "```python\n",
    "df_disc = df_disc.loc[df['Discount']>0]\n",
    "df_disc.head()\n",
    "```\n",
    "\n",
    "- To drop outliers dO:\n",
    "```python\n",
    "df_disc.loc[outliers_disc]=np.nan\n",
    "df_disc.dropna() #?\n",
    "```"
   ]
  },
  {
   "cell_type": "markdown",
   "metadata": {
    "colab_type": "text",
    "id": "vefLX4WswwRg"
   },
   "source": [
    "#### 1. We were first separating the dataframe into the groups we wanted to test. \n"
   ]
  },
  {
   "cell_type": "code",
   "execution_count": 20,
   "metadata": {
    "colab": {},
    "colab_type": "code",
    "id": "W_tI5InvwwRi"
   },
   "outputs": [
    {
     "data": {
      "text/html": [
       "<div>\n",
       "<style scoped>\n",
       "    .dataframe tbody tr th:only-of-type {\n",
       "        vertical-align: middle;\n",
       "    }\n",
       "\n",
       "    .dataframe tbody tr th {\n",
       "        vertical-align: top;\n",
       "    }\n",
       "\n",
       "    .dataframe thead th {\n",
       "        text-align: right;\n",
       "    }\n",
       "</style>\n",
       "<table border=\"1\" class=\"dataframe\">\n",
       "  <thead>\n",
       "    <tr style=\"text-align: right;\">\n",
       "      <th></th>\n",
       "      <th>Id</th>\n",
       "      <th>OrderId</th>\n",
       "      <th>ProductId</th>\n",
       "      <th>UnitPrice</th>\n",
       "      <th>Quantity</th>\n",
       "      <th>Discount</th>\n",
       "    </tr>\n",
       "  </thead>\n",
       "  <tbody>\n",
       "    <tr>\n",
       "      <th>6</th>\n",
       "      <td>10250/51</td>\n",
       "      <td>10250</td>\n",
       "      <td>51</td>\n",
       "      <td>42.4</td>\n",
       "      <td>35</td>\n",
       "      <td>0.15</td>\n",
       "    </tr>\n",
       "    <tr>\n",
       "      <th>7</th>\n",
       "      <td>10250/65</td>\n",
       "      <td>10250</td>\n",
       "      <td>65</td>\n",
       "      <td>16.8</td>\n",
       "      <td>15</td>\n",
       "      <td>0.15</td>\n",
       "    </tr>\n",
       "  </tbody>\n",
       "</table>\n",
       "</div>"
      ],
      "text/plain": [
       "         Id  OrderId  ProductId  UnitPrice  Quantity  Discount\n",
       "6  10250/51    10250         51       42.4        35      0.15\n",
       "7  10250/65    10250         65       16.8        15      0.15"
      ]
     },
     "execution_count": 20,
     "metadata": {},
     "output_type": "execute_result"
    }
   ],
   "source": [
    "df_disc = df.loc[df['Discount']>0]\n",
    "df_disc.head(2)"
   ]
  },
  {
   "cell_type": "code",
   "execution_count": 21,
   "metadata": {
    "colab": {},
    "colab_type": "code",
    "id": "16Ebxk2JwwRo"
   },
   "outputs": [
    {
     "data": {
      "text/html": [
       "<div>\n",
       "<style scoped>\n",
       "    .dataframe tbody tr th:only-of-type {\n",
       "        vertical-align: middle;\n",
       "    }\n",
       "\n",
       "    .dataframe tbody tr th {\n",
       "        vertical-align: top;\n",
       "    }\n",
       "\n",
       "    .dataframe thead th {\n",
       "        text-align: right;\n",
       "    }\n",
       "</style>\n",
       "<table border=\"1\" class=\"dataframe\">\n",
       "  <thead>\n",
       "    <tr style=\"text-align: right;\">\n",
       "      <th></th>\n",
       "      <th>OrderId</th>\n",
       "      <th>ProductId</th>\n",
       "      <th>UnitPrice</th>\n",
       "      <th>Quantity</th>\n",
       "      <th>Discount</th>\n",
       "    </tr>\n",
       "  </thead>\n",
       "  <tbody>\n",
       "    <tr>\n",
       "      <th>count</th>\n",
       "      <td>838.000000</td>\n",
       "      <td>838.000000</td>\n",
       "      <td>838.000000</td>\n",
       "      <td>838.000000</td>\n",
       "      <td>838.000000</td>\n",
       "    </tr>\n",
       "    <tr>\n",
       "      <th>mean</th>\n",
       "      <td>10654.007160</td>\n",
       "      <td>39.844869</td>\n",
       "      <td>26.292363</td>\n",
       "      <td>27.109785</td>\n",
       "      <td>0.144439</td>\n",
       "    </tr>\n",
       "    <tr>\n",
       "      <th>std</th>\n",
       "      <td>235.887125</td>\n",
       "      <td>22.046812</td>\n",
       "      <td>30.017214</td>\n",
       "      <td>20.771439</td>\n",
       "      <td>0.071808</td>\n",
       "    </tr>\n",
       "    <tr>\n",
       "      <th>min</th>\n",
       "      <td>10250.000000</td>\n",
       "      <td>1.000000</td>\n",
       "      <td>2.000000</td>\n",
       "      <td>1.000000</td>\n",
       "      <td>0.010000</td>\n",
       "    </tr>\n",
       "    <tr>\n",
       "      <th>25%</th>\n",
       "      <td>10452.250000</td>\n",
       "      <td>21.000000</td>\n",
       "      <td>12.500000</td>\n",
       "      <td>12.000000</td>\n",
       "      <td>0.100000</td>\n",
       "    </tr>\n",
       "    <tr>\n",
       "      <th>50%</th>\n",
       "      <td>10645.000000</td>\n",
       "      <td>40.000000</td>\n",
       "      <td>18.000000</td>\n",
       "      <td>20.000000</td>\n",
       "      <td>0.150000</td>\n",
       "    </tr>\n",
       "    <tr>\n",
       "      <th>75%</th>\n",
       "      <td>10847.000000</td>\n",
       "      <td>59.000000</td>\n",
       "      <td>31.230000</td>\n",
       "      <td>36.000000</td>\n",
       "      <td>0.200000</td>\n",
       "    </tr>\n",
       "    <tr>\n",
       "      <th>max</th>\n",
       "      <td>11077.000000</td>\n",
       "      <td>77.000000</td>\n",
       "      <td>263.500000</td>\n",
       "      <td>130.000000</td>\n",
       "      <td>0.250000</td>\n",
       "    </tr>\n",
       "  </tbody>\n",
       "</table>\n",
       "</div>"
      ],
      "text/plain": [
       "            OrderId   ProductId   UnitPrice    Quantity    Discount\n",
       "count    838.000000  838.000000  838.000000  838.000000  838.000000\n",
       "mean   10654.007160   39.844869   26.292363   27.109785    0.144439\n",
       "std      235.887125   22.046812   30.017214   20.771439    0.071808\n",
       "min    10250.000000    1.000000    2.000000    1.000000    0.010000\n",
       "25%    10452.250000   21.000000   12.500000   12.000000    0.100000\n",
       "50%    10645.000000   40.000000   18.000000   20.000000    0.150000\n",
       "75%    10847.000000   59.000000   31.230000   36.000000    0.200000\n",
       "max    11077.000000   77.000000  263.500000  130.000000    0.250000"
      ]
     },
     "execution_count": 21,
     "metadata": {},
     "output_type": "execute_result"
    }
   ],
   "source": [
    "# Examine split dataframes  - df_disc\n",
    "df_disc.describe()"
   ]
  },
  {
   "cell_type": "code",
   "execution_count": 22,
   "metadata": {
    "colab": {},
    "colab_type": "code",
    "id": "yhiC4aWY82VH"
   },
   "outputs": [
    {
     "data": {
      "text/html": [
       "<div>\n",
       "<style scoped>\n",
       "    .dataframe tbody tr th:only-of-type {\n",
       "        vertical-align: middle;\n",
       "    }\n",
       "\n",
       "    .dataframe tbody tr th {\n",
       "        vertical-align: top;\n",
       "    }\n",
       "\n",
       "    .dataframe thead th {\n",
       "        text-align: right;\n",
       "    }\n",
       "</style>\n",
       "<table border=\"1\" class=\"dataframe\">\n",
       "  <thead>\n",
       "    <tr style=\"text-align: right;\">\n",
       "      <th></th>\n",
       "      <th>Id</th>\n",
       "      <th>OrderId</th>\n",
       "      <th>ProductId</th>\n",
       "      <th>UnitPrice</th>\n",
       "      <th>Quantity</th>\n",
       "      <th>Discount</th>\n",
       "    </tr>\n",
       "  </thead>\n",
       "  <tbody>\n",
       "    <tr>\n",
       "      <th>0</th>\n",
       "      <td>10248/11</td>\n",
       "      <td>10248</td>\n",
       "      <td>11</td>\n",
       "      <td>14.0</td>\n",
       "      <td>12</td>\n",
       "      <td>0.0</td>\n",
       "    </tr>\n",
       "    <tr>\n",
       "      <th>1</th>\n",
       "      <td>10248/42</td>\n",
       "      <td>10248</td>\n",
       "      <td>42</td>\n",
       "      <td>9.8</td>\n",
       "      <td>10</td>\n",
       "      <td>0.0</td>\n",
       "    </tr>\n",
       "  </tbody>\n",
       "</table>\n",
       "</div>"
      ],
      "text/plain": [
       "         Id  OrderId  ProductId  UnitPrice  Quantity  Discount\n",
       "0  10248/11    10248         11       14.0        12       0.0\n",
       "1  10248/42    10248         42        9.8        10       0.0"
      ]
     },
     "execution_count": 22,
     "metadata": {},
     "output_type": "execute_result"
    }
   ],
   "source": [
    "# Separating df_no_disc\n",
    "df_no_disc = df.loc[df['Discount']==0]\n",
    "df_no_disc.head(2)"
   ]
  },
  {
   "cell_type": "code",
   "execution_count": 23,
   "metadata": {
    "colab": {},
    "colab_type": "code",
    "id": "CXEftlqV9SWd"
   },
   "outputs": [
    {
     "data": {
      "text/html": [
       "<div>\n",
       "<style scoped>\n",
       "    .dataframe tbody tr th:only-of-type {\n",
       "        vertical-align: middle;\n",
       "    }\n",
       "\n",
       "    .dataframe tbody tr th {\n",
       "        vertical-align: top;\n",
       "    }\n",
       "\n",
       "    .dataframe thead th {\n",
       "        text-align: right;\n",
       "    }\n",
       "</style>\n",
       "<table border=\"1\" class=\"dataframe\">\n",
       "  <thead>\n",
       "    <tr style=\"text-align: right;\">\n",
       "      <th></th>\n",
       "      <th>OrderId</th>\n",
       "      <th>ProductId</th>\n",
       "      <th>UnitPrice</th>\n",
       "      <th>Quantity</th>\n",
       "      <th>Discount</th>\n",
       "    </tr>\n",
       "  </thead>\n",
       "  <tbody>\n",
       "    <tr>\n",
       "      <th>count</th>\n",
       "      <td>1317.000000</td>\n",
       "      <td>1317.000000</td>\n",
       "      <td>1317.000000</td>\n",
       "      <td>1317.000000</td>\n",
       "      <td>1317.0</td>\n",
       "    </tr>\n",
       "    <tr>\n",
       "      <th>mean</th>\n",
       "      <td>10662.791951</td>\n",
       "      <td>41.396355</td>\n",
       "      <td>26.171534</td>\n",
       "      <td>21.715262</td>\n",
       "      <td>0.0</td>\n",
       "    </tr>\n",
       "    <tr>\n",
       "      <th>std</th>\n",
       "      <td>244.835366</td>\n",
       "      <td>22.217410</td>\n",
       "      <td>29.717354</td>\n",
       "      <td>17.507493</td>\n",
       "      <td>0.0</td>\n",
       "    </tr>\n",
       "    <tr>\n",
       "      <th>min</th>\n",
       "      <td>10248.000000</td>\n",
       "      <td>1.000000</td>\n",
       "      <td>2.000000</td>\n",
       "      <td>1.000000</td>\n",
       "      <td>0.0</td>\n",
       "    </tr>\n",
       "    <tr>\n",
       "      <th>25%</th>\n",
       "      <td>10448.000000</td>\n",
       "      <td>23.000000</td>\n",
       "      <td>12.000000</td>\n",
       "      <td>10.000000</td>\n",
       "      <td>0.0</td>\n",
       "    </tr>\n",
       "    <tr>\n",
       "      <th>50%</th>\n",
       "      <td>10671.000000</td>\n",
       "      <td>41.000000</td>\n",
       "      <td>18.400000</td>\n",
       "      <td>18.000000</td>\n",
       "      <td>0.0</td>\n",
       "    </tr>\n",
       "    <tr>\n",
       "      <th>75%</th>\n",
       "      <td>10879.000000</td>\n",
       "      <td>60.000000</td>\n",
       "      <td>32.800000</td>\n",
       "      <td>30.000000</td>\n",
       "      <td>0.0</td>\n",
       "    </tr>\n",
       "    <tr>\n",
       "      <th>max</th>\n",
       "      <td>11077.000000</td>\n",
       "      <td>77.000000</td>\n",
       "      <td>263.500000</td>\n",
       "      <td>130.000000</td>\n",
       "      <td>0.0</td>\n",
       "    </tr>\n",
       "  </tbody>\n",
       "</table>\n",
       "</div>"
      ],
      "text/plain": [
       "            OrderId    ProductId    UnitPrice     Quantity  Discount\n",
       "count   1317.000000  1317.000000  1317.000000  1317.000000    1317.0\n",
       "mean   10662.791951    41.396355    26.171534    21.715262       0.0\n",
       "std      244.835366    22.217410    29.717354    17.507493       0.0\n",
       "min    10248.000000     1.000000     2.000000     1.000000       0.0\n",
       "25%    10448.000000    23.000000    12.000000    10.000000       0.0\n",
       "50%    10671.000000    41.000000    18.400000    18.000000       0.0\n",
       "75%    10879.000000    60.000000    32.800000    30.000000       0.0\n",
       "max    11077.000000    77.000000   263.500000   130.000000       0.0"
      ]
     },
     "execution_count": 23,
     "metadata": {},
     "output_type": "execute_result"
    }
   ],
   "source": [
    "# Examine split dataframes  - df_disc\n",
    "df_no_disc.describe()"
   ]
  },
  {
   "cell_type": "markdown",
   "metadata": {
    "colab_type": "text",
    "id": "Fq_JAeWWwwRy"
   },
   "source": [
    "#### 2. Run each df thought detect_outliers to get outlier index"
   ]
  },
  {
   "cell_type": "markdown",
   "metadata": {
    "colab_type": "text",
    "id": "eMA7n-4O9X7o"
   },
   "source": [
    "##### Run detect_outliers on df_disc and then examine stats of outliers\n"
   ]
  },
  {
   "cell_type": "code",
   "execution_count": 24,
   "metadata": {
    "colab": {},
    "colab_type": "code",
    "id": "nxaepnCPwwRz"
   },
   "outputs": [
    {
     "name": "stdout",
     "output_type": "stream",
     "text": [
      "There are 29 outliers out of 2155 = 1.345707656612529%\n"
     ]
    },
    {
     "data": {
      "text/html": [
       "<div>\n",
       "<style scoped>\n",
       "    .dataframe tbody tr th:only-of-type {\n",
       "        vertical-align: middle;\n",
       "    }\n",
       "\n",
       "    .dataframe tbody tr th {\n",
       "        vertical-align: top;\n",
       "    }\n",
       "\n",
       "    .dataframe thead th {\n",
       "        text-align: right;\n",
       "    }\n",
       "</style>\n",
       "<table border=\"1\" class=\"dataframe\">\n",
       "  <thead>\n",
       "    <tr style=\"text-align: right;\">\n",
       "      <th></th>\n",
       "      <th>Quantity</th>\n",
       "      <th>Discount</th>\n",
       "    </tr>\n",
       "  </thead>\n",
       "  <tbody>\n",
       "    <tr>\n",
       "      <th>count</th>\n",
       "      <td>29.000000</td>\n",
       "      <td>29.000000</td>\n",
       "    </tr>\n",
       "    <tr>\n",
       "      <th>mean</th>\n",
       "      <td>93.862069</td>\n",
       "      <td>0.132759</td>\n",
       "    </tr>\n",
       "    <tr>\n",
       "      <th>std</th>\n",
       "      <td>16.558822</td>\n",
       "      <td>0.069790</td>\n",
       "    </tr>\n",
       "    <tr>\n",
       "      <th>min</th>\n",
       "      <td>77.000000</td>\n",
       "      <td>0.050000</td>\n",
       "    </tr>\n",
       "    <tr>\n",
       "      <th>25%</th>\n",
       "      <td>80.000000</td>\n",
       "      <td>0.050000</td>\n",
       "    </tr>\n",
       "    <tr>\n",
       "      <th>50%</th>\n",
       "      <td>90.000000</td>\n",
       "      <td>0.150000</td>\n",
       "    </tr>\n",
       "    <tr>\n",
       "      <th>75%</th>\n",
       "      <td>100.000000</td>\n",
       "      <td>0.200000</td>\n",
       "    </tr>\n",
       "    <tr>\n",
       "      <th>max</th>\n",
       "      <td>130.000000</td>\n",
       "      <td>0.250000</td>\n",
       "    </tr>\n",
       "  </tbody>\n",
       "</table>\n",
       "</div>"
      ],
      "text/plain": [
       "         Quantity   Discount\n",
       "count   29.000000  29.000000\n",
       "mean    93.862069   0.132759\n",
       "std     16.558822   0.069790\n",
       "min     77.000000   0.050000\n",
       "25%     80.000000   0.050000\n",
       "50%     90.000000   0.150000\n",
       "75%    100.000000   0.200000\n",
       "max    130.000000   0.250000"
      ]
     },
     "execution_count": 24,
     "metadata": {},
     "output_type": "execute_result"
    }
   ],
   "source": [
    "# Detect outliers in df_disc\n",
    "outlier_disc = detect_outliers(df_disc,0,['Quantity'])\n",
    "\n",
    "print(f'There are {len(outlier_disc)} outliers out of {len(df)} = {len(outlier_disc)/len(df)*100}%')\n",
    "df[['Quantity','Discount']].iloc[outlier_disc].describe()\n",
    "# df.iloc[outlier_disc].sort_values('Quantity', ascending=False).head()"
   ]
  },
  {
   "cell_type": "markdown",
   "metadata": {
    "colab_type": "text",
    "id": "dIikkelyABAB"
   },
   "source": [
    "#### Now checking df_no_disc for outliers\n"
   ]
  },
  {
   "cell_type": "code",
   "execution_count": 25,
   "metadata": {
    "colab": {},
    "colab_type": "code",
    "id": "1uQLmUcZ_5t3"
   },
   "outputs": [
    {
     "name": "stdout",
     "output_type": "stream",
     "text": [
      "There are 34 outliers out of 2155 = 1.5777262180974478%\n"
     ]
    },
    {
     "data": {
      "text/html": [
       "<div>\n",
       "<style scoped>\n",
       "    .dataframe tbody tr th:only-of-type {\n",
       "        vertical-align: middle;\n",
       "    }\n",
       "\n",
       "    .dataframe tbody tr th {\n",
       "        vertical-align: top;\n",
       "    }\n",
       "\n",
       "    .dataframe thead th {\n",
       "        text-align: right;\n",
       "    }\n",
       "</style>\n",
       "<table border=\"1\" class=\"dataframe\">\n",
       "  <thead>\n",
       "    <tr style=\"text-align: right;\">\n",
       "      <th></th>\n",
       "      <th>Quantity</th>\n",
       "      <th>Discount</th>\n",
       "    </tr>\n",
       "  </thead>\n",
       "  <tbody>\n",
       "    <tr>\n",
       "      <th>count</th>\n",
       "      <td>34.000000</td>\n",
       "      <td>34.0</td>\n",
       "    </tr>\n",
       "    <tr>\n",
       "      <th>mean</th>\n",
       "      <td>85.764706</td>\n",
       "      <td>0.0</td>\n",
       "    </tr>\n",
       "    <tr>\n",
       "      <th>std</th>\n",
       "      <td>19.589822</td>\n",
       "      <td>0.0</td>\n",
       "    </tr>\n",
       "    <tr>\n",
       "      <th>min</th>\n",
       "      <td>63.000000</td>\n",
       "      <td>0.0</td>\n",
       "    </tr>\n",
       "    <tr>\n",
       "      <th>25%</th>\n",
       "      <td>70.000000</td>\n",
       "      <td>0.0</td>\n",
       "    </tr>\n",
       "    <tr>\n",
       "      <th>50%</th>\n",
       "      <td>80.000000</td>\n",
       "      <td>0.0</td>\n",
       "    </tr>\n",
       "    <tr>\n",
       "      <th>75%</th>\n",
       "      <td>100.000000</td>\n",
       "      <td>0.0</td>\n",
       "    </tr>\n",
       "    <tr>\n",
       "      <th>max</th>\n",
       "      <td>130.000000</td>\n",
       "      <td>0.0</td>\n",
       "    </tr>\n",
       "  </tbody>\n",
       "</table>\n",
       "</div>"
      ],
      "text/plain": [
       "         Quantity  Discount\n",
       "count   34.000000      34.0\n",
       "mean    85.764706       0.0\n",
       "std     19.589822       0.0\n",
       "min     63.000000       0.0\n",
       "25%     70.000000       0.0\n",
       "50%     80.000000       0.0\n",
       "75%    100.000000       0.0\n",
       "max    130.000000       0.0"
      ]
     },
     "execution_count": 25,
     "metadata": {},
     "output_type": "execute_result"
    }
   ],
   "source": [
    "# Detect outliers in df_no_disc\n",
    "outlier_no_disc = detect_outliers(df_no_disc,0,['Quantity'])\n",
    "# df.iloc[outlier_no_disc].sort_values('Quantity', ascending=False)#.describe()\n",
    "print(f'There are {len(outlier_no_disc)} outliers out of {len(df)} = {len(outlier_no_disc)/len(df)*100}%')\n",
    "df[['Quantity','Discount']].iloc[outlier_no_disc].describe()"
   ]
  },
  {
   "cell_type": "code",
   "execution_count": 26,
   "metadata": {
    "colab": {},
    "colab_type": "code",
    "id": "Kz4oI-IPwwRu"
   },
   "outputs": [],
   "source": [
    "# print(f'Checking the statstics for the outliers from df_disc...' )\n",
    "# df[['Quantity','Discount']].iloc[outlier_no_disc] #.describe()"
   ]
  },
  {
   "cell_type": "markdown",
   "metadata": {
    "colab_type": "text",
    "id": "gGqk4D46HP4O"
   },
   "source": [
    "## Now we should test if we remove those outliers, do we pass the normality test\n",
    "\n",
    "- Hmm ok so there is somethihng a bit weird about the outlier indices. They MUST be the index from the first df before we split it.\n",
    "- This means we will have to remove outliers from full df and split again."
   ]
  },
  {
   "cell_type": "code",
   "execution_count": 27,
   "metadata": {
    "colab": {},
    "colab_type": "code",
    "id": "7GUrC_QaHayz"
   },
   "outputs": [
    {
     "name": "stdout",
     "output_type": "stream",
     "text": [
      "outlier_disc removed 29 outliers\n",
      "outlier_no_disc removed 34 outliers\n",
      "After removal:\n",
      "Id           63\n",
      "OrderId      63\n",
      "ProductId    63\n",
      "UnitPrice    63\n",
      "Quantity     63\n",
      "Discount     63\n",
      "dtype: int64\n"
     ]
    }
   ],
   "source": [
    "df_to_clean = df.copy()\n",
    "\n",
    "# I was being 'lazy' and zipping seemed easier lol\n",
    "remove_label= ['outlier_disc','outlier_no_disc']\n",
    "remove_data= [outlier_disc,outlier_no_disc]\n",
    "remove_me = dict(zip(remove_label,remove_data))\n",
    "\n",
    "# Loop and replace indices of outliers with np.nan \n",
    "for key,val in remove_me.items():\n",
    "  df_to_clean.iloc[val]=np.nan\n",
    "  print(f'{key} removed {len(val)} outliers')\n",
    "  \n",
    "  \n",
    "print('After removal:')\n",
    "print(df_to_clean.isna().sum())\n",
    "  \n"
   ]
  },
  {
   "cell_type": "code",
   "execution_count": 28,
   "metadata": {
    "colab": {},
    "colab_type": "code",
    "id": "Uk4M3t4gKGa9"
   },
   "outputs": [
    {
     "name": "stdout",
     "output_type": "stream",
     "text": [
      "<class 'pandas.core.frame.DataFrame'>\n",
      "RangeIndex: 2155 entries, 0 to 2154\n",
      "Data columns (total 6 columns):\n",
      "Id           2092 non-null object\n",
      "OrderId      2092 non-null float64\n",
      "ProductId    2092 non-null float64\n",
      "UnitPrice    2092 non-null float64\n",
      "Quantity     2092 non-null float64\n",
      "Discount     2092 non-null float64\n",
      "dtypes: float64(5), object(1)\n",
      "memory usage: 101.1+ KB\n"
     ]
    }
   ],
   "source": [
    "# Replace na and run stattest \n",
    "\n",
    "df_to_clean.info()"
   ]
  },
  {
   "cell_type": "code",
   "execution_count": 29,
   "metadata": {
    "colab": {},
    "colab_type": "code",
    "id": "W-5EtAuNMF84"
   },
   "outputs": [
    {
     "name": "stdout",
     "output_type": "stream",
     "text": [
      "<class 'pandas.core.frame.DataFrame'>\n",
      "Int64Index: 2092 entries, 0 to 2154\n",
      "Data columns (total 6 columns):\n",
      "Id           2092 non-null object\n",
      "OrderId      2092 non-null float64\n",
      "ProductId    2092 non-null float64\n",
      "UnitPrice    2092 non-null float64\n",
      "Quantity     2092 non-null float64\n",
      "Discount     2092 non-null float64\n",
      "dtypes: float64(5), object(1)\n",
      "memory usage: 114.4+ KB\n"
     ]
    }
   ],
   "source": [
    "df_clean = df_to_clean.dropna(axis=0)\n",
    "df_clean.info()"
   ]
  },
  {
   "cell_type": "markdown",
   "metadata": {
    "colab_type": "text",
    "id": "6PrPoFbsMZKb"
   },
   "source": [
    "#### NOW ADD NORMTEST"
   ]
  },
  {
   "cell_type": "code",
   "execution_count": 30,
   "metadata": {
    "colab": {},
    "colab_type": "code",
    "id": "I72gdFKvwwR9"
   },
   "outputs": [
    {
     "name": "stdout",
     "output_type": "stream",
     "text": [
      "<class 'pandas.core.frame.DataFrame'>\n",
      "Int64Index: 809 entries, 6 to 2152\n",
      "Data columns (total 6 columns):\n",
      "Id           809 non-null object\n",
      "OrderId      809 non-null float64\n",
      "ProductId    809 non-null float64\n",
      "UnitPrice    809 non-null float64\n",
      "Quantity     809 non-null float64\n",
      "Discount     809 non-null float64\n",
      "dtypes: float64(5), object(1)\n",
      "memory usage: 44.2+ KB\n"
     ]
    }
   ],
   "source": [
    "df_discounted = df_clean.loc[df_clean['Discount']>0]\n",
    "df_discounted.info()"
   ]
  },
  {
   "cell_type": "code",
   "execution_count": 31,
   "metadata": {
    "colab": {},
    "colab_type": "code",
    "id": "aJ4PYoacM8Pn"
   },
   "outputs": [
    {
     "name": "stdout",
     "output_type": "stream",
     "text": [
      "<class 'pandas.core.frame.DataFrame'>\n",
      "Int64Index: 1283 entries, 0 to 2154\n",
      "Data columns (total 6 columns):\n",
      "Id           1283 non-null object\n",
      "OrderId      1283 non-null float64\n",
      "ProductId    1283 non-null float64\n",
      "UnitPrice    1283 non-null float64\n",
      "Quantity     1283 non-null float64\n",
      "Discount     1283 non-null float64\n",
      "dtypes: float64(5), object(1)\n",
      "memory usage: 70.2+ KB\n"
     ]
    }
   ],
   "source": [
    "df_fullprice = df_clean.loc[df_clean['Discount']==0]\n",
    "df_fullprice.info()"
   ]
  },
  {
   "cell_type": "code",
   "execution_count": 32,
   "metadata": {
    "colab": {},
    "colab_type": "code",
    "id": "B8V_fLKzNLgS"
   },
   "outputs": [
    {
     "name": "stdout",
     "output_type": "stream",
     "text": [
      "p =1.9869796006071744e-18, stat =81.51983195360808\n"
     ]
    }
   ],
   "source": [
    "from scipy.stats import normaltest \n",
    "stat, p = normaltest(df_discounted['Quantity'])\n",
    "print(f'p ={p}, stat ={stat}')\n",
    "\n",
    "results_normtest = [['DataIn','stat','p']]\n",
    "results_normtest.append(['Discounted, cleaned',stat,p])"
   ]
  },
  {
   "cell_type": "code",
   "execution_count": null,
   "metadata": {
    "colab": {},
    "colab_type": "code",
    "id": "L6l3S61dPEng"
   },
   "outputs": [],
   "source": []
  },
  {
   "cell_type": "markdown",
   "metadata": {
    "colab_type": "text",
    "id": "gnAePBXgN1BH"
   },
   "source": [
    "#### Thoughts...\n",
    "- **Hmmmm...why didn't that work? Or maybe it did and the test is too picky?**\n",
    "- What was the original data's norm test?\n",
    "  - Run again below:"
   ]
  },
  {
   "cell_type": "markdown",
   "metadata": {
    "colab_type": "text",
    "id": "tciaNn_rWcAW"
   },
   "source": [
    "### DEF normtest_results to run multiple normaltests and save results"
   ]
  },
  {
   "cell_type": "code",
   "execution_count": 33,
   "metadata": {
    "colab": {},
    "colab_type": "code",
    "id": "Hb6MwcV-POzb"
   },
   "outputs": [],
   "source": [
    "# DEFINING FUNCTION \n",
    "#data_in={'name':data}\n",
    "def normtest_results(dict_data):\n",
    "  \n",
    "  results_normtest = [['DataIn','stat','p']]\n",
    "\n",
    "  for key,val in dict_data.items():\n",
    "    \n",
    "    data_in = val\n",
    "    name = key\n",
    "    \n",
    "    stat, p = normaltest(data_in)\n",
    "    results_normtest.append([name,stat,p])\n",
    "    \n",
    "  return results_normtest"
   ]
  },
  {
   "cell_type": "code",
   "execution_count": 34,
   "metadata": {
    "colab": {},
    "colab_type": "code",
    "id": "QQlm4VmiUPOG"
   },
   "outputs": [],
   "source": [
    "# Building data_in dictionary for normtest_results\n",
    "data_in = {}\n",
    "\n",
    "df_disc_orig = df_disc\n",
    "df_no_disc_orig = df_no_disc\n",
    "\n",
    "data_in['Orig, Disc'] = df_disc_orig['Quantity']\n",
    "data_in['Clean,Disc'] = df_discounted['Quantity']\n",
    "data_in['Orig, Full Price'] = df_no_disc_orig['Quantity']\n",
    "data_in['Clean, Full Price'] = df_fullprice['Quantity']"
   ]
  },
  {
   "cell_type": "code",
   "execution_count": 35,
   "metadata": {
    "colab": {},
    "colab_type": "code",
    "id": "j46n28zjVI1E"
   },
   "outputs": [
    {
     "data": {
      "text/html": [
       "<div>\n",
       "<style scoped>\n",
       "    .dataframe tbody tr th:only-of-type {\n",
       "        vertical-align: middle;\n",
       "    }\n",
       "\n",
       "    .dataframe tbody tr th {\n",
       "        vertical-align: top;\n",
       "    }\n",
       "\n",
       "    .dataframe thead th {\n",
       "        text-align: right;\n",
       "    }\n",
       "</style>\n",
       "<table border=\"1\" class=\"dataframe\">\n",
       "  <thead>\n",
       "    <tr style=\"text-align: right;\">\n",
       "      <th></th>\n",
       "      <th>DataIn</th>\n",
       "      <th>stat</th>\n",
       "      <th>p</th>\n",
       "    </tr>\n",
       "  </thead>\n",
       "  <tbody>\n",
       "    <tr>\n",
       "      <th>0</th>\n",
       "      <td>Orig, Disc</td>\n",
       "      <td>261.528012</td>\n",
       "      <td>1.621488e-57</td>\n",
       "    </tr>\n",
       "    <tr>\n",
       "      <th>1</th>\n",
       "      <td>Clean,Disc</td>\n",
       "      <td>81.519832</td>\n",
       "      <td>1.986980e-18</td>\n",
       "    </tr>\n",
       "    <tr>\n",
       "      <th>2</th>\n",
       "      <td>Orig, Full Price</td>\n",
       "      <td>544.577005</td>\n",
       "      <td>5.579637e-119</td>\n",
       "    </tr>\n",
       "    <tr>\n",
       "      <th>3</th>\n",
       "      <td>Clean, Full Price</td>\n",
       "      <td>144.400366</td>\n",
       "      <td>4.404118e-32</td>\n",
       "    </tr>\n",
       "  </tbody>\n",
       "</table>\n",
       "</div>"
      ],
      "text/plain": [
       "              DataIn        stat              p\n",
       "0         Orig, Disc  261.528012   1.621488e-57\n",
       "1         Clean,Disc   81.519832   1.986980e-18\n",
       "2   Orig, Full Price  544.577005  5.579637e-119\n",
       "3  Clean, Full Price  144.400366   4.404118e-32"
      ]
     },
     "execution_count": 35,
     "metadata": {},
     "output_type": "execute_result"
    }
   ],
   "source": [
    "results = normtest_results(data_in)\n",
    "list2df(results)"
   ]
  },
  {
   "cell_type": "markdown",
   "metadata": {
    "colab_type": "text",
    "id": "SdXLcGN2UsG8"
   },
   "source": []
  },
  {
   "cell_type": "markdown",
   "metadata": {
    "colab_type": "text",
    "heading_collapsed": true,
    "id": "CQ0Sd0KjwwR7"
   },
   "source": [
    "## ...END BOOKMARK"
   ]
  },
  {
   "cell_type": "markdown",
   "metadata": {
    "colab_type": "text",
    "hidden": true,
    "id": "L1-gACN4wwSC"
   },
   "source": [
    "#### Preprocc and visualizing Normalization "
   ]
  },
  {
   "cell_type": "code",
   "execution_count": 36,
   "metadata": {
    "colab": {},
    "colab_type": "code",
    "hidden": true,
    "id": "75wHOyASwwSD"
   },
   "outputs": [
    {
     "ename": "NameError",
     "evalue": "name 'disc_series' is not defined",
     "output_type": "error",
     "traceback": [
      "\u001b[1;31m---------------------------------------------------------------------------\u001b[0m",
      "\u001b[1;31mNameError\u001b[0m                                 Traceback (most recent call last)",
      "\u001b[1;32m<ipython-input-36-9385e1277da0>\u001b[0m in \u001b[0;36m<module>\u001b[1;34m\u001b[0m\n\u001b[0;32m     10\u001b[0m \u001b[0mmakeNorm\u001b[0m \u001b[1;33m=\u001b[0m \u001b[0mNormalizer\u001b[0m\u001b[1;33m\u001b[0m\u001b[1;33m\u001b[0m\u001b[0m\n\u001b[0;32m     11\u001b[0m \u001b[1;33m\u001b[0m\u001b[0m\n\u001b[1;32m---> 12\u001b[1;33m \u001b[0mnorm_disc\u001b[0m \u001b[1;33m=\u001b[0m \u001b[0mmakeNorm\u001b[0m\u001b[1;33m(\u001b[0m\u001b[1;33m)\u001b[0m\u001b[1;33m.\u001b[0m\u001b[0mfit_transform\u001b[0m\u001b[1;33m(\u001b[0m\u001b[0mnp\u001b[0m\u001b[1;33m.\u001b[0m\u001b[0marray\u001b[0m\u001b[1;33m(\u001b[0m\u001b[0mdisc_series\u001b[0m\u001b[1;33m)\u001b[0m\u001b[1;33m.\u001b[0m\u001b[0mreshape\u001b[0m\u001b[1;33m(\u001b[0m\u001b[1;33m-\u001b[0m\u001b[1;36m1\u001b[0m\u001b[1;33m,\u001b[0m\u001b[1;36m1\u001b[0m\u001b[1;33m)\u001b[0m\u001b[1;33m)\u001b[0m\u001b[1;33m\u001b[0m\u001b[1;33m\u001b[0m\u001b[0m\n\u001b[0m\u001b[0;32m     13\u001b[0m \u001b[0mnorm_nondisc\u001b[0m \u001b[1;33m=\u001b[0m \u001b[0mmakeNorm\u001b[0m\u001b[1;33m(\u001b[0m\u001b[1;33m)\u001b[0m\u001b[1;33m.\u001b[0m\u001b[0mfit_transform\u001b[0m\u001b[1;33m(\u001b[0m\u001b[0mnp\u001b[0m\u001b[1;33m.\u001b[0m\u001b[0marray\u001b[0m\u001b[1;33m(\u001b[0m\u001b[0mnondisc_series\u001b[0m\u001b[1;33m)\u001b[0m\u001b[1;33m.\u001b[0m\u001b[0mreshape\u001b[0m\u001b[1;33m(\u001b[0m\u001b[1;33m-\u001b[0m\u001b[1;36m1\u001b[0m\u001b[1;33m,\u001b[0m\u001b[1;36m1\u001b[0m\u001b[1;33m)\u001b[0m\u001b[1;33m)\u001b[0m\u001b[1;33m\u001b[0m\u001b[1;33m\u001b[0m\u001b[0m\n\u001b[0;32m     14\u001b[0m \u001b[1;33m\u001b[0m\u001b[0m\n",
      "\u001b[1;31mNameError\u001b[0m: name 'disc_series' is not defined"
     ]
    }
   ],
   "source": [
    "#### Preprocc and visualizing Normalization \n",
    "\n",
    "plt.style.use('default')\n",
    "plt.style.use('seaborn')\n",
    "import matplotlib.pyplot as plt\n",
    "import seaborn as sns\n",
    "\n",
    "# Normalzie data with Normalzier\n",
    "from sklearn.preprocessing import Normalizer\n",
    "makeNorm = Normalizer\n",
    "\n",
    "norm_disc = makeNorm().fit_transform(np.array(disc_series).reshape(-1,1))\n",
    "norm_nondisc = makeNorm().fit_transform(np.array(nondisc_series).reshape(-1,1))\n",
    "\n",
    "plt.hist(norm_disc)\n"
   ]
  },
  {
   "cell_type": "code",
   "execution_count": null,
   "metadata": {
    "colab": {},
    "colab_type": "code",
    "hidden": true,
    "id": "9cZXxcEPwwSG"
   },
   "outputs": [],
   "source": [
    "# PLOT ORIGINAL DATA FIRST BEFORE NORMALIZING AND PLOTTING NORM DATA TO COMPARE\n",
    "fig, ax  = plt.subplots(2,2,figsize=(6,4))\n",
    "\n",
    "#subplot 1: discounted, raw\n",
    "i,j = 0,0\n",
    "sns.distplot(disc_series, ax=ax[i,j])\n",
    "ax[i,j].set_title('Raw Discounted')\n",
    "\n",
    "# subplot 2: nondiscounted, raw\n",
    "i,j=0,1\n",
    "sns.distplot(nondisc_series, ax=ax[i,j])\n",
    "ax[i,j].set_title('Raw Non-Discounted')\n",
    "\n",
    "\n",
    "#MUST NORMALIZE DATA IN THIS SECTION BEFORE CAN FINISH SUBPLOT 3 and 4\n",
    "# norm_disc = makeNorm(disc_series)\n",
    "# norm_nondisc = makeNorm(nondisc_series)\n",
    "\n",
    "\n",
    "#subplot 3: discounted,normalized\n",
    "i,j = 1,0\n",
    "sns.distplot(norm_disc, ax=ax[i,j])\n",
    "ax[i,j].set_title('Normalized Discounted')\n",
    "\n",
    "# subplot 2: nondiscounted, normalized\n",
    "i,j=1,1\n",
    "sns.distplot(norm_nondisc, ax=ax[i,j])\n",
    "ax[i,j].set_title('Normalized Non-Discounted')"
   ]
  },
  {
   "cell_type": "code",
   "execution_count": null,
   "metadata": {
    "colab": {},
    "colab_type": "code",
    "hidden": true,
    "id": "ifMKcruHwwSK"
   },
   "outputs": [],
   "source": []
  },
  {
   "cell_type": "code",
   "execution_count": null,
   "metadata": {
    "colab": {},
    "colab_type": "code",
    "hidden": true,
    "id": "fgA6YLcCwwSQ",
    "scrolled": true
   },
   "outputs": [],
   "source": [
    "plt.style.use(\"dark_background\")\n",
    "#,'')\n",
    "# fig,ax = plt.figure()\n",
    "plt.hist(disc_series,bins=20,alpha=0.5,edgecolor='k',label='Discounted')\n",
    "plt.hist(nondisc_series,alpha=0.5, bins=20, edgecolor='k',label='FUll Price')\n",
    "plt.xlabel('')\n",
    "plt.ylabel('# of observations')\n",
    "plt.legend()\n",
    "# fig\n",
    "plt.axvline(np.mean(disc_series),ls=':',label='disc')\n",
    "plt.axvline(np.mean(nondisc_series),ls=':',color='purple',label='non disc')\n",
    "plt.legend()\n"
   ]
  },
  {
   "cell_type": "code",
   "execution_count": null,
   "metadata": {
    "colab": {},
    "colab_type": "code",
    "hidden": true,
    "id": "2y_dPEkwwwSc"
   },
   "outputs": [],
   "source": []
  },
  {
   "cell_type": "code",
   "execution_count": null,
   "metadata": {
    "colab": {},
    "colab_type": "code",
    "hidden": true,
    "id": "ddJDsYLRwwSf"
   },
   "outputs": [],
   "source": [
    "samp_disc = np.random.choice(disc_series,size=200)\n",
    "np.mean(samp_disc)\n",
    "plt.hist(samp_disc)`\n",
    "outliers = detect_outliers(disc_series,1)"
   ]
  },
  {
   "cell_type": "code",
   "execution_count": null,
   "metadata": {
    "colab": {},
    "colab_type": "code",
    "hidden": true,
    "id": "-D6E8p6EwwSi"
   },
   "outputs": [],
   "source": [
    "stat1, p1 = normaltest(disc_series) \n",
    "stat2, p2 = normaltest(nondisc_series) \n",
    "\n",
    "p1, p2"
   ]
  },
  {
   "cell_type": "markdown",
   "metadata": {
    "colab_type": "text",
    "hidden": true,
    "id": "PKDwFRjcwwSn"
   },
   "source": [
    "#### Checking the distributions of both groups"
   ]
  },
  {
   "cell_type": "code",
   "execution_count": null,
   "metadata": {
    "colab": {},
    "colab_type": "code",
    "hidden": true,
    "id": "LxQ61ajzwwSo"
   },
   "outputs": [],
   "source": [
    "# running 2-sample independent ttest on disc vs nondisc\n",
    "from scipy.stats import ttest_ind\n",
    "stat, p = ttest_ind(np.array(disc_series),np.array(nondisc_series))\n",
    "print(stat,p)"
   ]
  },
  {
   "cell_type": "markdown",
   "metadata": {
    "colab_type": "text",
    "hidden": true,
    "id": "gOQDKhGvwwSr"
   },
   "source": []
  },
  {
   "cell_type": "markdown",
   "metadata": {
    "colab_type": "text",
    "hidden": true,
    "id": "vxwz701mwwSs"
   },
   "source": []
  },
  {
   "cell_type": "code",
   "execution_count": null,
   "metadata": {
    "colab": {},
    "colab_type": "code",
    "hidden": true,
    "id": "Ows6lYhEwwSt"
   },
   "outputs": [],
   "source": [
    "from scipy import stats\n",
    "from scipy import * \n",
    "    "
   ]
  },
  {
   "cell_type": "code",
   "execution_count": null,
   "metadata": {
    "colab": {},
    "colab_type": "code",
    "hidden": true,
    "id": "GB6YpVyEwwSw"
   },
   "outputs": [],
   "source": [
    " np.random.seed(12345678)\n",
    "\n",
    "\n",
    "rvs1 = stats.norm.rvs(loc=5,scale=10,size=500)\n",
    "rvs2 = stats.norm.rvs(loc=5,scale=10,size=500)\n",
    "stats.ttest_ind(rvs1,rvs2)\n",
    "(0.26833823296239279, 0.78849443369564776)\n",
    "stats.ttest_ind(rvs1,rvs2, equal_var = False)\n",
    "(0.26833823296239279, 0.78849452749500748)\n",
    "ttest_ind underestimates p for unequal variances:\n",
    "\n",
    "\n",
    "rvs3 = stats.norm.rvs(loc=5, scale=20, size=500)\n",
    "stats.ttest_ind(rvs1, rvs3)\n",
    "(-0.46580283298287162, 0.64145827413436174)\n",
    "stats.ttest_ind(rvs1, rvs3, equal_var = False)\n",
    "(-0.46580283298287162, 0.64149646246569292)\n",
    "When n1 != n2, the equal variance t-statistic is no longer equal to the unequal variance t-statistic:\n",
    "\n",
    "\n",
    " rvs4 = stats.norm.rvs(loc=5, scale=20, size=100)\n",
    " stats.ttest_ind(rvs1, rvs4)\n",
    "(-0.99882539442782481, 0.3182832709103896)\n",
    " stats.ttest_ind(rvs1, rvs4, equal_var = False)\n",
    "(-0.69712570584654099, 0.48716927725402048)\n",
    "T-test with different means, variance, and n:\n",
    "\n",
    "\n",
    " rvs5 = stats.norm.rvs(loc=8, scale=20, size=100)\n",
    " stats.ttest_ind(rvs1, rvs5)\n",
    "(-1.4679669854490653, 0.14263895620529152)\n",
    " stats.ttest_ind(rvs1, rvs5, equal_var = False)\n",
    "(-0.94365973617132992, 0.34744170334794122)"
   ]
  },
  {
   "cell_type": "code",
   "execution_count": null,
   "metadata": {
    "colab": {},
    "colab_type": "code",
    "hidden": true,
    "id": "AG9-mbJfwwS0"
   },
   "outputs": [],
   "source": [
    "check_column(df['Quantity'],20)"
   ]
  },
  {
   "cell_type": "code",
   "execution_count": null,
   "metadata": {
    "colab": {},
    "colab_type": "code",
    "hidden": true,
    "id": "NjZDQQJrwwS4"
   },
   "outputs": [],
   "source": [
    "# Examine df stats by discount level\n",
    "df.groupby('Discount').describe()"
   ]
  },
  {
   "cell_type": "code",
   "execution_count": null,
   "metadata": {
    "colab": {},
    "colab_type": "code",
    "hidden": true,
    "id": "6LZfVxkRwwS8"
   },
   "outputs": [],
   "source": [
    "print(sorted(df['Discount'].unique()))"
   ]
  },
  {
   "cell_type": "markdown",
   "metadata": {
    "colab_type": "text",
    "id": "P23rLwIWwwTC"
   },
   "source": [
    "## Exploring data"
   ]
  },
  {
   "cell_type": "code",
   "execution_count": null,
   "metadata": {
    "colab": {},
    "colab_type": "code",
    "id": "iYAYuIgLwwTD",
    "scrolled": false
   },
   "outputs": [],
   "source": [
    "plot_hist_scat_sns(df,'Quantity')"
   ]
  },
  {
   "cell_type": "markdown",
   "metadata": {
    "colab_type": "text",
    "id": "7hWwTGx1wwTG"
   },
   "source": [
    "### NEXT FIGURE OUT HOW TO EXAMINE THE KDE FOR ...EACH Discount level?"
   ]
  },
  {
   "cell_type": "code",
   "execution_count": null,
   "metadata": {
    "colab": {},
    "colab_type": "code",
    "id": "rx6xx9R2wwTH"
   },
   "outputs": [],
   "source": [
    "# Show counts of discounts by qunatit\n",
    "# df.apply(pd.Series.value_counts)\n",
    "test = df.iloc[df.groupby(['Discount'])].count()"
   ]
  },
  {
   "cell_type": "code",
   "execution_count": null,
   "metadata": {
    "colab": {},
    "colab_type": "code",
    "id": "FesF_qLZwwTJ"
   },
   "outputs": [],
   "source": [
    "df_disc_quant = df.groupby(['Discount','Quantity']).count() #.plot(kind='bar')\n",
    "df_disc_quant.head()"
   ]
  },
  {
   "cell_type": "code",
   "execution_count": null,
   "metadata": {
    "colab": {},
    "colab_type": "code",
    "id": "ehqav8C9wwTK"
   },
   "outputs": [],
   "source": [
    "# # Testing extracting info from groupby and describe\n",
    "# df_test = df.groupby('Discount')#.describe().stack()\n",
    "# df_cols = df_test.columns\n",
    "# df_cols\n",
    "# # # Turn df_cols into list \n",
    "# # df_cols=[x for x in df_cols]\n",
    "# # df_cols"
   ]
  },
  {
   "cell_type": "markdown",
   "metadata": {
    "colab_type": "text",
    "id": "5TVC2x_RwwTN"
   },
   "source": [
    "#### From following sqlalchemy tutorial slides, currently note used\n",
    "<a href=\"http://www.dropbox.com/s/rt6s9rqp06m2vky/sqlalchemy%20slides.pdf?dl=0\">Introduction to Alchemy Slides</a>\n",
    "```python\n",
    "metadata=MetaData()\n",
    "# Now use sqlalchemy\n",
    "order_table = Table('OrderDetail', metadata, \n",
    "                    Column('ProductId',Integer,primary_key=True),\n",
    "                    Column('Discount',Float),\n",
    "                    Column('OrderId',Integer),\n",
    "                    Column('Quantity',Integer))\n",
    "\n",
    "\n",
    "# order_table.create(engine)\n",
    "# metadata.create_all(engine)\n",
    "con = engine.connect()\n",
    "rs = con.execute()\n",
    "```"
   ]
  },
  {
   "cell_type": "code",
   "execution_count": null,
   "metadata": {
    "colab": {},
    "colab_type": "code",
    "id": "VJsLFGXPwwTO",
    "scrolled": false
   },
   "outputs": [],
   "source": [
    "# # Import sqalchemy\n",
    "# import sqlalchemy\n",
    "# from sqlalchemy import create_engine, inspect\n",
    "# from sqlalchemy.orm import Session, sessionmaker\n",
    "# from sqlalchemy import Table, Column, Integer, String, MetaData, ForeignKey,text, Float\n",
    "\n",
    "# # Create engine to connect to database\n",
    "# engine = create_engine(\"sqlite:///Northwind_small.sqlite\",echo=True)\n",
    "# Session = sessionmaker(bind=engine)\n",
    "# session = Session()\n",
    "\n",
    "# # Inspect the table names of the database. \n",
    "# inspector = inspect(engine);\n",
    "# db_tables = inspector.get_table_names()\n",
    "# print('\\n',db_tables);"
   ]
  },
  {
   "cell_type": "markdown",
   "metadata": {
    "colab_type": "text",
    "id": "-xn_WHdcwwTT"
   },
   "source": [
    "## Experimental"
   ]
  },
  {
   "cell_type": "code",
   "execution_count": null,
   "metadata": {
    "colab": {},
    "colab_type": "code",
    "id": "Ne1PzijRwwTV"
   },
   "outputs": [],
   "source": [
    "stop\n",
    "df_tables = get_full_table_info(engine)"
   ]
  },
  {
   "cell_type": "code",
   "execution_count": null,
   "metadata": {
    "colab": {},
    "colab_type": "code",
    "id": "haMHgyXrwwTZ"
   },
   "outputs": [],
   "source": [
    "df_tables['table'].unique()\n",
    "df_tables"
   ]
  },
  {
   "cell_type": "markdown",
   "metadata": {
    "colab_type": "text",
    "id": "ZaUS7PCd08uQ"
   },
   "source": []
  },
  {
   "cell_type": "code",
   "execution_count": null,
   "metadata": {
    "colab": {},
    "colab_type": "code",
    "id": "VTVhqwhMfh13"
   },
   "outputs": [],
   "source": []
  },
  {
   "cell_type": "code",
   "execution_count": null,
   "metadata": {
    "colab": {},
    "colab_type": "code",
    "id": "xqu3zJV3fq6z"
   },
   "outputs": [],
   "source": [
    "pd.read_sql_query('SELECT * FROM OrderDetail',engine)"
   ]
  },
  {
   "cell_type": "code",
   "execution_count": null,
   "metadata": {
    "colab": {},
    "colab_type": "code",
    "id": "a_22M7dSftkZ"
   },
   "outputs": [],
   "source": []
  }
 ],
 "metadata": {
  "colab": {
   "collapsed_sections": [
    "EZeLgicvwwP6",
    "hLrUyfOEwwQG",
    "O0xNoo6vwwQV",
    "GtI-okJkwwQa",
    "Qk9N1jMywwQf",
    "GDzeDK5gwwQk",
    "ekTOehxHwwQu",
    "XrvSuzkKwwQz",
    "PKDwFRjcwwSn",
    "7hWwTGx1wwTG",
    "5TVC2x_RwwTN"
   ],
   "name": "Copy of Sharing version - JMI - of mod2_project_WIP.ipynb",
   "provenance": [],
   "toc_visible": true,
   "version": "0.3.2"
  },
  "kernelspec": {
   "display_name": "Python 3",
   "language": "python",
   "name": "python3"
  },
  "language_info": {
   "codemirror_mode": {
    "name": "ipython",
    "version": 3
   },
   "file_extension": ".py",
   "mimetype": "text/x-python",
   "name": "python",
   "nbconvert_exporter": "python",
   "pygments_lexer": "ipython3",
   "version": "3.6.8"
  },
  "toc": {
   "base_numbering": 1,
   "nav_menu": {},
   "number_sections": false,
   "sideBar": true,
   "skip_h1_title": false,
   "title_cell": "Table of Contents",
   "title_sidebar": "Contents",
   "toc_cell": true,
   "toc_position": {
    "height": "calc(100% - 180px)",
    "left": "10px",
    "top": "150px",
    "width": "307.2px"
   },
   "toc_section_display": true,
   "toc_window_display": true
  },
  "varInspector": {
   "cols": {
    "lenName": 16,
    "lenType": 16,
    "lenVar": 40
   },
   "kernels_config": {
    "python": {
     "delete_cmd_postfix": "",
     "delete_cmd_prefix": "del ",
     "library": "var_list.py",
     "varRefreshCmd": "print(var_dic_list())"
    },
    "r": {
     "delete_cmd_postfix": ") ",
     "delete_cmd_prefix": "rm(",
     "library": "var_list.r",
     "varRefreshCmd": "cat(var_dic_list()) "
    }
   },
   "types_to_exclude": [
    "module",
    "function",
    "builtin_function_or_method",
    "instance",
    "_Feature"
   ],
   "window_display": true
  }
 },
 "nbformat": 4,
 "nbformat_minor": 1
}
