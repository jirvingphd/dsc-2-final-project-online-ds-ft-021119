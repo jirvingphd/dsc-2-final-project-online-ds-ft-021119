{
 "cells": [
  {
   "cell_type": "markdown",
   "metadata": {
    "toc": true
   },
   "source": [
    "<h1>Table of Contents<span class=\"tocSkip\"></span></h1>\n",
    "<div class=\"toc\"><ul class=\"toc-item\"><li><span><a href=\"#Import-Packages\" data-toc-modified-id=\"Import-Packages-1\">Import Packages</a></span></li><li><span><a href=\"#Required-Code-and-Loop-to-Export\" data-toc-modified-id=\"Required-Code-and-Loop-to-Export-2\">Required Code and Loop to Export</a></span></li></ul></div>"
   ]
  },
  {
   "cell_type": "markdown",
   "metadata": {},
   "source": [
    "# Import Packages"
   ]
  },
  {
   "cell_type": "code",
   "execution_count": 1,
   "metadata": {},
   "outputs": [
    {
     "data": {
      "text/html": [
       "<style>CSS = \"\"\"\n",
       "body {\n",
       "    margin: 0;\n",
       "    font-family: serif;\n",
       "    text-align: center;\n",
       "    font-weight: bold;\n",
       "}\n",
       "table.dataframe {\n",
       "    border-collapse: collapse;\n",
       "    border: 1px solid black;\n",
       "}\n",
       "table.dataframe tr {\n",
       "    border: 1px solid black;\n",
       "}\n",
       "table.dataframe td, table.dataframe th {\n",
       "    margin: 0.1;\n",
       "    border: 1px solid white;\n",
       "    padding-left: 0.5em;\n",
       "    padding-right: 0.5em;\n",
       "}\n",
       "table.dataframe th:not(:empty) {\n",
       "    background-color: #000000;\n",
       "    color: #ffffff;\n",
       "    text-align: center;\n",
       "    font-weight: bold;\n",
       "}\n",
       "table.dataframe tr:nth-child(2) th:empty {\n",
       "    border-left: none;\n",
       "    border-right: 1px dashed #888;\n",
       "}\n",
       "table.dataframe td {\n",
       "    border: 1px solid ##e8e8ea;\n",
       "    background-color: ##e8e8ea;\n",
       "    text-align: center; \n",
       "}\n",
       "\"\"\"</style>"
      ],
      "text/plain": [
       "<IPython.core.display.HTML object>"
      ]
     },
     "execution_count": 1,
     "metadata": {},
     "output_type": "execute_result"
    }
   ],
   "source": [
    "# from IPython.core import display\n",
    "from IPython.core.display import HTML\n",
    "from IPython.display import display\n",
    "f = open('CSS.css','r')\n",
    "HTML('<style>{}</style>'.format(f.read()))"
   ]
  },
  {
   "cell_type": "code",
   "execution_count": 2,
   "metadata": {},
   "outputs": [],
   "source": [
    "import pandas as pd\n",
    "import imgkit\n",
    "import numpy as np\n",
    "\n",
    "# Using built-in pandas styling\n",
    "pd.set_option('colheader_justify','center')\n",
    "pd.set_option('precision',3)"
   ]
  },
  {
   "cell_type": "code",
   "execution_count": 3,
   "metadata": {},
   "outputs": [],
   "source": [
    "# Get a list of all csvs\n",
    "import glob\n",
    "filelist = glob.glob(\"Exported csv/table_*.csv\")"
   ]
  },
  {
   "cell_type": "markdown",
   "metadata": {},
   "source": [
    "## Fixing up specific tables:"
   ]
  },
  {
   "cell_type": "code",
   "execution_count": 4,
   "metadata": {},
   "outputs": [
    {
     "data": {
      "text/plain": [
       "['Exported csv\\\\table_H1_groups_mean_sem.csv',\n",
       " 'Exported csv\\\\table_H1_mean_sem.csv',\n",
       " 'Exported csv\\\\table_H1_test_results.csv',\n",
       " 'Exported csv\\\\table_H1_test_results_exp.csv',\n",
       " 'Exported csv\\\\table_H1_tukey.csv',\n",
       " 'Exported csv\\\\table_H1_tukey_full.csv',\n",
       " 'Exported csv\\\\table_H1_tukey_sig_only.csv',\n",
       " 'Exported csv\\\\table_H2_mean_sem.csv',\n",
       " 'Exported csv\\\\table_H2_test_results.csv',\n",
       " 'Exported csv\\\\table_H3_mean_sem.csv',\n",
       " 'Exported csv\\\\table_H3_test_results.csv',\n",
       " 'Exported csv\\\\table_H3_tukey.csv',\n",
       " 'Exported csv\\\\table_H3_tukey_full.csv',\n",
       " 'Exported csv\\\\table_H3_tukey_sig_only.csv',\n",
       " 'Exported csv\\\\table_H4_calc_features_by_country.csv',\n",
       " 'Exported csv\\\\table_H4_calc_features_by_country_col_means_sem.csv',\n",
       " 'Exported csv\\\\table_H4_mean_sem.csv',\n",
       " 'Exported csv\\\\table_H4_test_results.csv',\n",
       " 'Exported csv\\\\table_H4_tukey_full.csv',\n",
       " 'Exported csv\\\\table_H4_tukey_sig_only.csv']"
      ]
     },
     "execution_count": 4,
     "metadata": {},
     "output_type": "execute_result"
    }
   ],
   "source": [
    "filelist"
   ]
  },
  {
   "cell_type": "code",
   "execution_count": null,
   "metadata": {},
   "outputs": [],
   "source": []
  },
  {
   "cell_type": "code",
   "execution_count": 50,
   "metadata": {},
   "outputs": [],
   "source": [
    "# test_df = pd.DataFrame(df_list[3][1])\n",
    "# # test_df.info()\n",
    "# # test_df['Group'].unique()\n",
    "# col='Group'\n",
    "# for k,v in replace_groups.items():\n",
    "#     replace_locs = test_df.loc[test_df['Group'].str.match(str(k))]\n",
    "#     print(replace_locs)\n",
    "#     # replace_groups(test_df)\n",
    "# # test_df.group"
   ]
  },
  {
   "cell_type": "markdown",
   "metadata": {},
   "source": [
    "# Required Code and Loop to Export\n"
   ]
  },
  {
   "cell_type": "code",
   "execution_count": 51,
   "metadata": {},
   "outputs": [],
   "source": [
    "## Example css\n",
    "# css = \"\"\"\n",
    "# <style type=\\\"text/css\\\">\n",
    "# table {\n",
    "# color: #333;\n",
    "# font-family: Helvetica, Arial, sans-serif;\n",
    "# width: 640px;\n",
    "# border-collapse:\n",
    "# collapse; \n",
    "# border-spacing: 0;\n",
    "# }\n",
    "# td, th {\n",
    "# border: 1px solid transparent; /* No more visible border */\n",
    "# height: 30px;\n",
    "# }\n",
    "# th {\n",
    "# background: #DFDFDF; /* Darken header a bit */\n",
    "# font-weight: bold;\n",
    "# }\n",
    "# td {\n",
    "# background: #FAFAFA;\n",
    "# text-align: center;\n",
    "# }\n",
    "# table tr:nth-child(odd) td{\n",
    "# background-color: white;\n",
    "# }\n",
    "# </style>\n",
    "# \"\"\"\n",
    "\n",
    "CSS = \"\"\"\n",
    "<style type=\\\"text/css\\\">\n",
    "body {\n",
    "    margin: 0;\n",
    "    font-family: serif;\n",
    "    text-align: center;\n",
    "    font-weight: bold;\n",
    "}\n",
    "table.dataframe {\n",
    "    border-collapse: collapse;\n",
    "    border: 1px solid black;\n",
    "}\n",
    "table.dataframe tr {\n",
    "    border: 1px solid black;\n",
    "}\n",
    "table.dataframe td, table.dataframe th {\n",
    "    margin: 0.1;\n",
    "    border: 1px solid white;\n",
    "    padding-left: 0.5em;\n",
    "    padding-right: 0.5em;\n",
    "}\n",
    "table.dataframe th:not(:empty) {\n",
    "    background-color: #000000;\n",
    "    color: #ffffff;\n",
    "    text-align: center;\n",
    "    font-weight: bold;\n",
    "}\n",
    "table.dataframe tr:nth-child(2) th:empty {\n",
    "    border-left: none;\n",
    "    border-right: 1px dashed #888;\n",
    "}\n",
    "table.dataframe td {\n",
    "    border: 1px solid ##e8e8ea;\n",
    "    background-color: ##e8e8ea;\n",
    "    text-align: center; \n",
    "}\n",
    "</style>\n",
    "\"\"\""
   ]
  },
  {
   "cell_type": "code",
   "execution_count": 52,
   "metadata": {
    "scrolled": false
   },
   "outputs": [
    {
     "name": "stdout",
     "output_type": "stream",
     "text": [
      "file\n",
      "Exported csv\\table_H1_groups_mean_sem.csv\n",
      "Exported csv\\table_H1_mean_sem.csv\n",
      "Exported csv\\table_H1_test_results.csv\n",
      "Exported csv\\table_H1_test_results_exp.csv\n",
      "Exported csv\\table_H1_tukey.csv\n",
      "Exported csv\\table_H2_mean_sem.csv\n",
      "Exported csv\\table_H2_test_results.csv\n",
      "Exported csv\\table_H3_mean_sem.csv\n",
      "Exported csv\\table_H3_test_results.csv\n",
      "Exported csv\\table_H3_tukey.csv\n"
     ]
    }
   ],
   "source": [
    "# Define text to replace\n",
    "replace_testname = {'normaltest':'scipy.stats.normaltest',\n",
    "               'stats.levene':'scipy.stats.levene',\n",
    "                'stats.mannwhitneyu':'scipy.stats.mannwhitneyu',\n",
    "                   \"Cohen's d\": \"Cohen's d\"}\n",
    "\n",
    "replace_groups = {\"A:['Discount'] > 0\":'A: Discounted Products',\n",
    "                  \"B:['Discount'] == 0\": 'B: Full Price Products',\n",
    "                  '(-0.05, 0.0]': 'Full Price',\n",
    "                  \"A:['discounted_order'] == True\" : 'Order with Discount', \n",
    "                  \"B:['discounted_order'] == False\" : 'Non-Discount Order'}\n",
    "\n",
    "\n",
    "def fix_text(df):\n",
    "    for col in df.columns:\n",
    "        if col == 'TestName':\n",
    "            df['TestName'] = df['TestName'].map(replace_testname)\n",
    "            \n",
    "        if col.startswith(('Group','group')):\n",
    "            df[col] = df[col].map(replace_groups)\n",
    "\n",
    "    return df\n",
    "\n",
    "def replace_text(df):\n",
    "    \n",
    "    for k,v in replace_testname.items():\n",
    "        replace_locs = []\n",
    "        for col in df.columns:\n",
    "            replace_locs = df[df[col].str.match(k)].index\n",
    "            \n",
    "            if len(replace_locs)>0:\n",
    "                df.loc[col,loc].map(replace_groups)\n",
    "\n",
    "                \n",
    "# Make a list of all tables and fix text\n",
    "df_list = [['file','table']]\n",
    "\n",
    "for file in filelist:\n",
    "    file_df = pd.read_csv(file);\n",
    "    if 'Unnamed: 0' in file_df.columns:\n",
    "        file_df.drop('Unnamed: 0',inplace=True,axis=1);\n",
    "#     file_df = fix_text(file_df)\n",
    "    # Map replacement text\n",
    "#     file_df = replace_text(file_df)\n",
    "\n",
    "    df_list.append( [file,file_df])\n",
    "\n",
    "for row in df_list:\n",
    "    print(row[0])\n",
    "#     display(row[1])"
   ]
  },
  {
   "cell_type": "code",
   "execution_count": 59,
   "metadata": {},
   "outputs": [
    {
     "name": "stdout",
     "output_type": "stream",
     "text": [
      "Exported csv\\table_H1_groups_mean_sem.csv\n",
      "Loading page (1/2)\n",
      "Rendering (2/2)                                                    \n",
      "Done                                                               \n",
      "Exported csv\\table_H1_mean_sem.csv\n",
      "Loading page (1/2)\n",
      "Rendering (2/2)                                                    \n",
      "Done                                                               \n",
      "Exported csv\\table_H1_test_results.csv\n",
      "Loading page (1/2)\n",
      "Rendering (2/2)                                                    \n",
      "Done                                                               \n",
      "Exported csv\\table_H1_test_results_exp.csv\n",
      "Loading page (1/2)\n",
      "Rendering (2/2)                                                    \n",
      "Done                                                               \n",
      "Exported csv\\table_H1_tukey.csv\n",
      "Loading page (1/2)\n",
      "Rendering (2/2)                                                    \n",
      "Done                                                               \n",
      "Exported csv\\table_H2_mean_sem.csv\n",
      "Loading page (1/2)\n",
      "Rendering (2/2)                                                    \n",
      "Done                                                               \n",
      "Exported csv\\table_H2_test_results.csv\n",
      "Loading page (1/2)\n",
      "Rendering (2/2)                                                    \n",
      "Done                                                               \n",
      "Exported csv\\table_H3_mean_sem.csv\n",
      "Loading page (1/2)\n",
      "Rendering (2/2)                                                    \n",
      "Done                                                               \n",
      "Exported csv\\table_H3_test_results.csv\n",
      "Loading page (1/2)\n",
      "Rendering (2/2)                                                    \n",
      "Done                                                               \n",
      "Exported csv\\table_H3_tukey.csv\n",
      "Loading page (1/2)\n",
      "Rendering (2/2)                                                    \n",
      "Done                                                               \n"
     ]
    }
   ],
   "source": [
    "imgkitoptions = {'format':'png'}\n",
    "config = imgkit.config(wkhtmltoimage = 'C:/Users/james/Anaconda3/envs/learn-env/Lib/site-packages/wkhtmltopdf/bin/wkhtmltoimage.exe')\n",
    "\n",
    "for file in df_list[1:]:\n",
    "    fname = file[0]\n",
    "    data = file[1]\n",
    "    print(fname)\n",
    "    \n",
    "    # Preparing for imgkit\n",
    "    save_fullfilename = fname.replace('.csv','_export.html')\n",
    "    text_file = open(save_fullfilename,'a')\n",
    "    text_file.write(CSS)\n",
    "    text_file.write(data.to_html())\n",
    "    text_file.close()\n",
    "\n",
    "    filename = fname.replace('.csv','.png')\n",
    "    imagename = filename\n",
    "    imgkit.from_file(save_fullfilename, imagename, options = imgkitoptions, config=config)"
   ]
  },
  {
   "cell_type": "code",
   "execution_count": 57,
   "metadata": {},
   "outputs": [],
   "source": [
    "path = \"Exported csv/table_H1_test_results\"\n",
    "ext = \".csv\"\n",
    "folder = %pwd\n",
    "filename =path+ext\n",
    "# data = pd.read_csv(open(filename,'r'))\n",
    "\n",
    "\n",
    "data = pd.read_csv(filename)\n",
    "\n",
    "# f = open('CSS_print.css','r')\n",
    "# css = f.read()\n",
    "\n",
    "\n",
    "savefilename = 'print_table_H1'\n",
    "savefile_ext = '.html'\n",
    "save_fullfilename = savefilename+savefile_ext\n",
    "text_file = open(save_fullfilename,'a')\n",
    "text_file.write(CSS)\n",
    "text_file.write(data.to_html())\n",
    "text_file.close()"
   ]
  },
  {
   "cell_type": "code",
   "execution_count": 59,
   "metadata": {},
   "outputs": [
    {
     "name": "stdout",
     "output_type": "stream",
     "text": [
      "Loading page (1/2)\r\n",
      "[>                                                           ] 0%\r",
      "[======>                                                     ] 10%\r",
      "[==============================>                             ] 50%\r",
      "[============================================================] 100%\r",
      "Rendering (2/2)                                                    \r\n",
      "[>                                                           ] 0%\r",
      "[===============>                                            ] 25%\r",
      "[============================================================] 100%\r",
      "Done                                                               \r\n"
     ]
    },
    {
     "data": {
      "text/plain": [
       "True"
      ]
     },
     "execution_count": 59,
     "metadata": {},
     "output_type": "execute_result"
    }
   ],
   "source": [
    "imgkitoptions = {'format':'png'}\n",
    "# path = 'C:\\\\Users\\\\james\\\\Anaconda3\\\\envs\\\\learn-env\\\\Lib\\\\site-packages\\\\wkhtmltopdf\\\\bin\\\\'\n",
    "config = imgkit.config(wkhtmltoimage = 'C:/Users/james/Anaconda3/envs/learn-env/Lib/site-packages/wkhtmltopdf/bin/wkhtmltoimage.exe')\n",
    "imagename = savefilename+'.png'\n",
    "imgkit.from_file(save_fullfilename, imagename, options = imgkitoptions, config=config)"
   ]
  },
  {
   "cell_type": "markdown",
   "metadata": {},
   "source": [
    "%cd"
   ]
  },
  {
   "cell_type": "code",
   "execution_count": null,
   "metadata": {},
   "outputs": [],
   "source": []
  }
 ],
 "metadata": {
  "kernelspec": {
   "display_name": "learn-env",
   "language": "python",
   "name": "learn-env"
  },
  "language_info": {
   "codemirror_mode": {
    "name": "ipython",
    "version": 3
   },
   "file_extension": ".py",
   "mimetype": "text/x-python",
   "name": "python",
   "nbconvert_exporter": "python",
   "pygments_lexer": "ipython3",
   "version": "3.6.8"
  },
  "toc": {
   "base_numbering": 1,
   "nav_menu": {},
   "number_sections": false,
   "sideBar": true,
   "skip_h1_title": false,
   "title_cell": "Table of Contents",
   "title_sidebar": "Contents",
   "toc_cell": true,
   "toc_position": {},
   "toc_section_display": true,
   "toc_window_display": true
  },
  "varInspector": {
   "cols": {
    "lenName": 16,
    "lenType": 16,
    "lenVar": 40
   },
   "kernels_config": {
    "python": {
     "delete_cmd_postfix": "",
     "delete_cmd_prefix": "del ",
     "library": "var_list.py",
     "varRefreshCmd": "print(var_dic_list())"
    },
    "r": {
     "delete_cmd_postfix": ") ",
     "delete_cmd_prefix": "rm(",
     "library": "var_list.r",
     "varRefreshCmd": "cat(var_dic_list()) "
    }
   },
   "types_to_exclude": [
    "module",
    "function",
    "builtin_function_or_method",
    "instance",
    "_Feature"
   ],
   "window_display": true
  }
 },
 "nbformat": 4,
 "nbformat_minor": 2
}
