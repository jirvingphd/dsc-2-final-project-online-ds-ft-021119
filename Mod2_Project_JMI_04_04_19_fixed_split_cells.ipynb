{
  "nbformat": 4,
  "nbformat_minor": 0,
  "metadata": {
    "colab": {
      "name": "Mod2_Project_JMI_04-04-19_fixed_split_cells.ipynb",
      "version": "0.3.2",
      "provenance": [],
      "collapsed_sections": [
        "EZeLgicvwwP6",
        "O0xNoo6vwwQV",
        "GtI-okJkwwQa",
        "Qk9N1jMywwQf",
        "BVwy49ADwwQn",
        "nkPB_HcdwwQo",
        "ekTOehxHwwQu",
        "O7Xq2RqAR0va",
        "XrvSuzkKwwQz",
        "EDLKQNdKR4Cb",
        "jQXu0oOktzjb"
      ],
      "toc_visible": true,
      "include_colab_link": true
    },
    "kernelspec": {
      "name": "python3",
      "display_name": "Python 3"
    }
  },
  "cells": [
    {
      "cell_type": "markdown",
      "metadata": {
        "id": "view-in-github",
        "colab_type": "text"
      },
      "source": [
        "<a href=\"https://colab.research.google.com/github/jirvingphd/dsc-2-final-project-online-ds-ft-021119/blob/master/Mod2_Project_JMI_04_04_19_fixed_split_cells.ipynb\" target=\"_parent\"><img src=\"https://colab.research.google.com/assets/colab-badge.svg\" alt=\"Open In Colab\"/></a>"
      ]
    },
    {
      "metadata": {
        "colab_type": "text",
        "id": "7rzJx4u8wwQL"
      },
      "cell_type": "markdown",
      "source": [
        "# **EXPERIMENTAL DESIGN AND HYPOTHESIS**\n",
        "\n",
        "You will need query the database to get the data needed to perform a statistical analysis.  In this statistical analysis, **you'll need to perform a hypothesis test (or perhaps several) to answer the following question:**\n",
        "\n",
        "\n",
        "> **_Do discounts have a statistically significant effect on the number of products customers order? If so, at what level(s) of discount?_**\n",
        "\n",
        "### Hypothesis 1:\n",
        "\n",
        "- $H_1$: The greater the discount, the greater the quantity of products ordered by individual customers?\n",
        "- $H_0$:  Discounts have no effect on the quantity of product ordered by individual customers.  \n",
        "\n",
        "### Hypothesis 2:\n",
        "\n",
        "- $H_1$: Customers buy more of other store items when they are buying discounted items.\n",
        "- $H_0$: Customers buy the same ***amount*** of items\n",
        "$H_1$ : Products that are discounted sell in higher quantities.\n",
        "\n",
        "$H_0$ : Products that are discount sell the same amount as full price products.\n",
        "\n",
        "\n",
        "### Hypothesis 3:\n",
        "\n",
        "- $H_1$: \n",
        "- $H_0$:   \n",
        "<br>\n",
        "\n",
        "### Hypothesis 4:\n",
        "- $H_1$: \n",
        "- $H_0$:   \n",
        "<br>\n"
      ]
    },
    {
      "metadata": {
        "colab_type": "text",
        "id": "EZeLgicvwwP6"
      },
      "cell_type": "markdown",
      "source": [
        "# Module 2 Final Project Submission\n",
        "- Student:\n",
        "- Github Link:\n",
        "- Reviewer:\n",
        "- Review Date:\n",
        "- Video Link:\n",
        "- Blog Post:"
      ]
    },
    {
      "metadata": {
        "id": "G5NDhRaSV742",
        "colab_type": "text"
      },
      "cell_type": "markdown",
      "source": [
        ""
      ]
    },
    {
      "metadata": {
        "toc": true,
        "id": "nSosPETRBRl1",
        "colab_type": "text"
      },
      "cell_type": "markdown",
      "source": [
        "<h1>Table of Contents<span class=\"tocSkip\"></span></h1>\n",
        "<div class=\"toc\"><ul class=\"toc-item\"><li><span><a href=\"#Module-2-Final-Project-Submission\" data-toc-modified-id=\"Module-2-Final-Project-Submission-1\">Module 2 Final Project Submission</a></span><ul class=\"toc-item\"><li><span><a href=\"#The-Deliverables\" data-toc-modified-id=\"The-Deliverables-1.1\">The Deliverables</a></span><ul class=\"toc-item\"><li><span><a href=\"#Jupyter-Notebook-Must-Haves\" data-toc-modified-id=\"Jupyter-Notebook-Must-Haves-1.1.1\">Jupyter Notebook Must-Haves</a></span></li></ul></li></ul></li><li><span><a href=\"#EXPERIMENTAL-DESIGN-AND-HYPOTHESES\" data-toc-modified-id=\"EXPERIMENTAL-DESIGN-AND-HYPOTHESES-2\"><strong>EXPERIMENTAL DESIGN AND HYPOTHESES</strong></a></span><ul class=\"toc-item\"><li><ul class=\"toc-item\"><li><span><a href=\"#Hypothesis-1:\" data-toc-modified-id=\"Hypothesis-1:-2.0.1\">Hypothesis 1:</a></span></li><li><span><a href=\"#Hypothesis-2:\" data-toc-modified-id=\"Hypothesis-2:-2.0.2\">Hypothesis 2:</a></span></li><li><span><a href=\"#Hypothesis-3:\" data-toc-modified-id=\"Hypothesis-3:-2.0.3\">Hypothesis 3:</a></span></li><li><span><a href=\"#Hypothesis-4:\" data-toc-modified-id=\"Hypothesis-4:-2.0.4\">Hypothesis 4:</a></span></li></ul></li><li><span><a href=\"#Hypothesis-Testing-Workflow\" data-toc-modified-id=\"Hypothesis-Testing-Workflow-2.1\">Hypothesis Testing Workflow</a></span></li></ul></li><li><span><a href=\"#Importing-of-Packages-and-Defining-Functions\" data-toc-modified-id=\"Importing-of-Packages-and-Defining-Functions-3\">Importing of Packages and Defining Functions</a></span><ul class=\"toc-item\"><li><span><a href=\"#Import-packages:\" data-toc-modified-id=\"Import-packages:-3.1\">Import packages:</a></span></li><li><span><a href=\"#Define-Functions-(from-proj-1)\" data-toc-modified-id=\"Define-Functions-(from-proj-1)-3.2\">Define Functions (from proj 1)</a></span><ul class=\"toc-item\"><li><span><a href=\"#def-check_column\" data-toc-modified-id=\"def-check_column-3.2.1\">def check_column</a></span></li><li><span><a href=\"#def-multiplot\" data-toc-modified-id=\"def-multiplot-3.2.2\">def multiplot</a></span></li><li><span><a href=\"#def-detect_outliers\" data-toc-modified-id=\"def-detect_outliers-3.2.3\">def detect_outliers</a></span></li><li><span><a href=\"#def-plot_hist_scat_sns\" data-toc-modified-id=\"def-plot_hist_scat_sns-3.2.4\">def plot_hist_scat_sns</a></span></li></ul></li><li><span><a href=\"#Defining-Functions-(Proj-2-specific)\" data-toc-modified-id=\"Defining-Functions-(Proj-2-specific)-3.3\">Defining Functions (Proj 2 specific)</a></span><ul class=\"toc-item\"><li><span><a href=\"#def-list2df\" data-toc-modified-id=\"def-list2df-3.3.1\">def list2df</a></span></li><li><span><a href=\"#def-get_col_info\" data-toc-modified-id=\"def-get_col_info-3.3.2\">def get_col_info</a></span></li><li><span><a href=\"#def-get_full_table_info\" data-toc-modified-id=\"def-get_full_table_info-3.3.3\">def get_full_table_info</a></span></li><li><span><a href=\"#def-describe_outliers\" data-toc-modified-id=\"def-describe_outliers-3.3.4\">def describe_outliers</a></span></li><li><span><a href=\"#def-Cohen's-d\" data-toc-modified-id=\"def-Cohen's-d-3.3.5\">def Cohen's d</a></span></li></ul></li></ul></li><li><span><a href=\"#Hypothesis-1:\" data-toc-modified-id=\"Hypothesis-1:-4\"><strong>Hypothesis 1:</strong></a></span><ul class=\"toc-item\"><li><span><a href=\"#Aim-1.1-:-To-select-the-proper-dataset-for-analyiss--and-generate-data-groups-for-testing.\" data-toc-modified-id=\"Aim-1.1-:-To-select-the-proper-dataset-for-analyiss--and-generate-data-groups-for-testing.-4.1\"><strong><em>Aim 1.1 : To select the proper dataset for analyiss  and generate data groups for testing.</em></strong></a></span><ul class=\"toc-item\"><li><span><a href=\"#Aim-1.2:-EDA-on-dataset\" data-toc-modified-id=\"Aim-1.2:-EDA-on-dataset-4.1.1\">Aim 1.2: EDA on dataset</a></span></li><li><span><a href=\"#Aim-1.3:-Generated-and-inspect-the-required-groups\" data-toc-modified-id=\"Aim-1.3:-Generated-and-inspect-the-required-groups-4.1.2\">Aim 1.3: Generated and inspect the required groups</a></span></li></ul></li><li><span><a href=\"#Aim-2:-Select-the-appropriate-t-test-based-on-tests-for-the-assumptions-of-normality-and-homogeneity-of-variance.\" data-toc-modified-id=\"Aim-2:-Select-the-appropriate-t-test-based-on-tests-for-the-assumptions-of-normality-and-homogeneity-of-variance.-4.2\"><strong><em>Aim 2: Select the appropriate t-test based on tests for the assumptions of normality and homogeneity of variance.</em></strong></a></span><ul class=\"toc-item\"><li><span><a href=\"#Aim-2.1.-Test-for-Normality\" data-toc-modified-id=\"Aim-2.1.-Test-for-Normality-4.2.1\">Aim 2.1. Test for Normality</a></span></li><li><span><a href=\"#Sub-Aim-2.1.1-Use-detect_outliers-to-remove-outliers-re-run-normality-tests\" data-toc-modified-id=\"Sub-Aim-2.1.1-Use-detect_outliers-to-remove-outliers-re-run-normality-tests-4.2.2\">Sub-Aim 2.1.1 Use detect_outliers to remove outliers re-run normality tests</a></span></li><li><span><a href=\"#Sub-Aim-2.1.2-Use-QuantileTransformer-to-attempt-to-meet-the-assumption-of-normality.\" data-toc-modified-id=\"Sub-Aim-2.1.2-Use-QuantileTransformer-to-attempt-to-meet-the-assumption-of-normality.-4.2.3\">Sub-Aim 2.1.2 Use QuantileTransformer to attempt to meet the assumption of normality.</a></span></li><li><span><a href=\"#Sub-Aim-2.1.3-Use-resampling-to-get-a-normal-distribution-from-the-data-and-re-run-normality-tests.\" data-toc-modified-id=\"Sub-Aim-2.1.3-Use-resampling-to-get-a-normal-distribution-from-the-data-and-re-run-normality-tests.-4.2.4\">Sub-Aim 2.1.3 Use resampling to get a normal distribution from the data and re-run normality tests.</a></span></li></ul></li><li><span><a href=\"#Aim-2-final-version-:-Run-final-workflow-for-testing-assumptions\" data-toc-modified-id=\"Aim-2-final-version-:-Run-final-workflow-for-testing-assumptions-4.3\"><strong><em>Aim 2 <em>final version</em> : Run final workflow for testing assumptions</em></strong></a></span><ul class=\"toc-item\"><li><span><a href=\"#Aim-2.1:-Test-for-Normality\" data-toc-modified-id=\"Aim-2.1:-Test-for-Normality-4.3.1\">Aim 2.1: Test for Normality</a></span></li><li><span><a href=\"#Aim-2.2-Test-for-Homogeneity-of-Variance\" data-toc-modified-id=\"Aim-2.2-Test-for-Homogeneity-of-Variance-4.3.2\">Aim 2.2 Test for Homogeneity of Variance</a></span></li><li><span><a href=\"#Aim-2.3-Selecting-the-appropriate-test-to-perform.\" data-toc-modified-id=\"Aim-2.3-Selecting-the-appropriate-test-to-perform.-4.3.3\">Aim 2.3 Selecting the appropriate test to perform.</a></span></li><li><span><a href=\"#Conclusions-so-far...\" data-toc-modified-id=\"Conclusions-so-far...-4.3.4\">Conclusions so far...</a></span></li></ul></li><li><span><a href=\"#BOOKMARK-\" data-toc-modified-id=\"BOOKMARK--4.4\">BOOKMARK <img src=\"https://www.dropbox.com/s/6xqzendi1iyzls8/bookmark.png?raw=1\" width=\"25\"></a></span></li><li><span><a href=\"#Aim-3:-To-perform-post-hoc-pairwise-comparisons-for-level-of-discount\" data-toc-modified-id=\"Aim-3:-To-perform-post-hoc-pairwise-comparisons-for-level-of-discount-4.5\"><strong><em>Aim 3: To perform post-hoc pairwise comparisons for level of discount</em></strong></a></span><ul class=\"toc-item\"><li><span><a href=\"#Creating-Discount-Level-Variables-for-Tukey\" data-toc-modified-id=\"Creating-Discount-Level-Variables-for-Tukey-4.5.1\">Creating Discount Level Variables for Tukey</a></span></li><li><span><a href=\"#Use-Tukey's-Pairwise-Multiple-Comparison-test.\" data-toc-modified-id=\"Use-Tukey's-Pairwise-Multiple-Comparison-test.-4.5.2\">Use Tukey's Pairwise Multiple Comparison test.</a></span></li></ul></li><li><span><a href=\"#Conclusions-for-Hypothesis-1:\" data-toc-modified-id=\"Conclusions-for-Hypothesis-1:-4.6\"><strong><em>Conclusions for Hypothesis 1:</em></strong></a></span></li></ul></li><li><span><a href=\"#Hypothesis-2:\" data-toc-modified-id=\"Hypothesis-2:-5\"><strong>Hypothesis 2:</strong></a></span><ul class=\"toc-item\"><li><span><a href=\"#Aim-1-:-To-select-the-proper-dataset-for-analysis--and-generate-data-groups-for-testing.\" data-toc-modified-id=\"Aim-1-:-To-select-the-proper-dataset-for-analysis--and-generate-data-groups-for-testing.-5.1\"><strong><em>Aim 1 : To select the proper dataset for analysis  and generate data groups for testing.</em></strong></a></span><ul class=\"toc-item\"><li><span><a href=\"#Aim-1.1:-Calculating-order-totals,-adding-discount-groups\" data-toc-modified-id=\"Aim-1.1:-Calculating-order-totals,-adding-discount-groups-5.1.1\">Aim 1.1: Calculating order totals, adding discount groups</a></span></li><li><span><a href=\"#Aim-1.2:-EDA-on-dataset\" data-toc-modified-id=\"Aim-1.2:-EDA-on-dataset-5.1.2\">Aim 1.2: EDA on dataset</a></span></li></ul></li><li><span><a href=\"#Aim-1.3:-Generate-and-inspect-required-groups\" data-toc-modified-id=\"Aim-1.3:-Generate-and-inspect-required-groups-5.2\">Aim 1.3: Generate and inspect required groups</a></span></li><li><span><a href=\"#Aim-2:-Select-the-appropriate-t-test-based-on-tests-for-the-assumptions-of-normality-and-homogeneity-of-variance.\" data-toc-modified-id=\"Aim-2:-Select-the-appropriate-t-test-based-on-tests-for-the-assumptions-of-normality-and-homogeneity-of-variance.-5.3\"><strong><em>Aim 2: Select the appropriate t-test based on tests for the assumptions of normality and homogeneity of variance.</em></strong></a></span><ul class=\"toc-item\"><li><span><a href=\"#Aim-2.1:-Test-for-Normality\" data-toc-modified-id=\"Aim-2.1:-Test-for-Normality-5.3.1\">Aim 2.1: Test for Normality</a></span></li><li><span><a href=\"#Aim-2.2-Test-for-Homogeneity-of-Variance\" data-toc-modified-id=\"Aim-2.2-Test-for-Homogeneity-of-Variance-5.3.2\">Aim 2.2 Test for Homogeneity of Variance</a></span></li><li><span><a href=\"#Aim-2.3-Selecting-the-appropriate-test-to-perform.\" data-toc-modified-id=\"Aim-2.3-Selecting-the-appropriate-test-to-perform.-5.3.3\">Aim 2.3 Selecting the appropriate test to perform.</a></span></li><li><span><a href=\"#Conclusions-for-Hypothesis-2\" data-toc-modified-id=\"Conclusions-for-Hypothesis-2-5.3.4\">Conclusions for Hypothesis 2</a></span></li></ul></li></ul></li><li><span><a href=\"#Hypothesis-3\" data-toc-modified-id=\"Hypothesis-3-6\">Hypothesis 3</a></span></li></ul></div>"
      ]
    },
    {
      "metadata": {
        "colab_type": "text",
        "id": "view-in-github"
      },
      "cell_type": "markdown",
      "source": [
        "<a href=\"https://colab.research.google.com/github/jirvingphd/dsc-2-final-project-online-ds-ft-021119/blob/master/Formatted_Mod2Proj_H2_FIN_JMI.ipynb\" target=\"_parent\"><img src=\"https://colab.research.google.com/assets/colab-badge.svg\" alt=\"Open In Colab\"/></a>"
      ]
    },
    {
      "metadata": {
        "colab_type": "text",
        "id": "pgOCAkAHwwP-"
      },
      "cell_type": "markdown",
      "source": [
        "## The Deliverables\n",
        "> **The goal of this project** is to test your ability to gather information from a real-world database and use your knowledge of statistical analysis and hypothesis testing to generate analytical insights that can be of value to the company.\n"
      ]
    },
    {
      "metadata": {
        "colab_type": "text",
        "id": "A4eo2x98wwQA"
      },
      "cell_type": "markdown",
      "source": [
        "In addition to answering this question with a hypothesis test, you will also need to come up with **_at least 3 other hypotheses to test on your own_**.  \n",
        "\n",
        "These can by **anything that you think could be imporant information _for the company_.** \n",
        "\n",
        "For this hypothesis, be sure to specify both the **_null hypothesis_** and the **_alternative hypothesis_** for your question.  You should also specify if this is one-tail or a two-tail test. \n",
        "\n",
        "To complete this project, you will need to turn in the following 3 deliverables:\n",
        "\n",
        "1. A **_Jupyter Notebook_** containing any code you've written for this project. \n",
        "2. A **_Blog Post_** explaining your process, methodology, and findings.  \n",
        "3. An **_\"Executive Summary\" PowerPoint Presentation_** that explains the hypothesis tests you ran, your findings, and their relevance to company stakeholders.  "
      ]
    },
    {
      "metadata": {
        "colab_type": "text",
        "id": "-F7VwA6BwwQB"
      },
      "cell_type": "markdown",
      "source": [
        "### Jupyter Notebook Must-Haves\n",
        "\n",
        "For this project, your jupyter notebook should meet the following specifications:\n",
        "\n",
        "**_Organization/Code Cleanliness_**\n",
        "\n",
        "* The notebook should be well organized, easy to follow, and code is commented where appropriate.  \n",
        "<br>  \n",
        "    * Level Up: The notebook contains well-formatted, professional looking markdown cells explaining any substantial code. All functions have docstrings that act as professional-quality documentation.  \n",
        "<br>      \n",
        "* The notebook is written to technical audiences with a way to both understand your approach and reproduce your results. The target audience for this deliverable is other data scientists looking to validate your findings.  \n",
        "<br>    \n",
        "* Any SQL code written to source data should also be included.  \n",
        "\n",
        "**_Findings_**\n",
        "\n",
        "* Your notebook should clearly show how you arrived at your results for each hypothesis test, including how you calculated your p-values.   \n",
        "<br>\n",
        "* You should also include any other statistics that you find relevant to your analysis, such as effect size. "
      ]
    },
    {
      "metadata": {
        "colab_type": "text",
        "id": "RXO-WQHYwwQF"
      },
      "cell_type": "markdown",
      "source": [
        "___"
      ]
    },
    {
      "metadata": {
        "id": "a2XMZGqABRl6",
        "colab_type": "text"
      },
      "cell_type": "markdown",
      "source": [
        "## Hypothesis Testing Workflow\n",
        "1. **Test for Normality**\n",
        "    - D'Agostino-Pearson's normality test<br>\n",
        "    ```scipy.stats.normaltest```\n",
        "    - Shapiro-Wilik Test<br>\n",
        "    ```scipy.stats.shapiro```\n",
        "2. **Test for Homogeneity of Variance**\n",
        "    - Levene's Test<br>\n",
        "     ```scipy.stats.levene```\n",
        "\n",
        "3. **Choose appropriate test based upon 1. and 2.** \n",
        "\n",
        "4. **Post-hoc comparisons**"
      ]
    },
    {
      "metadata": {
        "colab_type": "text",
        "id": "Oz3uzog5wwQM"
      },
      "cell_type": "markdown",
      "source": [
        "# Importing of Packages and Defining Functions"
      ]
    },
    {
      "metadata": {
        "colab_type": "text",
        "id": "PVjqeNPowwQN"
      },
      "cell_type": "markdown",
      "source": [
        "## Import packages:"
      ]
    },
    {
      "metadata": {
        "colab_type": "code",
        "id": "vl-HKeJJwwQP",
        "colab": {}
      },
      "cell_type": "code",
      "source": [
        "# Normal packages\n",
        "import pandas as pd\n",
        "import numpy as np\n",
        "import seaborn as sns\n",
        "import matplotlib.pyplot as plt\n",
        "import matplotlib.ticker as mtick\n",
        "%matplotlib inline\n",
        "\n",
        "# Statsmodels\n",
        "\n",
        "import statsmodels.api as sm\n",
        "import statsmodels.formula.api as smf\n",
        "import statsmodels.stats.api as sms\n",
        "\n",
        "import scipy.stats as stats\n",
        "\n",
        "\n",
        "# Counter\n",
        "from collections import Counter\n",
        "\n",
        "# Sklearn\n",
        "from sklearn.model_selection import train_test_split\n",
        "from sklearn.feature_selection import RFE\n",
        "from sklearn.linear_model import LinearRegression\n",
        "from sklearn.metrics import mean_squared_error\n",
        "from sklearn.preprocessing import MinMaxScaler\n",
        "from sklearn.preprocessing import RobustScaler\n",
        "import sklearn.metrics as metrics\n",
        "\n",
        "\n",
        "import sqlalchemy\n",
        "from sqlalchemy import create_engine\n",
        "from sqlalchemy.orm import Session, sessionmaker\n",
        "from sqlalchemy import inspect"
      ],
      "execution_count": 0,
      "outputs": []
    },
    {
      "metadata": {
        "colab_type": "text",
        "heading_collapsed": true,
        "id": "s6AsUbfMwwQU"
      },
      "cell_type": "markdown",
      "source": [
        "## Define Functions (from proj 1)"
      ]
    },
    {
      "metadata": {
        "colab_type": "text",
        "hidden": true,
        "id": "O0xNoo6vwwQV"
      },
      "cell_type": "markdown",
      "source": [
        "### def check_column"
      ]
    },
    {
      "metadata": {
        "colab_type": "code",
        "hidden": true,
        "id": "UEz2Osm_wwQW",
        "colab": {}
      },
      "cell_type": "code",
      "source": [
        "# Check columns returns the datatype, null values and unique values of input series \n",
        "def check_column(series,nlargest='all'):\n",
        "    print(f\"Column: df['{series.name}']':\")\n",
        "    print(f\"dtype: {series.dtype}\")\n",
        "    print(f\"isna: {series.isna().sum()} out of {len(series)} - {round(series.isna().sum()/len(series)*100,3)}%\")\n",
        "        \n",
        "    print(f'\\nUnique non-na values:') #,df['waterfront'].unique())\n",
        "    if nlargest =='all':\n",
        "        print(series.value_counts())\n",
        "    else:\n",
        "        print(series.value_counts().nlargest(nlargest))"
      ],
      "execution_count": 0,
      "outputs": []
    },
    {
      "metadata": {
        "colab_type": "text",
        "hidden": true,
        "id": "GtI-okJkwwQa"
      },
      "cell_type": "markdown",
      "source": [
        "### def multiplot"
      ]
    },
    {
      "metadata": {
        "colab_type": "code",
        "hidden": true,
        "id": "i7lFBscHwwQb",
        "colab": {}
      },
      "cell_type": "code",
      "source": [
        "# MULTIPLOT\n",
        "from string import ascii_letters\n",
        "import numpy as np\n",
        "import pandas as pd\n",
        "import seaborn as sns\n",
        "import matplotlib.pyplot as plt\n",
        "\n",
        "\n",
        "def multiplot(df):\n",
        "    \"\"\"Plots results from df.corr() in a correlation heat map for multicollinearity.\n",
        "    Returns fig, ax objects\"\"\"\n",
        "    sns.set(style=\"white\")\n",
        "\n",
        "    # Compute the correlation matrix\n",
        "    corr = df.corr()\n",
        "\n",
        "    # Generate a mask for the upper triangle\n",
        "    mask = np.zeros_like(corr, dtype=np.bool)\n",
        "    mask[np.triu_indices_from(mask)] = True\n",
        "\n",
        "    # Set up the matplotlib figure\n",
        "    f, ax = plt.subplots(figsize=(16, 16))\n",
        "\n",
        "    # Generate a custom diverging colormap\n",
        "    cmap = sns.diverging_palette(220, 10, as_cmap=True)\n",
        "\n",
        "    # Draw the heatmap with the mask and correct aspect ratio\n",
        "    sns.heatmap(corr, mask=mask, annot=True, cmap=cmap, center=0,\n",
        "                \n",
        "    square=True, linewidths=.5, cbar_kws={\"shrink\": .5})\n",
        "    return f, ax"
      ],
      "execution_count": 0,
      "outputs": []
    },
    {
      "metadata": {
        "colab_type": "text",
        "hidden": true,
        "id": "Qk9N1jMywwQf"
      },
      "cell_type": "markdown",
      "source": [
        "### def detect_outliers"
      ]
    },
    {
      "metadata": {
        "colab_type": "code",
        "hidden": true,
        "id": "LzpDuDd5wwQg",
        "colab": {}
      },
      "cell_type": "code",
      "source": [
        "# Tukey's method using IQR to eliminate \n",
        "def detect_outliers(df, n, features):\n",
        "    \"\"\"Uses Tukey's method to return outer of interquartile ranges to return indices if outliers in a dataframe.\n",
        "    Parameters:\n",
        "    df (DataFrame): DataFrane containing columns of features\n",
        "    n: default is 0, multiple outlier cutoff  \n",
        "    \n",
        "    Returns:\n",
        "    Index of outliers for .loc\n",
        "    \n",
        "    Examples:\n",
        "    Outliers_to_drop = detect_outliers(data,2,[\"col1\",\"col2\"]) Returning value\n",
        "    df.loc[Outliers_to_drop] # Show the outliers rows\n",
        "    data= data.drop(Outliers_to_drop, axis = 0).reset_index(drop=True)\n",
        "   \"\"\"\n",
        "\n",
        "# Drop outliers    \n",
        "\n",
        "    outlier_indices = []\n",
        "    # iterate over features(columns)\n",
        "    for col in features:\n",
        "        \n",
        "        # 1st quartile (25%)\n",
        "        Q1 = np.percentile(df[col], 25)\n",
        "        # 3rd quartile (75%)\n",
        "        Q3 = np.percentile(df[col],75)\n",
        "        \n",
        "        # Interquartile range (IQR)\n",
        "        IQR = Q3 - Q1\n",
        "        # outlier step\n",
        "        outlier_step = 1.5 * IQR\n",
        "        \n",
        "        # Determine a list of indices of outliers for feature col\n",
        "        outlier_list_col = df[(df[col] < Q1 - outlier_step) | (df[col] > Q3 + outlier_step )].index\n",
        "        \n",
        "        # append the found outlier indices for col to the list of outlier indices \n",
        "        outlier_indices.extend(outlier_list_col)\n",
        "        \n",
        "        # select observations containing more than 2 outliers\n",
        "        outlier_indices = Counter(outlier_indices)        \n",
        "        multiple_outliers = list( k for k, v in outlier_indices.items() if v > n )\n",
        "    return multiple_outliers \n"
      ],
      "execution_count": 0,
      "outputs": []
    },
    {
      "metadata": {
        "colab_type": "text",
        "hidden": true,
        "id": "GDzeDK5gwwQk"
      },
      "cell_type": "markdown",
      "source": [
        "### def plot_hist_scat_sns"
      ]
    },
    {
      "metadata": {
        "colab_type": "code",
        "hidden": true,
        "id": "MITbzaCcwwQl",
        "colab": {}
      },
      "cell_type": "code",
      "source": [
        "# Plots histogram and scatter (vs price) side by side\n",
        "def plot_hist_scat_sns(df, target='index'):\n",
        "    \"\"\"Plots seaborne distplots and regplots for columns im datamframe vs target.\n",
        "\n",
        "    Parameters:\n",
        "    df (DataFrame): DataFrame.describe() columns will be used. \n",
        "    target = name of column containing target variable.assume first coluumn. \n",
        "    \n",
        "    Returns:\n",
        "    Figures for each column vs target with 2 subplots.\n",
        "   \"\"\"\n",
        "    import matplotlib.ticker as mtick\n",
        "    import matplotlib.pyplot as plt\n",
        "    import seaborn as sns\n",
        "    \n",
        "    with plt.style.context(('dark_background')):\n",
        "        ###  DEFINE AESTHETIC CUSTOMIZATIONS  -------------------------------##\n",
        "\n",
        "\n",
        "#         plt.style.use('dark_background')\n",
        "        figsize=(9,7)\n",
        "\n",
        "        # Axis Label fonts\n",
        "        fontTitle = {'fontsize': 14,\n",
        "                   'fontweight': 'bold',\n",
        "                    'fontfamily':'serif'}\n",
        "\n",
        "        fontAxis = {'fontsize': 12,\n",
        "                   'fontweight': 'medium',\n",
        "                    'fontfamily':'serif'}\n",
        "\n",
        "        fontTicks = {'fontsize': 8,\n",
        "                   'fontweight':'medium',\n",
        "                    'fontfamily':'serif'}\n",
        "\n",
        "        # Formatting dollar sign labels\n",
        "        fmtPrice = '${x:,.0f}'\n",
        "        tickPrice = mtick.StrMethodFormatter(fmtPrice)\n",
        "\n",
        "\n",
        "        ###  PLOTTING ----------------------------- ------------------------ ##\n",
        "\n",
        "        # Loop through dataframe to plot\n",
        "        for column in df.describe():\n",
        "#             print(f'\\nCurrent column: {column}')\n",
        "\n",
        "            # Create figure with subplots for current column\n",
        "            fig, ax = plt.subplots(figsize=figsize, ncols=2, nrows=2)\n",
        "\n",
        "            ##  SUBPLOT 1 --------------------------------------------------##\n",
        "            i,j = 0,0\n",
        "            ax[i,j].set_title(column.capitalize(),fontdict=fontTitle)\n",
        "\n",
        "            # Define graphing keyword dictionaries for distplot (Subplot 1)\n",
        "            hist_kws = {\"linewidth\": 1, \"alpha\": 1, \"color\": 'blue','edgecolor':'w'}\n",
        "            kde_kws = {\"color\": \"white\", \"linewidth\": 1, \"label\": \"KDE\"}\n",
        "\n",
        "            # Plot distplot on ax[i,j] using hist_kws and kde_kws\n",
        "            sns.distplot(df[column], norm_hist=True, kde=True,\n",
        "                         hist_kws = hist_kws, kde_kws = kde_kws,\n",
        "                         label=column+' histogram', ax=ax[i,j])\n",
        "\n",
        "\n",
        "            # Set x axis label\n",
        "            ax[i,j].set_xlabel(column.title(),fontdict=fontAxis)\n",
        "\n",
        "            # Get x-ticks, rotate labels, and return\n",
        "            xticklab1 = ax[i,j].get_xticklabels(which = 'both')\n",
        "            ax[i,j].set_xticklabels(labels=xticklab1, fontdict=fontTicks, rotation=0)\n",
        "            ax[i,j].xaxis.set_major_formatter(mtick.ScalarFormatter())\n",
        "\n",
        "\n",
        "            # Set y-label \n",
        "            ax[i,j].set_ylabel('Density',fontdict=fontAxis)\n",
        "            yticklab1=ax[i,j].get_yticklabels(which='both')\n",
        "            ax[i,j].set_yticklabels(labels=yticklab1,fontdict=fontTicks)\n",
        "            ax[i,j].yaxis.set_major_formatter(mtick.ScalarFormatter())\n",
        "\n",
        "\n",
        "            # Set y-grid\n",
        "            ax[i, j].set_axisbelow(True)\n",
        "            ax[i, j].grid(axis='y',ls='--')\n",
        "\n",
        "\n",
        "\n",
        "\n",
        "            ##  SUBPLOT 2-------------------------------------------------- ##\n",
        "            i,j = 0,1\n",
        "            ax[i,j].set_title(column.capitalize(),fontdict=fontTitle)\n",
        "\n",
        "            # Define the kwd dictionaries for scatter and regression line (subplot 2)\n",
        "            line_kws={\"color\":\"white\",\"alpha\":0.5,\"lw\":4,\"ls\":\":\"}\n",
        "            scatter_kws={'s': 2, 'alpha': 0.5,'marker':'.','color':'blue'}\n",
        "\n",
        "            # Plot regplot on ax[i,j] using line_kws and scatter_kws\n",
        "            sns.regplot(df[column], df[target], \n",
        "                        line_kws = line_kws,\n",
        "                        scatter_kws = scatter_kws,\n",
        "                        ax=ax[i,j])\n",
        "\n",
        "            # Set x-axis label\n",
        "            ax[i,j].set_xlabel(column.title(),fontdict=fontAxis)\n",
        "\n",
        "             # Get x ticks, rotate labels, and return\n",
        "            xticklab2=ax[i,j].get_xticklabels(which='both')\n",
        "            ax[i,j].set_xticklabels(labels=xticklab2,fontdict=fontTicks, rotation=0)\n",
        "            ax[i,j].xaxis.set_major_formatter(mtick.ScalarFormatter())\n",
        "\n",
        "            # Set  y-axis label\n",
        "            ax[i,j].set_ylabel(target,fontdict=fontAxis)\n",
        "\n",
        "            # Get, set, and format y-axis Price labels\n",
        "            yticklab = ax[i,j].get_yticklabels()\n",
        "            ax[i,j].set_yticklabels(yticklab,fontdict=fontTicks)\n",
        "            ax[i,j].yaxis.set_major_formatter(mtick.ScalarFormatter())\n",
        "\n",
        "    #         ax[i,j].get_yaxis().set_major_formatter(tickPrice) \n",
        "\n",
        "            # Set y-grid\n",
        "            ax[i, j].set_axisbelow(True)\n",
        "            ax[i, j].grid(axis='y',ls='--')       \n",
        "\n",
        "            ## ---------- Final layout adjustments ----------- ##\n",
        "            # Deleted unused subplots \n",
        "            fig.delaxes(ax[1,1])\n",
        "            fig.delaxes(ax[1,0])\n",
        "\n",
        "            # Optimizing spatial layout\n",
        "            fig.tight_layout()\n",
        "            figtitle=column+'_dist_regr_plots.png'\n",
        "#             plt.savefig(figtitle)\n",
        "    return "
      ],
      "execution_count": 0,
      "outputs": []
    },
    {
      "metadata": {
        "colab_type": "text",
        "id": "BVwy49ADwwQn"
      },
      "cell_type": "markdown",
      "source": [
        "## Defining Functions (Proj 2 specific)"
      ]
    },
    {
      "metadata": {
        "colab_type": "text",
        "id": "nkPB_HcdwwQo"
      },
      "cell_type": "markdown",
      "source": [
        "### def list2df"
      ]
    },
    {
      "metadata": {
        "colab_type": "code",
        "id": "TwdV-j85wwQp",
        "colab": {}
      },
      "cell_type": "code",
      "source": [
        "def list2df(list):#, sort_values='index'):\n",
        "    \"\"\" Take in a list where row[0] = column_names and outputs a dataframe.\n",
        "    \n",
        "    Keyword arguments:\n",
        "    set_index -- df.set_index(set_index)\n",
        "    sortby -- df.sorted()\n",
        "    \"\"\"    \n",
        "    \n",
        "    df_list = pd.DataFrame(list[1:],columns=list[0])\n",
        "#     df_list = df_list[1:]\n",
        "\n",
        "    return df_list"
      ],
      "execution_count": 0,
      "outputs": []
    },
    {
      "metadata": {
        "colab_type": "text",
        "id": "ekTOehxHwwQu"
      },
      "cell_type": "markdown",
      "source": [
        "### def get_col_info"
      ]
    },
    {
      "metadata": {
        "colab_type": "code",
        "id": "LOaNcafFwwQv",
        "colab": {}
      },
      "cell_type": "code",
      "source": [
        "def  get_col_info(col_name):\n",
        "    \"\"\"Gets the column names and data types from the alchamey inspector object.\n",
        "    Returns column_info dataframe of table details.\n",
        "    \"\"\"\n",
        "    col_list = inspector.get_columns(col_name)\n",
        "    \n",
        "    column_info = [['table','column','dtype']]\n",
        "    print(f'Table Name: {col_name}\\n')\n",
        "\n",
        "    for col in col_list:\n",
        "        column_info.append([str(col_name),col['name'], col['type']])\n",
        "        \n",
        "    df = list2df(column_info)\n",
        "    return column_info"
      ],
      "execution_count": 0,
      "outputs": []
    },
    {
      "metadata": {
        "colab_type": "text",
        "id": "O7Xq2RqAR0va"
      },
      "cell_type": "markdown",
      "source": [
        "### def describe_outliers"
      ]
    },
    {
      "metadata": {
        "colab_type": "code",
        "id": "Ne6vEM4CwwQ3",
        "colab": {}
      },
      "cell_type": "code",
      "source": [
        "# describe_outliers -- calls detect_outliers\n",
        "def describe_outliers(df):\n",
        "    \"\"\" Returns a new_df of outliers, and % outliers each col using detect_outliers.\n",
        "    \"\"\"\n",
        "    out_count = 0\n",
        "    new_df = pd.DataFrame(columns=['total_outliers', 'percent_total'])\n",
        "    for col in df.columns:\n",
        "        outies = detect_outliers(df[col])\n",
        "        out_count += len(outies) \n",
        "        new_df.loc[col] = [len(outies), round((len(outies)/len(df.index))*100, 2)]\n",
        "    new_df.loc['grand_total'] = [sum(new_df['total_outliers']), sum(new_df['percent_total'])]\n",
        "    return new_df"
      ],
      "execution_count": 0,
      "outputs": []
    },
    {
      "metadata": {
        "colab_type": "text",
        "id": "XrvSuzkKwwQz"
      },
      "cell_type": "markdown",
      "source": [
        "### def get_full_table_info"
      ]
    },
    {
      "metadata": {
        "colab_type": "code",
        "id": "A0bruXiLwwQ0",
        "colab": {}
      },
      "cell_type": "code",
      "source": [
        "def  get_full_table_info(engine):\n",
        "    \"\"\"Gets the table names, their column namesand data types engine.\n",
        "    Returns column_info dataframe of table details.\n",
        "    \"\"\"\n",
        "    column_info = [['table','column','dtype']]\n",
        "    \n",
        "    list_tables= engine.table_names()\n",
        "    \n",
        "    for table in list_tables:\n",
        "        \n",
        "        col_list = inspector.get_columns(table)\n",
        "        \n",
        "        for col in col_list:\n",
        "            \n",
        "            column_info.append([str(table),col['name'], col['type'],col['']])\n",
        "            inspector.get_foreign_keys()\n",
        "    \n",
        "    df = list2df(column_info)\n",
        "    return df"
      ],
      "execution_count": 0,
      "outputs": []
    },
    {
      "metadata": {
        "colab_type": "text",
        "id": "EDLKQNdKR4Cb"
      },
      "cell_type": "markdown",
      "source": [
        "### def Cohen's d "
      ]
    },
    {
      "metadata": {
        "colab_type": "code",
        "id": "F_vkRMKMRO0Z",
        "colab": {}
      },
      "cell_type": "code",
      "source": [
        "#### Cohen's d\n",
        "def Cohen_d(group1, group2):\n",
        "    # Compute Cohen's d.\n",
        "    # group1: Series or NumPy array\n",
        "    # group2: Series or NumPy array\n",
        "    # returns a floating point number \n",
        "    diff = group1.mean() - group2.mean()\n",
        "\n",
        "    n1, n2 = len(group1), len(group2)\n",
        "    var1 = group1.var()\n",
        "    var2 = group2.var()\n",
        "\n",
        "    # Calculate the pooled threshold as shown earlier\n",
        "    pooled_var = (n1 * var1 + n2 * var2) / (n1 + n2)\n",
        "    \n",
        "    # Calculate Cohen's d statistic\n",
        "    d = diff / np.sqrt(pooled_var)\n",
        "    \n",
        "    return d\n",
        "\n",
        "\n",
        "def plot_pdfs(cohen_d=2):\n",
        "    \"\"\"Plot PDFs for distributions that differ by some number of stds.\n",
        "    \n",
        "    cohen_d: number of standard deviations between the means\n",
        "    \"\"\"\n",
        "    group1 = scipy.stats.norm(0, 1)\n",
        "    group2 = scipy.stats.norm(cohen_d, 1)\n",
        "    xs, ys = evaluate_PDF(group1)\n",
        "    pyplot.fill_between(xs, ys, label='Group1', color='#ff2289', alpha=0.7)\n",
        "\n",
        "    xs, ys = evaluate_PDF(group2)\n",
        "    pyplot.fill_between(xs, ys, label='Group2', color='#376cb0', alpha=0.7)\n",
        "    \n",
        "    o, s = overlap_superiority(group1, group2)\n",
        "    print('overlap', o)\n",
        "    print('superiority', s)\n",
        "   "
      ],
      "execution_count": 0,
      "outputs": []
    },
    {
      "metadata": {
        "colab_type": "code",
        "id": "6nBzfb-evlaL",
        "colab": {}
      },
      "cell_type": "code",
      "source": [
        "# Hedge's g\n",
        "\n",
        "# def hedge_g()"
      ],
      "execution_count": 0,
      "outputs": []
    },
    {
      "metadata": {
        "colab_type": "text",
        "id": "fcYXKTJe-bjt"
      },
      "cell_type": "markdown",
      "source": [
        "___\n",
        "# **Hypothesis 1:**\n",
        ">**Do discounts have a statistically significant effect on the number of products customers order? If so, at what level(s) of discount?**\n",
        "\n",
        "$H_1$ : Products that are discounted sell in higher quantities.\n",
        "\n",
        "$H_0$ : Products that are discount sell the same amounts as non-discounted products.\n",
        "\n",
        "\n",
        "**Specific Aims:**\n",
        "\n",
        "* ***Aim 1:To select the proper dataset for analysis, perform EDA, and generate data groups for testing.***\n",
        "    - Used sqlalchemy and pandas.read_sql_query()\n",
        "    query = \"SELECT* FROM OrderDetails,\n",
        "            GROUPBY discount\n",
        "\n",
        "* ***Aim 2: Select the appropriate t-test based on tests for the assumptions of normality and homogeneity of variance.***\n",
        "    1. **Test for Normality**\n",
        "        - D'Agostino-Pearson's normality test<br>\n",
        "        ```scipy.stats.normaltest```\n",
        "        - Shapiro-Wilik Test<br>\n",
        "        ```scipy.stats.shapiro```\n",
        "    2. **Test for Homogeneity of Variance**\n",
        "        - Levene's Test<br>\n",
        "         ```scipy.stats.levene```\n",
        "\n",
        "    3. **Choose appropriate test based upon 1. and 2.** \n",
        "        - Mann-Whitney U test (non parametric equivalent of ANOVA)<br>\n",
        "        ```stats.mannwhitneyu```<br>\n",
        "        \n",
        "\n",
        "* ***Aim 3: To perform post-hoc painrwise comparison testing to determine which level of discounts affect quantity and if any discount has a greater effect than the others.***\n",
        "     - Tukey's test for multiple pairwise comparisons\n"
      ]
    },
    {
      "metadata": {
        "colab_type": "text",
        "id": "7mKcl3fkwwQ6"
      },
      "cell_type": "markdown",
      "source": [
        "_________\n",
        "## ***Aim 1.1 : To select the proper dataset for analyiss  and generate data groups for testing.***\n",
        "\n",
        "#### Importing Method\n",
        "- Use sqlalchemy to create engine to connect to Northwind_small.sqlite.\n",
        "- use pd.read_sql_query('SELECT * FROM OrderDetail',egine) to directly read db into df"
      ]
    },
    {
      "metadata": {
        "cellView": "both",
        "colab_type": "code",
        "id": "N0O4-cWq1N53",
        "outputId": "3b231950-b42f-4c18-828c-cb57e7717219",
        "colab": {
          "base_uri": "https://localhost:8080/",
          "height": 35
        }
      },
      "cell_type": "code",
      "source": [
        "# #CELL A : IF ON COLAB.\n",
        "# #The northwind.sqlite is located in: content/drive/My Drive/Colab Notebooks/datasets/Northwind_small.sqlite\n",
        "from google.colab import drive\n",
        "drive.mount('/content/drive/', force_remount=True)\n",
        "\n",
        "# # If in Google Drive \n",
        "filepath = '/content/drive/My Drive/Colab Notebooks/datasets/Northwind_small.sqlite'"
      ],
      "execution_count": 307,
      "outputs": [
        {
          "output_type": "stream",
          "text": [
            "Mounted at /content/drive/\n"
          ],
          "name": "stdout"
        }
      ]
    },
    {
      "metadata": {
        "colab_type": "code",
        "id": "NGfWlIw45Xs1",
        "colab": {}
      },
      "cell_type": "code",
      "source": [
        "# #CELL B: If RUNNING LOCALLY.\n",
        "# filepath = 'Northwind_small.sqlite'"
      ],
      "execution_count": 0,
      "outputs": []
    },
    {
      "metadata": {
        "id": "zP8k3PvuBRmw",
        "colab_type": "text"
      },
      "cell_type": "markdown",
      "source": [
        "#### Use sqlalchemy and pandas to inspect data tables"
      ]
    },
    {
      "metadata": {
        "id": "GOWwoXhrBRmx",
        "colab_type": "code",
        "outputId": "0f7062e1-5548-4a5d-c22d-9a3faed72996",
        "colab": {
          "base_uri": "https://localhost:8080/",
          "height": 179
        }
      },
      "cell_type": "code",
      "source": [
        "# Import packages for sql\n",
        "import sqlite3\n",
        "from sqlalchemy import create_engine, inspect\n",
        "# from sqlalchemy import Table, Column, Integer, String, MetaData, ForeignKey,text, Float\n",
        "\n",
        "engine = create_engine('sqlite:///'+filepath,echo=True);\n",
        "\n",
        "inspector = inspect(engine);\n",
        "\n",
        "db_tables = inspector.get_table_names();\n",
        "\n",
        "print('\\n',db_tables);"
      ],
      "execution_count": 309,
      "outputs": [
        {
          "output_type": "stream",
          "text": [
            "2019-04-06 15:20:47,191 INFO sqlalchemy.engine.base.Engine SELECT CAST('test plain returns' AS VARCHAR(60)) AS anon_1\n",
            "2019-04-06 15:20:47,193 INFO sqlalchemy.engine.base.Engine ()\n",
            "2019-04-06 15:20:47,194 INFO sqlalchemy.engine.base.Engine SELECT CAST('test unicode returns' AS VARCHAR(60)) AS anon_1\n",
            "2019-04-06 15:20:47,196 INFO sqlalchemy.engine.base.Engine ()\n",
            "2019-04-06 15:20:47,202 INFO sqlalchemy.engine.base.Engine SELECT name FROM sqlite_master WHERE type='table' ORDER BY name\n",
            "2019-04-06 15:20:47,203 INFO sqlalchemy.engine.base.Engine ()\n",
            "\n",
            " ['Category', 'Customer', 'CustomerCustomerDemo', 'CustomerDemographic', 'Employee', 'EmployeeTerritory', 'Order', 'OrderDetail', 'Product', 'Region', 'Shipper', 'Supplier', 'Territory']\n"
          ],
          "name": "stdout"
        }
      ]
    },
    {
      "metadata": {
        "colab_type": "code",
        "id": "zEqu9PbxwwQ8",
        "outputId": "f9ddf638-3469-4059-c213-9d70b0bff0b3",
        "colab": {
          "base_uri": "https://localhost:8080/",
          "height": 294
        }
      },
      "cell_type": "code",
      "source": [
        "list2df(get_col_info('OrderDetail'))"
      ],
      "execution_count": 310,
      "outputs": [
        {
          "output_type": "stream",
          "text": [
            "2019-04-06 15:20:47,217 INFO sqlalchemy.engine.base.Engine PRAGMA table_info(\"OrderDetail\")\n",
            "2019-04-06 15:20:47,219 INFO sqlalchemy.engine.base.Engine ()\n",
            "Table Name: OrderDetail\n",
            "\n"
          ],
          "name": "stdout"
        },
        {
          "output_type": "execute_result",
          "data": {
            "text/html": [
              "<div>\n",
              "<style scoped>\n",
              "    .dataframe tbody tr th:only-of-type {\n",
              "        vertical-align: middle;\n",
              "    }\n",
              "\n",
              "    .dataframe tbody tr th {\n",
              "        vertical-align: top;\n",
              "    }\n",
              "\n",
              "    .dataframe thead th {\n",
              "        text-align: right;\n",
              "    }\n",
              "</style>\n",
              "<table border=\"1\" class=\"dataframe\">\n",
              "  <thead>\n",
              "    <tr style=\"text-align: right;\">\n",
              "      <th></th>\n",
              "      <th>table</th>\n",
              "      <th>column</th>\n",
              "      <th>dtype</th>\n",
              "    </tr>\n",
              "  </thead>\n",
              "  <tbody>\n",
              "    <tr>\n",
              "      <th>0</th>\n",
              "      <td>OrderDetail</td>\n",
              "      <td>Id</td>\n",
              "      <td>VARCHAR(8000)</td>\n",
              "    </tr>\n",
              "    <tr>\n",
              "      <th>1</th>\n",
              "      <td>OrderDetail</td>\n",
              "      <td>OrderId</td>\n",
              "      <td>INTEGER</td>\n",
              "    </tr>\n",
              "    <tr>\n",
              "      <th>2</th>\n",
              "      <td>OrderDetail</td>\n",
              "      <td>ProductId</td>\n",
              "      <td>INTEGER</td>\n",
              "    </tr>\n",
              "    <tr>\n",
              "      <th>3</th>\n",
              "      <td>OrderDetail</td>\n",
              "      <td>UnitPrice</td>\n",
              "      <td>DECIMAL</td>\n",
              "    </tr>\n",
              "    <tr>\n",
              "      <th>4</th>\n",
              "      <td>OrderDetail</td>\n",
              "      <td>Quantity</td>\n",
              "      <td>INTEGER</td>\n",
              "    </tr>\n",
              "    <tr>\n",
              "      <th>5</th>\n",
              "      <td>OrderDetail</td>\n",
              "      <td>Discount</td>\n",
              "      <td>FLOAT</td>\n",
              "    </tr>\n",
              "  </tbody>\n",
              "</table>\n",
              "</div>"
            ],
            "text/plain": [
              "         table     column          dtype\n",
              "0  OrderDetail         Id  VARCHAR(8000)\n",
              "1  OrderDetail    OrderId        INTEGER\n",
              "2  OrderDetail  ProductId        INTEGER\n",
              "3  OrderDetail  UnitPrice        DECIMAL\n",
              "4  OrderDetail   Quantity        INTEGER\n",
              "5  OrderDetail   Discount          FLOAT"
            ]
          },
          "metadata": {
            "tags": []
          },
          "execution_count": 310
        }
      ]
    },
    {
      "metadata": {
        "id": "gT_dk3tLBRm2",
        "colab_type": "text"
      },
      "cell_type": "markdown",
      "source": [
        "#### Load in table OrderDetail for hypothesis 1"
      ]
    },
    {
      "metadata": {
        "colab_type": "code",
        "id": "8r91sfLGwwRK",
        "outputId": "68e81b13-30f5-4c1d-f980-ca7edcd6d634",
        "colab": {
          "base_uri": "https://localhost:8080/",
          "height": 758
        }
      },
      "cell_type": "code",
      "source": [
        "# We want to test hypothesis one, so we need OrderDetail table.\n",
        "table_to_test = \"OrderDetail\"\n",
        "df_od = pd.read_sql_query(\"SELECT * FROM OrderDetail\",  engine)\n",
        "df_o = pd.read_sql_query(\"SELECT * FROM [Order]\",  engine)\n",
        "df_o.info()\n",
        "df_o.rename({'Id':'OrderId'},axis=1,inplace=True)\n",
        "\n",
        "df = df_od.merge(df_o, on = 'OrderId')\n",
        "# df_o.head()\n",
        "df.to_csv('OrderId_Order.csv')\n",
        "df.head()"
      ],
      "execution_count": 311,
      "outputs": [
        {
          "output_type": "stream",
          "text": [
            "2019-04-06 15:20:47,259 INFO sqlalchemy.engine.base.Engine SELECT * FROM OrderDetail\n",
            "2019-04-06 15:20:47,261 INFO sqlalchemy.engine.base.Engine ()\n",
            "2019-04-06 15:20:47,280 INFO sqlalchemy.engine.base.Engine SELECT * FROM [Order]\n",
            "2019-04-06 15:20:47,282 INFO sqlalchemy.engine.base.Engine ()\n",
            "<class 'pandas.core.frame.DataFrame'>\n",
            "RangeIndex: 830 entries, 0 to 829\n",
            "Data columns (total 14 columns):\n",
            "Id                830 non-null int64\n",
            "CustomerId        830 non-null object\n",
            "EmployeeId        830 non-null int64\n",
            "OrderDate         830 non-null object\n",
            "RequiredDate      830 non-null object\n",
            "ShippedDate       809 non-null object\n",
            "ShipVia           830 non-null int64\n",
            "Freight           830 non-null float64\n",
            "ShipName          830 non-null object\n",
            "ShipAddress       830 non-null object\n",
            "ShipCity          830 non-null object\n",
            "ShipRegion        830 non-null object\n",
            "ShipPostalCode    811 non-null object\n",
            "ShipCountry       830 non-null object\n",
            "dtypes: float64(1), int64(3), object(10)\n",
            "memory usage: 90.9+ KB\n"
          ],
          "name": "stdout"
        },
        {
          "output_type": "execute_result",
          "data": {
            "text/html": [
              "<div>\n",
              "<style scoped>\n",
              "    .dataframe tbody tr th:only-of-type {\n",
              "        vertical-align: middle;\n",
              "    }\n",
              "\n",
              "    .dataframe tbody tr th {\n",
              "        vertical-align: top;\n",
              "    }\n",
              "\n",
              "    .dataframe thead th {\n",
              "        text-align: right;\n",
              "    }\n",
              "</style>\n",
              "<table border=\"1\" class=\"dataframe\">\n",
              "  <thead>\n",
              "    <tr style=\"text-align: right;\">\n",
              "      <th></th>\n",
              "      <th>Id</th>\n",
              "      <th>OrderId</th>\n",
              "      <th>ProductId</th>\n",
              "      <th>UnitPrice</th>\n",
              "      <th>Quantity</th>\n",
              "      <th>Discount</th>\n",
              "      <th>CustomerId</th>\n",
              "      <th>EmployeeId</th>\n",
              "      <th>OrderDate</th>\n",
              "      <th>RequiredDate</th>\n",
              "      <th>ShippedDate</th>\n",
              "      <th>ShipVia</th>\n",
              "      <th>Freight</th>\n",
              "      <th>ShipName</th>\n",
              "      <th>ShipAddress</th>\n",
              "      <th>ShipCity</th>\n",
              "      <th>ShipRegion</th>\n",
              "      <th>ShipPostalCode</th>\n",
              "      <th>ShipCountry</th>\n",
              "    </tr>\n",
              "  </thead>\n",
              "  <tbody>\n",
              "    <tr>\n",
              "      <th>0</th>\n",
              "      <td>10248/11</td>\n",
              "      <td>10248</td>\n",
              "      <td>11</td>\n",
              "      <td>14.0</td>\n",
              "      <td>12</td>\n",
              "      <td>0.0</td>\n",
              "      <td>VINET</td>\n",
              "      <td>5</td>\n",
              "      <td>2012-07-04</td>\n",
              "      <td>2012-08-01</td>\n",
              "      <td>2012-07-16</td>\n",
              "      <td>3</td>\n",
              "      <td>32.38</td>\n",
              "      <td>Vins et alcools Chevalier</td>\n",
              "      <td>59 rue de l'Abbaye</td>\n",
              "      <td>Reims</td>\n",
              "      <td>Western Europe</td>\n",
              "      <td>51100</td>\n",
              "      <td>France</td>\n",
              "    </tr>\n",
              "    <tr>\n",
              "      <th>1</th>\n",
              "      <td>10248/42</td>\n",
              "      <td>10248</td>\n",
              "      <td>42</td>\n",
              "      <td>9.8</td>\n",
              "      <td>10</td>\n",
              "      <td>0.0</td>\n",
              "      <td>VINET</td>\n",
              "      <td>5</td>\n",
              "      <td>2012-07-04</td>\n",
              "      <td>2012-08-01</td>\n",
              "      <td>2012-07-16</td>\n",
              "      <td>3</td>\n",
              "      <td>32.38</td>\n",
              "      <td>Vins et alcools Chevalier</td>\n",
              "      <td>59 rue de l'Abbaye</td>\n",
              "      <td>Reims</td>\n",
              "      <td>Western Europe</td>\n",
              "      <td>51100</td>\n",
              "      <td>France</td>\n",
              "    </tr>\n",
              "    <tr>\n",
              "      <th>2</th>\n",
              "      <td>10248/72</td>\n",
              "      <td>10248</td>\n",
              "      <td>72</td>\n",
              "      <td>34.8</td>\n",
              "      <td>5</td>\n",
              "      <td>0.0</td>\n",
              "      <td>VINET</td>\n",
              "      <td>5</td>\n",
              "      <td>2012-07-04</td>\n",
              "      <td>2012-08-01</td>\n",
              "      <td>2012-07-16</td>\n",
              "      <td>3</td>\n",
              "      <td>32.38</td>\n",
              "      <td>Vins et alcools Chevalier</td>\n",
              "      <td>59 rue de l'Abbaye</td>\n",
              "      <td>Reims</td>\n",
              "      <td>Western Europe</td>\n",
              "      <td>51100</td>\n",
              "      <td>France</td>\n",
              "    </tr>\n",
              "    <tr>\n",
              "      <th>3</th>\n",
              "      <td>10249/14</td>\n",
              "      <td>10249</td>\n",
              "      <td>14</td>\n",
              "      <td>18.6</td>\n",
              "      <td>9</td>\n",
              "      <td>0.0</td>\n",
              "      <td>TOMSP</td>\n",
              "      <td>6</td>\n",
              "      <td>2012-07-05</td>\n",
              "      <td>2012-08-16</td>\n",
              "      <td>2012-07-10</td>\n",
              "      <td>1</td>\n",
              "      <td>11.61</td>\n",
              "      <td>Toms Spezialitäten</td>\n",
              "      <td>Luisenstr. 48</td>\n",
              "      <td>Münster</td>\n",
              "      <td>Western Europe</td>\n",
              "      <td>44087</td>\n",
              "      <td>Germany</td>\n",
              "    </tr>\n",
              "    <tr>\n",
              "      <th>4</th>\n",
              "      <td>10249/51</td>\n",
              "      <td>10249</td>\n",
              "      <td>51</td>\n",
              "      <td>42.4</td>\n",
              "      <td>40</td>\n",
              "      <td>0.0</td>\n",
              "      <td>TOMSP</td>\n",
              "      <td>6</td>\n",
              "      <td>2012-07-05</td>\n",
              "      <td>2012-08-16</td>\n",
              "      <td>2012-07-10</td>\n",
              "      <td>1</td>\n",
              "      <td>11.61</td>\n",
              "      <td>Toms Spezialitäten</td>\n",
              "      <td>Luisenstr. 48</td>\n",
              "      <td>Münster</td>\n",
              "      <td>Western Europe</td>\n",
              "      <td>44087</td>\n",
              "      <td>Germany</td>\n",
              "    </tr>\n",
              "  </tbody>\n",
              "</table>\n",
              "</div>"
            ],
            "text/plain": [
              "         Id  OrderId  ProductId  UnitPrice  Quantity  Discount CustomerId  \\\n",
              "0  10248/11    10248         11       14.0        12       0.0      VINET   \n",
              "1  10248/42    10248         42        9.8        10       0.0      VINET   \n",
              "2  10248/72    10248         72       34.8         5       0.0      VINET   \n",
              "3  10249/14    10249         14       18.6         9       0.0      TOMSP   \n",
              "4  10249/51    10249         51       42.4        40       0.0      TOMSP   \n",
              "\n",
              "   EmployeeId   OrderDate RequiredDate ShippedDate  ShipVia  Freight  \\\n",
              "0           5  2012-07-04   2012-08-01  2012-07-16        3    32.38   \n",
              "1           5  2012-07-04   2012-08-01  2012-07-16        3    32.38   \n",
              "2           5  2012-07-04   2012-08-01  2012-07-16        3    32.38   \n",
              "3           6  2012-07-05   2012-08-16  2012-07-10        1    11.61   \n",
              "4           6  2012-07-05   2012-08-16  2012-07-10        1    11.61   \n",
              "\n",
              "                    ShipName         ShipAddress ShipCity      ShipRegion  \\\n",
              "0  Vins et alcools Chevalier  59 rue de l'Abbaye    Reims  Western Europe   \n",
              "1  Vins et alcools Chevalier  59 rue de l'Abbaye    Reims  Western Europe   \n",
              "2  Vins et alcools Chevalier  59 rue de l'Abbaye    Reims  Western Europe   \n",
              "3         Toms Spezialitäten       Luisenstr. 48  Münster  Western Europe   \n",
              "4         Toms Spezialitäten       Luisenstr. 48  Münster  Western Europe   \n",
              "\n",
              "  ShipPostalCode ShipCountry  \n",
              "0          51100      France  \n",
              "1          51100      France  \n",
              "2          51100      France  \n",
              "3          44087     Germany  \n",
              "4          44087     Germany  "
            ]
          },
          "metadata": {
            "tags": []
          },
          "execution_count": 311
        }
      ]
    },
    {
      "metadata": {
        "colab_type": "code",
        "id": "bHdkczoawwRO",
        "outputId": "104a20a8-7157-4641-f3bb-f69fc732a44c",
        "scrolled": true,
        "colab": {
          "base_uri": "https://localhost:8080/",
          "height": 444
        }
      },
      "cell_type": "code",
      "source": [
        "    df.info()"
      ],
      "execution_count": 312,
      "outputs": [
        {
          "output_type": "stream",
          "text": [
            "<class 'pandas.core.frame.DataFrame'>\n",
            "Int64Index: 2155 entries, 0 to 2154\n",
            "Data columns (total 19 columns):\n",
            "Id                2155 non-null object\n",
            "OrderId           2155 non-null int64\n",
            "ProductId         2155 non-null int64\n",
            "UnitPrice         2155 non-null float64\n",
            "Quantity          2155 non-null int64\n",
            "Discount          2155 non-null float64\n",
            "CustomerId        2155 non-null object\n",
            "EmployeeId        2155 non-null int64\n",
            "OrderDate         2155 non-null object\n",
            "RequiredDate      2155 non-null object\n",
            "ShippedDate       2082 non-null object\n",
            "ShipVia           2155 non-null int64\n",
            "Freight           2155 non-null float64\n",
            "ShipName          2155 non-null object\n",
            "ShipAddress       2155 non-null object\n",
            "ShipCity          2155 non-null object\n",
            "ShipRegion        2155 non-null object\n",
            "ShipPostalCode    2100 non-null object\n",
            "ShipCountry       2155 non-null object\n",
            "dtypes: float64(3), int64(5), object(11)\n",
            "memory usage: 336.7+ KB\n"
          ],
          "name": "stdout"
        }
      ]
    },
    {
      "metadata": {
        "colab_type": "code",
        "id": "hOZ_8uy7HuMr",
        "outputId": "64f9ab67-7f60-45aa-c0c4-0be6f257f6fe",
        "colab": {
          "base_uri": "https://localhost:8080/",
          "height": 212
        }
      },
      "cell_type": "code",
      "source": [
        "# Checking the levels of discount\n",
        "# sorted(df['Discount'].unique())\n",
        "counts = df['Discount'].value_counts()\n",
        "counts.sort_index()\n",
        "count_dict = dict(zip(counts.index, counts.values))\n",
        "count_dict"
      ],
      "execution_count": 313,
      "outputs": [
        {
          "output_type": "execute_result",
          "data": {
            "text/plain": [
              "{0.0: 1317,\n",
              " 0.01: 1,\n",
              " 0.02: 2,\n",
              " 0.03: 3,\n",
              " 0.04: 1,\n",
              " 0.05: 185,\n",
              " 0.06: 1,\n",
              " 0.1: 173,\n",
              " 0.15: 157,\n",
              " 0.2: 161,\n",
              " 0.25: 154}"
            ]
          },
          "metadata": {
            "tags": []
          },
          "execution_count": 313
        }
      ]
    },
    {
      "metadata": {
        "id": "nFvh-eMWBRm9",
        "colab_type": "text"
      },
      "cell_type": "markdown",
      "source": [
        "### Aim 1.2: EDA on dataset"
      ]
    },
    {
      "metadata": {
        "id": "pMccsD16BRm-",
        "colab_type": "code",
        "outputId": "e7cafcc8-d71d-47b1-cfb1-89245b6ef165",
        "colab": {
          "base_uri": "https://localhost:8080/",
          "height": 1713
        }
      },
      "cell_type": "code",
      "source": [
        "# df['Quantity'].groupby(df['Discount']).plot(kind='bar')\n",
        "plot_hist_scat_sns(df.drop(['OrderId','ProductId'],axis=1),'Quantity')"
      ],
      "execution_count": 314,
      "outputs": [
        {
          "output_type": "stream",
          "text": [
            "/usr/local/lib/python3.6/dist-packages/matplotlib/axes/_axes.py:6521: MatplotlibDeprecationWarning: \n",
            "The 'normed' kwarg was deprecated in Matplotlib 2.1 and will be removed in 3.1. Use 'density' instead.\n",
            "  alternative=\"'density'\", removal=\"3.1\")\n"
          ],
          "name": "stderr"
        },
        {
          "output_type": "display_data",
          "data": {
            "image/png": "[encoded data removed]",
            "text/plain": [
              "<Figure size 648x504 with 2 Axes>"
            ]
          },
          "metadata": {
            "tags": []
          }
        },
        {
          "output_type": "display_data",
          "data": {
            "image/png": "[encoded data removed]",
            "text/plain": [
              "<Figure size 648x504 with 2 Axes>"
            ]
          },
          "metadata": {
            "tags": []
          }
        },
        {
          "output_type": "display_data",
          "data": {
            "image/png": "[encoded data removed]",
            "text/plain": [
              "<Figure size 648x504 with 2 Axes>"
            ]
          },
          "metadata": {
            "tags": []
          }
        },
        {
          "output_type": "display_data",
          "data": {
            "image/png": "[encoded data removed]",
            "text/plain": [
              "<Figure size 648x504 with 2 Axes>"
            ]
          },
          "metadata": {
            "tags": []
          }
        },
        {
          "output_type": "display_data",
          "data": {
            "image/png": "[encoded data removed]",
            "text/plain": [
              "<Figure size 648x504 with 2 Axes>"
            ]
          },
          "metadata": {
            "tags": []
          }
        },
        {
          "output_type": "display_data",
          "data": {
            "image/png": "[encoded data removed]",
            "text/plain": [
              "<Figure size 648x504 with 2 Axes>"
            ]
          },
          "metadata": {
            "tags": []
          }
        }
      ]
    },
    {
      "metadata": {
        "colab_type": "text",
        "id": "u1V-i0y6wwTB",
        "scrolled": true
      },
      "cell_type": "markdown",
      "source": [
        "#### Note on OrderDetails df:\n",
        "1. There are 11 possible values for discounts: \n",
        "    - Values = [0.0, 0.01, 0.02, 0.03, 0.04, 0.05, 0.06, 0.1, 0.15, 0.2, 0.25]<br>\n",
        "    - However, there are very few entries for some of the levels of value.\n",
        "    ``` print(sorted(df['Discount'].unique())) ```\n",
        "2. The data for quantity looks skewed and not-normal. \n",
        "    - Normality tests will likely come back significant \n",
        "    "
      ]
    },
    {
      "metadata": {
        "id": "nrgngwVVBRnB",
        "colab_type": "text"
      },
      "cell_type": "markdown",
      "source": [
        "### Aim 1.3: Generated and inspect the required groups\n",
        "- Generate the groups that we want to test.\n",
        "    - Discounted\n",
        "    - Full price \n",
        "- Once review, use info to determine next steps."
      ]
    },
    {
      "metadata": {
        "colab_type": "code",
        "id": "S7s99OFmwwRS",
        "outputId": "87f33e4d-b5ba-4c91-f53c-6868370373bb",
        "colab": {
          "base_uri": "https://localhost:8080/",
          "height": 317
        }
      },
      "cell_type": "code",
      "source": [
        "# Print the descriptive statistics.\n",
        "df_discounted = df.loc[df['Discount']>0]\n",
        "df_fullprice = df.loc[df['Discount']==0]\n",
        "\n",
        "print(f'\\nAll Quantities:')\n",
        "df.drop(['OrderId','ProductId'],axis=1).describe().round()"
      ],
      "execution_count": 315,
      "outputs": [
        {
          "output_type": "stream",
          "text": [
            "\n",
            "All Quantities:\n"
          ],
          "name": "stdout"
        },
        {
          "output_type": "execute_result",
          "data": {
            "text/html": [
              "<div>\n",
              "<style scoped>\n",
              "    .dataframe tbody tr th:only-of-type {\n",
              "        vertical-align: middle;\n",
              "    }\n",
              "\n",
              "    .dataframe tbody tr th {\n",
              "        vertical-align: top;\n",
              "    }\n",
              "\n",
              "    .dataframe thead th {\n",
              "        text-align: right;\n",
              "    }\n",
              "</style>\n",
              "<table border=\"1\" class=\"dataframe\">\n",
              "  <thead>\n",
              "    <tr style=\"text-align: right;\">\n",
              "      <th></th>\n",
              "      <th>UnitPrice</th>\n",
              "      <th>Quantity</th>\n",
              "      <th>Discount</th>\n",
              "      <th>EmployeeId</th>\n",
              "      <th>ShipVia</th>\n",
              "      <th>Freight</th>\n",
              "    </tr>\n",
              "  </thead>\n",
              "  <tbody>\n",
              "    <tr>\n",
              "      <th>count</th>\n",
              "      <td>2155.0</td>\n",
              "      <td>2155.0</td>\n",
              "      <td>2155.0</td>\n",
              "      <td>2155.0</td>\n",
              "      <td>2155.0</td>\n",
              "      <td>2155.0</td>\n",
              "    </tr>\n",
              "    <tr>\n",
              "      <th>mean</th>\n",
              "      <td>26.0</td>\n",
              "      <td>24.0</td>\n",
              "      <td>0.0</td>\n",
              "      <td>4.0</td>\n",
              "      <td>2.0</td>\n",
              "      <td>96.0</td>\n",
              "    </tr>\n",
              "    <tr>\n",
              "      <th>std</th>\n",
              "      <td>30.0</td>\n",
              "      <td>19.0</td>\n",
              "      <td>0.0</td>\n",
              "      <td>2.0</td>\n",
              "      <td>1.0</td>\n",
              "      <td>133.0</td>\n",
              "    </tr>\n",
              "    <tr>\n",
              "      <th>min</th>\n",
              "      <td>2.0</td>\n",
              "      <td>1.0</td>\n",
              "      <td>0.0</td>\n",
              "      <td>1.0</td>\n",
              "      <td>1.0</td>\n",
              "      <td>0.0</td>\n",
              "    </tr>\n",
              "    <tr>\n",
              "      <th>25%</th>\n",
              "      <td>12.0</td>\n",
              "      <td>10.0</td>\n",
              "      <td>0.0</td>\n",
              "      <td>2.0</td>\n",
              "      <td>1.0</td>\n",
              "      <td>20.0</td>\n",
              "    </tr>\n",
              "    <tr>\n",
              "      <th>50%</th>\n",
              "      <td>18.0</td>\n",
              "      <td>20.0</td>\n",
              "      <td>0.0</td>\n",
              "      <td>4.0</td>\n",
              "      <td>2.0</td>\n",
              "      <td>54.0</td>\n",
              "    </tr>\n",
              "    <tr>\n",
              "      <th>75%</th>\n",
              "      <td>32.0</td>\n",
              "      <td>30.0</td>\n",
              "      <td>0.0</td>\n",
              "      <td>7.0</td>\n",
              "      <td>3.0</td>\n",
              "      <td>121.0</td>\n",
              "    </tr>\n",
              "    <tr>\n",
              "      <th>max</th>\n",
              "      <td>264.0</td>\n",
              "      <td>130.0</td>\n",
              "      <td>0.0</td>\n",
              "      <td>9.0</td>\n",
              "      <td>3.0</td>\n",
              "      <td>1008.0</td>\n",
              "    </tr>\n",
              "  </tbody>\n",
              "</table>\n",
              "</div>"
            ],
            "text/plain": [
              "       UnitPrice  Quantity  Discount  EmployeeId  ShipVia  Freight\n",
              "count     2155.0    2155.0    2155.0      2155.0   2155.0   2155.0\n",
              "mean        26.0      24.0       0.0         4.0      2.0     96.0\n",
              "std         30.0      19.0       0.0         2.0      1.0    133.0\n",
              "min          2.0       1.0       0.0         1.0      1.0      0.0\n",
              "25%         12.0      10.0       0.0         2.0      1.0     20.0\n",
              "50%         18.0      20.0       0.0         4.0      2.0     54.0\n",
              "75%         32.0      30.0       0.0         7.0      3.0    121.0\n",
              "max        264.0     130.0       0.0         9.0      3.0   1008.0"
            ]
          },
          "metadata": {
            "tags": []
          },
          "execution_count": 315
        }
      ]
    },
    {
      "metadata": {
        "id": "SxZ2yH5cBRnE",
        "colab_type": "code",
        "outputId": "9488c51e-7c7c-4246-fe3e-c305cf79a2df",
        "colab": {
          "base_uri": "https://localhost:8080/",
          "height": 317
        }
      },
      "cell_type": "code",
      "source": [
        "print(f'\\nDiscounted Quantities:')\n",
        "\n",
        "df_discounted.drop(['OrderId','ProductId'],axis=1).describe().round()"
      ],
      "execution_count": 316,
      "outputs": [
        {
          "output_type": "stream",
          "text": [
            "\n",
            "Discounted Quantities:\n"
          ],
          "name": "stdout"
        },
        {
          "output_type": "execute_result",
          "data": {
            "text/html": [
              "<div>\n",
              "<style scoped>\n",
              "    .dataframe tbody tr th:only-of-type {\n",
              "        vertical-align: middle;\n",
              "    }\n",
              "\n",
              "    .dataframe tbody tr th {\n",
              "        vertical-align: top;\n",
              "    }\n",
              "\n",
              "    .dataframe thead th {\n",
              "        text-align: right;\n",
              "    }\n",
              "</style>\n",
              "<table border=\"1\" class=\"dataframe\">\n",
              "  <thead>\n",
              "    <tr style=\"text-align: right;\">\n",
              "      <th></th>\n",
              "      <th>UnitPrice</th>\n",
              "      <th>Quantity</th>\n",
              "      <th>Discount</th>\n",
              "      <th>EmployeeId</th>\n",
              "      <th>ShipVia</th>\n",
              "      <th>Freight</th>\n",
              "    </tr>\n",
              "  </thead>\n",
              "  <tbody>\n",
              "    <tr>\n",
              "      <th>count</th>\n",
              "      <td>838.0</td>\n",
              "      <td>838.0</td>\n",
              "      <td>838.0</td>\n",
              "      <td>838.0</td>\n",
              "      <td>838.0</td>\n",
              "      <td>838.0</td>\n",
              "    </tr>\n",
              "    <tr>\n",
              "      <th>mean</th>\n",
              "      <td>26.0</td>\n",
              "      <td>27.0</td>\n",
              "      <td>0.0</td>\n",
              "      <td>4.0</td>\n",
              "      <td>2.0</td>\n",
              "      <td>100.0</td>\n",
              "    </tr>\n",
              "    <tr>\n",
              "      <th>std</th>\n",
              "      <td>30.0</td>\n",
              "      <td>21.0</td>\n",
              "      <td>0.0</td>\n",
              "      <td>2.0</td>\n",
              "      <td>1.0</td>\n",
              "      <td>126.0</td>\n",
              "    </tr>\n",
              "    <tr>\n",
              "      <th>min</th>\n",
              "      <td>2.0</td>\n",
              "      <td>1.0</td>\n",
              "      <td>0.0</td>\n",
              "      <td>1.0</td>\n",
              "      <td>1.0</td>\n",
              "      <td>0.0</td>\n",
              "    </tr>\n",
              "    <tr>\n",
              "      <th>25%</th>\n",
              "      <td>12.0</td>\n",
              "      <td>12.0</td>\n",
              "      <td>0.0</td>\n",
              "      <td>2.0</td>\n",
              "      <td>1.0</td>\n",
              "      <td>25.0</td>\n",
              "    </tr>\n",
              "    <tr>\n",
              "      <th>50%</th>\n",
              "      <td>18.0</td>\n",
              "      <td>20.0</td>\n",
              "      <td>0.0</td>\n",
              "      <td>4.0</td>\n",
              "      <td>2.0</td>\n",
              "      <td>60.0</td>\n",
              "    </tr>\n",
              "    <tr>\n",
              "      <th>75%</th>\n",
              "      <td>31.0</td>\n",
              "      <td>36.0</td>\n",
              "      <td>0.0</td>\n",
              "      <td>7.0</td>\n",
              "      <td>3.0</td>\n",
              "      <td>123.0</td>\n",
              "    </tr>\n",
              "    <tr>\n",
              "      <th>max</th>\n",
              "      <td>264.0</td>\n",
              "      <td>130.0</td>\n",
              "      <td>0.0</td>\n",
              "      <td>9.0</td>\n",
              "      <td>3.0</td>\n",
              "      <td>891.0</td>\n",
              "    </tr>\n",
              "  </tbody>\n",
              "</table>\n",
              "</div>"
            ],
            "text/plain": [
              "       UnitPrice  Quantity  Discount  EmployeeId  ShipVia  Freight\n",
              "count      838.0     838.0     838.0       838.0    838.0    838.0\n",
              "mean        26.0      27.0       0.0         4.0      2.0    100.0\n",
              "std         30.0      21.0       0.0         2.0      1.0    126.0\n",
              "min          2.0       1.0       0.0         1.0      1.0      0.0\n",
              "25%         12.0      12.0       0.0         2.0      1.0     25.0\n",
              "50%         18.0      20.0       0.0         4.0      2.0     60.0\n",
              "75%         31.0      36.0       0.0         7.0      3.0    123.0\n",
              "max        264.0     130.0       0.0         9.0      3.0    891.0"
            ]
          },
          "metadata": {
            "tags": []
          },
          "execution_count": 316
        }
      ]
    },
    {
      "metadata": {
        "id": "L-DcuavHBRnG",
        "colab_type": "code",
        "outputId": "7ed6a2e0-1840-4801-ca2a-9e5bda92894f",
        "colab": {
          "base_uri": "https://localhost:8080/",
          "height": 317
        }
      },
      "cell_type": "code",
      "source": [
        "print(f'Full price Quantities:\\n')\n",
        "df_fullprice.drop(['OrderId','ProductId'],axis=1).describe().round()"
      ],
      "execution_count": 317,
      "outputs": [
        {
          "output_type": "stream",
          "text": [
            "Full price Quantities:\n",
            "\n"
          ],
          "name": "stdout"
        },
        {
          "output_type": "execute_result",
          "data": {
            "text/html": [
              "<div>\n",
              "<style scoped>\n",
              "    .dataframe tbody tr th:only-of-type {\n",
              "        vertical-align: middle;\n",
              "    }\n",
              "\n",
              "    .dataframe tbody tr th {\n",
              "        vertical-align: top;\n",
              "    }\n",
              "\n",
              "    .dataframe thead th {\n",
              "        text-align: right;\n",
              "    }\n",
              "</style>\n",
              "<table border=\"1\" class=\"dataframe\">\n",
              "  <thead>\n",
              "    <tr style=\"text-align: right;\">\n",
              "      <th></th>\n",
              "      <th>UnitPrice</th>\n",
              "      <th>Quantity</th>\n",
              "      <th>Discount</th>\n",
              "      <th>EmployeeId</th>\n",
              "      <th>ShipVia</th>\n",
              "      <th>Freight</th>\n",
              "    </tr>\n",
              "  </thead>\n",
              "  <tbody>\n",
              "    <tr>\n",
              "      <th>count</th>\n",
              "      <td>1317.0</td>\n",
              "      <td>1317.0</td>\n",
              "      <td>1317.0</td>\n",
              "      <td>1317.0</td>\n",
              "      <td>1317.0</td>\n",
              "      <td>1317.0</td>\n",
              "    </tr>\n",
              "    <tr>\n",
              "      <th>mean</th>\n",
              "      <td>26.0</td>\n",
              "      <td>22.0</td>\n",
              "      <td>0.0</td>\n",
              "      <td>4.0</td>\n",
              "      <td>2.0</td>\n",
              "      <td>94.0</td>\n",
              "    </tr>\n",
              "    <tr>\n",
              "      <th>std</th>\n",
              "      <td>30.0</td>\n",
              "      <td>18.0</td>\n",
              "      <td>0.0</td>\n",
              "      <td>2.0</td>\n",
              "      <td>1.0</td>\n",
              "      <td>137.0</td>\n",
              "    </tr>\n",
              "    <tr>\n",
              "      <th>min</th>\n",
              "      <td>2.0</td>\n",
              "      <td>1.0</td>\n",
              "      <td>0.0</td>\n",
              "      <td>1.0</td>\n",
              "      <td>1.0</td>\n",
              "      <td>0.0</td>\n",
              "    </tr>\n",
              "    <tr>\n",
              "      <th>25%</th>\n",
              "      <td>12.0</td>\n",
              "      <td>10.0</td>\n",
              "      <td>0.0</td>\n",
              "      <td>2.0</td>\n",
              "      <td>1.0</td>\n",
              "      <td>15.0</td>\n",
              "    </tr>\n",
              "    <tr>\n",
              "      <th>50%</th>\n",
              "      <td>18.0</td>\n",
              "      <td>18.0</td>\n",
              "      <td>0.0</td>\n",
              "      <td>4.0</td>\n",
              "      <td>2.0</td>\n",
              "      <td>47.0</td>\n",
              "    </tr>\n",
              "    <tr>\n",
              "      <th>75%</th>\n",
              "      <td>33.0</td>\n",
              "      <td>30.0</td>\n",
              "      <td>0.0</td>\n",
              "      <td>6.0</td>\n",
              "      <td>3.0</td>\n",
              "      <td>117.0</td>\n",
              "    </tr>\n",
              "    <tr>\n",
              "      <th>max</th>\n",
              "      <td>264.0</td>\n",
              "      <td>130.0</td>\n",
              "      <td>0.0</td>\n",
              "      <td>9.0</td>\n",
              "      <td>3.0</td>\n",
              "      <td>1008.0</td>\n",
              "    </tr>\n",
              "  </tbody>\n",
              "</table>\n",
              "</div>"
            ],
            "text/plain": [
              "       UnitPrice  Quantity  Discount  EmployeeId  ShipVia  Freight\n",
              "count     1317.0    1317.0    1317.0      1317.0   1317.0   1317.0\n",
              "mean        26.0      22.0       0.0         4.0      2.0     94.0\n",
              "std         30.0      18.0       0.0         2.0      1.0    137.0\n",
              "min          2.0       1.0       0.0         1.0      1.0      0.0\n",
              "25%         12.0      10.0       0.0         2.0      1.0     15.0\n",
              "50%         18.0      18.0       0.0         4.0      2.0     47.0\n",
              "75%         33.0      30.0       0.0         6.0      3.0    117.0\n",
              "max        264.0     130.0       0.0         9.0      3.0   1008.0"
            ]
          },
          "metadata": {
            "tags": []
          },
          "execution_count": 317
        }
      ]
    },
    {
      "metadata": {
        "id": "53olqpmbBRnI",
        "colab_type": "text"
      },
      "cell_type": "markdown",
      "source": [
        "#### Plotting Summary EDA Figure"
      ]
    },
    {
      "metadata": {
        "colab_type": "code",
        "id": "Hv1Y1NyQwwRW",
        "outputId": "8002c4db-621b-41a2-ddab-8443b553bc33",
        "colab": {
          "base_uri": "https://localhost:8080/",
          "height": 477
        }
      },
      "cell_type": "code",
      "source": [
        "## ADDING add_gridspec usage\n",
        "import pandas as pd\n",
        "import matplotlib.pyplot as plt\n",
        "import matplotlib.ticker as ticker\n",
        "import seaborn as sns\n",
        "import numpy as np\n",
        "from scipy.stats import sem\n",
        "\n",
        "\n",
        "from matplotlib import rcParams\n",
        "from matplotlib import rc\n",
        "rcParams['font.family'] = 'serif'\n",
        "rcParams['font.sans-serif'] = ['Tahoma']\n",
        "# rcParams[]\n",
        "\n",
        "# import matplotlib.pyplot as plt\n",
        "\n",
        "\n",
        "%matplotlib inline\n",
        "\n",
        "# Plot distributions of discounted vs full price groups\n",
        "plt.style.use('default')\n",
        "# with plt.style.context(('tableau-colorblind10')):\n",
        "with plt.style.context(('seaborn-notebook')):\n",
        "    \n",
        "    ## ----------- DEFINE AESTHETIC CUSTOMIZATIONS ----------- ##\n",
        "   # Axis Label fonts\n",
        "    fontSuptitle ={'fontsize': 24,\n",
        "               'fontweight': 'bold',\n",
        "                'fontfamily':'serif'}\n",
        "    \n",
        "    fontTitle = {'fontsize': 12,\n",
        "               'fontweight': 'medium',\n",
        "                'fontfamily':'serif'}\n",
        "\n",
        "    fontAxis = {'fontsize': 12,\n",
        "               'fontweight': 'medium',\n",
        "                'fontfamily':'serif'}\n",
        "\n",
        "    fontTicks = {'fontsize': 10,\n",
        "               'fontweight':'medium', \n",
        "                'fontfamily':'sans-serif'}\n",
        " \n",
        "\n",
        "\n",
        "\n",
        "    fig = plt.figure(constrained_layout=True, figsize=(10,4))\n",
        "    gs = fig.add_gridspec(nrows=1,ncols=10)\n",
        "    \n",
        "    ax0 = fig.add_subplot(gs[0, 0:-3])\n",
        "    ax1 = fig.add_subplot(gs[7:9])\n",
        "    \n",
        "    ax = [ax0,ax1]\n",
        "    \n",
        "    plt.suptitle('Quantity of Units Sold', fontdict=fontSuptitle)\n",
        "    \n",
        "\n",
        "     ## ----------- DEFINE SUBPLOT GROUPS DATA, LABELS, AND STYLE ----------- ##\n",
        "\n",
        "    # Group 1: data, label, hist_kws and kde_kws\n",
        "    \n",
        "    plot_me1 = {'data': df_fullprice['Quantity'], \n",
        "                'label': 'full price'.title(),\n",
        "                \n",
        "               'hist_kws' :\n",
        "                {'edgecolor': 'black','color':'darkgray','alpha': 0.8, 'lw':0.5},\n",
        "                \n",
        "               'kde_kws':\n",
        "                {'color':'gray','linestyle': '--', 'linewidth':2,'label':'kde'}}\n",
        "\n",
        "    \n",
        "    sns.distplot(plot_me1['data'], label=plot_me1['label'],\n",
        "                 hist_kws = plot_me1['hist_kws'],\n",
        "                 kde_kws = plot_me1['kde_kws'], ax=ax[0])   \n",
        "    \n",
        "    \n",
        "    \n",
        "    \n",
        "    # Group 2: data, label, hist_kws and kde_kws\n",
        "    \n",
        "    plot_me2 = {'data': df_discounted['Quantity'],\n",
        "                'label': 'discounted'.title(), \n",
        "                \n",
        "                'hist_kws' :\n",
        "                {'edgecolor': 'black','color':'green','alpha':0.8 ,'lw':0.5},\n",
        "                \n",
        "\n",
        "                'kde_kws':\n",
        "                {'color':'darkgreen','linestyle':':','linewidth':3,'label':'kde'}}\n",
        "    \n",
        "    \n",
        "    sns.distplot(plot_me2['data'], label=plot_me2['label'],\n",
        "                 hist_kws=plot_me2['hist_kws'],\n",
        "                 kde_kws = plot_me2['kde_kws'],ax=ax[0])\n",
        "    \n",
        "    \n",
        "    ax[0].set_title('Histogram + KDE',fontdict=fontTitle)\n",
        "    #ax[0].set_xlabel(fontAxis)\n",
        "    ax[0].set_ylabel('Kernel Density Estimation',fontdict=fontAxis)\n",
        "                      \n",
        "    ax[0].tick_params(axis='both',labelsize=fontTicks['fontsize'])   \n",
        "    ax[0].legend()\n",
        "\n",
        "\n",
        "    # SUBPLOT 2 \n",
        "    # Import scipy for error bars\n",
        "    from scipy import stats\n",
        "\n",
        "    x = [plot_me1 ['label'], plot_me2['label']]\n",
        "    y = [np.mean(plot_me1['data']),np.mean(plot_me2['data'])]\n",
        "\n",
        "    yerr = [stats.sem(plot_me1['data']),  stats.sem(plot_me2['data'])]\n",
        "    err_kws = {'ecolor':'black','capsize':10,'capthick':1,'elinewidth':1,'barsabove':False}\n",
        "\n",
        "    ax[1].bar(x,y,align='center', edgecolor='black', yerr=yerr,error_kw=err_kws)\n",
        "\n",
        "    # Customize subplot 2\n",
        "    ax[1].set_title('Average Quantities Sold',fontdict=fontTitle)\n",
        "    ax[1].set_xlabel('Sales Price', fontdict=fontAxis)\n",
        "    ax[1].set_ylabel('Mean +/- SEM ',fontdict=fontAxis)\n",
        "    ax[1].tick_params(axis='both',labelsize=fontTicks['fontsize'])\n",
        "    fig.savefig('H1_EDA_using_gridspec.png')\n",
        "#     plt.tight_layout()\n",
        "#     print(f')\n",
        "\n",
        "    plt.show()\n"
      ],
      "execution_count": 318,
      "outputs": [
        {
          "output_type": "stream",
          "text": [
            "/usr/local/lib/python3.6/dist-packages/matplotlib/axes/_axes.py:6521: MatplotlibDeprecationWarning: \n",
            "The 'normed' kwarg was deprecated in Matplotlib 2.1 and will be removed in 3.1. Use 'density' instead.\n",
            "  alternative=\"'density'\", removal=\"3.1\")\n"
          ],
          "name": "stderr"
        },
        {
          "output_type": "display_data",
          "data": {
            "image/png": "[encoded data removed]",
            "text/plain": [
              "<Figure size 1000x400 with 3 Axes>"
            ]
          },
          "metadata": {
            "tags": []
          }
        }
      ]
    },
    {
      "metadata": {
        "id": "WEVjgrtWe5HC",
        "colab_type": "code",
        "colab": {}
      },
      "cell_type": "code",
      "source": [
        "# df_discounted.to_csv('df_discounted.csv')\n",
        "# df_fullprice.to_csv('df_fullprice.csv')"
      ],
      "execution_count": 0,
      "outputs": []
    },
    {
      "metadata": {
        "id": "839dCzOpVFJ_",
        "colab_type": "code",
        "outputId": "e6c8e40b-a6ca-494c-b879-83c5cc40a612",
        "colab": {
          "base_uri": "https://localhost:8080/",
          "height": 888
        }
      },
      "cell_type": "code",
      "source": [
        "df_fullprice.info(), df_discounted.info()"
      ],
      "execution_count": 320,
      "outputs": [
        {
          "output_type": "stream",
          "text": [
            "<class 'pandas.core.frame.DataFrame'>\n",
            "Int64Index: 1317 entries, 0 to 2154\n",
            "Data columns (total 19 columns):\n",
            "Id                1317 non-null object\n",
            "OrderId           1317 non-null int64\n",
            "ProductId         1317 non-null int64\n",
            "UnitPrice         1317 non-null float64\n",
            "Quantity          1317 non-null int64\n",
            "Discount          1317 non-null float64\n",
            "CustomerId        1317 non-null object\n",
            "EmployeeId        1317 non-null int64\n",
            "OrderDate         1317 non-null object\n",
            "RequiredDate      1317 non-null object\n",
            "ShippedDate       1279 non-null object\n",
            "ShipVia           1317 non-null int64\n",
            "Freight           1317 non-null float64\n",
            "ShipName          1317 non-null object\n",
            "ShipAddress       1317 non-null object\n",
            "ShipCity          1317 non-null object\n",
            "ShipRegion        1317 non-null object\n",
            "ShipPostalCode    1297 non-null object\n",
            "ShipCountry       1317 non-null object\n",
            "dtypes: float64(3), int64(5), object(11)\n",
            "memory usage: 205.8+ KB\n",
            "<class 'pandas.core.frame.DataFrame'>\n",
            "Int64Index: 838 entries, 6 to 2152\n",
            "Data columns (total 19 columns):\n",
            "Id                838 non-null object\n",
            "OrderId           838 non-null int64\n",
            "ProductId         838 non-null int64\n",
            "UnitPrice         838 non-null float64\n",
            "Quantity          838 non-null int64\n",
            "Discount          838 non-null float64\n",
            "CustomerId        838 non-null object\n",
            "EmployeeId        838 non-null int64\n",
            "OrderDate         838 non-null object\n",
            "RequiredDate      838 non-null object\n",
            "ShippedDate       803 non-null object\n",
            "ShipVia           838 non-null int64\n",
            "Freight           838 non-null float64\n",
            "ShipName          838 non-null object\n",
            "ShipAddress       838 non-null object\n",
            "ShipCity          838 non-null object\n",
            "ShipRegion        838 non-null object\n",
            "ShipPostalCode    803 non-null object\n",
            "ShipCountry       838 non-null object\n",
            "dtypes: float64(3), int64(5), object(11)\n",
            "memory usage: 130.9+ KB\n"
          ],
          "name": "stdout"
        },
        {
          "output_type": "execute_result",
          "data": {
            "text/plain": [
              "(None, None)"
            ]
          },
          "metadata": {
            "tags": []
          },
          "execution_count": 320
        }
      ]
    },
    {
      "metadata": {
        "id": "NdS5ogZwUQbW",
        "colab_type": "code",
        "colab": {}
      },
      "cell_type": "code",
      "source": [
        ""
      ],
      "execution_count": 0,
      "outputs": []
    },
    {
      "metadata": {
        "colab_type": "text",
        "id": "q-uvY3EMwwRg"
      },
      "cell_type": "markdown",
      "source": [
        "## ***Aim 2: Select the appropriate t-test based on tests for the assumptions of normality and homogeneity of variance.***\n",
        "1. **Test for Normality**\n",
        "    - D'Agostino-Pearson's normality test<br>\n",
        "    ```scipy.stats.normaltest```\n",
        "    - Shapiro-Wilik Test<br>\n",
        "    ```scipy.stats.shapiro```\n",
        "2. **Test for Homogeneity of Variance**\n",
        "    - Levene's Test<br>\n",
        "     ```scipy.stats.levene```\n",
        "\n",
        "3. **Choose appropriate test based upon 1. and 2.** \n",
        "___"
      ]
    },
    {
      "metadata": {
        "id": "vCAvdujwBRnM",
        "colab_type": "text"
      },
      "cell_type": "markdown",
      "source": [
        "### Aim 2.1. Test for Normality"
      ]
    },
    {
      "metadata": {
        "colab_type": "text",
        "id": "77osFmuAbEj0"
      },
      "cell_type": "markdown",
      "source": [
        "#### Prelminary Testing for Normality "
      ]
    },
    {
      "metadata": {
        "id": "bnqj0jkNYARf",
        "colab_type": "text"
      },
      "cell_type": "markdown",
      "source": [
        ""
      ]
    },
    {
      "metadata": {
        "id": "LugZh3YyBRnP",
        "colab_type": "code",
        "outputId": "ebcfa7d8-ab34-49f8-9da9-957d0744aabf",
        "colab": {
          "base_uri": "https://localhost:8080/",
          "height": 472
        }
      },
      "cell_type": "code",
      "source": [
        "# Plot the re-sampled data\n",
        "\n",
        "# # IF want to take smaller sample from population:\n",
        "\n",
        "# pop_samp_disc = np.random.choice(pop_samp_disc,1000)\n",
        "# pop_samp_full = np.random.choice(pop_samp_full, 1000)\n",
        "with plt.style.context(('dark_background')):\n",
        "    \n",
        "    fig = plt.figure()\n",
        "    plt.title('Distribution of Quanitities for Discounted vs Full Price ')\n",
        "\n",
        "    disc = df_discounted['Quantity']\n",
        "    full = df_fullprice['Quantity']\n",
        "    \n",
        "    \n",
        "    plt.hist(full,color='red', alpha = 0.5, bins=30,label='Full Price')\n",
        "    plt.hist(disc, alpha = 0.8, bins=30,label='Discounted')\n",
        "\n",
        "    # Adding annotations\n",
        "    meanD = round(np.mean(disc),3)\n",
        "    meanF = round(np.mean(full),3)\n",
        "    \n",
        "    plt.axvline(meanD, color='green',linestyle='--',label='Discounted Mean')\n",
        "    plt.text(meanD,190,f'Mean:{meanD}',rotation=270,fontweight='medium')\n",
        "    \n",
        "    plt.axvline(meanF,color='white',linestyle='-',label='Full Price Mean')\n",
        "    plt.text(meanF, 190, f'Mean:{meanF}',rotation=270,fontweight='medium')\n",
        "\n",
        "    plt.xlabel('Quantity')\n",
        "    plt.ylabel('Counts')\n",
        "    plt.legend()\n",
        "    plt.show()\n",
        "\n",
        "# Run normality testing\n",
        "# stat,p = normaltest(pop_samp_full)\n",
        "# print(f'Normality: stat ={stat}, p = {p}')\n",
        "\n",
        "# Run ttest\n",
        "# tstat,tp = stats.ttest_ind(pop_samp_disc, pop_samp_full)\n",
        "# print(f'T-test: stat ={tstat}, p = {tp}')#tstat,tp\n",
        "# ax.text("
      ],
      "execution_count": 321,
      "outputs": [
        {
          "output_type": "display_data",
          "data": {
            "image/png": "[encoded data removed]",
            "text/plain": [
              "<Figure size 640x480 with 1 Axes>"
            ]
          },
          "metadata": {
            "tags": []
          }
        }
      ]
    },
    {
      "metadata": {
        "colab_type": "code",
        "id": "B8V_fLKzNLgS",
        "outputId": "078c83ed-1342-4da2-f052-7fd1fc7a812c",
        "colab": {
          "base_uri": "https://localhost:8080/",
          "height": 141
        }
      },
      "cell_type": "code",
      "source": [
        "# D'Agonstino Pearson Normality Test\n",
        "from scipy.stats import normaltest \n",
        "# Create results container list\n",
        "results_normtest = [['DataIn','stat','p']]\n",
        "\n",
        "# Perform Normality Test - Discounted\n",
        "stat, p = normaltest(df_discounted['Quantity'])\n",
        "results_normtest.append(['Discounted',stat,p])\n",
        "print(f'Discounted: p ={p}, stat ={stat}')\n",
        "\n",
        "# Perform Normality Test - Full Price\n",
        "stat, p = normaltest(df_fullprice['Quantity'])\n",
        "results_normtest.append(['Fullprice',stat,p])\n",
        "\n",
        "print(f'Fullprice: p ={p}, stat ={stat}')\n",
        "list2df(results_normtest)"
      ],
      "execution_count": 322,
      "outputs": [
        {
          "output_type": "stream",
          "text": [
            "Discounted: p =1.6214878452829618e-57, stat =261.528012299789\n",
            "Fullprice: p =5.579637380545965e-119, stat =544.5770045551502\n"
          ],
          "name": "stdout"
        },
        {
          "output_type": "execute_result",
          "data": {
            "text/html": [
              "<div>\n",
              "<style scoped>\n",
              "    .dataframe tbody tr th:only-of-type {\n",
              "        vertical-align: middle;\n",
              "    }\n",
              "\n",
              "    .dataframe tbody tr th {\n",
              "        vertical-align: top;\n",
              "    }\n",
              "\n",
              "    .dataframe thead th {\n",
              "        text-align: right;\n",
              "    }\n",
              "</style>\n",
              "<table border=\"1\" class=\"dataframe\">\n",
              "  <thead>\n",
              "    <tr style=\"text-align: right;\">\n",
              "      <th></th>\n",
              "      <th>DataIn</th>\n",
              "      <th>stat</th>\n",
              "      <th>p</th>\n",
              "    </tr>\n",
              "  </thead>\n",
              "  <tbody>\n",
              "    <tr>\n",
              "      <th>0</th>\n",
              "      <td>Discounted</td>\n",
              "      <td>261.528012</td>\n",
              "      <td>1.621488e-57</td>\n",
              "    </tr>\n",
              "    <tr>\n",
              "      <th>1</th>\n",
              "      <td>Fullprice</td>\n",
              "      <td>544.577005</td>\n",
              "      <td>5.579637e-119</td>\n",
              "    </tr>\n",
              "  </tbody>\n",
              "</table>\n",
              "</div>"
            ],
            "text/plain": [
              "       DataIn        stat              p\n",
              "0  Discounted  261.528012   1.621488e-57\n",
              "1   Fullprice  544.577005  5.579637e-119"
            ]
          },
          "metadata": {
            "tags": []
          },
          "execution_count": 322
        }
      ]
    },
    {
      "metadata": {
        "colab_type": "text",
        "id": "tciaNn_rWcAW"
      },
      "cell_type": "markdown",
      "source": [
        "**Notes on Preliminary Normality Test:**\n",
        "- Both groups failed assumption of normality. \n",
        "\n",
        "    - Let's compare normaltest vs shapiro test\n",
        "    \n",
        "- Let's try removing outliers with previously define detect_outliers"
      ]
    },
    {
      "metadata": {
        "id": "9KN_7gOOBRna",
        "colab_type": "text"
      },
      "cell_type": "markdown",
      "source": [
        "#### def normtest_results"
      ]
    },
    {
      "metadata": {
        "id": "UXvZaU8WBRnb",
        "colab_type": "code",
        "colab": {}
      },
      "cell_type": "code",
      "source": [
        "def normtest_results(dict_data):\n",
        "    \"\"\"Peforms both d'agostino-pearson and shapiro-wilik normal tests\n",
        "        \n",
        "        Parameters:\n",
        "            dict_data -- dictionary with {'name' : data} \n",
        "        Returns:\n",
        "            results_normtest -- list of test results (can run list2df(results_normtest)\n",
        "    \"\"\"\n",
        "    from numpy.random import seed\n",
        "    from numpy.random import randn\n",
        "    from scipy.stats import shapiro\n",
        "    from scipy.stats import normaltest\n",
        "\n",
        "    results_normtest_shap = [['DataIn','Test','stat','p']]\n",
        "    results_normtest_dagp = [['DataIn','Test','stat','p']]\n",
        "\n",
        "    for key,val in dict_data.items():\n",
        "\n",
        "        data_in = val\n",
        "        name = key\n",
        "        test = 'Shapiro'\n",
        "        stat, p = shapiro(data_in)\n",
        "        results_normtest_shap.append([name , test, stat , p ])\n",
        "        test = 'D’Agostino’s'\n",
        "        stat, p = normaltest(data_in)\n",
        "        results_normtest_dagp.append([name,test,stat, p])\n",
        "\n",
        "    results_normtest = pd.concat([list2df(results_normtest_shap), list2df(results_normtest_dagp)]) \n",
        "\n",
        "    return results_normtest #, list2df(results_normtest_shap),list2df(results_normtest_dagp)\n",
        "\n",
        "#   results_pivot = results.pivot(index='DataIn', columns= 'Test')\n",
        "#   results_pivot.stack(0)"
      ],
      "execution_count": 0,
      "outputs": []
    },
    {
      "metadata": {
        "colab_type": "text",
        "id": "Fq_JAeWWwwRy"
      },
      "cell_type": "markdown",
      "source": [
        "### Sub-Aim 2.1.1 Use detect_outliers to remove outliers re-run normality tests"
      ]
    },
    {
      "metadata": {
        "colab_type": "text",
        "id": "eMA7n-4O9X7o"
      },
      "cell_type": "markdown",
      "source": [
        "##### Run detect_outliers on df_discounted, df_fullprice, examine stats of outliers, and then test normality with cleaned data."
      ]
    },
    {
      "metadata": {
        "colab_type": "code",
        "id": "nxaepnCPwwRz",
        "outputId": "e89c0c6e-e677-417d-b1e7-029593aa3f55",
        "colab": {
          "base_uri": "https://localhost:8080/",
          "height": 335
        }
      },
      "cell_type": "code",
      "source": [
        "# Detect outliers in df_discounted\n",
        "outlier_disc = detect_outliers(df_discounted,0,['Quantity'])\n",
        "\n",
        "print(f'\\nDescriptive Stats for Discounted Outliers:')\n",
        "print(f'There are {len(outlier_disc)} outliers out of {len(df)} = {len(outlier_disc)/len(df)*100} %')\n",
        "df[['Quantity','Discount']].iloc[outlier_disc].describe().round()"
      ],
      "execution_count": 324,
      "outputs": [
        {
          "output_type": "stream",
          "text": [
            "\n",
            "Descriptive Stats for Discounted Outliers:\n",
            "There are 29 outliers out of 2155 = 1.345707656612529 %\n"
          ],
          "name": "stdout"
        },
        {
          "output_type": "execute_result",
          "data": {
            "text/html": [
              "<div>\n",
              "<style scoped>\n",
              "    .dataframe tbody tr th:only-of-type {\n",
              "        vertical-align: middle;\n",
              "    }\n",
              "\n",
              "    .dataframe tbody tr th {\n",
              "        vertical-align: top;\n",
              "    }\n",
              "\n",
              "    .dataframe thead th {\n",
              "        text-align: right;\n",
              "    }\n",
              "</style>\n",
              "<table border=\"1\" class=\"dataframe\">\n",
              "  <thead>\n",
              "    <tr style=\"text-align: right;\">\n",
              "      <th></th>\n",
              "      <th>Quantity</th>\n",
              "      <th>Discount</th>\n",
              "    </tr>\n",
              "  </thead>\n",
              "  <tbody>\n",
              "    <tr>\n",
              "      <th>count</th>\n",
              "      <td>29.0</td>\n",
              "      <td>29.0</td>\n",
              "    </tr>\n",
              "    <tr>\n",
              "      <th>mean</th>\n",
              "      <td>94.0</td>\n",
              "      <td>0.0</td>\n",
              "    </tr>\n",
              "    <tr>\n",
              "      <th>std</th>\n",
              "      <td>17.0</td>\n",
              "      <td>0.0</td>\n",
              "    </tr>\n",
              "    <tr>\n",
              "      <th>min</th>\n",
              "      <td>77.0</td>\n",
              "      <td>0.0</td>\n",
              "    </tr>\n",
              "    <tr>\n",
              "      <th>25%</th>\n",
              "      <td>80.0</td>\n",
              "      <td>0.0</td>\n",
              "    </tr>\n",
              "    <tr>\n",
              "      <th>50%</th>\n",
              "      <td>90.0</td>\n",
              "      <td>0.0</td>\n",
              "    </tr>\n",
              "    <tr>\n",
              "      <th>75%</th>\n",
              "      <td>100.0</td>\n",
              "      <td>0.0</td>\n",
              "    </tr>\n",
              "    <tr>\n",
              "      <th>max</th>\n",
              "      <td>130.0</td>\n",
              "      <td>0.0</td>\n",
              "    </tr>\n",
              "  </tbody>\n",
              "</table>\n",
              "</div>"
            ],
            "text/plain": [
              "       Quantity  Discount\n",
              "count      29.0      29.0\n",
              "mean       94.0       0.0\n",
              "std        17.0       0.0\n",
              "min        77.0       0.0\n",
              "25%        80.0       0.0\n",
              "50%        90.0       0.0\n",
              "75%       100.0       0.0\n",
              "max       130.0       0.0"
            ]
          },
          "metadata": {
            "tags": []
          },
          "execution_count": 324
        }
      ]
    },
    {
      "metadata": {
        "colab_type": "code",
        "id": "1uQLmUcZ_5t3",
        "outputId": "5a2a4332-91d4-4ffa-bb1d-83cbc1bd8f71",
        "colab": {
          "base_uri": "https://localhost:8080/",
          "height": 335
        }
      },
      "cell_type": "code",
      "source": [
        "# Detect outliers in df_fullprice\n",
        "outlier_no_disc = detect_outliers(df_fullprice,0,['Quantity'])\n",
        "print(f'\\nDescriptive Stats for Fullprice Outliers:')\n",
        "print(f'There are {len(outlier_no_disc)} outliers out of {len(df)} = {len(outlier_no_disc)/len(df)*100}%')\n",
        "df[['Quantity','Discount']].iloc[outlier_no_disc].describe().round()"
      ],
      "execution_count": 325,
      "outputs": [
        {
          "output_type": "stream",
          "text": [
            "\n",
            "Descriptive Stats for Fullprice Outliers:\n",
            "There are 34 outliers out of 2155 = 1.5777262180974478%\n"
          ],
          "name": "stdout"
        },
        {
          "output_type": "execute_result",
          "data": {
            "text/html": [
              "<div>\n",
              "<style scoped>\n",
              "    .dataframe tbody tr th:only-of-type {\n",
              "        vertical-align: middle;\n",
              "    }\n",
              "\n",
              "    .dataframe tbody tr th {\n",
              "        vertical-align: top;\n",
              "    }\n",
              "\n",
              "    .dataframe thead th {\n",
              "        text-align: right;\n",
              "    }\n",
              "</style>\n",
              "<table border=\"1\" class=\"dataframe\">\n",
              "  <thead>\n",
              "    <tr style=\"text-align: right;\">\n",
              "      <th></th>\n",
              "      <th>Quantity</th>\n",
              "      <th>Discount</th>\n",
              "    </tr>\n",
              "  </thead>\n",
              "  <tbody>\n",
              "    <tr>\n",
              "      <th>count</th>\n",
              "      <td>34.0</td>\n",
              "      <td>34.0</td>\n",
              "    </tr>\n",
              "    <tr>\n",
              "      <th>mean</th>\n",
              "      <td>86.0</td>\n",
              "      <td>0.0</td>\n",
              "    </tr>\n",
              "    <tr>\n",
              "      <th>std</th>\n",
              "      <td>20.0</td>\n",
              "      <td>0.0</td>\n",
              "    </tr>\n",
              "    <tr>\n",
              "      <th>min</th>\n",
              "      <td>63.0</td>\n",
              "      <td>0.0</td>\n",
              "    </tr>\n",
              "    <tr>\n",
              "      <th>25%</th>\n",
              "      <td>70.0</td>\n",
              "      <td>0.0</td>\n",
              "    </tr>\n",
              "    <tr>\n",
              "      <th>50%</th>\n",
              "      <td>80.0</td>\n",
              "      <td>0.0</td>\n",
              "    </tr>\n",
              "    <tr>\n",
              "      <th>75%</th>\n",
              "      <td>100.0</td>\n",
              "      <td>0.0</td>\n",
              "    </tr>\n",
              "    <tr>\n",
              "      <th>max</th>\n",
              "      <td>130.0</td>\n",
              "      <td>0.0</td>\n",
              "    </tr>\n",
              "  </tbody>\n",
              "</table>\n",
              "</div>"
            ],
            "text/plain": [
              "       Quantity  Discount\n",
              "count      34.0      34.0\n",
              "mean       86.0       0.0\n",
              "std        20.0       0.0\n",
              "min        63.0       0.0\n",
              "25%        70.0       0.0\n",
              "50%        80.0       0.0\n",
              "75%       100.0       0.0\n",
              "max       130.0       0.0"
            ]
          },
          "metadata": {
            "tags": []
          },
          "execution_count": 325
        }
      ]
    },
    {
      "metadata": {
        "colab_type": "text",
        "id": "gGqk4D46HP4O"
      },
      "cell_type": "markdown",
      "source": [
        "#### Remove outliers and re-run normality testing"
      ]
    },
    {
      "metadata": {
        "colab_type": "code",
        "id": "7GUrC_QaHayz",
        "outputId": "a10aab54-8227-4926-faa3-5d218acbcba3",
        "colab": {
          "base_uri": "https://localhost:8080/",
          "height": 426
        }
      },
      "cell_type": "code",
      "source": [
        "# Indices were from original dataframe still, so dorp outliers from a copy of that \n",
        "df_to_clean = df.copy()\n",
        "\n",
        "# Fill Data to Remove with np.nan\n",
        "remove_label = ['outlier_disc' , 'outlier_no_disc']\n",
        "remove_data = [outlier_disc , outlier_no_disc]\n",
        "\n",
        "remove_me = dict(zip(remove_label, remove_data))\n",
        "\n",
        "# Loop and replace indices of outliers with np.nan \n",
        "for key,val in remove_me.items():\n",
        "    \n",
        "    df_to_clean.iloc[val]=np.nan\n",
        "    \n",
        "    print(f'{key} removed {len(val)} outliers')\n",
        "\n",
        "print('After removal:')\n",
        "print(df_to_clean.isna().sum())"
      ],
      "execution_count": 326,
      "outputs": [
        {
          "output_type": "stream",
          "text": [
            "outlier_disc removed 29 outliers\n",
            "outlier_no_disc removed 34 outliers\n",
            "After removal:\n",
            "Id                 63\n",
            "OrderId            63\n",
            "ProductId          63\n",
            "UnitPrice          63\n",
            "Quantity           63\n",
            "Discount           63\n",
            "CustomerId         63\n",
            "EmployeeId         63\n",
            "OrderDate          63\n",
            "RequiredDate       63\n",
            "ShippedDate       134\n",
            "ShipVia            63\n",
            "Freight            63\n",
            "ShipName           63\n",
            "ShipAddress        63\n",
            "ShipCity           63\n",
            "ShipRegion         63\n",
            "ShipPostalCode    114\n",
            "ShipCountry        63\n",
            "dtype: int64\n"
          ],
          "name": "stdout"
        }
      ]
    },
    {
      "metadata": {
        "colab_type": "code",
        "id": "Uk4M3t4gKGa9",
        "outputId": "ebac4a47-f405-4cb5-ef9a-6e8fa132283f",
        "colab": {
          "base_uri": "https://localhost:8080/",
          "height": 444
        }
      },
      "cell_type": "code",
      "source": [
        "# Replace na and run stattest \n",
        "df_to_clean.info()"
      ],
      "execution_count": 327,
      "outputs": [
        {
          "output_type": "stream",
          "text": [
            "<class 'pandas.core.frame.DataFrame'>\n",
            "Int64Index: 2155 entries, 0 to 2154\n",
            "Data columns (total 19 columns):\n",
            "Id                2092 non-null object\n",
            "OrderId           2092 non-null float64\n",
            "ProductId         2092 non-null float64\n",
            "UnitPrice         2092 non-null float64\n",
            "Quantity          2092 non-null float64\n",
            "Discount          2092 non-null float64\n",
            "CustomerId        2092 non-null object\n",
            "EmployeeId        2092 non-null float64\n",
            "OrderDate         2092 non-null object\n",
            "RequiredDate      2092 non-null object\n",
            "ShippedDate       2021 non-null object\n",
            "ShipVia           2092 non-null float64\n",
            "Freight           2092 non-null float64\n",
            "ShipName          2092 non-null object\n",
            "ShipAddress       2092 non-null object\n",
            "ShipCity          2092 non-null object\n",
            "ShipRegion        2092 non-null object\n",
            "ShipPostalCode    2041 non-null object\n",
            "ShipCountry       2092 non-null object\n",
            "dtypes: float64(8), object(11)\n",
            "memory usage: 336.7+ KB\n"
          ],
          "name": "stdout"
        }
      ]
    },
    {
      "metadata": {
        "colab_type": "code",
        "id": "W-5EtAuNMF84",
        "outputId": "a6a89864-a423-4ba3-d7cd-40c485bb33d6",
        "colab": {
          "base_uri": "https://localhost:8080/",
          "height": 852
        }
      },
      "cell_type": "code",
      "source": [
        "# pause\n",
        "df_clean = df_to_clean.dropna(axis=0)#,inplace=True)\n",
        "df_clean.info(),print(f'\\n\\nOutliers present:'),df_clean.isna().any()"
      ],
      "execution_count": 328,
      "outputs": [
        {
          "output_type": "stream",
          "text": [
            "<class 'pandas.core.frame.DataFrame'>\n",
            "Int64Index: 1970 entries, 0 to 2110\n",
            "Data columns (total 19 columns):\n",
            "Id                1970 non-null object\n",
            "OrderId           1970 non-null float64\n",
            "ProductId         1970 non-null float64\n",
            "UnitPrice         1970 non-null float64\n",
            "Quantity          1970 non-null float64\n",
            "Discount          1970 non-null float64\n",
            "CustomerId        1970 non-null object\n",
            "EmployeeId        1970 non-null float64\n",
            "OrderDate         1970 non-null object\n",
            "RequiredDate      1970 non-null object\n",
            "ShippedDate       1970 non-null object\n",
            "ShipVia           1970 non-null float64\n",
            "Freight           1970 non-null float64\n",
            "ShipName          1970 non-null object\n",
            "ShipAddress       1970 non-null object\n",
            "ShipCity          1970 non-null object\n",
            "ShipRegion        1970 non-null object\n",
            "ShipPostalCode    1970 non-null object\n",
            "ShipCountry       1970 non-null object\n",
            "dtypes: float64(8), object(11)\n",
            "memory usage: 307.8+ KB\n",
            "\n",
            "\n",
            "Outliers present:\n"
          ],
          "name": "stdout"
        },
        {
          "output_type": "execute_result",
          "data": {
            "text/plain": [
              "(None, None, Id                False\n",
              " OrderId           False\n",
              " ProductId         False\n",
              " UnitPrice         False\n",
              " Quantity          False\n",
              " Discount          False\n",
              " CustomerId        False\n",
              " EmployeeId        False\n",
              " OrderDate         False\n",
              " RequiredDate      False\n",
              " ShippedDate       False\n",
              " ShipVia           False\n",
              " Freight           False\n",
              " ShipName          False\n",
              " ShipAddress       False\n",
              " ShipCity          False\n",
              " ShipRegion        False\n",
              " ShipPostalCode    False\n",
              " ShipCountry       False\n",
              " dtype: bool)"
            ]
          },
          "metadata": {
            "tags": []
          },
          "execution_count": 328
        }
      ]
    },
    {
      "metadata": {
        "colab_type": "text",
        "id": "6PrPoFbsMZKb"
      },
      "cell_type": "markdown",
      "source": [
        "#### Separate Back into Discounted and Fullprice Dataframes  "
      ]
    },
    {
      "metadata": {
        "colab_type": "code",
        "id": "QQlm4VmiUPOG",
        "colab": {}
      },
      "cell_type": "code",
      "source": [
        "# Separate Back into Discounted and Fullprice Dataframes  \n",
        "\n",
        "# Building data_in dictionary for normtest_results\n",
        "df_disc_orig = df_discounted\n",
        "df_full_orig = df_fullprice\n",
        "\n",
        "df_discounted_clean = df_clean.loc[df_clean['Discount']>0].copy()\n",
        "# df_discounted_clean.info()\n",
        "df_fullprice_clean = df_clean.loc[df_clean['Discount']==0].copy()\n",
        "# df_fullprice_clean.info()"
      ],
      "execution_count": 0,
      "outputs": []
    },
    {
      "metadata": {
        "id": "meSZ5a-CBRnx",
        "colab_type": "code",
        "colab": {}
      },
      "cell_type": "code",
      "source": [
        "# Combine all data into 1 dictionary for normtest_results.\n",
        "data_in = {}\n",
        "\n",
        "data_in['Disc, Orig'] = df_disc_orig['Quantity']\n",
        "data_in['Disc, Clean'] = df_discounted_clean['Quantity']\n",
        "\n",
        "data_in['Full Price','Orig'] = df_full_orig['Quantity']\n",
        "data_in['Full Price','Clean'] = df_fullprice_clean['Quantity']"
      ],
      "execution_count": 0,
      "outputs": []
    },
    {
      "metadata": {
        "id": "6hasxYQ0BRnz",
        "colab_type": "code",
        "outputId": "8c4ad7ab-f561-40de-bb63-7c414c7f04ef",
        "colab": {
          "base_uri": "https://localhost:8080/",
          "height": 311
        }
      },
      "cell_type": "code",
      "source": [
        "# Run normtest_results on combined dataset.\n",
        "results = normtest_results(data_in) #[0]\n",
        "results.set_index('DataIn')"
      ],
      "execution_count": 331,
      "outputs": [
        {
          "output_type": "execute_result",
          "data": {
            "text/html": [
              "<div>\n",
              "<style scoped>\n",
              "    .dataframe tbody tr th:only-of-type {\n",
              "        vertical-align: middle;\n",
              "    }\n",
              "\n",
              "    .dataframe tbody tr th {\n",
              "        vertical-align: top;\n",
              "    }\n",
              "\n",
              "    .dataframe thead th {\n",
              "        text-align: right;\n",
              "    }\n",
              "</style>\n",
              "<table border=\"1\" class=\"dataframe\">\n",
              "  <thead>\n",
              "    <tr style=\"text-align: right;\">\n",
              "      <th></th>\n",
              "      <th>Test</th>\n",
              "      <th>stat</th>\n",
              "      <th>p</th>\n",
              "    </tr>\n",
              "    <tr>\n",
              "      <th>DataIn</th>\n",
              "      <th></th>\n",
              "      <th></th>\n",
              "      <th></th>\n",
              "    </tr>\n",
              "  </thead>\n",
              "  <tbody>\n",
              "    <tr>\n",
              "      <th>Disc, Orig</th>\n",
              "      <td>Shapiro</td>\n",
              "      <td>0.869030</td>\n",
              "      <td>6.881204e-26</td>\n",
              "    </tr>\n",
              "    <tr>\n",
              "      <th>Disc, Clean</th>\n",
              "      <td>Shapiro</td>\n",
              "      <td>0.920683</td>\n",
              "      <td>2.661152e-19</td>\n",
              "    </tr>\n",
              "    <tr>\n",
              "      <th>(Full Price, Orig)</th>\n",
              "      <td>Shapiro</td>\n",
              "      <td>0.843457</td>\n",
              "      <td>3.803857e-34</td>\n",
              "    </tr>\n",
              "    <tr>\n",
              "      <th>(Full Price, Clean)</th>\n",
              "      <td>Shapiro</td>\n",
              "      <td>0.916697</td>\n",
              "      <td>1.902830e-25</td>\n",
              "    </tr>\n",
              "    <tr>\n",
              "      <th>Disc, Orig</th>\n",
              "      <td>D’Agostino’s</td>\n",
              "      <td>261.528012</td>\n",
              "      <td>1.621488e-57</td>\n",
              "    </tr>\n",
              "    <tr>\n",
              "      <th>Disc, Clean</th>\n",
              "      <td>D’Agostino’s</td>\n",
              "      <td>80.420078</td>\n",
              "      <td>3.443515e-18</td>\n",
              "    </tr>\n",
              "    <tr>\n",
              "      <th>(Full Price, Orig)</th>\n",
              "      <td>D’Agostino’s</td>\n",
              "      <td>544.577005</td>\n",
              "      <td>5.579637e-119</td>\n",
              "    </tr>\n",
              "    <tr>\n",
              "      <th>(Full Price, Clean)</th>\n",
              "      <td>D’Agostino’s</td>\n",
              "      <td>140.845598</td>\n",
              "      <td>2.604756e-31</td>\n",
              "    </tr>\n",
              "  </tbody>\n",
              "</table>\n",
              "</div>"
            ],
            "text/plain": [
              "                             Test        stat              p\n",
              "DataIn                                                      \n",
              "Disc, Orig                Shapiro    0.869030   6.881204e-26\n",
              "Disc, Clean               Shapiro    0.920683   2.661152e-19\n",
              "(Full Price, Orig)        Shapiro    0.843457   3.803857e-34\n",
              "(Full Price, Clean)       Shapiro    0.916697   1.902830e-25\n",
              "Disc, Orig           D’Agostino’s  261.528012   1.621488e-57\n",
              "Disc, Clean          D’Agostino’s   80.420078   3.443515e-18\n",
              "(Full Price, Orig)   D’Agostino’s  544.577005  5.579637e-119\n",
              "(Full Price, Clean)  D’Agostino’s  140.845598   2.604756e-31"
            ]
          },
          "metadata": {
            "tags": []
          },
          "execution_count": 331
        }
      ]
    },
    {
      "metadata": {
        "colab_type": "text",
        "id": "PVXDUinWuA9G"
      },
      "cell_type": "markdown",
      "source": [
        "**Notes re: removing outliers with detect_outliers.**\n",
        "- Still getting significant results for normality testing. \n",
        "- Attempting 1 more method of outlier removal -- QuantileTransformer<br>\n",
        "```from sklearn.preprocessing import QuantileTransformer```"
      ]
    },
    {
      "metadata": {
        "id": "AThkalzRBRn1",
        "colab_type": "text"
      },
      "cell_type": "markdown",
      "source": [
        "### Sub-Aim 2.1.2 Use QuantileTransformer to attempt to meet the assumption of normality."
      ]
    },
    {
      "metadata": {
        "id": "WHSkqDscBRn1",
        "colab_type": "text"
      },
      "cell_type": "markdown",
      "source": [
        "#### def quant_transform "
      ]
    },
    {
      "metadata": {
        "colab_type": "code",
        "id": "GBZfYvQO2Jr0",
        "colab": {}
      },
      "cell_type": "code",
      "source": [
        "# TRANSFORM DATA BEFORE RE-CALLING ORIGINAL normtest_results\n",
        "def quant_transform(data_in):\n",
        "    '''Use sklearn.preprocessing.QuantileTransformer to remove outliers from dataset.\n",
        "    \n",
        "    Parameters:\n",
        "        data_in (dict) -- dictionary with data series as values to be processed.\n",
        "    Returns: \n",
        "        data_tf (dict) -- dicionary of same keys from data_in, but transformed.\n",
        "        '''\n",
        "    \n",
        "    from sklearn import preprocessing as prep \n",
        "    from sklearn.preprocessing import QuantileTransformer\n",
        "\n",
        "    qt =  QuantileTransformer(n_quantiles=10,output_distribution='normal')\n",
        "    data_tf = {}\n",
        "    for k,v in data_in.items():    \n",
        "        data = np.array(v).reshape(-1,1)\n",
        "        transformed = pd.Series(np.squeeze(qt.fit_transform(data)))\n",
        "      \n",
        "        data_tf[k] = transformed\n",
        "    \n",
        "    return data_tf"
      ],
      "execution_count": 0,
      "outputs": []
    },
    {
      "metadata": {
        "colab_type": "code",
        "id": "5Iqt2xNPPF8H",
        "outputId": "8a848d26-effa-432b-efe9-dd8e2057d065",
        "colab": {
          "base_uri": "https://localhost:8080/",
          "height": 282
        }
      },
      "cell_type": "code",
      "source": [
        "# Run data_in through quant_transform to get data_tf\n",
        "data_tf = quant_transform(data_in)\n",
        "\n",
        "# Run transformed data through normtest_results.\n",
        "trans_norm_test = normtest_results(data_tf)#[0]\n",
        "trans_norm_test"
      ],
      "execution_count": 333,
      "outputs": [
        {
          "output_type": "execute_result",
          "data": {
            "text/html": [
              "<div>\n",
              "<style scoped>\n",
              "    .dataframe tbody tr th:only-of-type {\n",
              "        vertical-align: middle;\n",
              "    }\n",
              "\n",
              "    .dataframe tbody tr th {\n",
              "        vertical-align: top;\n",
              "    }\n",
              "\n",
              "    .dataframe thead th {\n",
              "        text-align: right;\n",
              "    }\n",
              "</style>\n",
              "<table border=\"1\" class=\"dataframe\">\n",
              "  <thead>\n",
              "    <tr style=\"text-align: right;\">\n",
              "      <th></th>\n",
              "      <th>DataIn</th>\n",
              "      <th>Test</th>\n",
              "      <th>stat</th>\n",
              "      <th>p</th>\n",
              "    </tr>\n",
              "  </thead>\n",
              "  <tbody>\n",
              "    <tr>\n",
              "      <th>0</th>\n",
              "      <td>Disc, Orig</td>\n",
              "      <td>Shapiro</td>\n",
              "      <td>0.955760</td>\n",
              "      <td>3.409909e-15</td>\n",
              "    </tr>\n",
              "    <tr>\n",
              "      <th>1</th>\n",
              "      <td>Disc, Clean</td>\n",
              "      <td>Shapiro</td>\n",
              "      <td>0.855450</td>\n",
              "      <td>1.641324e-25</td>\n",
              "    </tr>\n",
              "    <tr>\n",
              "      <th>2</th>\n",
              "      <td>(Full Price, Orig)</td>\n",
              "      <td>Shapiro</td>\n",
              "      <td>0.919123</td>\n",
              "      <td>5.725075e-26</td>\n",
              "    </tr>\n",
              "    <tr>\n",
              "      <th>3</th>\n",
              "      <td>(Full Price, Clean)</td>\n",
              "      <td>Shapiro</td>\n",
              "      <td>0.859803</td>\n",
              "      <td>1.033370e-31</td>\n",
              "    </tr>\n",
              "    <tr>\n",
              "      <th>0</th>\n",
              "      <td>Disc, Orig</td>\n",
              "      <td>D’Agostino’s</td>\n",
              "      <td>103.590493</td>\n",
              "      <td>3.203393e-23</td>\n",
              "    </tr>\n",
              "    <tr>\n",
              "      <th>1</th>\n",
              "      <td>Disc, Clean</td>\n",
              "      <td>D’Agostino’s</td>\n",
              "      <td>110.340329</td>\n",
              "      <td>1.096231e-24</td>\n",
              "    </tr>\n",
              "    <tr>\n",
              "      <th>2</th>\n",
              "      <td>(Full Price, Orig)</td>\n",
              "      <td>D’Agostino’s</td>\n",
              "      <td>317.579615</td>\n",
              "      <td>1.092604e-69</td>\n",
              "    </tr>\n",
              "    <tr>\n",
              "      <th>3</th>\n",
              "      <td>(Full Price, Clean)</td>\n",
              "      <td>D’Agostino’s</td>\n",
              "      <td>327.579515</td>\n",
              "      <td>7.362276e-72</td>\n",
              "    </tr>\n",
              "  </tbody>\n",
              "</table>\n",
              "</div>"
            ],
            "text/plain": [
              "                DataIn          Test        stat             p\n",
              "0           Disc, Orig       Shapiro    0.955760  3.409909e-15\n",
              "1          Disc, Clean       Shapiro    0.855450  1.641324e-25\n",
              "2   (Full Price, Orig)       Shapiro    0.919123  5.725075e-26\n",
              "3  (Full Price, Clean)       Shapiro    0.859803  1.033370e-31\n",
              "0           Disc, Orig  D’Agostino’s  103.590493  3.203393e-23\n",
              "1          Disc, Clean  D’Agostino’s  110.340329  1.096231e-24\n",
              "2   (Full Price, Orig)  D’Agostino’s  317.579615  1.092604e-69\n",
              "3  (Full Price, Clean)  D’Agostino’s  327.579515  7.362276e-72"
            ]
          },
          "metadata": {
            "tags": []
          },
          "execution_count": 333
        }
      ]
    },
    {
      "metadata": {
        "colab_type": "code",
        "id": "Cw61oSNnAVdc",
        "colab": {}
      },
      "cell_type": "code",
      "source": [
        "# dataDict = {'Original':data_in,'Transformed':data_in_tf }\n",
        "# # df_data = normtest_results(data_in)[0]\n",
        "# dataDict_results = {'Original-Results':normtest_results(data_in),'Transformed-Results': normtest_results(data_in_tf)}"
      ],
      "execution_count": 0,
      "outputs": []
    },
    {
      "metadata": {
        "colab_type": "code",
        "id": "w3F7bYgx2xlw",
        "colab": {}
      },
      "cell_type": "code",
      "source": [
        "# # Display info for \n",
        "# printDict=dataDict\n",
        "# print(f'dataDict')\n",
        "\n",
        "# for key, val in printDict.items():\n",
        "#   print(key)\n",
        "#   for k, v in printDict[key].items():\n",
        "#     print(f'   {k}\\n         has {len(v)} values with mean={np.mean(v)}')\n"
      ],
      "execution_count": 0,
      "outputs": []
    },
    {
      "metadata": {
        "colab_type": "text",
        "id": "0b4wlr87rR2b"
      },
      "cell_type": "markdown",
      "source": [
        "### Sub-Aim 2.1.3 Use resampling to get a normal distribution from the data and re-run normality tests."
      ]
    },
    {
      "metadata": {
        "colab_type": "code",
        "id": "L6n5eR-LrYhU",
        "colab": {}
      },
      "cell_type": "code",
      "source": [
        "data_discounted = df['Quantity'].loc[df['Discount']>0].copy()\n",
        "data_fullprice = df['Quantity'].loc[df['Discount']==0].copy()"
      ],
      "execution_count": 0,
      "outputs": []
    },
    {
      "metadata": {
        "colab_type": "code",
        "id": "bZuGT5f8rcf-",
        "colab": {}
      },
      "cell_type": "code",
      "source": [
        "# Resample our data  i # of samples with n =50/sample \n",
        "n = 50 \n",
        "i = 10000\n",
        "pop_samp_disc = []\n",
        "pop_samp_full = []\n",
        "for i in range(0,i):\n",
        "    \n",
        "    pop_samp_disc.append(data_discounted.sample(n).mean())\n",
        "    pop_samp_full.append(data_fullprice.sample(n).mean())\n",
        "    #   test_results.append(normaltest())\n",
        "    # plt.hist([pop_samp_disc,pop_samp_full])"
      ],
      "execution_count": 0,
      "outputs": []
    },
    {
      "metadata": {
        "id": "_COpv9y0BRoF",
        "colab_type": "code",
        "outputId": "c3570bea-6031-458b-9952-7025633ebcfb",
        "colab": {
          "base_uri": "https://localhost:8080/",
          "height": 469
        }
      },
      "cell_type": "code",
      "source": [
        "# Plot the re-sampled data\n",
        "\n",
        "# # IF want to take smaller sample from population:\n",
        "\n",
        "# pop_samp_disc = np.random.choice(pop_samp_disc,1000)\n",
        "# pop_samp_full = np.random.choice(pop_samp_full, 1000)\n",
        "with plt.style.context(('tableau-colorblind10')):\n",
        "    fig = plt.figure()\n",
        "    \n",
        "    plt.title('Quantity of Discounted vs Full Price Products Purchased ')\n",
        "    \n",
        "    plt.hist(pop_samp_disc,alpha = 0.5, bins=30,label='Discounted')\n",
        "    plt.hist(pop_samp_full,color='black', alpha = 0.5, bins=30,label='Full Price')\n",
        "\n",
        "    # Adding annotations\n",
        "    meanD = round(np.mean(pop_samp_disc),3)\n",
        "    meanS = round(np.mean(pop_samp_full),3)\n",
        "    \n",
        "    plt.axvline(meanD, linestyle='--',label='Discounted Mean')\n",
        "    plt.text(meanD-1,700,f'Mean:{meanD}',rotation=90)\n",
        "    \n",
        "    plt.axvline(meanS,color='k',linestyle='--',label='Full Price Mean')\n",
        "    plt.text(meanS-1,700,f'Mean:{meanS}',rotation=90)\n",
        "\n",
        "\n",
        "    plt.legend()\n",
        "    plt.show()\n",
        "\n",
        "# Run normality testing\n",
        "stat,p = normaltest(pop_samp_full)\n",
        "print(f'Normality: stat ={stat}, p = {p}')\n",
        "\n",
        "# Run ttest\n",
        "tstat,tp = stats.ttest_ind(pop_samp_disc, pop_samp_full)\n",
        "# print(f'T-test: stat ={tstat}, p = {tp}')#tstat,tp\n",
        "# ax.text("
      ],
      "execution_count": 337,
      "outputs": [
        {
          "output_type": "display_data",
          "data": {
            "image/png": "[encoded data removed]",
            "text/plain": [
              "<Figure size 640x480 with 1 Axes>"
            ]
          },
          "metadata": {
            "tags": []
          }
        },
        {
          "output_type": "stream",
          "text": [
            "Normality: stat =93.28540994747095, p = 5.537715101544234e-21\n"
          ],
          "name": "stdout"
        }
      ]
    },
    {
      "metadata": {
        "colab_type": "text",
        "id": "Oo7In-gvtezW"
      },
      "cell_type": "markdown",
      "source": [
        "## ***Aim 2 _final version_ : Run final workflow for testing assumptions***"
      ]
    },
    {
      "metadata": {
        "colab_type": "text",
        "id": "ARClmsCLLoNf"
      },
      "cell_type": "markdown",
      "source": [
        "#### New Statistical Analysis Pipeline\n",
        "**Don't forget about the codeacademy slides, [the tukey test they recommend is not from scipy, its from statsmodels]**(https://drive.google.com/drive/u/0/folders/18OI7pC76d6IJ5xI0ZA8A__Da9WI2rNon)\n",
        "1. Separate data into groups\n",
        "2. test groups for normality \n",
        "    - [Normaltest/ D’Agostino and Pearson’s](https://docs.scipy.org/doc/scipy/reference/generated/scipy.stats.normaltest.html)\n",
        "\n",
        "3. test groups for homo of variance\n",
        "    - [Levene's Test](https://docs.scipy.org/doc/scipy-0.14.0/reference/generated/scipy.stats.levene.html)\n",
        "4. Try to normalize data if possible?\n",
        "    - \n",
        "5. Choose test based on output\n",
        "    - Normal: 2 sample t-test\n",
        "    - Welch's t-test (Jeff)\n",
        "    - Not normal =     - [Mann Whitney U Test](https://docs.scipy.org/doc/scipy/reference/generated/scipy.stats.mannwhitneyu.html)\n",
        "5B. Calculate other statistics for result, i.e effect size...?\n",
        "    - Effect size: [cohen's d](https://stackoverflow.com/questions/21532471/how-to-calculate-cohens-d-in-python)\n",
        "6. Run test, if significant follow up with post-hoc tests (IF have more than 2 groups)\n",
        "    - [Tukey's](https://www.statsmodels.org/stable/generated/statsmodels.stats.multicomp.pairwise_tukeyhsd.html)\n"
      ]
    },
    {
      "metadata": {
        "colab_type": "code",
        "id": "dA459xbHLnoR",
        "outputId": "5d39c5cb-6953-4038-ced3-33e14a173c4c",
        "colab": {
          "base_uri": "https://localhost:8080/",
          "height": 355
        }
      },
      "cell_type": "code",
      "source": [
        "# 1 - Separating groups from dfH (dataframeHypothesis)\n",
        "dfH = df[['Quantity','UnitPrice','Discount']].copy()\n",
        "\n",
        "#Adding group definitions\n",
        "grpA = \"['Discount'] > 0\"\n",
        "grpB = \"['Discount'] == 0\"\n",
        "\n",
        "# Using eval to create df_A and df_B; will allow us to fill in our results \n",
        "# with the exact definitions of Group A and Group B\n",
        "df_A = eval(f'dfH.loc[dfH{grpA}]')\n",
        "df_B = eval(f'dfH.loc[dfH{grpB}]')\n",
        "\n",
        "# dfj_D = dfH.loc[dfj['Discount']>0] \n",
        "# dfj_F = dfH.loc[dfj['Discount']==0]\n",
        "df_A.describe(),'--'*25,df_B.describe()"
      ],
      "execution_count": 338,
      "outputs": [
        {
          "output_type": "execute_result",
          "data": {
            "text/plain": [
              "(         Quantity   UnitPrice    Discount\n",
              " count  838.000000  838.000000  838.000000\n",
              " mean    27.109785   26.292363    0.144439\n",
              " std     20.771439   30.017214    0.071808\n",
              " min      1.000000    2.000000    0.010000\n",
              " 25%     12.000000   12.500000    0.100000\n",
              " 50%     20.000000   18.000000    0.150000\n",
              " 75%     36.000000   31.230000    0.200000\n",
              " max    130.000000  263.500000    0.250000,\n",
              " '--------------------------------------------------',\n",
              "           Quantity    UnitPrice  Discount\n",
              " count  1317.000000  1317.000000    1317.0\n",
              " mean     21.715262    26.171534       0.0\n",
              " std      17.507493    29.717354       0.0\n",
              " min       1.000000     2.000000       0.0\n",
              " 25%      10.000000    12.000000       0.0\n",
              " 50%      18.000000    18.400000       0.0\n",
              " 75%      30.000000    32.800000       0.0\n",
              " max     130.000000   263.500000       0.0)"
            ]
          },
          "metadata": {
            "tags": []
          },
          "execution_count": 338
        }
      ]
    },
    {
      "metadata": {
        "id": "7VAimpHrBRoL",
        "colab_type": "text"
      },
      "cell_type": "markdown",
      "source": [
        "### Aim 2.1: Test for Normality"
      ]
    },
    {
      "metadata": {
        "colab_type": "code",
        "id": "zDIYeMJMIum6",
        "colab": {}
      },
      "cell_type": "code",
      "source": [
        "# Adding table to collect summary statistics\n",
        "H1_tests = [['Group:','TestName','Test Purpose','stat','p']  ]"
      ],
      "execution_count": 0,
      "outputs": []
    },
    {
      "metadata": {
        "colab_type": "code",
        "id": "ZcwUoJKjNIZu",
        "outputId": "ce43f8e5-ac4c-4cd0-96a1-e72fb4d06844",
        "colab": {
          "base_uri": "https://localhost:8080/",
          "height": 52
        }
      },
      "cell_type": "code",
      "source": [
        "# H1_tests = [['Group:','TestName','Test Purpose','stat','p']  ]\n",
        "# 2. Testing normality\n",
        "\n",
        "test_purpose = 'Normality'\n",
        "test_to_run = 'normaltest'\n",
        "\n",
        "arrA = np.array(df_A['Quantity'])\n",
        "arrB = np.array(df_B['Quantity'])\n",
        "\n",
        "statA, pA = eval(test_to_run)(arrA)\n",
        "statB, pB = eval(test_to_run)(arrB)\n",
        "\n",
        "print(f'A:stat={statA}, p={pA}')\n",
        "print(f'B:stat={statB}, p={pB}')\n",
        "\n",
        "# H1_tests = [['Group:','TestName','Test Purpose','stat','p']  ]\n",
        "H1_tests.append(['A: '+grpA,test_to_run,test_purpose,statA,pA])\n",
        "H1_tests.append(['B: '+grpB,test_to_run,test_purpose,statB,pB])\n",
        "# list2df(H1_tests)"
      ],
      "execution_count": 340,
      "outputs": [
        {
          "output_type": "stream",
          "text": [
            "A:stat=261.528012299789, p=1.6214878452829618e-57\n",
            "B:stat=544.5770045551502, p=5.579637380545965e-119\n"
          ],
          "name": "stdout"
        }
      ]
    },
    {
      "metadata": {
        "colab_type": "code",
        "id": "BeOQ35sjQ4wJ",
        "outputId": "721eb805-2522-4751-f407-6fc7b8b9cfbe",
        "colab": {
          "base_uri": "https://localhost:8080/",
          "height": 106
        }
      },
      "cell_type": "code",
      "source": [
        "list2df(H1_tests)"
      ],
      "execution_count": 341,
      "outputs": [
        {
          "output_type": "execute_result",
          "data": {
            "text/html": [
              "<div>\n",
              "<style scoped>\n",
              "    .dataframe tbody tr th:only-of-type {\n",
              "        vertical-align: middle;\n",
              "    }\n",
              "\n",
              "    .dataframe tbody tr th {\n",
              "        vertical-align: top;\n",
              "    }\n",
              "\n",
              "    .dataframe thead th {\n",
              "        text-align: right;\n",
              "    }\n",
              "</style>\n",
              "<table border=\"1\" class=\"dataframe\">\n",
              "  <thead>\n",
              "    <tr style=\"text-align: right;\">\n",
              "      <th></th>\n",
              "      <th>Group:</th>\n",
              "      <th>TestName</th>\n",
              "      <th>Test Purpose</th>\n",
              "      <th>stat</th>\n",
              "      <th>p</th>\n",
              "    </tr>\n",
              "  </thead>\n",
              "  <tbody>\n",
              "    <tr>\n",
              "      <th>0</th>\n",
              "      <td>A: ['Discount'] &gt; 0</td>\n",
              "      <td>normaltest</td>\n",
              "      <td>Normality</td>\n",
              "      <td>261.528012</td>\n",
              "      <td>1.621488e-57</td>\n",
              "    </tr>\n",
              "    <tr>\n",
              "      <th>1</th>\n",
              "      <td>B: ['Discount'] == 0</td>\n",
              "      <td>normaltest</td>\n",
              "      <td>Normality</td>\n",
              "      <td>544.577005</td>\n",
              "      <td>5.579637e-119</td>\n",
              "    </tr>\n",
              "  </tbody>\n",
              "</table>\n",
              "</div>"
            ],
            "text/plain": [
              "                 Group:    TestName Test Purpose        stat              p\n",
              "0   A: ['Discount'] > 0  normaltest    Normality  261.528012   1.621488e-57\n",
              "1  B: ['Discount'] == 0  normaltest    Normality  544.577005  5.579637e-119"
            ]
          },
          "metadata": {
            "tags": []
          },
          "execution_count": 341
        }
      ]
    },
    {
      "metadata": {
        "id": "UpFPGfa1BRoQ",
        "colab_type": "text"
      },
      "cell_type": "markdown",
      "source": [
        "### Aim 2.2 Test for Homogeneity of Variance"
      ]
    },
    {
      "metadata": {
        "colab_type": "code",
        "id": "Ows78wGWP7LH",
        "colab": {}
      },
      "cell_type": "code",
      "source": [
        "# 3. Test for homo var\n",
        "test_to_run = 'stats.levene'\n",
        "stat,p = eval(test_to_run)(arrA,arrB,center='median')\n",
        "\n",
        "H1_tests.append(['A&B',test_to_run,'Equal Var',stat,p])"
      ],
      "execution_count": 0,
      "outputs": []
    },
    {
      "metadata": {
        "id": "l0OlDfLLBRoT",
        "colab_type": "text"
      },
      "cell_type": "markdown",
      "source": [
        "### Aim 2.3 Selecting the appropriate test to perform."
      ]
    },
    {
      "metadata": {
        "colab_type": "code",
        "id": "0OVY01SMRD_l",
        "outputId": "a270abf8-0d63-4b53-e93e-56c6e20d6206",
        "colab": {
          "base_uri": "https://localhost:8080/",
          "height": 135
        }
      },
      "cell_type": "code",
      "source": [
        "list2df(H1_tests)"
      ],
      "execution_count": 343,
      "outputs": [
        {
          "output_type": "execute_result",
          "data": {
            "text/html": [
              "<div>\n",
              "<style scoped>\n",
              "    .dataframe tbody tr th:only-of-type {\n",
              "        vertical-align: middle;\n",
              "    }\n",
              "\n",
              "    .dataframe tbody tr th {\n",
              "        vertical-align: top;\n",
              "    }\n",
              "\n",
              "    .dataframe thead th {\n",
              "        text-align: right;\n",
              "    }\n",
              "</style>\n",
              "<table border=\"1\" class=\"dataframe\">\n",
              "  <thead>\n",
              "    <tr style=\"text-align: right;\">\n",
              "      <th></th>\n",
              "      <th>Group:</th>\n",
              "      <th>TestName</th>\n",
              "      <th>Test Purpose</th>\n",
              "      <th>stat</th>\n",
              "      <th>p</th>\n",
              "    </tr>\n",
              "  </thead>\n",
              "  <tbody>\n",
              "    <tr>\n",
              "      <th>0</th>\n",
              "      <td>A: ['Discount'] &gt; 0</td>\n",
              "      <td>normaltest</td>\n",
              "      <td>Normality</td>\n",
              "      <td>261.528012</td>\n",
              "      <td>1.621488e-57</td>\n",
              "    </tr>\n",
              "    <tr>\n",
              "      <th>1</th>\n",
              "      <td>B: ['Discount'] == 0</td>\n",
              "      <td>normaltest</td>\n",
              "      <td>Normality</td>\n",
              "      <td>544.577005</td>\n",
              "      <td>5.579637e-119</td>\n",
              "    </tr>\n",
              "    <tr>\n",
              "      <th>2</th>\n",
              "      <td>A&amp;B</td>\n",
              "      <td>stats.levene</td>\n",
              "      <td>Equal Var</td>\n",
              "      <td>14.832672</td>\n",
              "      <td>1.209138e-04</td>\n",
              "    </tr>\n",
              "  </tbody>\n",
              "</table>\n",
              "</div>"
            ],
            "text/plain": [
              "                 Group:      TestName Test Purpose        stat              p\n",
              "0   A: ['Discount'] > 0    normaltest    Normality  261.528012   1.621488e-57\n",
              "1  B: ['Discount'] == 0    normaltest    Normality  544.577005  5.579637e-119\n",
              "2                   A&B  stats.levene    Equal Var   14.832672   1.209138e-04"
            ]
          },
          "metadata": {
            "tags": []
          },
          "execution_count": 343
        }
      ]
    },
    {
      "metadata": {
        "colab_type": "text",
        "id": "Zq38mtURQaoN"
      },
      "cell_type": "markdown",
      "source": [
        "### Conclusions so far...\n",
        "- We failed both normaltests and homo variance\n",
        "- Need non-parametric 2sample ttest\n",
        "    - [**Mann-Whitney U test**](https://docs.scipy.org/doc/scipy/reference/generated/scipy.stats.mannwhitneyu.html)"
      ]
    },
    {
      "metadata": {
        "id": "NqYI47YbBRoY",
        "colab_type": "code",
        "colab": {}
      },
      "cell_type": "code",
      "source": [
        "#### Mann-Whitney U test"
      ],
      "execution_count": 0,
      "outputs": []
    },
    {
      "metadata": {
        "colab_type": "code",
        "id": "z0cdkzP5S9SX",
        "colab": {}
      },
      "cell_type": "code",
      "source": [
        "# Mann Whitney U test+\n",
        "import scipy.stats as stats\n",
        "# arrA was discounted, arrB was non-discounted\n",
        "test_to_run = 'stats.mannwhitneyu'\n",
        "stat, p = eval(test_to_run)(arrA,arrB,alternative='greater')\n",
        "stat, p\n",
        "H1_tests.append(['A vs. B',test_to_run, 'H1_sig', stat,p])"
      ],
      "execution_count": 0,
      "outputs": []
    },
    {
      "metadata": {
        "colab_type": "code",
        "id": "v1CpLOgKTVMw",
        "outputId": "206b60c5-3bd5-4502-e2d5-7e1a815e55dd",
        "colab": {
          "base_uri": "https://localhost:8080/",
          "height": 164
        }
      },
      "cell_type": "code",
      "source": [
        "list2df(H1_tests)"
      ],
      "execution_count": 346,
      "outputs": [
        {
          "output_type": "execute_result",
          "data": {
            "text/html": [
              "<div>\n",
              "<style scoped>\n",
              "    .dataframe tbody tr th:only-of-type {\n",
              "        vertical-align: middle;\n",
              "    }\n",
              "\n",
              "    .dataframe tbody tr th {\n",
              "        vertical-align: top;\n",
              "    }\n",
              "\n",
              "    .dataframe thead th {\n",
              "        text-align: right;\n",
              "    }\n",
              "</style>\n",
              "<table border=\"1\" class=\"dataframe\">\n",
              "  <thead>\n",
              "    <tr style=\"text-align: right;\">\n",
              "      <th></th>\n",
              "      <th>Group:</th>\n",
              "      <th>TestName</th>\n",
              "      <th>Test Purpose</th>\n",
              "      <th>stat</th>\n",
              "      <th>p</th>\n",
              "    </tr>\n",
              "  </thead>\n",
              "  <tbody>\n",
              "    <tr>\n",
              "      <th>0</th>\n",
              "      <td>A: ['Discount'] &gt; 0</td>\n",
              "      <td>normaltest</td>\n",
              "      <td>Normality</td>\n",
              "      <td>261.528012</td>\n",
              "      <td>1.621488e-57</td>\n",
              "    </tr>\n",
              "    <tr>\n",
              "      <th>1</th>\n",
              "      <td>B: ['Discount'] == 0</td>\n",
              "      <td>normaltest</td>\n",
              "      <td>Normality</td>\n",
              "      <td>544.577005</td>\n",
              "      <td>5.579637e-119</td>\n",
              "    </tr>\n",
              "    <tr>\n",
              "      <th>2</th>\n",
              "      <td>A&amp;B</td>\n",
              "      <td>stats.levene</td>\n",
              "      <td>Equal Var</td>\n",
              "      <td>14.832672</td>\n",
              "      <td>1.209138e-04</td>\n",
              "    </tr>\n",
              "    <tr>\n",
              "      <th>3</th>\n",
              "      <td>A vs. B</td>\n",
              "      <td>stats.mannwhitneyu</td>\n",
              "      <td>H1_sig</td>\n",
              "      <td>642105.000000</td>\n",
              "      <td>6.629382e-11</td>\n",
              "    </tr>\n",
              "  </tbody>\n",
              "</table>\n",
              "</div>"
            ],
            "text/plain": [
              "                 Group:            TestName Test Purpose           stat  \\\n",
              "0   A: ['Discount'] > 0          normaltest    Normality     261.528012   \n",
              "1  B: ['Discount'] == 0          normaltest    Normality     544.577005   \n",
              "2                   A&B        stats.levene    Equal Var      14.832672   \n",
              "3               A vs. B  stats.mannwhitneyu       H1_sig  642105.000000   \n",
              "\n",
              "               p  \n",
              "0   1.621488e-57  \n",
              "1  5.579637e-119  \n",
              "2   1.209138e-04  \n",
              "3   6.629382e-11  "
            ]
          },
          "metadata": {
            "tags": []
          },
          "execution_count": 346
        }
      ]
    },
    {
      "metadata": {
        "id": "fhPYorQYBRof",
        "colab_type": "text"
      },
      "cell_type": "markdown",
      "source": [
        "#### Calculating Effect Size"
      ]
    },
    {
      "metadata": {
        "id": "YNNnHq2TBRof",
        "colab_type": "code",
        "outputId": "2305e87f-ff0c-4d3d-b1b4-6c92b61c494e",
        "colab": {
          "base_uri": "https://localhost:8080/",
          "height": 35
        }
      },
      "cell_type": "code",
      "source": [
        "# Calculating Cohens d\n",
        "d = Cohen_d(arrA,arrB)\n",
        "print(f\"Cohen's d={round(d,3)}\")"
      ],
      "execution_count": 347,
      "outputs": [
        {
          "output_type": "stream",
          "text": [
            "Cohen's d=0.286\n"
          ],
          "name": "stdout"
        }
      ]
    },
    {
      "metadata": {
        "colab_type": "text",
        "id": "SUw1pUtfYNy7"
      },
      "cell_type": "markdown",
      "source": [
        "## BOOKMARK <img src=\"https://www.dropbox.com/s/6xqzendi1iyzls8/bookmark.png?raw=1\" width=25> \n"
      ]
    },
    {
      "metadata": {
        "colab_type": "text",
        "id": "wHEx112CTia4"
      },
      "cell_type": "markdown",
      "source": [
        "**We have a significant Mann Whitney U results, but we have yet to say anything about**\n",
        "\n",
        "- We should now run post-hoc tests using pairwise Tukey's tests \n",
        "- Maybe best to run them so that the full price group is run vs the levels of discount pairwise (But not to test pairwise within the levels of discounts)"
      ]
    },
    {
      "metadata": {
        "id": "Tlxz4CgRBRoj",
        "colab_type": "text"
      },
      "cell_type": "markdown",
      "source": [
        "## ***Aim 3: To perform post-hoc pairwise comparisons for level of discount***"
      ]
    },
    {
      "metadata": {
        "colab_type": "code",
        "id": "NmGwt-GyUDFF",
        "outputId": "b1ecc541-bd11-4d46-e20b-d7aec30aa491",
        "colab": {
          "base_uri": "https://localhost:8080/",
          "height": 370
        }
      },
      "cell_type": "code",
      "source": [
        "pd.DataFrame(df['Discount'].value_counts().sort_index())"
      ],
      "execution_count": 348,
      "outputs": [
        {
          "output_type": "execute_result",
          "data": {
            "text/html": [
              "<div>\n",
              "<style scoped>\n",
              "    .dataframe tbody tr th:only-of-type {\n",
              "        vertical-align: middle;\n",
              "    }\n",
              "\n",
              "    .dataframe tbody tr th {\n",
              "        vertical-align: top;\n",
              "    }\n",
              "\n",
              "    .dataframe thead th {\n",
              "        text-align: right;\n",
              "    }\n",
              "</style>\n",
              "<table border=\"1\" class=\"dataframe\">\n",
              "  <thead>\n",
              "    <tr style=\"text-align: right;\">\n",
              "      <th></th>\n",
              "      <th>Discount</th>\n",
              "    </tr>\n",
              "  </thead>\n",
              "  <tbody>\n",
              "    <tr>\n",
              "      <th>0.00</th>\n",
              "      <td>1317</td>\n",
              "    </tr>\n",
              "    <tr>\n",
              "      <th>0.01</th>\n",
              "      <td>1</td>\n",
              "    </tr>\n",
              "    <tr>\n",
              "      <th>0.02</th>\n",
              "      <td>2</td>\n",
              "    </tr>\n",
              "    <tr>\n",
              "      <th>0.03</th>\n",
              "      <td>3</td>\n",
              "    </tr>\n",
              "    <tr>\n",
              "      <th>0.04</th>\n",
              "      <td>1</td>\n",
              "    </tr>\n",
              "    <tr>\n",
              "      <th>0.05</th>\n",
              "      <td>185</td>\n",
              "    </tr>\n",
              "    <tr>\n",
              "      <th>0.06</th>\n",
              "      <td>1</td>\n",
              "    </tr>\n",
              "    <tr>\n",
              "      <th>0.10</th>\n",
              "      <td>173</td>\n",
              "    </tr>\n",
              "    <tr>\n",
              "      <th>0.15</th>\n",
              "      <td>157</td>\n",
              "    </tr>\n",
              "    <tr>\n",
              "      <th>0.20</th>\n",
              "      <td>161</td>\n",
              "    </tr>\n",
              "    <tr>\n",
              "      <th>0.25</th>\n",
              "      <td>154</td>\n",
              "    </tr>\n",
              "  </tbody>\n",
              "</table>\n",
              "</div>"
            ],
            "text/plain": [
              "      Discount\n",
              "0.00      1317\n",
              "0.01         1\n",
              "0.02         2\n",
              "0.03         3\n",
              "0.04         1\n",
              "0.05       185\n",
              "0.06         1\n",
              "0.10       173\n",
              "0.15       157\n",
              "0.20       161\n",
              "0.25       154"
            ]
          },
          "metadata": {
            "tags": []
          },
          "execution_count": 348
        }
      ]
    },
    {
      "metadata": {
        "colab_type": "code",
        "id": "0Vr2q4dFYdEe",
        "outputId": "66184799-e9d5-45ab-dd91-ceff2c790e8e",
        "colab": {
          "base_uri": "https://localhost:8080/",
          "height": 444
        }
      },
      "cell_type": "code",
      "source": [
        "df.info()"
      ],
      "execution_count": 349,
      "outputs": [
        {
          "output_type": "stream",
          "text": [
            "<class 'pandas.core.frame.DataFrame'>\n",
            "Int64Index: 2155 entries, 0 to 2154\n",
            "Data columns (total 19 columns):\n",
            "Id                2155 non-null object\n",
            "OrderId           2155 non-null int64\n",
            "ProductId         2155 non-null int64\n",
            "UnitPrice         2155 non-null float64\n",
            "Quantity          2155 non-null int64\n",
            "Discount          2155 non-null float64\n",
            "CustomerId        2155 non-null object\n",
            "EmployeeId        2155 non-null int64\n",
            "OrderDate         2155 non-null object\n",
            "RequiredDate      2155 non-null object\n",
            "ShippedDate       2082 non-null object\n",
            "ShipVia           2155 non-null int64\n",
            "Freight           2155 non-null float64\n",
            "ShipName          2155 non-null object\n",
            "ShipAddress       2155 non-null object\n",
            "ShipCity          2155 non-null object\n",
            "ShipRegion        2155 non-null object\n",
            "ShipPostalCode    2100 non-null object\n",
            "ShipCountry       2155 non-null object\n",
            "dtypes: float64(3), int64(5), object(11)\n",
            "memory usage: 336.7+ KB\n"
          ],
          "name": "stdout"
        }
      ]
    },
    {
      "metadata": {
        "colab_type": "text",
        "id": "sNKUUYlR7WDu"
      },
      "cell_type": "markdown",
      "source": [
        "### Creating Discount Level Variables for Tukey\n",
        "- Adding LabelEncoding\n",
        "- Question: do we want to have \"None\" encoded? Not sure. Would need to replace the current np.NaN with \"NaN\" first or likely will return error"
      ]
    },
    {
      "metadata": {
        "colab_type": "code",
        "id": "C-DVFhJMk_yb",
        "outputId": "e32a0cd7-16b1-4b55-b932-ad18d8eced6e",
        "colab": {
          "base_uri": "https://localhost:8080/",
          "height": 124
        }
      },
      "cell_type": "code",
      "source": [
        "# intervalIndex = pd.IntervalIndex(())\n",
        "df_cut = df.copy().drop('Discount',axis=1)\n",
        "\n",
        "new_discounts = pd.cut(df['Discount'],[-0.05,0.0,0.05,0.10,0.15,0.20,0.25,0.3], include_lowest=False)\n",
        "new_discouts = new_discounts.cat.as_ordered(inplace=True)\n",
        "df_disc_codes  = new_discounts.cat.codes\n",
        "\n",
        "# Save code info for later\n",
        "disc_intervals = new_discounts.unique().sort_values()\n",
        "disc_codes = sorted(df_disc_codes.unique())\n",
        "\n",
        "# Save the intervals \n",
        "labelCodes = tuple(zip(disc_intervals,disc_codes))\n",
        "labelCodes"
      ],
      "execution_count": 350,
      "outputs": [
        {
          "output_type": "execute_result",
          "data": {
            "text/plain": [
              "((Interval(-0.05, 0.0, closed='right'), 0),\n",
              " (Interval(0.0, 0.05, closed='right'), 1),\n",
              " (Interval(0.05, 0.1, closed='right'), 2),\n",
              " (Interval(0.1, 0.15, closed='right'), 3),\n",
              " (Interval(0.15, 0.2, closed='right'), 4),\n",
              " (Interval(0.2, 0.25, closed='right'), 5))"
            ]
          },
          "metadata": {
            "tags": []
          },
          "execution_count": 350
        }
      ]
    },
    {
      "metadata": {
        "colab_type": "code",
        "id": "OtMWYl-sp2qJ",
        "outputId": "68fb36d3-a8fc-4018-dbf5-ba1e9d7527ea",
        "colab": {
          "base_uri": "https://localhost:8080/",
          "height": 580
        }
      },
      "cell_type": "code",
      "source": [
        "# Before encoding\n",
        "df_H1codes = pd.concat([df_cut,new_discounts,df_disc_codes],axis=1)\n",
        "df_H1codes.head(10)"
      ],
      "execution_count": 351,
      "outputs": [
        {
          "output_type": "execute_result",
          "data": {
            "text/html": [
              "<div>\n",
              "<style scoped>\n",
              "    .dataframe tbody tr th:only-of-type {\n",
              "        vertical-align: middle;\n",
              "    }\n",
              "\n",
              "    .dataframe tbody tr th {\n",
              "        vertical-align: top;\n",
              "    }\n",
              "\n",
              "    .dataframe thead th {\n",
              "        text-align: right;\n",
              "    }\n",
              "</style>\n",
              "<table border=\"1\" class=\"dataframe\">\n",
              "  <thead>\n",
              "    <tr style=\"text-align: right;\">\n",
              "      <th></th>\n",
              "      <th>Id</th>\n",
              "      <th>OrderId</th>\n",
              "      <th>ProductId</th>\n",
              "      <th>UnitPrice</th>\n",
              "      <th>Quantity</th>\n",
              "      <th>CustomerId</th>\n",
              "      <th>EmployeeId</th>\n",
              "      <th>OrderDate</th>\n",
              "      <th>RequiredDate</th>\n",
              "      <th>ShippedDate</th>\n",
              "      <th>ShipVia</th>\n",
              "      <th>Freight</th>\n",
              "      <th>ShipName</th>\n",
              "      <th>ShipAddress</th>\n",
              "      <th>ShipCity</th>\n",
              "      <th>ShipRegion</th>\n",
              "      <th>ShipPostalCode</th>\n",
              "      <th>ShipCountry</th>\n",
              "      <th>Discount</th>\n",
              "      <th>0</th>\n",
              "    </tr>\n",
              "  </thead>\n",
              "  <tbody>\n",
              "    <tr>\n",
              "      <th>0</th>\n",
              "      <td>10248/11</td>\n",
              "      <td>10248</td>\n",
              "      <td>11</td>\n",
              "      <td>14.0</td>\n",
              "      <td>12</td>\n",
              "      <td>VINET</td>\n",
              "      <td>5</td>\n",
              "      <td>2012-07-04</td>\n",
              "      <td>2012-08-01</td>\n",
              "      <td>2012-07-16</td>\n",
              "      <td>3</td>\n",
              "      <td>32.38</td>\n",
              "      <td>Vins et alcools Chevalier</td>\n",
              "      <td>59 rue de l'Abbaye</td>\n",
              "      <td>Reims</td>\n",
              "      <td>Western Europe</td>\n",
              "      <td>51100</td>\n",
              "      <td>France</td>\n",
              "      <td>(-0.05, 0.0]</td>\n",
              "      <td>0</td>\n",
              "    </tr>\n",
              "    <tr>\n",
              "      <th>1</th>\n",
              "      <td>10248/42</td>\n",
              "      <td>10248</td>\n",
              "      <td>42</td>\n",
              "      <td>9.8</td>\n",
              "      <td>10</td>\n",
              "      <td>VINET</td>\n",
              "      <td>5</td>\n",
              "      <td>2012-07-04</td>\n",
              "      <td>2012-08-01</td>\n",
              "      <td>2012-07-16</td>\n",
              "      <td>3</td>\n",
              "      <td>32.38</td>\n",
              "      <td>Vins et alcools Chevalier</td>\n",
              "      <td>59 rue de l'Abbaye</td>\n",
              "      <td>Reims</td>\n",
              "      <td>Western Europe</td>\n",
              "      <td>51100</td>\n",
              "      <td>France</td>\n",
              "      <td>(-0.05, 0.0]</td>\n",
              "      <td>0</td>\n",
              "    </tr>\n",
              "    <tr>\n",
              "      <th>2</th>\n",
              "      <td>10248/72</td>\n",
              "      <td>10248</td>\n",
              "      <td>72</td>\n",
              "      <td>34.8</td>\n",
              "      <td>5</td>\n",
              "      <td>VINET</td>\n",
              "      <td>5</td>\n",
              "      <td>2012-07-04</td>\n",
              "      <td>2012-08-01</td>\n",
              "      <td>2012-07-16</td>\n",
              "      <td>3</td>\n",
              "      <td>32.38</td>\n",
              "      <td>Vins et alcools Chevalier</td>\n",
              "      <td>59 rue de l'Abbaye</td>\n",
              "      <td>Reims</td>\n",
              "      <td>Western Europe</td>\n",
              "      <td>51100</td>\n",
              "      <td>France</td>\n",
              "      <td>(-0.05, 0.0]</td>\n",
              "      <td>0</td>\n",
              "    </tr>\n",
              "    <tr>\n",
              "      <th>3</th>\n",
              "      <td>10249/14</td>\n",
              "      <td>10249</td>\n",
              "      <td>14</td>\n",
              "      <td>18.6</td>\n",
              "      <td>9</td>\n",
              "      <td>TOMSP</td>\n",
              "      <td>6</td>\n",
              "      <td>2012-07-05</td>\n",
              "      <td>2012-08-16</td>\n",
              "      <td>2012-07-10</td>\n",
              "      <td>1</td>\n",
              "      <td>11.61</td>\n",
              "      <td>Toms Spezialitäten</td>\n",
              "      <td>Luisenstr. 48</td>\n",
              "      <td>Münster</td>\n",
              "      <td>Western Europe</td>\n",
              "      <td>44087</td>\n",
              "      <td>Germany</td>\n",
              "      <td>(-0.05, 0.0]</td>\n",
              "      <td>0</td>\n",
              "    </tr>\n",
              "    <tr>\n",
              "      <th>4</th>\n",
              "      <td>10249/51</td>\n",
              "      <td>10249</td>\n",
              "      <td>51</td>\n",
              "      <td>42.4</td>\n",
              "      <td>40</td>\n",
              "      <td>TOMSP</td>\n",
              "      <td>6</td>\n",
              "      <td>2012-07-05</td>\n",
              "      <td>2012-08-16</td>\n",
              "      <td>2012-07-10</td>\n",
              "      <td>1</td>\n",
              "      <td>11.61</td>\n",
              "      <td>Toms Spezialitäten</td>\n",
              "      <td>Luisenstr. 48</td>\n",
              "      <td>Münster</td>\n",
              "      <td>Western Europe</td>\n",
              "      <td>44087</td>\n",
              "      <td>Germany</td>\n",
              "      <td>(-0.05, 0.0]</td>\n",
              "      <td>0</td>\n",
              "    </tr>\n",
              "    <tr>\n",
              "      <th>5</th>\n",
              "      <td>10250/41</td>\n",
              "      <td>10250</td>\n",
              "      <td>41</td>\n",
              "      <td>7.7</td>\n",
              "      <td>10</td>\n",
              "      <td>HANAR</td>\n",
              "      <td>4</td>\n",
              "      <td>2012-07-08</td>\n",
              "      <td>2012-08-05</td>\n",
              "      <td>2012-07-12</td>\n",
              "      <td>2</td>\n",
              "      <td>65.83</td>\n",
              "      <td>Hanari Carnes</td>\n",
              "      <td>Rua do Paço, 67</td>\n",
              "      <td>Rio de Janeiro</td>\n",
              "      <td>South America</td>\n",
              "      <td>05454-876</td>\n",
              "      <td>Brazil</td>\n",
              "      <td>(-0.05, 0.0]</td>\n",
              "      <td>0</td>\n",
              "    </tr>\n",
              "    <tr>\n",
              "      <th>6</th>\n",
              "      <td>10250/51</td>\n",
              "      <td>10250</td>\n",
              "      <td>51</td>\n",
              "      <td>42.4</td>\n",
              "      <td>35</td>\n",
              "      <td>HANAR</td>\n",
              "      <td>4</td>\n",
              "      <td>2012-07-08</td>\n",
              "      <td>2012-08-05</td>\n",
              "      <td>2012-07-12</td>\n",
              "      <td>2</td>\n",
              "      <td>65.83</td>\n",
              "      <td>Hanari Carnes</td>\n",
              "      <td>Rua do Paço, 67</td>\n",
              "      <td>Rio de Janeiro</td>\n",
              "      <td>South America</td>\n",
              "      <td>05454-876</td>\n",
              "      <td>Brazil</td>\n",
              "      <td>(0.1, 0.15]</td>\n",
              "      <td>3</td>\n",
              "    </tr>\n",
              "    <tr>\n",
              "      <th>7</th>\n",
              "      <td>10250/65</td>\n",
              "      <td>10250</td>\n",
              "      <td>65</td>\n",
              "      <td>16.8</td>\n",
              "      <td>15</td>\n",
              "      <td>HANAR</td>\n",
              "      <td>4</td>\n",
              "      <td>2012-07-08</td>\n",
              "      <td>2012-08-05</td>\n",
              "      <td>2012-07-12</td>\n",
              "      <td>2</td>\n",
              "      <td>65.83</td>\n",
              "      <td>Hanari Carnes</td>\n",
              "      <td>Rua do Paço, 67</td>\n",
              "      <td>Rio de Janeiro</td>\n",
              "      <td>South America</td>\n",
              "      <td>05454-876</td>\n",
              "      <td>Brazil</td>\n",
              "      <td>(0.1, 0.15]</td>\n",
              "      <td>3</td>\n",
              "    </tr>\n",
              "    <tr>\n",
              "      <th>8</th>\n",
              "      <td>10251/22</td>\n",
              "      <td>10251</td>\n",
              "      <td>22</td>\n",
              "      <td>16.8</td>\n",
              "      <td>6</td>\n",
              "      <td>VICTE</td>\n",
              "      <td>3</td>\n",
              "      <td>2012-07-08</td>\n",
              "      <td>2012-08-05</td>\n",
              "      <td>2012-07-15</td>\n",
              "      <td>1</td>\n",
              "      <td>41.34</td>\n",
              "      <td>Victuailles en stock</td>\n",
              "      <td>2, rue du Commerce</td>\n",
              "      <td>Lyon</td>\n",
              "      <td>Western Europe</td>\n",
              "      <td>69004</td>\n",
              "      <td>France</td>\n",
              "      <td>(0.0, 0.05]</td>\n",
              "      <td>1</td>\n",
              "    </tr>\n",
              "    <tr>\n",
              "      <th>9</th>\n",
              "      <td>10251/57</td>\n",
              "      <td>10251</td>\n",
              "      <td>57</td>\n",
              "      <td>15.6</td>\n",
              "      <td>15</td>\n",
              "      <td>VICTE</td>\n",
              "      <td>3</td>\n",
              "      <td>2012-07-08</td>\n",
              "      <td>2012-08-05</td>\n",
              "      <td>2012-07-15</td>\n",
              "      <td>1</td>\n",
              "      <td>41.34</td>\n",
              "      <td>Victuailles en stock</td>\n",
              "      <td>2, rue du Commerce</td>\n",
              "      <td>Lyon</td>\n",
              "      <td>Western Europe</td>\n",
              "      <td>69004</td>\n",
              "      <td>France</td>\n",
              "      <td>(0.0, 0.05]</td>\n",
              "      <td>1</td>\n",
              "    </tr>\n",
              "  </tbody>\n",
              "</table>\n",
              "</div>"
            ],
            "text/plain": [
              "         Id  OrderId  ProductId  UnitPrice  Quantity CustomerId  EmployeeId  \\\n",
              "0  10248/11    10248         11       14.0        12      VINET           5   \n",
              "1  10248/42    10248         42        9.8        10      VINET           5   \n",
              "2  10248/72    10248         72       34.8         5      VINET           5   \n",
              "3  10249/14    10249         14       18.6         9      TOMSP           6   \n",
              "4  10249/51    10249         51       42.4        40      TOMSP           6   \n",
              "5  10250/41    10250         41        7.7        10      HANAR           4   \n",
              "6  10250/51    10250         51       42.4        35      HANAR           4   \n",
              "7  10250/65    10250         65       16.8        15      HANAR           4   \n",
              "8  10251/22    10251         22       16.8         6      VICTE           3   \n",
              "9  10251/57    10251         57       15.6        15      VICTE           3   \n",
              "\n",
              "    OrderDate RequiredDate ShippedDate  ShipVia  Freight  \\\n",
              "0  2012-07-04   2012-08-01  2012-07-16        3    32.38   \n",
              "1  2012-07-04   2012-08-01  2012-07-16        3    32.38   \n",
              "2  2012-07-04   2012-08-01  2012-07-16        3    32.38   \n",
              "3  2012-07-05   2012-08-16  2012-07-10        1    11.61   \n",
              "4  2012-07-05   2012-08-16  2012-07-10        1    11.61   \n",
              "5  2012-07-08   2012-08-05  2012-07-12        2    65.83   \n",
              "6  2012-07-08   2012-08-05  2012-07-12        2    65.83   \n",
              "7  2012-07-08   2012-08-05  2012-07-12        2    65.83   \n",
              "8  2012-07-08   2012-08-05  2012-07-15        1    41.34   \n",
              "9  2012-07-08   2012-08-05  2012-07-15        1    41.34   \n",
              "\n",
              "                    ShipName         ShipAddress        ShipCity  \\\n",
              "0  Vins et alcools Chevalier  59 rue de l'Abbaye           Reims   \n",
              "1  Vins et alcools Chevalier  59 rue de l'Abbaye           Reims   \n",
              "2  Vins et alcools Chevalier  59 rue de l'Abbaye           Reims   \n",
              "3         Toms Spezialitäten       Luisenstr. 48         Münster   \n",
              "4         Toms Spezialitäten       Luisenstr. 48         Münster   \n",
              "5              Hanari Carnes     Rua do Paço, 67  Rio de Janeiro   \n",
              "6              Hanari Carnes     Rua do Paço, 67  Rio de Janeiro   \n",
              "7              Hanari Carnes     Rua do Paço, 67  Rio de Janeiro   \n",
              "8       Victuailles en stock  2, rue du Commerce            Lyon   \n",
              "9       Victuailles en stock  2, rue du Commerce            Lyon   \n",
              "\n",
              "       ShipRegion ShipPostalCode ShipCountry      Discount  0  \n",
              "0  Western Europe          51100      France  (-0.05, 0.0]  0  \n",
              "1  Western Europe          51100      France  (-0.05, 0.0]  0  \n",
              "2  Western Europe          51100      France  (-0.05, 0.0]  0  \n",
              "3  Western Europe          44087     Germany  (-0.05, 0.0]  0  \n",
              "4  Western Europe          44087     Germany  (-0.05, 0.0]  0  \n",
              "5   South America      05454-876      Brazil  (-0.05, 0.0]  0  \n",
              "6   South America      05454-876      Brazil   (0.1, 0.15]  3  \n",
              "7   South America      05454-876      Brazil   (0.1, 0.15]  3  \n",
              "8  Western Europe          69004      France   (0.0, 0.05]  1  \n",
              "9  Western Europe          69004      France   (0.0, 0.05]  1  "
            ]
          },
          "metadata": {
            "tags": []
          },
          "execution_count": 351
        }
      ]
    },
    {
      "metadata": {
        "colab_type": "code",
        "id": "NIDghtaWjKKB",
        "outputId": "201e4eb3-86ef-488f-9ea2-93f23a052b83",
        "colab": {
          "base_uri": "https://localhost:8080/",
          "height": 349
        }
      },
      "cell_type": "code",
      "source": [
        "colnames = list(df_H1codes.columns)\n",
        "colnames[-1] = 'DiscSize'\n",
        "df_H1codes.columns = colnames\n",
        "df_H1codes.head()"
      ],
      "execution_count": 352,
      "outputs": [
        {
          "output_type": "execute_result",
          "data": {
            "text/html": [
              "<div>\n",
              "<style scoped>\n",
              "    .dataframe tbody tr th:only-of-type {\n",
              "        vertical-align: middle;\n",
              "    }\n",
              "\n",
              "    .dataframe tbody tr th {\n",
              "        vertical-align: top;\n",
              "    }\n",
              "\n",
              "    .dataframe thead th {\n",
              "        text-align: right;\n",
              "    }\n",
              "</style>\n",
              "<table border=\"1\" class=\"dataframe\">\n",
              "  <thead>\n",
              "    <tr style=\"text-align: right;\">\n",
              "      <th></th>\n",
              "      <th>Id</th>\n",
              "      <th>OrderId</th>\n",
              "      <th>ProductId</th>\n",
              "      <th>UnitPrice</th>\n",
              "      <th>Quantity</th>\n",
              "      <th>CustomerId</th>\n",
              "      <th>EmployeeId</th>\n",
              "      <th>OrderDate</th>\n",
              "      <th>RequiredDate</th>\n",
              "      <th>ShippedDate</th>\n",
              "      <th>ShipVia</th>\n",
              "      <th>Freight</th>\n",
              "      <th>ShipName</th>\n",
              "      <th>ShipAddress</th>\n",
              "      <th>ShipCity</th>\n",
              "      <th>ShipRegion</th>\n",
              "      <th>ShipPostalCode</th>\n",
              "      <th>ShipCountry</th>\n",
              "      <th>Discount</th>\n",
              "      <th>DiscSize</th>\n",
              "    </tr>\n",
              "  </thead>\n",
              "  <tbody>\n",
              "    <tr>\n",
              "      <th>0</th>\n",
              "      <td>10248/11</td>\n",
              "      <td>10248</td>\n",
              "      <td>11</td>\n",
              "      <td>14.0</td>\n",
              "      <td>12</td>\n",
              "      <td>VINET</td>\n",
              "      <td>5</td>\n",
              "      <td>2012-07-04</td>\n",
              "      <td>2012-08-01</td>\n",
              "      <td>2012-07-16</td>\n",
              "      <td>3</td>\n",
              "      <td>32.38</td>\n",
              "      <td>Vins et alcools Chevalier</td>\n",
              "      <td>59 rue de l'Abbaye</td>\n",
              "      <td>Reims</td>\n",
              "      <td>Western Europe</td>\n",
              "      <td>51100</td>\n",
              "      <td>France</td>\n",
              "      <td>(-0.05, 0.0]</td>\n",
              "      <td>0</td>\n",
              "    </tr>\n",
              "    <tr>\n",
              "      <th>1</th>\n",
              "      <td>10248/42</td>\n",
              "      <td>10248</td>\n",
              "      <td>42</td>\n",
              "      <td>9.8</td>\n",
              "      <td>10</td>\n",
              "      <td>VINET</td>\n",
              "      <td>5</td>\n",
              "      <td>2012-07-04</td>\n",
              "      <td>2012-08-01</td>\n",
              "      <td>2012-07-16</td>\n",
              "      <td>3</td>\n",
              "      <td>32.38</td>\n",
              "      <td>Vins et alcools Chevalier</td>\n",
              "      <td>59 rue de l'Abbaye</td>\n",
              "      <td>Reims</td>\n",
              "      <td>Western Europe</td>\n",
              "      <td>51100</td>\n",
              "      <td>France</td>\n",
              "      <td>(-0.05, 0.0]</td>\n",
              "      <td>0</td>\n",
              "    </tr>\n",
              "    <tr>\n",
              "      <th>2</th>\n",
              "      <td>10248/72</td>\n",
              "      <td>10248</td>\n",
              "      <td>72</td>\n",
              "      <td>34.8</td>\n",
              "      <td>5</td>\n",
              "      <td>VINET</td>\n",
              "      <td>5</td>\n",
              "      <td>2012-07-04</td>\n",
              "      <td>2012-08-01</td>\n",
              "      <td>2012-07-16</td>\n",
              "      <td>3</td>\n",
              "      <td>32.38</td>\n",
              "      <td>Vins et alcools Chevalier</td>\n",
              "      <td>59 rue de l'Abbaye</td>\n",
              "      <td>Reims</td>\n",
              "      <td>Western Europe</td>\n",
              "      <td>51100</td>\n",
              "      <td>France</td>\n",
              "      <td>(-0.05, 0.0]</td>\n",
              "      <td>0</td>\n",
              "    </tr>\n",
              "    <tr>\n",
              "      <th>3</th>\n",
              "      <td>10249/14</td>\n",
              "      <td>10249</td>\n",
              "      <td>14</td>\n",
              "      <td>18.6</td>\n",
              "      <td>9</td>\n",
              "      <td>TOMSP</td>\n",
              "      <td>6</td>\n",
              "      <td>2012-07-05</td>\n",
              "      <td>2012-08-16</td>\n",
              "      <td>2012-07-10</td>\n",
              "      <td>1</td>\n",
              "      <td>11.61</td>\n",
              "      <td>Toms Spezialitäten</td>\n",
              "      <td>Luisenstr. 48</td>\n",
              "      <td>Münster</td>\n",
              "      <td>Western Europe</td>\n",
              "      <td>44087</td>\n",
              "      <td>Germany</td>\n",
              "      <td>(-0.05, 0.0]</td>\n",
              "      <td>0</td>\n",
              "    </tr>\n",
              "    <tr>\n",
              "      <th>4</th>\n",
              "      <td>10249/51</td>\n",
              "      <td>10249</td>\n",
              "      <td>51</td>\n",
              "      <td>42.4</td>\n",
              "      <td>40</td>\n",
              "      <td>TOMSP</td>\n",
              "      <td>6</td>\n",
              "      <td>2012-07-05</td>\n",
              "      <td>2012-08-16</td>\n",
              "      <td>2012-07-10</td>\n",
              "      <td>1</td>\n",
              "      <td>11.61</td>\n",
              "      <td>Toms Spezialitäten</td>\n",
              "      <td>Luisenstr. 48</td>\n",
              "      <td>Münster</td>\n",
              "      <td>Western Europe</td>\n",
              "      <td>44087</td>\n",
              "      <td>Germany</td>\n",
              "      <td>(-0.05, 0.0]</td>\n",
              "      <td>0</td>\n",
              "    </tr>\n",
              "  </tbody>\n",
              "</table>\n",
              "</div>"
            ],
            "text/plain": [
              "         Id  OrderId  ProductId  UnitPrice  Quantity CustomerId  EmployeeId  \\\n",
              "0  10248/11    10248         11       14.0        12      VINET           5   \n",
              "1  10248/42    10248         42        9.8        10      VINET           5   \n",
              "2  10248/72    10248         72       34.8         5      VINET           5   \n",
              "3  10249/14    10249         14       18.6         9      TOMSP           6   \n",
              "4  10249/51    10249         51       42.4        40      TOMSP           6   \n",
              "\n",
              "    OrderDate RequiredDate ShippedDate  ShipVia  Freight  \\\n",
              "0  2012-07-04   2012-08-01  2012-07-16        3    32.38   \n",
              "1  2012-07-04   2012-08-01  2012-07-16        3    32.38   \n",
              "2  2012-07-04   2012-08-01  2012-07-16        3    32.38   \n",
              "3  2012-07-05   2012-08-16  2012-07-10        1    11.61   \n",
              "4  2012-07-05   2012-08-16  2012-07-10        1    11.61   \n",
              "\n",
              "                    ShipName         ShipAddress ShipCity      ShipRegion  \\\n",
              "0  Vins et alcools Chevalier  59 rue de l'Abbaye    Reims  Western Europe   \n",
              "1  Vins et alcools Chevalier  59 rue de l'Abbaye    Reims  Western Europe   \n",
              "2  Vins et alcools Chevalier  59 rue de l'Abbaye    Reims  Western Europe   \n",
              "3         Toms Spezialitäten       Luisenstr. 48  Münster  Western Europe   \n",
              "4         Toms Spezialitäten       Luisenstr. 48  Münster  Western Europe   \n",
              "\n",
              "  ShipPostalCode ShipCountry      Discount  DiscSize  \n",
              "0          51100      France  (-0.05, 0.0]         0  \n",
              "1          51100      France  (-0.05, 0.0]         0  \n",
              "2          51100      France  (-0.05, 0.0]         0  \n",
              "3          44087     Germany  (-0.05, 0.0]         0  \n",
              "4          44087     Germany  (-0.05, 0.0]         0  "
            ]
          },
          "metadata": {
            "tags": []
          },
          "execution_count": 352
        }
      ]
    },
    {
      "metadata": {
        "colab_type": "text",
        "id": "Pq0W7aFQdt1O"
      },
      "cell_type": "markdown",
      "source": [
        "### Use Tukey's Pairwise Multiple Comparison test.\n",
        "```statsmodels.stats.multicomp.pairwise_tukeyhsd```"
      ]
    },
    {
      "metadata": {
        "colab_type": "code",
        "id": "NSrS7lQajjJy",
        "outputId": "0f010dfa-55b2-41eb-c595-af5f5b4833d3",
        "colab": {
          "base_uri": "https://localhost:8080/",
          "height": 372
        }
      },
      "cell_type": "code",
      "source": [
        "# Importing tukey's test\n",
        "from statsmodels.stats.multicomp import pairwise_tukeyhsd as tukey\n",
        "int_str = [str(x) for x in new_discounts]\n",
        "\n",
        "tukey_results =tukey(df_H1codes['Quantity'], int_str, 0.05)\n",
        "print(tukey_results.summary())"
      ],
      "execution_count": 353,
      "outputs": [
        {
          "output_type": "stream",
          "text": [
            "   Multiple Comparison of Means - Tukey HSD,FWER=0.05   \n",
            "========================================================\n",
            "   group1       group2   meandiff  lower   upper  reject\n",
            "--------------------------------------------------------\n",
            "(-0.05, 0.0] (0.0, 0.05]  5.3368   1.1841  9.4895  True \n",
            "(-0.05, 0.0] (0.05, 0.1]  3.3882  -0.9479  7.7243 False \n",
            "(-0.05, 0.0] (0.1, 0.15]  6.6669   2.1282 11.2056  True \n",
            "(-0.05, 0.0] (0.15, 0.2]  5.3096   0.8215  9.7977  True \n",
            "(-0.05, 0.0] (0.2, 0.25]  6.525    1.9469 11.1031  True \n",
            "(0.0, 0.05]  (0.05, 0.1] -1.9486  -7.5752  3.6779 False \n",
            "(0.0, 0.05]  (0.1, 0.15]  1.3301  -4.4541  7.1143 False \n",
            "(0.0, 0.05]  (0.15, 0.2] -0.0272  -5.7718  5.7173 False \n",
            "(0.0, 0.05]  (0.2, 0.25]  1.1882  -4.6269  7.0033 False \n",
            "(0.05, 0.1]  (0.1, 0.15]  3.2787  -2.6385  9.196  False \n",
            "(0.05, 0.1]  (0.15, 0.2]  1.9214  -3.9571  7.7999 False \n",
            "(0.05, 0.1]  (0.2, 0.25]  3.1368  -2.8106  9.0843 False \n",
            "(0.1, 0.15]  (0.15, 0.2] -1.3573  -7.3868  4.6722 False \n",
            "(0.1, 0.15]  (0.2, 0.25] -0.1419  -6.2387  5.9549 False \n",
            "(0.15, 0.2]  (0.2, 0.25]  1.2154  -4.8437  7.2746 False \n",
            "--------------------------------------------------------\n"
          ],
          "name": "stdout"
        }
      ]
    },
    {
      "metadata": {
        "colab_type": "code",
        "id": "j6-3co5F1NWz",
        "outputId": "436808f7-ca35-44c5-add5-fdd4f2d8f205",
        "colab": {
          "base_uri": "https://localhost:8080/",
          "height": 164
        }
      },
      "cell_type": "code",
      "source": [
        "# Save the results into a dataframe\n",
        "dfH_tukey = pd.DataFrame(data=tukey_results._results_table.data[1:], columns=tukey_results._results_table.data[0])\n",
        "dfH_tukey.loc[dfH_tukey['reject']==True]"
      ],
      "execution_count": 354,
      "outputs": [
        {
          "output_type": "execute_result",
          "data": {
            "text/html": [
              "<div>\n",
              "<style scoped>\n",
              "    .dataframe tbody tr th:only-of-type {\n",
              "        vertical-align: middle;\n",
              "    }\n",
              "\n",
              "    .dataframe tbody tr th {\n",
              "        vertical-align: top;\n",
              "    }\n",
              "\n",
              "    .dataframe thead th {\n",
              "        text-align: right;\n",
              "    }\n",
              "</style>\n",
              "<table border=\"1\" class=\"dataframe\">\n",
              "  <thead>\n",
              "    <tr style=\"text-align: right;\">\n",
              "      <th></th>\n",
              "      <th>group1</th>\n",
              "      <th>group2</th>\n",
              "      <th>meandiff</th>\n",
              "      <th>lower</th>\n",
              "      <th>upper</th>\n",
              "      <th>reject</th>\n",
              "    </tr>\n",
              "  </thead>\n",
              "  <tbody>\n",
              "    <tr>\n",
              "      <th>0</th>\n",
              "      <td>(-0.05, 0.0]</td>\n",
              "      <td>(0.0, 0.05]</td>\n",
              "      <td>5.3368</td>\n",
              "      <td>1.1841</td>\n",
              "      <td>9.4895</td>\n",
              "      <td>True</td>\n",
              "    </tr>\n",
              "    <tr>\n",
              "      <th>2</th>\n",
              "      <td>(-0.05, 0.0]</td>\n",
              "      <td>(0.1, 0.15]</td>\n",
              "      <td>6.6669</td>\n",
              "      <td>2.1282</td>\n",
              "      <td>11.2056</td>\n",
              "      <td>True</td>\n",
              "    </tr>\n",
              "    <tr>\n",
              "      <th>3</th>\n",
              "      <td>(-0.05, 0.0]</td>\n",
              "      <td>(0.15, 0.2]</td>\n",
              "      <td>5.3096</td>\n",
              "      <td>0.8215</td>\n",
              "      <td>9.7977</td>\n",
              "      <td>True</td>\n",
              "    </tr>\n",
              "    <tr>\n",
              "      <th>4</th>\n",
              "      <td>(-0.05, 0.0]</td>\n",
              "      <td>(0.2, 0.25]</td>\n",
              "      <td>6.5250</td>\n",
              "      <td>1.9469</td>\n",
              "      <td>11.1031</td>\n",
              "      <td>True</td>\n",
              "    </tr>\n",
              "  </tbody>\n",
              "</table>\n",
              "</div>"
            ],
            "text/plain": [
              "         group1       group2  meandiff   lower    upper  reject\n",
              "0  (-0.05, 0.0]  (0.0, 0.05]    5.3368  1.1841   9.4895    True\n",
              "2  (-0.05, 0.0]  (0.1, 0.15]    6.6669  2.1282  11.2056    True\n",
              "3  (-0.05, 0.0]  (0.15, 0.2]    5.3096  0.8215   9.7977    True\n",
              "4  (-0.05, 0.0]  (0.2, 0.25]    6.5250  1.9469  11.1031    True"
            ]
          },
          "metadata": {
            "tags": []
          },
          "execution_count": 354
        }
      ]
    },
    {
      "metadata": {
        "colab_type": "text",
        "id": "3JKcx3pw5_LK"
      },
      "cell_type": "markdown",
      "source": [
        "## ***Conclusions for Hypothesis 1:***\n",
        "1. **We first used D'Agostino & Perason's test (normaltest) to check for normal distributions**\n",
        "    -  Both groups had p-values very far below our $\\alpha=0.05$  (Rows 0,1 below)\n",
        "        - We rejecteded the null hypothesis that the groups came from a populatiin with a normal distribtuion. \n",
        "2. **We tested for equal variances using Levene's test. **\n",
        "    - Level's test had a signifcant p-value, so we rejected the hypothesis that the groups have equal variances\n",
        "    \n",
        "3. **We then concluded we need a non-parametric 2-sample test, so we used the Mann-Whitney U test**. \n",
        "    -  Our comparison had a p-value less than .05\n",
        "    - We reject the null hypothesis that discounts do not affect quantities sold.\n",
        "\n"
      ]
    },
    {
      "metadata": {
        "colab_type": "code",
        "id": "qydzhcXa4dz3",
        "outputId": "acb2cd40-f453-4b96-f30b-7e956d48f1de",
        "colab": {
          "base_uri": "https://localhost:8080/",
          "height": 164
        }
      },
      "cell_type": "code",
      "source": [
        "\n",
        "H1_tests_table = list2df(H1_tests)\n",
        "H1_tests_table"
      ],
      "execution_count": 355,
      "outputs": [
        {
          "output_type": "execute_result",
          "data": {
            "text/html": [
              "<div>\n",
              "<style scoped>\n",
              "    .dataframe tbody tr th:only-of-type {\n",
              "        vertical-align: middle;\n",
              "    }\n",
              "\n",
              "    .dataframe tbody tr th {\n",
              "        vertical-align: top;\n",
              "    }\n",
              "\n",
              "    .dataframe thead th {\n",
              "        text-align: right;\n",
              "    }\n",
              "</style>\n",
              "<table border=\"1\" class=\"dataframe\">\n",
              "  <thead>\n",
              "    <tr style=\"text-align: right;\">\n",
              "      <th></th>\n",
              "      <th>Group:</th>\n",
              "      <th>TestName</th>\n",
              "      <th>Test Purpose</th>\n",
              "      <th>stat</th>\n",
              "      <th>p</th>\n",
              "    </tr>\n",
              "  </thead>\n",
              "  <tbody>\n",
              "    <tr>\n",
              "      <th>0</th>\n",
              "      <td>A: ['Discount'] &gt; 0</td>\n",
              "      <td>normaltest</td>\n",
              "      <td>Normality</td>\n",
              "      <td>261.528012</td>\n",
              "      <td>1.621488e-57</td>\n",
              "    </tr>\n",
              "    <tr>\n",
              "      <th>1</th>\n",
              "      <td>B: ['Discount'] == 0</td>\n",
              "      <td>normaltest</td>\n",
              "      <td>Normality</td>\n",
              "      <td>544.577005</td>\n",
              "      <td>5.579637e-119</td>\n",
              "    </tr>\n",
              "    <tr>\n",
              "      <th>2</th>\n",
              "      <td>A&amp;B</td>\n",
              "      <td>stats.levene</td>\n",
              "      <td>Equal Var</td>\n",
              "      <td>14.832672</td>\n",
              "      <td>1.209138e-04</td>\n",
              "    </tr>\n",
              "    <tr>\n",
              "      <th>3</th>\n",
              "      <td>A vs. B</td>\n",
              "      <td>stats.mannwhitneyu</td>\n",
              "      <td>H1_sig</td>\n",
              "      <td>642105.000000</td>\n",
              "      <td>6.629382e-11</td>\n",
              "    </tr>\n",
              "  </tbody>\n",
              "</table>\n",
              "</div>"
            ],
            "text/plain": [
              "                 Group:            TestName Test Purpose           stat  \\\n",
              "0   A: ['Discount'] > 0          normaltest    Normality     261.528012   \n",
              "1  B: ['Discount'] == 0          normaltest    Normality     544.577005   \n",
              "2                   A&B        stats.levene    Equal Var      14.832672   \n",
              "3               A vs. B  stats.mannwhitneyu       H1_sig  642105.000000   \n",
              "\n",
              "               p  \n",
              "0   1.621488e-57  \n",
              "1  5.579637e-119  \n",
              "2   1.209138e-04  \n",
              "3   6.629382e-11  "
            ]
          },
          "metadata": {
            "tags": []
          },
          "execution_count": 355
        }
      ]
    },
    {
      "metadata": {
        "colab_type": "text",
        "id": "Qcn4RlASByQm"
      },
      "cell_type": "markdown",
      "source": [
        "4. **To determine which level of discounts had the largest effect, we performed a pairwise multiple comparison Tukey's test**. \n",
        "    - Our results showed that \n",
        "    "
      ]
    },
    {
      "metadata": {
        "colab_type": "code",
        "id": "Xlhygsxa9mML",
        "outputId": "7b570437-ac09-47ea-8ba6-df78c5e90ff5",
        "colab": {
          "base_uri": "https://localhost:8080/",
          "height": 194
        }
      },
      "cell_type": "code",
      "source": [
        "# Print JUST significant results\n",
        "dfH_tukey.loc[dfH_tukey['group1'] =='(-0.05, 0.0]']"
      ],
      "execution_count": 356,
      "outputs": [
        {
          "output_type": "execute_result",
          "data": {
            "text/html": [
              "<div>\n",
              "<style scoped>\n",
              "    .dataframe tbody tr th:only-of-type {\n",
              "        vertical-align: middle;\n",
              "    }\n",
              "\n",
              "    .dataframe tbody tr th {\n",
              "        vertical-align: top;\n",
              "    }\n",
              "\n",
              "    .dataframe thead th {\n",
              "        text-align: right;\n",
              "    }\n",
              "</style>\n",
              "<table border=\"1\" class=\"dataframe\">\n",
              "  <thead>\n",
              "    <tr style=\"text-align: right;\">\n",
              "      <th></th>\n",
              "      <th>group1</th>\n",
              "      <th>group2</th>\n",
              "      <th>meandiff</th>\n",
              "      <th>lower</th>\n",
              "      <th>upper</th>\n",
              "      <th>reject</th>\n",
              "    </tr>\n",
              "  </thead>\n",
              "  <tbody>\n",
              "    <tr>\n",
              "      <th>0</th>\n",
              "      <td>(-0.05, 0.0]</td>\n",
              "      <td>(0.0, 0.05]</td>\n",
              "      <td>5.3368</td>\n",
              "      <td>1.1841</td>\n",
              "      <td>9.4895</td>\n",
              "      <td>True</td>\n",
              "    </tr>\n",
              "    <tr>\n",
              "      <th>1</th>\n",
              "      <td>(-0.05, 0.0]</td>\n",
              "      <td>(0.05, 0.1]</td>\n",
              "      <td>3.3882</td>\n",
              "      <td>-0.9479</td>\n",
              "      <td>7.7243</td>\n",
              "      <td>False</td>\n",
              "    </tr>\n",
              "    <tr>\n",
              "      <th>2</th>\n",
              "      <td>(-0.05, 0.0]</td>\n",
              "      <td>(0.1, 0.15]</td>\n",
              "      <td>6.6669</td>\n",
              "      <td>2.1282</td>\n",
              "      <td>11.2056</td>\n",
              "      <td>True</td>\n",
              "    </tr>\n",
              "    <tr>\n",
              "      <th>3</th>\n",
              "      <td>(-0.05, 0.0]</td>\n",
              "      <td>(0.15, 0.2]</td>\n",
              "      <td>5.3096</td>\n",
              "      <td>0.8215</td>\n",
              "      <td>9.7977</td>\n",
              "      <td>True</td>\n",
              "    </tr>\n",
              "    <tr>\n",
              "      <th>4</th>\n",
              "      <td>(-0.05, 0.0]</td>\n",
              "      <td>(0.2, 0.25]</td>\n",
              "      <td>6.5250</td>\n",
              "      <td>1.9469</td>\n",
              "      <td>11.1031</td>\n",
              "      <td>True</td>\n",
              "    </tr>\n",
              "  </tbody>\n",
              "</table>\n",
              "</div>"
            ],
            "text/plain": [
              "         group1       group2  meandiff   lower    upper  reject\n",
              "0  (-0.05, 0.0]  (0.0, 0.05]    5.3368  1.1841   9.4895    True\n",
              "1  (-0.05, 0.0]  (0.05, 0.1]    3.3882 -0.9479   7.7243   False\n",
              "2  (-0.05, 0.0]  (0.1, 0.15]    6.6669  2.1282  11.2056    True\n",
              "3  (-0.05, 0.0]  (0.15, 0.2]    5.3096  0.8215   9.7977    True\n",
              "4  (-0.05, 0.0]  (0.2, 0.25]    6.5250  1.9469  11.1031    True"
            ]
          },
          "metadata": {
            "tags": []
          },
          "execution_count": 356
        }
      ]
    },
    {
      "metadata": {
        "id": "vp_RWWFBBRo6",
        "colab_type": "code",
        "colab": {}
      },
      "cell_type": "code",
      "source": [
        "# Save results to new dataframe\n",
        "df_orig_save = df.copy()\n",
        "dfH1_save = dfH.copy()"
      ],
      "execution_count": 0,
      "outputs": []
    },
    {
      "metadata": {
        "colab_type": "text",
        "id": "P23rLwIWwwTC"
      },
      "cell_type": "markdown",
      "source": [
        "___\n",
        "# **Hypothesis 2:**\n"
      ]
    },
    {
      "metadata": {
        "colab_type": "text",
        "id": "eeQIJm_ESU6C"
      },
      "cell_type": "markdown",
      "source": [
        "$H_1$: Customers spend more money on orders when they are buying discounted items.\n",
        "\n",
        "\n",
        "$H_0$: Customers spend the same amount regardless of discounted items. \n",
        "\n",
        "**Specific Aims:**\n",
        "\n",
        "* ***Aim 1:To select the proper dataset for analysis, perform EDA, and generate data groups for testing.***\n",
        "    - Used sqlalchemy and pandas.read_sql_query()\n",
        "    ```query = \"SELECT* FROM OrderDetails,\n",
        "            GROUPBY discount```\n",
        "\n",
        "* ***Aim 2: Select the appropriate t-test based on tests for the assumptions of normality and homogeneity of variance.***\n",
        "    1. **Test for Normality**\n",
        "        - D'Agostino-Pearson's normality test<br>\n",
        "        ```scipy.stats.normaltest```\n",
        "        - Shapiro-Wilik Test<br>\n",
        "        ```scipy.stats.shapiro```\n",
        "    2. **Test for Homogeneity of Variance**\n",
        "        - Levene's Test<br>\n",
        "         ```scipy.stats.levene```\n",
        "\n",
        "    3. **Choose appropriate test based upon 1. and 2.** <br> \n",
        "    \n",
        "    \n",
        "* ***Aim 3: To perform post-hoc painrwise comparison testing to determine which level of discounts affect quantity and if any discount has a greater effect than the others.***\n",
        "\n",
        "     - Tukey's test for multiple pairwise comparisons"
      ]
    },
    {
      "metadata": {
        "id": "m9GqTizvBRo8",
        "colab_type": "text"
      },
      "cell_type": "markdown",
      "source": [
        "_________\n",
        "## ***Aim 1 : To select the proper dataset for analysis  and generate data groups for testing.***\n",
        "\n",
        "#### Importing Method\n",
        "- Use sqlalchemy to create engine to connect to Northwind_small.sqlite.\n",
        "- use pd.read_sql_query('SELECT * FROM OrderDetail',egine) to directly read db into df"
      ]
    },
    {
      "metadata": {
        "colab_type": "code",
        "id": "a_22M7dSftkZ",
        "outputId": "46669b6d-d9ee-4a2e-91b3-df81324b4f6d",
        "colab": {
          "base_uri": "https://localhost:8080/",
          "height": 179
        }
      },
      "cell_type": "code",
      "source": [
        "filepath = '/content/drive/My Drive/Colab Notebooks/datasets/Northwind_small.sqlite'\n",
        "# filepath = 'Northwind_small.sqlite'\n",
        "#-------------------\n",
        "# Testing minimal version of prior code\n",
        "import sqlite3\n",
        "from sqlalchemy import create_engine, inspect\n",
        "# from sqlalchemy import Table, Column, Integer, String, MetaData, ForeignKey,text, Float\n",
        "\n",
        "engine = create_engine('sqlite:///'+filepath,echo=True);\n",
        "inspector = inspect(engine);\n",
        "db_tables = inspector.get_table_names();\n",
        "print('\\n',db_tables);"
      ],
      "execution_count": 358,
      "outputs": [
        {
          "output_type": "stream",
          "text": [
            "2019-04-06 15:20:59,985 INFO sqlalchemy.engine.base.Engine SELECT CAST('test plain returns' AS VARCHAR(60)) AS anon_1\n",
            "2019-04-06 15:20:59,988 INFO sqlalchemy.engine.base.Engine ()\n",
            "2019-04-06 15:20:59,991 INFO sqlalchemy.engine.base.Engine SELECT CAST('test unicode returns' AS VARCHAR(60)) AS anon_1\n",
            "2019-04-06 15:20:59,992 INFO sqlalchemy.engine.base.Engine ()\n",
            "2019-04-06 15:20:59,997 INFO sqlalchemy.engine.base.Engine SELECT name FROM sqlite_master WHERE type='table' ORDER BY name\n",
            "2019-04-06 15:20:59,999 INFO sqlalchemy.engine.base.Engine ()\n",
            "\n",
            " ['Category', 'Customer', 'CustomerCustomerDemo', 'CustomerDemographic', 'Employee', 'EmployeeTerritory', 'Order', 'OrderDetail', 'Product', 'Region', 'Shipper', 'Supplier', 'Territory']\n"
          ],
          "name": "stdout"
        }
      ]
    },
    {
      "metadata": {
        "colab_type": "code",
        "id": "Mhf5gyVYHovd",
        "outputId": "dbcd98e8-52e8-4dc5-a44c-d0dc9c1ce3ec",
        "colab": {
          "base_uri": "https://localhost:8080/",
          "height": 229
        }
      },
      "cell_type": "code",
      "source": [
        "# We want to test hypothesis one, so we need OrderDetail table.\n",
        "table_to_test = \"OrderDetail\"\n",
        "df = pd.read_sql_query(\"SELECT * FROM OrderDetail\",  engine)\n",
        "df.head()"
      ],
      "execution_count": 359,
      "outputs": [
        {
          "output_type": "stream",
          "text": [
            "2019-04-06 15:21:00,016 INFO sqlalchemy.engine.base.Engine SELECT * FROM OrderDetail\n",
            "2019-04-06 15:21:00,018 INFO sqlalchemy.engine.base.Engine ()\n"
          ],
          "name": "stdout"
        },
        {
          "output_type": "execute_result",
          "data": {
            "text/html": [
              "<div>\n",
              "<style scoped>\n",
              "    .dataframe tbody tr th:only-of-type {\n",
              "        vertical-align: middle;\n",
              "    }\n",
              "\n",
              "    .dataframe tbody tr th {\n",
              "        vertical-align: top;\n",
              "    }\n",
              "\n",
              "    .dataframe thead th {\n",
              "        text-align: right;\n",
              "    }\n",
              "</style>\n",
              "<table border=\"1\" class=\"dataframe\">\n",
              "  <thead>\n",
              "    <tr style=\"text-align: right;\">\n",
              "      <th></th>\n",
              "      <th>Id</th>\n",
              "      <th>OrderId</th>\n",
              "      <th>ProductId</th>\n",
              "      <th>UnitPrice</th>\n",
              "      <th>Quantity</th>\n",
              "      <th>Discount</th>\n",
              "    </tr>\n",
              "  </thead>\n",
              "  <tbody>\n",
              "    <tr>\n",
              "      <th>0</th>\n",
              "      <td>10248/11</td>\n",
              "      <td>10248</td>\n",
              "      <td>11</td>\n",
              "      <td>14.0</td>\n",
              "      <td>12</td>\n",
              "      <td>0.0</td>\n",
              "    </tr>\n",
              "    <tr>\n",
              "      <th>1</th>\n",
              "      <td>10248/42</td>\n",
              "      <td>10248</td>\n",
              "      <td>42</td>\n",
              "      <td>9.8</td>\n",
              "      <td>10</td>\n",
              "      <td>0.0</td>\n",
              "    </tr>\n",
              "    <tr>\n",
              "      <th>2</th>\n",
              "      <td>10248/72</td>\n",
              "      <td>10248</td>\n",
              "      <td>72</td>\n",
              "      <td>34.8</td>\n",
              "      <td>5</td>\n",
              "      <td>0.0</td>\n",
              "    </tr>\n",
              "    <tr>\n",
              "      <th>3</th>\n",
              "      <td>10249/14</td>\n",
              "      <td>10249</td>\n",
              "      <td>14</td>\n",
              "      <td>18.6</td>\n",
              "      <td>9</td>\n",
              "      <td>0.0</td>\n",
              "    </tr>\n",
              "    <tr>\n",
              "      <th>4</th>\n",
              "      <td>10249/51</td>\n",
              "      <td>10249</td>\n",
              "      <td>51</td>\n",
              "      <td>42.4</td>\n",
              "      <td>40</td>\n",
              "      <td>0.0</td>\n",
              "    </tr>\n",
              "  </tbody>\n",
              "</table>\n",
              "</div>"
            ],
            "text/plain": [
              "         Id  OrderId  ProductId  UnitPrice  Quantity  Discount\n",
              "0  10248/11    10248         11       14.0        12       0.0\n",
              "1  10248/42    10248         42        9.8        10       0.0\n",
              "2  10248/72    10248         72       34.8         5       0.0\n",
              "3  10249/14    10249         14       18.6         9       0.0\n",
              "4  10249/51    10249         51       42.4        40       0.0"
            ]
          },
          "metadata": {
            "tags": []
          },
          "execution_count": 359
        }
      ]
    },
    {
      "metadata": {
        "colab_type": "text",
        "id": "kSqmOZAHTcNQ"
      },
      "cell_type": "markdown",
      "source": [
        "### Aim 1.1: Calculating order totals, adding discount groups"
      ]
    },
    {
      "metadata": {
        "colab_type": "code",
        "id": "05KbXlvlTvlt",
        "outputId": "f03ec83b-8327-4e49-8aff-f4102a078c61",
        "colab": {
          "base_uri": "https://localhost:8080/",
          "height": 194
        }
      },
      "cell_type": "code",
      "source": [
        "# Source of df = pd.read_sql_query(\"SELECT * FROM OrderDetail\",  engine)\n",
        "\n",
        "# Define calc_product_review to add product price column\n",
        "def calc_product_price(row):\n",
        "    price = row['UnitPrice']*(1-row['Discount'])*row['Quantity']\n",
        "    row['price'] = price\n",
        "    if row['Discount']>0:\n",
        "        row['OnSale'] = 1\n",
        "    else:\n",
        "        row['OnSale'] = 0\n",
        "    return row    \n",
        "\n",
        "# Use calc_order_total to fill in order_total column\n",
        "def calc_order_total(row,df):\n",
        "    order = row['OrderId']\n",
        "    df_temp = df.groupby('OrderId').get_group(order)\n",
        "\n",
        "    \n",
        "    if any(df_temp['OnSale']):\n",
        "        row['discounted_order'] = 1\n",
        "    else:\n",
        "        row['discounted_order'] = 0\n",
        "    \n",
        "    order_total = df_temp['price'].sum()\n",
        "    row['order_total'] = order_total\n",
        "    \n",
        "    return row\n",
        "# Apply calc_product_price to every row \n",
        "df_price = df.apply(lambda x: calc_product_price(x),axis=1)\n",
        "# df_price['order_total'] = None\n",
        "\n",
        "\n",
        "# Apply_calc_order_total to every row\n",
        "df_price = df_price.apply(lambda x: calc_order_total(x,df_price), axis=1)  \n",
        "df_price.head()"
      ],
      "execution_count": 360,
      "outputs": [
        {
          "output_type": "execute_result",
          "data": {
            "text/html": [
              "<div>\n",
              "<style scoped>\n",
              "    .dataframe tbody tr th:only-of-type {\n",
              "        vertical-align: middle;\n",
              "    }\n",
              "\n",
              "    .dataframe tbody tr th {\n",
              "        vertical-align: top;\n",
              "    }\n",
              "\n",
              "    .dataframe thead th {\n",
              "        text-align: right;\n",
              "    }\n",
              "</style>\n",
              "<table border=\"1\" class=\"dataframe\">\n",
              "  <thead>\n",
              "    <tr style=\"text-align: right;\">\n",
              "      <th></th>\n",
              "      <th>Id</th>\n",
              "      <th>OrderId</th>\n",
              "      <th>ProductId</th>\n",
              "      <th>UnitPrice</th>\n",
              "      <th>Quantity</th>\n",
              "      <th>Discount</th>\n",
              "      <th>price</th>\n",
              "      <th>OnSale</th>\n",
              "      <th>discounted_order</th>\n",
              "      <th>order_total</th>\n",
              "    </tr>\n",
              "  </thead>\n",
              "  <tbody>\n",
              "    <tr>\n",
              "      <th>0</th>\n",
              "      <td>10248/11</td>\n",
              "      <td>10248</td>\n",
              "      <td>11</td>\n",
              "      <td>14.0</td>\n",
              "      <td>12</td>\n",
              "      <td>0.0</td>\n",
              "      <td>168.0</td>\n",
              "      <td>0</td>\n",
              "      <td>0</td>\n",
              "      <td>440.0</td>\n",
              "    </tr>\n",
              "    <tr>\n",
              "      <th>1</th>\n",
              "      <td>10248/42</td>\n",
              "      <td>10248</td>\n",
              "      <td>42</td>\n",
              "      <td>9.8</td>\n",
              "      <td>10</td>\n",
              "      <td>0.0</td>\n",
              "      <td>98.0</td>\n",
              "      <td>0</td>\n",
              "      <td>0</td>\n",
              "      <td>440.0</td>\n",
              "    </tr>\n",
              "    <tr>\n",
              "      <th>2</th>\n",
              "      <td>10248/72</td>\n",
              "      <td>10248</td>\n",
              "      <td>72</td>\n",
              "      <td>34.8</td>\n",
              "      <td>5</td>\n",
              "      <td>0.0</td>\n",
              "      <td>174.0</td>\n",
              "      <td>0</td>\n",
              "      <td>0</td>\n",
              "      <td>440.0</td>\n",
              "    </tr>\n",
              "    <tr>\n",
              "      <th>3</th>\n",
              "      <td>10249/14</td>\n",
              "      <td>10249</td>\n",
              "      <td>14</td>\n",
              "      <td>18.6</td>\n",
              "      <td>9</td>\n",
              "      <td>0.0</td>\n",
              "      <td>167.4</td>\n",
              "      <td>0</td>\n",
              "      <td>0</td>\n",
              "      <td>1863.4</td>\n",
              "    </tr>\n",
              "    <tr>\n",
              "      <th>4</th>\n",
              "      <td>10249/51</td>\n",
              "      <td>10249</td>\n",
              "      <td>51</td>\n",
              "      <td>42.4</td>\n",
              "      <td>40</td>\n",
              "      <td>0.0</td>\n",
              "      <td>1696.0</td>\n",
              "      <td>0</td>\n",
              "      <td>0</td>\n",
              "      <td>1863.4</td>\n",
              "    </tr>\n",
              "  </tbody>\n",
              "</table>\n",
              "</div>"
            ],
            "text/plain": [
              "         Id  OrderId  ProductId  UnitPrice  Quantity  Discount   price  \\\n",
              "0  10248/11    10248         11       14.0        12       0.0   168.0   \n",
              "1  10248/42    10248         42        9.8        10       0.0    98.0   \n",
              "2  10248/72    10248         72       34.8         5       0.0   174.0   \n",
              "3  10249/14    10249         14       18.6         9       0.0   167.4   \n",
              "4  10249/51    10249         51       42.4        40       0.0  1696.0   \n",
              "\n",
              "   OnSale  discounted_order  order_total  \n",
              "0       0                 0        440.0  \n",
              "1       0                 0        440.0  \n",
              "2       0                 0        440.0  \n",
              "3       0                 0       1863.4  \n",
              "4       0                 0       1863.4  "
            ]
          },
          "metadata": {
            "tags": []
          },
          "execution_count": 360
        }
      ]
    },
    {
      "metadata": {
        "id": "8sQvyJggXHDO",
        "colab_type": "code",
        "colab": {}
      },
      "cell_type": "code",
      "source": [
        "df_export= df_price.copy().reset_index()\n",
        "# df_export['OnSale'].loc[df_export['OnSale']==False] = 0\n",
        "# df_export['OnSale'].loc[df_export['OnSale']==True] = 1\n",
        "\n",
        "# df_export['discounted_order'].loc[df_export['discounted_order']==False] = 0\n",
        "# df_export['discounted_order'].loc[df_export['discounted_order']==True] = 1\n",
        "\n",
        "# df_export.describe().round()\n",
        "# df_expo\n",
        "# df_export.to_csv('hypothesis_1_to_plot.csv')\n",
        "\n",
        "\n",
        "df_export.to_csv('For Tableau- join_order_details_calc_total.csv')\n",
        "df_export.to_excel('For Tableau- join_order_details_calc_total.xlsx')"
      ],
      "execution_count": 0,
      "outputs": []
    },
    {
      "metadata": {
        "id": "HDSxCjdrXOkE",
        "colab_type": "code",
        "colab": {}
      },
      "cell_type": "code",
      "source": [
        ""
      ],
      "execution_count": 0,
      "outputs": []
    },
    {
      "metadata": {
        "colab_type": "text",
        "id": "KzQo_3AAxHGj"
      },
      "cell_type": "markdown",
      "source": [
        "### Aim 1.2: EDA on dataset \n"
      ]
    },
    {
      "metadata": {
        "colab_type": "code",
        "id": "d5hsveQvqptC",
        "outputId": "413779fa-a33b-4cd6-9ea8-251d7c6d0f7d",
        "colab": {
          "base_uri": "https://localhost:8080/",
          "height": 463
        }
      },
      "cell_type": "code",
      "source": [
        "fig, ax = plt.subplots(1,2,figsize=(10,5));\n",
        "df_price.groupby('discounted_order')['order_total'].hist(alpha=0.4, bins=30, ax = ax[0]);\n",
        "df_price.groupby('discounted_order')['order_total'].mean().plot(kind='bar',ax=ax[1]);"
      ],
      "execution_count": 362,
      "outputs": [
        {
          "output_type": "display_data",
          "data": {
            "image/png": "[encoded data removed]",
            "text/plain": [
              "<Figure size 1000x500 with 2 Axes>"
            ]
          },
          "metadata": {
            "tags": []
          }
        }
      ]
    },
    {
      "metadata": {
        "colab_type": "text",
        "id": "V5h8J1CXwlbO"
      },
      "cell_type": "markdown",
      "source": [
        "## Aim 1.3: Generate and inspect required groups "
      ]
    },
    {
      "metadata": {
        "colab_type": "code",
        "id": "6Nltea0kvYDT",
        "outputId": "a23be27f-c408-4619-912d-796a067d9e65",
        "colab": {
          "base_uri": "https://localhost:8080/",
          "height": 194
        }
      },
      "cell_type": "code",
      "source": [
        "# 1 - Separating groups from dfH (dataframeHypothesis)\n",
        "df_temp = df_price[['OrderId','order_total','discounted_order']]\n",
        "\n",
        "unique_orders = df_temp['OrderId'].unique()\n",
        "\n",
        "len(unique_orders)\n",
        "keep_me=[['OrderId','order_total','discounted_order']]\n",
        "\n",
        "for u in unique_orders:\n",
        "#     grouped = dfH.groupby('OrderId').get_group(u)\n",
        "#     keep_me.append(grouped.iloc[0,:])\n",
        "    grouped_idx = df_temp.groupby('OrderId').get_group(u).index\n",
        "    keep_me.append(df_temp.loc[grouped_idx[0]])\n",
        "dfH = list2df(keep_me)\n",
        "dfH.head()"
      ],
      "execution_count": 363,
      "outputs": [
        {
          "output_type": "execute_result",
          "data": {
            "text/html": [
              "<div>\n",
              "<style scoped>\n",
              "    .dataframe tbody tr th:only-of-type {\n",
              "        vertical-align: middle;\n",
              "    }\n",
              "\n",
              "    .dataframe tbody tr th {\n",
              "        vertical-align: top;\n",
              "    }\n",
              "\n",
              "    .dataframe thead th {\n",
              "        text-align: right;\n",
              "    }\n",
              "</style>\n",
              "<table border=\"1\" class=\"dataframe\">\n",
              "  <thead>\n",
              "    <tr style=\"text-align: right;\">\n",
              "      <th></th>\n",
              "      <th>OrderId</th>\n",
              "      <th>order_total</th>\n",
              "      <th>discounted_order</th>\n",
              "    </tr>\n",
              "  </thead>\n",
              "  <tbody>\n",
              "    <tr>\n",
              "      <th>0</th>\n",
              "      <td>10248.0</td>\n",
              "      <td>440.00</td>\n",
              "      <td>0.0</td>\n",
              "    </tr>\n",
              "    <tr>\n",
              "      <th>3</th>\n",
              "      <td>10249.0</td>\n",
              "      <td>1863.40</td>\n",
              "      <td>0.0</td>\n",
              "    </tr>\n",
              "    <tr>\n",
              "      <th>5</th>\n",
              "      <td>10250.0</td>\n",
              "      <td>1552.60</td>\n",
              "      <td>1.0</td>\n",
              "    </tr>\n",
              "    <tr>\n",
              "      <th>8</th>\n",
              "      <td>10251.0</td>\n",
              "      <td>654.06</td>\n",
              "      <td>1.0</td>\n",
              "    </tr>\n",
              "    <tr>\n",
              "      <th>11</th>\n",
              "      <td>10252.0</td>\n",
              "      <td>3597.90</td>\n",
              "      <td>1.0</td>\n",
              "    </tr>\n",
              "  </tbody>\n",
              "</table>\n",
              "</div>"
            ],
            "text/plain": [
              "    OrderId  order_total  discounted_order\n",
              "0   10248.0       440.00               0.0\n",
              "3   10249.0      1863.40               0.0\n",
              "5   10250.0      1552.60               1.0\n",
              "8   10251.0       654.06               1.0\n",
              "11  10252.0      3597.90               1.0"
            ]
          },
          "metadata": {
            "tags": []
          },
          "execution_count": 363
        }
      ]
    },
    {
      "metadata": {
        "id": "BtsXbgtKBRpF",
        "colab_type": "code",
        "outputId": "508970d3-3bb8-45d8-a672-372cde93710c",
        "colab": {
          "base_uri": "https://localhost:8080/",
          "height": 164
        }
      },
      "cell_type": "code",
      "source": [
        "dfH[['order_total','discounted_order']].groupby('discounted_order').describe()#.stack()"
      ],
      "execution_count": 364,
      "outputs": [
        {
          "output_type": "execute_result",
          "data": {
            "text/html": [
              "<div>\n",
              "<style scoped>\n",
              "    .dataframe tbody tr th:only-of-type {\n",
              "        vertical-align: middle;\n",
              "    }\n",
              "\n",
              "    .dataframe tbody tr th {\n",
              "        vertical-align: top;\n",
              "    }\n",
              "\n",
              "    .dataframe thead tr th {\n",
              "        text-align: left;\n",
              "    }\n",
              "\n",
              "    .dataframe thead tr:last-of-type th {\n",
              "        text-align: right;\n",
              "    }\n",
              "</style>\n",
              "<table border=\"1\" class=\"dataframe\">\n",
              "  <thead>\n",
              "    <tr>\n",
              "      <th></th>\n",
              "      <th colspan=\"8\" halign=\"left\">order_total</th>\n",
              "    </tr>\n",
              "    <tr>\n",
              "      <th></th>\n",
              "      <th>count</th>\n",
              "      <th>mean</th>\n",
              "      <th>std</th>\n",
              "      <th>min</th>\n",
              "      <th>25%</th>\n",
              "      <th>50%</th>\n",
              "      <th>75%</th>\n",
              "      <th>max</th>\n",
              "    </tr>\n",
              "    <tr>\n",
              "      <th>discounted_order</th>\n",
              "      <th></th>\n",
              "      <th></th>\n",
              "      <th></th>\n",
              "      <th></th>\n",
              "      <th></th>\n",
              "      <th></th>\n",
              "      <th></th>\n",
              "      <th></th>\n",
              "    </tr>\n",
              "  </thead>\n",
              "  <tbody>\n",
              "    <tr>\n",
              "      <th>0.0</th>\n",
              "      <td>450.0</td>\n",
              "      <td>1375.331844</td>\n",
              "      <td>1792.781223</td>\n",
              "      <td>12.5</td>\n",
              "      <td>360.25</td>\n",
              "      <td>810.25000</td>\n",
              "      <td>1731.67</td>\n",
              "      <td>15810.0</td>\n",
              "    </tr>\n",
              "    <tr>\n",
              "      <th>1.0</th>\n",
              "      <td>380.0</td>\n",
              "      <td>1702.351867</td>\n",
              "      <td>1892.448163</td>\n",
              "      <td>23.8</td>\n",
              "      <td>587.75</td>\n",
              "      <td>1244.88525</td>\n",
              "      <td>2027.91</td>\n",
              "      <td>16387.5</td>\n",
              "    </tr>\n",
              "  </tbody>\n",
              "</table>\n",
              "</div>"
            ],
            "text/plain": [
              "                 order_total                                          \\\n",
              "                       count         mean          std   min     25%   \n",
              "discounted_order                                                       \n",
              "0.0                    450.0  1375.331844  1792.781223  12.5  360.25   \n",
              "1.0                    380.0  1702.351867  1892.448163  23.8  587.75   \n",
              "\n",
              "                                                \n",
              "                         50%      75%      max  \n",
              "discounted_order                                \n",
              "0.0                810.25000  1731.67  15810.0  \n",
              "1.0               1244.88525  2027.91  16387.5  "
            ]
          },
          "metadata": {
            "tags": []
          },
          "execution_count": 364
        }
      ]
    },
    {
      "metadata": {
        "id": "3uGVTWbyBRpG",
        "colab_type": "code",
        "outputId": "70aee38c-0545-440a-8d36-ae751ef42ff4",
        "colab": {
          "base_uri": "https://localhost:8080/",
          "height": 355
        }
      },
      "cell_type": "code",
      "source": [
        "#Adding group definitions\n",
        "grpA = \"['discounted_order'] == True\"\n",
        "grpB = \"['discounted_order'] == False\"\n",
        "\n",
        "# Using eval to create df_A and df_B; will allow us to fill in our results \n",
        "# with the exact definitions of Group A and Group B\n",
        "df_A = eval(f'dfH.loc[dfH{grpA}]')\n",
        "df_B = eval(f'dfH.loc[dfH{grpB}]')\n",
        "\n",
        "# dfj_D = dfH.loc[dfj['Discount']>0] \n",
        "# dfj_F = dfH.loc[dfj['Discount']==0]\n",
        "df_A.describe(),'--'*25,df_B.describe()"
      ],
      "execution_count": 365,
      "outputs": [
        {
          "output_type": "execute_result",
          "data": {
            "text/plain": [
              "(            OrderId   order_total  discounted_order\n",
              " count    380.000000    380.000000             380.0\n",
              " mean   10659.555263   1702.351867               1.0\n",
              " std      234.869401   1892.448163               0.0\n",
              " min    10250.000000     23.800000               1.0\n",
              " 25%    10460.750000    587.750000               1.0\n",
              " 50%    10649.000000   1244.885250               1.0\n",
              " 75%    10854.250000   2027.910000               1.0\n",
              " max    11077.000000  16387.500000               1.0,\n",
              " '--------------------------------------------------',\n",
              "             OrderId   order_total  discounted_order\n",
              " count    450.000000    450.000000             450.0\n",
              " mean   10664.986667   1375.331844               0.0\n",
              " std      244.018656   1792.781223               0.0\n",
              " min    10248.000000     12.500000               0.0\n",
              " 25%    10447.250000    360.250000               0.0\n",
              " 50%    10678.500000    810.250000               0.0\n",
              " 75%    10884.500000   1731.670000               0.0\n",
              " max    11073.000000  15810.000000               0.0)"
            ]
          },
          "metadata": {
            "tags": []
          },
          "execution_count": 365
        }
      ]
    },
    {
      "metadata": {
        "colab_type": "code",
        "id": "LH-bkoSXqgBk",
        "colab": {}
      },
      "cell_type": "code",
      "source": [
        ""
      ],
      "execution_count": 0,
      "outputs": []
    },
    {
      "metadata": {
        "colab_type": "text",
        "id": "DZfc0jqTxeNA"
      },
      "cell_type": "markdown",
      "source": [
        "## ***Aim 2: Select the appropriate t-test based on tests for the assumptions of normality and homogeneity of variance.***"
      ]
    },
    {
      "metadata": {
        "colab_type": "code",
        "id": "6o7eXWHUvYDY",
        "colab": {}
      },
      "cell_type": "code",
      "source": [
        "# Adding table to collect summary statistics\n",
        "H2_tests = [['Group:','TestName','Test Purpose','stat','p']  ]"
      ],
      "execution_count": 0,
      "outputs": []
    },
    {
      "metadata": {
        "id": "SaXaorm5BRpM",
        "colab_type": "text"
      },
      "cell_type": "markdown",
      "source": [
        "### Aim 2.1: Test for Normality"
      ]
    },
    {
      "metadata": {
        "colab_type": "code",
        "id": "HXMiuzjTvYDd",
        "outputId": "b4bf9393-86e2-4f5d-c249-1e0aaf0b85a3",
        "colab": {
          "base_uri": "https://localhost:8080/",
          "height": 52
        }
      },
      "cell_type": "code",
      "source": [
        "# 2. Testing normality\n",
        "test_purpose = 'Normality'\n",
        "test_to_run = 'normaltest'\n",
        "\n",
        "arrA = np.array(df_A['order_total'])\n",
        "arrB = np.array(df_B['order_total'])\n",
        "\n",
        "statA, pA = eval(test_to_run)(arrA)\n",
        "statB, pB = eval(test_to_run)(arrB)\n",
        "\n",
        "print(f'A:stat={statA}, p={pA}')\n",
        "print(f'B:stat={statB}, p={pB}')\n",
        "\n",
        "H2_tests.append(['A: '+grpA,test_to_run,test_purpose,statA,pA])\n",
        "H2_tests.append(['B: '+grpB,test_to_run,test_purpose,statB,pB])\n",
        "# list2df(H1_tests)"
      ],
      "execution_count": 367,
      "outputs": [
        {
          "output_type": "stream",
          "text": [
            "A:stat=309.8566632385119, p=5.193743376505954e-68\n",
            "B:stat=368.4093987857893, p=1.0021102701214462e-80\n"
          ],
          "name": "stdout"
        }
      ]
    },
    {
      "metadata": {
        "colab_type": "code",
        "id": "djdIF4bpvYDg",
        "outputId": "6dd54500-2ec5-444a-e6bc-8d2d59aa66d1",
        "colab": {
          "base_uri": "https://localhost:8080/",
          "height": 106
        }
      },
      "cell_type": "code",
      "source": [
        "list2df(H2_tests)"
      ],
      "execution_count": 368,
      "outputs": [
        {
          "output_type": "execute_result",
          "data": {
            "text/html": [
              "<div>\n",
              "<style scoped>\n",
              "    .dataframe tbody tr th:only-of-type {\n",
              "        vertical-align: middle;\n",
              "    }\n",
              "\n",
              "    .dataframe tbody tr th {\n",
              "        vertical-align: top;\n",
              "    }\n",
              "\n",
              "    .dataframe thead th {\n",
              "        text-align: right;\n",
              "    }\n",
              "</style>\n",
              "<table border=\"1\" class=\"dataframe\">\n",
              "  <thead>\n",
              "    <tr style=\"text-align: right;\">\n",
              "      <th></th>\n",
              "      <th>Group:</th>\n",
              "      <th>TestName</th>\n",
              "      <th>Test Purpose</th>\n",
              "      <th>stat</th>\n",
              "      <th>p</th>\n",
              "    </tr>\n",
              "  </thead>\n",
              "  <tbody>\n",
              "    <tr>\n",
              "      <th>0</th>\n",
              "      <td>A: ['discounted_order'] == True</td>\n",
              "      <td>normaltest</td>\n",
              "      <td>Normality</td>\n",
              "      <td>309.856663</td>\n",
              "      <td>5.193743e-68</td>\n",
              "    </tr>\n",
              "    <tr>\n",
              "      <th>1</th>\n",
              "      <td>B: ['discounted_order'] == False</td>\n",
              "      <td>normaltest</td>\n",
              "      <td>Normality</td>\n",
              "      <td>368.409399</td>\n",
              "      <td>1.002110e-80</td>\n",
              "    </tr>\n",
              "  </tbody>\n",
              "</table>\n",
              "</div>"
            ],
            "text/plain": [
              "                             Group:    TestName Test Purpose        stat  \\\n",
              "0   A: ['discounted_order'] == True  normaltest    Normality  309.856663   \n",
              "1  B: ['discounted_order'] == False  normaltest    Normality  368.409399   \n",
              "\n",
              "              p  \n",
              "0  5.193743e-68  \n",
              "1  1.002110e-80  "
            ]
          },
          "metadata": {
            "tags": []
          },
          "execution_count": 368
        }
      ]
    },
    {
      "metadata": {
        "id": "T-RHTuiWBRpR",
        "colab_type": "text"
      },
      "cell_type": "markdown",
      "source": [
        "### Aim 2.2 Test for Homogeneity of Variance"
      ]
    },
    {
      "metadata": {
        "colab_type": "code",
        "id": "9GfzS_Vxxswy",
        "colab": {}
      },
      "cell_type": "code",
      "source": [
        "# 3. Test for homo var\n",
        "test_to_run = 'stats.levene'\n",
        "stat,p = eval(test_to_run)(arrA,arrB,center='median')\n",
        "\n",
        "H2_tests.append(['A&B',test_to_run,'Equal Var',stat,p])"
      ],
      "execution_count": 0,
      "outputs": []
    },
    {
      "metadata": {
        "colab_type": "code",
        "id": "36BZIyyYxsw0",
        "outputId": "a8f7fc15-6372-4bab-b79e-d27f9b75c99c",
        "colab": {
          "base_uri": "https://localhost:8080/",
          "height": 135
        }
      },
      "cell_type": "code",
      "source": [
        "list2df(H2_tests)"
      ],
      "execution_count": 370,
      "outputs": [
        {
          "output_type": "execute_result",
          "data": {
            "text/html": [
              "<div>\n",
              "<style scoped>\n",
              "    .dataframe tbody tr th:only-of-type {\n",
              "        vertical-align: middle;\n",
              "    }\n",
              "\n",
              "    .dataframe tbody tr th {\n",
              "        vertical-align: top;\n",
              "    }\n",
              "\n",
              "    .dataframe thead th {\n",
              "        text-align: right;\n",
              "    }\n",
              "</style>\n",
              "<table border=\"1\" class=\"dataframe\">\n",
              "  <thead>\n",
              "    <tr style=\"text-align: right;\">\n",
              "      <th></th>\n",
              "      <th>Group:</th>\n",
              "      <th>TestName</th>\n",
              "      <th>Test Purpose</th>\n",
              "      <th>stat</th>\n",
              "      <th>p</th>\n",
              "    </tr>\n",
              "  </thead>\n",
              "  <tbody>\n",
              "    <tr>\n",
              "      <th>0</th>\n",
              "      <td>A: ['discounted_order'] == True</td>\n",
              "      <td>normaltest</td>\n",
              "      <td>Normality</td>\n",
              "      <td>309.856663</td>\n",
              "      <td>5.193743e-68</td>\n",
              "    </tr>\n",
              "    <tr>\n",
              "      <th>1</th>\n",
              "      <td>B: ['discounted_order'] == False</td>\n",
              "      <td>normaltest</td>\n",
              "      <td>Normality</td>\n",
              "      <td>368.409399</td>\n",
              "      <td>1.002110e-80</td>\n",
              "    </tr>\n",
              "    <tr>\n",
              "      <th>2</th>\n",
              "      <td>A&amp;B</td>\n",
              "      <td>stats.levene</td>\n",
              "      <td>Equal Var</td>\n",
              "      <td>0.714267</td>\n",
              "      <td>3.982750e-01</td>\n",
              "    </tr>\n",
              "  </tbody>\n",
              "</table>\n",
              "</div>"
            ],
            "text/plain": [
              "                             Group:      TestName Test Purpose        stat  \\\n",
              "0   A: ['discounted_order'] == True    normaltest    Normality  309.856663   \n",
              "1  B: ['discounted_order'] == False    normaltest    Normality  368.409399   \n",
              "2                               A&B  stats.levene    Equal Var    0.714267   \n",
              "\n",
              "              p  \n",
              "0  5.193743e-68  \n",
              "1  1.002110e-80  \n",
              "2  3.982750e-01  "
            ]
          },
          "metadata": {
            "tags": []
          },
          "execution_count": 370
        }
      ]
    },
    {
      "metadata": {
        "colab_type": "text",
        "id": "0OCGqU7PyiIc"
      },
      "cell_type": "markdown",
      "source": [
        "### Aim 2.3 Selecting the appropriate test to perform.\n",
        "- We failed both normaltests\n",
        "- We passed Levene's test for homo. of variance\n",
        "- Need non-parametric 2sample ttest\n",
        "    - [**Mann-Whitney U test**](https://docs.scipy.org/doc/scipy/reference/generated/scipy.stats.mannwhitneyu.html)"
      ]
    },
    {
      "metadata": {
        "id": "CxxTNQymBRpX",
        "colab_type": "text"
      },
      "cell_type": "markdown",
      "source": [
        "#### Mann-Whitney U test"
      ]
    },
    {
      "metadata": {
        "colab_type": "code",
        "id": "Yp7l-KeFyiIe",
        "colab": {}
      },
      "cell_type": "code",
      "source": [
        "# Mann Whitney U test+\n",
        "import scipy.stats as stats\n",
        "# arrA was discounted, arrB was non-discounted\n",
        "test_to_run = 'stats.mannwhitneyu'\n",
        "stat, p = eval(test_to_run)(arrA,arrB,alternative='greater')\n",
        "stat, p\n",
        "H2_tests.append(['A vs. B',test_to_run, 'H2_sig', stat,p])"
      ],
      "execution_count": 0,
      "outputs": []
    },
    {
      "metadata": {
        "colab_type": "code",
        "id": "yg_MQfQEyiIh",
        "outputId": "12aa86ec-a07c-4b02-fd94-c9b5904a490c",
        "colab": {
          "base_uri": "https://localhost:8080/",
          "height": 164
        }
      },
      "cell_type": "code",
      "source": [
        "list2df(H2_tests)"
      ],
      "execution_count": 372,
      "outputs": [
        {
          "output_type": "execute_result",
          "data": {
            "text/html": [
              "<div>\n",
              "<style scoped>\n",
              "    .dataframe tbody tr th:only-of-type {\n",
              "        vertical-align: middle;\n",
              "    }\n",
              "\n",
              "    .dataframe tbody tr th {\n",
              "        vertical-align: top;\n",
              "    }\n",
              "\n",
              "    .dataframe thead th {\n",
              "        text-align: right;\n",
              "    }\n",
              "</style>\n",
              "<table border=\"1\" class=\"dataframe\">\n",
              "  <thead>\n",
              "    <tr style=\"text-align: right;\">\n",
              "      <th></th>\n",
              "      <th>Group:</th>\n",
              "      <th>TestName</th>\n",
              "      <th>Test Purpose</th>\n",
              "      <th>stat</th>\n",
              "      <th>p</th>\n",
              "    </tr>\n",
              "  </thead>\n",
              "  <tbody>\n",
              "    <tr>\n",
              "      <th>0</th>\n",
              "      <td>A: ['discounted_order'] == True</td>\n",
              "      <td>normaltest</td>\n",
              "      <td>Normality</td>\n",
              "      <td>309.856663</td>\n",
              "      <td>5.193743e-68</td>\n",
              "    </tr>\n",
              "    <tr>\n",
              "      <th>1</th>\n",
              "      <td>B: ['discounted_order'] == False</td>\n",
              "      <td>normaltest</td>\n",
              "      <td>Normality</td>\n",
              "      <td>368.409399</td>\n",
              "      <td>1.002110e-80</td>\n",
              "    </tr>\n",
              "    <tr>\n",
              "      <th>2</th>\n",
              "      <td>A&amp;B</td>\n",
              "      <td>stats.levene</td>\n",
              "      <td>Equal Var</td>\n",
              "      <td>0.714267</td>\n",
              "      <td>3.982750e-01</td>\n",
              "    </tr>\n",
              "    <tr>\n",
              "      <th>3</th>\n",
              "      <td>A vs. B</td>\n",
              "      <td>stats.mannwhitneyu</td>\n",
              "      <td>H2_sig</td>\n",
              "      <td>102021.000000</td>\n",
              "      <td>7.900897e-07</td>\n",
              "    </tr>\n",
              "  </tbody>\n",
              "</table>\n",
              "</div>"
            ],
            "text/plain": [
              "                             Group:            TestName Test Purpose  \\\n",
              "0   A: ['discounted_order'] == True          normaltest    Normality   \n",
              "1  B: ['discounted_order'] == False          normaltest    Normality   \n",
              "2                               A&B        stats.levene    Equal Var   \n",
              "3                           A vs. B  stats.mannwhitneyu       H2_sig   \n",
              "\n",
              "            stat             p  \n",
              "0     309.856663  5.193743e-68  \n",
              "1     368.409399  1.002110e-80  \n",
              "2       0.714267  3.982750e-01  \n",
              "3  102021.000000  7.900897e-07  "
            ]
          },
          "metadata": {
            "tags": []
          },
          "execution_count": 372
        }
      ]
    },
    {
      "metadata": {
        "id": "w9BLLITiBRpb",
        "colab_type": "text"
      },
      "cell_type": "markdown",
      "source": [
        "#### Calculating Effect Size"
      ]
    },
    {
      "metadata": {
        "id": "ZDS5WifXBRpd",
        "colab_type": "code",
        "outputId": "c62bda41-8e94-4366-8dbb-42420806fdb9",
        "colab": {
          "base_uri": "https://localhost:8080/",
          "height": 35
        }
      },
      "cell_type": "code",
      "source": [
        "# Calculating Cohens d\n",
        "d = Cohen_d(arrA,arrB)\n",
        "print(f\"Cohen's d={round(d,3)}\")"
      ],
      "execution_count": 373,
      "outputs": [
        {
          "output_type": "stream",
          "text": [
            "Cohen's d=0.178\n"
          ],
          "name": "stdout"
        }
      ]
    },
    {
      "metadata": {
        "id": "5DYTOgh-BRpf",
        "colab_type": "code",
        "outputId": "97dd99f1-10cb-4360-8700-485b9b5d0190",
        "colab": {
          "base_uri": "https://localhost:8080/",
          "height": 469
        }
      },
      "cell_type": "code",
      "source": [
        "# Plot the re-sampled data\n",
        "\n",
        "# # IF want to take smaller sample from population:\n",
        "\n",
        "# pop_samp_disc = np.random.choice(pop_samp_disc,1000)\n",
        "# pop_samp_full = np.random.choice(pop_samp_full, 1000)\n",
        "with plt.style.context(('tableau-colorblind10')):\n",
        "    fig = plt.figure()\n",
        "    \n",
        "    plt.title('Order Total  of Orders with Discounted Items vs Full Price')\n",
        "    \n",
        "    plt.hist(arrA,alpha = 0.5, bins=30,label='Discounted')\n",
        "    plt.hist(arrB,color='black', alpha = 0.5, bins=30,label='Full Price')\n",
        "\n",
        "    # Adding annotations\n",
        "    meanD = round(np.mean(arrA),3)\n",
        "    meanS = round(np.mean(arrB),3)\n",
        "    \n",
        "    plt.axvline(meanD, linestyle='--',label='Discounted Mean')\n",
        "    plt.text(meanD-1000,165,f'Mean:{meanD}',rotation=90)\n",
        "    \n",
        "    plt.axvline(meanS,color='k',linestyle='--',label='Full Price Mean')\n",
        "    plt.text(meanS+500,165,f'Mean:{meanS}',rotation=90)\n",
        "\n",
        "\n",
        "    plt.legend()\n",
        "    plt.show()\n",
        "\n",
        "# Run normality testing\n",
        "stat,p = normaltest(pop_samp_full)\n",
        "print(f'Normality: stat ={stat}, p = {p}')\n",
        "\n",
        "# Run ttest\n",
        "# tstat,tp = stats.ttest_ind(arrA, arrB)\n",
        "# print(f'T-test: stat ={tstat}, p = {tp}')#tstat,tp\n",
        "# ax.text("
      ],
      "execution_count": 374,
      "outputs": [
        {
          "output_type": "display_data",
          "data": {
            "image/png": "[encoded data removed]",
            "text/plain": [
              "<Figure size 640x480 with 1 Axes>"
            ]
          },
          "metadata": {
            "tags": []
          }
        },
        {
          "output_type": "stream",
          "text": [
            "Normality: stat =93.28540994747095, p = 5.537715101544234e-21\n"
          ],
          "name": "stdout"
        }
      ]
    },
    {
      "metadata": {
        "colab_type": "text",
        "id": "IrLcQDMPyiIl"
      },
      "cell_type": "markdown",
      "source": [
        "### Conclusions for Hypothesis 2\n",
        "- We reject the null hypothesis that there is no effect of an order containing discounted items on the order total.\n",
        "- Cohen's d indicates it a small effect size."
      ]
    },
    {
      "metadata": {
        "id": "YOggjjBYuhc5",
        "colab_type": "text"
      },
      "cell_type": "markdown",
      "source": [
        "# Hypothesis 3 - Placeholder\n"
      ]
    },
    {
      "metadata": {
        "id": "dBDZ_d_71Vat",
        "colab_type": "text"
      },
      "cell_type": "markdown",
      "source": [
        "# Hypothesis 3 (Taken from Hyppthesis Testing Outline 04-06-19)\n",
        "Does the time of year affect quantity of items sold?\n",
        "\n",
        " - H0 = The month of an order has no affect on the mean quantity of items sold.\n",
        "\n",
        " - HA = THe month an order is placed relates to either a higher or lower mean quantity of items sold.\n"
      ]
    },
    {
      "metadata": {
        "id": "7PaYTrUi1YH0",
        "colab_type": "text"
      },
      "cell_type": "markdown",
      "source": [
        "_________\n",
        "## ***Aim 1.1 : To select the proper dataset for analyiss  and generate data groups for testing.***\n",
        "\n",
        "#### Importing Method\n",
        "- Use sqlalchemy to create engine to connect to Northwind_small.sqlite.\n",
        "ENTER YOUR SQL HERE\n"
      ]
    },
    {
      "metadata": {
        "id": "flNBkgM2RY3-",
        "colab_type": "code",
        "outputId": "230bf6c4-14bd-416c-ea88-9cef49d44979",
        "colab": {
          "base_uri": "https://localhost:8080/",
          "height": 179
        }
      },
      "cell_type": "code",
      "source": [
        "\n",
        "import sqlalchemy\n",
        "from sqlalchemy import create_engine\n",
        "from sqlalchemy.orm import Session, sessionmaker\n",
        "\n",
        "from google.colab import drive\n",
        "drive.mount('/content/drive/', force_remount=True)\n",
        "\n",
        "filepath = '/content/drive/My Drive/Colab Notebooks/datasets/Northwind_small.sqlite'\n",
        "engine = create_engine('sqlite:///'+filepath,echo=True)\n",
        "inspector = inspect(engine);\n",
        "\n",
        "# df_employee = pd.read_sql_query(\"SELECT Id, Title, LastName, HireDate , BirthDate  FROM [EMPLOYEE]\", engine )\n",
        "# df_cust_ord = pd.read_sql_query(\"SELECT *FROM [Order] JOIN [Customer] ON [Customer].Id = [Order].CustomerId\", engine)\n",
        "print(inspector.get_table_names())"
      ],
      "execution_count": 375,
      "outputs": [
        {
          "output_type": "stream",
          "text": [
            "Mounted at /content/drive/\n",
            "2019-04-06 15:21:35,261 INFO sqlalchemy.engine.base.Engine SELECT CAST('test plain returns' AS VARCHAR(60)) AS anon_1\n",
            "2019-04-06 15:21:35,263 INFO sqlalchemy.engine.base.Engine ()\n",
            "2019-04-06 15:21:35,265 INFO sqlalchemy.engine.base.Engine SELECT CAST('test unicode returns' AS VARCHAR(60)) AS anon_1\n",
            "2019-04-06 15:21:35,266 INFO sqlalchemy.engine.base.Engine ()\n",
            "2019-04-06 15:21:35,275 INFO sqlalchemy.engine.base.Engine SELECT name FROM sqlite_master WHERE type='table' ORDER BY name\n",
            "2019-04-06 15:21:35,277 INFO sqlalchemy.engine.base.Engine ()\n",
            "['Category', 'Customer', 'CustomerCustomerDemo', 'CustomerDemographic', 'Employee', 'EmployeeTerritory', 'Order', 'OrderDetail', 'Product', 'Region', 'Shipper', 'Supplier', 'Territory']\n"
          ],
          "name": "stdout"
        }
      ]
    },
    {
      "metadata": {
        "id": "-8M9eXYeYwMo",
        "colab_type": "text"
      },
      "cell_type": "markdown",
      "source": [
        "### JMI Added table import and filtering."
      ]
    },
    {
      "metadata": {
        "id": "gmZ-B9tLOIaj",
        "colab_type": "code",
        "colab": {
          "base_uri": "https://localhost:8080/",
          "height": 908
        },
        "outputId": "562ca695-bc50-4f3b-af00-1a7382547dc7"
      },
      "cell_type": "code",
      "source": [
        "#JMI checking importing of tables\n",
        "DB_Order = pd.read_sql_table('Order',engine);\n",
        "DB_OrderDetail = pd.read_sql_table('OrderDetail',engine);\n",
        "print(f\"DB_Order columns:{DB_Order.columns}n\\n DB_OrderDetail columns: {DB_OrderDetail.columns}\")"
      ],
      "execution_count": 388,
      "outputs": [
        {
          "output_type": "stream",
          "text": [
            "2019-04-06 15:56:00,229 INFO sqlalchemy.engine.base.Engine SELECT name FROM sqlite_master WHERE type='table' ORDER BY name\n",
            "2019-04-06 15:56:00,234 INFO sqlalchemy.engine.base.Engine ()\n",
            "2019-04-06 15:56:00,241 INFO sqlalchemy.engine.base.Engine SELECT name FROM sqlite_master WHERE type='view' ORDER BY name\n",
            "2019-04-06 15:56:00,243 INFO sqlalchemy.engine.base.Engine ()\n",
            "2019-04-06 15:56:00,245 INFO sqlalchemy.engine.base.Engine PRAGMA table_info(\"Order\")\n",
            "2019-04-06 15:56:00,246 INFO sqlalchemy.engine.base.Engine ()\n",
            "2019-04-06 15:56:00,252 INFO sqlalchemy.engine.base.Engine SELECT sql FROM  (SELECT * FROM sqlite_master UNION ALL   SELECT * FROM sqlite_temp_master) WHERE name = 'Order' AND type = 'table'\n",
            "2019-04-06 15:56:00,253 INFO sqlalchemy.engine.base.Engine ()\n",
            "2019-04-06 15:56:00,258 INFO sqlalchemy.engine.base.Engine PRAGMA foreign_key_list(\"Order\")\n",
            "2019-04-06 15:56:00,260 INFO sqlalchemy.engine.base.Engine ()\n",
            "2019-04-06 15:56:00,266 INFO sqlalchemy.engine.base.Engine SELECT sql FROM  (SELECT * FROM sqlite_master UNION ALL   SELECT * FROM sqlite_temp_master) WHERE name = 'Order' AND type = 'table'\n",
            "2019-04-06 15:56:00,269 INFO sqlalchemy.engine.base.Engine ()\n",
            "2019-04-06 15:56:00,272 INFO sqlalchemy.engine.base.Engine PRAGMA index_list(\"Order\")\n",
            "2019-04-06 15:56:00,274 INFO sqlalchemy.engine.base.Engine ()\n",
            "2019-04-06 15:56:00,276 INFO sqlalchemy.engine.base.Engine PRAGMA index_list(\"Order\")\n",
            "2019-04-06 15:56:00,279 INFO sqlalchemy.engine.base.Engine ()\n",
            "2019-04-06 15:56:00,286 INFO sqlalchemy.engine.base.Engine SELECT sql FROM  (SELECT * FROM sqlite_master UNION ALL   SELECT * FROM sqlite_temp_master) WHERE name = 'Order' AND type = 'table'\n",
            "2019-04-06 15:56:00,287 INFO sqlalchemy.engine.base.Engine ()\n",
            "2019-04-06 15:56:00,298 INFO sqlalchemy.engine.base.Engine SELECT \"Order\".\"Id\", \"Order\".\"CustomerId\", \"Order\".\"EmployeeId\", \"Order\".\"OrderDate\", \"Order\".\"RequiredDate\", \"Order\".\"ShippedDate\", \"Order\".\"ShipVia\", \"Order\".\"Freight\", \"Order\".\"ShipName\", \"Order\".\"ShipAddress\", \"Order\".\"ShipCity\", \"Order\".\"ShipRegion\", \"Order\".\"ShipPostalCode\", \"Order\".\"ShipCountry\" \n",
            "FROM \"Order\"\n",
            "2019-04-06 15:56:00,300 INFO sqlalchemy.engine.base.Engine ()\n",
            "2019-04-06 15:56:00,325 INFO sqlalchemy.engine.base.Engine SELECT name FROM sqlite_master WHERE type='table' ORDER BY name\n",
            "2019-04-06 15:56:00,326 INFO sqlalchemy.engine.base.Engine ()\n",
            "2019-04-06 15:56:00,329 INFO sqlalchemy.engine.base.Engine SELECT name FROM sqlite_master WHERE type='view' ORDER BY name\n",
            "2019-04-06 15:56:00,331 INFO sqlalchemy.engine.base.Engine ()\n",
            "2019-04-06 15:56:00,336 INFO sqlalchemy.engine.base.Engine PRAGMA table_info(\"OrderDetail\")\n",
            "2019-04-06 15:56:00,338 INFO sqlalchemy.engine.base.Engine ()\n",
            "2019-04-06 15:56:00,341 INFO sqlalchemy.engine.base.Engine SELECT sql FROM  (SELECT * FROM sqlite_master UNION ALL   SELECT * FROM sqlite_temp_master) WHERE name = 'OrderDetail' AND type = 'table'\n",
            "2019-04-06 15:56:00,343 INFO sqlalchemy.engine.base.Engine ()\n",
            "2019-04-06 15:56:00,347 INFO sqlalchemy.engine.base.Engine PRAGMA foreign_key_list(\"OrderDetail\")\n",
            "2019-04-06 15:56:00,348 INFO sqlalchemy.engine.base.Engine ()\n",
            "2019-04-06 15:56:00,351 INFO sqlalchemy.engine.base.Engine SELECT sql FROM  (SELECT * FROM sqlite_master UNION ALL   SELECT * FROM sqlite_temp_master) WHERE name = 'OrderDetail' AND type = 'table'\n",
            "2019-04-06 15:56:00,353 INFO sqlalchemy.engine.base.Engine ()\n",
            "2019-04-06 15:56:00,355 INFO sqlalchemy.engine.base.Engine PRAGMA index_list(\"OrderDetail\")\n",
            "2019-04-06 15:56:00,357 INFO sqlalchemy.engine.base.Engine ()\n",
            "2019-04-06 15:56:00,360 INFO sqlalchemy.engine.base.Engine PRAGMA index_list(\"OrderDetail\")\n",
            "2019-04-06 15:56:00,362 INFO sqlalchemy.engine.base.Engine ()\n",
            "2019-04-06 15:56:00,365 INFO sqlalchemy.engine.base.Engine PRAGMA index_info(\"sqlite_autoindex_OrderDetail_1\")\n",
            "2019-04-06 15:56:00,366 INFO sqlalchemy.engine.base.Engine ()\n",
            "2019-04-06 15:56:00,370 INFO sqlalchemy.engine.base.Engine SELECT sql FROM  (SELECT * FROM sqlite_master UNION ALL   SELECT * FROM sqlite_temp_master) WHERE name = 'OrderDetail' AND type = 'table'\n",
            "2019-04-06 15:56:00,371 INFO sqlalchemy.engine.base.Engine ()\n",
            "2019-04-06 15:56:00,379 INFO sqlalchemy.engine.base.Engine SELECT \"OrderDetail\".\"Id\", \"OrderDetail\".\"OrderId\", \"OrderDetail\".\"ProductId\", \"OrderDetail\".\"UnitPrice\", \"OrderDetail\".\"Quantity\", \"OrderDetail\".\"Discount\" \n",
            "FROM \"OrderDetail\"\n",
            "2019-04-06 15:56:00,381 INFO sqlalchemy.engine.base.Engine ()\n",
            "DB_Order columns:Index(['Id', 'CustomerId', 'EmployeeId', 'OrderDate', 'RequiredDate',\n",
            "       'ShippedDate', 'ShipVia', 'Freight', 'ShipName', 'ShipAddress',\n",
            "       'ShipCity', 'ShipRegion', 'ShipPostalCode', 'ShipCountry'],\n",
            "      dtype='object')n\n",
            " DB_OrderDetail columns: Index(['Id', 'OrderId', 'ProductId', 'UnitPrice', 'Quantity', 'Discount'], dtype='object')\n"
          ],
          "name": "stdout"
        }
      ]
    },
    {
      "metadata": {
        "id": "7q84Lj2EW0cj",
        "colab_type": "code",
        "colab": {}
      },
      "cell_type": "code",
      "source": [
        "def df_drop_regex(DF, regex_list):\n",
        "    '''Use a list of regex to remove columns names. Returns new df.\n",
        "    \n",
        "    Parameters:\n",
        "        DF -- input dataframe to remove columns from.\n",
        "        regex_list -- list of string patterns or regexp to remove.\n",
        "    \n",
        "    Returns:\n",
        "        df_cut -- input df without the dropped columns. \n",
        "        '''\n",
        "    df_cut = DF.copy()\n",
        "    \n",
        "    for r in regex_list:\n",
        "        \n",
        "        df_cut = df_cut[df_cut.columns.drop(list(df_cut.filter(regex=r)))]\n",
        "        print(f'Removed {r}\\n')\n",
        "        \n",
        "    return df_cut"
      ],
      "execution_count": 0,
      "outputs": []
    },
    {
      "metadata": {
        "id": "mOvR5VevPGPP",
        "colab_type": "code",
        "colab": {
          "base_uri": "https://localhost:8080/",
          "height": 349
        },
        "outputId": "f9db11aa-44d3-47ac-89f5-43e14d48bc10"
      },
      "cell_type": "code",
      "source": [
        "# TAKE  DB_Orderm rename index, remove unwanted columns\n",
        "DB_Order.rename({'Id':'OrderId'},axis=1,inplace=True)\n",
        "\n",
        "# Drop unwanted columns from DB_Orde to make df_Order\n",
        "regex_to_drop = ['Date','Freight']\n",
        "\n",
        "df_Order = df_drop_regex(DB_Order, regex_to_drop)\n",
        "df_Order.head()"
      ],
      "execution_count": 396,
      "outputs": [
        {
          "output_type": "stream",
          "text": [
            "Removed Date\n",
            "\n",
            "Removed Freight\n",
            "\n"
          ],
          "name": "stdout"
        },
        {
          "output_type": "execute_result",
          "data": {
            "text/html": [
              "<div>\n",
              "<style scoped>\n",
              "    .dataframe tbody tr th:only-of-type {\n",
              "        vertical-align: middle;\n",
              "    }\n",
              "\n",
              "    .dataframe tbody tr th {\n",
              "        vertical-align: top;\n",
              "    }\n",
              "\n",
              "    .dataframe thead th {\n",
              "        text-align: right;\n",
              "    }\n",
              "</style>\n",
              "<table border=\"1\" class=\"dataframe\">\n",
              "  <thead>\n",
              "    <tr style=\"text-align: right;\">\n",
              "      <th></th>\n",
              "      <th>OrderId</th>\n",
              "      <th>CustomerId</th>\n",
              "      <th>EmployeeId</th>\n",
              "      <th>ShipVia</th>\n",
              "      <th>ShipName</th>\n",
              "      <th>ShipAddress</th>\n",
              "      <th>ShipCity</th>\n",
              "      <th>ShipRegion</th>\n",
              "      <th>ShipPostalCode</th>\n",
              "      <th>ShipCountry</th>\n",
              "    </tr>\n",
              "  </thead>\n",
              "  <tbody>\n",
              "    <tr>\n",
              "      <th>0</th>\n",
              "      <td>10248</td>\n",
              "      <td>VINET</td>\n",
              "      <td>5</td>\n",
              "      <td>3</td>\n",
              "      <td>Vins et alcools Chevalier</td>\n",
              "      <td>59 rue de l'Abbaye</td>\n",
              "      <td>Reims</td>\n",
              "      <td>Western Europe</td>\n",
              "      <td>51100</td>\n",
              "      <td>France</td>\n",
              "    </tr>\n",
              "    <tr>\n",
              "      <th>1</th>\n",
              "      <td>10249</td>\n",
              "      <td>TOMSP</td>\n",
              "      <td>6</td>\n",
              "      <td>1</td>\n",
              "      <td>Toms Spezialitäten</td>\n",
              "      <td>Luisenstr. 48</td>\n",
              "      <td>Münster</td>\n",
              "      <td>Western Europe</td>\n",
              "      <td>44087</td>\n",
              "      <td>Germany</td>\n",
              "    </tr>\n",
              "    <tr>\n",
              "      <th>2</th>\n",
              "      <td>10250</td>\n",
              "      <td>HANAR</td>\n",
              "      <td>4</td>\n",
              "      <td>2</td>\n",
              "      <td>Hanari Carnes</td>\n",
              "      <td>Rua do Paço, 67</td>\n",
              "      <td>Rio de Janeiro</td>\n",
              "      <td>South America</td>\n",
              "      <td>05454-876</td>\n",
              "      <td>Brazil</td>\n",
              "    </tr>\n",
              "    <tr>\n",
              "      <th>3</th>\n",
              "      <td>10251</td>\n",
              "      <td>VICTE</td>\n",
              "      <td>3</td>\n",
              "      <td>1</td>\n",
              "      <td>Victuailles en stock</td>\n",
              "      <td>2, rue du Commerce</td>\n",
              "      <td>Lyon</td>\n",
              "      <td>Western Europe</td>\n",
              "      <td>69004</td>\n",
              "      <td>France</td>\n",
              "    </tr>\n",
              "    <tr>\n",
              "      <th>4</th>\n",
              "      <td>10252</td>\n",
              "      <td>SUPRD</td>\n",
              "      <td>4</td>\n",
              "      <td>2</td>\n",
              "      <td>Suprêmes délices</td>\n",
              "      <td>Boulevard Tirou, 255</td>\n",
              "      <td>Charleroi</td>\n",
              "      <td>Western Europe</td>\n",
              "      <td>B-6000</td>\n",
              "      <td>Belgium</td>\n",
              "    </tr>\n",
              "  </tbody>\n",
              "</table>\n",
              "</div>"
            ],
            "text/plain": [
              "   OrderId CustomerId  EmployeeId  ShipVia                   ShipName  \\\n",
              "0    10248      VINET           5        3  Vins et alcools Chevalier   \n",
              "1    10249      TOMSP           6        1         Toms Spezialitäten   \n",
              "2    10250      HANAR           4        2              Hanari Carnes   \n",
              "3    10251      VICTE           3        1       Victuailles en stock   \n",
              "4    10252      SUPRD           4        2           Suprêmes délices   \n",
              "\n",
              "            ShipAddress        ShipCity      ShipRegion ShipPostalCode  \\\n",
              "0    59 rue de l'Abbaye           Reims  Western Europe          51100   \n",
              "1         Luisenstr. 48         Münster  Western Europe          44087   \n",
              "2       Rua do Paço, 67  Rio de Janeiro   South America      05454-876   \n",
              "3    2, rue du Commerce            Lyon  Western Europe          69004   \n",
              "4  Boulevard Tirou, 255       Charleroi  Western Europe         B-6000   \n",
              "\n",
              "  ShipCountry  \n",
              "0      France  \n",
              "1     Germany  \n",
              "2      Brazil  \n",
              "3      France  \n",
              "4     Belgium  "
            ]
          },
          "metadata": {
            "tags": []
          },
          "execution_count": 396
        }
      ]
    },
    {
      "metadata": {
        "id": "WAk83CU3ZT0h",
        "colab_type": "code",
        "colab": {}
      },
      "cell_type": "code",
      "source": [
        "df_merged = DB_OrderDetail.merge(df_Order, on='OrderId',copy=True)"
      ],
      "execution_count": 0,
      "outputs": []
    },
    {
      "metadata": {
        "id": "9SgnDaDnafwe",
        "colab_type": "code",
        "colab": {
          "base_uri": "https://localhost:8080/",
          "height": 372
        },
        "outputId": "a10655d9-0141-4983-ca8b-6abe41b498c4"
      },
      "cell_type": "code",
      "source": [
        "df_order_geo = df_merged.copy()\n",
        "df_order_geo.info()\n"
      ],
      "execution_count": 404,
      "outputs": [
        {
          "output_type": "stream",
          "text": [
            "<class 'pandas.core.frame.DataFrame'>\n",
            "Int64Index: 2155 entries, 0 to 2154\n",
            "Data columns (total 15 columns):\n",
            "Id                2155 non-null object\n",
            "OrderId           2155 non-null int64\n",
            "ProductId         2155 non-null int64\n",
            "UnitPrice         2155 non-null float64\n",
            "Quantity          2155 non-null int64\n",
            "Discount          2155 non-null float64\n",
            "CustomerId        2155 non-null object\n",
            "EmployeeId        2155 non-null int64\n",
            "ShipVia           2155 non-null int64\n",
            "ShipName          2155 non-null object\n",
            "ShipAddress       2155 non-null object\n",
            "ShipCity          2155 non-null object\n",
            "ShipRegion        2155 non-null object\n",
            "ShipPostalCode    2100 non-null object\n",
            "ShipCountry       2155 non-null object\n",
            "dtypes: float64(2), int64(5), object(8)\n",
            "memory usage: 269.4+ KB\n"
          ],
          "name": "stdout"
        }
      ]
    },
    {
      "metadata": {
        "id": "f0ixD1WJM9rZ",
        "colab_type": "code",
        "colab": {
          "base_uri": "https://localhost:8080/",
          "height": 282
        },
        "outputId": "da0ef82f-11de-4f34-8887-0aea22bd17a1"
      },
      "cell_type": "code",
      "source": [
        "df_order_geo.describe()"
      ],
      "execution_count": 405,
      "outputs": [
        {
          "output_type": "execute_result",
          "data": {
            "text/html": [
              "<div>\n",
              "<style scoped>\n",
              "    .dataframe tbody tr th:only-of-type {\n",
              "        vertical-align: middle;\n",
              "    }\n",
              "\n",
              "    .dataframe tbody tr th {\n",
              "        vertical-align: top;\n",
              "    }\n",
              "\n",
              "    .dataframe thead th {\n",
              "        text-align: right;\n",
              "    }\n",
              "</style>\n",
              "<table border=\"1\" class=\"dataframe\">\n",
              "  <thead>\n",
              "    <tr style=\"text-align: right;\">\n",
              "      <th></th>\n",
              "      <th>OrderId</th>\n",
              "      <th>ProductId</th>\n",
              "      <th>UnitPrice</th>\n",
              "      <th>Quantity</th>\n",
              "      <th>Discount</th>\n",
              "      <th>EmployeeId</th>\n",
              "      <th>ShipVia</th>\n",
              "    </tr>\n",
              "  </thead>\n",
              "  <tbody>\n",
              "    <tr>\n",
              "      <th>count</th>\n",
              "      <td>2155.000000</td>\n",
              "      <td>2155.000000</td>\n",
              "      <td>2155.000000</td>\n",
              "      <td>2155.000000</td>\n",
              "      <td>2155.000000</td>\n",
              "      <td>2155.000000</td>\n",
              "      <td>2155.000000</td>\n",
              "    </tr>\n",
              "    <tr>\n",
              "      <th>mean</th>\n",
              "      <td>10659.375870</td>\n",
              "      <td>40.793039</td>\n",
              "      <td>26.218520</td>\n",
              "      <td>23.812993</td>\n",
              "      <td>0.056167</td>\n",
              "      <td>4.333179</td>\n",
              "      <td>1.999536</td>\n",
              "    </tr>\n",
              "    <tr>\n",
              "      <th>std</th>\n",
              "      <td>241.378032</td>\n",
              "      <td>22.159019</td>\n",
              "      <td>29.827418</td>\n",
              "      <td>19.022047</td>\n",
              "      <td>0.083450</td>\n",
              "      <td>2.490351</td>\n",
              "      <td>0.774177</td>\n",
              "    </tr>\n",
              "    <tr>\n",
              "      <th>min</th>\n",
              "      <td>10248.000000</td>\n",
              "      <td>1.000000</td>\n",
              "      <td>2.000000</td>\n",
              "      <td>1.000000</td>\n",
              "      <td>0.000000</td>\n",
              "      <td>1.000000</td>\n",
              "      <td>1.000000</td>\n",
              "    </tr>\n",
              "    <tr>\n",
              "      <th>25%</th>\n",
              "      <td>10451.000000</td>\n",
              "      <td>22.000000</td>\n",
              "      <td>12.000000</td>\n",
              "      <td>10.000000</td>\n",
              "      <td>0.000000</td>\n",
              "      <td>2.000000</td>\n",
              "      <td>1.000000</td>\n",
              "    </tr>\n",
              "    <tr>\n",
              "      <th>50%</th>\n",
              "      <td>10657.000000</td>\n",
              "      <td>41.000000</td>\n",
              "      <td>18.400000</td>\n",
              "      <td>20.000000</td>\n",
              "      <td>0.000000</td>\n",
              "      <td>4.000000</td>\n",
              "      <td>2.000000</td>\n",
              "    </tr>\n",
              "    <tr>\n",
              "      <th>75%</th>\n",
              "      <td>10862.500000</td>\n",
              "      <td>60.000000</td>\n",
              "      <td>32.000000</td>\n",
              "      <td>30.000000</td>\n",
              "      <td>0.100000</td>\n",
              "      <td>7.000000</td>\n",
              "      <td>3.000000</td>\n",
              "    </tr>\n",
              "    <tr>\n",
              "      <th>max</th>\n",
              "      <td>11077.000000</td>\n",
              "      <td>77.000000</td>\n",
              "      <td>263.500000</td>\n",
              "      <td>130.000000</td>\n",
              "      <td>0.250000</td>\n",
              "      <td>9.000000</td>\n",
              "      <td>3.000000</td>\n",
              "    </tr>\n",
              "  </tbody>\n",
              "</table>\n",
              "</div>"
            ],
            "text/plain": [
              "            OrderId    ProductId    UnitPrice     Quantity     Discount  \\\n",
              "count   2155.000000  2155.000000  2155.000000  2155.000000  2155.000000   \n",
              "mean   10659.375870    40.793039    26.218520    23.812993     0.056167   \n",
              "std      241.378032    22.159019    29.827418    19.022047     0.083450   \n",
              "min    10248.000000     1.000000     2.000000     1.000000     0.000000   \n",
              "25%    10451.000000    22.000000    12.000000    10.000000     0.000000   \n",
              "50%    10657.000000    41.000000    18.400000    20.000000     0.000000   \n",
              "75%    10862.500000    60.000000    32.000000    30.000000     0.100000   \n",
              "max    11077.000000    77.000000   263.500000   130.000000     0.250000   \n",
              "\n",
              "        EmployeeId      ShipVia  \n",
              "count  2155.000000  2155.000000  \n",
              "mean      4.333179     1.999536  \n",
              "std       2.490351     0.774177  \n",
              "min       1.000000     1.000000  \n",
              "25%       2.000000     1.000000  \n",
              "50%       4.000000     2.000000  \n",
              "75%       7.000000     3.000000  \n",
              "max       9.000000     3.000000  "
            ]
          },
          "metadata": {
            "tags": []
          },
          "execution_count": 405
        }
      ]
    },
    {
      "metadata": {
        "id": "kZrILqbzLakW",
        "colab_type": "code",
        "colab": {}
      },
      "cell_type": "code",
      "source": [
        "# # Remove some columns from df_order_geo\n",
        "\n",
        "# df_order_geo.drop(['OrderId', 'ShipName', 'ShippedDate', 'RequiredDate', 'ShipVia','ShipAddress',\n",
        "#              'RequiredDate','ShippedDate', 'Freight'],inplace=True, axis=1)\n",
        "# # relabel the Id column so they have unique names\n",
        "# df_order_geo.rename(columns={'Id':'OrderId_'},inplace=True )\n",
        "# df_order_geo.info()\n",
        "# # print(f'df_ord.info():\\n {df_ord.info()}\\n\\ndf_order_geo.info():\\n{df_order_geo.info()}')\n"
      ],
      "execution_count": 0,
      "outputs": []
    },
    {
      "metadata": {
        "id": "xMsnQk78MlLi",
        "colab_type": "code",
        "colab": {
          "base_uri": "https://localhost:8080/",
          "height": 302
        },
        "outputId": "dd9c462e-8b74-4dc3-9864-55d8e25873d8"
      },
      "cell_type": "code",
      "source": [
        "#Apply calc_product_price to every row \n",
        "df_price_geo = df_order_geo.apply(lambda x: calc_product_price(x),axis=1)\n",
        "\n",
        "# Apply_calc_order_total to every row\n",
        "df_price_geo = df_price_geo.apply(lambda x: calc_order_total(x,df_price_geo), axis=1)  \n",
        "df_price_geo.describe()"
      ],
      "execution_count": 406,
      "outputs": [
        {
          "output_type": "execute_result",
          "data": {
            "text/html": [
              "<div>\n",
              "<style scoped>\n",
              "    .dataframe tbody tr th:only-of-type {\n",
              "        vertical-align: middle;\n",
              "    }\n",
              "\n",
              "    .dataframe tbody tr th {\n",
              "        vertical-align: top;\n",
              "    }\n",
              "\n",
              "    .dataframe thead th {\n",
              "        text-align: right;\n",
              "    }\n",
              "</style>\n",
              "<table border=\"1\" class=\"dataframe\">\n",
              "  <thead>\n",
              "    <tr style=\"text-align: right;\">\n",
              "      <th></th>\n",
              "      <th>OrderId</th>\n",
              "      <th>ProductId</th>\n",
              "      <th>UnitPrice</th>\n",
              "      <th>Quantity</th>\n",
              "      <th>Discount</th>\n",
              "      <th>EmployeeId</th>\n",
              "      <th>ShipVia</th>\n",
              "      <th>price</th>\n",
              "      <th>OnSale</th>\n",
              "      <th>discounted_order</th>\n",
              "      <th>order_total</th>\n",
              "    </tr>\n",
              "  </thead>\n",
              "  <tbody>\n",
              "    <tr>\n",
              "      <th>count</th>\n",
              "      <td>2155.000000</td>\n",
              "      <td>2155.000000</td>\n",
              "      <td>2155.000000</td>\n",
              "      <td>2155.000000</td>\n",
              "      <td>2155.000000</td>\n",
              "      <td>2155.000000</td>\n",
              "      <td>2155.000000</td>\n",
              "      <td>2155.000000</td>\n",
              "      <td>2155.000000</td>\n",
              "      <td>2155.000000</td>\n",
              "      <td>2155.000000</td>\n",
              "    </tr>\n",
              "    <tr>\n",
              "      <th>mean</th>\n",
              "      <td>10659.375870</td>\n",
              "      <td>40.793039</td>\n",
              "      <td>26.218520</td>\n",
              "      <td>23.812993</td>\n",
              "      <td>0.056167</td>\n",
              "      <td>4.333179</td>\n",
              "      <td>1.999536</td>\n",
              "      <td>587.374960</td>\n",
              "      <td>0.388863</td>\n",
              "      <td>0.484919</td>\n",
              "      <td>1854.402873</td>\n",
              "    </tr>\n",
              "    <tr>\n",
              "      <th>std</th>\n",
              "      <td>241.378032</td>\n",
              "      <td>22.159019</td>\n",
              "      <td>29.827418</td>\n",
              "      <td>19.022047</td>\n",
              "      <td>0.083450</td>\n",
              "      <td>2.490351</td>\n",
              "      <td>0.774177</td>\n",
              "      <td>969.224235</td>\n",
              "      <td>0.487605</td>\n",
              "      <td>0.499889</td>\n",
              "      <td>1961.203326</td>\n",
              "    </tr>\n",
              "    <tr>\n",
              "      <th>min</th>\n",
              "      <td>10248.000000</td>\n",
              "      <td>1.000000</td>\n",
              "      <td>2.000000</td>\n",
              "      <td>1.000000</td>\n",
              "      <td>0.000000</td>\n",
              "      <td>1.000000</td>\n",
              "      <td>1.000000</td>\n",
              "      <td>4.800000</td>\n",
              "      <td>0.000000</td>\n",
              "      <td>0.000000</td>\n",
              "      <td>12.500000</td>\n",
              "    </tr>\n",
              "    <tr>\n",
              "      <th>25%</th>\n",
              "      <td>10451.000000</td>\n",
              "      <td>22.000000</td>\n",
              "      <td>12.000000</td>\n",
              "      <td>10.000000</td>\n",
              "      <td>0.000000</td>\n",
              "      <td>2.000000</td>\n",
              "      <td>1.000000</td>\n",
              "      <td>147.000000</td>\n",
              "      <td>0.000000</td>\n",
              "      <td>0.000000</td>\n",
              "      <td>634.200000</td>\n",
              "    </tr>\n",
              "    <tr>\n",
              "      <th>50%</th>\n",
              "      <td>10657.000000</td>\n",
              "      <td>41.000000</td>\n",
              "      <td>18.400000</td>\n",
              "      <td>20.000000</td>\n",
              "      <td>0.000000</td>\n",
              "      <td>4.000000</td>\n",
              "      <td>2.000000</td>\n",
              "      <td>337.750000</td>\n",
              "      <td>0.000000</td>\n",
              "      <td>0.000000</td>\n",
              "      <td>1336.950000</td>\n",
              "    </tr>\n",
              "    <tr>\n",
              "      <th>75%</th>\n",
              "      <td>10862.500000</td>\n",
              "      <td>60.000000</td>\n",
              "      <td>32.000000</td>\n",
              "      <td>30.000000</td>\n",
              "      <td>0.100000</td>\n",
              "      <td>7.000000</td>\n",
              "      <td>3.000000</td>\n",
              "      <td>656.000000</td>\n",
              "      <td>1.000000</td>\n",
              "      <td>1.000000</td>\n",
              "      <td>2222.300000</td>\n",
              "    </tr>\n",
              "    <tr>\n",
              "      <th>max</th>\n",
              "      <td>11077.000000</td>\n",
              "      <td>77.000000</td>\n",
              "      <td>263.500000</td>\n",
              "      <td>130.000000</td>\n",
              "      <td>0.250000</td>\n",
              "      <td>9.000000</td>\n",
              "      <td>3.000000</td>\n",
              "      <td>15810.000000</td>\n",
              "      <td>1.000000</td>\n",
              "      <td>1.000000</td>\n",
              "      <td>16387.500000</td>\n",
              "    </tr>\n",
              "  </tbody>\n",
              "</table>\n",
              "</div>"
            ],
            "text/plain": [
              "            OrderId    ProductId    UnitPrice     Quantity     Discount  \\\n",
              "count   2155.000000  2155.000000  2155.000000  2155.000000  2155.000000   \n",
              "mean   10659.375870    40.793039    26.218520    23.812993     0.056167   \n",
              "std      241.378032    22.159019    29.827418    19.022047     0.083450   \n",
              "min    10248.000000     1.000000     2.000000     1.000000     0.000000   \n",
              "25%    10451.000000    22.000000    12.000000    10.000000     0.000000   \n",
              "50%    10657.000000    41.000000    18.400000    20.000000     0.000000   \n",
              "75%    10862.500000    60.000000    32.000000    30.000000     0.100000   \n",
              "max    11077.000000    77.000000   263.500000   130.000000     0.250000   \n",
              "\n",
              "        EmployeeId      ShipVia         price       OnSale  discounted_order  \\\n",
              "count  2155.000000  2155.000000   2155.000000  2155.000000       2155.000000   \n",
              "mean      4.333179     1.999536    587.374960     0.388863          0.484919   \n",
              "std       2.490351     0.774177    969.224235     0.487605          0.499889   \n",
              "min       1.000000     1.000000      4.800000     0.000000          0.000000   \n",
              "25%       2.000000     1.000000    147.000000     0.000000          0.000000   \n",
              "50%       4.000000     2.000000    337.750000     0.000000          0.000000   \n",
              "75%       7.000000     3.000000    656.000000     1.000000          1.000000   \n",
              "max       9.000000     3.000000  15810.000000     1.000000          1.000000   \n",
              "\n",
              "        order_total  \n",
              "count   2155.000000  \n",
              "mean    1854.402873  \n",
              "std     1961.203326  \n",
              "min       12.500000  \n",
              "25%      634.200000  \n",
              "50%     1336.950000  \n",
              "75%     2222.300000  \n",
              "max    16387.500000  "
            ]
          },
          "metadata": {
            "tags": []
          },
          "execution_count": 406
        }
      ]
    },
    {
      "metadata": {
        "id": "M9BSk8NMJMLi",
        "colab_type": "code",
        "colab": {}
      },
      "cell_type": "code",
      "source": [
        "# Ssave df_oruce \n",
        "save = input(prompt='Would you like to export the dataframe above? (y/n)\\n')\n",
        "if save.lower()=='y':\n",
        "    filename ='df_H3_price_w_dates_products.csv'\n",
        "    df_H3_price_w_dates_products = df_price_geo.copy()\n",
        "    df_H3_price_w_dates_products.to_csv(filename)\n",
        "    print(f'df_price exported and saved as {filename}...')\n",
        "    print(f'if you are running this on Colab:...\\nOpen File sidebar, click Refresh, right click on {filename} to Download.')\n",
        "    \n",
        "    filename ='df_H3_price_w_dates_orders.csv'\n",
        "    df_H3_price_w_dates_orders = df_H3_price_w_dates_products.drop_duplicates(subset=['OrderId'])\n",
        "    df_H3_price_w_dates_orders.to_csv(filename)\n",
        "    print(f'if you are running this on Colab:...\\nOpen File sidebar, click Refresh, right click on {filename} to Download.')\n",
        "\n",
        "else:\n",
        "    print('No .csv exported.')"
      ],
      "execution_count": 0,
      "outputs": []
    },
    {
      "metadata": {
        "id": "n2o_Tmh2Inok",
        "colab_type": "code",
        "colab": {}
      },
      "cell_type": "code",
      "source": [
        "\n",
        "df_H3_price_w_dates_products = df\n",
        "df_H3_price_w_dates_orders = df_H3_price_w_dates.drop_duplicates(subset=['OrderId'])\n",
        "df_H3_price_w_dates_orders.info()\n"
      ],
      "execution_count": 0,
      "outputs": []
    },
    {
      "metadata": {
        "id": "HhtRJMv7asnu",
        "colab_type": "text"
      },
      "cell_type": "markdown",
      "source": [
        "### Mike's original importing (mostly)"
      ]
    },
    {
      "metadata": {
        "id": "HgE9TMkNh3Pu",
        "colab_type": "code",
        "colab": {}
      },
      "cell_type": "code",
      "source": [
        "df_ord = pd.read_sql_query(\"SELECT * FROM OrderDetail JOIN [Order]  ON [Order].Id = OrderDetail.OrderId\", engine)\n",
        "df_order\n",
        "# df_ord = pd.concat([df_ord, df_employee['Title']], axis=1)\n",
        "print(df_ord.columns)\n",
        "print(df_ord.isna().sum())\n",
        "# str(df_ord.Id) == str(df_ord.OrderId\n",
        "df_ord.head()"
      ],
      "execution_count": 0,
      "outputs": []
    },
    {
      "metadata": {
        "id": "37TkSsLXLHJH",
        "colab_type": "code",
        "colab": {}
      },
      "cell_type": "code",
      "source": [
        "\n",
        "# Creating df_order_geo that will keep more of the geographical informaiton to export\n",
        "df_ord.columns == df_order_geo.columns\n",
        "\n",
        "#Original extract from mike\n",
        "#Drop wht we dont need\n",
        "df_ord.drop(['OrderId', 'ShipName', 'ShippedDate', 'RequiredDate', 'ShipVia','ShipAddress',\n",
        "             'RequiredDate','ShippedDate', 'ShippedDate', 'ShipCity', 'ShipCountry',\n",
        "            'ShipRegion', 'Freight'],inplace=True, axis=1)\n",
        "\n",
        "\n",
        "# relabel the Id column so they have unique names\n",
        "df_ord.columns = ['Id', 'ProductId', 'UnitPrice', 'Quantity', 'Discount', 'OrderId',\n",
        "       'CustomerId', 'EmployeeId', 'OrderDate', 'ShipPostalCode']"
      ],
      "execution_count": 0,
      "outputs": []
    },
    {
      "metadata": {
        "id": "NA8ibZmLiCEC",
        "colab_type": "code",
        "colab": {}
      },
      "cell_type": "code",
      "source": [
        "# #Drop wht we dont need\n",
        "# df_order_geo = df_ord.copy()\n",
        "\n",
        "# df_ord.drop(['OrderId', 'ShipName', 'ShippedDate', 'RequiredDate', 'ShipVia','ShipAddress',\n",
        "#              'RequiredDate','ShippedDate', 'ShippedDate', 'ShipCity', 'ShipCountry','ShipRegion', 'Freight'],inplace=True, axis=1)\n",
        "# df_ord.columns = ['Id', 'ProductId', 'UnitPrice', 'Quantity', 'Discount', 'OrderId',\n",
        "#        'CustomerId', 'EmployeeId', 'OrderDate', 'ShipPostalCode']\n",
        "\n",
        "\n",
        "# df_order_geo.drop(['OrderId', 'ShipName', 'ShippedDate', 'RequiredDate', 'ShipVia','ShipAddress',\n",
        "#              'RequiredDate','ShippedDate', 'Freight'],inplace=True, axis=1)\n",
        "# # relabel the Id column so they have unique names\n",
        "# df_order_geo.rename({'Id':'OrderId'}, )\n",
        "\n",
        "# print(f'df_ord.info():\\n {df_ord.info()}\\n\\ndf_order_geo.info():\\n{df_order_geo.info()}')\n"
      ],
      "execution_count": 0,
      "outputs": []
    },
    {
      "metadata": {
        "id": "ztrpARiNBM31",
        "colab_type": "code",
        "colab": {}
      },
      "cell_type": "code",
      "source": [
        ""
      ],
      "execution_count": 0,
      "outputs": []
    },
    {
      "metadata": {
        "id": "BZ7haVualclY",
        "colab_type": "text"
      },
      "cell_type": "markdown",
      "source": [
        "### Engineering price features for our hypothesis"
      ]
    },
    {
      "metadata": {
        "id": "-qewqDkPectU",
        "colab_type": "text"
      },
      "cell_type": "markdown",
      "source": [
        "##### def calc_product_price & cal_order_total"
      ]
    },
    {
      "metadata": {
        "id": "J9YIedhAu-O2",
        "colab_type": "code",
        "colab": {}
      },
      "cell_type": "code",
      "source": [
        "#from James\n",
        "def calc_product_price(row):\n",
        "    price = row['UnitPrice']*(1-row['Discount'])*row['Quantity']\n",
        "    row['price'] = price\n",
        "    if row['Discount']>0:\n",
        "        row['OnSale'] = True\n",
        "    else:\n",
        "        row['OnSale'] = False\n",
        "    return row    \n",
        "\n",
        "# Use calc_order_total to fill in order_total column\n",
        "def calc_order_total(row,df):\n",
        "    order = row['OrderId']\n",
        "    df_temp = df.groupby('OrderId').get_group(order)\n",
        "\n",
        "    \n",
        "    if any(df_temp['OnSale']):\n",
        "        row['discounted_order'] = True\n",
        "    else:\n",
        "        row['discounted_order'] = False\n",
        "    \n",
        "    order_total = df_temp['price'].sum()\n",
        "    row['order_total'] = order_total\n",
        "    \n",
        "    return row"
      ],
      "execution_count": 0,
      "outputs": []
    },
    {
      "metadata": {
        "id": "Wyb-1bCvd90c",
        "colab_type": "text"
      },
      "cell_type": "markdown",
      "source": [
        "##### make new df with new features"
      ]
    },
    {
      "metadata": {
        "id": "MfRRthIDeFeQ",
        "colab_type": "code",
        "colab": {}
      },
      "cell_type": "code",
      "source": [
        "#Apply calc_product_price to every row \n",
        "\n",
        "df_price = df_ord.apply(lambda x: calc_product_price(x),axis=1)\n",
        "\n",
        "# Apply_calc_order_total to every row\n",
        "\n",
        "df_price = df_price.apply(lambda x: calc_order_total(x,df_price), axis=1)  \n",
        "df_price.describe()"
      ],
      "execution_count": 0,
      "outputs": []
    },
    {
      "metadata": {
        "id": "qed8obkqmaX_",
        "colab_type": "text"
      },
      "cell_type": "markdown",
      "source": [
        "### Adding datetime columns for day of week and month"
      ]
    },
    {
      "metadata": {
        "id": "SJ0oHs0agtro",
        "colab_type": "code",
        "colab": {}
      },
      "cell_type": "code",
      "source": [
        "#convert dates to datetime\n",
        "df_price['OrderDate'] = pd.to_datetime(df_price.OrderDate )\n",
        "df_price.OrderDate.sort_values().min(), df_price.OrderDate.sort_values().max()# seeing date range"
      ],
      "execution_count": 0,
      "outputs": []
    },
    {
      "metadata": {
        "id": "K6ISt698TKFB",
        "colab_type": "code",
        "colab": {}
      },
      "cell_type": "code",
      "source": [
        "# concat two dfs\n",
        "# df_price = pd.concat([df_price, df_ord[['OrderDate']]], axis=1) #, 'EmployeeId', 'employee_title"
      ],
      "execution_count": 0,
      "outputs": []
    },
    {
      "metadata": {
        "id": "suMU_rYsTwGA",
        "colab_type": "code",
        "colab": {}
      },
      "cell_type": "code",
      "source": [
        "#\n",
        "# create columns for day of week and month\n",
        "df_price['OrderDate'] = pd.to_datetime(df_price.OrderDate)\n",
        "\n",
        "df_price['week_day'] = df_price['OrderDate'].dt.dayofweek\n",
        "df_price['month'] = df_price['OrderDate'].dt.month\n",
        "\n",
        "df_price.info()\n"
      ],
      "execution_count": 0,
      "outputs": []
    },
    {
      "metadata": {
        "colab_type": "code",
        "id": "-bLcUQq5TO2-",
        "colab": {}
      },
      "cell_type": "code",
      "source": [
        "##JMI Note: doesn't seem to be used so commenting out. \n",
        "# criteria = df_price['month'] <= 6 # boolean selector used to select parts of df for possible plotting options\n",
        "\n",
        "# #drop duplicate orders based on OrderId to not inflate or deflate order_total mean\n",
        "# # split in two for exploring subsets\n",
        "# df_month6 = df_price.loc[criteria,['month','order_total','Discount','OrderId']].drop_duplicates(['OrderId'])\n",
        "# df_month12 = df_price.loc[~criteria,['month','order_total','Discount','OrderId']].drop_duplicates(['OrderId'])\n",
        "\n",
        "# #Did use this variable\n",
        "# total_order = pd.concat([df_month6['order_total'], df_month12['order_total']],axis=0)\n",
        "# len(total_order) == len(df_month6['order_total'])+len(df_month12['order_total']) # verifying correct lengths"
      ],
      "execution_count": 0,
      "outputs": []
    },
    {
      "metadata": {
        "id": "59EIWG2zlOQv",
        "colab_type": "text"
      },
      "cell_type": "markdown",
      "source": [
        "####Subset our final working dataframe for further testing"
      ]
    },
    {
      "metadata": {
        "id": "W3ISv47sTXEe",
        "colab_type": "code",
        "colab": {}
      },
      "cell_type": "code",
      "source": [
        "# Create df_year_orders from df_price, but Remove duplicate orders from df_year_orders\n",
        "df_year_orders = df_price.loc[:,['month', 'order_total', 'Discount', 'OrderId']].drop_duplicates(['OrderId'])\n",
        "df_year_orders.info()"
      ],
      "execution_count": 0,
      "outputs": []
    },
    {
      "metadata": {
        "id": "d64NuV4ylahh",
        "colab_type": "text"
      },
      "cell_type": "markdown",
      "source": [
        "#### Create a dictionary containing keys and values representing months to assist in plotting and testing"
      ]
    },
    {
      "metadata": {
        "id": "SIQ4qydMlyF-",
        "colab_type": "code",
        "colab": {}
      },
      "cell_type": "code",
      "source": [
        "#make list of month names (strings)\n",
        "months = ['jan','feb', 'mar', 'apr', 'may' , 'jun', 'jul', 'aug', 'sep', 'oct', 'nov', 'dec']#creating label names\n",
        "#make corresponding list of integers from 1 = 'jan' through 12 = 'dec'\n",
        "month_code = list(range(1,len(months)+1))\n",
        "month_dict = dict(zip(month_code,months)) # zip the two into a dictionary\n",
        "month_dict.items()"
      ],
      "execution_count": 0,
      "outputs": []
    },
    {
      "metadata": {
        "id": "4mYSeThzw7OY",
        "colab_type": "text"
      },
      "cell_type": "markdown",
      "source": [
        "####Finally ad one more columns, month_name"
      ]
    },
    {
      "metadata": {
        "id": "NgIsZB9Ww6my",
        "colab_type": "code",
        "colab": {}
      },
      "cell_type": "code",
      "source": [
        "for k,v in month_dict.items():\n",
        "  df_year_orders.loc[(df_year_orders['month'] == k), 'month_name'] = v \n",
        "df_year_orders.head(), df_year_orders.tail()"
      ],
      "execution_count": 0,
      "outputs": []
    },
    {
      "metadata": {
        "id": "WFi_GbL4BYUw",
        "colab_type": "code",
        "colab": {}
      },
      "cell_type": "code",
      "source": [
        ""
      ],
      "execution_count": 0,
      "outputs": []
    },
    {
      "metadata": {
        "id": "eOHvLslMTz2u",
        "colab_type": "text"
      },
      "cell_type": "markdown",
      "source": [
        "### EDA\n",
        " - define uselful functions for visualizations\n",
        " - Plotting and visualizing features"
      ]
    },
    {
      "metadata": {
        "id": "cC9pxUInUYo9",
        "colab_type": "text"
      },
      "cell_type": "markdown",
      "source": [
        "#### Define plotting functions for looking at each month individually \n"
      ]
    },
    {
      "metadata": {
        "id": "cPcTIgoDX4u-",
        "colab_type": "text"
      },
      "cell_type": "markdown",
      "source": [
        "##### def make_violinplot"
      ]
    },
    {
      "metadata": {
        "id": "iR1kdhfiT8J_",
        "colab_type": "code",
        "colab": {}
      },
      "cell_type": "code",
      "source": [
        "# plotting order totals per month in violin plots\n",
        "\n",
        "def make_violinplot(x,y, title=None, hue=None, ticklabels=None):\n",
        "  \n",
        "  '''Plots a violin plot with horizontal mean line, inner stick lines'''\n",
        "  \n",
        "  plt.style.use('dark_background')\n",
        "  fig,ax =plt.subplots(figsize=(12,10))\n",
        "\n",
        "\n",
        "  sns.violinplot(x, y,cut=2,split=True, scale='count', scale_hue=True,\n",
        "                 saturation=.5, alpha=.9,bw=.25, palette='Dark2',inner='stick', hue=hue).set_title(title)\n",
        "\n",
        "  ax.axhline(y.mean(),label='total mean', ls=':', alpha=.5, color='xkcd:yellow')\n",
        "  ax.set_xticklabels(ticklabels)\n",
        "\n",
        "  plt.legend()\n",
        "  plt.show()\n",
        "  x= df_year_orders['month']\n",
        "  y= df_year_orders['order_total']\n",
        "  title = 'Order totals per month with or without discounts'\n",
        "  hue=df_year_orders['Discount']>0"
      ],
      "execution_count": 0,
      "outputs": []
    },
    {
      "metadata": {
        "id": "5ZXCOjzFbspu",
        "colab_type": "text"
      },
      "cell_type": "markdown",
      "source": [
        "##### def make-stripplot"
      ]
    },
    {
      "metadata": {
        "colab_type": "code",
        "id": "S9Yyn3cBbw7r",
        "colab": {}
      },
      "cell_type": "code",
      "source": [
        "def make_stripplot(x, y, title=None, hue=None, ticklabels=None):\n",
        "\n",
        "  plt.style.use('dark_background')\n",
        "  fig,ax =plt.subplots(figsize=(8,6))\n",
        "\n",
        "\n",
        "  sns.stripplot(x, y, jitter=True, size=12,edgecolor='gray',linewidth=1.5, alpha=.5, palette='Dark2',marker='d', hue=hue).set_title(title)\n",
        "\n",
        "  ax.axhline(y.mean(),label='total mean', ls=':', alpha=.5, color='xkcd:yellow')\n",
        "  ax.set_xticklabels(ticklabels)\n",
        "\n",
        "  plt.legend()\n",
        "  plt.show()\n"
      ],
      "execution_count": 0,
      "outputs": []
    },
    {
      "metadata": {
        "id": "cBrj92x2Us3C",
        "colab_type": "text"
      },
      "cell_type": "markdown",
      "source": [
        "##### def draw_histograms"
      ]
    },
    {
      "metadata": {
        "id": "3LvINQTiUO6y",
        "colab_type": "code",
        "colab": {}
      },
      "cell_type": "code",
      "source": [
        "plt.style.use('default')\n",
        "def draw_histograms(df, variable, sample_dict, n_rows, n_cols):\n",
        "\n",
        "  '''Takes dataframe, variable is column name , plots histograms '''\n",
        "  \n",
        "  with plt.style.context('seaborn-paper'):\n",
        "\n",
        "    fig = plt.figure(figsize=(10,10))\n",
        "\n",
        "    for k,v in sample_dict.items():\n",
        "\n",
        "      month = df[df[variable] == k]['order_total']\n",
        "      month_mean = round(np.mean(month),2)\n",
        "\n",
        "      year =  df[df['month'] != k]['order_total']\n",
        "      year_mean = round(np.mean(year),2)\n",
        "\n",
        "      ax = fig.add_subplot(n_rows,n_cols,k)\n",
        "      ax.tick_params(labelsize=8)\n",
        "\n",
        "      plt.hist(year, bins=90,alpha=.7, label='Rest of Year')\n",
        "      plt.hist(month, alpha=.6,label= v.title())\n",
        "\n",
        "      ax.set_title(v.title(),fontsize=14)\n",
        "\n",
        "      plt.axvline(month_mean, color='xkcd:fuchsia',linestyle='--',\n",
        "                  label='Sample Mean \\n'+str(month_mean))\n",
        "\n",
        "      plt.axvline(year_mean,color='xkcd:green',linestyle='-',\n",
        "                  label='Pop. Mean \\n'+str(year_mean))\n",
        "\n",
        "      plt.legend(fontsize=6, frameon=False, ncol = 2 )\n",
        "\n",
        "    fig.tight_layout()    \n",
        "    plt.show()"
      ],
      "execution_count": 0,
      "outputs": []
    },
    {
      "metadata": {
        "id": "kR6ajM4YVH3z",
        "colab_type": "text"
      },
      "cell_type": "markdown",
      "source": [
        "##### def draw_histograms_sample "
      ]
    },
    {
      "metadata": {
        "id": "b290y-7DVQg_",
        "colab_type": "code",
        "colab": {}
      },
      "cell_type": "code",
      "source": [
        "def draw_histograms_from_sample(population,sample, sample_dict, n_rows, n_cols):\n",
        "\n",
        "  fig = plt.figure(figsize=(8.5,7.5))\n",
        "  count = 0\n",
        "  \n",
        "  for k,v in sample_dict.items():\n",
        "    \n",
        "    count += 1                        \n",
        "\n",
        "    month = sample_dict[k] #pop_samp_month_dict[k]\n",
        "    month_mean = round(np.mean(v),2)\n",
        "    \n",
        "    year = population\n",
        "    year_mean = round(np.mean(population),2)\n",
        "\n",
        "    ax = fig.add_subplot(n_rows,n_cols, count)\n",
        "    ax.tick_params(labelsize=8)\n",
        "\n",
        "    plt.hist(year, alpha=.8, label='All Months')\n",
        "    plt.hist(month, alpha=.6, label = v.title())\n",
        "\n",
        "    ax.set_title(k.title(),fontsize=14)\n",
        "\n",
        "    plt.axvline(month_mean, color='xkcd:fuchsia',linestyle='--',\n",
        "                label='Sample Mean \\n'+str(month_mean))\n",
        "    plt.axvline(year_mean,color='xkcd:green',linestyle='-',\n",
        "                label='Pop. Mean \\n'+str(year_mean))\n",
        "    \n",
        "    plt.legend(fontsize=6, frameon=False)\n",
        "    \n",
        "  fig.tight_layout()    \n",
        "  plt.show()"
      ],
      "execution_count": 0,
      "outputs": []
    },
    {
      "metadata": {
        "id": "m-IJsfaeZShd",
        "colab_type": "text"
      },
      "cell_type": "markdown",
      "source": [
        "#### plot initial order totals by month"
      ]
    },
    {
      "metadata": {
        "id": "vWUI5areZg83",
        "colab_type": "code",
        "colab": {}
      },
      "cell_type": "code",
      "source": [
        "#declare variables to be plotted\n",
        "\n",
        "x = df_year_orders['month']\n",
        "y = df_year_orders['order_total']\n",
        "ticks = [v for v in month_dict.values()] \n",
        "title = 'Order totals per month with or without discounts'\n",
        "hue = df_year_orders['Discount']>0"
      ],
      "execution_count": 0,
      "outputs": []
    },
    {
      "metadata": {
        "id": "600QfjFUZo0N",
        "colab_type": "code",
        "colab": {}
      },
      "cell_type": "code",
      "source": [
        "make_violinplot(x,y,title,hue, ticks)"
      ],
      "execution_count": 0,
      "outputs": []
    },
    {
      "metadata": {
        "id": "yKstXyROa-5y",
        "colab_type": "code",
        "colab": {}
      },
      "cell_type": "code",
      "source": [
        "make_stripplot(x,y,title,hue,ticks)"
      ],
      "execution_count": 0,
      "outputs": []
    },
    {
      "metadata": {
        "id": "i4ODtjI71c03",
        "colab_type": "text"
      },
      "cell_type": "markdown",
      "source": [
        "## ***Aim 2 : Run final workflow for testing assumptions***\n",
        "\n",
        "---\n",
        "\n",
        "\n",
        "\n",
        "---\n",
        "\n"
      ]
    },
    {
      "metadata": {
        "colab_type": "text",
        "id": "I_SLI1cmBqgU"
      },
      "cell_type": "markdown",
      "source": [
        "### Aim 2.1: Test for Normality"
      ]
    },
    {
      "metadata": {
        "id": "xkFmrtPc1a8I",
        "colab_type": "text"
      },
      "cell_type": "markdown",
      "source": [
        "\n",
        "* ***Aim 2: Select the appropriate t-test based on tests for the assumptions of normality and homogeneity of variance.***\n",
        "    1. **Test for Normality**<br>\n",
        "        - [Normaltest/ D’Agostino and Pearson’s](https://docs.scipy.org/doc/scipy/reference/generated/scipy.stats.normaltest.html)\n",
        "<br>\n",
        "        ```scipy.stats.normaltest```\n",
        "        - Shapiro-Wilik Test<br>\n",
        "        ```scipy.stats.shapiro```\n",
        "    2. **Test for Homogeneity of Variance**<br>\n",
        "        - [Levene's Test](https://docs.scipy.org/doc/scipy-0.14.0/reference/generated/scipy.stats.levene.html)<br>         ```scipy.stats.levene```\n",
        "    3. **Choose appropriate test based upon 1. and 2.** \n",
        "        - [Mann Whitney U Test](https://docs.scipy.org/doc/scipy/reference/generated/scipy.stats.mannwhitneyu.html)<br>  - non parametric equivalent of ANOVA)<br>\n",
        "    ```stats.mannwhitneyu```<br>\n",
        "        - Normal: 2 sample t-test\n",
        "        - Welch's t-test (Jeff)\n",
        "        \n",
        "    4.  Calculate effect size, post-hoc tukeys tests.\n",
        "        - Effect size: [cohen's d](https://stackoverflow.com/questions/21532471/how-to-calculate-cohens-d-in-python)\n",
        "          \n",
        "* ***Aim 3: To perform post-hoc pairwise comparisons for level of discount***      \n",
        " \n",
        "     \n",
        "    6. If significant result, follow up with post-hoc tests\n",
        "        - [Tukey's] https://www.statsmodels.org/stable/generated/statsmodels.stats.multicomp.pairwise_tukeyhsd.html)\n",
        "        ```statsmodels.stats.multicomp.pairwise_tukeyhsd```\n"
      ]
    },
    {
      "metadata": {
        "id": "NrZ7o6qeAaRO",
        "colab_type": "text"
      },
      "cell_type": "markdown",
      "source": [
        "## Hey mike, below here is where we would need to make a for loop since your data is very differnet # of groups\n",
        "something like\n",
        "\n",
        "```python\n",
        "\n",
        "H3_tests = [['Group:','TestName','Test Purpose','stat','p']  ]\n",
        "\n",
        "\n",
        "dict_to_test ={}\n",
        "for month in list(df['month_name'].unique()):\n",
        "    dict_to_test[month] = df.groupy('month_name').get_group(month)\n",
        "# Results should be a dict with key's of 'month_name', and the value is an actual dataframe of that group's data.\n",
        "    ```\n",
        "and then:\n",
        "\n",
        "```python\n",
        "for month,  df  in dict_to_test.items(): #your keys and values\n",
        "    \n",
        "    arrA = dict_test_test[month][df['order_total']]\n",
        "    \n",
        "    #1. Test for normality\n",
        "    test_purpose = 'Normality'\n",
        "    test_to_run = 'normaltest'\n",
        "\n",
        "    arrA = np.array(df_A['Quantity'])\n",
        "\n",
        "    statA, pA = eval(test_to_run)(arrA)\n",
        "    \n",
        "    H3_tests.append([month, test_to_run, test_purpose ,statA, pA])\n",
        "```\n",
        "End of loop. Level's test must be done so can pass in the groups, need to check if you can jsut feed ina  list of groups or how that works.\n",
        "\n",
        "```python\n",
        "#2. Test for homo of variance. (levene's test)\n",
        "test_to_run = 'stats.levene'\n",
        "test_purpose = 'Equal Variance'\n",
        "stat,p = eval(test_to_run)(arrA,arrB,center='median')\n",
        "\n",
        "H3_tests.append(['A&B',test_to_run,'Equal Var',stat,p])\n",
        "        ```"
      ]
    },
    {
      "metadata": {
        "id": "GFMslgjQqhPW",
        "colab_type": "text"
      },
      "cell_type": "markdown",
      "source": [
        "#### Histograms month vs all months"
      ]
    },
    {
      "metadata": {
        "id": "rz4ikqv7BvGE",
        "colab_type": "code",
        "colab": {}
      },
      "cell_type": "code",
      "source": [
        "# draw_histograms_from_sample(df_year_orders, 'month', month_dict, 4, 3)\n",
        "df_year_orders.describe()"
      ],
      "execution_count": 0,
      "outputs": []
    },
    {
      "metadata": {
        "id": "R0viFRByBym2",
        "colab_type": "code",
        "colab": {}
      },
      "cell_type": "code",
      "source": [
        "means = df_year_orders.groupby('month').mean()\n",
        "\n",
        "std = df_year_orders.groupby('month').std()\n",
        "\n",
        "H3_describe = pd.concat()"
      ],
      "execution_count": 0,
      "outputs": []
    },
    {
      "metadata": {
        "id": "mMMdkmZ4CqHD",
        "colab_type": "text"
      },
      "cell_type": "markdown",
      "source": [
        "### New Worfklow from Mike"
      ]
    },
    {
      "metadata": {
        "id": "oVpC31QUC9cg",
        "colab_type": "code",
        "colab": {}
      },
      "cell_type": "code",
      "source": [
        "# create a dict to test stats\n",
        "dict_to_test ={}\n",
        "for month in list(df_year_orders['month_name'].unique()):\n",
        "    dict_to_test[month] = df_year_orders.groupby('month_name').get_group(month)"
      ],
      "execution_count": 0,
      "outputs": []
    },
    {
      "metadata": {
        "id": "yeigRWPhC-yb",
        "colab_type": "code",
        "colab": {}
      },
      "cell_type": "code",
      "source": [
        "dict_to_test.keys()"
      ],
      "execution_count": 0,
      "outputs": []
    },
    {
      "metadata": {
        "id": "hwvBZywE0V0B",
        "colab_type": "text"
      },
      "cell_type": "markdown",
      "source": [
        "###Test for Normality"
      ]
    },
    {
      "metadata": {
        "id": "gqiBjl0W4SP_",
        "colab_type": "code",
        "colab": {}
      },
      "cell_type": "code",
      "source": [
        "H3_tests = [['Group:','TestName','Test Purpose','stat','p','sig?']  ]"
      ],
      "execution_count": 0,
      "outputs": []
    },
    {
      "metadata": {
        "id": "34ds8zvRz-X7",
        "colab_type": "code",
        "colab": {}
      },
      "cell_type": "code",
      "source": [
        "from scipy.stats import normaltest\n",
        "\n",
        "for month,  df  in dict_to_test.items(): #month = key, df = values\n",
        "\n",
        "    arrA = dict_to_test[month]['order_total']\n",
        "\n",
        "    #1. Test for normality\n",
        "    test_purpose = 'Normality'\n",
        "    test_to_run = 'normaltest'\n",
        "\n",
        "    arrA = np.array(arrA)\n",
        "    statA, pA = eval(test_to_run)(arrA)\n",
        "\n",
        "    H3_tests.append([month, test_to_run, test_purpose ,statA, pA, pA<0.05])\n",
        "    \n",
        "arrB = np.array(df_year_orders['order_total'])\n",
        "stat, p = eval(test_to_run)(arrB)\n",
        "H3_tests.append(['Total Pop', test_to_run, test_purpose,stat, p,p<0.05])"
      ],
      "execution_count": 0,
      "outputs": []
    },
    {
      "metadata": {
        "id": "iAQVlmVKDKwj",
        "colab_type": "code",
        "colab": {}
      },
      "cell_type": "code",
      "source": [
        "H3_results_norm = list2df(H3_tests)\n",
        "H3_results_norm"
      ],
      "execution_count": 0,
      "outputs": []
    },
    {
      "metadata": {
        "id": "cNlFwil16GUb",
        "colab_type": "text"
      },
      "cell_type": "markdown",
      "source": [
        "### Test Homogneity of variance\n",
        "- Levenes Test"
      ]
    },
    {
      "metadata": {
        "id": "WYGU5I1f6K2e",
        "colab_type": "code",
        "colab": {}
      },
      "cell_type": "code",
      "source": [
        "from scipy.stats import levene\n",
        "\n",
        "for month,  df  in dict_to_test.items(): #month = key, df = values\n",
        "\n",
        "    arrA = dict_to_test[month][['order_total']]\n",
        "    arrB = df_year_orders[df_year_orders['month_name']!= month]['order_total']\n",
        "    #1. Test for normality\n",
        "    test_to_run = 'levene'\n",
        "    test_purpose = 'Equal Variance'\n",
        "\n",
        "    arrA = np.array(arrA)\n",
        "    arrB = np.array(arrB)\n",
        "\n",
        "    stat, p = eval(test_to_run)(arrA,arrB,center='median')\n",
        "    \n",
        "    H3_tests.append([f'{month} & rest of pop', test_to_run, test_purpose ,stat, p, p<0.05])\n",
        "\n",
        "\n",
        "\n",
        "\n",
        "\n",
        "stat,p = eval(test_to_run)(arrA,arrB,center='median')\n",
        "\n",
        "H3_tests.append(['A&B',test_to_run,'Equal Var',stat,p,p<0.05])"
      ],
      "execution_count": 0,
      "outputs": []
    },
    {
      "metadata": {
        "id": "ud04FHlvD5KR",
        "colab_type": "code",
        "colab": {}
      },
      "cell_type": "code",
      "source": [
        "list2df(H3_tests)\n"
      ],
      "execution_count": 0,
      "outputs": []
    },
    {
      "metadata": {
        "id": "jQXu0oOktzjb",
        "colab_type": "text"
      },
      "cell_type": "markdown",
      "source": [
        "# Hypothesis 4 - JMI"
      ]
    },
    {
      "metadata": {
        "id": "NSv7gEWPuXTn",
        "colab_type": "text"
      },
      "cell_type": "markdown",
      "source": [
        "$H_1$ \n",
        "\n",
        "$H_0$ : \n",
        "\n",
        "**Specific Aims:**\n",
        "\n",
        "* ***Aim 1:To select the proper dataset for analysis, perform EDA, and generate data groups for testing.***\n",
        "    - Used sqlalchemy and pandas.read_sql_query()\n",
        "    query = \n",
        "\n",
        "* ***Aim 2: Select the appropriate t-test based on tests for the assumptions of normality and homogeneity of variance.***\n",
        "    1. **Test for Normality**\n",
        "        - D'Agostino-Pearson's normality test<br>\n",
        "        ```scipy.stats.normaltest```\n",
        "        - Shapiro-Wilik Test<br>\n",
        "        ```scipy.stats.shapiro```\n",
        "    2. **Test for Homogeneity of Variance**\n",
        "        - Levene's Test<br>\n",
        "         ```scipy.stats.levene```\n",
        "\n",
        "    3. **Choose appropriate test based upon 1. and 2.** \n",
        "\n",
        "\n",
        "* ***Aim 3: To perform post-hoc painrwise comparison testing to determine which level of discounts affect quantity and if any discount has a greater effect than the others.***\n",
        "     - Tukey's test for multiple pairwise comparisons\n"
      ]
    },
    {
      "metadata": {
        "id": "P4sxmsVJuOBc",
        "colab_type": "code",
        "colab": {}
      },
      "cell_type": "code",
      "source": [
        "df_ord = pd.read_sql_query(\"SELECT * FROM OrderDetail JOIN [Order]  ON [Order].Id = OrderDetail.OrderId\", engine)\n"
      ],
      "execution_count": 0,
      "outputs": []
    },
    {
      "metadata": {
        "id": "9n7RqAfyikvx",
        "colab_type": "code",
        "colab": {}
      },
      "cell_type": "code",
      "source": [
        "\n",
        "\n",
        "df_employee = pd.read_sql_query(\"SELECT Id, Title, LastName, HireDate , BirthDate  FROM [EMPLOYEE]\", engine )"
      ],
      "execution_count": 0,
      "outputs": []
    },
    {
      "metadata": {
        "colab_type": "text",
        "id": "ZnY9sSjWuKZL"
      },
      "cell_type": "markdown",
      "source": [
        "_________\n",
        "## ***Aim 1.1 : To select the proper dataset for analyiss  and generate data groups for testing.***\n",
        "\n",
        "#### Importing Method\n",
        "- Use sqlalchemy to create engine to connect to Northwind_small.sqlite.\n",
        "- use pd.read_sql_query('SELECT * FROM OrderDetail',egine) to directly read db into df"
      ]
    },
    {
      "metadata": {
        "cellView": "both",
        "colab_type": "code",
        "id": "SVOKjSMluKZL",
        "colab": {}
      },
      "cell_type": "code",
      "source": [
        "# #CELL A : IF ON COLAB.\n",
        "# #The northwind.sqlite is located in: content/drive/My Drive/Colab Notebooks/datasets/Northwind_small.sqlite\n",
        "from google.colab import drive\n",
        "drive.mount('/content/drive/', force_remount=True)\n",
        "\n",
        "# # If in Google Drive \n",
        "filepath = '/content/drive/My Drive/Colab Notebooks/datasets/Northwind_small.sqlite'"
      ],
      "execution_count": 0,
      "outputs": []
    },
    {
      "metadata": {
        "colab_type": "code",
        "id": "DBToLtImuKZN",
        "colab": {}
      },
      "cell_type": "code",
      "source": [
        "# #CELL B: If RUNNING LOCALLY.\n",
        "# filepath = 'Northwind_small.sqlite'"
      ],
      "execution_count": 0,
      "outputs": []
    },
    {
      "metadata": {
        "colab_type": "text",
        "id": "JZhAzr3ZuKZO"
      },
      "cell_type": "markdown",
      "source": [
        "#### Use sqlalchemy and pandas to inspect data tables"
      ]
    },
    {
      "metadata": {
        "colab_type": "code",
        "id": "MeAyIpahuKZQ",
        "colab": {}
      },
      "cell_type": "code",
      "source": [
        "# Import packages for sql\n",
        "import sqlite3\n",
        "from sqlalchemy import create_engine, inspect\n",
        "# from sqlalchemy import Table, Column, Integer, String, MetaData, ForeignKey,text, Float\n",
        "\n",
        "engine = create_engine('sqlite:///'+filepath,echo=True);\n",
        "\n",
        "inspector = inspect(engine);\n",
        "\n",
        "db_tables = inspector.get_table_names();\n",
        "\n",
        "print('\\n',db_tables);"
      ],
      "execution_count": 0,
      "outputs": []
    },
    {
      "metadata": {
        "colab_type": "code",
        "id": "qan6YzmxuKZR",
        "colab": {}
      },
      "cell_type": "code",
      "source": [
        "list2df(get_col_info('OrderDetail'))"
      ],
      "execution_count": 0,
      "outputs": []
    }
  ]
}