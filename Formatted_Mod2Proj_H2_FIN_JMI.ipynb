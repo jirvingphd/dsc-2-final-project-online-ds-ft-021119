{
  "nbformat": 4,
  "nbformat_minor": 0,
  "metadata": {
    "colab": {
      "name": "Formatted_Mod2Proj_H2_FIN_JMI.ipynb",
      "version": "0.3.2",
      "provenance": [],
      "collapsed_sections": [
        "O0xNoo6vwwQV",
        "GtI-okJkwwQa",
        "Qk9N1jMywwQf",
        "GDzeDK5gwwQk",
        "nkPB_HcdwwQo",
        "ekTOehxHwwQu",
        "XrvSuzkKwwQz",
        "O7Xq2RqAR0va",
        "EDLKQNdKR4Cb"
      ],
      "include_colab_link": true
    },
    "kernelspec": {
      "name": "python3",
      "display_name": "Python 3"
    }
  },
  "cells": [
    {
      "cell_type": "markdown",
      "metadata": {
        "id": "view-in-github",
        "colab_type": "text"
      },
      "source": [
        "<a href=\"https://colab.research.google.com/github/jirvingphd/dsc-2-final-project-online-ds-ft-021119/blob/master/Formatted_Mod2Proj_H2_FIN_JMI.ipynb\" target=\"_parent\"><img src=\"https://colab.research.google.com/assets/colab-badge.svg\" alt=\"Open In Colab\"/></a>"
      ]
    },
    {
      "metadata": {
        "colab_type": "text",
        "id": "3yoyuAnnwwP4"
      },
      "cell_type": "markdown",
      "source": [
        ""
      ]
    },
    {
      "metadata": {
        "colab_type": "text",
        "id": "EZeLgicvwwP6"
      },
      "cell_type": "markdown",
      "source": [
        "# Module 2 Final Project Specifications: Introduction"
      ]
    },
    {
      "metadata": {
        "colab_type": "text",
        "id": "gklyzeSFwwP9"
      },
      "cell_type": "markdown",
      "source": [
        "In this lesson, we'll review all the guidelines and specifications for the final project for Module 2. \n",
        "\n",
        "### Objectives\n",
        "\n",
        "* Understand all required aspects of the Final Project for Module 2\n",
        "* Understand all required deliverables\n",
        "* Understand what constitutes a successful project\n",
        "\n",
        "### Final Project Summary\n",
        "\n",
        "Another module down--you're half way there!\n",
        "\n",
        "< img src='halfway-there.gif'>\n",
        "\n",
        "For the culmination of Module 2, you just need to complete the final project!\n",
        "\n",
        "### The Project\n",
        "\n",
        "For this project, you'll be working with the Northwind database--a free, open-source dataset created by Microsoft containing data from a fictional company. You probably remember the Northwind database from our section on Advanced SQL. Here's the schema for the Northwind database:\n",
        "\n",
        "<img src='https://github.com/jirvingphd/dsc-2-final-project-online-ds-ft-021119/blob/master/Northwind_ERD.png?raw=1' width=400>"
      ]
    },
    {
      "metadata": {
        "colab_type": "text",
        "id": "pgOCAkAHwwP-"
      },
      "cell_type": "markdown",
      "source": [
        "## The Deliverables\n",
        "> **The goal of this project** is to test your ability to gather information from a real-world database and use your knowledge of statistical analysis and hypothesis testing to generate analytical insights that can be of value to the company.\n"
      ]
    },
    {
      "metadata": {
        "colab_type": "text",
        "id": "A4eo2x98wwQA"
      },
      "cell_type": "markdown",
      "source": [
        "In addition to answering this question with a hypothesis test, you will also need to come up with **_at least 3 other hypotheses to test on your own_**.  \n",
        "\n",
        "These can by **anything that you think could be imporant information _for the company_.** \n",
        "\n",
        "For this hypothesis, be sure to specify both the **_null hypothesis_** and the **_alternative hypothesis_** for your question.  You should also specify if this is one-tail or a two-tail test. \n",
        "\n",
        "To complete this project, you will need to turn in the following 3 deliverables:\n",
        "\n",
        "1. A **_Jupyter Notebook_** containing any code you've written for this project. \n",
        "2. A **_Blog Post_** explaining your process, methodology, and findings.  \n",
        "3. An **_\"Executive Summary\" PowerPoint Presentation_** that explains the hypothesis tests you ran, your findings, and their relevance to company stakeholders.  "
      ]
    },
    {
      "metadata": {
        "colab_type": "text",
        "id": "-F7VwA6BwwQB"
      },
      "cell_type": "markdown",
      "source": [
        "### Jupyter Notebook Must-Haves\n",
        "\n",
        "For this project, your jupyter notebook should meet the following specifications:\n",
        "\n",
        "**_Organization/Code Cleanliness_**\n",
        "\n",
        "* The notebook should be well organized, easy to follow, and code is commented where appropriate.  \n",
        "<br>  \n",
        "    * Level Up: The notebook contains well-formatted, professional looking markdown cells explaining any substantial code. All functions have docstrings that act as professional-quality documentation.  \n",
        "<br>      \n",
        "* The notebook is written to technical audiences with a way to both understand your approach and reproduce your results. The target audience for this deliverable is other data scientists looking to validate your findings.  \n",
        "<br>    \n",
        "* Any SQL code written to source data should also be included.  \n",
        "\n",
        "**_Findings_**\n",
        "\n",
        "* Your notebook should clearly show how you arrived at your results for each hypothesis test, including how you calculated your p-values.   \n",
        "<br>\n",
        "* You should also include any other statistics that you find relevant to your analysis, such as effect size. "
      ]
    },
    {
      "metadata": {
        "colab_type": "text",
        "id": "PXe-ZIk3wwQC"
      },
      "cell_type": "markdown",
      "source": [
        "### Executive Summary Must-Haves\n",
        "\n",
        "Your presentation should:\n",
        "\n",
        "* Contain between 5-10 professional quality slides detailing:\n",
        "<br>  \n",
        "    * A high-level overview of your methodology  \n",
        "    <br>  \n",
        "    * The results of your hypothesis tests  \n",
        "    <br>  \n",
        "    * Any real-world recommendations you would like to make based on your findings (ask yourself--why should the executive team care about what you found? How can your findings help the company?)  \n",
        "    <br>  \n",
        "* Take no more than 5 minutes to present  \n",
        "<br>  \n",
        "* Avoid technical jargon and explain results in a clear, actionable way for non-technical audiences.  "
      ]
    },
    {
      "metadata": {
        "colab_type": "text",
        "id": "z6jWCSDawwQD"
      },
      "cell_type": "markdown",
      "source": [
        "### Blog Post Must-Haves\n",
        "\n",
        "Your blog post should include everything from how you identified what tables contained the information you need, to how you retrieved it using SQL (and any challenges you ran into while doing so), as well as your methodology and results for your hypothesis tests. \n",
        "\n",
        "**_NOTE:_**  This blog post is your way of showcasing the work you've done on this project--chances are it will soon be read by a recruiter or hiring manager! Take the time to make sure that you craft your story well, and clearly explain your process and findings in a way that clearly shows both your technical expertise **_and_** your ability to communicate your results!\n",
        "___"
      ]
    },
    {
      "metadata": {
        "colab_type": "text",
        "id": "RXO-WQHYwwQF"
      },
      "cell_type": "markdown",
      "source": [
        "___"
      ]
    },
    {
      "metadata": {
        "colab_type": "text",
        "id": "hLrUyfOEwwQG"
      },
      "cell_type": "markdown",
      "source": [
        "# Outline of Data Processing and Analysis<br> (using OSEMN model)"
      ]
    },
    {
      "metadata": {
        "colab_type": "text",
        "id": "Q70itr8BwwQH"
      },
      "cell_type": "markdown",
      "source": [
        "1. **OBTAIN:**\n",
        "    - **Import data, inspect, check for datatypes to convert and null values**<br>\n",
        "        - Display header and info\n",
        "        - Drop any unneeded columns (df.drop(['col1','col2'],axis=1)\n",
        "\n",
        "2. **SCRUB: cast data types, identify outliers, check for multicollinearity, normalize data**<br>\n",
        "    - Check and cast data types\n",
        "        - [ ] Check for #'s that are store as objects (df.info())\n",
        "            - when converting to #'s, look for odd values (like many 0's), or strings that can't be converted\n",
        "            - Decide how to deal weird/null values (df.unique(), df.isna().sum(), df.describe()-min/max, etc\n",
        "        - [ ]  Check for categorical variables stored as integers\n",
        "    - [ ] Check for missing values  (df.isna().sum())\n",
        "        - Can drop rows or colums\n",
        "        - For missing numeric data with median or bin/convert to categorical\n",
        "        - For missing categorical data: make NaN own category OR replace with most common category\n",
        "    - [ ] Check for multicollinearity\n",
        "         - use seaborn to make correlation matrix plot [Evernote Link](https://www.evernote.com/l/AArNyaEwjA5JUL6I9PazHs_ts_hU-m7ja1I/) \n",
        "        - Good rule of thumb is anything over 0.75 corr is high, remove the variable that has the most correl with the largest # of variables\n",
        "    - [ ] Normalize data (may want to do after some exploring)\n",
        "        - Most popular is Z-scoring (but won't fix skew) \n",
        "        - Can log-transform to fix skewed data\n",
        "    \n",
        "            \n",
        "3. **EXPLORE:Check distributions, outliers, etc**\n",
        "    - [ ] Check scales, ranges (df.describe())\n",
        "    - [ ] Check histograms to get an idea of distributions (df.hist()) and dat transformations to perform\n",
        "        - Can also do kernel density estimates\n",
        "    - [ ] Use scatterplots to check for linearity and possible categorical variables (df.plot(kind-'scatter')\n",
        "        - categoricals will look like vertical lines\n",
        "    - [ ] Use pd.plotting.scatter_matrix to visualize possible relationships\n",
        "    - [ ] Check for linearity\n",
        "\n",
        "   \n",
        "4. **FIT AN INITIAL MODEL:** \n",
        "    - Various forms, detail later...\n",
        "    - **Assessing the model:**\n",
        "        - Assess parameters (slope,intercept)\n",
        "        - Check if the model explains the variation in the data (RMSE, F, R_square)\n",
        "        - *Are the coeffs, slopes, intercepts in appropriate units?*\n",
        "        - *Whats the impact of collinearity? Can we ignore?*\n",
        "5. **Revise the fitted model**\n",
        "    - Multicollinearity is big issue for lin regression and cannot fully remove it\n",
        "    - Use the predictive ability of model to test it (like R2 and RMSE)\n",
        "    - Check for missed non-linearity\n",
        "6. **Holdout validation / Train/test split**\n",
        "    - use sklearn train_test_split \n",
        "___"
      ]
    },
    {
      "metadata": {
        "colab_type": "text",
        "id": "7i8Ev_kKwwQJ"
      },
      "cell_type": "markdown",
      "source": [
        ""
      ]
    },
    {
      "metadata": {
        "colab_type": "text",
        "id": "ubtNFAFewwQK"
      },
      "cell_type": "markdown",
      "source": [
        "# EXPERIMENTAL DESIGN PLANNING"
      ]
    },
    {
      "metadata": {
        "colab_type": "text",
        "id": "7rzJx4u8wwQL"
      },
      "cell_type": "markdown",
      "source": [
        "## Hypothesis Testing\n",
        "\n",
        "You will need query the database to get the data needed to perform a statistical analysis.  In this statistical analysis, **you'll need to perform a hypothesis test (or perhaps several) to answer the following question:**\n",
        "\n",
        "\n",
        "> **_Do discounts have a statistically significant effect on the number of products customers order? If so, at what level(s) of discount?_**\n",
        "\n",
        "### [Hypothesis 1:](# Hypothesis 1: discounted vs non-discounted quantites) (Given Hypothesis)\n",
        "\n",
        "- $H_1$: The greater the discount, the greater the quantity of products ordered by individual customers?\n",
        "- $H_0$:  Discounts have no effect on the quantity of product ordered by individual customers.  \n",
        "<br>\n",
        "- **Specific Aims:**\n",
        "\n",
        "    - **Aim 1:To select dataset that allows us to compare our target variable, **quantity _per purchase_**, vs the predictor variable discount.**\n",
        "    \n",
        "       - [ ] SELECT OrderID, QUantity,Discount FROM OrderDetails\n",
        "        - GROUPBY discount\n",
        "        - id = OrderId\\\n",
        "        \n",
        "    - **Aim 2: To test the relationship using a[ ]-tailed t-test.**\n",
        "        - One or two tailed?\n",
        "            - __ tailed, because...\n",
        "    - **Aim 3: To determine which level of discounts affect quantity?**\n",
        "    \n",
        " \n",
        "<br>\n",
        "\n",
        "### Hypothesis 2:\n",
        "\n",
        "- $H_1$: Customers buy more of other store items when they are buying discounted items.\n",
        "- $H_0$: Customers buy the same ***amount*** of items\n",
        "    - **amount could mean:**\n",
        "        - the # of items (discounted vs not discounted vs same level of discount?)\n",
        "        - total price per order with/without discounted products\n",
        "<br>\n",
        "- **Specific Aims:**\n",
        "\n",
        "    - Aim 1:To select dataset that allows us to compare our target variable [    ] vs the predictor variable [      ].\n",
        "    - Aim 2: To test the relationship using a [ ] -tailed t-test. \n",
        "    - Aim 3: To determine which levels of the predictor underly the effect.\n",
        "\n",
        "### Hypothesis 3:\n",
        "\n",
        "- $H_1$: \n",
        "- $H_0$:   \n",
        "<br>\n",
        "- **Specific Aims:**\n",
        "\n",
        "    - Aim 1:To select dataset that allows us to compare our target variable [    ] vs the predictor variable [      ].\n",
        "    - Aim 2: To test the relationship using a [ ] -tailed t-test. \n",
        "    - Aim 3: To determine which levels of the predictor underly the effect.\n",
        "    \n",
        "### Hypothesis 4:\n",
        "- $H_1$: \n",
        "- $H_0$:   \n",
        "<br>\n",
        "- **Specific Aims:**\n",
        "\n",
        "    - Aim 1:To select dataset that allows us to compare our target variable [    ] vs the predictor variable [      ].\n",
        "    - Aim 2: To test the relationship using a [ ] -tailed t-test. \n",
        "    - Aim 3: To determine which levels of the predictor underly the effect."
      ]
    },
    {
      "metadata": {
        "colab_type": "text",
        "id": "Oz3uzog5wwQM"
      },
      "cell_type": "markdown",
      "source": [
        "# INITIALIZATION AND DECLARATION OF FUNCTIONS"
      ]
    },
    {
      "metadata": {
        "colab_type": "text",
        "id": "PVjqeNPowwQN"
      },
      "cell_type": "markdown",
      "source": [
        "## Import packages:"
      ]
    },
    {
      "metadata": {
        "colab_type": "code",
        "id": "vl-HKeJJwwQP",
        "colab": {}
      },
      "cell_type": "code",
      "source": [
        "# Normal packages\n",
        "import pandas as pd\n",
        "import numpy as np\n",
        "import seaborn as sns\n",
        "import matplotlib.pyplot as plt\n",
        "import matplotlib.ticker as mtick\n",
        "%matplotlib inline\n",
        "\n",
        "# Statsmodels\n",
        "\n",
        "import statsmodels.api as sm\n",
        "import statsmodels.formula.api as smf\n",
        "import statsmodels.stats.api as sms\n",
        "\n",
        "import scipy.stats as stats\n",
        "\n",
        "\n",
        "# Counter\n",
        "from collections import Counter\n",
        "\n",
        "# Sklearn\n",
        "from sklearn.model_selection import train_test_split\n",
        "from sklearn.feature_selection import RFE\n",
        "from sklearn.linear_model import LinearRegression\n",
        "from sklearn.metrics import mean_squared_error\n",
        "from sklearn.preprocessing import MinMaxScaler\n",
        "from sklearn.preprocessing import RobustScaler\n",
        "import sklearn.metrics as metrics\n",
        "\n",
        "\n",
        "import sqlalchemy\n",
        "from sqlalchemy import create_engine\n",
        "from sqlalchemy.orm import Session, sessionmaker\n",
        "from sqlalchemy import inspect"
      ],
      "execution_count": 0,
      "outputs": []
    },
    {
      "metadata": {
        "colab_type": "text",
        "id": "s6AsUbfMwwQU"
      },
      "cell_type": "markdown",
      "source": [
        "## Define Functions (from proj 1)"
      ]
    },
    {
      "metadata": {
        "colab_type": "text",
        "id": "O0xNoo6vwwQV"
      },
      "cell_type": "markdown",
      "source": [
        "### def check_column"
      ]
    },
    {
      "metadata": {
        "colab_type": "code",
        "id": "UEz2Osm_wwQW",
        "colab": {}
      },
      "cell_type": "code",
      "source": [
        "# Check columns returns the datatype, null values and unique values of input series \n",
        "def check_column(series,nlargest='all'):\n",
        "    print(f\"Column: df['{series.name}']':\")\n",
        "    print(f\"dtype: {series.dtype}\")\n",
        "    print(f\"isna: {series.isna().sum()} out of {len(series)} - {round(series.isna().sum()/len(series)*100,3)}%\")\n",
        "        \n",
        "    print(f'\\nUnique non-na values:') #,df['waterfront'].unique())\n",
        "    if nlargest =='all':\n",
        "        print(series.value_counts())\n",
        "    else:\n",
        "        print(series.value_counts().nlargest(nlargest))"
      ],
      "execution_count": 0,
      "outputs": []
    },
    {
      "metadata": {
        "colab_type": "text",
        "id": "GtI-okJkwwQa"
      },
      "cell_type": "markdown",
      "source": [
        "### def multiplot"
      ]
    },
    {
      "metadata": {
        "colab_type": "code",
        "id": "i7lFBscHwwQb",
        "colab": {}
      },
      "cell_type": "code",
      "source": [
        "# MULTIPLOT\n",
        "from string import ascii_letters\n",
        "import numpy as np\n",
        "import pandas as pd\n",
        "import seaborn as sns\n",
        "import matplotlib.pyplot as plt\n",
        "\n",
        "\n",
        "def multiplot(df):\n",
        "    \"\"\"Plots results from df.corr() in a correlation heat map for multicollinearity.\n",
        "    Returns fig, ax objects\"\"\"\n",
        "    sns.set(style=\"white\")\n",
        "\n",
        "    # Compute the correlation matrix\n",
        "    corr = df.corr()\n",
        "\n",
        "    # Generate a mask for the upper triangle\n",
        "    mask = np.zeros_like(corr, dtype=np.bool)\n",
        "    mask[np.triu_indices_from(mask)] = True\n",
        "\n",
        "    # Set up the matplotlib figure\n",
        "    f, ax = plt.subplots(figsize=(16, 16))\n",
        "\n",
        "    # Generate a custom diverging colormap\n",
        "    cmap = sns.diverging_palette(220, 10, as_cmap=True)\n",
        "\n",
        "    # Draw the heatmap with the mask and correct aspect ratio\n",
        "    sns.heatmap(corr, mask=mask, annot=True, cmap=cmap, center=0,\n",
        "                \n",
        "    square=True, linewidths=.5, cbar_kws={\"shrink\": .5})\n",
        "    return f, ax"
      ],
      "execution_count": 0,
      "outputs": []
    },
    {
      "metadata": {
        "colab_type": "text",
        "id": "Qk9N1jMywwQf"
      },
      "cell_type": "markdown",
      "source": [
        "### def detect_outliers"
      ]
    },
    {
      "metadata": {
        "colab_type": "code",
        "id": "LzpDuDd5wwQg",
        "colab": {}
      },
      "cell_type": "code",
      "source": [
        "# Tukey's method using IQR to eliminate \n",
        "def detect_outliers(df, n, features):\n",
        "    \"\"\"Uses Tukey's method to return outer of interquartile ranges to return indices if outliers in a dataframe.\n",
        "    Parameters:\n",
        "    df (DataFrame): DataFrane containing columns of features\n",
        "    n: default is 0, multiple outlier cutoff  \n",
        "    \n",
        "    Returns:\n",
        "    Index of outliers for .loc\n",
        "    \n",
        "    Examples:\n",
        "    Outliers_to_drop = detect_outliers(data,2,[\"col1\",\"col2\"]) Returning value\n",
        "    df.loc[Outliers_to_drop] # Show the outliers rows\n",
        "    data= data.drop(Outliers_to_drop, axis = 0).reset_index(drop=True)\n",
        "   \"\"\"\n",
        "\n",
        "# Drop outliers    \n",
        "\n",
        "    outlier_indices = []\n",
        "    # iterate over features(columns)\n",
        "    for col in features:\n",
        "        \n",
        "        # 1st quartile (25%)\n",
        "        Q1 = np.percentile(df[col], 25)\n",
        "        # 3rd quartile (75%)\n",
        "        Q3 = np.percentile(df[col],75)\n",
        "        \n",
        "        # Interquartile range (IQR)\n",
        "        IQR = Q3 - Q1\n",
        "        # outlier step\n",
        "        outlier_step = 1.5 * IQR\n",
        "        \n",
        "        # Determine a list of indices of outliers for feature col\n",
        "        outlier_list_col = df[(df[col] < Q1 - outlier_step) | (df[col] > Q3 + outlier_step )].index\n",
        "        \n",
        "        # append the found outlier indices for col to the list of outlier indices \n",
        "        outlier_indices.extend(outlier_list_col)\n",
        "        \n",
        "        # select observations containing more than 2 outliers\n",
        "        outlier_indices = Counter(outlier_indices)        \n",
        "        multiple_outliers = list( k for k, v in outlier_indices.items() if v > n )\n",
        "    return multiple_outliers \n"
      ],
      "execution_count": 0,
      "outputs": []
    },
    {
      "metadata": {
        "colab_type": "text",
        "id": "GDzeDK5gwwQk"
      },
      "cell_type": "markdown",
      "source": [
        "### def plot_hist_scat_sns"
      ]
    },
    {
      "metadata": {
        "colab_type": "code",
        "id": "MITbzaCcwwQl",
        "colab": {}
      },
      "cell_type": "code",
      "source": [
        "# Plots histogram and scatter (vs price) side by side\n",
        "def plot_hist_scat_sns(df, target='index'):\n",
        "    \"\"\"Plots seaborne distplots and regplots for columns im datamframe vs target.\n",
        "\n",
        "    Parameters:\n",
        "    df (DataFrame): DataFrame.describe() columns will be used. \n",
        "    target = name of column containing target variable.assume first coluumn. \n",
        "    \n",
        "    Returns:\n",
        "    Figures for each column vs target with 2 subplots.\n",
        "   \"\"\"\n",
        "    import matplotlib.ticker as mtick\n",
        "    import matplotlib.pyplot as plt\n",
        "    import seaborn as sns\n",
        "    \n",
        "    \n",
        "    ###  DEFINE AESTHETIC CUSTOMIZATIONS  -------------------------------##\n",
        "\n",
        "    \n",
        "    plt.style.use('dark_background')\n",
        "    figsize=(10,6)\n",
        "    \n",
        "    # Axis Label fonts\n",
        "    fontTitle = {'fontsize': 12,\n",
        "               'fontweight': 'bold',\n",
        "                'fontfamily':'serif'}\n",
        "\n",
        "    fontAxis = {'fontsize': 10,\n",
        "               'fontweight': 'bold',\n",
        "                'fontfamily':'serif'}\n",
        "\n",
        "    fontTicks = {'fontsize': 8,\n",
        "               'fontweight':'bold',\n",
        "                'fontfamily':'serif'}\n",
        "    \n",
        "    # Formatting dollar sign labels\n",
        "    fmtPrice = '${x:,.0f}'\n",
        "    tickPrice = mtick.StrMethodFormatter(fmtPrice)\n",
        "    \n",
        "    \n",
        "    ###  PLOTTING ----------------------------- ------------------------ ##\n",
        "    \n",
        "    # Loop through dataframe to plot\n",
        "    for column in df.describe():\n",
        "        \n",
        "        # Create figure with subplots for current column\n",
        "        fig, ax = plt.subplots(figsize=figsize, ncols=2, nrows=2)\n",
        "\n",
        "        ##  SUBPLOT 1 --------------------------------------------------##\n",
        "        i,j = 0,0\n",
        "        ax[i,j].set_title(column.capitalize(),fontdict=fontTitle)\n",
        "        \n",
        "        # Define graphing keyword dictionaries for distplot (Subplot 1)\n",
        "        hist_kws = {\"linewidth\": 1, \"alpha\": 1, \"color\": 'blue','edgecolor':'w'}\n",
        "        kde_kws = {\"color\": \"white\", \"linewidth\": 1, \"label\": \"KDE\"}\n",
        "        \n",
        "        # Plot distplot on ax[i,j] using hist_kws and kde_kws\n",
        "        sns.distplot(df[column], norm_hist=True, kde=True,\n",
        "                     hist_kws = hist_kws, kde_kws = kde_kws,\n",
        "                     label=column+' histogram', ax=ax[i,j])\n",
        " \n",
        "\n",
        "        # Set x axis label\n",
        "        ax[i,j].set_xlabel(column.title(),fontdict=fontAxis)\n",
        "    \n",
        "        # Get x-ticks, rotate labels, and return\n",
        "        xticklab1 = ax[i,j].get_xticklabels(which = 'both')\n",
        "        ax[i,j].set_xticklabels(labels=xticklab1, fontdict=fontTicks, rotation=45)\n",
        "        ax[i,j].xaxis.set_major_formatter(mtick.ScalarFormatter())\n",
        "\n",
        "        \n",
        "        # Set y-label \n",
        "        ax[i,j].set_ylabel('Density',fontdict=fontAxis)\n",
        "        yticklab1=ax[i,j].get_yticklabels(which='both')\n",
        "        ax[i,j].set_yticklabels(labels=yticklab1,fontdict=fontTicks)\n",
        "        ax[i,j].yaxis.set_major_formatter(mtick.ScalarFormatter())\n",
        "        \n",
        "        \n",
        "        # Set y-grid\n",
        "        ax[i, j].set_axisbelow(True)\n",
        "        ax[i, j].grid(axis='y',ls='--')\n",
        "\n",
        "\n",
        "        \n",
        "        \n",
        "        ##  SUBPLOT 2-------------------------------------------------- ##\n",
        "        i,j = 0,1\n",
        "        ax[i,j].set_title(column.capitalize(),fontdict=fontTitle)\n",
        "\n",
        "        # Define the kwd dictionaries for scatter and regression line (subplot 2)\n",
        "        line_kws={\"color\":\"white\",\"alpha\":0.5,\"lw\":4,\"ls\":\":\"}\n",
        "        scatter_kws={'s': 2, 'alpha': 0.5,'marker':'.','color':'blue'}\n",
        "\n",
        "        # Plot regplot on ax[i,j] using line_kws and scatter_kws\n",
        "        sns.regplot(df[column], df[target], \n",
        "                    line_kws = line_kws,\n",
        "                    scatter_kws = scatter_kws,\n",
        "                    ax=ax[i,j])\n",
        "        \n",
        "        # Set x-axis label\n",
        "        ax[i,j].set_xlabel(column.title(),fontdict=fontAxis)\n",
        "\n",
        "         # Get x ticks, rotate labels, and return\n",
        "        xticklab2=ax[i,j].get_xticklabels(which='both')\n",
        "        ax[i,j].set_xticklabels(labels=xticklab2,fontdict=fontTicks, rotation=45)\n",
        "        ax[i,j].xaxis.set_major_formatter(mtick.ScalarFormatter())\n",
        "\n",
        "        # Set  y-axis label\n",
        "        ax[i,j].set_ylabel(target,fontdict=fontAxis)\n",
        "        \n",
        "        # Get, set, and format y-axis Price labels\n",
        "        yticklab = ax[i,j].get_yticklabels()\n",
        "        ax[i,j].set_yticklabels(yticklab,fontdict=fontTicks)\n",
        "        ax[i,j].yaxis.set_major_formatter(mtick.ScalarFormatter())\n",
        "\n",
        "#         ax[i,j].get_yaxis().set_major_formatter(tickPrice) \n",
        "\n",
        "        # Set y-grid\n",
        "        ax[i, j].set_axisbelow(True)\n",
        "        ax[i, j].grid(axis='y',ls='--')       \n",
        "        \n",
        "        ## ---------- Final layout adjustments ----------- ##\n",
        "        # Deleted unused subplots \n",
        "        fig.delaxes(ax[1,1])\n",
        "        fig.delaxes(ax[1,0])\n",
        "\n",
        "        # Optimizing spatial layout\n",
        "        fig.tight_layout()\n",
        "        figtitle=column+'_dist_regr_plots.png'\n",
        "        plt.savefig(figtitle)\n",
        "    return "
      ],
      "execution_count": 0,
      "outputs": []
    },
    {
      "metadata": {
        "colab_type": "text",
        "id": "BVwy49ADwwQn"
      },
      "cell_type": "markdown",
      "source": [
        "## Defining Functions (Proj 2 specific)"
      ]
    },
    {
      "metadata": {
        "colab_type": "text",
        "id": "nkPB_HcdwwQo"
      },
      "cell_type": "markdown",
      "source": [
        "### def list2df"
      ]
    },
    {
      "metadata": {
        "colab_type": "code",
        "id": "TwdV-j85wwQp",
        "colab": {}
      },
      "cell_type": "code",
      "source": [
        "def list2df(list):#, sort_values='index'):\n",
        "    \"\"\" Take in a list where row[0] = column_names and outputs a dataframe.\n",
        "    \n",
        "    Keyword arguments:\n",
        "    set_index -- df.set_index(set_index)\n",
        "    sortby -- df.sorted()\n",
        "    \"\"\"    \n",
        "    \n",
        "    df_list = pd.DataFrame(list[1:],columns=list[0])\n",
        "#     df_list = df_list[1:]\n",
        "\n",
        "    return df_list"
      ],
      "execution_count": 0,
      "outputs": []
    },
    {
      "metadata": {
        "colab_type": "text",
        "id": "ekTOehxHwwQu"
      },
      "cell_type": "markdown",
      "source": [
        "### def get_col_info"
      ]
    },
    {
      "metadata": {
        "colab_type": "code",
        "id": "LOaNcafFwwQv",
        "colab": {}
      },
      "cell_type": "code",
      "source": [
        "def  get_col_info(col_name):\n",
        "    \"\"\"Gets the column names and data types from the alchamey inspector object.\n",
        "    Returns column_info dataframe of table details.\n",
        "    \"\"\"\n",
        "    col_list = inspector.get_columns(col_name)\n",
        "    \n",
        "    column_info = [['table','column','dtype']]\n",
        "    print(f'Table Name: {col_name}\\n')\n",
        "\n",
        "    for col in col_list:\n",
        "        column_info.append([str(col_name),col['name'], col['type']])\n",
        "        \n",
        "    df = list2df(column_info)\n",
        "    return column_info"
      ],
      "execution_count": 0,
      "outputs": []
    },
    {
      "metadata": {
        "colab_type": "text",
        "id": "XrvSuzkKwwQz"
      },
      "cell_type": "markdown",
      "source": [
        "### def get_full_table_info"
      ]
    },
    {
      "metadata": {
        "colab_type": "code",
        "id": "A0bruXiLwwQ0",
        "colab": {}
      },
      "cell_type": "code",
      "source": [
        "def  get_full_table_info(engine):\n",
        "    \"\"\"Gets the table names, their column namesand data types engine.\n",
        "    Returns column_info dataframe of table details.\n",
        "    \"\"\"\n",
        "    column_info = [['table','column','dtype']]\n",
        "    \n",
        "    list_tables= engine.table_names()\n",
        "    \n",
        "    for table in list_tables:\n",
        "        \n",
        "        col_list = inspector.get_columns(table)\n",
        "        \n",
        "        for col in col_list:\n",
        "            \n",
        "            column_info.append([str(table),col['name'], col['type'],col['']])\n",
        "            inspector.get_foreign_keys()\n",
        "    \n",
        "    df = list2df(column_info)\n",
        "    return df"
      ],
      "execution_count": 0,
      "outputs": []
    },
    {
      "metadata": {
        "id": "O7Xq2RqAR0va",
        "colab_type": "text"
      },
      "cell_type": "markdown",
      "source": [
        "### def describe_outliers"
      ]
    },
    {
      "metadata": {
        "colab_type": "code",
        "id": "Ne6vEM4CwwQ3",
        "colab": {}
      },
      "cell_type": "code",
      "source": [
        "# describe_outliers -- calls detect_outliers\n",
        "def describe_outliers(df):\n",
        "    \"\"\" Returns a new_df of outliers, and % outliers each col using detect_outliers.\n",
        "    \"\"\"\n",
        "    out_count = 0\n",
        "    new_df = pd.DataFrame(columns=['total_outliers', 'percent_total'])\n",
        "    for col in df.columns:\n",
        "        outies = detect_outliers(df[col])\n",
        "        out_count += len(outies) \n",
        "        new_df.loc[col] = [len(outies), round((len(outies)/len(df.index))*100, 2)]\n",
        "    new_df.loc['grand_total'] = [sum(new_df['total_outliers']), sum(new_df['percent_total'])]\n",
        "    return new_df"
      ],
      "execution_count": 0,
      "outputs": []
    },
    {
      "metadata": {
        "id": "EDLKQNdKR4Cb",
        "colab_type": "text"
      },
      "cell_type": "markdown",
      "source": [
        "### def Cohen's d "
      ]
    },
    {
      "metadata": {
        "id": "F_vkRMKMRO0Z",
        "colab_type": "code",
        "colab": {}
      },
      "cell_type": "code",
      "source": [
        "#### Cohen's d\n",
        "def Cohen_d(group1, group2):\n",
        "    # Compute Cohen's d.\n",
        "    # group1: Series or NumPy array\n",
        "    # group2: Series or NumPy array\n",
        "    # returns a floating point number \n",
        "    diff = group1.mean() - group2.mean()\n",
        "\n",
        "    n1, n2 = len(group1), len(group2)\n",
        "    var1 = group1.var()\n",
        "    var2 = group2.var()\n",
        "\n",
        "    # Calculate the pooled threshold as shown earlier\n",
        "    pooled_var = (n1 * var1 + n2 * var2) / (n1 + n2)\n",
        "    \n",
        "    # Calculate Cohen's d statistic\n",
        "    d = diff / np.sqrt(pooled_var)\n",
        "    \n",
        "    return d\n",
        "\n",
        "\n",
        "def plot_pdfs(cohen_d=2):\n",
        "    \"\"\"Plot PDFs for distributions that differ by some number of stds.\n",
        "    \n",
        "    cohen_d: number of standard deviations between the means\n",
        "    \"\"\"\n",
        "    group1 = scipy.stats.norm(0, 1)\n",
        "    group2 = scipy.stats.norm(cohen_d, 1)\n",
        "    xs, ys = evaluate_PDF(group1)\n",
        "    pyplot.fill_between(xs, ys, label='Group1', color='#ff2289', alpha=0.7)\n",
        "\n",
        "    xs, ys = evaluate_PDF(group2)\n",
        "    pyplot.fill_between(xs, ys, label='Group2', color='#376cb0', alpha=0.7)\n",
        "    \n",
        "    o, s = overlap_superiority(group1, group2)\n",
        "    print('overlap', o)\n",
        "    print('superiority', s)\n",
        "   "
      ],
      "execution_count": 0,
      "outputs": []
    },
    {
      "metadata": {
        "id": "6nBzfb-evlaL",
        "colab_type": "code",
        "colab": {}
      },
      "cell_type": "code",
      "source": [
        "# Hedge's g\n",
        "\n",
        "# def hedge_g()"
      ],
      "execution_count": 0,
      "outputs": []
    },
    {
      "metadata": {
        "colab_type": "text",
        "id": "7mKcl3fkwwQ6"
      },
      "cell_type": "markdown",
      "source": [
        "# IMPORTING DATA\n",
        "\n",
        "## Importing Method \n",
        "- Use sqlalchemy to create engine to connect to Northwind_small.sqlite.\n",
        "- use pd.read_sql_query('SELECT * FROM OrderDetail',egine) to directly read db into df"
      ]
    },
    {
      "metadata": {
        "id": "Xhtq20r5iSVw",
        "colab_type": "text"
      },
      "cell_type": "markdown",
      "source": [
        "#### USING SQLITE ON COLAB:\n",
        " ```python\n",
        "from google.colab import drive\n",
        "drive.mount('/content/drive/', force_remount=True) \n",
        "\n",
        "filepath = '/content/drive/My Drive/Colab Notebooks/datasets/Northwind_small.sqlite'\n",
        "#-------------------\n",
        "# Testing minimal version of prior code\n",
        "import sqlite3\n",
        "from sqlalchemy import create_engine, inspect\n",
        "# from sqlalchemy import Table, Column, Integer, String, MetaData, ForeignKey,text, Float\n",
        "\n",
        "engine = create_engine('sqlite:///'+filepath,echo=True)\n",
        "inspector = inspect(engine);\n",
        "db_tables = inspector.get_table_names()\n",
        "print('\\n',db_tables);\n",
        "```"
      ]
    },
    {
      "metadata": {
        "colab_type": "code",
        "id": "N0O4-cWq1N53",
        "outputId": "68470663-0fb5-4887-dcd4-d1e87049bca8",
        "cellView": "both",
        "colab": {
          "base_uri": "https://localhost:8080/",
          "height": 35
        }
      },
      "cell_type": "code",
      "source": [
        "#The northwind.sqlite is located in: content/drive/My Drive/Colab Notebooks/datasets/Northwind_small.sqlite\n",
        "from google.colab import drive\n",
        "drive.mount('/content/drive/', force_remount=True) "
      ],
      "execution_count": 0,
      "outputs": [
        {
          "output_type": "stream",
          "text": [
            "Mounted at /content/drive/\n"
          ],
          "name": "stdout"
        }
      ]
    },
    {
      "metadata": {
        "colab_type": "code",
        "id": "NGfWlIw45Xs1",
        "outputId": "f41103f5-b94a-4226-d9ff-c61f6a066818",
        "colab": {
          "base_uri": "https://localhost:8080/",
          "height": 179
        }
      },
      "cell_type": "code",
      "source": [
        "filepath = '/content/drive/My Drive/Colab Notebooks/datasets/Northwind_small.sqlite'\n",
        "import sqlite3\n",
        "from sqlalchemy import create_engine, inspect\n",
        "# from sqlalchemy import Table, Column, Integer, String, MetaData, ForeignKey,text, Float\n",
        "\n",
        "engine = create_engine('sqlite:///'+filepath,echo=True)\n",
        "\n",
        "inspector = inspect(engine);\n",
        "\n",
        "db_tables = inspector.get_table_names()\n",
        "\n",
        "print('\\n',db_tables);"
      ],
      "execution_count": 0,
      "outputs": [
        {
          "output_type": "stream",
          "text": [
            "2019-04-04 14:39:54,336 INFO sqlalchemy.engine.base.Engine SELECT CAST('test plain returns' AS VARCHAR(60)) AS anon_1\n",
            "2019-04-04 14:39:54,337 INFO sqlalchemy.engine.base.Engine ()\n",
            "2019-04-04 14:39:54,343 INFO sqlalchemy.engine.base.Engine SELECT CAST('test unicode returns' AS VARCHAR(60)) AS anon_1\n",
            "2019-04-04 14:39:54,345 INFO sqlalchemy.engine.base.Engine ()\n",
            "2019-04-04 14:39:54,352 INFO sqlalchemy.engine.base.Engine SELECT name FROM sqlite_master WHERE type='table' ORDER BY name\n",
            "2019-04-04 14:39:54,353 INFO sqlalchemy.engine.base.Engine ()\n",
            "\n",
            " ['Category', 'Customer', 'CustomerCustomerDemo', 'CustomerDemographic', 'Employee', 'EmployeeTerritory', 'Order', 'OrderDetail', 'Product', 'Region', 'Shipper', 'Supplier', 'Territory']\n"
          ],
          "name": "stdout"
        }
      ]
    },
    {
      "metadata": {
        "colab_type": "code",
        "id": "zEqu9PbxwwQ8",
        "colab": {}
      },
      "cell_type": "code",
      "source": [
        "# # Code for running locally \n",
        "# import sqlite3\n",
        "# from sqlalchemy import create_engine, inspect\n",
        "# from sqlalchemy import Table, Column, Integer, String, MetaData, ForeignKey,text, Float\n",
        "\n",
        "# engine = create_engine(\"sqlite:///Northwind_small.sqlite\",echo=True)\n",
        "# inspector = inspect(engine);\n",
        "# db_tables = inspector.get_table_names()\n",
        "# print('\\n',db_tables);"
      ],
      "execution_count": 0,
      "outputs": []
    },
    {
      "metadata": {
        "colab_type": "text",
        "id": "1BgHrsVywwQ6"
      },
      "cell_type": "markdown",
      "source": [
        ""
      ]
    },
    {
      "metadata": {
        "colab_type": "code",
        "id": "slE9zwdIwwRF",
        "outputId": "2607eb36-5daf-46c0-cc3b-8db65e63eacd",
        "colab": {
          "base_uri": "https://localhost:8080/",
          "height": 294
        }
      },
      "cell_type": "code",
      "source": [
        "list2df(get_col_info('OrderDetail'))"
      ],
      "execution_count": 0,
      "outputs": [
        {
          "output_type": "stream",
          "text": [
            "2019-04-04 14:39:54,382 INFO sqlalchemy.engine.base.Engine PRAGMA table_info(\"OrderDetail\")\n",
            "2019-04-04 14:39:54,385 INFO sqlalchemy.engine.base.Engine ()\n",
            "Table Name: OrderDetail\n",
            "\n"
          ],
          "name": "stdout"
        },
        {
          "output_type": "execute_result",
          "data": {
            "text/html": [
              "<div>\n",
              "<style scoped>\n",
              "    .dataframe tbody tr th:only-of-type {\n",
              "        vertical-align: middle;\n",
              "    }\n",
              "\n",
              "    .dataframe tbody tr th {\n",
              "        vertical-align: top;\n",
              "    }\n",
              "\n",
              "    .dataframe thead th {\n",
              "        text-align: right;\n",
              "    }\n",
              "</style>\n",
              "<table border=\"1\" class=\"dataframe\">\n",
              "  <thead>\n",
              "    <tr style=\"text-align: right;\">\n",
              "      <th></th>\n",
              "      <th>table</th>\n",
              "      <th>column</th>\n",
              "      <th>dtype</th>\n",
              "    </tr>\n",
              "  </thead>\n",
              "  <tbody>\n",
              "    <tr>\n",
              "      <th>0</th>\n",
              "      <td>OrderDetail</td>\n",
              "      <td>Id</td>\n",
              "      <td>VARCHAR(8000)</td>\n",
              "    </tr>\n",
              "    <tr>\n",
              "      <th>1</th>\n",
              "      <td>OrderDetail</td>\n",
              "      <td>OrderId</td>\n",
              "      <td>INTEGER</td>\n",
              "    </tr>\n",
              "    <tr>\n",
              "      <th>2</th>\n",
              "      <td>OrderDetail</td>\n",
              "      <td>ProductId</td>\n",
              "      <td>INTEGER</td>\n",
              "    </tr>\n",
              "    <tr>\n",
              "      <th>3</th>\n",
              "      <td>OrderDetail</td>\n",
              "      <td>UnitPrice</td>\n",
              "      <td>DECIMAL</td>\n",
              "    </tr>\n",
              "    <tr>\n",
              "      <th>4</th>\n",
              "      <td>OrderDetail</td>\n",
              "      <td>Quantity</td>\n",
              "      <td>INTEGER</td>\n",
              "    </tr>\n",
              "    <tr>\n",
              "      <th>5</th>\n",
              "      <td>OrderDetail</td>\n",
              "      <td>Discount</td>\n",
              "      <td>FLOAT</td>\n",
              "    </tr>\n",
              "  </tbody>\n",
              "</table>\n",
              "</div>"
            ],
            "text/plain": [
              "         table     column          dtype\n",
              "0  OrderDetail         Id  VARCHAR(8000)\n",
              "1  OrderDetail    OrderId        INTEGER\n",
              "2  OrderDetail  ProductId        INTEGER\n",
              "3  OrderDetail  UnitPrice        DECIMAL\n",
              "4  OrderDetail   Quantity        INTEGER\n",
              "5  OrderDetail   Discount          FLOAT"
            ]
          },
          "metadata": {
            "tags": []
          },
          "execution_count": 122
        }
      ]
    },
    {
      "metadata": {
        "colab_type": "text",
        "id": "fcYXKTJe-bjt"
      },
      "cell_type": "markdown",
      "source": [
        "___\n",
        "# Hypothesis 1:\n",
        ">**Do discounts have a statistically significant effect on the number of products customers order? If so, at what level(s) of discount?**\n",
        "\n",
        "$H_1$ : Products that are discounted sell in higher quantities.\n",
        "\n",
        "$H_0$ : Products that are discount sell the same amounts as non-discounted products.\n",
        "\n",
        "**Specific Aims:**\n",
        "\n",
        "* *Aim 1:To select the proper dataset for analyiss  and generate data groups for testing.*\n",
        "    - Used sqlalchemy and pandas.read_sql_query()\n",
        "    query = \"SELECT* FROM OrderDetails,\n",
        "            GROUPBY discount\n",
        "\n",
        "* *Aim 2: Select the appropriate t-test based on tests for the assumptions of normality and homogeneity of variance. *\n",
        "1. Test for Normality\n",
        "    - D'Agostino-Pearson's normality test<br>\n",
        "    ```scipy.stats.normaltest```\n",
        "    - Shapiro-Wilik Test<br>\n",
        "    ```scipy.stats.shapiro```\n",
        "2. Test for Homogeneity of Variance\n",
        "    - Levene's Test<br>\n",
        "     ```scipy.stats.levene```\n",
        "\n",
        "3. Choose appropriate test based upon 1. and 2. \n",
        "    - Mann-Whitney U test (non parametric equivalent of ANOVA)\n",
        "    ```stats.mannwhitneyu```\n",
        "* *Aim 3: To perform post-hoc painrwise comparison testing to determine which level of discounts affect quantity and if any discount has a greater effect than the others. *\n",
        " - Tukey's test for multiple pairwise comparions\n",
        "  ```\n"
      ]
    },
    {
      "metadata": {
        "colab_type": "code",
        "id": "8r91sfLGwwRK",
        "outputId": "7199c1a2-c010-473e-e196-1489c55c349b",
        "colab": {
          "base_uri": "https://localhost:8080/",
          "height": 229
        }
      },
      "cell_type": "code",
      "source": [
        "# We want to test hypothesis one, so we need OrderDetail table.\n",
        "table_to_test = \"OrderDetail\"\n",
        "df = pd.read_sql_query(\"SELECT * FROM OrderDetail\",  engine)\n",
        "df.head()"
      ],
      "execution_count": 0,
      "outputs": [
        {
          "output_type": "stream",
          "text": [
            "2019-04-04 14:39:54,429 INFO sqlalchemy.engine.base.Engine SELECT * FROM OrderDetail\n",
            "2019-04-04 14:39:54,431 INFO sqlalchemy.engine.base.Engine ()\n"
          ],
          "name": "stdout"
        },
        {
          "output_type": "execute_result",
          "data": {
            "text/html": [
              "<div>\n",
              "<style scoped>\n",
              "    .dataframe tbody tr th:only-of-type {\n",
              "        vertical-align: middle;\n",
              "    }\n",
              "\n",
              "    .dataframe tbody tr th {\n",
              "        vertical-align: top;\n",
              "    }\n",
              "\n",
              "    .dataframe thead th {\n",
              "        text-align: right;\n",
              "    }\n",
              "</style>\n",
              "<table border=\"1\" class=\"dataframe\">\n",
              "  <thead>\n",
              "    <tr style=\"text-align: right;\">\n",
              "      <th></th>\n",
              "      <th>Id</th>\n",
              "      <th>OrderId</th>\n",
              "      <th>ProductId</th>\n",
              "      <th>UnitPrice</th>\n",
              "      <th>Quantity</th>\n",
              "      <th>Discount</th>\n",
              "    </tr>\n",
              "  </thead>\n",
              "  <tbody>\n",
              "    <tr>\n",
              "      <th>0</th>\n",
              "      <td>10248/11</td>\n",
              "      <td>10248</td>\n",
              "      <td>11</td>\n",
              "      <td>14.0</td>\n",
              "      <td>12</td>\n",
              "      <td>0.0</td>\n",
              "    </tr>\n",
              "    <tr>\n",
              "      <th>1</th>\n",
              "      <td>10248/42</td>\n",
              "      <td>10248</td>\n",
              "      <td>42</td>\n",
              "      <td>9.8</td>\n",
              "      <td>10</td>\n",
              "      <td>0.0</td>\n",
              "    </tr>\n",
              "    <tr>\n",
              "      <th>2</th>\n",
              "      <td>10248/72</td>\n",
              "      <td>10248</td>\n",
              "      <td>72</td>\n",
              "      <td>34.8</td>\n",
              "      <td>5</td>\n",
              "      <td>0.0</td>\n",
              "    </tr>\n",
              "    <tr>\n",
              "      <th>3</th>\n",
              "      <td>10249/14</td>\n",
              "      <td>10249</td>\n",
              "      <td>14</td>\n",
              "      <td>18.6</td>\n",
              "      <td>9</td>\n",
              "      <td>0.0</td>\n",
              "    </tr>\n",
              "    <tr>\n",
              "      <th>4</th>\n",
              "      <td>10249/51</td>\n",
              "      <td>10249</td>\n",
              "      <td>51</td>\n",
              "      <td>42.4</td>\n",
              "      <td>40</td>\n",
              "      <td>0.0</td>\n",
              "    </tr>\n",
              "  </tbody>\n",
              "</table>\n",
              "</div>"
            ],
            "text/plain": [
              "         Id  OrderId  ProductId  UnitPrice  Quantity  Discount\n",
              "0  10248/11    10248         11       14.0        12       0.0\n",
              "1  10248/42    10248         42        9.8        10       0.0\n",
              "2  10248/72    10248         72       34.8         5       0.0\n",
              "3  10249/14    10249         14       18.6         9       0.0\n",
              "4  10249/51    10249         51       42.4        40       0.0"
            ]
          },
          "metadata": {
            "tags": []
          },
          "execution_count": 123
        }
      ]
    },
    {
      "metadata": {
        "colab_type": "code",
        "id": "bHdkczoawwRO",
        "scrolled": true,
        "outputId": "1dff39bc-5279-40f4-f179-fa087576bc10",
        "colab": {
          "base_uri": "https://localhost:8080/",
          "height": 212
        }
      },
      "cell_type": "code",
      "source": [
        "df.info()"
      ],
      "execution_count": 0,
      "outputs": [
        {
          "output_type": "stream",
          "text": [
            "<class 'pandas.core.frame.DataFrame'>\n",
            "RangeIndex: 2155 entries, 0 to 2154\n",
            "Data columns (total 6 columns):\n",
            "Id           2155 non-null object\n",
            "OrderId      2155 non-null int64\n",
            "ProductId    2155 non-null int64\n",
            "UnitPrice    2155 non-null float64\n",
            "Quantity     2155 non-null int64\n",
            "Discount     2155 non-null float64\n",
            "dtypes: float64(2), int64(3), object(1)\n",
            "memory usage: 101.1+ KB\n"
          ],
          "name": "stdout"
        }
      ]
    },
    {
      "metadata": {
        "colab_type": "code",
        "id": "hOZ_8uy7HuMr",
        "outputId": "b060c247-39ad-4ef5-f25c-bb095f4c1452",
        "colab": {
          "base_uri": "https://localhost:8080/",
          "height": 35
        }
      },
      "cell_type": "code",
      "source": [
        "sorted(df['Discount'].unique())"
      ],
      "execution_count": 0,
      "outputs": [
        {
          "output_type": "execute_result",
          "data": {
            "text/plain": [
              "[0.0, 0.01, 0.02, 0.03, 0.04, 0.05, 0.06, 0.1, 0.15, 0.2, 0.25]"
            ]
          },
          "metadata": {
            "tags": []
          },
          "execution_count": 125
        }
      ]
    },
    {
      "metadata": {
        "colab_type": "text",
        "id": "u1V-i0y6wwTB",
        "scrolled": true
      },
      "cell_type": "markdown",
      "source": [
        "### Note on OrderDetails df:\n",
        "1. There are 11 possible values for discounts: \n",
        "    - Values = [0.0, 0.01, 0.02, 0.03, 0.04, 0.05, 0.06, 0.1, 0.15, 0.2, 0.25]<br>\n",
        "    ``` print(sorted(df['Discount'].unique())) ```\n",
        "2. Too many columns to see.\n",
        "    - Can I stack/unstack to see better?\n",
        "    \n",
        "### Now how to proceed?\n",
        "1. Check what I need to run a t-test in python. \n",
        "    - [ ] Once review, use info to determine next steps."
      ]
    },
    {
      "metadata": {
        "colab_type": "code",
        "id": "S7s99OFmwwRS",
        "outputId": "1c4d0c9e-33d2-4487-dc73-13df45061751",
        "colab": {
          "base_uri": "https://localhost:8080/",
          "height": 177
        }
      },
      "cell_type": "code",
      "source": [
        "df['Quantity'].describe()"
      ],
      "execution_count": 0,
      "outputs": [
        {
          "output_type": "execute_result",
          "data": {
            "text/plain": [
              "count    2155.000000\n",
              "mean       23.812993\n",
              "std        19.022047\n",
              "min         1.000000\n",
              "25%        10.000000\n",
              "50%        20.000000\n",
              "75%        30.000000\n",
              "max       130.000000\n",
              "Name: Quantity, dtype: float64"
            ]
          },
          "metadata": {
            "tags": []
          },
          "execution_count": 126
        }
      ]
    },
    {
      "metadata": {
        "colab_type": "code",
        "id": "Hv1Y1NyQwwRW",
        "outputId": "45556f7a-a798-41af-cc50-4727c31a44b1",
        "colab": {
          "base_uri": "https://localhost:8080/",
          "height": 385
        }
      },
      "cell_type": "code",
      "source": [
        "plt.style.use('default')\n",
        "              \n",
        "fig = plt.figure(num=1, figsize=(3,3))\n",
        "ax = fig.add_axes()\n",
        "sns.distplot(df['Quantity'],ax=ax)"
      ],
      "execution_count": 0,
      "outputs": [
        {
          "output_type": "stream",
          "text": [
            "/usr/local/lib/python3.6/dist-packages/matplotlib/axes/_axes.py:6521: MatplotlibDeprecationWarning: \n",
            "The 'normed' kwarg was deprecated in Matplotlib 2.1 and will be removed in 3.1. Use 'density' instead.\n",
            "  alternative=\"'density'\", removal=\"3.1\")\n"
          ],
          "name": "stderr"
        },
        {
          "output_type": "execute_result",
          "data": {
            "text/plain": [
              "<matplotlib.axes._subplots.AxesSubplot at 0x7f3ae1ed95c0>"
            ]
          },
          "metadata": {
            "tags": []
          },
          "execution_count": 127
        },
        {
          "output_type": "display_data",
          "data": {
            "image/png": "[encoded data removed]",
            "text/plain": [
              "<Figure size 300x300 with 1 Axes>"
            ]
          },
          "metadata": {
            "tags": []
          }
        }
      ]
    },
    {
      "metadata": {
        "colab_type": "code",
        "id": "VX6P3oYJwwRa",
        "colab": {}
      },
      "cell_type": "code",
      "source": [
        "# Examining descriptive stats by discount\n",
        "# df.groupby('Discount').describe().stack()"
      ],
      "execution_count": 0,
      "outputs": []
    },
    {
      "metadata": {
        "id": "29T_4Rns6lY7",
        "colab_type": "code",
        "colab": {}
      },
      "cell_type": "code",
      "source": [
        ""
      ],
      "execution_count": 0,
      "outputs": []
    },
    {
      "metadata": {
        "colab_type": "text",
        "id": "q-uvY3EMwwRg"
      },
      "cell_type": "markdown",
      "source": [
        "## Testing for assumption of normality and homo. of var. \n",
        "1. We were first separating the dataframe into the groups we wanted to test. \n",
        "2. ADDING IN OUTLIER REMOVAL\n",
        "- separate df into 2 dfs:\n",
        "    - df_disc\n",
        "    - df_no_disc\n",
        "- run each df thought detect_outliers to get outlier index\n",
        "\n",
        "```python\n",
        "outliers_disc = detect_outliers(df_disc,0,['Quantity])\n",
        "outliers_no_disc = detect_outliers(df_no_disc,0,['Quantity])\n",
        "```\n",
        "- To see outliers just do:\n",
        "```python\n",
        "df_disc = df_disc.loc[df['Discount']>0]\n",
        "df_disc.head()\n",
        "```\n",
        "\n",
        "- To drop outliers dO:\n",
        "```python\n",
        "df_disc.loc[outliers_disc]=np.nan\n",
        "df_disc.dropna() #?\n",
        "```"
      ]
    },
    {
      "metadata": {
        "colab_type": "text",
        "id": "vefLX4WswwRg"
      },
      "cell_type": "markdown",
      "source": [
        "### 1. We were first separating the dataframe into the groups we wanted to test. \n"
      ]
    },
    {
      "metadata": {
        "colab_type": "code",
        "id": "W_tI5InvwwRi",
        "outputId": "60945fe2-7ecf-4e19-c521-a813fd9e93d6",
        "colab": {
          "base_uri": "https://localhost:8080/",
          "height": 106
        }
      },
      "cell_type": "code",
      "source": [
        "df_disc = df.loc[df['Discount']>0]\n",
        "df_disc.head(2)"
      ],
      "execution_count": 0,
      "outputs": [
        {
          "output_type": "execute_result",
          "data": {
            "text/html": [
              "<div>\n",
              "<style scoped>\n",
              "    .dataframe tbody tr th:only-of-type {\n",
              "        vertical-align: middle;\n",
              "    }\n",
              "\n",
              "    .dataframe tbody tr th {\n",
              "        vertical-align: top;\n",
              "    }\n",
              "\n",
              "    .dataframe thead th {\n",
              "        text-align: right;\n",
              "    }\n",
              "</style>\n",
              "<table border=\"1\" class=\"dataframe\">\n",
              "  <thead>\n",
              "    <tr style=\"text-align: right;\">\n",
              "      <th></th>\n",
              "      <th>Id</th>\n",
              "      <th>OrderId</th>\n",
              "      <th>ProductId</th>\n",
              "      <th>UnitPrice</th>\n",
              "      <th>Quantity</th>\n",
              "      <th>Discount</th>\n",
              "    </tr>\n",
              "  </thead>\n",
              "  <tbody>\n",
              "    <tr>\n",
              "      <th>6</th>\n",
              "      <td>10250/51</td>\n",
              "      <td>10250</td>\n",
              "      <td>51</td>\n",
              "      <td>42.4</td>\n",
              "      <td>35</td>\n",
              "      <td>0.15</td>\n",
              "    </tr>\n",
              "    <tr>\n",
              "      <th>7</th>\n",
              "      <td>10250/65</td>\n",
              "      <td>10250</td>\n",
              "      <td>65</td>\n",
              "      <td>16.8</td>\n",
              "      <td>15</td>\n",
              "      <td>0.15</td>\n",
              "    </tr>\n",
              "  </tbody>\n",
              "</table>\n",
              "</div>"
            ],
            "text/plain": [
              "         Id  OrderId  ProductId  UnitPrice  Quantity  Discount\n",
              "6  10250/51    10250         51       42.4        35      0.15\n",
              "7  10250/65    10250         65       16.8        15      0.15"
            ]
          },
          "metadata": {
            "tags": []
          },
          "execution_count": 129
        }
      ]
    },
    {
      "metadata": {
        "colab_type": "code",
        "id": "16Ebxk2JwwRo",
        "outputId": "481e01fd-5e04-4fed-e2ed-589d47ed515c",
        "colab": {
          "base_uri": "https://localhost:8080/",
          "height": 282
        }
      },
      "cell_type": "code",
      "source": [
        "# Examine split dataframes  - df_disc\n",
        "df_disc.describe()"
      ],
      "execution_count": 0,
      "outputs": [
        {
          "output_type": "execute_result",
          "data": {
            "text/html": [
              "<div>\n",
              "<style scoped>\n",
              "    .dataframe tbody tr th:only-of-type {\n",
              "        vertical-align: middle;\n",
              "    }\n",
              "\n",
              "    .dataframe tbody tr th {\n",
              "        vertical-align: top;\n",
              "    }\n",
              "\n",
              "    .dataframe thead th {\n",
              "        text-align: right;\n",
              "    }\n",
              "</style>\n",
              "<table border=\"1\" class=\"dataframe\">\n",
              "  <thead>\n",
              "    <tr style=\"text-align: right;\">\n",
              "      <th></th>\n",
              "      <th>OrderId</th>\n",
              "      <th>ProductId</th>\n",
              "      <th>UnitPrice</th>\n",
              "      <th>Quantity</th>\n",
              "      <th>Discount</th>\n",
              "    </tr>\n",
              "  </thead>\n",
              "  <tbody>\n",
              "    <tr>\n",
              "      <th>count</th>\n",
              "      <td>838.000000</td>\n",
              "      <td>838.000000</td>\n",
              "      <td>838.000000</td>\n",
              "      <td>838.000000</td>\n",
              "      <td>838.000000</td>\n",
              "    </tr>\n",
              "    <tr>\n",
              "      <th>mean</th>\n",
              "      <td>10654.007160</td>\n",
              "      <td>39.844869</td>\n",
              "      <td>26.292363</td>\n",
              "      <td>27.109785</td>\n",
              "      <td>0.144439</td>\n",
              "    </tr>\n",
              "    <tr>\n",
              "      <th>std</th>\n",
              "      <td>235.887125</td>\n",
              "      <td>22.046812</td>\n",
              "      <td>30.017214</td>\n",
              "      <td>20.771439</td>\n",
              "      <td>0.071808</td>\n",
              "    </tr>\n",
              "    <tr>\n",
              "      <th>min</th>\n",
              "      <td>10250.000000</td>\n",
              "      <td>1.000000</td>\n",
              "      <td>2.000000</td>\n",
              "      <td>1.000000</td>\n",
              "      <td>0.010000</td>\n",
              "    </tr>\n",
              "    <tr>\n",
              "      <th>25%</th>\n",
              "      <td>10452.250000</td>\n",
              "      <td>21.000000</td>\n",
              "      <td>12.500000</td>\n",
              "      <td>12.000000</td>\n",
              "      <td>0.100000</td>\n",
              "    </tr>\n",
              "    <tr>\n",
              "      <th>50%</th>\n",
              "      <td>10645.000000</td>\n",
              "      <td>40.000000</td>\n",
              "      <td>18.000000</td>\n",
              "      <td>20.000000</td>\n",
              "      <td>0.150000</td>\n",
              "    </tr>\n",
              "    <tr>\n",
              "      <th>75%</th>\n",
              "      <td>10847.000000</td>\n",
              "      <td>59.000000</td>\n",
              "      <td>31.230000</td>\n",
              "      <td>36.000000</td>\n",
              "      <td>0.200000</td>\n",
              "    </tr>\n",
              "    <tr>\n",
              "      <th>max</th>\n",
              "      <td>11077.000000</td>\n",
              "      <td>77.000000</td>\n",
              "      <td>263.500000</td>\n",
              "      <td>130.000000</td>\n",
              "      <td>0.250000</td>\n",
              "    </tr>\n",
              "  </tbody>\n",
              "</table>\n",
              "</div>"
            ],
            "text/plain": [
              "            OrderId   ProductId   UnitPrice    Quantity    Discount\n",
              "count    838.000000  838.000000  838.000000  838.000000  838.000000\n",
              "mean   10654.007160   39.844869   26.292363   27.109785    0.144439\n",
              "std      235.887125   22.046812   30.017214   20.771439    0.071808\n",
              "min    10250.000000    1.000000    2.000000    1.000000    0.010000\n",
              "25%    10452.250000   21.000000   12.500000   12.000000    0.100000\n",
              "50%    10645.000000   40.000000   18.000000   20.000000    0.150000\n",
              "75%    10847.000000   59.000000   31.230000   36.000000    0.200000\n",
              "max    11077.000000   77.000000  263.500000  130.000000    0.250000"
            ]
          },
          "metadata": {
            "tags": []
          },
          "execution_count": 130
        }
      ]
    },
    {
      "metadata": {
        "colab_type": "code",
        "id": "yhiC4aWY82VH",
        "outputId": "fc65b307-7a6c-49d3-df32-b4b369b0440c",
        "colab": {
          "base_uri": "https://localhost:8080/",
          "height": 106
        }
      },
      "cell_type": "code",
      "source": [
        "# Separating df_no_disc\n",
        "df_no_disc = df.loc[df['Discount']==0]\n",
        "df_no_disc.head(2)"
      ],
      "execution_count": 0,
      "outputs": [
        {
          "output_type": "execute_result",
          "data": {
            "text/html": [
              "<div>\n",
              "<style scoped>\n",
              "    .dataframe tbody tr th:only-of-type {\n",
              "        vertical-align: middle;\n",
              "    }\n",
              "\n",
              "    .dataframe tbody tr th {\n",
              "        vertical-align: top;\n",
              "    }\n",
              "\n",
              "    .dataframe thead th {\n",
              "        text-align: right;\n",
              "    }\n",
              "</style>\n",
              "<table border=\"1\" class=\"dataframe\">\n",
              "  <thead>\n",
              "    <tr style=\"text-align: right;\">\n",
              "      <th></th>\n",
              "      <th>Id</th>\n",
              "      <th>OrderId</th>\n",
              "      <th>ProductId</th>\n",
              "      <th>UnitPrice</th>\n",
              "      <th>Quantity</th>\n",
              "      <th>Discount</th>\n",
              "    </tr>\n",
              "  </thead>\n",
              "  <tbody>\n",
              "    <tr>\n",
              "      <th>0</th>\n",
              "      <td>10248/11</td>\n",
              "      <td>10248</td>\n",
              "      <td>11</td>\n",
              "      <td>14.0</td>\n",
              "      <td>12</td>\n",
              "      <td>0.0</td>\n",
              "    </tr>\n",
              "    <tr>\n",
              "      <th>1</th>\n",
              "      <td>10248/42</td>\n",
              "      <td>10248</td>\n",
              "      <td>42</td>\n",
              "      <td>9.8</td>\n",
              "      <td>10</td>\n",
              "      <td>0.0</td>\n",
              "    </tr>\n",
              "  </tbody>\n",
              "</table>\n",
              "</div>"
            ],
            "text/plain": [
              "         Id  OrderId  ProductId  UnitPrice  Quantity  Discount\n",
              "0  10248/11    10248         11       14.0        12       0.0\n",
              "1  10248/42    10248         42        9.8        10       0.0"
            ]
          },
          "metadata": {
            "tags": []
          },
          "execution_count": 131
        }
      ]
    },
    {
      "metadata": {
        "colab_type": "code",
        "id": "CXEftlqV9SWd",
        "outputId": "bfc3f161-d906-4b91-a305-2501f84ec611",
        "colab": {
          "base_uri": "https://localhost:8080/",
          "height": 282
        }
      },
      "cell_type": "code",
      "source": [
        "# Examine split dataframes  - df_disc\n",
        "df_no_disc.describe()"
      ],
      "execution_count": 0,
      "outputs": [
        {
          "output_type": "execute_result",
          "data": {
            "text/html": [
              "<div>\n",
              "<style scoped>\n",
              "    .dataframe tbody tr th:only-of-type {\n",
              "        vertical-align: middle;\n",
              "    }\n",
              "\n",
              "    .dataframe tbody tr th {\n",
              "        vertical-align: top;\n",
              "    }\n",
              "\n",
              "    .dataframe thead th {\n",
              "        text-align: right;\n",
              "    }\n",
              "</style>\n",
              "<table border=\"1\" class=\"dataframe\">\n",
              "  <thead>\n",
              "    <tr style=\"text-align: right;\">\n",
              "      <th></th>\n",
              "      <th>OrderId</th>\n",
              "      <th>ProductId</th>\n",
              "      <th>UnitPrice</th>\n",
              "      <th>Quantity</th>\n",
              "      <th>Discount</th>\n",
              "    </tr>\n",
              "  </thead>\n",
              "  <tbody>\n",
              "    <tr>\n",
              "      <th>count</th>\n",
              "      <td>1317.000000</td>\n",
              "      <td>1317.000000</td>\n",
              "      <td>1317.000000</td>\n",
              "      <td>1317.000000</td>\n",
              "      <td>1317.0</td>\n",
              "    </tr>\n",
              "    <tr>\n",
              "      <th>mean</th>\n",
              "      <td>10662.791951</td>\n",
              "      <td>41.396355</td>\n",
              "      <td>26.171534</td>\n",
              "      <td>21.715262</td>\n",
              "      <td>0.0</td>\n",
              "    </tr>\n",
              "    <tr>\n",
              "      <th>std</th>\n",
              "      <td>244.835366</td>\n",
              "      <td>22.217410</td>\n",
              "      <td>29.717354</td>\n",
              "      <td>17.507493</td>\n",
              "      <td>0.0</td>\n",
              "    </tr>\n",
              "    <tr>\n",
              "      <th>min</th>\n",
              "      <td>10248.000000</td>\n",
              "      <td>1.000000</td>\n",
              "      <td>2.000000</td>\n",
              "      <td>1.000000</td>\n",
              "      <td>0.0</td>\n",
              "    </tr>\n",
              "    <tr>\n",
              "      <th>25%</th>\n",
              "      <td>10448.000000</td>\n",
              "      <td>23.000000</td>\n",
              "      <td>12.000000</td>\n",
              "      <td>10.000000</td>\n",
              "      <td>0.0</td>\n",
              "    </tr>\n",
              "    <tr>\n",
              "      <th>50%</th>\n",
              "      <td>10671.000000</td>\n",
              "      <td>41.000000</td>\n",
              "      <td>18.400000</td>\n",
              "      <td>18.000000</td>\n",
              "      <td>0.0</td>\n",
              "    </tr>\n",
              "    <tr>\n",
              "      <th>75%</th>\n",
              "      <td>10879.000000</td>\n",
              "      <td>60.000000</td>\n",
              "      <td>32.800000</td>\n",
              "      <td>30.000000</td>\n",
              "      <td>0.0</td>\n",
              "    </tr>\n",
              "    <tr>\n",
              "      <th>max</th>\n",
              "      <td>11077.000000</td>\n",
              "      <td>77.000000</td>\n",
              "      <td>263.500000</td>\n",
              "      <td>130.000000</td>\n",
              "      <td>0.0</td>\n",
              "    </tr>\n",
              "  </tbody>\n",
              "</table>\n",
              "</div>"
            ],
            "text/plain": [
              "            OrderId    ProductId    UnitPrice     Quantity  Discount\n",
              "count   1317.000000  1317.000000  1317.000000  1317.000000    1317.0\n",
              "mean   10662.791951    41.396355    26.171534    21.715262       0.0\n",
              "std      244.835366    22.217410    29.717354    17.507493       0.0\n",
              "min    10248.000000     1.000000     2.000000     1.000000       0.0\n",
              "25%    10448.000000    23.000000    12.000000    10.000000       0.0\n",
              "50%    10671.000000    41.000000    18.400000    18.000000       0.0\n",
              "75%    10879.000000    60.000000    32.800000    30.000000       0.0\n",
              "max    11077.000000    77.000000   263.500000   130.000000       0.0"
            ]
          },
          "metadata": {
            "tags": []
          },
          "execution_count": 132
        }
      ]
    },
    {
      "metadata": {
        "colab_type": "text",
        "id": "Fq_JAeWWwwRy"
      },
      "cell_type": "markdown",
      "source": [
        "### 2. Run each df thought detect_outliers to get outlier index"
      ]
    },
    {
      "metadata": {
        "colab_type": "text",
        "id": "eMA7n-4O9X7o"
      },
      "cell_type": "markdown",
      "source": [
        "##### Run detect_outliers on df_disc and then examine stats of outliers\n"
      ]
    },
    {
      "metadata": {
        "colab_type": "code",
        "id": "nxaepnCPwwRz",
        "outputId": "a1b9f98c-0268-409f-f2f9-2279c8d9b70a",
        "colab": {
          "base_uri": "https://localhost:8080/",
          "height": 300
        }
      },
      "cell_type": "code",
      "source": [
        "# Detect outliers in df_disc\n",
        "outlier_disc = detect_outliers(df_disc,0,['Quantity'])\n",
        "\n",
        "print(f'There are {len(outlier_disc)} outliers out of {len(df)} = {len(outlier_disc)/len(df)*100}%')\n",
        "df[['Quantity','Discount']].iloc[outlier_disc].describe()\n",
        "# df.iloc[outlier_disc].sort_values('Quantity', ascending=False).head()"
      ],
      "execution_count": 0,
      "outputs": [
        {
          "output_type": "stream",
          "text": [
            "There are 29 outliers out of 2155 = 1.345707656612529%\n"
          ],
          "name": "stdout"
        },
        {
          "output_type": "execute_result",
          "data": {
            "text/html": [
              "<div>\n",
              "<style scoped>\n",
              "    .dataframe tbody tr th:only-of-type {\n",
              "        vertical-align: middle;\n",
              "    }\n",
              "\n",
              "    .dataframe tbody tr th {\n",
              "        vertical-align: top;\n",
              "    }\n",
              "\n",
              "    .dataframe thead th {\n",
              "        text-align: right;\n",
              "    }\n",
              "</style>\n",
              "<table border=\"1\" class=\"dataframe\">\n",
              "  <thead>\n",
              "    <tr style=\"text-align: right;\">\n",
              "      <th></th>\n",
              "      <th>Quantity</th>\n",
              "      <th>Discount</th>\n",
              "    </tr>\n",
              "  </thead>\n",
              "  <tbody>\n",
              "    <tr>\n",
              "      <th>count</th>\n",
              "      <td>29.000000</td>\n",
              "      <td>29.000000</td>\n",
              "    </tr>\n",
              "    <tr>\n",
              "      <th>mean</th>\n",
              "      <td>93.862069</td>\n",
              "      <td>0.132759</td>\n",
              "    </tr>\n",
              "    <tr>\n",
              "      <th>std</th>\n",
              "      <td>16.558822</td>\n",
              "      <td>0.069790</td>\n",
              "    </tr>\n",
              "    <tr>\n",
              "      <th>min</th>\n",
              "      <td>77.000000</td>\n",
              "      <td>0.050000</td>\n",
              "    </tr>\n",
              "    <tr>\n",
              "      <th>25%</th>\n",
              "      <td>80.000000</td>\n",
              "      <td>0.050000</td>\n",
              "    </tr>\n",
              "    <tr>\n",
              "      <th>50%</th>\n",
              "      <td>90.000000</td>\n",
              "      <td>0.150000</td>\n",
              "    </tr>\n",
              "    <tr>\n",
              "      <th>75%</th>\n",
              "      <td>100.000000</td>\n",
              "      <td>0.200000</td>\n",
              "    </tr>\n",
              "    <tr>\n",
              "      <th>max</th>\n",
              "      <td>130.000000</td>\n",
              "      <td>0.250000</td>\n",
              "    </tr>\n",
              "  </tbody>\n",
              "</table>\n",
              "</div>"
            ],
            "text/plain": [
              "         Quantity   Discount\n",
              "count   29.000000  29.000000\n",
              "mean    93.862069   0.132759\n",
              "std     16.558822   0.069790\n",
              "min     77.000000   0.050000\n",
              "25%     80.000000   0.050000\n",
              "50%     90.000000   0.150000\n",
              "75%    100.000000   0.200000\n",
              "max    130.000000   0.250000"
            ]
          },
          "metadata": {
            "tags": []
          },
          "execution_count": 133
        }
      ]
    },
    {
      "metadata": {
        "colab_type": "text",
        "id": "dIikkelyABAB"
      },
      "cell_type": "markdown",
      "source": [
        "#### Now checking df_no_disc for outliers\n"
      ]
    },
    {
      "metadata": {
        "colab_type": "code",
        "id": "1uQLmUcZ_5t3",
        "outputId": "6553ae93-884a-4635-cb7c-6e6a68c3e744",
        "colab": {
          "base_uri": "https://localhost:8080/",
          "height": 300
        }
      },
      "cell_type": "code",
      "source": [
        "# Detect outliers in df_no_disc\n",
        "outlier_no_disc = detect_outliers(df_no_disc,0,['Quantity'])\n",
        "# df.iloc[outlier_no_disc].sort_values('Quantity', ascending=False)#.describe()\n",
        "print(f'There are {len(outlier_no_disc)} outliers out of {len(df)} = {len(outlier_no_disc)/len(df)*100}%')\n",
        "df[['Quantity','Discount']].iloc[outlier_no_disc].describe()"
      ],
      "execution_count": 0,
      "outputs": [
        {
          "output_type": "stream",
          "text": [
            "There are 34 outliers out of 2155 = 1.5777262180974478%\n"
          ],
          "name": "stdout"
        },
        {
          "output_type": "execute_result",
          "data": {
            "text/html": [
              "<div>\n",
              "<style scoped>\n",
              "    .dataframe tbody tr th:only-of-type {\n",
              "        vertical-align: middle;\n",
              "    }\n",
              "\n",
              "    .dataframe tbody tr th {\n",
              "        vertical-align: top;\n",
              "    }\n",
              "\n",
              "    .dataframe thead th {\n",
              "        text-align: right;\n",
              "    }\n",
              "</style>\n",
              "<table border=\"1\" class=\"dataframe\">\n",
              "  <thead>\n",
              "    <tr style=\"text-align: right;\">\n",
              "      <th></th>\n",
              "      <th>Quantity</th>\n",
              "      <th>Discount</th>\n",
              "    </tr>\n",
              "  </thead>\n",
              "  <tbody>\n",
              "    <tr>\n",
              "      <th>count</th>\n",
              "      <td>34.000000</td>\n",
              "      <td>34.0</td>\n",
              "    </tr>\n",
              "    <tr>\n",
              "      <th>mean</th>\n",
              "      <td>85.764706</td>\n",
              "      <td>0.0</td>\n",
              "    </tr>\n",
              "    <tr>\n",
              "      <th>std</th>\n",
              "      <td>19.589822</td>\n",
              "      <td>0.0</td>\n",
              "    </tr>\n",
              "    <tr>\n",
              "      <th>min</th>\n",
              "      <td>63.000000</td>\n",
              "      <td>0.0</td>\n",
              "    </tr>\n",
              "    <tr>\n",
              "      <th>25%</th>\n",
              "      <td>70.000000</td>\n",
              "      <td>0.0</td>\n",
              "    </tr>\n",
              "    <tr>\n",
              "      <th>50%</th>\n",
              "      <td>80.000000</td>\n",
              "      <td>0.0</td>\n",
              "    </tr>\n",
              "    <tr>\n",
              "      <th>75%</th>\n",
              "      <td>100.000000</td>\n",
              "      <td>0.0</td>\n",
              "    </tr>\n",
              "    <tr>\n",
              "      <th>max</th>\n",
              "      <td>130.000000</td>\n",
              "      <td>0.0</td>\n",
              "    </tr>\n",
              "  </tbody>\n",
              "</table>\n",
              "</div>"
            ],
            "text/plain": [
              "         Quantity  Discount\n",
              "count   34.000000      34.0\n",
              "mean    85.764706       0.0\n",
              "std     19.589822       0.0\n",
              "min     63.000000       0.0\n",
              "25%     70.000000       0.0\n",
              "50%     80.000000       0.0\n",
              "75%    100.000000       0.0\n",
              "max    130.000000       0.0"
            ]
          },
          "metadata": {
            "tags": []
          },
          "execution_count": 134
        }
      ]
    },
    {
      "metadata": {
        "colab_type": "code",
        "id": "Kz4oI-IPwwRu",
        "colab": {}
      },
      "cell_type": "code",
      "source": [
        "# print(f'Checking the statstics for the outliers from df_disc...' )\n",
        "# df[['Quantity','Discount']].iloc[outlier_no_disc] #.describe()"
      ],
      "execution_count": 0,
      "outputs": []
    },
    {
      "metadata": {
        "colab_type": "text",
        "id": "gGqk4D46HP4O"
      },
      "cell_type": "markdown",
      "source": [
        "#### Now we should test if we remove those outliers, do we pass the normality test\n",
        "\n",
        "- Hmm ok so there is somethihng a bit weird about the outlier indices. They MUST be the index from the first df before we split it.\n",
        "- This means we will have to remove outliers from full df and split again."
      ]
    },
    {
      "metadata": {
        "colab_type": "code",
        "id": "7GUrC_QaHayz",
        "outputId": "28a015e6-1083-4eb5-8a86-28de6feeb1f1",
        "colab": {
          "base_uri": "https://localhost:8080/",
          "height": 195
        }
      },
      "cell_type": "code",
      "source": [
        "df_to_clean = df.copy()\n",
        "\n",
        "# Fill Data to Remove with np.nan\n",
        "remove_label = ['outlier_disc' , 'outlier_no_disc']\n",
        "remove_data = [outlier_disc , outlier_no_disc]\n",
        "remove_me = dict(zip(remove_label, remove_data))\n",
        "\n",
        "# Loop and replace indices of outliers with np.nan \n",
        "for key,val in remove_me.items():\n",
        "    df_to_clean.iloc[val]=np.nan\n",
        "    print(f'{key} removed {len(val)} outliers')\n",
        "\n",
        "print('After removal:')\n",
        "print(df_to_clean.isna().sum())"
      ],
      "execution_count": 0,
      "outputs": [
        {
          "output_type": "stream",
          "text": [
            "outlier_disc removed 29 outliers\n",
            "outlier_no_disc removed 34 outliers\n",
            "After removal:\n",
            "Id           63\n",
            "OrderId      63\n",
            "ProductId    63\n",
            "UnitPrice    63\n",
            "Quantity     63\n",
            "Discount     63\n",
            "dtype: int64\n"
          ],
          "name": "stdout"
        }
      ]
    },
    {
      "metadata": {
        "colab_type": "code",
        "id": "Uk4M3t4gKGa9",
        "outputId": "612873cd-e733-44f7-9839-4c78b6f0f976",
        "colab": {
          "base_uri": "https://localhost:8080/",
          "height": 212
        }
      },
      "cell_type": "code",
      "source": [
        "# Replace na and run stattest \n",
        "df_to_clean.info()"
      ],
      "execution_count": 0,
      "outputs": [
        {
          "output_type": "stream",
          "text": [
            "<class 'pandas.core.frame.DataFrame'>\n",
            "RangeIndex: 2155 entries, 0 to 2154\n",
            "Data columns (total 6 columns):\n",
            "Id           2092 non-null object\n",
            "OrderId      2092 non-null float64\n",
            "ProductId    2092 non-null float64\n",
            "UnitPrice    2092 non-null float64\n",
            "Quantity     2092 non-null float64\n",
            "Discount     2092 non-null float64\n",
            "dtypes: float64(5), object(1)\n",
            "memory usage: 101.1+ KB\n"
          ],
          "name": "stdout"
        }
      ]
    },
    {
      "metadata": {
        "colab_type": "code",
        "id": "W-5EtAuNMF84",
        "outputId": "c66231e9-a766-4266-e550-bca6218a57d9",
        "colab": {
          "base_uri": "https://localhost:8080/",
          "height": 212
        }
      },
      "cell_type": "code",
      "source": [
        "df_clean = df_to_clean.dropna(axis=0)\n",
        "df_clean.info()"
      ],
      "execution_count": 0,
      "outputs": [
        {
          "output_type": "stream",
          "text": [
            "<class 'pandas.core.frame.DataFrame'>\n",
            "Int64Index: 2092 entries, 0 to 2154\n",
            "Data columns (total 6 columns):\n",
            "Id           2092 non-null object\n",
            "OrderId      2092 non-null float64\n",
            "ProductId    2092 non-null float64\n",
            "UnitPrice    2092 non-null float64\n",
            "Quantity     2092 non-null float64\n",
            "Discount     2092 non-null float64\n",
            "dtypes: float64(5), object(1)\n",
            "memory usage: 114.4+ KB\n"
          ],
          "name": "stdout"
        }
      ]
    },
    {
      "metadata": {
        "colab_type": "text",
        "id": "6PrPoFbsMZKb"
      },
      "cell_type": "markdown",
      "source": [
        "#### Separate DataFrames  "
      ]
    },
    {
      "metadata": {
        "colab_type": "code",
        "id": "I72gdFKvwwR9",
        "outputId": "bd1afae9-13c3-4465-dc78-0f0eb7f5e1d9",
        "colab": {
          "base_uri": "https://localhost:8080/",
          "height": 212
        }
      },
      "cell_type": "code",
      "source": [
        "df_discounted = df_clean.loc[df_clean['Discount']>0]\n",
        "df_discounted.info()"
      ],
      "execution_count": 0,
      "outputs": [
        {
          "output_type": "stream",
          "text": [
            "<class 'pandas.core.frame.DataFrame'>\n",
            "Int64Index: 809 entries, 6 to 2152\n",
            "Data columns (total 6 columns):\n",
            "Id           809 non-null object\n",
            "OrderId      809 non-null float64\n",
            "ProductId    809 non-null float64\n",
            "UnitPrice    809 non-null float64\n",
            "Quantity     809 non-null float64\n",
            "Discount     809 non-null float64\n",
            "dtypes: float64(5), object(1)\n",
            "memory usage: 44.2+ KB\n"
          ],
          "name": "stdout"
        }
      ]
    },
    {
      "metadata": {
        "colab_type": "code",
        "id": "aJ4PYoacM8Pn",
        "outputId": "48882a6f-3571-4f14-da3c-8b8132469c39",
        "colab": {
          "base_uri": "https://localhost:8080/",
          "height": 212
        }
      },
      "cell_type": "code",
      "source": [
        "df_fullprice = df_clean.loc[df_clean['Discount']==0]\n",
        "df_fullprice.info()"
      ],
      "execution_count": 0,
      "outputs": [
        {
          "output_type": "stream",
          "text": [
            "<class 'pandas.core.frame.DataFrame'>\n",
            "Int64Index: 1283 entries, 0 to 2154\n",
            "Data columns (total 6 columns):\n",
            "Id           1283 non-null object\n",
            "OrderId      1283 non-null float64\n",
            "ProductId    1283 non-null float64\n",
            "UnitPrice    1283 non-null float64\n",
            "Quantity     1283 non-null float64\n",
            "Discount     1283 non-null float64\n",
            "dtypes: float64(5), object(1)\n",
            "memory usage: 70.2+ KB\n"
          ],
          "name": "stdout"
        }
      ]
    },
    {
      "metadata": {
        "id": "77osFmuAbEj0",
        "colab_type": "text"
      },
      "cell_type": "markdown",
      "source": [
        "### Prelminary Testing for Normality "
      ]
    },
    {
      "metadata": {
        "colab_type": "code",
        "id": "B8V_fLKzNLgS",
        "outputId": "2ddaeca3-05a4-4184-be4a-998ab3ea8b4b",
        "colab": {
          "base_uri": "https://localhost:8080/",
          "height": 35
        }
      },
      "cell_type": "code",
      "source": [
        "from scipy.stats import normaltest \n",
        "stat, p = normaltest(df_discounted['Quantity'])\n",
        "print(f'p ={p}, stat ={stat}')\n",
        "\n",
        "results_normtest = [['DataIn','stat','p']]\n",
        "results_normtest.append(['Discounted, cleaned',stat,p])"
      ],
      "execution_count": 0,
      "outputs": [
        {
          "output_type": "stream",
          "text": [
            "p =1.9869796006071744e-18, stat =81.51983195360808\n"
          ],
          "name": "stdout"
        }
      ]
    },
    {
      "metadata": {
        "colab_type": "code",
        "id": "L6l3S61dPEng",
        "colab": {}
      },
      "cell_type": "code",
      "source": [
        "# Shapiro-Wilk Test\n",
        "from numpy.random import seed\n",
        "from numpy.random import randn\n",
        "from scipy.stats import shapiro\n"
      ],
      "execution_count": 0,
      "outputs": []
    },
    {
      "metadata": {
        "colab_type": "text",
        "id": "tciaNn_rWcAW"
      },
      "cell_type": "markdown",
      "source": [
        "### DEF normtest_results to run multiple normaltests and save results"
      ]
    },
    {
      "metadata": {
        "colab_type": "code",
        "id": "Hb6MwcV-POzb",
        "colab": {}
      },
      "cell_type": "code",
      "source": [
        "# DEFINING FUNCTION \n",
        "#data_in={'name':data}\n",
        "def normtest_results(dict_data):\n",
        "    \"\"\"Peforms both d'agostino-pearson and shapiro-wilik normal tests\"\"\"\n",
        "    \n",
        "    results_normtest_shap = [['DataIn','Test','stat','p']]\n",
        "    results_normtest_dagp = [['DataIn','Test','stat','p']]\n",
        "\n",
        "    for key,val in dict_data.items():\n",
        "\n",
        "        data_in = val\n",
        "        name = key\n",
        "        test = 'Shapiro'\n",
        "        stat, p = shapiro(data_in)\n",
        "        results_normtest_shap.append([name , test, stat , p ])\n",
        "        test = 'D’Agostino’s'\n",
        "        stat, p = normaltest(data_in)\n",
        "        results_normtest_dagp.append([name,test,stat, p])\n",
        "\n",
        "    results_normtest = pd.concat([list2df(results_normtest_shap), list2df(results_normtest_dagp)]) \n",
        "\n",
        "    return results_normtest, list2df(results_normtest_shap),list2df(results_normtest_dagp)\n",
        "\n",
        "#   results_pivot = results.pivot(index='DataIn', columns= 'Test')\n",
        "#   results_pivot.stack(0)"
      ],
      "execution_count": 0,
      "outputs": []
    },
    {
      "metadata": {
        "colab_type": "code",
        "id": "QQlm4VmiUPOG",
        "colab": {}
      },
      "cell_type": "code",
      "source": [
        "# Building data_in dictionary for normtest_results\n",
        "data_in = {}\n",
        "\n",
        "df_disc_orig = df_disc\n",
        "df_no_disc_orig = df_no_disc\n",
        "\n",
        "data_in['Orig, Disc'] = df_disc_orig['Quantity']\n",
        "data_in['Clean,Disc'] = df_discounted['Quantity']\n",
        "data_in['Orig, Full Price'] = df_no_disc_orig['Quantity']\n",
        "data_in['Clean, Full Price'] = df_fullprice['Quantity']\n",
        "\n",
        "results = normtest_results(data_in)[0]\n",
        "# print(results.groupby('Test'))"
      ],
      "execution_count": 0,
      "outputs": []
    },
    {
      "metadata": {
        "id": "PVXDUinWuA9G",
        "colab_type": "text"
      },
      "cell_type": "markdown",
      "source": [
        "## Normalizing the data to pass assumptions:\n"
      ]
    },
    {
      "metadata": {
        "id": "BXBrLK3LuAu1",
        "colab_type": "code",
        "colab": {}
      },
      "cell_type": "code",
      "source": [
        "# df_discounted.info(),print('\\n'), df_fullprice.info()"
      ],
      "execution_count": 0,
      "outputs": []
    },
    {
      "metadata": {
        "id": "HGylCC5WuwYG",
        "colab_type": "code",
        "colab": {}
      },
      "cell_type": "code",
      "source": [
        "from sklearn import preprocessing as prep \n",
        "from sklearn.preprocessing import QuantileTransformer\n",
        "# quantTrans = QuantileTransformer(output_distribution='normal')\n",
        "qt =  QuantileTransformer(n_quantiles=10,output_distribution='normal')\n"
      ],
      "execution_count": 0,
      "outputs": []
    },
    {
      "metadata": {
        "id": "FcXEODDMw_Ei",
        "colab_type": "code",
        "outputId": "de05eb69-543e-4e9f-8714-f57da932dc65",
        "colab": {
          "base_uri": "https://localhost:8080/",
          "height": 340
        }
      },
      "cell_type": "code",
      "source": [
        "test_data = df_disc[['Quantity','Discount']]\n",
        "test_data[0:10]"
      ],
      "execution_count": 0,
      "outputs": [
        {
          "output_type": "execute_result",
          "data": {
            "text/html": [
              "<div>\n",
              "<style scoped>\n",
              "    .dataframe tbody tr th:only-of-type {\n",
              "        vertical-align: middle;\n",
              "    }\n",
              "\n",
              "    .dataframe tbody tr th {\n",
              "        vertical-align: top;\n",
              "    }\n",
              "\n",
              "    .dataframe thead th {\n",
              "        text-align: right;\n",
              "    }\n",
              "</style>\n",
              "<table border=\"1\" class=\"dataframe\">\n",
              "  <thead>\n",
              "    <tr style=\"text-align: right;\">\n",
              "      <th></th>\n",
              "      <th>Quantity</th>\n",
              "      <th>Discount</th>\n",
              "    </tr>\n",
              "  </thead>\n",
              "  <tbody>\n",
              "    <tr>\n",
              "      <th>6</th>\n",
              "      <td>35</td>\n",
              "      <td>0.15</td>\n",
              "    </tr>\n",
              "    <tr>\n",
              "      <th>7</th>\n",
              "      <td>15</td>\n",
              "      <td>0.15</td>\n",
              "    </tr>\n",
              "    <tr>\n",
              "      <th>8</th>\n",
              "      <td>6</td>\n",
              "      <td>0.05</td>\n",
              "    </tr>\n",
              "    <tr>\n",
              "      <th>9</th>\n",
              "      <td>15</td>\n",
              "      <td>0.05</td>\n",
              "    </tr>\n",
              "    <tr>\n",
              "      <th>11</th>\n",
              "      <td>40</td>\n",
              "      <td>0.05</td>\n",
              "    </tr>\n",
              "    <tr>\n",
              "      <th>12</th>\n",
              "      <td>25</td>\n",
              "      <td>0.05</td>\n",
              "    </tr>\n",
              "    <tr>\n",
              "      <th>17</th>\n",
              "      <td>15</td>\n",
              "      <td>0.15</td>\n",
              "    </tr>\n",
              "    <tr>\n",
              "      <th>18</th>\n",
              "      <td>21</td>\n",
              "      <td>0.15</td>\n",
              "    </tr>\n",
              "    <tr>\n",
              "      <th>29</th>\n",
              "      <td>50</td>\n",
              "      <td>0.20</td>\n",
              "    </tr>\n",
              "    <tr>\n",
              "      <th>30</th>\n",
              "      <td>65</td>\n",
              "      <td>0.20</td>\n",
              "    </tr>\n",
              "  </tbody>\n",
              "</table>\n",
              "</div>"
            ],
            "text/plain": [
              "    Quantity  Discount\n",
              "6         35      0.15\n",
              "7         15      0.15\n",
              "8          6      0.05\n",
              "9         15      0.05\n",
              "11        40      0.05\n",
              "12        25      0.05\n",
              "17        15      0.15\n",
              "18        21      0.15\n",
              "29        50      0.20\n",
              "30        65      0.20"
            ]
          },
          "metadata": {
            "tags": []
          },
          "execution_count": 147
        }
      ]
    },
    {
      "metadata": {
        "id": "0O-hqxMIxOFk",
        "colab_type": "code",
        "outputId": "d9a0aea5-e15f-4dae-d12e-e62897c8b754",
        "colab": {
          "base_uri": "https://localhost:8080/",
          "height": 141
        }
      },
      "cell_type": "code",
      "source": [
        "test_data.describe()\n",
        "test_data.info()"
      ],
      "execution_count": 0,
      "outputs": [
        {
          "output_type": "stream",
          "text": [
            "<class 'pandas.core.frame.DataFrame'>\n",
            "Int64Index: 838 entries, 6 to 2152\n",
            "Data columns (total 2 columns):\n",
            "Quantity    838 non-null int64\n",
            "Discount    838 non-null float64\n",
            "dtypes: float64(1), int64(1)\n",
            "memory usage: 19.6 KB\n"
          ],
          "name": "stdout"
        }
      ]
    },
    {
      "metadata": {
        "id": "tnDJjnolxwQD",
        "colab_type": "code",
        "outputId": "cea5a2a8-2de3-49df-8b03-3db62a770bdb",
        "colab": {
          "base_uri": "https://localhost:8080/",
          "height": 521
        }
      },
      "cell_type": "code",
      "source": [
        "test_data.hist(figsize=(10,5))"
      ],
      "execution_count": 0,
      "outputs": [
        {
          "output_type": "execute_result",
          "data": {
            "text/plain": [
              "array([[<matplotlib.axes._subplots.AxesSubplot object at 0x7f3ae1aed240>,\n",
              "        <matplotlib.axes._subplots.AxesSubplot object at 0x7f3ae1b08208>]],\n",
              "      dtype=object)"
            ]
          },
          "metadata": {
            "tags": []
          },
          "execution_count": 149
        },
        {
          "output_type": "display_data",
          "data": {
            "image/png": "[encoded data removed]",
            "text/plain": [
              "<Figure size 1000x500 with 2 Axes>"
            ]
          },
          "metadata": {
            "tags": []
          }
        }
      ]
    },
    {
      "metadata": {
        "id": "M92AZIL0vgrw",
        "colab_type": "code",
        "outputId": "8b4a2582-dbf6-40f3-85b0-79ef898dc6cf",
        "colab": {
          "base_uri": "https://localhost:8080/",
          "height": 647
        }
      },
      "cell_type": "code",
      "source": [
        "test = qt.fit_transform(np.array(test_data['Quantity']).reshape(-1,1))\n",
        "test_data['post_transform'] = test\n",
        "test_data.hist()"
      ],
      "execution_count": 0,
      "outputs": [
        {
          "output_type": "stream",
          "text": [
            "/usr/local/lib/python3.6/dist-packages/ipykernel_launcher.py:2: SettingWithCopyWarning: \n",
            "A value is trying to be set on a copy of a slice from a DataFrame.\n",
            "Try using .loc[row_indexer,col_indexer] = value instead\n",
            "\n",
            "See the caveats in the documentation: http://pandas.pydata.org/pandas-docs/stable/indexing.html#indexing-view-versus-copy\n",
            "  \n"
          ],
          "name": "stderr"
        },
        {
          "output_type": "execute_result",
          "data": {
            "text/plain": [
              "array([[<matplotlib.axes._subplots.AxesSubplot object at 0x7f3ae1b35588>,\n",
              "        <matplotlib.axes._subplots.AxesSubplot object at 0x7f3ae1a34240>],\n",
              "       [<matplotlib.axes._subplots.AxesSubplot object at 0x7f3ae22d3eb8>,\n",
              "        <matplotlib.axes._subplots.AxesSubplot object at 0x7f3ae23ba2b0>]],\n",
              "      dtype=object)"
            ]
          },
          "metadata": {
            "tags": []
          },
          "execution_count": 150
        },
        {
          "output_type": "display_data",
          "data": {
            "image/png": "[encoded data removed]",
            "text/plain": [
              "<Figure size 640x480 with 4 Axes>"
            ]
          },
          "metadata": {
            "tags": []
          }
        }
      ]
    },
    {
      "metadata": {
        "id": "tNM9B_dOxyv1",
        "colab_type": "text"
      },
      "cell_type": "markdown",
      "source": [
        "### Attempting to use Quantile Transformer to pass assumption of normality."
      ]
    },
    {
      "metadata": {
        "id": "GBZfYvQO2Jr0",
        "colab_type": "code",
        "colab": {}
      },
      "cell_type": "code",
      "source": [
        "# TRANSFORM DATA BEFORE RE-CALLING ORIGINAL normtest_results\n",
        "from sklearn import preprocessing as prep \n",
        "from sklearn.preprocessing import QuantileTransformer\n",
        "# quantTrans = QuantileTransformer(output_distribution='normal')\n",
        "qt =  QuantileTransformer(n_quantiles=10,output_distribution='normal')\n",
        "\n",
        "def transform(data_in):\n",
        "  \n",
        "  for k,v in data_in.items():    \n",
        "      data = np.array(v).reshape(-1,1)\n",
        "      transformed = pd.Series(np.squeeze(qt.fit_transform(data)))\n",
        "      \n",
        "      data_in[k] = transformed\n",
        "        \n",
        "  return data_in\n",
        "    "
      ],
      "execution_count": 0,
      "outputs": []
    },
    {
      "metadata": {
        "id": "WRM2gRQACpcj",
        "colab_type": "code",
        "outputId": "a4ffec1a-8302-42c6-8a63-b8bfc93af2e2",
        "colab": {
          "base_uri": "https://localhost:8080/",
          "height": 52
        }
      },
      "cell_type": "code",
      "source": [
        "data_in_tf = transform(data_in)\n",
        "trans_data_in=data_in_tf\n",
        "type(data_in_tf)\n",
        "print([k.title() for k,x in data_in_tf.items()])\n",
        "print([len(x) for k,x in data_in_tf.items()])"
      ],
      "execution_count": 0,
      "outputs": [
        {
          "output_type": "stream",
          "text": [
            "['Orig, Disc', 'Clean,Disc', 'Orig, Full Price', 'Clean, Full Price']\n",
            "[838, 809, 1317, 1283]\n"
          ],
          "name": "stdout"
        }
      ]
    },
    {
      "metadata": {
        "id": "5Iqt2xNPPF8H",
        "colab_type": "code",
        "outputId": "53f6ba14-b1fc-40f7-8acd-af7e6523f94c",
        "colab": {
          "base_uri": "https://localhost:8080/",
          "height": 282
        }
      },
      "cell_type": "code",
      "source": [
        "trans_norm_test = normtest_results(trans_data_in)[0]\n",
        "trans_norm_test"
      ],
      "execution_count": 0,
      "outputs": [
        {
          "output_type": "execute_result",
          "data": {
            "text/html": [
              "<div>\n",
              "<style scoped>\n",
              "    .dataframe tbody tr th:only-of-type {\n",
              "        vertical-align: middle;\n",
              "    }\n",
              "\n",
              "    .dataframe tbody tr th {\n",
              "        vertical-align: top;\n",
              "    }\n",
              "\n",
              "    .dataframe thead th {\n",
              "        text-align: right;\n",
              "    }\n",
              "</style>\n",
              "<table border=\"1\" class=\"dataframe\">\n",
              "  <thead>\n",
              "    <tr style=\"text-align: right;\">\n",
              "      <th></th>\n",
              "      <th>DataIn</th>\n",
              "      <th>Test</th>\n",
              "      <th>stat</th>\n",
              "      <th>p</th>\n",
              "    </tr>\n",
              "  </thead>\n",
              "  <tbody>\n",
              "    <tr>\n",
              "      <th>0</th>\n",
              "      <td>Orig, Disc</td>\n",
              "      <td>Shapiro</td>\n",
              "      <td>0.955760</td>\n",
              "      <td>3.409909e-15</td>\n",
              "    </tr>\n",
              "    <tr>\n",
              "      <th>1</th>\n",
              "      <td>Clean,Disc</td>\n",
              "      <td>Shapiro</td>\n",
              "      <td>0.868290</td>\n",
              "      <td>1.598946e-25</td>\n",
              "    </tr>\n",
              "    <tr>\n",
              "      <th>2</th>\n",
              "      <td>Orig, Full Price</td>\n",
              "      <td>Shapiro</td>\n",
              "      <td>0.919123</td>\n",
              "      <td>5.725075e-26</td>\n",
              "    </tr>\n",
              "    <tr>\n",
              "      <th>3</th>\n",
              "      <td>Clean, Full Price</td>\n",
              "      <td>Shapiro</td>\n",
              "      <td>0.855467</td>\n",
              "      <td>1.011598e-32</td>\n",
              "    </tr>\n",
              "    <tr>\n",
              "      <th>0</th>\n",
              "      <td>Orig, Disc</td>\n",
              "      <td>D’Agostino’s</td>\n",
              "      <td>103.590493</td>\n",
              "      <td>3.203393e-23</td>\n",
              "    </tr>\n",
              "    <tr>\n",
              "      <th>1</th>\n",
              "      <td>Clean,Disc</td>\n",
              "      <td>D’Agostino’s</td>\n",
              "      <td>239.235504</td>\n",
              "      <td>1.123752e-52</td>\n",
              "    </tr>\n",
              "    <tr>\n",
              "      <th>2</th>\n",
              "      <td>Orig, Full Price</td>\n",
              "      <td>D’Agostino’s</td>\n",
              "      <td>317.579615</td>\n",
              "      <td>1.092604e-69</td>\n",
              "    </tr>\n",
              "    <tr>\n",
              "      <th>3</th>\n",
              "      <td>Clean, Full Price</td>\n",
              "      <td>D’Agostino’s</td>\n",
              "      <td>281.007986</td>\n",
              "      <td>9.547531e-62</td>\n",
              "    </tr>\n",
              "  </tbody>\n",
              "</table>\n",
              "</div>"
            ],
            "text/plain": [
              "              DataIn          Test        stat             p\n",
              "0         Orig, Disc       Shapiro    0.955760  3.409909e-15\n",
              "1         Clean,Disc       Shapiro    0.868290  1.598946e-25\n",
              "2   Orig, Full Price       Shapiro    0.919123  5.725075e-26\n",
              "3  Clean, Full Price       Shapiro    0.855467  1.011598e-32\n",
              "0         Orig, Disc  D’Agostino’s  103.590493  3.203393e-23\n",
              "1         Clean,Disc  D’Agostino’s  239.235504  1.123752e-52\n",
              "2   Orig, Full Price  D’Agostino’s  317.579615  1.092604e-69\n",
              "3  Clean, Full Price  D’Agostino’s  281.007986  9.547531e-62"
            ]
          },
          "metadata": {
            "tags": []
          },
          "execution_count": 153
        }
      ]
    },
    {
      "metadata": {
        "id": "Cw61oSNnAVdc",
        "colab_type": "code",
        "colab": {}
      },
      "cell_type": "code",
      "source": [
        "dataDict = {'Original':data_in,'Transformed':data_in_tf }\n",
        "# df_data = normtest_results(data_in)[0]\n",
        "dataDict_results = {'Original-Results':normtest_results(data_in),'Transformed-Results': normtest_results(data_in_tf)}"
      ],
      "execution_count": 0,
      "outputs": []
    },
    {
      "metadata": {
        "id": "w3F7bYgx2xlw",
        "colab_type": "code",
        "outputId": "7fbe983c-e84f-457b-a1de-a3b17e2be122",
        "colab": {
          "base_uri": "https://localhost:8080/",
          "height": 355
        }
      },
      "cell_type": "code",
      "source": [
        "# Display info for \n",
        "printDict=dataDict\n",
        "print(f'dataDict')\n",
        "for key, val in printDict.items():\n",
        "  print(key)\n",
        "  for k, v in printDict[key].items():\n",
        "    print(f'   {k}\\n         has {len(v)} values with mean={np.mean(v)}')\n"
      ],
      "execution_count": 0,
      "outputs": [
        {
          "output_type": "stream",
          "text": [
            "dataDict\n",
            "Original\n",
            "   Orig, Disc\n",
            "         has 838 values with mean=-0.040641216074638296\n",
            "   Clean,Disc\n",
            "         has 809 values with mean=0.045823490692881975\n",
            "   Orig, Full Price\n",
            "         has 1317 values with mean=-0.04900331242351082\n",
            "   Clean, Full Price\n",
            "         has 1283 values with mean=0.03598166705462291\n",
            "Transformed\n",
            "   Orig, Disc\n",
            "         has 838 values with mean=-0.040641216074638296\n",
            "   Clean,Disc\n",
            "         has 809 values with mean=0.045823490692881975\n",
            "   Orig, Full Price\n",
            "         has 1317 values with mean=-0.04900331242351082\n",
            "   Clean, Full Price\n",
            "         has 1283 values with mean=0.03598166705462291\n"
          ],
          "name": "stdout"
        }
      ]
    },
    {
      "metadata": {
        "id": "0b4wlr87rR2b",
        "colab_type": "text"
      },
      "cell_type": "markdown",
      "source": [
        "### Attempt to use resampling to generate a normal distribution to pass normality"
      ]
    },
    {
      "metadata": {
        "id": "L6n5eR-LrYhU",
        "colab_type": "code",
        "colab": {}
      },
      "cell_type": "code",
      "source": [
        "data_disc = df['Quantity'].loc[df['Discount']>0]\n",
        "data_fullprice = df['Quantity'].loc[df['Discount']==0]\n",
        "\n",
        "# data_dist.info(), print('n'), data_fullprice.info()"
      ],
      "execution_count": 0,
      "outputs": []
    },
    {
      "metadata": {
        "id": "bZuGT5f8rcf-",
        "colab_type": "code",
        "outputId": "e1c45f89-f4fe-44a2-9ec2-4722c3b61e04",
        "colab": {
          "base_uri": "https://localhost:8080/",
          "height": 451
        }
      },
      "cell_type": "code",
      "source": [
        "# sample from the discounted \n",
        "n = 50 \n",
        "i = 10000\n",
        "pop_samp_disc = []\n",
        "pop_samp_full = []\n",
        "for i in range(0,i):\n",
        "  pop_samp_disc.append(data_disc.sample(n=30).mean())\n",
        "\n",
        "  pop_samp_full.append(data_disc.sample(n=30).mean())\n",
        "#   test_results.append(normaltest())\n",
        "# plt.hist([pop_samp_disc,pop_samp_full])\n",
        "pop_samp_disc = np.random.choice(pop_samp_disc,1000)\n",
        "pop_samp_full = np.random.choice(pop_samp_full, 1000)\n",
        "plt.hist(pop_samp_disc,alpha=0.5)\n",
        "plt.hist(pop_samp_full,alpha=0.5)\n",
        "\n",
        "plt.axvline(np.mean(pop_samp_disc),color='red',label='discounted')\n",
        "plt.axvline(np.mean(pop_samp_full),color='blue',label='full price')\n",
        "plt.show()\n",
        "\n",
        "stat,p = normaltest(pop_samp_full)\n",
        "stat, p\n",
        "tstat,tp = stats.ttest_ind(pop_samp_disc, pop_samp_full)\n",
        "tstat,tp"
      ],
      "execution_count": 0,
      "outputs": [
        {
          "output_type": "display_data",
          "data": {
            "image/png": "[encoded data removed]",
            "text/plain": [
              "<Figure size 640x480 with 1 Axes>"
            ]
          },
          "metadata": {
            "tags": []
          }
        },
        {
          "output_type": "execute_result",
          "data": {
            "text/plain": [
              "(0.021674469720827025, 0.9827097934513913)"
            ]
          },
          "metadata": {
            "tags": []
          },
          "execution_count": 157
        }
      ]
    },
    {
      "metadata": {
        "id": "uRJbSmaEujs3",
        "colab_type": "code",
        "colab": {}
      },
      "cell_type": "code",
      "source": [
        "# # plt.hist([pop_samp_disc,pop_samp_full])\n",
        "# plt.figure()\n",
        "# plt.hist(pop_samp_disc,alpha=0.5,density=True)\n",
        "# plt.hist(pop_samp_full, alpha=0.5, density=True)\n",
        "\n",
        "# plt.axvline(np.mean(pop_samp_disc),color='red',label='discounted')\n",
        "# plt.axvline(np.mean(data_disc),color='blue',label='originaldiscounted')\n",
        "# plt.legend()\n",
        "# plt.show()"
      ],
      "execution_count": 0,
      "outputs": []
    },
    {
      "metadata": {
        "id": "Oo7In-gvtezW",
        "colab_type": "text"
      },
      "cell_type": "markdown",
      "source": [
        "## Re-evaluation of strategy. Make the test fit the data, not vice versa. "
      ]
    },
    {
      "metadata": {
        "id": "ARClmsCLLoNf",
        "colab_type": "text"
      },
      "cell_type": "markdown",
      "source": [
        "### New Statistical Analysis Pipeline\n",
        "**Don't forget about the codeacademy slides, [the tukey test they recommend is not from scipy, its from statsmodels]**(https://drive.google.com/drive/u/0/folders/18OI7pC76d6IJ5xI0ZA8A__Da9WI2rNon)\n",
        "1. Separate data into groups\n",
        "2. test groups for normality \n",
        "    - [Normaltest/ D’Agostino and Pearson’s](https://docs.scipy.org/doc/scipy/reference/generated/scipy.stats.normaltest.html)\n",
        "\n",
        "3. test groups for homo of variance\n",
        "    - [Levene's Test](https://docs.scipy.org/doc/scipy-0.14.0/reference/generated/scipy.stats.levene.html)\n",
        "4. Try to normalize data if possible?\n",
        "    - \n",
        "5. Choose test based on output\n",
        "    - Normal: 2 sample t-test\n",
        "    - Welch's t-test (Jeff)\n",
        "    - Not normal =     - [Mann Whitney U Test](https://docs.scipy.org/doc/scipy/reference/generated/scipy.stats.mannwhitneyu.html)\n",
        "5B. Calculate other statistics for result, i.e effect size...?\n",
        "    - Effect size: [cohen's d](https://stackoverflow.com/questions/21532471/how-to-calculate-cohens-d-in-python)\n",
        "6. Run test, if significant follow up with post-hoc tests (IF have more than 2 groups)\n",
        "    - [Tukey's](https://www.statsmodels.org/stable/generated/statsmodels.stats.multicomp.pairwise_tukeyhsd.html)\n"
      ]
    },
    {
      "metadata": {
        "id": "dA459xbHLnoR",
        "colab_type": "code",
        "outputId": "f2914194-6d8c-4459-e82b-e9d8b8633666",
        "colab": {
          "base_uri": "https://localhost:8080/",
          "height": 355
        }
      },
      "cell_type": "code",
      "source": [
        "# 1 - Separating groups from dfH (dataframeHypothesis)\n",
        "dfH = df[['Quantity','UnitPrice','Discount']].copy()\n",
        "\n",
        "#Adding group definitions\n",
        "grpA = \"['Discount'] > 0\"\n",
        "grpB = \"['Discount'] == 0\"\n",
        "\n",
        "# Using eval to create df_A and df_B; will allow us to fill in our results \n",
        "# with the exact definitions of Group A and Group B\n",
        "df_A = eval(f'dfH.loc[dfH{grpA}]')\n",
        "df_B = eval(f'dfH.loc[dfH{grpB}]')\n",
        "\n",
        "# dfj_D = dfH.loc[dfj['Discount']>0] \n",
        "# dfj_F = dfH.loc[dfj['Discount']==0]\n",
        "df_A.describe(),'--'*25,df_B.describe()"
      ],
      "execution_count": 0,
      "outputs": [
        {
          "output_type": "execute_result",
          "data": {
            "text/plain": [
              "(         Quantity   UnitPrice    Discount\n",
              " count  838.000000  838.000000  838.000000\n",
              " mean    27.109785   26.292363    0.144439\n",
              " std     20.771439   30.017214    0.071808\n",
              " min      1.000000    2.000000    0.010000\n",
              " 25%     12.000000   12.500000    0.100000\n",
              " 50%     20.000000   18.000000    0.150000\n",
              " 75%     36.000000   31.230000    0.200000\n",
              " max    130.000000  263.500000    0.250000,\n",
              " '--------------------------------------------------',\n",
              "           Quantity    UnitPrice  Discount\n",
              " count  1317.000000  1317.000000    1317.0\n",
              " mean     21.715262    26.171534       0.0\n",
              " std      17.507493    29.717354       0.0\n",
              " min       1.000000     2.000000       0.0\n",
              " 25%      10.000000    12.000000       0.0\n",
              " 50%      18.000000    18.400000       0.0\n",
              " 75%      30.000000    32.800000       0.0\n",
              " max     130.000000   263.500000       0.0)"
            ]
          },
          "metadata": {
            "tags": []
          },
          "execution_count": 159
        }
      ]
    },
    {
      "metadata": {
        "id": "zDIYeMJMIum6",
        "colab_type": "code",
        "colab": {}
      },
      "cell_type": "code",
      "source": [
        "# Adding table to collect summary statistics\n",
        "H1_tests = [['Group:','TestName','Test Purpose','stat','p']  ]"
      ],
      "execution_count": 0,
      "outputs": []
    },
    {
      "metadata": {
        "id": "ZcwUoJKjNIZu",
        "colab_type": "code",
        "outputId": "5a0cb001-c347-4fe7-8e8b-e61a55de5745",
        "colab": {
          "base_uri": "https://localhost:8080/",
          "height": 52
        }
      },
      "cell_type": "code",
      "source": [
        "# H1_tests = [['Group:','TestName','Test Purpose','stat','p']  ]\n",
        "# 2. Testing normality\n",
        "\n",
        "test_purpose = 'Normality'\n",
        "test_to_run = 'normaltest'\n",
        "\n",
        "arrA = np.array(df_A['Quantity'])\n",
        "arrB = np.array(df_B['Quantity'])\n",
        "\n",
        "statA, pA = eval(test_to_run)(arrA)\n",
        "statB, pB = eval(test_to_run)(arrB)\n",
        "\n",
        "print(f'A:stat={statA}, p={pA}')\n",
        "print(f'B:stat={statB}, p={pB}')\n",
        "\n",
        "# H1_tests = [['Group:','TestName','Test Purpose','stat','p']  ]\n",
        "H1_tests.append(['A: '+grpA,test_to_run,test_purpose,statA,pA])\n",
        "H1_tests.append(['B: '+grpB,test_to_run,test_purpose,statB,pB])\n",
        "# list2df(H1_tests)"
      ],
      "execution_count": 0,
      "outputs": [
        {
          "output_type": "stream",
          "text": [
            "A:stat=261.528012299789, p=1.6214878452829618e-57\n",
            "B:stat=544.5770045551502, p=5.579637380545965e-119\n"
          ],
          "name": "stdout"
        }
      ]
    },
    {
      "metadata": {
        "id": "BeOQ35sjQ4wJ",
        "colab_type": "code",
        "outputId": "f8d6f300-2b84-4331-f7a7-736c5825d509",
        "colab": {
          "base_uri": "https://localhost:8080/",
          "height": 106
        }
      },
      "cell_type": "code",
      "source": [
        "list2df(H1_tests)"
      ],
      "execution_count": 0,
      "outputs": [
        {
          "output_type": "execute_result",
          "data": {
            "text/html": [
              "<div>\n",
              "<style scoped>\n",
              "    .dataframe tbody tr th:only-of-type {\n",
              "        vertical-align: middle;\n",
              "    }\n",
              "\n",
              "    .dataframe tbody tr th {\n",
              "        vertical-align: top;\n",
              "    }\n",
              "\n",
              "    .dataframe thead th {\n",
              "        text-align: right;\n",
              "    }\n",
              "</style>\n",
              "<table border=\"1\" class=\"dataframe\">\n",
              "  <thead>\n",
              "    <tr style=\"text-align: right;\">\n",
              "      <th></th>\n",
              "      <th>Group:</th>\n",
              "      <th>TestName</th>\n",
              "      <th>Test Purpose</th>\n",
              "      <th>stat</th>\n",
              "      <th>p</th>\n",
              "    </tr>\n",
              "  </thead>\n",
              "  <tbody>\n",
              "    <tr>\n",
              "      <th>0</th>\n",
              "      <td>A: ['Discount'] &gt; 0</td>\n",
              "      <td>normaltest</td>\n",
              "      <td>Normality</td>\n",
              "      <td>261.528012</td>\n",
              "      <td>1.621488e-57</td>\n",
              "    </tr>\n",
              "    <tr>\n",
              "      <th>1</th>\n",
              "      <td>B: ['Discount'] == 0</td>\n",
              "      <td>normaltest</td>\n",
              "      <td>Normality</td>\n",
              "      <td>544.577005</td>\n",
              "      <td>5.579637e-119</td>\n",
              "    </tr>\n",
              "  </tbody>\n",
              "</table>\n",
              "</div>"
            ],
            "text/plain": [
              "                 Group:    TestName Test Purpose        stat              p\n",
              "0   A: ['Discount'] > 0  normaltest    Normality  261.528012   1.621488e-57\n",
              "1  B: ['Discount'] == 0  normaltest    Normality  544.577005  5.579637e-119"
            ]
          },
          "metadata": {
            "tags": []
          },
          "execution_count": 162
        }
      ]
    },
    {
      "metadata": {
        "id": "Ows78wGWP7LH",
        "colab_type": "code",
        "colab": {}
      },
      "cell_type": "code",
      "source": [
        "# 3. Test for homo var\n",
        "test_to_run = 'stats.levene'\n",
        "stat,p = eval(test_to_run)(arrA,arrB,center='median')\n",
        "\n",
        "H1_tests.append(['A&B',test_to_run,'Equal Var',stat,p])"
      ],
      "execution_count": 0,
      "outputs": []
    },
    {
      "metadata": {
        "id": "0OVY01SMRD_l",
        "colab_type": "code",
        "outputId": "c588a640-3541-49b5-826e-ca29d96cecd8",
        "colab": {
          "base_uri": "https://localhost:8080/",
          "height": 135
        }
      },
      "cell_type": "code",
      "source": [
        "list2df(H1_tests)"
      ],
      "execution_count": 0,
      "outputs": [
        {
          "output_type": "execute_result",
          "data": {
            "text/html": [
              "<div>\n",
              "<style scoped>\n",
              "    .dataframe tbody tr th:only-of-type {\n",
              "        vertical-align: middle;\n",
              "    }\n",
              "\n",
              "    .dataframe tbody tr th {\n",
              "        vertical-align: top;\n",
              "    }\n",
              "\n",
              "    .dataframe thead th {\n",
              "        text-align: right;\n",
              "    }\n",
              "</style>\n",
              "<table border=\"1\" class=\"dataframe\">\n",
              "  <thead>\n",
              "    <tr style=\"text-align: right;\">\n",
              "      <th></th>\n",
              "      <th>Group:</th>\n",
              "      <th>TestName</th>\n",
              "      <th>Test Purpose</th>\n",
              "      <th>stat</th>\n",
              "      <th>p</th>\n",
              "    </tr>\n",
              "  </thead>\n",
              "  <tbody>\n",
              "    <tr>\n",
              "      <th>0</th>\n",
              "      <td>A: ['Discount'] &gt; 0</td>\n",
              "      <td>normaltest</td>\n",
              "      <td>Normality</td>\n",
              "      <td>261.528012</td>\n",
              "      <td>1.621488e-57</td>\n",
              "    </tr>\n",
              "    <tr>\n",
              "      <th>1</th>\n",
              "      <td>B: ['Discount'] == 0</td>\n",
              "      <td>normaltest</td>\n",
              "      <td>Normality</td>\n",
              "      <td>544.577005</td>\n",
              "      <td>5.579637e-119</td>\n",
              "    </tr>\n",
              "    <tr>\n",
              "      <th>2</th>\n",
              "      <td>A&amp;B</td>\n",
              "      <td>stats.levene</td>\n",
              "      <td>Equal Var</td>\n",
              "      <td>14.832672</td>\n",
              "      <td>1.209138e-04</td>\n",
              "    </tr>\n",
              "  </tbody>\n",
              "</table>\n",
              "</div>"
            ],
            "text/plain": [
              "                 Group:      TestName Test Purpose        stat              p\n",
              "0   A: ['Discount'] > 0    normaltest    Normality  261.528012   1.621488e-57\n",
              "1  B: ['Discount'] == 0    normaltest    Normality  544.577005  5.579637e-119\n",
              "2                   A&B  stats.levene    Equal Var   14.832672   1.209138e-04"
            ]
          },
          "metadata": {
            "tags": []
          },
          "execution_count": 164
        }
      ]
    },
    {
      "metadata": {
        "id": "Zq38mtURQaoN",
        "colab_type": "text"
      },
      "cell_type": "markdown",
      "source": [
        "### Conclusions so far...\n",
        "- We failed both normaltests and homo variance\n",
        "- Need non-parametric 2sample ttest\n",
        "    - [**Mann-Whitney U test**](https://docs.scipy.org/doc/scipy/reference/generated/scipy.stats.mannwhitneyu.html)"
      ]
    },
    {
      "metadata": {
        "id": "z0cdkzP5S9SX",
        "colab_type": "code",
        "colab": {}
      },
      "cell_type": "code",
      "source": [
        "# Mann Whitney U test+\n",
        "import scipy.stats as stats\n",
        "# arrA was discounted, arrB was non-discounted\n",
        "test_to_run = 'stats.mannwhitneyu'\n",
        "stat, p = eval(test_to_run)(arrA,arrB,alternative='greater')\n",
        "stat, p\n",
        "H1_tests.append(['A vs. B',test_to_run, 'H1_sig', stat,p])"
      ],
      "execution_count": 0,
      "outputs": []
    },
    {
      "metadata": {
        "id": "v1CpLOgKTVMw",
        "colab_type": "code",
        "outputId": "cf954dce-9178-42ed-ee1a-5544f9484a9e",
        "colab": {
          "base_uri": "https://localhost:8080/",
          "height": 164
        }
      },
      "cell_type": "code",
      "source": [
        "list2df(H1_tests)"
      ],
      "execution_count": 0,
      "outputs": [
        {
          "output_type": "execute_result",
          "data": {
            "text/html": [
              "<div>\n",
              "<style scoped>\n",
              "    .dataframe tbody tr th:only-of-type {\n",
              "        vertical-align: middle;\n",
              "    }\n",
              "\n",
              "    .dataframe tbody tr th {\n",
              "        vertical-align: top;\n",
              "    }\n",
              "\n",
              "    .dataframe thead th {\n",
              "        text-align: right;\n",
              "    }\n",
              "</style>\n",
              "<table border=\"1\" class=\"dataframe\">\n",
              "  <thead>\n",
              "    <tr style=\"text-align: right;\">\n",
              "      <th></th>\n",
              "      <th>Group:</th>\n",
              "      <th>TestName</th>\n",
              "      <th>Test Purpose</th>\n",
              "      <th>stat</th>\n",
              "      <th>p</th>\n",
              "    </tr>\n",
              "  </thead>\n",
              "  <tbody>\n",
              "    <tr>\n",
              "      <th>0</th>\n",
              "      <td>A: ['Discount'] &gt; 0</td>\n",
              "      <td>normaltest</td>\n",
              "      <td>Normality</td>\n",
              "      <td>261.528012</td>\n",
              "      <td>1.621488e-57</td>\n",
              "    </tr>\n",
              "    <tr>\n",
              "      <th>1</th>\n",
              "      <td>B: ['Discount'] == 0</td>\n",
              "      <td>normaltest</td>\n",
              "      <td>Normality</td>\n",
              "      <td>544.577005</td>\n",
              "      <td>5.579637e-119</td>\n",
              "    </tr>\n",
              "    <tr>\n",
              "      <th>2</th>\n",
              "      <td>A&amp;B</td>\n",
              "      <td>stats.levene</td>\n",
              "      <td>Equal Var</td>\n",
              "      <td>14.832672</td>\n",
              "      <td>1.209138e-04</td>\n",
              "    </tr>\n",
              "    <tr>\n",
              "      <th>3</th>\n",
              "      <td>A vs. B</td>\n",
              "      <td>stats.mannwhitneyu</td>\n",
              "      <td>H1_sig</td>\n",
              "      <td>642105.000000</td>\n",
              "      <td>6.629382e-11</td>\n",
              "    </tr>\n",
              "  </tbody>\n",
              "</table>\n",
              "</div>"
            ],
            "text/plain": [
              "                 Group:            TestName Test Purpose           stat  \\\n",
              "0   A: ['Discount'] > 0          normaltest    Normality     261.528012   \n",
              "1  B: ['Discount'] == 0          normaltest    Normality     544.577005   \n",
              "2                   A&B        stats.levene    Equal Var      14.832672   \n",
              "3               A vs. B  stats.mannwhitneyu       H1_sig  642105.000000   \n",
              "\n",
              "               p  \n",
              "0   1.621488e-57  \n",
              "1  5.579637e-119  \n",
              "2   1.209138e-04  \n",
              "3   6.629382e-11  "
            ]
          },
          "metadata": {
            "tags": []
          },
          "execution_count": 166
        }
      ]
    },
    {
      "metadata": {
        "id": "wHEx112CTia4",
        "colab_type": "text"
      },
      "cell_type": "markdown",
      "source": [
        "**We have a significant Mann Whitney U results, but we have yet to say anything about **\n",
        "\n",
        "- We should now run post-hoc tests using pairwise Tukey's tests \n",
        "- Maybe best to run them so that the full price group is run vs the levels of discount pairwise (But not to test pairwise within the levels of discounts)"
      ]
    },
    {
      "metadata": {
        "id": "SUw1pUtfYNy7",
        "colab_type": "text"
      },
      "cell_type": "markdown",
      "source": [
        ""
      ]
    },
    {
      "metadata": {
        "id": "NmGwt-GyUDFF",
        "colab_type": "code",
        "outputId": "1c40461b-9125-4b7b-8dfa-6b9ccadc5fe9",
        "colab": {
          "base_uri": "https://localhost:8080/",
          "height": 370
        }
      },
      "cell_type": "code",
      "source": [
        "pd.DataFrame(df['Discount'].value_counts().sort_index())"
      ],
      "execution_count": 0,
      "outputs": [
        {
          "output_type": "execute_result",
          "data": {
            "text/html": [
              "<div>\n",
              "<style scoped>\n",
              "    .dataframe tbody tr th:only-of-type {\n",
              "        vertical-align: middle;\n",
              "    }\n",
              "\n",
              "    .dataframe tbody tr th {\n",
              "        vertical-align: top;\n",
              "    }\n",
              "\n",
              "    .dataframe thead th {\n",
              "        text-align: right;\n",
              "    }\n",
              "</style>\n",
              "<table border=\"1\" class=\"dataframe\">\n",
              "  <thead>\n",
              "    <tr style=\"text-align: right;\">\n",
              "      <th></th>\n",
              "      <th>Discount</th>\n",
              "    </tr>\n",
              "  </thead>\n",
              "  <tbody>\n",
              "    <tr>\n",
              "      <th>0.00</th>\n",
              "      <td>1317</td>\n",
              "    </tr>\n",
              "    <tr>\n",
              "      <th>0.01</th>\n",
              "      <td>1</td>\n",
              "    </tr>\n",
              "    <tr>\n",
              "      <th>0.02</th>\n",
              "      <td>2</td>\n",
              "    </tr>\n",
              "    <tr>\n",
              "      <th>0.03</th>\n",
              "      <td>3</td>\n",
              "    </tr>\n",
              "    <tr>\n",
              "      <th>0.04</th>\n",
              "      <td>1</td>\n",
              "    </tr>\n",
              "    <tr>\n",
              "      <th>0.05</th>\n",
              "      <td>185</td>\n",
              "    </tr>\n",
              "    <tr>\n",
              "      <th>0.06</th>\n",
              "      <td>1</td>\n",
              "    </tr>\n",
              "    <tr>\n",
              "      <th>0.10</th>\n",
              "      <td>173</td>\n",
              "    </tr>\n",
              "    <tr>\n",
              "      <th>0.15</th>\n",
              "      <td>157</td>\n",
              "    </tr>\n",
              "    <tr>\n",
              "      <th>0.20</th>\n",
              "      <td>161</td>\n",
              "    </tr>\n",
              "    <tr>\n",
              "      <th>0.25</th>\n",
              "      <td>154</td>\n",
              "    </tr>\n",
              "  </tbody>\n",
              "</table>\n",
              "</div>"
            ],
            "text/plain": [
              "      Discount\n",
              "0.00      1317\n",
              "0.01         1\n",
              "0.02         2\n",
              "0.03         3\n",
              "0.04         1\n",
              "0.05       185\n",
              "0.06         1\n",
              "0.10       173\n",
              "0.15       157\n",
              "0.20       161\n",
              "0.25       154"
            ]
          },
          "metadata": {
            "tags": []
          },
          "execution_count": 167
        }
      ]
    },
    {
      "metadata": {
        "id": "0Vr2q4dFYdEe",
        "colab_type": "code",
        "outputId": "af57a382-62b3-419f-e443-1eef79c49f4f",
        "colab": {
          "base_uri": "https://localhost:8080/",
          "height": 212
        }
      },
      "cell_type": "code",
      "source": [
        "df.info()"
      ],
      "execution_count": 0,
      "outputs": [
        {
          "output_type": "stream",
          "text": [
            "<class 'pandas.core.frame.DataFrame'>\n",
            "RangeIndex: 2155 entries, 0 to 2154\n",
            "Data columns (total 6 columns):\n",
            "Id           2155 non-null object\n",
            "OrderId      2155 non-null int64\n",
            "ProductId    2155 non-null int64\n",
            "UnitPrice    2155 non-null float64\n",
            "Quantity     2155 non-null int64\n",
            "Discount     2155 non-null float64\n",
            "dtypes: float64(2), int64(3), object(1)\n",
            "memory usage: 101.1+ KB\n"
          ],
          "name": "stdout"
        }
      ]
    },
    {
      "metadata": {
        "id": "sNKUUYlR7WDu",
        "colab_type": "text"
      },
      "cell_type": "markdown",
      "source": [
        "### Creating Discount Level Variables for Tukey\n",
        "- Adding LabelEncoding\n",
        "- Question: do we want to have \"None\" encoded? Not sure. Would need to replace the current np.NaN with \"NaN\" first or likely will return error"
      ]
    },
    {
      "metadata": {
        "id": "JhO4Axcamkll",
        "colab_type": "code",
        "colab": {}
      },
      "cell_type": "code",
      "source": [
        "# test_ints = pd.interval_range(-0.05,0.3,periods=0.05)#,closed='both')\n",
        "# test_ints\n",
        "# # int_bins = pd.IntervalIndex([-0.05,0.0,0.05,0.10,0.15,0.20,0.25,0.3])\n",
        "# # pd.Interval(bins)"
      ],
      "execution_count": 0,
      "outputs": []
    },
    {
      "metadata": {
        "id": "C-DVFhJMk_yb",
        "colab_type": "code",
        "outputId": "868103f9-7545-470e-a38d-5eebf88235fe",
        "colab": {
          "base_uri": "https://localhost:8080/",
          "height": 124
        }
      },
      "cell_type": "code",
      "source": [
        "# intervalIndex = pd.IntervalIndex(())\n",
        "df_cut = df.copy().drop('Discount',axis=1)\n",
        "\n",
        "\n",
        "new_discounts = pd.cut(df['Discount'],[-0.05,0.0,0.05,0.10,0.15,0.20,0.25,0.3], include_lowest=False)\n",
        "new_discouts = new_discounts.cat.as_ordered(inplace=True)\n",
        "df_disc_codes  = new_discounts.cat.codes\n",
        "\n",
        "# Save code info for later\n",
        "disc_intervals = new_discounts.unique().sort_values()\n",
        "disc_codes = sorted(df_disc_codes.unique())\n",
        "\n",
        "# Save the intervals \n",
        "labelCodes = tuple(zip(disc_intervals,disc_codes))\n",
        "labelCodes"
      ],
      "execution_count": 0,
      "outputs": [
        {
          "output_type": "execute_result",
          "data": {
            "text/plain": [
              "((Interval(-0.05, 0.0, closed='right'), 0),\n",
              " (Interval(0.0, 0.05, closed='right'), 1),\n",
              " (Interval(0.05, 0.1, closed='right'), 2),\n",
              " (Interval(0.1, 0.15, closed='right'), 3),\n",
              " (Interval(0.15, 0.2, closed='right'), 4),\n",
              " (Interval(0.2, 0.25, closed='right'), 5))"
            ]
          },
          "metadata": {
            "tags": []
          },
          "execution_count": 170
        }
      ]
    },
    {
      "metadata": {
        "id": "OtMWYl-sp2qJ",
        "colab_type": "code",
        "outputId": "31750426-4aad-4e24-d692-90299ae75db0",
        "colab": {
          "base_uri": "https://localhost:8080/",
          "height": 340
        }
      },
      "cell_type": "code",
      "source": [
        "# Before encoding\n",
        "df_H1codes = pd.concat([df_cut,new_discounts,df_disc_codes],axis=1)\n",
        "df_H1codes.head(10)"
      ],
      "execution_count": 0,
      "outputs": [
        {
          "output_type": "execute_result",
          "data": {
            "text/html": [
              "<div>\n",
              "<style scoped>\n",
              "    .dataframe tbody tr th:only-of-type {\n",
              "        vertical-align: middle;\n",
              "    }\n",
              "\n",
              "    .dataframe tbody tr th {\n",
              "        vertical-align: top;\n",
              "    }\n",
              "\n",
              "    .dataframe thead th {\n",
              "        text-align: right;\n",
              "    }\n",
              "</style>\n",
              "<table border=\"1\" class=\"dataframe\">\n",
              "  <thead>\n",
              "    <tr style=\"text-align: right;\">\n",
              "      <th></th>\n",
              "      <th>Id</th>\n",
              "      <th>OrderId</th>\n",
              "      <th>ProductId</th>\n",
              "      <th>UnitPrice</th>\n",
              "      <th>Quantity</th>\n",
              "      <th>Discount</th>\n",
              "      <th>0</th>\n",
              "    </tr>\n",
              "  </thead>\n",
              "  <tbody>\n",
              "    <tr>\n",
              "      <th>0</th>\n",
              "      <td>10248/11</td>\n",
              "      <td>10248</td>\n",
              "      <td>11</td>\n",
              "      <td>14.0</td>\n",
              "      <td>12</td>\n",
              "      <td>(-0.05, 0.0]</td>\n",
              "      <td>0</td>\n",
              "    </tr>\n",
              "    <tr>\n",
              "      <th>1</th>\n",
              "      <td>10248/42</td>\n",
              "      <td>10248</td>\n",
              "      <td>42</td>\n",
              "      <td>9.8</td>\n",
              "      <td>10</td>\n",
              "      <td>(-0.05, 0.0]</td>\n",
              "      <td>0</td>\n",
              "    </tr>\n",
              "    <tr>\n",
              "      <th>2</th>\n",
              "      <td>10248/72</td>\n",
              "      <td>10248</td>\n",
              "      <td>72</td>\n",
              "      <td>34.8</td>\n",
              "      <td>5</td>\n",
              "      <td>(-0.05, 0.0]</td>\n",
              "      <td>0</td>\n",
              "    </tr>\n",
              "    <tr>\n",
              "      <th>3</th>\n",
              "      <td>10249/14</td>\n",
              "      <td>10249</td>\n",
              "      <td>14</td>\n",
              "      <td>18.6</td>\n",
              "      <td>9</td>\n",
              "      <td>(-0.05, 0.0]</td>\n",
              "      <td>0</td>\n",
              "    </tr>\n",
              "    <tr>\n",
              "      <th>4</th>\n",
              "      <td>10249/51</td>\n",
              "      <td>10249</td>\n",
              "      <td>51</td>\n",
              "      <td>42.4</td>\n",
              "      <td>40</td>\n",
              "      <td>(-0.05, 0.0]</td>\n",
              "      <td>0</td>\n",
              "    </tr>\n",
              "    <tr>\n",
              "      <th>5</th>\n",
              "      <td>10250/41</td>\n",
              "      <td>10250</td>\n",
              "      <td>41</td>\n",
              "      <td>7.7</td>\n",
              "      <td>10</td>\n",
              "      <td>(-0.05, 0.0]</td>\n",
              "      <td>0</td>\n",
              "    </tr>\n",
              "    <tr>\n",
              "      <th>6</th>\n",
              "      <td>10250/51</td>\n",
              "      <td>10250</td>\n",
              "      <td>51</td>\n",
              "      <td>42.4</td>\n",
              "      <td>35</td>\n",
              "      <td>(0.1, 0.15]</td>\n",
              "      <td>3</td>\n",
              "    </tr>\n",
              "    <tr>\n",
              "      <th>7</th>\n",
              "      <td>10250/65</td>\n",
              "      <td>10250</td>\n",
              "      <td>65</td>\n",
              "      <td>16.8</td>\n",
              "      <td>15</td>\n",
              "      <td>(0.1, 0.15]</td>\n",
              "      <td>3</td>\n",
              "    </tr>\n",
              "    <tr>\n",
              "      <th>8</th>\n",
              "      <td>10251/22</td>\n",
              "      <td>10251</td>\n",
              "      <td>22</td>\n",
              "      <td>16.8</td>\n",
              "      <td>6</td>\n",
              "      <td>(0.0, 0.05]</td>\n",
              "      <td>1</td>\n",
              "    </tr>\n",
              "    <tr>\n",
              "      <th>9</th>\n",
              "      <td>10251/57</td>\n",
              "      <td>10251</td>\n",
              "      <td>57</td>\n",
              "      <td>15.6</td>\n",
              "      <td>15</td>\n",
              "      <td>(0.0, 0.05]</td>\n",
              "      <td>1</td>\n",
              "    </tr>\n",
              "  </tbody>\n",
              "</table>\n",
              "</div>"
            ],
            "text/plain": [
              "         Id  OrderId  ProductId  UnitPrice  Quantity      Discount  0\n",
              "0  10248/11    10248         11       14.0        12  (-0.05, 0.0]  0\n",
              "1  10248/42    10248         42        9.8        10  (-0.05, 0.0]  0\n",
              "2  10248/72    10248         72       34.8         5  (-0.05, 0.0]  0\n",
              "3  10249/14    10249         14       18.6         9  (-0.05, 0.0]  0\n",
              "4  10249/51    10249         51       42.4        40  (-0.05, 0.0]  0\n",
              "5  10250/41    10250         41        7.7        10  (-0.05, 0.0]  0\n",
              "6  10250/51    10250         51       42.4        35   (0.1, 0.15]  3\n",
              "7  10250/65    10250         65       16.8        15   (0.1, 0.15]  3\n",
              "8  10251/22    10251         22       16.8         6   (0.0, 0.05]  1\n",
              "9  10251/57    10251         57       15.6        15   (0.0, 0.05]  1"
            ]
          },
          "metadata": {
            "tags": []
          },
          "execution_count": 171
        }
      ]
    },
    {
      "metadata": {
        "id": "Pmqq4jpGU62Y",
        "colab_type": "code",
        "colab": {}
      },
      "cell_type": "code",
      "source": [
        "# df_H1codes.info()"
      ],
      "execution_count": 0,
      "outputs": []
    },
    {
      "metadata": {
        "id": "NIDghtaWjKKB",
        "colab_type": "code",
        "outputId": "cc6833fd-840d-4435-94ea-e2afd30b15ae",
        "colab": {
          "base_uri": "https://localhost:8080/",
          "height": 194
        }
      },
      "cell_type": "code",
      "source": [
        "colnames = list(df_H1codes.columns)\n",
        "colnames[-1] = 'DiscSize'\n",
        "df_H1codes.columns = colnames\n",
        "df_H1codes.head()\n"
      ],
      "execution_count": 0,
      "outputs": [
        {
          "output_type": "execute_result",
          "data": {
            "text/html": [
              "<div>\n",
              "<style scoped>\n",
              "    .dataframe tbody tr th:only-of-type {\n",
              "        vertical-align: middle;\n",
              "    }\n",
              "\n",
              "    .dataframe tbody tr th {\n",
              "        vertical-align: top;\n",
              "    }\n",
              "\n",
              "    .dataframe thead th {\n",
              "        text-align: right;\n",
              "    }\n",
              "</style>\n",
              "<table border=\"1\" class=\"dataframe\">\n",
              "  <thead>\n",
              "    <tr style=\"text-align: right;\">\n",
              "      <th></th>\n",
              "      <th>Id</th>\n",
              "      <th>OrderId</th>\n",
              "      <th>ProductId</th>\n",
              "      <th>UnitPrice</th>\n",
              "      <th>Quantity</th>\n",
              "      <th>Discount</th>\n",
              "      <th>DiscSize</th>\n",
              "    </tr>\n",
              "  </thead>\n",
              "  <tbody>\n",
              "    <tr>\n",
              "      <th>0</th>\n",
              "      <td>10248/11</td>\n",
              "      <td>10248</td>\n",
              "      <td>11</td>\n",
              "      <td>14.0</td>\n",
              "      <td>12</td>\n",
              "      <td>(-0.05, 0.0]</td>\n",
              "      <td>0</td>\n",
              "    </tr>\n",
              "    <tr>\n",
              "      <th>1</th>\n",
              "      <td>10248/42</td>\n",
              "      <td>10248</td>\n",
              "      <td>42</td>\n",
              "      <td>9.8</td>\n",
              "      <td>10</td>\n",
              "      <td>(-0.05, 0.0]</td>\n",
              "      <td>0</td>\n",
              "    </tr>\n",
              "    <tr>\n",
              "      <th>2</th>\n",
              "      <td>10248/72</td>\n",
              "      <td>10248</td>\n",
              "      <td>72</td>\n",
              "      <td>34.8</td>\n",
              "      <td>5</td>\n",
              "      <td>(-0.05, 0.0]</td>\n",
              "      <td>0</td>\n",
              "    </tr>\n",
              "    <tr>\n",
              "      <th>3</th>\n",
              "      <td>10249/14</td>\n",
              "      <td>10249</td>\n",
              "      <td>14</td>\n",
              "      <td>18.6</td>\n",
              "      <td>9</td>\n",
              "      <td>(-0.05, 0.0]</td>\n",
              "      <td>0</td>\n",
              "    </tr>\n",
              "    <tr>\n",
              "      <th>4</th>\n",
              "      <td>10249/51</td>\n",
              "      <td>10249</td>\n",
              "      <td>51</td>\n",
              "      <td>42.4</td>\n",
              "      <td>40</td>\n",
              "      <td>(-0.05, 0.0]</td>\n",
              "      <td>0</td>\n",
              "    </tr>\n",
              "  </tbody>\n",
              "</table>\n",
              "</div>"
            ],
            "text/plain": [
              "         Id  OrderId  ProductId  UnitPrice  Quantity      Discount  DiscSize\n",
              "0  10248/11    10248         11       14.0        12  (-0.05, 0.0]         0\n",
              "1  10248/42    10248         42        9.8        10  (-0.05, 0.0]         0\n",
              "2  10248/72    10248         72       34.8         5  (-0.05, 0.0]         0\n",
              "3  10249/14    10249         14       18.6         9  (-0.05, 0.0]         0\n",
              "4  10249/51    10249         51       42.4        40  (-0.05, 0.0]         0"
            ]
          },
          "metadata": {
            "tags": []
          },
          "execution_count": 173
        }
      ]
    },
    {
      "metadata": {
        "id": "Pq0W7aFQdt1O",
        "colab_type": "text"
      },
      "cell_type": "markdown",
      "source": [
        "### Use Tukey's Pairwise Multiple Comparison test.\n",
        "```statsmodels.stats.multicomp.pairwise_tukeyhsd```"
      ]
    },
    {
      "metadata": {
        "id": "NSrS7lQajjJy",
        "colab_type": "code",
        "outputId": "66984c8c-89a0-4d74-c611-a79a58cd21a1",
        "colab": {
          "base_uri": "https://localhost:8080/",
          "height": 372
        }
      },
      "cell_type": "code",
      "source": [
        "# Importing tukey's test\n",
        "from statsmodels.stats.multicomp import pairwise_tukeyhsd as tukey\n",
        "int_str = [str(x) for x in new_discounts]\n",
        "\n",
        "tukey_results =tukey(df_H1codes['Quantity'], int_str, 0.05)\n",
        "# tukey_results =tukey(df_H1codes['Quantity'],df_H1codes['DiscSize'],0.05)\n",
        "print(tukey_results.summary())"
      ],
      "execution_count": 0,
      "outputs": [
        {
          "output_type": "stream",
          "text": [
            "   Multiple Comparison of Means - Tukey HSD,FWER=0.05   \n",
            "========================================================\n",
            "   group1       group2   meandiff  lower   upper  reject\n",
            "--------------------------------------------------------\n",
            "(-0.05, 0.0] (0.0, 0.05]  5.3368   1.1841  9.4895  True \n",
            "(-0.05, 0.0] (0.05, 0.1]  3.3882  -0.9479  7.7243 False \n",
            "(-0.05, 0.0] (0.1, 0.15]  6.6669   2.1282 11.2056  True \n",
            "(-0.05, 0.0] (0.15, 0.2]  5.3096   0.8215  9.7977  True \n",
            "(-0.05, 0.0] (0.2, 0.25]  6.525    1.9469 11.1031  True \n",
            "(0.0, 0.05]  (0.05, 0.1] -1.9486  -7.5752  3.6779 False \n",
            "(0.0, 0.05]  (0.1, 0.15]  1.3301  -4.4541  7.1143 False \n",
            "(0.0, 0.05]  (0.15, 0.2] -0.0272  -5.7718  5.7173 False \n",
            "(0.0, 0.05]  (0.2, 0.25]  1.1882  -4.6269  7.0033 False \n",
            "(0.05, 0.1]  (0.1, 0.15]  3.2787  -2.6385  9.196  False \n",
            "(0.05, 0.1]  (0.15, 0.2]  1.9214  -3.9571  7.7999 False \n",
            "(0.05, 0.1]  (0.2, 0.25]  3.1368  -2.8106  9.0843 False \n",
            "(0.1, 0.15]  (0.15, 0.2] -1.3573  -7.3868  4.6722 False \n",
            "(0.1, 0.15]  (0.2, 0.25] -0.1419  -6.2387  5.9549 False \n",
            "(0.15, 0.2]  (0.2, 0.25]  1.2154  -4.8437  7.2746 False \n",
            "--------------------------------------------------------\n"
          ],
          "name": "stdout"
        }
      ]
    },
    {
      "metadata": {
        "id": "j6-3co5F1NWz",
        "colab_type": "code",
        "outputId": "007bca24-784c-4bc5-eabe-f87a2bd5fe90",
        "colab": {
          "base_uri": "https://localhost:8080/",
          "height": 164
        }
      },
      "cell_type": "code",
      "source": [
        "# Save the results into a dataframe\n",
        "# print(tukey_results)\n",
        "\n",
        "dfH_tukey = pd.DataFrame(data=tukey_results._results_table.data[1:], columns=tukey_results._results_table.data[0])\n",
        "dfH_tukey.loc[dfH_tukey['reject']==True]"
      ],
      "execution_count": 0,
      "outputs": [
        {
          "output_type": "execute_result",
          "data": {
            "text/html": [
              "<div>\n",
              "<style scoped>\n",
              "    .dataframe tbody tr th:only-of-type {\n",
              "        vertical-align: middle;\n",
              "    }\n",
              "\n",
              "    .dataframe tbody tr th {\n",
              "        vertical-align: top;\n",
              "    }\n",
              "\n",
              "    .dataframe thead th {\n",
              "        text-align: right;\n",
              "    }\n",
              "</style>\n",
              "<table border=\"1\" class=\"dataframe\">\n",
              "  <thead>\n",
              "    <tr style=\"text-align: right;\">\n",
              "      <th></th>\n",
              "      <th>group1</th>\n",
              "      <th>group2</th>\n",
              "      <th>meandiff</th>\n",
              "      <th>lower</th>\n",
              "      <th>upper</th>\n",
              "      <th>reject</th>\n",
              "    </tr>\n",
              "  </thead>\n",
              "  <tbody>\n",
              "    <tr>\n",
              "      <th>0</th>\n",
              "      <td>(-0.05, 0.0]</td>\n",
              "      <td>(0.0, 0.05]</td>\n",
              "      <td>5.3368</td>\n",
              "      <td>1.1841</td>\n",
              "      <td>9.4895</td>\n",
              "      <td>True</td>\n",
              "    </tr>\n",
              "    <tr>\n",
              "      <th>2</th>\n",
              "      <td>(-0.05, 0.0]</td>\n",
              "      <td>(0.1, 0.15]</td>\n",
              "      <td>6.6669</td>\n",
              "      <td>2.1282</td>\n",
              "      <td>11.2056</td>\n",
              "      <td>True</td>\n",
              "    </tr>\n",
              "    <tr>\n",
              "      <th>3</th>\n",
              "      <td>(-0.05, 0.0]</td>\n",
              "      <td>(0.15, 0.2]</td>\n",
              "      <td>5.3096</td>\n",
              "      <td>0.8215</td>\n",
              "      <td>9.7977</td>\n",
              "      <td>True</td>\n",
              "    </tr>\n",
              "    <tr>\n",
              "      <th>4</th>\n",
              "      <td>(-0.05, 0.0]</td>\n",
              "      <td>(0.2, 0.25]</td>\n",
              "      <td>6.5250</td>\n",
              "      <td>1.9469</td>\n",
              "      <td>11.1031</td>\n",
              "      <td>True</td>\n",
              "    </tr>\n",
              "  </tbody>\n",
              "</table>\n",
              "</div>"
            ],
            "text/plain": [
              "         group1       group2  meandiff   lower    upper  reject\n",
              "0  (-0.05, 0.0]  (0.0, 0.05]    5.3368  1.1841   9.4895    True\n",
              "2  (-0.05, 0.0]  (0.1, 0.15]    6.6669  2.1282  11.2056    True\n",
              "3  (-0.05, 0.0]  (0.15, 0.2]    5.3096  0.8215   9.7977    True\n",
              "4  (-0.05, 0.0]  (0.2, 0.25]    6.5250  1.9469  11.1031    True"
            ]
          },
          "metadata": {
            "tags": []
          },
          "execution_count": 175
        }
      ]
    },
    {
      "metadata": {
        "id": "3JKcx3pw5_LK",
        "colab_type": "text"
      },
      "cell_type": "markdown",
      "source": [
        "## Final Conclusions for Hypothesis 1:\n",
        "1. **We first used D'Agostino & Perason's test (normaltest) to check for normal distributions**\n",
        "    -  Both groups had p-values very far below our $\\alpha=0.05$  (Rows 0,1 below)\n",
        "        - We rejecteded the null hypothesis that the groups came from a populatiin with a normal distribtuion. \n",
        "2. **We tested for equal variances using Levene's test. **\n",
        "    - Level's test had a signifcant p-value, so we rejected the hypothesis that the groups have equal variances\n",
        "    \n",
        "3. **We then concluded we need a non-parametric 2-sample test, so we used the Mann-Whitney U test**. \n",
        "    -  Our comparison had a p-value less than .05\n",
        "    - We reject the null hypothesis that discounts do not affect quantities sold.\n",
        "\n"
      ]
    },
    {
      "metadata": {
        "id": "qydzhcXa4dz3",
        "colab_type": "code",
        "outputId": "52b235f2-7943-49b0-ae23-073fdd9aeb89",
        "colab": {
          "base_uri": "https://localhost:8080/",
          "height": 164
        }
      },
      "cell_type": "code",
      "source": [
        "H1_tests_table = list2df(H1_tests)\n",
        "H1_tests_table\n"
      ],
      "execution_count": 0,
      "outputs": [
        {
          "output_type": "execute_result",
          "data": {
            "text/html": [
              "<div>\n",
              "<style scoped>\n",
              "    .dataframe tbody tr th:only-of-type {\n",
              "        vertical-align: middle;\n",
              "    }\n",
              "\n",
              "    .dataframe tbody tr th {\n",
              "        vertical-align: top;\n",
              "    }\n",
              "\n",
              "    .dataframe thead th {\n",
              "        text-align: right;\n",
              "    }\n",
              "</style>\n",
              "<table border=\"1\" class=\"dataframe\">\n",
              "  <thead>\n",
              "    <tr style=\"text-align: right;\">\n",
              "      <th></th>\n",
              "      <th>Group:</th>\n",
              "      <th>TestName</th>\n",
              "      <th>Test Purpose</th>\n",
              "      <th>stat</th>\n",
              "      <th>p</th>\n",
              "    </tr>\n",
              "  </thead>\n",
              "  <tbody>\n",
              "    <tr>\n",
              "      <th>0</th>\n",
              "      <td>A: ['Discount'] &gt; 0</td>\n",
              "      <td>normaltest</td>\n",
              "      <td>Normality</td>\n",
              "      <td>261.528012</td>\n",
              "      <td>1.621488e-57</td>\n",
              "    </tr>\n",
              "    <tr>\n",
              "      <th>1</th>\n",
              "      <td>B: ['Discount'] == 0</td>\n",
              "      <td>normaltest</td>\n",
              "      <td>Normality</td>\n",
              "      <td>544.577005</td>\n",
              "      <td>5.579637e-119</td>\n",
              "    </tr>\n",
              "    <tr>\n",
              "      <th>2</th>\n",
              "      <td>A&amp;B</td>\n",
              "      <td>stats.levene</td>\n",
              "      <td>Equal Var</td>\n",
              "      <td>14.832672</td>\n",
              "      <td>1.209138e-04</td>\n",
              "    </tr>\n",
              "    <tr>\n",
              "      <th>3</th>\n",
              "      <td>A vs. B</td>\n",
              "      <td>stats.mannwhitneyu</td>\n",
              "      <td>H1_sig</td>\n",
              "      <td>642105.000000</td>\n",
              "      <td>6.629382e-11</td>\n",
              "    </tr>\n",
              "  </tbody>\n",
              "</table>\n",
              "</div>"
            ],
            "text/plain": [
              "                 Group:            TestName Test Purpose           stat  \\\n",
              "0   A: ['Discount'] > 0          normaltest    Normality     261.528012   \n",
              "1  B: ['Discount'] == 0          normaltest    Normality     544.577005   \n",
              "2                   A&B        stats.levene    Equal Var      14.832672   \n",
              "3               A vs. B  stats.mannwhitneyu       H1_sig  642105.000000   \n",
              "\n",
              "               p  \n",
              "0   1.621488e-57  \n",
              "1  5.579637e-119  \n",
              "2   1.209138e-04  \n",
              "3   6.629382e-11  "
            ]
          },
          "metadata": {
            "tags": []
          },
          "execution_count": 176
        }
      ]
    },
    {
      "metadata": {
        "id": "Qcn4RlASByQm",
        "colab_type": "text"
      },
      "cell_type": "markdown",
      "source": [
        "4. **To determine which level of discounts had the largest effect, we performed a pairwise multiple comparison Tukey's test**. \n",
        "    - Our results showed that \n",
        "    "
      ]
    },
    {
      "metadata": {
        "id": "COM1Cjeh7BBw",
        "colab_type": "code",
        "colab": {}
      },
      "cell_type": "code",
      "source": [
        "# dfH_tukey.to_html()\n",
        "# help(tukey_results)"
      ],
      "execution_count": 0,
      "outputs": []
    },
    {
      "metadata": {
        "id": "Xlhygsxa9mML",
        "colab_type": "code",
        "outputId": "c97ae9bb-a242-4e59-99a8-1c37cc1ecf20",
        "colab": {
          "base_uri": "https://localhost:8080/",
          "height": 194
        }
      },
      "cell_type": "code",
      "source": [
        "# Print JUST significant results\n",
        "dfH_tukey.loc[dfH_tukey['group1'] =='(-0.05, 0.0]']"
      ],
      "execution_count": 0,
      "outputs": [
        {
          "output_type": "execute_result",
          "data": {
            "text/html": [
              "<div>\n",
              "<style scoped>\n",
              "    .dataframe tbody tr th:only-of-type {\n",
              "        vertical-align: middle;\n",
              "    }\n",
              "\n",
              "    .dataframe tbody tr th {\n",
              "        vertical-align: top;\n",
              "    }\n",
              "\n",
              "    .dataframe thead th {\n",
              "        text-align: right;\n",
              "    }\n",
              "</style>\n",
              "<table border=\"1\" class=\"dataframe\">\n",
              "  <thead>\n",
              "    <tr style=\"text-align: right;\">\n",
              "      <th></th>\n",
              "      <th>group1</th>\n",
              "      <th>group2</th>\n",
              "      <th>meandiff</th>\n",
              "      <th>lower</th>\n",
              "      <th>upper</th>\n",
              "      <th>reject</th>\n",
              "    </tr>\n",
              "  </thead>\n",
              "  <tbody>\n",
              "    <tr>\n",
              "      <th>0</th>\n",
              "      <td>(-0.05, 0.0]</td>\n",
              "      <td>(0.0, 0.05]</td>\n",
              "      <td>5.3368</td>\n",
              "      <td>1.1841</td>\n",
              "      <td>9.4895</td>\n",
              "      <td>True</td>\n",
              "    </tr>\n",
              "    <tr>\n",
              "      <th>1</th>\n",
              "      <td>(-0.05, 0.0]</td>\n",
              "      <td>(0.05, 0.1]</td>\n",
              "      <td>3.3882</td>\n",
              "      <td>-0.9479</td>\n",
              "      <td>7.7243</td>\n",
              "      <td>False</td>\n",
              "    </tr>\n",
              "    <tr>\n",
              "      <th>2</th>\n",
              "      <td>(-0.05, 0.0]</td>\n",
              "      <td>(0.1, 0.15]</td>\n",
              "      <td>6.6669</td>\n",
              "      <td>2.1282</td>\n",
              "      <td>11.2056</td>\n",
              "      <td>True</td>\n",
              "    </tr>\n",
              "    <tr>\n",
              "      <th>3</th>\n",
              "      <td>(-0.05, 0.0]</td>\n",
              "      <td>(0.15, 0.2]</td>\n",
              "      <td>5.3096</td>\n",
              "      <td>0.8215</td>\n",
              "      <td>9.7977</td>\n",
              "      <td>True</td>\n",
              "    </tr>\n",
              "    <tr>\n",
              "      <th>4</th>\n",
              "      <td>(-0.05, 0.0]</td>\n",
              "      <td>(0.2, 0.25]</td>\n",
              "      <td>6.5250</td>\n",
              "      <td>1.9469</td>\n",
              "      <td>11.1031</td>\n",
              "      <td>True</td>\n",
              "    </tr>\n",
              "  </tbody>\n",
              "</table>\n",
              "</div>"
            ],
            "text/plain": [
              "         group1       group2  meandiff   lower    upper  reject\n",
              "0  (-0.05, 0.0]  (0.0, 0.05]    5.3368  1.1841   9.4895    True\n",
              "1  (-0.05, 0.0]  (0.05, 0.1]    3.3882 -0.9479   7.7243   False\n",
              "2  (-0.05, 0.0]  (0.1, 0.15]    6.6669  2.1282  11.2056    True\n",
              "3  (-0.05, 0.0]  (0.15, 0.2]    5.3096  0.8215   9.7977    True\n",
              "4  (-0.05, 0.0]  (0.2, 0.25]    6.5250  1.9469  11.1031    True"
            ]
          },
          "metadata": {
            "tags": []
          },
          "execution_count": 178
        }
      ]
    },
    {
      "metadata": {
        "colab_type": "text",
        "id": "P23rLwIWwwTC"
      },
      "cell_type": "markdown",
      "source": [
        "___\n",
        "# BOOKMARK: Hypothesis 2\n"
      ]
    },
    {
      "metadata": {
        "id": "eeQIJm_ESU6C",
        "colab_type": "text"
      },
      "cell_type": "markdown",
      "source": [
        "$H_1$: Customers buy more of other store items when they are buying discounted items.\n",
        "\n",
        "Below must be updated for hyptohesis 2\n",
        "___\n",
        "$H_0$: Customers buy the same ***amount*** of items\n",
        "    - **amount could mean:**\n",
        "        - the # of items (discounted vs not discounted vs same level of discount?)\n",
        "        - total price per order with/without discounted products\n",
        "**Specific Aims:**\n",
        "\n",
        "* *Aim 1:To select the proper dataset for analyiss  and generate data groups for testing.*\n",
        "    - Used sqlalchemy and pandas.read_sql_query()\n",
        "    ```query = \"SELECT* FROM OrderDetails,\n",
        "            GROUPBY discount\n",
        "\n",
        "* *Aim 2: Select the appropriate t-test based on tests for the assumptions of normality and homogeneity of variance. *\n",
        "1. Test for Normality\n",
        "    - D'Agostino-Pearson's normality test<br>\n",
        "    ```scipy.stats.normaltest```\n",
        "    - Shapiro-Wilik Test<br>\n",
        "    ```scipy.stats.shapiro```\n",
        "2. Test for Homogeneity of Variance\n",
        "    - Levene's Test<br>\n",
        "     ```scipy.stats.levene```\n",
        "\n",
        "3. Choose appropriate test based upon 1. and 2. \n",
        "    - Mann-Whitney U test (non parametric equivalent of ANOVA)\n",
        "    ```stats.mannwhitneyu```\n",
        "* *Aim 3: To perform post-hoc painrwise comparison testing to determine which level of discounts affect quantity and if any discount has a greater effect than the others. *\n",
        " - Tukey's test for multiple pairwise comparions\n",
        "  ```\n",
        "\n",
        "\n",
        "<br>\n",
        "- **Specific Aims:**\n",
        "\n",
        "    - Aim 1:To select dataset that allows us to compare our target variable [    ] vs the predictor variable [      ].\n",
        "        - Groupy order id, classify orders with discounted items vs others.  \n",
        "    - Aim 2: To test the relationship using a [ ] -tailed t-test. \n",
        "    - Aim 3: To determine which levels of the predictor underly the effect."
      ]
    },
    {
      "metadata": {
        "colab_type": "code",
        "id": "a_22M7dSftkZ",
        "outputId": "06028169-4aee-4ed5-bb92-25255ec1fecd",
        "colab": {
          "base_uri": "https://localhost:8080/",
          "height": 179
        }
      },
      "cell_type": "code",
      "source": [
        "\n",
        "filepath = '/content/drive/My Drive/Colab Notebooks/datasets/Northwind_small.sqlite'\n",
        "#-------------------\n",
        "# Testing minimal version of prior code\n",
        "import sqlite3\n",
        "from sqlalchemy import create_engine, inspect\n",
        "# from sqlalchemy import Table, Column, Integer, String, MetaData, ForeignKey,text, Float\n",
        "\n",
        "engine = create_engine('sqlite:///'+filepath,echo=True);\n",
        "inspector = inspect(engine);\n",
        "db_tables = inspector.get_table_names();\n",
        "print('\\n',db_tables);"
      ],
      "execution_count": 0,
      "outputs": [
        {
          "output_type": "stream",
          "text": [
            "2019-04-04 14:40:00,070 INFO sqlalchemy.engine.base.Engine SELECT CAST('test plain returns' AS VARCHAR(60)) AS anon_1\n",
            "2019-04-04 14:40:00,072 INFO sqlalchemy.engine.base.Engine ()\n",
            "2019-04-04 14:40:00,074 INFO sqlalchemy.engine.base.Engine SELECT CAST('test unicode returns' AS VARCHAR(60)) AS anon_1\n",
            "2019-04-04 14:40:00,075 INFO sqlalchemy.engine.base.Engine ()\n",
            "2019-04-04 14:40:00,079 INFO sqlalchemy.engine.base.Engine SELECT name FROM sqlite_master WHERE type='table' ORDER BY name\n",
            "2019-04-04 14:40:00,081 INFO sqlalchemy.engine.base.Engine ()\n",
            "\n",
            " ['Category', 'Customer', 'CustomerCustomerDemo', 'CustomerDemographic', 'Employee', 'EmployeeTerritory', 'Order', 'OrderDetail', 'Product', 'Region', 'Shipper', 'Supplier', 'Territory']\n"
          ],
          "name": "stdout"
        }
      ]
    },
    {
      "metadata": {
        "id": "Mhf5gyVYHovd",
        "colab_type": "code",
        "outputId": "3f629305-5a46-48a9-add6-ea07e8a89128",
        "colab": {
          "base_uri": "https://localhost:8080/",
          "height": 229
        }
      },
      "cell_type": "code",
      "source": [
        "# We want to test hypothesis one, so we need OrderDetail table.\n",
        "table_to_test = \"OrderDetail\"\n",
        "df = pd.read_sql_query(\"SELECT * FROM OrderDetail\",  engine)\n",
        "df.head()"
      ],
      "execution_count": 0,
      "outputs": [
        {
          "output_type": "stream",
          "text": [
            "2019-04-04 14:40:00,099 INFO sqlalchemy.engine.base.Engine SELECT * FROM OrderDetail\n",
            "2019-04-04 14:40:00,100 INFO sqlalchemy.engine.base.Engine ()\n"
          ],
          "name": "stdout"
        },
        {
          "output_type": "execute_result",
          "data": {
            "text/html": [
              "<div>\n",
              "<style scoped>\n",
              "    .dataframe tbody tr th:only-of-type {\n",
              "        vertical-align: middle;\n",
              "    }\n",
              "\n",
              "    .dataframe tbody tr th {\n",
              "        vertical-align: top;\n",
              "    }\n",
              "\n",
              "    .dataframe thead th {\n",
              "        text-align: right;\n",
              "    }\n",
              "</style>\n",
              "<table border=\"1\" class=\"dataframe\">\n",
              "  <thead>\n",
              "    <tr style=\"text-align: right;\">\n",
              "      <th></th>\n",
              "      <th>Id</th>\n",
              "      <th>OrderId</th>\n",
              "      <th>ProductId</th>\n",
              "      <th>UnitPrice</th>\n",
              "      <th>Quantity</th>\n",
              "      <th>Discount</th>\n",
              "    </tr>\n",
              "  </thead>\n",
              "  <tbody>\n",
              "    <tr>\n",
              "      <th>0</th>\n",
              "      <td>10248/11</td>\n",
              "      <td>10248</td>\n",
              "      <td>11</td>\n",
              "      <td>14.0</td>\n",
              "      <td>12</td>\n",
              "      <td>0.0</td>\n",
              "    </tr>\n",
              "    <tr>\n",
              "      <th>1</th>\n",
              "      <td>10248/42</td>\n",
              "      <td>10248</td>\n",
              "      <td>42</td>\n",
              "      <td>9.8</td>\n",
              "      <td>10</td>\n",
              "      <td>0.0</td>\n",
              "    </tr>\n",
              "    <tr>\n",
              "      <th>2</th>\n",
              "      <td>10248/72</td>\n",
              "      <td>10248</td>\n",
              "      <td>72</td>\n",
              "      <td>34.8</td>\n",
              "      <td>5</td>\n",
              "      <td>0.0</td>\n",
              "    </tr>\n",
              "    <tr>\n",
              "      <th>3</th>\n",
              "      <td>10249/14</td>\n",
              "      <td>10249</td>\n",
              "      <td>14</td>\n",
              "      <td>18.6</td>\n",
              "      <td>9</td>\n",
              "      <td>0.0</td>\n",
              "    </tr>\n",
              "    <tr>\n",
              "      <th>4</th>\n",
              "      <td>10249/51</td>\n",
              "      <td>10249</td>\n",
              "      <td>51</td>\n",
              "      <td>42.4</td>\n",
              "      <td>40</td>\n",
              "      <td>0.0</td>\n",
              "    </tr>\n",
              "  </tbody>\n",
              "</table>\n",
              "</div>"
            ],
            "text/plain": [
              "         Id  OrderId  ProductId  UnitPrice  Quantity  Discount\n",
              "0  10248/11    10248         11       14.0        12       0.0\n",
              "1  10248/42    10248         42        9.8        10       0.0\n",
              "2  10248/72    10248         72       34.8         5       0.0\n",
              "3  10249/14    10249         14       18.6         9       0.0\n",
              "4  10249/51    10249         51       42.4        40       0.0"
            ]
          },
          "metadata": {
            "tags": []
          },
          "execution_count": 180
        }
      ]
    },
    {
      "metadata": {
        "id": "kSqmOZAHTcNQ",
        "colab_type": "text"
      },
      "cell_type": "markdown",
      "source": [
        "### Calculating order totals, adding discount groups\n",
        "\n"
      ]
    },
    {
      "metadata": {
        "id": "05KbXlvlTvlt",
        "colab_type": "code",
        "outputId": "ec9dad72-e464-4164-ef54-2df44a6551cb",
        "colab": {
          "base_uri": "https://localhost:8080/",
          "height": 194
        }
      },
      "cell_type": "code",
      "source": [
        "# Source of df = pd.read_sql_query(\"SELECT * FROM OrderDetail\",  engine)\n",
        "\n",
        "# Define calc_product_review to add product price column\n",
        "def calc_product_price(row):\n",
        "    price = row['UnitPrice']*(1-row['Discount'])*row['Quantity']\n",
        "    row['price'] = price\n",
        "    if row['Discount']>0:\n",
        "        row['OnSale'] = True\n",
        "    else:\n",
        "        row['OnSale'] = False\n",
        "    return row    \n",
        "\n",
        "# Use calc_order_total to fill in order_total column\n",
        "def calc_order_total(row,df):\n",
        "    order = row['OrderId']\n",
        "    df_temp = df.groupby('OrderId').get_group(order)\n",
        "\n",
        "    \n",
        "    if any(df_temp['OnSale']):\n",
        "        row['discounted_order'] = True\n",
        "    else:\n",
        "        row['discounted_order'] = False\n",
        "    \n",
        "    order_total = df_temp['price'].sum()\n",
        "    row['order_total'] = order_total\n",
        "    \n",
        "    return row\n",
        "# Apply calc_product_price to every row \n",
        "df_price = df.apply(lambda x: calc_product_price(x),axis=1)\n",
        "# df_price['order_total'] = None\n",
        "\n",
        "\n",
        "# Apply_calc_order_total to every row\n",
        "df_price = df_price.apply(lambda x: calc_order_total(x,df_price), axis=1)  \n",
        "df_price.head()"
      ],
      "execution_count": 0,
      "outputs": [
        {
          "output_type": "execute_result",
          "data": {
            "text/html": [
              "<div>\n",
              "<style scoped>\n",
              "    .dataframe tbody tr th:only-of-type {\n",
              "        vertical-align: middle;\n",
              "    }\n",
              "\n",
              "    .dataframe tbody tr th {\n",
              "        vertical-align: top;\n",
              "    }\n",
              "\n",
              "    .dataframe thead th {\n",
              "        text-align: right;\n",
              "    }\n",
              "</style>\n",
              "<table border=\"1\" class=\"dataframe\">\n",
              "  <thead>\n",
              "    <tr style=\"text-align: right;\">\n",
              "      <th></th>\n",
              "      <th>Id</th>\n",
              "      <th>OrderId</th>\n",
              "      <th>ProductId</th>\n",
              "      <th>UnitPrice</th>\n",
              "      <th>Quantity</th>\n",
              "      <th>Discount</th>\n",
              "      <th>price</th>\n",
              "      <th>OnSale</th>\n",
              "      <th>discounted_order</th>\n",
              "      <th>order_total</th>\n",
              "    </tr>\n",
              "  </thead>\n",
              "  <tbody>\n",
              "    <tr>\n",
              "      <th>0</th>\n",
              "      <td>10248/11</td>\n",
              "      <td>10248</td>\n",
              "      <td>11</td>\n",
              "      <td>14.0</td>\n",
              "      <td>12</td>\n",
              "      <td>0.0</td>\n",
              "      <td>168.0</td>\n",
              "      <td>False</td>\n",
              "      <td>False</td>\n",
              "      <td>440.0</td>\n",
              "    </tr>\n",
              "    <tr>\n",
              "      <th>1</th>\n",
              "      <td>10248/42</td>\n",
              "      <td>10248</td>\n",
              "      <td>42</td>\n",
              "      <td>9.8</td>\n",
              "      <td>10</td>\n",
              "      <td>0.0</td>\n",
              "      <td>98.0</td>\n",
              "      <td>False</td>\n",
              "      <td>False</td>\n",
              "      <td>440.0</td>\n",
              "    </tr>\n",
              "    <tr>\n",
              "      <th>2</th>\n",
              "      <td>10248/72</td>\n",
              "      <td>10248</td>\n",
              "      <td>72</td>\n",
              "      <td>34.8</td>\n",
              "      <td>5</td>\n",
              "      <td>0.0</td>\n",
              "      <td>174.0</td>\n",
              "      <td>False</td>\n",
              "      <td>False</td>\n",
              "      <td>440.0</td>\n",
              "    </tr>\n",
              "    <tr>\n",
              "      <th>3</th>\n",
              "      <td>10249/14</td>\n",
              "      <td>10249</td>\n",
              "      <td>14</td>\n",
              "      <td>18.6</td>\n",
              "      <td>9</td>\n",
              "      <td>0.0</td>\n",
              "      <td>167.4</td>\n",
              "      <td>False</td>\n",
              "      <td>False</td>\n",
              "      <td>1863.4</td>\n",
              "    </tr>\n",
              "    <tr>\n",
              "      <th>4</th>\n",
              "      <td>10249/51</td>\n",
              "      <td>10249</td>\n",
              "      <td>51</td>\n",
              "      <td>42.4</td>\n",
              "      <td>40</td>\n",
              "      <td>0.0</td>\n",
              "      <td>1696.0</td>\n",
              "      <td>False</td>\n",
              "      <td>False</td>\n",
              "      <td>1863.4</td>\n",
              "    </tr>\n",
              "  </tbody>\n",
              "</table>\n",
              "</div>"
            ],
            "text/plain": [
              "         Id  OrderId  ProductId  UnitPrice  Quantity  Discount   price  \\\n",
              "0  10248/11    10248         11       14.0        12       0.0   168.0   \n",
              "1  10248/42    10248         42        9.8        10       0.0    98.0   \n",
              "2  10248/72    10248         72       34.8         5       0.0   174.0   \n",
              "3  10249/14    10249         14       18.6         9       0.0   167.4   \n",
              "4  10249/51    10249         51       42.4        40       0.0  1696.0   \n",
              "\n",
              "   OnSale  discounted_order  order_total  \n",
              "0   False             False        440.0  \n",
              "1   False             False        440.0  \n",
              "2   False             False        440.0  \n",
              "3   False             False       1863.4  \n",
              "4   False             False       1863.4  "
            ]
          },
          "metadata": {
            "tags": []
          },
          "execution_count": 181
        }
      ]
    },
    {
      "metadata": {
        "id": "BE5B7Ab5qqAc",
        "colab_type": "text"
      },
      "cell_type": "markdown",
      "source": [
        ""
      ]
    },
    {
      "metadata": {
        "id": "d5hsveQvqptC",
        "colab_type": "code",
        "outputId": "9c2f7716-bbee-4019-c5a8-e975eb9f8b83",
        "colab": {
          "base_uri": "https://localhost:8080/",
          "height": 491
        }
      },
      "cell_type": "code",
      "source": [
        "fig, ax = plt.subplots(1,2,figsize=(10,5));\n",
        "df_price.groupby('discounted_order')['order_total'].hist(alpha=0.4, bins=30, ax = ax[0]);\n",
        "df_price.groupby('discounted_order')['order_total'].mean().plot(kind='bar',ax=ax[1]);"
      ],
      "execution_count": 0,
      "outputs": [
        {
          "output_type": "display_data",
          "data": {
            "image/png": "[encoded data removed]",
            "text/plain": [
              "<Figure size 1000x500 with 2 Axes>"
            ]
          },
          "metadata": {
            "tags": []
          }
        }
      ]
    },
    {
      "metadata": {
        "id": "KzQo_3AAxHGj",
        "colab_type": "text"
      },
      "cell_type": "markdown",
      "source": [
        "## BOOKMARK START.<img src=\"https://www.dropbox.com/s/6xqzendi1iyzls8/bookmark.png?raw=1\" width=25>  \n",
        "Adding in tukey's test for level of discount."
      ]
    },
    {
      "metadata": {
        "id": "fCuI9Ayhw0zL",
        "colab_type": "text"
      },
      "cell_type": "markdown",
      "source": [
        "## Analysis Pipeline for Hypothesis 2\n",
        "**Don't forget about the codeacademy slides, [the tukey test they recommend is not from scipy, its from statsmodels]**(https://drive.google.com/drive/u/0/folders/18OI7pC76d6IJ5xI0ZA8A__Da9WI2rNon)\n",
        "1. Separate data into groups\n",
        "2. test groups for normality \n",
        "    - [Normaltest/ D’Agostino and Pearson’s](https://docs.scipy.org/doc/scipy/reference/generated/scipy.stats.normaltest.html)\n",
        "\n",
        "3. test groups for homo of variance\n",
        "    - [Levene's Test](https://docs.scipy.org/doc/scipy-0.14.0/reference/generated/scipy.stats.levene.html)\n",
        "4. Try to normalize data if possible?\n",
        "    - \n",
        "5. Choose test based on output\n",
        "    - Normal: 2 sample t-test\n",
        "    - Welch's t-test (Jeff)\n",
        "    - Not normal =     - [Mann Whitney U Test](https://docs.scipy.org/doc/scipy/reference/generated/scipy.stats.mannwhitneyu.html)\n",
        "5B. Calculate other statistics for result, i.e effect size...?\n",
        "    - Effect size: [cohen's d](https://stackoverflow.com/questions/21532471/how-to-calculate-cohens-d-in-python)\n",
        "6. Run test, if significant follow up with post-hoc tests (IF have more than 2 groups)\n",
        "    - [Tukey's](https://www.statsmodels.org/stable/generated/statsmodels.stats.multicomp.pairwise_tukeyhsd.html)\n",
        "\n",
        "**FOR US:**\n",
        "- **We should now separate the discounted data by values to create a group for each level and then run the pairwise Tukey's test**\n",
        "- We may want to re-check the assumptions for the new groups (levene's test and normaltest)\n",
        "    - The data may be parametric when divided this way, in which case we would run an [ANOVA](https://docs.scipy.org/doc/scipy/reference/generated/scipy.stats.f_oneway.html)\n",
        "        - If the ANOVA is significant, we would run a Tukey's anyway for pairwise comparison so I guess can maybe just jump right to the Tukey's test.\n",
        "- \n",
        "\n"
      ]
    },
    {
      "metadata": {
        "id": "V5h8J1CXwlbO",
        "colab_type": "text"
      },
      "cell_type": "markdown",
      "source": [
        "### Saving original dataframes with new names"
      ]
    },
    {
      "metadata": {
        "id": "LH-bkoSXqgBk",
        "colab_type": "code",
        "colab": {}
      },
      "cell_type": "code",
      "source": [
        "df_orig_save = df.copy()\n",
        "dfH1_save = dfH.copy()"
      ],
      "execution_count": 0,
      "outputs": []
    },
    {
      "metadata": {
        "id": "DZfc0jqTxeNA",
        "colab_type": "text"
      },
      "cell_type": "markdown",
      "source": [
        "## H2: Checking Normality and Equal Variance Assumptions"
      ]
    },
    {
      "metadata": {
        "colab_type": "code",
        "outputId": "ed8b2684-5b05-4b54-e2b0-f3d6377cb0fb",
        "id": "6Nltea0kvYDT",
        "colab": {
          "base_uri": "https://localhost:8080/",
          "height": 355
        }
      },
      "cell_type": "code",
      "source": [
        "# 1 - Separating groups from dfH (dataframeHypothesis)\n",
        "dfH = df_price[['order_total','discounted_order']]\n",
        "\n",
        "#Adding group definitions\n",
        "grpA = \"['discounted_order'] == True\"\n",
        "grpB = \"['discounted_order'] == False\"\n",
        "\n",
        "# Using eval to create df_A and df_B; will allow us to fill in our results \n",
        "# with the exact definitions of Group A and Group B\n",
        "df_A = eval(f'dfH.loc[dfH{grpA}]')\n",
        "df_B = eval(f'dfH.loc[dfH{grpB}]')\n",
        "\n",
        "# dfj_D = dfH.loc[dfj['Discount']>0] \n",
        "# dfj_F = dfH.loc[dfj['Discount']==0]\n",
        "df_A.describe(),'--'*25,df_B.describe()"
      ],
      "execution_count": 0,
      "outputs": [
        {
          "output_type": "execute_result",
          "data": {
            "text/plain": [
              "(        order_total\n",
              " count   1045.000000\n",
              " mean    1967.286576\n",
              " std     1986.415123\n",
              " min       23.800000\n",
              " 25%      799.200000\n",
              " 50%     1504.500000\n",
              " 75%     2237.500000\n",
              " max    16387.500000,\n",
              " '--------------------------------------------------',\n",
              "         order_total\n",
              " count   1110.000000\n",
              " mean    1748.129477\n",
              " std     1932.040896\n",
              " min       12.500000\n",
              " 25%      517.800000\n",
              " 50%     1122.800000\n",
              " 75%     2189.250000\n",
              " max    15810.000000)"
            ]
          },
          "metadata": {
            "tags": []
          },
          "execution_count": 184
        }
      ]
    },
    {
      "metadata": {
        "colab_type": "code",
        "id": "6o7eXWHUvYDY",
        "colab": {}
      },
      "cell_type": "code",
      "source": [
        "# Adding table to collect summary statistics\n",
        "H2_tests = [['Group:','TestName','Test Purpose','stat','p']  ]"
      ],
      "execution_count": 0,
      "outputs": []
    },
    {
      "metadata": {
        "colab_type": "code",
        "outputId": "11cecd5c-6ce5-4b86-d589-e2aaf546c8ef",
        "id": "HXMiuzjTvYDd",
        "colab": {
          "base_uri": "https://localhost:8080/",
          "height": 52
        }
      },
      "cell_type": "code",
      "source": [
        "# 2. Testing normality\n",
        "\n",
        "test_purpose = 'Normality'\n",
        "test_to_run = 'normaltest'\n",
        "\n",
        "arrA = np.array(df_A['order_total'])\n",
        "arrB = np.array(df_B['order_total'])\n",
        "\n",
        "statA, pA = eval(test_to_run)(arrA)\n",
        "statB, pB = eval(test_to_run)(arrB)\n",
        "\n",
        "print(f'A:stat={statA}, p={pA}')\n",
        "print(f'B:stat={statB}, p={pB}')\n",
        "\n",
        "H2_tests.append(['A: '+grpA,test_to_run,test_purpose,statA,pA])\n",
        "H2_tests.append(['B: '+grpB,test_to_run,test_purpose,statB,pB])\n",
        "# list2df(H1_tests)"
      ],
      "execution_count": 0,
      "outputs": [
        {
          "output_type": "stream",
          "text": [
            "A:stat=706.7150378072616, p=3.457637033451484e-154\n",
            "B:stat=626.5744270033118, p=8.731561663210715e-137\n"
          ],
          "name": "stdout"
        }
      ]
    },
    {
      "metadata": {
        "colab_type": "code",
        "outputId": "01567683-95a6-4240-fe37-ef5ff67c6f52",
        "id": "djdIF4bpvYDg",
        "colab": {
          "base_uri": "https://localhost:8080/",
          "height": 106
        }
      },
      "cell_type": "code",
      "source": [
        "list2df(H2_tests)"
      ],
      "execution_count": 0,
      "outputs": [
        {
          "output_type": "execute_result",
          "data": {
            "text/html": [
              "<div>\n",
              "<style scoped>\n",
              "    .dataframe tbody tr th:only-of-type {\n",
              "        vertical-align: middle;\n",
              "    }\n",
              "\n",
              "    .dataframe tbody tr th {\n",
              "        vertical-align: top;\n",
              "    }\n",
              "\n",
              "    .dataframe thead th {\n",
              "        text-align: right;\n",
              "    }\n",
              "</style>\n",
              "<table border=\"1\" class=\"dataframe\">\n",
              "  <thead>\n",
              "    <tr style=\"text-align: right;\">\n",
              "      <th></th>\n",
              "      <th>Group:</th>\n",
              "      <th>TestName</th>\n",
              "      <th>Test Purpose</th>\n",
              "      <th>stat</th>\n",
              "      <th>p</th>\n",
              "    </tr>\n",
              "  </thead>\n",
              "  <tbody>\n",
              "    <tr>\n",
              "      <th>0</th>\n",
              "      <td>A: ['discounted_order'] == True</td>\n",
              "      <td>normaltest</td>\n",
              "      <td>Normality</td>\n",
              "      <td>706.715038</td>\n",
              "      <td>3.457637e-154</td>\n",
              "    </tr>\n",
              "    <tr>\n",
              "      <th>1</th>\n",
              "      <td>B: ['discounted_order'] == False</td>\n",
              "      <td>normaltest</td>\n",
              "      <td>Normality</td>\n",
              "      <td>626.574427</td>\n",
              "      <td>8.731562e-137</td>\n",
              "    </tr>\n",
              "  </tbody>\n",
              "</table>\n",
              "</div>"
            ],
            "text/plain": [
              "                             Group:    TestName Test Purpose        stat  \\\n",
              "0   A: ['discounted_order'] == True  normaltest    Normality  706.715038   \n",
              "1  B: ['discounted_order'] == False  normaltest    Normality  626.574427   \n",
              "\n",
              "               p  \n",
              "0  3.457637e-154  \n",
              "1  8.731562e-137  "
            ]
          },
          "metadata": {
            "tags": []
          },
          "execution_count": 187
        }
      ]
    },
    {
      "metadata": {
        "colab_type": "code",
        "id": "9GfzS_Vxxswy",
        "colab": {}
      },
      "cell_type": "code",
      "source": [
        "# 3. Test for homo var\n",
        "test_to_run = 'stats.levene'\n",
        "stat,p = eval(test_to_run)(arrA,arrB,center='median')\n",
        "\n",
        "H2_tests.append(['A&B',test_to_run,'Equal Var',stat,p])"
      ],
      "execution_count": 0,
      "outputs": []
    },
    {
      "metadata": {
        "colab_type": "code",
        "outputId": "376028a8-06e3-4f03-89e0-f7a899fb2e46",
        "id": "36BZIyyYxsw0",
        "colab": {
          "base_uri": "https://localhost:8080/",
          "height": 135
        }
      },
      "cell_type": "code",
      "source": [
        "list2df(H2_tests)"
      ],
      "execution_count": 0,
      "outputs": [
        {
          "output_type": "execute_result",
          "data": {
            "text/html": [
              "<div>\n",
              "<style scoped>\n",
              "    .dataframe tbody tr th:only-of-type {\n",
              "        vertical-align: middle;\n",
              "    }\n",
              "\n",
              "    .dataframe tbody tr th {\n",
              "        vertical-align: top;\n",
              "    }\n",
              "\n",
              "    .dataframe thead th {\n",
              "        text-align: right;\n",
              "    }\n",
              "</style>\n",
              "<table border=\"1\" class=\"dataframe\">\n",
              "  <thead>\n",
              "    <tr style=\"text-align: right;\">\n",
              "      <th></th>\n",
              "      <th>Group:</th>\n",
              "      <th>TestName</th>\n",
              "      <th>Test Purpose</th>\n",
              "      <th>stat</th>\n",
              "      <th>p</th>\n",
              "    </tr>\n",
              "  </thead>\n",
              "  <tbody>\n",
              "    <tr>\n",
              "      <th>0</th>\n",
              "      <td>A: ['discounted_order'] == True</td>\n",
              "      <td>normaltest</td>\n",
              "      <td>Normality</td>\n",
              "      <td>706.715038</td>\n",
              "      <td>3.457637e-154</td>\n",
              "    </tr>\n",
              "    <tr>\n",
              "      <th>1</th>\n",
              "      <td>B: ['discounted_order'] == False</td>\n",
              "      <td>normaltest</td>\n",
              "      <td>Normality</td>\n",
              "      <td>626.574427</td>\n",
              "      <td>8.731562e-137</td>\n",
              "    </tr>\n",
              "    <tr>\n",
              "      <th>2</th>\n",
              "      <td>A&amp;B</td>\n",
              "      <td>stats.levene</td>\n",
              "      <td>Equal Var</td>\n",
              "      <td>0.453758</td>\n",
              "      <td>5.006281e-01</td>\n",
              "    </tr>\n",
              "  </tbody>\n",
              "</table>\n",
              "</div>"
            ],
            "text/plain": [
              "                             Group:      TestName Test Purpose        stat  \\\n",
              "0   A: ['discounted_order'] == True    normaltest    Normality  706.715038   \n",
              "1  B: ['discounted_order'] == False    normaltest    Normality  626.574427   \n",
              "2                               A&B  stats.levene    Equal Var    0.453758   \n",
              "\n",
              "               p  \n",
              "0  3.457637e-154  \n",
              "1  8.731562e-137  \n",
              "2   5.006281e-01  "
            ]
          },
          "metadata": {
            "tags": []
          },
          "execution_count": 189
        }
      ]
    },
    {
      "metadata": {
        "colab_type": "text",
        "id": "0OCGqU7PyiIc"
      },
      "cell_type": "markdown",
      "source": [
        "### Conclusions so far...\n",
        "- We failed both normaltests and homo variance\n",
        "- Need non-parametric 2sample ttest\n",
        "    - [**Mann-Whitney U test**](https://docs.scipy.org/doc/scipy/reference/generated/scipy.stats.mannwhitneyu.html)"
      ]
    },
    {
      "metadata": {
        "colab_type": "code",
        "id": "Yp7l-KeFyiIe",
        "colab": {}
      },
      "cell_type": "code",
      "source": [
        "# Mann Whitney U test+\n",
        "import scipy.stats as stats\n",
        "# arrA was discounted, arrB was non-discounted\n",
        "test_to_run = 'stats.mannwhitneyu'\n",
        "stat, p = eval(test_to_run)(arrA,arrB,alternative='greater')\n",
        "stat, p\n",
        "H2_tests.append(['A vs. B',test_to_run, 'H1_sig', stat,p])"
      ],
      "execution_count": 0,
      "outputs": []
    },
    {
      "metadata": {
        "colab_type": "code",
        "outputId": "4c043b33-042d-427c-debf-e6116a589353",
        "id": "yg_MQfQEyiIh",
        "colab": {
          "base_uri": "https://localhost:8080/",
          "height": 164
        }
      },
      "cell_type": "code",
      "source": [
        "list2df(H2_tests)"
      ],
      "execution_count": 0,
      "outputs": [
        {
          "output_type": "execute_result",
          "data": {
            "text/html": [
              "<div>\n",
              "<style scoped>\n",
              "    .dataframe tbody tr th:only-of-type {\n",
              "        vertical-align: middle;\n",
              "    }\n",
              "\n",
              "    .dataframe tbody tr th {\n",
              "        vertical-align: top;\n",
              "    }\n",
              "\n",
              "    .dataframe thead th {\n",
              "        text-align: right;\n",
              "    }\n",
              "</style>\n",
              "<table border=\"1\" class=\"dataframe\">\n",
              "  <thead>\n",
              "    <tr style=\"text-align: right;\">\n",
              "      <th></th>\n",
              "      <th>Group:</th>\n",
              "      <th>TestName</th>\n",
              "      <th>Test Purpose</th>\n",
              "      <th>stat</th>\n",
              "      <th>p</th>\n",
              "    </tr>\n",
              "  </thead>\n",
              "  <tbody>\n",
              "    <tr>\n",
              "      <th>0</th>\n",
              "      <td>A: ['discounted_order'] == True</td>\n",
              "      <td>normaltest</td>\n",
              "      <td>Normality</td>\n",
              "      <td>706.715038</td>\n",
              "      <td>3.457637e-154</td>\n",
              "    </tr>\n",
              "    <tr>\n",
              "      <th>1</th>\n",
              "      <td>B: ['discounted_order'] == False</td>\n",
              "      <td>normaltest</td>\n",
              "      <td>Normality</td>\n",
              "      <td>626.574427</td>\n",
              "      <td>8.731562e-137</td>\n",
              "    </tr>\n",
              "    <tr>\n",
              "      <th>2</th>\n",
              "      <td>A&amp;B</td>\n",
              "      <td>stats.levene</td>\n",
              "      <td>Equal Var</td>\n",
              "      <td>0.453758</td>\n",
              "      <td>5.006281e-01</td>\n",
              "    </tr>\n",
              "    <tr>\n",
              "      <th>3</th>\n",
              "      <td>A vs. B</td>\n",
              "      <td>stats.mannwhitneyu</td>\n",
              "      <td>H1_sig</td>\n",
              "      <td>659118.500000</td>\n",
              "      <td>2.099588e-08</td>\n",
              "    </tr>\n",
              "  </tbody>\n",
              "</table>\n",
              "</div>"
            ],
            "text/plain": [
              "                             Group:            TestName Test Purpose  \\\n",
              "0   A: ['discounted_order'] == True          normaltest    Normality   \n",
              "1  B: ['discounted_order'] == False          normaltest    Normality   \n",
              "2                               A&B        stats.levene    Equal Var   \n",
              "3                           A vs. B  stats.mannwhitneyu       H1_sig   \n",
              "\n",
              "            stat              p  \n",
              "0     706.715038  3.457637e-154  \n",
              "1     626.574427  8.731562e-137  \n",
              "2       0.453758   5.006281e-01  \n",
              "3  659118.500000   2.099588e-08  "
            ]
          },
          "metadata": {
            "tags": []
          },
          "execution_count": 191
        }
      ]
    },
    {
      "metadata": {
        "colab_type": "text",
        "id": "IrLcQDMPyiIl"
      },
      "cell_type": "markdown",
      "source": [
        "### Conclusions\n",
        "- Reject null,...\n",
        "We have a significant effect of"
      ]
    },
    {
      "metadata": {
        "colab_type": "text",
        "id": "-xn_WHdcwwTT"
      },
      "cell_type": "markdown",
      "source": [
        "# Experimental"
      ]
    },
    {
      "metadata": {
        "id": "lMvllP9orPVx",
        "colab_type": "code",
        "colab": {}
      },
      "cell_type": "code",
      "source": [
        "# # Export each table to .csv for use with Tableau\n",
        "\n",
        "# filepath = '/content/drive/My Drive/Colab Notebooks/datasets/Northwind_small.sqlite'\n",
        "# #-------------------\n",
        "# # Testing minimal version of prior code\n",
        "# import sqlite3\n",
        "# from sqlalchemy import create_engine, inspect\n",
        "# # from sqlalchemy import Table, Column, Integer, String, MetaData, ForeignKey,text, Float\n",
        "\n",
        "# engine = create_engine('sqlite:///'+filepath,echo=True);\n",
        "# inspector = inspect(engine);\n",
        "# db_tables = inspector.get_table_names();\n",
        "# print('\\n',db_tables);"
      ],
      "execution_count": 0,
      "outputs": []
    },
    {
      "metadata": {
        "id": "SS0Z1fsyrheb",
        "colab_type": "code",
        "outputId": "68f8c065-582f-4786-fdc1-51a12f0550d4",
        "colab": {
          "base_uri": "https://localhost:8080/",
          "height": 35
        }
      },
      "cell_type": "code",
      "source": [
        "type(db_tables[0])"
      ],
      "execution_count": 0,
      "outputs": [
        {
          "output_type": "execute_result",
          "data": {
            "text/plain": [
              "str"
            ]
          },
          "metadata": {
            "tags": []
          },
          "execution_count": 193
        }
      ]
    },
    {
      "metadata": {
        "id": "H3NP8swkrO_P",
        "colab_type": "code",
        "colab": {}
      },
      "cell_type": "code",
      "source": [
        "# dict_tables = {}\n",
        "# for table in db_tables:\n",
        "#     dict_tables[table] = pd.read_sql_table(table, engine)\n",
        "    \n",
        "                                          "
      ],
      "execution_count": 0,
      "outputs": []
    },
    {
      "metadata": {
        "id": "-l8E7oeHsHQq",
        "colab_type": "code",
        "colab": {}
      },
      "cell_type": "code",
      "source": [
        "# dict_tables.keys()\n",
        "\n",
        "# for name, table in dict_tables.items():\n",
        "#     filename = name\n",
        "#     table.to_csv(name+'.csv')"
      ],
      "execution_count": 0,
      "outputs": []
    },
    {
      "metadata": {
        "id": "YqAGrOX8yZwy",
        "colab_type": "text"
      },
      "cell_type": "markdown",
      "source": [
        "## <img src=\"https://www.dropbox.com/s/6xqzendi1iyzls8/bookmark.png?raw=1\" width=15>  END BOOKMARK"
      ]
    },
    {
      "metadata": {
        "id": "J05Aqk6VTo4V",
        "colab_type": "text"
      },
      "cell_type": "markdown",
      "source": [
        "# Hypothesis 3\n",
        "Does the time of year affect quantity of items sold?\n",
        "\n",
        " - H0 = The month of an order has no affect on the mean quantity of items sold.\n",
        "\n",
        " - HA = THe month an order is placed relates to either a higher or lower mean quantity of items sold.\n"
      ]
    },
    {
      "metadata": {
        "id": "gW9ZpyP7UPca",
        "colab_type": "code",
        "colab": {}
      },
      "cell_type": "code",
      "source": [
        "# import sqlalchemy\n",
        "# from sqlalchemy import create_engine\n",
        "# from sqlalchemy.orm import Session, sessionmaker\n",
        "\n",
        "# engine = create_engine('sqlite:///'+filepath,echo=True)\n",
        "# Session = sessionmaker(bind=engine)\n",
        "# session = Session()\n"
      ],
      "execution_count": 0,
      "outputs": []
    },
    {
      "metadata": {
        "id": "TR_JqCxvXGHF",
        "colab_type": "code",
        "colab": {}
      },
      "cell_type": "code",
      "source": [
        ""
      ],
      "execution_count": 0,
      "outputs": []
    }
  ]
}