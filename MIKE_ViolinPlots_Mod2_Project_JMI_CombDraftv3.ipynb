{
 "cells": [
  {
   "cell_type": "markdown",
   "metadata": {
    "colab_type": "text",
    "id": "EZeLgicvwwP6"
   },
   "source": [
    "# Module 2 Final Project Submission\n",
    "- Student: James M. Irving, Ph.D.\n",
    "- Github Link: https://github.com/jirvingphd/dsc-2-final-project-online-ds-ft-021119 \n",
    "- Reviewer: Jeff Herman\n",
    "- Review Date: 04/08/19\n",
    "- Blog Post:"
   ]
  },
  {
   "cell_type": "code",
   "execution_count": 1,
   "metadata": {},
   "outputs": [],
   "source": [
    "# Note: By default, the notebook will not save figures and csv files\n",
    "# Change save_for_user to True in order to save outputs. \n",
    "save_for_user = False \n",
    "fig_filepath = \"Figures/\"\n",
    "data_filepath = \"Exported CSV/\""
   ]
  },
  {
   "cell_type": "markdown",
   "metadata": {
    "colab_type": "text",
    "id": "RXO-WQHYwwQF"
   },
   "source": [
    "___"
   ]
  },
  {
   "cell_type": "markdown",
   "metadata": {
    "colab_type": "text",
    "id": "Oz3uzog5wwQM"
   },
   "source": [
    "# Importing of Packages and Defining Functions"
   ]
  },
  {
   "cell_type": "markdown",
   "metadata": {},
   "source": [
    "### If running on CoLab, uncomment the cell below:"
   ]
  },
  {
   "cell_type": "code",
   "execution_count": 2,
   "metadata": {},
   "outputs": [],
   "source": [
    "# # If running on googe colab\n",
    "# # #CELL A : IF ON COLAB.\n",
    "# # #The northwind.sqlite is located in: content/drive/My Drive/Colab Notebooks/datasets/Northwind_small.sqlite\n",
    "# from google.colab import drive\n",
    "# drive.mount('/content/drive/', force_remount=True)\n",
    "\n",
    "# # # If in Google Drive \n",
    "# path= '/content/drive/My Drive/Colab Notebooks/datasets/'\n",
    "# file='Northwind_small.sqlite'\n",
    "# filepath = path+file\n",
    "# # filepath = '/content/drive/My Drive/Colab Notebooks/datasets/Northwind_small.sqlite'\n",
    "# #NOTE: To save files to drive, just to df.to_csv(path+'filename.csv')\n",
    "\n",
    "# If local:\n",
    "filepath = 'Northwind_small.sqlite'"
   ]
  },
  {
   "cell_type": "markdown",
   "metadata": {
    "colab_type": "text",
    "id": "PVjqeNPowwQN"
   },
   "source": [
    "## Import packages:"
   ]
  },
  {
   "cell_type": "code",
   "execution_count": 3,
   "metadata": {
    "colab": {
     "base_uri": "https://localhost:8080/",
     "height": 70
    },
    "colab_type": "code",
    "id": "vl-HKeJJwwQP",
    "outputId": "2b80e15e-b784-444e-d058-4017f00ef66a"
   },
   "outputs": [],
   "source": [
    "# Normal packages\n",
    "import pandas as pd\n",
    "import numpy as np\n",
    "import seaborn as sns\n",
    "import matplotlib.pyplot as plt\n",
    "import matplotlib.ticker as mtick\n",
    "%matplotlib inline\n",
    "\n",
    "# Statsmodels\n",
    "\n",
    "import statsmodels.api as sm\n",
    "import statsmodels.formula.api as smf\n",
    "import statsmodels.stats.api as sms\n",
    "\n",
    "import scipy.stats as stats\n",
    "\n",
    "\n",
    "# Counter\n",
    "from collections import Counter\n",
    "\n",
    "# Sklearn\n",
    "from sklearn.model_selection import train_test_split\n",
    "from sklearn.feature_selection import RFE\n",
    "from sklearn.linear_model import LinearRegression\n",
    "from sklearn.metrics import mean_squared_error\n",
    "from sklearn.preprocessing import MinMaxScaler\n",
    "from sklearn.preprocessing import RobustScaler\n",
    "import sklearn.metrics as metrics\n",
    "\n",
    "\n",
    "import sqlalchemy\n",
    "from sqlalchemy import create_engine\n",
    "from sqlalchemy.orm import Session, sessionmaker\n",
    "from sqlalchemy import inspect"
   ]
  },
  {
   "cell_type": "markdown",
   "metadata": {
    "colab_type": "text",
    "id": "s6AsUbfMwwQU"
   },
   "source": [
    "## Defining Functions"
   ]
  },
  {
   "cell_type": "markdown",
   "metadata": {
    "colab_type": "text",
    "heading_collapsed": true,
    "id": "O0xNoo6vwwQV"
   },
   "source": [
    "### def check_column"
   ]
  },
  {
   "cell_type": "code",
   "execution_count": 4,
   "metadata": {
    "colab": {},
    "colab_type": "code",
    "hidden": true,
    "id": "UEz2Osm_wwQW"
   },
   "outputs": [],
   "source": [
    "# Check columns returns the datatype, null values and unique values of input series \n",
    "def check_column(series,nlargest='all'):\n",
    "    print(f\"Column: df['{series.name}']':\")\n",
    "    print(f\"dtype: {series.dtype}\")\n",
    "    print(f\"isna: {series.isna().sum()} out of {len(series)} - {round(series.isna().sum()/len(series)*100,3)}%\")\n",
    "        \n",
    "    print(f'\\nUnique non-na values:') #,df['waterfront'].unique())\n",
    "    if nlargest =='all':\n",
    "        print(series.value_counts())\n",
    "    else:\n",
    "        print(series.value_counts().nlargest(nlargest))"
   ]
  },
  {
   "cell_type": "markdown",
   "metadata": {
    "colab_type": "text",
    "heading_collapsed": true,
    "id": "Qk9N1jMywwQf"
   },
   "source": [
    "### def detect_outliers"
   ]
  },
  {
   "cell_type": "code",
   "execution_count": 5,
   "metadata": {
    "colab": {},
    "colab_type": "code",
    "hidden": true,
    "id": "LzpDuDd5wwQg"
   },
   "outputs": [],
   "source": [
    "# Tukey's method using IQR to eliminate \n",
    "def detect_outliers(df, n, features):\n",
    "    \"\"\"Uses Tukey's method to return outer of interquartile ranges to return indices if outliers in a dataframe.\n",
    "    Parameters:\n",
    "    df (DataFrame): DataFrane containing columns of features\n",
    "    n: default is 0, multiple outlier cutoff  \n",
    "    \n",
    "    Returns:\n",
    "    Index of outliers for .loc\n",
    "    \n",
    "    Examples:\n",
    "    Outliers_to_drop = detect_outliers(data,2,[\"col1\",\"col2\"]) Returning value\n",
    "    df.loc[Outliers_to_drop] # Show the outliers rows\n",
    "    data= data.drop(Outliers_to_drop, axis = 0).reset_index(drop=True)\n",
    "   \"\"\"\n",
    "\n",
    "# Drop outliers    \n",
    "\n",
    "    outlier_indices = []\n",
    "    # iterate over features(columns)\n",
    "    for col in features:\n",
    "        \n",
    "        # 1st quartile (25%)\n",
    "        Q1 = np.percentile(df[col], 25)\n",
    "        # 3rd quartile (75%)\n",
    "        Q3 = np.percentile(df[col],75)\n",
    "        \n",
    "        # Interquartile range (IQR)\n",
    "        IQR = Q3 - Q1\n",
    "        # outlier step\n",
    "        outlier_step = 1.5 * IQR\n",
    "        \n",
    "        # Determine a list of indices of outliers for feature col\n",
    "        outlier_list_col = df[(df[col] < Q1 - outlier_step) \n",
    "                              | (df[col] > Q3 + outlier_step )].index\n",
    "        \n",
    "        # append the found outlier indices for col to the list of outlier indices \n",
    "        outlier_indices.extend(outlier_list_col)\n",
    "        \n",
    "        # select observations containing more than 2 outliers\n",
    "        outlier_indices = Counter(outlier_indices)        \n",
    "        multiple_outliers = list( k for k,v in\n",
    "                                 outlier_indices.items() if v > n )\n",
    "    return multiple_outliers \n"
   ]
  },
  {
   "cell_type": "markdown",
   "metadata": {
    "colab_type": "text",
    "heading_collapsed": true,
    "id": "GDzeDK5gwwQk"
   },
   "source": [
    "### def plot_hist_scat_sns"
   ]
  },
  {
   "cell_type": "code",
   "execution_count": 6,
   "metadata": {
    "colab": {},
    "colab_type": "code",
    "hidden": true,
    "id": "MITbzaCcwwQl"
   },
   "outputs": [],
   "source": [
    "# Plots histogram and scatter (vs price) side by side\n",
    "def plot_hist_scat_sns(df, target='index'):\n",
    "    \"\"\"Plots seaborne distplots and regplots for columns im datamframe vs target.\n",
    "\n",
    "    Parameters:\n",
    "    df (DataFrame): DataFrame.describe() columns will be used. \n",
    "    target = name of column containing target variable.assume first coluumn. \n",
    "    \n",
    "    Returns:\n",
    "    Figures for each column vs target with 2 subplots.\n",
    "   \"\"\"\n",
    "    import matplotlib.ticker as mtick\n",
    "    import matplotlib.pyplot as plt\n",
    "    import seaborn as sns\n",
    "    \n",
    "    with plt.style.context(('dark_background')):\n",
    "        ###  DEFINE AESTHETIC CUSTOMIZATIONS  -------------------------------##\n",
    "\n",
    "\n",
    "#         plt.style.use('dark_background')\n",
    "        figsize=(9,7)\n",
    "\n",
    "        # Axis Label fonts\n",
    "        fontTitle = {'fontsize': 14,\n",
    "                   'fontweight': 'bold',\n",
    "                    'fontfamily':'serif'}\n",
    "\n",
    "        fontAxis = {'fontsize': 12,\n",
    "                   'fontweight': 'medium',\n",
    "                    'fontfamily':'serif'}\n",
    "\n",
    "        fontTicks = {'fontsize': 8,\n",
    "                   'fontweight':'medium',\n",
    "                    'fontfamily':'serif'}\n",
    "\n",
    "        # Formatting dollar sign labels\n",
    "        fmtPrice = '${x:,.0f}'\n",
    "        tickPrice = mtick.StrMethodFormatter(fmtPrice)\n",
    "\n",
    "\n",
    "        ###  PLOTTING ----------------------------- ------------------------ ##\n",
    "\n",
    "        # Loop through dataframe to plot\n",
    "        for column in df.describe():\n",
    "#             print(f'\\nCurrent column: {column}')\n",
    "\n",
    "            # Create figure with subplots for current column\n",
    "            fig, ax = plt.subplots(figsize=figsize, ncols=2, nrows=2)\n",
    "\n",
    "            ##  SUBPLOT 1 --------------------------------------------------##\n",
    "            i,j = 0,0\n",
    "            ax[i,j].set_title(column.capitalize(),fontdict=fontTitle)\n",
    "\n",
    "            # Define graphing keyword dictionaries for distplot (Subplot 1)\n",
    "            hist_kws = {\"linewidth\": 1, \"alpha\": 1, \"color\": 'blue','edgecolor':'w'}\n",
    "            kde_kws = {\"color\": \"white\", \"linewidth\": 1, \"label\": \"KDE\"}\n",
    "\n",
    "            # Plot distplot on ax[i,j] using hist_kws and kde_kws\n",
    "            sns.distplot(df[column], norm_hist=True, kde=True,\n",
    "                         hist_kws = hist_kws, kde_kws = kde_kws,\n",
    "                         label=column+' histogram', ax=ax[i,j])\n",
    "\n",
    "\n",
    "            # Set x axis label\n",
    "            ax[i,j].set_xlabel(column.title(),fontdict=fontAxis)\n",
    "\n",
    "            # Get x-ticks, rotate labels, and return\n",
    "            xticklab1 = ax[i,j].get_xticklabels(which = 'both')\n",
    "            ax[i,j].set_xticklabels(labels=xticklab1, fontdict=fontTicks, rotation=0)\n",
    "            ax[i,j].xaxis.set_major_formatter(mtick.ScalarFormatter())\n",
    "\n",
    "\n",
    "            # Set y-label \n",
    "            ax[i,j].set_ylabel('Density',fontdict=fontAxis)\n",
    "            yticklab1=ax[i,j].get_yticklabels(which='both')\n",
    "            ax[i,j].set_yticklabels(labels=yticklab1,fontdict=fontTicks)\n",
    "            ax[i,j].yaxis.set_major_formatter(mtick.ScalarFormatter())\n",
    "\n",
    "\n",
    "            # Set y-grid\n",
    "            ax[i, j].set_axisbelow(True)\n",
    "            ax[i, j].grid(axis='y',ls='--')\n",
    "\n",
    "\n",
    "\n",
    "\n",
    "            ##  SUBPLOT 2-------------------------------------------------- ##\n",
    "            i,j = 0,1\n",
    "            ax[i,j].set_title(column.capitalize(),fontdict=fontTitle)\n",
    "\n",
    "            # Define the kwd dictionaries for scatter and regression line (subplot 2)\n",
    "            line_kws={\"color\":\"white\",\"alpha\":0.5,\"lw\":4,\"ls\":\":\"}\n",
    "            scatter_kws={'s': 2, 'alpha': 0.5,'marker':'.','color':'blue'}\n",
    "\n",
    "            # Plot regplot on ax[i,j] using line_kws and scatter_kws\n",
    "            sns.regplot(df[column], df[target], \n",
    "                        line_kws = line_kws,\n",
    "                        scatter_kws = scatter_kws,\n",
    "                        ax=ax[i,j])\n",
    "\n",
    "            # Set x-axis label\n",
    "            ax[i,j].set_xlabel(column.title(),fontdict=fontAxis)\n",
    "\n",
    "             # Get x ticks, rotate labels, and return\n",
    "            xticklab2=ax[i,j].get_xticklabels(which='both')\n",
    "            ax[i,j].set_xticklabels(labels=xticklab2,fontdict=fontTicks, rotation=0)\n",
    "            ax[i,j].xaxis.set_major_formatter(mtick.ScalarFormatter())\n",
    "\n",
    "            # Set  y-axis label\n",
    "            ax[i,j].set_ylabel(target,fontdict=fontAxis)\n",
    "\n",
    "            # Get, set, and format y-axis Price labels\n",
    "            yticklab = ax[i,j].get_yticklabels()\n",
    "            ax[i,j].set_yticklabels(yticklab,fontdict=fontTicks)\n",
    "            ax[i,j].yaxis.set_major_formatter(mtick.ScalarFormatter())\n",
    "\n",
    "    #         ax[i,j].get_yaxis().set_major_formatter(tickPrice) \n",
    "\n",
    "            # Set y-grid\n",
    "            ax[i, j].set_axisbelow(True)\n",
    "            ax[i, j].grid(axis='y',ls='--')       \n",
    "\n",
    "            ## ---------- Final layout adjustments ----------- ##\n",
    "            # Deleted unused subplots \n",
    "            fig.delaxes(ax[1,1])\n",
    "            fig.delaxes(ax[1,0])\n",
    "\n",
    "            # Optimizing spatial layout\n",
    "            fig.tight_layout()\n",
    "            figtitle=column+'_dist_regr_plots.png'\n",
    "#             plt.savefig(figtitle)\n",
    "    return "
   ]
  },
  {
   "cell_type": "markdown",
   "metadata": {
    "colab_type": "text",
    "heading_collapsed": true,
    "id": "2exBRnep4NL_"
   },
   "source": [
    "### def plot_wide_kde_mean_sem_bar()"
   ]
  },
  {
   "cell_type": "code",
   "execution_count": 7,
   "metadata": {
    "colab": {},
    "colab_type": "code",
    "hidden": true,
    "id": "NinCj-Lp4NMA"
   },
   "outputs": [],
   "source": [
    "def plot_wide_kde_thin_bar(series1,sname1, series2, sname2,**kwargs):\n",
    "    '''Plot series1 and series 2 on wide kde plot with small mean+sem bar plot.\n",
    "    **kwargs include:\n",
    "        title_var -- the variable that will appear in the title of both graphs. \n",
    "    '''\n",
    "    \n",
    "    ## ADDING add_gridspec usage\n",
    "    import pandas as pd\n",
    "    import numpy as np\n",
    "    from scipy.stats import sem\n",
    "\n",
    "    import matplotlib.pyplot as plt\n",
    "    import matplotlib as mpl\n",
    "    import matplotlib.ticker as ticker\n",
    "    %matplotlib inline\n",
    "\n",
    "    import seaborn as sns\n",
    "\n",
    "    from matplotlib import rcParams\n",
    "    from matplotlib import rc\n",
    "#     mpl.rcdefaults()\n",
    "#     rcParams['font.family'] = 'serif'\n",
    "#     rcParams['hatch.color'] = 'gray'\n",
    "#     plt.rcParams[\"axes.edgecolor\"] = \"black\"\n",
    "    mpl.rcParams['hatch.linewidth'] = 0.5\n",
    "    \n",
    "    title=series1.name\n",
    "    for k,v in kwargs.items():\n",
    "        if k.lower() == 'title_var':\n",
    "            title = v.title()\n",
    "\n",
    "    # Plot distributions of discounted vs full price groups\n",
    "#     plt.style.use('default')\n",
    "    # with plt.style.context(('tableau-colorblind10')):\n",
    "    with plt.style.context(('dark_background')):\n",
    "\n",
    "        \n",
    "\n",
    "        ## ----------- DEFINE AESTHETIC CUSTOMIZATIONS ----------- ##\n",
    "       # Axis Label fonts\n",
    "        fontSuptitle ={'fontsize': 16,\n",
    "                   'fontweight': 'bold',\n",
    "                    'fontfamily':'serif'}\n",
    "\n",
    "        fontTitle = {'fontsize': 14,\n",
    "                   'fontweight': 'medium',\n",
    "                    'fontfamily':'serif'}\n",
    "\n",
    "        fontAxis = {'fontsize': 12,\n",
    "                   'fontweight': 'medium',\n",
    "                    'fontfamily':'serif'}\n",
    "\n",
    "        fontTicks = {'fontsize': 10,\n",
    "                   'fontweight':'medium', \n",
    "                    'fontfamily':'serif'}\n",
    "\n",
    "\n",
    "        ## --------- CREATE FIG BASED ON GRIDSPEC --------- ##\n",
    "        \n",
    "        plt.suptitle(title+' of Units Sold', fontdict = fontSuptitle)\n",
    "\n",
    "        # Create fig object and declare figsize\n",
    "        fig = plt.figure(constrained_layout=True, figsize=(10,5))\n",
    "        \n",
    "        \n",
    "        # Define gridspec to create grid coordinates             \n",
    "        gs = fig.add_gridspec(nrows=1,ncols=9)\n",
    "\n",
    "        # Assign grid space to ax with add_subplot\n",
    "        ax0 = fig.add_subplot(gs[0,0:7])\n",
    "        ax1 = fig.add_subplot(gs[0,7:9])\n",
    "        \n",
    "        #Combine into 1 list\n",
    "        ax = [ax0,ax1]\n",
    "        \n",
    "        ### ------------------  SUBPLOT 1  ------------------ ###\n",
    "\n",
    "        ## --------- Defining series1 and 2 for subplot 1------- ##\n",
    "        ax[0].set_title('Distribution of '+title,fontdict=fontTitle)\n",
    "\n",
    "        # Group 1: data, label, hist_kws and kde_kws\n",
    "        plotS1 = {'data': series1, 'label': sname1.title(),\n",
    "\n",
    "                   'hist_kws' :\n",
    "                    {'edgecolor': 'white', 'color':'darkgray','alpha': 1, 'lw':1},\n",
    "                    #'hatch':'//'},\n",
    "\n",
    "                   'kde_kws':\n",
    "                    {'color':'white', 'linestyle': '-', 'linewidth':2,\n",
    "                     'label':'kde'}}\n",
    "\n",
    "        # Group 2: data, label, hist_kws and kde_kws\n",
    "        plotS2 = {'data': series2,\n",
    "                    'label': sname2.title(), \n",
    "\n",
    "                    'hist_kws' :\n",
    "                    {'edgecolor': 'white','color':'lightgreen','alpha':0.8 ,'lw':1,'hatch':'//'},\n",
    "\n",
    "\n",
    "                    'kde_kws':\n",
    "                    {'color':'darkgreen','linestyle':'-','linewidth':2,'label':'kde'}}\n",
    "        \n",
    "        # plot group 1\n",
    "        sns.distplot(plotS1['data'], label=plotS1['label'],\n",
    "                   \n",
    "                     hist_kws = plotS1['hist_kws'], kde_kws = plotS1['kde_kws'],\n",
    "                     \n",
    "                     ax=ax[0])   \n",
    "      \n",
    "\n",
    "        # plot group 2\n",
    "        sns.distplot(plotS2['data'], label=plotS2['label'],\n",
    "                     \n",
    "                     hist_kws=plotS2['hist_kws'], kde_kws = plotS2['kde_kws'],\n",
    "                     \n",
    "                     ax=ax[0])\n",
    "\n",
    "        # X label\n",
    "        xlabel = series1.name\n",
    "        xl = xlabel.replace('_',' ').title()\n",
    "        ax[0].set_xlabel(xl,fontdict=fontAxis)\n",
    "        ax[0].set_ylabel('Kernel Density Estimation',fontdict=fontAxis)\n",
    "        # ticks/legend\n",
    "        ax[0].tick_params(axis='both',labelsize=fontTicks['fontsize'])   \n",
    "        ax[0].legend()\n",
    "\n",
    "        \n",
    "#         # annotating lines with means\n",
    "#         meanS1 = np.mean(plotS1['data'])\n",
    "#         meanS2 = np.mean(plotS2['data'])\n",
    "        \n",
    "#         ax[0].axvline(meanS1, linestyle='--',label=sname1)\n",
    "#         ax[0].text(meanS1,0,f'Mean:{meanS1:.2f}',rotation=90)\n",
    "    \n",
    "#         ax[0].axvline(meanS2,color='k',linestyle='--',label=sname2)\n",
    "#         ax[0].text(meanS2,0,f'Mean:{meanS2:.2f}',rotation=90)\n",
    "        \n",
    "        \n",
    "        ### ------------------  SUBPLOT 2  ------------------ ###\n",
    "        \n",
    "        # Import scipy for error bars\n",
    "        from scipy.stats import sem\n",
    "    \n",
    "        # Declare x y group labels(x) and bar heights(y)\n",
    "        x = [plotS1['label'], plotS2['label']]\n",
    "        y = [np.mean(plotS1['data']), np.mean(plotS2['data'])]\n",
    "    \n",
    "        yerr = [sem(plotS1['data']), sem(plotS2['data'])]\n",
    "        err_kws = {'ecolor':'white','capsize':4,'capthick':2,'elinewidth':2}\n",
    "\n",
    "        # Create the bar plot\n",
    "        ax[1].bar(x,y, align='edge', edgecolor='white',linewidth=2, color =[plotS1['hist_kws']['color'],plotS2['hist_kws']['color']],\n",
    "                  yerr=yerr,error_kw=err_kws, width=0.6,)\n",
    "\n",
    "        \n",
    "        # Customize subplot 2\n",
    "        ax[1].set_title('Average '+title,fontdict=fontTitle)\n",
    "        ax[1].set_ylabel('Mean +/- SEM ',fontdict=fontAxis)\n",
    "        ax[1].set_xlabel('')\n",
    "        \n",
    "        ax[1].tick_params(axis=y,labelsize=fontTicks['fontsize'])\n",
    "        ax[1].tick_params(axis=x,labelsize=fontTicks['fontsize']) \n",
    "\n",
    "        ax1=ax[1]\n",
    "        test = ax1.get_xticklabels()\n",
    "        labels = [x.get_text() for x in test]\n",
    "        ax1.set_xticklabels([plotS1['label'],plotS2['label']], rotation=45,ha='center',fontdict=fontAxis)\n",
    "        \n",
    "        print(f\"Mean of {plotS1['label']}: {np.mean(plotS1['data'])}\\n Mean of {plotS2['label']}: {np.mean(plotS2['data'])}\")\n",
    "\n",
    "#         plt.tight_layout()\n",
    "        plt.show()\n",
    "        return fig,ax\n",
    "    \n",
    "    \n"
   ]
  },
  {
   "cell_type": "markdown",
   "metadata": {
    "colab_type": "text",
    "heading_collapsed": true,
    "id": "nkPB_HcdwwQo"
   },
   "source": [
    "### def list2df"
   ]
  },
  {
   "cell_type": "code",
   "execution_count": 8,
   "metadata": {
    "colab": {},
    "colab_type": "code",
    "hidden": true,
    "id": "TwdV-j85wwQp"
   },
   "outputs": [],
   "source": [
    "def list2df(list):#, sort_values='index'):\n",
    "    \"\"\" Take in a list where row[0] = column_names and outputs a dataframe.\n",
    "    \n",
    "    Keyword arguments:\n",
    "    set_index -- df.set_index(set_index)\n",
    "    sortby -- df.sorted()\n",
    "    \"\"\"    \n",
    "    \n",
    "    df_list = pd.DataFrame(list[1:],columns=list[0])\n",
    "#     df_list = df_list[1:]\n",
    "\n",
    "    return df_list"
   ]
  },
  {
   "cell_type": "markdown",
   "metadata": {
    "colab_type": "text",
    "heading_collapsed": true,
    "id": "ekTOehxHwwQu"
   },
   "source": [
    "### def get_col_info"
   ]
  },
  {
   "cell_type": "code",
   "execution_count": 9,
   "metadata": {
    "colab": {},
    "colab_type": "code",
    "hidden": true,
    "id": "LOaNcafFwwQv"
   },
   "outputs": [],
   "source": [
    "def  get_col_info(col_name):\n",
    "    \"\"\"Gets the column names and data types from the alchamey inspector object.\n",
    "    Returns column_info dataframe of table details.\n",
    "    \"\"\"\n",
    "    col_list = inspector.get_columns(col_name)\n",
    "    \n",
    "    column_info = [['table','column','dtype']]\n",
    "    print(f'Table Name: {col_name}\\n')\n",
    "\n",
    "    for col in col_list:\n",
    "        column_info.append([str(col_name),col['name'], col['type']])\n",
    "        \n",
    "    df = list2df(column_info)\n",
    "    return column_info"
   ]
  },
  {
   "cell_type": "markdown",
   "metadata": {
    "colab_type": "text",
    "heading_collapsed": true,
    "id": "O7Xq2RqAR0va"
   },
   "source": [
    "### def describe_outliers"
   ]
  },
  {
   "cell_type": "code",
   "execution_count": 10,
   "metadata": {
    "colab": {},
    "colab_type": "code",
    "hidden": true,
    "id": "Ne6vEM4CwwQ3"
   },
   "outputs": [],
   "source": [
    "# describe_outliers -- calls detect_outliers\n",
    "def describe_outliers(df):\n",
    "    \"\"\" Returns a new_df of outliers, and % outliers each col using detect_outliers.\n",
    "    \"\"\"\n",
    "    out_count = 0\n",
    "    new_df = pd.DataFrame(columns=['total_outliers',\n",
    "                                   'percent_total'])\n",
    "    for col in df.columns:\n",
    "        outies = detect_outliers(df[col])\n",
    "        out_count += len(outies) \n",
    "        new_df.loc[col] = [len(outies), round((len(outies)\n",
    "                                 /len(df.index))*100, 2)]\n",
    "    new_df.loc['grand_total'] = [sum(new_df['total_outliers']),\n",
    "                                 sum(new_df['percent_total'])]\n",
    "    return new_df"
   ]
  },
  {
   "cell_type": "markdown",
   "metadata": {
    "colab_type": "text",
    "heading_collapsed": true,
    "id": "XrvSuzkKwwQz"
   },
   "source": [
    "### def get_full_table_info"
   ]
  },
  {
   "cell_type": "code",
   "execution_count": 11,
   "metadata": {
    "colab": {},
    "colab_type": "code",
    "hidden": true,
    "id": "A0bruXiLwwQ0"
   },
   "outputs": [],
   "source": [
    "def  get_full_table_info(engine):\n",
    "    \"\"\"Gets the table names, their column namesand data types engine.\n",
    "    Returns column_info dataframe of table details.\n",
    "    \"\"\"\n",
    "    column_info = [['table','column','dtype']]\n",
    "    \n",
    "    list_tables= engine.table_names()\n",
    "    \n",
    "    for table in list_tables:\n",
    "        col_list = inspector.get_columns(table)\n",
    "        \n",
    "        for col in col_list:\n",
    "            column_info.append([str(table),\n",
    "                                col['name'],\n",
    "                                col['type'],\n",
    "                                col['']])\n",
    "            \n",
    "            inspector.get_foreign_keys()\n",
    "    \n",
    "    df = list2df(column_info)\n",
    "    return df"
   ]
  },
  {
   "cell_type": "markdown",
   "metadata": {
    "colab_type": "text",
    "heading_collapsed": true,
    "id": "EDLKQNdKR4Cb"
   },
   "source": [
    "### def Cohen's d "
   ]
  },
  {
   "cell_type": "code",
   "execution_count": 12,
   "metadata": {
    "colab": {},
    "colab_type": "code",
    "hidden": true,
    "id": "F_vkRMKMRO0Z"
   },
   "outputs": [],
   "source": [
    "#### Cohen's d\n",
    "def Cohen_d(group1, group2):\n",
    "    # Compute Cohen's d.\n",
    "    # group1: Series or NumPy array\n",
    "    # group2: Series or NumPy array\n",
    "    # returns a floating point number \n",
    "    diff = group1.mean() - group2.mean()\n",
    "\n",
    "    n1, n2 = len(group1), len(group2)\n",
    "    var1 = group1.var()\n",
    "    var2 = group2.var()\n",
    "\n",
    "    # Calculate the pooled threshold as shown earlier\n",
    "    pooled_var = ((n1 * var1 \n",
    "                  + n2 * var2) \n",
    "                  / (n1 + n2))\n",
    "    \n",
    "    # Calculate Cohen's d statistic\n",
    "    d = diff / np.sqrt(pooled_var)\n",
    "    \n",
    "    return d\n",
    "\n",
    "\n",
    "def plot_pdfs(cohen_d=2):\n",
    "    \"\"\"Plot PDFs for distributions that differ by some number of stds.\n",
    "    \n",
    "    cohen_d: number of standard deviations between the means\n",
    "    \"\"\"\n",
    "    group1 = scipy.stats.norm(0, 1)\n",
    "    group2 = scipy.stats.norm(cohen_d, 1)\n",
    "    xs, ys = evaluate_PDF(group1)\n",
    "    pyplot.fill_between(xs, ys,\n",
    "                        label='Group1',\n",
    "                        color='#ff2289', \n",
    "                        alpha=0.7)\n",
    "\n",
    "    xs, ys = evaluate_PDF(group2)\n",
    "    pyplot.fill_between(xs, ys, \n",
    "                        label='Group2', \n",
    "                        color='#376cb0', \n",
    "                        alpha=0.7)\n",
    "    \n",
    "    o, s = overlap_superiority(group1, group2)\n",
    "    print('overlap', o)\n",
    "    print('superiority', s)\n",
    "   "
   ]
  },
  {
   "cell_type": "code",
   "execution_count": null,
   "metadata": {
    "hidden": true
   },
   "outputs": [],
   "source": []
  },
  {
   "cell_type": "markdown",
   "metadata": {
    "heading_collapsed": true
   },
   "source": [
    "### def calc_product_price, def calc_order_total"
   ]
  },
  {
   "cell_type": "code",
   "execution_count": 13,
   "metadata": {
    "colab": {
     "base_uri": "https://localhost:8080/",
     "height": 196
    },
    "colab_type": "code",
    "hidden": true,
    "id": "05KbXlvlTvlt",
    "outputId": "6721abd7-a5e0-4f4c-9699-14e02f1d902a"
   },
   "outputs": [],
   "source": [
    "# Source of df = pd.read_sql_query(\"SELECT * FROM OrderDetail\",  engine)\n",
    "\n",
    "# Define calc_product_review to add product price column\n",
    "def calc_product_price(row):\n",
    "    '''Calculates the sub-total for the product in the row. \n",
    "    Classifies the product as OnSale or not. \n",
    "    Sub-total =  [UnitPrice*(1-Discount)*Quantity\n",
    "    \n",
    "    Returns:\n",
    "    New columns OnSale and price'''\n",
    "    \n",
    "    price = (row['UnitPrice']\n",
    "             *(1-row['Discount'])\n",
    "             *row['Quantity'])\n",
    "    \n",
    "    row['price'] = price\n",
    "    if row['Discount']>0:\n",
    "        row['OnSale'] = 1\n",
    "        \n",
    "    else:\n",
    "        row['OnSale'] = 0\n",
    "    return row    \n",
    "\n",
    "# Use calc_order_total to fill in order_total column\n",
    "def calc_order_total(row,df):\n",
    "    '''Takes in a specific row and the whole dataframe.\n",
    "    Groupby OrderID. Classify as discounted_order if any\n",
    "    item was on discount. \n",
    "    Returns row with added 'discounted_order' category and \n",
    "    'order_total' '''\n",
    "    order = row['OrderId']\n",
    "    df_temp = df.groupby('OrderId').get_group(order)\n",
    "\n",
    "    \n",
    "    if any(df_temp['OnSale']):\n",
    "        row['discounted_order'] = 1\n",
    "    else:\n",
    "        row['discounted_order'] = 0\n",
    "    \n",
    "    order_total = df_temp['price'].sum()\n",
    "    row['order_total'] = order_total\n",
    "    \n",
    "    return row"
   ]
  },
  {
   "cell_type": "markdown",
   "metadata": {
    "colab_type": "text",
    "hidden": true,
    "id": "3_vNJ71YdowX"
   },
   "source": [
    "#### def quant_transform "
   ]
  },
  {
   "cell_type": "code",
   "execution_count": 14,
   "metadata": {
    "colab": {},
    "colab_type": "code",
    "hidden": true,
    "id": "B153AuFidowY"
   },
   "outputs": [],
   "source": [
    "# TRANSFORM DATA BEFORE RE-CALLING ORIGINAL normtest_results\n",
    "def quant_transform(data_in):\n",
    "    '''Use sklearn.preprocessing.QuantileTransformer to remove outliers from dataset.\n",
    "    \n",
    "    Parameters:\n",
    "        data_in (dict) -- dictionary with data series as values to be processed.\n",
    "    Returns: \n",
    "        data_tf (dict) -- dicionary of same keys from data_in, but transformed.\n",
    "        '''\n",
    "    \n",
    "    from sklearn import preprocessing as prep \n",
    "    from sklearn.preprocessing import QuantileTransformer\n",
    "\n",
    "    qt =  QuantileTransformer(n_quantiles=10,output_distribution='normal')\n",
    "    data_tf = {}\n",
    "    for k,v in data_in.items():    \n",
    "        data = np.array(v).reshape(-1,1)\n",
    "        transformed = pd.Series(np.squeeze(qt.fit_transform(data)))\n",
    "\n",
    "        data_tf[k] = transformed\n",
    "    \n",
    "    return data_tf"
   ]
  },
  {
   "cell_type": "markdown",
   "metadata": {
    "colab_type": "text",
    "id": "cC9pxUInUYo9"
   },
   "source": [
    "## Define plotting functions for looking at each month individually \n"
   ]
  },
  {
   "cell_type": "markdown",
   "metadata": {
    "colab_type": "text",
    "id": "cPcTIgoDX4u-"
   },
   "source": [
    "### def make_violinplot"
   ]
  },
  {
   "cell_type": "code",
   "execution_count": 15,
   "metadata": {
    "colab": {},
    "colab_type": "code",
    "id": "iR1kdhfiT8J_"
   },
   "outputs": [],
   "source": [
    "# plotting order totals per month in violin plots\n",
    "\n",
    "def draw_violinplot(x , y, hue=None, data=None, title=None,\n",
    "                    ticklabels=None, leg_label=None):\n",
    "    \n",
    "    '''Plots a violin plot with horizontal mean line, inner stick lines\n",
    "    y must be array like in order to plot mean line. x can be label in data'''\n",
    "#     plt.style.use('dark_backm')\n",
    "    \n",
    "    fig,ax = plt.subplots(figsize=(12,10))\n",
    "\n",
    "    ax = sns.violinplot(x, y, hue=hue,\n",
    "                   data = data,\n",
    "                   cut=2,\n",
    "                   split=True, \n",
    "                   scale='count',\n",
    "                   scale_hue=True,\n",
    "                   saturation=.7,\n",
    "                   alpha=.9, \n",
    "                   bw=.25,\n",
    "                   palette='Dark2',\n",
    "                   inner='stick'\n",
    "                  ).set_title(title)\n",
    "    \n",
    "    ax.set(xlabel= x.name.title(),\n",
    "           ylabel= y.name.title(),\n",
    "           xticklabels=ticks)\n",
    "    \n",
    "    ax.axhline( y.mean(),\n",
    "               label='Total Mean',\n",
    "               ls=':',\n",
    "               alpha=.2, \n",
    "               color='xkcd:yellow')\n",
    "    \n",
    "    ax.legend().set_title(leg_label)\n",
    "\n",
    "    plt.show()\n",
    "    return fig, ax"
   ]
  },
  {
   "cell_type": "markdown",
   "metadata": {
    "colab_type": "text",
    "id": "5ZXCOjzFbspu"
   },
   "source": [
    "### def make-stripplot"
   ]
  },
  {
   "cell_type": "code",
   "execution_count": 16,
   "metadata": {
    "colab": {},
    "colab_type": "code",
    "id": "S9Yyn3cBbw7r"
   },
   "outputs": [],
   "source": [
    "def make_stripplot(x, y, title=None, hue=None, ticklabels=None):\n",
    "\n",
    "    with plt.style.context('dark_background'):\n",
    "        fig,ax =plt.subplots(figsize=(8,6))\n",
    "\n",
    "\n",
    "        sns.stripplot(x, y, jitter=True, size=12,edgecolor='gray',linewidth=1.5, alpha=.5, palette='Dark2',marker='d', hue=hue).set_title(title)\n",
    "\n",
    "        ax.axhline(y.mean(),label='total mean', ls=':', alpha=.5, color='xkcd:yellow')\n",
    "        ax.set_xticklabels(ticklabels)\n",
    "\n",
    "        plt.legend()\n",
    "        plt.show()\n",
    "        \n",
    "    return fig, ax\n"
   ]
  },
  {
   "cell_type": "markdown",
   "metadata": {
    "colab_type": "text",
    "id": "cBrj92x2Us3C"
   },
   "source": [
    "### def draw_histograms"
   ]
  },
  {
   "cell_type": "code",
   "execution_count": 17,
   "metadata": {
    "colab": {},
    "colab_type": "code",
    "id": "3LvINQTiUO6y"
   },
   "outputs": [],
   "source": [
    "plt.style.use('default')\n",
    "def draw_histograms(df, variable, sample_dict, n_rows, n_cols):\n",
    "\n",
    "  '''Takes dataframe, variable is column name , plots histograms '''\n",
    "  \n",
    "  with plt.style.context('seaborn-paper'):\n",
    "\n",
    "    fig = plt.figure(figsize=(10,10))\n",
    "\n",
    "    for k,v in sample_dict.items():\n",
    "\n",
    "      month = df[df[variable] == k]['order_total']\n",
    "      month_mean = round(np.mean(month),2)\n",
    "\n",
    "      year =  df[df['month'] != k]['order_total']\n",
    "      year_mean = round(np.mean(year),2)\n",
    "\n",
    "      ax = fig.add_subplot(n_rows,n_cols,k)\n",
    "      ax.tick_params(labelsize=8)\n",
    "\n",
    "      plt.hist(year, bins=90,alpha=.7, label='Rest of Year')\n",
    "      plt.hist(month, alpha=.6,label= v.title())\n",
    "\n",
    "      ax.set_title(v.title(),fontsize=14)\n",
    "\n",
    "      plt.axvline(month_mean, color='xkcd:fuchsia',linestyle='--',\n",
    "                  label='Sample Mean \\n'+str(month_mean))\n",
    "\n",
    "      plt.axvline(year_mean,color='xkcd:green',linestyle='-',\n",
    "                  label='Pop. Mean \\n'+str(year_mean))\n",
    "\n",
    "      plt.legend(fontsize=6, frameon=False, ncol = 2 )\n",
    "\n",
    "    fig.tight_layout()    \n",
    "    plt.show()"
   ]
  },
  {
   "cell_type": "markdown",
   "metadata": {
    "colab_type": "text",
    "id": "kR6ajM4YVH3z"
   },
   "source": [
    "### def draw_histograms_sample "
   ]
  },
  {
   "cell_type": "code",
   "execution_count": 18,
   "metadata": {
    "colab": {},
    "colab_type": "code",
    "id": "b290y-7DVQg_"
   },
   "outputs": [],
   "source": [
    "def draw_histograms_from_sample(population,sample, sample_dict, n_rows, n_cols):\n",
    "\n",
    "  fig = plt.figure(figsize=(8.5,7.5))\n",
    "  count = 0\n",
    "  \n",
    "  for k,v in sample_dict.items():\n",
    "    \n",
    "    count += 1                        \n",
    "\n",
    "    month = sample_dict[k] #pop_samp_month_dict[k]\n",
    "    month_mean = round(np.mean(v),2)\n",
    "    \n",
    "    year = population\n",
    "    year_mean = round(np.mean(population),2)\n",
    "\n",
    "    ax = fig.add_subplot(n_rows,n_cols, count)\n",
    "    ax.tick_params(labelsize=8)\n",
    "\n",
    "    plt.hist(year, alpha=.8, label='All Months')\n",
    "    plt.hist(month, alpha=.6, label = v.title())\n",
    "\n",
    "    ax.set_title(k.title(),fontsize=14)\n",
    "\n",
    "    plt.axvline(month_mean, color='xkcd:fuchsia',linestyle='--',\n",
    "                label='Sample Mean \\n'+str(month_mean))\n",
    "    plt.axvline(year_mean,color='xkcd:green',linestyle='-',\n",
    "                label='Pop. Mean \\n'+str(year_mean))\n",
    "    \n",
    "    plt.legend(fontsize=6, frameon=False)\n",
    "    \n",
    "  fig.tight_layout()    \n",
    "  plt.show()"
   ]
  },
  {
   "cell_type": "markdown",
   "metadata": {},
   "source": [
    "### def tukey_table"
   ]
  },
  {
   "cell_type": "code",
   "execution_count": 19,
   "metadata": {},
   "outputs": [],
   "source": [
    "def tukey_table(tukey_results):\n",
    "    ''' Accepts the output of the tukey hsd test and returns it as a dataframe.'''\n",
    "    table_tukey = pd.DataFrame(data=tukey_results._results_table.data[1:], columns=tukey_results._results_table.data[0])\n",
    "    return table_tukey"
   ]
  },
  {
   "cell_type": "markdown",
   "metadata": {
    "colab_type": "text",
    "id": "JbpLynD4pEbK"
   },
   "source": [
    "### Importing and setting pandas dataframe options"
   ]
  },
  {
   "cell_type": "markdown",
   "metadata": {
    "colab_type": "text",
    "id": "sm80dpULk7OR"
   },
   "source": [
    "\n",
    "##### TESTING TABLE METHODS"
   ]
  },
  {
   "cell_type": "markdown",
   "metadata": {
    "colab_type": "text",
    "id": "N4R_MpKSxjw6"
   },
   "source": []
  },
  {
   "cell_type": "code",
   "execution_count": 20,
   "metadata": {
    "colab": {},
    "colab_type": "code",
    "id": "F9JTuAMEgs40"
   },
   "outputs": [
    {
     "data": {
      "text/html": [
       "<style>CSS = \"\"\"\n",
       "body {\n",
       "    margin: 0;\n",
       "    font-family: serif;\n",
       "    text-align: center;\n",
       "    font-weight: bold;\n",
       "}\n",
       "table.dataframe {\n",
       "    border-collapse: collapse;\n",
       "    border: 1px solid black;\n",
       "}\n",
       "table.dataframe tr {\n",
       "    border: 1px solid black;\n",
       "}\n",
       "table.dataframe td, table.dataframe th {\n",
       "    margin: 0.1;\n",
       "    border: 1px solid white;\n",
       "    padding-left: 0.5em;\n",
       "    padding-right: 0.5em;\n",
       "}\n",
       "table.dataframe th:not(:empty) {\n",
       "    background-color: #000000;\n",
       "    color: #ffffff;\n",
       "    text-align: center;\n",
       "    font-weight: bold;\n",
       "}\n",
       "table.dataframe tr:nth-child(2) th:empty {\n",
       "    border-left: none;\n",
       "    border-right: 1px dashed #888;\n",
       "}\n",
       "table.dataframe td {\n",
       "    border: 1px solid ##e8e8ea;\n",
       "    background-color: ##e8e8ea;\n",
       "    text-align: center; \n",
       "}\n",
       "\"\"\"</style>"
      ],
      "text/plain": [
       "<IPython.core.display.HTML object>"
      ]
     },
     "execution_count": 20,
     "metadata": {},
     "output_type": "execute_result"
    }
   ],
   "source": [
    "import numpy as np\n",
    "import pandas as pd\n",
    "import matplotlib.pyplot as plt\n",
    "%matplotlib inline\n",
    "import seaborn as sns\n",
    "\n",
    "# from IPython.core import display\n",
    "from IPython.core.display import HTML\n",
    "from IPython.display import display\n",
    "f = open('CSS.css','r')\n",
    "HTML('<style>{}</style>'.format(f.read()))\n"
   ]
  },
  {
   "cell_type": "code",
   "execution_count": 21,
   "metadata": {},
   "outputs": [],
   "source": [
    "# Using built-in pandas styling\n",
    "pd.set_option('colheader_justify','center')\n",
    "pd.set_option('precision',3)\n",
    "\n",
    "# def highlight_sig(s,alpha,column):\n",
    "#     is_sig = pd.Series(data=False, index=s.index)\n",
    "#     is_sig[column] = s.loc[column] <= threshold\n",
    "#     print(type(is_sig))\n",
    "#     return ['background-color: yellow' if is_sig.any() else '' for v in is_sig]\n",
    "\n",
    "\n",
    "# df.style.apply(highlight_sig,threshold=1.0,column=['C','B'], axis=1)"
   ]
  },
  {
   "cell_type": "markdown",
   "metadata": {
    "colab_type": "text",
    "id": "WnE1XlB9eJ8d"
   },
   "source": [
    "___\n"
   ]
  },
  {
   "cell_type": "markdown",
   "metadata": {
    "colab_type": "text",
    "id": "7rzJx4u8wwQL"
   },
   "source": [
    "___\n",
    "\n",
    "\n",
    "# **EXPERIMENTAL DESIGN AND HYPOTHESIS**\n",
    "\n",
    "You will need query the database to get the data needed to perform a statistical analysis.  In this statistical analysis, **you'll need to perform a hypothesis test (or perhaps several) to answer the following question:**\n",
    "\n",
    "\n",
    "\n",
    "\n",
    "#### Hypothesis 1:\n",
    "> **Do discounts have a statistically significant effect on the number of products customers order?**\n",
    "> **If so, at what level(s) of discount?**\n",
    "\n",
    "\n",
    "- $H_1$ : Products that are discounted sell in higher quantities.\n",
    "\n",
    "- $H_0$ : Products that are discounted sell the same quantities as full-proce products.\n",
    "\n",
    "\n",
    "<br>\n",
    "\n",
    "#### Hypothesis 2:\n",
    "> **Do customers spend more money if they are buying discounted items?**\n",
    "\n",
    "- $H_1$: Customers spend more money overall when their order includes discounted items.\n",
    "\n",
    "- $H_0$: Customers spend the same amount regardless of discounted items. \n",
    "\n",
    "<br>\n",
    "\n",
    "\n",
    "#### Hypothesis 3:\n",
    "\n",
    "> **Does the time of year affect quantity of items sold?**\n",
    "\n",
    "- $H_1$ = THe month an order is placed relates to either a higher or lower mean quantity of items sold.\n",
    "- $H_0$ = The month of an order has no affect on the mean quantity of items sold.\n",
    "\n",
    "<br>\n",
    "\n",
    "#### Hypothesis 4:\n",
    "> **Do different countries respond to discounts differently?**\n",
    "\n",
    "- $H_1$: Different countries purchase different quantities of discounted vs non discounted products. \n",
    "- $H_0$: All countries purchase the same quantities of discounted vs non discounted products. \n",
    "<br>\n"
   ]
  },
  {
   "cell_type": "markdown",
   "metadata": {
    "colab_type": "text",
    "id": "7rzJx4u8wwQL"
   },
   "source": [
    "___\n",
    "\n",
    "\n",
    "# **EXPERIMENTAL DESIGN AND HYPOTHESIS + Summary Tables**\n",
    "\n",
    "You will need query the database to get the data needed to perform a statistical analysis.  In this statistical analysis, **you'll need to perform a hypothesis test (or perhaps several) to answer the following question:**"
   ]
  },
  {
   "cell_type": "markdown",
   "metadata": {
    "colab_type": "text",
    "id": "7rzJx4u8wwQL"
   },
   "source": [
    "### Hypothesis 1:\n",
    "> **Do discounts have a statistically significant effect on the number of products customers order?**\n",
    "> **If so, at what level(s) of discount?**\n",
    "\n",
    "\n",
    "- $H_1$ : Products that are discounted sell in higher quantities.\n",
    "\n",
    "- $H_0$ : Products that are discounted sell the same quantities as full-price products."
   ]
  },
  {
   "cell_type": "code",
   "execution_count": 22,
   "metadata": {},
   "outputs": [
    {
     "data": {
      "text/html": [
       "<table border=\"1\" class=\"dataframe\">\n",
       "  <thead>\n",
       "    <tr style=\"text-align: center;\">\n",
       "      <th></th>\n",
       "      <th>H#</th>\n",
       "      <th>Group</th>\n",
       "      <th>mean</th>\n",
       "      <th>sem</th>\n",
       "      <th>std</th>\n",
       "      <th>n</th>\n",
       "    </tr>\n",
       "  </thead>\n",
       "  <tbody>\n",
       "    <tr>\n",
       "      <th>0</th>\n",
       "      <td>H1</td>\n",
       "      <td>A:['Discount'] &gt; 0</td>\n",
       "      <td>27.11</td>\n",
       "      <td>0.72</td>\n",
       "      <td>20.76</td>\n",
       "      <td>838</td>\n",
       "    </tr>\n",
       "    <tr>\n",
       "      <th>1</th>\n",
       "      <td>H1</td>\n",
       "      <td>B:['Discount'] == 0</td>\n",
       "      <td>21.72</td>\n",
       "      <td>0.48</td>\n",
       "      <td>17.50</td>\n",
       "      <td>1317</td>\n",
       "    </tr>\n",
       "  </tbody>\n",
       "</table>"
      ],
      "text/plain": [
       "<IPython.core.display.HTML object>"
      ]
     },
     "execution_count": 22,
     "metadata": {},
     "output_type": "execute_result"
    }
   ],
   "source": [
    "HTML(filename=data_filepath+'table_H1_mean_sem.html')"
   ]
  },
  {
   "cell_type": "code",
   "execution_count": 23,
   "metadata": {},
   "outputs": [
    {
     "data": {
      "text/html": [
       "<table border=\"1\" class=\"dataframe\">\n",
       "  <thead>\n",
       "    <tr style=\"text-align: center;\">\n",
       "      <th></th>\n",
       "      <th>Group:</th>\n",
       "      <th>TestName</th>\n",
       "      <th>Test Purpose</th>\n",
       "      <th>stat</th>\n",
       "      <th>p</th>\n",
       "      <th>p&lt;.05?</th>\n",
       "    </tr>\n",
       "  </thead>\n",
       "  <tbody>\n",
       "    <tr>\n",
       "      <th>0</th>\n",
       "      <td>A: ['Discount'] &gt; 0</td>\n",
       "      <td>normaltest</td>\n",
       "      <td>Normality</td>\n",
       "      <td>261.528</td>\n",
       "      <td>1.62e-57</td>\n",
       "      <td>True</td>\n",
       "    </tr>\n",
       "    <tr>\n",
       "      <th>1</th>\n",
       "      <td>B: ['Discount'] == 0</td>\n",
       "      <td>normaltest</td>\n",
       "      <td>Normality</td>\n",
       "      <td>544.577</td>\n",
       "      <td>5.58e-119</td>\n",
       "      <td>True</td>\n",
       "    </tr>\n",
       "    <tr>\n",
       "      <th>2</th>\n",
       "      <td>A&amp;B</td>\n",
       "      <td>stats.levene</td>\n",
       "      <td>Equal Var</td>\n",
       "      <td>14.833</td>\n",
       "      <td>0.000121</td>\n",
       "      <td>True</td>\n",
       "    </tr>\n",
       "    <tr>\n",
       "      <th>3</th>\n",
       "      <td>A vs. B</td>\n",
       "      <td>stats.mannwhitneyu</td>\n",
       "      <td>H1_sig</td>\n",
       "      <td>642105.000</td>\n",
       "      <td>6.63e-11</td>\n",
       "      <td>True</td>\n",
       "    </tr>\n",
       "    <tr>\n",
       "      <th>4</th>\n",
       "      <td>A vs. B</td>\n",
       "      <td>Cohen's d</td>\n",
       "      <td>Effect Size</td>\n",
       "      <td>0.286</td>\n",
       "      <td>--</td>\n",
       "      <td>--</td>\n",
       "    </tr>\n",
       "  </tbody>\n",
       "</table>"
      ],
      "text/plain": [
       "<IPython.core.display.HTML object>"
      ]
     },
     "execution_count": 23,
     "metadata": {},
     "output_type": "execute_result"
    }
   ],
   "source": [
    "HTML(filename=data_filepath+'table_H1_test_results.html')"
   ]
  },
  {
   "cell_type": "code",
   "execution_count": 24,
   "metadata": {},
   "outputs": [
    {
     "data": {
      "text/html": [
       "<table border=\"1\" class=\"dataframe\">\n",
       "  <thead>\n",
       "    <tr style=\"text-align: center;\">\n",
       "      <th></th>\n",
       "      <th>group1</th>\n",
       "      <th>group2</th>\n",
       "      <th>meandiff</th>\n",
       "      <th>lower</th>\n",
       "      <th>upper</th>\n",
       "      <th>reject</th>\n",
       "    </tr>\n",
       "  </thead>\n",
       "  <tbody>\n",
       "    <tr>\n",
       "      <th>0</th>\n",
       "      <td>(-0.05, 0.0]</td>\n",
       "      <td>(0.0, 0.05]</td>\n",
       "      <td>5.337</td>\n",
       "      <td>1.184</td>\n",
       "      <td>9.489</td>\n",
       "      <td>True</td>\n",
       "    </tr>\n",
       "    <tr>\n",
       "      <th>1</th>\n",
       "      <td>(-0.05, 0.0]</td>\n",
       "      <td>(0.05, 0.1]</td>\n",
       "      <td>3.388</td>\n",
       "      <td>-0.948</td>\n",
       "      <td>7.724</td>\n",
       "      <td>False</td>\n",
       "    </tr>\n",
       "    <tr>\n",
       "      <th>2</th>\n",
       "      <td>(-0.05, 0.0]</td>\n",
       "      <td>(0.1, 0.15]</td>\n",
       "      <td>6.667</td>\n",
       "      <td>2.128</td>\n",
       "      <td>11.206</td>\n",
       "      <td>True</td>\n",
       "    </tr>\n",
       "    <tr>\n",
       "      <th>3</th>\n",
       "      <td>(-0.05, 0.0]</td>\n",
       "      <td>(0.15, 0.2]</td>\n",
       "      <td>5.310</td>\n",
       "      <td>0.822</td>\n",
       "      <td>9.798</td>\n",
       "      <td>True</td>\n",
       "    </tr>\n",
       "    <tr>\n",
       "      <th>4</th>\n",
       "      <td>(-0.05, 0.0]</td>\n",
       "      <td>(0.2, 0.25]</td>\n",
       "      <td>6.525</td>\n",
       "      <td>1.947</td>\n",
       "      <td>11.103</td>\n",
       "      <td>True</td>\n",
       "    </tr>\n",
       "    <tr>\n",
       "      <th>5</th>\n",
       "      <td>(0.0, 0.05]</td>\n",
       "      <td>(0.05, 0.1]</td>\n",
       "      <td>-1.949</td>\n",
       "      <td>-7.575</td>\n",
       "      <td>3.678</td>\n",
       "      <td>False</td>\n",
       "    </tr>\n",
       "    <tr>\n",
       "      <th>6</th>\n",
       "      <td>(0.0, 0.05]</td>\n",
       "      <td>(0.1, 0.15]</td>\n",
       "      <td>1.330</td>\n",
       "      <td>-4.454</td>\n",
       "      <td>7.114</td>\n",
       "      <td>False</td>\n",
       "    </tr>\n",
       "    <tr>\n",
       "      <th>7</th>\n",
       "      <td>(0.0, 0.05]</td>\n",
       "      <td>(0.15, 0.2]</td>\n",
       "      <td>-0.027</td>\n",
       "      <td>-5.772</td>\n",
       "      <td>5.717</td>\n",
       "      <td>False</td>\n",
       "    </tr>\n",
       "    <tr>\n",
       "      <th>8</th>\n",
       "      <td>(0.0, 0.05]</td>\n",
       "      <td>(0.2, 0.25]</td>\n",
       "      <td>1.188</td>\n",
       "      <td>-4.627</td>\n",
       "      <td>7.003</td>\n",
       "      <td>False</td>\n",
       "    </tr>\n",
       "    <tr>\n",
       "      <th>9</th>\n",
       "      <td>(0.05, 0.1]</td>\n",
       "      <td>(0.1, 0.15]</td>\n",
       "      <td>3.279</td>\n",
       "      <td>-2.639</td>\n",
       "      <td>9.196</td>\n",
       "      <td>False</td>\n",
       "    </tr>\n",
       "    <tr>\n",
       "      <th>10</th>\n",
       "      <td>(0.05, 0.1]</td>\n",
       "      <td>(0.15, 0.2]</td>\n",
       "      <td>1.921</td>\n",
       "      <td>-3.957</td>\n",
       "      <td>7.800</td>\n",
       "      <td>False</td>\n",
       "    </tr>\n",
       "    <tr>\n",
       "      <th>11</th>\n",
       "      <td>(0.05, 0.1]</td>\n",
       "      <td>(0.2, 0.25]</td>\n",
       "      <td>3.137</td>\n",
       "      <td>-2.811</td>\n",
       "      <td>9.084</td>\n",
       "      <td>False</td>\n",
       "    </tr>\n",
       "    <tr>\n",
       "      <th>12</th>\n",
       "      <td>(0.1, 0.15]</td>\n",
       "      <td>(0.15, 0.2]</td>\n",
       "      <td>-1.357</td>\n",
       "      <td>-7.387</td>\n",
       "      <td>4.672</td>\n",
       "      <td>False</td>\n",
       "    </tr>\n",
       "    <tr>\n",
       "      <th>13</th>\n",
       "      <td>(0.1, 0.15]</td>\n",
       "      <td>(0.2, 0.25]</td>\n",
       "      <td>-0.142</td>\n",
       "      <td>-6.239</td>\n",
       "      <td>5.955</td>\n",
       "      <td>False</td>\n",
       "    </tr>\n",
       "    <tr>\n",
       "      <th>14</th>\n",
       "      <td>(0.15, 0.2]</td>\n",
       "      <td>(0.2, 0.25]</td>\n",
       "      <td>1.215</td>\n",
       "      <td>-4.844</td>\n",
       "      <td>7.275</td>\n",
       "      <td>False</td>\n",
       "    </tr>\n",
       "  </tbody>\n",
       "</table>"
      ],
      "text/plain": [
       "<IPython.core.display.HTML object>"
      ]
     },
     "execution_count": 24,
     "metadata": {},
     "output_type": "execute_result"
    }
   ],
   "source": [
    "HTML(filename=data_filepath+'table_H1_tukey.html')"
   ]
  },
  {
   "cell_type": "markdown",
   "metadata": {
    "colab_type": "text",
    "id": "7rzJx4u8wwQL"
   },
   "source": [
    "### Hypothesis 2:\n",
    "> **Do customers spend more money if they are buying discounted items?**\n",
    "\n",
    "- $H_1$: Customers spend more money overall when their order includes discounted items.\n",
    "\n",
    "- $H_0$: Customers spend the same amount regardless of discounted items. \n",
    "\n",
    "<br>"
   ]
  },
  {
   "cell_type": "code",
   "execution_count": 25,
   "metadata": {},
   "outputs": [
    {
     "data": {
      "text/html": [
       "<table border=\"1\" class=\"dataframe\">\n",
       "  <thead>\n",
       "    <tr style=\"text-align: center;\">\n",
       "      <th></th>\n",
       "      <th>H#</th>\n",
       "      <th>Group</th>\n",
       "      <th>mean</th>\n",
       "      <th>sem</th>\n",
       "      <th>std</th>\n",
       "      <th>n</th>\n",
       "    </tr>\n",
       "  </thead>\n",
       "  <tbody>\n",
       "    <tr>\n",
       "      <th>0</th>\n",
       "      <td>H2</td>\n",
       "      <td>A:['discounted_order'] == True</td>\n",
       "      <td>1702.35</td>\n",
       "      <td>97.08</td>\n",
       "      <td>1889.96</td>\n",
       "      <td>380</td>\n",
       "    </tr>\n",
       "    <tr>\n",
       "      <th>1</th>\n",
       "      <td>H2</td>\n",
       "      <td>B:['discounted_order'] == False</td>\n",
       "      <td>1375.33</td>\n",
       "      <td>84.51</td>\n",
       "      <td>1790.79</td>\n",
       "      <td>450</td>\n",
       "    </tr>\n",
       "  </tbody>\n",
       "</table>"
      ],
      "text/plain": [
       "<IPython.core.display.HTML object>"
      ]
     },
     "execution_count": 25,
     "metadata": {},
     "output_type": "execute_result"
    }
   ],
   "source": [
    "HTML(filename=data_filepath+'table_H2_mean_sem.html')"
   ]
  },
  {
   "cell_type": "code",
   "execution_count": 26,
   "metadata": {},
   "outputs": [
    {
     "data": {
      "text/html": [
       "<table border=\"1\" class=\"dataframe\">\n",
       "  <thead>\n",
       "    <tr style=\"text-align: center;\">\n",
       "      <th></th>\n",
       "      <th>Group:</th>\n",
       "      <th>TestName</th>\n",
       "      <th>Test Purpose</th>\n",
       "      <th>stat</th>\n",
       "      <th>p</th>\n",
       "      <th>p&lt;.05?</th>\n",
       "    </tr>\n",
       "  </thead>\n",
       "  <tbody>\n",
       "    <tr>\n",
       "      <th>0</th>\n",
       "      <td>A: ['discounted_order'] == True</td>\n",
       "      <td>normaltest</td>\n",
       "      <td>Normality</td>\n",
       "      <td>309.857</td>\n",
       "      <td>5.19e-68</td>\n",
       "      <td>True</td>\n",
       "    </tr>\n",
       "    <tr>\n",
       "      <th>1</th>\n",
       "      <td>B: ['discounted_order'] == False</td>\n",
       "      <td>normaltest</td>\n",
       "      <td>Normality</td>\n",
       "      <td>368.409</td>\n",
       "      <td>1e-80</td>\n",
       "      <td>True</td>\n",
       "    </tr>\n",
       "    <tr>\n",
       "      <th>2</th>\n",
       "      <td>A&amp;B</td>\n",
       "      <td>stats.levene</td>\n",
       "      <td>Equal Var</td>\n",
       "      <td>0.714</td>\n",
       "      <td>0.398</td>\n",
       "      <td>False</td>\n",
       "    </tr>\n",
       "    <tr>\n",
       "      <th>3</th>\n",
       "      <td>A vs. B</td>\n",
       "      <td>stats.mannwhitneyu</td>\n",
       "      <td>H2_sig</td>\n",
       "      <td>102021.000</td>\n",
       "      <td>7.9e-07</td>\n",
       "      <td>True</td>\n",
       "    </tr>\n",
       "    <tr>\n",
       "      <th>4</th>\n",
       "      <td>A vs. B</td>\n",
       "      <td>Cohen's d</td>\n",
       "      <td>Effect Size</td>\n",
       "      <td>0.178</td>\n",
       "      <td>--</td>\n",
       "      <td>--</td>\n",
       "    </tr>\n",
       "  </tbody>\n",
       "</table>"
      ],
      "text/plain": [
       "<IPython.core.display.HTML object>"
      ]
     },
     "execution_count": 26,
     "metadata": {},
     "output_type": "execute_result"
    }
   ],
   "source": [
    "HTML(filename=data_filepath+'table_H2_test_results.html')"
   ]
  },
  {
   "cell_type": "code",
   "execution_count": 27,
   "metadata": {},
   "outputs": [],
   "source": [
    "# HTML(filename=data_filepath+'table_H2_tukey.html')"
   ]
  },
  {
   "cell_type": "markdown",
   "metadata": {
    "colab_type": "text",
    "id": "7rzJx4u8wwQL"
   },
   "source": [
    "### Hypothesis 3:\n",
    "\n",
    "> **Does the time of year affect quantity of items sold?**\n",
    "\n",
    "- $H_1$ = THe month an order is placed relates to either a higher or lower mean quantity of items sold.\n",
    "- $H_0$ = The month of an order has no affect on the mean quantity of items sold.\n",
    "\n",
    "<br>"
   ]
  },
  {
   "cell_type": "code",
   "execution_count": 28,
   "metadata": {},
   "outputs": [
    {
     "data": {
      "text/html": [
       "<table border=\"1\" class=\"dataframe\">\n",
       "  <thead>\n",
       "    <tr style=\"text-align: center;\">\n",
       "      <th></th>\n",
       "      <th>H#</th>\n",
       "      <th>Group</th>\n",
       "      <th>mean</th>\n",
       "      <th>sem</th>\n",
       "      <th>std</th>\n",
       "      <th>n</th>\n",
       "    </tr>\n",
       "  </thead>\n",
       "  <tbody>\n",
       "    <tr>\n",
       "      <th>0</th>\n",
       "      <td>H3</td>\n",
       "      <td>jan</td>\n",
       "      <td>1766.82</td>\n",
       "      <td>229.22</td>\n",
       "      <td>2150.24</td>\n",
       "      <td>88</td>\n",
       "    </tr>\n",
       "    <tr>\n",
       "      <th>1</th>\n",
       "      <td>H3</td>\n",
       "      <td>feb</td>\n",
       "      <td>1661.43</td>\n",
       "      <td>284.95</td>\n",
       "      <td>2596.02</td>\n",
       "      <td>83</td>\n",
       "    </tr>\n",
       "    <tr>\n",
       "      <th>2</th>\n",
       "      <td>H3</td>\n",
       "      <td>mar</td>\n",
       "      <td>1392.25</td>\n",
       "      <td>195.75</td>\n",
       "      <td>1986.62</td>\n",
       "      <td>103</td>\n",
       "    </tr>\n",
       "    <tr>\n",
       "      <th>3</th>\n",
       "      <td>H3</td>\n",
       "      <td>apr</td>\n",
       "      <td>1684.11</td>\n",
       "      <td>210.21</td>\n",
       "      <td>2154.00</td>\n",
       "      <td>105</td>\n",
       "    </tr>\n",
       "    <tr>\n",
       "      <th>4</th>\n",
       "      <td>H3</td>\n",
       "      <td>may</td>\n",
       "      <td>1567.72</td>\n",
       "      <td>261.78</td>\n",
       "      <td>1775.48</td>\n",
       "      <td>46</td>\n",
       "    </tr>\n",
       "    <tr>\n",
       "      <th>5</th>\n",
       "      <td>H3</td>\n",
       "      <td>jun</td>\n",
       "      <td>1212.09</td>\n",
       "      <td>152.38</td>\n",
       "      <td>834.60</td>\n",
       "      <td>30</td>\n",
       "    </tr>\n",
       "    <tr>\n",
       "      <th>6</th>\n",
       "      <td>H3</td>\n",
       "      <td>jul</td>\n",
       "      <td>1434.23</td>\n",
       "      <td>204.70</td>\n",
       "      <td>1518.10</td>\n",
       "      <td>55</td>\n",
       "    </tr>\n",
       "    <tr>\n",
       "      <th>7</th>\n",
       "      <td>H3</td>\n",
       "      <td>aug</td>\n",
       "      <td>1254.71</td>\n",
       "      <td>141.29</td>\n",
       "      <td>1076.03</td>\n",
       "      <td>58</td>\n",
       "    </tr>\n",
       "    <tr>\n",
       "      <th>8</th>\n",
       "      <td>H3</td>\n",
       "      <td>sep</td>\n",
       "      <td>1366.84</td>\n",
       "      <td>172.44</td>\n",
       "      <td>1335.75</td>\n",
       "      <td>60</td>\n",
       "    </tr>\n",
       "    <tr>\n",
       "      <th>9</th>\n",
       "      <td>H3</td>\n",
       "      <td>oct</td>\n",
       "      <td>1629.14</td>\n",
       "      <td>209.65</td>\n",
       "      <td>1677.23</td>\n",
       "      <td>64</td>\n",
       "    </tr>\n",
       "    <tr>\n",
       "      <th>10</th>\n",
       "      <td>H3</td>\n",
       "      <td>nov</td>\n",
       "      <td>1510.74</td>\n",
       "      <td>215.25</td>\n",
       "      <td>1653.36</td>\n",
       "      <td>59</td>\n",
       "    </tr>\n",
       "    <tr>\n",
       "      <th>11</th>\n",
       "      <td>H3</td>\n",
       "      <td>dec</td>\n",
       "      <td>1476.43</td>\n",
       "      <td>164.97</td>\n",
       "      <td>1466.33</td>\n",
       "      <td>79</td>\n",
       "    </tr>\n",
       "  </tbody>\n",
       "</table>"
      ],
      "text/plain": [
       "<IPython.core.display.HTML object>"
      ]
     },
     "execution_count": 28,
     "metadata": {},
     "output_type": "execute_result"
    }
   ],
   "source": [
    "HTML(filename=data_filepath+'table_H3_mean_sem.html')"
   ]
  },
  {
   "cell_type": "code",
   "execution_count": 29,
   "metadata": {},
   "outputs": [
    {
     "data": {
      "text/html": [
       "<table border=\"1\" class=\"dataframe\">\n",
       "  <thead>\n",
       "    <tr style=\"text-align: center;\">\n",
       "      <th></th>\n",
       "      <th>Group:</th>\n",
       "      <th>TestName</th>\n",
       "      <th>Test Purpose</th>\n",
       "      <th>stat</th>\n",
       "      <th>p</th>\n",
       "      <th>p&lt;.05?</th>\n",
       "    </tr>\n",
       "  </thead>\n",
       "  <tbody>\n",
       "    <tr>\n",
       "      <th>0</th>\n",
       "      <td>jul</td>\n",
       "      <td>normaltest</td>\n",
       "      <td>Normality</td>\n",
       "      <td>28.482</td>\n",
       "      <td>0.000e+00</td>\n",
       "      <td>True</td>\n",
       "    </tr>\n",
       "    <tr>\n",
       "      <th>1</th>\n",
       "      <td>aug</td>\n",
       "      <td>normaltest</td>\n",
       "      <td>Normality</td>\n",
       "      <td>35.416</td>\n",
       "      <td>0.000e+00</td>\n",
       "      <td>True</td>\n",
       "    </tr>\n",
       "    <tr>\n",
       "      <th>2</th>\n",
       "      <td>sep</td>\n",
       "      <td>normaltest</td>\n",
       "      <td>Normality</td>\n",
       "      <td>20.546</td>\n",
       "      <td>0.000e+00</td>\n",
       "      <td>True</td>\n",
       "    </tr>\n",
       "    <tr>\n",
       "      <th>3</th>\n",
       "      <td>oct</td>\n",
       "      <td>normaltest</td>\n",
       "      <td>Normality</td>\n",
       "      <td>55.131</td>\n",
       "      <td>0.000e+00</td>\n",
       "      <td>True</td>\n",
       "    </tr>\n",
       "    <tr>\n",
       "      <th>4</th>\n",
       "      <td>nov</td>\n",
       "      <td>normaltest</td>\n",
       "      <td>Normality</td>\n",
       "      <td>47.558</td>\n",
       "      <td>0.000e+00</td>\n",
       "      <td>True</td>\n",
       "    </tr>\n",
       "    <tr>\n",
       "      <th>5</th>\n",
       "      <td>dec</td>\n",
       "      <td>normaltest</td>\n",
       "      <td>Normality</td>\n",
       "      <td>65.102</td>\n",
       "      <td>0.000e+00</td>\n",
       "      <td>True</td>\n",
       "    </tr>\n",
       "    <tr>\n",
       "      <th>6</th>\n",
       "      <td>jan</td>\n",
       "      <td>normaltest</td>\n",
       "      <td>Normality</td>\n",
       "      <td>71.688</td>\n",
       "      <td>0.000e+00</td>\n",
       "      <td>True</td>\n",
       "    </tr>\n",
       "    <tr>\n",
       "      <th>7</th>\n",
       "      <td>feb</td>\n",
       "      <td>normaltest</td>\n",
       "      <td>Normality</td>\n",
       "      <td>91.352</td>\n",
       "      <td>0.000e+00</td>\n",
       "      <td>True</td>\n",
       "    </tr>\n",
       "    <tr>\n",
       "      <th>8</th>\n",
       "      <td>mar</td>\n",
       "      <td>normaltest</td>\n",
       "      <td>Normality</td>\n",
       "      <td>139.722</td>\n",
       "      <td>0.000e+00</td>\n",
       "      <td>True</td>\n",
       "    </tr>\n",
       "    <tr>\n",
       "      <th>9</th>\n",
       "      <td>apr</td>\n",
       "      <td>normaltest</td>\n",
       "      <td>Normality</td>\n",
       "      <td>81.807</td>\n",
       "      <td>0.000e+00</td>\n",
       "      <td>True</td>\n",
       "    </tr>\n",
       "    <tr>\n",
       "      <th>10</th>\n",
       "      <td>may</td>\n",
       "      <td>normaltest</td>\n",
       "      <td>Normality</td>\n",
       "      <td>51.839</td>\n",
       "      <td>0.000e+00</td>\n",
       "      <td>True</td>\n",
       "    </tr>\n",
       "    <tr>\n",
       "      <th>11</th>\n",
       "      <td>jun</td>\n",
       "      <td>normaltest</td>\n",
       "      <td>Normality</td>\n",
       "      <td>4.170</td>\n",
       "      <td>1.243e-01</td>\n",
       "      <td>False</td>\n",
       "    </tr>\n",
       "    <tr>\n",
       "      <th>12</th>\n",
       "      <td>Total Pop</td>\n",
       "      <td>normaltest</td>\n",
       "      <td>Normality</td>\n",
       "      <td>643.646</td>\n",
       "      <td>0.000e+00</td>\n",
       "      <td>True</td>\n",
       "    </tr>\n",
       "    <tr>\n",
       "      <th>13</th>\n",
       "      <td>jul vs. Other Months</td>\n",
       "      <td>levene</td>\n",
       "      <td>Equal Variance</td>\n",
       "      <td>0.089</td>\n",
       "      <td>7.654e-01</td>\n",
       "      <td>False</td>\n",
       "    </tr>\n",
       "    <tr>\n",
       "      <th>14</th>\n",
       "      <td>aug vs. Other Months</td>\n",
       "      <td>levene</td>\n",
       "      <td>Equal Variance</td>\n",
       "      <td>2.312</td>\n",
       "      <td>1.288e-01</td>\n",
       "      <td>False</td>\n",
       "    </tr>\n",
       "    <tr>\n",
       "      <th>15</th>\n",
       "      <td>sep vs. Other Months</td>\n",
       "      <td>levene</td>\n",
       "      <td>Equal Variance</td>\n",
       "      <td>0.416</td>\n",
       "      <td>5.189e-01</td>\n",
       "      <td>False</td>\n",
       "    </tr>\n",
       "    <tr>\n",
       "      <th>16</th>\n",
       "      <td>oct vs. Other Months</td>\n",
       "      <td>levene</td>\n",
       "      <td>Equal Variance</td>\n",
       "      <td>0.050</td>\n",
       "      <td>8.239e-01</td>\n",
       "      <td>False</td>\n",
       "    </tr>\n",
       "    <tr>\n",
       "      <th>17</th>\n",
       "      <td>nov vs. Other Months</td>\n",
       "      <td>levene</td>\n",
       "      <td>Equal Variance</td>\n",
       "      <td>0.001</td>\n",
       "      <td>9.735e-01</td>\n",
       "      <td>False</td>\n",
       "    </tr>\n",
       "    <tr>\n",
       "      <th>18</th>\n",
       "      <td>dec vs. Other Months</td>\n",
       "      <td>levene</td>\n",
       "      <td>Equal Variance</td>\n",
       "      <td>0.157</td>\n",
       "      <td>6.923e-01</td>\n",
       "      <td>False</td>\n",
       "    </tr>\n",
       "    <tr>\n",
       "      <th>19</th>\n",
       "      <td>jan vs. Other Months</td>\n",
       "      <td>levene</td>\n",
       "      <td>Equal Variance</td>\n",
       "      <td>0.872</td>\n",
       "      <td>3.506e-01</td>\n",
       "      <td>False</td>\n",
       "    </tr>\n",
       "    <tr>\n",
       "      <th>20</th>\n",
       "      <td>feb vs. Other Months</td>\n",
       "      <td>levene</td>\n",
       "      <td>Equal Variance</td>\n",
       "      <td>1.397</td>\n",
       "      <td>2.376e-01</td>\n",
       "      <td>False</td>\n",
       "    </tr>\n",
       "    <tr>\n",
       "      <th>21</th>\n",
       "      <td>mar vs. Other Months</td>\n",
       "      <td>levene</td>\n",
       "      <td>Equal Variance</td>\n",
       "      <td>0.516</td>\n",
       "      <td>4.729e-01</td>\n",
       "      <td>False</td>\n",
       "    </tr>\n",
       "    <tr>\n",
       "      <th>22</th>\n",
       "      <td>apr vs. Other Months</td>\n",
       "      <td>levene</td>\n",
       "      <td>Equal Variance</td>\n",
       "      <td>1.650</td>\n",
       "      <td>1.994e-01</td>\n",
       "      <td>False</td>\n",
       "    </tr>\n",
       "    <tr>\n",
       "      <th>23</th>\n",
       "      <td>may vs. Other Months</td>\n",
       "      <td>levene</td>\n",
       "      <td>Equal Variance</td>\n",
       "      <td>0.024</td>\n",
       "      <td>8.773e-01</td>\n",
       "      <td>False</td>\n",
       "    </tr>\n",
       "    <tr>\n",
       "      <th>24</th>\n",
       "      <td>jun vs. Other Months</td>\n",
       "      <td>levene</td>\n",
       "      <td>Equal Variance</td>\n",
       "      <td>1.931</td>\n",
       "      <td>1.650e-01</td>\n",
       "      <td>False</td>\n",
       "    </tr>\n",
       "    <tr>\n",
       "      <th>25</th>\n",
       "      <td>jul vs. Other Months</td>\n",
       "      <td>mannwhitneyu</td>\n",
       "      <td>Hi sig.</td>\n",
       "      <td>45417.000</td>\n",
       "      <td>2.110e-02</td>\n",
       "      <td>True</td>\n",
       "    </tr>\n",
       "    <tr>\n",
       "      <th>26</th>\n",
       "      <td>aug vs. Other Months</td>\n",
       "      <td>mannwhitneyu</td>\n",
       "      <td>Hi sig.</td>\n",
       "      <td>47377.000</td>\n",
       "      <td>1.680e-02</td>\n",
       "      <td>True</td>\n",
       "    </tr>\n",
       "    <tr>\n",
       "      <th>27</th>\n",
       "      <td>sep vs. Other Months</td>\n",
       "      <td>mannwhitneyu</td>\n",
       "      <td>Hi sig.</td>\n",
       "      <td>48735.000</td>\n",
       "      <td>1.250e-02</td>\n",
       "      <td>True</td>\n",
       "    </tr>\n",
       "    <tr>\n",
       "      <th>28</th>\n",
       "      <td>oct vs. Other Months</td>\n",
       "      <td>mannwhitneyu</td>\n",
       "      <td>Hi sig.</td>\n",
       "      <td>58962.500</td>\n",
       "      <td>3.573e-01</td>\n",
       "      <td>False</td>\n",
       "    </tr>\n",
       "    <tr>\n",
       "      <th>29</th>\n",
       "      <td>nov vs. Other Months</td>\n",
       "      <td>mannwhitneyu</td>\n",
       "      <td>Hi sig.</td>\n",
       "      <td>50998.000</td>\n",
       "      <td>7.540e-02</td>\n",
       "      <td>False</td>\n",
       "    </tr>\n",
       "    <tr>\n",
       "      <th>30</th>\n",
       "      <td>dec vs. Other Months</td>\n",
       "      <td>mannwhitneyu</td>\n",
       "      <td>Hi sig.</td>\n",
       "      <td>69149.500</td>\n",
       "      <td>1.070e-01</td>\n",
       "      <td>False</td>\n",
       "    </tr>\n",
       "    <tr>\n",
       "      <th>31</th>\n",
       "      <td>jan vs. Other Months</td>\n",
       "      <td>mannwhitneyu</td>\n",
       "      <td>Hi sig.</td>\n",
       "      <td>78282.500</td>\n",
       "      <td>2.502e-01</td>\n",
       "      <td>False</td>\n",
       "    </tr>\n",
       "    <tr>\n",
       "      <th>32</th>\n",
       "      <td>feb vs. Other Months</td>\n",
       "      <td>mannwhitneyu</td>\n",
       "      <td>Hi sig.</td>\n",
       "      <td>64028.000</td>\n",
       "      <td>1.100e-03</td>\n",
       "      <td>True</td>\n",
       "    </tr>\n",
       "    <tr>\n",
       "      <th>33</th>\n",
       "      <td>mar vs. Other Months</td>\n",
       "      <td>mannwhitneyu</td>\n",
       "      <td>Hi sig.</td>\n",
       "      <td>75748.000</td>\n",
       "      <td>1.000e-04</td>\n",
       "      <td>True</td>\n",
       "    </tr>\n",
       "    <tr>\n",
       "      <th>34</th>\n",
       "      <td>apr vs. Other Months</td>\n",
       "      <td>mannwhitneyu</td>\n",
       "      <td>Hi sig.</td>\n",
       "      <td>85237.000</td>\n",
       "      <td>1.370e-02</td>\n",
       "      <td>True</td>\n",
       "    </tr>\n",
       "    <tr>\n",
       "      <th>35</th>\n",
       "      <td>may vs. Other Months</td>\n",
       "      <td>mannwhitneyu</td>\n",
       "      <td>Hi sig.</td>\n",
       "      <td>40501.500</td>\n",
       "      <td>1.652e-01</td>\n",
       "      <td>False</td>\n",
       "    </tr>\n",
       "    <tr>\n",
       "      <th>36</th>\n",
       "      <td>jun vs. Other Months</td>\n",
       "      <td>mannwhitneyu</td>\n",
       "      <td>Hi sig.</td>\n",
       "      <td>26240.500</td>\n",
       "      <td>1.355e-01</td>\n",
       "      <td>False</td>\n",
       "    </tr>\n",
       "    <tr>\n",
       "      <th>37</th>\n",
       "      <td>jul</td>\n",
       "      <td>Cohen_d</td>\n",
       "      <td>efect Size</td>\n",
       "      <td>26240.500</td>\n",
       "      <td>NaN</td>\n",
       "      <td>None</td>\n",
       "    </tr>\n",
       "    <tr>\n",
       "      <th>38</th>\n",
       "      <td>aug</td>\n",
       "      <td>Cohen_d</td>\n",
       "      <td>efect Size</td>\n",
       "      <td>26240.500</td>\n",
       "      <td>NaN</td>\n",
       "      <td>None</td>\n",
       "    </tr>\n",
       "    <tr>\n",
       "      <th>39</th>\n",
       "      <td>sep</td>\n",
       "      <td>Cohen_d</td>\n",
       "      <td>efect Size</td>\n",
       "      <td>26240.500</td>\n",
       "      <td>NaN</td>\n",
       "      <td>None</td>\n",
       "    </tr>\n",
       "    <tr>\n",
       "      <th>40</th>\n",
       "      <td>oct</td>\n",
       "      <td>Cohen_d</td>\n",
       "      <td>efect Size</td>\n",
       "      <td>26240.500</td>\n",
       "      <td>NaN</td>\n",
       "      <td>None</td>\n",
       "    </tr>\n",
       "    <tr>\n",
       "      <th>41</th>\n",
       "      <td>nov</td>\n",
       "      <td>Cohen_d</td>\n",
       "      <td>efect Size</td>\n",
       "      <td>26240.500</td>\n",
       "      <td>NaN</td>\n",
       "      <td>None</td>\n",
       "    </tr>\n",
       "    <tr>\n",
       "      <th>42</th>\n",
       "      <td>dec</td>\n",
       "      <td>Cohen_d</td>\n",
       "      <td>efect Size</td>\n",
       "      <td>26240.500</td>\n",
       "      <td>NaN</td>\n",
       "      <td>None</td>\n",
       "    </tr>\n",
       "    <tr>\n",
       "      <th>43</th>\n",
       "      <td>jan</td>\n",
       "      <td>Cohen_d</td>\n",
       "      <td>efect Size</td>\n",
       "      <td>26240.500</td>\n",
       "      <td>NaN</td>\n",
       "      <td>None</td>\n",
       "    </tr>\n",
       "    <tr>\n",
       "      <th>44</th>\n",
       "      <td>feb</td>\n",
       "      <td>Cohen_d</td>\n",
       "      <td>efect Size</td>\n",
       "      <td>26240.500</td>\n",
       "      <td>NaN</td>\n",
       "      <td>None</td>\n",
       "    </tr>\n",
       "    <tr>\n",
       "      <th>45</th>\n",
       "      <td>mar</td>\n",
       "      <td>Cohen_d</td>\n",
       "      <td>efect Size</td>\n",
       "      <td>26240.500</td>\n",
       "      <td>NaN</td>\n",
       "      <td>None</td>\n",
       "    </tr>\n",
       "    <tr>\n",
       "      <th>46</th>\n",
       "      <td>apr</td>\n",
       "      <td>Cohen_d</td>\n",
       "      <td>efect Size</td>\n",
       "      <td>26240.500</td>\n",
       "      <td>NaN</td>\n",
       "      <td>None</td>\n",
       "    </tr>\n",
       "    <tr>\n",
       "      <th>47</th>\n",
       "      <td>may</td>\n",
       "      <td>Cohen_d</td>\n",
       "      <td>efect Size</td>\n",
       "      <td>26240.500</td>\n",
       "      <td>NaN</td>\n",
       "      <td>None</td>\n",
       "    </tr>\n",
       "    <tr>\n",
       "      <th>48</th>\n",
       "      <td>jun</td>\n",
       "      <td>Cohen_d</td>\n",
       "      <td>efect Size</td>\n",
       "      <td>26240.500</td>\n",
       "      <td>NaN</td>\n",
       "      <td>None</td>\n",
       "    </tr>\n",
       "  </tbody>\n",
       "</table>"
      ],
      "text/plain": [
       "<IPython.core.display.HTML object>"
      ]
     },
     "execution_count": 29,
     "metadata": {},
     "output_type": "execute_result"
    }
   ],
   "source": [
    "HTML(filename=data_filepath+'table_H3_test_results.html')"
   ]
  },
  {
   "cell_type": "code",
   "execution_count": 30,
   "metadata": {},
   "outputs": [
    {
     "data": {
      "text/html": [
       "<table border=\"1\" class=\"dataframe\">\n",
       "  <thead>\n",
       "    <tr style=\"text-align: center;\">\n",
       "      <th></th>\n",
       "      <th>group1</th>\n",
       "      <th>group2</th>\n",
       "      <th>meandiff</th>\n",
       "      <th>lower</th>\n",
       "      <th>upper</th>\n",
       "      <th>reject</th>\n",
       "    </tr>\n",
       "  </thead>\n",
       "  <tbody>\n",
       "    <tr>\n",
       "      <th>0</th>\n",
       "      <td>apr</td>\n",
       "      <td>aug</td>\n",
       "      <td>-429.405</td>\n",
       "      <td>-1421.705</td>\n",
       "      <td>562.895</td>\n",
       "      <td>False</td>\n",
       "    </tr>\n",
       "    <tr>\n",
       "      <th>1</th>\n",
       "      <td>apr</td>\n",
       "      <td>dec</td>\n",
       "      <td>-207.680</td>\n",
       "      <td>-1111.035</td>\n",
       "      <td>695.675</td>\n",
       "      <td>False</td>\n",
       "    </tr>\n",
       "    <tr>\n",
       "      <th>2</th>\n",
       "      <td>apr</td>\n",
       "      <td>feb</td>\n",
       "      <td>-22.678</td>\n",
       "      <td>-913.525</td>\n",
       "      <td>868.169</td>\n",
       "      <td>False</td>\n",
       "    </tr>\n",
       "    <tr>\n",
       "      <th>3</th>\n",
       "      <td>apr</td>\n",
       "      <td>jan</td>\n",
       "      <td>82.709</td>\n",
       "      <td>-793.889</td>\n",
       "      <td>959.307</td>\n",
       "      <td>False</td>\n",
       "    </tr>\n",
       "    <tr>\n",
       "      <th>4</th>\n",
       "      <td>apr</td>\n",
       "      <td>jul</td>\n",
       "      <td>-249.879</td>\n",
       "      <td>-1259.461</td>\n",
       "      <td>759.703</td>\n",
       "      <td>False</td>\n",
       "    </tr>\n",
       "    <tr>\n",
       "      <th>5</th>\n",
       "      <td>apr</td>\n",
       "      <td>jun</td>\n",
       "      <td>-472.017</td>\n",
       "      <td>-1727.670</td>\n",
       "      <td>783.635</td>\n",
       "      <td>False</td>\n",
       "    </tr>\n",
       "    <tr>\n",
       "      <th>6</th>\n",
       "      <td>apr</td>\n",
       "      <td>mar</td>\n",
       "      <td>-291.865</td>\n",
       "      <td>-1133.020</td>\n",
       "      <td>549.291</td>\n",
       "      <td>False</td>\n",
       "    </tr>\n",
       "    <tr>\n",
       "      <th>7</th>\n",
       "      <td>apr</td>\n",
       "      <td>may</td>\n",
       "      <td>-116.395</td>\n",
       "      <td>-1188.834</td>\n",
       "      <td>956.044</td>\n",
       "      <td>False</td>\n",
       "    </tr>\n",
       "    <tr>\n",
       "      <th>8</th>\n",
       "      <td>apr</td>\n",
       "      <td>nov</td>\n",
       "      <td>-173.368</td>\n",
       "      <td>-1160.235</td>\n",
       "      <td>813.500</td>\n",
       "      <td>False</td>\n",
       "    </tr>\n",
       "    <tr>\n",
       "      <th>9</th>\n",
       "      <td>apr</td>\n",
       "      <td>oct</td>\n",
       "      <td>-54.971</td>\n",
       "      <td>-1016.841</td>\n",
       "      <td>906.899</td>\n",
       "      <td>False</td>\n",
       "    </tr>\n",
       "    <tr>\n",
       "      <th>10</th>\n",
       "      <td>apr</td>\n",
       "      <td>sep</td>\n",
       "      <td>-317.267</td>\n",
       "      <td>-1298.855</td>\n",
       "      <td>664.322</td>\n",
       "      <td>False</td>\n",
       "    </tr>\n",
       "    <tr>\n",
       "      <th>11</th>\n",
       "      <td>aug</td>\n",
       "      <td>dec</td>\n",
       "      <td>221.725</td>\n",
       "      <td>-827.070</td>\n",
       "      <td>1270.520</td>\n",
       "      <td>False</td>\n",
       "    </tr>\n",
       "    <tr>\n",
       "      <th>12</th>\n",
       "      <td>aug</td>\n",
       "      <td>feb</td>\n",
       "      <td>406.727</td>\n",
       "      <td>-631.314</td>\n",
       "      <td>1444.767</td>\n",
       "      <td>False</td>\n",
       "    </tr>\n",
       "    <tr>\n",
       "      <th>13</th>\n",
       "      <td>aug</td>\n",
       "      <td>jan</td>\n",
       "      <td>512.114</td>\n",
       "      <td>-513.724</td>\n",
       "      <td>1537.953</td>\n",
       "      <td>False</td>\n",
       "    </tr>\n",
       "    <tr>\n",
       "      <th>14</th>\n",
       "      <td>aug</td>\n",
       "      <td>jul</td>\n",
       "      <td>179.526</td>\n",
       "      <td>-962.042</td>\n",
       "      <td>1321.093</td>\n",
       "      <td>False</td>\n",
       "    </tr>\n",
       "    <tr>\n",
       "      <th>15</th>\n",
       "      <td>aug</td>\n",
       "      <td>jun</td>\n",
       "      <td>-42.612</td>\n",
       "      <td>-1406.644</td>\n",
       "      <td>1321.419</td>\n",
       "      <td>False</td>\n",
       "    </tr>\n",
       "    <tr>\n",
       "      <th>16</th>\n",
       "      <td>aug</td>\n",
       "      <td>mar</td>\n",
       "      <td>137.540</td>\n",
       "      <td>-858.182</td>\n",
       "      <td>1133.262</td>\n",
       "      <td>False</td>\n",
       "    </tr>\n",
       "    <tr>\n",
       "      <th>17</th>\n",
       "      <td>aug</td>\n",
       "      <td>may</td>\n",
       "      <td>313.010</td>\n",
       "      <td>-884.507</td>\n",
       "      <td>1510.526</td>\n",
       "      <td>False</td>\n",
       "    </tr>\n",
       "    <tr>\n",
       "      <th>18</th>\n",
       "      <td>aug</td>\n",
       "      <td>nov</td>\n",
       "      <td>256.037</td>\n",
       "      <td>-865.492</td>\n",
       "      <td>1377.567</td>\n",
       "      <td>False</td>\n",
       "    </tr>\n",
       "    <tr>\n",
       "      <th>19</th>\n",
       "      <td>aug</td>\n",
       "      <td>oct</td>\n",
       "      <td>374.434</td>\n",
       "      <td>-725.163</td>\n",
       "      <td>1474.031</td>\n",
       "      <td>False</td>\n",
       "    </tr>\n",
       "    <tr>\n",
       "      <th>20</th>\n",
       "      <td>aug</td>\n",
       "      <td>sep</td>\n",
       "      <td>112.138</td>\n",
       "      <td>-1004.749</td>\n",
       "      <td>1229.025</td>\n",
       "      <td>False</td>\n",
       "    </tr>\n",
       "    <tr>\n",
       "      <th>21</th>\n",
       "      <td>dec</td>\n",
       "      <td>feb</td>\n",
       "      <td>185.002</td>\n",
       "      <td>-768.371</td>\n",
       "      <td>1138.374</td>\n",
       "      <td>False</td>\n",
       "    </tr>\n",
       "    <tr>\n",
       "      <th>22</th>\n",
       "      <td>dec</td>\n",
       "      <td>jan</td>\n",
       "      <td>290.389</td>\n",
       "      <td>-649.683</td>\n",
       "      <td>1230.461</td>\n",
       "      <td>False</td>\n",
       "    </tr>\n",
       "    <tr>\n",
       "      <th>23</th>\n",
       "      <td>dec</td>\n",
       "      <td>jul</td>\n",
       "      <td>-42.199</td>\n",
       "      <td>-1107.360</td>\n",
       "      <td>1022.962</td>\n",
       "      <td>False</td>\n",
       "    </tr>\n",
       "    <tr>\n",
       "      <th>24</th>\n",
       "      <td>dec</td>\n",
       "      <td>jun</td>\n",
       "      <td>-264.338</td>\n",
       "      <td>-1565.097</td>\n",
       "      <td>1036.421</td>\n",
       "      <td>False</td>\n",
       "    </tr>\n",
       "    <tr>\n",
       "      <th>25</th>\n",
       "      <td>dec</td>\n",
       "      <td>mar</td>\n",
       "      <td>-84.185</td>\n",
       "      <td>-991.298</td>\n",
       "      <td>822.928</td>\n",
       "      <td>False</td>\n",
       "    </tr>\n",
       "    <tr>\n",
       "      <th>26</th>\n",
       "      <td>dec</td>\n",
       "      <td>may</td>\n",
       "      <td>91.284</td>\n",
       "      <td>-1033.632</td>\n",
       "      <td>1216.201</td>\n",
       "      <td>False</td>\n",
       "    </tr>\n",
       "    <tr>\n",
       "      <th>27</th>\n",
       "      <td>dec</td>\n",
       "      <td>nov</td>\n",
       "      <td>34.312</td>\n",
       "      <td>-1009.345</td>\n",
       "      <td>1077.969</td>\n",
       "      <td>False</td>\n",
       "    </tr>\n",
       "    <tr>\n",
       "      <th>28</th>\n",
       "      <td>dec</td>\n",
       "      <td>oct</td>\n",
       "      <td>152.709</td>\n",
       "      <td>-867.343</td>\n",
       "      <td>1172.761</td>\n",
       "      <td>False</td>\n",
       "    </tr>\n",
       "    <tr>\n",
       "      <th>29</th>\n",
       "      <td>dec</td>\n",
       "      <td>sep</td>\n",
       "      <td>-109.587</td>\n",
       "      <td>-1148.253</td>\n",
       "      <td>929.079</td>\n",
       "      <td>False</td>\n",
       "    </tr>\n",
       "    <tr>\n",
       "      <th>30</th>\n",
       "      <td>feb</td>\n",
       "      <td>jan</td>\n",
       "      <td>105.387</td>\n",
       "      <td>-822.671</td>\n",
       "      <td>1033.446</td>\n",
       "      <td>False</td>\n",
       "    </tr>\n",
       "    <tr>\n",
       "      <th>31</th>\n",
       "      <td>feb</td>\n",
       "      <td>jul</td>\n",
       "      <td>-227.201</td>\n",
       "      <td>-1281.775</td>\n",
       "      <td>827.373</td>\n",
       "      <td>False</td>\n",
       "    </tr>\n",
       "    <tr>\n",
       "      <th>32</th>\n",
       "      <td>feb</td>\n",
       "      <td>jun</td>\n",
       "      <td>-449.339</td>\n",
       "      <td>-1741.443</td>\n",
       "      <td>842.764</td>\n",
       "      <td>False</td>\n",
       "    </tr>\n",
       "    <tr>\n",
       "      <th>33</th>\n",
       "      <td>feb</td>\n",
       "      <td>mar</td>\n",
       "      <td>-269.186</td>\n",
       "      <td>-1163.843</td>\n",
       "      <td>625.471</td>\n",
       "      <td>False</td>\n",
       "    </tr>\n",
       "    <tr>\n",
       "      <th>34</th>\n",
       "      <td>feb</td>\n",
       "      <td>may</td>\n",
       "      <td>-93.717</td>\n",
       "      <td>-1208.614</td>\n",
       "      <td>1021.180</td>\n",
       "      <td>False</td>\n",
       "    </tr>\n",
       "    <tr>\n",
       "      <th>35</th>\n",
       "      <td>feb</td>\n",
       "      <td>nov</td>\n",
       "      <td>-150.690</td>\n",
       "      <td>-1183.539</td>\n",
       "      <td>882.160</td>\n",
       "      <td>False</td>\n",
       "    </tr>\n",
       "    <tr>\n",
       "      <th>36</th>\n",
       "      <td>feb</td>\n",
       "      <td>oct</td>\n",
       "      <td>-32.293</td>\n",
       "      <td>-1041.284</td>\n",
       "      <td>976.698</td>\n",
       "      <td>False</td>\n",
       "    </tr>\n",
       "    <tr>\n",
       "      <th>37</th>\n",
       "      <td>feb</td>\n",
       "      <td>sep</td>\n",
       "      <td>-294.589</td>\n",
       "      <td>-1322.395</td>\n",
       "      <td>733.217</td>\n",
       "      <td>False</td>\n",
       "    </tr>\n",
       "    <tr>\n",
       "      <th>38</th>\n",
       "      <td>jan</td>\n",
       "      <td>jul</td>\n",
       "      <td>-332.588</td>\n",
       "      <td>-1375.153</td>\n",
       "      <td>709.976</td>\n",
       "      <td>False</td>\n",
       "    </tr>\n",
       "    <tr>\n",
       "      <th>39</th>\n",
       "      <td>jan</td>\n",
       "      <td>jun</td>\n",
       "      <td>-554.727</td>\n",
       "      <td>-1837.048</td>\n",
       "      <td>727.594</td>\n",
       "      <td>False</td>\n",
       "    </tr>\n",
       "    <tr>\n",
       "      <th>40</th>\n",
       "      <td>jan</td>\n",
       "      <td>mar</td>\n",
       "      <td>-374.574</td>\n",
       "      <td>-1255.044</td>\n",
       "      <td>505.896</td>\n",
       "      <td>False</td>\n",
       "    </tr>\n",
       "    <tr>\n",
       "      <th>41</th>\n",
       "      <td>jan</td>\n",
       "      <td>may</td>\n",
       "      <td>-199.105</td>\n",
       "      <td>-1302.649</td>\n",
       "      <td>904.440</td>\n",
       "      <td>False</td>\n",
       "    </tr>\n",
       "    <tr>\n",
       "      <th>42</th>\n",
       "      <td>jan</td>\n",
       "      <td>nov</td>\n",
       "      <td>-256.077</td>\n",
       "      <td>-1276.662</td>\n",
       "      <td>764.508</td>\n",
       "      <td>False</td>\n",
       "    </tr>\n",
       "    <tr>\n",
       "      <th>43</th>\n",
       "      <td>jan</td>\n",
       "      <td>oct</td>\n",
       "      <td>-137.680</td>\n",
       "      <td>-1134.114</td>\n",
       "      <td>858.753</td>\n",
       "      <td>False</td>\n",
       "    </tr>\n",
       "    <tr>\n",
       "      <th>44</th>\n",
       "      <td>jan</td>\n",
       "      <td>sep</td>\n",
       "      <td>-399.976</td>\n",
       "      <td>-1415.457</td>\n",
       "      <td>615.505</td>\n",
       "      <td>False</td>\n",
       "    </tr>\n",
       "    <tr>\n",
       "      <th>45</th>\n",
       "      <td>jul</td>\n",
       "      <td>jun</td>\n",
       "      <td>-222.138</td>\n",
       "      <td>-1598.794</td>\n",
       "      <td>1154.517</td>\n",
       "      <td>False</td>\n",
       "    </tr>\n",
       "    <tr>\n",
       "      <th>46</th>\n",
       "      <td>jul</td>\n",
       "      <td>mar</td>\n",
       "      <td>-41.986</td>\n",
       "      <td>-1054.932</td>\n",
       "      <td>970.961</td>\n",
       "      <td>False</td>\n",
       "    </tr>\n",
       "    <tr>\n",
       "      <th>47</th>\n",
       "      <td>jul</td>\n",
       "      <td>may</td>\n",
       "      <td>133.484</td>\n",
       "      <td>-1078.392</td>\n",
       "      <td>1345.360</td>\n",
       "      <td>False</td>\n",
       "    </tr>\n",
       "    <tr>\n",
       "      <th>48</th>\n",
       "      <td>jul</td>\n",
       "      <td>nov</td>\n",
       "      <td>76.511</td>\n",
       "      <td>-1060.338</td>\n",
       "      <td>1213.361</td>\n",
       "      <td>False</td>\n",
       "    </tr>\n",
       "    <tr>\n",
       "      <th>49</th>\n",
       "      <td>jul</td>\n",
       "      <td>oct</td>\n",
       "      <td>194.908</td>\n",
       "      <td>-920.310</td>\n",
       "      <td>1310.126</td>\n",
       "      <td>False</td>\n",
       "    </tr>\n",
       "    <tr>\n",
       "      <th>50</th>\n",
       "      <td>jul</td>\n",
       "      <td>sep</td>\n",
       "      <td>-67.388</td>\n",
       "      <td>-1199.657</td>\n",
       "      <td>1064.881</td>\n",
       "      <td>False</td>\n",
       "    </tr>\n",
       "    <tr>\n",
       "      <th>51</th>\n",
       "      <td>jun</td>\n",
       "      <td>mar</td>\n",
       "      <td>180.153</td>\n",
       "      <td>-1078.205</td>\n",
       "      <td>1438.511</td>\n",
       "      <td>False</td>\n",
       "    </tr>\n",
       "    <tr>\n",
       "      <th>52</th>\n",
       "      <td>jun</td>\n",
       "      <td>may</td>\n",
       "      <td>355.622</td>\n",
       "      <td>-1067.771</td>\n",
       "      <td>1779.016</td>\n",
       "      <td>False</td>\n",
       "    </tr>\n",
       "    <tr>\n",
       "      <th>53</th>\n",
       "      <td>jun</td>\n",
       "      <td>nov</td>\n",
       "      <td>298.650</td>\n",
       "      <td>-1061.435</td>\n",
       "      <td>1658.735</td>\n",
       "      <td>False</td>\n",
       "    </tr>\n",
       "    <tr>\n",
       "      <th>54</th>\n",
       "      <td>jun</td>\n",
       "      <td>oct</td>\n",
       "      <td>417.046</td>\n",
       "      <td>-925.011</td>\n",
       "      <td>1759.104</td>\n",
       "      <td>False</td>\n",
       "    </tr>\n",
       "    <tr>\n",
       "      <th>55</th>\n",
       "      <td>jun</td>\n",
       "      <td>sep</td>\n",
       "      <td>154.751</td>\n",
       "      <td>-1201.509</td>\n",
       "      <td>1511.010</td>\n",
       "      <td>False</td>\n",
       "    </tr>\n",
       "    <tr>\n",
       "      <th>56</th>\n",
       "      <td>mar</td>\n",
       "      <td>may</td>\n",
       "      <td>175.469</td>\n",
       "      <td>-900.137</td>\n",
       "      <td>1251.076</td>\n",
       "      <td>False</td>\n",
       "    </tr>\n",
       "    <tr>\n",
       "      <th>57</th>\n",
       "      <td>mar</td>\n",
       "      <td>nov</td>\n",
       "      <td>118.497</td>\n",
       "      <td>-871.812</td>\n",
       "      <td>1108.806</td>\n",
       "      <td>False</td>\n",
       "    </tr>\n",
       "    <tr>\n",
       "      <th>58</th>\n",
       "      <td>mar</td>\n",
       "      <td>oct</td>\n",
       "      <td>236.893</td>\n",
       "      <td>-728.507</td>\n",
       "      <td>1202.294</td>\n",
       "      <td>False</td>\n",
       "    </tr>\n",
       "    <tr>\n",
       "      <th>59</th>\n",
       "      <td>mar</td>\n",
       "      <td>sep</td>\n",
       "      <td>-25.402</td>\n",
       "      <td>-1010.450</td>\n",
       "      <td>959.645</td>\n",
       "      <td>False</td>\n",
       "    </tr>\n",
       "    <tr>\n",
       "      <th>60</th>\n",
       "      <td>may</td>\n",
       "      <td>nov</td>\n",
       "      <td>-56.972</td>\n",
       "      <td>-1249.992</td>\n",
       "      <td>1136.047</td>\n",
       "      <td>False</td>\n",
       "    </tr>\n",
       "    <tr>\n",
       "      <th>61</th>\n",
       "      <td>may</td>\n",
       "      <td>oct</td>\n",
       "      <td>61.424</td>\n",
       "      <td>-1111.001</td>\n",
       "      <td>1233.850</td>\n",
       "      <td>False</td>\n",
       "    </tr>\n",
       "    <tr>\n",
       "      <th>62</th>\n",
       "      <td>may</td>\n",
       "      <td>sep</td>\n",
       "      <td>-200.872</td>\n",
       "      <td>-1389.527</td>\n",
       "      <td>987.784</td>\n",
       "      <td>False</td>\n",
       "    </tr>\n",
       "    <tr>\n",
       "      <th>63</th>\n",
       "      <td>nov</td>\n",
       "      <td>oct</td>\n",
       "      <td>118.397</td>\n",
       "      <td>-976.301</td>\n",
       "      <td>1213.095</td>\n",
       "      <td>False</td>\n",
       "    </tr>\n",
       "    <tr>\n",
       "      <th>64</th>\n",
       "      <td>nov</td>\n",
       "      <td>sep</td>\n",
       "      <td>-143.899</td>\n",
       "      <td>-1255.963</td>\n",
       "      <td>968.164</td>\n",
       "      <td>False</td>\n",
       "    </tr>\n",
       "    <tr>\n",
       "      <th>65</th>\n",
       "      <td>oct</td>\n",
       "      <td>sep</td>\n",
       "      <td>-262.296</td>\n",
       "      <td>-1352.237</td>\n",
       "      <td>827.645</td>\n",
       "      <td>False</td>\n",
       "    </tr>\n",
       "  </tbody>\n",
       "</table>"
      ],
      "text/plain": [
       "<IPython.core.display.HTML object>"
      ]
     },
     "execution_count": 30,
     "metadata": {},
     "output_type": "execute_result"
    }
   ],
   "source": [
    "HTML(filename=data_filepath+'table_H3_tukey.html')"
   ]
  },
  {
   "cell_type": "markdown",
   "metadata": {
    "colab_type": "text",
    "id": "7rzJx4u8wwQL"
   },
   "source": [
    "### Hypothesis 4:\n",
    "> **Do different countries respond to discounts differently?**\n",
    "\n",
    "- $H_1$: Different countries purchase different quantities of discounted vs non discounted products. \n",
    "- $H_0$: All countries purchase the same quantities of discounted vs non discounted products. \n",
    "<br>"
   ]
  },
  {
   "cell_type": "code",
   "execution_count": 31,
   "metadata": {},
   "outputs": [],
   "source": [
    "# HTML(filename=data_filepath+'table_H4_mean_sem.html')"
   ]
  },
  {
   "cell_type": "code",
   "execution_count": 32,
   "metadata": {},
   "outputs": [],
   "source": [
    "# HTML(filename=data_filepath+'table_H4_test_results.html')"
   ]
  },
  {
   "cell_type": "code",
   "execution_count": 33,
   "metadata": {},
   "outputs": [],
   "source": [
    "# HTML(filename=data_filepath+'table_H1_tukey.html')"
   ]
  },
  {
   "cell_type": "markdown",
   "metadata": {
    "colab_type": "text",
    "id": "fcYXKTJe-bjt"
   },
   "source": [
    "___\n",
    "# **Hypothesis 1:**\n",
    "> **Do discounts have a statistically significant effect on the number of products customers order?**\n",
    "> **If so, at what level(s) of discount?**\n",
    "\n",
    "\n",
    "- $H_1$ : Products that are discounted sell in higher quantities.\n",
    "\n",
    "- $H_0$ : Products that are discounted sell the same quantities as full-proce products.\n",
    "\n",
    "<br>\n",
    "\n",
    "**Specific Aims:**\n",
    "\n",
    "* ***Aim 1:To select the proper dataset for analysis, perform EDA, and generate data groups for testing.***\n",
    "    - Used sqlalchemy and pandas.<br>\n",
    "    ```python \n",
    "    query = \"SELECT* FROM OrderDetails, GROUPBY discount\"\n",
    "    python pandas.read_sql_query()\n",
    "    ```\n",
    "* ***Aim 2: Select the appropriate t-test based on tests for the assumptions of normality and homogeneity of variance.***\n",
    "    1. **Test for Normality**\n",
    "        - D'Agostino-Pearson's normality test<br>\n",
    "        ```scipy.stats.normaltest```\n",
    "        - Shapiro-Wilik Test<br>\n",
    "        ```scipy.stats.shapiro```\n",
    "    2. **Test for Homogeneity of Variance**\n",
    "        - Levene's Test<br>\n",
    "         ```scipy.stats.levene```\n",
    "\n",
    "    3. **Choose appropriate test based upon 1. and 2.** \n",
    "        - Mann-Whitney U test (non parametric equivalent of ANOVA)<br>\n",
    "        ```stats.mannwhitneyu```<br>\n",
    "        \n",
    "        <br>\n",
    "* ***Aim 3: To perform post-hoc painrwise comparison testing to determine which level of discounts affect quantity and if any discount has a greater effect than the others.***\n",
    "     - Tukey's test for multiple pairwise comparisons<br>\n",
    "     ```statsmodels.stats.multicomp.pairwise_tukeyhsd```\n"
   ]
  },
  {
   "cell_type": "markdown",
   "metadata": {
    "colab_type": "text",
    "id": "7mKcl3fkwwQ6"
   },
   "source": [
    "_________\n",
    "## ***H1, Aim 1.1 : To select the proper dataset for analyiss  and generate data groups for testing.***\n",
    "\n",
    "#### Importing Method\n",
    "- Used sqlalchemy to create engine to connect to Northwind_small.sqlite.\n",
    "\n",
    "- Used ```pd.read_sql_query('SELECT * FROM OrderDetail',engine)``` to directly read db into df"
   ]
  },
  {
   "cell_type": "code",
   "execution_count": 34,
   "metadata": {
    "cellView": "both",
    "colab": {
     "base_uri": "https://localhost:8080/",
     "height": 120
    },
    "colab_type": "code",
    "id": "N0O4-cWq1N53",
    "outputId": "32516bd2-41f6-47dc-f45e-79d40ba82acd"
   },
   "outputs": [],
   "source": [
    "# # #CELL A : IF ON COLAB.\n",
    "# # #The northwind.sqlite is located in: content/drive/My Drive/Colab Notebooks/datasets/Northwind_small.sqlite\n",
    "# from google.colab import drive\n",
    "# drive.mount('/content/drive/', force_remount=True)\n",
    "\n",
    "# # # If in Google Drive \n",
    "# path= '/content/drive/My Drive/Colab Notebooks/datasets/'\n",
    "# file='Northwind_small.sqlite'\n",
    "# filepath = path+file\n",
    "# # filepath = '/content/drive/My Drive/Colab Notebooks/datasets/Northwind_small.sqlite'\n",
    "\n",
    "\n",
    "# #NOTE: To save files to drive, just to df.to_csv(path+'filename.csv')"
   ]
  },
  {
   "cell_type": "code",
   "execution_count": 35,
   "metadata": {
    "colab": {},
    "colab_type": "code",
    "id": "NGfWlIw45Xs1"
   },
   "outputs": [],
   "source": [
    "# #CELL B: If RUNNING LOCALLY.\n",
    "# filepath = 'Northwind_small.sqlite'"
   ]
  },
  {
   "cell_type": "markdown",
   "metadata": {
    "colab_type": "text",
    "id": "zP8k3PvuBRmw"
   },
   "source": [
    "#### Use sqlalchemy and pandas to inspect data tables"
   ]
  },
  {
   "cell_type": "code",
   "execution_count": 36,
   "metadata": {
    "colab": {
     "base_uri": "https://localhost:8080/",
     "height": 170
    },
    "colab_type": "code",
    "id": "GOWwoXhrBRmx",
    "outputId": "055ce789-fe95-4036-8ae2-5e796aa652e7"
   },
   "outputs": [
    {
     "name": "stdout",
     "output_type": "stream",
     "text": [
      "2019-04-09 20:38:11,396 INFO sqlalchemy.engine.base.Engine SELECT CAST('test plain returns' AS VARCHAR(60)) AS anon_1\n",
      "2019-04-09 20:38:11,399 INFO sqlalchemy.engine.base.Engine ()\n",
      "2019-04-09 20:38:11,400 INFO sqlalchemy.engine.base.Engine SELECT CAST('test unicode returns' AS VARCHAR(60)) AS anon_1\n",
      "2019-04-09 20:38:11,401 INFO sqlalchemy.engine.base.Engine ()\n",
      "2019-04-09 20:38:11,404 INFO sqlalchemy.engine.base.Engine SELECT name FROM sqlite_master WHERE type='table' ORDER BY name\n",
      "2019-04-09 20:38:11,404 INFO sqlalchemy.engine.base.Engine ()\n",
      "\n",
      " ['Category', 'Customer', 'CustomerCustomerDemo', 'CustomerDemographic', 'Employee', 'EmployeeTerritory', 'Order', 'OrderDetail', 'Product', 'Region', 'Shipper', 'Supplier', 'Territory']\n"
     ]
    }
   ],
   "source": [
    "# Import packages for sql\n",
    "import sqlite3\n",
    "from sqlalchemy import create_engine, inspect\n",
    "# from sqlalchemy import Table, Column, Integer, String, MetaData, ForeignKey,text, Float\n",
    "filepath =  'Northwind_small.sqlite'\n",
    "engine = create_engine('sqlite:///Northwind_small.sqlite',echo=True);\n",
    "\n",
    "inspector = inspect(engine);\n",
    "\n",
    "db_tables = inspector.get_table_names();\n",
    "\n",
    "print('\\n',db_tables);"
   ]
  },
  {
   "cell_type": "code",
   "execution_count": 37,
   "metadata": {
    "colab": {
     "base_uri": "https://localhost:8080/",
     "height": 293
    },
    "colab_type": "code",
    "id": "zEqu9PbxwwQ8",
    "outputId": "982da695-2c5b-4eee-8ae7-044fd5d4c5cb"
   },
   "outputs": [
    {
     "name": "stdout",
     "output_type": "stream",
     "text": [
      "2019-04-09 20:38:11,415 INFO sqlalchemy.engine.base.Engine PRAGMA table_info(\"OrderDetail\")\n",
      "2019-04-09 20:38:11,416 INFO sqlalchemy.engine.base.Engine ()\n",
      "Table Name: OrderDetail\n",
      "\n"
     ]
    },
    {
     "data": {
      "text/html": [
       "<div>\n",
       "<style scoped>\n",
       "    .dataframe tbody tr th:only-of-type {\n",
       "        vertical-align: middle;\n",
       "    }\n",
       "\n",
       "    .dataframe tbody tr th {\n",
       "        vertical-align: top;\n",
       "    }\n",
       "\n",
       "    .dataframe thead th {\n",
       "        text-align: right;\n",
       "    }\n",
       "</style>\n",
       "<table border=\"1\" class=\"dataframe\">\n",
       "  <thead>\n",
       "    <tr style=\"text-align: center;\">\n",
       "      <th></th>\n",
       "      <th>table</th>\n",
       "      <th>column</th>\n",
       "      <th>dtype</th>\n",
       "    </tr>\n",
       "  </thead>\n",
       "  <tbody>\n",
       "    <tr>\n",
       "      <th>0</th>\n",
       "      <td>OrderDetail</td>\n",
       "      <td>Id</td>\n",
       "      <td>VARCHAR(8000)</td>\n",
       "    </tr>\n",
       "    <tr>\n",
       "      <th>1</th>\n",
       "      <td>OrderDetail</td>\n",
       "      <td>OrderId</td>\n",
       "      <td>INTEGER</td>\n",
       "    </tr>\n",
       "    <tr>\n",
       "      <th>2</th>\n",
       "      <td>OrderDetail</td>\n",
       "      <td>ProductId</td>\n",
       "      <td>INTEGER</td>\n",
       "    </tr>\n",
       "    <tr>\n",
       "      <th>3</th>\n",
       "      <td>OrderDetail</td>\n",
       "      <td>UnitPrice</td>\n",
       "      <td>DECIMAL</td>\n",
       "    </tr>\n",
       "    <tr>\n",
       "      <th>4</th>\n",
       "      <td>OrderDetail</td>\n",
       "      <td>Quantity</td>\n",
       "      <td>INTEGER</td>\n",
       "    </tr>\n",
       "    <tr>\n",
       "      <th>5</th>\n",
       "      <td>OrderDetail</td>\n",
       "      <td>Discount</td>\n",
       "      <td>FLOAT</td>\n",
       "    </tr>\n",
       "  </tbody>\n",
       "</table>\n",
       "</div>"
      ],
      "text/plain": [
       "     table       column       dtype     \n",
       "0  OrderDetail         Id  VARCHAR(8000)\n",
       "1  OrderDetail    OrderId        INTEGER\n",
       "2  OrderDetail  ProductId        INTEGER\n",
       "3  OrderDetail  UnitPrice        DECIMAL\n",
       "4  OrderDetail   Quantity        INTEGER\n",
       "5  OrderDetail   Discount          FLOAT"
      ]
     },
     "execution_count": 37,
     "metadata": {},
     "output_type": "execute_result"
    }
   ],
   "source": [
    "list2df(get_col_info('OrderDetail'))"
   ]
  },
  {
   "cell_type": "markdown",
   "metadata": {
    "colab_type": "text",
    "id": "gT_dk3tLBRm2"
   },
   "source": [
    "#### Load in table OrderDetail for hypothesis 1"
   ]
  },
  {
   "cell_type": "code",
   "execution_count": 38,
   "metadata": {
    "colab": {
     "base_uri": "https://localhost:8080/",
     "height": 735
    },
    "colab_type": "code",
    "id": "8r91sfLGwwRK",
    "outputId": "3811e268-924f-4a7d-bd07-a33fbecea3c3"
   },
   "outputs": [
    {
     "name": "stdout",
     "output_type": "stream",
     "text": [
      "2019-04-09 20:38:11,440 INFO sqlalchemy.engine.base.Engine SELECT * FROM OrderDetail\n",
      "2019-04-09 20:38:11,441 INFO sqlalchemy.engine.base.Engine ()\n",
      "2019-04-09 20:38:11,455 INFO sqlalchemy.engine.base.Engine SELECT * FROM [Order]\n",
      "2019-04-09 20:38:11,456 INFO sqlalchemy.engine.base.Engine ()\n"
     ]
    },
    {
     "data": {
      "text/html": [
       "<div>\n",
       "<style scoped>\n",
       "    .dataframe tbody tr th:only-of-type {\n",
       "        vertical-align: middle;\n",
       "    }\n",
       "\n",
       "    .dataframe tbody tr th {\n",
       "        vertical-align: top;\n",
       "    }\n",
       "\n",
       "    .dataframe thead th {\n",
       "        text-align: right;\n",
       "    }\n",
       "</style>\n",
       "<table border=\"1\" class=\"dataframe\">\n",
       "  <thead>\n",
       "    <tr style=\"text-align: center;\">\n",
       "      <th></th>\n",
       "      <th>Id</th>\n",
       "      <th>OrderId</th>\n",
       "      <th>ProductId</th>\n",
       "      <th>UnitPrice</th>\n",
       "      <th>Quantity</th>\n",
       "      <th>Discount</th>\n",
       "      <th>CustomerId</th>\n",
       "      <th>EmployeeId</th>\n",
       "      <th>OrderDate</th>\n",
       "      <th>RequiredDate</th>\n",
       "      <th>ShippedDate</th>\n",
       "      <th>ShipVia</th>\n",
       "      <th>Freight</th>\n",
       "      <th>ShipName</th>\n",
       "      <th>ShipAddress</th>\n",
       "      <th>ShipCity</th>\n",
       "      <th>ShipRegion</th>\n",
       "      <th>ShipPostalCode</th>\n",
       "      <th>ShipCountry</th>\n",
       "    </tr>\n",
       "  </thead>\n",
       "  <tbody>\n",
       "    <tr>\n",
       "      <th>0</th>\n",
       "      <td>10248/11</td>\n",
       "      <td>10248</td>\n",
       "      <td>11</td>\n",
       "      <td>14.0</td>\n",
       "      <td>12</td>\n",
       "      <td>0.0</td>\n",
       "      <td>VINET</td>\n",
       "      <td>5</td>\n",
       "      <td>2012-07-04</td>\n",
       "      <td>2012-08-01</td>\n",
       "      <td>2012-07-16</td>\n",
       "      <td>3</td>\n",
       "      <td>32.38</td>\n",
       "      <td>Vins et alcools Chevalier</td>\n",
       "      <td>59 rue de l'Abbaye</td>\n",
       "      <td>Reims</td>\n",
       "      <td>Western Europe</td>\n",
       "      <td>51100</td>\n",
       "      <td>France</td>\n",
       "    </tr>\n",
       "    <tr>\n",
       "      <th>1</th>\n",
       "      <td>10248/42</td>\n",
       "      <td>10248</td>\n",
       "      <td>42</td>\n",
       "      <td>9.8</td>\n",
       "      <td>10</td>\n",
       "      <td>0.0</td>\n",
       "      <td>VINET</td>\n",
       "      <td>5</td>\n",
       "      <td>2012-07-04</td>\n",
       "      <td>2012-08-01</td>\n",
       "      <td>2012-07-16</td>\n",
       "      <td>3</td>\n",
       "      <td>32.38</td>\n",
       "      <td>Vins et alcools Chevalier</td>\n",
       "      <td>59 rue de l'Abbaye</td>\n",
       "      <td>Reims</td>\n",
       "      <td>Western Europe</td>\n",
       "      <td>51100</td>\n",
       "      <td>France</td>\n",
       "    </tr>\n",
       "    <tr>\n",
       "      <th>2</th>\n",
       "      <td>10248/72</td>\n",
       "      <td>10248</td>\n",
       "      <td>72</td>\n",
       "      <td>34.8</td>\n",
       "      <td>5</td>\n",
       "      <td>0.0</td>\n",
       "      <td>VINET</td>\n",
       "      <td>5</td>\n",
       "      <td>2012-07-04</td>\n",
       "      <td>2012-08-01</td>\n",
       "      <td>2012-07-16</td>\n",
       "      <td>3</td>\n",
       "      <td>32.38</td>\n",
       "      <td>Vins et alcools Chevalier</td>\n",
       "      <td>59 rue de l'Abbaye</td>\n",
       "      <td>Reims</td>\n",
       "      <td>Western Europe</td>\n",
       "      <td>51100</td>\n",
       "      <td>France</td>\n",
       "    </tr>\n",
       "    <tr>\n",
       "      <th>3</th>\n",
       "      <td>10249/14</td>\n",
       "      <td>10249</td>\n",
       "      <td>14</td>\n",
       "      <td>18.6</td>\n",
       "      <td>9</td>\n",
       "      <td>0.0</td>\n",
       "      <td>TOMSP</td>\n",
       "      <td>6</td>\n",
       "      <td>2012-07-05</td>\n",
       "      <td>2012-08-16</td>\n",
       "      <td>2012-07-10</td>\n",
       "      <td>1</td>\n",
       "      <td>11.61</td>\n",
       "      <td>Toms Spezialitäten</td>\n",
       "      <td>Luisenstr. 48</td>\n",
       "      <td>Münster</td>\n",
       "      <td>Western Europe</td>\n",
       "      <td>44087</td>\n",
       "      <td>Germany</td>\n",
       "    </tr>\n",
       "    <tr>\n",
       "      <th>4</th>\n",
       "      <td>10249/51</td>\n",
       "      <td>10249</td>\n",
       "      <td>51</td>\n",
       "      <td>42.4</td>\n",
       "      <td>40</td>\n",
       "      <td>0.0</td>\n",
       "      <td>TOMSP</td>\n",
       "      <td>6</td>\n",
       "      <td>2012-07-05</td>\n",
       "      <td>2012-08-16</td>\n",
       "      <td>2012-07-10</td>\n",
       "      <td>1</td>\n",
       "      <td>11.61</td>\n",
       "      <td>Toms Spezialitäten</td>\n",
       "      <td>Luisenstr. 48</td>\n",
       "      <td>Münster</td>\n",
       "      <td>Western Europe</td>\n",
       "      <td>44087</td>\n",
       "      <td>Germany</td>\n",
       "    </tr>\n",
       "  </tbody>\n",
       "</table>\n",
       "</div>"
      ],
      "text/plain": [
       "      Id     OrderId  ProductId  UnitPrice  Quantity  Discount CustomerId  \\\n",
       "0  10248/11   10248      11        14.0        12        0.0      VINET     \n",
       "1  10248/42   10248      42         9.8        10        0.0      VINET     \n",
       "2  10248/72   10248      72        34.8         5        0.0      VINET     \n",
       "3  10249/14   10249      14        18.6         9        0.0      TOMSP     \n",
       "4  10249/51   10249      51        42.4        40        0.0      TOMSP     \n",
       "\n",
       "   EmployeeId  OrderDate  RequiredDate ShippedDate  ShipVia  Freight  \\\n",
       "0       5      2012-07-04  2012-08-01   2012-07-16     3      32.38    \n",
       "1       5      2012-07-04  2012-08-01   2012-07-16     3      32.38    \n",
       "2       5      2012-07-04  2012-08-01   2012-07-16     3      32.38    \n",
       "3       6      2012-07-05  2012-08-16   2012-07-10     1      11.61    \n",
       "4       6      2012-07-05  2012-08-16   2012-07-10     1      11.61    \n",
       "\n",
       "           ShipName              ShipAddress     ShipCity    ShipRegion    \\\n",
       "0  Vins et alcools Chevalier  59 rue de l'Abbaye    Reims  Western Europe   \n",
       "1  Vins et alcools Chevalier  59 rue de l'Abbaye    Reims  Western Europe   \n",
       "2  Vins et alcools Chevalier  59 rue de l'Abbaye    Reims  Western Europe   \n",
       "3         Toms Spezialitäten       Luisenstr. 48  Münster  Western Europe   \n",
       "4         Toms Spezialitäten       Luisenstr. 48  Münster  Western Europe   \n",
       "\n",
       "  ShipPostalCode ShipCountry  \n",
       "0      51100         France   \n",
       "1      51100         France   \n",
       "2      51100         France   \n",
       "3      44087        Germany   \n",
       "4      44087        Germany   "
      ]
     },
     "execution_count": 38,
     "metadata": {},
     "output_type": "execute_result"
    }
   ],
   "source": [
    "# We want to test hypothesis one, so we need OrderDetail table.\n",
    "table_to_test = \"OrderDetail\"\n",
    "df_od = pd.read_sql_query(\"SELECT * FROM OrderDetail\",  engine)\n",
    "df_o = pd.read_sql_query(\"SELECT * FROM [Order]\",  engine)\n",
    "# df_o.info()\n",
    "df_o.rename({'Id':'OrderId'},axis=1,inplace=True)\n",
    "\n",
    "df = df_od.merge(df_o, on = 'OrderId')\n",
    "\n",
    "# if save_for_user==True:\n",
    "#     df.to_csv(data_filepath+'OrderId_Order.csv')\n",
    "# # df.to_csv('OrderId_Order.csv')\n",
    "\n",
    "df.head()"
   ]
  },
  {
   "cell_type": "code",
   "execution_count": 39,
   "metadata": {
    "colab": {
     "base_uri": "https://localhost:8080/",
     "height": 418
    },
    "colab_type": "code",
    "id": "bHdkczoawwRO",
    "outputId": "dcb97151-896d-45e5-94dc-766e69563c5b"
   },
   "outputs": [],
   "source": [
    "#     df.info()"
   ]
  },
  {
   "cell_type": "code",
   "execution_count": 40,
   "metadata": {
    "colab": {
     "base_uri": "https://localhost:8080/",
     "height": 201
    },
    "colab_type": "code",
    "id": "hOZ_8uy7HuMr",
    "outputId": "15d2f75a-6e52-4f9d-bae2-b5e5a0a26b19"
   },
   "outputs": [
    {
     "data": {
      "text/plain": [
       "{0.0: 1317,\n",
       " 0.05: 185,\n",
       " 0.1: 173,\n",
       " 0.2: 161,\n",
       " 0.15: 157,\n",
       " 0.25: 154,\n",
       " 0.03: 3,\n",
       " 0.02: 2,\n",
       " 0.01: 1,\n",
       " 0.04: 1,\n",
       " 0.06: 1}"
      ]
     },
     "execution_count": 40,
     "metadata": {},
     "output_type": "execute_result"
    }
   ],
   "source": [
    "# Checking the levels of discount\n",
    "# sorted(df['Discount'].unique())\n",
    "counts = df['Discount'].value_counts()\n",
    "counts.sort_index()\n",
    "count_dict = dict(zip(counts.index, counts.values))\n",
    "count_dict"
   ]
  },
  {
   "cell_type": "markdown",
   "metadata": {
    "colab_type": "text",
    "id": "nFvh-eMWBRm9"
   },
   "source": [
    "### Aim 1.2: EDA on dataset"
   ]
  },
  {
   "cell_type": "code",
   "execution_count": 41,
   "metadata": {
    "colab": {
     "base_uri": "https://localhost:8080/",
     "height": 1712
    },
    "colab_type": "code",
    "id": "pMccsD16BRm-",
    "outputId": "f6d4c8c0-523a-488f-e445-d676da814b11"
   },
   "outputs": [
    {
     "data": {
      "image/png": "[encoded data removed]",
      "text/plain": [
       "<Figure size 648x504 with 2 Axes>"
      ]
     },
     "metadata": {},
     "output_type": "display_data"
    },
    {
     "data": {
      "image/png": "[encoded data removed]",
      "text/plain": [
       "<Figure size 648x504 with 2 Axes>"
      ]
     },
     "metadata": {},
     "output_type": "display_data"
    },
    {
     "data": {
      "image/png": "[encoded data removed]",
      "text/plain": [
       "<Figure size 648x504 with 2 Axes>"
      ]
     },
     "metadata": {},
     "output_type": "display_data"
    },
    {
     "data": {
      "image/png": "[encoded data removed]",
      "text/plain": [
       "<Figure size 648x504 with 2 Axes>"
      ]
     },
     "metadata": {},
     "output_type": "display_data"
    },
    {
     "data": {
      "image/png": "[encoded data removed]",
      "text/plain": [
       "<Figure size 648x504 with 2 Axes>"
      ]
     },
     "metadata": {},
     "output_type": "display_data"
    },
    {
     "data": {
      "image/png": "[encoded data removed]",
      "text/plain": [
       "<Figure size 648x504 with 2 Axes>"
      ]
     },
     "metadata": {},
     "output_type": "display_data"
    }
   ],
   "source": [
    "# df['Quantity'].groupby(df['Discount']).plot(kind='bar')\n",
    "plot_hist_scat_sns(df.drop(['OrderId','ProductId'],axis=1),'Quantity')"
   ]
  },
  {
   "cell_type": "markdown",
   "metadata": {
    "colab_type": "text",
    "id": "u1V-i0y6wwTB",
    "scrolled": true
   },
   "source": [
    "#### Note on OrderDetails df:\n",
    "1. There are 11 possible values for discounts: \n",
    "    - Values = [0.0, 0.01, 0.02, 0.03, 0.04, 0.05, 0.06, 0.1, 0.15, 0.2, 0.25]<br>\n",
    "    - However, there are very few entries for some of the levels of value.<br>\n",
    "    ``` print(sorted(df['Discount'].unique())) ```\n",
    "2. The data for quantity looks skewed and not-normal. \n",
    "    - Normality tests will likely come back significant \n",
    "    "
   ]
  },
  {
   "cell_type": "markdown",
   "metadata": {
    "colab_type": "text",
    "id": "nrgngwVVBRnB"
   },
   "source": [
    "### Aim 1.3: Generated and inspect the required groups\n",
    "- Generate the groups that we want to test.\n",
    "    - Discounted\n",
    "    - Full price \n",
    "- Once review, use info to determine next steps."
   ]
  },
  {
   "cell_type": "code",
   "execution_count": 42,
   "metadata": {
    "colab": {
     "base_uri": "https://localhost:8080/",
     "height": 319
    },
    "colab_type": "code",
    "id": "S7s99OFmwwRS",
    "outputId": "f56634ab-809f-4483-da3c-dc5c78baa0bf"
   },
   "outputs": [
    {
     "name": "stdout",
     "output_type": "stream",
     "text": [
      "\n",
      "All Quantities:\n"
     ]
    }
   ],
   "source": [
    "# Print the descriptive statistics.\n",
    "df_discounted = df.loc[df['Discount']>0]\n",
    "df_fullprice = df.loc[df['Discount']==0]\n",
    "\n",
    "print(f'\\nAll Quantities:')\n",
    "# df.drop(['OrderId','ProductId'],axis=1).describe().round()"
   ]
  },
  {
   "cell_type": "code",
   "execution_count": 43,
   "metadata": {
    "colab": {
     "base_uri": "https://localhost:8080/",
     "height": 319
    },
    "colab_type": "code",
    "id": "SxZ2yH5cBRnE",
    "outputId": "51a629a1-7aea-4b50-f3f7-09f0f221917f"
   },
   "outputs": [
    {
     "name": "stdout",
     "output_type": "stream",
     "text": [
      "\n",
      "Discounted Quantities:\n"
     ]
    }
   ],
   "source": [
    "print(f'\\nDiscounted Quantities:')\n",
    "\n",
    "# df_discounted.drop(['OrderId','ProductId'],axis=1).describe().round()"
   ]
  },
  {
   "cell_type": "code",
   "execution_count": 44,
   "metadata": {
    "colab": {
     "base_uri": "https://localhost:8080/",
     "height": 319
    },
    "colab_type": "code",
    "id": "L-DcuavHBRnG",
    "outputId": "bc780446-757e-4203-8726-9d2c2116831f"
   },
   "outputs": [
    {
     "name": "stdout",
     "output_type": "stream",
     "text": [
      "Full price Quantities:\n",
      "\n"
     ]
    },
    {
     "data": {
      "text/html": [
       "<div>\n",
       "<style scoped>\n",
       "    .dataframe tbody tr th:only-of-type {\n",
       "        vertical-align: middle;\n",
       "    }\n",
       "\n",
       "    .dataframe tbody tr th {\n",
       "        vertical-align: top;\n",
       "    }\n",
       "\n",
       "    .dataframe thead th {\n",
       "        text-align: right;\n",
       "    }\n",
       "</style>\n",
       "<table border=\"1\" class=\"dataframe\">\n",
       "  <thead>\n",
       "    <tr style=\"text-align: center;\">\n",
       "      <th></th>\n",
       "      <th>UnitPrice</th>\n",
       "      <th>Quantity</th>\n",
       "      <th>Discount</th>\n",
       "      <th>EmployeeId</th>\n",
       "      <th>ShipVia</th>\n",
       "      <th>Freight</th>\n",
       "    </tr>\n",
       "  </thead>\n",
       "  <tbody>\n",
       "    <tr>\n",
       "      <th>count</th>\n",
       "      <td>1317.0</td>\n",
       "      <td>1317.0</td>\n",
       "      <td>1317.0</td>\n",
       "      <td>1317.0</td>\n",
       "      <td>1317.0</td>\n",
       "      <td>1317.0</td>\n",
       "    </tr>\n",
       "    <tr>\n",
       "      <th>mean</th>\n",
       "      <td>26.0</td>\n",
       "      <td>22.0</td>\n",
       "      <td>0.0</td>\n",
       "      <td>4.0</td>\n",
       "      <td>2.0</td>\n",
       "      <td>94.0</td>\n",
       "    </tr>\n",
       "    <tr>\n",
       "      <th>std</th>\n",
       "      <td>30.0</td>\n",
       "      <td>18.0</td>\n",
       "      <td>0.0</td>\n",
       "      <td>2.0</td>\n",
       "      <td>1.0</td>\n",
       "      <td>137.0</td>\n",
       "    </tr>\n",
       "    <tr>\n",
       "      <th>min</th>\n",
       "      <td>2.0</td>\n",
       "      <td>1.0</td>\n",
       "      <td>0.0</td>\n",
       "      <td>1.0</td>\n",
       "      <td>1.0</td>\n",
       "      <td>0.0</td>\n",
       "    </tr>\n",
       "    <tr>\n",
       "      <th>25%</th>\n",
       "      <td>12.0</td>\n",
       "      <td>10.0</td>\n",
       "      <td>0.0</td>\n",
       "      <td>2.0</td>\n",
       "      <td>1.0</td>\n",
       "      <td>15.0</td>\n",
       "    </tr>\n",
       "    <tr>\n",
       "      <th>50%</th>\n",
       "      <td>18.0</td>\n",
       "      <td>18.0</td>\n",
       "      <td>0.0</td>\n",
       "      <td>4.0</td>\n",
       "      <td>2.0</td>\n",
       "      <td>47.0</td>\n",
       "    </tr>\n",
       "    <tr>\n",
       "      <th>75%</th>\n",
       "      <td>33.0</td>\n",
       "      <td>30.0</td>\n",
       "      <td>0.0</td>\n",
       "      <td>6.0</td>\n",
       "      <td>3.0</td>\n",
       "      <td>117.0</td>\n",
       "    </tr>\n",
       "    <tr>\n",
       "      <th>max</th>\n",
       "      <td>264.0</td>\n",
       "      <td>130.0</td>\n",
       "      <td>0.0</td>\n",
       "      <td>9.0</td>\n",
       "      <td>3.0</td>\n",
       "      <td>1008.0</td>\n",
       "    </tr>\n",
       "  </tbody>\n",
       "</table>\n",
       "</div>"
      ],
      "text/plain": [
       "       UnitPrice  Quantity  Discount  EmployeeId  ShipVia  Freight\n",
       "count   1317.0     1317.0    1317.0     1317.0    1317.0   1317.0 \n",
       "mean      26.0       22.0       0.0        4.0       2.0     94.0 \n",
       "std       30.0       18.0       0.0        2.0       1.0    137.0 \n",
       "min        2.0        1.0       0.0        1.0       1.0      0.0 \n",
       "25%       12.0       10.0       0.0        2.0       1.0     15.0 \n",
       "50%       18.0       18.0       0.0        4.0       2.0     47.0 \n",
       "75%       33.0       30.0       0.0        6.0       3.0    117.0 \n",
       "max      264.0      130.0       0.0        9.0       3.0   1008.0 "
      ]
     },
     "execution_count": 44,
     "metadata": {},
     "output_type": "execute_result"
    }
   ],
   "source": [
    "print(f'Full price Quantities:\\n')\n",
    "df_fullprice.drop(['OrderId','ProductId'],axis=1).describe().round()"
   ]
  },
  {
   "cell_type": "markdown",
   "metadata": {
    "colab_type": "text",
    "id": "53olqpmbBRnI"
   },
   "source": [
    "### Plotting Summary EDA Figure"
   ]
  },
  {
   "cell_type": "code",
   "execution_count": 45,
   "metadata": {
    "colab": {
     "base_uri": "https://localhost:8080/",
     "height": 448
    },
    "colab_type": "code",
    "id": "K97UJlGd6Oop",
    "outputId": "484f8184-ef6a-47d0-935c-5ffbcbd6cbf4"
   },
   "outputs": [
    {
     "name": "stdout",
     "output_type": "stream",
     "text": [
      "Mean of Full Price: 21.715261958997722\n",
      " Mean of Discounted: 27.10978520286396\n"
     ]
    },
    {
     "data": {
      "text/plain": [
       "<Figure size 432x288 with 0 Axes>"
      ]
     },
     "metadata": {},
     "output_type": "display_data"
    },
    {
     "data": {
      "image/png": "[encoded data removed]",
      "text/plain": [
       "<Figure size 720x360 with 2 Axes>"
      ]
     },
     "metadata": {},
     "output_type": "display_data"
    }
   ],
   "source": [
    "kwargs = {'title_var':'Quantity Sold'}\n",
    "figa,ax = plot_wide_kde_thin_bar(df_fullprice['Quantity'],'Full Price',df_discounted['Quantity'],'Discounted',**kwargs)"
   ]
  },
  {
   "cell_type": "code",
   "execution_count": 46,
   "metadata": {
    "colab": {},
    "colab_type": "code",
    "id": "WEVjgrtWe5HC"
   },
   "outputs": [],
   "source": [
    "## Uncomment this cell to save the outputs.\n",
    "# figa.savefig('H1_Kde_bar_Quantity_black.png',dpi=300,facecolor='black')\n",
    "# df_discounted.to_csv('df_discounted.csv')\n",
    "# df_fullprice.to_csv('df_fullprice.csv')"
   ]
  },
  {
   "cell_type": "code",
   "execution_count": 47,
   "metadata": {
    "colab": {
     "base_uri": "https://localhost:8080/",
     "height": 836
    },
    "colab_type": "code",
    "id": "839dCzOpVFJ_",
    "outputId": "a2d4f540-4f5e-4668-ef23-5b1a0ea24f29"
   },
   "outputs": [],
   "source": [
    "# df_fullprice.info(), df_discounted.info()"
   ]
  },
  {
   "cell_type": "markdown",
   "metadata": {
    "colab_type": "text",
    "id": "q-uvY3EMwwRg"
   },
   "source": [
    "## ***H1, Aim 2: Select the appropriate t-test based on tests for the assumptions of normality and homogeneity of variance.***\n",
    "1. **Test for Normality**\n",
    "    - D'Agostino-Pearson's normality test<br>\n",
    "    ```scipy.stats.normaltest```\n",
    "    - Shapiro-Wilik Test<br>\n",
    "    ```scipy.stats.shapiro```\n",
    "2. **Test for Homogeneity of Variance**\n",
    "    - Levene's Test<br>\n",
    "     ```scipy.stats.levene```\n",
    "\n",
    "3. **Choose appropriate test based upon 1. and 2.** \n",
    "___"
   ]
  },
  {
   "cell_type": "markdown",
   "metadata": {
    "colab_type": "text",
    "id": "vCAvdujwBRnM"
   },
   "source": [
    "### Aim 2.1. Test for Normality"
   ]
  },
  {
   "cell_type": "markdown",
   "metadata": {
    "colab_type": "text",
    "id": "77osFmuAbEj0"
   },
   "source": [
    "#### Prelminary Testing for Normality "
   ]
  },
  {
   "cell_type": "code",
   "execution_count": 48,
   "metadata": {
    "colab": {
     "base_uri": "https://localhost:8080/",
     "height": 472
    },
    "colab_type": "code",
    "id": "LugZh3YyBRnP",
    "outputId": "a38a54da-974b-4c05-9536-759ca68336d2"
   },
   "outputs": [
    {
     "data": {
      "image/png": "[encoded data removed]",
      "text/plain": [
       "<Figure size 432x288 with 1 Axes>"
      ]
     },
     "metadata": {},
     "output_type": "display_data"
    }
   ],
   "source": [
    "# Plot the re-sampled data\n",
    "\n",
    "# # IF want to take smaller sample from population:\n",
    "\n",
    "# pop_samp_disc = np.random.choice(pop_samp_disc,1000)\n",
    "# pop_samp_full = np.random.choice(pop_samp_full, 1000)\n",
    "with plt.style.context(('dark_background')):\n",
    "    \n",
    "    fig = plt.figure()\n",
    "    plt.title('Distribution of Quanitities for Discounted vs Full Price ')\n",
    "\n",
    "    disc = df_discounted['Quantity']\n",
    "    full = df_fullprice['Quantity']\n",
    "    \n",
    "    \n",
    "    plt.hist(full,color='red', alpha = 0.5, bins=30,label='Full Price')\n",
    "    plt.hist(disc, alpha = 0.8, bins=30,label='Discounted')\n",
    "\n",
    "    # Adding annotations\n",
    "    meanD = round(np.mean(disc),3)\n",
    "    meanF = round(np.mean(full),3)\n",
    "    \n",
    "    plt.axvline(meanD, color='green',linestyle='--',label='Discounted Mean')\n",
    "    plt.text(meanD,190,f'Mean:{meanD}',rotation=270,fontweight='medium')\n",
    "    \n",
    "    plt.axvline(meanF,color='white',linestyle='-',label='Full Price Mean')\n",
    "    plt.text(meanF, 190, f'Mean:{meanF}',rotation=270,fontweight='medium')\n",
    "\n",
    "    plt.xlabel('Quantity')\n",
    "    plt.ylabel('Counts')\n",
    "    plt.legend()\n",
    "    plt.show()\n",
    "\n",
    "# Run normality testing\n",
    "# stat,p = normaltest(pop_samp_full)\n",
    "# print(f'Normality: stat ={stat}, p = {p}')\n",
    "\n",
    "# Run ttest\n",
    "# tstat,tp = stats.ttest_ind(pop_samp_disc, pop_samp_full)\n",
    "# print(f'T-test: stat ={tstat}, p = {tp}')#tstat,tp\n",
    "# ax.text("
   ]
  },
  {
   "cell_type": "code",
   "execution_count": 49,
   "metadata": {
    "colab": {
     "base_uri": "https://localhost:8080/",
     "height": 140
    },
    "colab_type": "code",
    "id": "B8V_fLKzNLgS",
    "outputId": "4d3e2b84-194e-405c-f9b5-08bbb7dce685"
   },
   "outputs": [
    {
     "name": "stdout",
     "output_type": "stream",
     "text": [
      "Discounted: p =1.6214878452829618e-57, stat =261.528012299789\n",
      "Fullprice: p =5.579637380545965e-119, stat =544.5770045551502\n"
     ]
    },
    {
     "data": {
      "text/html": [
       "<div>\n",
       "<style scoped>\n",
       "    .dataframe tbody tr th:only-of-type {\n",
       "        vertical-align: middle;\n",
       "    }\n",
       "\n",
       "    .dataframe tbody tr th {\n",
       "        vertical-align: top;\n",
       "    }\n",
       "\n",
       "    .dataframe thead th {\n",
       "        text-align: right;\n",
       "    }\n",
       "</style>\n",
       "<table border=\"1\" class=\"dataframe\">\n",
       "  <thead>\n",
       "    <tr style=\"text-align: center;\">\n",
       "      <th></th>\n",
       "      <th>DataIn</th>\n",
       "      <th>stat</th>\n",
       "      <th>p</th>\n",
       "    </tr>\n",
       "  </thead>\n",
       "  <tbody>\n",
       "    <tr>\n",
       "      <th>0</th>\n",
       "      <td>Discounted</td>\n",
       "      <td>261.528</td>\n",
       "      <td>1.621e-57</td>\n",
       "    </tr>\n",
       "    <tr>\n",
       "      <th>1</th>\n",
       "      <td>Fullprice</td>\n",
       "      <td>544.577</td>\n",
       "      <td>5.580e-119</td>\n",
       "    </tr>\n",
       "  </tbody>\n",
       "</table>\n",
       "</div>"
      ],
      "text/plain": [
       "     DataIn     stat         p    \n",
       "0  Discounted  261.528   1.621e-57\n",
       "1   Fullprice  544.577  5.580e-119"
      ]
     },
     "execution_count": 49,
     "metadata": {},
     "output_type": "execute_result"
    }
   ],
   "source": [
    "# D'Agonstino Pearson Normality Test\n",
    "from scipy.stats import normaltest \n",
    "# Create results container list\n",
    "results_normtest = [['DataIn','stat','p']]\n",
    "\n",
    "# Perform Normality Test - Discounted\n",
    "stat, p = normaltest(df_discounted['Quantity'])\n",
    "results_normtest.append(['Discounted',stat,p])\n",
    "print(f'Discounted: p ={p}, stat ={stat}')\n",
    "\n",
    "# Perform Normality Test - Full Price\n",
    "stat, p = normaltest(df_fullprice['Quantity'])\n",
    "results_normtest.append(['Fullprice',stat,p])\n",
    "\n",
    "print(f'Fullprice: p ={p}, stat ={stat}')\n",
    "list2df(results_normtest)"
   ]
  },
  {
   "cell_type": "markdown",
   "metadata": {
    "colab_type": "text",
    "id": "tciaNn_rWcAW"
   },
   "source": [
    "**Notes on Preliminary Normality Test:**\n",
    "- Both groups failed assumption of normality. \n",
    "\n",
    "    - Let's compare normaltest vs shapiro test\n",
    "    \n",
    "- Let's try removing outliers with previously define detect_outliers"
   ]
  },
  {
   "cell_type": "markdown",
   "metadata": {
    "colab_type": "text",
    "id": "9KN_7gOOBRna"
   },
   "source": [
    "#### def normtest_results"
   ]
  },
  {
   "cell_type": "code",
   "execution_count": 50,
   "metadata": {
    "colab": {},
    "colab_type": "code",
    "id": "UXvZaU8WBRnb"
   },
   "outputs": [],
   "source": [
    "def normtest_results(dict_data):\n",
    "    \"\"\"Peforms both d'agostino-pearson and shapiro-wilik normal tests\n",
    "        \n",
    "        Parameters:\n",
    "            dict_data -- dictionary with {'name' : data} \n",
    "        Returns:\n",
    "            results_normtest -- list of test results (can run list2df(results_normtest)\n",
    "    \"\"\"\n",
    "    from numpy.random import seed\n",
    "    from numpy.random import randn\n",
    "    from scipy.stats import shapiro\n",
    "    from scipy.stats import normaltest\n",
    "\n",
    "    results_normtest_shap = [['DataIn','Test','stat','p']]\n",
    "    results_normtest_dagp = [['DataIn','Test','stat','p']]\n",
    "\n",
    "    for key,val in dict_data.items():\n",
    "\n",
    "        data_in = val\n",
    "        name = key\n",
    "        test = 'Shapiro'\n",
    "        stat, p = shapiro(data_in)\n",
    "        results_normtest_shap.append([name , test, stat , p ])\n",
    "        test = 'D’Agostino’s'\n",
    "        stat, p = normaltest(data_in)\n",
    "        results_normtest_dagp.append([name,test,stat, p])\n",
    "\n",
    "    results_normtest = pd.concat([list2df(results_normtest_shap), list2df(results_normtest_dagp)]) \n",
    "\n",
    "    return results_normtest #, list2df(results_normtest_shap),list2df(results_normtest_dagp)\n",
    "\n",
    "#   results_pivot = results.pivot(index='DataIn', columns= 'Test')\n",
    "#   results_pivot.stack(0)"
   ]
  },
  {
   "cell_type": "markdown",
   "metadata": {
    "colab_type": "text",
    "id": "Fq_JAeWWwwRy"
   },
   "source": [
    "### Sub-Aim 2.1.1 Use detect_outliers to remove outliers re-run normality tests"
   ]
  },
  {
   "cell_type": "markdown",
   "metadata": {
    "colab_type": "text",
    "id": "eMA7n-4O9X7o"
   },
   "source": [
    "##### Run detect_outliers on df_discounted, df_fullprice, examine stats of outliers, and then test normality with cleaned data."
   ]
  },
  {
   "cell_type": "code",
   "execution_count": 51,
   "metadata": {
    "colab": {
     "base_uri": "https://localhost:8080/",
     "height": 336
    },
    "colab_type": "code",
    "id": "nxaepnCPwwRz",
    "outputId": "5516dc09-b32a-4bee-d106-d6000d32e4f6"
   },
   "outputs": [
    {
     "name": "stdout",
     "output_type": "stream",
     "text": [
      "\n",
      "Descriptive Stats for Discounted Outliers:\n",
      "There are 29 outliers out of 2155 = 1.345707656612529 %\n"
     ]
    },
    {
     "data": {
      "text/html": [
       "<div>\n",
       "<style scoped>\n",
       "    .dataframe tbody tr th:only-of-type {\n",
       "        vertical-align: middle;\n",
       "    }\n",
       "\n",
       "    .dataframe tbody tr th {\n",
       "        vertical-align: top;\n",
       "    }\n",
       "\n",
       "    .dataframe thead th {\n",
       "        text-align: right;\n",
       "    }\n",
       "</style>\n",
       "<table border=\"1\" class=\"dataframe\">\n",
       "  <thead>\n",
       "    <tr style=\"text-align: center;\">\n",
       "      <th></th>\n",
       "      <th>Quantity</th>\n",
       "      <th>Discount</th>\n",
       "    </tr>\n",
       "  </thead>\n",
       "  <tbody>\n",
       "    <tr>\n",
       "      <th>count</th>\n",
       "      <td>29.0</td>\n",
       "      <td>29.0</td>\n",
       "    </tr>\n",
       "    <tr>\n",
       "      <th>mean</th>\n",
       "      <td>94.0</td>\n",
       "      <td>0.0</td>\n",
       "    </tr>\n",
       "    <tr>\n",
       "      <th>std</th>\n",
       "      <td>17.0</td>\n",
       "      <td>0.0</td>\n",
       "    </tr>\n",
       "    <tr>\n",
       "      <th>min</th>\n",
       "      <td>77.0</td>\n",
       "      <td>0.0</td>\n",
       "    </tr>\n",
       "    <tr>\n",
       "      <th>25%</th>\n",
       "      <td>80.0</td>\n",
       "      <td>0.0</td>\n",
       "    </tr>\n",
       "    <tr>\n",
       "      <th>50%</th>\n",
       "      <td>90.0</td>\n",
       "      <td>0.0</td>\n",
       "    </tr>\n",
       "    <tr>\n",
       "      <th>75%</th>\n",
       "      <td>100.0</td>\n",
       "      <td>0.0</td>\n",
       "    </tr>\n",
       "    <tr>\n",
       "      <th>max</th>\n",
       "      <td>130.0</td>\n",
       "      <td>0.0</td>\n",
       "    </tr>\n",
       "  </tbody>\n",
       "</table>\n",
       "</div>"
      ],
      "text/plain": [
       "       Quantity  Discount\n",
       "count     29.0     29.0  \n",
       "mean      94.0      0.0  \n",
       "std       17.0      0.0  \n",
       "min       77.0      0.0  \n",
       "25%       80.0      0.0  \n",
       "50%       90.0      0.0  \n",
       "75%      100.0      0.0  \n",
       "max      130.0      0.0  "
      ]
     },
     "execution_count": 51,
     "metadata": {},
     "output_type": "execute_result"
    }
   ],
   "source": [
    "# Detect outliers in df_discounted\n",
    "outlier_disc = detect_outliers(df_discounted,0,['Quantity'])\n",
    "\n",
    "print(f'\\nDescriptive Stats for Discounted Outliers:')\n",
    "print(f'There are {len(outlier_disc)} outliers out of {len(df)} = {len(outlier_disc)/len(df)*100} %')\n",
    "df[['Quantity','Discount']].iloc[outlier_disc].describe().round()"
   ]
  },
  {
   "cell_type": "code",
   "execution_count": 52,
   "metadata": {
    "colab": {
     "base_uri": "https://localhost:8080/",
     "height": 336
    },
    "colab_type": "code",
    "id": "1uQLmUcZ_5t3",
    "outputId": "32a82937-c3d9-40de-83ad-6620a4d0659a"
   },
   "outputs": [
    {
     "name": "stdout",
     "output_type": "stream",
     "text": [
      "\n",
      "Descriptive Stats for Fullprice Outliers:\n",
      "There are 34 outliers out of 2155 = 1.5777262180974478%\n"
     ]
    },
    {
     "data": {
      "text/html": [
       "<div>\n",
       "<style scoped>\n",
       "    .dataframe tbody tr th:only-of-type {\n",
       "        vertical-align: middle;\n",
       "    }\n",
       "\n",
       "    .dataframe tbody tr th {\n",
       "        vertical-align: top;\n",
       "    }\n",
       "\n",
       "    .dataframe thead th {\n",
       "        text-align: right;\n",
       "    }\n",
       "</style>\n",
       "<table border=\"1\" class=\"dataframe\">\n",
       "  <thead>\n",
       "    <tr style=\"text-align: center;\">\n",
       "      <th></th>\n",
       "      <th>Quantity</th>\n",
       "      <th>Discount</th>\n",
       "    </tr>\n",
       "  </thead>\n",
       "  <tbody>\n",
       "    <tr>\n",
       "      <th>count</th>\n",
       "      <td>34.0</td>\n",
       "      <td>34.0</td>\n",
       "    </tr>\n",
       "    <tr>\n",
       "      <th>mean</th>\n",
       "      <td>86.0</td>\n",
       "      <td>0.0</td>\n",
       "    </tr>\n",
       "    <tr>\n",
       "      <th>std</th>\n",
       "      <td>20.0</td>\n",
       "      <td>0.0</td>\n",
       "    </tr>\n",
       "    <tr>\n",
       "      <th>min</th>\n",
       "      <td>63.0</td>\n",
       "      <td>0.0</td>\n",
       "    </tr>\n",
       "    <tr>\n",
       "      <th>25%</th>\n",
       "      <td>70.0</td>\n",
       "      <td>0.0</td>\n",
       "    </tr>\n",
       "    <tr>\n",
       "      <th>50%</th>\n",
       "      <td>80.0</td>\n",
       "      <td>0.0</td>\n",
       "    </tr>\n",
       "    <tr>\n",
       "      <th>75%</th>\n",
       "      <td>100.0</td>\n",
       "      <td>0.0</td>\n",
       "    </tr>\n",
       "    <tr>\n",
       "      <th>max</th>\n",
       "      <td>130.0</td>\n",
       "      <td>0.0</td>\n",
       "    </tr>\n",
       "  </tbody>\n",
       "</table>\n",
       "</div>"
      ],
      "text/plain": [
       "       Quantity  Discount\n",
       "count     34.0     34.0  \n",
       "mean      86.0      0.0  \n",
       "std       20.0      0.0  \n",
       "min       63.0      0.0  \n",
       "25%       70.0      0.0  \n",
       "50%       80.0      0.0  \n",
       "75%      100.0      0.0  \n",
       "max      130.0      0.0  "
      ]
     },
     "execution_count": 52,
     "metadata": {},
     "output_type": "execute_result"
    }
   ],
   "source": [
    "# Detect outliers in df_fullprice\n",
    "outlier_no_disc = detect_outliers(df_fullprice,0,['Quantity'])\n",
    "print(f'\\nDescriptive Stats for Fullprice Outliers:')\n",
    "print(f'There are {len(outlier_no_disc)} outliers out of {len(df)} = {len(outlier_no_disc)/len(df)*100}%')\n",
    "df[['Quantity','Discount']].iloc[outlier_no_disc].describe().round()"
   ]
  },
  {
   "cell_type": "markdown",
   "metadata": {
    "colab_type": "text",
    "id": "gGqk4D46HP4O"
   },
   "source": [
    "#### Remove outliers and re-run normality testing"
   ]
  },
  {
   "cell_type": "code",
   "execution_count": 53,
   "metadata": {
    "colab": {
     "base_uri": "https://localhost:8080/",
     "height": 401
    },
    "colab_type": "code",
    "id": "7GUrC_QaHayz",
    "outputId": "b4dc2d05-d79a-4929-8797-1057112fd5e2"
   },
   "outputs": [
    {
     "name": "stdout",
     "output_type": "stream",
     "text": [
      "outlier_disc removed 29 outliers\n",
      "outlier_no_disc removed 34 outliers\n",
      "After removal:\n",
      "Id                 63\n",
      "OrderId            63\n",
      "ProductId          63\n",
      "UnitPrice          63\n",
      "Quantity           63\n",
      "Discount           63\n",
      "CustomerId         63\n",
      "EmployeeId         63\n",
      "OrderDate          63\n",
      "RequiredDate       63\n",
      "ShippedDate       134\n",
      "ShipVia            63\n",
      "Freight            63\n",
      "ShipName           63\n",
      "ShipAddress        63\n",
      "ShipCity           63\n",
      "ShipRegion         63\n",
      "ShipPostalCode    114\n",
      "ShipCountry        63\n",
      "dtype: int64\n"
     ]
    }
   ],
   "source": [
    "# Indices were from original dataframe still, so dorp outliers from a copy of that \n",
    "df_to_clean = df.copy()\n",
    "\n",
    "# Fill Data to Remove with np.nan\n",
    "remove_label = ['outlier_disc' , 'outlier_no_disc']\n",
    "remove_data = [outlier_disc , outlier_no_disc]\n",
    "\n",
    "remove_me = dict(zip(remove_label, remove_data))\n",
    "\n",
    "# Loop and replace indices of outliers with np.nan \n",
    "for key,val in remove_me.items():\n",
    "    \n",
    "    df_to_clean.iloc[val]=np.nan\n",
    "    \n",
    "    print(f'{key} removed {len(val)} outliers')\n",
    "\n",
    "print('After removal:')\n",
    "print(df_to_clean.isna().sum())"
   ]
  },
  {
   "cell_type": "code",
   "execution_count": 54,
   "metadata": {
    "colab": {
     "base_uri": "https://localhost:8080/",
     "height": 418
    },
    "colab_type": "code",
    "id": "Uk4M3t4gKGa9",
    "outputId": "d11b9ea5-fdcc-48e7-f77c-e99e47487950"
   },
   "outputs": [],
   "source": [
    "# Replace na and run stattest \n",
    "# df_to_clean.info()"
   ]
  },
  {
   "cell_type": "code",
   "execution_count": 55,
   "metadata": {
    "colab": {
     "base_uri": "https://localhost:8080/",
     "height": 803
    },
    "colab_type": "code",
    "id": "W-5EtAuNMF84",
    "outputId": "8376e911-fe65-432f-95b8-63e391689d4d"
   },
   "outputs": [],
   "source": [
    "# pause\n",
    "df_clean = df_to_clean.dropna(axis=0)#,inplace=True)\n",
    "# df_clean.info(),print(f'\\n\\nOutliers present:'),df_clean.isna().any()"
   ]
  },
  {
   "cell_type": "markdown",
   "metadata": {
    "colab_type": "text",
    "id": "6PrPoFbsMZKb"
   },
   "source": [
    "#### Separate Back into Discounted and Fullprice Dataframes  "
   ]
  },
  {
   "cell_type": "code",
   "execution_count": 56,
   "metadata": {
    "colab": {},
    "colab_type": "code",
    "id": "QQlm4VmiUPOG"
   },
   "outputs": [],
   "source": [
    "# Separate Back into Discounted and Fullprice Dataframes  \n",
    "\n",
    "# Building data_in dictionary for normtest_results\n",
    "df_disc_orig = df_discounted\n",
    "df_full_orig = df_fullprice\n",
    "\n",
    "df_discounted_clean = df_clean.loc[df_clean['Discount']>0].copy()\n",
    "# df_discounted_clean.info()\n",
    "df_fullprice_clean = df_clean.loc[df_clean['Discount']==0].copy()\n",
    "# df_fullprice_clean.info()"
   ]
  },
  {
   "cell_type": "code",
   "execution_count": 57,
   "metadata": {
    "colab": {},
    "colab_type": "code",
    "id": "meSZ5a-CBRnx"
   },
   "outputs": [],
   "source": [
    "# Combine all data into 1 dictionary for normtest_results.\n",
    "data_in = {}\n",
    "\n",
    "data_in['Disc, Orig'] = df_disc_orig['Quantity']\n",
    "data_in['Disc, Clean'] = df_discounted_clean['Quantity']\n",
    "\n",
    "data_in['Full Price','Orig'] = df_full_orig['Quantity']\n",
    "data_in['Full Price','Clean'] = df_fullprice_clean['Quantity']"
   ]
  },
  {
   "cell_type": "code",
   "execution_count": 58,
   "metadata": {
    "colab": {
     "base_uri": "https://localhost:8080/",
     "height": 316
    },
    "colab_type": "code",
    "id": "6hasxYQ0BRnz",
    "outputId": "0fa457f2-5cbc-4df2-adb9-c774cbe293f1"
   },
   "outputs": [
    {
     "data": {
      "text/html": [
       "<div>\n",
       "<style scoped>\n",
       "    .dataframe tbody tr th:only-of-type {\n",
       "        vertical-align: middle;\n",
       "    }\n",
       "\n",
       "    .dataframe tbody tr th {\n",
       "        vertical-align: top;\n",
       "    }\n",
       "\n",
       "    .dataframe thead th {\n",
       "        text-align: right;\n",
       "    }\n",
       "</style>\n",
       "<table border=\"1\" class=\"dataframe\">\n",
       "  <thead>\n",
       "    <tr style=\"text-align: center;\">\n",
       "      <th></th>\n",
       "      <th>Test</th>\n",
       "      <th>stat</th>\n",
       "      <th>p</th>\n",
       "    </tr>\n",
       "    <tr>\n",
       "      <th>DataIn</th>\n",
       "      <th></th>\n",
       "      <th></th>\n",
       "      <th></th>\n",
       "    </tr>\n",
       "  </thead>\n",
       "  <tbody>\n",
       "    <tr>\n",
       "      <th>Disc, Orig</th>\n",
       "      <td>Shapiro</td>\n",
       "      <td>0.869</td>\n",
       "      <td>6.881e-26</td>\n",
       "    </tr>\n",
       "    <tr>\n",
       "      <th>Disc, Clean</th>\n",
       "      <td>Shapiro</td>\n",
       "      <td>0.921</td>\n",
       "      <td>2.661e-19</td>\n",
       "    </tr>\n",
       "    <tr>\n",
       "      <th>(Full Price, Orig)</th>\n",
       "      <td>Shapiro</td>\n",
       "      <td>0.843</td>\n",
       "      <td>3.804e-34</td>\n",
       "    </tr>\n",
       "    <tr>\n",
       "      <th>(Full Price, Clean)</th>\n",
       "      <td>Shapiro</td>\n",
       "      <td>0.917</td>\n",
       "      <td>1.903e-25</td>\n",
       "    </tr>\n",
       "    <tr>\n",
       "      <th>Disc, Orig</th>\n",
       "      <td>D’Agostino’s</td>\n",
       "      <td>261.528</td>\n",
       "      <td>1.621e-57</td>\n",
       "    </tr>\n",
       "    <tr>\n",
       "      <th>Disc, Clean</th>\n",
       "      <td>D’Agostino’s</td>\n",
       "      <td>80.420</td>\n",
       "      <td>3.444e-18</td>\n",
       "    </tr>\n",
       "    <tr>\n",
       "      <th>(Full Price, Orig)</th>\n",
       "      <td>D’Agostino’s</td>\n",
       "      <td>544.577</td>\n",
       "      <td>5.580e-119</td>\n",
       "    </tr>\n",
       "    <tr>\n",
       "      <th>(Full Price, Clean)</th>\n",
       "      <td>D’Agostino’s</td>\n",
       "      <td>140.846</td>\n",
       "      <td>2.605e-31</td>\n",
       "    </tr>\n",
       "  </tbody>\n",
       "</table>\n",
       "</div>"
      ],
      "text/plain": [
       "                         Test       stat         p    \n",
       "DataIn                                                \n",
       "Disc, Orig                Shapiro    0.869   6.881e-26\n",
       "Disc, Clean               Shapiro    0.921   2.661e-19\n",
       "(Full Price, Orig)        Shapiro    0.843   3.804e-34\n",
       "(Full Price, Clean)       Shapiro    0.917   1.903e-25\n",
       "Disc, Orig           D’Agostino’s  261.528   1.621e-57\n",
       "Disc, Clean          D’Agostino’s   80.420   3.444e-18\n",
       "(Full Price, Orig)   D’Agostino’s  544.577  5.580e-119\n",
       "(Full Price, Clean)  D’Agostino’s  140.846   2.605e-31"
      ]
     },
     "execution_count": 58,
     "metadata": {},
     "output_type": "execute_result"
    }
   ],
   "source": [
    "# Run normtest_results on combined dataset.\n",
    "results = normtest_results(data_in) #[0]\n",
    "results.set_index('DataIn')"
   ]
  },
  {
   "cell_type": "markdown",
   "metadata": {
    "colab_type": "text",
    "id": "PVXDUinWuA9G"
   },
   "source": [
    "**Notes re: removing outliers with detect_outliers.**\n",
    "- Still getting significant results for normality testing. \n",
    "- Attempting 1 more method of outlier removal -- QuantileTransformer<br>\n",
    "```from sklearn.preprocessing import QuantileTransformer```"
   ]
  },
  {
   "cell_type": "markdown",
   "metadata": {
    "colab_type": "text",
    "id": "AThkalzRBRn1"
   },
   "source": [
    "### Sub-Aim 2.1.2 Use QuantileTransformer to attempt to meet the assumption of normality."
   ]
  },
  {
   "cell_type": "markdown",
   "metadata": {
    "colab_type": "text",
    "id": "WHSkqDscBRn1"
   },
   "source": [
    "#### def quant_transform "
   ]
  },
  {
   "cell_type": "code",
   "execution_count": 59,
   "metadata": {
    "colab": {},
    "colab_type": "code",
    "id": "GBZfYvQO2Jr0"
   },
   "outputs": [],
   "source": [
    "# TRANSFORM DATA BEFORE RE-CALLING ORIGINAL normtest_results\n",
    "def quant_transform(data_in):\n",
    "    '''Use sklearn.preprocessing.QuantileTransformer to remove outliers from dataset.\n",
    "    \n",
    "    Parameters:\n",
    "        data_in (dict) -- dictionary with data series as values to be processed.\n",
    "    Returns: \n",
    "        data_tf (dict) -- dicionary of same keys from data_in, but transformed.\n",
    "        '''\n",
    "    \n",
    "    from sklearn import preprocessing as prep \n",
    "    from sklearn.preprocessing import QuantileTransformer\n",
    "\n",
    "    qt =  QuantileTransformer(n_quantiles=10,output_distribution='normal')\n",
    "    data_tf = {}\n",
    "    for k,v in data_in.items():    \n",
    "        data = np.array(v).reshape(-1,1)\n",
    "        transformed = pd.Series(np.squeeze(qt.fit_transform(data)))\n",
    "      \n",
    "        data_tf[k] = transformed\n",
    "    \n",
    "    return data_tf"
   ]
  },
  {
   "cell_type": "code",
   "execution_count": 60,
   "metadata": {
    "colab": {
     "base_uri": "https://localhost:8080/",
     "height": 286
    },
    "colab_type": "code",
    "id": "5Iqt2xNPPF8H",
    "outputId": "7376129a-3723-4c85-feb9-1bbdd888f5f1"
   },
   "outputs": [
    {
     "data": {
      "text/html": [
       "<div>\n",
       "<style scoped>\n",
       "    .dataframe tbody tr th:only-of-type {\n",
       "        vertical-align: middle;\n",
       "    }\n",
       "\n",
       "    .dataframe tbody tr th {\n",
       "        vertical-align: top;\n",
       "    }\n",
       "\n",
       "    .dataframe thead th {\n",
       "        text-align: right;\n",
       "    }\n",
       "</style>\n",
       "<table border=\"1\" class=\"dataframe\">\n",
       "  <thead>\n",
       "    <tr style=\"text-align: center;\">\n",
       "      <th></th>\n",
       "      <th>DataIn</th>\n",
       "      <th>Test</th>\n",
       "      <th>stat</th>\n",
       "      <th>p</th>\n",
       "    </tr>\n",
       "  </thead>\n",
       "  <tbody>\n",
       "    <tr>\n",
       "      <th>0</th>\n",
       "      <td>Disc, Orig</td>\n",
       "      <td>Shapiro</td>\n",
       "      <td>0.956</td>\n",
       "      <td>3.410e-15</td>\n",
       "    </tr>\n",
       "    <tr>\n",
       "      <th>1</th>\n",
       "      <td>Disc, Clean</td>\n",
       "      <td>Shapiro</td>\n",
       "      <td>0.855</td>\n",
       "      <td>1.641e-25</td>\n",
       "    </tr>\n",
       "    <tr>\n",
       "      <th>2</th>\n",
       "      <td>(Full Price, Orig)</td>\n",
       "      <td>Shapiro</td>\n",
       "      <td>0.919</td>\n",
       "      <td>5.725e-26</td>\n",
       "    </tr>\n",
       "    <tr>\n",
       "      <th>3</th>\n",
       "      <td>(Full Price, Clean)</td>\n",
       "      <td>Shapiro</td>\n",
       "      <td>0.860</td>\n",
       "      <td>1.033e-31</td>\n",
       "    </tr>\n",
       "    <tr>\n",
       "      <th>0</th>\n",
       "      <td>Disc, Orig</td>\n",
       "      <td>D’Agostino’s</td>\n",
       "      <td>103.590</td>\n",
       "      <td>3.203e-23</td>\n",
       "    </tr>\n",
       "    <tr>\n",
       "      <th>1</th>\n",
       "      <td>Disc, Clean</td>\n",
       "      <td>D’Agostino’s</td>\n",
       "      <td>110.340</td>\n",
       "      <td>1.096e-24</td>\n",
       "    </tr>\n",
       "    <tr>\n",
       "      <th>2</th>\n",
       "      <td>(Full Price, Orig)</td>\n",
       "      <td>D’Agostino’s</td>\n",
       "      <td>317.580</td>\n",
       "      <td>1.093e-69</td>\n",
       "    </tr>\n",
       "    <tr>\n",
       "      <th>3</th>\n",
       "      <td>(Full Price, Clean)</td>\n",
       "      <td>D’Agostino’s</td>\n",
       "      <td>327.580</td>\n",
       "      <td>7.362e-72</td>\n",
       "    </tr>\n",
       "  </tbody>\n",
       "</table>\n",
       "</div>"
      ],
      "text/plain": [
       "         DataIn             Test       stat        p    \n",
       "0           Disc, Orig       Shapiro    0.956  3.410e-15\n",
       "1          Disc, Clean       Shapiro    0.855  1.641e-25\n",
       "2   (Full Price, Orig)       Shapiro    0.919  5.725e-26\n",
       "3  (Full Price, Clean)       Shapiro    0.860  1.033e-31\n",
       "0           Disc, Orig  D’Agostino’s  103.590  3.203e-23\n",
       "1          Disc, Clean  D’Agostino’s  110.340  1.096e-24\n",
       "2   (Full Price, Orig)  D’Agostino’s  317.580  1.093e-69\n",
       "3  (Full Price, Clean)  D’Agostino’s  327.580  7.362e-72"
      ]
     },
     "execution_count": 60,
     "metadata": {},
     "output_type": "execute_result"
    }
   ],
   "source": [
    "# Run data_in through quant_transform to get data_tf\n",
    "data_tf = quant_transform(data_in)\n",
    "\n",
    "# Run transformed data through normtest_results.\n",
    "trans_norm_test = normtest_results(data_tf)#[0]\n",
    "trans_norm_test"
   ]
  },
  {
   "cell_type": "code",
   "execution_count": 61,
   "metadata": {
    "colab": {},
    "colab_type": "code",
    "id": "Cw61oSNnAVdc"
   },
   "outputs": [],
   "source": [
    "# dataDict = {'Original':data_in,'Transformed':data_in_tf }\n",
    "# # df_data = normtest_results(data_in)[0]\n",
    "# dataDict_results = {'Original-Results':normtest_results(data_in),'Transformed-Results': normtest_results(data_in_tf)}"
   ]
  },
  {
   "cell_type": "code",
   "execution_count": 62,
   "metadata": {
    "colab": {},
    "colab_type": "code",
    "id": "w3F7bYgx2xlw"
   },
   "outputs": [],
   "source": [
    "# # Display info for \n",
    "# printDict=dataDict\n",
    "# print(f'dataDict')\n",
    "\n",
    "# for key, val in printDict.items():\n",
    "#   print(key)\n",
    "#   for k, v in printDict[key].items():\n",
    "#     print(f'   {k}\\n         has {len(v)} values with mean={np.mean(v)}')\n"
   ]
  },
  {
   "cell_type": "markdown",
   "metadata": {
    "colab_type": "text",
    "id": "0b4wlr87rR2b"
   },
   "source": [
    "### Sub-Aim 2.1.3 Use resampling to get a normal distribution from the data and re-run normality tests."
   ]
  },
  {
   "cell_type": "code",
   "execution_count": 63,
   "metadata": {
    "colab": {},
    "colab_type": "code",
    "id": "L6n5eR-LrYhU"
   },
   "outputs": [],
   "source": [
    "data_discounted = df['Quantity'].loc[df['Discount']>0].copy()\n",
    "data_fullprice = df['Quantity'].loc[df['Discount']==0].copy()"
   ]
  },
  {
   "cell_type": "code",
   "execution_count": 64,
   "metadata": {
    "colab": {},
    "colab_type": "code",
    "id": "bZuGT5f8rcf-"
   },
   "outputs": [],
   "source": [
    "# Resample our data  i # of samples with n =50/sample \n",
    "n = 50 \n",
    "i = 10000\n",
    "pop_samp_disc = []\n",
    "pop_samp_full = []\n",
    "for i in range(0,i):\n",
    "    \n",
    "    pop_samp_disc.append(data_discounted.sample(n).mean())\n",
    "    pop_samp_full.append(data_fullprice.sample(n).mean())\n",
    "    #   test_results.append(normaltest())\n",
    "    # plt.hist([pop_samp_disc,pop_samp_full])"
   ]
  },
  {
   "cell_type": "code",
   "execution_count": 65,
   "metadata": {
    "colab": {
     "base_uri": "https://localhost:8080/",
     "height": 468
    },
    "colab_type": "code",
    "id": "_COpv9y0BRoF",
    "outputId": "e14994c2-b8f9-434d-8c40-0a50b429b55c"
   },
   "outputs": [
    {
     "data": {
      "image/png": "[encoded data removed]",
      "text/plain": [
       "<Figure size 432x288 with 1 Axes>"
      ]
     },
     "metadata": {
      "needs_background": "light"
     },
     "output_type": "display_data"
    },
    {
     "name": "stdout",
     "output_type": "stream",
     "text": [
      "Normality: stat =136.4316508077141, p = 2.3672463120234925e-30\n"
     ]
    }
   ],
   "source": [
    "# Plot the re-sampled data\n",
    "\n",
    "# # IF want to take smaller sample from population:\n",
    "\n",
    "# pop_samp_disc = np.random.choice(pop_samp_disc,1000)\n",
    "# pop_samp_full = np.random.choice(pop_samp_full, 1000)\n",
    "with plt.style.context(('tableau-colorblind10')):\n",
    "    fig = plt.figure()\n",
    "    \n",
    "    plt.title('Quantity of Discounted vs Full Price Products Purchased ')\n",
    "    \n",
    "    plt.hist(pop_samp_disc,alpha = 0.5, bins=30,label='Discounted')\n",
    "    plt.hist(pop_samp_full,color='black', alpha = 0.5, bins=30,label='Full Price')\n",
    "\n",
    "    # Adding annotations\n",
    "    meanD = round(np.mean(pop_samp_disc),3)\n",
    "    meanS = round(np.mean(pop_samp_full),3)\n",
    "    \n",
    "    plt.axvline(meanD, linestyle='--',label='Discounted Mean')\n",
    "    plt.text(meanD-1,700,f'Mean:{meanD}',rotation=90)\n",
    "    \n",
    "    plt.axvline(meanS,color='k',linestyle='--',label='Full Price Mean')\n",
    "    plt.text(meanS-1,700,f'Mean:{meanS}',rotation=90)\n",
    "\n",
    "\n",
    "    plt.legend()\n",
    "    plt.show()\n",
    "\n",
    "# Run normality testing\n",
    "stat,p = normaltest(pop_samp_full)\n",
    "print(f'Normality: stat ={stat}, p = {p}')\n",
    "\n",
    "# Run ttest\n",
    "tstat,tp = stats.ttest_ind(pop_samp_disc, pop_samp_full)\n",
    "# print(f'T-test: stat ={tstat}, p = {tp}')#tstat,tp\n",
    "# ax.text("
   ]
  },
  {
   "cell_type": "markdown",
   "metadata": {},
   "source": [
    "#### H1, Aim 2 Preliminary notes.\n",
    "- Regardless of transformations, we do not pass normality test.\n",
    "- Switching tactics and letting the the tests for assumptions of normality and equal variance decide the appropriate test\n"
   ]
  },
  {
   "cell_type": "markdown",
   "metadata": {
    "colab_type": "text",
    "id": "Oo7In-gvtezW"
   },
   "source": [
    "___\n",
    "## ***H1, Aim 2: Final Workflow for testing assumptions***"
   ]
  },
  {
   "cell_type": "markdown",
   "metadata": {
    "colab_type": "text",
    "id": "ARClmsCLLoNf"
   },
   "source": [
    "#### New Statistical Analysis Pipeline\n",
    "1. **Test for Normality**\n",
    "    - D'Agostino-Pearson's normality test<br>\n",
    "    ```scipy.stats.normaltest```\n",
    "    - Shapiro-Wilik Test<br>\n",
    "    ```scipy.stats.shapiro```<br>\n",
    "    \n",
    "2. **Test for Homogeneity of Variance**\n",
    "    - Levene's Test<br>\n",
    "    ```scipy.stats.levene```\n",
    "\n",
    "3. **Choose appropriate test based upon 1. and 2.** <br> \n",
    "    - Welch's T-Test\n",
    "    - Mann Whitney U\n",
    "    - ANOVA \n",
    "    - Tukey's\n",
    "    \n",
    "4. Calculate effect size for significant results. \n",
    "    - Effect size: [cohen's d](https://stackoverflow.com/questions/21532471/how-to-calculate-cohens-d-in-python)\n",
    "    - Interpretation:\n",
    "        - Small effect = 0.2 ( cannot be seen by naked eye)\n",
    "        - Medium effect  = 0.5\n",
    "        - Large Effect = 0.8 (can be seen by naked eye)\n",
    "        \n",
    "5. If significant, follow up with post-hoc tests (if have more than 2 groups)\n",
    "    - [Tukey's](https://www.statsmodels.org/stable/generated/statsmodels.stats.multicomp.pairwise_tukeyhsd.html)\n"
   ]
  },
  {
   "cell_type": "code",
   "execution_count": 66,
   "metadata": {
    "colab": {
     "base_uri": "https://localhost:8080/",
     "height": 334
    },
    "colab_type": "code",
    "id": "dA459xbHLnoR",
    "outputId": "71d3cab4-c3ad-48d2-a5b8-a5158a377656"
   },
   "outputs": [
    {
     "data": {
      "text/plain": [
       "(       Quantity  UnitPrice  Discount\n",
       " count   838.000   838.000    838.000\n",
       " mean     27.110    26.292      0.144\n",
       " std      20.771    30.017      0.072\n",
       " min       1.000     2.000      0.010\n",
       " 25%      12.000    12.500      0.100\n",
       " 50%      20.000    18.000      0.150\n",
       " 75%      36.000    31.230      0.200\n",
       " max     130.000   263.500      0.250,\n",
       " '--------------------------------------------------',\n",
       "        Quantity  UnitPrice  Discount\n",
       " count  1317.000  1317.000    1317.0 \n",
       " mean     21.715    26.172       0.0 \n",
       " std      17.507    29.717       0.0 \n",
       " min       1.000     2.000       0.0 \n",
       " 25%      10.000    12.000       0.0 \n",
       " 50%      18.000    18.400       0.0 \n",
       " 75%      30.000    32.800       0.0 \n",
       " max     130.000   263.500       0.0 )"
      ]
     },
     "execution_count": 66,
     "metadata": {},
     "output_type": "execute_result"
    }
   ],
   "source": [
    "# 1 - Separating groups from dfH (dataframeHypothesis)\n",
    "dfH = df[['Quantity','UnitPrice','Discount']].copy()\n",
    "\n",
    "#Adding group definitions\n",
    "grpA = \"['Discount'] > 0\"\n",
    "grpB = \"['Discount'] == 0\"\n",
    "\n",
    "# Using eval to create df_A and df_B; will allow us to fill in our results \n",
    "# with the exact definitions of Group A and Group B\n",
    "df_A = eval(f'dfH.loc[dfH{grpA}]')\n",
    "df_B = eval(f'dfH.loc[dfH{grpB}]')\n",
    "\n",
    "# dfj_D = dfH.loc[dfj['Discount']>0] \n",
    "# dfj_F = dfH.loc[dfj['Discount']==0]\n",
    "df_A.describe(),'--'*25,df_B.describe()"
   ]
  },
  {
   "cell_type": "markdown",
   "metadata": {
    "colab_type": "text",
    "id": "7VAimpHrBRoL"
   },
   "source": [
    "### Aim 2.1: Test for Normality"
   ]
  },
  {
   "cell_type": "code",
   "execution_count": 67,
   "metadata": {
    "colab": {},
    "colab_type": "code",
    "id": "zDIYeMJMIum6"
   },
   "outputs": [],
   "source": [
    "# Adding table to collect summary statistics\n",
    "H1_tests = [['Group:','TestName','Test Purpose','stat','p','p<.05?']  ]"
   ]
  },
  {
   "cell_type": "code",
   "execution_count": 68,
   "metadata": {
    "colab": {
     "base_uri": "https://localhost:8080/",
     "height": 50
    },
    "colab_type": "code",
    "id": "ZcwUoJKjNIZu",
    "outputId": "de2dc603-235b-4c2e-f830-65235e77cc20"
   },
   "outputs": [
    {
     "name": "stdout",
     "output_type": "stream",
     "text": [
      "A:stat=261.528012299789, p=1.6214878452829618e-57\n",
      "B:stat=544.5770045551502, p=5.579637380545965e-119\n"
     ]
    }
   ],
   "source": [
    "# H1_tests = [['Group:','TestName','Test Purpose','stat','p']  ]\n",
    "# 2. Testing normality\n",
    "\n",
    "test_purpose = 'Normality'\n",
    "test_to_run = 'normaltest'\n",
    "\n",
    "arrA = np.array(df_A['Quantity'])\n",
    "arrB = np.array(df_B['Quantity'])\n",
    "\n",
    "statA, pA = eval(test_to_run)(arrA)\n",
    "statB, pB = eval(test_to_run)(arrB)\n",
    "\n",
    "print(f'A:stat={statA}, p={pA}')\n",
    "print(f'B:stat={statB}, p={pB}')\n",
    "\n",
    "# H1_tests = [['Group:','TestName','Test Purpose','stat','p']  ]\n",
    "H1_tests.append(['A: '+grpA,test_to_run,test_purpose,statA,pA, pA<.05])\n",
    "H1_tests.append(['B: '+grpB,test_to_run,test_purpose,statB,pB, pB<.05])\n",
    "# list2df(H1_tests)"
   ]
  },
  {
   "cell_type": "code",
   "execution_count": 69,
   "metadata": {
    "colab": {
     "base_uri": "https://localhost:8080/",
     "height": 107
    },
    "colab_type": "code",
    "id": "BeOQ35sjQ4wJ",
    "outputId": "3fc862d6-ecf0-42a7-da2f-ee670573cbfa"
   },
   "outputs": [
    {
     "data": {
      "text/html": [
       "<div>\n",
       "<style scoped>\n",
       "    .dataframe tbody tr th:only-of-type {\n",
       "        vertical-align: middle;\n",
       "    }\n",
       "\n",
       "    .dataframe tbody tr th {\n",
       "        vertical-align: top;\n",
       "    }\n",
       "\n",
       "    .dataframe thead th {\n",
       "        text-align: right;\n",
       "    }\n",
       "</style>\n",
       "<table border=\"1\" class=\"dataframe\">\n",
       "  <thead>\n",
       "    <tr style=\"text-align: center;\">\n",
       "      <th></th>\n",
       "      <th>Group:</th>\n",
       "      <th>TestName</th>\n",
       "      <th>Test Purpose</th>\n",
       "      <th>stat</th>\n",
       "      <th>p</th>\n",
       "      <th>p&lt;.05?</th>\n",
       "    </tr>\n",
       "  </thead>\n",
       "  <tbody>\n",
       "    <tr>\n",
       "      <th>0</th>\n",
       "      <td>A: ['Discount'] &gt; 0</td>\n",
       "      <td>normaltest</td>\n",
       "      <td>Normality</td>\n",
       "      <td>261.528</td>\n",
       "      <td>0.0</td>\n",
       "      <td>True</td>\n",
       "    </tr>\n",
       "    <tr>\n",
       "      <th>1</th>\n",
       "      <td>B: ['Discount'] == 0</td>\n",
       "      <td>normaltest</td>\n",
       "      <td>Normality</td>\n",
       "      <td>544.577</td>\n",
       "      <td>0.0</td>\n",
       "      <td>True</td>\n",
       "    </tr>\n",
       "  </tbody>\n",
       "</table>\n",
       "</div>"
      ],
      "text/plain": [
       "          Group:          TestName  Test Purpose   stat     p   p<.05?\n",
       "0   A: ['Discount'] > 0  normaltest   Normality   261.528  0.0   True \n",
       "1  B: ['Discount'] == 0  normaltest   Normality   544.577  0.0   True "
      ]
     },
     "execution_count": 69,
     "metadata": {},
     "output_type": "execute_result"
    }
   ],
   "source": [
    "list2df(H1_tests).round(4)"
   ]
  },
  {
   "cell_type": "markdown",
   "metadata": {
    "colab_type": "text",
    "id": "UpFPGfa1BRoQ"
   },
   "source": [
    "### Aim 2.2 Test for Homogeneity of Variance"
   ]
  },
  {
   "cell_type": "code",
   "execution_count": 70,
   "metadata": {
    "colab": {},
    "colab_type": "code",
    "id": "Ows78wGWP7LH"
   },
   "outputs": [],
   "source": [
    "# 3. Test for homo var\n",
    "test_to_run = 'stats.levene'\n",
    "stat,p = eval(test_to_run)(arrA,arrB,center='median')\n",
    "\n",
    "H1_tests.append(['A&B',test_to_run,'Equal Var',stat,p, p<.05])"
   ]
  },
  {
   "cell_type": "markdown",
   "metadata": {
    "colab_type": "text",
    "id": "l0OlDfLLBRoT"
   },
   "source": [
    "### Aim 2.3 Selecting the appropriate test to perform."
   ]
  },
  {
   "cell_type": "code",
   "execution_count": 71,
   "metadata": {
    "colab": {
     "base_uri": "https://localhost:8080/",
     "height": 137
    },
    "colab_type": "code",
    "id": "0OVY01SMRD_l",
    "outputId": "87810342-0701-4cdf-867b-30b327aa8829"
   },
   "outputs": [
    {
     "data": {
      "text/html": [
       "<div>\n",
       "<style scoped>\n",
       "    .dataframe tbody tr th:only-of-type {\n",
       "        vertical-align: middle;\n",
       "    }\n",
       "\n",
       "    .dataframe tbody tr th {\n",
       "        vertical-align: top;\n",
       "    }\n",
       "\n",
       "    .dataframe thead th {\n",
       "        text-align: right;\n",
       "    }\n",
       "</style>\n",
       "<table border=\"1\" class=\"dataframe\">\n",
       "  <thead>\n",
       "    <tr style=\"text-align: center;\">\n",
       "      <th></th>\n",
       "      <th>Group:</th>\n",
       "      <th>TestName</th>\n",
       "      <th>Test Purpose</th>\n",
       "      <th>stat</th>\n",
       "      <th>p</th>\n",
       "      <th>p&lt;.05?</th>\n",
       "    </tr>\n",
       "  </thead>\n",
       "  <tbody>\n",
       "    <tr>\n",
       "      <th>0</th>\n",
       "      <td>A: ['Discount'] &gt; 0</td>\n",
       "      <td>normaltest</td>\n",
       "      <td>Normality</td>\n",
       "      <td>261.528</td>\n",
       "      <td>1.621e-57</td>\n",
       "      <td>True</td>\n",
       "    </tr>\n",
       "    <tr>\n",
       "      <th>1</th>\n",
       "      <td>B: ['Discount'] == 0</td>\n",
       "      <td>normaltest</td>\n",
       "      <td>Normality</td>\n",
       "      <td>544.577</td>\n",
       "      <td>5.580e-119</td>\n",
       "      <td>True</td>\n",
       "    </tr>\n",
       "    <tr>\n",
       "      <th>2</th>\n",
       "      <td>A&amp;B</td>\n",
       "      <td>stats.levene</td>\n",
       "      <td>Equal Var</td>\n",
       "      <td>14.833</td>\n",
       "      <td>1.209e-04</td>\n",
       "      <td>True</td>\n",
       "    </tr>\n",
       "  </tbody>\n",
       "</table>\n",
       "</div>"
      ],
      "text/plain": [
       "          Group:           TestName   Test Purpose   stat         p      \\\n",
       "0   A: ['Discount'] > 0    normaltest   Normality   261.528   1.621e-57   \n",
       "1  B: ['Discount'] == 0    normaltest   Normality   544.577  5.580e-119   \n",
       "2                   A&B  stats.levene   Equal Var    14.833   1.209e-04   \n",
       "\n",
       "   p<.05?  \n",
       "0   True   \n",
       "1   True   \n",
       "2   True   "
      ]
     },
     "execution_count": 71,
     "metadata": {},
     "output_type": "execute_result"
    }
   ],
   "source": [
    "list2df(H1_tests)"
   ]
  },
  {
   "cell_type": "markdown",
   "metadata": {
    "colab_type": "text",
    "id": "Zq38mtURQaoN"
   },
   "source": [
    "### Conclusions so far...\n",
    "- We failed both normaltests and homo variance\n",
    "- Need non-parametric 2sample ttest\n",
    "    - [**Mann-Whitney U test**](https://docs.scipy.org/doc/scipy/reference/generated/scipy.stats.mannwhitneyu.html)"
   ]
  },
  {
   "cell_type": "code",
   "execution_count": 72,
   "metadata": {
    "colab": {},
    "colab_type": "code",
    "id": "NqYI47YbBRoY"
   },
   "outputs": [],
   "source": [
    "#### Mann-Whitney U test"
   ]
  },
  {
   "cell_type": "code",
   "execution_count": 73,
   "metadata": {
    "colab": {},
    "colab_type": "code",
    "id": "z0cdkzP5S9SX"
   },
   "outputs": [],
   "source": [
    "# Mann Whitney U test+\n",
    "import scipy.stats as stats\n",
    "# arrA was discounted, arrB was non-discounted\n",
    "test_to_run = 'stats.mannwhitneyu'\n",
    "stat, p = eval(test_to_run)(arrA,arrB,alternative='greater')\n",
    "stat, p\n",
    "H1_tests.append(['A vs. B',test_to_run, 'H1_sig', stat,p, p<.05])"
   ]
  },
  {
   "cell_type": "code",
   "execution_count": 74,
   "metadata": {},
   "outputs": [
    {
     "data": {
      "text/html": [
       "<div>\n",
       "<style scoped>\n",
       "    .dataframe tbody tr th:only-of-type {\n",
       "        vertical-align: middle;\n",
       "    }\n",
       "\n",
       "    .dataframe tbody tr th {\n",
       "        vertical-align: top;\n",
       "    }\n",
       "\n",
       "    .dataframe thead th {\n",
       "        text-align: right;\n",
       "    }\n",
       "</style>\n",
       "<table border=\"1\" class=\"dataframe\">\n",
       "  <thead>\n",
       "    <tr style=\"text-align: center;\">\n",
       "      <th></th>\n",
       "      <th>Group:</th>\n",
       "      <th>TestName</th>\n",
       "      <th>Test Purpose</th>\n",
       "      <th>stat</th>\n",
       "      <th>p</th>\n",
       "      <th>p&lt;.05?</th>\n",
       "    </tr>\n",
       "  </thead>\n",
       "  <tbody>\n",
       "    <tr>\n",
       "      <th>0</th>\n",
       "      <td>A: ['Discount'] &gt; 0</td>\n",
       "      <td>normaltest</td>\n",
       "      <td>Normality</td>\n",
       "      <td>261.528</td>\n",
       "      <td>1.621e-57</td>\n",
       "      <td>True</td>\n",
       "    </tr>\n",
       "    <tr>\n",
       "      <th>1</th>\n",
       "      <td>B: ['Discount'] == 0</td>\n",
       "      <td>normaltest</td>\n",
       "      <td>Normality</td>\n",
       "      <td>544.577</td>\n",
       "      <td>5.580e-119</td>\n",
       "      <td>True</td>\n",
       "    </tr>\n",
       "    <tr>\n",
       "      <th>2</th>\n",
       "      <td>A&amp;B</td>\n",
       "      <td>stats.levene</td>\n",
       "      <td>Equal Var</td>\n",
       "      <td>14.833</td>\n",
       "      <td>1.209e-04</td>\n",
       "      <td>True</td>\n",
       "    </tr>\n",
       "    <tr>\n",
       "      <th>3</th>\n",
       "      <td>A vs. B</td>\n",
       "      <td>stats.mannwhitneyu</td>\n",
       "      <td>H1_sig</td>\n",
       "      <td>642105.000</td>\n",
       "      <td>6.629e-11</td>\n",
       "      <td>True</td>\n",
       "    </tr>\n",
       "  </tbody>\n",
       "</table>\n",
       "</div>"
      ],
      "text/plain": [
       "          Group:              TestName      Test Purpose     stat     \\\n",
       "0   A: ['Discount'] > 0          normaltest   Normality      261.528   \n",
       "1  B: ['Discount'] == 0          normaltest   Normality      544.577   \n",
       "2                   A&B        stats.levene   Equal Var       14.833   \n",
       "3               A vs. B  stats.mannwhitneyu      H1_sig   642105.000   \n",
       "\n",
       "        p      p<.05?  \n",
       "0   1.621e-57   True   \n",
       "1  5.580e-119   True   \n",
       "2   1.209e-04   True   \n",
       "3   6.629e-11   True   "
      ]
     },
     "execution_count": 74,
     "metadata": {},
     "output_type": "execute_result"
    }
   ],
   "source": [
    "list2df(H1_tests)"
   ]
  },
  {
   "cell_type": "markdown",
   "metadata": {
    "colab_type": "text",
    "id": "fhPYorQYBRof"
   },
   "source": [
    "#### Calculating Effect Size"
   ]
  },
  {
   "cell_type": "code",
   "execution_count": 75,
   "metadata": {},
   "outputs": [
    {
     "name": "stdout",
     "output_type": "stream",
     "text": [
      " Volume in drive D is Storage HD\n",
      " Volume Serial Number is 11EC-B280\n",
      "\n",
      " Directory of D:\\Users\\James\\Dropbox (Personal)\\CODING\\_FLATIRON\\Mod2_FinalProject\\dsc-2-final-project-online-ds-ft-021119\n",
      "\n",
      "04/09/2019  08:37 PM    <DIR>          .\n",
      "04/09/2019  08:37 PM    <DIR>          ..\n",
      "03/29/2019  04:47 PM                66 .gitignore\n",
      "04/09/2019  07:41 PM    <DIR>          .ipynb_checkpoints\n",
      "03/29/2019  04:47 PM                95 .learn\n",
      "03/29/2019  04:47 PM           526,610 adventureworks2008_schema.gif\n",
      "04/04/2019  02:01 PM            19,365 Blog Post.docx\n",
      "03/29/2019  04:47 PM             1,849 CONTRIBUTING.md\n",
      "04/09/2019  12:55 PM               763 CSS.css\n",
      "04/08/2019  10:57 PM             1,395 dark_james.mplstyle\n",
      "04/08/2019  08:38 PM           133,670 df_H3_price_w_dates_orders.csv\n",
      "04/08/2019  08:38 PM           346,718 df_H3_price_w_dates_products.csv\n",
      "04/09/2019  03:54 PM    <DIR>          Exported CSV\n",
      "04/09/2019  04:41 PM    <DIR>          Figures\n",
      "04/08/2019  08:38 PM           100,327 H1_Avg_quantity_by_discount.png\n",
      "04/08/2019  06:10 PM               246 H1_tests_MWU.csv\n",
      "04/08/2019  08:38 PM           265,217 H2_kde_bar_black.png\n",
      "04/08/2019  01:02 PM           263,497 H2_KDE_Bar_Mean+sem.png\n",
      "04/08/2019  08:39 PM           102,372 H3_Month_Bar_mean_sem_black.png\n",
      "04/08/2019  08:39 PM               871 H4_countries_disc_pref_col_means_sem.csv\n",
      "04/08/2019  08:39 PM             3,569 H4_countries_disc_pref_features.csv\n",
      "04/08/2019  11:29 PM            12,963 H4_countries_disc_pref_features.xlsx\n",
      "03/29/2019  04:47 PM         2,930,391 halfway-there.gif\n",
      "03/31/2019  01:43 PM           608,128 Hypothesis Testing with SciPy_codeacademy slides.pdf\n",
      "04/09/2019  04:25 PM           867,662 JMI Copy - MIKE_ViolinPlots_Mod2_Project_JMI_CombDraftv3.ipynb\n",
      "04/09/2019  06:22 PM         1,818,591 JMI_to_Present_Mod2_Project_JMI_CombDraftv3.ipynb\n",
      "03/29/2019  04:47 PM             1,371 LICENSE.md\n",
      "04/09/2019  08:37 PM           790,170 MIKE_ViolinPlots_Mod2_Project_JMI_CombDraftv3.ipynb\n",
      "04/09/2019  10:11 AM         2,486,076 Mod2_Project_CombDraftv2_H1-H4.ipynb\n",
      "04/09/2019  03:54 PM         2,563,692 Mod2_Project_JMI_CombDraftv3.ipynb\n",
      "04/07/2019  05:38 PM             4,957 my_learn_env.yml\n",
      "04/09/2019  06:48 PM         1,551,586 Northwind Sales Analysis + Recommendations.pptx\n",
      "03/29/2019  04:47 PM           290,816 Northwind_small.sqlite\n",
      "04/08/2019  09:46 PM    <DIR>          Old .ipynb's\n",
      "04/08/2019  08:37 PM           343,713 OrderId_Order.csv\n",
      "03/29/2019  04:47 PM             4,730 README.md\n",
      "04/09/2019  03:50 PM             5,067 table_H1_groups_mean_sem.xlsx\n",
      "04/08/2019  08:38 PM               199 table_H1_mean_sem.csv\n",
      "04/08/2019  08:38 PM               662 table_H1_mean_sem.html\n",
      "04/08/2019  08:38 PM               416 table_H1_test_results.csv\n",
      "04/08/2019  08:38 PM             1,263 table_H1_test_results.html\n",
      "04/08/2019  08:38 PM               935 table_H1_tukey.csv\n",
      "04/08/2019  08:38 PM             3,108 table_H1_tukey.html\n",
      "04/08/2019  08:38 PM               219 table_H2_mean_sem.csv\n",
      "04/08/2019  08:38 PM               692 table_H2_mean_sem.html\n",
      "04/08/2019  08:38 PM               454 table_H2_test_results.csv\n",
      "04/08/2019  08:38 PM             1,301 table_H2_test_results.html\n",
      "04/08/2019  08:39 PM               861 table_H3_mean_sem.csv\n",
      "04/08/2019  08:39 PM             2,440 table_H3_mean_sem.html\n",
      "04/08/2019  08:39 PM             3,510 table_H3_test_results.csv\n",
      "04/08/2019  08:39 PM             9,925 table_H3_test_results.html\n",
      "04/08/2019  08:39 PM             3,158 table_H3_tukey.csv\n",
      "04/08/2019  08:39 PM            12,134 table_H3_tukey.html\n",
      "04/09/2019  05:08 PM             5,060 table_H4_test_results.xlsx\n",
      "04/09/2019  01:36 AM            11,256 violin - order totals per month by discount.png\n",
      "              49 File(s)     16,104,136 bytes\n",
      "               6 Dir(s)  511,091,576,832 bytes free\n"
     ]
    }
   ],
   "source": [
    "ls"
   ]
  },
  {
   "cell_type": "code",
   "execution_count": 76,
   "metadata": {
    "colab": {
     "base_uri": "https://localhost:8080/",
     "height": 33
    },
    "colab_type": "code",
    "id": "YNNnHq2TBRof",
    "outputId": "88dc9e65-3a16-4392-97e3-37a2c4acb969"
   },
   "outputs": [
    {
     "name": "stdout",
     "output_type": "stream",
     "text": [
      "Cohen's d=0.286\n"
     ]
    },
    {
     "data": {
      "text/html": [
       "<div>\n",
       "<style scoped>\n",
       "    .dataframe tbody tr th:only-of-type {\n",
       "        vertical-align: middle;\n",
       "    }\n",
       "\n",
       "    .dataframe tbody tr th {\n",
       "        vertical-align: top;\n",
       "    }\n",
       "\n",
       "    .dataframe thead th {\n",
       "        text-align: right;\n",
       "    }\n",
       "</style>\n",
       "<table border=\"1\" class=\"dataframe\">\n",
       "  <thead>\n",
       "    <tr style=\"text-align: center;\">\n",
       "      <th></th>\n",
       "      <th>Group:</th>\n",
       "      <th>TestName</th>\n",
       "      <th>Test Purpose</th>\n",
       "      <th>stat</th>\n",
       "      <th>p</th>\n",
       "      <th>p&lt;.05?</th>\n",
       "    </tr>\n",
       "  </thead>\n",
       "  <tbody>\n",
       "    <tr>\n",
       "      <th>0</th>\n",
       "      <td>A: ['Discount'] &gt; 0</td>\n",
       "      <td>normaltest</td>\n",
       "      <td>Normality</td>\n",
       "      <td>261.528</td>\n",
       "      <td>1.62e-57</td>\n",
       "      <td>True</td>\n",
       "    </tr>\n",
       "    <tr>\n",
       "      <th>1</th>\n",
       "      <td>B: ['Discount'] == 0</td>\n",
       "      <td>normaltest</td>\n",
       "      <td>Normality</td>\n",
       "      <td>544.577</td>\n",
       "      <td>5.58e-119</td>\n",
       "      <td>True</td>\n",
       "    </tr>\n",
       "    <tr>\n",
       "      <th>2</th>\n",
       "      <td>A&amp;B</td>\n",
       "      <td>stats.levene</td>\n",
       "      <td>Equal Var</td>\n",
       "      <td>14.833</td>\n",
       "      <td>0.000121</td>\n",
       "      <td>True</td>\n",
       "    </tr>\n",
       "    <tr>\n",
       "      <th>3</th>\n",
       "      <td>A vs. B</td>\n",
       "      <td>stats.mannwhitneyu</td>\n",
       "      <td>H1_sig</td>\n",
       "      <td>642105.000</td>\n",
       "      <td>6.63e-11</td>\n",
       "      <td>True</td>\n",
       "    </tr>\n",
       "    <tr>\n",
       "      <th>4</th>\n",
       "      <td>A vs. B</td>\n",
       "      <td>Cohen's d</td>\n",
       "      <td>Effect Size</td>\n",
       "      <td>0.286</td>\n",
       "      <td>--</td>\n",
       "      <td>--</td>\n",
       "    </tr>\n",
       "  </tbody>\n",
       "</table>\n",
       "</div>"
      ],
      "text/plain": [
       "          Group:              TestName      Test Purpose     stat     \\\n",
       "0   A: ['Discount'] > 0          normaltest    Normality     261.528   \n",
       "1  B: ['Discount'] == 0          normaltest    Normality     544.577   \n",
       "2                   A&B        stats.levene    Equal Var      14.833   \n",
       "3               A vs. B  stats.mannwhitneyu       H1_sig  642105.000   \n",
       "4               A vs. B           Cohen's d  Effect Size       0.286   \n",
       "\n",
       "      p      p<.05?  \n",
       "0   1.62e-57  True   \n",
       "1  5.58e-119  True   \n",
       "2   0.000121  True   \n",
       "3   6.63e-11  True   \n",
       "4         --    --   "
      ]
     },
     "execution_count": 76,
     "metadata": {},
     "output_type": "execute_result"
    }
   ],
   "source": [
    "# Calculating Cohens d\n",
    "d = Cohen_d(arrA,arrB)\n",
    "print(f\"Cohen's d={round(d,3)}\")\n",
    "\n",
    "# Append H1_tests and export result. \n",
    "H1_tests.append(['A vs. B',\"Cohen's d\",'Effect Size',d,'--','--'])\n",
    "table_H1_test_results = list2df(H1_tests)\n",
    "\n",
    "# Export csv if user sets save_for_user to True\n",
    "if save_for_user==True:\n",
    "    table_H1_test_results.to_csv(data_filepath+'table_H1_test_results.csv')\n",
    "    table_H1_test_results.round(4).to_html(data_filepath+'table_H1_test_results.html')\n",
    "\n",
    "\n",
    "# Display output                          \n",
    "table_H1_test_results"
   ]
  },
  {
   "cell_type": "code",
   "execution_count": 77,
   "metadata": {},
   "outputs": [
    {
     "data": {
      "text/html": [
       "<div>\n",
       "<style scoped>\n",
       "    .dataframe tbody tr th:only-of-type {\n",
       "        vertical-align: middle;\n",
       "    }\n",
       "\n",
       "    .dataframe tbody tr th {\n",
       "        vertical-align: top;\n",
       "    }\n",
       "\n",
       "    .dataframe thead th {\n",
       "        text-align: right;\n",
       "    }\n",
       "</style>\n",
       "<table border=\"1\" class=\"dataframe\">\n",
       "  <thead>\n",
       "    <tr style=\"text-align: center;\">\n",
       "      <th></th>\n",
       "      <th>H#</th>\n",
       "      <th>Group</th>\n",
       "      <th>mean</th>\n",
       "      <th>sem</th>\n",
       "      <th>std</th>\n",
       "      <th>n</th>\n",
       "    </tr>\n",
       "  </thead>\n",
       "  <tbody>\n",
       "    <tr>\n",
       "      <th>0</th>\n",
       "      <td>H1</td>\n",
       "      <td>A:['Discount'] &gt; 0</td>\n",
       "      <td>27.110</td>\n",
       "      <td>0.718</td>\n",
       "      <td>20.759</td>\n",
       "      <td>838</td>\n",
       "    </tr>\n",
       "    <tr>\n",
       "      <th>1</th>\n",
       "      <td>H1</td>\n",
       "      <td>B:['Discount'] == 0</td>\n",
       "      <td>21.715</td>\n",
       "      <td>0.482</td>\n",
       "      <td>17.501</td>\n",
       "      <td>1317</td>\n",
       "    </tr>\n",
       "  </tbody>\n",
       "</table>\n",
       "</div>"
      ],
      "text/plain": [
       "   H#        Group           mean    sem     std     n \n",
       "0  H1   A:['Discount'] > 0  27.110  0.718  20.759   838\n",
       "1  H1  B:['Discount'] == 0  21.715  0.482  17.501  1317"
      ]
     },
     "execution_count": 77,
     "metadata": {},
     "output_type": "execute_result"
    }
   ],
   "source": [
    "# Save table of basic info on central tendency\n",
    "from scipy.stats import sem\n",
    "H1_mean_sem = [['H#','Group','mean','sem','std','n']]\n",
    "\n",
    "dataArr=arrA\n",
    "H1_mean_sem.append(['H1',f'A:{grpA}',np.mean(dataArr),sem(dataArr), np.std(dataArr),len(dataArr)])\n",
    "\n",
    "dataArr=arrB\n",
    "H1_mean_sem.append(['H1',f'B:{grpB}',np.mean(dataArr),sem(dataArr), np.std(dataArr),len(dataArr)])\n",
    "\n",
    "table_H1_mean_sem = list2df(H1_mean_sem)\n",
    "\n",
    "# Export csv if user sets save_for_user to True\n",
    "if save_for_user==True:\n",
    "    table_H1_mean_sem.to_csv(data_filepath+'table_H1_mean_sem.csv')    \n",
    "    table_H1_mean_sem.round(2).to_html(data_filepath+'table_H1_mean_sem.html')    \n",
    "\n",
    "table_H1_mean_sem"
   ]
  },
  {
   "cell_type": "markdown",
   "metadata": {
    "colab_type": "text",
    "id": "wHEx112CTia4"
   },
   "source": [
    "#### Interpretation of results. \n",
    "**We have a significant Mann Whitney U results, but we have yet to say anything about**\n",
    "- We should now run post-hoc tests using pairwise Tukey's tests \n",
    "- Compare all levels of discount in pairwise comparisons "
   ]
  },
  {
   "cell_type": "markdown",
   "metadata": {
    "colab_type": "text",
    "id": "Tlxz4CgRBRoj"
   },
   "source": [
    "## ***H1, Aim 3: To perform post-hoc pairwise comparisons for level of discount***\n",
    "- **To find out which level of discount is most effective/significant.**"
   ]
  },
  {
   "cell_type": "code",
   "execution_count": 78,
   "metadata": {
    "colab": {
     "base_uri": "https://localhost:8080/",
     "height": 375
    },
    "colab_type": "code",
    "id": "NmGwt-GyUDFF",
    "outputId": "eb7caf12-e80a-4cca-ea65-2b3499dfc092"
   },
   "outputs": [
    {
     "data": {
      "text/html": [
       "<div>\n",
       "<style scoped>\n",
       "    .dataframe tbody tr th:only-of-type {\n",
       "        vertical-align: middle;\n",
       "    }\n",
       "\n",
       "    .dataframe tbody tr th {\n",
       "        vertical-align: top;\n",
       "    }\n",
       "\n",
       "    .dataframe thead th {\n",
       "        text-align: right;\n",
       "    }\n",
       "</style>\n",
       "<table border=\"1\" class=\"dataframe\">\n",
       "  <thead>\n",
       "    <tr style=\"text-align: center;\">\n",
       "      <th></th>\n",
       "      <th>Discount</th>\n",
       "    </tr>\n",
       "  </thead>\n",
       "  <tbody>\n",
       "    <tr>\n",
       "      <th>0.00</th>\n",
       "      <td>1317</td>\n",
       "    </tr>\n",
       "    <tr>\n",
       "      <th>0.01</th>\n",
       "      <td>1</td>\n",
       "    </tr>\n",
       "    <tr>\n",
       "      <th>0.02</th>\n",
       "      <td>2</td>\n",
       "    </tr>\n",
       "    <tr>\n",
       "      <th>0.03</th>\n",
       "      <td>3</td>\n",
       "    </tr>\n",
       "    <tr>\n",
       "      <th>0.04</th>\n",
       "      <td>1</td>\n",
       "    </tr>\n",
       "    <tr>\n",
       "      <th>0.05</th>\n",
       "      <td>185</td>\n",
       "    </tr>\n",
       "    <tr>\n",
       "      <th>0.06</th>\n",
       "      <td>1</td>\n",
       "    </tr>\n",
       "    <tr>\n",
       "      <th>0.10</th>\n",
       "      <td>173</td>\n",
       "    </tr>\n",
       "    <tr>\n",
       "      <th>0.15</th>\n",
       "      <td>157</td>\n",
       "    </tr>\n",
       "    <tr>\n",
       "      <th>0.20</th>\n",
       "      <td>161</td>\n",
       "    </tr>\n",
       "    <tr>\n",
       "      <th>0.25</th>\n",
       "      <td>154</td>\n",
       "    </tr>\n",
       "  </tbody>\n",
       "</table>\n",
       "</div>"
      ],
      "text/plain": [
       "      Discount\n",
       "0.00    1317  \n",
       "0.01       1  \n",
       "0.02       2  \n",
       "0.03       3  \n",
       "0.04       1  \n",
       "0.05     185  \n",
       "0.06       1  \n",
       "0.10     173  \n",
       "0.15     157  \n",
       "0.20     161  \n",
       "0.25     154  "
      ]
     },
     "execution_count": 78,
     "metadata": {},
     "output_type": "execute_result"
    }
   ],
   "source": [
    "pd.DataFrame(df['Discount'].value_counts().sort_index())"
   ]
  },
  {
   "cell_type": "code",
   "execution_count": 79,
   "metadata": {
    "colab": {
     "base_uri": "https://localhost:8080/",
     "height": 418
    },
    "colab_type": "code",
    "id": "0Vr2q4dFYdEe",
    "outputId": "202f3eee-bbf0-42eb-f20b-13e388f74f7a"
   },
   "outputs": [],
   "source": [
    "# df.info()"
   ]
  },
  {
   "cell_type": "markdown",
   "metadata": {
    "colab_type": "text",
    "id": "sNKUUYlR7WDu"
   },
   "source": [
    "### Creating Discount Level Variables for Tukey\n",
    "- Adding LabelEncoding\n",
    "- Question: do we want to have \"None\" encoded? Not sure. Would need to replace the current np.NaN with \"NaN\" first or likely will return error"
   ]
  },
  {
   "cell_type": "code",
   "execution_count": 80,
   "metadata": {
    "colab": {
     "base_uri": "https://localhost:8080/",
     "height": 117
    },
    "colab_type": "code",
    "id": "C-DVFhJMk_yb",
    "outputId": "4db437b8-d400-4410-d8b1-97800ff9be0f"
   },
   "outputs": [
    {
     "data": {
      "text/plain": [
       "((Interval(-0.05, 0.0, closed='right'), 0),\n",
       " (Interval(0.0, 0.05, closed='right'), 1),\n",
       " (Interval(0.05, 0.1, closed='right'), 2),\n",
       " (Interval(0.1, 0.15, closed='right'), 3),\n",
       " (Interval(0.15, 0.2, closed='right'), 4),\n",
       " (Interval(0.2, 0.25, closed='right'), 5))"
      ]
     },
     "execution_count": 80,
     "metadata": {},
     "output_type": "execute_result"
    }
   ],
   "source": [
    "# intervalIndex = pd.IntervalIndex(())\n",
    "df_cut = df.copy().drop('Discount',axis=1)\n",
    "\n",
    "new_discounts = pd.cut(df['Discount'],[-0.05,0.0,0.05,0.10,0.15,0.20,0.25,0.3], include_lowest=False)\n",
    "new_discouts = new_discounts.cat.as_ordered(inplace=True)\n",
    "df_disc_codes  = new_discounts.cat.codes\n",
    "\n",
    "# Save code info for later\n",
    "disc_intervals = new_discounts.unique().sort_values()\n",
    "disc_codes = sorted(df_disc_codes.unique())\n",
    "\n",
    "# Save the intervals \n",
    "labelCodes = tuple(zip(disc_intervals,disc_codes))\n",
    "labelCodes"
   ]
  },
  {
   "cell_type": "code",
   "execution_count": 81,
   "metadata": {
    "colab": {
     "base_uri": "https://localhost:8080/",
     "height": 583
    },
    "colab_type": "code",
    "id": "OtMWYl-sp2qJ",
    "outputId": "6a8f7ce2-db3c-46f6-d25d-f4d3fbbd3546"
   },
   "outputs": [],
   "source": [
    "# Before encoding\n",
    "df_H1codes = pd.concat([df_cut,new_discounts,df_disc_codes],axis=1)\n",
    "# df_H1codes.info()\n",
    "# df_H1codes.Discount.unique()"
   ]
  },
  {
   "cell_type": "code",
   "execution_count": 82,
   "metadata": {
    "colab": {
     "base_uri": "https://localhost:8080/",
     "height": 350
    },
    "colab_type": "code",
    "id": "NIDghtaWjKKB",
    "outputId": "c7559a2f-ee69-45d2-ec0f-699d83f57290"
   },
   "outputs": [],
   "source": [
    "# colnames = list(df_H1codes.columns)\n",
    "# colnames[-1] = 'DiscSize'\n",
    "# df_H1codes.columns = colnames\n",
    "# df_H1codes.head()"
   ]
  },
  {
   "cell_type": "markdown",
   "metadata": {
    "colab_type": "text",
    "id": "Pq0W7aFQdt1O"
   },
   "source": [
    "### Use Tukey's Pairwise Multiple Comparison test.\n",
    "```statsmodels.stats.multicomp.pairwise_tukeyhsd```"
   ]
  },
  {
   "cell_type": "code",
   "execution_count": 83,
   "metadata": {
    "code_folding": [],
    "colab": {
     "base_uri": "https://localhost:8080/",
     "height": 351
    },
    "colab_type": "code",
    "id": "NSrS7lQajjJy",
    "outputId": "b12c5051-36cf-4634-ac83-d62c33606193"
   },
   "outputs": [
    {
     "data": {
      "text/html": [
       "<table class=\"simpletable\">\n",
       "<caption>Multiple Comparison of Means - Tukey HSD,FWER=0.05</caption>\n",
       "<tr>\n",
       "     <th>group1</th>      <th>group2</th>    <th>meandiff</th>  <th>lower</th>   <th>upper</th>  <th>reject</th>\n",
       "</tr>\n",
       "<tr>\n",
       "  <td>(-0.05, 0.0]</td> <td>(0.0, 0.05]</td>  <td>5.3368</td>  <td>1.1841</td>  <td>9.4895</td>   <td>True</td> \n",
       "</tr>\n",
       "<tr>\n",
       "  <td>(-0.05, 0.0]</td> <td>(0.05, 0.1]</td>  <td>3.3882</td>  <td>-0.9479</td> <td>7.7243</td>   <td>False</td>\n",
       "</tr>\n",
       "<tr>\n",
       "  <td>(-0.05, 0.0]</td> <td>(0.1, 0.15]</td>  <td>6.6669</td>  <td>2.1282</td>  <td>11.2056</td>  <td>True</td> \n",
       "</tr>\n",
       "<tr>\n",
       "  <td>(-0.05, 0.0]</td> <td>(0.15, 0.2]</td>  <td>5.3096</td>  <td>0.8215</td>  <td>9.7977</td>   <td>True</td> \n",
       "</tr>\n",
       "<tr>\n",
       "  <td>(-0.05, 0.0]</td> <td>(0.2, 0.25]</td>   <td>6.525</td>  <td>1.9469</td>  <td>11.1031</td>  <td>True</td> \n",
       "</tr>\n",
       "<tr>\n",
       "   <td>(0.0, 0.05]</td> <td>(0.05, 0.1]</td>  <td>-1.9486</td> <td>-7.5752</td> <td>3.6779</td>   <td>False</td>\n",
       "</tr>\n",
       "<tr>\n",
       "   <td>(0.0, 0.05]</td> <td>(0.1, 0.15]</td>  <td>1.3301</td>  <td>-4.4541</td> <td>7.1143</td>   <td>False</td>\n",
       "</tr>\n",
       "<tr>\n",
       "   <td>(0.0, 0.05]</td> <td>(0.15, 0.2]</td>  <td>-0.0272</td> <td>-5.7718</td> <td>5.7173</td>   <td>False</td>\n",
       "</tr>\n",
       "<tr>\n",
       "   <td>(0.0, 0.05]</td> <td>(0.2, 0.25]</td>  <td>1.1882</td>  <td>-4.6269</td> <td>7.0033</td>   <td>False</td>\n",
       "</tr>\n",
       "<tr>\n",
       "   <td>(0.05, 0.1]</td> <td>(0.1, 0.15]</td>  <td>3.2787</td>  <td>-2.6385</td>  <td>9.196</td>   <td>False</td>\n",
       "</tr>\n",
       "<tr>\n",
       "   <td>(0.05, 0.1]</td> <td>(0.15, 0.2]</td>  <td>1.9214</td>  <td>-3.9571</td> <td>7.7999</td>   <td>False</td>\n",
       "</tr>\n",
       "<tr>\n",
       "   <td>(0.05, 0.1]</td> <td>(0.2, 0.25]</td>  <td>3.1368</td>  <td>-2.8106</td> <td>9.0843</td>   <td>False</td>\n",
       "</tr>\n",
       "<tr>\n",
       "   <td>(0.1, 0.15]</td> <td>(0.15, 0.2]</td>  <td>-1.3573</td> <td>-7.3868</td> <td>4.6722</td>   <td>False</td>\n",
       "</tr>\n",
       "<tr>\n",
       "   <td>(0.1, 0.15]</td> <td>(0.2, 0.25]</td>  <td>-0.1419</td> <td>-6.2387</td> <td>5.9549</td>   <td>False</td>\n",
       "</tr>\n",
       "<tr>\n",
       "   <td>(0.15, 0.2]</td> <td>(0.2, 0.25]</td>  <td>1.2154</td>  <td>-4.8437</td> <td>7.2746</td>   <td>False</td>\n",
       "</tr>\n",
       "</table>"
      ],
      "text/plain": [
       "<class 'statsmodels.iolib.table.SimpleTable'>"
      ]
     },
     "execution_count": 83,
     "metadata": {},
     "output_type": "execute_result"
    }
   ],
   "source": [
    "# Importing tukey's test\n",
    "from statsmodels.stats.multicomp import pairwise_tukeyhsd as tukey\n",
    "int_str = [str(x) for x in new_discounts]\n",
    "\n",
    "# Run tukey's test\n",
    "tukey_results =tukey(df_H1codes['Quantity'], int_str, 0.05)\n",
    "\n",
    "table_H1_tukey = tukey_table(tukey_results)\n",
    "\n",
    "if save_for_user==True:\n",
    "    table_H1_tukey.to_csv(data_filepath+'table_H1_tukey.csv')\n",
    "    table_H1_tukey.round(4).to_html(data_filepath+'table_H1_tukey.html')\n",
    "tukey_results.summary()\n"
   ]
  },
  {
   "cell_type": "code",
   "execution_count": 84,
   "metadata": {},
   "outputs": [
    {
     "data": {
      "text/html": [
       "<div>\n",
       "<style scoped>\n",
       "    .dataframe tbody tr th:only-of-type {\n",
       "        vertical-align: middle;\n",
       "    }\n",
       "\n",
       "    .dataframe tbody tr th {\n",
       "        vertical-align: top;\n",
       "    }\n",
       "\n",
       "    .dataframe thead th {\n",
       "        text-align: right;\n",
       "    }\n",
       "</style>\n",
       "<table border=\"1\" class=\"dataframe\">\n",
       "  <thead>\n",
       "    <tr style=\"text-align: center;\">\n",
       "      <th></th>\n",
       "      <th>group1</th>\n",
       "      <th>group2</th>\n",
       "      <th>meandiff</th>\n",
       "      <th>lower</th>\n",
       "      <th>upper</th>\n",
       "      <th>reject</th>\n",
       "    </tr>\n",
       "  </thead>\n",
       "  <tbody>\n",
       "    <tr>\n",
       "      <th>0</th>\n",
       "      <td>(-0.05, 0.0]</td>\n",
       "      <td>(0.0, 0.05]</td>\n",
       "      <td>5.337</td>\n",
       "      <td>1.184</td>\n",
       "      <td>9.489</td>\n",
       "      <td>True</td>\n",
       "    </tr>\n",
       "    <tr>\n",
       "      <th>2</th>\n",
       "      <td>(-0.05, 0.0]</td>\n",
       "      <td>(0.1, 0.15]</td>\n",
       "      <td>6.667</td>\n",
       "      <td>2.128</td>\n",
       "      <td>11.206</td>\n",
       "      <td>True</td>\n",
       "    </tr>\n",
       "    <tr>\n",
       "      <th>3</th>\n",
       "      <td>(-0.05, 0.0]</td>\n",
       "      <td>(0.15, 0.2]</td>\n",
       "      <td>5.310</td>\n",
       "      <td>0.822</td>\n",
       "      <td>9.798</td>\n",
       "      <td>True</td>\n",
       "    </tr>\n",
       "    <tr>\n",
       "      <th>4</th>\n",
       "      <td>(-0.05, 0.0]</td>\n",
       "      <td>(0.2, 0.25]</td>\n",
       "      <td>6.525</td>\n",
       "      <td>1.947</td>\n",
       "      <td>11.103</td>\n",
       "      <td>True</td>\n",
       "    </tr>\n",
       "  </tbody>\n",
       "</table>\n",
       "</div>"
      ],
      "text/plain": [
       "      group1       group2     meandiff  lower   upper  reject\n",
       "0  (-0.05, 0.0]  (0.0, 0.05]    5.337   1.184   9.489   True \n",
       "2  (-0.05, 0.0]  (0.1, 0.15]    6.667   2.128  11.206   True \n",
       "3  (-0.05, 0.0]  (0.15, 0.2]    5.310   0.822   9.798   True \n",
       "4  (-0.05, 0.0]  (0.2, 0.25]    6.525   1.947  11.103   True "
      ]
     },
     "execution_count": 84,
     "metadata": {},
     "output_type": "execute_result"
    }
   ],
   "source": [
    "table_H1_tukey.loc[table_H1_tukey['reject']==True]"
   ]
  },
  {
   "cell_type": "markdown",
   "metadata": {},
   "source": [
    "### Plotting summary post-hoc figure"
   ]
  },
  {
   "cell_type": "code",
   "execution_count": 85,
   "metadata": {},
   "outputs": [],
   "source": [
    "from scipy.stats import sem\n",
    "# fig = plt.figure()\n",
    "# ax = fig.add_subplot(111)\n",
    "\n",
    "H1_means = df_H1codes.groupby('Discount')['Quantity'].mean()\n",
    "H1_sem = df_H1codes.groupby('Discount')['Quantity'].sem()\n",
    "H1_std = df_H1codes.groupby('Discount')['Quantity'].std()\n",
    "H1_index = H1_means.index"
   ]
  },
  {
   "cell_type": "code",
   "execution_count": 86,
   "metadata": {},
   "outputs": [],
   "source": [
    "# H1_index"
   ]
  },
  {
   "cell_type": "code",
   "execution_count": 87,
   "metadata": {},
   "outputs": [
    {
     "name": "stdout",
     "output_type": "stream",
     "text": [
      "<class 'pandas.core.frame.DataFrame'>\n",
      "CategoricalIndex: 7 entries, (-0.05, 0.0] to (0.25, 0.3]\n",
      "Data columns (total 5 columns):\n",
      "index     7 non-null category\n",
      "labels    7 non-null object\n",
      "mean      6 non-null float64\n",
      "sem       6 non-null float64\n",
      "std       6 non-null float64\n",
      "dtypes: category(1), float64(3), object(1)\n",
      "memory usage: 462.0+ bytes\n"
     ]
    },
    {
     "data": {
      "text/html": [
       "<div>\n",
       "<style scoped>\n",
       "    .dataframe tbody tr th:only-of-type {\n",
       "        vertical-align: middle;\n",
       "    }\n",
       "\n",
       "    .dataframe tbody tr th {\n",
       "        vertical-align: top;\n",
       "    }\n",
       "\n",
       "    .dataframe thead th {\n",
       "        text-align: right;\n",
       "    }\n",
       "</style>\n",
       "<table border=\"1\" class=\"dataframe\">\n",
       "  <thead>\n",
       "    <tr style=\"text-align: center;\">\n",
       "      <th></th>\n",
       "      <th>index</th>\n",
       "      <th>mean</th>\n",
       "      <th>sem</th>\n",
       "      <th>std</th>\n",
       "    </tr>\n",
       "    <tr>\n",
       "      <th>labels</th>\n",
       "      <th></th>\n",
       "      <th></th>\n",
       "      <th></th>\n",
       "      <th></th>\n",
       "    </tr>\n",
       "  </thead>\n",
       "  <tbody>\n",
       "    <tr>\n",
       "      <th>0 %</th>\n",
       "      <td>(-0.05, 0.0]</td>\n",
       "      <td>21.715</td>\n",
       "      <td>0.482</td>\n",
       "      <td>17.507</td>\n",
       "    </tr>\n",
       "    <tr>\n",
       "      <th>&lt;=5 %</th>\n",
       "      <td>(0.0, 0.05]</td>\n",
       "      <td>27.052</td>\n",
       "      <td>1.612</td>\n",
       "      <td>22.331</td>\n",
       "    </tr>\n",
       "    <tr>\n",
       "      <th>5-10 %</th>\n",
       "      <td>(0.05, 0.1]</td>\n",
       "      <td>25.103</td>\n",
       "      <td>1.607</td>\n",
       "      <td>21.199</td>\n",
       "    </tr>\n",
       "    <tr>\n",
       "      <th>10-15 %</th>\n",
       "      <td>(0.1, 0.15]</td>\n",
       "      <td>28.382</td>\n",
       "      <td>1.670</td>\n",
       "      <td>20.923</td>\n",
       "    </tr>\n",
       "    <tr>\n",
       "      <th>15-20 %</th>\n",
       "      <td>(0.15, 0.2]</td>\n",
       "      <td>27.025</td>\n",
       "      <td>1.484</td>\n",
       "      <td>18.833</td>\n",
       "    </tr>\n",
       "    <tr>\n",
       "      <th>20-25 %</th>\n",
       "      <td>(0.2, 0.25]</td>\n",
       "      <td>28.240</td>\n",
       "      <td>1.621</td>\n",
       "      <td>20.121</td>\n",
       "    </tr>\n",
       "    <tr>\n",
       "      <th>25-30 %</th>\n",
       "      <td>(0.25, 0.3]</td>\n",
       "      <td>NaN</td>\n",
       "      <td>NaN</td>\n",
       "      <td>NaN</td>\n",
       "    </tr>\n",
       "  </tbody>\n",
       "</table>\n",
       "</div>"
      ],
      "text/plain": [
       "            index       mean    sem     std \n",
       "labels                                      \n",
       "0 %      (-0.05, 0.0]  21.715  0.482  17.507\n",
       "<=5 %     (0.0, 0.05]  27.052  1.612  22.331\n",
       "5-10 %    (0.05, 0.1]  25.103  1.607  21.199\n",
       "10-15 %   (0.1, 0.15]  28.382  1.670  20.923\n",
       "15-20 %   (0.15, 0.2]  27.025  1.484  18.833\n",
       "20-25 %   (0.2, 0.25]  28.240  1.621  20.121\n",
       "25-30 %   (0.25, 0.3]     NaN    NaN     NaN"
      ]
     },
     "execution_count": 87,
     "metadata": {},
     "output_type": "execute_result"
    }
   ],
   "source": [
    "# H1_means.index\n",
    "xticklabels = ['0 %','<=5 %','5-10 %','10-15 %','15-20 %','20-25 %','25-30 %']\n",
    "plot_data = {'index':H1_index,'labels':xticklabels,'mean':H1_means,'sem':H1_sem,'std':H1_std}\n",
    "df_plot = pd.DataFrame.from_dict(plot_data,orient='columns')\n",
    "df_plot.info(), df_plot.set_index('labels',inplace=True)\n",
    "\n",
    "df_plot"
   ]
  },
  {
   "cell_type": "code",
   "execution_count": 88,
   "metadata": {},
   "outputs": [
    {
     "data": {
      "image/png": "[encoded data removed]",
      "text/plain": [
       "<Figure size 720x360 with 1 Axes>"
      ]
     },
     "metadata": {},
     "output_type": "display_data"
    }
   ],
   "source": [
    "with plt.style.context('dark_background'):\n",
    "    fig = plt.figure(figsize=(10,5))\n",
    "    ax = fig.add_subplot(1,1,1)\n",
    "    \n",
    "    color = ['red','orange','yellow','green','blue','indigo','violet']\n",
    "    \n",
    "    err_kws = {'ecolor': 'w', 'capsize':5,\n",
    "               'elinewidth': 2 ,'capthick': 2}\n",
    "    \n",
    "    fontTitle = {'fontfamily':'serif',\n",
    "               'fontweight':'medium',\n",
    "               'fontsize':16}\n",
    "    \n",
    "    fontAxis = {'fontfamily':'serif',\n",
    "               'fontweight':'medium',\n",
    "               'fontsize':12}\n",
    "    \n",
    "    ax.bar(x = df_plot.index,width=0.6, height = df_plot['mean'], yerr = df_plot['sem'], error_kw=err_kws,\n",
    "          edgecolor='white', linewidth = 2,color = color)\n",
    "    \n",
    "    ax.set_title('Quantities Purchased By Discount Size',fontdict=fontTitle)\n",
    "    ax.set_ylabel('Average Quantity',fontdict=fontAxis)\n",
    "    ax.set_xlabel('Discount Size', fontdict=fontAxis)\n",
    "    \n",
    "#     plt.tight_layout()\n",
    "    plt.show()"
   ]
  },
  {
   "cell_type": "code",
   "execution_count": 89,
   "metadata": {},
   "outputs": [],
   "source": [
    "# Save figure of save_for_user is True\n",
    "if save_for_user == True:\n",
    "    # ## Uncomment this cell in order to save the image.*\n",
    "    fig.savefig(fig_filepath+'H1_Avg_quantity_by_discount.png', dpi=300, frameon=True,facecolor='k')"
   ]
  },
  {
   "cell_type": "markdown",
   "metadata": {},
   "source": [
    "## ***Conclusions for Hypothesis 1:***\n"
   ]
  },
  {
   "cell_type": "code",
   "execution_count": 90,
   "metadata": {
    "colab": {
     "base_uri": "https://localhost:8080/",
     "height": 166
    },
    "colab_type": "code",
    "id": "qydzhcXa4dz3",
    "outputId": "08e93ff3-aaea-4ba5-a15b-3994e304edf4"
   },
   "outputs": [
    {
     "data": {
      "text/html": [
       "<div>\n",
       "<style scoped>\n",
       "    .dataframe tbody tr th:only-of-type {\n",
       "        vertical-align: middle;\n",
       "    }\n",
       "\n",
       "    .dataframe tbody tr th {\n",
       "        vertical-align: top;\n",
       "    }\n",
       "\n",
       "    .dataframe thead th {\n",
       "        text-align: right;\n",
       "    }\n",
       "</style>\n",
       "<table border=\"1\" class=\"dataframe\">\n",
       "  <thead>\n",
       "    <tr style=\"text-align: center;\">\n",
       "      <th></th>\n",
       "      <th>Group:</th>\n",
       "      <th>TestName</th>\n",
       "      <th>Test Purpose</th>\n",
       "      <th>stat</th>\n",
       "      <th>p</th>\n",
       "      <th>p&lt;.05?</th>\n",
       "    </tr>\n",
       "  </thead>\n",
       "  <tbody>\n",
       "    <tr>\n",
       "      <th>0</th>\n",
       "      <td>A: ['Discount'] &gt; 0</td>\n",
       "      <td>normaltest</td>\n",
       "      <td>Normality</td>\n",
       "      <td>261.528</td>\n",
       "      <td>1.62e-57</td>\n",
       "      <td>True</td>\n",
       "    </tr>\n",
       "    <tr>\n",
       "      <th>1</th>\n",
       "      <td>B: ['Discount'] == 0</td>\n",
       "      <td>normaltest</td>\n",
       "      <td>Normality</td>\n",
       "      <td>544.577</td>\n",
       "      <td>5.58e-119</td>\n",
       "      <td>True</td>\n",
       "    </tr>\n",
       "    <tr>\n",
       "      <th>2</th>\n",
       "      <td>A&amp;B</td>\n",
       "      <td>stats.levene</td>\n",
       "      <td>Equal Var</td>\n",
       "      <td>14.833</td>\n",
       "      <td>0.000121</td>\n",
       "      <td>True</td>\n",
       "    </tr>\n",
       "    <tr>\n",
       "      <th>3</th>\n",
       "      <td>A vs. B</td>\n",
       "      <td>stats.mannwhitneyu</td>\n",
       "      <td>H1_sig</td>\n",
       "      <td>642105.000</td>\n",
       "      <td>6.63e-11</td>\n",
       "      <td>True</td>\n",
       "    </tr>\n",
       "    <tr>\n",
       "      <th>4</th>\n",
       "      <td>A vs. B</td>\n",
       "      <td>Cohen's d</td>\n",
       "      <td>Effect Size</td>\n",
       "      <td>0.286</td>\n",
       "      <td>--</td>\n",
       "      <td>--</td>\n",
       "    </tr>\n",
       "  </tbody>\n",
       "</table>\n",
       "</div>"
      ],
      "text/plain": [
       "          Group:              TestName      Test Purpose     stat     \\\n",
       "0   A: ['Discount'] > 0          normaltest    Normality     261.528   \n",
       "1  B: ['Discount'] == 0          normaltest    Normality     544.577   \n",
       "2                   A&B        stats.levene    Equal Var      14.833   \n",
       "3               A vs. B  stats.mannwhitneyu       H1_sig  642105.000   \n",
       "4               A vs. B           Cohen's d  Effect Size       0.286   \n",
       "\n",
       "      p      p<.05?  \n",
       "0   1.62e-57  True   \n",
       "1  5.58e-119  True   \n",
       "2   0.000121  True   \n",
       "3   6.63e-11  True   \n",
       "4         --    --   "
      ]
     },
     "metadata": {},
     "output_type": "display_data"
    }
   ],
   "source": [
    "display(table_H1_test_results)"
   ]
  },
  {
   "cell_type": "markdown",
   "metadata": {
    "colab_type": "text",
    "id": "3JKcx3pw5_LK"
   },
   "source": [
    "1. **We first used D'Agostino & Perason's test (normaltest) to check for normal distributions**\n",
    "    -  Both groups had p-values very far below our $\\alpha=0.05$  (Rows 0,1 below)\n",
    "        - We rejecteded the null hypothesis that the groups came from a populatiin with a normal distribtuion. \n",
    "2. **We tested for equal variances using Levene's test.**\n",
    "    - Level's test had a signifcant p-value, so we rejected the hypothesis that the groups have equal variances\n",
    "    \n",
    "3. **We then concluded we need a non-parametric 2-sample test, so we used the Mann-Whitney U test**. \n",
    "    -  Our comparison had a p-value less than .05\n",
    "    - We reject the null hypothesis that discounts do not affect quantities sold.\n",
    "\n"
   ]
  },
  {
   "cell_type": "markdown",
   "metadata": {
    "colab_type": "text",
    "id": "Qcn4RlASByQm"
   },
   "source": [
    "4. **To determine which level of discounts had the largest effect, we performed a pairwise multiple comparison Tukey's test**. \n",
    "    - Our results showed that discounts of 0-5%, 10-15%, 15-20%, and 20-25% were all significantly different from full price products. \n",
    "        - Except 5-10 % discount group\n",
    "    - No discount groups were significantly different than other discount groups.\n",
    "    "
   ]
  },
  {
   "cell_type": "code",
   "execution_count": 91,
   "metadata": {
    "colab": {
     "base_uri": "https://localhost:8080/",
     "height": 166
    },
    "colab_type": "code",
    "id": "j6-3co5F1NWz",
    "outputId": "6cdf2fd8-811d-42a7-ce8c-5cb95ef019ba"
   },
   "outputs": [
    {
     "data": {
      "text/html": [
       "<div>\n",
       "<style scoped>\n",
       "    .dataframe tbody tr th:only-of-type {\n",
       "        vertical-align: middle;\n",
       "    }\n",
       "\n",
       "    .dataframe tbody tr th {\n",
       "        vertical-align: top;\n",
       "    }\n",
       "\n",
       "    .dataframe thead th {\n",
       "        text-align: right;\n",
       "    }\n",
       "</style>\n",
       "<table border=\"1\" class=\"dataframe\">\n",
       "  <thead>\n",
       "    <tr style=\"text-align: center;\">\n",
       "      <th></th>\n",
       "      <th>group1</th>\n",
       "      <th>group2</th>\n",
       "      <th>meandiff</th>\n",
       "      <th>lower</th>\n",
       "      <th>upper</th>\n",
       "      <th>reject</th>\n",
       "    </tr>\n",
       "  </thead>\n",
       "  <tbody>\n",
       "    <tr>\n",
       "      <th>0</th>\n",
       "      <td>(-0.05, 0.0]</td>\n",
       "      <td>(0.0, 0.05]</td>\n",
       "      <td>5.337</td>\n",
       "      <td>1.184</td>\n",
       "      <td>9.489</td>\n",
       "      <td>True</td>\n",
       "    </tr>\n",
       "    <tr>\n",
       "      <th>2</th>\n",
       "      <td>(-0.05, 0.0]</td>\n",
       "      <td>(0.1, 0.15]</td>\n",
       "      <td>6.667</td>\n",
       "      <td>2.128</td>\n",
       "      <td>11.206</td>\n",
       "      <td>True</td>\n",
       "    </tr>\n",
       "    <tr>\n",
       "      <th>3</th>\n",
       "      <td>(-0.05, 0.0]</td>\n",
       "      <td>(0.15, 0.2]</td>\n",
       "      <td>5.310</td>\n",
       "      <td>0.822</td>\n",
       "      <td>9.798</td>\n",
       "      <td>True</td>\n",
       "    </tr>\n",
       "    <tr>\n",
       "      <th>4</th>\n",
       "      <td>(-0.05, 0.0]</td>\n",
       "      <td>(0.2, 0.25]</td>\n",
       "      <td>6.525</td>\n",
       "      <td>1.947</td>\n",
       "      <td>11.103</td>\n",
       "      <td>True</td>\n",
       "    </tr>\n",
       "  </tbody>\n",
       "</table>\n",
       "</div>"
      ],
      "text/plain": [
       "      group1       group2     meandiff  lower   upper  reject\n",
       "0  (-0.05, 0.0]  (0.0, 0.05]    5.337   1.184   9.489   True \n",
       "2  (-0.05, 0.0]  (0.1, 0.15]    6.667   2.128  11.206   True \n",
       "3  (-0.05, 0.0]  (0.15, 0.2]    5.310   0.822   9.798   True \n",
       "4  (-0.05, 0.0]  (0.2, 0.25]    6.525   1.947  11.103   True "
      ]
     },
     "execution_count": 91,
     "metadata": {},
     "output_type": "execute_result"
    }
   ],
   "source": [
    "# Save the results into a dataframe\n",
    "table_H1_tukey.loc[table_H1_tukey['reject']==True]"
   ]
  },
  {
   "cell_type": "code",
   "execution_count": 92,
   "metadata": {},
   "outputs": [],
   "source": [
    "# df_H1codes.info(),\n",
    "# dfH.index"
   ]
  },
  {
   "cell_type": "code",
   "execution_count": 93,
   "metadata": {
    "colab": {},
    "colab_type": "code",
    "id": "vp_RWWFBBRo6"
   },
   "outputs": [],
   "source": [
    "# # Save results to new dataframe\n",
    "# df_orig_save = df_H1codes.copy()\n",
    "# dfH1_save = dfH.copy()"
   ]
  },
  {
   "cell_type": "markdown",
   "metadata": {
    "colab_type": "text",
    "id": "P23rLwIWwwTC"
   },
   "source": [
    "___\n",
    "# **Hypothesis 2:**\n"
   ]
  },
  {
   "cell_type": "markdown",
   "metadata": {
    "colab_type": "text",
    "id": "eeQIJm_ESU6C"
   },
   "source": [
    "> **Do customers spend more money if they are buying discounted items?**\n",
    "\n",
    "- $H_1$: Customers spend more money overall when their order includes discounted items.\n",
    "\n",
    "- $H_0$: Customers spend the same amount regardless of discounted items. \n",
    "\n",
    "**Specific Aims:**\n",
    "\n",
    "* ***Aim 1:To select the proper dataset for analysis, perform EDA, and generate data groups for testing.***\n",
    "    - Used sqlalchemy and pandas.read_sql_query()\n",
    "    \n",
    "    ```python \n",
    "query = \"SELECT* FROM OrderDetails,\n",
    "            GROUPBY discount```\n",
    "\n",
    "* ***Aim 2: Select the appropriate t-test based on tests for the assumptions of normality and homogeneity of variance.***\n",
    "    1. **Test for Normality**\n",
    "        - D'Agostino-Pearson's normality test<br>\n",
    "        ```scipy.stats.normaltest```\n",
    "        - Shapiro-Wilik Test<br>\n",
    "        ```scipy.stats.shapiro```\n",
    "    2. **Test for Homogeneity of Variance**\n",
    "        - Levene's Test<br>\n",
    "         ```scipy.stats.levene```\n",
    "\n",
    "    3. **Choose appropriate test based upon 1. and 2.** <br> \n",
    "    \n",
    "    \n",
    "* ***Aim 3: To perform post-hoc painrwise comparison testing to determine which level of discounts affect quantity and if any discount has a greater effect than the others.***\n",
    "\n",
    "     - Tukey's test for multiple pairwise comparisons"
   ]
  },
  {
   "cell_type": "markdown",
   "metadata": {
    "colab_type": "text",
    "id": "m9GqTizvBRo8"
   },
   "source": [
    "_________\n",
    "## ***H2, Aim 1 : To select the proper dataset for analysis  and generate data groups for testing.***\n",
    "\n",
    "#### Importing Method\n",
    "- Used sqlalchemy to create engine to connect to Northwind_small.sqlite.\n",
    "- used ```pd.read_sql_query('SELECT * FROM OrderDetail',engine)``` to directly read db into df"
   ]
  },
  {
   "cell_type": "code",
   "execution_count": 94,
   "metadata": {
    "colab": {
     "base_uri": "https://localhost:8080/",
     "height": 170
    },
    "colab_type": "code",
    "id": "a_22M7dSftkZ",
    "outputId": "2e326aa5-00e0-4e9b-834c-596e2d839bfa"
   },
   "outputs": [
    {
     "name": "stdout",
     "output_type": "stream",
     "text": [
      "2019-04-09 20:38:23,918 INFO sqlalchemy.engine.base.Engine SELECT CAST('test plain returns' AS VARCHAR(60)) AS anon_1\n",
      "2019-04-09 20:38:23,919 INFO sqlalchemy.engine.base.Engine ()\n",
      "2019-04-09 20:38:23,921 INFO sqlalchemy.engine.base.Engine SELECT CAST('test unicode returns' AS VARCHAR(60)) AS anon_1\n",
      "2019-04-09 20:38:23,921 INFO sqlalchemy.engine.base.Engine ()\n",
      "2019-04-09 20:38:23,923 INFO sqlalchemy.engine.base.Engine SELECT name FROM sqlite_master WHERE type='table' ORDER BY name\n",
      "2019-04-09 20:38:23,924 INFO sqlalchemy.engine.base.Engine ()\n",
      "\n",
      " ['Category', 'Customer', 'CustomerCustomerDemo', 'CustomerDemographic', 'Employee', 'EmployeeTerritory', 'Order', 'OrderDetail', 'Product', 'Region', 'Shipper', 'Supplier', 'Territory']\n"
     ]
    }
   ],
   "source": [
    "# filepath = '/content/drive/My Drive/Colab Notebooks/datasets/Northwind_small.sqlite'\n",
    "# filepath = 'Northwind_small.sqlite'\n",
    "#-------------------\n",
    "# Testing minimal version of prior code\n",
    "import sqlite3\n",
    "from sqlalchemy import create_engine, inspect\n",
    "# from sqlalchemy import Table, Column, Integer, String, MetaData, ForeignKey,text, Float\n",
    "\n",
    "engine = create_engine('sqlite:///'+filepath,echo=True);\n",
    "inspector = inspect(engine);\n",
    "db_tables = inspector.get_table_names();\n",
    "print('\\n',db_tables);"
   ]
  },
  {
   "cell_type": "code",
   "execution_count": 95,
   "metadata": {
    "colab": {
     "base_uri": "https://localhost:8080/",
     "height": 230
    },
    "colab_type": "code",
    "id": "Mhf5gyVYHovd",
    "outputId": "82f51b7d-1e81-4f9e-82a0-a89a705feec7"
   },
   "outputs": [
    {
     "name": "stdout",
     "output_type": "stream",
     "text": [
      "2019-04-09 20:38:23,933 INFO sqlalchemy.engine.base.Engine SELECT * FROM OrderDetail\n",
      "2019-04-09 20:38:23,933 INFO sqlalchemy.engine.base.Engine ()\n"
     ]
    },
    {
     "data": {
      "text/html": [
       "<div>\n",
       "<style scoped>\n",
       "    .dataframe tbody tr th:only-of-type {\n",
       "        vertical-align: middle;\n",
       "    }\n",
       "\n",
       "    .dataframe tbody tr th {\n",
       "        vertical-align: top;\n",
       "    }\n",
       "\n",
       "    .dataframe thead th {\n",
       "        text-align: right;\n",
       "    }\n",
       "</style>\n",
       "<table border=\"1\" class=\"dataframe\">\n",
       "  <thead>\n",
       "    <tr style=\"text-align: center;\">\n",
       "      <th></th>\n",
       "      <th>Id</th>\n",
       "      <th>OrderId</th>\n",
       "      <th>ProductId</th>\n",
       "      <th>UnitPrice</th>\n",
       "      <th>Quantity</th>\n",
       "      <th>Discount</th>\n",
       "    </tr>\n",
       "  </thead>\n",
       "  <tbody>\n",
       "    <tr>\n",
       "      <th>0</th>\n",
       "      <td>10248/11</td>\n",
       "      <td>10248</td>\n",
       "      <td>11</td>\n",
       "      <td>14.0</td>\n",
       "      <td>12</td>\n",
       "      <td>0.0</td>\n",
       "    </tr>\n",
       "    <tr>\n",
       "      <th>1</th>\n",
       "      <td>10248/42</td>\n",
       "      <td>10248</td>\n",
       "      <td>42</td>\n",
       "      <td>9.8</td>\n",
       "      <td>10</td>\n",
       "      <td>0.0</td>\n",
       "    </tr>\n",
       "    <tr>\n",
       "      <th>2</th>\n",
       "      <td>10248/72</td>\n",
       "      <td>10248</td>\n",
       "      <td>72</td>\n",
       "      <td>34.8</td>\n",
       "      <td>5</td>\n",
       "      <td>0.0</td>\n",
       "    </tr>\n",
       "    <tr>\n",
       "      <th>3</th>\n",
       "      <td>10249/14</td>\n",
       "      <td>10249</td>\n",
       "      <td>14</td>\n",
       "      <td>18.6</td>\n",
       "      <td>9</td>\n",
       "      <td>0.0</td>\n",
       "    </tr>\n",
       "    <tr>\n",
       "      <th>4</th>\n",
       "      <td>10249/51</td>\n",
       "      <td>10249</td>\n",
       "      <td>51</td>\n",
       "      <td>42.4</td>\n",
       "      <td>40</td>\n",
       "      <td>0.0</td>\n",
       "    </tr>\n",
       "  </tbody>\n",
       "</table>\n",
       "</div>"
      ],
      "text/plain": [
       "      Id     OrderId  ProductId  UnitPrice  Quantity  Discount\n",
       "0  10248/11   10248      11        14.0        12        0.0  \n",
       "1  10248/42   10248      42         9.8        10        0.0  \n",
       "2  10248/72   10248      72        34.8         5        0.0  \n",
       "3  10249/14   10249      14        18.6         9        0.0  \n",
       "4  10249/51   10249      51        42.4        40        0.0  "
      ]
     },
     "execution_count": 95,
     "metadata": {},
     "output_type": "execute_result"
    }
   ],
   "source": [
    "# We want to test hypothesis one, so we need OrderDetail table.\n",
    "table_to_test = \"OrderDetail\"\n",
    "df = pd.read_sql_query(\"SELECT * FROM OrderDetail\",  engine)\n",
    "df.head()"
   ]
  },
  {
   "cell_type": "markdown",
   "metadata": {
    "colab_type": "text",
    "id": "kSqmOZAHTcNQ"
   },
   "source": [
    "### Aim 1.1: Calculating order totals, adding discount groups"
   ]
  },
  {
   "cell_type": "code",
   "execution_count": 96,
   "metadata": {},
   "outputs": [
    {
     "data": {
      "text/html": [
       "<div>\n",
       "<style scoped>\n",
       "    .dataframe tbody tr th:only-of-type {\n",
       "        vertical-align: middle;\n",
       "    }\n",
       "\n",
       "    .dataframe tbody tr th {\n",
       "        vertical-align: top;\n",
       "    }\n",
       "\n",
       "    .dataframe thead th {\n",
       "        text-align: right;\n",
       "    }\n",
       "</style>\n",
       "<table border=\"1\" class=\"dataframe\">\n",
       "  <thead>\n",
       "    <tr style=\"text-align: center;\">\n",
       "      <th></th>\n",
       "      <th>Id</th>\n",
       "      <th>OrderId</th>\n",
       "      <th>ProductId</th>\n",
       "      <th>UnitPrice</th>\n",
       "      <th>Quantity</th>\n",
       "      <th>Discount</th>\n",
       "      <th>price</th>\n",
       "      <th>OnSale</th>\n",
       "      <th>discounted_order</th>\n",
       "      <th>order_total</th>\n",
       "    </tr>\n",
       "  </thead>\n",
       "  <tbody>\n",
       "    <tr>\n",
       "      <th>0</th>\n",
       "      <td>10248/11</td>\n",
       "      <td>10248</td>\n",
       "      <td>11</td>\n",
       "      <td>14.0</td>\n",
       "      <td>12</td>\n",
       "      <td>0.0</td>\n",
       "      <td>168.0</td>\n",
       "      <td>0</td>\n",
       "      <td>0</td>\n",
       "      <td>440.0</td>\n",
       "    </tr>\n",
       "    <tr>\n",
       "      <th>1</th>\n",
       "      <td>10248/42</td>\n",
       "      <td>10248</td>\n",
       "      <td>42</td>\n",
       "      <td>9.8</td>\n",
       "      <td>10</td>\n",
       "      <td>0.0</td>\n",
       "      <td>98.0</td>\n",
       "      <td>0</td>\n",
       "      <td>0</td>\n",
       "      <td>440.0</td>\n",
       "    </tr>\n",
       "    <tr>\n",
       "      <th>2</th>\n",
       "      <td>10248/72</td>\n",
       "      <td>10248</td>\n",
       "      <td>72</td>\n",
       "      <td>34.8</td>\n",
       "      <td>5</td>\n",
       "      <td>0.0</td>\n",
       "      <td>174.0</td>\n",
       "      <td>0</td>\n",
       "      <td>0</td>\n",
       "      <td>440.0</td>\n",
       "    </tr>\n",
       "    <tr>\n",
       "      <th>3</th>\n",
       "      <td>10249/14</td>\n",
       "      <td>10249</td>\n",
       "      <td>14</td>\n",
       "      <td>18.6</td>\n",
       "      <td>9</td>\n",
       "      <td>0.0</td>\n",
       "      <td>167.4</td>\n",
       "      <td>0</td>\n",
       "      <td>0</td>\n",
       "      <td>1863.4</td>\n",
       "    </tr>\n",
       "    <tr>\n",
       "      <th>4</th>\n",
       "      <td>10249/51</td>\n",
       "      <td>10249</td>\n",
       "      <td>51</td>\n",
       "      <td>42.4</td>\n",
       "      <td>40</td>\n",
       "      <td>0.0</td>\n",
       "      <td>1696.0</td>\n",
       "      <td>0</td>\n",
       "      <td>0</td>\n",
       "      <td>1863.4</td>\n",
       "    </tr>\n",
       "  </tbody>\n",
       "</table>\n",
       "</div>"
      ],
      "text/plain": [
       "      Id     OrderId  ProductId  UnitPrice  Quantity  Discount   price  \\\n",
       "0  10248/11   10248      11        14.0        12        0.0     168.0   \n",
       "1  10248/42   10248      42         9.8        10        0.0      98.0   \n",
       "2  10248/72   10248      72        34.8         5        0.0     174.0   \n",
       "3  10249/14   10249      14        18.6         9        0.0     167.4   \n",
       "4  10249/51   10249      51        42.4        40        0.0    1696.0   \n",
       "\n",
       "   OnSale  discounted_order  order_total  \n",
       "0     0            0            440.0     \n",
       "1     0            0            440.0     \n",
       "2     0            0            440.0     \n",
       "3     0            0           1863.4     \n",
       "4     0            0           1863.4     "
      ]
     },
     "execution_count": 96,
     "metadata": {},
     "output_type": "execute_result"
    }
   ],
   "source": [
    "\n",
    "# Apply calc_product_price to every row \n",
    "df_price = df.apply(lambda x: calc_product_price(x),axis=1)\n",
    "# df_price['order_total'] = None\n",
    "\n",
    "# Apply_calc_order_total to every row\n",
    "df_price = df_price.apply(lambda x: calc_order_total(x,df_price), axis=1)  \n",
    "df_price.head()"
   ]
  },
  {
   "cell_type": "markdown",
   "metadata": {
    "colab_type": "text",
    "id": "KzQo_3AAxHGj"
   },
   "source": [
    "### Aim 1.2: EDA on dataset \n"
   ]
  },
  {
   "cell_type": "code",
   "execution_count": 97,
   "metadata": {
    "colab": {
     "base_uri": "https://localhost:8080/",
     "height": 345
    },
    "colab_type": "code",
    "id": "d5hsveQvqptC",
    "outputId": "a4b347b7-0e1a-4338-ca51-3eb6960169f8"
   },
   "outputs": [
    {
     "name": "stdout",
     "output_type": "stream",
     "text": [
      "Mean of Full Price: 1748.1294774774774\n",
      " Mean of Discounted: 1967.286576076555\n"
     ]
    },
    {
     "data": {
      "text/plain": [
       "<Figure size 432x288 with 0 Axes>"
      ]
     },
     "metadata": {},
     "output_type": "display_data"
    },
    {
     "data": {
      "image/png": "[encoded data removed]",
      "text/plain": [
       "<Figure size 720x360 with 2 Axes>"
      ]
     },
     "metadata": {},
     "output_type": "display_data"
    }
   ],
   "source": [
    "import warnings\n",
    "warnings.filterwarnings(\"ignore\")\n",
    "# Define groups\n",
    "# A: discounted df_price.groupby('discounted_order').get_group(1)\n",
    "# B: full price df_price.groupbt('discounted_order').get_group(0)\n",
    "grpA = df_price.groupby('discounted_order').get_group(1)\n",
    "grpB = df_price.groupby('discounted_order').get_group(0)\n",
    "\n",
    "kwargs = {'title_var':'Order Totals'}\n",
    "fig, ax =plot_wide_kde_thin_bar(grpB['order_total'],'Full Price',grpA['order_total'],'Discounted',**kwargs)\n"
   ]
  },
  {
   "cell_type": "code",
   "execution_count": 98,
   "metadata": {
    "colab_type": "text",
    "id": "V5h8J1CXwlbO"
   },
   "outputs": [],
   "source": [
    "# Save figure of save_for_user is True\n",
    "if save_for_user == True:\n",
    "    fig.savefig(fig_filepath+'H2_kde_bar_black.png',dpi=300,facecolor='k')"
   ]
  },
  {
   "cell_type": "code",
   "execution_count": 99,
   "metadata": {
    "colab": {
     "base_uri": "https://localhost:8080/",
     "height": 196
    },
    "colab_type": "code",
    "id": "6Nltea0kvYDT",
    "outputId": "8ff7d61c-faa7-4e45-cc52-2dccdb83f051"
   },
   "outputs": [
    {
     "data": {
      "text/html": [
       "<div>\n",
       "<style scoped>\n",
       "    .dataframe tbody tr th:only-of-type {\n",
       "        vertical-align: middle;\n",
       "    }\n",
       "\n",
       "    .dataframe tbody tr th {\n",
       "        vertical-align: top;\n",
       "    }\n",
       "\n",
       "    .dataframe thead th {\n",
       "        text-align: right;\n",
       "    }\n",
       "</style>\n",
       "<table border=\"1\" class=\"dataframe\">\n",
       "  <thead>\n",
       "    <tr style=\"text-align: center;\">\n",
       "      <th></th>\n",
       "      <th>OrderId</th>\n",
       "      <th>order_total</th>\n",
       "      <th>discounted_order</th>\n",
       "    </tr>\n",
       "  </thead>\n",
       "  <tbody>\n",
       "    <tr>\n",
       "      <th>0</th>\n",
       "      <td>10248.0</td>\n",
       "      <td>440.00</td>\n",
       "      <td>0.0</td>\n",
       "    </tr>\n",
       "    <tr>\n",
       "      <th>3</th>\n",
       "      <td>10249.0</td>\n",
       "      <td>1863.40</td>\n",
       "      <td>0.0</td>\n",
       "    </tr>\n",
       "    <tr>\n",
       "      <th>5</th>\n",
       "      <td>10250.0</td>\n",
       "      <td>1552.60</td>\n",
       "      <td>1.0</td>\n",
       "    </tr>\n",
       "    <tr>\n",
       "      <th>8</th>\n",
       "      <td>10251.0</td>\n",
       "      <td>654.06</td>\n",
       "      <td>1.0</td>\n",
       "    </tr>\n",
       "    <tr>\n",
       "      <th>11</th>\n",
       "      <td>10252.0</td>\n",
       "      <td>3597.90</td>\n",
       "      <td>1.0</td>\n",
       "    </tr>\n",
       "  </tbody>\n",
       "</table>\n",
       "</div>"
      ],
      "text/plain": [
       "    OrderId  order_total  discounted_order\n",
       "0   10248.0     440.00           0.0      \n",
       "3   10249.0    1863.40           0.0      \n",
       "5   10250.0    1552.60           1.0      \n",
       "8   10251.0     654.06           1.0      \n",
       "11  10252.0    3597.90           1.0      "
      ]
     },
     "execution_count": 99,
     "metadata": {},
     "output_type": "execute_result"
    }
   ],
   "source": [
    "# 1 - Separating groups from dfH (dataframeHypothesis)\n",
    "df_temp = df_price[['OrderId','order_total','discounted_order']]\n",
    "\n",
    "unique_orders = df_temp['OrderId'].unique()\n",
    "\n",
    "len(unique_orders)\n",
    "keep_me=[['OrderId','order_total','discounted_order']]\n",
    "\n",
    "for u in unique_orders:\n",
    "#     grouped = dfH.groupby('OrderId').get_group(u)\n",
    "#     keep_me.append(grouped.iloc[0,:])\n",
    "    grouped_idx = df_temp.groupby('OrderId').get_group(u).index\n",
    "    keep_me.append(df_temp.loc[grouped_idx[0]])\n",
    "dfH = list2df(keep_me)\n",
    "dfH.head()"
   ]
  },
  {
   "cell_type": "code",
   "execution_count": 100,
   "metadata": {
    "colab": {
     "base_uri": "https://localhost:8080/",
     "height": 166
    },
    "colab_type": "code",
    "id": "BtsXbgtKBRpF",
    "outputId": "b24d380a-aa8b-4428-d8c0-81b33fa5ed13"
   },
   "outputs": [
    {
     "data": {
      "text/html": [
       "<div>\n",
       "<style scoped>\n",
       "    .dataframe tbody tr th:only-of-type {\n",
       "        vertical-align: middle;\n",
       "    }\n",
       "\n",
       "    .dataframe tbody tr th {\n",
       "        vertical-align: top;\n",
       "    }\n",
       "\n",
       "    .dataframe thead tr th {\n",
       "        text-align: left;\n",
       "    }\n",
       "\n",
       "    .dataframe thead tr:last-of-type th {\n",
       "        text-align: right;\n",
       "    }\n",
       "</style>\n",
       "<table border=\"1\" class=\"dataframe\">\n",
       "  <thead>\n",
       "    <tr>\n",
       "      <th></th>\n",
       "      <th colspan=\"8\" halign=\"left\">order_total</th>\n",
       "    </tr>\n",
       "    <tr>\n",
       "      <th></th>\n",
       "      <th>count</th>\n",
       "      <th>mean</th>\n",
       "      <th>std</th>\n",
       "      <th>min</th>\n",
       "      <th>25%</th>\n",
       "      <th>50%</th>\n",
       "      <th>75%</th>\n",
       "      <th>max</th>\n",
       "    </tr>\n",
       "    <tr>\n",
       "      <th>discounted_order</th>\n",
       "      <th></th>\n",
       "      <th></th>\n",
       "      <th></th>\n",
       "      <th></th>\n",
       "      <th></th>\n",
       "      <th></th>\n",
       "      <th></th>\n",
       "      <th></th>\n",
       "    </tr>\n",
       "  </thead>\n",
       "  <tbody>\n",
       "    <tr>\n",
       "      <th>0.0</th>\n",
       "      <td>450.0</td>\n",
       "      <td>1375.332</td>\n",
       "      <td>1792.781</td>\n",
       "      <td>12.5</td>\n",
       "      <td>360.25</td>\n",
       "      <td>810.250</td>\n",
       "      <td>1731.67</td>\n",
       "      <td>15810.0</td>\n",
       "    </tr>\n",
       "    <tr>\n",
       "      <th>1.0</th>\n",
       "      <td>380.0</td>\n",
       "      <td>1702.352</td>\n",
       "      <td>1892.448</td>\n",
       "      <td>23.8</td>\n",
       "      <td>587.75</td>\n",
       "      <td>1244.885</td>\n",
       "      <td>2027.91</td>\n",
       "      <td>16387.5</td>\n",
       "    </tr>\n",
       "  </tbody>\n",
       "</table>\n",
       "</div>"
      ],
      "text/plain": [
       "                 order_total                                              \\\n",
       "                    count       mean      std     min    25%      50%      \n",
       "discounted_order                                                           \n",
       "0.0                  450.0    1375.332  1792.781  12.5  360.25   810.250   \n",
       "1.0                  380.0    1702.352  1892.448  23.8  587.75  1244.885   \n",
       "\n",
       "                                    \n",
       "                   75%      max     \n",
       "discounted_order                    \n",
       "0.0               1731.67  15810.0  \n",
       "1.0               2027.91  16387.5  "
      ]
     },
     "execution_count": 100,
     "metadata": {},
     "output_type": "execute_result"
    }
   ],
   "source": [
    "dfH[['order_total','discounted_order']].groupby('discounted_order').describe()#.stack()"
   ]
  },
  {
   "cell_type": "code",
   "execution_count": 101,
   "metadata": {
    "colab": {
     "base_uri": "https://localhost:8080/",
     "height": 334
    },
    "colab_type": "code",
    "id": "3uGVTWbyBRpG",
    "outputId": "75ab3230-1c8c-4d72-c784-02798bdabac9"
   },
   "outputs": [
    {
     "data": {
      "text/plain": [
       "(        OrderId   order_total  discounted_order\n",
       " count    380.000     380.000         380.0     \n",
       " mean   10659.555    1702.352           1.0     \n",
       " std      234.869    1892.448           0.0     \n",
       " min    10250.000      23.800           1.0     \n",
       " 25%    10460.750     587.750           1.0     \n",
       " 50%    10649.000    1244.885           1.0     \n",
       " 75%    10854.250    2027.910           1.0     \n",
       " max    11077.000   16387.500           1.0     ,\n",
       " '--------------------------------------------------',\n",
       "         OrderId   order_total  discounted_order\n",
       " count    450.000     450.000         450.0     \n",
       " mean   10664.987    1375.332           0.0     \n",
       " std      244.019    1792.781           0.0     \n",
       " min    10248.000      12.500           0.0     \n",
       " 25%    10447.250     360.250           0.0     \n",
       " 50%    10678.500     810.250           0.0     \n",
       " 75%    10884.500    1731.670           0.0     \n",
       " max    11073.000   15810.000           0.0     )"
      ]
     },
     "execution_count": 101,
     "metadata": {},
     "output_type": "execute_result"
    }
   ],
   "source": [
    "#Adding group definitions\n",
    "grpA = \"['discounted_order'] == True\"\n",
    "grpB = \"['discounted_order'] == False\"\n",
    "\n",
    "# Using eval to create df_A and df_B; will allow us to fill in our results \n",
    "# with the exact definitions of Group A and Group B\n",
    "df_A = eval(f'dfH.loc[dfH{grpA}]')\n",
    "df_B = eval(f'dfH.loc[dfH{grpB}]')\n",
    "\n",
    "# dfj_D = dfH.loc[dfj['Discount']>0] \n",
    "# dfj_F = dfH.loc[dfj['Discount']==0]\n",
    "df_A.describe(),'--'*25,df_B.describe()"
   ]
  },
  {
   "cell_type": "markdown",
   "metadata": {
    "colab_type": "text",
    "id": "DZfc0jqTxeNA"
   },
   "source": [
    "## ***H2, Aim 2: Select the appropriate t-test based on tests for the assumptions of normality and homogeneity of variance.***"
   ]
  },
  {
   "cell_type": "code",
   "execution_count": 102,
   "metadata": {
    "colab": {},
    "colab_type": "code",
    "id": "6o7eXWHUvYDY"
   },
   "outputs": [],
   "source": [
    "# Adding table to collect summary statistics\n",
    "H2_tests = [['Group:','TestName','Test Purpose','stat','p','p<.05?']  ]"
   ]
  },
  {
   "cell_type": "markdown",
   "metadata": {
    "colab_type": "text",
    "id": "SaXaorm5BRpM"
   },
   "source": [
    "### Aim 2.1: Test for Normality"
   ]
  },
  {
   "cell_type": "code",
   "execution_count": 103,
   "metadata": {
    "colab": {
     "base_uri": "https://localhost:8080/",
     "height": 50
    },
    "colab_type": "code",
    "id": "HXMiuzjTvYDd",
    "outputId": "592a280b-0a3f-4a7d-f999-33db61823bca"
   },
   "outputs": [
    {
     "name": "stdout",
     "output_type": "stream",
     "text": [
      "A:stat=309.8566632385119, p=5.193743376505954e-68\n",
      "B:stat=368.4093987857893, p=1.0021102701214462e-80\n"
     ]
    }
   ],
   "source": [
    "# 2. Testing normality\n",
    "test_purpose = 'Normality'\n",
    "test_to_run = 'normaltest'\n",
    "\n",
    "arrA = np.array(df_A['order_total'])\n",
    "arrB = np.array(df_B['order_total'])\n",
    "\n",
    "statA, pA = eval(test_to_run)(arrA)\n",
    "statB, pB = eval(test_to_run)(arrB)\n",
    "\n",
    "print(f'A:stat={statA}, p={pA}')\n",
    "print(f'B:stat={statB}, p={pB}')\n",
    "\n",
    "H2_tests.append(['A: '+grpA,test_to_run,test_purpose,statA,pA,pA<.05])\n",
    "H2_tests.append(['B: '+grpB,test_to_run,test_purpose,statB,pB,pB<.05])\n",
    "# list2df(H1_tests)"
   ]
  },
  {
   "cell_type": "code",
   "execution_count": 104,
   "metadata": {
    "colab": {
     "base_uri": "https://localhost:8080/",
     "height": 107
    },
    "colab_type": "code",
    "id": "djdIF4bpvYDg",
    "outputId": "984f0b93-550e-457e-aab7-8aa0a6458e2e"
   },
   "outputs": [
    {
     "data": {
      "text/html": [
       "<div>\n",
       "<style scoped>\n",
       "    .dataframe tbody tr th:only-of-type {\n",
       "        vertical-align: middle;\n",
       "    }\n",
       "\n",
       "    .dataframe tbody tr th {\n",
       "        vertical-align: top;\n",
       "    }\n",
       "\n",
       "    .dataframe thead th {\n",
       "        text-align: right;\n",
       "    }\n",
       "</style>\n",
       "<table border=\"1\" class=\"dataframe\">\n",
       "  <thead>\n",
       "    <tr style=\"text-align: center;\">\n",
       "      <th></th>\n",
       "      <th>Group:</th>\n",
       "      <th>TestName</th>\n",
       "      <th>Test Purpose</th>\n",
       "      <th>stat</th>\n",
       "      <th>p</th>\n",
       "      <th>p&lt;.05?</th>\n",
       "    </tr>\n",
       "  </thead>\n",
       "  <tbody>\n",
       "    <tr>\n",
       "      <th>0</th>\n",
       "      <td>A: ['discounted_order'] == True</td>\n",
       "      <td>normaltest</td>\n",
       "      <td>Normality</td>\n",
       "      <td>309.857</td>\n",
       "      <td>5.194e-68</td>\n",
       "      <td>True</td>\n",
       "    </tr>\n",
       "    <tr>\n",
       "      <th>1</th>\n",
       "      <td>B: ['discounted_order'] == False</td>\n",
       "      <td>normaltest</td>\n",
       "      <td>Normality</td>\n",
       "      <td>368.409</td>\n",
       "      <td>1.002e-80</td>\n",
       "      <td>True</td>\n",
       "    </tr>\n",
       "  </tbody>\n",
       "</table>\n",
       "</div>"
      ],
      "text/plain": [
       "                Group:                TestName  Test Purpose   stat    \\\n",
       "0   A: ['discounted_order'] == True  normaltest   Normality   309.857   \n",
       "1  B: ['discounted_order'] == False  normaltest   Normality   368.409   \n",
       "\n",
       "       p      p<.05?  \n",
       "0  5.194e-68   True   \n",
       "1  1.002e-80   True   "
      ]
     },
     "execution_count": 104,
     "metadata": {},
     "output_type": "execute_result"
    }
   ],
   "source": [
    "list2df(H2_tests)"
   ]
  },
  {
   "cell_type": "markdown",
   "metadata": {
    "colab_type": "text",
    "id": "T-RHTuiWBRpR"
   },
   "source": [
    "### Aim 2.2 Test for Homogeneity of Variance"
   ]
  },
  {
   "cell_type": "code",
   "execution_count": 105,
   "metadata": {
    "colab": {},
    "colab_type": "code",
    "id": "9GfzS_Vxxswy"
   },
   "outputs": [],
   "source": [
    "# 3. Test for homo var\n",
    "test_to_run = 'stats.levene'\n",
    "stat,p = eval(test_to_run)(arrA,arrB,center='median')\n",
    "\n",
    "H2_tests.append(['A&B',test_to_run,'Equal Var',stat,p,p<.05])"
   ]
  },
  {
   "cell_type": "code",
   "execution_count": 106,
   "metadata": {
    "colab": {
     "base_uri": "https://localhost:8080/",
     "height": 137
    },
    "colab_type": "code",
    "id": "36BZIyyYxsw0",
    "outputId": "019d6ab7-21d2-44ab-c553-8ef459367dc7"
   },
   "outputs": [
    {
     "data": {
      "text/html": [
       "<div>\n",
       "<style scoped>\n",
       "    .dataframe tbody tr th:only-of-type {\n",
       "        vertical-align: middle;\n",
       "    }\n",
       "\n",
       "    .dataframe tbody tr th {\n",
       "        vertical-align: top;\n",
       "    }\n",
       "\n",
       "    .dataframe thead th {\n",
       "        text-align: right;\n",
       "    }\n",
       "</style>\n",
       "<table border=\"1\" class=\"dataframe\">\n",
       "  <thead>\n",
       "    <tr style=\"text-align: center;\">\n",
       "      <th></th>\n",
       "      <th>Group:</th>\n",
       "      <th>TestName</th>\n",
       "      <th>Test Purpose</th>\n",
       "      <th>stat</th>\n",
       "      <th>p</th>\n",
       "      <th>p&lt;.05?</th>\n",
       "    </tr>\n",
       "  </thead>\n",
       "  <tbody>\n",
       "    <tr>\n",
       "      <th>0</th>\n",
       "      <td>A: ['discounted_order'] == True</td>\n",
       "      <td>normaltest</td>\n",
       "      <td>Normality</td>\n",
       "      <td>309.857</td>\n",
       "      <td>5.194e-68</td>\n",
       "      <td>True</td>\n",
       "    </tr>\n",
       "    <tr>\n",
       "      <th>1</th>\n",
       "      <td>B: ['discounted_order'] == False</td>\n",
       "      <td>normaltest</td>\n",
       "      <td>Normality</td>\n",
       "      <td>368.409</td>\n",
       "      <td>1.002e-80</td>\n",
       "      <td>True</td>\n",
       "    </tr>\n",
       "    <tr>\n",
       "      <th>2</th>\n",
       "      <td>A&amp;B</td>\n",
       "      <td>stats.levene</td>\n",
       "      <td>Equal Var</td>\n",
       "      <td>0.714</td>\n",
       "      <td>3.983e-01</td>\n",
       "      <td>False</td>\n",
       "    </tr>\n",
       "  </tbody>\n",
       "</table>\n",
       "</div>"
      ],
      "text/plain": [
       "                Group:                 TestName   Test Purpose   stat    \\\n",
       "0   A: ['discounted_order'] == True    normaltest   Normality   309.857   \n",
       "1  B: ['discounted_order'] == False    normaltest   Normality   368.409   \n",
       "2                               A&B  stats.levene   Equal Var     0.714   \n",
       "\n",
       "       p      p<.05?  \n",
       "0  5.194e-68    True  \n",
       "1  1.002e-80    True  \n",
       "2  3.983e-01   False  "
      ]
     },
     "execution_count": 106,
     "metadata": {},
     "output_type": "execute_result"
    }
   ],
   "source": [
    "list2df(H2_tests)"
   ]
  },
  {
   "cell_type": "markdown",
   "metadata": {
    "colab_type": "text",
    "id": "0OCGqU7PyiIc"
   },
   "source": [
    "### Aim 2.3 Selecting the appropriate test to perform.\n",
    "- We failed both normaltests\n",
    "- We passed Levene's test for homo. of variance\n",
    "- Need non-parametric 2sample ttest\n",
    "    - [**Mann-Whitney U test**](https://docs.scipy.org/doc/scipy/reference/generated/scipy.stats.mannwhitneyu.html)"
   ]
  },
  {
   "cell_type": "markdown",
   "metadata": {
    "colab_type": "text",
    "id": "CxxTNQymBRpX"
   },
   "source": [
    "#### Mann-Whitney U test"
   ]
  },
  {
   "cell_type": "code",
   "execution_count": 107,
   "metadata": {
    "colab": {},
    "colab_type": "code",
    "id": "Yp7l-KeFyiIe"
   },
   "outputs": [],
   "source": [
    "# Mann Whitney U test+\n",
    "import scipy.stats as stats\n",
    "# arrA was discounted, arrB was non-discounted\n",
    "test_to_run = 'stats.mannwhitneyu'\n",
    "stat, p = eval(test_to_run)(arrA,arrB,alternative='greater')\n",
    "stat, p\n",
    "H2_tests.append(['A vs. B',test_to_run, 'H2_sig', stat,p,p<.05])"
   ]
  },
  {
   "cell_type": "code",
   "execution_count": 108,
   "metadata": {
    "colab": {
     "base_uri": "https://localhost:8080/",
     "height": 166
    },
    "colab_type": "code",
    "id": "yg_MQfQEyiIh",
    "outputId": "bf10449d-ca12-4b0f-a380-4bc1b3c074c9"
   },
   "outputs": [
    {
     "data": {
      "text/html": [
       "<div>\n",
       "<style scoped>\n",
       "    .dataframe tbody tr th:only-of-type {\n",
       "        vertical-align: middle;\n",
       "    }\n",
       "\n",
       "    .dataframe tbody tr th {\n",
       "        vertical-align: top;\n",
       "    }\n",
       "\n",
       "    .dataframe thead th {\n",
       "        text-align: right;\n",
       "    }\n",
       "</style>\n",
       "<table border=\"1\" class=\"dataframe\">\n",
       "  <thead>\n",
       "    <tr style=\"text-align: center;\">\n",
       "      <th></th>\n",
       "      <th>Group:</th>\n",
       "      <th>TestName</th>\n",
       "      <th>Test Purpose</th>\n",
       "      <th>stat</th>\n",
       "      <th>p</th>\n",
       "      <th>p&lt;.05?</th>\n",
       "    </tr>\n",
       "  </thead>\n",
       "  <tbody>\n",
       "    <tr>\n",
       "      <th>0</th>\n",
       "      <td>A: ['discounted_order'] == True</td>\n",
       "      <td>normaltest</td>\n",
       "      <td>Normality</td>\n",
       "      <td>309.857</td>\n",
       "      <td>5.194e-68</td>\n",
       "      <td>True</td>\n",
       "    </tr>\n",
       "    <tr>\n",
       "      <th>1</th>\n",
       "      <td>B: ['discounted_order'] == False</td>\n",
       "      <td>normaltest</td>\n",
       "      <td>Normality</td>\n",
       "      <td>368.409</td>\n",
       "      <td>1.002e-80</td>\n",
       "      <td>True</td>\n",
       "    </tr>\n",
       "    <tr>\n",
       "      <th>2</th>\n",
       "      <td>A&amp;B</td>\n",
       "      <td>stats.levene</td>\n",
       "      <td>Equal Var</td>\n",
       "      <td>0.714</td>\n",
       "      <td>3.983e-01</td>\n",
       "      <td>False</td>\n",
       "    </tr>\n",
       "    <tr>\n",
       "      <th>3</th>\n",
       "      <td>A vs. B</td>\n",
       "      <td>stats.mannwhitneyu</td>\n",
       "      <td>H2_sig</td>\n",
       "      <td>102021.000</td>\n",
       "      <td>7.901e-07</td>\n",
       "      <td>True</td>\n",
       "    </tr>\n",
       "  </tbody>\n",
       "</table>\n",
       "</div>"
      ],
      "text/plain": [
       "                Group:                    TestName      Test Purpose  \\\n",
       "0   A: ['discounted_order'] == True          normaltest   Normality    \n",
       "1  B: ['discounted_order'] == False          normaltest   Normality    \n",
       "2                               A&B        stats.levene   Equal Var    \n",
       "3                           A vs. B  stats.mannwhitneyu      H2_sig    \n",
       "\n",
       "      stat         p      p<.05?  \n",
       "0     309.857  5.194e-68    True  \n",
       "1     368.409  1.002e-80    True  \n",
       "2       0.714  3.983e-01   False  \n",
       "3  102021.000  7.901e-07    True  "
      ]
     },
     "execution_count": 108,
     "metadata": {},
     "output_type": "execute_result"
    }
   ],
   "source": [
    "list2df(H2_tests)"
   ]
  },
  {
   "cell_type": "markdown",
   "metadata": {
    "colab_type": "text",
    "id": "w9BLLITiBRpb"
   },
   "source": [
    "#### Calculating Effect Size"
   ]
  },
  {
   "cell_type": "code",
   "execution_count": 109,
   "metadata": {
    "colab": {
     "base_uri": "https://localhost:8080/",
     "height": 33
    },
    "colab_type": "code",
    "id": "ZDS5WifXBRpd",
    "outputId": "9e11b135-4218-43c6-929d-9ac586a5dec7"
   },
   "outputs": [
    {
     "name": "stdout",
     "output_type": "stream",
     "text": [
      "Cohen's d=0.178\n"
     ]
    }
   ],
   "source": [
    "# Calculating Cohens d\n",
    "d = Cohen_d(arrA,arrB)\n",
    "print(f\"Cohen's d={round(d,3)}\")\n",
    "H2_tests.append(['A vs. B',\"Cohen's d\",'Effect Size',d,'--','--'])\n",
    "table_H2_test_results = list2df(H2_tests)\n",
    "\n",
    "if save_for_user==True:\n",
    "    table_H2_test_results.to_csv(data_filepath+'table_H2_test_results.csv')\n",
    "    table_H2_test_results.round(4).to_html(data_filepath+'table_H2_test_results.html')"
   ]
  },
  {
   "cell_type": "code",
   "execution_count": 110,
   "metadata": {},
   "outputs": [],
   "source": [
    "# Save table of basic info on central tendency\n",
    "from scipy.stats import sem\n",
    "H2_mean_sem = [['H#','Group','mean','sem','std','n']]\n",
    "\n",
    "dataArr=arrA\n",
    "H2_mean_sem.append(['H2',f'A:{grpA}',np.mean(dataArr),sem(dataArr), np.std(dataArr),len(dataArr)])\n",
    "\n",
    "dataArr=arrB\n",
    "H2_mean_sem.append(['H2',f'B:{grpB}',np.mean(dataArr),sem(dataArr), np.std(dataArr),len(dataArr)])\n",
    "\n",
    "table_H2_mean_sem = list2df(H2_mean_sem)\n",
    "\n",
    "# Export csv if user sets save_for_user to True\n",
    "if save_for_user==True:\n",
    "    table_H2_mean_sem.to_csv(data_filepath+'table_H2_mean_sem.csv') \n",
    "    table_H2_mean_sem.round(2).to_html(data_filepath+'table_H2_mean_sem.html')    \n",
    "\n",
    "# table_H2_mean_sem"
   ]
  },
  {
   "cell_type": "code",
   "execution_count": 111,
   "metadata": {},
   "outputs": [
    {
     "data": {
      "text/html": [
       "<div>\n",
       "<style scoped>\n",
       "    .dataframe tbody tr th:only-of-type {\n",
       "        vertical-align: middle;\n",
       "    }\n",
       "\n",
       "    .dataframe tbody tr th {\n",
       "        vertical-align: top;\n",
       "    }\n",
       "\n",
       "    .dataframe thead th {\n",
       "        text-align: right;\n",
       "    }\n",
       "</style>\n",
       "<table border=\"1\" class=\"dataframe\">\n",
       "  <thead>\n",
       "    <tr style=\"text-align: center;\">\n",
       "      <th></th>\n",
       "      <th>Group:</th>\n",
       "      <th>TestName</th>\n",
       "      <th>Test Purpose</th>\n",
       "      <th>stat</th>\n",
       "      <th>p</th>\n",
       "      <th>p&lt;.05?</th>\n",
       "    </tr>\n",
       "  </thead>\n",
       "  <tbody>\n",
       "    <tr>\n",
       "      <th>0</th>\n",
       "      <td>A: ['discounted_order'] == True</td>\n",
       "      <td>normaltest</td>\n",
       "      <td>Normality</td>\n",
       "      <td>309.857</td>\n",
       "      <td>5.19e-68</td>\n",
       "      <td>True</td>\n",
       "    </tr>\n",
       "    <tr>\n",
       "      <th>1</th>\n",
       "      <td>B: ['discounted_order'] == False</td>\n",
       "      <td>normaltest</td>\n",
       "      <td>Normality</td>\n",
       "      <td>368.409</td>\n",
       "      <td>1e-80</td>\n",
       "      <td>True</td>\n",
       "    </tr>\n",
       "    <tr>\n",
       "      <th>2</th>\n",
       "      <td>A&amp;B</td>\n",
       "      <td>stats.levene</td>\n",
       "      <td>Equal Var</td>\n",
       "      <td>0.714</td>\n",
       "      <td>0.398</td>\n",
       "      <td>False</td>\n",
       "    </tr>\n",
       "    <tr>\n",
       "      <th>3</th>\n",
       "      <td>A vs. B</td>\n",
       "      <td>stats.mannwhitneyu</td>\n",
       "      <td>H2_sig</td>\n",
       "      <td>102021.000</td>\n",
       "      <td>7.9e-07</td>\n",
       "      <td>True</td>\n",
       "    </tr>\n",
       "    <tr>\n",
       "      <th>4</th>\n",
       "      <td>A vs. B</td>\n",
       "      <td>Cohen's d</td>\n",
       "      <td>Effect Size</td>\n",
       "      <td>0.178</td>\n",
       "      <td>--</td>\n",
       "      <td>--</td>\n",
       "    </tr>\n",
       "  </tbody>\n",
       "</table>\n",
       "</div>"
      ],
      "text/plain": [
       "                Group:                    TestName      Test Purpose  \\\n",
       "0   A: ['discounted_order'] == True          normaltest    Normality   \n",
       "1  B: ['discounted_order'] == False          normaltest    Normality   \n",
       "2                               A&B        stats.levene    Equal Var   \n",
       "3                           A vs. B  stats.mannwhitneyu       H2_sig   \n",
       "4                           A vs. B           Cohen's d  Effect Size   \n",
       "\n",
       "      stat        p     p<.05?  \n",
       "0     309.857  5.19e-68   True  \n",
       "1     368.409     1e-80   True  \n",
       "2       0.714     0.398  False  \n",
       "3  102021.000   7.9e-07   True  \n",
       "4       0.178        --     --  "
      ]
     },
     "metadata": {},
     "output_type": "display_data"
    },
    {
     "data": {
      "text/html": [
       "<div>\n",
       "<style scoped>\n",
       "    .dataframe tbody tr th:only-of-type {\n",
       "        vertical-align: middle;\n",
       "    }\n",
       "\n",
       "    .dataframe tbody tr th {\n",
       "        vertical-align: top;\n",
       "    }\n",
       "\n",
       "    .dataframe thead th {\n",
       "        text-align: right;\n",
       "    }\n",
       "</style>\n",
       "<table border=\"1\" class=\"dataframe\">\n",
       "  <thead>\n",
       "    <tr style=\"text-align: center;\">\n",
       "      <th></th>\n",
       "      <th>H#</th>\n",
       "      <th>Group</th>\n",
       "      <th>mean</th>\n",
       "      <th>sem</th>\n",
       "      <th>std</th>\n",
       "      <th>n</th>\n",
       "    </tr>\n",
       "  </thead>\n",
       "  <tbody>\n",
       "    <tr>\n",
       "      <th>0</th>\n",
       "      <td>H2</td>\n",
       "      <td>A:['discounted_order'] == True</td>\n",
       "      <td>1702.352</td>\n",
       "      <td>97.081</td>\n",
       "      <td>1889.956</td>\n",
       "      <td>380</td>\n",
       "    </tr>\n",
       "    <tr>\n",
       "      <th>1</th>\n",
       "      <td>H2</td>\n",
       "      <td>B:['discounted_order'] == False</td>\n",
       "      <td>1375.332</td>\n",
       "      <td>84.513</td>\n",
       "      <td>1790.788</td>\n",
       "      <td>450</td>\n",
       "    </tr>\n",
       "  </tbody>\n",
       "</table>\n",
       "</div>"
      ],
      "text/plain": [
       "   H#              Group                  mean      sem      std     n \n",
       "0  H2   A:['discounted_order'] == True  1702.352  97.081  1889.956  380\n",
       "1  H2  B:['discounted_order'] == False  1375.332  84.513  1790.788  450"
      ]
     },
     "metadata": {},
     "output_type": "display_data"
    }
   ],
   "source": [
    "display(table_H2_test_results)\n",
    "display(table_H2_mean_sem)"
   ]
  },
  {
   "cell_type": "markdown",
   "metadata": {
    "colab_type": "text",
    "id": "IrLcQDMPyiIl"
   },
   "source": [
    "### Conclusions for Hypothesis 2:\n",
    "- We reject the null hypothesis that there is no effect of an order containing discounted items on the order total.\n",
    "- Therefore, we have found evidence that customers spend more money when they are buying at least 1 discounted item.\n",
    "\n",
    "- However, Cohen's d indicates it a small effect size."
   ]
  },
  {
   "cell_type": "code",
   "execution_count": 112,
   "metadata": {
    "colab": {
     "base_uri": "https://localhost:8080/",
     "height": 468
    },
    "colab_type": "code",
    "id": "5DYTOgh-BRpf",
    "outputId": "0a44636d-7c57-4675-e6da-02d11906e8ed"
   },
   "outputs": [
    {
     "data": {
      "image/png": "[encoded data removed]",
      "text/plain": [
       "<Figure size 432x288 with 1 Axes>"
      ]
     },
     "metadata": {
      "needs_background": "light"
     },
     "output_type": "display_data"
    }
   ],
   "source": [
    "# Plot the re-sampled data\n",
    "\n",
    "# # IF want to take smaller sample from population:\n",
    "\n",
    "# pop_samp_disc = np.random.choice(pop_samp_disc,1000)\n",
    "# pop_samp_full = np.random.choice(pop_samp_full, 1000)\n",
    "with plt.style.context(('tableau-colorblind10')):\n",
    "    fig = plt.figure()\n",
    "    \n",
    "    plt.title('Order Total  of Orders with Discounted Items vs Full Price')\n",
    "    \n",
    "    plt.hist(arrA,alpha = 0.5, bins=30,label='Discounted')\n",
    "    plt.hist(arrB,color='black', alpha = 0.5, bins=30,label='Full Price')\n",
    "\n",
    "    # Adding annotations\n",
    "    meanD = round(np.mean(arrA),3)\n",
    "    meanS = round(np.mean(arrB),3)\n",
    "    \n",
    "    plt.axvline(meanD, linestyle='--',label='Discounted Mean')\n",
    "    plt.text(meanD-1000,165,f'Mean:{meanD}',rotation=90)\n",
    "    \n",
    "    plt.axvline(meanS,color='k',linestyle='--',label='Full Price Mean')\n",
    "    plt.text(meanS+500,165,f'Mean:{meanS}',rotation=90)\n",
    "\n",
    "\n",
    "    plt.legend()\n",
    "    plt.show()\n",
    "\n",
    "# Run normality testing\n",
    "# stat,p = normaltest(pop_samp_full)\n",
    "# print(f'Normality: stat ={stat}, p = {p}')\n",
    "\n",
    "# Run ttest\n",
    "# tstat,tp = stats.ttest_ind(arrA, arrB)\n",
    "# print(f'T-test: stat ={tstat}, p = {tp}')#tstat,tp\n",
    "# ax.text("
   ]
  },
  {
   "cell_type": "markdown",
   "metadata": {
    "colab_type": "text",
    "id": "dBDZ_d_71Vat"
   },
   "source": [
    "_________\n",
    "\n",
    "# **Hypothesis 3**\n",
    "> **Does the time of year affect quantity of items sold?**\n",
    "\n",
    "- $H_1$ = The month an order is placed relates to either a higher or lower mean quantity of items sold.\n",
    "- $H_0$ = The month of an order has no affect on the mean quantity of items sold.\n",
    "\n",
    "<br>\n",
    "\n"
   ]
  },
  {
   "cell_type": "markdown",
   "metadata": {
    "colab_type": "text",
    "id": "7PaYTrUi1YH0"
   },
   "source": [
    "## ***H3, Aim 1.1 : To select the proper dataset for analyiss  and generate data groups for testing.***\n",
    "\n",
    "#### Importing Method\n",
    "- Use sqlalchemy to create engine to connect to Northwind_small.sqlite.<br>\n",
    "```python\n",
    "df_ord = pd.read_sql_query(\"SELECT * FROM OrderDetail JOIN [Order]  ON [Order].Id = OrderDetail.OrderId\", engine)```\n"
   ]
  },
  {
   "cell_type": "code",
   "execution_count": 113,
   "metadata": {
    "colab": {
     "base_uri": "https://localhost:8080/",
     "height": 170
    },
    "colab_type": "code",
    "id": "flNBkgM2RY3-",
    "outputId": "f5748db3-0417-4028-e836-43ce8bc54986"
   },
   "outputs": [
    {
     "name": "stdout",
     "output_type": "stream",
     "text": [
      "2019-04-09 20:38:40,793 INFO sqlalchemy.engine.base.Engine SELECT CAST('test plain returns' AS VARCHAR(60)) AS anon_1\n",
      "2019-04-09 20:38:40,793 INFO sqlalchemy.engine.base.Engine ()\n",
      "2019-04-09 20:38:40,794 INFO sqlalchemy.engine.base.Engine SELECT CAST('test unicode returns' AS VARCHAR(60)) AS anon_1\n",
      "2019-04-09 20:38:40,795 INFO sqlalchemy.engine.base.Engine ()\n",
      "2019-04-09 20:38:40,797 INFO sqlalchemy.engine.base.Engine SELECT name FROM sqlite_master WHERE type='table' ORDER BY name\n",
      "2019-04-09 20:38:40,797 INFO sqlalchemy.engine.base.Engine ()\n",
      "['Category', 'Customer', 'CustomerCustomerDemo', 'CustomerDemographic', 'Employee', 'EmployeeTerritory', 'Order', 'OrderDetail', 'Product', 'Region', 'Shipper', 'Supplier', 'Territory']\n"
     ]
    }
   ],
   "source": [
    "# Import librairies\n",
    "import sqlalchemy\n",
    "from sqlalchemy import create_engine\n",
    "from sqlalchemy.orm import Session, sessionmaker\n",
    "\n",
    "# from google.colab import drive\n",
    "# drive.mount('/content/drive/', force_remount=True)\n",
    "\n",
    "# filepath = '/content/drive/My Drive/Colab Notebooks/datasets/Northwind_small.sqlite'\n",
    "filepath = 'Northwind_small.sqlite'\n",
    "engine = create_engine('sqlite:///'+filepath,echo=True)\n",
    "inspector = inspect(engine);\n",
    "\n",
    "# df_employee = pd.read_sql_query(\"SELECT Id, Title, LastName, HireDate , BirthDate  FROM [EMPLOYEE]\", engine )\n",
    "# df_cust_ord = pd.read_sql_query(\"SELECT *FROM [Order] JOIN [Customer] ON [Customer].Id = [Order].CustomerId\", engine)\n",
    "print(inspector.get_table_names())"
   ]
  },
  {
   "cell_type": "markdown",
   "metadata": {
    "colab_type": "text",
    "id": "-8M9eXYeYwMo"
   },
   "source": [
    "### Extract SQL tables and clean/combine \n",
    "- Original extract used for analysis.\n",
    "- Secondary method was added to export a larger csv for external plotting. "
   ]
  },
  {
   "cell_type": "code",
   "execution_count": 114,
   "metadata": {},
   "outputs": [
    {
     "name": "stdout",
     "output_type": "stream",
     "text": [
      "2019-04-09 20:38:40,807 INFO sqlalchemy.engine.base.Engine SELECT * FROM OrderDetail JOIN [Order]  ON [Order].Id = OrderDetail.OrderId\n",
      "2019-04-09 20:38:40,808 INFO sqlalchemy.engine.base.Engine ()\n"
     ]
    },
    {
     "data": {
      "text/plain": [
       "Index(['Id', 'OrderId', 'ProductId', 'UnitPrice', 'Quantity', 'Discount', 'Id',\n",
       "       'CustomerId', 'EmployeeId', 'OrderDate', 'RequiredDate', 'ShippedDate',\n",
       "       'ShipVia', 'Freight', 'ShipName', 'ShipAddress', 'ShipCity',\n",
       "       'ShipRegion', 'ShipPostalCode', 'ShipCountry'],\n",
       "      dtype='object')"
      ]
     },
     "execution_count": 114,
     "metadata": {},
     "output_type": "execute_result"
    }
   ],
   "source": [
    "# Extractiong of specific, required data from database. \n",
    "df_ord = pd.read_sql_query(\"SELECT * FROM OrderDetail JOIN [Order]  ON [Order].Id = OrderDetail.OrderId\", engine)\n",
    "# df_ord = pd.concat([df_ord, df_employee['Title']], axis=1)\n",
    "df_ord.columns"
   ]
  },
  {
   "cell_type": "code",
   "execution_count": 115,
   "metadata": {},
   "outputs": [],
   "source": [
    "# Dropping unwanted columns\n",
    "df_ord.drop(['OrderId', 'ShipName',\n",
    "             'ShippedDate', 'RequiredDate',\n",
    "             'ShipVia','ShipAddress',\n",
    "             'RequiredDate','ShippedDate',\n",
    "             'ShippedDate', 'ShipCity',\n",
    "             'ShipCountry','ShipRegion',\n",
    "             'Freight'],inplace=True, axis=1)\n",
    "\n",
    "# relabel the Id column so they have unique names\n",
    "df_ord.columns = ['Id', 'ProductId', 'UnitPrice',\n",
    "                  'Quantity', 'Discount', 'OrderId',\n",
    "                  'CustomerId', 'EmployeeId',\n",
    "                  'OrderDate', 'ShipPostalCode']"
   ]
  },
  {
   "cell_type": "markdown",
   "metadata": {},
   "source": [
    "#### Calculating new features based on unit pricing (df_price)"
   ]
  },
  {
   "cell_type": "code",
   "execution_count": 116,
   "metadata": {},
   "outputs": [
    {
     "data": {
      "text/html": [
       "<div>\n",
       "<style scoped>\n",
       "    .dataframe tbody tr th:only-of-type {\n",
       "        vertical-align: middle;\n",
       "    }\n",
       "\n",
       "    .dataframe tbody tr th {\n",
       "        vertical-align: top;\n",
       "    }\n",
       "\n",
       "    .dataframe thead th {\n",
       "        text-align: right;\n",
       "    }\n",
       "</style>\n",
       "<table border=\"1\" class=\"dataframe\">\n",
       "  <thead>\n",
       "    <tr style=\"text-align: center;\">\n",
       "      <th></th>\n",
       "      <th>ProductId</th>\n",
       "      <th>UnitPrice</th>\n",
       "      <th>Quantity</th>\n",
       "      <th>Discount</th>\n",
       "      <th>OrderId</th>\n",
       "      <th>EmployeeId</th>\n",
       "      <th>price</th>\n",
       "      <th>OnSale</th>\n",
       "      <th>discounted_order</th>\n",
       "      <th>order_total</th>\n",
       "    </tr>\n",
       "  </thead>\n",
       "  <tbody>\n",
       "    <tr>\n",
       "      <th>count</th>\n",
       "      <td>2155.0</td>\n",
       "      <td>2155.0</td>\n",
       "      <td>2155.0</td>\n",
       "      <td>2155.0</td>\n",
       "      <td>2155.0</td>\n",
       "      <td>2155.0</td>\n",
       "      <td>2155.0</td>\n",
       "      <td>2155.0</td>\n",
       "      <td>2155.0</td>\n",
       "      <td>2155.0</td>\n",
       "    </tr>\n",
       "    <tr>\n",
       "      <th>mean</th>\n",
       "      <td>41.0</td>\n",
       "      <td>26.0</td>\n",
       "      <td>24.0</td>\n",
       "      <td>0.0</td>\n",
       "      <td>10659.0</td>\n",
       "      <td>4.0</td>\n",
       "      <td>587.0</td>\n",
       "      <td>0.0</td>\n",
       "      <td>0.0</td>\n",
       "      <td>1854.0</td>\n",
       "    </tr>\n",
       "    <tr>\n",
       "      <th>std</th>\n",
       "      <td>22.0</td>\n",
       "      <td>30.0</td>\n",
       "      <td>19.0</td>\n",
       "      <td>0.0</td>\n",
       "      <td>241.0</td>\n",
       "      <td>2.0</td>\n",
       "      <td>969.0</td>\n",
       "      <td>0.0</td>\n",
       "      <td>0.0</td>\n",
       "      <td>1961.0</td>\n",
       "    </tr>\n",
       "    <tr>\n",
       "      <th>min</th>\n",
       "      <td>1.0</td>\n",
       "      <td>2.0</td>\n",
       "      <td>1.0</td>\n",
       "      <td>0.0</td>\n",
       "      <td>10248.0</td>\n",
       "      <td>1.0</td>\n",
       "      <td>5.0</td>\n",
       "      <td>0.0</td>\n",
       "      <td>0.0</td>\n",
       "      <td>12.0</td>\n",
       "    </tr>\n",
       "    <tr>\n",
       "      <th>25%</th>\n",
       "      <td>22.0</td>\n",
       "      <td>12.0</td>\n",
       "      <td>10.0</td>\n",
       "      <td>0.0</td>\n",
       "      <td>10451.0</td>\n",
       "      <td>2.0</td>\n",
       "      <td>147.0</td>\n",
       "      <td>0.0</td>\n",
       "      <td>0.0</td>\n",
       "      <td>634.0</td>\n",
       "    </tr>\n",
       "    <tr>\n",
       "      <th>50%</th>\n",
       "      <td>41.0</td>\n",
       "      <td>18.0</td>\n",
       "      <td>20.0</td>\n",
       "      <td>0.0</td>\n",
       "      <td>10657.0</td>\n",
       "      <td>4.0</td>\n",
       "      <td>338.0</td>\n",
       "      <td>0.0</td>\n",
       "      <td>0.0</td>\n",
       "      <td>1337.0</td>\n",
       "    </tr>\n",
       "    <tr>\n",
       "      <th>75%</th>\n",
       "      <td>60.0</td>\n",
       "      <td>32.0</td>\n",
       "      <td>30.0</td>\n",
       "      <td>0.0</td>\n",
       "      <td>10862.0</td>\n",
       "      <td>7.0</td>\n",
       "      <td>656.0</td>\n",
       "      <td>1.0</td>\n",
       "      <td>1.0</td>\n",
       "      <td>2222.0</td>\n",
       "    </tr>\n",
       "    <tr>\n",
       "      <th>max</th>\n",
       "      <td>77.0</td>\n",
       "      <td>264.0</td>\n",
       "      <td>130.0</td>\n",
       "      <td>0.0</td>\n",
       "      <td>11077.0</td>\n",
       "      <td>9.0</td>\n",
       "      <td>15810.0</td>\n",
       "      <td>1.0</td>\n",
       "      <td>1.0</td>\n",
       "      <td>16388.0</td>\n",
       "    </tr>\n",
       "  </tbody>\n",
       "</table>\n",
       "</div>"
      ],
      "text/plain": [
       "       ProductId  UnitPrice  Quantity  Discount  OrderId  EmployeeId   price   \\\n",
       "count   2155.0     2155.0     2155.0    2155.0    2155.0    2155.0     2155.0   \n",
       "mean      41.0       26.0       24.0       0.0   10659.0       4.0      587.0   \n",
       "std       22.0       30.0       19.0       0.0     241.0       2.0      969.0   \n",
       "min        1.0        2.0        1.0       0.0   10248.0       1.0        5.0   \n",
       "25%       22.0       12.0       10.0       0.0   10451.0       2.0      147.0   \n",
       "50%       41.0       18.0       20.0       0.0   10657.0       4.0      338.0   \n",
       "75%       60.0       32.0       30.0       0.0   10862.0       7.0      656.0   \n",
       "max       77.0      264.0      130.0       0.0   11077.0       9.0    15810.0   \n",
       "\n",
       "       OnSale  discounted_order  order_total  \n",
       "count  2155.0       2155.0          2155.0    \n",
       "mean      0.0          0.0          1854.0    \n",
       "std       0.0          0.0          1961.0    \n",
       "min       0.0          0.0            12.0    \n",
       "25%       0.0          0.0           634.0    \n",
       "50%       0.0          0.0          1337.0    \n",
       "75%       1.0          1.0          2222.0    \n",
       "max       1.0          1.0         16388.0    "
      ]
     },
     "execution_count": 116,
     "metadata": {},
     "output_type": "execute_result"
    }
   ],
   "source": [
    "#Apply calc_product_price to every row \n",
    "df_price = df_ord.apply(\n",
    "    lambda x: calc_product_price(\n",
    "        x),axis=1)\n",
    "\n",
    "# Apply_calc_order_total to every row\n",
    "df_price = df_price.apply(\n",
    "    lambda x: calc_order_total(\n",
    "        x,df_price), axis=1)  \n",
    "\n",
    "# Display output\n",
    "df_price.describe().round()"
   ]
  },
  {
   "cell_type": "markdown",
   "metadata": {},
   "source": [
    "#### Adding Datetime columns for day of week and month\n"
   ]
  },
  {
   "cell_type": "code",
   "execution_count": 117,
   "metadata": {},
   "outputs": [
    {
     "data": {
      "text/plain": [
       "(Timestamp('2012-07-04 00:00:00'), Timestamp('2014-05-06 00:00:00'))"
      ]
     },
     "execution_count": 117,
     "metadata": {},
     "output_type": "execute_result"
    }
   ],
   "source": [
    "#convert dates to datetime\n",
    "df_price['OrderDate'] = pd.to_datetime(\n",
    "                    df_price.OrderDate )\n",
    "\n",
    "(df_price.OrderDate.sort_values().min(),\n",
    " df_price.OrderDate.sort_values().max())# seeing date range"
   ]
  },
  {
   "cell_type": "code",
   "execution_count": 118,
   "metadata": {},
   "outputs": [],
   "source": [
    "# create columns for day of week and month\n",
    "df_price['OrderDate'] = pd.to_datetime(\n",
    "                    df_price.OrderDate) \n",
    "\n",
    "df_price['week_day'] = df_price['OrderDate'].dt.dayofweek\n",
    "df_price['month'] = df_price['OrderDate'].dt.month\n",
    "\n",
    "# df_price.info()"
   ]
  },
  {
   "cell_type": "code",
   "execution_count": 119,
   "metadata": {},
   "outputs": [
    {
     "data": {
      "text/plain": [
       "True"
      ]
     },
     "execution_count": 119,
     "metadata": {},
     "output_type": "execute_result"
    }
   ],
   "source": [
    "# Defining criteria for dividing the calendar yaer\n",
    "criteria = df_price['month'] <= 6 # boolean selector used to select parts of df for possible plotting options\n",
    "\n",
    "#drop duplicate orders based on OrderId to not inflate or deflate order_total mean\n",
    "# split in two for exploring subsets\n",
    "df_month6 = df_price.loc[criteria,\n",
    "                         ['month','order_total',\n",
    "                          'Discount','OrderId']\n",
    "                        ].drop_duplicates(['OrderId'])\n",
    "\n",
    "df_month12 = df_price.loc[~criteria,\n",
    "                          ['month','order_total',\n",
    "                           'Discount','OrderId']\n",
    "                         ].drop_duplicates(['OrderId'])\n",
    "\n",
    "#Did use this variable\n",
    "total_order = pd.concat(\n",
    "                [df_month6['order_total'],\n",
    "                df_month12['order_total']],axis=0)\n",
    "\n",
    "# verifying correct lengths\n",
    "len(total_order) == (len(df_month6['order_total']) \n",
    "                   + len(df_month12['order_total']))"
   ]
  },
  {
   "cell_type": "markdown",
   "metadata": {},
   "source": [
    "#### Selecting out final working dataframe for testing. "
   ]
  },
  {
   "cell_type": "code",
   "execution_count": 120,
   "metadata": {},
   "outputs": [
    {
     "name": "stdout",
     "output_type": "stream",
     "text": [
      "<class 'pandas.core.frame.DataFrame'>\n",
      "Int64Index: 830 entries, 0 to 2130\n",
      "Data columns (total 4 columns):\n",
      "month          830 non-null int64\n",
      "order_total    830 non-null float64\n",
      "Discount       830 non-null float64\n",
      "OrderId        830 non-null int64\n",
      "dtypes: float64(2), int64(2)\n",
      "memory usage: 32.4 KB\n"
     ]
    }
   ],
   "source": [
    "df_year = df_price.loc[:,\n",
    "                       ['month', 'order_total',\n",
    "                        'Discount', 'OrderId']\n",
    "                       ].drop_duplicates(['OrderId'])\n",
    "df_year.info()"
   ]
  },
  {
   "cell_type": "markdown",
   "metadata": {},
   "source": [
    "#### Create a dictionary containing keys and values representing months to assist in plotting and testing"
   ]
  },
  {
   "cell_type": "code",
   "execution_count": 121,
   "metadata": {},
   "outputs": [
    {
     "data": {
      "text/plain": [
       "dict_items([(1, 'jan'), (2, 'feb'), (3, 'mar'), (4, 'apr'), (5, 'may'), (6, 'jun'), (7, 'jul'), (8, 'aug'), (9, 'sep'), (10, 'oct'), (11, 'nov'), (12, 'dec')])"
      ]
     },
     "execution_count": 121,
     "metadata": {},
     "output_type": "execute_result"
    }
   ],
   "source": [
    "#make list of month names (strings) for labels\n",
    "months = ['jan','feb',\n",
    "          'mar','apr',\n",
    "          'may' ,'jun',\n",
    "          'jul', 'aug',\n",
    "          'sep', 'oct',\n",
    "          'nov', 'dec'\n",
    "         ]\n",
    "#make corresponding list of integers from 1 = 'jan' through 12 = 'dec'\n",
    "month_code = list(range(1,len(months)+1))\n",
    "month_dict = dict(zip(month_code,months)) # zip the two into a dictionary\n",
    "month_dict.items()"
   ]
  },
  {
   "cell_type": "code",
   "execution_count": 122,
   "metadata": {},
   "outputs": [
    {
     "data": {
      "text/plain": [
       "(   month  order_total  Discount  OrderId month_name\n",
       " 0    7       440.0        0.0     10248      jul   \n",
       " 3    7      1863.4        0.0     10249      jul   \n",
       " 5    7      1552.6        0.0     10250      jul   ,\n",
       "       month  order_total  Discount  OrderId month_name\n",
       " 2124    5      498.100      0.15     11075      may   \n",
       " 2127    5      792.750      0.25     11076      may   \n",
       " 2130    5     1255.721      0.20     11077      may   )"
      ]
     },
     "execution_count": 122,
     "metadata": {},
     "output_type": "execute_result"
    }
   ],
   "source": [
    "# Add month name\n",
    "for k,v in month_dict.items():\n",
    "      df_year.loc[(df_year['month'] == k), 'month_name'] = v \n",
    "        \n",
    "df_yearM = df_year.copy()\n",
    "df_yearM.head(3), df_yearM.tail(3)"
   ]
  },
  {
   "cell_type": "markdown",
   "metadata": {},
   "source": [
    "### def_drop_regex"
   ]
  },
  {
   "cell_type": "code",
   "execution_count": 123,
   "metadata": {
    "colab": {},
    "colab_type": "code",
    "id": "7q84Lj2EW0cj"
   },
   "outputs": [],
   "source": [
    "def df_drop_regex(DF, regex_list):\n",
    "    '''Use a list of regex to remove columns names. Returns new df.\n",
    "    \n",
    "    Parameters:\n",
    "        DF -- input dataframe to remove columns from.\n",
    "        regex_list -- list of string patterns or regexp to remove.\n",
    "    \n",
    "    Returns:\n",
    "        df_cut -- input df without the dropped columns. \n",
    "        '''\n",
    "    df_cut = DF.copy()\n",
    "    \n",
    "    for r in regex_list:\n",
    "        \n",
    "        df_cut = df_cut[df_cut.columns.drop(list(df_cut.filter(regex=r)))]\n",
    "        print(f'Removed {r}\\n')\n",
    "        \n",
    "    return df_cut"
   ]
  },
  {
   "cell_type": "markdown",
   "metadata": {},
   "source": [
    "### Secondary extraction method for larger dataset to export to csv"
   ]
  },
  {
   "cell_type": "code",
   "execution_count": 124,
   "metadata": {
    "code_folding": [],
    "colab": {
     "base_uri": "https://localhost:8080/",
     "height": 856
    },
    "colab_type": "code",
    "id": "gmZ-B9tLOIaj",
    "outputId": "6da34f0b-b8cd-41fd-b04c-e0e327d1cd87"
   },
   "outputs": [
    {
     "name": "stdout",
     "output_type": "stream",
     "text": [
      "2019-04-09 20:38:54,029 INFO sqlalchemy.engine.base.Engine SELECT name FROM sqlite_master WHERE type='table' ORDER BY name\n",
      "2019-04-09 20:38:54,029 INFO sqlalchemy.engine.base.Engine ()\n",
      "2019-04-09 20:38:54,031 INFO sqlalchemy.engine.base.Engine SELECT name FROM sqlite_master WHERE type='view' ORDER BY name\n",
      "2019-04-09 20:38:54,032 INFO sqlalchemy.engine.base.Engine ()\n",
      "2019-04-09 20:38:54,033 INFO sqlalchemy.engine.base.Engine PRAGMA table_info(\"Order\")\n",
      "2019-04-09 20:38:54,034 INFO sqlalchemy.engine.base.Engine ()\n",
      "2019-04-09 20:38:54,037 INFO sqlalchemy.engine.base.Engine SELECT sql FROM  (SELECT * FROM sqlite_master UNION ALL   SELECT * FROM sqlite_temp_master) WHERE name = 'Order' AND type = 'table'\n",
      "2019-04-09 20:38:54,038 INFO sqlalchemy.engine.base.Engine ()\n",
      "2019-04-09 20:38:54,040 INFO sqlalchemy.engine.base.Engine PRAGMA foreign_key_list(\"Order\")\n",
      "2019-04-09 20:38:54,041 INFO sqlalchemy.engine.base.Engine ()\n",
      "2019-04-09 20:38:54,041 INFO sqlalchemy.engine.base.Engine SELECT sql FROM  (SELECT * FROM sqlite_master UNION ALL   SELECT * FROM sqlite_temp_master) WHERE name = 'Order' AND type = 'table'\n",
      "2019-04-09 20:38:54,042 INFO sqlalchemy.engine.base.Engine ()\n",
      "2019-04-09 20:38:54,045 INFO sqlalchemy.engine.base.Engine PRAGMA index_list(\"Order\")\n",
      "2019-04-09 20:38:54,046 INFO sqlalchemy.engine.base.Engine ()\n",
      "2019-04-09 20:38:54,047 INFO sqlalchemy.engine.base.Engine PRAGMA index_list(\"Order\")\n",
      "2019-04-09 20:38:54,047 INFO sqlalchemy.engine.base.Engine ()\n",
      "2019-04-09 20:38:54,048 INFO sqlalchemy.engine.base.Engine SELECT sql FROM  (SELECT * FROM sqlite_master UNION ALL   SELECT * FROM sqlite_temp_master) WHERE name = 'Order' AND type = 'table'\n",
      "2019-04-09 20:38:54,049 INFO sqlalchemy.engine.base.Engine ()\n",
      "2019-04-09 20:38:54,053 INFO sqlalchemy.engine.base.Engine SELECT \"Order\".\"Id\", \"Order\".\"CustomerId\", \"Order\".\"EmployeeId\", \"Order\".\"OrderDate\", \"Order\".\"RequiredDate\", \"Order\".\"ShippedDate\", \"Order\".\"ShipVia\", \"Order\".\"Freight\", \"Order\".\"ShipName\", \"Order\".\"ShipAddress\", \"Order\".\"ShipCity\", \"Order\".\"ShipRegion\", \"Order\".\"ShipPostalCode\", \"Order\".\"ShipCountry\" \n",
      "FROM \"Order\"\n",
      "2019-04-09 20:38:54,054 INFO sqlalchemy.engine.base.Engine ()\n",
      "2019-04-09 20:38:54,069 INFO sqlalchemy.engine.base.Engine SELECT name FROM sqlite_master WHERE type='table' ORDER BY name\n",
      "2019-04-09 20:38:54,070 INFO sqlalchemy.engine.base.Engine ()\n",
      "2019-04-09 20:38:54,072 INFO sqlalchemy.engine.base.Engine SELECT name FROM sqlite_master WHERE type='view' ORDER BY name\n",
      "2019-04-09 20:38:54,072 INFO sqlalchemy.engine.base.Engine ()\n",
      "2019-04-09 20:38:54,074 INFO sqlalchemy.engine.base.Engine PRAGMA table_info(\"OrderDetail\")\n",
      "2019-04-09 20:38:54,075 INFO sqlalchemy.engine.base.Engine ()\n",
      "2019-04-09 20:38:54,076 INFO sqlalchemy.engine.base.Engine SELECT sql FROM  (SELECT * FROM sqlite_master UNION ALL   SELECT * FROM sqlite_temp_master) WHERE name = 'OrderDetail' AND type = 'table'\n",
      "2019-04-09 20:38:54,077 INFO sqlalchemy.engine.base.Engine ()\n",
      "2019-04-09 20:38:54,079 INFO sqlalchemy.engine.base.Engine PRAGMA foreign_key_list(\"OrderDetail\")\n",
      "2019-04-09 20:38:54,079 INFO sqlalchemy.engine.base.Engine ()\n",
      "2019-04-09 20:38:54,080 INFO sqlalchemy.engine.base.Engine SELECT sql FROM  (SELECT * FROM sqlite_master UNION ALL   SELECT * FROM sqlite_temp_master) WHERE name = 'OrderDetail' AND type = 'table'\n",
      "2019-04-09 20:38:54,081 INFO sqlalchemy.engine.base.Engine ()\n",
      "2019-04-09 20:38:54,082 INFO sqlalchemy.engine.base.Engine PRAGMA index_list(\"OrderDetail\")\n",
      "2019-04-09 20:38:54,083 INFO sqlalchemy.engine.base.Engine ()\n",
      "2019-04-09 20:38:54,085 INFO sqlalchemy.engine.base.Engine PRAGMA index_list(\"OrderDetail\")\n",
      "2019-04-09 20:38:54,085 INFO sqlalchemy.engine.base.Engine ()\n",
      "2019-04-09 20:38:54,087 INFO sqlalchemy.engine.base.Engine PRAGMA index_info(\"sqlite_autoindex_OrderDetail_1\")\n",
      "2019-04-09 20:38:54,087 INFO sqlalchemy.engine.base.Engine ()\n",
      "2019-04-09 20:38:54,089 INFO sqlalchemy.engine.base.Engine SELECT sql FROM  (SELECT * FROM sqlite_master UNION ALL   SELECT * FROM sqlite_temp_master) WHERE name = 'OrderDetail' AND type = 'table'\n",
      "2019-04-09 20:38:54,089 INFO sqlalchemy.engine.base.Engine ()\n",
      "2019-04-09 20:38:54,092 INFO sqlalchemy.engine.base.Engine SELECT \"OrderDetail\".\"Id\", \"OrderDetail\".\"OrderId\", \"OrderDetail\".\"ProductId\", \"OrderDetail\".\"UnitPrice\", \"OrderDetail\".\"Quantity\", \"OrderDetail\".\"Discount\" \n",
      "FROM \"OrderDetail\"\n",
      "2019-04-09 20:38:54,092 INFO sqlalchemy.engine.base.Engine ()\n",
      "DB_Order columns:Index(['Id', 'CustomerId', 'EmployeeId', 'OrderDate', 'RequiredDate',\n",
      "       'ShippedDate', 'ShipVia', 'Freight', 'ShipName', 'ShipAddress',\n",
      "       'ShipCity', 'ShipRegion', 'ShipPostalCode', 'ShipCountry'],\n",
      "      dtype='object')n\n",
      " DB_OrderDetail columns: Index(['Id', 'OrderId', 'ProductId', 'UnitPrice', 'Quantity', 'Discount'], dtype='object')\n"
     ]
    }
   ],
   "source": [
    "# Extracting additional information to export for external plotting. \n",
    "DB_Order = pd.read_sql_table('Order',engine);\n",
    "DB_OrderDetail = pd.read_sql_table('OrderDetail',engine);\n",
    "print(f\"DB_Order columns:{DB_Order.columns}n\\n DB_OrderDetail columns: {DB_OrderDetail.columns}\");"
   ]
  },
  {
   "cell_type": "code",
   "execution_count": 125,
   "metadata": {
    "colab": {
     "base_uri": "https://localhost:8080/",
     "height": 384
    },
    "colab_type": "code",
    "id": "mOvR5VevPGPP",
    "outputId": "b4360577-0dd3-43a7-f068-61adb5f915da",
    "scrolled": true
   },
   "outputs": [
    {
     "name": "stdout",
     "output_type": "stream",
     "text": [
      "Removed Date\n",
      "\n",
      "Removed Freight\n",
      "\n"
     ]
    }
   ],
   "source": [
    "# TAKE  DB_Orderm rename index, remove unwanted columns\n",
    "DB_Order.rename({'Id':'OrderId','OrderDate':'OrderPlaced'},axis=1,inplace=True)\n",
    "\n",
    "# Drop unwanted columns from DB_Orde to make df_Order\n",
    "regex_to_drop = ['Date','Freight']\n",
    "\n",
    "df_Order = df_drop_regex(DB_Order, regex_to_drop)\n",
    "df_Order.rename({'OrderPlaced':'OrderDate'},axis=1,inplace=True)\n",
    "# df_Order.head()"
   ]
  },
  {
   "cell_type": "code",
   "execution_count": 126,
   "metadata": {
    "colab": {},
    "colab_type": "code",
    "id": "WAk83CU3ZT0h"
   },
   "outputs": [],
   "source": [
    "# MERGING IMPORT DB_OrderDetail and cleaned df_Order\n",
    "df_merged = DB_OrderDetail.merge(df_Order, on='OrderId',copy=True)"
   ]
  },
  {
   "cell_type": "code",
   "execution_count": 127,
   "metadata": {
    "colab": {
     "base_uri": "https://localhost:8080/",
     "height": 368
    },
    "colab_type": "code",
    "id": "9SgnDaDnafwe",
    "outputId": "81463de5-07dc-45ee-f542-8188583bd7a6"
   },
   "outputs": [],
   "source": [
    "# Renaming dataframes for consistency\n",
    "df_order_geo = df_merged.copy()\n",
    "# df_order_geo.info()"
   ]
  },
  {
   "cell_type": "code",
   "execution_count": 128,
   "metadata": {
    "code_folding": [
     0
    ],
    "colab": {},
    "colab_type": "code",
    "id": "kZrILqbzLakW"
   },
   "outputs": [],
   "source": [
    "# # Remove some columns from df_order_geo\n",
    "\n",
    "# df_order_geo.drop(['OrderId', 'ShipName', 'ShippedDate', 'RequiredDate', 'ShipVia','ShipAddress',\n",
    "#              'RequiredDate','ShippedDate', 'Freight'],inplace=True, axis=1)\n",
    "# # relabel the Id column so they have unique names\n",
    "# df_order_geo.rename(columns={'Id':'OrderId_'},inplace=True )\n",
    "# df_order_geo.info()\n",
    "# # print(f'df_ord.info():\\n {df_ord.info()}\\n\\ndf_order_geo.info():\\n{df_order_geo.info()}')\n"
   ]
  },
  {
   "cell_type": "code",
   "execution_count": 129,
   "metadata": {
    "colab": {
     "base_uri": "https://localhost:8080/",
     "height": 435
    },
    "colab_type": "code",
    "id": "xMsnQk78MlLi",
    "outputId": "e86c9ef9-0ed7-489c-c25a-c81fe1e5dfc4"
   },
   "outputs": [],
   "source": [
    "#Apply calc_product_price to every row \n",
    "df_price_geo = df_order_geo.apply(lambda x: calc_product_price(x),axis=1)\n",
    "\n",
    "# Apply_calc_order_total to every row\n",
    "df_price_geo = df_price_geo.apply(lambda x: calc_order_total(x,df_price_geo), axis=1)  \n",
    "# df_price_geo.info()"
   ]
  },
  {
   "cell_type": "code",
   "execution_count": 130,
   "metadata": {
    "code_folding": [],
    "colab": {
     "base_uri": "https://localhost:8080/",
     "height": 67
    },
    "colab_type": "code",
    "id": "IHFWsYrQh5qU",
    "outputId": "023223eb-4cff-4d14-c6ae-987915551b56"
   },
   "outputs": [
    {
     "data": {
      "text/plain": [
       "max   2014-05-06\n",
       "min   2012-07-04\n",
       "Name: OrderDate, dtype: datetime64[ns]"
      ]
     },
     "execution_count": 130,
     "metadata": {},
     "output_type": "execute_result"
    }
   ],
   "source": [
    "#convert dates to datetime\n",
    "df_price_geo['OrderDate'] = pd.to_datetime(df_price_geo.OrderDate )\n",
    "df_price_geo.OrderDate.agg(['mean','max','min'])"
   ]
  },
  {
   "cell_type": "code",
   "execution_count": 131,
   "metadata": {
    "code_folding": [],
    "colab": {
     "base_uri": "https://localhost:8080/",
     "height": 468
    },
    "colab_type": "code",
    "id": "AprRVK06h5qZ",
    "outputId": "132a835e-71c0-4864-869b-d13ca6c44c47"
   },
   "outputs": [],
   "source": [
    "# Create columns for day of week and month\n",
    "df_price_geo['OrderDate'] = pd.to_datetime(df_price_geo.OrderDate)\n",
    "\n",
    "df_price_geo['week_day'] = df_price_geo['OrderDate'].dt.dayofweek\n",
    "df_price_geo['month'] = df_price_geo['OrderDate'].dt.month\n",
    "\n",
    "# df_price_geo.info()"
   ]
  },
  {
   "cell_type": "code",
   "execution_count": 132,
   "metadata": {
    "code_folding": [],
    "colab": {
     "base_uri": "https://localhost:8080/",
     "height": 234
    },
    "colab_type": "code",
    "id": "vDqA5Xe8jY8h",
    "outputId": "91e51550-e15b-4ae4-f2f8-9043c032d27e"
   },
   "outputs": [
    {
     "data": {
      "text/plain": [
       "apr    261\n",
       "mar    255\n",
       "jan    237\n",
       "feb    201\n",
       "dec    195\n",
       "oct    179\n",
       "nov    155\n",
       "may    155\n",
       "aug    153\n",
       "sep    152\n",
       "jul    136\n",
       "jun     76\n",
       "Name: month_name, dtype: int64"
      ]
     },
     "execution_count": 132,
     "metadata": {},
     "output_type": "execute_result"
    }
   ],
   "source": [
    "# Make list of month names to map onto dataframe.\n",
    "months = ['jan','feb', 'mar', 'apr', 'may' , 'jun', 'jul', 'aug', 'sep', 'oct', 'nov', 'dec']#creating label names\n",
    "# month_code =\n",
    "month_dict = dict(zip( list(range(1,len(months)+1)),months)) # zip the two into a dictionary\n",
    "\n",
    "# MAP THE MONTH_DICT ONTO NEW COLUMN month_name\n",
    "df_price_geo['month_name'] = df_price_geo['month'].map(month_dict)\n",
    "df_price_geo['month_name'].value_counts()"
   ]
  },
  {
   "cell_type": "code",
   "execution_count": 133,
   "metadata": {
    "colab": {
     "base_uri": "https://localhost:8080/",
     "height": 33
    },
    "colab_type": "code",
    "id": "M9BSk8NMJMLi",
    "outputId": "a152bd95-791b-4a97-cc31-4e7aba9e0fef"
   },
   "outputs": [
    {
     "name": "stdout",
     "output_type": "stream",
     "text": [
      "No .csv exported.\n"
     ]
    }
   ],
   "source": [
    "# Save df_price_Geo \n",
    "# Save figure of save_for_user is True\n",
    "if save_for_user == True:\n",
    "# save = input(prompt='Would you like to export the dataframe above? (y/n)\\n')\n",
    "# if save.lower()=='y':\n",
    "    filename ='df_H3_price_w_dates_products.csv'\n",
    "    df_H3_price_w_dates_products = df_price_geo.copy()\n",
    "    df_H3_price_w_dates_products.to_csv(data_filepath+filename)\n",
    "    print(f'df_price exported and saved as {filename}...')\n",
    "    print(f'if you are running this on Colab:...\\nOpen File sidebar, click Refresh, right click on {filename} to Download.')\n",
    "    \n",
    "    filename ='df_H3_price_w_dates_orders.csv'\n",
    "    df_H3_price_w_dates_orders = df_H3_price_w_dates_products.drop_duplicates(subset=['OrderId'])\n",
    "    df_H3_price_w_dates_orders.to_csv(data_filepath+filename)\n",
    "    print(f'if you are running this on Colab:...\\nOpen File sidebar, click Refresh, right click on {filename} to Download.')\n",
    "\n",
    "else:\n",
    "    print('No .csv exported.')\n",
    "    \n",
    "    \n",
    "# print(f'The cell above is currently commented out, uncomment to export csv')\n"
   ]
  },
  {
   "cell_type": "code",
   "execution_count": 134,
   "metadata": {},
   "outputs": [],
   "source": [
    "# df_price_geo.info()"
   ]
  },
  {
   "cell_type": "markdown",
   "metadata": {
    "colab_type": "text",
    "id": "eOHvLslMTz2u"
   },
   "source": [
    "### EDA\n",
    " - Extraction workflows merge here. \n",
    " - define uselful functions for visualizations\n",
    " - Plotting and visualizing features"
   ]
  },
  {
   "cell_type": "code",
   "execution_count": 135,
   "metadata": {},
   "outputs": [],
   "source": [
    "# Picking which iteration of df_price to use \n",
    "df_year = df_price_geo.copy()\n",
    "#df_year = df_priceM"
   ]
  },
  {
   "cell_type": "code",
   "execution_count": 136,
   "metadata": {
    "colab": {},
    "colab_type": "code",
    "id": "EaZSLM9pmVTc"
   },
   "outputs": [],
   "source": [
    "#- Adding df_year_orders = df_price_geo should ensure that the rest of mike's code runs\n",
    "df_year_orders = df_price_geo.drop_duplicates(subset=['OrderId']).copy()\n",
    "df_year_orders.set_index('OrderId',inplace=True,verify_integrity=True)\n",
    "# df_year_orders.info()"
   ]
  },
  {
   "cell_type": "code",
   "execution_count": 137,
   "metadata": {
    "colab": {
     "base_uri": "https://localhost:8080/",
     "height": 318
    },
    "colab_type": "code",
    "id": "WFi_GbL4BYUw",
    "outputId": "5074da99-d580-4c64-c5e4-b062c6c001d5"
   },
   "outputs": [],
   "source": [
    "# Drop unneeded and misleading formerly product-associated columns\n",
    "vars_to_drop = ['EmployeeId','ShipVia','ShipAddress','ShipRegion','ProductId','ShipName','Id','price','OnSale']\n",
    "df_year_orders.drop(vars_to_drop,axis=1,inplace=True)\n",
    "# df_year_orders.info()"
   ]
  },
  {
   "cell_type": "markdown",
   "metadata": {
    "colab_type": "text",
    "id": "m-IJsfaeZShd"
   },
   "source": [
    "### plot initial order totals by month"
   ]
  },
  {
   "cell_type": "code",
   "execution_count": 138,
   "metadata": {
    "colab": {},
    "colab_type": "code",
    "id": "vWUI5areZg83"
   },
   "outputs": [],
   "source": [
    "# Declare variables to be plotted\n",
    "df_year_orders.loc[df_year_orders['Discount'] > 0,\n",
    "                   'Is Discounted?'] = True\n",
    "\n",
    "df_year_orders.loc[df_year_orders['Discount'] == 0,\n",
    "                   'Is Discounted?'] = False\n",
    "x = df_year_orders['month']\n",
    "y = df_year_orders['order_total']\n",
    "data = df_year_orders \n",
    "ticks = [v.title() for v in month_dict.values()] \n",
    "title = 'Order Totals:\\n Discounts Vs No Discount'\n",
    "leg_label = 'Is Discounted?'"
   ]
  },
  {
   "cell_type": "code",
   "execution_count": 139,
   "metadata": {},
   "outputs": [
    {
     "ename": "NameError",
     "evalue": "name 'make_violinplot' is not defined",
     "output_type": "error",
     "traceback": [
      "\u001b[1;31m---------------------------------------------------------------------------\u001b[0m",
      "\u001b[1;31mNameError\u001b[0m                                 Traceback (most recent call last)",
      "\u001b[1;32m<ipython-input-139-1e24e441c2e8>\u001b[0m in \u001b[0;36m<module>\u001b[1;34m\u001b[0m\n\u001b[0;32m      1\u001b[0m \u001b[1;32mwith\u001b[0m \u001b[0mplt\u001b[0m\u001b[1;33m.\u001b[0m\u001b[0mstyle\u001b[0m\u001b[1;33m.\u001b[0m\u001b[0mcontext\u001b[0m\u001b[1;33m(\u001b[0m\u001b[1;34m'dark_backm'\u001b[0m\u001b[1;33m)\u001b[0m\u001b[1;33m:\u001b[0m\u001b[1;33m\u001b[0m\u001b[1;33m\u001b[0m\u001b[0m\n\u001b[0;32m      2\u001b[0m \u001b[1;33m\u001b[0m\u001b[0m\n\u001b[1;32m----> 3\u001b[1;33m     make_violinplot( x, y, leg_label, data,\n\u001b[0m\u001b[0;32m      4\u001b[0m                     \u001b[0mticklabels\u001b[0m\u001b[1;33m=\u001b[0m\u001b[0mticks\u001b[0m\u001b[1;33m,\u001b[0m \u001b[0mtitle\u001b[0m\u001b[1;33m=\u001b[0m\u001b[0mtitle\u001b[0m\u001b[1;33m,\u001b[0m\u001b[1;33m\u001b[0m\u001b[1;33m\u001b[0m\u001b[0m\n\u001b[0;32m      5\u001b[0m                     leg_label=leg_label)\n",
      "\u001b[1;31mNameError\u001b[0m: name 'make_violinplot' is not defined"
     ]
    }
   ],
   "source": [
    "with plt.style.context('dark_backm'):\n",
    "\n",
    "    make_violinplot( x, y, leg_label, data,\n",
    "                    ticklabels=ticks, title=title,\n",
    "                    leg_label=leg_label)\n",
    "if save_for_user == True:\n",
    "    plt.savefig(fig_filepath+'stripplot - order totals per month.png', dpi=300)"
   ]
  },
  {
   "cell_type": "code",
   "execution_count": null,
   "metadata": {
    "colab": {
     "base_uri": "https://localhost:8080/",
     "height": 564
    },
    "colab_type": "code",
    "id": "yKstXyROa-5y",
    "outputId": "6a9123c3-c733-4f05-a23f-ac71d6675757"
   },
   "outputs": [],
   "source": [
    "make_stripplot(x,y,title,hue,ticks)\n",
    "if save_for_user == True:\n",
    "    plt.savefig(fig_filepath+'stripplot - order totals per month.png', dpi=300)\n",
    "    "
   ]
  },
  {
   "cell_type": "markdown",
   "metadata": {
    "colab_type": "text",
    "id": "i4ODtjI71c03"
   },
   "source": [
    "## ***H3, Aim 2 : Test for assumptions of normality and equal variance, then choose test***\n",
    "---\n",
    "\n"
   ]
  },
  {
   "cell_type": "markdown",
   "metadata": {
    "colab_type": "text",
    "id": "xkFmrtPc1a8I"
   },
   "source": [
    "\n",
    "* ***Aim 2: Select the appropriate t-test based on tests for the assumptions of normality and homogeneity of variance.***\n",
    "    1. **Test for Normality**<br>\n",
    "        - [Normaltest/ D’Agostino and Pearson’s](https://docs.scipy.org/doc/scipy/reference/generated/scipy.stats.normaltest.html)\n",
    "<br>\n",
    "        ```scipy.stats.normaltest```\n",
    "        - Shapiro-Wilik Test<br>\n",
    "        ```scipy.stats.shapiro```\n",
    "    2. **Test for Homogeneity of Variance**<br>\n",
    "        - [Levene's Test](https://docs.scipy.org/doc/scipy-0.14.0/reference/generated/scipy.stats.levene.html)<br>         ```scipy.stats.levene```\n",
    "    3. **Choose appropriate test based upon 1. and 2.** \n",
    "        - [Mann Whitney U Test](https://docs.scipy.org/doc/scipy/reference/generated/scipy.stats.mannwhitneyu.html)<br>  - non parametric equivalent of ANOVA)<br>\n",
    "    ```stats.mannwhitneyu```<br>\n",
    "        - Normal: 2 sample t-test\n",
    "        - Welch's t-test (Jeff)\n",
    "        \n",
    "    4.  Calculate effect size, post-hoc tukeys tests.\n",
    "        - Effect size: [cohen's d](https://stackoverflow.com/questions/21532471/how-to-calculate-cohens-d-in-python)\n",
    "          \n",
    "* ***Aim 3: To perform post-hoc pairwise comparisons for level of discount***      \n",
    "    5. If significant result, follow up with post-hoc tests\n",
    "        - [Tukey's](https://www.statsmodels.org/stable/generated/statsmodels.stats.multicomp.pairwise_tukeyhsd.html)\n",
    "        ```statsmodels.stats.multicomp.pairwise_tukeyhsd```\n"
   ]
  },
  {
   "cell_type": "markdown",
   "metadata": {
    "colab_type": "text",
    "id": "GFMslgjQqhPW"
   },
   "source": [
    "#### Histograms month vs all months"
   ]
  },
  {
   "cell_type": "code",
   "execution_count": null,
   "metadata": {
    "code_folding": [],
    "colab": {
     "base_uri": "https://localhost:8080/",
     "height": 318
    },
    "colab_type": "code",
    "id": "_IgmmlODvphN",
    "outputId": "55d27cad-b13b-4e47-f0ca-3ee85abf81ae"
   },
   "outputs": [],
   "source": [
    "draw_histograms(df_year, 'month', month_dict, 4, 3)"
   ]
  },
  {
   "cell_type": "code",
   "execution_count": null,
   "metadata": {
    "colab": {},
    "colab_type": "code",
    "id": "rz4ikqv7BvGE"
   },
   "outputs": [],
   "source": [
    "# draw_histograms_from_sample(df_year_orders, 'month', month_dict, 4, 3)\n",
    "# df_year_orders[['Quantity','Discount','price','order_total']].describe()"
   ]
  },
  {
   "cell_type": "code",
   "execution_count": null,
   "metadata": {
    "colab": {
     "base_uri": "https://localhost:8080/",
     "height": 514
    },
    "colab_type": "code",
    "id": "R0viFRByBym2",
    "outputId": "bd68cffc-6085-47cb-f811-a9e478427dff"
   },
   "outputs": [],
   "source": [
    "# df_year_orders.groupby('month_name').agg(['mean','std','min','max','count'])"
   ]
  },
  {
   "cell_type": "markdown",
   "metadata": {
    "colab_type": "text",
    "id": "hwvBZywE0V0B"
   },
   "source": [
    "### Aim 2.1: Test for Normality"
   ]
  },
  {
   "cell_type": "code",
   "execution_count": null,
   "metadata": {
    "colab": {},
    "colab_type": "code",
    "id": "oVpC31QUC9cg"
   },
   "outputs": [],
   "source": [
    "# create a dict to test stats\n",
    "dict_to_test ={}\n",
    "for month in list(df_year_orders['month_name'].unique()):\n",
    "    dict_to_test[month] = df_year_orders.groupby('month_name').get_group(month)"
   ]
  },
  {
   "cell_type": "code",
   "execution_count": null,
   "metadata": {
    "colab": {
     "base_uri": "https://localhost:8080/",
     "height": 217
    },
    "colab_type": "code",
    "id": "yeigRWPhC-yb",
    "outputId": "61bc2cda-62d6-4846-da43-5a6e7fbbbda6"
   },
   "outputs": [],
   "source": [
    "for k,v in dict_to_test.items():\n",
    "    print(f'{k} has: {len(v)} rows.')\n",
    "# len(dict_to_test.values())\n",
    "# dict_to_test.keys()"
   ]
  },
  {
   "cell_type": "code",
   "execution_count": null,
   "metadata": {
    "colab": {},
    "colab_type": "code",
    "id": "gqiBjl0W4SP_"
   },
   "outputs": [],
   "source": [
    "# Create H3_tests list to receive all test results for this hypothesis:\n",
    "H3_tests = [['Group:','TestName','Test Purpose','stat','p','p<.05?']  ]"
   ]
  },
  {
   "cell_type": "code",
   "execution_count": null,
   "metadata": {
    "colab": {
     "base_uri": "https://localhost:8080/",
     "height": 435
    },
    "colab_type": "code",
    "id": "34ds8zvRz-X7",
    "outputId": "360af9ac-ee1e-440f-b403-4f2576feb7dc"
   },
   "outputs": [],
   "source": [
    "# Use normaltest for D'Agostino Pearson's test\n",
    "from scipy.stats import normaltest\n",
    "\n",
    "# Recursively go through months and then test each monthths\n",
    "for month,  df  in dict_to_test.items(): #month = key, df = values\n",
    "\n",
    "    arrA = dict_to_test[month]['order_total']\n",
    "\n",
    "    #1. Test for normality\n",
    "    test_purpose = 'Normality'\n",
    "    test_to_run = 'normaltest'\n",
    "\n",
    "    arrA = np.array(arrA)\n",
    "    statA, pA = eval(test_to_run)(arrA)\n",
    "\n",
    "    # Append the result\n",
    "    H3_tests.append([month, test_to_run, test_purpose ,statA, pA, pA<0.05])\n",
    "\n",
    "# Adding a test for the year as a whole. \n",
    "arrB = np.array(df_year_orders['order_total'])\n",
    "stat, p = eval(test_to_run)(arrB)\n",
    "\n",
    "# Append the results.\n",
    "H3_tests.append(['Total Pop', test_to_run, test_purpose,stat, p,p<0.05])\n",
    "\n",
    "# Display Results\n",
    "H3_results_norm = list2df(H3_tests)\n",
    "H3_results_norm"
   ]
  },
  {
   "cell_type": "markdown",
   "metadata": {
    "colab_type": "text",
    "id": "cNlFwil16GUb"
   },
   "source": [
    "### Aim 2.2: Test for Homogneity of Variance\n",
    "- Levenes Test"
   ]
  },
  {
   "cell_type": "code",
   "execution_count": null,
   "metadata": {
    "colab": {
     "base_uri": "https://localhost:8080/",
     "height": 793
    },
    "colab_type": "code",
    "id": "WYGU5I1f6K2e",
    "outputId": "eceb5ab3-8bf7-434e-b8f5-e9801232d51c"
   },
   "outputs": [],
   "source": [
    "from scipy.stats import levene\n",
    "\n",
    "for month,  df  in dict_to_test.items(): #month = key, df = values\n",
    "    \n",
    "    # Create array A for month and array B for all other months.\n",
    "    arrA = dict_to_test[month]['order_total']\n",
    "    arrB = df_year_orders[df_year_orders['month_name']!= month]['order_total']\n",
    "  \n",
    "    arrA = np.array(arrA)\n",
    "    arrB = np.array(arrB)\n",
    "    \n",
    "    \n",
    "    #1. Test for equal variance. \n",
    "    test_to_run = 'levene'\n",
    "    test_purpose = 'Equal Variance'\n",
    "\n",
    "    # Run Levene's test\n",
    "    stat, p = eval(test_to_run)(arrA,arrB,center='median')\n",
    "    \n",
    "    # Append Results\n",
    "    H3_tests.append([f'{month} vs. Other Months', test_to_run, test_purpose ,stat, p, p<0.05])\n",
    "\n",
    "list2df(H3_tests)"
   ]
  },
  {
   "cell_type": "markdown",
   "metadata": {
    "colab_type": "text",
    "id": "zqTFEWNju4DM"
   },
   "source": [
    "### Aim 2.3. Choose Appropriate Test Based on Testing Assumptions\n",
    "\n",
    "- Note: We did not meet the criteria for normality or equal variance. \n",
    "- We also have more than 2  groups, so cannot do the Mann-Whitney U test. \n",
    "- Decided to run both a M.W.U test and Tukey's\n",
    "    - MWU to analyze each month vs the other months.\n",
    "    - Tukey's for pairwise comparisons between months\n"
   ]
  },
  {
   "cell_type": "markdown",
   "metadata": {},
   "source": [
    "#### Mann-Whitney U test of months vs year\n"
   ]
  },
  {
   "cell_type": "code",
   "execution_count": null,
   "metadata": {},
   "outputs": [],
   "source": [
    "from scipy.stats import mannwhitneyu\n",
    "\n",
    "for month, df  in dict_to_test.items(): #month = key, df = values\n",
    "\n",
    "    arrA = dict_to_test[month]['order_total']\n",
    "    arrB = df_year.loc[df_year['month_name']!= month,'order_total']\n",
    "\n",
    "    test_to_run = 'mannwhitneyu'\n",
    "    test_purpose = 'Hi sig.'\n",
    "\n",
    "    arrA = np.array(arrA).reshape(-1,1)\n",
    "    arrB = np.array(arrB).reshape(-1,1)\n",
    "\n",
    "    stat, p = eval(test_to_run)(arrA,arrB,alternative='two-sided')\n",
    "    \n",
    "    print(f'{month}:',stat, p)\n",
    "    \n",
    "    H3_tests.append([f'{month} vs. Other Months', test_to_run, test_purpose ,stat, p, p < .05])\n",
    "\n",
    "list2df(H3_tests)"
   ]
  },
  {
   "cell_type": "markdown",
   "metadata": {},
   "source": [
    "#### Calculating effect size wiht Cohen's d"
   ]
  },
  {
   "cell_type": "code",
   "execution_count": null,
   "metadata": {},
   "outputs": [],
   "source": [
    "# Calculating effect sizes\n",
    "d_dict = {}\n",
    "for month,  df  in dict_to_test.items(): #month = key, df = values\n",
    "\n",
    "    arrA = dict_to_test[month][['order_total']]\n",
    "    arrB = df_year[df_year['month_name']!= month]['order_total']\n",
    "\n",
    "    test_to_run = 'Cohen_d'\n",
    "    test_purpose = 'efect Size'\n",
    "\n",
    "    arrA = np.array(arrA)\n",
    "    arrB = np.array(arrB)\n",
    "\n",
    "    d = Cohen_d(arrA, arrB)\n",
    "    \n",
    "    d_dict[month] = d\n",
    "    \n",
    "    print(f'{month}:',d)\n",
    "    H3_tests.append([f'{month}', test_to_run, test_purpose ,stat])\n",
    "list2df(H3_tests)"
   ]
  },
  {
   "cell_type": "code",
   "execution_count": null,
   "metadata": {},
   "outputs": [],
   "source": [
    "# Export H3 test resutls.\n",
    "table_H3_test_results = list2df(H3_tests)\n",
    "if save_for_user==True:\n",
    "    table_H3_test_results.to_csv(data_filepath+'table_H3_test_results.csv')\n",
    "    table_H3_test_results.round(4).to_html(data_filepath+'table_H3_test_results.html')"
   ]
  },
  {
   "cell_type": "markdown",
   "metadata": {
    "colab_type": "text",
    "id": "azg_e4Sjylcg"
   },
   "source": [
    "### Use Tukey's Pairwise Multiple Comparison test.\n",
    "```statsmodels.stats.multicomp.pairwise_tukeyhsd```"
   ]
  },
  {
   "cell_type": "code",
   "execution_count": null,
   "metadata": {
    "colab": {
     "base_uri": "https://localhost:8080/",
     "height": 1895
    },
    "colab_type": "code",
    "id": "l-icO2sgylch",
    "outputId": "f327354d-d539-4080-b02a-4288aa8641b3"
   },
   "outputs": [],
   "source": [
    "# Importing tukey's test\n",
    "from statsmodels.stats.multicomp import pairwise_tukeyhsd as tukey\n",
    "\n",
    "# Defome the dataframe containing column of interest and group labels. \n",
    "df_test_hypothesis = df_year_orders[['order_total','month_name','week_day']]\n",
    "grp_labels = df_test_hypothesis['month_name']\n",
    "\n",
    "# Run tukey's test\n",
    "tukey_results = tukey(df_test_hypothesis['order_total'], grp_labels, 0.05)\n",
    "\n",
    "\n",
    "# Save the results into a dataframe\n",
    "table_H3_tukey = tukey_table(tukey_results)\n",
    "\n",
    "# save for user\n",
    "if save_for_user==True:\n",
    "    table_H3_tukey.to_csv(data_filepath+'table_H3_tukey.csv')\n",
    "    table_H3_tukey.round(4).to_html(data_filepath+'table_H3_tukey.html')\n",
    "\n",
    "\n",
    "# Display any significant pairwise comparisons. \n",
    "display(table_H3_tukey.loc[table_H3_tukey['reject']==True])"
   ]
  },
  {
   "cell_type": "markdown",
   "metadata": {},
   "source": [
    "**There were no significant pairwise comparisons.**"
   ]
  },
  {
   "cell_type": "markdown",
   "metadata": {
    "colab_type": "text",
    "id": "y6J9p4XL3Lnr"
   },
   "source": [
    "#### SAVE THIS: using groupby to get mean, sem, for plotting"
   ]
  },
  {
   "cell_type": "code",
   "execution_count": null,
   "metadata": {
    "code_folding": [],
    "colab": {},
    "colab_type": "code",
    "id": "hAuj-cPF22k6"
   },
   "outputs": [],
   "source": [
    "# WANT TO CALCULATE MEAN AND SEM FOR BAR PLOT FOR DF\n",
    "# Calc Standard Error of the Mean for PLotting.\n",
    "from scipy.stats import sem\n",
    "\n",
    "d_plot={}\n",
    "d_plot['mean'] = df_year_orders.groupby(['month'])['order_total'].mean()\n",
    "d_plot['sem'] = df_year_orders.groupby(['month'])['order_total'].sem()\n",
    "d_plot['std'] = df_year_orders.groupby(['month'])['order_total'].std()\n",
    "d_plot['n'] = df_year_orders.groupby(['month'])['order_total'].count()\n",
    "\n",
    "df_plot = pd.DataFrame.from_dict(d_plot)\n",
    "\n",
    "# Convert month index to month_num column\n",
    "df_plot['month_num'] = df_plot.index\n",
    "\n",
    "# Use month_dict to get months labeled with names\n",
    "df_plot['month_name']=df_plot['month_num'].map(month_dict)\n",
    "df_plot.set_index('month_name',drop=False,inplace=True)"
   ]
  },
  {
   "cell_type": "code",
   "execution_count": null,
   "metadata": {},
   "outputs": [],
   "source": [
    "display(df_plot)"
   ]
  },
  {
   "cell_type": "code",
   "execution_count": null,
   "metadata": {},
   "outputs": [],
   "source": [
    "# export table with mean and sem for all months\n",
    "H3_mean_sem = [['H#','Group','mean','sem','std','n']]\n",
    "\n",
    "for month in df_plot.index:\n",
    "   \n",
    "    h = 'H3'\n",
    "    group = month\n",
    "    mo_mean = df_plot.loc[month,'mean']\n",
    "    mo_sem = df_plot.loc[month,'sem']\n",
    "    mo_std = df_plot.loc[month,'std']\n",
    "    n = df_plot.loc[month,'n']\n",
    "    H3_mean_sem.append([h,group,mo_mean,mo_sem,mo_std,n])\n",
    "\n",
    "table_H3_mean_sem = list2df(H3_mean_sem)\n",
    "\n",
    "# Export csv if user sets save_for_user to True\n",
    "if save_for_user==True:\n",
    "    table_H3_mean_sem.to_csv(data_filepath+'table_H3_mean_sem.csv')    \n",
    "    table_H3_mean_sem.round(2).to_html(data_filepath+'table_H3_mean_sem.html')    \n",
    "    \n",
    "display(table_H3_mean_sem.round())"
   ]
  },
  {
   "cell_type": "code",
   "execution_count": null,
   "metadata": {
    "scrolled": false
   },
   "outputs": [],
   "source": [
    "# display(table_H3_test_results)\n",
    "# display(table_H3_tukey)\n",
    "display(table_H3_test_results)"
   ]
  },
  {
   "cell_type": "code",
   "execution_count": null,
   "metadata": {
    "colab": {
     "base_uri": "https://localhost:8080/",
     "height": 793
    },
    "colab_type": "code",
    "id": "yMuJZ7-yylcn",
    "outputId": "54565adc-1713-4f71-c8a6-9d939002851a"
   },
   "outputs": [],
   "source": [
    "# Display final results for H3_tests\n",
    "# H3_tests_table = list2df(H3_tests)\n",
    "table_H3_test_results.groupby('TestName').get_group('mannwhitneyu')"
   ]
  },
  {
   "cell_type": "markdown",
   "metadata": {
    "colab_type": "text",
    "id": "YUqcqJPZylcn"
   },
   "source": [
    "## ***Conclusions for Hypothesis 3:***\n",
    "1. **We first used D'Agostino & Perason's test (normaltest) to check for normal distributions**\n",
    "    -  Both groups had p-values very far below our $\\alpha=0.05$  (Rows 0,1 below)\n",
    "        - We reected the null hypothesis that the groups came from a population with a normal distribution. \n",
    "2. **We tested for equal variances using Levene's test. **\n",
    "    - Levene's test had a signifcant p-value, so we rejected the hypothesis that the groups have equal variances\n",
    "    \n",
    "3. **We then concluded we need a non-parametric test, so we first used the Mann-Whitney U test to compare each month vs the other 11 months**. \n",
    "    -  Several months were significantly different than the rest of the year:\n",
    "        - Jul, Aug, Sep, Feb, Mar, Apr\n",
    "    -  \n",
    "4. **We then did pairwise comparisons of all months using Tukey's test**\n",
    "    - We could not reject the null hypothesis that month affects the quantity sold. \n",
    "    - It is difficult to interpret the contradicting results of the Mann Whitney U and the Tukey's test.\n",
    "        - But since Tukey's test corrects for multiple comparisons, it should be trusted over M.W.U.\n",
    "\n"
   ]
  },
  {
   "cell_type": "markdown",
   "metadata": {},
   "source": [
    "## BOOKMARK- SUMMARY FIGURE h3"
   ]
  },
  {
   "cell_type": "code",
   "execution_count": null,
   "metadata": {},
   "outputs": [],
   "source": [
    "#  ax.bar(x=df_plot.index, height= df_plot['mean'], yerr=df_plot['sem'])\n",
    "\n",
    "with plt.style.context('dark_background'):\n",
    "    fig = plt.figure(figsize=(10,5))\n",
    "    ax = fig.add_subplot(1,1,1)\n",
    "    \n",
    "    color = ['red','orange','yellow','green','blue','indigo','violet']\n",
    "    \n",
    "    err_kws = {'ecolor': 'w', 'capsize':5,\n",
    "               'elinewidth': 2 ,'capthick': 2}\n",
    "    \n",
    "    fontTitle = {'fontfamily':'serif',\n",
    "               'fontweight':'medium',\n",
    "               'fontsize':16}\n",
    "    \n",
    "    fontAxis = {'fontfamily':'serif',\n",
    "               'fontweight':'medium',\n",
    "               'fontsize':12}\n",
    "    labels = [str(i).title() for i in df_plot.index]\n",
    "    ax.bar(x = labels,width=0.6, height = df_plot['mean'], yerr = df_plot['sem'], error_kw=err_kws,\n",
    "          edgecolor='white', linewidth = 2,color = color)\n",
    "    \n",
    "    ax.set_title('Order Totals By Month',fontdict=fontTitle)\n",
    "    ax.set_ylabel('Average Order Total',fontdict=fontAxis)\n",
    "    ax.set_xlabel('Month', fontdict=fontAxis)\n",
    "    \n",
    "    plt.show()"
   ]
  },
  {
   "cell_type": "code",
   "execution_count": null,
   "metadata": {},
   "outputs": [],
   "source": [
    "# Save figure of save_for_user is True\n",
    "if save_for_user == True:\n",
    "    fig.savefig(fig_filepath+'H3_Month_Bar_mean_sem_black.png',dpi=300,facecolor='k')"
   ]
  },
  {
   "cell_type": "code",
   "execution_count": null,
   "metadata": {},
   "outputs": [],
   "source": []
  },
  {
   "cell_type": "markdown",
   "metadata": {
    "colab_type": "text",
    "id": "NSv7gEWPuXTn"
   },
   "source": [
    "___\n",
    "# Hypothesis 4 \n",
    "\n",
    "> Do different countries respond to discounts more than others? \n",
    "\n",
    "$H_1$: Different countries purchase different quantities of discounted vs non discounted products. \n",
    "\n",
    "$H_0$: All countries purchase the same quantities of discounted vs non discounted products. \n",
    "\n",
    "**Specific Aims:**\n",
    "\n",
    "* ***Aim 1:To select the proper dataset for analysis, perform EDA, and generate data groups for testing.***\n",
    "    - Used sqlalchemy and pandas.read_sql_query()\n",
    "    query = \n",
    "\n",
    "* ***Aim 2: Select the appropriate t-test based on tests for the assumptions of normality and homogeneity of variance.***\n",
    "    1. **Test for Normality**\n",
    "        - D'Agostino-Pearson's normality test<br>\n",
    "        ```scipy.stats.normaltest```\n",
    "        - Shapiro-Wilik Test<br>\n",
    "        ```scipy.stats.shapiro```\n",
    "    2. **Test for Homogeneity of Variance**\n",
    "        - Levene's Test<br>\n",
    "         ```scipy.stats.levene```\n",
    "\n",
    "    3. **Choose appropriate test based upon 1. and 2.** \n",
    "\n",
    "\n",
    "* ***Aim 3: To perform post-hoc painrwise comparison testing to determine which level of discounts affect quantity and if any discount has a greater effect than the others.***\n",
    "     - Tukey's test for multiple pairwise comparisons\n"
   ]
  },
  {
   "cell_type": "markdown",
   "metadata": {
    "colab_type": "text",
    "id": "ZnY9sSjWuKZL"
   },
   "source": [
    "## ***H4, Aim 1.1 : To select the proper dataset for analyiss  and generate data groups for testing.***\n",
    "\n",
    "#### Importing Method\n",
    "- Used sqlalchemy to create engine to connect to Northwind_small.sqlite.\n",
    "- Read tables directly into dataframes<br>\n",
    "```python\n",
    "DB_Order = pd.read_sql_table('Order',engine);\n",
    "DB_OrderDetail = pd.read_sql_table('OrderDetail',engine);```\n",
    "\n"
   ]
  },
  {
   "cell_type": "code",
   "execution_count": null,
   "metadata": {
    "colab": {},
    "colab_type": "code",
    "id": "ZlBZKZo1goxY"
   },
   "outputs": [],
   "source": [
    "## Extract Order and OrderDetail Tables\n",
    "DB_Order = pd.read_sql_table('Order',engine);\n",
    "DB_OrderDetail = pd.read_sql_table('OrderDetail',engine);\n",
    "print(f\"DB_Order columns:{DB_Order.columns}\",'n\\n'\n",
    "      \"DB_OrderDetail columns:\",'n\\n'\n",
    "     f\"{DB_OrderDetail.columns}\")"
   ]
  },
  {
   "cell_type": "code",
   "execution_count": null,
   "metadata": {
    "colab": {},
    "colab_type": "code",
    "id": "jH4e7ph8j5qG"
   },
   "outputs": [],
   "source": [
    "# Rename Id in DB_Order, rename index,and remove unwanted columns\n",
    "DB_Order.rename({'Id':'OrderId','OrderDate':'OrderPlaced'},axis=1,inplace=True)\n",
    "\n",
    "# Drop unwanted columns from DB_Orde to make df_Order\n",
    "regex_to_drop = ['Date','Freight']\n",
    "\n",
    "df_Order = df_drop_regex(DB_Order, regex_to_drop)\n",
    "df_Order.rename({'OrderPlaced':'OrderDate'},axis=1,inplace=True)\n",
    "df_Order.head(5)"
   ]
  },
  {
   "cell_type": "markdown",
   "metadata": {},
   "source": [
    "### Processing Data to Generate Features\n"
   ]
  },
  {
   "cell_type": "code",
   "execution_count": null,
   "metadata": {},
   "outputs": [],
   "source": [
    "# CALCULATING THE SUB TOTALS AMD ORDER TOTALS\n",
    "df_merged = DB_OrderDetail.merge(df_Order, on='OrderId',copy=True)\n",
    "df_order_geo = df_merged.copy()\n",
    "\n",
    "#Apply calc_product_price to every row \n",
    "df_price_geo = df_order_geo.apply(lambda x: calc_product_price(x), axis=1)\n",
    "\n",
    "# Apply_calc_order_total to every row\n",
    "df_price_geo = df_price_geo.apply(lambda x: calc_order_total(x,df_price_geo), axis=1) "
   ]
  },
  {
   "cell_type": "code",
   "execution_count": null,
   "metadata": {
    "code_folding": [],
    "colab": {
     "base_uri": "https://localhost:8080/",
     "height": 67
    },
    "colab_type": "code",
    "id": "IHFWsYrQh5qU",
    "outputId": "023223eb-4cff-4d14-c6ae-987915551b56"
   },
   "outputs": [],
   "source": [
    "#convert dates to datetime\n",
    "df_price_geo['OrderDate'] = pd.to_datetime(df_price_geo.OrderDate )\n",
    "df_price_geo.OrderDate.agg(['mean','max','min'])"
   ]
  },
  {
   "cell_type": "code",
   "execution_count": null,
   "metadata": {
    "code_folding": [],
    "colab": {
     "base_uri": "https://localhost:8080/",
     "height": 468
    },
    "colab_type": "code",
    "id": "AprRVK06h5qZ",
    "outputId": "132a835e-71c0-4864-869b-d13ca6c44c47"
   },
   "outputs": [],
   "source": [
    "# Create columns for day of week and month\n",
    "df_price_geo['OrderDate'] = pd.to_datetime(df_price_geo.OrderDate)\n",
    "\n",
    "df_price_geo['week_day'] = df_price_geo['OrderDate'].dt.dayofweek\n",
    "df_price_geo['month'] = df_price_geo['OrderDate'].dt.month\n",
    "\n",
    "# df_price_geo.info()"
   ]
  },
  {
   "cell_type": "code",
   "execution_count": null,
   "metadata": {
    "code_folding": [],
    "colab": {
     "base_uri": "https://localhost:8080/",
     "height": 234
    },
    "colab_type": "code",
    "id": "vDqA5Xe8jY8h",
    "outputId": "91e51550-e15b-4ae4-f2f8-9043c032d27e"
   },
   "outputs": [],
   "source": [
    "# Make list of month names to map onto dataframe.\n",
    "months = ['jan','feb', 'mar', 'apr', 'may' , 'jun', 'jul', 'aug', 'sep', 'oct', 'nov', 'dec']#creating label names\n",
    "\n",
    "month_dict = dict(zip( list(range(1,len(months)+1)),months)) # zip the two into a dictionary\n",
    "\n",
    "# MAP THE MONTH_DICT ONTO NEW COLUMN month_name\n",
    "df_price_geo['month_name'] = df_price_geo['month'].map(month_dict)\n",
    "# df_price_geo['month_name'].value_counts()"
   ]
  },
  {
   "cell_type": "code",
   "execution_count": null,
   "metadata": {},
   "outputs": [],
   "source": [
    "#renamed df for ease of typing & it is a comprehensize starting point\n",
    "df = df_price_geo\n",
    "df.head()"
   ]
  },
  {
   "cell_type": "markdown",
   "metadata": {},
   "source": [
    "### ***H4, Aim 1.2: Exploring and Engineering features to best address hypothesis.***\n",
    "- difference between quantity bought with and without discount"
   ]
  },
  {
   "cell_type": "code",
   "execution_count": null,
   "metadata": {},
   "outputs": [],
   "source": [
    "# Separate each country's sales data into a dictionary in order to create New features for global discount effects on sales\n",
    "D_country = {}\n",
    "\n",
    "countries = list(df['ShipCountry'].unique())\n",
    "\n",
    "for country in countries:\n",
    "    \n",
    "    #check for discounts    \n",
    "    check_if_discounted = len(df.groupby('ShipCountry').get_group(country)['OnSale'].unique())\n",
    "    \n",
    "    if check_if_discounted < 2:\n",
    "        print(f'{country} did not have both discounted and non-discounted items.')\n",
    "        continue\n",
    "        \n",
    "    else:\n",
    "        \n",
    "        #Organize prices based on sales and fullprice    \n",
    "        D_country[country]={}\n",
    "\n",
    "        D_country[country]['df_sale'] = df.loc[df['OnSale']==1].groupby('ShipCountry').get_group(country)\n",
    "        \n",
    "        D_country[country]['df_fullprice'] = df.loc[df['OnSale']==0].groupby('ShipCountry').get_group(country) \n",
    "        \n",
    "        #Get total sales\n",
    "        D_country[country]['price']={}\n",
    "        D_country[country]['price']['OnSale'] = D_country[country]['df_sale']['price']\n",
    "        D_country[country]['price']['FullPrice'] = D_country[country]['df_fullprice']['price']\n",
    "        \n",
    "        #Get Quantity sold at discount/nondiscount\n",
    "        D_country[country]['quantity']={}\n",
    "        D_country[country]['quantity']['OnSale'] = D_country[country]['df_sale']['Quantity']\n",
    "        D_country[country]['quantity']['FullPrice'] = D_country[country]['df_fullprice']['Quantity']"
   ]
  },
  {
   "cell_type": "markdown",
   "metadata": {},
   "source": [
    "### Engineered Discount-Preference Features to Explore\n",
    "- ```Price_Disc-Full```: Sum of all purchases of discounted items minus the sum of all purchases of full price items.\n",
    "- ```Price_Disc/Total```: Ratio of money spent on discounted products / total money spent on orders. \n",
    "- ```Quant_Disc-Full```: Sum of all discounted products' quantities minus sum of all full price products' quantities. \n",
    "- ```Quant_Disc/Total```: Ratio of quantities of discounted products / total quantity of all products ordered.\n",
    "- ```AvgPrice_Disc```: Average price of discounted items purchased (sum(price) / sum(quantity) of discounted items.\n",
    "- ```AvgPrice_full```: Average price of full price items purchased (sum(price) / sum(quantity) of full price items."
   ]
  },
  {
   "cell_type": "code",
   "execution_count": null,
   "metadata": {},
   "outputs": [],
   "source": [
    "# Calculate metrics for country-preference for discounted items. \n",
    "dC = D_country\n",
    "results = [['country','Price_Disc-Full','Price_Disc/Total','Quant_Disc-Full',\n",
    "            'Quant_Disc/Total','AvgPrice_Disc','AvgPrice_Full','AvgPrice/item']]\n",
    "\n",
    "# For each country:\n",
    "for c in dC.keys():\n",
    "    \n",
    "    # fill in temp list with the names of the data that will be placed in their location. \n",
    "    temp = ['country','Price_Disc-Full','Price_Disc/Total','Quant_Disc-Full',\n",
    "            'Quant_Disc/Total','AvgPrice_Disc','AvgPrice_Full','AvgPrice/item']\n",
    "    \n",
    "    calc = dC[c]\n",
    "    i=0\n",
    "    temp[i] = c   # country name\n",
    "    \n",
    "    i+=1\n",
    "    temp[i] = (calc['price']['OnSale'].sum()         # price sub\n",
    "               - calc['price']['FullPrice'].sum())\n",
    "    i+=1\n",
    "    temp[i] = (calc['price']['OnSale'].sum()        # price/total \n",
    "               / (calc['price']['FullPrice'].sum() \n",
    "               + calc['price']['OnSale'].sum()))\n",
    "    i+=1\n",
    "    temp[i] = (calc['quantity']['OnSale'].sum()      # quantitty sub\n",
    "               - calc['quantity']['FullPrice'].sum())\n",
    "    i+=1\n",
    "    temp[i] = (calc['quantity']['OnSale'].sum()      # quantity total\n",
    "               / (calc['quantity']['FullPrice'].sum() \n",
    "               + calc['quantity']['OnSale'].sum()))\n",
    "    i+=1\n",
    "    temp[i] = (calc['price']['OnSale'].sum()       # average spent on sale \n",
    "               / calc['quantity']['OnSale'].sum() )\n",
    "    i+=1                                           \n",
    "    temp[i] = (calc['price']['FullPrice'].sum()      # average cost full price \n",
    "               / calc['quantity']['FullPrice'].sum()) \n",
    "    i+=1\n",
    "    temp[i] = (calc['price']['FullPrice'].sum()  # average spent on all items\n",
    "               + calc['price']['OnSale'].sum() \n",
    "               / calc['quantity']['FullPrice'].sum() \n",
    "               + calc['quantity']['OnSale'].sum())\n",
    "    results.append(temp)\n",
    "\n",
    "# Display the engineered features.\n",
    "df_countries = list2df(results)\n",
    "df_countries.set_index('country',inplace=True)\n",
    "df_countries.sort_index()"
   ]
  },
  {
   "cell_type": "markdown",
   "metadata": {},
   "source": [
    "#### Engineered additional features for comparing countries\n",
    "- ```AvgOrderPrice```: Mean of all order totals for a country.\n",
    "- ```PctOf-orders```: The % of all global orders placed by a country. \n",
    "- ```PctOf-Income ```: The % of all global income (order_totals) placed by a country. \n",
    "- ```orders2-Income```: _Comparing percentage of all orders / percentage on overall income_\n",
    "- ```DiscountGap```:  Country's AvgPrice_Full - AvgPrice_Discounted. "
   ]
  },
  {
   "cell_type": "code",
   "execution_count": null,
   "metadata": {},
   "outputs": [],
   "source": [
    "cleaned = pd.DataFrame(df.drop_duplicates(['OrderId']))\n",
    "\n",
    "# Making average price of sales for each country\n",
    "df_countries['AvgOrderPrice'] = (cleaned.groupby('ShipCountry')['order_total'].mean())\n",
    "\n",
    "\n",
    "#The % of all global orders placed by a country. \n",
    "df_countries['PctOf-orders'] = round((cleaned.groupby('ShipCountry')['OrderId'].count() \n",
    "                                      / cleaned['OrderId'].count().sum()*100),2)\n",
    "\n",
    "# The % of all global income (order_totals) placed by a country. \n",
    "df_countries['PctOf-Income'] = round((cleaned.groupby('ShipCountry')['order_total'].sum()\n",
    "                                    / cleaned['order_total'].sum()*100),2)\n",
    "\n",
    "#Checking results, Three countries had no disc.\n",
    "print(df_countries['PctOf-orders'].sum(),\n",
    "      df_countries['PctOf-Income'].sum()) \n",
    "\n",
    "\n",
    "#comparing percentage of all orders vs percentage on overall income \n",
    "df_countries['orders2-Income'] = (df_countries['PctOf-orders'] \n",
    "                                / df_countries['PctOf-Income'])\n",
    "\n",
    "#finding difference between full price and disc price\n",
    "df_countries['DiscountGap'] = (df_countries['AvgPrice_Full']\n",
    "                             - df_countries['AvgPrice_Disc'])"
   ]
  },
  {
   "cell_type": "code",
   "execution_count": null,
   "metadata": {
    "scrolled": true
   },
   "outputs": [],
   "source": [
    "display(df_countries.round(2).sort_index())"
   ]
  },
  {
   "cell_type": "code",
   "execution_count": null,
   "metadata": {
    "colab": {},
    "colab_type": "code",
    "id": "XGG3cOREHENP"
   },
   "outputs": [],
   "source": [
    "# Add stats to df\n",
    "# Mean\n",
    "# Std. Error Mean\n",
    "# Std. deviation\n",
    "df_header = df_countries.columns\n",
    "\n",
    "country_col_means = pd.Series(df_countries.mean(axis=0)) \n",
    "country_col_sem = pd.Series(df_countries.sem(axis=0))   \n",
    "country_col_std = pd.Series(df_countries.std(axis=0)) \n",
    "\n",
    "df_country_col_means_sem = pd.DataFrame([country_col_means, country_col_sem,\n",
    "                        country_col_std],columns=df_header)\n",
    "df_country_col_means_sem.index = ['mean','sem','std']\n",
    "df_country_col_means_sem.columns=df_countries.columns\n",
    "df_country_col_means_sem"
   ]
  },
  {
   "cell_type": "code",
   "execution_count": null,
   "metadata": {},
   "outputs": [],
   "source": [
    "# Save output if save_for_user == True \n",
    "if save_for_user==True:\n",
    "    df_countries.to_csv(data_filepath+'H4_countries_disc_pref_features.csv')\n",
    "    df_country_col_means_sem.to_csv(data_filepath+'H4_countries_disc_pref_col_means_sem.csv')\n",
    "\n",
    "# Concatenating df_country and mean sem dataframes. \n",
    "df_countries = pd.concat([df_countries, df_country_col_means_sem])"
   ]
  },
  {
   "cell_type": "markdown",
   "metadata": {},
   "source": [
    "#### Grouping countries based on critical value criteria"
   ]
  },
  {
   "cell_type": "code",
   "execution_count": null,
   "metadata": {},
   "outputs": [],
   "source": [
    "# Create different criteria for exploring and anaqlyzing the current df\n",
    "# Used crit3 for determining the samples used in hypothesis 4\n",
    "df_compare = df_countries.drop(['mean','sem','std'], axis=0)\n",
    "# crit = ((df_compare['orders2-Income'] < 1) \n",
    "#         & (df_compare['AvgOrderPrice'] > 1488.357771))\n",
    "\n",
    "# crit2=((df_compare['AvgPrice_Full']> 25.907391) \n",
    "#         & (df_compare['AvgPrice_Disc']> 22.236349))\n",
    "\n",
    "# .433 is the mean value for Quant_Disc/Total\n",
    "crit3 = (df_compare['Quant_Disc/Total'] > 0.433410) \n",
    "\n",
    "winning = df_compare.loc[crit3]\n",
    "losing = df_compare.loc[~crit3]\n",
    "winning.index"
   ]
  },
  {
   "cell_type": "code",
   "execution_count": null,
   "metadata": {},
   "outputs": [],
   "source": [
    "losing.index"
   ]
  },
  {
   "cell_type": "code",
   "execution_count": null,
   "metadata": {},
   "outputs": [],
   "source": [
    "# print(winning.index)"
   ]
  },
  {
   "cell_type": "markdown",
   "metadata": {
    "colab_type": "text",
    "id": "HCQz20HQ7-oY"
   },
   "source": [
    "### ***H4, Aim 1.2: Using EDA to decide best metric for hypothesis***"
   ]
  },
  {
   "cell_type": "code",
   "execution_count": null,
   "metadata": {
    "scrolled": false
   },
   "outputs": [],
   "source": [
    "plt.style.use('default')\n",
    "with plt.style.context('ggplot'):\n",
    "    for col in winning.columns:\n",
    "        fig = plt.figure()\n",
    "\n",
    "        plt.bar(x=winning.index,\n",
    "                height=winning[col],\n",
    "                yerr=df_country_col_means_sem.loc['sem',col])\n",
    "\n",
    "        ax = fig.gca()\n",
    "        ax.set_xticklabels(winning.index, rotation=75)\n",
    "        ax.set_ylabel(col)\n",
    "        ax.axhline(y=0,color='w',ls=':',lw=1)\n",
    "        plt.tight_layout"
   ]
  },
  {
   "cell_type": "code",
   "execution_count": null,
   "metadata": {
    "code_folding": [
     0
    ]
   },
   "outputs": [],
   "source": [
    "# print(\"this cell was error'd on colab\")\n",
    "# # make_stripplot(df_countries,y=df_countries)"
   ]
  },
  {
   "cell_type": "code",
   "execution_count": null,
   "metadata": {
    "scrolled": true
   },
   "outputs": [],
   "source": [
    "plt.style.use('ggplot')\n",
    "df_country_plot = df_countries.drop(['sem','mean','std'],axis=0)\n",
    "for col in df_countries.columns:\n",
    "    fig = plt.figure(figsize=(8,6))\n",
    "\n",
    "    plt.bar(x=df_countries.index, height=df_countries[col],yerr=df_country_col_means_sem.loc['sem',col])#,**bar_kws)\n",
    "    ax = fig.gca()\n",
    "    ax.set_xticklabels(df_countries.index, rotation=75,fontsize=10)\n",
    "    ax.set_title(col)\n",
    "    ax.set_ylabel(col)\n",
    "    plt.tight_layout"
   ]
  },
  {
   "cell_type": "markdown",
   "metadata": {},
   "source": [
    "# Hypothesis 4 > Chosen Specific Hypothesis: \n",
    "> Do countries that buy discounted items in higher-than-average quantities spend more money (have higher order totals)?\n",
    "\n",
    "\n",
    "- $H_1$: Orders shipped to countries where average orders contain higher than average amounts of discounted items per order spend more per order on average than other countries.\n",
    "\n",
    "- $H_0$: Orders shipped to countries where average orders contain higher than average amounts of discounted items per order spend the same per order on average than other countries.\n",
    "\n",
    "\n",
    "  - I am defining countries with higher than average discount prices as the following:\n",
    "   Brazil, Belgium, Austria', Mexico, USA, Sweden, Spain, Ireland, Canada, Denmark.\n",
    "  \n",
    "  "
   ]
  },
  {
   "cell_type": "code",
   "execution_count": null,
   "metadata": {},
   "outputs": [],
   "source": [
    "df_c = df.drop_duplicates('OrderId')\n",
    "df_c.set_index('OrderId',inplace=True)\n",
    "# df_c.head()"
   ]
  },
  {
   "cell_type": "markdown",
   "metadata": {},
   "source": [
    "### Add three more features for easy analysis,\n",
    "- column 'Abovecrit' \n",
    "    - Boolean value for all countries whose discounted items/total order, is above average for all countries\n",
    "- column 'AbovecritGroups'\n",
    "    - subset 'Abovecrit' into 0 for all countries below critical value, and a unique categorical number for each country above.\n",
    "- column 'CountryCode'\n",
    "    - a unique code for each country\n"
   ]
  },
  {
   "cell_type": "code",
   "execution_count": null,
   "metadata": {},
   "outputs": [],
   "source": [
    "# Coding all countries for comparison in a Tukeys test\n",
    "# Anything With a 1-12 met Criteria in crit3\n",
    "country_codes = {\n",
    "    'France':1,'Germany':2,\n",
    "    'Brazil':3, 'Belgium':13, \n",
    "    'Switzerland':4,'Venezuela':14,\n",
    "    'Austria':5,'Mexico':15,\n",
    "    'USA':6,'Sweden':7,\n",
    "    'Finland':16,'Italy':8,\n",
    "    'Spain':9,'UK':17,\n",
    "    'Ireland':10,'Portugal':11,\n",
    "    'Canada':12,'Denmark':18,\n",
    "    'Poland':19,'Norway':20,\n",
    "    'Argentina':21\n",
    "}\n",
    "# if save_for_user ==True:\n",
    "#     pd.country_codes.to_csv()\n",
    "#Unique codes for each country \n",
    "df_c.loc[:,'CountryCode'] = df_c['ShipCountry'].map(country_codes)\n",
    "\n",
    "#Boolean for two groups, Above crit or below\n",
    "df_c.loc[df_c['CountryCode'] <= 12, 'Abovecrit'] = True\n",
    "df_c.loc[df_c['CountryCode'] > 12, 'Abovecrit'] = False\n",
    "\n",
    "#Groups each country above criteria as its own group, rest of pop. isin its own group.\n",
    "df_c.loc[df_c['CountryCode'] > 12, 'AbovecritGroups'] = 0\n",
    "df_c.loc[df_c['CountryCode'] <= 12, 'AbovecritGroups'] = df_c['CountryCode']"
   ]
  },
  {
   "cell_type": "code",
   "execution_count": null,
   "metadata": {},
   "outputs": [],
   "source": [
    "# Make series of 'order_totals' for testing against criteria\n",
    "h4_samp = df_c.groupby('Abovecrit')['order_total'].get_group(1)\n",
    "h4_pop = df_c.groupby('Abovecrit')['order_total'].get_group(0)\n",
    "\n",
    "print(f'High Discount Groups: {h4_pop.mean().round(2)}\\n Low Discount Group {h4_samp.mean().round(2)}')\n",
    "\n",
    "h4_pop= pd.DataFrame(h4_pop)\n",
    "h4_samp= pd.DataFrame(h4_samp)\n",
    "# (h4_samp.head(),\n",
    "# h4_pop.head())"
   ]
  },
  {
   "cell_type": "markdown",
   "metadata": {},
   "source": [
    "### Going back to the original df to test the hypthesis.\n"
   ]
  },
  {
   "cell_type": "code",
   "execution_count": null,
   "metadata": {},
   "outputs": [],
   "source": [
    "plot_wide_kde_thin_bar(h4_samp.order_total,\n",
    "                       'High Discount Countries',\n",
    "                       h4_pop.order_total,\n",
    "                       'Low Discount Countries')\n",
    "if save_for_user==True:\n",
    "    plt.savefig(fig_filepath+'H4_High vs Low Discount Countries KDE bar.png',dpi=300)\n",
    "plt.tight_layout()"
   ]
  },
  {
   "cell_type": "code",
   "execution_count": null,
   "metadata": {},
   "outputs": [],
   "source": [
    "with plt.style.context(('dark_background')):\n",
    "    \n",
    "    sns.set_palette('Dark2')\n",
    "    fig = plt.figure(figsize=(10,6))\n",
    "    plt.title('Distribution of total order:\\n High Discount vs Low Discount Countries')\n",
    "\n",
    "    disc = h4_samp['order_total']\n",
    "    full = h4_pop['order_total']\n",
    "    label = 'Low Discount Group'\n",
    "    \n",
    "    plt.hist(full, alpha = 0.8, bins=30,label=label)\n",
    "    plt.hist(disc, alpha = 0.5, bins=30,label='High Discount Group')\n",
    "\n",
    "    # Adding annotations\n",
    "    meanD = round(np.mean(disc),3)\n",
    "    meanF = round(np.mean(full),3)\n",
    "    \n",
    "    plt.axvline(meanD, color='green',linestyle='--',label='Discounted Mean')\n",
    "    plt.text(meanD,190,f'Mean:{meanD}',rotation=270,fontweight='medium')\n",
    "    \n",
    "    plt.axvline(meanF,color='white',linestyle='-',label='Full Price Mean')\n",
    "    plt.text(meanF, 190, f'Mean:{meanF}',rotation=270,fontweight='medium')\n",
    "\n",
    "    plt.xlabel('order_total')\n",
    "    plt.ylabel('Counts')\n",
    "    plt.legend()\n",
    "    plt.show()"
   ]
  },
  {
   "cell_type": "markdown",
   "metadata": {},
   "source": [
    "## ***H4, Aim 2 : Test for assumptions of normality and equal variance, then choose test***\n",
    "---\n",
    "\n"
   ]
  },
  {
   "cell_type": "code",
   "execution_count": null,
   "metadata": {},
   "outputs": [],
   "source": [
    "H4_tests = [[\n",
    "    'Group:',\n",
    "    'TestName',\n",
    "    'Test Purpose',\n",
    "    'stat','p',\n",
    "    'p < .05'\n",
    "]]"
   ]
  },
  {
   "cell_type": "code",
   "execution_count": null,
   "metadata": {},
   "outputs": [],
   "source": [
    "from scipy.stats import normaltest\n",
    "# Test for normality\n",
    "\n",
    "test_purpose = 'Normality'\n",
    "test_to_run = 'normaltest'\n",
    "\n",
    "arrA = h4_samp.order_total\n",
    "arrB = h4_pop.order_total\n",
    "arrA = np.array(arrA)\n",
    "arrB = np.array(arrB)\n",
    "\n",
    "statA, pA = eval(test_to_run)(arrA)\n",
    "stat, p = eval(test_to_run)(arrB)\n",
    "\n",
    "print('samp:', statA, pA,\n",
    "      '\\n''pop:',stat,p)\n",
    "\n",
    "H4_tests.append(['Sample', test_to_run, \n",
    "                 test_purpose , statA,\n",
    "                 pA, pA < .05])\n",
    "\n",
    "H4_tests.append(['Total Pop', test_to_run, \n",
    "                 test_purpose, stat, p,\n",
    "                 p < .05])"
   ]
  },
  {
   "cell_type": "markdown",
   "metadata": {},
   "source": [
    "### Check variance \n",
    "- levenes test"
   ]
  },
  {
   "cell_type": "code",
   "execution_count": null,
   "metadata": {},
   "outputs": [],
   "source": [
    "from scipy.stats import levene\n",
    "\n",
    "# Levenes test for testing homogeneity of variance\n",
    "# Choose this over Bartlett's due to  dev. from normality\n",
    "# Set to center='median' (default) because of skewed dist,\n",
    "# Use 'mean' for symetrical distribution\n",
    "# Use trimmed for heavy tailed distributions\n",
    "\n",
    "arrA = h4_samp.order_total\n",
    "arrB =h4_pop.order_total\n",
    "\n",
    "test_to_run = 'levene'\n",
    "test_purpose = 'Equal Variance'\n",
    "\n",
    "arrA = np.array(arrA)\n",
    "arrB = np.array(arrB)\n",
    "\n",
    "stat, p = eval(test_to_run)(arrA,arrB,\n",
    "                            center='median')\n",
    "print('sample and pop:', stat,p)\n",
    "\n",
    "H4_tests.append(['sample & pop', test_to_run,\n",
    "                 test_purpose ,stat, p, p < .05])"
   ]
  },
  {
   "cell_type": "markdown",
   "metadata": {},
   "source": [
    "## T-test\n",
    "- Both sample and population are not normal and dont have equal variance.\n",
    "- use Whitney-Mann U"
   ]
  },
  {
   "cell_type": "code",
   "execution_count": null,
   "metadata": {},
   "outputs": [],
   "source": [
    "from scipy.stats import mannwhitneyu\n",
    "# Mann Whitney U test for non normal distributioin\n",
    "#Set alternative to 'greater' for one tail test\n",
    "\n",
    "arrA = h4_samp.order_total\n",
    "arrB =h4_pop.order_total\n",
    "\n",
    "test_to_run = 'mannwhitneyu'\n",
    "test_purpose = 'Hi sig.'\n",
    "\n",
    "arrA = np.array(arrA)\n",
    "arrB = np.array(arrB)\n",
    "\n",
    "stat, p = eval(test_to_run)(arrA,arrB,\n",
    "                            alternative='greater')\n",
    "print('sample and pop:', stat, p)\n",
    "\n",
    "H4_tests.append(['sample and pop', test_to_run,\n",
    "                 test_purpose ,stat, p, p < .05]) "
   ]
  },
  {
   "cell_type": "code",
   "execution_count": null,
   "metadata": {},
   "outputs": [],
   "source": [
    "d = Cohen_d(arrA,arrB)\n",
    "d"
   ]
  },
  {
   "cell_type": "code",
   "execution_count": null,
   "metadata": {},
   "outputs": [],
   "source": [
    "from scipy.stats import ttest_ind\n",
    "\n",
    "# Run a Welch's one sided t_test for unequal homogeneity\n",
    "# equal_var is set false, test compensates for this\n",
    "# Divide in half because it is a one sided test\n",
    "\n",
    "arrA = h4_samp.order_total\n",
    "arrB =h4_pop.order_total\n",
    "\n",
    "test_to_run = \"ttest_ind\"\n",
    "test_purpose = 'signifigance'\n",
    "\n",
    "arrA = np.array(arrA)\n",
    "arrB = np.array(arrB)\n",
    "\n",
    "stat, p = eval(test_to_run)(arrA,arrB,\n",
    "                            equal_var=False)\n",
    "p = p /2 \n",
    "print('sample and pop:', stat, p)\n",
    "\n",
    "H4_tests.append(['sample and pop', test_to_run,\n",
    "                 test_purpose ,stat, p, p < .05])                   "
   ]
  },
  {
   "cell_type": "code",
   "execution_count": null,
   "metadata": {},
   "outputs": [],
   "source": [
    "# Tukeys with subset of countries against the whole population\n",
    "# Create labels\n",
    "# Run Test\n",
    "# Put results in df\n",
    "# Checking for any signifigance\n",
    "from statsmodels.stats.multicomp import pairwise_tukeyhsd as tukey\n",
    "\n",
    "int_str = [str(x) for x in df_c['AbovecritGroups']]\n",
    "\n",
    "tukey_results =tukey(df_c['order_total'],int_str, 0.05)\n",
    "dfH_tukey = pd.DataFrame(data=tukey_results._results_table.data[1:],\n",
    "                         columns=tukey_results._results_table.data[0])\n",
    "dfH_tukey.loc[dfH_tukey['reject']==True]\n",
    "# dfH_tukey"
   ]
  },
  {
   "cell_type": "code",
   "execution_count": null,
   "metadata": {},
   "outputs": [],
   "source": [
    "#Tukey's test with each country compared to each other country\n",
    "\n",
    "int_str = [str(x) for x in df_c['CountryCode']]\n",
    "\n",
    "tukey_results = tukey(df_c['order_total'],\n",
    "                      int_str, 0.05)\n",
    "dfH_tukey = pd.DataFrame(data=tukey_results._results_table.data[1:],\n",
    "                         columns=tukey_results._results_table.data[0])\n",
    "dfH_tukey.loc[dfH_tukey['reject']==True]"
   ]
  },
  {
   "cell_type": "code",
   "execution_count": null,
   "metadata": {},
   "outputs": [],
   "source": [
    "display(list2df(H4_tests))"
   ]
  },
  {
   "cell_type": "markdown",
   "metadata": {},
   "source": [
    "## Hypothesis 4 Conclusions:\n",
    "- Our data had significant results for normality and equal variance tests. \n",
    "- We therefore ran a Mann Whitney on High Discount COuntries vs Low Discount Countries \n",
    "    - We had a significant difference and rejected the null hypothesis \n",
    "    "
   ]
  },
  {
   "cell_type": "code",
   "execution_count": null,
   "metadata": {},
   "outputs": [],
   "source": [
    "with plt.style.context('dark_background'):\n",
    "    fig,ax =plt.subplots(figsize=(12,10))\n",
    "\n",
    "    sns.violinplot(x = 'ShipCountry', y= 'order_total',\n",
    "                   data = df,\n",
    "#                    cut=2,\n",
    "#                    split=True, \n",
    "#                    scale='count',\n",
    "#                    scale_hue=True,\n",
    "                   saturation=.5,\n",
    "                   alpha=.9, \n",
    "#                    bw=.25,\n",
    "#                    palette='Dark2',\n",
    "#                    inner='stick'\n",
    "                  ).set_title('Average Order Total By Country')\n",
    "#     ax.legend()\n",
    "    ax.axhline(y.mean(),\n",
    "               label='total mean',\n",
    "               ls=':',\n",
    "               alpha=.5, \n",
    "               color='xkcd:yellow')\n",
    "    ax.xlabel= x\n",
    "    ylabel= y\n",
    "    ax.set_xticklabels(df['ShipCountry'])\n",
    "    ax.legend()\n",
    "\n",
    "    plt.show()\n"
   ]
  },
  {
   "cell_type": "code",
   "execution_count": null,
   "metadata": {},
   "outputs": [],
   "source": [
    "country_order = df.groupby('ShipCountry')['order_total'].mean()\n",
    "with plt.style.context('dark_backm'):\n",
    "    with sns.color_palette('Dark2'):\n",
    "        fig, ax = plt.subplots()\n",
    "        ax = country_order.plot(kind='bar',\n",
    "                yerr = country_order.sem(),\n",
    "                capsize=4, alpha=.5).set_title('Average Order Totals')\n",
    "        plt.ylabel('Mean Order Total')\n",
    "        plt.show()\n",
    "\n",
    "# plt.savefig(fig_filepath+'Order_Totals_country.png', dpi=300, facecolor='black')"
   ]
  },
  {
   "cell_type": "code",
   "execution_count": null,
   "metadata": {},
   "outputs": [],
   "source": []
  }
 ],
 "metadata": {
  "accelerator": "GPU",
  "colab": {
   "collapsed_sections": [],
   "include_colab_link": true,
   "name": "_Mod2_Project_JMI_04-07-19_H1-H3.ipynb",
   "provenance": [],
   "toc_visible": true,
   "version": "0.3.2"
  },
  "kernelspec": {
   "display_name": "learn-env",
   "language": "python",
   "name": "learn-env"
  },
  "language_info": {
   "codemirror_mode": {
    "name": "ipython",
    "version": 3
   },
   "file_extension": ".py",
   "mimetype": "text/x-python",
   "name": "python",
   "nbconvert_exporter": "python",
   "pygments_lexer": "ipython3",
   "version": "3.6.8"
  },
  "toc": {
   "base_numbering": 1,
   "nav_menu": {},
   "number_sections": false,
   "sideBar": true,
   "skip_h1_title": false,
   "title_cell": "Table of Contents",
   "title_sidebar": "Contents",
   "toc_cell": false,
   "toc_position": {
    "height": "calc(100% - 180px)",
    "left": "10px",
    "top": "150px",
    "width": "452.984px"
   },
   "toc_section_display": true,
   "toc_window_display": true
  },
  "varInspector": {
   "cols": {
    "lenName": 16,
    "lenType": 16,
    "lenVar": 40
   },
   "kernels_config": {
    "python": {
     "delete_cmd_postfix": "",
     "delete_cmd_prefix": "del ",
     "library": "var_list.py",
     "varRefreshCmd": "print(var_dic_list())"
    },
    "r": {
     "delete_cmd_postfix": ") ",
     "delete_cmd_prefix": "rm(",
     "library": "var_list.r",
     "varRefreshCmd": "cat(var_dic_list()) "
    }
   },
   "oldHeight": 525.1999999999999,
   "position": {
    "height": "40px",
    "left": "913px",
    "right": "20px",
    "top": "-15px",
    "width": "759.188px"
   },
   "types_to_exclude": [
    "module",
    "function",
    "builtin_function_or_method",
    "instance",
    "_Feature"
   ],
   "varInspector_section_display": "none",
   "window_display": true
  }
 },
 "nbformat": 4,
 "nbformat_minor": 1
}
