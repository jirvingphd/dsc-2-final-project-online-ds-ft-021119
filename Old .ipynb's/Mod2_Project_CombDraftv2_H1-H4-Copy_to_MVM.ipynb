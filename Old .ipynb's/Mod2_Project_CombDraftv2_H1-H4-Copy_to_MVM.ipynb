{
 "cells": [
  {
   "cell_type": "markdown",
   "metadata": {
    "colab_type": "text",
    "id": "EZeLgicvwwP6"
   },
   "source": [
    "# Module 2 Final Project Submission\n",
    "- Student: James M. Irving, Ph.D.\n",
    "- Github Link: https://github.com/jirvingphd/dsc-2-final-project-online-ds-ft-021119 \n",
    "- Reviewer: Jeff Herman\n",
    "- Review Date: 04/08/19\n",
    "- Blog Post:"
   ]
  },
  {
   "cell_type": "code",
   "execution_count": 1,
   "metadata": {},
   "outputs": [],
   "source": [
    "# Note: By default, the notebook will not save figures and csv files\n",
    "# Change save_for_user to True in order to save outputs. \n",
    "save_for_user = False # will not save. "
   ]
  },
  {
   "cell_type": "markdown",
   "metadata": {
    "colab_type": "text",
    "id": "RXO-WQHYwwQF"
   },
   "source": [
    "___"
   ]
  },
  {
   "cell_type": "markdown",
   "metadata": {
    "colab_type": "text",
    "id": "Oz3uzog5wwQM"
   },
   "source": [
    "# Importing of Packages and Defining Functions"
   ]
  },
  {
   "cell_type": "markdown",
   "metadata": {},
   "source": [
    "### If running on CoLab, uncomment the cell below:"
   ]
  },
  {
   "cell_type": "code",
   "execution_count": 2,
   "metadata": {},
   "outputs": [],
   "source": [
    "# # If running on googe colab\n",
    "# # #CELL A : IF ON COLAB.\n",
    "# # #The northwind.sqlite is located in: content/drive/My Drive/Colab Notebooks/datasets/Northwind_small.sqlite\n",
    "# from google.colab import drive\n",
    "# drive.mount('/content/drive/', force_remount=True)\n",
    "\n",
    "# # # If in Google Drive \n",
    "# path= '/content/drive/My Drive/Colab Notebooks/datasets/'\n",
    "# file='Northwind_small.sqlite'\n",
    "# filepath = path+file\n",
    "# # filepath = '/content/drive/My Drive/Colab Notebooks/datasets/Northwind_small.sqlite'\n",
    "# #NOTE: To save files to drive, just to df.to_csv(path+'filename.csv')\n",
    "\n",
    "# If local:\n",
    "filepath = 'Northwind_small.sqlite'"
   ]
  },
  {
   "cell_type": "markdown",
   "metadata": {
    "colab_type": "text",
    "id": "PVjqeNPowwQN"
   },
   "source": [
    "## Import packages:"
   ]
  },
  {
   "cell_type": "code",
   "execution_count": 3,
   "metadata": {
    "colab": {
     "base_uri": "https://localhost:8080/",
     "height": 70
    },
    "colab_type": "code",
    "id": "vl-HKeJJwwQP",
    "outputId": "2b80e15e-b784-444e-d058-4017f00ef66a"
   },
   "outputs": [],
   "source": [
    "# Normal packages\n",
    "import pandas as pd\n",
    "import numpy as np\n",
    "import seaborn as sns\n",
    "import matplotlib.pyplot as plt\n",
    "import matplotlib.ticker as mtick\n",
    "%matplotlib inline\n",
    "\n",
    "# Statsmodels\n",
    "\n",
    "import statsmodels.api as sm\n",
    "import statsmodels.formula.api as smf\n",
    "import statsmodels.stats.api as sms\n",
    "\n",
    "import scipy.stats as stats\n",
    "\n",
    "\n",
    "# Counter\n",
    "from collections import Counter\n",
    "\n",
    "# Sklearn\n",
    "from sklearn.model_selection import train_test_split\n",
    "from sklearn.feature_selection import RFE\n",
    "from sklearn.linear_model import LinearRegression\n",
    "from sklearn.metrics import mean_squared_error\n",
    "from sklearn.preprocessing import MinMaxScaler\n",
    "from sklearn.preprocessing import RobustScaler\n",
    "import sklearn.metrics as metrics\n",
    "\n",
    "\n",
    "import sqlalchemy\n",
    "from sqlalchemy import create_engine\n",
    "from sqlalchemy.orm import Session, sessionmaker\n",
    "from sqlalchemy import inspect"
   ]
  },
  {
   "cell_type": "markdown",
   "metadata": {
    "colab_type": "text",
    "id": "s6AsUbfMwwQU"
   },
   "source": [
    "## Defining Functions"
   ]
  },
  {
   "cell_type": "markdown",
   "metadata": {
    "colab_type": "text",
    "id": "O0xNoo6vwwQV"
   },
   "source": [
    "### def check_column"
   ]
  },
  {
   "cell_type": "code",
   "execution_count": 4,
   "metadata": {
    "colab": {},
    "colab_type": "code",
    "id": "UEz2Osm_wwQW"
   },
   "outputs": [],
   "source": [
    "# Check columns returns the datatype, null values and unique values of input series \n",
    "def check_column(series,nlargest='all'):\n",
    "    print(f\"Column: df['{series.name}']':\")\n",
    "    print(f\"dtype: {series.dtype}\")\n",
    "    print(f\"isna: {series.isna().sum()} out of {len(series)} - {round(series.isna().sum()/len(series)*100,3)}%\")\n",
    "        \n",
    "    print(f'\\nUnique non-na values:') #,df['waterfront'].unique())\n",
    "    if nlargest =='all':\n",
    "        print(series.value_counts())\n",
    "    else:\n",
    "        print(series.value_counts().nlargest(nlargest))"
   ]
  },
  {
   "cell_type": "markdown",
   "metadata": {
    "colab_type": "text",
    "id": "Qk9N1jMywwQf"
   },
   "source": [
    "### def detect_outliers"
   ]
  },
  {
   "cell_type": "code",
   "execution_count": 5,
   "metadata": {
    "colab": {},
    "colab_type": "code",
    "id": "LzpDuDd5wwQg"
   },
   "outputs": [],
   "source": [
    "# Tukey's method using IQR to eliminate \n",
    "def detect_outliers(df, n, features):\n",
    "    \"\"\"Uses Tukey's method to return outer of interquartile ranges to return indices if outliers in a dataframe.\n",
    "    Parameters:\n",
    "    df (DataFrame): DataFrane containing columns of features\n",
    "    n: default is 0, multiple outlier cutoff  \n",
    "    \n",
    "    Returns:\n",
    "    Index of outliers for .loc\n",
    "    \n",
    "    Examples:\n",
    "    Outliers_to_drop = detect_outliers(data,2,[\"col1\",\"col2\"]) Returning value\n",
    "    df.loc[Outliers_to_drop] # Show the outliers rows\n",
    "    data= data.drop(Outliers_to_drop, axis = 0).reset_index(drop=True)\n",
    "   \"\"\"\n",
    "\n",
    "# Drop outliers    \n",
    "\n",
    "    outlier_indices = []\n",
    "    # iterate over features(columns)\n",
    "    for col in features:\n",
    "        \n",
    "        # 1st quartile (25%)\n",
    "        Q1 = np.percentile(df[col], 25)\n",
    "        # 3rd quartile (75%)\n",
    "        Q3 = np.percentile(df[col],75)\n",
    "        \n",
    "        # Interquartile range (IQR)\n",
    "        IQR = Q3 - Q1\n",
    "        # outlier step\n",
    "        outlier_step = 1.5 * IQR\n",
    "        \n",
    "        # Determine a list of indices of outliers for feature col\n",
    "        outlier_list_col = df[(df[col] < Q1 - outlier_step) | (df[col] > Q3 + outlier_step )].index\n",
    "        \n",
    "        # append the found outlier indices for col to the list of outlier indices \n",
    "        outlier_indices.extend(outlier_list_col)\n",
    "        \n",
    "        # select observations containing more than 2 outliers\n",
    "        outlier_indices = Counter(outlier_indices)        \n",
    "        multiple_outliers = list( k for k, v in outlier_indices.items() if v > n )\n",
    "    return multiple_outliers \n"
   ]
  },
  {
   "cell_type": "markdown",
   "metadata": {
    "colab_type": "text",
    "id": "GDzeDK5gwwQk"
   },
   "source": [
    "### def plot_hist_scat_sns"
   ]
  },
  {
   "cell_type": "code",
   "execution_count": 6,
   "metadata": {
    "colab": {},
    "colab_type": "code",
    "id": "MITbzaCcwwQl"
   },
   "outputs": [],
   "source": [
    "# Plots histogram and scatter (vs price) side by side\n",
    "def plot_hist_scat_sns(df, target='index'):\n",
    "    \"\"\"Plots seaborne distplots and regplots for columns im datamframe vs target.\n",
    "\n",
    "    Parameters:\n",
    "    df (DataFrame): DataFrame.describe() columns will be used. \n",
    "    target = name of column containing target variable.assume first coluumn. \n",
    "    \n",
    "    Returns:\n",
    "    Figures for each column vs target with 2 subplots.\n",
    "   \"\"\"\n",
    "    import matplotlib.ticker as mtick\n",
    "    import matplotlib.pyplot as plt\n",
    "    import seaborn as sns\n",
    "    \n",
    "    with plt.style.context(('dark_background')):\n",
    "        ###  DEFINE AESTHETIC CUSTOMIZATIONS  -------------------------------##\n",
    "\n",
    "\n",
    "#         plt.style.use('dark_background')\n",
    "        figsize=(9,7)\n",
    "\n",
    "        # Axis Label fonts\n",
    "        fontTitle = {'fontsize': 14,\n",
    "                   'fontweight': 'bold',\n",
    "                    'fontfamily':'serif'}\n",
    "\n",
    "        fontAxis = {'fontsize': 12,\n",
    "                   'fontweight': 'medium',\n",
    "                    'fontfamily':'serif'}\n",
    "\n",
    "        fontTicks = {'fontsize': 8,\n",
    "                   'fontweight':'medium',\n",
    "                    'fontfamily':'serif'}\n",
    "\n",
    "        # Formatting dollar sign labels\n",
    "        fmtPrice = '${x:,.0f}'\n",
    "        tickPrice = mtick.StrMethodFormatter(fmtPrice)\n",
    "\n",
    "\n",
    "        ###  PLOTTING ----------------------------- ------------------------ ##\n",
    "\n",
    "        # Loop through dataframe to plot\n",
    "        for column in df.describe():\n",
    "#             print(f'\\nCurrent column: {column}')\n",
    "\n",
    "            # Create figure with subplots for current column\n",
    "            fig, ax = plt.subplots(figsize=figsize, ncols=2, nrows=2)\n",
    "\n",
    "            ##  SUBPLOT 1 --------------------------------------------------##\n",
    "            i,j = 0,0\n",
    "            ax[i,j].set_title(column.capitalize(),fontdict=fontTitle)\n",
    "\n",
    "            # Define graphing keyword dictionaries for distplot (Subplot 1)\n",
    "            hist_kws = {\"linewidth\": 1, \"alpha\": 1, \"color\": 'blue','edgecolor':'w'}\n",
    "            kde_kws = {\"color\": \"white\", \"linewidth\": 1, \"label\": \"KDE\"}\n",
    "\n",
    "            # Plot distplot on ax[i,j] using hist_kws and kde_kws\n",
    "            sns.distplot(df[column], norm_hist=True, kde=True,\n",
    "                         hist_kws = hist_kws, kde_kws = kde_kws,\n",
    "                         label=column+' histogram', ax=ax[i,j])\n",
    "\n",
    "\n",
    "            # Set x axis label\n",
    "            ax[i,j].set_xlabel(column.title(),fontdict=fontAxis)\n",
    "\n",
    "            # Get x-ticks, rotate labels, and return\n",
    "            xticklab1 = ax[i,j].get_xticklabels(which = 'both')\n",
    "            ax[i,j].set_xticklabels(labels=xticklab1, fontdict=fontTicks, rotation=0)\n",
    "            ax[i,j].xaxis.set_major_formatter(mtick.ScalarFormatter())\n",
    "\n",
    "\n",
    "            # Set y-label \n",
    "            ax[i,j].set_ylabel('Density',fontdict=fontAxis)\n",
    "            yticklab1=ax[i,j].get_yticklabels(which='both')\n",
    "            ax[i,j].set_yticklabels(labels=yticklab1,fontdict=fontTicks)\n",
    "            ax[i,j].yaxis.set_major_formatter(mtick.ScalarFormatter())\n",
    "\n",
    "\n",
    "            # Set y-grid\n",
    "            ax[i, j].set_axisbelow(True)\n",
    "            ax[i, j].grid(axis='y',ls='--')\n",
    "\n",
    "\n",
    "\n",
    "\n",
    "            ##  SUBPLOT 2-------------------------------------------------- ##\n",
    "            i,j = 0,1\n",
    "            ax[i,j].set_title(column.capitalize(),fontdict=fontTitle)\n",
    "\n",
    "            # Define the kwd dictionaries for scatter and regression line (subplot 2)\n",
    "            line_kws={\"color\":\"white\",\"alpha\":0.5,\"lw\":4,\"ls\":\":\"}\n",
    "            scatter_kws={'s': 2, 'alpha': 0.5,'marker':'.','color':'blue'}\n",
    "\n",
    "            # Plot regplot on ax[i,j] using line_kws and scatter_kws\n",
    "            sns.regplot(df[column], df[target], \n",
    "                        line_kws = line_kws,\n",
    "                        scatter_kws = scatter_kws,\n",
    "                        ax=ax[i,j])\n",
    "\n",
    "            # Set x-axis label\n",
    "            ax[i,j].set_xlabel(column.title(),fontdict=fontAxis)\n",
    "\n",
    "             # Get x ticks, rotate labels, and return\n",
    "            xticklab2=ax[i,j].get_xticklabels(which='both')\n",
    "            ax[i,j].set_xticklabels(labels=xticklab2,fontdict=fontTicks, rotation=0)\n",
    "            ax[i,j].xaxis.set_major_formatter(mtick.ScalarFormatter())\n",
    "\n",
    "            # Set  y-axis label\n",
    "            ax[i,j].set_ylabel(target,fontdict=fontAxis)\n",
    "\n",
    "            # Get, set, and format y-axis Price labels\n",
    "            yticklab = ax[i,j].get_yticklabels()\n",
    "            ax[i,j].set_yticklabels(yticklab,fontdict=fontTicks)\n",
    "            ax[i,j].yaxis.set_major_formatter(mtick.ScalarFormatter())\n",
    "\n",
    "    #         ax[i,j].get_yaxis().set_major_formatter(tickPrice) \n",
    "\n",
    "            # Set y-grid\n",
    "            ax[i, j].set_axisbelow(True)\n",
    "            ax[i, j].grid(axis='y',ls='--')       \n",
    "\n",
    "            ## ---------- Final layout adjustments ----------- ##\n",
    "            # Deleted unused subplots \n",
    "            fig.delaxes(ax[1,1])\n",
    "            fig.delaxes(ax[1,0])\n",
    "\n",
    "            # Optimizing spatial layout\n",
    "            fig.tight_layout()\n",
    "            figtitle=column+'_dist_regr_plots.png'\n",
    "#             plt.savefig(figtitle)\n",
    "    return "
   ]
  },
  {
   "cell_type": "markdown",
   "metadata": {
    "colab_type": "text",
    "id": "2exBRnep4NL_"
   },
   "source": [
    "### def plot_wide_kde_mean_sem_bar()"
   ]
  },
  {
   "cell_type": "code",
   "execution_count": 7,
   "metadata": {
    "colab": {},
    "colab_type": "code",
    "id": "NinCj-Lp4NMA"
   },
   "outputs": [],
   "source": [
    "def plot_wide_kde_thin_bar(series1,sname1, series2, sname2,**kwargs):\n",
    "    '''Plot series1 and series 2 on wide kde plot with small mean+sem bar plot.\n",
    "    **kwargs include:\n",
    "        title_var -- the variable that will appear in the title of both graphs. \n",
    "    '''\n",
    "    \n",
    "    ## ADDING add_gridspec usage\n",
    "    import pandas as pd\n",
    "    import numpy as np\n",
    "    from scipy.stats import sem\n",
    "\n",
    "    import matplotlib.pyplot as plt\n",
    "    import matplotlib as mpl\n",
    "    import matplotlib.ticker as ticker\n",
    "    %matplotlib inline\n",
    "\n",
    "    import seaborn as sns\n",
    "\n",
    "    from matplotlib import rcParams\n",
    "    from matplotlib import rc\n",
    "#     mpl.rcdefaults()\n",
    "#     rcParams['font.family'] = 'serif'\n",
    "#     rcParams['hatch.color'] = 'gray'\n",
    "#     plt.rcParams[\"axes.edgecolor\"] = \"black\"\n",
    "    mpl.rcParams['hatch.linewidth'] = 0.5\n",
    "    \n",
    "    title=series1.name\n",
    "    for k,v in kwargs.items():\n",
    "        if k.lower() == 'title_var':\n",
    "            title = v.title()\n",
    "\n",
    "    # Plot distributions of discounted vs full price groups\n",
    "#     plt.style.use('default')\n",
    "    # with plt.style.context(('tableau-colorblind10')):\n",
    "    with plt.style.context(('dark_background')):\n",
    "\n",
    "        \n",
    "\n",
    "        ## ----------- DEFINE AESTHETIC CUSTOMIZATIONS ----------- ##\n",
    "       # Axis Label fonts\n",
    "        fontSuptitle ={'fontsize': 16,\n",
    "                   'fontweight': 'bold',\n",
    "                    'fontfamily':'serif'}\n",
    "\n",
    "        fontTitle = {'fontsize': 14,\n",
    "                   'fontweight': 'medium',\n",
    "                    'fontfamily':'serif'}\n",
    "\n",
    "        fontAxis = {'fontsize': 12,\n",
    "                   'fontweight': 'medium',\n",
    "                    'fontfamily':'serif'}\n",
    "\n",
    "        fontTicks = {'fontsize': 10,\n",
    "                   'fontweight':'medium', \n",
    "                    'fontfamily':'serif'}\n",
    "\n",
    "\n",
    "        ## --------- CREATE FIG BASED ON GRIDSPEC --------- ##\n",
    "        \n",
    "        plt.suptitle(title+' of Units Sold', fontdict = fontSuptitle)\n",
    "\n",
    "        # Create fig object and declare figsize\n",
    "        fig = plt.figure(constrained_layout=True, figsize=(10,5))\n",
    "        \n",
    "        \n",
    "        # Define gridspec to create grid coordinates             \n",
    "        gs = fig.add_gridspec(nrows=1,ncols=9)\n",
    "\n",
    "        # Assign grid space to ax with add_subplot\n",
    "        ax0 = fig.add_subplot(gs[0,0:7])\n",
    "        ax1 = fig.add_subplot(gs[0,7:9])\n",
    "        \n",
    "        #Combine into 1 list\n",
    "        ax = [ax0,ax1]\n",
    "        \n",
    "        ### ------------------  SUBPLOT 1  ------------------ ###\n",
    "\n",
    "        ## --------- Defining series1 and 2 for subplot 1------- ##\n",
    "        ax[0].set_title('Distribution of '+title,fontdict=fontTitle)\n",
    "\n",
    "        # Group 1: data, label, hist_kws and kde_kws\n",
    "        plotS1 = {'data': series1, 'label': sname1.title(),\n",
    "\n",
    "                   'hist_kws' :\n",
    "                    {'edgecolor': 'white', 'color':'darkgray','alpha': 1, 'lw':1},\n",
    "                    #'hatch':'//'},\n",
    "\n",
    "                   'kde_kws':\n",
    "                    {'color':'white', 'linestyle': '-', 'linewidth':2,\n",
    "                     'label':'kde'}}\n",
    "\n",
    "        # Group 2: data, label, hist_kws and kde_kws\n",
    "        plotS2 = {'data': series2,\n",
    "                    'label': sname2.title(), \n",
    "\n",
    "                    'hist_kws' :\n",
    "                    {'edgecolor': 'white','color':'lightgreen','alpha':0.8 ,'lw':1,'hatch':'//'},\n",
    "\n",
    "\n",
    "                    'kde_kws':\n",
    "                    {'color':'darkgreen','linestyle':'-','linewidth':2,'label':'kde'}}\n",
    "        \n",
    "        # plot group 1\n",
    "        sns.distplot(plotS1['data'], label=plotS1['label'],\n",
    "                   \n",
    "                     hist_kws = plotS1['hist_kws'], kde_kws = plotS1['kde_kws'],\n",
    "                     \n",
    "                     ax=ax[0])   \n",
    "      \n",
    "\n",
    "        # plot group 2\n",
    "        sns.distplot(plotS2['data'], label=plotS2['label'],\n",
    "                     \n",
    "                     hist_kws=plotS2['hist_kws'], kde_kws = plotS2['kde_kws'],\n",
    "                     \n",
    "                     ax=ax[0])\n",
    "\n",
    "        # X label\n",
    "        xlabel = series1.name\n",
    "        xl = xlabel.replace('_',' ').title()\n",
    "        ax[0].set_xlabel(xl,fontdict=fontAxis)\n",
    "        ax[0].set_ylabel('Kernel Density Estimation',fontdict=fontAxis)\n",
    "        # ticks/legend\n",
    "        ax[0].tick_params(axis='both',labelsize=fontTicks['fontsize'])   \n",
    "        ax[0].legend()\n",
    "\n",
    "        \n",
    "#         # annotating lines with means\n",
    "#         meanS1 = np.mean(plotS1['data'])\n",
    "#         meanS2 = np.mean(plotS2['data'])\n",
    "        \n",
    "#         ax[0].axvline(meanS1, linestyle='--',label=sname1)\n",
    "#         ax[0].text(meanS1,0,f'Mean:{meanS1:.2f}',rotation=90)\n",
    "    \n",
    "#         ax[0].axvline(meanS2,color='k',linestyle='--',label=sname2)\n",
    "#         ax[0].text(meanS2,0,f'Mean:{meanS2:.2f}',rotation=90)\n",
    "        \n",
    "        \n",
    "        ### ------------------  SUBPLOT 2  ------------------ ###\n",
    "        \n",
    "        # Import scipy for error bars\n",
    "        from scipy.stats import sem\n",
    "    \n",
    "        # Declare x y group labels(x) and bar heights(y)\n",
    "        x = [plotS1['label'], plotS2['label']]\n",
    "        y = [np.mean(plotS1['data']), np.mean(plotS2['data'])]\n",
    "    \n",
    "        yerr = [sem(plotS1['data']), sem(plotS2['data'])]\n",
    "        err_kws = {'ecolor':'white','capsize':4,'capthick':2,'elinewidth':2}\n",
    "\n",
    "        # Create the bar plot\n",
    "        ax[1].bar(x,y, align='edge', edgecolor='white',linewidth=2, color =[plotS1['hist_kws']['color'],plotS2['hist_kws']['color']],\n",
    "                  yerr=yerr,error_kw=err_kws, width=0.6,)\n",
    "\n",
    "        \n",
    "        # Customize subplot 2\n",
    "        ax[1].set_title('Average '+title,fontdict=fontTitle)\n",
    "        ax[1].set_ylabel('Mean +/- SEM ',fontdict=fontAxis)\n",
    "        ax[1].set_xlabel('')\n",
    "        \n",
    "        ax[1].tick_params(axis=y,labelsize=fontTicks['fontsize'])\n",
    "        ax[1].tick_params(axis=x,labelsize=fontTicks['fontsize']) \n",
    "\n",
    "        ax1=ax[1]\n",
    "        test = ax1.get_xticklabels()\n",
    "        labels = [x.get_text() for x in test]\n",
    "        ax1.set_xticklabels([plotS1['label'],plotS2['label']], rotation=45,ha='center',fontdict=fontAxis)\n",
    "        \n",
    "        print(f\"Mean of {plotS1['label']}: {np.mean(plotS1['data'])}\\n Mean of {plotS2['label']}: {np.mean(plotS2['data'])}\")\n",
    "\n",
    "#         plt.tight_layout()\n",
    "        plt.show()\n",
    "        return fig,ax\n",
    "    \n",
    "    \n"
   ]
  },
  {
   "cell_type": "markdown",
   "metadata": {
    "colab_type": "text",
    "id": "nkPB_HcdwwQo"
   },
   "source": [
    "### def list2df"
   ]
  },
  {
   "cell_type": "code",
   "execution_count": 8,
   "metadata": {
    "colab": {},
    "colab_type": "code",
    "id": "TwdV-j85wwQp"
   },
   "outputs": [],
   "source": [
    "def list2df(list):#, sort_values='index'):\n",
    "    \"\"\" Take in a list where row[0] = column_names and outputs a dataframe.\n",
    "    \n",
    "    Keyword arguments:\n",
    "    set_index -- df.set_index(set_index)\n",
    "    sortby -- df.sorted()\n",
    "    \"\"\"    \n",
    "    \n",
    "    df_list = pd.DataFrame(list[1:],columns=list[0])\n",
    "#     df_list = df_list[1:]\n",
    "\n",
    "    return df_list"
   ]
  },
  {
   "cell_type": "markdown",
   "metadata": {
    "colab_type": "text",
    "id": "ekTOehxHwwQu"
   },
   "source": [
    "### def get_col_info"
   ]
  },
  {
   "cell_type": "code",
   "execution_count": 9,
   "metadata": {
    "colab": {},
    "colab_type": "code",
    "id": "LOaNcafFwwQv"
   },
   "outputs": [],
   "source": [
    "def  get_col_info(col_name):\n",
    "    \"\"\"Gets the column names and data types from the alchamey inspector object.\n",
    "    Returns column_info dataframe of table details.\n",
    "    \"\"\"\n",
    "    col_list = inspector.get_columns(col_name)\n",
    "    \n",
    "    column_info = [['table','column','dtype']]\n",
    "    print(f'Table Name: {col_name}\\n')\n",
    "\n",
    "    for col in col_list:\n",
    "        column_info.append([str(col_name),col['name'], col['type']])\n",
    "        \n",
    "    df = list2df(column_info)\n",
    "    return column_info"
   ]
  },
  {
   "cell_type": "markdown",
   "metadata": {
    "colab_type": "text",
    "id": "O7Xq2RqAR0va"
   },
   "source": [
    "### def describe_outliers"
   ]
  },
  {
   "cell_type": "code",
   "execution_count": 10,
   "metadata": {
    "colab": {},
    "colab_type": "code",
    "id": "Ne6vEM4CwwQ3"
   },
   "outputs": [],
   "source": [
    "# describe_outliers -- calls detect_outliers\n",
    "def describe_outliers(df):\n",
    "    \"\"\" Returns a new_df of outliers, and % outliers each col using detect_outliers.\n",
    "    \"\"\"\n",
    "    out_count = 0\n",
    "    new_df = pd.DataFrame(columns=['total_outliers', 'percent_total'])\n",
    "    for col in df.columns:\n",
    "        outies = detect_outliers(df[col])\n",
    "        out_count += len(outies) \n",
    "        new_df.loc[col] = [len(outies), round((len(outies)/len(df.index))*100, 2)]\n",
    "    new_df.loc['grand_total'] = [sum(new_df['total_outliers']), sum(new_df['percent_total'])]\n",
    "    return new_df"
   ]
  },
  {
   "cell_type": "markdown",
   "metadata": {
    "colab_type": "text",
    "id": "XrvSuzkKwwQz"
   },
   "source": [
    "### def get_full_table_info"
   ]
  },
  {
   "cell_type": "code",
   "execution_count": 11,
   "metadata": {
    "colab": {},
    "colab_type": "code",
    "id": "A0bruXiLwwQ0"
   },
   "outputs": [],
   "source": [
    "def  get_full_table_info(engine):\n",
    "    \"\"\"Gets the table names, their column namesand data types engine.\n",
    "    Returns column_info dataframe of table details.\n",
    "    \"\"\"\n",
    "    column_info = [['table','column','dtype']]\n",
    "    \n",
    "    list_tables= engine.table_names()\n",
    "    \n",
    "    for table in list_tables:\n",
    "        \n",
    "        col_list = inspector.get_columns(table)\n",
    "        \n",
    "        for col in col_list:\n",
    "            \n",
    "            column_info.append([str(table),col['name'], col['type'],col['']])\n",
    "            inspector.get_foreign_keys()\n",
    "    \n",
    "    df = list2df(column_info)\n",
    "    return df"
   ]
  },
  {
   "cell_type": "markdown",
   "metadata": {
    "colab_type": "text",
    "id": "EDLKQNdKR4Cb"
   },
   "source": [
    "### def Cohen's d "
   ]
  },
  {
   "cell_type": "code",
   "execution_count": 12,
   "metadata": {
    "colab": {},
    "colab_type": "code",
    "id": "F_vkRMKMRO0Z"
   },
   "outputs": [],
   "source": [
    "#### Cohen's d\n",
    "def Cohen_d(group1, group2):\n",
    "    # Compute Cohen's d.\n",
    "    # group1: Series or NumPy array\n",
    "    # group2: Series or NumPy array\n",
    "    # returns a floating point number \n",
    "    diff = group1.mean() - group2.mean()\n",
    "\n",
    "    n1, n2 = len(group1), len(group2)\n",
    "    var1 = group1.var()\n",
    "    var2 = group2.var()\n",
    "\n",
    "    # Calculate the pooled threshold as shown earlier\n",
    "    pooled_var = (n1 * var1 + n2 * var2) / (n1 + n2)\n",
    "    \n",
    "    # Calculate Cohen's d statistic\n",
    "    d = diff / np.sqrt(pooled_var)\n",
    "    \n",
    "    return d\n",
    "\n",
    "\n",
    "def plot_pdfs(cohen_d=2):\n",
    "    \"\"\"Plot PDFs for distributions that differ by some number of stds.\n",
    "    \n",
    "    cohen_d: number of standard deviations between the means\n",
    "    \"\"\"\n",
    "    group1 = scipy.stats.norm(0, 1)\n",
    "    group2 = scipy.stats.norm(cohen_d, 1)\n",
    "    xs, ys = evaluate_PDF(group1)\n",
    "    pyplot.fill_between(xs, ys, label='Group1', color='#ff2289', alpha=0.7)\n",
    "\n",
    "    xs, ys = evaluate_PDF(group2)\n",
    "    pyplot.fill_between(xs, ys, label='Group2', color='#376cb0', alpha=0.7)\n",
    "    \n",
    "    o, s = overlap_superiority(group1, group2)\n",
    "    print('overlap', o)\n",
    "    print('superiority', s)\n",
    "   "
   ]
  },
  {
   "cell_type": "code",
   "execution_count": null,
   "metadata": {},
   "outputs": [],
   "source": []
  },
  {
   "cell_type": "markdown",
   "metadata": {},
   "source": [
    "### def calc_product_price, def calc_order_total"
   ]
  },
  {
   "cell_type": "code",
   "execution_count": 13,
   "metadata": {
    "colab": {
     "base_uri": "https://localhost:8080/",
     "height": 196
    },
    "colab_type": "code",
    "id": "05KbXlvlTvlt",
    "outputId": "6721abd7-a5e0-4f4c-9699-14e02f1d902a"
   },
   "outputs": [],
   "source": [
    "# Source of df = pd.read_sql_query(\"SELECT * FROM OrderDetail\",  engine)\n",
    "\n",
    "# Define calc_product_review to add product price column\n",
    "def calc_product_price(row):\n",
    "    '''Calculates the sub-total for the product in the row. \n",
    "    Classifies the product as OnSale or not. \n",
    "    Sub-total =  [UnitPrice*(1-Discount)*Quantity\n",
    "    \n",
    "    Returns:\n",
    "    New columns OnSale and price'''\n",
    "    \n",
    "    price = row['UnitPrice']*(1-row['Discount'])*row['Quantity']\n",
    "    row['price'] = price\n",
    "    if row['Discount']>0:\n",
    "        row['OnSale'] = 1\n",
    "    else:\n",
    "        row['OnSale'] = 0\n",
    "    return row    \n",
    "\n",
    "# Use calc_order_total to fill in order_total column\n",
    "def calc_order_total(row,df):\n",
    "    '''Takes in a specific row and the whole dataframe.\n",
    "    Groupby OrderID. Classify as discounted_order if any\n",
    "    item was on discount. \n",
    "    Returns row with added 'discounted_order' category and \n",
    "    'order_total' '''\n",
    "    order = row['OrderId']\n",
    "    df_temp = df.groupby('OrderId').get_group(order)\n",
    "\n",
    "    \n",
    "    if any(df_temp['OnSale']):\n",
    "        row['discounted_order'] = 1\n",
    "    else:\n",
    "        row['discounted_order'] = 0\n",
    "    \n",
    "    order_total = df_temp['price'].sum()\n",
    "    row['order_total'] = order_total\n",
    "    \n",
    "    return row"
   ]
  },
  {
   "cell_type": "markdown",
   "metadata": {
    "colab_type": "text",
    "id": "3_vNJ71YdowX"
   },
   "source": [
    "#### def quant_transform "
   ]
  },
  {
   "cell_type": "code",
   "execution_count": 14,
   "metadata": {
    "colab": {},
    "colab_type": "code",
    "id": "B153AuFidowY"
   },
   "outputs": [],
   "source": [
    "# TRANSFORM DATA BEFORE RE-CALLING ORIGINAL normtest_results\n",
    "def quant_transform(data_in):\n",
    "    '''Use sklearn.preprocessing.QuantileTransformer to remove outliers from dataset.\n",
    "    \n",
    "    Parameters:\n",
    "        data_in (dict) -- dictionary with data series as values to be processed.\n",
    "    Returns: \n",
    "        data_tf (dict) -- dicionary of same keys from data_in, but transformed.\n",
    "        '''\n",
    "    \n",
    "    from sklearn import preprocessing as prep \n",
    "    from sklearn.preprocessing import QuantileTransformer\n",
    "\n",
    "    qt =  QuantileTransformer(n_quantiles=10,output_distribution='normal')\n",
    "    data_tf = {}\n",
    "    for k,v in data_in.items():    \n",
    "        data = np.array(v).reshape(-1,1)\n",
    "        transformed = pd.Series(np.squeeze(qt.fit_transform(data)))\n",
    "      \n",
    "        data_tf[k] = transformed\n",
    "    \n",
    "    return data_tf"
   ]
  },
  {
   "cell_type": "markdown",
   "metadata": {
    "colab_type": "text",
    "id": "cC9pxUInUYo9"
   },
   "source": [
    "## Define plotting functions for looking at each month individually \n"
   ]
  },
  {
   "cell_type": "markdown",
   "metadata": {
    "colab_type": "text",
    "id": "cPcTIgoDX4u-"
   },
   "source": [
    "### def make_violinplot"
   ]
  },
  {
   "cell_type": "code",
   "execution_count": 15,
   "metadata": {
    "colab": {},
    "colab_type": "code",
    "id": "iR1kdhfiT8J_"
   },
   "outputs": [],
   "source": [
    "# plotting order totals per month in violin plots\n",
    "\n",
    "def make_violinplot(x,y, title=None, hue=None, ticklabels=None):\n",
    "  \n",
    "  '''Plots a violin plot with horizontal mean line, inner stick lines'''\n",
    "  \n",
    "  plt.style.use('dark_background')\n",
    "  fig,ax =plt.subplots(figsize=(12,10))\n",
    "\n",
    "\n",
    "  sns.violinplot(x, y,cut=2,split=True, scale='count', scale_hue=True,\n",
    "                 saturation=.5, alpha=.9,bw=.25, palette='Dark2',inner='stick', hue=hue).set_title(title)\n",
    "\n",
    "  ax.axhline(y.mean(),label='total mean', ls=':', alpha=.5, color='xkcd:yellow')\n",
    "  ax.set_xticklabels(ticklabels)\n",
    "\n",
    "  plt.legend()\n",
    "  plt.show()\n",
    "  x= df_year_orders['month']\n",
    "  y= df_year_orders['order_total']\n",
    "  title = 'Order totals per month with or without discounts'\n",
    "  hue=df_year_orders['Discount']>0"
   ]
  },
  {
   "cell_type": "markdown",
   "metadata": {
    "colab_type": "text",
    "id": "5ZXCOjzFbspu"
   },
   "source": [
    "### def make-stripplot"
   ]
  },
  {
   "cell_type": "code",
   "execution_count": 16,
   "metadata": {
    "colab": {},
    "colab_type": "code",
    "id": "S9Yyn3cBbw7r"
   },
   "outputs": [],
   "source": [
    "def make_stripplot(x, y, title=None, hue=None, ticklabels=None):\n",
    "\n",
    "  plt.style.use('dark_background')\n",
    "  fig,ax =plt.subplots(figsize=(8,6))\n",
    "\n",
    "\n",
    "  sns.stripplot(x, y, jitter=True, size=12,edgecolor='gray',linewidth=1.5, alpha=.5, palette='Dark2',marker='d', hue=hue).set_title(title)\n",
    "\n",
    "  ax.axhline(y.mean(),label='total mean', ls=':', alpha=.5, color='xkcd:yellow')\n",
    "  ax.set_xticklabels(ticklabels)\n",
    "\n",
    "  plt.legend()\n",
    "  plt.show()\n"
   ]
  },
  {
   "cell_type": "markdown",
   "metadata": {
    "colab_type": "text",
    "id": "cBrj92x2Us3C"
   },
   "source": [
    "### def draw_histograms"
   ]
  },
  {
   "cell_type": "code",
   "execution_count": 17,
   "metadata": {
    "colab": {},
    "colab_type": "code",
    "id": "3LvINQTiUO6y"
   },
   "outputs": [],
   "source": [
    "plt.style.use('default')\n",
    "def draw_histograms(df, variable, sample_dict, n_rows, n_cols):\n",
    "\n",
    "  '''Takes dataframe, variable is column name , plots histograms '''\n",
    "  \n",
    "  with plt.style.context('seaborn-paper'):\n",
    "\n",
    "    fig = plt.figure(figsize=(10,10))\n",
    "\n",
    "    for k,v in sample_dict.items():\n",
    "\n",
    "      month = df[df[variable] == k]['order_total']\n",
    "      month_mean = round(np.mean(month),2)\n",
    "\n",
    "      year =  df[df['month'] != k]['order_total']\n",
    "      year_mean = round(np.mean(year),2)\n",
    "\n",
    "      ax = fig.add_subplot(n_rows,n_cols,k)\n",
    "      ax.tick_params(labelsize=8)\n",
    "\n",
    "      plt.hist(year, bins=90,alpha=.7, label='Rest of Year')\n",
    "      plt.hist(month, alpha=.6,label= v.title())\n",
    "\n",
    "      ax.set_title(v.title(),fontsize=14)\n",
    "\n",
    "      plt.axvline(month_mean, color='xkcd:fuchsia',linestyle='--',\n",
    "                  label='Sample Mean \\n'+str(month_mean))\n",
    "\n",
    "      plt.axvline(year_mean,color='xkcd:green',linestyle='-',\n",
    "                  label='Pop. Mean \\n'+str(year_mean))\n",
    "\n",
    "      plt.legend(fontsize=6, frameon=False, ncol = 2 )\n",
    "\n",
    "    fig.tight_layout()    \n",
    "    plt.show()"
   ]
  },
  {
   "cell_type": "markdown",
   "metadata": {
    "colab_type": "text",
    "id": "kR6ajM4YVH3z"
   },
   "source": [
    "### def draw_histograms_sample "
   ]
  },
  {
   "cell_type": "code",
   "execution_count": 18,
   "metadata": {
    "colab": {},
    "colab_type": "code",
    "id": "b290y-7DVQg_"
   },
   "outputs": [],
   "source": [
    "def draw_histograms_from_sample(population,sample, sample_dict, n_rows, n_cols):\n",
    "\n",
    "  fig = plt.figure(figsize=(8.5,7.5))\n",
    "  count = 0\n",
    "  \n",
    "  for k,v in sample_dict.items():\n",
    "    \n",
    "    count += 1                        \n",
    "\n",
    "    month = sample_dict[k] #pop_samp_month_dict[k]\n",
    "    month_mean = round(np.mean(v),2)\n",
    "    \n",
    "    year = population\n",
    "    year_mean = round(np.mean(population),2)\n",
    "\n",
    "    ax = fig.add_subplot(n_rows,n_cols, count)\n",
    "    ax.tick_params(labelsize=8)\n",
    "\n",
    "    plt.hist(year, alpha=.8, label='All Months')\n",
    "    plt.hist(month, alpha=.6, label = v.title())\n",
    "\n",
    "    ax.set_title(k.title(),fontsize=14)\n",
    "\n",
    "    plt.axvline(month_mean, color='xkcd:fuchsia',linestyle='--',\n",
    "                label='Sample Mean \\n'+str(month_mean))\n",
    "    plt.axvline(year_mean,color='xkcd:green',linestyle='-',\n",
    "                label='Pop. Mean \\n'+str(year_mean))\n",
    "    \n",
    "    plt.legend(fontsize=6, frameon=False)\n",
    "    \n",
    "  fig.tight_layout()    \n",
    "  plt.show()"
   ]
  },
  {
   "cell_type": "markdown",
   "metadata": {},
   "source": [
    "### def tukey_table"
   ]
  },
  {
   "cell_type": "code",
   "execution_count": 19,
   "metadata": {},
   "outputs": [],
   "source": [
    "def tukey_table(tukey_results):\n",
    "    ''' Accepts the output of the tukey hsd test and returns it as a dataframe.'''\n",
    "    table_tukey = pd.DataFrame(data=tukey_results._results_table.data[1:], columns=tukey_results._results_table.data[0])\n",
    "    return table_tukey"
   ]
  },
  {
   "cell_type": "markdown",
   "metadata": {
    "colab_type": "text",
    "id": "JbpLynD4pEbK"
   },
   "source": [
    "### Importing and setting pandas dataframe options"
   ]
  },
  {
   "cell_type": "markdown",
   "metadata": {
    "colab_type": "text",
    "id": "N4R_MpKSxjw6"
   },
   "source": []
  },
  {
   "cell_type": "code",
   "execution_count": 20,
   "metadata": {
    "colab": {},
    "colab_type": "code",
    "id": "F9JTuAMEgs40"
   },
   "outputs": [],
   "source": [
    "import numpy as np\n",
    "import pandas as pd\n",
    "import matplotlib.pyplot as plt\n",
    "%matplotlib inline\n",
    "import seaborn as sns\n",
    "\n",
    "from IPython.display import HTML\n",
    "from IPython.display import display\n",
    "\n",
    "# df.style.set_properties( color='black',align='center')\n",
    "#                         **{'background-color': 'black',\n",
    "#                             'color': 'lawngreen',\n",
    "#                             'border-color': 'white'})"
   ]
  },
  {
   "cell_type": "markdown",
   "metadata": {
    "colab_type": "text",
    "id": "sm80dpULk7OR"
   },
   "source": [
    "\n",
    "##### TESTING TABLE METHODS"
   ]
  },
  {
   "cell_type": "code",
   "execution_count": 21,
   "metadata": {
    "code_folding": [],
    "colab": {
     "base_uri": "https://localhost:8080/",
     "height": 166
    },
    "colab_type": "code",
    "id": "WrSegcuukn_R",
    "outputId": "0e9ef995-1317-4622-c9d7-3a6c0458dbde"
   },
   "outputs": [],
   "source": [
    "# # Testing methods of displaying tables. \n",
    "# df_table= list2df(H1_tests).round(4)\n",
    "# # dfH1_table.round(4).to_html('table.html')\n",
    "# from IPython.display import display\n",
    "# display(df_table)"
   ]
  },
  {
   "cell_type": "code",
   "execution_count": 22,
   "metadata": {
    "code_folding": [
     0
    ],
    "colab": {},
    "colab_type": "code",
    "id": "hiKBkkC6jgWk"
   },
   "outputs": [],
   "source": [
    "# import matplotlib.pyplot as plt\n",
    "# import pandas as pd\n",
    "# from pandas.tools.plotting import table\n",
    "# ax = plt.subplot(111,frame_on=False)\n",
    "# ax.xaxis.set_visible(False)\n",
    "# ax.yaxis.set_visible(False)\n",
    "\n",
    "# table(ax, list2df(H1_tests))"
   ]
  },
  {
   "cell_type": "markdown",
   "metadata": {
    "colab_type": "text",
    "id": "Cb6XxQIcfOU_"
   },
   "source": [
    "- Note below table was made at  https://www.tablesgenerator.com/markdown_tables\n",
    "\n",
    "\n",
    "| H# |         Groups         | Normality<br> D'Agostino Pearson | Equal Variance Levene's Test |   Test Chosen  |      Test Results      | Reject Null? | Perform Post-Hoc? |\n",
    "|:--:|:----------------------:|:--------------------------------:|:----------------------------:|:--------------:|:----------------------:|:------------:|:-----------------:|\n",
    "|  1 | A: Discounted Products |      stat:261.5280, p<0.0001     |       14.8327, p=.0001       | Mann-Whitney U | stat: 642105, p<0.0001 |              |                   |\n",
    "|  1 | B: Full Price Products |      stat:544.5770, p<0.0001     |       14.8327, p=.0001       | Mann-Whitney U | stat: 642105, p<0.0001 |              |                   |\n",
    "|    |                        |                                  |                              |                |                        |              |                   |"
   ]
  },
  {
   "cell_type": "markdown",
   "metadata": {
    "colab_type": "text",
    "id": "WnE1XlB9eJ8d"
   },
   "source": [
    "___\n"
   ]
  },
  {
   "cell_type": "markdown",
   "metadata": {
    "colab_type": "text",
    "id": "7rzJx4u8wwQL"
   },
   "source": [
    "# **EXPERIMENTAL DESIGN AND HYPOTHESIS**\n",
    "\n",
    "You will need query the database to get the data needed to perform a statistical analysis.  In this statistical analysis, **you'll need to perform a hypothesis test (or perhaps several) to answer the following question:**\n",
    "\n",
    "\n",
    "\n",
    "\n",
    "### Hypothesis 1:\n",
    "> **Do discounts have a statistically significant effect on the number of products customers order?**\n",
    "> **If so, at what level(s) of discount?**\n",
    "\n",
    "\n",
    "- $H_1$ : Products that are discounted sell in higher quantities.\n",
    "\n",
    "- $H_0$ : Products that are discounted sell the same quantities as full-proce products.\n",
    "\n",
    "\n",
    "<br>\n",
    "\n",
    "### Hypothesis 2:\n",
    "> **Do customers spend more money if they are buying discounted items?**\n",
    "\n",
    "- $H_1$: Customers spend more money overall when their order includes discounted items.\n",
    "\n",
    "- $H_0$: Customers spend the same amount regardless of discounted items. \n",
    "\n",
    "<br>\n",
    "\n",
    "\n",
    "### Hypothesis 3:\n",
    "\n",
    "> **Does the time of year affect quantity of items sold?**\n",
    "\n",
    "- $H_1$ = THe month an order is placed relates to either a higher or lower mean quantity of items sold.\n",
    "- $H_0$ = The month of an order has no affect on the mean quantity of items sold.\n",
    "\n",
    "<br>\n",
    "\n",
    "### Hypothesis 4:\n",
    "> **Do different countries respond to discounts differently?**\n",
    "\n",
    "- $H_1$: Different countries purchase different quantities of discounted vs non discounted products. \n",
    "- $H_0$: All countries purchase the same quantities of discounted vs non discounted products. \n",
    "<br>\n"
   ]
  },
  {
   "cell_type": "markdown",
   "metadata": {
    "colab_type": "text",
    "id": "fcYXKTJe-bjt"
   },
   "source": [
    "___\n",
    "# **Hypothesis 1:**\n",
    "> **Do discounts have a statistically significant effect on the number of products customers order?**\n",
    "> **If so, at what level(s) of discount?**\n",
    "\n",
    "\n",
    "- $H_1$ : Products that are discounted sell in higher quantities.\n",
    "\n",
    "- $H_0$ : Products that are discounted sell the same quantities as full-proce products.\n",
    "\n",
    "<br>\n",
    "\n",
    "**Specific Aims:**\n",
    "\n",
    "* ***Aim 1:To select the proper dataset for analysis, perform EDA, and generate data groups for testing.***\n",
    "    - Used sqlalchemy and pandas.<br>\n",
    "    ```python \n",
    "    query = \"SELECT* FROM OrderDetails, GROUPBY discount\"\n",
    "    python pandas.read_sql_query()\n",
    "    ```\n",
    "* ***Aim 2: Select the appropriate t-test based on tests for the assumptions of normality and homogeneity of variance.***\n",
    "    1. **Test for Normality**\n",
    "        - D'Agostino-Pearson's normality test<br>\n",
    "        ```scipy.stats.normaltest```\n",
    "        - Shapiro-Wilik Test<br>\n",
    "        ```scipy.stats.shapiro```\n",
    "    2. **Test for Homogeneity of Variance**\n",
    "        - Levene's Test<br>\n",
    "         ```scipy.stats.levene```\n",
    "\n",
    "    3. **Choose appropriate test based upon 1. and 2.** \n",
    "        - Mann-Whitney U test (non parametric equivalent of ANOVA)<br>\n",
    "        ```stats.mannwhitneyu```<br>\n",
    "        \n",
    "        <br>\n",
    "* ***Aim 3: To perform post-hoc painrwise comparison testing to determine which level of discounts affect quantity and if any discount has a greater effect than the others.***\n",
    "     - Tukey's test for multiple pairwise comparisons<br>\n",
    "     ```statsmodels.stats.multicomp.pairwise_tukeyhsd```\n"
   ]
  },
  {
   "cell_type": "markdown",
   "metadata": {
    "colab_type": "text",
    "id": "7mKcl3fkwwQ6"
   },
   "source": [
    "_________\n",
    "## ***H1, Aim 1.1 : To select the proper dataset for analyiss  and generate data groups for testing.***\n",
    "\n",
    "#### Importing Method\n",
    "- Used sqlalchemy to create engine to connect to Northwind_small.sqlite.\n",
    "\n",
    "- Used ```pd.read_sql_query('SELECT * FROM OrderDetail',engine)``` to directly read db into df"
   ]
  },
  {
   "cell_type": "code",
   "execution_count": 23,
   "metadata": {
    "cellView": "both",
    "colab": {
     "base_uri": "https://localhost:8080/",
     "height": 120
    },
    "colab_type": "code",
    "id": "N0O4-cWq1N53",
    "outputId": "32516bd2-41f6-47dc-f45e-79d40ba82acd"
   },
   "outputs": [],
   "source": [
    "# # #CELL A : IF ON COLAB.\n",
    "# # #The northwind.sqlite is located in: content/drive/My Drive/Colab Notebooks/datasets/Northwind_small.sqlite\n",
    "# from google.colab import drive\n",
    "# drive.mount('/content/drive/', force_remount=True)\n",
    "\n",
    "# # # If in Google Drive \n",
    "# path= '/content/drive/My Drive/Colab Notebooks/datasets/'\n",
    "# file='Northwind_small.sqlite'\n",
    "# filepath = path+file\n",
    "# # filepath = '/content/drive/My Drive/Colab Notebooks/datasets/Northwind_small.sqlite'\n",
    "\n",
    "\n",
    "# #NOTE: To save files to drive, just to df.to_csv(path+'filename.csv')"
   ]
  },
  {
   "cell_type": "code",
   "execution_count": 24,
   "metadata": {
    "colab": {},
    "colab_type": "code",
    "id": "NGfWlIw45Xs1"
   },
   "outputs": [],
   "source": [
    "# #CELL B: If RUNNING LOCALLY.\n",
    "# filepath = 'Northwind_small.sqlite'"
   ]
  },
  {
   "cell_type": "markdown",
   "metadata": {
    "colab_type": "text",
    "id": "zP8k3PvuBRmw"
   },
   "source": [
    "#### Use sqlalchemy and pandas to inspect data tables"
   ]
  },
  {
   "cell_type": "code",
   "execution_count": 25,
   "metadata": {
    "colab": {
     "base_uri": "https://localhost:8080/",
     "height": 170
    },
    "colab_type": "code",
    "id": "GOWwoXhrBRmx",
    "outputId": "055ce789-fe95-4036-8ae2-5e796aa652e7"
   },
   "outputs": [
    {
     "name": "stdout",
     "output_type": "stream",
     "text": [
      "2019-04-08 19:24:42,534 INFO sqlalchemy.engine.base.Engine SELECT CAST('test plain returns' AS VARCHAR(60)) AS anon_1\n",
      "2019-04-08 19:24:42,537 INFO sqlalchemy.engine.base.Engine ()\n",
      "2019-04-08 19:24:42,538 INFO sqlalchemy.engine.base.Engine SELECT CAST('test unicode returns' AS VARCHAR(60)) AS anon_1\n",
      "2019-04-08 19:24:42,538 INFO sqlalchemy.engine.base.Engine ()\n",
      "2019-04-08 19:24:42,540 INFO sqlalchemy.engine.base.Engine SELECT name FROM sqlite_master WHERE type='table' ORDER BY name\n",
      "2019-04-08 19:24:42,541 INFO sqlalchemy.engine.base.Engine ()\n",
      "\n",
      " ['Category', 'Customer', 'CustomerCustomerDemo', 'CustomerDemographic', 'Employee', 'EmployeeTerritory', 'Order', 'OrderDetail', 'Product', 'Region', 'Shipper', 'Supplier', 'Territory']\n"
     ]
    }
   ],
   "source": [
    "# Import packages for sql\n",
    "import sqlite3\n",
    "from sqlalchemy import create_engine, inspect\n",
    "# from sqlalchemy import Table, Column, Integer, String, MetaData, ForeignKey,text, Float\n",
    "filepath =  'Northwind_small.sqlite'\n",
    "engine = create_engine('sqlite:///Northwind_small.sqlite',echo=True);\n",
    "\n",
    "inspector = inspect(engine);\n",
    "\n",
    "db_tables = inspector.get_table_names();\n",
    "\n",
    "print('\\n',db_tables);"
   ]
  },
  {
   "cell_type": "code",
   "execution_count": 26,
   "metadata": {
    "colab": {
     "base_uri": "https://localhost:8080/",
     "height": 293
    },
    "colab_type": "code",
    "id": "zEqu9PbxwwQ8",
    "outputId": "982da695-2c5b-4eee-8ae7-044fd5d4c5cb"
   },
   "outputs": [
    {
     "name": "stdout",
     "output_type": "stream",
     "text": [
      "2019-04-08 19:24:42,548 INFO sqlalchemy.engine.base.Engine PRAGMA table_info(\"OrderDetail\")\n",
      "2019-04-08 19:24:42,549 INFO sqlalchemy.engine.base.Engine ()\n",
      "Table Name: OrderDetail\n",
      "\n"
     ]
    },
    {
     "data": {
      "text/html": [
       "<div>\n",
       "<style scoped>\n",
       "    .dataframe tbody tr th:only-of-type {\n",
       "        vertical-align: middle;\n",
       "    }\n",
       "\n",
       "    .dataframe tbody tr th {\n",
       "        vertical-align: top;\n",
       "    }\n",
       "\n",
       "    .dataframe thead th {\n",
       "        text-align: right;\n",
       "    }\n",
       "</style>\n",
       "<table border=\"1\" class=\"dataframe\">\n",
       "  <thead>\n",
       "    <tr style=\"text-align: right;\">\n",
       "      <th></th>\n",
       "      <th>table</th>\n",
       "      <th>column</th>\n",
       "      <th>dtype</th>\n",
       "    </tr>\n",
       "  </thead>\n",
       "  <tbody>\n",
       "    <tr>\n",
       "      <th>0</th>\n",
       "      <td>OrderDetail</td>\n",
       "      <td>Id</td>\n",
       "      <td>VARCHAR(8000)</td>\n",
       "    </tr>\n",
       "    <tr>\n",
       "      <th>1</th>\n",
       "      <td>OrderDetail</td>\n",
       "      <td>OrderId</td>\n",
       "      <td>INTEGER</td>\n",
       "    </tr>\n",
       "    <tr>\n",
       "      <th>2</th>\n",
       "      <td>OrderDetail</td>\n",
       "      <td>ProductId</td>\n",
       "      <td>INTEGER</td>\n",
       "    </tr>\n",
       "    <tr>\n",
       "      <th>3</th>\n",
       "      <td>OrderDetail</td>\n",
       "      <td>UnitPrice</td>\n",
       "      <td>DECIMAL</td>\n",
       "    </tr>\n",
       "    <tr>\n",
       "      <th>4</th>\n",
       "      <td>OrderDetail</td>\n",
       "      <td>Quantity</td>\n",
       "      <td>INTEGER</td>\n",
       "    </tr>\n",
       "    <tr>\n",
       "      <th>5</th>\n",
       "      <td>OrderDetail</td>\n",
       "      <td>Discount</td>\n",
       "      <td>FLOAT</td>\n",
       "    </tr>\n",
       "  </tbody>\n",
       "</table>\n",
       "</div>"
      ],
      "text/plain": [
       "         table     column          dtype\n",
       "0  OrderDetail         Id  VARCHAR(8000)\n",
       "1  OrderDetail    OrderId        INTEGER\n",
       "2  OrderDetail  ProductId        INTEGER\n",
       "3  OrderDetail  UnitPrice        DECIMAL\n",
       "4  OrderDetail   Quantity        INTEGER\n",
       "5  OrderDetail   Discount          FLOAT"
      ]
     },
     "execution_count": 26,
     "metadata": {},
     "output_type": "execute_result"
    }
   ],
   "source": [
    "list2df(get_col_info('OrderDetail'))"
   ]
  },
  {
   "cell_type": "markdown",
   "metadata": {
    "colab_type": "text",
    "id": "gT_dk3tLBRm2"
   },
   "source": [
    "#### Load in table OrderDetail for hypothesis 1"
   ]
  },
  {
   "cell_type": "code",
   "execution_count": 27,
   "metadata": {
    "colab": {
     "base_uri": "https://localhost:8080/",
     "height": 735
    },
    "colab_type": "code",
    "id": "8r91sfLGwwRK",
    "outputId": "3811e268-924f-4a7d-bd07-a33fbecea3c3"
   },
   "outputs": [
    {
     "name": "stdout",
     "output_type": "stream",
     "text": [
      "2019-04-08 19:24:42,569 INFO sqlalchemy.engine.base.Engine SELECT * FROM OrderDetail\n",
      "2019-04-08 19:24:42,570 INFO sqlalchemy.engine.base.Engine ()\n",
      "2019-04-08 19:24:42,580 INFO sqlalchemy.engine.base.Engine SELECT * FROM [Order]\n",
      "2019-04-08 19:24:42,582 INFO sqlalchemy.engine.base.Engine ()\n"
     ]
    },
    {
     "data": {
      "text/html": [
       "<div>\n",
       "<style scoped>\n",
       "    .dataframe tbody tr th:only-of-type {\n",
       "        vertical-align: middle;\n",
       "    }\n",
       "\n",
       "    .dataframe tbody tr th {\n",
       "        vertical-align: top;\n",
       "    }\n",
       "\n",
       "    .dataframe thead th {\n",
       "        text-align: right;\n",
       "    }\n",
       "</style>\n",
       "<table border=\"1\" class=\"dataframe\">\n",
       "  <thead>\n",
       "    <tr style=\"text-align: right;\">\n",
       "      <th></th>\n",
       "      <th>Id</th>\n",
       "      <th>OrderId</th>\n",
       "      <th>ProductId</th>\n",
       "      <th>UnitPrice</th>\n",
       "      <th>Quantity</th>\n",
       "      <th>Discount</th>\n",
       "      <th>CustomerId</th>\n",
       "      <th>EmployeeId</th>\n",
       "      <th>OrderDate</th>\n",
       "      <th>RequiredDate</th>\n",
       "      <th>ShippedDate</th>\n",
       "      <th>ShipVia</th>\n",
       "      <th>Freight</th>\n",
       "      <th>ShipName</th>\n",
       "      <th>ShipAddress</th>\n",
       "      <th>ShipCity</th>\n",
       "      <th>ShipRegion</th>\n",
       "      <th>ShipPostalCode</th>\n",
       "      <th>ShipCountry</th>\n",
       "    </tr>\n",
       "  </thead>\n",
       "  <tbody>\n",
       "    <tr>\n",
       "      <th>0</th>\n",
       "      <td>10248/11</td>\n",
       "      <td>10248</td>\n",
       "      <td>11</td>\n",
       "      <td>14.0</td>\n",
       "      <td>12</td>\n",
       "      <td>0.0</td>\n",
       "      <td>VINET</td>\n",
       "      <td>5</td>\n",
       "      <td>2012-07-04</td>\n",
       "      <td>2012-08-01</td>\n",
       "      <td>2012-07-16</td>\n",
       "      <td>3</td>\n",
       "      <td>32.38</td>\n",
       "      <td>Vins et alcools Chevalier</td>\n",
       "      <td>59 rue de l'Abbaye</td>\n",
       "      <td>Reims</td>\n",
       "      <td>Western Europe</td>\n",
       "      <td>51100</td>\n",
       "      <td>France</td>\n",
       "    </tr>\n",
       "    <tr>\n",
       "      <th>1</th>\n",
       "      <td>10248/42</td>\n",
       "      <td>10248</td>\n",
       "      <td>42</td>\n",
       "      <td>9.8</td>\n",
       "      <td>10</td>\n",
       "      <td>0.0</td>\n",
       "      <td>VINET</td>\n",
       "      <td>5</td>\n",
       "      <td>2012-07-04</td>\n",
       "      <td>2012-08-01</td>\n",
       "      <td>2012-07-16</td>\n",
       "      <td>3</td>\n",
       "      <td>32.38</td>\n",
       "      <td>Vins et alcools Chevalier</td>\n",
       "      <td>59 rue de l'Abbaye</td>\n",
       "      <td>Reims</td>\n",
       "      <td>Western Europe</td>\n",
       "      <td>51100</td>\n",
       "      <td>France</td>\n",
       "    </tr>\n",
       "    <tr>\n",
       "      <th>2</th>\n",
       "      <td>10248/72</td>\n",
       "      <td>10248</td>\n",
       "      <td>72</td>\n",
       "      <td>34.8</td>\n",
       "      <td>5</td>\n",
       "      <td>0.0</td>\n",
       "      <td>VINET</td>\n",
       "      <td>5</td>\n",
       "      <td>2012-07-04</td>\n",
       "      <td>2012-08-01</td>\n",
       "      <td>2012-07-16</td>\n",
       "      <td>3</td>\n",
       "      <td>32.38</td>\n",
       "      <td>Vins et alcools Chevalier</td>\n",
       "      <td>59 rue de l'Abbaye</td>\n",
       "      <td>Reims</td>\n",
       "      <td>Western Europe</td>\n",
       "      <td>51100</td>\n",
       "      <td>France</td>\n",
       "    </tr>\n",
       "    <tr>\n",
       "      <th>3</th>\n",
       "      <td>10249/14</td>\n",
       "      <td>10249</td>\n",
       "      <td>14</td>\n",
       "      <td>18.6</td>\n",
       "      <td>9</td>\n",
       "      <td>0.0</td>\n",
       "      <td>TOMSP</td>\n",
       "      <td>6</td>\n",
       "      <td>2012-07-05</td>\n",
       "      <td>2012-08-16</td>\n",
       "      <td>2012-07-10</td>\n",
       "      <td>1</td>\n",
       "      <td>11.61</td>\n",
       "      <td>Toms Spezialitäten</td>\n",
       "      <td>Luisenstr. 48</td>\n",
       "      <td>Münster</td>\n",
       "      <td>Western Europe</td>\n",
       "      <td>44087</td>\n",
       "      <td>Germany</td>\n",
       "    </tr>\n",
       "    <tr>\n",
       "      <th>4</th>\n",
       "      <td>10249/51</td>\n",
       "      <td>10249</td>\n",
       "      <td>51</td>\n",
       "      <td>42.4</td>\n",
       "      <td>40</td>\n",
       "      <td>0.0</td>\n",
       "      <td>TOMSP</td>\n",
       "      <td>6</td>\n",
       "      <td>2012-07-05</td>\n",
       "      <td>2012-08-16</td>\n",
       "      <td>2012-07-10</td>\n",
       "      <td>1</td>\n",
       "      <td>11.61</td>\n",
       "      <td>Toms Spezialitäten</td>\n",
       "      <td>Luisenstr. 48</td>\n",
       "      <td>Münster</td>\n",
       "      <td>Western Europe</td>\n",
       "      <td>44087</td>\n",
       "      <td>Germany</td>\n",
       "    </tr>\n",
       "  </tbody>\n",
       "</table>\n",
       "</div>"
      ],
      "text/plain": [
       "         Id  OrderId  ProductId  UnitPrice  Quantity  Discount CustomerId  \\\n",
       "0  10248/11    10248         11       14.0        12       0.0      VINET   \n",
       "1  10248/42    10248         42        9.8        10       0.0      VINET   \n",
       "2  10248/72    10248         72       34.8         5       0.0      VINET   \n",
       "3  10249/14    10249         14       18.6         9       0.0      TOMSP   \n",
       "4  10249/51    10249         51       42.4        40       0.0      TOMSP   \n",
       "\n",
       "   EmployeeId   OrderDate RequiredDate ShippedDate  ShipVia  Freight  \\\n",
       "0           5  2012-07-04   2012-08-01  2012-07-16        3    32.38   \n",
       "1           5  2012-07-04   2012-08-01  2012-07-16        3    32.38   \n",
       "2           5  2012-07-04   2012-08-01  2012-07-16        3    32.38   \n",
       "3           6  2012-07-05   2012-08-16  2012-07-10        1    11.61   \n",
       "4           6  2012-07-05   2012-08-16  2012-07-10        1    11.61   \n",
       "\n",
       "                    ShipName         ShipAddress ShipCity      ShipRegion  \\\n",
       "0  Vins et alcools Chevalier  59 rue de l'Abbaye    Reims  Western Europe   \n",
       "1  Vins et alcools Chevalier  59 rue de l'Abbaye    Reims  Western Europe   \n",
       "2  Vins et alcools Chevalier  59 rue de l'Abbaye    Reims  Western Europe   \n",
       "3         Toms Spezialitäten       Luisenstr. 48  Münster  Western Europe   \n",
       "4         Toms Spezialitäten       Luisenstr. 48  Münster  Western Europe   \n",
       "\n",
       "  ShipPostalCode ShipCountry  \n",
       "0          51100      France  \n",
       "1          51100      France  \n",
       "2          51100      France  \n",
       "3          44087     Germany  \n",
       "4          44087     Germany  "
      ]
     },
     "execution_count": 27,
     "metadata": {},
     "output_type": "execute_result"
    }
   ],
   "source": [
    "# We want to test hypothesis one, so we need OrderDetail table.\n",
    "table_to_test = \"OrderDetail\"\n",
    "df_od = pd.read_sql_query(\"SELECT * FROM OrderDetail\",  engine)\n",
    "df_o = pd.read_sql_query(\"SELECT * FROM [Order]\",  engine)\n",
    "# df_o.info()\n",
    "df_o.rename({'Id':'OrderId'},axis=1,inplace=True)\n",
    "\n",
    "df = df_od.merge(df_o, on = 'OrderId')\n",
    "df.to_csv('OrderId_Order.csv')\n",
    "df.head()"
   ]
  },
  {
   "cell_type": "code",
   "execution_count": 28,
   "metadata": {
    "colab": {
     "base_uri": "https://localhost:8080/",
     "height": 418
    },
    "colab_type": "code",
    "id": "bHdkczoawwRO",
    "outputId": "dcb97151-896d-45e5-94dc-766e69563c5b"
   },
   "outputs": [],
   "source": [
    "#     df.info()"
   ]
  },
  {
   "cell_type": "code",
   "execution_count": 29,
   "metadata": {
    "colab": {
     "base_uri": "https://localhost:8080/",
     "height": 201
    },
    "colab_type": "code",
    "id": "hOZ_8uy7HuMr",
    "outputId": "15d2f75a-6e52-4f9d-bae2-b5e5a0a26b19"
   },
   "outputs": [
    {
     "data": {
      "text/plain": [
       "{0.0: 1317,\n",
       " 0.05: 185,\n",
       " 0.1: 173,\n",
       " 0.2: 161,\n",
       " 0.15: 157,\n",
       " 0.25: 154,\n",
       " 0.03: 3,\n",
       " 0.02: 2,\n",
       " 0.01: 1,\n",
       " 0.04: 1,\n",
       " 0.06: 1}"
      ]
     },
     "execution_count": 29,
     "metadata": {},
     "output_type": "execute_result"
    }
   ],
   "source": [
    "# Checking the levels of discount\n",
    "# sorted(df['Discount'].unique())\n",
    "counts = df['Discount'].value_counts()\n",
    "counts.sort_index()\n",
    "count_dict = dict(zip(counts.index, counts.values))\n",
    "count_dict"
   ]
  },
  {
   "cell_type": "markdown",
   "metadata": {
    "colab_type": "text",
    "id": "nFvh-eMWBRm9"
   },
   "source": [
    "### Aim 1.2: EDA on dataset"
   ]
  },
  {
   "cell_type": "code",
   "execution_count": 30,
   "metadata": {
    "colab": {
     "base_uri": "https://localhost:8080/",
     "height": 1712
    },
    "colab_type": "code",
    "id": "pMccsD16BRm-",
    "outputId": "f6d4c8c0-523a-488f-e445-d676da814b11"
   },
   "outputs": [
    {
     "data": {
      "image/png": "[encoded data removed]",
      "text/plain": [
       "<Figure size 648x504 with 2 Axes>"
      ]
     },
     "metadata": {},
     "output_type": "display_data"
    },
    {
     "data": {
      "image/png": "[encoded data removed]",
      "text/plain": [
       "<Figure size 648x504 with 2 Axes>"
      ]
     },
     "metadata": {},
     "output_type": "display_data"
    },
    {
     "data": {
      "image/png": "[encoded data removed]",
      "text/plain": [
       "<Figure size 648x504 with 2 Axes>"
      ]
     },
     "metadata": {},
     "output_type": "display_data"
    },
    {
     "data": {
      "image/png": "[encoded data removed]",
      "text/plain": [
       "<Figure size 648x504 with 2 Axes>"
      ]
     },
     "metadata": {},
     "output_type": "display_data"
    },
    {
     "data": {
      "image/png": "[encoded data removed]",
      "text/plain": [
       "<Figure size 648x504 with 2 Axes>"
      ]
     },
     "metadata": {},
     "output_type": "display_data"
    },
    {
     "data": {
      "image/png": "[encoded data removed]",
      "text/plain": [
       "<Figure size 648x504 with 2 Axes>"
      ]
     },
     "metadata": {},
     "output_type": "display_data"
    }
   ],
   "source": [
    "# df['Quantity'].groupby(df['Discount']).plot(kind='bar')\n",
    "plot_hist_scat_sns(df.drop(['OrderId','ProductId'],axis=1),'Quantity')"
   ]
  },
  {
   "cell_type": "markdown",
   "metadata": {
    "colab_type": "text",
    "id": "u1V-i0y6wwTB",
    "scrolled": true
   },
   "source": [
    "#### Note on OrderDetails df:\n",
    "1. There are 11 possible values for discounts: \n",
    "    - Values = [0.0, 0.01, 0.02, 0.03, 0.04, 0.05, 0.06, 0.1, 0.15, 0.2, 0.25]<br>\n",
    "    - However, there are very few entries for some of the levels of value.<br>\n",
    "    ``` print(sorted(df['Discount'].unique())) ```\n",
    "2. The data for quantity looks skewed and not-normal. \n",
    "    - Normality tests will likely come back significant \n",
    "    "
   ]
  },
  {
   "cell_type": "markdown",
   "metadata": {
    "colab_type": "text",
    "id": "nrgngwVVBRnB"
   },
   "source": [
    "### Aim 1.3: Generated and inspect the required groups\n",
    "- Generate the groups that we want to test.\n",
    "    - Discounted\n",
    "    - Full price \n",
    "- Once review, use info to determine next steps."
   ]
  },
  {
   "cell_type": "code",
   "execution_count": 31,
   "metadata": {
    "colab": {
     "base_uri": "https://localhost:8080/",
     "height": 319
    },
    "colab_type": "code",
    "id": "S7s99OFmwwRS",
    "outputId": "f56634ab-809f-4483-da3c-dc5c78baa0bf"
   },
   "outputs": [
    {
     "name": "stdout",
     "output_type": "stream",
     "text": [
      "\n",
      "All Quantities:\n"
     ]
    },
    {
     "data": {
      "text/html": [
       "<div>\n",
       "<style scoped>\n",
       "    .dataframe tbody tr th:only-of-type {\n",
       "        vertical-align: middle;\n",
       "    }\n",
       "\n",
       "    .dataframe tbody tr th {\n",
       "        vertical-align: top;\n",
       "    }\n",
       "\n",
       "    .dataframe thead th {\n",
       "        text-align: right;\n",
       "    }\n",
       "</style>\n",
       "<table border=\"1\" class=\"dataframe\">\n",
       "  <thead>\n",
       "    <tr style=\"text-align: right;\">\n",
       "      <th></th>\n",
       "      <th>UnitPrice</th>\n",
       "      <th>Quantity</th>\n",
       "      <th>Discount</th>\n",
       "      <th>EmployeeId</th>\n",
       "      <th>ShipVia</th>\n",
       "      <th>Freight</th>\n",
       "    </tr>\n",
       "  </thead>\n",
       "  <tbody>\n",
       "    <tr>\n",
       "      <th>count</th>\n",
       "      <td>2155.0</td>\n",
       "      <td>2155.0</td>\n",
       "      <td>2155.0</td>\n",
       "      <td>2155.0</td>\n",
       "      <td>2155.0</td>\n",
       "      <td>2155.0</td>\n",
       "    </tr>\n",
       "    <tr>\n",
       "      <th>mean</th>\n",
       "      <td>26.0</td>\n",
       "      <td>24.0</td>\n",
       "      <td>0.0</td>\n",
       "      <td>4.0</td>\n",
       "      <td>2.0</td>\n",
       "      <td>96.0</td>\n",
       "    </tr>\n",
       "    <tr>\n",
       "      <th>std</th>\n",
       "      <td>30.0</td>\n",
       "      <td>19.0</td>\n",
       "      <td>0.0</td>\n",
       "      <td>2.0</td>\n",
       "      <td>1.0</td>\n",
       "      <td>133.0</td>\n",
       "    </tr>\n",
       "    <tr>\n",
       "      <th>min</th>\n",
       "      <td>2.0</td>\n",
       "      <td>1.0</td>\n",
       "      <td>0.0</td>\n",
       "      <td>1.0</td>\n",
       "      <td>1.0</td>\n",
       "      <td>0.0</td>\n",
       "    </tr>\n",
       "    <tr>\n",
       "      <th>25%</th>\n",
       "      <td>12.0</td>\n",
       "      <td>10.0</td>\n",
       "      <td>0.0</td>\n",
       "      <td>2.0</td>\n",
       "      <td>1.0</td>\n",
       "      <td>20.0</td>\n",
       "    </tr>\n",
       "    <tr>\n",
       "      <th>50%</th>\n",
       "      <td>18.0</td>\n",
       "      <td>20.0</td>\n",
       "      <td>0.0</td>\n",
       "      <td>4.0</td>\n",
       "      <td>2.0</td>\n",
       "      <td>54.0</td>\n",
       "    </tr>\n",
       "    <tr>\n",
       "      <th>75%</th>\n",
       "      <td>32.0</td>\n",
       "      <td>30.0</td>\n",
       "      <td>0.0</td>\n",
       "      <td>7.0</td>\n",
       "      <td>3.0</td>\n",
       "      <td>121.0</td>\n",
       "    </tr>\n",
       "    <tr>\n",
       "      <th>max</th>\n",
       "      <td>264.0</td>\n",
       "      <td>130.0</td>\n",
       "      <td>0.0</td>\n",
       "      <td>9.0</td>\n",
       "      <td>3.0</td>\n",
       "      <td>1008.0</td>\n",
       "    </tr>\n",
       "  </tbody>\n",
       "</table>\n",
       "</div>"
      ],
      "text/plain": [
       "       UnitPrice  Quantity  Discount  EmployeeId  ShipVia  Freight\n",
       "count     2155.0    2155.0    2155.0      2155.0   2155.0   2155.0\n",
       "mean        26.0      24.0       0.0         4.0      2.0     96.0\n",
       "std         30.0      19.0       0.0         2.0      1.0    133.0\n",
       "min          2.0       1.0       0.0         1.0      1.0      0.0\n",
       "25%         12.0      10.0       0.0         2.0      1.0     20.0\n",
       "50%         18.0      20.0       0.0         4.0      2.0     54.0\n",
       "75%         32.0      30.0       0.0         7.0      3.0    121.0\n",
       "max        264.0     130.0       0.0         9.0      3.0   1008.0"
      ]
     },
     "execution_count": 31,
     "metadata": {},
     "output_type": "execute_result"
    }
   ],
   "source": [
    "# Print the descriptive statistics.\n",
    "df_discounted = df.loc[df['Discount']>0]\n",
    "df_fullprice = df.loc[df['Discount']==0]\n",
    "\n",
    "print(f'\\nAll Quantities:')\n",
    "df.drop(['OrderId','ProductId'],axis=1).describe().round()"
   ]
  },
  {
   "cell_type": "code",
   "execution_count": 32,
   "metadata": {
    "colab": {
     "base_uri": "https://localhost:8080/",
     "height": 319
    },
    "colab_type": "code",
    "id": "SxZ2yH5cBRnE",
    "outputId": "51a629a1-7aea-4b50-f3f7-09f0f221917f"
   },
   "outputs": [
    {
     "name": "stdout",
     "output_type": "stream",
     "text": [
      "\n",
      "Discounted Quantities:\n"
     ]
    },
    {
     "data": {
      "text/html": [
       "<div>\n",
       "<style scoped>\n",
       "    .dataframe tbody tr th:only-of-type {\n",
       "        vertical-align: middle;\n",
       "    }\n",
       "\n",
       "    .dataframe tbody tr th {\n",
       "        vertical-align: top;\n",
       "    }\n",
       "\n",
       "    .dataframe thead th {\n",
       "        text-align: right;\n",
       "    }\n",
       "</style>\n",
       "<table border=\"1\" class=\"dataframe\">\n",
       "  <thead>\n",
       "    <tr style=\"text-align: right;\">\n",
       "      <th></th>\n",
       "      <th>UnitPrice</th>\n",
       "      <th>Quantity</th>\n",
       "      <th>Discount</th>\n",
       "      <th>EmployeeId</th>\n",
       "      <th>ShipVia</th>\n",
       "      <th>Freight</th>\n",
       "    </tr>\n",
       "  </thead>\n",
       "  <tbody>\n",
       "    <tr>\n",
       "      <th>count</th>\n",
       "      <td>838.0</td>\n",
       "      <td>838.0</td>\n",
       "      <td>838.0</td>\n",
       "      <td>838.0</td>\n",
       "      <td>838.0</td>\n",
       "      <td>838.0</td>\n",
       "    </tr>\n",
       "    <tr>\n",
       "      <th>mean</th>\n",
       "      <td>26.0</td>\n",
       "      <td>27.0</td>\n",
       "      <td>0.0</td>\n",
       "      <td>4.0</td>\n",
       "      <td>2.0</td>\n",
       "      <td>100.0</td>\n",
       "    </tr>\n",
       "    <tr>\n",
       "      <th>std</th>\n",
       "      <td>30.0</td>\n",
       "      <td>21.0</td>\n",
       "      <td>0.0</td>\n",
       "      <td>2.0</td>\n",
       "      <td>1.0</td>\n",
       "      <td>126.0</td>\n",
       "    </tr>\n",
       "    <tr>\n",
       "      <th>min</th>\n",
       "      <td>2.0</td>\n",
       "      <td>1.0</td>\n",
       "      <td>0.0</td>\n",
       "      <td>1.0</td>\n",
       "      <td>1.0</td>\n",
       "      <td>0.0</td>\n",
       "    </tr>\n",
       "    <tr>\n",
       "      <th>25%</th>\n",
       "      <td>12.0</td>\n",
       "      <td>12.0</td>\n",
       "      <td>0.0</td>\n",
       "      <td>2.0</td>\n",
       "      <td>1.0</td>\n",
       "      <td>25.0</td>\n",
       "    </tr>\n",
       "    <tr>\n",
       "      <th>50%</th>\n",
       "      <td>18.0</td>\n",
       "      <td>20.0</td>\n",
       "      <td>0.0</td>\n",
       "      <td>4.0</td>\n",
       "      <td>2.0</td>\n",
       "      <td>60.0</td>\n",
       "    </tr>\n",
       "    <tr>\n",
       "      <th>75%</th>\n",
       "      <td>31.0</td>\n",
       "      <td>36.0</td>\n",
       "      <td>0.0</td>\n",
       "      <td>7.0</td>\n",
       "      <td>3.0</td>\n",
       "      <td>123.0</td>\n",
       "    </tr>\n",
       "    <tr>\n",
       "      <th>max</th>\n",
       "      <td>264.0</td>\n",
       "      <td>130.0</td>\n",
       "      <td>0.0</td>\n",
       "      <td>9.0</td>\n",
       "      <td>3.0</td>\n",
       "      <td>891.0</td>\n",
       "    </tr>\n",
       "  </tbody>\n",
       "</table>\n",
       "</div>"
      ],
      "text/plain": [
       "       UnitPrice  Quantity  Discount  EmployeeId  ShipVia  Freight\n",
       "count      838.0     838.0     838.0       838.0    838.0    838.0\n",
       "mean        26.0      27.0       0.0         4.0      2.0    100.0\n",
       "std         30.0      21.0       0.0         2.0      1.0    126.0\n",
       "min          2.0       1.0       0.0         1.0      1.0      0.0\n",
       "25%         12.0      12.0       0.0         2.0      1.0     25.0\n",
       "50%         18.0      20.0       0.0         4.0      2.0     60.0\n",
       "75%         31.0      36.0       0.0         7.0      3.0    123.0\n",
       "max        264.0     130.0       0.0         9.0      3.0    891.0"
      ]
     },
     "execution_count": 32,
     "metadata": {},
     "output_type": "execute_result"
    }
   ],
   "source": [
    "print(f'\\nDiscounted Quantities:')\n",
    "\n",
    "df_discounted.drop(['OrderId','ProductId'],axis=1).describe().round()"
   ]
  },
  {
   "cell_type": "code",
   "execution_count": 33,
   "metadata": {
    "colab": {
     "base_uri": "https://localhost:8080/",
     "height": 319
    },
    "colab_type": "code",
    "id": "L-DcuavHBRnG",
    "outputId": "bc780446-757e-4203-8726-9d2c2116831f"
   },
   "outputs": [
    {
     "name": "stdout",
     "output_type": "stream",
     "text": [
      "Full price Quantities:\n",
      "\n"
     ]
    },
    {
     "data": {
      "text/html": [
       "<div>\n",
       "<style scoped>\n",
       "    .dataframe tbody tr th:only-of-type {\n",
       "        vertical-align: middle;\n",
       "    }\n",
       "\n",
       "    .dataframe tbody tr th {\n",
       "        vertical-align: top;\n",
       "    }\n",
       "\n",
       "    .dataframe thead th {\n",
       "        text-align: right;\n",
       "    }\n",
       "</style>\n",
       "<table border=\"1\" class=\"dataframe\">\n",
       "  <thead>\n",
       "    <tr style=\"text-align: right;\">\n",
       "      <th></th>\n",
       "      <th>UnitPrice</th>\n",
       "      <th>Quantity</th>\n",
       "      <th>Discount</th>\n",
       "      <th>EmployeeId</th>\n",
       "      <th>ShipVia</th>\n",
       "      <th>Freight</th>\n",
       "    </tr>\n",
       "  </thead>\n",
       "  <tbody>\n",
       "    <tr>\n",
       "      <th>count</th>\n",
       "      <td>1317.0</td>\n",
       "      <td>1317.0</td>\n",
       "      <td>1317.0</td>\n",
       "      <td>1317.0</td>\n",
       "      <td>1317.0</td>\n",
       "      <td>1317.0</td>\n",
       "    </tr>\n",
       "    <tr>\n",
       "      <th>mean</th>\n",
       "      <td>26.0</td>\n",
       "      <td>22.0</td>\n",
       "      <td>0.0</td>\n",
       "      <td>4.0</td>\n",
       "      <td>2.0</td>\n",
       "      <td>94.0</td>\n",
       "    </tr>\n",
       "    <tr>\n",
       "      <th>std</th>\n",
       "      <td>30.0</td>\n",
       "      <td>18.0</td>\n",
       "      <td>0.0</td>\n",
       "      <td>2.0</td>\n",
       "      <td>1.0</td>\n",
       "      <td>137.0</td>\n",
       "    </tr>\n",
       "    <tr>\n",
       "      <th>min</th>\n",
       "      <td>2.0</td>\n",
       "      <td>1.0</td>\n",
       "      <td>0.0</td>\n",
       "      <td>1.0</td>\n",
       "      <td>1.0</td>\n",
       "      <td>0.0</td>\n",
       "    </tr>\n",
       "    <tr>\n",
       "      <th>25%</th>\n",
       "      <td>12.0</td>\n",
       "      <td>10.0</td>\n",
       "      <td>0.0</td>\n",
       "      <td>2.0</td>\n",
       "      <td>1.0</td>\n",
       "      <td>15.0</td>\n",
       "    </tr>\n",
       "    <tr>\n",
       "      <th>50%</th>\n",
       "      <td>18.0</td>\n",
       "      <td>18.0</td>\n",
       "      <td>0.0</td>\n",
       "      <td>4.0</td>\n",
       "      <td>2.0</td>\n",
       "      <td>47.0</td>\n",
       "    </tr>\n",
       "    <tr>\n",
       "      <th>75%</th>\n",
       "      <td>33.0</td>\n",
       "      <td>30.0</td>\n",
       "      <td>0.0</td>\n",
       "      <td>6.0</td>\n",
       "      <td>3.0</td>\n",
       "      <td>117.0</td>\n",
       "    </tr>\n",
       "    <tr>\n",
       "      <th>max</th>\n",
       "      <td>264.0</td>\n",
       "      <td>130.0</td>\n",
       "      <td>0.0</td>\n",
       "      <td>9.0</td>\n",
       "      <td>3.0</td>\n",
       "      <td>1008.0</td>\n",
       "    </tr>\n",
       "  </tbody>\n",
       "</table>\n",
       "</div>"
      ],
      "text/plain": [
       "       UnitPrice  Quantity  Discount  EmployeeId  ShipVia  Freight\n",
       "count     1317.0    1317.0    1317.0      1317.0   1317.0   1317.0\n",
       "mean        26.0      22.0       0.0         4.0      2.0     94.0\n",
       "std         30.0      18.0       0.0         2.0      1.0    137.0\n",
       "min          2.0       1.0       0.0         1.0      1.0      0.0\n",
       "25%         12.0      10.0       0.0         2.0      1.0     15.0\n",
       "50%         18.0      18.0       0.0         4.0      2.0     47.0\n",
       "75%         33.0      30.0       0.0         6.0      3.0    117.0\n",
       "max        264.0     130.0       0.0         9.0      3.0   1008.0"
      ]
     },
     "execution_count": 33,
     "metadata": {},
     "output_type": "execute_result"
    }
   ],
   "source": [
    "print(f'Full price Quantities:\\n')\n",
    "df_fullprice.drop(['OrderId','ProductId'],axis=1).describe().round()"
   ]
  },
  {
   "cell_type": "markdown",
   "metadata": {
    "colab_type": "text",
    "id": "53olqpmbBRnI"
   },
   "source": [
    "### Plotting Summary EDA Figure"
   ]
  },
  {
   "cell_type": "code",
   "execution_count": 34,
   "metadata": {
    "colab": {
     "base_uri": "https://localhost:8080/",
     "height": 448
    },
    "colab_type": "code",
    "id": "K97UJlGd6Oop",
    "outputId": "484f8184-ef6a-47d0-935c-5ffbcbd6cbf4"
   },
   "outputs": [
    {
     "name": "stdout",
     "output_type": "stream",
     "text": [
      "Mean of Full Price: 21.715261958997722\n",
      " Mean of Discounted: 27.10978520286396\n"
     ]
    },
    {
     "data": {
      "text/plain": [
       "<Figure size 432x288 with 0 Axes>"
      ]
     },
     "metadata": {},
     "output_type": "display_data"
    },
    {
     "data": {
      "image/png": "[encoded data removed]",
      "text/plain": [
       "<Figure size 720x360 with 2 Axes>"
      ]
     },
     "metadata": {},
     "output_type": "display_data"
    }
   ],
   "source": [
    "kwargs = {'title_var':'Quantity Sold'}\n",
    "figa,ax = plot_wide_kde_thin_bar(df_fullprice['Quantity'],'Full Price',df_discounted['Quantity'],'Discounted',**kwargs)"
   ]
  },
  {
   "cell_type": "code",
   "execution_count": 35,
   "metadata": {
    "colab": {},
    "colab_type": "code",
    "id": "WEVjgrtWe5HC"
   },
   "outputs": [],
   "source": [
    "## Uncomment this cell to save the outputs.\n",
    "# figa.savefig('H1_Kde_bar_Quantity_black.png',dpi=300,facecolor='black')\n",
    "# df_discounted.to_csv('df_discounted.csv')\n",
    "# df_fullprice.to_csv('df_fullprice.csv')"
   ]
  },
  {
   "cell_type": "code",
   "execution_count": 36,
   "metadata": {
    "colab": {
     "base_uri": "https://localhost:8080/",
     "height": 836
    },
    "colab_type": "code",
    "id": "839dCzOpVFJ_",
    "outputId": "a2d4f540-4f5e-4668-ef23-5b1a0ea24f29"
   },
   "outputs": [],
   "source": [
    "# df_fullprice.info(), df_discounted.info()"
   ]
  },
  {
   "cell_type": "markdown",
   "metadata": {
    "colab_type": "text",
    "id": "q-uvY3EMwwRg"
   },
   "source": [
    "## ***H1, Aim 2: Select the appropriate t-test based on tests for the assumptions of normality and homogeneity of variance.***\n",
    "1. **Test for Normality**\n",
    "    - D'Agostino-Pearson's normality test<br>\n",
    "    ```scipy.stats.normaltest```\n",
    "    - Shapiro-Wilik Test<br>\n",
    "    ```scipy.stats.shapiro```\n",
    "2. **Test for Homogeneity of Variance**\n",
    "    - Levene's Test<br>\n",
    "     ```scipy.stats.levene```\n",
    "\n",
    "3. **Choose appropriate test based upon 1. and 2.** \n",
    "___"
   ]
  },
  {
   "cell_type": "markdown",
   "metadata": {
    "colab_type": "text",
    "id": "vCAvdujwBRnM"
   },
   "source": [
    "### Aim 2.1. Test for Normality"
   ]
  },
  {
   "cell_type": "markdown",
   "metadata": {
    "colab_type": "text",
    "id": "77osFmuAbEj0"
   },
   "source": [
    "#### Prelminary Testing for Normality "
   ]
  },
  {
   "cell_type": "code",
   "execution_count": 37,
   "metadata": {
    "colab": {
     "base_uri": "https://localhost:8080/",
     "height": 472
    },
    "colab_type": "code",
    "id": "LugZh3YyBRnP",
    "outputId": "a38a54da-974b-4c05-9536-759ca68336d2"
   },
   "outputs": [
    {
     "data": {
      "image/png": "[encoded data removed]",
      "text/plain": [
       "<Figure size 432x288 with 1 Axes>"
      ]
     },
     "metadata": {},
     "output_type": "display_data"
    }
   ],
   "source": [
    "# Plot the re-sampled data\n",
    "\n",
    "# # IF want to take smaller sample from population:\n",
    "\n",
    "# pop_samp_disc = np.random.choice(pop_samp_disc,1000)\n",
    "# pop_samp_full = np.random.choice(pop_samp_full, 1000)\n",
    "with plt.style.context(('dark_background')):\n",
    "    \n",
    "    fig = plt.figure()\n",
    "    plt.title('Distribution of Quanitities for Discounted vs Full Price ')\n",
    "\n",
    "    disc = df_discounted['Quantity']\n",
    "    full = df_fullprice['Quantity']\n",
    "    \n",
    "    \n",
    "    plt.hist(full,color='red', alpha = 0.5, bins=30,label='Full Price')\n",
    "    plt.hist(disc, alpha = 0.8, bins=30,label='Discounted')\n",
    "\n",
    "    # Adding annotations\n",
    "    meanD = round(np.mean(disc),3)\n",
    "    meanF = round(np.mean(full),3)\n",
    "    \n",
    "    plt.axvline(meanD, color='green',linestyle='--',label='Discounted Mean')\n",
    "    plt.text(meanD,190,f'Mean:{meanD}',rotation=270,fontweight='medium')\n",
    "    \n",
    "    plt.axvline(meanF,color='white',linestyle='-',label='Full Price Mean')\n",
    "    plt.text(meanF, 190, f'Mean:{meanF}',rotation=270,fontweight='medium')\n",
    "\n",
    "    plt.xlabel('Quantity')\n",
    "    plt.ylabel('Counts')\n",
    "    plt.legend()\n",
    "    plt.show()\n",
    "\n",
    "# Run normality testing\n",
    "# stat,p = normaltest(pop_samp_full)\n",
    "# print(f'Normality: stat ={stat}, p = {p}')\n",
    "\n",
    "# Run ttest\n",
    "# tstat,tp = stats.ttest_ind(pop_samp_disc, pop_samp_full)\n",
    "# print(f'T-test: stat ={tstat}, p = {tp}')#tstat,tp\n",
    "# ax.text("
   ]
  },
  {
   "cell_type": "code",
   "execution_count": 38,
   "metadata": {
    "colab": {
     "base_uri": "https://localhost:8080/",
     "height": 140
    },
    "colab_type": "code",
    "id": "B8V_fLKzNLgS",
    "outputId": "4d3e2b84-194e-405c-f9b5-08bbb7dce685"
   },
   "outputs": [
    {
     "name": "stdout",
     "output_type": "stream",
     "text": [
      "Discounted: p =1.6214878452829618e-57, stat =261.528012299789\n",
      "Fullprice: p =5.579637380545965e-119, stat =544.5770045551502\n"
     ]
    },
    {
     "data": {
      "text/html": [
       "<div>\n",
       "<style scoped>\n",
       "    .dataframe tbody tr th:only-of-type {\n",
       "        vertical-align: middle;\n",
       "    }\n",
       "\n",
       "    .dataframe tbody tr th {\n",
       "        vertical-align: top;\n",
       "    }\n",
       "\n",
       "    .dataframe thead th {\n",
       "        text-align: right;\n",
       "    }\n",
       "</style>\n",
       "<table border=\"1\" class=\"dataframe\">\n",
       "  <thead>\n",
       "    <tr style=\"text-align: right;\">\n",
       "      <th></th>\n",
       "      <th>DataIn</th>\n",
       "      <th>stat</th>\n",
       "      <th>p</th>\n",
       "    </tr>\n",
       "  </thead>\n",
       "  <tbody>\n",
       "    <tr>\n",
       "      <th>0</th>\n",
       "      <td>Discounted</td>\n",
       "      <td>261.528012</td>\n",
       "      <td>1.621488e-57</td>\n",
       "    </tr>\n",
       "    <tr>\n",
       "      <th>1</th>\n",
       "      <td>Fullprice</td>\n",
       "      <td>544.577005</td>\n",
       "      <td>5.579637e-119</td>\n",
       "    </tr>\n",
       "  </tbody>\n",
       "</table>\n",
       "</div>"
      ],
      "text/plain": [
       "       DataIn        stat              p\n",
       "0  Discounted  261.528012   1.621488e-57\n",
       "1   Fullprice  544.577005  5.579637e-119"
      ]
     },
     "execution_count": 38,
     "metadata": {},
     "output_type": "execute_result"
    }
   ],
   "source": [
    "# D'Agonstino Pearson Normality Test\n",
    "from scipy.stats import normaltest \n",
    "# Create results container list\n",
    "results_normtest = [['DataIn','stat','p']]\n",
    "\n",
    "# Perform Normality Test - Discounted\n",
    "stat, p = normaltest(df_discounted['Quantity'])\n",
    "results_normtest.append(['Discounted',stat,p])\n",
    "print(f'Discounted: p ={p}, stat ={stat}')\n",
    "\n",
    "# Perform Normality Test - Full Price\n",
    "stat, p = normaltest(df_fullprice['Quantity'])\n",
    "results_normtest.append(['Fullprice',stat,p])\n",
    "\n",
    "print(f'Fullprice: p ={p}, stat ={stat}')\n",
    "list2df(results_normtest)"
   ]
  },
  {
   "cell_type": "markdown",
   "metadata": {
    "colab_type": "text",
    "id": "tciaNn_rWcAW"
   },
   "source": [
    "**Notes on Preliminary Normality Test:**\n",
    "- Both groups failed assumption of normality. \n",
    "\n",
    "    - Let's compare normaltest vs shapiro test\n",
    "    \n",
    "- Let's try removing outliers with previously define detect_outliers"
   ]
  },
  {
   "cell_type": "markdown",
   "metadata": {
    "colab_type": "text",
    "id": "9KN_7gOOBRna"
   },
   "source": [
    "#### def normtest_results"
   ]
  },
  {
   "cell_type": "code",
   "execution_count": 39,
   "metadata": {
    "colab": {},
    "colab_type": "code",
    "id": "UXvZaU8WBRnb"
   },
   "outputs": [],
   "source": [
    "def normtest_results(dict_data):\n",
    "    \"\"\"Peforms both d'agostino-pearson and shapiro-wilik normal tests\n",
    "        \n",
    "        Parameters:\n",
    "            dict_data -- dictionary with {'name' : data} \n",
    "        Returns:\n",
    "            results_normtest -- list of test results (can run list2df(results_normtest)\n",
    "    \"\"\"\n",
    "    from numpy.random import seed\n",
    "    from numpy.random import randn\n",
    "    from scipy.stats import shapiro\n",
    "    from scipy.stats import normaltest\n",
    "\n",
    "    results_normtest_shap = [['DataIn','Test','stat','p']]\n",
    "    results_normtest_dagp = [['DataIn','Test','stat','p']]\n",
    "\n",
    "    for key,val in dict_data.items():\n",
    "\n",
    "        data_in = val\n",
    "        name = key\n",
    "        test = 'Shapiro'\n",
    "        stat, p = shapiro(data_in)\n",
    "        results_normtest_shap.append([name , test, stat , p ])\n",
    "        test = 'D’Agostino’s'\n",
    "        stat, p = normaltest(data_in)\n",
    "        results_normtest_dagp.append([name,test,stat, p])\n",
    "\n",
    "    results_normtest = pd.concat([list2df(results_normtest_shap), list2df(results_normtest_dagp)]) \n",
    "\n",
    "    return results_normtest #, list2df(results_normtest_shap),list2df(results_normtest_dagp)\n",
    "\n",
    "#   results_pivot = results.pivot(index='DataIn', columns= 'Test')\n",
    "#   results_pivot.stack(0)"
   ]
  },
  {
   "cell_type": "markdown",
   "metadata": {
    "colab_type": "text",
    "id": "Fq_JAeWWwwRy"
   },
   "source": [
    "### Sub-Aim 2.1.1 Use detect_outliers to remove outliers re-run normality tests"
   ]
  },
  {
   "cell_type": "markdown",
   "metadata": {
    "colab_type": "text",
    "id": "eMA7n-4O9X7o"
   },
   "source": [
    "##### Run detect_outliers on df_discounted, df_fullprice, examine stats of outliers, and then test normality with cleaned data."
   ]
  },
  {
   "cell_type": "code",
   "execution_count": 40,
   "metadata": {
    "colab": {
     "base_uri": "https://localhost:8080/",
     "height": 336
    },
    "colab_type": "code",
    "id": "nxaepnCPwwRz",
    "outputId": "5516dc09-b32a-4bee-d106-d6000d32e4f6"
   },
   "outputs": [
    {
     "name": "stdout",
     "output_type": "stream",
     "text": [
      "\n",
      "Descriptive Stats for Discounted Outliers:\n",
      "There are 29 outliers out of 2155 = 1.345707656612529 %\n"
     ]
    },
    {
     "data": {
      "text/html": [
       "<div>\n",
       "<style scoped>\n",
       "    .dataframe tbody tr th:only-of-type {\n",
       "        vertical-align: middle;\n",
       "    }\n",
       "\n",
       "    .dataframe tbody tr th {\n",
       "        vertical-align: top;\n",
       "    }\n",
       "\n",
       "    .dataframe thead th {\n",
       "        text-align: right;\n",
       "    }\n",
       "</style>\n",
       "<table border=\"1\" class=\"dataframe\">\n",
       "  <thead>\n",
       "    <tr style=\"text-align: right;\">\n",
       "      <th></th>\n",
       "      <th>Quantity</th>\n",
       "      <th>Discount</th>\n",
       "    </tr>\n",
       "  </thead>\n",
       "  <tbody>\n",
       "    <tr>\n",
       "      <th>count</th>\n",
       "      <td>29.0</td>\n",
       "      <td>29.0</td>\n",
       "    </tr>\n",
       "    <tr>\n",
       "      <th>mean</th>\n",
       "      <td>94.0</td>\n",
       "      <td>0.0</td>\n",
       "    </tr>\n",
       "    <tr>\n",
       "      <th>std</th>\n",
       "      <td>17.0</td>\n",
       "      <td>0.0</td>\n",
       "    </tr>\n",
       "    <tr>\n",
       "      <th>min</th>\n",
       "      <td>77.0</td>\n",
       "      <td>0.0</td>\n",
       "    </tr>\n",
       "    <tr>\n",
       "      <th>25%</th>\n",
       "      <td>80.0</td>\n",
       "      <td>0.0</td>\n",
       "    </tr>\n",
       "    <tr>\n",
       "      <th>50%</th>\n",
       "      <td>90.0</td>\n",
       "      <td>0.0</td>\n",
       "    </tr>\n",
       "    <tr>\n",
       "      <th>75%</th>\n",
       "      <td>100.0</td>\n",
       "      <td>0.0</td>\n",
       "    </tr>\n",
       "    <tr>\n",
       "      <th>max</th>\n",
       "      <td>130.0</td>\n",
       "      <td>0.0</td>\n",
       "    </tr>\n",
       "  </tbody>\n",
       "</table>\n",
       "</div>"
      ],
      "text/plain": [
       "       Quantity  Discount\n",
       "count      29.0      29.0\n",
       "mean       94.0       0.0\n",
       "std        17.0       0.0\n",
       "min        77.0       0.0\n",
       "25%        80.0       0.0\n",
       "50%        90.0       0.0\n",
       "75%       100.0       0.0\n",
       "max       130.0       0.0"
      ]
     },
     "execution_count": 40,
     "metadata": {},
     "output_type": "execute_result"
    }
   ],
   "source": [
    "# Detect outliers in df_discounted\n",
    "outlier_disc = detect_outliers(df_discounted,0,['Quantity'])\n",
    "\n",
    "print(f'\\nDescriptive Stats for Discounted Outliers:')\n",
    "print(f'There are {len(outlier_disc)} outliers out of {len(df)} = {len(outlier_disc)/len(df)*100} %')\n",
    "df[['Quantity','Discount']].iloc[outlier_disc].describe().round()"
   ]
  },
  {
   "cell_type": "code",
   "execution_count": 41,
   "metadata": {
    "colab": {
     "base_uri": "https://localhost:8080/",
     "height": 336
    },
    "colab_type": "code",
    "id": "1uQLmUcZ_5t3",
    "outputId": "32a82937-c3d9-40de-83ad-6620a4d0659a"
   },
   "outputs": [
    {
     "name": "stdout",
     "output_type": "stream",
     "text": [
      "\n",
      "Descriptive Stats for Fullprice Outliers:\n",
      "There are 34 outliers out of 2155 = 1.5777262180974478%\n"
     ]
    },
    {
     "data": {
      "text/html": [
       "<div>\n",
       "<style scoped>\n",
       "    .dataframe tbody tr th:only-of-type {\n",
       "        vertical-align: middle;\n",
       "    }\n",
       "\n",
       "    .dataframe tbody tr th {\n",
       "        vertical-align: top;\n",
       "    }\n",
       "\n",
       "    .dataframe thead th {\n",
       "        text-align: right;\n",
       "    }\n",
       "</style>\n",
       "<table border=\"1\" class=\"dataframe\">\n",
       "  <thead>\n",
       "    <tr style=\"text-align: right;\">\n",
       "      <th></th>\n",
       "      <th>Quantity</th>\n",
       "      <th>Discount</th>\n",
       "    </tr>\n",
       "  </thead>\n",
       "  <tbody>\n",
       "    <tr>\n",
       "      <th>count</th>\n",
       "      <td>34.0</td>\n",
       "      <td>34.0</td>\n",
       "    </tr>\n",
       "    <tr>\n",
       "      <th>mean</th>\n",
       "      <td>86.0</td>\n",
       "      <td>0.0</td>\n",
       "    </tr>\n",
       "    <tr>\n",
       "      <th>std</th>\n",
       "      <td>20.0</td>\n",
       "      <td>0.0</td>\n",
       "    </tr>\n",
       "    <tr>\n",
       "      <th>min</th>\n",
       "      <td>63.0</td>\n",
       "      <td>0.0</td>\n",
       "    </tr>\n",
       "    <tr>\n",
       "      <th>25%</th>\n",
       "      <td>70.0</td>\n",
       "      <td>0.0</td>\n",
       "    </tr>\n",
       "    <tr>\n",
       "      <th>50%</th>\n",
       "      <td>80.0</td>\n",
       "      <td>0.0</td>\n",
       "    </tr>\n",
       "    <tr>\n",
       "      <th>75%</th>\n",
       "      <td>100.0</td>\n",
       "      <td>0.0</td>\n",
       "    </tr>\n",
       "    <tr>\n",
       "      <th>max</th>\n",
       "      <td>130.0</td>\n",
       "      <td>0.0</td>\n",
       "    </tr>\n",
       "  </tbody>\n",
       "</table>\n",
       "</div>"
      ],
      "text/plain": [
       "       Quantity  Discount\n",
       "count      34.0      34.0\n",
       "mean       86.0       0.0\n",
       "std        20.0       0.0\n",
       "min        63.0       0.0\n",
       "25%        70.0       0.0\n",
       "50%        80.0       0.0\n",
       "75%       100.0       0.0\n",
       "max       130.0       0.0"
      ]
     },
     "execution_count": 41,
     "metadata": {},
     "output_type": "execute_result"
    }
   ],
   "source": [
    "# Detect outliers in df_fullprice\n",
    "outlier_no_disc = detect_outliers(df_fullprice,0,['Quantity'])\n",
    "print(f'\\nDescriptive Stats for Fullprice Outliers:')\n",
    "print(f'There are {len(outlier_no_disc)} outliers out of {len(df)} = {len(outlier_no_disc)/len(df)*100}%')\n",
    "df[['Quantity','Discount']].iloc[outlier_no_disc].describe().round()"
   ]
  },
  {
   "cell_type": "markdown",
   "metadata": {
    "colab_type": "text",
    "id": "gGqk4D46HP4O"
   },
   "source": [
    "#### Remove outliers and re-run normality testing"
   ]
  },
  {
   "cell_type": "code",
   "execution_count": 42,
   "metadata": {
    "colab": {
     "base_uri": "https://localhost:8080/",
     "height": 401
    },
    "colab_type": "code",
    "id": "7GUrC_QaHayz",
    "outputId": "b4dc2d05-d79a-4929-8797-1057112fd5e2"
   },
   "outputs": [
    {
     "name": "stdout",
     "output_type": "stream",
     "text": [
      "outlier_disc removed 29 outliers\n",
      "outlier_no_disc removed 34 outliers\n",
      "After removal:\n",
      "Id                 63\n",
      "OrderId            63\n",
      "ProductId          63\n",
      "UnitPrice          63\n",
      "Quantity           63\n",
      "Discount           63\n",
      "CustomerId         63\n",
      "EmployeeId         63\n",
      "OrderDate          63\n",
      "RequiredDate       63\n",
      "ShippedDate       134\n",
      "ShipVia            63\n",
      "Freight            63\n",
      "ShipName           63\n",
      "ShipAddress        63\n",
      "ShipCity           63\n",
      "ShipRegion         63\n",
      "ShipPostalCode    114\n",
      "ShipCountry        63\n",
      "dtype: int64\n"
     ]
    }
   ],
   "source": [
    "# Indices were from original dataframe still, so dorp outliers from a copy of that \n",
    "df_to_clean = df.copy()\n",
    "\n",
    "# Fill Data to Remove with np.nan\n",
    "remove_label = ['outlier_disc' , 'outlier_no_disc']\n",
    "remove_data = [outlier_disc , outlier_no_disc]\n",
    "\n",
    "remove_me = dict(zip(remove_label, remove_data))\n",
    "\n",
    "# Loop and replace indices of outliers with np.nan \n",
    "for key,val in remove_me.items():\n",
    "    \n",
    "    df_to_clean.iloc[val]=np.nan\n",
    "    \n",
    "    print(f'{key} removed {len(val)} outliers')\n",
    "\n",
    "print('After removal:')\n",
    "print(df_to_clean.isna().sum())"
   ]
  },
  {
   "cell_type": "code",
   "execution_count": 43,
   "metadata": {
    "colab": {
     "base_uri": "https://localhost:8080/",
     "height": 418
    },
    "colab_type": "code",
    "id": "Uk4M3t4gKGa9",
    "outputId": "d11b9ea5-fdcc-48e7-f77c-e99e47487950"
   },
   "outputs": [],
   "source": [
    "# Replace na and run stattest \n",
    "# df_to_clean.info()"
   ]
  },
  {
   "cell_type": "code",
   "execution_count": 44,
   "metadata": {
    "colab": {
     "base_uri": "https://localhost:8080/",
     "height": 803
    },
    "colab_type": "code",
    "id": "W-5EtAuNMF84",
    "outputId": "8376e911-fe65-432f-95b8-63e391689d4d"
   },
   "outputs": [],
   "source": [
    "# pause\n",
    "df_clean = df_to_clean.dropna(axis=0)#,inplace=True)\n",
    "# df_clean.info(),print(f'\\n\\nOutliers present:'),df_clean.isna().any()"
   ]
  },
  {
   "cell_type": "markdown",
   "metadata": {
    "colab_type": "text",
    "id": "6PrPoFbsMZKb"
   },
   "source": [
    "#### Separate Back into Discounted and Fullprice Dataframes  "
   ]
  },
  {
   "cell_type": "code",
   "execution_count": 45,
   "metadata": {
    "colab": {},
    "colab_type": "code",
    "id": "QQlm4VmiUPOG"
   },
   "outputs": [],
   "source": [
    "# Separate Back into Discounted and Fullprice Dataframes  \n",
    "\n",
    "# Building data_in dictionary for normtest_results\n",
    "df_disc_orig = df_discounted\n",
    "df_full_orig = df_fullprice\n",
    "\n",
    "df_discounted_clean = df_clean.loc[df_clean['Discount']>0].copy()\n",
    "# df_discounted_clean.info()\n",
    "df_fullprice_clean = df_clean.loc[df_clean['Discount']==0].copy()\n",
    "# df_fullprice_clean.info()"
   ]
  },
  {
   "cell_type": "code",
   "execution_count": 46,
   "metadata": {
    "colab": {},
    "colab_type": "code",
    "id": "meSZ5a-CBRnx"
   },
   "outputs": [],
   "source": [
    "# Combine all data into 1 dictionary for normtest_results.\n",
    "data_in = {}\n",
    "\n",
    "data_in['Disc, Orig'] = df_disc_orig['Quantity']\n",
    "data_in['Disc, Clean'] = df_discounted_clean['Quantity']\n",
    "\n",
    "data_in['Full Price','Orig'] = df_full_orig['Quantity']\n",
    "data_in['Full Price','Clean'] = df_fullprice_clean['Quantity']"
   ]
  },
  {
   "cell_type": "code",
   "execution_count": 47,
   "metadata": {
    "colab": {
     "base_uri": "https://localhost:8080/",
     "height": 316
    },
    "colab_type": "code",
    "id": "6hasxYQ0BRnz",
    "outputId": "0fa457f2-5cbc-4df2-adb9-c774cbe293f1"
   },
   "outputs": [
    {
     "data": {
      "text/html": [
       "<div>\n",
       "<style scoped>\n",
       "    .dataframe tbody tr th:only-of-type {\n",
       "        vertical-align: middle;\n",
       "    }\n",
       "\n",
       "    .dataframe tbody tr th {\n",
       "        vertical-align: top;\n",
       "    }\n",
       "\n",
       "    .dataframe thead th {\n",
       "        text-align: right;\n",
       "    }\n",
       "</style>\n",
       "<table border=\"1\" class=\"dataframe\">\n",
       "  <thead>\n",
       "    <tr style=\"text-align: right;\">\n",
       "      <th></th>\n",
       "      <th>Test</th>\n",
       "      <th>stat</th>\n",
       "      <th>p</th>\n",
       "    </tr>\n",
       "    <tr>\n",
       "      <th>DataIn</th>\n",
       "      <th></th>\n",
       "      <th></th>\n",
       "      <th></th>\n",
       "    </tr>\n",
       "  </thead>\n",
       "  <tbody>\n",
       "    <tr>\n",
       "      <th>Disc, Orig</th>\n",
       "      <td>Shapiro</td>\n",
       "      <td>0.869030</td>\n",
       "      <td>6.881204e-26</td>\n",
       "    </tr>\n",
       "    <tr>\n",
       "      <th>Disc, Clean</th>\n",
       "      <td>Shapiro</td>\n",
       "      <td>0.920683</td>\n",
       "      <td>2.661152e-19</td>\n",
       "    </tr>\n",
       "    <tr>\n",
       "      <th>(Full Price, Orig)</th>\n",
       "      <td>Shapiro</td>\n",
       "      <td>0.843457</td>\n",
       "      <td>3.803857e-34</td>\n",
       "    </tr>\n",
       "    <tr>\n",
       "      <th>(Full Price, Clean)</th>\n",
       "      <td>Shapiro</td>\n",
       "      <td>0.916697</td>\n",
       "      <td>1.902716e-25</td>\n",
       "    </tr>\n",
       "    <tr>\n",
       "      <th>Disc, Orig</th>\n",
       "      <td>D’Agostino’s</td>\n",
       "      <td>261.528012</td>\n",
       "      <td>1.621488e-57</td>\n",
       "    </tr>\n",
       "    <tr>\n",
       "      <th>Disc, Clean</th>\n",
       "      <td>D’Agostino’s</td>\n",
       "      <td>80.420078</td>\n",
       "      <td>3.443515e-18</td>\n",
       "    </tr>\n",
       "    <tr>\n",
       "      <th>(Full Price, Orig)</th>\n",
       "      <td>D’Agostino’s</td>\n",
       "      <td>544.577005</td>\n",
       "      <td>5.579637e-119</td>\n",
       "    </tr>\n",
       "    <tr>\n",
       "      <th>(Full Price, Clean)</th>\n",
       "      <td>D’Agostino’s</td>\n",
       "      <td>140.845598</td>\n",
       "      <td>2.604756e-31</td>\n",
       "    </tr>\n",
       "  </tbody>\n",
       "</table>\n",
       "</div>"
      ],
      "text/plain": [
       "                             Test        stat              p\n",
       "DataIn                                                      \n",
       "Disc, Orig                Shapiro    0.869030   6.881204e-26\n",
       "Disc, Clean               Shapiro    0.920683   2.661152e-19\n",
       "(Full Price, Orig)        Shapiro    0.843457   3.803857e-34\n",
       "(Full Price, Clean)       Shapiro    0.916697   1.902716e-25\n",
       "Disc, Orig           D’Agostino’s  261.528012   1.621488e-57\n",
       "Disc, Clean          D’Agostino’s   80.420078   3.443515e-18\n",
       "(Full Price, Orig)   D’Agostino’s  544.577005  5.579637e-119\n",
       "(Full Price, Clean)  D’Agostino’s  140.845598   2.604756e-31"
      ]
     },
     "execution_count": 47,
     "metadata": {},
     "output_type": "execute_result"
    }
   ],
   "source": [
    "# Run normtest_results on combined dataset.\n",
    "results = normtest_results(data_in) #[0]\n",
    "results.set_index('DataIn')"
   ]
  },
  {
   "cell_type": "markdown",
   "metadata": {
    "colab_type": "text",
    "id": "PVXDUinWuA9G"
   },
   "source": [
    "**Notes re: removing outliers with detect_outliers.**\n",
    "- Still getting significant results for normality testing. \n",
    "- Attempting 1 more method of outlier removal -- QuantileTransformer<br>\n",
    "```from sklearn.preprocessing import QuantileTransformer```"
   ]
  },
  {
   "cell_type": "markdown",
   "metadata": {
    "colab_type": "text",
    "id": "AThkalzRBRn1"
   },
   "source": [
    "### Sub-Aim 2.1.2 Use QuantileTransformer to attempt to meet the assumption of normality."
   ]
  },
  {
   "cell_type": "markdown",
   "metadata": {
    "colab_type": "text",
    "id": "WHSkqDscBRn1"
   },
   "source": [
    "#### def quant_transform "
   ]
  },
  {
   "cell_type": "code",
   "execution_count": 48,
   "metadata": {
    "colab": {},
    "colab_type": "code",
    "id": "GBZfYvQO2Jr0"
   },
   "outputs": [],
   "source": [
    "# TRANSFORM DATA BEFORE RE-CALLING ORIGINAL normtest_results\n",
    "def quant_transform(data_in):\n",
    "    '''Use sklearn.preprocessing.QuantileTransformer to remove outliers from dataset.\n",
    "    \n",
    "    Parameters:\n",
    "        data_in (dict) -- dictionary with data series as values to be processed.\n",
    "    Returns: \n",
    "        data_tf (dict) -- dicionary of same keys from data_in, but transformed.\n",
    "        '''\n",
    "    \n",
    "    from sklearn import preprocessing as prep \n",
    "    from sklearn.preprocessing import QuantileTransformer\n",
    "\n",
    "    qt =  QuantileTransformer(n_quantiles=10,output_distribution='normal')\n",
    "    data_tf = {}\n",
    "    for k,v in data_in.items():    \n",
    "        data = np.array(v).reshape(-1,1)\n",
    "        transformed = pd.Series(np.squeeze(qt.fit_transform(data)))\n",
    "      \n",
    "        data_tf[k] = transformed\n",
    "    \n",
    "    return data_tf"
   ]
  },
  {
   "cell_type": "code",
   "execution_count": 49,
   "metadata": {
    "colab": {
     "base_uri": "https://localhost:8080/",
     "height": 286
    },
    "colab_type": "code",
    "id": "5Iqt2xNPPF8H",
    "outputId": "7376129a-3723-4c85-feb9-1bbdd888f5f1"
   },
   "outputs": [
    {
     "data": {
      "text/html": [
       "<div>\n",
       "<style scoped>\n",
       "    .dataframe tbody tr th:only-of-type {\n",
       "        vertical-align: middle;\n",
       "    }\n",
       "\n",
       "    .dataframe tbody tr th {\n",
       "        vertical-align: top;\n",
       "    }\n",
       "\n",
       "    .dataframe thead th {\n",
       "        text-align: right;\n",
       "    }\n",
       "</style>\n",
       "<table border=\"1\" class=\"dataframe\">\n",
       "  <thead>\n",
       "    <tr style=\"text-align: right;\">\n",
       "      <th></th>\n",
       "      <th>DataIn</th>\n",
       "      <th>Test</th>\n",
       "      <th>stat</th>\n",
       "      <th>p</th>\n",
       "    </tr>\n",
       "  </thead>\n",
       "  <tbody>\n",
       "    <tr>\n",
       "      <th>0</th>\n",
       "      <td>Disc, Orig</td>\n",
       "      <td>Shapiro</td>\n",
       "      <td>0.955760</td>\n",
       "      <td>3.409909e-15</td>\n",
       "    </tr>\n",
       "    <tr>\n",
       "      <th>1</th>\n",
       "      <td>Disc, Clean</td>\n",
       "      <td>Shapiro</td>\n",
       "      <td>0.855450</td>\n",
       "      <td>1.641324e-25</td>\n",
       "    </tr>\n",
       "    <tr>\n",
       "      <th>2</th>\n",
       "      <td>(Full Price, Orig)</td>\n",
       "      <td>Shapiro</td>\n",
       "      <td>0.919123</td>\n",
       "      <td>5.725075e-26</td>\n",
       "    </tr>\n",
       "    <tr>\n",
       "      <th>3</th>\n",
       "      <td>(Full Price, Clean)</td>\n",
       "      <td>Shapiro</td>\n",
       "      <td>0.859803</td>\n",
       "      <td>1.033347e-31</td>\n",
       "    </tr>\n",
       "    <tr>\n",
       "      <th>0</th>\n",
       "      <td>Disc, Orig</td>\n",
       "      <td>D’Agostino’s</td>\n",
       "      <td>103.590493</td>\n",
       "      <td>3.203393e-23</td>\n",
       "    </tr>\n",
       "    <tr>\n",
       "      <th>1</th>\n",
       "      <td>Disc, Clean</td>\n",
       "      <td>D’Agostino’s</td>\n",
       "      <td>110.340329</td>\n",
       "      <td>1.096231e-24</td>\n",
       "    </tr>\n",
       "    <tr>\n",
       "      <th>2</th>\n",
       "      <td>(Full Price, Orig)</td>\n",
       "      <td>D’Agostino’s</td>\n",
       "      <td>317.579615</td>\n",
       "      <td>1.092604e-69</td>\n",
       "    </tr>\n",
       "    <tr>\n",
       "      <th>3</th>\n",
       "      <td>(Full Price, Clean)</td>\n",
       "      <td>D’Agostino’s</td>\n",
       "      <td>327.579515</td>\n",
       "      <td>7.362276e-72</td>\n",
       "    </tr>\n",
       "  </tbody>\n",
       "</table>\n",
       "</div>"
      ],
      "text/plain": [
       "                DataIn          Test        stat             p\n",
       "0           Disc, Orig       Shapiro    0.955760  3.409909e-15\n",
       "1          Disc, Clean       Shapiro    0.855450  1.641324e-25\n",
       "2   (Full Price, Orig)       Shapiro    0.919123  5.725075e-26\n",
       "3  (Full Price, Clean)       Shapiro    0.859803  1.033347e-31\n",
       "0           Disc, Orig  D’Agostino’s  103.590493  3.203393e-23\n",
       "1          Disc, Clean  D’Agostino’s  110.340329  1.096231e-24\n",
       "2   (Full Price, Orig)  D’Agostino’s  317.579615  1.092604e-69\n",
       "3  (Full Price, Clean)  D’Agostino’s  327.579515  7.362276e-72"
      ]
     },
     "execution_count": 49,
     "metadata": {},
     "output_type": "execute_result"
    }
   ],
   "source": [
    "# Run data_in through quant_transform to get data_tf\n",
    "data_tf = quant_transform(data_in)\n",
    "\n",
    "# Run transformed data through normtest_results.\n",
    "trans_norm_test = normtest_results(data_tf)#[0]\n",
    "trans_norm_test"
   ]
  },
  {
   "cell_type": "code",
   "execution_count": 50,
   "metadata": {
    "colab": {},
    "colab_type": "code",
    "id": "Cw61oSNnAVdc"
   },
   "outputs": [],
   "source": [
    "# dataDict = {'Original':data_in,'Transformed':data_in_tf }\n",
    "# # df_data = normtest_results(data_in)[0]\n",
    "# dataDict_results = {'Original-Results':normtest_results(data_in),'Transformed-Results': normtest_results(data_in_tf)}"
   ]
  },
  {
   "cell_type": "code",
   "execution_count": 51,
   "metadata": {
    "colab": {},
    "colab_type": "code",
    "id": "w3F7bYgx2xlw"
   },
   "outputs": [],
   "source": [
    "# # Display info for \n",
    "# printDict=dataDict\n",
    "# print(f'dataDict')\n",
    "\n",
    "# for key, val in printDict.items():\n",
    "#   print(key)\n",
    "#   for k, v in printDict[key].items():\n",
    "#     print(f'   {k}\\n         has {len(v)} values with mean={np.mean(v)}')\n"
   ]
  },
  {
   "cell_type": "markdown",
   "metadata": {
    "colab_type": "text",
    "id": "0b4wlr87rR2b"
   },
   "source": [
    "### Sub-Aim 2.1.3 Use resampling to get a normal distribution from the data and re-run normality tests."
   ]
  },
  {
   "cell_type": "code",
   "execution_count": 52,
   "metadata": {
    "colab": {},
    "colab_type": "code",
    "id": "L6n5eR-LrYhU"
   },
   "outputs": [],
   "source": [
    "data_discounted = df['Quantity'].loc[df['Discount']>0].copy()\n",
    "data_fullprice = df['Quantity'].loc[df['Discount']==0].copy()"
   ]
  },
  {
   "cell_type": "code",
   "execution_count": 53,
   "metadata": {
    "colab": {},
    "colab_type": "code",
    "id": "bZuGT5f8rcf-"
   },
   "outputs": [],
   "source": [
    "# Resample our data  i # of samples with n =50/sample \n",
    "n = 50 \n",
    "i = 10000\n",
    "pop_samp_disc = []\n",
    "pop_samp_full = []\n",
    "for i in range(0,i):\n",
    "    \n",
    "    pop_samp_disc.append(data_discounted.sample(n).mean())\n",
    "    pop_samp_full.append(data_fullprice.sample(n).mean())\n",
    "    #   test_results.append(normaltest())\n",
    "    # plt.hist([pop_samp_disc,pop_samp_full])"
   ]
  },
  {
   "cell_type": "code",
   "execution_count": 54,
   "metadata": {
    "colab": {
     "base_uri": "https://localhost:8080/",
     "height": 468
    },
    "colab_type": "code",
    "id": "_COpv9y0BRoF",
    "outputId": "e14994c2-b8f9-434d-8c40-0a50b429b55c"
   },
   "outputs": [
    {
     "data": {
      "image/png": "[encoded data removed]",
      "text/plain": [
       "<Figure size 432x288 with 1 Axes>"
      ]
     },
     "metadata": {
      "needs_background": "light"
     },
     "output_type": "display_data"
    },
    {
     "name": "stdout",
     "output_type": "stream",
     "text": [
      "Normality: stat =106.9060183648515, p = 6.1045417873047825e-24\n"
     ]
    }
   ],
   "source": [
    "# Plot the re-sampled data\n",
    "\n",
    "# # IF want to take smaller sample from population:\n",
    "\n",
    "# pop_samp_disc = np.random.choice(pop_samp_disc,1000)\n",
    "# pop_samp_full = np.random.choice(pop_samp_full, 1000)\n",
    "with plt.style.context(('tableau-colorblind10')):\n",
    "    fig = plt.figure()\n",
    "    \n",
    "    plt.title('Quantity of Discounted vs Full Price Products Purchased ')\n",
    "    \n",
    "    plt.hist(pop_samp_disc,alpha = 0.5, bins=30,label='Discounted')\n",
    "    plt.hist(pop_samp_full,color='black', alpha = 0.5, bins=30,label='Full Price')\n",
    "\n",
    "    # Adding annotations\n",
    "    meanD = round(np.mean(pop_samp_disc),3)\n",
    "    meanS = round(np.mean(pop_samp_full),3)\n",
    "    \n",
    "    plt.axvline(meanD, linestyle='--',label='Discounted Mean')\n",
    "    plt.text(meanD-1,700,f'Mean:{meanD}',rotation=90)\n",
    "    \n",
    "    plt.axvline(meanS,color='k',linestyle='--',label='Full Price Mean')\n",
    "    plt.text(meanS-1,700,f'Mean:{meanS}',rotation=90)\n",
    "\n",
    "\n",
    "    plt.legend()\n",
    "    plt.show()\n",
    "\n",
    "# Run normality testing\n",
    "stat,p = normaltest(pop_samp_full)\n",
    "print(f'Normality: stat ={stat}, p = {p}')\n",
    "\n",
    "# Run ttest\n",
    "tstat,tp = stats.ttest_ind(pop_samp_disc, pop_samp_full)\n",
    "# print(f'T-test: stat ={tstat}, p = {tp}')#tstat,tp\n",
    "# ax.text("
   ]
  },
  {
   "cell_type": "markdown",
   "metadata": {},
   "source": [
    "#### H1, Aim 2 Preliminary notes.\n",
    "- Regardless of transformations, we do not pass normality test.\n",
    "- Switching tactics and letting the the tests for assumptions of normality and equal variance decide the appropriate test\n"
   ]
  },
  {
   "cell_type": "markdown",
   "metadata": {
    "colab_type": "text",
    "id": "Oo7In-gvtezW"
   },
   "source": [
    "___\n",
    "## ***H1, Aim 2: Final Workflow for testing assumptions***"
   ]
  },
  {
   "cell_type": "markdown",
   "metadata": {
    "colab_type": "text",
    "id": "ARClmsCLLoNf"
   },
   "source": [
    "#### New Statistical Analysis Pipeline\n",
    "1. **Test for Normality**\n",
    "    - D'Agostino-Pearson's normality test<br>\n",
    "    ```scipy.stats.normaltest```\n",
    "    - Shapiro-Wilik Test<br>\n",
    "    ```scipy.stats.shapiro```<br>\n",
    "    \n",
    "2. **Test for Homogeneity of Variance**\n",
    "    - Levene's Test<br>\n",
    "    ```scipy.stats.levene```\n",
    "\n",
    "3. **Choose appropriate test based upon 1. and 2.** <br> \n",
    "    - Welch's T-Test\n",
    "    - Mann Whitney U\n",
    "    - ANOVA \n",
    "    - Tukey's\n",
    "    \n",
    "4. Calculate effect size for significant results. \n",
    "    - Effect size: [cohen's d](https://stackoverflow.com/questions/21532471/how-to-calculate-cohens-d-in-python)\n",
    "\n",
    "5. If significant, follow up with post-hoc tests (if have more than 2 groups)\n",
    "    - [Tukey's](https://www.statsmodels.org/stable/generated/statsmodels.stats.multicomp.pairwise_tukeyhsd.html)\n"
   ]
  },
  {
   "cell_type": "code",
   "execution_count": 55,
   "metadata": {
    "colab": {
     "base_uri": "https://localhost:8080/",
     "height": 334
    },
    "colab_type": "code",
    "id": "dA459xbHLnoR",
    "outputId": "71d3cab4-c3ad-48d2-a5b8-a5158a377656"
   },
   "outputs": [
    {
     "data": {
      "text/plain": [
       "(         Quantity   UnitPrice    Discount\n",
       " count  838.000000  838.000000  838.000000\n",
       " mean    27.109785   26.292363    0.144439\n",
       " std     20.771439   30.017214    0.071808\n",
       " min      1.000000    2.000000    0.010000\n",
       " 25%     12.000000   12.500000    0.100000\n",
       " 50%     20.000000   18.000000    0.150000\n",
       " 75%     36.000000   31.230000    0.200000\n",
       " max    130.000000  263.500000    0.250000,\n",
       " '--------------------------------------------------',\n",
       "           Quantity    UnitPrice  Discount\n",
       " count  1317.000000  1317.000000    1317.0\n",
       " mean     21.715262    26.171534       0.0\n",
       " std      17.507493    29.717354       0.0\n",
       " min       1.000000     2.000000       0.0\n",
       " 25%      10.000000    12.000000       0.0\n",
       " 50%      18.000000    18.400000       0.0\n",
       " 75%      30.000000    32.800000       0.0\n",
       " max     130.000000   263.500000       0.0)"
      ]
     },
     "execution_count": 55,
     "metadata": {},
     "output_type": "execute_result"
    }
   ],
   "source": [
    "# 1 - Separating groups from dfH (dataframeHypothesis)\n",
    "dfH = df[['Quantity','UnitPrice','Discount']].copy()\n",
    "\n",
    "#Adding group definitions\n",
    "grpA = \"['Discount'] > 0\"\n",
    "grpB = \"['Discount'] == 0\"\n",
    "\n",
    "# Using eval to create df_A and df_B; will allow us to fill in our results \n",
    "# with the exact definitions of Group A and Group B\n",
    "df_A = eval(f'dfH.loc[dfH{grpA}]')\n",
    "df_B = eval(f'dfH.loc[dfH{grpB}]')\n",
    "\n",
    "# dfj_D = dfH.loc[dfj['Discount']>0] \n",
    "# dfj_F = dfH.loc[dfj['Discount']==0]\n",
    "df_A.describe(),'--'*25,df_B.describe()"
   ]
  },
  {
   "cell_type": "markdown",
   "metadata": {
    "colab_type": "text",
    "id": "7VAimpHrBRoL"
   },
   "source": [
    "### Aim 2.1: Test for Normality"
   ]
  },
  {
   "cell_type": "code",
   "execution_count": 56,
   "metadata": {
    "colab": {},
    "colab_type": "code",
    "id": "zDIYeMJMIum6"
   },
   "outputs": [],
   "source": [
    "# Adding table to collect summary statistics\n",
    "H1_tests = [['Group:','TestName','Test Purpose','stat','p','p<.05?']  ]"
   ]
  },
  {
   "cell_type": "code",
   "execution_count": 57,
   "metadata": {
    "colab": {
     "base_uri": "https://localhost:8080/",
     "height": 50
    },
    "colab_type": "code",
    "id": "ZcwUoJKjNIZu",
    "outputId": "de2dc603-235b-4c2e-f830-65235e77cc20"
   },
   "outputs": [
    {
     "name": "stdout",
     "output_type": "stream",
     "text": [
      "A:stat=261.528012299789, p=1.6214878452829618e-57\n",
      "B:stat=544.5770045551502, p=5.579637380545965e-119\n"
     ]
    }
   ],
   "source": [
    "# H1_tests = [['Group:','TestName','Test Purpose','stat','p']  ]\n",
    "# 2. Testing normality\n",
    "\n",
    "test_purpose = 'Normality'\n",
    "test_to_run = 'normaltest'\n",
    "\n",
    "arrA = np.array(df_A['Quantity'])\n",
    "arrB = np.array(df_B['Quantity'])\n",
    "\n",
    "statA, pA = eval(test_to_run)(arrA)\n",
    "statB, pB = eval(test_to_run)(arrB)\n",
    "\n",
    "print(f'A:stat={statA}, p={pA}')\n",
    "print(f'B:stat={statB}, p={pB}')\n",
    "\n",
    "# H1_tests = [['Group:','TestName','Test Purpose','stat','p']  ]\n",
    "H1_tests.append(['A: '+grpA,test_to_run,test_purpose,statA,pA, pA<.05])\n",
    "H1_tests.append(['B: '+grpB,test_to_run,test_purpose,statB,pB, pB<.05])\n",
    "# list2df(H1_tests)"
   ]
  },
  {
   "cell_type": "code",
   "execution_count": 58,
   "metadata": {
    "colab": {
     "base_uri": "https://localhost:8080/",
     "height": 107
    },
    "colab_type": "code",
    "id": "BeOQ35sjQ4wJ",
    "outputId": "3fc862d6-ecf0-42a7-da2f-ee670573cbfa"
   },
   "outputs": [
    {
     "data": {
      "text/html": [
       "<div>\n",
       "<style scoped>\n",
       "    .dataframe tbody tr th:only-of-type {\n",
       "        vertical-align: middle;\n",
       "    }\n",
       "\n",
       "    .dataframe tbody tr th {\n",
       "        vertical-align: top;\n",
       "    }\n",
       "\n",
       "    .dataframe thead th {\n",
       "        text-align: right;\n",
       "    }\n",
       "</style>\n",
       "<table border=\"1\" class=\"dataframe\">\n",
       "  <thead>\n",
       "    <tr style=\"text-align: right;\">\n",
       "      <th></th>\n",
       "      <th>Group:</th>\n",
       "      <th>TestName</th>\n",
       "      <th>Test Purpose</th>\n",
       "      <th>stat</th>\n",
       "      <th>p</th>\n",
       "      <th>p&lt;.05?</th>\n",
       "    </tr>\n",
       "  </thead>\n",
       "  <tbody>\n",
       "    <tr>\n",
       "      <th>0</th>\n",
       "      <td>A: ['Discount'] &gt; 0</td>\n",
       "      <td>normaltest</td>\n",
       "      <td>Normality</td>\n",
       "      <td>261.528</td>\n",
       "      <td>0.0</td>\n",
       "      <td>True</td>\n",
       "    </tr>\n",
       "    <tr>\n",
       "      <th>1</th>\n",
       "      <td>B: ['Discount'] == 0</td>\n",
       "      <td>normaltest</td>\n",
       "      <td>Normality</td>\n",
       "      <td>544.577</td>\n",
       "      <td>0.0</td>\n",
       "      <td>True</td>\n",
       "    </tr>\n",
       "  </tbody>\n",
       "</table>\n",
       "</div>"
      ],
      "text/plain": [
       "                 Group:    TestName Test Purpose     stat    p  p<.05?\n",
       "0   A: ['Discount'] > 0  normaltest    Normality  261.528  0.0    True\n",
       "1  B: ['Discount'] == 0  normaltest    Normality  544.577  0.0    True"
      ]
     },
     "execution_count": 58,
     "metadata": {},
     "output_type": "execute_result"
    }
   ],
   "source": [
    "list2df(H1_tests).round(4)"
   ]
  },
  {
   "cell_type": "markdown",
   "metadata": {
    "colab_type": "text",
    "id": "UpFPGfa1BRoQ"
   },
   "source": [
    "### Aim 2.2 Test for Homogeneity of Variance"
   ]
  },
  {
   "cell_type": "code",
   "execution_count": 59,
   "metadata": {
    "colab": {},
    "colab_type": "code",
    "id": "Ows78wGWP7LH"
   },
   "outputs": [],
   "source": [
    "# 3. Test for homo var\n",
    "test_to_run = 'stats.levene'\n",
    "stat,p = eval(test_to_run)(arrA,arrB,center='median')\n",
    "\n",
    "H1_tests.append(['A&B',test_to_run,'Equal Var',stat,p, p<.05])"
   ]
  },
  {
   "cell_type": "markdown",
   "metadata": {
    "colab_type": "text",
    "id": "l0OlDfLLBRoT"
   },
   "source": [
    "### Aim 2.3 Selecting the appropriate test to perform."
   ]
  },
  {
   "cell_type": "code",
   "execution_count": 60,
   "metadata": {
    "colab": {
     "base_uri": "https://localhost:8080/",
     "height": 137
    },
    "colab_type": "code",
    "id": "0OVY01SMRD_l",
    "outputId": "87810342-0701-4cdf-867b-30b327aa8829"
   },
   "outputs": [
    {
     "data": {
      "text/html": [
       "<div>\n",
       "<style scoped>\n",
       "    .dataframe tbody tr th:only-of-type {\n",
       "        vertical-align: middle;\n",
       "    }\n",
       "\n",
       "    .dataframe tbody tr th {\n",
       "        vertical-align: top;\n",
       "    }\n",
       "\n",
       "    .dataframe thead th {\n",
       "        text-align: right;\n",
       "    }\n",
       "</style>\n",
       "<table border=\"1\" class=\"dataframe\">\n",
       "  <thead>\n",
       "    <tr style=\"text-align: right;\">\n",
       "      <th></th>\n",
       "      <th>Group:</th>\n",
       "      <th>TestName</th>\n",
       "      <th>Test Purpose</th>\n",
       "      <th>stat</th>\n",
       "      <th>p</th>\n",
       "      <th>p&lt;.05?</th>\n",
       "    </tr>\n",
       "  </thead>\n",
       "  <tbody>\n",
       "    <tr>\n",
       "      <th>0</th>\n",
       "      <td>A: ['Discount'] &gt; 0</td>\n",
       "      <td>normaltest</td>\n",
       "      <td>Normality</td>\n",
       "      <td>261.528012</td>\n",
       "      <td>1.621488e-57</td>\n",
       "      <td>True</td>\n",
       "    </tr>\n",
       "    <tr>\n",
       "      <th>1</th>\n",
       "      <td>B: ['Discount'] == 0</td>\n",
       "      <td>normaltest</td>\n",
       "      <td>Normality</td>\n",
       "      <td>544.577005</td>\n",
       "      <td>5.579637e-119</td>\n",
       "      <td>True</td>\n",
       "    </tr>\n",
       "    <tr>\n",
       "      <th>2</th>\n",
       "      <td>A&amp;B</td>\n",
       "      <td>stats.levene</td>\n",
       "      <td>Equal Var</td>\n",
       "      <td>14.832672</td>\n",
       "      <td>1.209138e-04</td>\n",
       "      <td>True</td>\n",
       "    </tr>\n",
       "  </tbody>\n",
       "</table>\n",
       "</div>"
      ],
      "text/plain": [
       "                 Group:      TestName Test Purpose        stat              p  \\\n",
       "0   A: ['Discount'] > 0    normaltest    Normality  261.528012   1.621488e-57   \n",
       "1  B: ['Discount'] == 0    normaltest    Normality  544.577005  5.579637e-119   \n",
       "2                   A&B  stats.levene    Equal Var   14.832672   1.209138e-04   \n",
       "\n",
       "   p<.05?  \n",
       "0    True  \n",
       "1    True  \n",
       "2    True  "
      ]
     },
     "execution_count": 60,
     "metadata": {},
     "output_type": "execute_result"
    }
   ],
   "source": [
    "list2df(H1_tests)"
   ]
  },
  {
   "cell_type": "markdown",
   "metadata": {
    "colab_type": "text",
    "id": "Zq38mtURQaoN"
   },
   "source": [
    "### Conclusions so far...\n",
    "- We failed both normaltests and homo variance\n",
    "- Need non-parametric 2sample ttest\n",
    "    - [**Mann-Whitney U test**](https://docs.scipy.org/doc/scipy/reference/generated/scipy.stats.mannwhitneyu.html)"
   ]
  },
  {
   "cell_type": "code",
   "execution_count": 61,
   "metadata": {
    "colab": {},
    "colab_type": "code",
    "id": "NqYI47YbBRoY"
   },
   "outputs": [],
   "source": [
    "#### Mann-Whitney U test"
   ]
  },
  {
   "cell_type": "code",
   "execution_count": 62,
   "metadata": {
    "colab": {},
    "colab_type": "code",
    "id": "z0cdkzP5S9SX"
   },
   "outputs": [],
   "source": [
    "# Mann Whitney U test+\n",
    "import scipy.stats as stats\n",
    "# arrA was discounted, arrB was non-discounted\n",
    "test_to_run = 'stats.mannwhitneyu'\n",
    "stat, p = eval(test_to_run)(arrA,arrB,alternative='greater')\n",
    "stat, p\n",
    "H1_tests.append(['A vs. B',test_to_run, 'H1_sig', stat,p, p<.05])"
   ]
  },
  {
   "cell_type": "markdown",
   "metadata": {
    "colab_type": "text",
    "id": "fhPYorQYBRof"
   },
   "source": [
    "#### Calculating Effect Size"
   ]
  },
  {
   "cell_type": "code",
   "execution_count": 63,
   "metadata": {
    "colab": {
     "base_uri": "https://localhost:8080/",
     "height": 33
    },
    "colab_type": "code",
    "id": "YNNnHq2TBRof",
    "outputId": "88dc9e65-3a16-4392-97e3-37a2c4acb969"
   },
   "outputs": [
    {
     "name": "stdout",
     "output_type": "stream",
     "text": [
      "Cohen's d=0.286\n"
     ]
    },
    {
     "data": {
      "text/html": [
       "<div>\n",
       "<style scoped>\n",
       "    .dataframe tbody tr th:only-of-type {\n",
       "        vertical-align: middle;\n",
       "    }\n",
       "\n",
       "    .dataframe tbody tr th {\n",
       "        vertical-align: top;\n",
       "    }\n",
       "\n",
       "    .dataframe thead th {\n",
       "        text-align: right;\n",
       "    }\n",
       "</style>\n",
       "<table border=\"1\" class=\"dataframe\">\n",
       "  <thead>\n",
       "    <tr style=\"text-align: right;\">\n",
       "      <th></th>\n",
       "      <th>Group:</th>\n",
       "      <th>TestName</th>\n",
       "      <th>Test Purpose</th>\n",
       "      <th>stat</th>\n",
       "      <th>p</th>\n",
       "      <th>p&lt;.05?</th>\n",
       "    </tr>\n",
       "  </thead>\n",
       "  <tbody>\n",
       "    <tr>\n",
       "      <th>0</th>\n",
       "      <td>A: ['Discount'] &gt; 0</td>\n",
       "      <td>normaltest</td>\n",
       "      <td>Normality</td>\n",
       "      <td>261.528</td>\n",
       "      <td>1.62149e-57</td>\n",
       "      <td>True</td>\n",
       "    </tr>\n",
       "    <tr>\n",
       "      <th>1</th>\n",
       "      <td>B: ['Discount'] == 0</td>\n",
       "      <td>normaltest</td>\n",
       "      <td>Normality</td>\n",
       "      <td>544.577</td>\n",
       "      <td>5.57964e-119</td>\n",
       "      <td>True</td>\n",
       "    </tr>\n",
       "    <tr>\n",
       "      <th>2</th>\n",
       "      <td>A&amp;B</td>\n",
       "      <td>stats.levene</td>\n",
       "      <td>Equal Var</td>\n",
       "      <td>14.8327</td>\n",
       "      <td>0.000120914</td>\n",
       "      <td>True</td>\n",
       "    </tr>\n",
       "    <tr>\n",
       "      <th>3</th>\n",
       "      <td>A vs. B</td>\n",
       "      <td>stats.mannwhitneyu</td>\n",
       "      <td>H1_sig</td>\n",
       "      <td>642105</td>\n",
       "      <td>6.62938e-11</td>\n",
       "      <td>True</td>\n",
       "    </tr>\n",
       "    <tr>\n",
       "      <th>4</th>\n",
       "      <td>A vs. B</td>\n",
       "      <td>Cohen's d</td>\n",
       "      <td>Effect Size</td>\n",
       "      <td>d</td>\n",
       "      <td>--</td>\n",
       "      <td>--</td>\n",
       "    </tr>\n",
       "  </tbody>\n",
       "</table>\n",
       "</div>"
      ],
      "text/plain": [
       "                 Group:            TestName Test Purpose     stat  \\\n",
       "0   A: ['Discount'] > 0          normaltest    Normality  261.528   \n",
       "1  B: ['Discount'] == 0          normaltest    Normality  544.577   \n",
       "2                   A&B        stats.levene    Equal Var  14.8327   \n",
       "3               A vs. B  stats.mannwhitneyu       H1_sig   642105   \n",
       "4               A vs. B           Cohen's d  Effect Size        d   \n",
       "\n",
       "              p p<.05?  \n",
       "0   1.62149e-57   True  \n",
       "1  5.57964e-119   True  \n",
       "2   0.000120914   True  \n",
       "3   6.62938e-11   True  \n",
       "4            --     --  "
      ]
     },
     "execution_count": 63,
     "metadata": {},
     "output_type": "execute_result"
    }
   ],
   "source": [
    "# Calculating Cohens d\n",
    "d = Cohen_d(arrA,arrB)\n",
    "print(f\"Cohen's d={round(d,3)}\")\n",
    "\n",
    "# Append H1_tests and export result. \n",
    "H1_tests.append(['A vs. B',\"Cohen's d\",'Effect Size','d','--','--'])\n",
    "table_H1_test_results = list2df(H1_tests)\n",
    "\n",
    "# Export csv if user sets save_for_user to True\n",
    "if save_for_user==True:\n",
    "    table_H1_test_results.to_csv('table_H1_test_results.csv')\n",
    "\n",
    "# Display output                          \n",
    "table_H1_test_results"
   ]
  },
  {
   "cell_type": "code",
   "execution_count": 80,
   "metadata": {},
   "outputs": [
    {
     "data": {
      "text/html": [
       "<div>\n",
       "<style scoped>\n",
       "    .dataframe tbody tr th:only-of-type {\n",
       "        vertical-align: middle;\n",
       "    }\n",
       "\n",
       "    .dataframe tbody tr th {\n",
       "        vertical-align: top;\n",
       "    }\n",
       "\n",
       "    .dataframe thead th {\n",
       "        text-align: right;\n",
       "    }\n",
       "</style>\n",
       "<table border=\"1\" class=\"dataframe\">\n",
       "  <thead>\n",
       "    <tr style=\"text-align: right;\">\n",
       "      <th></th>\n",
       "      <th>H#</th>\n",
       "      <th>Group</th>\n",
       "      <th>mean</th>\n",
       "      <th>sem</th>\n",
       "      <th>std</th>\n",
       "      <th>n</th>\n",
       "    </tr>\n",
       "  </thead>\n",
       "  <tbody>\n",
       "    <tr>\n",
       "      <th>0</th>\n",
       "      <td>H1</td>\n",
       "      <td>A:['Discount'] &gt; 0</td>\n",
       "      <td>27.109785</td>\n",
       "      <td>0.717537</td>\n",
       "      <td>20.759042</td>\n",
       "      <td>838</td>\n",
       "    </tr>\n",
       "    <tr>\n",
       "      <th>1</th>\n",
       "      <td>H1</td>\n",
       "      <td>B:['Discount'] == 0</td>\n",
       "      <td>21.715262</td>\n",
       "      <td>0.482426</td>\n",
       "      <td>17.500845</td>\n",
       "      <td>1317</td>\n",
       "    </tr>\n",
       "  </tbody>\n",
       "</table>\n",
       "</div>"
      ],
      "text/plain": [
       "   H#                Group       mean       sem        std     n\n",
       "0  H1   A:['Discount'] > 0  27.109785  0.717537  20.759042   838\n",
       "1  H1  B:['Discount'] == 0  21.715262  0.482426  17.500845  1317"
      ]
     },
     "execution_count": 80,
     "metadata": {},
     "output_type": "execute_result"
    }
   ],
   "source": [
    "# Save table of basic info on central tendency\n",
    "from scipy.stats import sem\n",
    "H1_mean_sem = [['H#','Group','mean','sem','std','n']]\n",
    "\n",
    "dataArr=arrA\n",
    "H1_mean_sem.append(['H1',f'A:{grpA}',np.mean(dataArr),sem(dataArr), np.std(dataArr),len(dataArr)])\n",
    "\n",
    "dataArr=arrB\n",
    "H1_mean_sem.append(['H1',f'B:{grpB}',np.mean(dataArr),sem(dataArr), np.std(dataArr),len(dataArr)])\n",
    "\n",
    "table_H1_mean_sem = list2df(H1_mean_sem)\n",
    "\n",
    "# Export csv if user sets save_for_user to True\n",
    "if save_for_user==True:\n",
    "    table_H1_mean_sem.to_csv('table_H1_mean_sem.csv')    \n",
    "table_H1_mean_sem"
   ]
  },
  {
   "cell_type": "markdown",
   "metadata": {
    "colab_type": "text",
    "id": "wHEx112CTia4"
   },
   "source": [
    "#### Interpretation of results. \n",
    "**We have a significant Mann Whitney U results, but we have yet to say anything about**\n",
    "- We should now run post-hoc tests using pairwise Tukey's tests \n",
    "- Compare all levels of discount in pairwise comparisons "
   ]
  },
  {
   "cell_type": "markdown",
   "metadata": {
    "colab_type": "text",
    "id": "Tlxz4CgRBRoj"
   },
   "source": [
    "## ***H1, Aim 3: To perform post-hoc pairwise comparisons for level of discount***\n",
    "- **To find out which level of discount is most effective/significant.**"
   ]
  },
  {
   "cell_type": "code",
   "execution_count": 65,
   "metadata": {
    "colab": {
     "base_uri": "https://localhost:8080/",
     "height": 375
    },
    "colab_type": "code",
    "id": "NmGwt-GyUDFF",
    "outputId": "eb7caf12-e80a-4cca-ea65-2b3499dfc092"
   },
   "outputs": [
    {
     "data": {
      "text/html": [
       "<div>\n",
       "<style scoped>\n",
       "    .dataframe tbody tr th:only-of-type {\n",
       "        vertical-align: middle;\n",
       "    }\n",
       "\n",
       "    .dataframe tbody tr th {\n",
       "        vertical-align: top;\n",
       "    }\n",
       "\n",
       "    .dataframe thead th {\n",
       "        text-align: right;\n",
       "    }\n",
       "</style>\n",
       "<table border=\"1\" class=\"dataframe\">\n",
       "  <thead>\n",
       "    <tr style=\"text-align: right;\">\n",
       "      <th></th>\n",
       "      <th>Discount</th>\n",
       "    </tr>\n",
       "  </thead>\n",
       "  <tbody>\n",
       "    <tr>\n",
       "      <th>0.00</th>\n",
       "      <td>1317</td>\n",
       "    </tr>\n",
       "    <tr>\n",
       "      <th>0.01</th>\n",
       "      <td>1</td>\n",
       "    </tr>\n",
       "    <tr>\n",
       "      <th>0.02</th>\n",
       "      <td>2</td>\n",
       "    </tr>\n",
       "    <tr>\n",
       "      <th>0.03</th>\n",
       "      <td>3</td>\n",
       "    </tr>\n",
       "    <tr>\n",
       "      <th>0.04</th>\n",
       "      <td>1</td>\n",
       "    </tr>\n",
       "    <tr>\n",
       "      <th>0.05</th>\n",
       "      <td>185</td>\n",
       "    </tr>\n",
       "    <tr>\n",
       "      <th>0.06</th>\n",
       "      <td>1</td>\n",
       "    </tr>\n",
       "    <tr>\n",
       "      <th>0.10</th>\n",
       "      <td>173</td>\n",
       "    </tr>\n",
       "    <tr>\n",
       "      <th>0.15</th>\n",
       "      <td>157</td>\n",
       "    </tr>\n",
       "    <tr>\n",
       "      <th>0.20</th>\n",
       "      <td>161</td>\n",
       "    </tr>\n",
       "    <tr>\n",
       "      <th>0.25</th>\n",
       "      <td>154</td>\n",
       "    </tr>\n",
       "  </tbody>\n",
       "</table>\n",
       "</div>"
      ],
      "text/plain": [
       "      Discount\n",
       "0.00      1317\n",
       "0.01         1\n",
       "0.02         2\n",
       "0.03         3\n",
       "0.04         1\n",
       "0.05       185\n",
       "0.06         1\n",
       "0.10       173\n",
       "0.15       157\n",
       "0.20       161\n",
       "0.25       154"
      ]
     },
     "execution_count": 65,
     "metadata": {},
     "output_type": "execute_result"
    }
   ],
   "source": [
    "pd.DataFrame(df['Discount'].value_counts().sort_index())"
   ]
  },
  {
   "cell_type": "code",
   "execution_count": 66,
   "metadata": {
    "colab": {
     "base_uri": "https://localhost:8080/",
     "height": 418
    },
    "colab_type": "code",
    "id": "0Vr2q4dFYdEe",
    "outputId": "202f3eee-bbf0-42eb-f20b-13e388f74f7a"
   },
   "outputs": [],
   "source": [
    "# df.info()"
   ]
  },
  {
   "cell_type": "markdown",
   "metadata": {
    "colab_type": "text",
    "id": "sNKUUYlR7WDu"
   },
   "source": [
    "### Creating Discount Level Variables for Tukey\n",
    "- Adding LabelEncoding\n",
    "- Question: do we want to have \"None\" encoded? Not sure. Would need to replace the current np.NaN with \"NaN\" first or likely will return error"
   ]
  },
  {
   "cell_type": "code",
   "execution_count": 67,
   "metadata": {
    "colab": {
     "base_uri": "https://localhost:8080/",
     "height": 117
    },
    "colab_type": "code",
    "id": "C-DVFhJMk_yb",
    "outputId": "4db437b8-d400-4410-d8b1-97800ff9be0f"
   },
   "outputs": [
    {
     "data": {
      "text/plain": [
       "((Interval(-0.05, 0.0, closed='right'), 0),\n",
       " (Interval(0.0, 0.05, closed='right'), 1),\n",
       " (Interval(0.05, 0.1, closed='right'), 2),\n",
       " (Interval(0.1, 0.15, closed='right'), 3),\n",
       " (Interval(0.15, 0.2, closed='right'), 4),\n",
       " (Interval(0.2, 0.25, closed='right'), 5))"
      ]
     },
     "execution_count": 67,
     "metadata": {},
     "output_type": "execute_result"
    }
   ],
   "source": [
    "# intervalIndex = pd.IntervalIndex(())\n",
    "df_cut = df.copy().drop('Discount',axis=1)\n",
    "\n",
    "new_discounts = pd.cut(df['Discount'],[-0.05,0.0,0.05,0.10,0.15,0.20,0.25,0.3], include_lowest=False)\n",
    "new_discouts = new_discounts.cat.as_ordered(inplace=True)\n",
    "df_disc_codes  = new_discounts.cat.codes\n",
    "\n",
    "# Save code info for later\n",
    "disc_intervals = new_discounts.unique().sort_values()\n",
    "disc_codes = sorted(df_disc_codes.unique())\n",
    "\n",
    "# Save the intervals \n",
    "labelCodes = tuple(zip(disc_intervals,disc_codes))\n",
    "labelCodes"
   ]
  },
  {
   "cell_type": "code",
   "execution_count": 68,
   "metadata": {
    "colab": {
     "base_uri": "https://localhost:8080/",
     "height": 583
    },
    "colab_type": "code",
    "id": "OtMWYl-sp2qJ",
    "outputId": "6a8f7ce2-db3c-46f6-d25d-f4d3fbbd3546"
   },
   "outputs": [],
   "source": [
    "# Before encoding\n",
    "df_H1codes = pd.concat([df_cut,new_discounts,df_disc_codes],axis=1)\n",
    "# df_H1codes.info()\n",
    "# df_H1codes.Discount.unique()"
   ]
  },
  {
   "cell_type": "code",
   "execution_count": 69,
   "metadata": {
    "colab": {
     "base_uri": "https://localhost:8080/",
     "height": 350
    },
    "colab_type": "code",
    "id": "NIDghtaWjKKB",
    "outputId": "c7559a2f-ee69-45d2-ec0f-699d83f57290"
   },
   "outputs": [],
   "source": [
    "# colnames = list(df_H1codes.columns)\n",
    "# colnames[-1] = 'DiscSize'\n",
    "# df_H1codes.columns = colnames\n",
    "# df_H1codes.head()"
   ]
  },
  {
   "cell_type": "markdown",
   "metadata": {
    "colab_type": "text",
    "id": "Pq0W7aFQdt1O"
   },
   "source": [
    "### Use Tukey's Pairwise Multiple Comparison test.\n",
    "```statsmodels.stats.multicomp.pairwise_tukeyhsd```"
   ]
  },
  {
   "cell_type": "code",
   "execution_count": 70,
   "metadata": {
    "colab": {
     "base_uri": "https://localhost:8080/",
     "height": 351
    },
    "colab_type": "code",
    "id": "NSrS7lQajjJy",
    "outputId": "b12c5051-36cf-4634-ac83-d62c33606193"
   },
   "outputs": [
    {
     "name": "stdout",
     "output_type": "stream",
     "text": [
      "   Multiple Comparison of Means - Tukey HSD,FWER=0.05   \n",
      "========================================================\n",
      "   group1       group2   meandiff  lower   upper  reject\n",
      "--------------------------------------------------------\n",
      "(-0.05, 0.0] (0.0, 0.05]  5.3368   1.1841  9.4895  True \n",
      "(-0.05, 0.0] (0.05, 0.1]  3.3882  -0.9479  7.7243 False \n",
      "(-0.05, 0.0] (0.1, 0.15]  6.6669   2.1282 11.2056  True \n",
      "(-0.05, 0.0] (0.15, 0.2]  5.3096   0.8215  9.7977  True \n",
      "(-0.05, 0.0] (0.2, 0.25]  6.525    1.9469 11.1031  True \n",
      "(0.0, 0.05]  (0.05, 0.1] -1.9486  -7.5752  3.6779 False \n",
      "(0.0, 0.05]  (0.1, 0.15]  1.3301  -4.4541  7.1143 False \n",
      "(0.0, 0.05]  (0.15, 0.2] -0.0272  -5.7718  5.7173 False \n",
      "(0.0, 0.05]  (0.2, 0.25]  1.1882  -4.6269  7.0033 False \n",
      "(0.05, 0.1]  (0.1, 0.15]  3.2787  -2.6385  9.196  False \n",
      "(0.05, 0.1]  (0.15, 0.2]  1.9214  -3.9571  7.7999 False \n",
      "(0.05, 0.1]  (0.2, 0.25]  3.1368  -2.8106  9.0843 False \n",
      "(0.1, 0.15]  (0.15, 0.2] -1.3573  -7.3868  4.6722 False \n",
      "(0.1, 0.15]  (0.2, 0.25] -0.1419  -6.2387  5.9549 False \n",
      "(0.15, 0.2]  (0.2, 0.25]  1.2154  -4.8437  7.2746 False \n",
      "--------------------------------------------------------\n"
     ]
    }
   ],
   "source": [
    "# Importing tukey's test\n",
    "from statsmodels.stats.multicomp import pairwise_tukeyhsd as tukey\n",
    "int_str = [str(x) for x in new_discounts]\n",
    "\n",
    "# Run tukey's test\n",
    "tukey_results =tukey(df_H1codes['Quantity'], int_str, 0.05)\n",
    "\n",
    "table_H1_tukey = tukey_table(tukey_results)\n",
    "if save_for_user==True:\n",
    "    table_H1_tukey.to_csv('table_H1_tukey.csv')\n",
    "    \n",
    "print(tukey_results.summary())"
   ]
  },
  {
   "cell_type": "code",
   "execution_count": 71,
   "metadata": {},
   "outputs": [],
   "source": [
    "# df_H1codes.info()"
   ]
  },
  {
   "cell_type": "markdown",
   "metadata": {},
   "source": [
    "### Plotting summary post-hoc figure"
   ]
  },
  {
   "cell_type": "code",
   "execution_count": 72,
   "metadata": {},
   "outputs": [],
   "source": [
    "from scipy.stats import sem\n",
    "# fig = plt.figure()\n",
    "# ax = fig.add_subplot(111)\n",
    "\n",
    "H1_means = df_H1codes.groupby('Discount')['Quantity'].mean()\n",
    "H1_sem = df_H1codes.groupby('Discount')['Quantity'].sem()\n",
    "H1_std = df_H1codes.groupby('Discount')['Quantity'].std()\n",
    "H1_index = H1_means.index"
   ]
  },
  {
   "cell_type": "code",
   "execution_count": 73,
   "metadata": {},
   "outputs": [],
   "source": [
    "# H1_index"
   ]
  },
  {
   "cell_type": "code",
   "execution_count": 74,
   "metadata": {},
   "outputs": [
    {
     "name": "stdout",
     "output_type": "stream",
     "text": [
      "<class 'pandas.core.frame.DataFrame'>\n",
      "CategoricalIndex: 7 entries, (-0.05, 0.0] to (0.25, 0.3]\n",
      "Data columns (total 5 columns):\n",
      "index     7 non-null category\n",
      "labels    7 non-null object\n",
      "mean      6 non-null float64\n",
      "sem       6 non-null float64\n",
      "std       6 non-null float64\n",
      "dtypes: category(1), float64(3), object(1)\n",
      "memory usage: 462.0+ bytes\n"
     ]
    },
    {
     "data": {
      "text/html": [
       "<div>\n",
       "<style scoped>\n",
       "    .dataframe tbody tr th:only-of-type {\n",
       "        vertical-align: middle;\n",
       "    }\n",
       "\n",
       "    .dataframe tbody tr th {\n",
       "        vertical-align: top;\n",
       "    }\n",
       "\n",
       "    .dataframe thead th {\n",
       "        text-align: right;\n",
       "    }\n",
       "</style>\n",
       "<table border=\"1\" class=\"dataframe\">\n",
       "  <thead>\n",
       "    <tr style=\"text-align: right;\">\n",
       "      <th></th>\n",
       "      <th>index</th>\n",
       "      <th>mean</th>\n",
       "      <th>sem</th>\n",
       "      <th>std</th>\n",
       "    </tr>\n",
       "    <tr>\n",
       "      <th>labels</th>\n",
       "      <th></th>\n",
       "      <th></th>\n",
       "      <th></th>\n",
       "      <th></th>\n",
       "    </tr>\n",
       "  </thead>\n",
       "  <tbody>\n",
       "    <tr>\n",
       "      <th>0 %</th>\n",
       "      <td>(-0.05, 0.0]</td>\n",
       "      <td>21.715262</td>\n",
       "      <td>0.482426</td>\n",
       "      <td>17.507493</td>\n",
       "    </tr>\n",
       "    <tr>\n",
       "      <th>&lt;=5 %</th>\n",
       "      <td>(0.0, 0.05]</td>\n",
       "      <td>27.052083</td>\n",
       "      <td>1.611625</td>\n",
       "      <td>22.331332</td>\n",
       "    </tr>\n",
       "    <tr>\n",
       "      <th>5-10 %</th>\n",
       "      <td>(0.05, 0.1]</td>\n",
       "      <td>25.103448</td>\n",
       "      <td>1.607054</td>\n",
       "      <td>21.198503</td>\n",
       "    </tr>\n",
       "    <tr>\n",
       "      <th>10-15 %</th>\n",
       "      <td>(0.1, 0.15]</td>\n",
       "      <td>28.382166</td>\n",
       "      <td>1.669845</td>\n",
       "      <td>20.923099</td>\n",
       "    </tr>\n",
       "    <tr>\n",
       "      <th>15-20 %</th>\n",
       "      <td>(0.15, 0.2]</td>\n",
       "      <td>27.024845</td>\n",
       "      <td>1.484233</td>\n",
       "      <td>18.832801</td>\n",
       "    </tr>\n",
       "    <tr>\n",
       "      <th>20-25 %</th>\n",
       "      <td>(0.2, 0.25]</td>\n",
       "      <td>28.240260</td>\n",
       "      <td>1.621362</td>\n",
       "      <td>20.120570</td>\n",
       "    </tr>\n",
       "    <tr>\n",
       "      <th>25-30 %</th>\n",
       "      <td>(0.25, 0.3]</td>\n",
       "      <td>NaN</td>\n",
       "      <td>NaN</td>\n",
       "      <td>NaN</td>\n",
       "    </tr>\n",
       "  </tbody>\n",
       "</table>\n",
       "</div>"
      ],
      "text/plain": [
       "                index       mean       sem        std\n",
       "labels                                               \n",
       "0 %      (-0.05, 0.0]  21.715262  0.482426  17.507493\n",
       "<=5 %     (0.0, 0.05]  27.052083  1.611625  22.331332\n",
       "5-10 %    (0.05, 0.1]  25.103448  1.607054  21.198503\n",
       "10-15 %   (0.1, 0.15]  28.382166  1.669845  20.923099\n",
       "15-20 %   (0.15, 0.2]  27.024845  1.484233  18.832801\n",
       "20-25 %   (0.2, 0.25]  28.240260  1.621362  20.120570\n",
       "25-30 %   (0.25, 0.3]        NaN       NaN        NaN"
      ]
     },
     "execution_count": 74,
     "metadata": {},
     "output_type": "execute_result"
    }
   ],
   "source": [
    "# H1_means.index\n",
    "xticklabels = ['0 %','<=5 %','5-10 %','10-15 %','15-20 %','20-25 %','25-30 %']\n",
    "plot_data = {'index':H1_index,'labels':xticklabels,'mean':H1_means,'sem':H1_sem,'std':H1_std}\n",
    "df_plot = pd.DataFrame.from_dict(plot_data,orient='columns')\n",
    "df_plot.info(), df_plot.set_index('labels',inplace=True)\n",
    "\n",
    "df_plot"
   ]
  },
  {
   "cell_type": "code",
   "execution_count": 75,
   "metadata": {},
   "outputs": [
    {
     "data": {
      "image/png": "[encoded data removed]",
      "text/plain": [
       "<Figure size 720x360 with 1 Axes>"
      ]
     },
     "metadata": {},
     "output_type": "display_data"
    }
   ],
   "source": [
    "with plt.style.context('dark_background'):\n",
    "    fig = plt.figure(figsize=(10,5))\n",
    "    ax = fig.add_subplot(1,1,1)\n",
    "    \n",
    "    color = ['red','orange','yellow','green','blue','indigo','violet']\n",
    "    \n",
    "    err_kws = {'ecolor': 'w', 'capsize':5,\n",
    "               'elinewidth': 2 ,'capthick': 2}\n",
    "    \n",
    "    fontTitle = {'fontfamily':'serif',\n",
    "               'fontweight':'medium',\n",
    "               'fontsize':16}\n",
    "    \n",
    "    fontAxis = {'fontfamily':'serif',\n",
    "               'fontweight':'medium',\n",
    "               'fontsize':12}\n",
    "    \n",
    "    ax.bar(x = df_plot.index,width=0.6, height = df_plot['mean'], yerr = df_plot['sem'], error_kw=err_kws,\n",
    "          edgecolor='white', linewidth = 2,color = color)\n",
    "    \n",
    "    ax.set_title('Quantities Purchased By Discount Size',fontdict=fontTitle)\n",
    "    ax.set_ylabel('Average Quantity',fontdict=fontAxis)\n",
    "    ax.set_xlabel('Discount Size', fontdict=fontAxis)\n",
    "    \n",
    "#     plt.tight_layout()\n",
    "    plt.show()"
   ]
  },
  {
   "cell_type": "code",
   "execution_count": 76,
   "metadata": {},
   "outputs": [],
   "source": [
    "# Save figure of save_for_user is True\n",
    "if save_for_user == True:\n",
    "    # ## Uncomment this cell in order to save the image.*\n",
    "    fig.savefig('H1_Avg_quantity_by_discount.png', dpi=300, frameon=True,facecolor='k')"
   ]
  },
  {
   "cell_type": "markdown",
   "metadata": {
    "colab_type": "text",
    "id": "3JKcx3pw5_LK"
   },
   "source": [
    "## ***Conclusions for Hypothesis 1:***\n",
    "1. **We first used D'Agostino & Perason's test (normaltest) to check for normal distributions**\n",
    "    -  Both groups had p-values very far below our $\\alpha=0.05$  (Rows 0,1 below)\n",
    "        - We rejecteded the null hypothesis that the groups came from a populatiin with a normal distribtuion. \n",
    "2. **We tested for equal variances using Levene's test. **\n",
    "    - Level's test had a signifcant p-value, so we rejected the hypothesis that the groups have equal variances\n",
    "    \n",
    "3. **We then concluded we need a non-parametric 2-sample test, so we used the Mann-Whitney U test**. \n",
    "    -  Our comparison had a p-value less than .05\n",
    "    - We reject the null hypothesis that discounts do not affect quantities sold.\n",
    "\n"
   ]
  },
  {
   "cell_type": "code",
   "execution_count": 78,
   "metadata": {
    "colab": {
     "base_uri": "https://localhost:8080/",
     "height": 166
    },
    "colab_type": "code",
    "id": "qydzhcXa4dz3",
    "outputId": "08e93ff3-aaea-4ba5-a15b-3994e304edf4"
   },
   "outputs": [
    {
     "data": {
      "text/html": [
       "<div>\n",
       "<style scoped>\n",
       "    .dataframe tbody tr th:only-of-type {\n",
       "        vertical-align: middle;\n",
       "    }\n",
       "\n",
       "    .dataframe tbody tr th {\n",
       "        vertical-align: top;\n",
       "    }\n",
       "\n",
       "    .dataframe thead th {\n",
       "        text-align: right;\n",
       "    }\n",
       "</style>\n",
       "<table border=\"1\" class=\"dataframe\">\n",
       "  <thead>\n",
       "    <tr style=\"text-align: right;\">\n",
       "      <th></th>\n",
       "      <th>Group:</th>\n",
       "      <th>TestName</th>\n",
       "      <th>Test Purpose</th>\n",
       "      <th>stat</th>\n",
       "      <th>p</th>\n",
       "      <th>p&lt;.05?</th>\n",
       "    </tr>\n",
       "  </thead>\n",
       "  <tbody>\n",
       "    <tr>\n",
       "      <th>0</th>\n",
       "      <td>A: ['Discount'] &gt; 0</td>\n",
       "      <td>normaltest</td>\n",
       "      <td>Normality</td>\n",
       "      <td>261.528</td>\n",
       "      <td>1.62149e-57</td>\n",
       "      <td>True</td>\n",
       "    </tr>\n",
       "    <tr>\n",
       "      <th>1</th>\n",
       "      <td>B: ['Discount'] == 0</td>\n",
       "      <td>normaltest</td>\n",
       "      <td>Normality</td>\n",
       "      <td>544.577</td>\n",
       "      <td>5.57964e-119</td>\n",
       "      <td>True</td>\n",
       "    </tr>\n",
       "    <tr>\n",
       "      <th>2</th>\n",
       "      <td>A&amp;B</td>\n",
       "      <td>stats.levene</td>\n",
       "      <td>Equal Var</td>\n",
       "      <td>14.8327</td>\n",
       "      <td>0.000120914</td>\n",
       "      <td>True</td>\n",
       "    </tr>\n",
       "    <tr>\n",
       "      <th>3</th>\n",
       "      <td>A vs. B</td>\n",
       "      <td>stats.mannwhitneyu</td>\n",
       "      <td>H1_sig</td>\n",
       "      <td>642105</td>\n",
       "      <td>6.62938e-11</td>\n",
       "      <td>True</td>\n",
       "    </tr>\n",
       "    <tr>\n",
       "      <th>4</th>\n",
       "      <td>A vs. B</td>\n",
       "      <td>Cohen's d</td>\n",
       "      <td>Effect Size</td>\n",
       "      <td>d</td>\n",
       "      <td>--</td>\n",
       "      <td>--</td>\n",
       "    </tr>\n",
       "  </tbody>\n",
       "</table>\n",
       "</div>"
      ],
      "text/plain": [
       "                 Group:            TestName Test Purpose     stat  \\\n",
       "0   A: ['Discount'] > 0          normaltest    Normality  261.528   \n",
       "1  B: ['Discount'] == 0          normaltest    Normality  544.577   \n",
       "2                   A&B        stats.levene    Equal Var  14.8327   \n",
       "3               A vs. B  stats.mannwhitneyu       H1_sig   642105   \n",
       "4               A vs. B           Cohen's d  Effect Size        d   \n",
       "\n",
       "              p p<.05?  \n",
       "0   1.62149e-57   True  \n",
       "1  5.57964e-119   True  \n",
       "2   0.000120914   True  \n",
       "3   6.62938e-11   True  \n",
       "4            --     --  "
      ]
     },
     "metadata": {},
     "output_type": "display_data"
    }
   ],
   "source": [
    "display(table_H1_test_results)"
   ]
  },
  {
   "cell_type": "markdown",
   "metadata": {
    "colab_type": "text",
    "id": "Qcn4RlASByQm"
   },
   "source": [
    "4. **To determine which level of discounts had the largest effect, we performed a pairwise multiple comparison Tukey's test**. \n",
    "    - Our results showed that discounts of 0-5%, 10-15%, 15-20%, and 20-25% were all significantly different than no discounts. \n",
    "    - No discount groups were significantly different than other discount groups.\n",
    "    "
   ]
  },
  {
   "cell_type": "code",
   "execution_count": 77,
   "metadata": {
    "colab": {
     "base_uri": "https://localhost:8080/",
     "height": 166
    },
    "colab_type": "code",
    "id": "j6-3co5F1NWz",
    "outputId": "6cdf2fd8-811d-42a7-ce8c-5cb95ef019ba"
   },
   "outputs": [
    {
     "data": {
      "text/html": [
       "<div>\n",
       "<style scoped>\n",
       "    .dataframe tbody tr th:only-of-type {\n",
       "        vertical-align: middle;\n",
       "    }\n",
       "\n",
       "    .dataframe tbody tr th {\n",
       "        vertical-align: top;\n",
       "    }\n",
       "\n",
       "    .dataframe thead th {\n",
       "        text-align: right;\n",
       "    }\n",
       "</style>\n",
       "<table border=\"1\" class=\"dataframe\">\n",
       "  <thead>\n",
       "    <tr style=\"text-align: right;\">\n",
       "      <th></th>\n",
       "      <th>group1</th>\n",
       "      <th>group2</th>\n",
       "      <th>meandiff</th>\n",
       "      <th>lower</th>\n",
       "      <th>upper</th>\n",
       "      <th>reject</th>\n",
       "    </tr>\n",
       "  </thead>\n",
       "  <tbody>\n",
       "    <tr>\n",
       "      <th>0</th>\n",
       "      <td>(-0.05, 0.0]</td>\n",
       "      <td>(0.0, 0.05]</td>\n",
       "      <td>5.3368</td>\n",
       "      <td>1.1841</td>\n",
       "      <td>9.4895</td>\n",
       "      <td>True</td>\n",
       "    </tr>\n",
       "    <tr>\n",
       "      <th>2</th>\n",
       "      <td>(-0.05, 0.0]</td>\n",
       "      <td>(0.1, 0.15]</td>\n",
       "      <td>6.6669</td>\n",
       "      <td>2.1282</td>\n",
       "      <td>11.2056</td>\n",
       "      <td>True</td>\n",
       "    </tr>\n",
       "    <tr>\n",
       "      <th>3</th>\n",
       "      <td>(-0.05, 0.0]</td>\n",
       "      <td>(0.15, 0.2]</td>\n",
       "      <td>5.3096</td>\n",
       "      <td>0.8215</td>\n",
       "      <td>9.7977</td>\n",
       "      <td>True</td>\n",
       "    </tr>\n",
       "    <tr>\n",
       "      <th>4</th>\n",
       "      <td>(-0.05, 0.0]</td>\n",
       "      <td>(0.2, 0.25]</td>\n",
       "      <td>6.5250</td>\n",
       "      <td>1.9469</td>\n",
       "      <td>11.1031</td>\n",
       "      <td>True</td>\n",
       "    </tr>\n",
       "  </tbody>\n",
       "</table>\n",
       "</div>"
      ],
      "text/plain": [
       "         group1       group2  meandiff   lower    upper  reject\n",
       "0  (-0.05, 0.0]  (0.0, 0.05]    5.3368  1.1841   9.4895    True\n",
       "2  (-0.05, 0.0]  (0.1, 0.15]    6.6669  2.1282  11.2056    True\n",
       "3  (-0.05, 0.0]  (0.15, 0.2]    5.3096  0.8215   9.7977    True\n",
       "4  (-0.05, 0.0]  (0.2, 0.25]    6.5250  1.9469  11.1031    True"
      ]
     },
     "execution_count": 77,
     "metadata": {},
     "output_type": "execute_result"
    }
   ],
   "source": [
    "# Save the results into a dataframe\n",
    "table_H1_tukey.loc[table_H1_tukey['reject']==True]"
   ]
  },
  {
   "cell_type": "code",
   "execution_count": 86,
   "metadata": {},
   "outputs": [
    {
     "data": {
      "text/plain": [
       "Int64Index([   0,    1,    2,    3,    4,    5,    6,    7,    8,    9,\n",
       "            ...\n",
       "            2145, 2146, 2147, 2148, 2149, 2150, 2151, 2152, 2153, 2154],\n",
       "           dtype='int64', length=2155)"
      ]
     },
     "execution_count": 86,
     "metadata": {},
     "output_type": "execute_result"
    }
   ],
   "source": [
    "# df_H1codes.info(),\n",
    "# dfH.index"
   ]
  },
  {
   "cell_type": "code",
   "execution_count": null,
   "metadata": {
    "colab": {},
    "colab_type": "code",
    "id": "vp_RWWFBBRo6"
   },
   "outputs": [],
   "source": [
    "# # Save results to new dataframe\n",
    "# df_orig_save = df_H1codes.copy()\n",
    "# dfH1_save = dfH.copy()"
   ]
  },
  {
   "cell_type": "markdown",
   "metadata": {
    "colab_type": "text",
    "id": "P23rLwIWwwTC"
   },
   "source": [
    "___\n",
    "# **Hypothesis 2:**\n"
   ]
  },
  {
   "cell_type": "markdown",
   "metadata": {
    "colab_type": "text",
    "id": "eeQIJm_ESU6C"
   },
   "source": [
    "> **Do customers spend more money if they are buying discounted items?**\n",
    "\n",
    "- $H_1$: Customers spend more money overall when their order includes discounted items.\n",
    "\n",
    "- $H_0$: Customers spend the same amount regardless of discounted items. \n",
    "\n",
    "**Specific Aims:**\n",
    "\n",
    "* ***Aim 1:To select the proper dataset for analysis, perform EDA, and generate data groups for testing.***\n",
    "    - Used sqlalchemy and pandas.read_sql_query()\n",
    "    ```query = \"SELECT* FROM OrderDetails,\n",
    "            GROUPBY discount```\n",
    "\n",
    "* ***Aim 2: Select the appropriate t-test based on tests for the assumptions of normality and homogeneity of variance.***\n",
    "    1. **Test for Normality**\n",
    "        - D'Agostino-Pearson's normality test<br>\n",
    "        ```scipy.stats.normaltest```\n",
    "        - Shapiro-Wilik Test<br>\n",
    "        ```scipy.stats.shapiro```\n",
    "    2. **Test for Homogeneity of Variance**\n",
    "        - Levene's Test<br>\n",
    "         ```scipy.stats.levene```\n",
    "\n",
    "    3. **Choose appropriate test based upon 1. and 2.** <br> \n",
    "    \n",
    "    \n",
    "* ***Aim 3: To perform post-hoc painrwise comparison testing to determine which level of discounts affect quantity and if any discount has a greater effect than the others.***\n",
    "\n",
    "     - Tukey's test for multiple pairwise comparisons"
   ]
  },
  {
   "cell_type": "markdown",
   "metadata": {
    "colab_type": "text",
    "id": "m9GqTizvBRo8"
   },
   "source": [
    "_________\n",
    "## ***H2, Aim 1 : To select the proper dataset for analysis  and generate data groups for testing.***\n",
    "\n",
    "#### Importing Method\n",
    "- Used sqlalchemy to create engine to connect to Northwind_small.sqlite.\n",
    "- used ```pd.read_sql_query('SELECT * FROM OrderDetail',engine)``` to directly read db into df"
   ]
  },
  {
   "cell_type": "code",
   "execution_count": null,
   "metadata": {
    "colab": {
     "base_uri": "https://localhost:8080/",
     "height": 170
    },
    "colab_type": "code",
    "id": "a_22M7dSftkZ",
    "outputId": "2e326aa5-00e0-4e9b-834c-596e2d839bfa"
   },
   "outputs": [],
   "source": [
    "# filepath = '/content/drive/My Drive/Colab Notebooks/datasets/Northwind_small.sqlite'\n",
    "# filepath = 'Northwind_small.sqlite'\n",
    "#-------------------\n",
    "# Testing minimal version of prior code\n",
    "import sqlite3\n",
    "from sqlalchemy import create_engine, inspect\n",
    "# from sqlalchemy import Table, Column, Integer, String, MetaData, ForeignKey,text, Float\n",
    "\n",
    "engine = create_engine('sqlite:///'+filepath,echo=True);\n",
    "inspector = inspect(engine);\n",
    "db_tables = inspector.get_table_names();\n",
    "print('\\n',db_tables);"
   ]
  },
  {
   "cell_type": "code",
   "execution_count": null,
   "metadata": {
    "colab": {
     "base_uri": "https://localhost:8080/",
     "height": 230
    },
    "colab_type": "code",
    "id": "Mhf5gyVYHovd",
    "outputId": "82f51b7d-1e81-4f9e-82a0-a89a705feec7"
   },
   "outputs": [],
   "source": [
    "# We want to test hypothesis one, so we need OrderDetail table.\n",
    "table_to_test = \"OrderDetail\"\n",
    "df = pd.read_sql_query(\"SELECT * FROM OrderDetail\",  engine)\n",
    "df.head()"
   ]
  },
  {
   "cell_type": "markdown",
   "metadata": {
    "colab_type": "text",
    "id": "kSqmOZAHTcNQ"
   },
   "source": [
    "### Aim 1.1: Calculating order totals, adding discount groups"
   ]
  },
  {
   "cell_type": "code",
   "execution_count": null,
   "metadata": {},
   "outputs": [],
   "source": [
    "\n",
    "# Apply calc_product_price to every row \n",
    "df_price = df.apply(lambda x: calc_product_price(x),axis=1)\n",
    "# df_price['order_total'] = None\n",
    "\n",
    "# Apply_calc_order_total to every row\n",
    "df_price = df_price.apply(lambda x: calc_order_total(x,df_price), axis=1)  \n",
    "df_price.head()"
   ]
  },
  {
   "cell_type": "markdown",
   "metadata": {
    "colab_type": "text",
    "id": "KzQo_3AAxHGj"
   },
   "source": [
    "### Aim 1.2: EDA on dataset \n"
   ]
  },
  {
   "cell_type": "code",
   "execution_count": null,
   "metadata": {
    "colab": {
     "base_uri": "https://localhost:8080/",
     "height": 345
    },
    "colab_type": "code",
    "id": "d5hsveQvqptC",
    "outputId": "a4b347b7-0e1a-4338-ca51-3eb6960169f8"
   },
   "outputs": [],
   "source": [
    "import warnings\n",
    "warnings.filterwarnings(\"ignore\")\n",
    "# Define groups\n",
    "# A: discounted df_price.groupby('discounted_order').get_group(1)\n",
    "# B: full price df_price.groupbt('discounted_order').get_group(0)\n",
    "grpA = df_price.groupby('discounted_order').get_group(1)\n",
    "grpB = df_price.groupby('discounted_order').get_group(0)\n",
    "\n",
    "kwargs = {'title_var':'Order Totals'}\n",
    "fig, ax =plot_wide_kde_thin_bar(grpB['order_total'],'Full Price',grpA['order_total'],'Discounted',**kwargs)\n"
   ]
  },
  {
   "cell_type": "code",
   "execution_count": null,
   "metadata": {
    "colab_type": "text",
    "id": "V5h8J1CXwlbO"
   },
   "outputs": [],
   "source": [
    "# Save figure of save_for_user is True\n",
    "if save_for_user == True:\n",
    "    fig.savefig('H2_kde_bar_black.png',dpi=300,facecolor='k')"
   ]
  },
  {
   "cell_type": "code",
   "execution_count": null,
   "metadata": {
    "colab": {
     "base_uri": "https://localhost:8080/",
     "height": 196
    },
    "colab_type": "code",
    "id": "6Nltea0kvYDT",
    "outputId": "8ff7d61c-faa7-4e45-cc52-2dccdb83f051"
   },
   "outputs": [],
   "source": [
    "# 1 - Separating groups from dfH (dataframeHypothesis)\n",
    "df_temp = df_price[['OrderId','order_total','discounted_order']]\n",
    "\n",
    "unique_orders = df_temp['OrderId'].unique()\n",
    "\n",
    "len(unique_orders)\n",
    "keep_me=[['OrderId','order_total','discounted_order']]\n",
    "\n",
    "for u in unique_orders:\n",
    "#     grouped = dfH.groupby('OrderId').get_group(u)\n",
    "#     keep_me.append(grouped.iloc[0,:])\n",
    "    grouped_idx = df_temp.groupby('OrderId').get_group(u).index\n",
    "    keep_me.append(df_temp.loc[grouped_idx[0]])\n",
    "dfH = list2df(keep_me)\n",
    "dfH.head()"
   ]
  },
  {
   "cell_type": "code",
   "execution_count": null,
   "metadata": {
    "colab": {
     "base_uri": "https://localhost:8080/",
     "height": 166
    },
    "colab_type": "code",
    "id": "BtsXbgtKBRpF",
    "outputId": "b24d380a-aa8b-4428-d8c0-81b33fa5ed13"
   },
   "outputs": [],
   "source": [
    "dfH[['order_total','discounted_order']].groupby('discounted_order').describe()#.stack()"
   ]
  },
  {
   "cell_type": "code",
   "execution_count": null,
   "metadata": {
    "colab": {
     "base_uri": "https://localhost:8080/",
     "height": 334
    },
    "colab_type": "code",
    "id": "3uGVTWbyBRpG",
    "outputId": "75ab3230-1c8c-4d72-c784-02798bdabac9"
   },
   "outputs": [],
   "source": [
    "#Adding group definitions\n",
    "grpA = \"['discounted_order'] == True\"\n",
    "grpB = \"['discounted_order'] == False\"\n",
    "\n",
    "# Using eval to create df_A and df_B; will allow us to fill in our results \n",
    "# with the exact definitions of Group A and Group B\n",
    "df_A = eval(f'dfH.loc[dfH{grpA}]')\n",
    "df_B = eval(f'dfH.loc[dfH{grpB}]')\n",
    "\n",
    "# dfj_D = dfH.loc[dfj['Discount']>0] \n",
    "# dfj_F = dfH.loc[dfj['Discount']==0]\n",
    "df_A.describe(),'--'*25,df_B.describe()"
   ]
  },
  {
   "cell_type": "markdown",
   "metadata": {
    "colab_type": "text",
    "id": "DZfc0jqTxeNA"
   },
   "source": [
    "## ***H2, Aim 2: Select the appropriate t-test based on tests for the assumptions of normality and homogeneity of variance.***"
   ]
  },
  {
   "cell_type": "code",
   "execution_count": null,
   "metadata": {
    "colab": {},
    "colab_type": "code",
    "id": "6o7eXWHUvYDY"
   },
   "outputs": [],
   "source": [
    "# Adding table to collect summary statistics\n",
    "H2_tests = [['Group:','TestName','Test Purpose','stat','p','p<.05?']  ]"
   ]
  },
  {
   "cell_type": "markdown",
   "metadata": {
    "colab_type": "text",
    "id": "SaXaorm5BRpM"
   },
   "source": [
    "### Aim 2.1: Test for Normality"
   ]
  },
  {
   "cell_type": "code",
   "execution_count": null,
   "metadata": {
    "colab": {
     "base_uri": "https://localhost:8080/",
     "height": 50
    },
    "colab_type": "code",
    "id": "HXMiuzjTvYDd",
    "outputId": "592a280b-0a3f-4a7d-f999-33db61823bca"
   },
   "outputs": [],
   "source": [
    "# 2. Testing normality\n",
    "test_purpose = 'Normality'\n",
    "test_to_run = 'normaltest'\n",
    "\n",
    "arrA = np.array(df_A['order_total'])\n",
    "arrB = np.array(df_B['order_total'])\n",
    "\n",
    "statA, pA = eval(test_to_run)(arrA)\n",
    "statB, pB = eval(test_to_run)(arrB)\n",
    "\n",
    "print(f'A:stat={statA}, p={pA}')\n",
    "print(f'B:stat={statB}, p={pB}')\n",
    "\n",
    "H2_tests.append(['A: '+grpA,test_to_run,test_purpose,statA,pA,pA<.05])\n",
    "H2_tests.append(['B: '+grpB,test_to_run,test_purpose,statB,pB,pB<.05])\n",
    "# list2df(H1_tests)"
   ]
  },
  {
   "cell_type": "code",
   "execution_count": null,
   "metadata": {
    "colab": {
     "base_uri": "https://localhost:8080/",
     "height": 107
    },
    "colab_type": "code",
    "id": "djdIF4bpvYDg",
    "outputId": "984f0b93-550e-457e-aab7-8aa0a6458e2e"
   },
   "outputs": [],
   "source": [
    "list2df(H2_tests)"
   ]
  },
  {
   "cell_type": "markdown",
   "metadata": {
    "colab_type": "text",
    "id": "T-RHTuiWBRpR"
   },
   "source": [
    "### Aim 2.2 Test for Homogeneity of Variance"
   ]
  },
  {
   "cell_type": "code",
   "execution_count": null,
   "metadata": {
    "colab": {},
    "colab_type": "code",
    "id": "9GfzS_Vxxswy"
   },
   "outputs": [],
   "source": [
    "# 3. Test for homo var\n",
    "test_to_run = 'stats.levene'\n",
    "stat,p = eval(test_to_run)(arrA,arrB,center='median')\n",
    "\n",
    "H2_tests.append(['A&B',test_to_run,'Equal Var',stat,p,p<.05])"
   ]
  },
  {
   "cell_type": "code",
   "execution_count": null,
   "metadata": {
    "colab": {
     "base_uri": "https://localhost:8080/",
     "height": 137
    },
    "colab_type": "code",
    "id": "36BZIyyYxsw0",
    "outputId": "019d6ab7-21d2-44ab-c553-8ef459367dc7"
   },
   "outputs": [],
   "source": [
    "list2df(H2_tests)"
   ]
  },
  {
   "cell_type": "markdown",
   "metadata": {
    "colab_type": "text",
    "id": "0OCGqU7PyiIc"
   },
   "source": [
    "### Aim 2.3 Selecting the appropriate test to perform.\n",
    "- We failed both normaltests\n",
    "- We passed Levene's test for homo. of variance\n",
    "- Need non-parametric 2sample ttest\n",
    "    - [**Mann-Whitney U test**](https://docs.scipy.org/doc/scipy/reference/generated/scipy.stats.mannwhitneyu.html)"
   ]
  },
  {
   "cell_type": "markdown",
   "metadata": {
    "colab_type": "text",
    "id": "CxxTNQymBRpX"
   },
   "source": [
    "#### Mann-Whitney U test"
   ]
  },
  {
   "cell_type": "code",
   "execution_count": null,
   "metadata": {
    "colab": {},
    "colab_type": "code",
    "id": "Yp7l-KeFyiIe"
   },
   "outputs": [],
   "source": [
    "# Mann Whitney U test+\n",
    "import scipy.stats as stats\n",
    "# arrA was discounted, arrB was non-discounted\n",
    "test_to_run = 'stats.mannwhitneyu'\n",
    "stat, p = eval(test_to_run)(arrA,arrB,alternative='greater')\n",
    "stat, p\n",
    "H2_tests.append(['A vs. B',test_to_run, 'H2_sig', stat,p,p<.05])"
   ]
  },
  {
   "cell_type": "code",
   "execution_count": null,
   "metadata": {
    "colab": {
     "base_uri": "https://localhost:8080/",
     "height": 166
    },
    "colab_type": "code",
    "id": "yg_MQfQEyiIh",
    "outputId": "bf10449d-ca12-4b0f-a380-4bc1b3c074c9"
   },
   "outputs": [],
   "source": [
    "list2df(H2_tests)"
   ]
  },
  {
   "cell_type": "markdown",
   "metadata": {
    "colab_type": "text",
    "id": "w9BLLITiBRpb"
   },
   "source": [
    "#### Calculating Effect Size"
   ]
  },
  {
   "cell_type": "code",
   "execution_count": null,
   "metadata": {
    "colab": {
     "base_uri": "https://localhost:8080/",
     "height": 33
    },
    "colab_type": "code",
    "id": "ZDS5WifXBRpd",
    "outputId": "9e11b135-4218-43c6-929d-9ac586a5dec7"
   },
   "outputs": [],
   "source": [
    "# Calculating Cohens d\n",
    "d = Cohen_d(arrA,arrB)\n",
    "print(f\"Cohen's d={round(d,3)}\")\n",
    "H2_tests.append(['A vs. B',\"Cohen's d\",'Effect Size',d,'--','--'])\n",
    "table_H2_test_results = list2df(H2_tests)"
   ]
  },
  {
   "cell_type": "code",
   "execution_count": null,
   "metadata": {
    "colab": {
     "base_uri": "https://localhost:8080/",
     "height": 468
    },
    "colab_type": "code",
    "id": "5DYTOgh-BRpf",
    "outputId": "0a44636d-7c57-4675-e6da-02d11906e8ed"
   },
   "outputs": [],
   "source": [
    "# Plot the re-sampled data\n",
    "\n",
    "# # IF want to take smaller sample from population:\n",
    "\n",
    "# pop_samp_disc = np.random.choice(pop_samp_disc,1000)\n",
    "# pop_samp_full = np.random.choice(pop_samp_full, 1000)\n",
    "with plt.style.context(('tableau-colorblind10')):\n",
    "    fig = plt.figure()\n",
    "    \n",
    "    plt.title('Order Total  of Orders with Discounted Items vs Full Price')\n",
    "    \n",
    "    plt.hist(arrA,alpha = 0.5, bins=30,label='Discounted')\n",
    "    plt.hist(arrB,color='black', alpha = 0.5, bins=30,label='Full Price')\n",
    "\n",
    "    # Adding annotations\n",
    "    meanD = round(np.mean(arrA),3)\n",
    "    meanS = round(np.mean(arrB),3)\n",
    "    \n",
    "    plt.axvline(meanD, linestyle='--',label='Discounted Mean')\n",
    "    plt.text(meanD-1000,165,f'Mean:{meanD}',rotation=90)\n",
    "    \n",
    "    plt.axvline(meanS,color='k',linestyle='--',label='Full Price Mean')\n",
    "    plt.text(meanS+500,165,f'Mean:{meanS}',rotation=90)\n",
    "\n",
    "\n",
    "    plt.legend()\n",
    "    plt.show()\n",
    "\n",
    "# Run normality testing\n",
    "# stat,p = normaltest(pop_samp_full)\n",
    "# print(f'Normality: stat ={stat}, p = {p}')\n",
    "\n",
    "# Run ttest\n",
    "# tstat,tp = stats.ttest_ind(arrA, arrB)\n",
    "# print(f'T-test: stat ={tstat}, p = {tp}')#tstat,tp\n",
    "# ax.text("
   ]
  },
  {
   "cell_type": "markdown",
   "metadata": {
    "colab_type": "text",
    "id": "IrLcQDMPyiIl"
   },
   "source": [
    "### [IMPROVE]  Conclusions for Hypothesis 2\n",
    "- We reject the null hypothesis that there is no effect of an order containing discounted items on the order total.\n",
    "- Cohen's d indicates it a small effect size."
   ]
  },
  {
   "cell_type": "markdown",
   "metadata": {
    "colab_type": "text",
    "id": "dBDZ_d_71Vat"
   },
   "source": [
    "_________\n",
    "\n",
    "# **Hypothesis 3**\n",
    "> **Does the time of year affect quantity of items sold?**\n",
    "\n",
    "- $H_1$ = The month an order is placed relates to either a higher or lower mean quantity of items sold.\n",
    "- $H_0$ = The month of an order has no affect on the mean quantity of items sold.\n",
    "\n",
    "<br>\n",
    "\n"
   ]
  },
  {
   "cell_type": "markdown",
   "metadata": {
    "colab_type": "text",
    "id": "7PaYTrUi1YH0"
   },
   "source": [
    "## ***H3, Aim 1.1 : To select the proper dataset for analyiss  and generate data groups for testing.***\n",
    "\n",
    "#### Importing Method\n",
    "- Use sqlalchemy to create engine to connect to Northwind_small.sqlite.<br>\n",
    "```df_ord = pd.read_sql_query(\"SELECT * FROM OrderDetail JOIN [Order]  ON [Order].Id = OrderDetail.OrderId\", engine)```\n"
   ]
  },
  {
   "cell_type": "code",
   "execution_count": null,
   "metadata": {
    "colab": {
     "base_uri": "https://localhost:8080/",
     "height": 170
    },
    "colab_type": "code",
    "id": "flNBkgM2RY3-",
    "outputId": "f5748db3-0417-4028-e836-43ce8bc54986"
   },
   "outputs": [],
   "source": [
    "# Import librairies\n",
    "import sqlalchemy\n",
    "from sqlalchemy import create_engine\n",
    "from sqlalchemy.orm import Session, sessionmaker\n",
    "\n",
    "# from google.colab import drive\n",
    "# drive.mount('/content/drive/', force_remount=True)\n",
    "\n",
    "# filepath = '/content/drive/My Drive/Colab Notebooks/datasets/Northwind_small.sqlite'\n",
    "filepath = 'Northwind_small.sqlite'\n",
    "engine = create_engine('sqlite:///'+filepath,echo=True)\n",
    "inspector = inspect(engine);\n",
    "\n",
    "# df_employee = pd.read_sql_query(\"SELECT Id, Title, LastName, HireDate , BirthDate  FROM [EMPLOYEE]\", engine )\n",
    "# df_cust_ord = pd.read_sql_query(\"SELECT *FROM [Order] JOIN [Customer] ON [Customer].Id = [Order].CustomerId\", engine)\n",
    "print(inspector.get_table_names())"
   ]
  },
  {
   "cell_type": "markdown",
   "metadata": {
    "colab_type": "text",
    "id": "-8M9eXYeYwMo"
   },
   "source": [
    "### Extract SQL tables and clean/combine \n",
    "- Original extract used for analysis.\n",
    "- Secondary method was added to export a larger csv for external plotting. "
   ]
  },
  {
   "cell_type": "code",
   "execution_count": null,
   "metadata": {},
   "outputs": [],
   "source": [
    "# Extractiong of specific, required data from database. \n",
    "df_ord = pd.read_sql_query(\"SELECT * FROM OrderDetail JOIN [Order]  ON [Order].Id = OrderDetail.OrderId\", engine)\n",
    "# df_ord = pd.concat([df_ord, df_employee['Title']], axis=1)\n",
    "df_ord.columns"
   ]
  },
  {
   "cell_type": "code",
   "execution_count": null,
   "metadata": {},
   "outputs": [],
   "source": [
    "# Dropping unwanted columns\n",
    "df_ord.drop(['OrderId', 'ShipName',\n",
    "             'ShippedDate', 'RequiredDate',\n",
    "             'ShipVia','ShipAddress',\n",
    "             'RequiredDate','ShippedDate',\n",
    "             'ShippedDate', 'ShipCity',\n",
    "             'ShipCountry','ShipRegion',\n",
    "             'Freight'],inplace=True, axis=1)\n",
    "\n",
    "# relabel the Id column so they have unique names\n",
    "df_ord.columns = ['Id', 'ProductId', 'UnitPrice',\n",
    "                  'Quantity', 'Discount', 'OrderId',\n",
    "                  'CustomerId', 'EmployeeId',\n",
    "                  'OrderDate', 'ShipPostalCode']"
   ]
  },
  {
   "cell_type": "markdown",
   "metadata": {},
   "source": [
    "#### Calculating new features based on unit pricing (df_price)"
   ]
  },
  {
   "cell_type": "code",
   "execution_count": null,
   "metadata": {},
   "outputs": [],
   "source": [
    "#Apply calc_product_price to every row \n",
    "df_price = df_ord.apply(\n",
    "    lambda x: calc_product_price(\n",
    "        x),axis=1)\n",
    "\n",
    "# Apply_calc_order_total to every row\n",
    "df_price = df_price.apply(\n",
    "    lambda x: calc_order_total(\n",
    "        x,df_price), axis=1)  \n",
    "\n",
    "# Display output\n",
    "df_price.describe().round()"
   ]
  },
  {
   "cell_type": "markdown",
   "metadata": {},
   "source": [
    "#### Adding Datetime columns for day of week and month\n"
   ]
  },
  {
   "cell_type": "code",
   "execution_count": null,
   "metadata": {},
   "outputs": [],
   "source": [
    "#convert dates to datetime\n",
    "df_price['OrderDate'] = pd.to_datetime(\n",
    "                    df_price.OrderDate )\n",
    "\n",
    "(df_price.OrderDate.sort_values().min(),\n",
    " df_price.OrderDate.sort_values().max())# seeing date range"
   ]
  },
  {
   "cell_type": "code",
   "execution_count": null,
   "metadata": {},
   "outputs": [],
   "source": [
    "# create columns for day of week and month\n",
    "df_price['OrderDate'] = pd.to_datetime(\n",
    "                    df_price.OrderDate) \n",
    "\n",
    "df_price['week_day'] = df_price['OrderDate'].dt.dayofweek\n",
    "df_price['month'] = df_price['OrderDate'].dt.month\n",
    "\n",
    "# df_price.info()"
   ]
  },
  {
   "cell_type": "code",
   "execution_count": null,
   "metadata": {},
   "outputs": [],
   "source": [
    "# Defining criteria for dividing the calendar yaer\n",
    "criteria = df_price['month'] <= 6 # boolean selector used to select parts of df for possible plotting options\n",
    "\n",
    "#drop duplicate orders based on OrderId to not inflate or deflate order_total mean\n",
    "# split in two for exploring subsets\n",
    "df_month6 = df_price.loc[criteria,\n",
    "                         ['month','order_total',\n",
    "                          'Discount','OrderId']\n",
    "                        ].drop_duplicates(['OrderId'])\n",
    "\n",
    "df_month12 = df_price.loc[~criteria,\n",
    "                          ['month','order_total',\n",
    "                           'Discount','OrderId']\n",
    "                         ].drop_duplicates(['OrderId'])\n",
    "\n",
    "#Did use this variable\n",
    "total_order = pd.concat(\n",
    "                [df_month6['order_total'],\n",
    "                df_month12['order_total']],axis=0)\n",
    "\n",
    "# verifying correct lengths\n",
    "len(total_order) == (len(df_month6['order_total']) \n",
    "                   + len(df_month12['order_total']))"
   ]
  },
  {
   "cell_type": "markdown",
   "metadata": {},
   "source": [
    "#### Selecting out final working dataframe for testing. "
   ]
  },
  {
   "cell_type": "code",
   "execution_count": null,
   "metadata": {},
   "outputs": [],
   "source": [
    "df_year = df_price.loc[:,\n",
    "                       ['month', 'order_total',\n",
    "                        'Discount', 'OrderId']\n",
    "                       ].drop_duplicates(['OrderId'])\n",
    "df_year.info()"
   ]
  },
  {
   "cell_type": "markdown",
   "metadata": {},
   "source": [
    "#### Create a dictionary containing keys and values representing months to assist in plotting and testing"
   ]
  },
  {
   "cell_type": "code",
   "execution_count": null,
   "metadata": {},
   "outputs": [],
   "source": [
    "#make list of month names (strings) for labels\n",
    "months = ['jan','feb',\n",
    "          'mar','apr',\n",
    "          'may' ,'jun',\n",
    "          'jul', 'aug',\n",
    "          'sep', 'oct',\n",
    "          'nov', 'dec'\n",
    "         ]\n",
    "#make corresponding list of integers from 1 = 'jan' through 12 = 'dec'\n",
    "month_code = list(range(1,len(months)+1))\n",
    "month_dict = dict(zip(month_code,months)) # zip the two into a dictionary\n",
    "month_dict.items()"
   ]
  },
  {
   "cell_type": "code",
   "execution_count": null,
   "metadata": {},
   "outputs": [],
   "source": [
    "# Add month name\n",
    "for k,v in month_dict.items():\n",
    "      df_year.loc[(df_year['month'] == k), 'month_name'] = v \n",
    "        \n",
    "df_yearM = df_year.copy()\n",
    "df_yearM.head(3), df_yearM.tail(3)"
   ]
  },
  {
   "cell_type": "markdown",
   "metadata": {},
   "source": [
    "### def_drop_regex"
   ]
  },
  {
   "cell_type": "code",
   "execution_count": null,
   "metadata": {
    "colab": {},
    "colab_type": "code",
    "id": "7q84Lj2EW0cj"
   },
   "outputs": [],
   "source": [
    "def df_drop_regex(DF, regex_list):\n",
    "    '''Use a list of regex to remove columns names. Returns new df.\n",
    "    \n",
    "    Parameters:\n",
    "        DF -- input dataframe to remove columns from.\n",
    "        regex_list -- list of string patterns or regexp to remove.\n",
    "    \n",
    "    Returns:\n",
    "        df_cut -- input df without the dropped columns. \n",
    "        '''\n",
    "    df_cut = DF.copy()\n",
    "    \n",
    "    for r in regex_list:\n",
    "        \n",
    "        df_cut = df_cut[df_cut.columns.drop(list(df_cut.filter(regex=r)))]\n",
    "        print(f'Removed {r}\\n')\n",
    "        \n",
    "    return df_cut"
   ]
  },
  {
   "cell_type": "markdown",
   "metadata": {},
   "source": [
    "### Secondary extraction method for larger dataset to export to csv"
   ]
  },
  {
   "cell_type": "code",
   "execution_count": null,
   "metadata": {
    "code_folding": [],
    "colab": {
     "base_uri": "https://localhost:8080/",
     "height": 856
    },
    "colab_type": "code",
    "id": "gmZ-B9tLOIaj",
    "outputId": "6da34f0b-b8cd-41fd-b04c-e0e327d1cd87"
   },
   "outputs": [],
   "source": [
    "# Extracting additional information to export for external plotting. \n",
    "DB_Order = pd.read_sql_table('Order',engine);\n",
    "DB_OrderDetail = pd.read_sql_table('OrderDetail',engine);\n",
    "print(f\"DB_Order columns:{DB_Order.columns}n\\n DB_OrderDetail columns: {DB_OrderDetail.columns}\");"
   ]
  },
  {
   "cell_type": "code",
   "execution_count": null,
   "metadata": {
    "colab": {
     "base_uri": "https://localhost:8080/",
     "height": 384
    },
    "colab_type": "code",
    "id": "mOvR5VevPGPP",
    "outputId": "b4360577-0dd3-43a7-f068-61adb5f915da",
    "scrolled": true
   },
   "outputs": [],
   "source": [
    "# TAKE  DB_Orderm rename index, remove unwanted columns\n",
    "DB_Order.rename({'Id':'OrderId','OrderDate':'OrderPlaced'},axis=1,inplace=True)\n",
    "\n",
    "# Drop unwanted columns from DB_Orde to make df_Order\n",
    "regex_to_drop = ['Date','Freight']\n",
    "\n",
    "df_Order = df_drop_regex(DB_Order, regex_to_drop)\n",
    "df_Order.rename({'OrderPlaced':'OrderDate'},axis=1,inplace=True)\n",
    "# df_Order.head()"
   ]
  },
  {
   "cell_type": "code",
   "execution_count": null,
   "metadata": {
    "colab": {},
    "colab_type": "code",
    "id": "WAk83CU3ZT0h"
   },
   "outputs": [],
   "source": [
    "# MERGING IMPORT DB_OrderDetail and cleaned df_Order\n",
    "df_merged = DB_OrderDetail.merge(df_Order, on='OrderId',copy=True)"
   ]
  },
  {
   "cell_type": "code",
   "execution_count": null,
   "metadata": {
    "colab": {
     "base_uri": "https://localhost:8080/",
     "height": 368
    },
    "colab_type": "code",
    "id": "9SgnDaDnafwe",
    "outputId": "81463de5-07dc-45ee-f542-8188583bd7a6"
   },
   "outputs": [],
   "source": [
    "# Renaming dataframes for consistency\n",
    "df_order_geo = df_merged.copy()\n",
    "# df_order_geo.info()"
   ]
  },
  {
   "cell_type": "code",
   "execution_count": null,
   "metadata": {
    "code_folding": [
     0
    ],
    "colab": {},
    "colab_type": "code",
    "id": "kZrILqbzLakW"
   },
   "outputs": [],
   "source": [
    "# # Remove some columns from df_order_geo\n",
    "\n",
    "# df_order_geo.drop(['OrderId', 'ShipName', 'ShippedDate', 'RequiredDate', 'ShipVia','ShipAddress',\n",
    "#              'RequiredDate','ShippedDate', 'Freight'],inplace=True, axis=1)\n",
    "# # relabel the Id column so they have unique names\n",
    "# df_order_geo.rename(columns={'Id':'OrderId_'},inplace=True )\n",
    "# df_order_geo.info()\n",
    "# # print(f'df_ord.info():\\n {df_ord.info()}\\n\\ndf_order_geo.info():\\n{df_order_geo.info()}')\n"
   ]
  },
  {
   "cell_type": "code",
   "execution_count": null,
   "metadata": {
    "colab": {
     "base_uri": "https://localhost:8080/",
     "height": 435
    },
    "colab_type": "code",
    "id": "xMsnQk78MlLi",
    "outputId": "e86c9ef9-0ed7-489c-c25a-c81fe1e5dfc4"
   },
   "outputs": [],
   "source": [
    "#Apply calc_product_price to every row \n",
    "df_price_geo = df_order_geo.apply(lambda x: calc_product_price(x),axis=1)\n",
    "\n",
    "# Apply_calc_order_total to every row\n",
    "df_price_geo = df_price_geo.apply(lambda x: calc_order_total(x,df_price_geo), axis=1)  \n",
    "# df_price_geo.info()"
   ]
  },
  {
   "cell_type": "code",
   "execution_count": null,
   "metadata": {
    "code_folding": [],
    "colab": {
     "base_uri": "https://localhost:8080/",
     "height": 67
    },
    "colab_type": "code",
    "id": "IHFWsYrQh5qU",
    "outputId": "023223eb-4cff-4d14-c6ae-987915551b56"
   },
   "outputs": [],
   "source": [
    "#convert dates to datetime\n",
    "df_price_geo['OrderDate'] = pd.to_datetime(df_price_geo.OrderDate )\n",
    "df_price_geo.OrderDate.agg(['mean','max','min'])"
   ]
  },
  {
   "cell_type": "code",
   "execution_count": null,
   "metadata": {
    "code_folding": [],
    "colab": {
     "base_uri": "https://localhost:8080/",
     "height": 468
    },
    "colab_type": "code",
    "id": "AprRVK06h5qZ",
    "outputId": "132a835e-71c0-4864-869b-d13ca6c44c47"
   },
   "outputs": [],
   "source": [
    "# Create columns for day of week and month\n",
    "df_price_geo['OrderDate'] = pd.to_datetime(df_price_geo.OrderDate)\n",
    "\n",
    "df_price_geo['week_day'] = df_price_geo['OrderDate'].dt.dayofweek\n",
    "df_price_geo['month'] = df_price_geo['OrderDate'].dt.month\n",
    "\n",
    "# df_price_geo.info()"
   ]
  },
  {
   "cell_type": "code",
   "execution_count": null,
   "metadata": {
    "code_folding": [],
    "colab": {
     "base_uri": "https://localhost:8080/",
     "height": 234
    },
    "colab_type": "code",
    "id": "vDqA5Xe8jY8h",
    "outputId": "91e51550-e15b-4ae4-f2f8-9043c032d27e"
   },
   "outputs": [],
   "source": [
    "# Make list of month names to map onto dataframe.\n",
    "months = ['jan','feb', 'mar', 'apr', 'may' , 'jun', 'jul', 'aug', 'sep', 'oct', 'nov', 'dec']#creating label names\n",
    "# month_code =\n",
    "month_dict = dict(zip( list(range(1,len(months)+1)),months)) # zip the two into a dictionary\n",
    "\n",
    "# MAP THE MONTH_DICT ONTO NEW COLUMN month_name\n",
    "df_price_geo['month_name'] = df_price_geo['month'].map(month_dict)\n",
    "df_price_geo['month_name'].value_counts()"
   ]
  },
  {
   "cell_type": "code",
   "execution_count": null,
   "metadata": {
    "colab": {
     "base_uri": "https://localhost:8080/",
     "height": 33
    },
    "colab_type": "code",
    "id": "M9BSk8NMJMLi",
    "outputId": "a152bd95-791b-4a97-cc31-4e7aba9e0fef"
   },
   "outputs": [],
   "source": [
    "# Save df_price_Geo \n",
    "# Save figure of save_for_user is True\n",
    "if save_for_user == True:\n",
    "# save = input(prompt='Would you like to export the dataframe above? (y/n)\\n')\n",
    "# if save.lower()=='y':\n",
    "    filename ='df_H3_price_w_dates_products.csv'\n",
    "    df_H3_price_w_dates_products = df_price_geo.copy()\n",
    "    df_H3_price_w_dates_products.to_csv(filename)\n",
    "    print(f'df_price exported and saved as {filename}...')\n",
    "    print(f'if you are running this on Colab:...\\nOpen File sidebar, click Refresh, right click on {filename} to Download.')\n",
    "    \n",
    "    filename ='df_H3_price_w_dates_orders.csv'\n",
    "    df_H3_price_w_dates_orders = df_H3_price_w_dates_products.drop_duplicates(subset=['OrderId'])\n",
    "    df_H3_price_w_dates_orders.to_csv(filename)\n",
    "    print(f'if you are running this on Colab:...\\nOpen File sidebar, click Refresh, right click on {filename} to Download.')\n",
    "\n",
    "else:\n",
    "    print('No .csv exported.')\n",
    "    \n",
    "    \n",
    "# print(f'The cell above is currently commented out, uncomment to export csv')\n"
   ]
  },
  {
   "cell_type": "code",
   "execution_count": null,
   "metadata": {},
   "outputs": [],
   "source": [
    "# df_price_geo.info()"
   ]
  },
  {
   "cell_type": "markdown",
   "metadata": {
    "colab_type": "text",
    "id": "eOHvLslMTz2u"
   },
   "source": [
    "### EDA\n",
    " - Extraction workflows merge here. \n",
    " - define uselful functions for visualizations\n",
    " - Plotting and visualizing features"
   ]
  },
  {
   "cell_type": "code",
   "execution_count": null,
   "metadata": {},
   "outputs": [],
   "source": [
    "# Picking which iteration of df_price to use \n",
    "df_year = df_price_geo.copy()\n",
    "#df_year = df_priceM"
   ]
  },
  {
   "cell_type": "code",
   "execution_count": null,
   "metadata": {
    "colab": {},
    "colab_type": "code",
    "id": "EaZSLM9pmVTc"
   },
   "outputs": [],
   "source": [
    "#- Adding df_year_orders = df_price_geo should ensure that the rest of mike's code runs\n",
    "df_year_orders = df_price_geo.drop_duplicates(subset=['OrderId']).copy()\n",
    "df_year_orders.set_index('OrderId',inplace=True,verify_integrity=True)\n",
    "# df_year_orders.info()"
   ]
  },
  {
   "cell_type": "code",
   "execution_count": null,
   "metadata": {
    "colab": {
     "base_uri": "https://localhost:8080/",
     "height": 318
    },
    "colab_type": "code",
    "id": "WFi_GbL4BYUw",
    "outputId": "5074da99-d580-4c64-c5e4-b062c6c001d5"
   },
   "outputs": [],
   "source": [
    "# Drop unneeded and misleading formerly product-associated columns\n",
    "vars_to_drop = ['EmployeeId','ShipVia','ShipAddress','ShipRegion','ProductId','ShipName','Id','price','OnSale']\n",
    "df_year_orders.drop(vars_to_drop,axis=1,inplace=True)\n",
    "# df_year_orders.info()"
   ]
  },
  {
   "cell_type": "markdown",
   "metadata": {
    "colab_type": "text",
    "id": "m-IJsfaeZShd"
   },
   "source": [
    "### plot initial order totals by month"
   ]
  },
  {
   "cell_type": "code",
   "execution_count": null,
   "metadata": {
    "colab": {},
    "colab_type": "code",
    "id": "vWUI5areZg83"
   },
   "outputs": [],
   "source": [
    "# Declare variables to be plotted\n",
    "x = df_year_orders['month']\n",
    "y = df_year_orders['order_total']\n",
    "ticks = [v for v in month_dict.values()] \n",
    "title = 'Order totals per month with or without discounts'\n",
    "hue = df_year_orders['Discount'] > 0"
   ]
  },
  {
   "cell_type": "code",
   "execution_count": null,
   "metadata": {
    "colab": {
     "base_uri": "https://localhost:8080/",
     "height": 892
    },
    "colab_type": "code",
    "id": "600QfjFUZo0N",
    "outputId": "76511f69-8584-4047-c785-549d312773fa"
   },
   "outputs": [],
   "source": [
    "make_violinplot(x,y,title,hue, ticks)"
   ]
  },
  {
   "cell_type": "code",
   "execution_count": null,
   "metadata": {
    "colab": {
     "base_uri": "https://localhost:8080/",
     "height": 564
    },
    "colab_type": "code",
    "id": "yKstXyROa-5y",
    "outputId": "6a9123c3-c733-4f05-a23f-ac71d6675757"
   },
   "outputs": [],
   "source": [
    "make_stripplot(x,y,title,hue,ticks)"
   ]
  },
  {
   "cell_type": "markdown",
   "metadata": {
    "colab_type": "text",
    "id": "i4ODtjI71c03"
   },
   "source": [
    "## ***H3, Aim 2 : Test for assumptions of normality and equal variance, then choose test***\n",
    "---\n",
    "\n"
   ]
  },
  {
   "cell_type": "markdown",
   "metadata": {
    "colab_type": "text",
    "id": "xkFmrtPc1a8I"
   },
   "source": [
    "\n",
    "* ***Aim 2: Select the appropriate t-test based on tests for the assumptions of normality and homogeneity of variance.***\n",
    "    1. **Test for Normality**<br>\n",
    "        - [Normaltest/ D’Agostino and Pearson’s](https://docs.scipy.org/doc/scipy/reference/generated/scipy.stats.normaltest.html)\n",
    "<br>\n",
    "        ```scipy.stats.normaltest```\n",
    "        - Shapiro-Wilik Test<br>\n",
    "        ```scipy.stats.shapiro```\n",
    "    2. **Test for Homogeneity of Variance**<br>\n",
    "        - [Levene's Test](https://docs.scipy.org/doc/scipy-0.14.0/reference/generated/scipy.stats.levene.html)<br>         ```scipy.stats.levene```\n",
    "    3. **Choose appropriate test based upon 1. and 2.** \n",
    "        - [Mann Whitney U Test](https://docs.scipy.org/doc/scipy/reference/generated/scipy.stats.mannwhitneyu.html)<br>  - non parametric equivalent of ANOVA)<br>\n",
    "    ```stats.mannwhitneyu```<br>\n",
    "        - Normal: 2 sample t-test\n",
    "        - Welch's t-test (Jeff)\n",
    "        \n",
    "    4.  Calculate effect size, post-hoc tukeys tests.\n",
    "        - Effect size: [cohen's d](https://stackoverflow.com/questions/21532471/how-to-calculate-cohens-d-in-python)\n",
    "          \n",
    "* ***Aim 3: To perform post-hoc pairwise comparisons for level of discount***      \n",
    "    5. If significant result, follow up with post-hoc tests\n",
    "        - [Tukey's](https://www.statsmodels.org/stable/generated/statsmodels.stats.multicomp.pairwise_tukeyhsd.html)\n",
    "        ```statsmodels.stats.multicomp.pairwise_tukeyhsd```\n"
   ]
  },
  {
   "cell_type": "markdown",
   "metadata": {
    "colab_type": "text",
    "id": "GFMslgjQqhPW"
   },
   "source": [
    "#### Histograms month vs all months"
   ]
  },
  {
   "cell_type": "code",
   "execution_count": null,
   "metadata": {
    "code_folding": [],
    "colab": {
     "base_uri": "https://localhost:8080/",
     "height": 318
    },
    "colab_type": "code",
    "id": "_IgmmlODvphN",
    "outputId": "55d27cad-b13b-4e47-f0ca-3ee85abf81ae"
   },
   "outputs": [],
   "source": [
    "draw_histograms(df_year, 'month', month_dict, 4, 3)"
   ]
  },
  {
   "cell_type": "code",
   "execution_count": null,
   "metadata": {
    "colab": {},
    "colab_type": "code",
    "id": "rz4ikqv7BvGE"
   },
   "outputs": [],
   "source": [
    "# draw_histograms_from_sample(df_year_orders, 'month', month_dict, 4, 3)\n",
    "# df_year_orders[['Quantity','Discount','price','order_total']].describe()"
   ]
  },
  {
   "cell_type": "code",
   "execution_count": null,
   "metadata": {
    "colab": {
     "base_uri": "https://localhost:8080/",
     "height": 514
    },
    "colab_type": "code",
    "id": "R0viFRByBym2",
    "outputId": "bd68cffc-6085-47cb-f811-a9e478427dff"
   },
   "outputs": [],
   "source": [
    "# df_year_orders.groupby('month_name').agg(['mean','std','min','max','count'])"
   ]
  },
  {
   "cell_type": "markdown",
   "metadata": {
    "colab_type": "text",
    "id": "hwvBZywE0V0B"
   },
   "source": [
    "### Aim 2.1: Test for Normality"
   ]
  },
  {
   "cell_type": "code",
   "execution_count": null,
   "metadata": {
    "colab": {},
    "colab_type": "code",
    "id": "oVpC31QUC9cg"
   },
   "outputs": [],
   "source": [
    "# create a dict to test stats\n",
    "dict_to_test ={}\n",
    "for month in list(df_year_orders['month_name'].unique()):\n",
    "    dict_to_test[month] = df_year_orders.groupby('month_name').get_group(month)"
   ]
  },
  {
   "cell_type": "code",
   "execution_count": null,
   "metadata": {
    "colab": {
     "base_uri": "https://localhost:8080/",
     "height": 217
    },
    "colab_type": "code",
    "id": "yeigRWPhC-yb",
    "outputId": "61bc2cda-62d6-4846-da43-5a6e7fbbbda6"
   },
   "outputs": [],
   "source": [
    "for k,v in dict_to_test.items():\n",
    "    print(f'{k} has: {len(v)} rows.')\n",
    "# len(dict_to_test.values())\n",
    "# dict_to_test.keys()"
   ]
  },
  {
   "cell_type": "code",
   "execution_count": null,
   "metadata": {
    "colab": {},
    "colab_type": "code",
    "id": "gqiBjl0W4SP_"
   },
   "outputs": [],
   "source": [
    "# Create H3_tests list to receive all test results for this hypothesis:\n",
    "H3_tests = [['Group:','TestName','Test Purpose','stat','p','sig?']  ]"
   ]
  },
  {
   "cell_type": "code",
   "execution_count": null,
   "metadata": {
    "colab": {
     "base_uri": "https://localhost:8080/",
     "height": 435
    },
    "colab_type": "code",
    "id": "34ds8zvRz-X7",
    "outputId": "360af9ac-ee1e-440f-b403-4f2576feb7dc"
   },
   "outputs": [],
   "source": [
    "# Use normaltest for D'Agostino Pearson's test\n",
    "from scipy.stats import normaltest\n",
    "\n",
    "# Recursively go through months and then test each monthths\n",
    "for month,  df  in dict_to_test.items(): #month = key, df = values\n",
    "\n",
    "    arrA = dict_to_test[month]['order_total']\n",
    "\n",
    "    #1. Test for normality\n",
    "    test_purpose = 'Normality'\n",
    "    test_to_run = 'normaltest'\n",
    "\n",
    "    arrA = np.array(arrA)\n",
    "    statA, pA = eval(test_to_run)(arrA)\n",
    "\n",
    "    # Append the result\n",
    "    H3_tests.append([month, test_to_run, test_purpose ,statA, pA, pA<0.05])\n",
    "\n",
    "# Adding a test for the year as a whole. \n",
    "arrB = np.array(df_year_orders['order_total'])\n",
    "stat, p = eval(test_to_run)(arrB)\n",
    "\n",
    "# Append the results.\n",
    "H3_tests.append(['Total Pop', test_to_run, test_purpose,stat, p,p<0.05])\n",
    "\n",
    "# Display Results\n",
    "H3_results_norm = list2df(H3_tests)\n",
    "H3_results_norm"
   ]
  },
  {
   "cell_type": "markdown",
   "metadata": {
    "colab_type": "text",
    "id": "cNlFwil16GUb"
   },
   "source": [
    "### Aim 2.2: Test for Homogneity of Variance\n",
    "- Levenes Test"
   ]
  },
  {
   "cell_type": "code",
   "execution_count": null,
   "metadata": {
    "colab": {
     "base_uri": "https://localhost:8080/",
     "height": 793
    },
    "colab_type": "code",
    "id": "WYGU5I1f6K2e",
    "outputId": "eceb5ab3-8bf7-434e-b8f5-e9801232d51c"
   },
   "outputs": [],
   "source": [
    "from scipy.stats import levene\n",
    "\n",
    "for month,  df  in dict_to_test.items(): #month = key, df = values\n",
    "    \n",
    "    # Create array A for month and array B for all other months.\n",
    "    arrA = dict_to_test[month]['order_total']\n",
    "    arrB = df_year_orders[df_year_orders['month_name']!= month]['order_total']\n",
    "  \n",
    "    arrA = np.array(arrA)\n",
    "    arrB = np.array(arrB)\n",
    "    \n",
    "    \n",
    "    #1. Test for equal variance. \n",
    "    test_to_run = 'levene'\n",
    "    test_purpose = 'Equal Variance'\n",
    "\n",
    "    # Run Levene's test\n",
    "    stat, p = eval(test_to_run)(arrA,arrB,center='median')\n",
    "    \n",
    "    # Append Results\n",
    "    H3_tests.append([f'{month} vs. Other Months', test_to_run, test_purpose ,stat, p, p<0.05])\n",
    "\n",
    "list2df(H3_tests)"
   ]
  },
  {
   "cell_type": "markdown",
   "metadata": {
    "colab_type": "text",
    "id": "zqTFEWNju4DM"
   },
   "source": [
    "### Aim 2.3. Choose Appropriate Test Based on Testing Assumptions\n",
    "\n",
    "- Note: We did not meet the criteria for normality or equal variance. \n",
    "- We also have more than 2  groups, so cannot do the Mann-Whitney U test. \n",
    "- Decided to run both a M.W.U test and Tukey's\n",
    "    - MWU to analyze each month vs the other months.\n",
    "    - Tukey's for pairwise comparisons between months\n"
   ]
  },
  {
   "cell_type": "markdown",
   "metadata": {},
   "source": [
    "#### Mann-Whitney U test of months vs year\n"
   ]
  },
  {
   "cell_type": "code",
   "execution_count": null,
   "metadata": {},
   "outputs": [],
   "source": [
    "from scipy.stats import mannwhitneyu\n",
    "\n",
    "for month, df  in dict_to_test.items(): #month = key, df = values\n",
    "\n",
    "    arrA = dict_to_test[month]['order_total']\n",
    "    arrB = df_year.loc[df_year['month_name']!= month,'order_total']\n",
    "\n",
    "    test_to_run = 'mannwhitneyu'\n",
    "    test_purpose = 'Hi sig.'\n",
    "\n",
    "    arrA = np.array(arrA).reshape(-1,1)\n",
    "    arrB = np.array(arrB).reshape(-1,1)\n",
    "\n",
    "    stat, p = eval(test_to_run)(arrA,arrB,alternative='two-sided')\n",
    "    \n",
    "    print(f'{month}:',stat, p)\n",
    "    \n",
    "    H3_tests.append([f'{month}', test_to_run, test_purpose ,stat, p, p < .05])\n",
    "\n",
    "list2df(H3_tests)"
   ]
  },
  {
   "cell_type": "markdown",
   "metadata": {},
   "source": [
    "#### Calculating effect size wiht Cohen's d"
   ]
  },
  {
   "cell_type": "code",
   "execution_count": null,
   "metadata": {},
   "outputs": [],
   "source": [
    "# Calculating effect sizes\n",
    "d_dict = {}\n",
    "for month,  df  in dict_to_test.items(): #month = key, df = values\n",
    "\n",
    "    arrA = dict_to_test[month][['order_total']]\n",
    "    arrB = df_year[df_year['month_name']!= month]['order_total']\n",
    "\n",
    "    test_to_run = 'Cohen_d'\n",
    "    test_purpose = 'efect Size'\n",
    "\n",
    "    arrA = np.array(arrA)\n",
    "    arrB = np.array(arrB)\n",
    "\n",
    "    d = Cohen_d(arrA, arrB)\n",
    "    \n",
    "    d_dict[month] = d\n",
    "    \n",
    "    print(f'{month}:',d)\n",
    "    H3_tests.append([f'{month}', test_to_run, test_purpose ,stat])\n",
    "list2df(H3_tests)"
   ]
  },
  {
   "cell_type": "markdown",
   "metadata": {
    "colab_type": "text",
    "id": "azg_e4Sjylcg"
   },
   "source": [
    "### Use Tukey's Pairwise Multiple Comparison test.\n",
    "```statsmodels.stats.multicomp.pairwise_tukeyhsd```"
   ]
  },
  {
   "cell_type": "code",
   "execution_count": null,
   "metadata": {
    "colab": {
     "base_uri": "https://localhost:8080/",
     "height": 1895
    },
    "colab_type": "code",
    "id": "l-icO2sgylch",
    "outputId": "f327354d-d539-4080-b02a-4288aa8641b3"
   },
   "outputs": [],
   "source": [
    "# Importing tukey's test\n",
    "from statsmodels.stats.multicomp import pairwise_tukeyhsd as tukey\n",
    "\n",
    "# Defome the dataframe containing column of interest and group labels. \n",
    "df_test_hypothesis = df_year_orders[['order_total','month_name','week_day']]\n",
    "grp_labels = df_test_hypothesis['month_name']\n",
    "\n",
    "# Run tukey's test\n",
    "tukey_results = tukey(df_test_hypothesis['order_total'], grp_labels, 0.05)\n",
    "\n",
    "\n",
    "# Save the results into a dataframe\n",
    "dfH_tukey = pd.DataFrame(data=tukey_results._results_table.data[1:],\n",
    "                         columns=tukey_results._results_table.data[0])\n",
    "\n",
    "# Display any significant pairwise comparisons. \n",
    "dfH_tukey.loc[dfH_tukey['reject']==True]"
   ]
  },
  {
   "cell_type": "markdown",
   "metadata": {},
   "source": [
    "**There were no significant pairwise comparisons.**"
   ]
  },
  {
   "cell_type": "markdown",
   "metadata": {
    "colab_type": "text",
    "id": "y6J9p4XL3Lnr"
   },
   "source": [
    "#### SAVE THIS: using groupby to get mean, sem, for plotting"
   ]
  },
  {
   "cell_type": "code",
   "execution_count": null,
   "metadata": {
    "code_folding": [],
    "colab": {},
    "colab_type": "code",
    "id": "hAuj-cPF22k6"
   },
   "outputs": [],
   "source": [
    "# WANT TO CALCULATE MEAN AND SEM FOR BAR PLOT FOR DF\n",
    "# Calc Standard Error of the Mean for PLotting.\n",
    "from scipy.stats import sem\n",
    "\n",
    "d_plot={}\n",
    "d_plot['mean'] = df_year_orders.groupby(['month'])['order_total'].mean()\n",
    "d_plot['sem'] =df_year_orders.groupby(['month'])['order_total'].sem()\n",
    "\n",
    "df_plot = pd.DataFrame.from_dict(d_plot)\n",
    "\n",
    "# Convert month index to month_num column\n",
    "df_plot['month_num'] = df_plot.index\n",
    "\n",
    "# Use month_dict to get months labeled with names\n",
    "df_plot['month_name']=df_plot['month_num'].map(month_dict)\n",
    "df_plot.set_index('month_name',drop=False,inplace=True)"
   ]
  },
  {
   "cell_type": "code",
   "execution_count": null,
   "metadata": {
    "colab": {
     "base_uri": "https://localhost:8080/",
     "height": 435
    },
    "colab_type": "code",
    "id": "6sgbscPBR3Jb",
    "outputId": "d6d36286-1393-4c8a-ab0a-1a89b0644252"
   },
   "outputs": [],
   "source": [
    "# df_ploto"
   ]
  },
  {
   "cell_type": "markdown",
   "metadata": {},
   "source": [
    "## BOOKMARK- FIGURE "
   ]
  },
  {
   "cell_type": "code",
   "execution_count": null,
   "metadata": {},
   "outputs": [],
   "source": [
    "#  ax.bar(x=df_plot.index, height= df_plot['mean'], yerr=df_plot['sem'])\n",
    "\n",
    "with plt.style.context('dark_background'):\n",
    "    fig = plt.figure(figsize=(10,5))\n",
    "    ax = fig.add_subplot(1,1,1)\n",
    "    \n",
    "    color = ['red','orange','yellow','green','blue','indigo','violet']\n",
    "    \n",
    "    err_kws = {'ecolor': 'w', 'capsize':5,\n",
    "               'elinewidth': 2 ,'capthick': 2}\n",
    "    \n",
    "    fontTitle = {'fontfamily':'serif',\n",
    "               'fontweight':'medium',\n",
    "               'fontsize':16}\n",
    "    \n",
    "    fontAxis = {'fontfamily':'serif',\n",
    "               'fontweight':'medium',\n",
    "               'fontsize':12}\n",
    "    labels = [str(i).title() for i in df_plot.index]\n",
    "    ax.bar(x = labels,width=0.6, height = df_plot['mean'], yerr = df_plot['sem'], error_kw=err_kws,\n",
    "          edgecolor='white', linewidth = 2,color = color)\n",
    "    \n",
    "    ax.set_title('Order Totals By Month',fontdict=fontTitle)\n",
    "    ax.set_ylabel('Average Order Total',fontdict=fontAxis)\n",
    "    ax.set_xlabel('Month', fontdict=fontAxis)\n",
    "    \n",
    "    plt.show()"
   ]
  },
  {
   "cell_type": "code",
   "execution_count": null,
   "metadata": {},
   "outputs": [],
   "source": [
    "# Save figure of save_for_user is True\n",
    "if save_for_user == True:\n",
    "    fig.savefig('H3_Month_Bar_mean_sem_black.png',dpi=300,facecolor='k')"
   ]
  },
  {
   "cell_type": "markdown",
   "metadata": {
    "colab_type": "text",
    "id": "YUqcqJPZylcn"
   },
   "source": [
    "## ***Conclusions for Hypothesis 3:***\n",
    "1. **We first used D'Agostino & Perason's test (normaltest) to check for normal distributions**\n",
    "    -  Both groups had p-values very far below our $\\alpha=0.05$  (Rows 0,1 below)\n",
    "        - We rejecteded the null hypothesis that the groups came from a populatiin with a normal distribtuion. \n",
    "2. **We tested for equal variances using Levene's test. **\n",
    "    - Level's test had a signifcant p-value, so we rejected the hypothesis that the groups have equal variances\n",
    "    \n",
    "3. **We then concluded we need a non-parametric test, so we first used the Mann-Whitney U test to compare each month vs the other 11 months**. \n",
    "    -  \n",
    "    -  \n",
    "4. **We then did pairwise comparisons of all months using Tukey's test\n",
    "    - \n",
    "    - \n",
    "\n"
   ]
  },
  {
   "cell_type": "code",
   "execution_count": null,
   "metadata": {
    "colab": {
     "base_uri": "https://localhost:8080/",
     "height": 793
    },
    "colab_type": "code",
    "id": "yMuJZ7-yylcn",
    "outputId": "54565adc-1713-4f71-c8a6-9d939002851a"
   },
   "outputs": [],
   "source": [
    "# Display final results for H3_tests\n",
    "H3_tests_table = list2df(H3_tests)\n",
    "H3_tests_table"
   ]
  },
  {
   "cell_type": "markdown",
   "metadata": {
    "colab_type": "text",
    "id": "NSv7gEWPuXTn"
   },
   "source": [
    "# Hypothesis 4 \n",
    "\n",
    "> Do different countries respond to discounts more than others? \n",
    "\n",
    "$H_1$: Different countries purchase different quantities of discounted vs non discounted products. \n",
    "\n",
    "$H_0$: All countries purchase the same quantities of discounted vs non discounted products. \n",
    "\n",
    "**Specific Aims:**\n",
    "\n",
    "* ***Aim 1:To select the proper dataset for analysis, perform EDA, and generate data groups for testing.***\n",
    "    - Used sqlalchemy and pandas.read_sql_query()\n",
    "    query = \n",
    "\n",
    "* ***Aim 2: Select the appropriate t-test based on tests for the assumptions of normality and homogeneity of variance.***\n",
    "    1. **Test for Normality**\n",
    "        - D'Agostino-Pearson's normality test<br>\n",
    "        ```scipy.stats.normaltest```\n",
    "        - Shapiro-Wilik Test<br>\n",
    "        ```scipy.stats.shapiro```\n",
    "    2. **Test for Homogeneity of Variance**\n",
    "        - Levene's Test<br>\n",
    "         ```scipy.stats.levene```\n",
    "\n",
    "    3. **Choose appropriate test based upon 1. and 2.** \n",
    "\n",
    "\n",
    "* ***Aim 3: To perform post-hoc painrwise comparison testing to determine which level of discounts affect quantity and if any discount has a greater effect than the others.***\n",
    "     - Tukey's test for multiple pairwise comparisons\n"
   ]
  },
  {
   "cell_type": "markdown",
   "metadata": {
    "colab_type": "text",
    "id": "ZnY9sSjWuKZL"
   },
   "source": [
    "_________\n",
    "## ***H4, Aim 1.1 : To select the proper dataset for analyiss  and generate data groups for testing.***\n",
    "\n",
    "#### Importing Method\n",
    "- Used sqlalchemy to create engine to connect to Northwind_small.sqlite.\n",
    "- Read tables directly into dataframes<br>\n",
    "```DB_Order = pd.read_sql_table('Order',engine);\n",
    "DB_OrderDetail = pd.read_sql_table('OrderDetail',engine);```\n",
    "\n"
   ]
  },
  {
   "cell_type": "code",
   "execution_count": null,
   "metadata": {
    "colab": {},
    "colab_type": "code",
    "id": "ZlBZKZo1goxY"
   },
   "outputs": [],
   "source": [
    "## Extract Order and OrderDetail Tables\n",
    "DB_Order = pd.read_sql_table('Order',engine);\n",
    "DB_OrderDetail = pd.read_sql_table('OrderDetail',engine);\n",
    "print(f\"DB_Order columns:{DB_Order.columns}\",'n\\n'\n",
    "      \"DB_OrderDetail columns:\",'n\\n'\n",
    "     f\"{DB_OrderDetail.columns}\")"
   ]
  },
  {
   "cell_type": "code",
   "execution_count": null,
   "metadata": {
    "colab": {},
    "colab_type": "code",
    "id": "jH4e7ph8j5qG"
   },
   "outputs": [],
   "source": [
    "# Rename Id in DB_Order, rename index,and remove unwanted columns\n",
    "DB_Order.rename({'Id':'OrderId','OrderDate':'OrderPlaced'},axis=1,inplace=True)\n",
    "\n",
    "# Drop unwanted columns from DB_Orde to make df_Order\n",
    "regex_to_drop = ['Date','Freight']\n",
    "\n",
    "df_Order = df_drop_regex(DB_Order, regex_to_drop)\n",
    "df_Order.rename({'OrderPlaced':'OrderDate'},axis=1,inplace=True)\n",
    "df_Order.head(2)"
   ]
  },
  {
   "cell_type": "code",
   "execution_count": null,
   "metadata": {},
   "outputs": [],
   "source": [
    "# MERGING IMPORT DB_OrderDetail and cleaned df_Order\n",
    "df_merged = DB_OrderDetail.merge(df_Order, on='OrderId',copy=True)\n",
    "df_order_geo = df_merged.copy()\n",
    "\n",
    "#Apply calc_product_price to every row \n",
    "df_price_geo = df_order_geo.apply(lambda x: calc_product_price(x), axis=1)\n",
    "\n",
    "# Apply_calc_order_total to every row\n",
    "df_price_geo = df_price_geo.apply(lambda x: calc_order_total(x,df_price_geo), axis=1) "
   ]
  },
  {
   "cell_type": "code",
   "execution_count": null,
   "metadata": {
    "code_folding": [],
    "colab": {
     "base_uri": "https://localhost:8080/",
     "height": 67
    },
    "colab_type": "code",
    "id": "IHFWsYrQh5qU",
    "outputId": "023223eb-4cff-4d14-c6ae-987915551b56"
   },
   "outputs": [],
   "source": [
    "#convert dates to datetime\n",
    "df_price_geo['OrderDate'] = pd.to_datetime(df_price_geo.OrderDate )\n",
    "df_price_geo.OrderDate.agg(['mean','max','min'])"
   ]
  },
  {
   "cell_type": "code",
   "execution_count": null,
   "metadata": {
    "code_folding": [],
    "colab": {
     "base_uri": "https://localhost:8080/",
     "height": 468
    },
    "colab_type": "code",
    "id": "AprRVK06h5qZ",
    "outputId": "132a835e-71c0-4864-869b-d13ca6c44c47"
   },
   "outputs": [],
   "source": [
    "# Create columns for day of week and month\n",
    "df_price_geo['OrderDate'] = pd.to_datetime(df_price_geo.OrderDate)\n",
    "\n",
    "df_price_geo['week_day'] = df_price_geo['OrderDate'].dt.dayofweek\n",
    "df_price_geo['month'] = df_price_geo['OrderDate'].dt.month\n",
    "\n",
    "# df_price_geo.info()"
   ]
  },
  {
   "cell_type": "code",
   "execution_count": null,
   "metadata": {
    "code_folding": [],
    "colab": {
     "base_uri": "https://localhost:8080/",
     "height": 234
    },
    "colab_type": "code",
    "id": "vDqA5Xe8jY8h",
    "outputId": "91e51550-e15b-4ae4-f2f8-9043c032d27e"
   },
   "outputs": [],
   "source": [
    "# Make list of month names to map onto dataframe.\n",
    "months = ['jan','feb', 'mar', 'apr', 'may' , 'jun', 'jul', 'aug', 'sep', 'oct', 'nov', 'dec']#creating label names\n",
    "\n",
    "month_dict = dict(zip( list(range(1,len(months)+1)),months)) # zip the two into a dictionary\n",
    "\n",
    "# MAP THE MONTH_DICT ONTO NEW COLUMN month_name\n",
    "df_price_geo['month_name'] = df_price_geo['month'].map(month_dict)\n",
    "df_price_geo['month_name'].value_counts()"
   ]
  },
  {
   "cell_type": "code",
   "execution_count": null,
   "metadata": {},
   "outputs": [],
   "source": [
    "# df_price_geo.info()"
   ]
  },
  {
   "cell_type": "code",
   "execution_count": null,
   "metadata": {},
   "outputs": [],
   "source": [
    "# ##make list of month names (strings) for labels\n",
    "\n",
    "# months = ['jan','feb',\n",
    "#           'mar','apr',\n",
    "#           'may' ,'jun',\n",
    "#           'jul', 'aug', \n",
    "#           'sep', 'oct', \n",
    "#           'nov', 'dec'\n",
    "#          ]\n",
    "#  #zip the two into a dictionary \n",
    "# month_dict = dict(zip( list(range(1,len(months)+1)),months))\n",
    "\n",
    "# # MAP THE MONTH_DICT ONTO NEW COLUMN month_name\n",
    "# df_price_geo['month_name'] = df_price_geo['month'].map(month_dict)\n",
    "# # df_price_geo['month_name'].value_counts()#checking how many of each month"
   ]
  },
  {
   "cell_type": "code",
   "execution_count": null,
   "metadata": {},
   "outputs": [],
   "source": [
    "#renamed df for ease of typing & it is a comprehensize starting point\n",
    "df = df_price_geo\n",
    "df.info()"
   ]
  },
  {
   "cell_type": "markdown",
   "metadata": {},
   "source": [
    "### ***H4, Aim 1.2: Exploring and Engineering features to best address hypothesis.***\n",
    "- difference between quantity bought with and without discount"
   ]
  },
  {
   "cell_type": "code",
   "execution_count": null,
   "metadata": {},
   "outputs": [],
   "source": [
    "# Separate each country's sales data into a dictionary in order to create New features for global discount effects on sales\n",
    "D_country = {}\n",
    "\n",
    "countries = list(df['ShipCountry'].unique())\n",
    "\n",
    "for country in countries:\n",
    "    \n",
    "    #check for discounts    \n",
    "    check_if_discounted = len(df.groupby('ShipCountry').get_group(country)['OnSale'].unique())\n",
    "    \n",
    "    if check_if_discounted < 2:\n",
    "        print(f'{country} did not have both discounted and non-discounted items.')\n",
    "        continue\n",
    "        \n",
    "    else:\n",
    "        \n",
    "        #Organize prices based on sales and fullprice    \n",
    "        D_country[country]={}\n",
    "\n",
    "        D_country[country]['df_sale'] = df.loc[df['OnSale']==1].groupby('ShipCountry').get_group(country)\n",
    "        \n",
    "        D_country[country]['df_fullprice'] = df.loc[df['OnSale']==0].groupby('ShipCountry').get_group(country) \n",
    "        \n",
    "        #Get total sales\n",
    "        D_country[country]['price']={}\n",
    "        D_country[country]['price']['OnSale'] = D_country[country]['df_sale']['price']\n",
    "        D_country[country]['price']['FullPrice'] = D_country[country]['df_fullprice']['price']\n",
    "        \n",
    "        #Get Quantity sold at discount/nondiscount\n",
    "        D_country[country]['quantity']={}\n",
    "        D_country[country]['quantity']['OnSale'] = D_country[country]['df_sale']['Quantity']\n",
    "        D_country[country]['quantity']['FullPrice'] = D_country[country]['df_fullprice']['Quantity']"
   ]
  },
  {
   "cell_type": "markdown",
   "metadata": {},
   "source": [
    "### Engineered Discount-Preference Features to Explore\n",
    "- ```Price_Disc-Full```: Sum of all purchases of discounted items minus the sum of all purchases of full price items.\n",
    "- ```Price_Disc/Total```: Ratio of money spent on discounted products / total money spent on orders. \n",
    "- ```Quant_Disc-Full```: Sum of all discounted products' quantities minus sum of all full price products' quantities. \n",
    "- ```Quant_Disc/Total```: Ratio of quantities of discounted products / total quantity of all products ordered.\n",
    "- ```AvgPrice_Disc```: Average price of discounted items purchased (sum(price) / sum(quantity) of discounted items.\n",
    "- ```AvgPrice_full```: Average price of full price items purchased (sum(price) / sum(quantity) of full price items."
   ]
  },
  {
   "cell_type": "code",
   "execution_count": null,
   "metadata": {},
   "outputs": [],
   "source": [
    "# Calculate metrics for country-preference for discounted items. \n",
    "dC = D_country\n",
    "results = [['country','Price_Disc-Full','Price_Disc/Total','Quant_Disc-Full',\n",
    "            'Quant_Disc/Total','AvgPrice_Disc','AvgPrice_Full','AvgPrice/item']]\n",
    "\n",
    "# For each country:\n",
    "for c in dC.keys():\n",
    "    \n",
    "    # fill in temp list with the names of the data that will be placed in their location. \n",
    "    temp = ['country','Price_Disc-Full','Price_Disc/Total','Quant_Disc-Full',\n",
    "            'Quant_Disc/Total','AvgPrice_Disc','AvgPrice_Full','AvgPrice/item']\n",
    "    \n",
    "    calc = dC[c]\n",
    "    i=0\n",
    "    temp[i] = c   # country name\n",
    "    \n",
    "    i+=1\n",
    "    temp[i] = (calc['price']['OnSale'].sum()         # price sub\n",
    "               - calc['price']['FullPrice'].sum())\n",
    "    i+=1\n",
    "    temp[i] = (calc['price']['OnSale'].sum()        # price/total \n",
    "               / (calc['price']['FullPrice'].sum() \n",
    "               + calc['price']['OnSale'].sum()))\n",
    "    i+=1\n",
    "    temp[i] = (calc['quantity']['OnSale'].sum()      # quantitty sub\n",
    "               - calc['quantity']['FullPrice'].sum())\n",
    "    i+=1\n",
    "    temp[i] = (calc['quantity']['OnSale'].sum()      # quantity total\n",
    "               / (calc['quantity']['FullPrice'].sum() \n",
    "               + calc['quantity']['OnSale'].sum()))\n",
    "    i+=1\n",
    "    temp[i] = (calc['price']['OnSale'].sum()       # average spent on sale \n",
    "               / calc['quantity']['OnSale'].sum() )\n",
    "    i+=1                                           \n",
    "    temp[i] = (calc['price']['FullPrice'].sum()      # average cost full price \n",
    "               / calc['quantity']['FullPrice'].sum()) \n",
    "    i+=1\n",
    "    temp[i] = (calc['price']['FullPrice'].sum()  # average spent on all items\n",
    "               + calc['price']['OnSale'].sum() \n",
    "               / calc['quantity']['FullPrice'].sum() \n",
    "               + calc['quantity']['OnSale'].sum())\n",
    "    results.append(temp)\n",
    "\n",
    "# Display the engineered features.\n",
    "df_countries = list2df(results)\n",
    "df_countries.set_index('country',inplace=True)\n",
    "df_countries.sort_index()"
   ]
  },
  {
   "cell_type": "markdown",
   "metadata": {},
   "source": [
    "#### Engineered additional features for comparing countries\n",
    "- ```AvgOrderPrice```: Mean of all order totals for a country.\n",
    "- ```PctOf-orders```: The % of all global orders placed by a country. \n",
    "- ```PctOf-Income ```: The % of all global income (order_totals) placed by a country. \n",
    "- ```orders2-Income```: _Comparing percentage of all orders vs percentage on overall income_\n",
    "- ```DiscountGap```:  Country's AvgPrice_Full - AvgPrice_Discounted. "
   ]
  },
  {
   "cell_type": "code",
   "execution_count": null,
   "metadata": {},
   "outputs": [],
   "source": [
    "cleaned = pd.DataFrame(df.drop_duplicates(['OrderId']))\n",
    "\n",
    "# Making average price of sales for each country\n",
    "df_countries['AvgOrderPrice'] = (cleaned.groupby('ShipCountry')['order_total'].mean())\n",
    "\n",
    "\n",
    "#The % of all global orders placed by a country. \n",
    "df_countries['PctOf-orders'] = round((cleaned.groupby('ShipCountry')['OrderId'].count() \n",
    "                                      / cleaned['OrderId'].count().sum()*100),2)\n",
    "\n",
    "# The % of all global income (order_totals) placed by a country. \n",
    "df_countries['PctOf-Income'] = round((cleaned.groupby('ShipCountry')['order_total'].sum()\n",
    "                                    / cleaned['order_total'].sum()*100),2)\n",
    "\n",
    "#Checking results, Three countries had no disc.\n",
    "print(df_countries['PctOf-orders'].sum(),\n",
    "      df_countries['PctOf-Income'].sum()) \n",
    "\n",
    "\n",
    "#comparing percentage of all orders vs percentage on overall income \n",
    "df_countries['orders2-Income'] = (df_countries['PctOf-orders'] \n",
    "                                / df_countries['PctOf-Income'])\n",
    "\n",
    "#finding difference between full price and disc price\n",
    "df_countries['DiscountGap'] = (df_countries['AvgPrice_Full']\n",
    "                             - df_countries['AvgPrice_Disc'])"
   ]
  },
  {
   "cell_type": "code",
   "execution_count": null,
   "metadata": {},
   "outputs": [],
   "source": [
    "display(df_countries.round(2).sort_index())"
   ]
  },
  {
   "cell_type": "code",
   "execution_count": null,
   "metadata": {
    "colab": {},
    "colab_type": "code",
    "id": "XGG3cOREHENP"
   },
   "outputs": [],
   "source": [
    "# Add stats to df\n",
    "# Mean\n",
    "# Std. Error Mean\n",
    "# Std. deviation\n",
    "df_header = df_countries.columns\n",
    "\n",
    "country_col_means = pd.Series(df_countries.mean(axis=0)) \n",
    "country_col_sem = pd.Series(df_countries.sem(axis=0))   \n",
    "country_col_std = pd.Series(df_countries.std(axis=0)) \n",
    "\n",
    "df_country_col_means_sem = pd.DataFrame([country_col_means, country_col_sem,\n",
    "                        country_col_std],columns=df_header)\n",
    "df_country_col_means_sem.index = ['mean','sem','std']\n",
    "df_country_col_means_sem.columns=df_countries.columns\n",
    "df_country_col_means_sem"
   ]
  },
  {
   "cell_type": "code",
   "execution_count": null,
   "metadata": {},
   "outputs": [],
   "source": [
    "# Save output if save_for_user == True \n",
    "if save_for_user==True:\n",
    "    df_countries.to_csv('H4_countries_disc_pref_features.csv')\n",
    "    df_country_col_means_sem.to_csv('H4_countries_disc_pref_col_means_sem.csv')\n",
    "\n",
    "# Concatenating df_country and mean sem dataframes. \n",
    "df_countries = pd.concat([df_countries, df_country_col_means_sem])"
   ]
  },
  {
   "cell_type": "markdown",
   "metadata": {},
   "source": [
    "#### Grouping countries based on critical value criteria"
   ]
  },
  {
   "cell_type": "code",
   "execution_count": null,
   "metadata": {},
   "outputs": [],
   "source": [
    "# Create different criteria for exploring and anaqlyzing the current df\n",
    "# Used crit3 for determining the samples used in hypothesis 4\n",
    "df_compare = df_countries.drop(['mean','sem','std'], axis=0)\n",
    "crit = ((df_compare['orders2-Income'] < 1) \n",
    "        & (df_compare['AvgOrderPrice'] > 1488.357771))\n",
    "\n",
    "crit2=((df_compare['AvgPrice_Full']> 25.907391) \n",
    "        & (df_compare['AvgPrice_Disc']> 22.236349))\n",
    "\n",
    "crit3 = (df_compare['Quant_Disc/Total'] > 0.433410) \n",
    "\n",
    "winning = df_compare.loc[crit3]\n",
    "losing = df_compare.loc[~crit3]\n",
    "winning.index"
   ]
  },
  {
   "cell_type": "code",
   "execution_count": null,
   "metadata": {},
   "outputs": [],
   "source": [
    "losing.index"
   ]
  },
  {
   "cell_type": "code",
   "execution_count": null,
   "metadata": {},
   "outputs": [],
   "source": [
    "# print(winning.index)"
   ]
  },
  {
   "cell_type": "markdown",
   "metadata": {
    "colab_type": "text",
    "id": "HCQz20HQ7-oY"
   },
   "source": [
    "### ***H4, Aim 1.2: Using EDA to decide best metric for hypothesis***"
   ]
  },
  {
   "cell_type": "code",
   "execution_count": null,
   "metadata": {},
   "outputs": [],
   "source": [
    "plt.style.use('default')\n",
    "with plt.style.context('seaborn-paper'):\n",
    "    for col in winning.columns:O\n",
    "        fig = plt.figure()\n",
    "\n",
    "        plt.bar(x=winning.index,\n",
    "                height=winning[col],\n",
    "                yerr=df_country_col_means_sem.loc['sem',col])\n",
    "\n",
    "        ax = fig.gca()\n",
    "        ax.set_xticklabels(winning.index, rotation=75)\n",
    "        ax.set_ylabel(col)\n",
    "        ax.axhline(y=0,color='k',ls=':',lw=1)\n",
    "\n",
    "        plt.tight_layout"
   ]
  },
  {
   "cell_type": "code",
   "execution_count": null,
   "metadata": {
    "code_folding": [
     0
    ]
   },
   "outputs": [],
   "source": [
    "# print(\"this cell was error'd on colab\")\n",
    "# # make_stripplot(df_countries,y=df_countries)"
   ]
  },
  {
   "cell_type": "code",
   "execution_count": null,
   "metadata": {
    "scrolled": false
   },
   "outputs": [],
   "source": [
    "plt.style.use('ggplot')\n",
    "df_country_plot = df_countries.drop(['sem','mean','std'],axis=0)\n",
    "for col in df_countries.columns:\n",
    "    fig = plt.figure(figsize=(8,6))\n",
    "\n",
    "    plt.bar(x=df_countries.index, height=df_countries[col],yerr=df_country_col_means_sem.loc['sem',col])#,**bar_kws)\n",
    "    ax = fig.gca()\n",
    "    ax.set_xticklabels(df_countries.index, rotation=75,fontsize=10)\n",
    "    ax.set_title(col)\n",
    "    ax.set_ylabel(col)\n",
    "    plt.tight_layout"
   ]
  },
  {
   "attachments": {},
   "cell_type": "markdown",
   "metadata": {},
   "source": [
    "# Hypothesis 4 > Chosen Specific Hypothesis: \n",
    "> Do countries that buy discounted items in higher-than-average quantities spend more money (higher order totals)? (JMI)\n",
    "\n",
    "> Do countries spend buy larger-quantites of discounted items than the globlal average  on average per order when they buy higher than average amounts of discounted items per order? (MVM)\n",
    "\n",
    "\n",
    "- $H_1$: Orders shipped to countries where average orders contain higher than average amounts of discounted items per order spend more per order on average than other countries.\n",
    "\n",
    "\n",
    "- $H_0$: Orders shipped to countries with higher than average discounted items per order do have higher order totals.\n",
    "\n",
    "  - I am defining countries with higher than average discount prices as the following:\n",
    "   Brazil, Belgium, Austria', Mexico, USA, Sweden, Spain, Ireland, Canada, Denmark.\n",
    "  \n",
    "  "
   ]
  },
  {
   "cell_type": "code",
   "execution_count": null,
   "metadata": {},
   "outputs": [],
   "source": [
    "df_c = df.drop_duplicates('OrderId')\n",
    "df_c.set_index('OrderId',inplace=True)\n",
    "# df_c.head()"
   ]
  },
  {
   "cell_type": "markdown",
   "metadata": {},
   "source": [
    "### Add three more features for easy analysis,\n",
    "- column 'Abovecrit' \n",
    "    - Boolean value for all countries whose discounted items/total order, is above average for all countries\n",
    "- column 'AbovecritGroups'\n",
    "    - subset 'Abovecrit' into 0 for all countries below critical value, and a unique categorical number for each country above.\n",
    "- column 'CountryCode'\n",
    "    - a unique code for each country\n"
   ]
  },
  {
   "cell_type": "code",
   "execution_count": null,
   "metadata": {},
   "outputs": [],
   "source": [
    "# Coding all countries for comparison in a Tukeys test\n",
    "# Anything With a 1-12 met Criteria in crit3\n",
    "country_codes = {\n",
    "    'France':1,'Germany':2,\n",
    "    'Brazil':3, 'Belgium':13, \n",
    "    'Switzerland':4,'Venezuela':14,\n",
    "    'Austria':5,'Mexico':15,\n",
    "    'USA':6,'Sweden':7,\n",
    "    'Finland':16,'Italy':8,\n",
    "    'Spain':9,'UK':17,\n",
    "    'Ireland':10,'Portugal':11,\n",
    "    'Canada':12,'Denmark':18,\n",
    "    'Poland':19,'Norway':20,\n",
    "    'Argentina':21\n",
    "}\n",
    "#Unique codes for each country \n",
    "df_c.loc[:,'CountryCode'] = df_c['ShipCountry'].map(country_codes)\n",
    "\n",
    "#Boolean for two groups, Above crit or below\n",
    "df_c.loc[df_c['CountryCode'] <= 12, 'Abovecrit'] = True\n",
    "df_c.loc[df_c['CountryCode'] > 12, 'Abovecrit'] = False\n",
    "\n",
    "#Groups each country above criteria as its own group, rest of pop. isin its own group.\n",
    "df_c.loc[df_c['CountryCode'] > 12, 'AbovecritGroups'] = 0\n",
    "df_c.loc[df_c['CountryCode'] <= 12, 'AbovecritGroups'] = df_c['CountryCode']"
   ]
  },
  {
   "cell_type": "code",
   "execution_count": null,
   "metadata": {},
   "outputs": [],
   "source": [
    "# Make series of 'order_totals' for testing against criteria\n",
    "h4_samp = df_c.groupby('Abovecrit')['order_total'].get_group(1)\n",
    "h4_pop = df_c.groupby('Abovecrit')['order_total'].get_group(0)\n",
    "\n",
    "print(h4_pop.mean(),h4_samp.mean())\n",
    "\n",
    "h4_pop= pd.DataFrame(h4_pop)\n",
    "h4_samp= pd.DataFrame(h4_samp)\n",
    "(h4_samp.head(),\n",
    "h4_pop.head())"
   ]
  },
  {
   "cell_type": "markdown",
   "metadata": {},
   "source": [
    "### Going back to the original df to test the hypthesis.\n"
   ]
  },
  {
   "cell_type": "code",
   "execution_count": null,
   "metadata": {},
   "outputs": [],
   "source": [
    "plot_wide_kde_thin_bar(h4_samp.order_total,\n",
    "                       '40%+ dic/total',\n",
    "                       h4_pop.order_total,\n",
    "                       'Populatioin')\n",
    "plt.tight_layout()"
   ]
  },
  {
   "cell_type": "code",
   "execution_count": null,
   "metadata": {},
   "outputs": [],
   "source": [
    "with plt.style.context(('dark_background')):\n",
    "    \n",
    "    sns.set_palette('Dark2')\n",
    "    fig = plt.figure()\n",
    "    plt.title('Distribution of total order price for orders'\n",
    "              'with an average or 40% discounted Items ')\n",
    "\n",
    "    disc = h4_samp['order_total']\n",
    "    full = h4_pop['order_total']\n",
    "    label = 'less than 40$ discounted on average'\n",
    "    \n",
    "    plt.hist(full, alpha = 0.8, bins=30,label=label)\n",
    "    plt.hist(disc, alpha = 0.5, bins=30,label='Discounted')\n",
    "\n",
    "    # Adding annotations\n",
    "    meanD = round(np.mean(disc),3)\n",
    "    meanF = round(np.mean(full),3)\n",
    "    \n",
    "    plt.axvline(meanD, color='green',linestyle='--',label='Discounted Mean')\n",
    "    plt.text(meanD,190,f'Mean:{meanD}',rotation=270,fontweight='medium')\n",
    "    \n",
    "    plt.axvline(meanF,color='white',linestyle='-',label='Full Price Mean')\n",
    "    plt.text(meanF, 190, f'Mean:{meanF}',rotation=270,fontweight='medium')\n",
    "\n",
    "    plt.xlabel('order_total')\n",
    "    plt.ylabel('Counts')\n",
    "    plt.legend()\n",
    "    plt.show()"
   ]
  },
  {
   "cell_type": "markdown",
   "metadata": {},
   "source": [
    "## ***H4, Aim 2 : Test for assumptions of normality and equal variance, then choose test***\n",
    "---\n",
    "\n"
   ]
  },
  {
   "cell_type": "code",
   "execution_count": null,
   "metadata": {},
   "outputs": [],
   "source": [
    "H4_tests = [[\n",
    "    'Group:',\n",
    "    'TestName',\n",
    "    'Test Purpose',\n",
    "    'stat','p',\n",
    "    'p < .05'\n",
    "]]"
   ]
  },
  {
   "cell_type": "code",
   "execution_count": null,
   "metadata": {},
   "outputs": [],
   "source": [
    "from scipy.stats import normaltest\n",
    "# Test for normality\n",
    "\n",
    "test_purpose = 'Normality'\n",
    "test_to_run = 'normaltest'\n",
    "\n",
    "arrA = h4_samp.order_total\n",
    "arrB = h4_pop.order_total\n",
    "arrA = np.array(arrA)\n",
    "arrB = np.array(arrB)\n",
    "\n",
    "statA, pA = eval(test_to_run)(arrA)\n",
    "stat, p = eval(test_to_run)(arrB)\n",
    "\n",
    "print('samp:', statA, pA,\n",
    "      '\\n''pop:',stat,p)\n",
    "\n",
    "H4_tests.append(['Sample', test_to_run, \n",
    "                 test_purpose , statA,\n",
    "                 pA, pA < .05])\n",
    "\n",
    "H4_tests.append(['Total Pop', test_to_run, \n",
    "                 test_purpose, stat, p,\n",
    "                 p < .05])"
   ]
  },
  {
   "cell_type": "markdown",
   "metadata": {},
   "source": [
    "### Check variance \n",
    "- levenes test"
   ]
  },
  {
   "cell_type": "code",
   "execution_count": null,
   "metadata": {},
   "outputs": [],
   "source": [
    "from scipy.stats import levene\n",
    "\n",
    "# Levenes test for testing homogeneity of variance\n",
    "# Choose this over Bartlett's due to  dev. from normality\n",
    "# Set to center='median' (default) because of skewed dist,\n",
    "# Use 'mean' for symetrical distribution\n",
    "# Use trimmed for heavy tailed distributions\n",
    "\n",
    "arrA = h4_samp.order_total\n",
    "arrB =h4_pop.order_total\n",
    "\n",
    "test_to_run = 'levene'\n",
    "test_purpose = 'Equal Variance'\n",
    "\n",
    "arrA = np.array(arrA)\n",
    "arrB = np.array(arrB)\n",
    "\n",
    "stat, p = eval(test_to_run)(arrA,arrB,\n",
    "                            center='median')\n",
    "print('sample and pop:', stat,p)\n",
    "\n",
    "H4_tests.append(['sample & pop', test_to_run,\n",
    "                 test_purpose ,stat, p, p < .05])"
   ]
  },
  {
   "cell_type": "markdown",
   "metadata": {},
   "source": [
    "## T-test\n",
    "- Both sample and population are not normal and dont have equal variance.\n",
    "- use Whitney-Mann U"
   ]
  },
  {
   "cell_type": "code",
   "execution_count": null,
   "metadata": {},
   "outputs": [],
   "source": [
    "from scipy.stats import mannwhitneyu\n",
    "# Mann Whitney U test for non normal distributioin\n",
    "#Set alternative to 'greater' for one tail test\n",
    "\n",
    "arrA = h4_samp.order_total\n",
    "arrB =h4_pop.order_total\n",
    "\n",
    "test_to_run = 'mannwhitneyu'\n",
    "test_purpose = 'Hi sig.'\n",
    "\n",
    "arrA = np.array(arrA)\n",
    "arrB = np.array(arrB)\n",
    "\n",
    "stat, p = eval(test_to_run)(arrA,arrB,\n",
    "                            alternative='greater')\n",
    "print('sample and pop:', stat, p)\n",
    "\n",
    "H4_tests.append(['sample and pop', test_to_run,\n",
    "                 test_purpose ,stat, p, p < .05]) "
   ]
  },
  {
   "cell_type": "code",
   "execution_count": null,
   "metadata": {},
   "outputs": [],
   "source": [
    "from scipy.stats import ttest_ind\n",
    "\n",
    "# Run a Welch's one sided t_test for unequal homogeneity\n",
    "# equal_var is set false, test compensates for this\n",
    "# Divide in half because it is a one sided test\n",
    "\n",
    "arrA = h4_samp.order_total\n",
    "arrB =h4_pop.order_total\n",
    "\n",
    "test_to_run = \"ttest_ind\"\n",
    "test_purpose = 'signifigance'\n",
    "\n",
    "arrA = np.array(arrA)\n",
    "arrB = np.array(arrB)\n",
    "\n",
    "stat, p = eval(test_to_run)(arrA,arrB,\n",
    "                            equal_var=False)\n",
    "p = p /2 \n",
    "print('sample and pop:', stat, p)\n",
    "\n",
    "H4_tests.append(['sample and pop', test_to_run,\n",
    "                 test_purpose ,stat, p, p < .05])                   "
   ]
  },
  {
   "cell_type": "code",
   "execution_count": null,
   "metadata": {},
   "outputs": [],
   "source": [
    "# Tukeys with subset of countries against the whole population\n",
    "# Create labels\n",
    "# Run Test\n",
    "# Put results in df\n",
    "# Checking for any signifigance\n",
    "from statsmodels.stats.multicomp import pairwise_tukeyhsd as tukey\n",
    "\n",
    "int_str = [str(x) for x in df_c['AbovecritGroups']]\n",
    "\n",
    "tukey_results =tukey(df_c['order_total'],int_str, 0.05)\n",
    "dfH_tukey = pd.DataFrame(data=tukey_results._results_table.data[1:],\n",
    "                         columns=tukey_results._results_table.data[0])\n",
    "dfH_tukey.loc[dfH_tukey['reject']==True]\n",
    "# dfH_tukey"
   ]
  },
  {
   "cell_type": "code",
   "execution_count": null,
   "metadata": {},
   "outputs": [],
   "source": [
    "#Tukey's test with each country compared to each other country\n",
    "\n",
    "int_str = [str(x) for x in df_c['CountryCode']]\n",
    "\n",
    "tukey_results = tukey(df_c['order_total'],\n",
    "                      int_str, 0.05)\n",
    "dfH_tukey = pd.DataFrame(data=tukey_results._results_table.data[1:],\n",
    "                         columns=tukey_results._results_table.data[0])\n",
    "dfH_tukey.loc[dfH_tukey['reject']==True]"
   ]
  },
  {
   "cell_type": "code",
   "execution_count": null,
   "metadata": {},
   "outputs": [],
   "source": [
    "list2df(H4_tests)"
   ]
  }
 ],
 "metadata": {
  "accelerator": "GPU",
  "colab": {
   "collapsed_sections": [],
   "include_colab_link": true,
   "name": "_Mod2_Project_JMI_04-07-19_H1-H3.ipynb",
   "provenance": [],
   "toc_visible": true,
   "version": "0.3.2"
  },
  "kernelspec": {
   "display_name": "learn-env",
   "language": "python",
   "name": "learn-env"
  },
  "language_info": {
   "codemirror_mode": {
    "name": "ipython",
    "version": 3
   },
   "file_extension": ".py",
   "mimetype": "text/x-python",
   "name": "python",
   "nbconvert_exporter": "python",
   "pygments_lexer": "ipython3",
   "version": "3.6.8"
  },
  "toc": {
   "base_numbering": 1,
   "nav_menu": {},
   "number_sections": false,
   "sideBar": true,
   "skip_h1_title": false,
   "title_cell": "Table of Contents",
   "title_sidebar": "Contents",
   "toc_cell": false,
   "toc_position": {
    "height": "calc(100% - 180px)",
    "left": "10px",
    "top": "150px",
    "width": "255px"
   },
   "toc_section_display": true,
   "toc_window_display": true
  },
  "varInspector": {
   "cols": {
    "lenName": 16,
    "lenType": 16,
    "lenVar": 40
   },
   "kernels_config": {
    "python": {
     "delete_cmd_postfix": "",
     "delete_cmd_prefix": "del ",
     "library": "var_list.py",
     "varRefreshCmd": "print(var_dic_list())"
    },
    "r": {
     "delete_cmd_postfix": ") ",
     "delete_cmd_prefix": "rm(",
     "library": "var_list.r",
     "varRefreshCmd": "cat(var_dic_list()) "
    }
   },
   "oldHeight": 525.1999999999999,
   "position": {
    "height": "40px",
    "left": "913px",
    "right": "20px",
    "top": "-15px",
    "width": "759.188px"
   },
   "types_to_exclude": [
    "module",
    "function",
    "builtin_function_or_method",
    "instance",
    "_Feature"
   ],
   "varInspector_section_display": "none",
   "window_display": true
  }
 },
 "nbformat": 4,
 "nbformat_minor": 1
}
