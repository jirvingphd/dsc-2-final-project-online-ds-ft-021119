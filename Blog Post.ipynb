{
 "cells": [
  {
   "cell_type": "markdown",
   "metadata": {},
   "source": [
    "# My Methodology: Mod 2 Project - Northwind Database, Analyiss of Consumer Behavior, and Business Recommendations "
   ]
  },
  {
   "cell_type": "markdown",
   "metadata": {},
   "source": [
    "<img src=\"https://www.dropbox.com/s/bmgrrhi13rb02pd/Northwind_ERD.png?raw=1\" width=400>"
   ]
  },
  {
   "cell_type": "markdown",
   "metadata": {},
   "source": [
    "# Introduction / Project Assignment\n",
    "\n",
    "**For this project, we were hired by the Northwind company allowed us access to their SQL databases to answer a specific question:**\n",
    "\n",
    "> **Do discounts have a statistically significant effect on the number of products customers order? If so, at what level(s) of discount?”**\n",
    "\n",
    "- Additionally, we were tasked with thinking of  3 other questions that would be of interest to the company.\n",
    "    - They requested we formally apply hypothesis testing for our results to see if we could the null hypothesis, that there is no effect of discounts on quantities purchased.\n",
    "    \n",
    "- After considering their initial question and examining their databases, we decided that the company would be interested in understanding other aspects of consumer purchasing behavior. We then formulated 3 addititional questions along those lines.\n",
    "___\n",
    "## OUR 4 HYPOTHESES ABOUT CONSUMER PURCHASING BEHAVIOR:\n",
    "\n",
    "* **Q1:\"Do discounts have a statistically significant effect on the number of products customers order?  If so, at what level(s) of discount?** \n",
    "\n",
    "    - Null Hypothesis ($H_0$) : Products that are discounted sell the same quantities as full-proce products.\n",
    "    - Alternative Hypothesis ($H_1$): Products that are discounted sell in higher quantities.\n",
    "    ___\n",
    "\n",
    "* **Q2: **Do customers spend more money overall if they are buying discounted items?**\n",
    "    - $H_1$: Customers spend more money overall when their order includes discounted items.\n",
    "    - $H_0$: Customers spend the same amount regardless of discounted items. \n",
    "___\n",
    "* **Q3: Does time of year affect how much consumers buy?**\n",
    "    - $H_1$ = The month an order is placed relates to either a higher or lower mean quantity of items sold.\n",
    "    - $H_0$ = The month of an order has no affect on the mean quantity of items sold.\n",
    "___\n",
    "* **Q4:  Do countries that buy discounted items in higher-than-average quantities spend more money (have higher order totals)?**\n",
    "\n",
    "- $H_1$: Different countries purchase different quantities of discounted vs non discounted products. \n",
    "- $H_0$: All countries purchase the same quantities of discounted vs non discounted products. \n",
    "___"
   ]
  },
  {
   "cell_type": "markdown",
   "metadata": {},
   "source": [
    "### OUR METHODOLOGY\n",
    "- **We first formally defined our hypothesis and null hypothesis.**   \n",
    " <br>\n",
    "- **We then asked 2 key questions abour our data and then used the results of these tests to choose the most appropriate test for each hypotheses.**\n",
    "\n",
    "    1. **How many samples will I be comparing?**\n",
    "        - 1 group vs a idealized distribution?\n",
    "        - 2 groups?\n",
    "        - More than 2?\n",
    " \n",
    "    2. **Do we need a 1-tailed or 2-tailed test? In other words, is there an expected directionality to our hypothesis?**\n",
    "        - Are we asking if group A will be have larger/higher values than Group B?\n",
    "        - Or are we just asking if the 2 groups are different?-   \n",
    "\n",
    "    3. **Is our data normally distributed?**\n",
    "        - Does our data meet the required assumption of normality?\n",
    "\n",
    "    4. **Is the variance in our data approximately equal?**\n",
    "        - Is there an equal spread to the different samples of data?\n",
    "\n",
    "- **We then selected the appropriate test based upon these criteria.**\n",
    "    - For significant results, we then calculated the effect size using Cohen's d.\n",
    "    - We additionally ran post-hoc tests for pairwise comparisons for any hypothesis that had more than 2 groups.\n",
    "\n",
    "    \n",
    "    \n",
    "### For each hypothesis, we followed the specific aims below to guide our workflow:\n",
    "\n",
    "- Aim 1:To select the proper dataset for analysis, perform EDA, and generate data groups for testing.\n",
    "    - Use SQL Alchemy with Pandas DataFrames to retrieve and merge/join data from proper SQL tables.\n",
    "    - Perform any calculations of engineer any features required to test our hypothesis. \n",
    "    \n",
    "- Aim 2: Select the appropriate t-test based on our type of comaprison and the results of our tests for normality and homogeneity of variance.\n",
    "    \n",
    "    1. Test for Normality with D'Agostino-Pearson's normality test<br>\n",
    "        ```scipy.stats.normaltest```\n",
    "        \n",
    "    2. Test for Homogeneity of Variance with Levene's Test<br>\n",
    "         ```scipy.stats.levene```\n",
    "    \n",
    "    3. How many samples are we comparing?\n",
    "    \n",
    "    4. Does our hypothesis require a 1-tail or 2-tailed tesT?\n",
    "\n",
    "    - We then chose and ran our test based upon the 4 criteria above.\n",
    "        - If the result was significant, we rejected the null hypothesis and performed additional analyses:\n",
    "            - Calculated effect size with Cohen's d.\n",
    "- Aim 3: If appropriate, perform post-hoc pairwise comparison testing to determine which specific levels of our groups that are significantly differnet. \n",
    "     - Tukey's test for multiple pairwise comparisons<br>\n",
    "     ```statsmodels.stats.multicomp.pairwise_tukeyhsd```\n"
   ]
  },
  {
   "cell_type": "markdown",
   "metadata": {},
   "source": [
    "| How many samples to compare? \t| Do we need a 1 or 2-tailed test? \t| Is our data normally distributed? \t| Do our samples have equal variance? \t|                  Test to use                  \t|\n",
    "|:----------------------------:\t|:--------------------------------:\t|:---------------------------------:\t|:-----------------------------------:\t|:---------------------------------------------:\t|\n",
    "| 1 Sample Vs Ideal Population \t|          1 Sample T-Test         \t|                                   \t|                                     \t|            scipy.stats.ttest_1samp            \t|\n",
    "|           2 Samples          \t|          2 Sample T-test         \t|                                   \t|                                     \t|             scipy.stats.ttest_ind             \t|\n",
    "|          >2 Samples          \t|               ANOVA              \t|                                   \t|                                     \t|              scipy.stats.f_oneway             \t|\n",
    "|                              \t|               Tukey              \t|                                   \t|                                     \t| statsmodels.stats.multicomp.pairwise_tukeyhsd \t|\n",
    "|                              \t|                                  \t|                                   \t|                                     \t|                                               \t|"
   ]
  },
  {
   "cell_type": "markdown",
   "metadata": {},
   "source": []
  },
  {
   "cell_type": "markdown",
   "metadata": {},
   "source": [
    "___\n",
    "# **Hypothesis 1:**\n",
    "> **Do discounts have a statistically significant effect on the number of products customers order?**\n",
    "> **If so, at what level(s) of discount?**\n",
    "\n",
    "\n",
    "- $H_1$ : Products that are discounted sell in higher quantities.\n",
    "\n",
    "- $H_0$ : Products that are discounted sell the same quantities as full-proce products.\n",
    "\n",
    "<br>\n",
    "\n",
    "**Specific Aims:**\n",
    "\n",
    "* ***Aim 1:To select the proper dataset for analysis, perform EDA, and generate data groups for testing.***\n",
    "    - Used sqlalchemy and pandas.<br>\n",
    "    ```python \n",
    "    query = \"SELECT* FROM OrderDetails, GROUPBY discount\"\n",
    "    python pandas.read_sql_query()\n",
    "    ```\n",
    "* ***Aim 2: Select the appropriate t-test based on tests for the assumptions of normality and homogeneity of variance.***\n",
    "\n",
    "|                  Group:                  |   Test Purpose  |         TestName         |         stat        |            p           | p<.05? |\n",
    "|:----------------------------------------:|:---------------:|:------------------------:|:-------------------:|:----------------------:|:------:|\n",
    "|  A: Discounted Products ['Discount'] > 0 |    Normality    |  scipy.stats.normaltest  |   261.528012299789  | 1.6214878452829618e-57 |  True  |\n",
    "| B: Full Price Products ['Discount'] == 0 |    Normality    |  scipy.stats.normaltest  |  544.5770045551502  | 5.579637380545965e-119 |  True  |\n",
    "|                    A&B                   |  Equal Variance |    scipy.stats.levene    |  14.832671704073421 | 0.00012091378376079568 |  True  |\n",
    "|                  A vs. B                 | Hypothesis Test | scipy.stats.mannwhitneyu |       642105.0      |  6.629381826999914e-11 |  True  |\n",
    "|                  A vs. B                 |   Effect Size   |         Cohen's d        | 0.28641058366376676 |           --           |   --   |\n",
    "        <br>\n",
    "* ***Aim 3: To perform post-hoc painrwise comparison testing to determine which level of discounts affect quantity and if any discount has a greater effect than the others.***\n",
    "     - Tukey's test for multiple pairwise comparisons<br>\n",
    "     ```statsmodels.stats.multicomp.pairwise_tukeyhsd```\n"
   ]
  },
  {
   "cell_type": "markdown",
   "metadata": {},
   "source": [
    "## Hypothesis 1\n",
    "1. **We first used D'Agostino & Perason's test (normaltest) to check for normal distributions**\n",
    "    -  Both groups had p-values very far below our $\\alpha=0.05$  (Rows 0,1 below)\n",
    "        - We rejecteded the null hypothesis that the groups came from a populatiin with a normal distribtuion. \n",
    "2. **We tested for equal variances using Levene's test.**\n",
    "    - Level's test had a signifcant p-value, so we rejected the hypothesis that the groups have equal variances\n",
    "    \n",
    "3. **We then concluded we need a non-parametric 2-sample test, so we used the Mann-Whitney U test**. \n",
    "    -  Our comparison had a p-value less than .05\n",
    "    - We reject the null hypothesis that discounts do not affect quantities sold.\n",
    "\n",
    "4. **To determine which level of discounts had the largest effect, we performed a pairwise multiple comparison Tukey's test**. \n",
    "    - Our results showed that discounts of 0-5%, 10-15%, 15-20%, and 20-25% were all significantly different from full price products. \n",
    "        - Except 5-10 % discount group\n",
    "    - No discount groups were significantly different than other discount groups.\n",
    "    "
   ]
  },
  {
   "cell_type": "markdown",
   "metadata": {},
   "source": [
    "## Hypothesis 2"
   ]
  },
  {
   "cell_type": "markdown",
   "metadata": {},
   "source": [
    "> **Do customers spend more money if they are buying discounted items?**\n",
    "\n",
    "- $H_1$: Customers spend more money overall when their order includes discounted items.\n",
    "\n",
    "- $H_0$: Customers spend the same amount regardless of discounted items. \n",
    "\n",
    "**Specific Aims:**\n",
    "\n",
    "* ***Aim 1:To select the proper dataset for analysis, perform EDA, and generate data groups for testing.***\n",
    "    - Used sqlalchemy and pandas.read_sql_query()\n",
    "    \n",
    "    ```python \n",
    "query = \"SELECT* FROM OrderDetails,\n",
    "            GROUPBY discount```\n",
    "\n",
    "* ***Aim 2: Select the appropriate t-test based on tests for the assumptions of normality and homogeneity of variance.***\n",
    "    1. **Test for Normality**\n",
    "        - D'Agostino-Pearson's normality test<br>\n",
    "        ```scipy.stats.normaltest```\n",
    "        - Shapiro-Wilik Test<br>\n",
    "        ```scipy.stats.shapiro```\n",
    "    2. **Test for Homogeneity of Variance**\n",
    "        - Levene's Test<br>\n",
    "         ```scipy.stats.levene```\n",
    "\n",
    "    3. **Choose appropriate test based upon 1. and 2.** <br> \n",
    "    \n",
    "    \n",
    "* ***Aim 3: To perform post-hoc painrwise comparison testing to determine which level of discounts affect quantity and if any discount has a greater effect than the others.***\n",
    "\n",
    "     - Tukey's test for multiple pairwise comparisons"
   ]
  },
  {
   "cell_type": "markdown",
   "metadata": {},
   "source": [
    "## Hypothesis 3\n",
    "## ***Conclusions for Hypothesis 3:***\n",
    "1. **We first used D'Agostino & Perason's test (normaltest) to check for normal distributions**\n",
    "    -  Both groups had p-values very far below our $\\alpha=0.05$  (Rows 0,1 below)\n",
    "        - We reected the null hypothesis that the groups came from a population with a normal distribution. \n",
    "2. **We tested for equal variances using Levene's test. **\n",
    "    - Levene's test had a signifcant p-value, so we rejected the hypothesis that the groups have equal variances\n",
    "    \n",
    "3. **We then concluded we need a non-parametric test, so we first used the Mann-Whitney U test to compare each month vs the other 11 months**. \n",
    "    -  Several months were significantly different than the rest of the year:\n",
    "        - Jul, Aug, Sep, Feb, Mar, Apr\n",
    "    -  \n",
    "4. **We then did pairwise comparisons of all months using Tukey's test**\n",
    "    - We could not reject the null hypothesis that month affects the quantity sold. \n",
    "    - It is difficult to interpret the contradicting results of the Mann Whitney U and the Tukey's test.\n",
    "        - But since Tukey's test corrects for multiple comparisons, it should be trusted over M.W.U.\n",
    "\n"
   ]
  },
  {
   "cell_type": "markdown",
   "metadata": {},
   "source": [
    "## Hypothesis 4\n",
    "\n",
    "### Engineered Discount-Preference Features to Explore\n",
    "- ```Price_Disc-Full```: Sum of all purchases of discounted items minus the sum of all purchases of full price items.\n",
    "- ```Price_Disc/Total```: Ratio of money spent on discounted products / total money spent on orders. \n",
    "- ```Quant_Disc-Full```: Sum of all discounted products' quantities minus sum of all full price products' quantities. \n",
    "- ```Quant_Disc/Total```: Ratio of quantities of discounted products / total quantity of all products ordered.\n",
    "- ```AvgPrice_Disc```: Average price of discounted items purchased (sum(price) / sum(quantity) of discounted items.\n",
    "- ```AvgPrice_full```: Average price of full price items purchased (sum(price) / sum(quantity) of full price items.\n",
    "\n",
    "#### Engineered additional features for comparing countries\n",
    "- ```AvgOrderPrice```: Mean of all order totals for a country.\n",
    "- ```PctOf-orders```: The % of all global orders placed by a country. \n",
    "- ```PctOf-Income ```: The % of all global income (order_totals) placed by a country. \n",
    "- ```orders2-Income```: _Comparing percentage of all orders / percentage on overall income_\n",
    "- ```DiscountGap```:  Country's AvgPrice_Full - AvgPrice_Discounted. "
   ]
  },
  {
   "cell_type": "markdown",
   "metadata": {},
   "source": [
    "## Final Conclusions and Recommendations\n",
    "\n",
    "- Discounts spur consumer purchasing behavior. \n",
    "    - They buy discounted items in higher quantities. \n",
    "- They spend more money if they are purchasing 1+ discounted items.\n",
    "- Time of year (by month) was not significant, but further metrics worth investigating.\n",
    "- Customers from different countries have unique spending behaviors that may be capitalized on with further investigation.\n",
    "\n"
   ]
  },
  {
   "cell_type": "code",
   "execution_count": null,
   "metadata": {},
   "outputs": [],
   "source": []
  },
  {
   "cell_type": "markdown",
   "metadata": {},
   "source": [
    "### OUR RECOMMENDATIONS\n",
    "- Discounts spur consumer purchasing behavior. \n",
    "    - They buy discounted items in higher quantities. \n",
    "    - They spend more money if they are purchasing 1+ discounted items.\n",
    "- Time of year (by month) was not significant, but further metrics worth investigating.\n",
    "- Customers from different countries have unique spending behaviors that may be capitalized on with further investigation."
   ]
  }
 ],
 "metadata": {
  "kernelspec": {
   "display_name": "learn-env",
   "language": "python",
   "name": "learn-env"
  },
  "language_info": {
   "codemirror_mode": {
    "name": "ipython",
    "version": 3
   },
   "file_extension": ".py",
   "mimetype": "text/x-python",
   "name": "python",
   "nbconvert_exporter": "python",
   "pygments_lexer": "ipython3",
   "version": "3.6.8"
  },
  "toc": {
   "base_numbering": 1,
   "nav_menu": {},
   "number_sections": false,
   "sideBar": true,
   "skip_h1_title": false,
   "title_cell": "Table of Contents",
   "title_sidebar": "Contents",
   "toc_cell": false,
   "toc_position": {},
   "toc_section_display": true,
   "toc_window_display": true
  },
  "varInspector": {
   "cols": {
    "lenName": 16,
    "lenType": 16,
    "lenVar": 40
   },
   "kernels_config": {
    "python": {
     "delete_cmd_postfix": "",
     "delete_cmd_prefix": "del ",
     "library": "var_list.py",
     "varRefreshCmd": "print(var_dic_list())"
    },
    "r": {
     "delete_cmd_postfix": ") ",
     "delete_cmd_prefix": "rm(",
     "library": "var_list.r",
     "varRefreshCmd": "cat(var_dic_list()) "
    }
   },
   "position": {
    "height": "144px",
    "left": "1226.67px",
    "right": "20px",
    "top": "-31px",
    "width": "350px"
   },
   "types_to_exclude": [
    "module",
    "function",
    "builtin_function_or_method",
    "instance",
    "_Feature"
   ],
   "window_display": true
  }
 },
 "nbformat": 4,
 "nbformat_minor": 2
}
