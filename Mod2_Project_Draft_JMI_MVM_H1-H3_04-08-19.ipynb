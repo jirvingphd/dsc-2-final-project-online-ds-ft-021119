{
 "cells": [
  {
   "cell_type": "markdown",
   "metadata": {
    "colab_type": "text",
    "id": "EZeLgicvwwP6"
   },
   "source": [
    "# Module 2 Final Project Submission\n",
    "- Student: James M. Irving, Ph.D.\n",
    "- Github Link: https://github.com/jirvingphd/dsc-2-final-project-online-ds-ft-021119 \n",
    "- Reviewer: Jeff Herman\n",
    "- Review Date: 04/08/19\n",
    "- Blog Post:"
   ]
  },
  {
   "cell_type": "markdown",
   "metadata": {
    "colab_type": "text",
    "id": "pgOCAkAHwwP-"
   },
   "source": [
    "## The Deliverables\n",
    "> **The goal of this project** is to test your ability to gather information from a real-world database and use your knowledge of statistical analysis and hypothesis testing to generate analytical insights that can be of value to the company.\n"
   ]
  },
  {
   "cell_type": "markdown",
   "metadata": {
    "colab_type": "text",
    "id": "A4eo2x98wwQA"
   },
   "source": [
    "In addition to answering this question with a hypothesis test, you will also need to come up with **_at least 3 other hypotheses to test on your own_**.  \n",
    "\n",
    "These can by **anything that you think could be imporant information _for the company_.** \n",
    "\n",
    "For this hypothesis, be sure to specify both the **_null hypothesis_** and the **_alternative hypothesis_** for your question.  You should also specify if this is one-tail or a two-tail test. \n",
    "\n",
    "To complete this project, you will need to turn in the following 3 deliverables:\n",
    "\n",
    "1. A **_Jupyter Notebook_** containing any code you've written for this project. \n",
    "2. A **_Blog Post_** explaining your process, methodology, and findings.  \n",
    "3. An **_\"Executive Summary\" PowerPoint Presentation_** that explains the hypothesis tests you ran, your findings, and their relevance to company stakeholders.  "
   ]
  },
  {
   "cell_type": "markdown",
   "metadata": {
    "colab_type": "text",
    "id": "-F7VwA6BwwQB"
   },
   "source": [
    "### Jupyter Notebook Must-Haves\n",
    "\n",
    "For this project, your jupyter notebook should meet the following specifications:\n",
    "\n",
    "**_Organization/Code Cleanliness_**\n",
    "\n",
    "* The notebook should be well organized, easy to follow, and code is commented where appropriate.  \n",
    "<br>  \n",
    "    * Level Up: The notebook contains well-formatted, professional looking markdown cells explaining any substantial code. All functions have docstrings that act as professional-quality documentation.  \n",
    "<br>      \n",
    "* The notebook is written to technical audiences with a way to both understand your approach and reproduce your results. The target audience for this deliverable is other data scientists looking to validate your findings.  \n",
    "<br>    \n",
    "* Any SQL code written to source data should also be included.  \n",
    "\n",
    "**_Findings_**\n",
    "\n",
    "* Your notebook should clearly show how you arrived at your results for each hypothesis test, including how you calculated your p-values.   \n",
    "<br>\n",
    "* You should also include any other statistics that you find relevant to your analysis, such as effect size. "
   ]
  },
  {
   "cell_type": "markdown",
   "metadata": {
    "colab_type": "text",
    "id": "RXO-WQHYwwQF"
   },
   "source": [
    "___"
   ]
  },
  {
   "cell_type": "markdown",
   "metadata": {
    "colab_type": "text",
    "id": "a2XMZGqABRl6"
   },
   "source": [
    "## Hypothesis Testing Workflow\n",
    "1. **Test for Normality**\n",
    "    - D'Agostino-Pearson's normality test<br>\n",
    "    ```scipy.stats.normaltest```\n",
    "    - Shapiro-Wilik Test<br>\n",
    "    ```scipy.stats.shapiro```\n",
    "2. **Test for Homogeneity of Variance**\n",
    "    - Levene's Test<br>\n",
    "     ```scipy.stats.levene```\n",
    "\n",
    "3. **Choose appropriate test based upon 1. and 2.** \n",
    "\n",
    "4. **Post-hoc comparisons**"
   ]
  },
  {
   "cell_type": "markdown",
   "metadata": {
    "colab_type": "text",
    "id": "Oz3uzog5wwQM"
   },
   "source": [
    "# Importing of Packages and Defining Functions"
   ]
  },
  {
   "cell_type": "markdown",
   "metadata": {},
   "source": [
    "### If running on CoLab, uncomment the cell below:"
   ]
  },
  {
   "cell_type": "code",
   "execution_count": 1,
   "metadata": {},
   "outputs": [],
   "source": [
    "# # If running on googe colab\n",
    "# # #CELL A : IF ON COLAB.\n",
    "# # #The northwind.sqlite is located in: content/drive/My Drive/Colab Notebooks/datasets/Northwind_small.sqlite\n",
    "# from google.colab import drive\n",
    "# drive.mount('/content/drive/', force_remount=True)\n",
    "\n",
    "# # # If in Google Drive \n",
    "# path= '/content/drive/My Drive/Colab Notebooks/datasets/'\n",
    "# file='Northwind_small.sqlite'\n",
    "# filepath = path+file\n",
    "# # filepath = '/content/drive/My Drive/Colab Notebooks/datasets/Northwind_small.sqlite'\n",
    "# #NOTE: To save files to drive, just to df.to_csv(path+'filename.csv')\n",
    "\n",
    "# If local:\n",
    "filepath = 'Northwind_small.sqlite'"
   ]
  },
  {
   "cell_type": "markdown",
   "metadata": {
    "colab_type": "text",
    "id": "PVjqeNPowwQN"
   },
   "source": [
    "## Import packages:"
   ]
  },
  {
   "cell_type": "code",
   "execution_count": 2,
   "metadata": {
    "colab": {
     "base_uri": "https://localhost:8080/",
     "height": 70
    },
    "colab_type": "code",
    "id": "vl-HKeJJwwQP",
    "outputId": "2b80e15e-b784-444e-d058-4017f00ef66a"
   },
   "outputs": [],
   "source": [
    "# Normal packages\n",
    "import pandas as pd\n",
    "import numpy as np\n",
    "import seaborn as sns\n",
    "import matplotlib.pyplot as plt\n",
    "import matplotlib.ticker as mtick\n",
    "%matplotlib inline\n",
    "\n",
    "# Statsmodels\n",
    "\n",
    "import statsmodels.api as sm\n",
    "import statsmodels.formula.api as smf\n",
    "import statsmodels.stats.api as sms\n",
    "\n",
    "import scipy.stats as stats\n",
    "\n",
    "\n",
    "# Counter\n",
    "from collections import Counter\n",
    "\n",
    "# Sklearn\n",
    "from sklearn.model_selection import train_test_split\n",
    "from sklearn.feature_selection import RFE\n",
    "from sklearn.linear_model import LinearRegression\n",
    "from sklearn.metrics import mean_squared_error\n",
    "from sklearn.preprocessing import MinMaxScaler\n",
    "from sklearn.preprocessing import RobustScaler\n",
    "import sklearn.metrics as metrics\n",
    "\n",
    "\n",
    "import sqlalchemy\n",
    "from sqlalchemy import create_engine\n",
    "from sqlalchemy.orm import Session, sessionmaker\n",
    "from sqlalchemy import inspect"
   ]
  },
  {
   "cell_type": "markdown",
   "metadata": {
    "colab_type": "text",
    "id": "s6AsUbfMwwQU"
   },
   "source": [
    "## Defining Functions"
   ]
  },
  {
   "cell_type": "markdown",
   "metadata": {
    "colab_type": "text",
    "id": "O0xNoo6vwwQV"
   },
   "source": [
    "### def check_column"
   ]
  },
  {
   "cell_type": "code",
   "execution_count": 3,
   "metadata": {
    "colab": {},
    "colab_type": "code",
    "id": "UEz2Osm_wwQW"
   },
   "outputs": [],
   "source": [
    "# Check columns returns the datatype, null values and unique values of input series \n",
    "def check_column(series,nlargest='all'):\n",
    "    print(f\"Column: df['{series.name}']':\")\n",
    "    print(f\"dtype: {series.dtype}\")\n",
    "    print(f\"isna: {series.isna().sum()} out of {len(series)} - {round(series.isna().sum()/len(series)*100,3)}%\")\n",
    "        \n",
    "    print(f'\\nUnique non-na values:') #,df['waterfront'].unique())\n",
    "    if nlargest =='all':\n",
    "        print(series.value_counts())\n",
    "    else:\n",
    "        print(series.value_counts().nlargest(nlargest))"
   ]
  },
  {
   "cell_type": "markdown",
   "metadata": {
    "colab_type": "text",
    "id": "Qk9N1jMywwQf"
   },
   "source": [
    "### def detect_outliers"
   ]
  },
  {
   "cell_type": "code",
   "execution_count": 4,
   "metadata": {
    "colab": {},
    "colab_type": "code",
    "id": "LzpDuDd5wwQg"
   },
   "outputs": [],
   "source": [
    "# Tukey's method using IQR to eliminate \n",
    "def detect_outliers(df, n, features):\n",
    "    \"\"\"Uses Tukey's method to return outer of interquartile ranges to return indices if outliers in a dataframe.\n",
    "    Parameters:\n",
    "    df (DataFrame): DataFrane containing columns of features\n",
    "    n: default is 0, multiple outlier cutoff  \n",
    "    \n",
    "    Returns:\n",
    "    Index of outliers for .loc\n",
    "    \n",
    "    Examples:\n",
    "    Outliers_to_drop = detect_outliers(data,2,[\"col1\",\"col2\"]) Returning value\n",
    "    df.loc[Outliers_to_drop] # Show the outliers rows\n",
    "    data= data.drop(Outliers_to_drop, axis = 0).reset_index(drop=True)\n",
    "   \"\"\"\n",
    "\n",
    "# Drop outliers    \n",
    "\n",
    "    outlier_indices = []\n",
    "    # iterate over features(columns)\n",
    "    for col in features:\n",
    "        \n",
    "        # 1st quartile (25%)\n",
    "        Q1 = np.percentile(df[col], 25)\n",
    "        # 3rd quartile (75%)\n",
    "        Q3 = np.percentile(df[col],75)\n",
    "        \n",
    "        # Interquartile range (IQR)\n",
    "        IQR = Q3 - Q1\n",
    "        # outlier step\n",
    "        outlier_step = 1.5 * IQR\n",
    "        \n",
    "        # Determine a list of indices of outliers for feature col\n",
    "        outlier_list_col = df[(df[col] < Q1 - outlier_step) | (df[col] > Q3 + outlier_step )].index\n",
    "        \n",
    "        # append the found outlier indices for col to the list of outlier indices \n",
    "        outlier_indices.extend(outlier_list_col)\n",
    "        \n",
    "        # select observations containing more than 2 outliers\n",
    "        outlier_indices = Counter(outlier_indices)        \n",
    "        multiple_outliers = list( k for k, v in outlier_indices.items() if v > n )\n",
    "    return multiple_outliers \n"
   ]
  },
  {
   "cell_type": "markdown",
   "metadata": {
    "colab_type": "text",
    "id": "GDzeDK5gwwQk"
   },
   "source": [
    "### def plot_hist_scat_sns"
   ]
  },
  {
   "cell_type": "code",
   "execution_count": 5,
   "metadata": {
    "colab": {},
    "colab_type": "code",
    "id": "MITbzaCcwwQl"
   },
   "outputs": [],
   "source": [
    "# Plots histogram and scatter (vs price) side by side\n",
    "def plot_hist_scat_sns(df, target='index'):\n",
    "    \"\"\"Plots seaborne distplots and regplots for columns im datamframe vs target.\n",
    "\n",
    "    Parameters:\n",
    "    df (DataFrame): DataFrame.describe() columns will be used. \n",
    "    target = name of column containing target variable.assume first coluumn. \n",
    "    \n",
    "    Returns:\n",
    "    Figures for each column vs target with 2 subplots.\n",
    "   \"\"\"\n",
    "    import matplotlib.ticker as mtick\n",
    "    import matplotlib.pyplot as plt\n",
    "    import seaborn as sns\n",
    "    \n",
    "    with plt.style.context(('dark_background')):\n",
    "        ###  DEFINE AESTHETIC CUSTOMIZATIONS  -------------------------------##\n",
    "\n",
    "\n",
    "#         plt.style.use('dark_background')\n",
    "        figsize=(9,7)\n",
    "\n",
    "        # Axis Label fonts\n",
    "        fontTitle = {'fontsize': 14,\n",
    "                   'fontweight': 'bold',\n",
    "                    'fontfamily':'serif'}\n",
    "\n",
    "        fontAxis = {'fontsize': 12,\n",
    "                   'fontweight': 'medium',\n",
    "                    'fontfamily':'serif'}\n",
    "\n",
    "        fontTicks = {'fontsize': 8,\n",
    "                   'fontweight':'medium',\n",
    "                    'fontfamily':'serif'}\n",
    "\n",
    "        # Formatting dollar sign labels\n",
    "        fmtPrice = '${x:,.0f}'\n",
    "        tickPrice = mtick.StrMethodFormatter(fmtPrice)\n",
    "\n",
    "\n",
    "        ###  PLOTTING ----------------------------- ------------------------ ##\n",
    "\n",
    "        # Loop through dataframe to plot\n",
    "        for column in df.describe():\n",
    "#             print(f'\\nCurrent column: {column}')\n",
    "\n",
    "            # Create figure with subplots for current column\n",
    "            fig, ax = plt.subplots(figsize=figsize, ncols=2, nrows=2)\n",
    "\n",
    "            ##  SUBPLOT 1 --------------------------------------------------##\n",
    "            i,j = 0,0\n",
    "            ax[i,j].set_title(column.capitalize(),fontdict=fontTitle)\n",
    "\n",
    "            # Define graphing keyword dictionaries for distplot (Subplot 1)\n",
    "            hist_kws = {\"linewidth\": 1, \"alpha\": 1, \"color\": 'blue','edgecolor':'w'}\n",
    "            kde_kws = {\"color\": \"white\", \"linewidth\": 1, \"label\": \"KDE\"}\n",
    "\n",
    "            # Plot distplot on ax[i,j] using hist_kws and kde_kws\n",
    "            sns.distplot(df[column], norm_hist=True, kde=True,\n",
    "                         hist_kws = hist_kws, kde_kws = kde_kws,\n",
    "                         label=column+' histogram', ax=ax[i,j])\n",
    "\n",
    "\n",
    "            # Set x axis label\n",
    "            ax[i,j].set_xlabel(column.title(),fontdict=fontAxis)\n",
    "\n",
    "            # Get x-ticks, rotate labels, and return\n",
    "            xticklab1 = ax[i,j].get_xticklabels(which = 'both')\n",
    "            ax[i,j].set_xticklabels(labels=xticklab1, fontdict=fontTicks, rotation=0)\n",
    "            ax[i,j].xaxis.set_major_formatter(mtick.ScalarFormatter())\n",
    "\n",
    "\n",
    "            # Set y-label \n",
    "            ax[i,j].set_ylabel('Density',fontdict=fontAxis)\n",
    "            yticklab1=ax[i,j].get_yticklabels(which='both')\n",
    "            ax[i,j].set_yticklabels(labels=yticklab1,fontdict=fontTicks)\n",
    "            ax[i,j].yaxis.set_major_formatter(mtick.ScalarFormatter())\n",
    "\n",
    "\n",
    "            # Set y-grid\n",
    "            ax[i, j].set_axisbelow(True)\n",
    "            ax[i, j].grid(axis='y',ls='--')\n",
    "\n",
    "\n",
    "\n",
    "\n",
    "            ##  SUBPLOT 2-------------------------------------------------- ##\n",
    "            i,j = 0,1\n",
    "            ax[i,j].set_title(column.capitalize(),fontdict=fontTitle)\n",
    "\n",
    "            # Define the kwd dictionaries for scatter and regression line (subplot 2)\n",
    "            line_kws={\"color\":\"white\",\"alpha\":0.5,\"lw\":4,\"ls\":\":\"}\n",
    "            scatter_kws={'s': 2, 'alpha': 0.5,'marker':'.','color':'blue'}\n",
    "\n",
    "            # Plot regplot on ax[i,j] using line_kws and scatter_kws\n",
    "            sns.regplot(df[column], df[target], \n",
    "                        line_kws = line_kws,\n",
    "                        scatter_kws = scatter_kws,\n",
    "                        ax=ax[i,j])\n",
    "\n",
    "            # Set x-axis label\n",
    "            ax[i,j].set_xlabel(column.title(),fontdict=fontAxis)\n",
    "\n",
    "             # Get x ticks, rotate labels, and return\n",
    "            xticklab2=ax[i,j].get_xticklabels(which='both')\n",
    "            ax[i,j].set_xticklabels(labels=xticklab2,fontdict=fontTicks, rotation=0)\n",
    "            ax[i,j].xaxis.set_major_formatter(mtick.ScalarFormatter())\n",
    "\n",
    "            # Set  y-axis label\n",
    "            ax[i,j].set_ylabel(target,fontdict=fontAxis)\n",
    "\n",
    "            # Get, set, and format y-axis Price labels\n",
    "            yticklab = ax[i,j].get_yticklabels()\n",
    "            ax[i,j].set_yticklabels(yticklab,fontdict=fontTicks)\n",
    "            ax[i,j].yaxis.set_major_formatter(mtick.ScalarFormatter())\n",
    "\n",
    "    #         ax[i,j].get_yaxis().set_major_formatter(tickPrice) \n",
    "\n",
    "            # Set y-grid\n",
    "            ax[i, j].set_axisbelow(True)\n",
    "            ax[i, j].grid(axis='y',ls='--')       \n",
    "\n",
    "            ## ---------- Final layout adjustments ----------- ##\n",
    "            # Deleted unused subplots \n",
    "            fig.delaxes(ax[1,1])\n",
    "            fig.delaxes(ax[1,0])\n",
    "\n",
    "            # Optimizing spatial layout\n",
    "            fig.tight_layout()\n",
    "            figtitle=column+'_dist_regr_plots.png'\n",
    "#             plt.savefig(figtitle)\n",
    "    return "
   ]
  },
  {
   "cell_type": "markdown",
   "metadata": {
    "colab_type": "text",
    "id": "2exBRnep4NL_"
   },
   "source": [
    "### def plot_wide_kde_mean_sem_bar()"
   ]
  },
  {
   "cell_type": "code",
   "execution_count": 6,
   "metadata": {
    "colab": {},
    "colab_type": "code",
    "id": "NinCj-Lp4NMA"
   },
   "outputs": [],
   "source": [
    "def plot_wide_kde_thin_bar(series1,sname1, series2, sname2,**kwargs):\n",
    "    '''Plot series1 and series 2 on wide kde plot with small mean+sem bar plot.\n",
    "    **kwargs include:\n",
    "        title_var -- the variable that will appear in the title of both graphs. \n",
    "    '''\n",
    "    \n",
    "    ## ADDING add_gridspec usage\n",
    "    import pandas as pd\n",
    "    import numpy as np\n",
    "    from scipy.stats import sem\n",
    "\n",
    "    import matplotlib.pyplot as plt\n",
    "    import matplotlib as mpl\n",
    "    import matplotlib.ticker as ticker\n",
    "    %matplotlib inline\n",
    "\n",
    "    import seaborn as sns\n",
    "\n",
    "    from matplotlib import rcParams\n",
    "    from matplotlib import rc\n",
    "#     mpl.rcdefaults()\n",
    "#     rcParams['font.family'] = 'serif'\n",
    "#     rcParams['hatch.color'] = 'gray'\n",
    "#     plt.rcParams[\"axes.edgecolor\"] = \"black\"\n",
    "    mpl.rcParams['hatch.linewidth'] = 0.5\n",
    "    \n",
    "    title=series1.name\n",
    "    for k,v in kwargs.items():\n",
    "        if k.lower() == 'title_var':\n",
    "            title = v.title()\n",
    "\n",
    "    # Plot distributions of discounted vs full price groups\n",
    "#     plt.style.use('default')\n",
    "    # with plt.style.context(('tableau-colorblind10')):\n",
    "    with plt.style.context(('dark_background')):\n",
    "\n",
    "        \n",
    "\n",
    "        ## ----------- DEFINE AESTHETIC CUSTOMIZATIONS ----------- ##\n",
    "       # Axis Label fonts\n",
    "        fontSuptitle ={'fontsize': 16,\n",
    "                   'fontweight': 'bold',\n",
    "                    'fontfamily':'serif'}\n",
    "\n",
    "        fontTitle = {'fontsize': 14,\n",
    "                   'fontweight': 'medium',\n",
    "                    'fontfamily':'serif'}\n",
    "\n",
    "        fontAxis = {'fontsize': 12,\n",
    "                   'fontweight': 'medium',\n",
    "                    'fontfamily':'serif'}\n",
    "\n",
    "        fontTicks = {'fontsize': 10,\n",
    "                   'fontweight':'medium', \n",
    "                    'fontfamily':'serif'}\n",
    "\n",
    "\n",
    "        ## --------- CREATE FIG BASED ON GRIDSPEC --------- ##\n",
    "        \n",
    "        plt.suptitle(title+' of Units Sold', fontdict = fontSuptitle)\n",
    "\n",
    "        # Create fig object and declare figsize\n",
    "        fig = plt.figure(constrained_layout=True, figsize=(10,5))\n",
    "        \n",
    "        \n",
    "        # Define gridspec to create grid coordinates             \n",
    "        gs = fig.add_gridspec(nrows=1,ncols=9)\n",
    "\n",
    "        # Assign grid space to ax with add_subplot\n",
    "        ax0 = fig.add_subplot(gs[0,0:7])\n",
    "        ax1 = fig.add_subplot(gs[0,7:9])\n",
    "        \n",
    "        #Combine into 1 list\n",
    "        ax = [ax0,ax1]\n",
    "        \n",
    "        ### ------------------  SUBPLOT 1  ------------------ ###\n",
    "\n",
    "        ## --------- Defining series1 and 2 for subplot 1------- ##\n",
    "        ax[0].set_title('Distribution of '+title,fontdict=fontTitle)\n",
    "\n",
    "        # Group 1: data, label, hist_kws and kde_kws\n",
    "        plotS1 = {'data': series1, 'label': sname1.title(),\n",
    "\n",
    "                   'hist_kws' :\n",
    "                    {'edgecolor': 'white', 'color':'darkgray','alpha': 1, 'lw':1},\n",
    "                    #'hatch':'//'},\n",
    "\n",
    "                   'kde_kws':\n",
    "                    {'color':'white', 'linestyle': '-', 'linewidth':2,\n",
    "                     'label':'kde'}}\n",
    "\n",
    "        # Group 2: data, label, hist_kws and kde_kws\n",
    "        plotS2 = {'data': series2,\n",
    "                    'label': sname2.title(), \n",
    "\n",
    "                    'hist_kws' :\n",
    "                    {'edgecolor': 'white','color':'lightgreen','alpha':0.8 ,'lw':1,'hatch':'//'},\n",
    "\n",
    "\n",
    "                    'kde_kws':\n",
    "                    {'color':'darkgreen','linestyle':'-','linewidth':2,'label':'kde'}}\n",
    "        \n",
    "        # plot group 1\n",
    "        sns.distplot(plotS1['data'], label=plotS1['label'],\n",
    "                   \n",
    "                     hist_kws = plotS1['hist_kws'], kde_kws = plotS1['kde_kws'],\n",
    "                     \n",
    "                     ax=ax[0])   \n",
    "      \n",
    "\n",
    "        # plot group 2\n",
    "        sns.distplot(plotS2['data'], label=plotS2['label'],\n",
    "                     \n",
    "                     hist_kws=plotS2['hist_kws'], kde_kws = plotS2['kde_kws'],\n",
    "                     \n",
    "                     ax=ax[0])\n",
    "\n",
    "        # X label\n",
    "        xlabel = series1.name\n",
    "        xl = xlabel.replace('_',' ').title()\n",
    "        ax[0].set_xlabel(xl,fontdict=fontAxis)\n",
    "        ax[0].set_ylabel('Kernel Density Estimation',fontdict=fontAxis)\n",
    "        # ticks/legend\n",
    "        ax[0].tick_params(axis='both',labelsize=fontTicks['fontsize'])   \n",
    "        ax[0].legend()\n",
    "\n",
    "        \n",
    "#         # annotating lines with means\n",
    "#         meanS1 = np.mean(plotS1['data'])\n",
    "#         meanS2 = np.mean(plotS2['data'])\n",
    "        \n",
    "#         ax[0].axvline(meanS1, linestyle='--',label=sname1)\n",
    "#         ax[0].text(meanS1,0,f'Mean:{meanS1:.2f}',rotation=90)\n",
    "    \n",
    "#         ax[0].axvline(meanS2,color='k',linestyle='--',label=sname2)\n",
    "#         ax[0].text(meanS2,0,f'Mean:{meanS2:.2f}',rotation=90)\n",
    "        \n",
    "        \n",
    "        ### ------------------  SUBPLOT 2  ------------------ ###\n",
    "        \n",
    "        # Import scipy for error bars\n",
    "        from scipy.stats import sem\n",
    "    \n",
    "        # Declare x y group labels(x) and bar heights(y)\n",
    "        x = [plotS1['label'], plotS2['label']]\n",
    "        y = [np.mean(plotS1['data']), np.mean(plotS2['data'])]\n",
    "    \n",
    "        yerr = [sem(plotS1['data']), sem(plotS2['data'])]\n",
    "        err_kws = {'ecolor':'white','capsize':4,'capthick':2,'elinewidth':2}\n",
    "\n",
    "        # Create the bar plot\n",
    "        ax[1].bar(x,y, align='edge', edgecolor='white',linewidth=2, color =[plotS1['hist_kws']['color'],plotS2['hist_kws']['color']],\n",
    "                  yerr=yerr,error_kw=err_kws, width=0.6,)\n",
    "\n",
    "        \n",
    "        # Customize subplot 2\n",
    "        ax[1].set_title('Average '+title,fontdict=fontTitle)\n",
    "        ax[1].set_ylabel('Mean +/- SEM ',fontdict=fontAxis)\n",
    "        ax[1].set_xlabel('')\n",
    "        \n",
    "        ax[1].tick_params(axis=y,labelsize=fontTicks['fontsize'])\n",
    "        ax[1].tick_params(axis=x,labelsize=fontTicks['fontsize']) \n",
    "\n",
    "        ax1=ax[1]\n",
    "        test = ax1.get_xticklabels()\n",
    "        labels = [x.get_text() for x in test]\n",
    "        ax1.set_xticklabels([plotS1['label'],plotS2['label']], rotation=45,ha='center',fontdict=fontAxis)\n",
    "        \n",
    "        print(f\"Mean of {plotS1['label']}: {np.mean(plotS1['data'])}\\n Mean of {plotS2['label']}: {np.mean(plotS2['data'])}\")\n",
    "\n",
    "#         plt.tight_layout()\n",
    "        plt.show()\n",
    "        return fig,ax\n",
    "    \n",
    "    \n"
   ]
  },
  {
   "cell_type": "markdown",
   "metadata": {
    "colab_type": "text",
    "id": "nkPB_HcdwwQo"
   },
   "source": [
    "### def list2df"
   ]
  },
  {
   "cell_type": "code",
   "execution_count": 7,
   "metadata": {
    "colab": {},
    "colab_type": "code",
    "id": "TwdV-j85wwQp"
   },
   "outputs": [],
   "source": [
    "def list2df(list):#, sort_values='index'):\n",
    "    \"\"\" Take in a list where row[0] = column_names and outputs a dataframe.\n",
    "    \n",
    "    Keyword arguments:\n",
    "    set_index -- df.set_index(set_index)\n",
    "    sortby -- df.sorted()\n",
    "    \"\"\"    \n",
    "    \n",
    "    df_list = pd.DataFrame(list[1:],columns=list[0])\n",
    "#     df_list = df_list[1:]\n",
    "\n",
    "    return df_list"
   ]
  },
  {
   "cell_type": "markdown",
   "metadata": {
    "colab_type": "text",
    "id": "ekTOehxHwwQu"
   },
   "source": [
    "### def get_col_info"
   ]
  },
  {
   "cell_type": "code",
   "execution_count": 8,
   "metadata": {
    "colab": {},
    "colab_type": "code",
    "id": "LOaNcafFwwQv"
   },
   "outputs": [],
   "source": [
    "def  get_col_info(col_name):\n",
    "    \"\"\"Gets the column names and data types from the alchamey inspector object.\n",
    "    Returns column_info dataframe of table details.\n",
    "    \"\"\"\n",
    "    col_list = inspector.get_columns(col_name)\n",
    "    \n",
    "    column_info = [['table','column','dtype']]\n",
    "    print(f'Table Name: {col_name}\\n')\n",
    "\n",
    "    for col in col_list:\n",
    "        column_info.append([str(col_name),col['name'], col['type']])\n",
    "        \n",
    "    df = list2df(column_info)\n",
    "    return column_info"
   ]
  },
  {
   "cell_type": "markdown",
   "metadata": {
    "colab_type": "text",
    "id": "O7Xq2RqAR0va"
   },
   "source": [
    "### def describe_outliers"
   ]
  },
  {
   "cell_type": "code",
   "execution_count": 9,
   "metadata": {
    "colab": {},
    "colab_type": "code",
    "id": "Ne6vEM4CwwQ3"
   },
   "outputs": [],
   "source": [
    "# describe_outliers -- calls detect_outliers\n",
    "def describe_outliers(df):\n",
    "    \"\"\" Returns a new_df of outliers, and % outliers each col using detect_outliers.\n",
    "    \"\"\"\n",
    "    out_count = 0\n",
    "    new_df = pd.DataFrame(columns=['total_outliers', 'percent_total'])\n",
    "    for col in df.columns:\n",
    "        outies = detect_outliers(df[col])\n",
    "        out_count += len(outies) \n",
    "        new_df.loc[col] = [len(outies), round((len(outies)/len(df.index))*100, 2)]\n",
    "    new_df.loc['grand_total'] = [sum(new_df['total_outliers']), sum(new_df['percent_total'])]\n",
    "    return new_df"
   ]
  },
  {
   "cell_type": "markdown",
   "metadata": {
    "colab_type": "text",
    "id": "XrvSuzkKwwQz"
   },
   "source": [
    "### def get_full_table_info"
   ]
  },
  {
   "cell_type": "code",
   "execution_count": 10,
   "metadata": {
    "colab": {},
    "colab_type": "code",
    "id": "A0bruXiLwwQ0"
   },
   "outputs": [],
   "source": [
    "def  get_full_table_info(engine):\n",
    "    \"\"\"Gets the table names, their column namesand data types engine.\n",
    "    Returns column_info dataframe of table details.\n",
    "    \"\"\"\n",
    "    column_info = [['table','column','dtype']]\n",
    "    \n",
    "    list_tables= engine.table_names()\n",
    "    \n",
    "    for table in list_tables:\n",
    "        \n",
    "        col_list = inspector.get_columns(table)\n",
    "        \n",
    "        for col in col_list:\n",
    "            \n",
    "            column_info.append([str(table),col['name'], col['type'],col['']])\n",
    "            inspector.get_foreign_keys()\n",
    "    \n",
    "    df = list2df(column_info)\n",
    "    return df"
   ]
  },
  {
   "cell_type": "markdown",
   "metadata": {
    "colab_type": "text",
    "id": "EDLKQNdKR4Cb"
   },
   "source": [
    "### def Cohen's d "
   ]
  },
  {
   "cell_type": "code",
   "execution_count": 11,
   "metadata": {
    "colab": {},
    "colab_type": "code",
    "id": "F_vkRMKMRO0Z"
   },
   "outputs": [],
   "source": [
    "#### Cohen's d\n",
    "def Cohen_d(group1, group2):\n",
    "    # Compute Cohen's d.\n",
    "    # group1: Series or NumPy array\n",
    "    # group2: Series or NumPy array\n",
    "    # returns a floating point number \n",
    "    diff = group1.mean() - group2.mean()\n",
    "\n",
    "    n1, n2 = len(group1), len(group2)\n",
    "    var1 = group1.var()\n",
    "    var2 = group2.var()\n",
    "\n",
    "    # Calculate the pooled threshold as shown earlier\n",
    "    pooled_var = (n1 * var1 + n2 * var2) / (n1 + n2)\n",
    "    \n",
    "    # Calculate Cohen's d statistic\n",
    "    d = diff / np.sqrt(pooled_var)\n",
    "    \n",
    "    return d\n",
    "\n",
    "\n",
    "def plot_pdfs(cohen_d=2):\n",
    "    \"\"\"Plot PDFs for distributions that differ by some number of stds.\n",
    "    \n",
    "    cohen_d: number of standard deviations between the means\n",
    "    \"\"\"\n",
    "    group1 = scipy.stats.norm(0, 1)\n",
    "    group2 = scipy.stats.norm(cohen_d, 1)\n",
    "    xs, ys = evaluate_PDF(group1)\n",
    "    pyplot.fill_between(xs, ys, label='Group1', color='#ff2289', alpha=0.7)\n",
    "\n",
    "    xs, ys = evaluate_PDF(group2)\n",
    "    pyplot.fill_between(xs, ys, label='Group2', color='#376cb0', alpha=0.7)\n",
    "    \n",
    "    o, s = overlap_superiority(group1, group2)\n",
    "    print('overlap', o)\n",
    "    print('superiority', s)\n",
    "   "
   ]
  },
  {
   "cell_type": "markdown",
   "metadata": {
    "colab_type": "text",
    "id": "3_vNJ71YdowX"
   },
   "source": [
    "#### def quant_transform "
   ]
  },
  {
   "cell_type": "code",
   "execution_count": 12,
   "metadata": {
    "colab": {},
    "colab_type": "code",
    "id": "B153AuFidowY"
   },
   "outputs": [],
   "source": [
    "# TRANSFORM DATA BEFORE RE-CALLING ORIGINAL normtest_results\n",
    "def quant_transform(data_in):\n",
    "    '''Use sklearn.preprocessing.QuantileTransformer to remove outliers from dataset.\n",
    "    \n",
    "    Parameters:\n",
    "        data_in (dict) -- dictionary with data series as values to be processed.\n",
    "    Returns: \n",
    "        data_tf (dict) -- dicionary of same keys from data_in, but transformed.\n",
    "        '''\n",
    "    \n",
    "    from sklearn import preprocessing as prep \n",
    "    from sklearn.preprocessing import QuantileTransformer\n",
    "\n",
    "    qt =  QuantileTransformer(n_quantiles=10,output_distribution='normal')\n",
    "    data_tf = {}\n",
    "    for k,v in data_in.items():    \n",
    "        data = np.array(v).reshape(-1,1)\n",
    "        transformed = pd.Series(np.squeeze(qt.fit_transform(data)))\n",
    "      \n",
    "        data_tf[k] = transformed\n",
    "    \n",
    "    return data_tf"
   ]
  },
  {
   "cell_type": "markdown",
   "metadata": {
    "colab_type": "text",
    "id": "cC9pxUInUYo9"
   },
   "source": [
    "## Define plotting functions for looking at each month individually \n"
   ]
  },
  {
   "cell_type": "markdown",
   "metadata": {
    "colab_type": "text",
    "id": "cPcTIgoDX4u-"
   },
   "source": [
    "### def make_violinplot"
   ]
  },
  {
   "cell_type": "code",
   "execution_count": 13,
   "metadata": {
    "colab": {},
    "colab_type": "code",
    "id": "iR1kdhfiT8J_"
   },
   "outputs": [],
   "source": [
    "# plotting order totals per month in violin plots\n",
    "\n",
    "def make_violinplot(x,y, title=None, hue=None, ticklabels=None):\n",
    "  \n",
    "  '''Plots a violin plot with horizontal mean line, inner stick lines'''\n",
    "  \n",
    "  plt.style.use('dark_background')\n",
    "  fig,ax =plt.subplots(figsize=(12,10))\n",
    "\n",
    "\n",
    "  sns.violinplot(x, y,cut=2,split=True, scale='count', scale_hue=True,\n",
    "                 saturation=.5, alpha=.9,bw=.25, palette='Dark2',inner='stick', hue=hue).set_title(title)\n",
    "\n",
    "  ax.axhline(y.mean(),label='total mean', ls=':', alpha=.5, color='xkcd:yellow')\n",
    "  ax.set_xticklabels(ticklabels)\n",
    "\n",
    "  plt.legend()\n",
    "  plt.show()\n",
    "  x= df_year_orders['month']\n",
    "  y= df_year_orders['order_total']\n",
    "  title = 'Order totals per month with or without discounts'\n",
    "  hue=df_year_orders['Discount']>0"
   ]
  },
  {
   "cell_type": "markdown",
   "metadata": {
    "colab_type": "text",
    "id": "5ZXCOjzFbspu"
   },
   "source": [
    "### def make-stripplot"
   ]
  },
  {
   "cell_type": "code",
   "execution_count": 14,
   "metadata": {
    "colab": {},
    "colab_type": "code",
    "id": "S9Yyn3cBbw7r"
   },
   "outputs": [],
   "source": [
    "def make_stripplot(x, y, title=None, hue=None, ticklabels=None):\n",
    "\n",
    "  plt.style.use('dark_background')\n",
    "  fig,ax =plt.subplots(figsize=(8,6))\n",
    "\n",
    "\n",
    "  sns.stripplot(x, y, jitter=True, size=12,edgecolor='gray',linewidth=1.5, alpha=.5, palette='Dark2',marker='d', hue=hue).set_title(title)\n",
    "\n",
    "  ax.axhline(y.mean(),label='total mean', ls=':', alpha=.5, color='xkcd:yellow')\n",
    "  ax.set_xticklabels(ticklabels)\n",
    "\n",
    "  plt.legend()\n",
    "  plt.show()\n"
   ]
  },
  {
   "cell_type": "markdown",
   "metadata": {
    "colab_type": "text",
    "id": "cBrj92x2Us3C"
   },
   "source": [
    "### def draw_histograms"
   ]
  },
  {
   "cell_type": "code",
   "execution_count": 15,
   "metadata": {
    "colab": {},
    "colab_type": "code",
    "id": "3LvINQTiUO6y"
   },
   "outputs": [],
   "source": [
    "plt.style.use('default')\n",
    "def draw_histograms(df, variable, sample_dict, n_rows, n_cols):\n",
    "\n",
    "  '''Takes dataframe, variable is column name , plots histograms '''\n",
    "  \n",
    "  with plt.style.context('seaborn-paper'):\n",
    "\n",
    "    fig = plt.figure(figsize=(10,10))\n",
    "\n",
    "    for k,v in sample_dict.items():\n",
    "\n",
    "      month = df[df[variable] == k]['order_total']\n",
    "      month_mean = round(np.mean(month),2)\n",
    "\n",
    "      year =  df[df['month'] != k]['order_total']\n",
    "      year_mean = round(np.mean(year),2)\n",
    "\n",
    "      ax = fig.add_subplot(n_rows,n_cols,k)\n",
    "      ax.tick_params(labelsize=8)\n",
    "\n",
    "      plt.hist(year, bins=90,alpha=.7, label='Rest of Year')\n",
    "      plt.hist(month, alpha=.6,label= v.title())\n",
    "\n",
    "      ax.set_title(v.title(),fontsize=14)\n",
    "\n",
    "      plt.axvline(month_mean, color='xkcd:fuchsia',linestyle='--',\n",
    "                  label='Sample Mean \\n'+str(month_mean))\n",
    "\n",
    "      plt.axvline(year_mean,color='xkcd:green',linestyle='-',\n",
    "                  label='Pop. Mean \\n'+str(year_mean))\n",
    "\n",
    "      plt.legend(fontsize=6, frameon=False, ncol = 2 )\n",
    "\n",
    "    fig.tight_layout()    \n",
    "    plt.show()"
   ]
  },
  {
   "cell_type": "markdown",
   "metadata": {
    "colab_type": "text",
    "id": "kR6ajM4YVH3z"
   },
   "source": [
    "### def draw_histograms_sample "
   ]
  },
  {
   "cell_type": "code",
   "execution_count": 16,
   "metadata": {
    "colab": {},
    "colab_type": "code",
    "id": "b290y-7DVQg_"
   },
   "outputs": [],
   "source": [
    "def draw_histograms_from_sample(population,sample, sample_dict, n_rows, n_cols):\n",
    "\n",
    "  fig = plt.figure(figsize=(8.5,7.5))\n",
    "  count = 0\n",
    "  \n",
    "  for k,v in sample_dict.items():\n",
    "    \n",
    "    count += 1                        \n",
    "\n",
    "    month = sample_dict[k] #pop_samp_month_dict[k]\n",
    "    month_mean = round(np.mean(v),2)\n",
    "    \n",
    "    year = population\n",
    "    year_mean = round(np.mean(population),2)\n",
    "\n",
    "    ax = fig.add_subplot(n_rows,n_cols, count)\n",
    "    ax.tick_params(labelsize=8)\n",
    "\n",
    "    plt.hist(year, alpha=.8, label='All Months')\n",
    "    plt.hist(month, alpha=.6, label = v.title())\n",
    "\n",
    "    ax.set_title(k.title(),fontsize=14)\n",
    "\n",
    "    plt.axvline(month_mean, color='xkcd:fuchsia',linestyle='--',\n",
    "                label='Sample Mean \\n'+str(month_mean))\n",
    "    plt.axvline(year_mean,color='xkcd:green',linestyle='-',\n",
    "                label='Pop. Mean \\n'+str(year_mean))\n",
    "    \n",
    "    plt.legend(fontsize=6, frameon=False)\n",
    "    \n",
    "  fig.tight_layout()    \n",
    "  plt.show()"
   ]
  },
  {
   "cell_type": "markdown",
   "metadata": {
    "colab_type": "text",
    "id": "JbpLynD4pEbK"
   },
   "source": [
    "### IMPORTING TO BE ABLE TO DISPLAY BETTER TABLES"
   ]
  },
  {
   "cell_type": "markdown",
   "metadata": {
    "colab_type": "text",
    "id": "N4R_MpKSxjw6"
   },
   "source": []
  },
  {
   "cell_type": "code",
   "execution_count": 17,
   "metadata": {
    "colab": {},
    "colab_type": "code",
    "id": "F9JTuAMEgs40"
   },
   "outputs": [],
   "source": [
    "import numpy as np\n",
    "import pandas as pd\n",
    "import matplotlib.pyplot as plt\n",
    "%matplotlib inline\n",
    "import seaborn as sns\n",
    "# from IPython.display import HTML\n",
    "\n",
    "# df.style.set_properties( color='black',align='center')\n",
    "#                         **{'background-color': 'black',\n",
    "#                             'color': 'lawngreen',\n",
    "#                             'border-color': 'white'})"
   ]
  },
  {
   "cell_type": "markdown",
   "metadata": {
    "colab_type": "text",
    "id": "WnE1XlB9eJ8d"
   },
   "source": [
    "___\n"
   ]
  },
  {
   "cell_type": "code",
   "execution_count": null,
   "metadata": {
    "colab": {},
    "colab_type": "code",
    "id": "IAl1GMtxfNte"
   },
   "outputs": [],
   "source": []
  },
  {
   "cell_type": "markdown",
   "metadata": {
    "colab_type": "text",
    "id": "Cb6XxQIcfOU_"
   },
   "source": [
    "| H# |         Groups         | Normality<br> D'Agostino Pearson | Equal Variance Levene's Test |   Test Chosen  |      Test Results      | Reject Null? | Perform Post-Hoc? |\n",
    "|:--:|:----------------------:|:--------------------------------:|:----------------------------:|:--------------:|:----------------------:|:------------:|:-----------------:|\n",
    "|  1 | A: Discounted Products |      stat:261.5280, p<0.0001     |       14.8327, p=.0001       | Mann-Whitney U | stat: 642105, p<0.0001 |              |                   |\n",
    "|  1 | B: Full Price Products |      stat:544.5770, p<0.0001     |       14.8327, p=.0001       | Mann-Whitney U | stat: 642105, p<0.0001 |              |                   |\n",
    "|    |                        |                                  |                              |                |                        |              |                   |"
   ]
  },
  {
   "cell_type": "markdown",
   "metadata": {
    "colab_type": "text",
    "id": "7rzJx4u8wwQL"
   },
   "source": [
    "# **EXPERIMENTAL DESIGN AND HYPOTHESIS**\n",
    "\n",
    "You will need query the database to get the data needed to perform a statistical analysis.  In this statistical analysis, **you'll need to perform a hypothesis test (or perhaps several) to answer the following question:**\n",
    "\n",
    "\n",
    "\n",
    "\n",
    "### Hypothesis 1:\n",
    "> **Do discounts have a statistically significant effect on the number of products customers order?**\n",
    "> **If so, at what level(s) of discount?**\n",
    "\n",
    "\n",
    "- $H_1$ : Products that are discounted sell in higher quantities.\n",
    "\n",
    "- $H_0$ : Products that are discounted sell the same quantities as full-proce products.\n",
    "\n",
    "\n",
    "<br>\n",
    "\n",
    "### Hypothesis 2:\n",
    "> **Do customers spend more money if they are buying discounted items?**\n",
    "\n",
    "- $H_1$: Customers spend more money overall when their order includes discounted items.\n",
    "\n",
    "- $H_0$: Customers spend the same amount regardless of discounted items. \n",
    "\n",
    "<br>\n",
    "\n",
    "\n",
    "### Hypothesis 3:\n",
    "\n",
    "> **Does the time of year affect quantity of items sold?**\n",
    "\n",
    "- $H_1$ = THe month an order is placed relates to either a higher or lower mean quantity of items sold.\n",
    "- $H_0$ = The month of an order has no affect on the mean quantity of items sold.\n",
    "\n",
    "<br>\n",
    "\n",
    "### Hypothesis 4:\n",
    "> **Do different countries ....**\n",
    "- $H_1$: \n",
    "- $H_0$:   \n",
    "<br>\n"
   ]
  },
  {
   "cell_type": "markdown",
   "metadata": {
    "colab_type": "text",
    "id": "fcYXKTJe-bjt"
   },
   "source": [
    "___\n",
    "# **Hypothesis 1:**\n",
    "> **Do discounts have a statistically significant effect on the number of products customers order?**\n",
    "> **If so, at what level(s) of discount?**\n",
    "\n",
    "\n",
    "- $H_1$ : Products that are discounted sell in higher quantities.\n",
    "\n",
    "- $H_0$ : Products that are discounted sell the same quantities as full-proce products.\n",
    "\n",
    "<br>\n",
    "<br>\n",
    "\n",
    "**Specific Aims:**\n",
    "\n",
    "* ***Aim 1:To select the proper dataset for analysis, perform EDA, and generate data groups for testing.***\n",
    "    - Used sqlalchemy and pandas.<br>\n",
    "    ```python \n",
    "    query = \"SELECT* FROM OrderDetails, GROUPBY discount\"\n",
    "    python pandas.read_sql_query()\n",
    "    ```\n",
    "* ***Aim 2: Select the appropriate t-test based on tests for the assumptions of normality and homogeneity of variance.***\n",
    "    1. **Test for Normality**\n",
    "        - D'Agostino-Pearson's normality test<br>\n",
    "        ```scipy.stats.normaltest```\n",
    "        - Shapiro-Wilik Test<br>\n",
    "        ```scipy.stats.shapiro```\n",
    "    2. **Test for Homogeneity of Variance**\n",
    "        - Levene's Test<br>\n",
    "         ```scipy.stats.levene```\n",
    "\n",
    "    3. **Choose appropriate test based upon 1. and 2.** \n",
    "        - Mann-Whitney U test (non parametric equivalent of ANOVA)<br>\n",
    "        ```stats.mannwhitneyu```<br>\n",
    "        \n",
    "        <br>\n",
    "* ***Aim 3: To perform post-hoc painrwise comparison testing to determine which level of discounts affect quantity and if any discount has a greater effect than the others.***\n",
    "     - Tukey's test for multiple pairwise comparisons<br>\n",
    "     ```statsmodels.stats.multicomp.pairwise_tukeyhsd```\n"
   ]
  },
  {
   "cell_type": "markdown",
   "metadata": {
    "colab_type": "text",
    "id": "7mKcl3fkwwQ6"
   },
   "source": [
    "_________\n",
    "## ***H1, Aim 1.1 : To select the proper dataset for analyiss  and generate data groups for testing.***\n",
    "\n",
    "#### Importing Method\n",
    "- Used sqlalchemy to create engine to connect to Northwind_small.sqlite.\n",
    "\n",
    "- Used ```pd.read_sql_query('SELECT * FROM OrderDetail',engine)``` to directly read db into df"
   ]
  },
  {
   "cell_type": "code",
   "execution_count": 18,
   "metadata": {
    "cellView": "both",
    "colab": {
     "base_uri": "https://localhost:8080/",
     "height": 120
    },
    "colab_type": "code",
    "id": "N0O4-cWq1N53",
    "outputId": "32516bd2-41f6-47dc-f45e-79d40ba82acd"
   },
   "outputs": [],
   "source": [
    "# # #CELL A : IF ON COLAB.\n",
    "# # #The northwind.sqlite is located in: content/drive/My Drive/Colab Notebooks/datasets/Northwind_small.sqlite\n",
    "# from google.colab import drive\n",
    "# drive.mount('/content/drive/', force_remount=True)\n",
    "\n",
    "# # # If in Google Drive \n",
    "# path= '/content/drive/My Drive/Colab Notebooks/datasets/'\n",
    "# file='Northwind_small.sqlite'\n",
    "# filepath = path+file\n",
    "# # filepath = '/content/drive/My Drive/Colab Notebooks/datasets/Northwind_small.sqlite'\n",
    "\n",
    "\n",
    "# #NOTE: To save files to drive, just to df.to_csv(path+'filename.csv')"
   ]
  },
  {
   "cell_type": "code",
   "execution_count": 19,
   "metadata": {
    "colab": {},
    "colab_type": "code",
    "id": "NGfWlIw45Xs1"
   },
   "outputs": [],
   "source": [
    "# #CELL B: If RUNNING LOCALLY.\n",
    "# filepath = 'Northwind_small.sqlite'"
   ]
  },
  {
   "cell_type": "markdown",
   "metadata": {
    "colab_type": "text",
    "id": "zP8k3PvuBRmw"
   },
   "source": [
    "#### Use sqlalchemy and pandas to inspect data tables"
   ]
  },
  {
   "cell_type": "code",
   "execution_count": 20,
   "metadata": {
    "colab": {
     "base_uri": "https://localhost:8080/",
     "height": 170
    },
    "colab_type": "code",
    "id": "GOWwoXhrBRmx",
    "outputId": "055ce789-fe95-4036-8ae2-5e796aa652e7"
   },
   "outputs": [
    {
     "name": "stdout",
     "output_type": "stream",
     "text": [
      "2019-04-08 00:51:36,126 INFO sqlalchemy.engine.base.Engine SELECT CAST('test plain returns' AS VARCHAR(60)) AS anon_1\n",
      "2019-04-08 00:51:36,129 INFO sqlalchemy.engine.base.Engine ()\n",
      "2019-04-08 00:51:36,130 INFO sqlalchemy.engine.base.Engine SELECT CAST('test unicode returns' AS VARCHAR(60)) AS anon_1\n",
      "2019-04-08 00:51:36,130 INFO sqlalchemy.engine.base.Engine ()\n",
      "2019-04-08 00:51:36,132 INFO sqlalchemy.engine.base.Engine SELECT name FROM sqlite_master WHERE type='table' ORDER BY name\n",
      "2019-04-08 00:51:36,133 INFO sqlalchemy.engine.base.Engine ()\n",
      "\n",
      " ['Category', 'Customer', 'CustomerCustomerDemo', 'CustomerDemographic', 'Employee', 'EmployeeTerritory', 'Order', 'OrderDetail', 'Product', 'Region', 'Shipper', 'Supplier', 'Territory']\n"
     ]
    }
   ],
   "source": [
    "# Import packages for sql\n",
    "import sqlite3\n",
    "from sqlalchemy import create_engine, inspect\n",
    "# from sqlalchemy import Table, Column, Integer, String, MetaData, ForeignKey,text, Float\n",
    "filepath =  'Northwind_small.sqlite'\n",
    "engine = create_engine('sqlite:///'+filepath,echo=True);\n",
    "\n",
    "inspector = inspect(engine);\n",
    "\n",
    "db_tables = inspector.get_table_names();\n",
    "\n",
    "print('\\n',db_tables);"
   ]
  },
  {
   "cell_type": "code",
   "execution_count": 21,
   "metadata": {
    "colab": {
     "base_uri": "https://localhost:8080/",
     "height": 293
    },
    "colab_type": "code",
    "id": "zEqu9PbxwwQ8",
    "outputId": "982da695-2c5b-4eee-8ae7-044fd5d4c5cb"
   },
   "outputs": [
    {
     "name": "stdout",
     "output_type": "stream",
     "text": [
      "2019-04-08 00:51:36,139 INFO sqlalchemy.engine.base.Engine PRAGMA table_info(\"OrderDetail\")\n",
      "2019-04-08 00:51:36,140 INFO sqlalchemy.engine.base.Engine ()\n",
      "Table Name: OrderDetail\n",
      "\n"
     ]
    },
    {
     "data": {
      "text/html": [
       "<div>\n",
       "<style scoped>\n",
       "    .dataframe tbody tr th:only-of-type {\n",
       "        vertical-align: middle;\n",
       "    }\n",
       "\n",
       "    .dataframe tbody tr th {\n",
       "        vertical-align: top;\n",
       "    }\n",
       "\n",
       "    .dataframe thead th {\n",
       "        text-align: right;\n",
       "    }\n",
       "</style>\n",
       "<table border=\"1\" class=\"dataframe\">\n",
       "  <thead>\n",
       "    <tr style=\"text-align: right;\">\n",
       "      <th></th>\n",
       "      <th>table</th>\n",
       "      <th>column</th>\n",
       "      <th>dtype</th>\n",
       "    </tr>\n",
       "  </thead>\n",
       "  <tbody>\n",
       "    <tr>\n",
       "      <th>0</th>\n",
       "      <td>OrderDetail</td>\n",
       "      <td>Id</td>\n",
       "      <td>VARCHAR(8000)</td>\n",
       "    </tr>\n",
       "    <tr>\n",
       "      <th>1</th>\n",
       "      <td>OrderDetail</td>\n",
       "      <td>OrderId</td>\n",
       "      <td>INTEGER</td>\n",
       "    </tr>\n",
       "    <tr>\n",
       "      <th>2</th>\n",
       "      <td>OrderDetail</td>\n",
       "      <td>ProductId</td>\n",
       "      <td>INTEGER</td>\n",
       "    </tr>\n",
       "    <tr>\n",
       "      <th>3</th>\n",
       "      <td>OrderDetail</td>\n",
       "      <td>UnitPrice</td>\n",
       "      <td>DECIMAL</td>\n",
       "    </tr>\n",
       "    <tr>\n",
       "      <th>4</th>\n",
       "      <td>OrderDetail</td>\n",
       "      <td>Quantity</td>\n",
       "      <td>INTEGER</td>\n",
       "    </tr>\n",
       "    <tr>\n",
       "      <th>5</th>\n",
       "      <td>OrderDetail</td>\n",
       "      <td>Discount</td>\n",
       "      <td>FLOAT</td>\n",
       "    </tr>\n",
       "  </tbody>\n",
       "</table>\n",
       "</div>"
      ],
      "text/plain": [
       "         table     column          dtype\n",
       "0  OrderDetail         Id  VARCHAR(8000)\n",
       "1  OrderDetail    OrderId        INTEGER\n",
       "2  OrderDetail  ProductId        INTEGER\n",
       "3  OrderDetail  UnitPrice        DECIMAL\n",
       "4  OrderDetail   Quantity        INTEGER\n",
       "5  OrderDetail   Discount          FLOAT"
      ]
     },
     "execution_count": 21,
     "metadata": {},
     "output_type": "execute_result"
    }
   ],
   "source": [
    "list2df(get_col_info('OrderDetail'))"
   ]
  },
  {
   "cell_type": "markdown",
   "metadata": {
    "colab_type": "text",
    "id": "gT_dk3tLBRm2"
   },
   "source": [
    "#### Load in table OrderDetail for hypothesis 1"
   ]
  },
  {
   "cell_type": "code",
   "execution_count": 22,
   "metadata": {
    "colab": {
     "base_uri": "https://localhost:8080/",
     "height": 735
    },
    "colab_type": "code",
    "id": "8r91sfLGwwRK",
    "outputId": "3811e268-924f-4a7d-bd07-a33fbecea3c3"
   },
   "outputs": [
    {
     "name": "stdout",
     "output_type": "stream",
     "text": [
      "2019-04-08 00:51:36,161 INFO sqlalchemy.engine.base.Engine SELECT * FROM OrderDetail\n",
      "2019-04-08 00:51:36,162 INFO sqlalchemy.engine.base.Engine ()\n",
      "2019-04-08 00:51:36,176 INFO sqlalchemy.engine.base.Engine SELECT * FROM [Order]\n",
      "2019-04-08 00:51:36,176 INFO sqlalchemy.engine.base.Engine ()\n",
      "<class 'pandas.core.frame.DataFrame'>\n",
      "RangeIndex: 830 entries, 0 to 829\n",
      "Data columns (total 14 columns):\n",
      "Id                830 non-null int64\n",
      "CustomerId        830 non-null object\n",
      "EmployeeId        830 non-null int64\n",
      "OrderDate         830 non-null object\n",
      "RequiredDate      830 non-null object\n",
      "ShippedDate       809 non-null object\n",
      "ShipVia           830 non-null int64\n",
      "Freight           830 non-null float64\n",
      "ShipName          830 non-null object\n",
      "ShipAddress       830 non-null object\n",
      "ShipCity          830 non-null object\n",
      "ShipRegion        830 non-null object\n",
      "ShipPostalCode    811 non-null object\n",
      "ShipCountry       830 non-null object\n",
      "dtypes: float64(1), int64(3), object(10)\n",
      "memory usage: 90.9+ KB\n"
     ]
    },
    {
     "data": {
      "text/html": [
       "<div>\n",
       "<style scoped>\n",
       "    .dataframe tbody tr th:only-of-type {\n",
       "        vertical-align: middle;\n",
       "    }\n",
       "\n",
       "    .dataframe tbody tr th {\n",
       "        vertical-align: top;\n",
       "    }\n",
       "\n",
       "    .dataframe thead th {\n",
       "        text-align: right;\n",
       "    }\n",
       "</style>\n",
       "<table border=\"1\" class=\"dataframe\">\n",
       "  <thead>\n",
       "    <tr style=\"text-align: right;\">\n",
       "      <th></th>\n",
       "      <th>Id</th>\n",
       "      <th>OrderId</th>\n",
       "      <th>ProductId</th>\n",
       "      <th>UnitPrice</th>\n",
       "      <th>Quantity</th>\n",
       "      <th>Discount</th>\n",
       "      <th>CustomerId</th>\n",
       "      <th>EmployeeId</th>\n",
       "      <th>OrderDate</th>\n",
       "      <th>RequiredDate</th>\n",
       "      <th>ShippedDate</th>\n",
       "      <th>ShipVia</th>\n",
       "      <th>Freight</th>\n",
       "      <th>ShipName</th>\n",
       "      <th>ShipAddress</th>\n",
       "      <th>ShipCity</th>\n",
       "      <th>ShipRegion</th>\n",
       "      <th>ShipPostalCode</th>\n",
       "      <th>ShipCountry</th>\n",
       "    </tr>\n",
       "  </thead>\n",
       "  <tbody>\n",
       "    <tr>\n",
       "      <th>0</th>\n",
       "      <td>10248/11</td>\n",
       "      <td>10248</td>\n",
       "      <td>11</td>\n",
       "      <td>14.0</td>\n",
       "      <td>12</td>\n",
       "      <td>0.0</td>\n",
       "      <td>VINET</td>\n",
       "      <td>5</td>\n",
       "      <td>2012-07-04</td>\n",
       "      <td>2012-08-01</td>\n",
       "      <td>2012-07-16</td>\n",
       "      <td>3</td>\n",
       "      <td>32.38</td>\n",
       "      <td>Vins et alcools Chevalier</td>\n",
       "      <td>59 rue de l'Abbaye</td>\n",
       "      <td>Reims</td>\n",
       "      <td>Western Europe</td>\n",
       "      <td>51100</td>\n",
       "      <td>France</td>\n",
       "    </tr>\n",
       "    <tr>\n",
       "      <th>1</th>\n",
       "      <td>10248/42</td>\n",
       "      <td>10248</td>\n",
       "      <td>42</td>\n",
       "      <td>9.8</td>\n",
       "      <td>10</td>\n",
       "      <td>0.0</td>\n",
       "      <td>VINET</td>\n",
       "      <td>5</td>\n",
       "      <td>2012-07-04</td>\n",
       "      <td>2012-08-01</td>\n",
       "      <td>2012-07-16</td>\n",
       "      <td>3</td>\n",
       "      <td>32.38</td>\n",
       "      <td>Vins et alcools Chevalier</td>\n",
       "      <td>59 rue de l'Abbaye</td>\n",
       "      <td>Reims</td>\n",
       "      <td>Western Europe</td>\n",
       "      <td>51100</td>\n",
       "      <td>France</td>\n",
       "    </tr>\n",
       "    <tr>\n",
       "      <th>2</th>\n",
       "      <td>10248/72</td>\n",
       "      <td>10248</td>\n",
       "      <td>72</td>\n",
       "      <td>34.8</td>\n",
       "      <td>5</td>\n",
       "      <td>0.0</td>\n",
       "      <td>VINET</td>\n",
       "      <td>5</td>\n",
       "      <td>2012-07-04</td>\n",
       "      <td>2012-08-01</td>\n",
       "      <td>2012-07-16</td>\n",
       "      <td>3</td>\n",
       "      <td>32.38</td>\n",
       "      <td>Vins et alcools Chevalier</td>\n",
       "      <td>59 rue de l'Abbaye</td>\n",
       "      <td>Reims</td>\n",
       "      <td>Western Europe</td>\n",
       "      <td>51100</td>\n",
       "      <td>France</td>\n",
       "    </tr>\n",
       "    <tr>\n",
       "      <th>3</th>\n",
       "      <td>10249/14</td>\n",
       "      <td>10249</td>\n",
       "      <td>14</td>\n",
       "      <td>18.6</td>\n",
       "      <td>9</td>\n",
       "      <td>0.0</td>\n",
       "      <td>TOMSP</td>\n",
       "      <td>6</td>\n",
       "      <td>2012-07-05</td>\n",
       "      <td>2012-08-16</td>\n",
       "      <td>2012-07-10</td>\n",
       "      <td>1</td>\n",
       "      <td>11.61</td>\n",
       "      <td>Toms Spezialitäten</td>\n",
       "      <td>Luisenstr. 48</td>\n",
       "      <td>Münster</td>\n",
       "      <td>Western Europe</td>\n",
       "      <td>44087</td>\n",
       "      <td>Germany</td>\n",
       "    </tr>\n",
       "    <tr>\n",
       "      <th>4</th>\n",
       "      <td>10249/51</td>\n",
       "      <td>10249</td>\n",
       "      <td>51</td>\n",
       "      <td>42.4</td>\n",
       "      <td>40</td>\n",
       "      <td>0.0</td>\n",
       "      <td>TOMSP</td>\n",
       "      <td>6</td>\n",
       "      <td>2012-07-05</td>\n",
       "      <td>2012-08-16</td>\n",
       "      <td>2012-07-10</td>\n",
       "      <td>1</td>\n",
       "      <td>11.61</td>\n",
       "      <td>Toms Spezialitäten</td>\n",
       "      <td>Luisenstr. 48</td>\n",
       "      <td>Münster</td>\n",
       "      <td>Western Europe</td>\n",
       "      <td>44087</td>\n",
       "      <td>Germany</td>\n",
       "    </tr>\n",
       "  </tbody>\n",
       "</table>\n",
       "</div>"
      ],
      "text/plain": [
       "         Id  OrderId  ProductId  UnitPrice  Quantity  Discount CustomerId  \\\n",
       "0  10248/11    10248         11       14.0        12       0.0      VINET   \n",
       "1  10248/42    10248         42        9.8        10       0.0      VINET   \n",
       "2  10248/72    10248         72       34.8         5       0.0      VINET   \n",
       "3  10249/14    10249         14       18.6         9       0.0      TOMSP   \n",
       "4  10249/51    10249         51       42.4        40       0.0      TOMSP   \n",
       "\n",
       "   EmployeeId   OrderDate RequiredDate ShippedDate  ShipVia  Freight  \\\n",
       "0           5  2012-07-04   2012-08-01  2012-07-16        3    32.38   \n",
       "1           5  2012-07-04   2012-08-01  2012-07-16        3    32.38   \n",
       "2           5  2012-07-04   2012-08-01  2012-07-16        3    32.38   \n",
       "3           6  2012-07-05   2012-08-16  2012-07-10        1    11.61   \n",
       "4           6  2012-07-05   2012-08-16  2012-07-10        1    11.61   \n",
       "\n",
       "                    ShipName         ShipAddress ShipCity      ShipRegion  \\\n",
       "0  Vins et alcools Chevalier  59 rue de l'Abbaye    Reims  Western Europe   \n",
       "1  Vins et alcools Chevalier  59 rue de l'Abbaye    Reims  Western Europe   \n",
       "2  Vins et alcools Chevalier  59 rue de l'Abbaye    Reims  Western Europe   \n",
       "3         Toms Spezialitäten       Luisenstr. 48  Münster  Western Europe   \n",
       "4         Toms Spezialitäten       Luisenstr. 48  Münster  Western Europe   \n",
       "\n",
       "  ShipPostalCode ShipCountry  \n",
       "0          51100      France  \n",
       "1          51100      France  \n",
       "2          51100      France  \n",
       "3          44087     Germany  \n",
       "4          44087     Germany  "
      ]
     },
     "execution_count": 22,
     "metadata": {},
     "output_type": "execute_result"
    }
   ],
   "source": [
    "# We want to test hypothesis one, so we need OrderDetail table.\n",
    "table_to_test = \"OrderDetail\"\n",
    "df_od = pd.read_sql_query(\"SELECT * FROM OrderDetail\",  engine)\n",
    "df_o = pd.read_sql_query(\"SELECT * FROM [Order]\",  engine)\n",
    "df_o.info()\n",
    "df_o.rename({'Id':'OrderId'},axis=1,inplace=True)\n",
    "\n",
    "df = df_od.merge(df_o, on = 'OrderId')\n",
    "df.to_csv('OrderId_Order.csv')\n",
    "df.head()"
   ]
  },
  {
   "cell_type": "code",
   "execution_count": 23,
   "metadata": {
    "colab": {
     "base_uri": "https://localhost:8080/",
     "height": 418
    },
    "colab_type": "code",
    "id": "bHdkczoawwRO",
    "outputId": "dcb97151-896d-45e5-94dc-766e69563c5b"
   },
   "outputs": [
    {
     "name": "stdout",
     "output_type": "stream",
     "text": [
      "<class 'pandas.core.frame.DataFrame'>\n",
      "Int64Index: 2155 entries, 0 to 2154\n",
      "Data columns (total 19 columns):\n",
      "Id                2155 non-null object\n",
      "OrderId           2155 non-null int64\n",
      "ProductId         2155 non-null int64\n",
      "UnitPrice         2155 non-null float64\n",
      "Quantity          2155 non-null int64\n",
      "Discount          2155 non-null float64\n",
      "CustomerId        2155 non-null object\n",
      "EmployeeId        2155 non-null int64\n",
      "OrderDate         2155 non-null object\n",
      "RequiredDate      2155 non-null object\n",
      "ShippedDate       2082 non-null object\n",
      "ShipVia           2155 non-null int64\n",
      "Freight           2155 non-null float64\n",
      "ShipName          2155 non-null object\n",
      "ShipAddress       2155 non-null object\n",
      "ShipCity          2155 non-null object\n",
      "ShipRegion        2155 non-null object\n",
      "ShipPostalCode    2100 non-null object\n",
      "ShipCountry       2155 non-null object\n",
      "dtypes: float64(3), int64(5), object(11)\n",
      "memory usage: 336.7+ KB\n"
     ]
    }
   ],
   "source": [
    "    df.info()"
   ]
  },
  {
   "cell_type": "code",
   "execution_count": 24,
   "metadata": {
    "colab": {
     "base_uri": "https://localhost:8080/",
     "height": 201
    },
    "colab_type": "code",
    "id": "hOZ_8uy7HuMr",
    "outputId": "15d2f75a-6e52-4f9d-bae2-b5e5a0a26b19"
   },
   "outputs": [
    {
     "data": {
      "text/plain": [
       "{0.0: 1317,\n",
       " 0.05: 185,\n",
       " 0.1: 173,\n",
       " 0.2: 161,\n",
       " 0.15: 157,\n",
       " 0.25: 154,\n",
       " 0.03: 3,\n",
       " 0.02: 2,\n",
       " 0.01: 1,\n",
       " 0.04: 1,\n",
       " 0.06: 1}"
      ]
     },
     "execution_count": 24,
     "metadata": {},
     "output_type": "execute_result"
    }
   ],
   "source": [
    "# Checking the levels of discount\n",
    "# sorted(df['Discount'].unique())\n",
    "counts = df['Discount'].value_counts()\n",
    "counts.sort_index()\n",
    "count_dict = dict(zip(counts.index, counts.values))\n",
    "count_dict"
   ]
  },
  {
   "cell_type": "markdown",
   "metadata": {
    "colab_type": "text",
    "id": "nFvh-eMWBRm9"
   },
   "source": [
    "### Aim 1.2: EDA on dataset"
   ]
  },
  {
   "cell_type": "code",
   "execution_count": 25,
   "metadata": {
    "colab": {
     "base_uri": "https://localhost:8080/",
     "height": 1712
    },
    "colab_type": "code",
    "id": "pMccsD16BRm-",
    "outputId": "f6d4c8c0-523a-488f-e445-d676da814b11"
   },
   "outputs": [
    {
     "data": {
      "image/png": "[encoded data removed]",
      "text/plain": [
       "<Figure size 648x504 with 2 Axes>"
      ]
     },
     "metadata": {},
     "output_type": "display_data"
    },
    {
     "data": {
      "image/png": "[encoded data removed]",
      "text/plain": [
       "<Figure size 648x504 with 2 Axes>"
      ]
     },
     "metadata": {},
     "output_type": "display_data"
    },
    {
     "data": {
      "image/png": "[encoded data removed]",
      "text/plain": [
       "<Figure size 648x504 with 2 Axes>"
      ]
     },
     "metadata": {},
     "output_type": "display_data"
    },
    {
     "data": {
      "image/png": "[encoded data removed]",
      "text/plain": [
       "<Figure size 648x504 with 2 Axes>"
      ]
     },
     "metadata": {},
     "output_type": "display_data"
    },
    {
     "data": {
      "image/png": "[encoded data removed]",
      "text/plain": [
       "<Figure size 648x504 with 2 Axes>"
      ]
     },
     "metadata": {},
     "output_type": "display_data"
    },
    {
     "data": {
      "image/png": "[encoded data removed]",
      "text/plain": [
       "<Figure size 648x504 with 2 Axes>"
      ]
     },
     "metadata": {},
     "output_type": "display_data"
    }
   ],
   "source": [
    "# df['Quantity'].groupby(df['Discount']).plot(kind='bar')\n",
    "plot_hist_scat_sns(df.drop(['OrderId','ProductId'],axis=1),'Quantity')"
   ]
  },
  {
   "cell_type": "markdown",
   "metadata": {
    "colab_type": "text",
    "id": "u1V-i0y6wwTB",
    "scrolled": true
   },
   "source": [
    "#### Note on OrderDetails df:\n",
    "1. There are 11 possible values for discounts: \n",
    "    - Values = [0.0, 0.01, 0.02, 0.03, 0.04, 0.05, 0.06, 0.1, 0.15, 0.2, 0.25]<br>\n",
    "    - However, there are very few entries for some of the levels of value.\n",
    "    ``` print(sorted(df['Discount'].unique())) ```\n",
    "2. The data for quantity looks skewed and not-normal. \n",
    "    - Normality tests will likely come back significant \n",
    "    "
   ]
  },
  {
   "cell_type": "markdown",
   "metadata": {
    "colab_type": "text",
    "id": "nrgngwVVBRnB"
   },
   "source": [
    "### Aim 1.3: Generated and inspect the required groups\n",
    "- Generate the groups that we want to test.\n",
    "    - Discounted\n",
    "    - Full price \n",
    "- Once review, use info to determine next steps."
   ]
  },
  {
   "cell_type": "code",
   "execution_count": 26,
   "metadata": {
    "colab": {
     "base_uri": "https://localhost:8080/",
     "height": 319
    },
    "colab_type": "code",
    "id": "S7s99OFmwwRS",
    "outputId": "f56634ab-809f-4483-da3c-dc5c78baa0bf"
   },
   "outputs": [
    {
     "name": "stdout",
     "output_type": "stream",
     "text": [
      "\n",
      "All Quantities:\n"
     ]
    },
    {
     "data": {
      "text/html": [
       "<div>\n",
       "<style scoped>\n",
       "    .dataframe tbody tr th:only-of-type {\n",
       "        vertical-align: middle;\n",
       "    }\n",
       "\n",
       "    .dataframe tbody tr th {\n",
       "        vertical-align: top;\n",
       "    }\n",
       "\n",
       "    .dataframe thead th {\n",
       "        text-align: right;\n",
       "    }\n",
       "</style>\n",
       "<table border=\"1\" class=\"dataframe\">\n",
       "  <thead>\n",
       "    <tr style=\"text-align: right;\">\n",
       "      <th></th>\n",
       "      <th>UnitPrice</th>\n",
       "      <th>Quantity</th>\n",
       "      <th>Discount</th>\n",
       "      <th>EmployeeId</th>\n",
       "      <th>ShipVia</th>\n",
       "      <th>Freight</th>\n",
       "    </tr>\n",
       "  </thead>\n",
       "  <tbody>\n",
       "    <tr>\n",
       "      <th>count</th>\n",
       "      <td>2155.0</td>\n",
       "      <td>2155.0</td>\n",
       "      <td>2155.0</td>\n",
       "      <td>2155.0</td>\n",
       "      <td>2155.0</td>\n",
       "      <td>2155.0</td>\n",
       "    </tr>\n",
       "    <tr>\n",
       "      <th>mean</th>\n",
       "      <td>26.0</td>\n",
       "      <td>24.0</td>\n",
       "      <td>0.0</td>\n",
       "      <td>4.0</td>\n",
       "      <td>2.0</td>\n",
       "      <td>96.0</td>\n",
       "    </tr>\n",
       "    <tr>\n",
       "      <th>std</th>\n",
       "      <td>30.0</td>\n",
       "      <td>19.0</td>\n",
       "      <td>0.0</td>\n",
       "      <td>2.0</td>\n",
       "      <td>1.0</td>\n",
       "      <td>133.0</td>\n",
       "    </tr>\n",
       "    <tr>\n",
       "      <th>min</th>\n",
       "      <td>2.0</td>\n",
       "      <td>1.0</td>\n",
       "      <td>0.0</td>\n",
       "      <td>1.0</td>\n",
       "      <td>1.0</td>\n",
       "      <td>0.0</td>\n",
       "    </tr>\n",
       "    <tr>\n",
       "      <th>25%</th>\n",
       "      <td>12.0</td>\n",
       "      <td>10.0</td>\n",
       "      <td>0.0</td>\n",
       "      <td>2.0</td>\n",
       "      <td>1.0</td>\n",
       "      <td>20.0</td>\n",
       "    </tr>\n",
       "    <tr>\n",
       "      <th>50%</th>\n",
       "      <td>18.0</td>\n",
       "      <td>20.0</td>\n",
       "      <td>0.0</td>\n",
       "      <td>4.0</td>\n",
       "      <td>2.0</td>\n",
       "      <td>54.0</td>\n",
       "    </tr>\n",
       "    <tr>\n",
       "      <th>75%</th>\n",
       "      <td>32.0</td>\n",
       "      <td>30.0</td>\n",
       "      <td>0.0</td>\n",
       "      <td>7.0</td>\n",
       "      <td>3.0</td>\n",
       "      <td>121.0</td>\n",
       "    </tr>\n",
       "    <tr>\n",
       "      <th>max</th>\n",
       "      <td>264.0</td>\n",
       "      <td>130.0</td>\n",
       "      <td>0.0</td>\n",
       "      <td>9.0</td>\n",
       "      <td>3.0</td>\n",
       "      <td>1008.0</td>\n",
       "    </tr>\n",
       "  </tbody>\n",
       "</table>\n",
       "</div>"
      ],
      "text/plain": [
       "       UnitPrice  Quantity  Discount  EmployeeId  ShipVia  Freight\n",
       "count     2155.0    2155.0    2155.0      2155.0   2155.0   2155.0\n",
       "mean        26.0      24.0       0.0         4.0      2.0     96.0\n",
       "std         30.0      19.0       0.0         2.0      1.0    133.0\n",
       "min          2.0       1.0       0.0         1.0      1.0      0.0\n",
       "25%         12.0      10.0       0.0         2.0      1.0     20.0\n",
       "50%         18.0      20.0       0.0         4.0      2.0     54.0\n",
       "75%         32.0      30.0       0.0         7.0      3.0    121.0\n",
       "max        264.0     130.0       0.0         9.0      3.0   1008.0"
      ]
     },
     "execution_count": 26,
     "metadata": {},
     "output_type": "execute_result"
    }
   ],
   "source": [
    "# Print the descriptive statistics.\n",
    "df_discounted = df.loc[df['Discount']>0]\n",
    "df_fullprice = df.loc[df['Discount']==0]\n",
    "\n",
    "print(f'\\nAll Quantities:')\n",
    "df.drop(['OrderId','ProductId'],axis=1).describe().round()"
   ]
  },
  {
   "cell_type": "code",
   "execution_count": 27,
   "metadata": {
    "colab": {
     "base_uri": "https://localhost:8080/",
     "height": 319
    },
    "colab_type": "code",
    "id": "SxZ2yH5cBRnE",
    "outputId": "51a629a1-7aea-4b50-f3f7-09f0f221917f"
   },
   "outputs": [
    {
     "name": "stdout",
     "output_type": "stream",
     "text": [
      "\n",
      "Discounted Quantities:\n"
     ]
    },
    {
     "data": {
      "text/html": [
       "<div>\n",
       "<style scoped>\n",
       "    .dataframe tbody tr th:only-of-type {\n",
       "        vertical-align: middle;\n",
       "    }\n",
       "\n",
       "    .dataframe tbody tr th {\n",
       "        vertical-align: top;\n",
       "    }\n",
       "\n",
       "    .dataframe thead th {\n",
       "        text-align: right;\n",
       "    }\n",
       "</style>\n",
       "<table border=\"1\" class=\"dataframe\">\n",
       "  <thead>\n",
       "    <tr style=\"text-align: right;\">\n",
       "      <th></th>\n",
       "      <th>UnitPrice</th>\n",
       "      <th>Quantity</th>\n",
       "      <th>Discount</th>\n",
       "      <th>EmployeeId</th>\n",
       "      <th>ShipVia</th>\n",
       "      <th>Freight</th>\n",
       "    </tr>\n",
       "  </thead>\n",
       "  <tbody>\n",
       "    <tr>\n",
       "      <th>count</th>\n",
       "      <td>838.0</td>\n",
       "      <td>838.0</td>\n",
       "      <td>838.0</td>\n",
       "      <td>838.0</td>\n",
       "      <td>838.0</td>\n",
       "      <td>838.0</td>\n",
       "    </tr>\n",
       "    <tr>\n",
       "      <th>mean</th>\n",
       "      <td>26.0</td>\n",
       "      <td>27.0</td>\n",
       "      <td>0.0</td>\n",
       "      <td>4.0</td>\n",
       "      <td>2.0</td>\n",
       "      <td>100.0</td>\n",
       "    </tr>\n",
       "    <tr>\n",
       "      <th>std</th>\n",
       "      <td>30.0</td>\n",
       "      <td>21.0</td>\n",
       "      <td>0.0</td>\n",
       "      <td>2.0</td>\n",
       "      <td>1.0</td>\n",
       "      <td>126.0</td>\n",
       "    </tr>\n",
       "    <tr>\n",
       "      <th>min</th>\n",
       "      <td>2.0</td>\n",
       "      <td>1.0</td>\n",
       "      <td>0.0</td>\n",
       "      <td>1.0</td>\n",
       "      <td>1.0</td>\n",
       "      <td>0.0</td>\n",
       "    </tr>\n",
       "    <tr>\n",
       "      <th>25%</th>\n",
       "      <td>12.0</td>\n",
       "      <td>12.0</td>\n",
       "      <td>0.0</td>\n",
       "      <td>2.0</td>\n",
       "      <td>1.0</td>\n",
       "      <td>25.0</td>\n",
       "    </tr>\n",
       "    <tr>\n",
       "      <th>50%</th>\n",
       "      <td>18.0</td>\n",
       "      <td>20.0</td>\n",
       "      <td>0.0</td>\n",
       "      <td>4.0</td>\n",
       "      <td>2.0</td>\n",
       "      <td>60.0</td>\n",
       "    </tr>\n",
       "    <tr>\n",
       "      <th>75%</th>\n",
       "      <td>31.0</td>\n",
       "      <td>36.0</td>\n",
       "      <td>0.0</td>\n",
       "      <td>7.0</td>\n",
       "      <td>3.0</td>\n",
       "      <td>123.0</td>\n",
       "    </tr>\n",
       "    <tr>\n",
       "      <th>max</th>\n",
       "      <td>264.0</td>\n",
       "      <td>130.0</td>\n",
       "      <td>0.0</td>\n",
       "      <td>9.0</td>\n",
       "      <td>3.0</td>\n",
       "      <td>891.0</td>\n",
       "    </tr>\n",
       "  </tbody>\n",
       "</table>\n",
       "</div>"
      ],
      "text/plain": [
       "       UnitPrice  Quantity  Discount  EmployeeId  ShipVia  Freight\n",
       "count      838.0     838.0     838.0       838.0    838.0    838.0\n",
       "mean        26.0      27.0       0.0         4.0      2.0    100.0\n",
       "std         30.0      21.0       0.0         2.0      1.0    126.0\n",
       "min          2.0       1.0       0.0         1.0      1.0      0.0\n",
       "25%         12.0      12.0       0.0         2.0      1.0     25.0\n",
       "50%         18.0      20.0       0.0         4.0      2.0     60.0\n",
       "75%         31.0      36.0       0.0         7.0      3.0    123.0\n",
       "max        264.0     130.0       0.0         9.0      3.0    891.0"
      ]
     },
     "execution_count": 27,
     "metadata": {},
     "output_type": "execute_result"
    }
   ],
   "source": [
    "print(f'\\nDiscounted Quantities:')\n",
    "\n",
    "df_discounted.drop(['OrderId','ProductId'],axis=1).describe().round()"
   ]
  },
  {
   "cell_type": "code",
   "execution_count": 28,
   "metadata": {
    "colab": {
     "base_uri": "https://localhost:8080/",
     "height": 319
    },
    "colab_type": "code",
    "id": "L-DcuavHBRnG",
    "outputId": "bc780446-757e-4203-8726-9d2c2116831f"
   },
   "outputs": [
    {
     "name": "stdout",
     "output_type": "stream",
     "text": [
      "Full price Quantities:\n",
      "\n"
     ]
    },
    {
     "data": {
      "text/html": [
       "<div>\n",
       "<style scoped>\n",
       "    .dataframe tbody tr th:only-of-type {\n",
       "        vertical-align: middle;\n",
       "    }\n",
       "\n",
       "    .dataframe tbody tr th {\n",
       "        vertical-align: top;\n",
       "    }\n",
       "\n",
       "    .dataframe thead th {\n",
       "        text-align: right;\n",
       "    }\n",
       "</style>\n",
       "<table border=\"1\" class=\"dataframe\">\n",
       "  <thead>\n",
       "    <tr style=\"text-align: right;\">\n",
       "      <th></th>\n",
       "      <th>UnitPrice</th>\n",
       "      <th>Quantity</th>\n",
       "      <th>Discount</th>\n",
       "      <th>EmployeeId</th>\n",
       "      <th>ShipVia</th>\n",
       "      <th>Freight</th>\n",
       "    </tr>\n",
       "  </thead>\n",
       "  <tbody>\n",
       "    <tr>\n",
       "      <th>count</th>\n",
       "      <td>1317.0</td>\n",
       "      <td>1317.0</td>\n",
       "      <td>1317.0</td>\n",
       "      <td>1317.0</td>\n",
       "      <td>1317.0</td>\n",
       "      <td>1317.0</td>\n",
       "    </tr>\n",
       "    <tr>\n",
       "      <th>mean</th>\n",
       "      <td>26.0</td>\n",
       "      <td>22.0</td>\n",
       "      <td>0.0</td>\n",
       "      <td>4.0</td>\n",
       "      <td>2.0</td>\n",
       "      <td>94.0</td>\n",
       "    </tr>\n",
       "    <tr>\n",
       "      <th>std</th>\n",
       "      <td>30.0</td>\n",
       "      <td>18.0</td>\n",
       "      <td>0.0</td>\n",
       "      <td>2.0</td>\n",
       "      <td>1.0</td>\n",
       "      <td>137.0</td>\n",
       "    </tr>\n",
       "    <tr>\n",
       "      <th>min</th>\n",
       "      <td>2.0</td>\n",
       "      <td>1.0</td>\n",
       "      <td>0.0</td>\n",
       "      <td>1.0</td>\n",
       "      <td>1.0</td>\n",
       "      <td>0.0</td>\n",
       "    </tr>\n",
       "    <tr>\n",
       "      <th>25%</th>\n",
       "      <td>12.0</td>\n",
       "      <td>10.0</td>\n",
       "      <td>0.0</td>\n",
       "      <td>2.0</td>\n",
       "      <td>1.0</td>\n",
       "      <td>15.0</td>\n",
       "    </tr>\n",
       "    <tr>\n",
       "      <th>50%</th>\n",
       "      <td>18.0</td>\n",
       "      <td>18.0</td>\n",
       "      <td>0.0</td>\n",
       "      <td>4.0</td>\n",
       "      <td>2.0</td>\n",
       "      <td>47.0</td>\n",
       "    </tr>\n",
       "    <tr>\n",
       "      <th>75%</th>\n",
       "      <td>33.0</td>\n",
       "      <td>30.0</td>\n",
       "      <td>0.0</td>\n",
       "      <td>6.0</td>\n",
       "      <td>3.0</td>\n",
       "      <td>117.0</td>\n",
       "    </tr>\n",
       "    <tr>\n",
       "      <th>max</th>\n",
       "      <td>264.0</td>\n",
       "      <td>130.0</td>\n",
       "      <td>0.0</td>\n",
       "      <td>9.0</td>\n",
       "      <td>3.0</td>\n",
       "      <td>1008.0</td>\n",
       "    </tr>\n",
       "  </tbody>\n",
       "</table>\n",
       "</div>"
      ],
      "text/plain": [
       "       UnitPrice  Quantity  Discount  EmployeeId  ShipVia  Freight\n",
       "count     1317.0    1317.0    1317.0      1317.0   1317.0   1317.0\n",
       "mean        26.0      22.0       0.0         4.0      2.0     94.0\n",
       "std         30.0      18.0       0.0         2.0      1.0    137.0\n",
       "min          2.0       1.0       0.0         1.0      1.0      0.0\n",
       "25%         12.0      10.0       0.0         2.0      1.0     15.0\n",
       "50%         18.0      18.0       0.0         4.0      2.0     47.0\n",
       "75%         33.0      30.0       0.0         6.0      3.0    117.0\n",
       "max        264.0     130.0       0.0         9.0      3.0   1008.0"
      ]
     },
     "execution_count": 28,
     "metadata": {},
     "output_type": "execute_result"
    }
   ],
   "source": [
    "print(f'Full price Quantities:\\n')\n",
    "df_fullprice.drop(['OrderId','ProductId'],axis=1).describe().round()"
   ]
  },
  {
   "cell_type": "markdown",
   "metadata": {
    "colab_type": "text",
    "id": "53olqpmbBRnI"
   },
   "source": [
    "### Plotting Summary EDA Figure"
   ]
  },
  {
   "cell_type": "code",
   "execution_count": 29,
   "metadata": {
    "colab": {
     "base_uri": "https://localhost:8080/",
     "height": 448
    },
    "colab_type": "code",
    "id": "K97UJlGd6Oop",
    "outputId": "484f8184-ef6a-47d0-935c-5ffbcbd6cbf4"
   },
   "outputs": [
    {
     "name": "stdout",
     "output_type": "stream",
     "text": [
      "Mean of Full Price: 21.715261958997722\n",
      " Mean of Discounted: 27.10978520286396\n"
     ]
    },
    {
     "data": {
      "text/plain": [
       "<Figure size 432x288 with 0 Axes>"
      ]
     },
     "metadata": {},
     "output_type": "display_data"
    },
    {
     "data": {
      "image/png": "[encoded data removed]",
      "text/plain": [
       "<Figure size 720x360 with 2 Axes>"
      ]
     },
     "metadata": {},
     "output_type": "display_data"
    }
   ],
   "source": [
    "kwargs = {'title_var':'Quantity Sold'}\n",
    "figa,ax = plot_wide_kde_thin_bar(df_fullprice['Quantity'],'Full Price',df_discounted['Quantity'],'Discounted',**kwargs)"
   ]
  },
  {
   "cell_type": "code",
   "execution_count": 30,
   "metadata": {
    "colab": {},
    "colab_type": "code",
    "id": "WEVjgrtWe5HC"
   },
   "outputs": [],
   "source": [
    "## Uncomment this cell to save the outputs.\n",
    "# figa.savefig('H1_Kde_bar_Quantity_black.png',dpi=300,facecolor='black')\n",
    "# df_discounted.to_csv('df_discounted.csv')\n",
    "# df_fullprice.to_csv('df_fullprice.csv')"
   ]
  },
  {
   "cell_type": "code",
   "execution_count": 31,
   "metadata": {
    "colab": {
     "base_uri": "https://localhost:8080/",
     "height": 836
    },
    "colab_type": "code",
    "id": "839dCzOpVFJ_",
    "outputId": "a2d4f540-4f5e-4668-ef23-5b1a0ea24f29"
   },
   "outputs": [],
   "source": [
    "# df_fullprice.info(), df_discounted.info()"
   ]
  },
  {
   "cell_type": "markdown",
   "metadata": {
    "colab_type": "text",
    "id": "q-uvY3EMwwRg"
   },
   "source": [
    "## ***H1, Aim 2: Select the appropriate t-test based on tests for the assumptions of normality and homogeneity of variance.***\n",
    "1. **Test for Normality**\n",
    "    - D'Agostino-Pearson's normality test<br>\n",
    "    ```scipy.stats.normaltest```\n",
    "    - Shapiro-Wilik Test<br>\n",
    "    ```scipy.stats.shapiro```\n",
    "2. **Test for Homogeneity of Variance**\n",
    "    - Levene's Test<br>\n",
    "     ```scipy.stats.levene```\n",
    "\n",
    "3. **Choose appropriate test based upon 1. and 2.** \n",
    "___"
   ]
  },
  {
   "cell_type": "markdown",
   "metadata": {
    "colab_type": "text",
    "id": "vCAvdujwBRnM"
   },
   "source": [
    "### Aim 2.1. Test for Normality"
   ]
  },
  {
   "cell_type": "markdown",
   "metadata": {
    "colab_type": "text",
    "id": "77osFmuAbEj0"
   },
   "source": [
    "#### Prelminary Testing for Normality "
   ]
  },
  {
   "cell_type": "code",
   "execution_count": 32,
   "metadata": {
    "colab": {
     "base_uri": "https://localhost:8080/",
     "height": 472
    },
    "colab_type": "code",
    "id": "LugZh3YyBRnP",
    "outputId": "a38a54da-974b-4c05-9536-759ca68336d2"
   },
   "outputs": [
    {
     "data": {
      "image/png": "[encoded data removed]",
      "text/plain": [
       "<Figure size 432x288 with 1 Axes>"
      ]
     },
     "metadata": {},
     "output_type": "display_data"
    }
   ],
   "source": [
    "# Plot the re-sampled data\n",
    "\n",
    "# # IF want to take smaller sample from population:\n",
    "\n",
    "# pop_samp_disc = np.random.choice(pop_samp_disc,1000)\n",
    "# pop_samp_full = np.random.choice(pop_samp_full, 1000)\n",
    "with plt.style.context(('dark_background')):\n",
    "    \n",
    "    fig = plt.figure()\n",
    "    plt.title('Distribution of Quanitities for Discounted vs Full Price ')\n",
    "\n",
    "    disc = df_discounted['Quantity']\n",
    "    full = df_fullprice['Quantity']\n",
    "    \n",
    "    \n",
    "    plt.hist(full,color='red', alpha = 0.5, bins=30,label='Full Price')\n",
    "    plt.hist(disc, alpha = 0.8, bins=30,label='Discounted')\n",
    "\n",
    "    # Adding annotations\n",
    "    meanD = round(np.mean(disc),3)\n",
    "    meanF = round(np.mean(full),3)\n",
    "    \n",
    "    plt.axvline(meanD, color='green',linestyle='--',label='Discounted Mean')\n",
    "    plt.text(meanD,190,f'Mean:{meanD}',rotation=270,fontweight='medium')\n",
    "    \n",
    "    plt.axvline(meanF,color='white',linestyle='-',label='Full Price Mean')\n",
    "    plt.text(meanF, 190, f'Mean:{meanF}',rotation=270,fontweight='medium')\n",
    "\n",
    "    plt.xlabel('Quantity')\n",
    "    plt.ylabel('Counts')\n",
    "    plt.legend()\n",
    "    plt.show()\n",
    "\n",
    "# Run normality testing\n",
    "# stat,p = normaltest(pop_samp_full)\n",
    "# print(f'Normality: stat ={stat}, p = {p}')\n",
    "\n",
    "# Run ttest\n",
    "# tstat,tp = stats.ttest_ind(pop_samp_disc, pop_samp_full)\n",
    "# print(f'T-test: stat ={tstat}, p = {tp}')#tstat,tp\n",
    "# ax.text("
   ]
  },
  {
   "cell_type": "code",
   "execution_count": 33,
   "metadata": {
    "colab": {
     "base_uri": "https://localhost:8080/",
     "height": 140
    },
    "colab_type": "code",
    "id": "B8V_fLKzNLgS",
    "outputId": "4d3e2b84-194e-405c-f9b5-08bbb7dce685"
   },
   "outputs": [
    {
     "name": "stdout",
     "output_type": "stream",
     "text": [
      "Discounted: p =1.6214878452829618e-57, stat =261.528012299789\n",
      "Fullprice: p =5.579637380545965e-119, stat =544.5770045551502\n"
     ]
    },
    {
     "data": {
      "text/html": [
       "<div>\n",
       "<style scoped>\n",
       "    .dataframe tbody tr th:only-of-type {\n",
       "        vertical-align: middle;\n",
       "    }\n",
       "\n",
       "    .dataframe tbody tr th {\n",
       "        vertical-align: top;\n",
       "    }\n",
       "\n",
       "    .dataframe thead th {\n",
       "        text-align: right;\n",
       "    }\n",
       "</style>\n",
       "<table border=\"1\" class=\"dataframe\">\n",
       "  <thead>\n",
       "    <tr style=\"text-align: right;\">\n",
       "      <th></th>\n",
       "      <th>DataIn</th>\n",
       "      <th>stat</th>\n",
       "      <th>p</th>\n",
       "    </tr>\n",
       "  </thead>\n",
       "  <tbody>\n",
       "    <tr>\n",
       "      <th>0</th>\n",
       "      <td>Discounted</td>\n",
       "      <td>261.528012</td>\n",
       "      <td>1.621488e-57</td>\n",
       "    </tr>\n",
       "    <tr>\n",
       "      <th>1</th>\n",
       "      <td>Fullprice</td>\n",
       "      <td>544.577005</td>\n",
       "      <td>5.579637e-119</td>\n",
       "    </tr>\n",
       "  </tbody>\n",
       "</table>\n",
       "</div>"
      ],
      "text/plain": [
       "       DataIn        stat              p\n",
       "0  Discounted  261.528012   1.621488e-57\n",
       "1   Fullprice  544.577005  5.579637e-119"
      ]
     },
     "execution_count": 33,
     "metadata": {},
     "output_type": "execute_result"
    }
   ],
   "source": [
    "# D'Agonstino Pearson Normality Test\n",
    "from scipy.stats import normaltest \n",
    "# Create results container list\n",
    "results_normtest = [['DataIn','stat','p']]\n",
    "\n",
    "# Perform Normality Test - Discounted\n",
    "stat, p = normaltest(df_discounted['Quantity'])\n",
    "results_normtest.append(['Discounted',stat,p])\n",
    "print(f'Discounted: p ={p}, stat ={stat}')\n",
    "\n",
    "# Perform Normality Test - Full Price\n",
    "stat, p = normaltest(df_fullprice['Quantity'])\n",
    "results_normtest.append(['Fullprice',stat,p])\n",
    "\n",
    "print(f'Fullprice: p ={p}, stat ={stat}')\n",
    "list2df(results_normtest)"
   ]
  },
  {
   "cell_type": "markdown",
   "metadata": {
    "colab_type": "text",
    "id": "tciaNn_rWcAW"
   },
   "source": [
    "**Notes on Preliminary Normality Test:**\n",
    "- Both groups failed assumption of normality. \n",
    "\n",
    "    - Let's compare normaltest vs shapiro test\n",
    "    \n",
    "- Let's try removing outliers with previously define detect_outliers"
   ]
  },
  {
   "cell_type": "markdown",
   "metadata": {
    "colab_type": "text",
    "id": "9KN_7gOOBRna"
   },
   "source": [
    "#### def normtest_results"
   ]
  },
  {
   "cell_type": "code",
   "execution_count": 34,
   "metadata": {
    "colab": {},
    "colab_type": "code",
    "id": "UXvZaU8WBRnb"
   },
   "outputs": [],
   "source": [
    "def normtest_results(dict_data):\n",
    "    \"\"\"Peforms both d'agostino-pearson and shapiro-wilik normal tests\n",
    "        \n",
    "        Parameters:\n",
    "            dict_data -- dictionary with {'name' : data} \n",
    "        Returns:\n",
    "            results_normtest -- list of test results (can run list2df(results_normtest)\n",
    "    \"\"\"\n",
    "    from numpy.random import seed\n",
    "    from numpy.random import randn\n",
    "    from scipy.stats import shapiro\n",
    "    from scipy.stats import normaltest\n",
    "\n",
    "    results_normtest_shap = [['DataIn','Test','stat','p']]\n",
    "    results_normtest_dagp = [['DataIn','Test','stat','p']]\n",
    "\n",
    "    for key,val in dict_data.items():\n",
    "\n",
    "        data_in = val\n",
    "        name = key\n",
    "        test = 'Shapiro'\n",
    "        stat, p = shapiro(data_in)\n",
    "        results_normtest_shap.append([name , test, stat , p ])\n",
    "        test = 'D’Agostino’s'\n",
    "        stat, p = normaltest(data_in)\n",
    "        results_normtest_dagp.append([name,test,stat, p])\n",
    "\n",
    "    results_normtest = pd.concat([list2df(results_normtest_shap), list2df(results_normtest_dagp)]) \n",
    "\n",
    "    return results_normtest #, list2df(results_normtest_shap),list2df(results_normtest_dagp)\n",
    "\n",
    "#   results_pivot = results.pivot(index='DataIn', columns= 'Test')\n",
    "#   results_pivot.stack(0)"
   ]
  },
  {
   "cell_type": "markdown",
   "metadata": {
    "colab_type": "text",
    "id": "Fq_JAeWWwwRy"
   },
   "source": [
    "### Sub-Aim 2.1.1 Use detect_outliers to remove outliers re-run normality tests"
   ]
  },
  {
   "cell_type": "markdown",
   "metadata": {
    "colab_type": "text",
    "id": "eMA7n-4O9X7o"
   },
   "source": [
    "##### Run detect_outliers on df_discounted, df_fullprice, examine stats of outliers, and then test normality with cleaned data."
   ]
  },
  {
   "cell_type": "code",
   "execution_count": 35,
   "metadata": {
    "colab": {
     "base_uri": "https://localhost:8080/",
     "height": 336
    },
    "colab_type": "code",
    "id": "nxaepnCPwwRz",
    "outputId": "5516dc09-b32a-4bee-d106-d6000d32e4f6"
   },
   "outputs": [
    {
     "name": "stdout",
     "output_type": "stream",
     "text": [
      "\n",
      "Descriptive Stats for Discounted Outliers:\n",
      "There are 29 outliers out of 2155 = 1.345707656612529 %\n"
     ]
    },
    {
     "data": {
      "text/html": [
       "<div>\n",
       "<style scoped>\n",
       "    .dataframe tbody tr th:only-of-type {\n",
       "        vertical-align: middle;\n",
       "    }\n",
       "\n",
       "    .dataframe tbody tr th {\n",
       "        vertical-align: top;\n",
       "    }\n",
       "\n",
       "    .dataframe thead th {\n",
       "        text-align: right;\n",
       "    }\n",
       "</style>\n",
       "<table border=\"1\" class=\"dataframe\">\n",
       "  <thead>\n",
       "    <tr style=\"text-align: right;\">\n",
       "      <th></th>\n",
       "      <th>Quantity</th>\n",
       "      <th>Discount</th>\n",
       "    </tr>\n",
       "  </thead>\n",
       "  <tbody>\n",
       "    <tr>\n",
       "      <th>count</th>\n",
       "      <td>29.0</td>\n",
       "      <td>29.0</td>\n",
       "    </tr>\n",
       "    <tr>\n",
       "      <th>mean</th>\n",
       "      <td>94.0</td>\n",
       "      <td>0.0</td>\n",
       "    </tr>\n",
       "    <tr>\n",
       "      <th>std</th>\n",
       "      <td>17.0</td>\n",
       "      <td>0.0</td>\n",
       "    </tr>\n",
       "    <tr>\n",
       "      <th>min</th>\n",
       "      <td>77.0</td>\n",
       "      <td>0.0</td>\n",
       "    </tr>\n",
       "    <tr>\n",
       "      <th>25%</th>\n",
       "      <td>80.0</td>\n",
       "      <td>0.0</td>\n",
       "    </tr>\n",
       "    <tr>\n",
       "      <th>50%</th>\n",
       "      <td>90.0</td>\n",
       "      <td>0.0</td>\n",
       "    </tr>\n",
       "    <tr>\n",
       "      <th>75%</th>\n",
       "      <td>100.0</td>\n",
       "      <td>0.0</td>\n",
       "    </tr>\n",
       "    <tr>\n",
       "      <th>max</th>\n",
       "      <td>130.0</td>\n",
       "      <td>0.0</td>\n",
       "    </tr>\n",
       "  </tbody>\n",
       "</table>\n",
       "</div>"
      ],
      "text/plain": [
       "       Quantity  Discount\n",
       "count      29.0      29.0\n",
       "mean       94.0       0.0\n",
       "std        17.0       0.0\n",
       "min        77.0       0.0\n",
       "25%        80.0       0.0\n",
       "50%        90.0       0.0\n",
       "75%       100.0       0.0\n",
       "max       130.0       0.0"
      ]
     },
     "execution_count": 35,
     "metadata": {},
     "output_type": "execute_result"
    }
   ],
   "source": [
    "# Detect outliers in df_discounted\n",
    "outlier_disc = detect_outliers(df_discounted,0,['Quantity'])\n",
    "\n",
    "print(f'\\nDescriptive Stats for Discounted Outliers:')\n",
    "print(f'There are {len(outlier_disc)} outliers out of {len(df)} = {len(outlier_disc)/len(df)*100} %')\n",
    "df[['Quantity','Discount']].iloc[outlier_disc].describe().round()"
   ]
  },
  {
   "cell_type": "code",
   "execution_count": 36,
   "metadata": {
    "colab": {
     "base_uri": "https://localhost:8080/",
     "height": 336
    },
    "colab_type": "code",
    "id": "1uQLmUcZ_5t3",
    "outputId": "32a82937-c3d9-40de-83ad-6620a4d0659a"
   },
   "outputs": [
    {
     "name": "stdout",
     "output_type": "stream",
     "text": [
      "\n",
      "Descriptive Stats for Fullprice Outliers:\n",
      "There are 34 outliers out of 2155 = 1.5777262180974478%\n"
     ]
    },
    {
     "data": {
      "text/html": [
       "<div>\n",
       "<style scoped>\n",
       "    .dataframe tbody tr th:only-of-type {\n",
       "        vertical-align: middle;\n",
       "    }\n",
       "\n",
       "    .dataframe tbody tr th {\n",
       "        vertical-align: top;\n",
       "    }\n",
       "\n",
       "    .dataframe thead th {\n",
       "        text-align: right;\n",
       "    }\n",
       "</style>\n",
       "<table border=\"1\" class=\"dataframe\">\n",
       "  <thead>\n",
       "    <tr style=\"text-align: right;\">\n",
       "      <th></th>\n",
       "      <th>Quantity</th>\n",
       "      <th>Discount</th>\n",
       "    </tr>\n",
       "  </thead>\n",
       "  <tbody>\n",
       "    <tr>\n",
       "      <th>count</th>\n",
       "      <td>34.0</td>\n",
       "      <td>34.0</td>\n",
       "    </tr>\n",
       "    <tr>\n",
       "      <th>mean</th>\n",
       "      <td>86.0</td>\n",
       "      <td>0.0</td>\n",
       "    </tr>\n",
       "    <tr>\n",
       "      <th>std</th>\n",
       "      <td>20.0</td>\n",
       "      <td>0.0</td>\n",
       "    </tr>\n",
       "    <tr>\n",
       "      <th>min</th>\n",
       "      <td>63.0</td>\n",
       "      <td>0.0</td>\n",
       "    </tr>\n",
       "    <tr>\n",
       "      <th>25%</th>\n",
       "      <td>70.0</td>\n",
       "      <td>0.0</td>\n",
       "    </tr>\n",
       "    <tr>\n",
       "      <th>50%</th>\n",
       "      <td>80.0</td>\n",
       "      <td>0.0</td>\n",
       "    </tr>\n",
       "    <tr>\n",
       "      <th>75%</th>\n",
       "      <td>100.0</td>\n",
       "      <td>0.0</td>\n",
       "    </tr>\n",
       "    <tr>\n",
       "      <th>max</th>\n",
       "      <td>130.0</td>\n",
       "      <td>0.0</td>\n",
       "    </tr>\n",
       "  </tbody>\n",
       "</table>\n",
       "</div>"
      ],
      "text/plain": [
       "       Quantity  Discount\n",
       "count      34.0      34.0\n",
       "mean       86.0       0.0\n",
       "std        20.0       0.0\n",
       "min        63.0       0.0\n",
       "25%        70.0       0.0\n",
       "50%        80.0       0.0\n",
       "75%       100.0       0.0\n",
       "max       130.0       0.0"
      ]
     },
     "execution_count": 36,
     "metadata": {},
     "output_type": "execute_result"
    }
   ],
   "source": [
    "# Detect outliers in df_fullprice\n",
    "outlier_no_disc = detect_outliers(df_fullprice,0,['Quantity'])\n",
    "print(f'\\nDescriptive Stats for Fullprice Outliers:')\n",
    "print(f'There are {len(outlier_no_disc)} outliers out of {len(df)} = {len(outlier_no_disc)/len(df)*100}%')\n",
    "df[['Quantity','Discount']].iloc[outlier_no_disc].describe().round()"
   ]
  },
  {
   "cell_type": "markdown",
   "metadata": {
    "colab_type": "text",
    "id": "gGqk4D46HP4O"
   },
   "source": [
    "#### Remove outliers and re-run normality testing"
   ]
  },
  {
   "cell_type": "code",
   "execution_count": 37,
   "metadata": {
    "colab": {
     "base_uri": "https://localhost:8080/",
     "height": 401
    },
    "colab_type": "code",
    "id": "7GUrC_QaHayz",
    "outputId": "b4dc2d05-d79a-4929-8797-1057112fd5e2"
   },
   "outputs": [
    {
     "name": "stdout",
     "output_type": "stream",
     "text": [
      "outlier_disc removed 29 outliers\n",
      "outlier_no_disc removed 34 outliers\n",
      "After removal:\n",
      "Id                 63\n",
      "OrderId            63\n",
      "ProductId          63\n",
      "UnitPrice          63\n",
      "Quantity           63\n",
      "Discount           63\n",
      "CustomerId         63\n",
      "EmployeeId         63\n",
      "OrderDate          63\n",
      "RequiredDate       63\n",
      "ShippedDate       134\n",
      "ShipVia            63\n",
      "Freight            63\n",
      "ShipName           63\n",
      "ShipAddress        63\n",
      "ShipCity           63\n",
      "ShipRegion         63\n",
      "ShipPostalCode    114\n",
      "ShipCountry        63\n",
      "dtype: int64\n"
     ]
    }
   ],
   "source": [
    "# Indices were from original dataframe still, so dorp outliers from a copy of that \n",
    "df_to_clean = df.copy()\n",
    "\n",
    "# Fill Data to Remove with np.nan\n",
    "remove_label = ['outlier_disc' , 'outlier_no_disc']\n",
    "remove_data = [outlier_disc , outlier_no_disc]\n",
    "\n",
    "remove_me = dict(zip(remove_label, remove_data))\n",
    "\n",
    "# Loop and replace indices of outliers with np.nan \n",
    "for key,val in remove_me.items():\n",
    "    \n",
    "    df_to_clean.iloc[val]=np.nan\n",
    "    \n",
    "    print(f'{key} removed {len(val)} outliers')\n",
    "\n",
    "print('After removal:')\n",
    "print(df_to_clean.isna().sum())"
   ]
  },
  {
   "cell_type": "code",
   "execution_count": 38,
   "metadata": {
    "colab": {
     "base_uri": "https://localhost:8080/",
     "height": 418
    },
    "colab_type": "code",
    "id": "Uk4M3t4gKGa9",
    "outputId": "d11b9ea5-fdcc-48e7-f77c-e99e47487950"
   },
   "outputs": [
    {
     "name": "stdout",
     "output_type": "stream",
     "text": [
      "<class 'pandas.core.frame.DataFrame'>\n",
      "Int64Index: 2155 entries, 0 to 2154\n",
      "Data columns (total 19 columns):\n",
      "Id                2092 non-null object\n",
      "OrderId           2092 non-null float64\n",
      "ProductId         2092 non-null float64\n",
      "UnitPrice         2092 non-null float64\n",
      "Quantity          2092 non-null float64\n",
      "Discount          2092 non-null float64\n",
      "CustomerId        2092 non-null object\n",
      "EmployeeId        2092 non-null float64\n",
      "OrderDate         2092 non-null object\n",
      "RequiredDate      2092 non-null object\n",
      "ShippedDate       2021 non-null object\n",
      "ShipVia           2092 non-null float64\n",
      "Freight           2092 non-null float64\n",
      "ShipName          2092 non-null object\n",
      "ShipAddress       2092 non-null object\n",
      "ShipCity          2092 non-null object\n",
      "ShipRegion        2092 non-null object\n",
      "ShipPostalCode    2041 non-null object\n",
      "ShipCountry       2092 non-null object\n",
      "dtypes: float64(8), object(11)\n",
      "memory usage: 336.7+ KB\n"
     ]
    }
   ],
   "source": [
    "# Replace na and run stattest \n",
    "df_to_clean.info()"
   ]
  },
  {
   "cell_type": "code",
   "execution_count": 39,
   "metadata": {
    "colab": {
     "base_uri": "https://localhost:8080/",
     "height": 803
    },
    "colab_type": "code",
    "id": "W-5EtAuNMF84",
    "outputId": "8376e911-fe65-432f-95b8-63e391689d4d"
   },
   "outputs": [
    {
     "name": "stdout",
     "output_type": "stream",
     "text": [
      "<class 'pandas.core.frame.DataFrame'>\n",
      "Int64Index: 1970 entries, 0 to 2110\n",
      "Data columns (total 19 columns):\n",
      "Id                1970 non-null object\n",
      "OrderId           1970 non-null float64\n",
      "ProductId         1970 non-null float64\n",
      "UnitPrice         1970 non-null float64\n",
      "Quantity          1970 non-null float64\n",
      "Discount          1970 non-null float64\n",
      "CustomerId        1970 non-null object\n",
      "EmployeeId        1970 non-null float64\n",
      "OrderDate         1970 non-null object\n",
      "RequiredDate      1970 non-null object\n",
      "ShippedDate       1970 non-null object\n",
      "ShipVia           1970 non-null float64\n",
      "Freight           1970 non-null float64\n",
      "ShipName          1970 non-null object\n",
      "ShipAddress       1970 non-null object\n",
      "ShipCity          1970 non-null object\n",
      "ShipRegion        1970 non-null object\n",
      "ShipPostalCode    1970 non-null object\n",
      "ShipCountry       1970 non-null object\n",
      "dtypes: float64(8), object(11)\n",
      "memory usage: 307.8+ KB\n",
      "\n",
      "\n",
      "Outliers present:\n"
     ]
    },
    {
     "data": {
      "text/plain": [
       "(None, None, Id                False\n",
       " OrderId           False\n",
       " ProductId         False\n",
       " UnitPrice         False\n",
       " Quantity          False\n",
       " Discount          False\n",
       " CustomerId        False\n",
       " EmployeeId        False\n",
       " OrderDate         False\n",
       " RequiredDate      False\n",
       " ShippedDate       False\n",
       " ShipVia           False\n",
       " Freight           False\n",
       " ShipName          False\n",
       " ShipAddress       False\n",
       " ShipCity          False\n",
       " ShipRegion        False\n",
       " ShipPostalCode    False\n",
       " ShipCountry       False\n",
       " dtype: bool)"
      ]
     },
     "execution_count": 39,
     "metadata": {},
     "output_type": "execute_result"
    }
   ],
   "source": [
    "# pause\n",
    "df_clean = df_to_clean.dropna(axis=0)#,inplace=True)\n",
    "df_clean.info(),print(f'\\n\\nOutliers present:'),df_clean.isna().any()"
   ]
  },
  {
   "cell_type": "markdown",
   "metadata": {
    "colab_type": "text",
    "id": "6PrPoFbsMZKb"
   },
   "source": [
    "#### Separate Back into Discounted and Fullprice Dataframes  "
   ]
  },
  {
   "cell_type": "code",
   "execution_count": 40,
   "metadata": {
    "colab": {},
    "colab_type": "code",
    "id": "QQlm4VmiUPOG"
   },
   "outputs": [],
   "source": [
    "# Separate Back into Discounted and Fullprice Dataframes  \n",
    "\n",
    "# Building data_in dictionary for normtest_results\n",
    "df_disc_orig = df_discounted\n",
    "df_full_orig = df_fullprice\n",
    "\n",
    "df_discounted_clean = df_clean.loc[df_clean['Discount']>0].copy()\n",
    "# df_discounted_clean.info()\n",
    "df_fullprice_clean = df_clean.loc[df_clean['Discount']==0].copy()\n",
    "# df_fullprice_clean.info()"
   ]
  },
  {
   "cell_type": "code",
   "execution_count": 41,
   "metadata": {
    "colab": {},
    "colab_type": "code",
    "id": "meSZ5a-CBRnx"
   },
   "outputs": [],
   "source": [
    "# Combine all data into 1 dictionary for normtest_results.\n",
    "data_in = {}\n",
    "\n",
    "data_in['Disc, Orig'] = df_disc_orig['Quantity']\n",
    "data_in['Disc, Clean'] = df_discounted_clean['Quantity']\n",
    "\n",
    "data_in['Full Price','Orig'] = df_full_orig['Quantity']\n",
    "data_in['Full Price','Clean'] = df_fullprice_clean['Quantity']"
   ]
  },
  {
   "cell_type": "code",
   "execution_count": 42,
   "metadata": {
    "colab": {
     "base_uri": "https://localhost:8080/",
     "height": 316
    },
    "colab_type": "code",
    "id": "6hasxYQ0BRnz",
    "outputId": "0fa457f2-5cbc-4df2-adb9-c774cbe293f1"
   },
   "outputs": [
    {
     "data": {
      "text/html": [
       "<div>\n",
       "<style scoped>\n",
       "    .dataframe tbody tr th:only-of-type {\n",
       "        vertical-align: middle;\n",
       "    }\n",
       "\n",
       "    .dataframe tbody tr th {\n",
       "        vertical-align: top;\n",
       "    }\n",
       "\n",
       "    .dataframe thead th {\n",
       "        text-align: right;\n",
       "    }\n",
       "</style>\n",
       "<table border=\"1\" class=\"dataframe\">\n",
       "  <thead>\n",
       "    <tr style=\"text-align: right;\">\n",
       "      <th></th>\n",
       "      <th>Test</th>\n",
       "      <th>stat</th>\n",
       "      <th>p</th>\n",
       "    </tr>\n",
       "    <tr>\n",
       "      <th>DataIn</th>\n",
       "      <th></th>\n",
       "      <th></th>\n",
       "      <th></th>\n",
       "    </tr>\n",
       "  </thead>\n",
       "  <tbody>\n",
       "    <tr>\n",
       "      <th>Disc, Orig</th>\n",
       "      <td>Shapiro</td>\n",
       "      <td>0.869030</td>\n",
       "      <td>6.881204e-26</td>\n",
       "    </tr>\n",
       "    <tr>\n",
       "      <th>Disc, Clean</th>\n",
       "      <td>Shapiro</td>\n",
       "      <td>0.920683</td>\n",
       "      <td>2.661152e-19</td>\n",
       "    </tr>\n",
       "    <tr>\n",
       "      <th>(Full Price, Orig)</th>\n",
       "      <td>Shapiro</td>\n",
       "      <td>0.843457</td>\n",
       "      <td>3.803857e-34</td>\n",
       "    </tr>\n",
       "    <tr>\n",
       "      <th>(Full Price, Clean)</th>\n",
       "      <td>Shapiro</td>\n",
       "      <td>0.916697</td>\n",
       "      <td>1.902716e-25</td>\n",
       "    </tr>\n",
       "    <tr>\n",
       "      <th>Disc, Orig</th>\n",
       "      <td>D’Agostino’s</td>\n",
       "      <td>261.528012</td>\n",
       "      <td>1.621488e-57</td>\n",
       "    </tr>\n",
       "    <tr>\n",
       "      <th>Disc, Clean</th>\n",
       "      <td>D’Agostino’s</td>\n",
       "      <td>80.420078</td>\n",
       "      <td>3.443515e-18</td>\n",
       "    </tr>\n",
       "    <tr>\n",
       "      <th>(Full Price, Orig)</th>\n",
       "      <td>D’Agostino’s</td>\n",
       "      <td>544.577005</td>\n",
       "      <td>5.579637e-119</td>\n",
       "    </tr>\n",
       "    <tr>\n",
       "      <th>(Full Price, Clean)</th>\n",
       "      <td>D’Agostino’s</td>\n",
       "      <td>140.845598</td>\n",
       "      <td>2.604756e-31</td>\n",
       "    </tr>\n",
       "  </tbody>\n",
       "</table>\n",
       "</div>"
      ],
      "text/plain": [
       "                             Test        stat              p\n",
       "DataIn                                                      \n",
       "Disc, Orig                Shapiro    0.869030   6.881204e-26\n",
       "Disc, Clean               Shapiro    0.920683   2.661152e-19\n",
       "(Full Price, Orig)        Shapiro    0.843457   3.803857e-34\n",
       "(Full Price, Clean)       Shapiro    0.916697   1.902716e-25\n",
       "Disc, Orig           D’Agostino’s  261.528012   1.621488e-57\n",
       "Disc, Clean          D’Agostino’s   80.420078   3.443515e-18\n",
       "(Full Price, Orig)   D’Agostino’s  544.577005  5.579637e-119\n",
       "(Full Price, Clean)  D’Agostino’s  140.845598   2.604756e-31"
      ]
     },
     "execution_count": 42,
     "metadata": {},
     "output_type": "execute_result"
    }
   ],
   "source": [
    "# Run normtest_results on combined dataset.\n",
    "results = normtest_results(data_in) #[0]\n",
    "results.set_index('DataIn')"
   ]
  },
  {
   "cell_type": "markdown",
   "metadata": {
    "colab_type": "text",
    "id": "PVXDUinWuA9G"
   },
   "source": [
    "**Notes re: removing outliers with detect_outliers.**\n",
    "- Still getting significant results for normality testing. \n",
    "- Attempting 1 more method of outlier removal -- QuantileTransformer<br>\n",
    "```from sklearn.preprocessing import QuantileTransformer```"
   ]
  },
  {
   "cell_type": "markdown",
   "metadata": {
    "colab_type": "text",
    "id": "AThkalzRBRn1"
   },
   "source": [
    "### Sub-Aim 2.1.2 Use QuantileTransformer to attempt to meet the assumption of normality."
   ]
  },
  {
   "cell_type": "markdown",
   "metadata": {
    "colab_type": "text",
    "id": "WHSkqDscBRn1"
   },
   "source": [
    "#### def quant_transform "
   ]
  },
  {
   "cell_type": "code",
   "execution_count": 43,
   "metadata": {
    "colab": {},
    "colab_type": "code",
    "id": "GBZfYvQO2Jr0"
   },
   "outputs": [],
   "source": [
    "# TRANSFORM DATA BEFORE RE-CALLING ORIGINAL normtest_results\n",
    "def quant_transform(data_in):\n",
    "    '''Use sklearn.preprocessing.QuantileTransformer to remove outliers from dataset.\n",
    "    \n",
    "    Parameters:\n",
    "        data_in (dict) -- dictionary with data series as values to be processed.\n",
    "    Returns: \n",
    "        data_tf (dict) -- dicionary of same keys from data_in, but transformed.\n",
    "        '''\n",
    "    \n",
    "    from sklearn import preprocessing as prep \n",
    "    from sklearn.preprocessing import QuantileTransformer\n",
    "\n",
    "    qt =  QuantileTransformer(n_quantiles=10,output_distribution='normal')\n",
    "    data_tf = {}\n",
    "    for k,v in data_in.items():    \n",
    "        data = np.array(v).reshape(-1,1)\n",
    "        transformed = pd.Series(np.squeeze(qt.fit_transform(data)))\n",
    "      \n",
    "        data_tf[k] = transformed\n",
    "    \n",
    "    return data_tf"
   ]
  },
  {
   "cell_type": "code",
   "execution_count": 44,
   "metadata": {
    "colab": {
     "base_uri": "https://localhost:8080/",
     "height": 286
    },
    "colab_type": "code",
    "id": "5Iqt2xNPPF8H",
    "outputId": "7376129a-3723-4c85-feb9-1bbdd888f5f1"
   },
   "outputs": [
    {
     "data": {
      "text/html": [
       "<div>\n",
       "<style scoped>\n",
       "    .dataframe tbody tr th:only-of-type {\n",
       "        vertical-align: middle;\n",
       "    }\n",
       "\n",
       "    .dataframe tbody tr th {\n",
       "        vertical-align: top;\n",
       "    }\n",
       "\n",
       "    .dataframe thead th {\n",
       "        text-align: right;\n",
       "    }\n",
       "</style>\n",
       "<table border=\"1\" class=\"dataframe\">\n",
       "  <thead>\n",
       "    <tr style=\"text-align: right;\">\n",
       "      <th></th>\n",
       "      <th>DataIn</th>\n",
       "      <th>Test</th>\n",
       "      <th>stat</th>\n",
       "      <th>p</th>\n",
       "    </tr>\n",
       "  </thead>\n",
       "  <tbody>\n",
       "    <tr>\n",
       "      <th>0</th>\n",
       "      <td>Disc, Orig</td>\n",
       "      <td>Shapiro</td>\n",
       "      <td>0.955760</td>\n",
       "      <td>3.409909e-15</td>\n",
       "    </tr>\n",
       "    <tr>\n",
       "      <th>1</th>\n",
       "      <td>Disc, Clean</td>\n",
       "      <td>Shapiro</td>\n",
       "      <td>0.855450</td>\n",
       "      <td>1.641324e-25</td>\n",
       "    </tr>\n",
       "    <tr>\n",
       "      <th>2</th>\n",
       "      <td>(Full Price, Orig)</td>\n",
       "      <td>Shapiro</td>\n",
       "      <td>0.919123</td>\n",
       "      <td>5.725075e-26</td>\n",
       "    </tr>\n",
       "    <tr>\n",
       "      <th>3</th>\n",
       "      <td>(Full Price, Clean)</td>\n",
       "      <td>Shapiro</td>\n",
       "      <td>0.859803</td>\n",
       "      <td>1.033347e-31</td>\n",
       "    </tr>\n",
       "    <tr>\n",
       "      <th>0</th>\n",
       "      <td>Disc, Orig</td>\n",
       "      <td>D’Agostino’s</td>\n",
       "      <td>103.590493</td>\n",
       "      <td>3.203393e-23</td>\n",
       "    </tr>\n",
       "    <tr>\n",
       "      <th>1</th>\n",
       "      <td>Disc, Clean</td>\n",
       "      <td>D’Agostino’s</td>\n",
       "      <td>110.340329</td>\n",
       "      <td>1.096231e-24</td>\n",
       "    </tr>\n",
       "    <tr>\n",
       "      <th>2</th>\n",
       "      <td>(Full Price, Orig)</td>\n",
       "      <td>D’Agostino’s</td>\n",
       "      <td>317.579615</td>\n",
       "      <td>1.092604e-69</td>\n",
       "    </tr>\n",
       "    <tr>\n",
       "      <th>3</th>\n",
       "      <td>(Full Price, Clean)</td>\n",
       "      <td>D’Agostino’s</td>\n",
       "      <td>327.579515</td>\n",
       "      <td>7.362276e-72</td>\n",
       "    </tr>\n",
       "  </tbody>\n",
       "</table>\n",
       "</div>"
      ],
      "text/plain": [
       "                DataIn          Test        stat             p\n",
       "0           Disc, Orig       Shapiro    0.955760  3.409909e-15\n",
       "1          Disc, Clean       Shapiro    0.855450  1.641324e-25\n",
       "2   (Full Price, Orig)       Shapiro    0.919123  5.725075e-26\n",
       "3  (Full Price, Clean)       Shapiro    0.859803  1.033347e-31\n",
       "0           Disc, Orig  D’Agostino’s  103.590493  3.203393e-23\n",
       "1          Disc, Clean  D’Agostino’s  110.340329  1.096231e-24\n",
       "2   (Full Price, Orig)  D’Agostino’s  317.579615  1.092604e-69\n",
       "3  (Full Price, Clean)  D’Agostino’s  327.579515  7.362276e-72"
      ]
     },
     "execution_count": 44,
     "metadata": {},
     "output_type": "execute_result"
    }
   ],
   "source": [
    "# Run data_in through quant_transform to get data_tf\n",
    "data_tf = quant_transform(data_in)\n",
    "\n",
    "# Run transformed data through normtest_results.\n",
    "trans_norm_test = normtest_results(data_tf)#[0]\n",
    "trans_norm_test"
   ]
  },
  {
   "cell_type": "code",
   "execution_count": 45,
   "metadata": {
    "colab": {},
    "colab_type": "code",
    "id": "Cw61oSNnAVdc"
   },
   "outputs": [],
   "source": [
    "# dataDict = {'Original':data_in,'Transformed':data_in_tf }\n",
    "# # df_data = normtest_results(data_in)[0]\n",
    "# dataDict_results = {'Original-Results':normtest_results(data_in),'Transformed-Results': normtest_results(data_in_tf)}"
   ]
  },
  {
   "cell_type": "code",
   "execution_count": 46,
   "metadata": {
    "colab": {},
    "colab_type": "code",
    "id": "w3F7bYgx2xlw"
   },
   "outputs": [],
   "source": [
    "# # Display info for \n",
    "# printDict=dataDict\n",
    "# print(f'dataDict')\n",
    "\n",
    "# for key, val in printDict.items():\n",
    "#   print(key)\n",
    "#   for k, v in printDict[key].items():\n",
    "#     print(f'   {k}\\n         has {len(v)} values with mean={np.mean(v)}')\n"
   ]
  },
  {
   "cell_type": "markdown",
   "metadata": {
    "colab_type": "text",
    "id": "0b4wlr87rR2b"
   },
   "source": [
    "### Sub-Aim 2.1.3 Use resampling to get a normal distribution from the data and re-run normality tests."
   ]
  },
  {
   "cell_type": "code",
   "execution_count": 47,
   "metadata": {
    "colab": {},
    "colab_type": "code",
    "id": "L6n5eR-LrYhU"
   },
   "outputs": [],
   "source": [
    "data_discounted = df['Quantity'].loc[df['Discount']>0].copy()\n",
    "data_fullprice = df['Quantity'].loc[df['Discount']==0].copy()"
   ]
  },
  {
   "cell_type": "code",
   "execution_count": 48,
   "metadata": {
    "colab": {},
    "colab_type": "code",
    "id": "bZuGT5f8rcf-"
   },
   "outputs": [],
   "source": [
    "# Resample our data  i # of samples with n =50/sample \n",
    "n = 50 \n",
    "i = 10000\n",
    "pop_samp_disc = []\n",
    "pop_samp_full = []\n",
    "for i in range(0,i):\n",
    "    \n",
    "    pop_samp_disc.append(data_discounted.sample(n).mean())\n",
    "    pop_samp_full.append(data_fullprice.sample(n).mean())\n",
    "    #   test_results.append(normaltest())\n",
    "    # plt.hist([pop_samp_disc,pop_samp_full])"
   ]
  },
  {
   "cell_type": "code",
   "execution_count": 49,
   "metadata": {
    "colab": {
     "base_uri": "https://localhost:8080/",
     "height": 468
    },
    "colab_type": "code",
    "id": "_COpv9y0BRoF",
    "outputId": "e14994c2-b8f9-434d-8c40-0a50b429b55c"
   },
   "outputs": [
    {
     "data": {
      "image/png": "[encoded data removed]",
      "text/plain": [
       "<Figure size 432x288 with 1 Axes>"
      ]
     },
     "metadata": {
      "needs_background": "light"
     },
     "output_type": "display_data"
    },
    {
     "name": "stdout",
     "output_type": "stream",
     "text": [
      "Normality: stat =106.21385355492637, p = 8.62888636430599e-24\n"
     ]
    }
   ],
   "source": [
    "# Plot the re-sampled data\n",
    "\n",
    "# # IF want to take smaller sample from population:\n",
    "\n",
    "# pop_samp_disc = np.random.choice(pop_samp_disc,1000)\n",
    "# pop_samp_full = np.random.choice(pop_samp_full, 1000)\n",
    "with plt.style.context(('tableau-colorblind10')):\n",
    "    fig = plt.figure()\n",
    "    \n",
    "    plt.title('Quantity of Discounted vs Full Price Products Purchased ')\n",
    "    \n",
    "    plt.hist(pop_samp_disc,alpha = 0.5, bins=30,label='Discounted')\n",
    "    plt.hist(pop_samp_full,color='black', alpha = 0.5, bins=30,label='Full Price')\n",
    "\n",
    "    # Adding annotations\n",
    "    meanD = round(np.mean(pop_samp_disc),3)\n",
    "    meanS = round(np.mean(pop_samp_full),3)\n",
    "    \n",
    "    plt.axvline(meanD, linestyle='--',label='Discounted Mean')\n",
    "    plt.text(meanD-1,700,f'Mean:{meanD}',rotation=90)\n",
    "    \n",
    "    plt.axvline(meanS,color='k',linestyle='--',label='Full Price Mean')\n",
    "    plt.text(meanS-1,700,f'Mean:{meanS}',rotation=90)\n",
    "\n",
    "\n",
    "    plt.legend()\n",
    "    plt.show()\n",
    "\n",
    "# Run normality testing\n",
    "stat,p = normaltest(pop_samp_full)\n",
    "print(f'Normality: stat ={stat}, p = {p}')\n",
    "\n",
    "# Run ttest\n",
    "tstat,tp = stats.ttest_ind(pop_samp_disc, pop_samp_full)\n",
    "# print(f'T-test: stat ={tstat}, p = {tp}')#tstat,tp\n",
    "# ax.text("
   ]
  },
  {
   "cell_type": "markdown",
   "metadata": {
    "colab_type": "text",
    "id": "Oo7In-gvtezW"
   },
   "source": [
    "## ***H1, Aim 2 _final version_ : Run final workflow for testing assumptions***"
   ]
  },
  {
   "cell_type": "markdown",
   "metadata": {
    "colab_type": "text",
    "id": "ARClmsCLLoNf"
   },
   "source": [
    "#### New Statistical Analysis Pipeline\n",
    "**Don't forget about the codeacademy slides, [the tukey test they recommend is not from scipy, its from statsmodels]**(https://drive.google.com/drive/u/0/folders/18OI7pC76d6IJ5xI0ZA8A__Da9WI2rNon)\n",
    "1. Separate data into groups\n",
    "2. test groups for normality \n",
    "    - [Normaltest/ D’Agostino and Pearson’s](https://docs.scipy.org/doc/scipy/reference/generated/scipy.stats.normaltest.html)\n",
    "\n",
    "3. test groups for homo of variance\n",
    "    - [Levene's Test](https://docs.scipy.org/doc/scipy-0.14.0/reference/generated/scipy.stats.levene.html)\n",
    "4. Try to normalize data if possible?\n",
    "    - \n",
    "5. Choose test based on output\n",
    "    - Normal: 2 sample t-test\n",
    "    - Welch's t-test (Jeff)\n",
    "    - Not normal =     - [Mann Whitney U Test](https://docs.scipy.org/doc/scipy/reference/generated/scipy.stats.mannwhitneyu.html)\n",
    "5B. Calculate other statistics for result, i.e effect size...?\n",
    "    - Effect size: [cohen's d](https://stackoverflow.com/questions/21532471/how-to-calculate-cohens-d-in-python)\n",
    "6. Run test, if significant follow up with post-hoc tests (IF have more than 2 groups)\n",
    "    - [Tukey's](https://www.statsmodels.org/stable/generated/statsmodels.stats.multicomp.pairwise_tukeyhsd.html)\n"
   ]
  },
  {
   "cell_type": "code",
   "execution_count": 50,
   "metadata": {
    "colab": {
     "base_uri": "https://localhost:8080/",
     "height": 334
    },
    "colab_type": "code",
    "id": "dA459xbHLnoR",
    "outputId": "71d3cab4-c3ad-48d2-a5b8-a5158a377656"
   },
   "outputs": [
    {
     "data": {
      "text/plain": [
       "(         Quantity   UnitPrice    Discount\n",
       " count  838.000000  838.000000  838.000000\n",
       " mean    27.109785   26.292363    0.144439\n",
       " std     20.771439   30.017214    0.071808\n",
       " min      1.000000    2.000000    0.010000\n",
       " 25%     12.000000   12.500000    0.100000\n",
       " 50%     20.000000   18.000000    0.150000\n",
       " 75%     36.000000   31.230000    0.200000\n",
       " max    130.000000  263.500000    0.250000,\n",
       " '--------------------------------------------------',\n",
       "           Quantity    UnitPrice  Discount\n",
       " count  1317.000000  1317.000000    1317.0\n",
       " mean     21.715262    26.171534       0.0\n",
       " std      17.507493    29.717354       0.0\n",
       " min       1.000000     2.000000       0.0\n",
       " 25%      10.000000    12.000000       0.0\n",
       " 50%      18.000000    18.400000       0.0\n",
       " 75%      30.000000    32.800000       0.0\n",
       " max     130.000000   263.500000       0.0)"
      ]
     },
     "execution_count": 50,
     "metadata": {},
     "output_type": "execute_result"
    }
   ],
   "source": [
    "# 1 - Separating groups from dfH (dataframeHypothesis)\n",
    "dfH = df[['Quantity','UnitPrice','Discount']].copy()\n",
    "\n",
    "#Adding group definitions\n",
    "grpA = \"['Discount'] > 0\"\n",
    "grpB = \"['Discount'] == 0\"\n",
    "\n",
    "# Using eval to create df_A and df_B; will allow us to fill in our results \n",
    "# with the exact definitions of Group A and Group B\n",
    "df_A = eval(f'dfH.loc[dfH{grpA}]')\n",
    "df_B = eval(f'dfH.loc[dfH{grpB}]')\n",
    "\n",
    "# dfj_D = dfH.loc[dfj['Discount']>0] \n",
    "# dfj_F = dfH.loc[dfj['Discount']==0]\n",
    "df_A.describe(),'--'*25,df_B.describe()"
   ]
  },
  {
   "cell_type": "markdown",
   "metadata": {
    "colab_type": "text",
    "id": "7VAimpHrBRoL"
   },
   "source": [
    "### Aim 2.1: Test for Normality"
   ]
  },
  {
   "cell_type": "code",
   "execution_count": 51,
   "metadata": {
    "colab": {},
    "colab_type": "code",
    "id": "zDIYeMJMIum6"
   },
   "outputs": [],
   "source": [
    "# Adding table to collect summary statistics\n",
    "H1_tests = [['Group:','TestName','Test Purpose','stat','p']  ]"
   ]
  },
  {
   "cell_type": "code",
   "execution_count": 52,
   "metadata": {
    "colab": {
     "base_uri": "https://localhost:8080/",
     "height": 50
    },
    "colab_type": "code",
    "id": "ZcwUoJKjNIZu",
    "outputId": "de2dc603-235b-4c2e-f830-65235e77cc20"
   },
   "outputs": [
    {
     "name": "stdout",
     "output_type": "stream",
     "text": [
      "A:stat=261.528012299789, p=1.6214878452829618e-57\n",
      "B:stat=544.5770045551502, p=5.579637380545965e-119\n"
     ]
    }
   ],
   "source": [
    "# H1_tests = [['Group:','TestName','Test Purpose','stat','p']  ]\n",
    "# 2. Testing normality\n",
    "\n",
    "test_purpose = 'Normality'\n",
    "test_to_run = 'normaltest'\n",
    "\n",
    "arrA = np.array(df_A['Quantity'])\n",
    "arrB = np.array(df_B['Quantity'])\n",
    "\n",
    "statA, pA = eval(test_to_run)(arrA)\n",
    "statB, pB = eval(test_to_run)(arrB)\n",
    "\n",
    "print(f'A:stat={statA}, p={pA}')\n",
    "print(f'B:stat={statB}, p={pB}')\n",
    "\n",
    "# H1_tests = [['Group:','TestName','Test Purpose','stat','p']  ]\n",
    "H1_tests.append(['A: '+grpA,test_to_run,test_purpose,statA,pA])\n",
    "H1_tests.append(['B: '+grpB,test_to_run,test_purpose,statB,pB])\n",
    "# list2df(H1_tests)"
   ]
  },
  {
   "cell_type": "code",
   "execution_count": 53,
   "metadata": {
    "colab": {
     "base_uri": "https://localhost:8080/",
     "height": 107
    },
    "colab_type": "code",
    "id": "BeOQ35sjQ4wJ",
    "outputId": "3fc862d6-ecf0-42a7-da2f-ee670573cbfa"
   },
   "outputs": [
    {
     "data": {
      "text/html": [
       "<div>\n",
       "<style scoped>\n",
       "    .dataframe tbody tr th:only-of-type {\n",
       "        vertical-align: middle;\n",
       "    }\n",
       "\n",
       "    .dataframe tbody tr th {\n",
       "        vertical-align: top;\n",
       "    }\n",
       "\n",
       "    .dataframe thead th {\n",
       "        text-align: right;\n",
       "    }\n",
       "</style>\n",
       "<table border=\"1\" class=\"dataframe\">\n",
       "  <thead>\n",
       "    <tr style=\"text-align: right;\">\n",
       "      <th></th>\n",
       "      <th>Group:</th>\n",
       "      <th>TestName</th>\n",
       "      <th>Test Purpose</th>\n",
       "      <th>stat</th>\n",
       "      <th>p</th>\n",
       "    </tr>\n",
       "  </thead>\n",
       "  <tbody>\n",
       "    <tr>\n",
       "      <th>0</th>\n",
       "      <td>A: ['Discount'] &gt; 0</td>\n",
       "      <td>normaltest</td>\n",
       "      <td>Normality</td>\n",
       "      <td>261.528</td>\n",
       "      <td>0.0</td>\n",
       "    </tr>\n",
       "    <tr>\n",
       "      <th>1</th>\n",
       "      <td>B: ['Discount'] == 0</td>\n",
       "      <td>normaltest</td>\n",
       "      <td>Normality</td>\n",
       "      <td>544.577</td>\n",
       "      <td>0.0</td>\n",
       "    </tr>\n",
       "  </tbody>\n",
       "</table>\n",
       "</div>"
      ],
      "text/plain": [
       "                 Group:    TestName Test Purpose     stat    p\n",
       "0   A: ['Discount'] > 0  normaltest    Normality  261.528  0.0\n",
       "1  B: ['Discount'] == 0  normaltest    Normality  544.577  0.0"
      ]
     },
     "execution_count": 53,
     "metadata": {},
     "output_type": "execute_result"
    }
   ],
   "source": [
    "list2df(H1_tests).round(4)"
   ]
  },
  {
   "cell_type": "markdown",
   "metadata": {
    "colab_type": "text",
    "id": "UpFPGfa1BRoQ"
   },
   "source": [
    "### Aim 2.2 Test for Homogeneity of Variance"
   ]
  },
  {
   "cell_type": "code",
   "execution_count": 54,
   "metadata": {
    "colab": {},
    "colab_type": "code",
    "id": "Ows78wGWP7LH"
   },
   "outputs": [],
   "source": [
    "# 3. Test for homo var\n",
    "test_to_run = 'stats.levene'\n",
    "stat,p = eval(test_to_run)(arrA,arrB,center='median')\n",
    "\n",
    "H1_tests.append(['A&B',test_to_run,'Equal Var',stat,p])"
   ]
  },
  {
   "cell_type": "markdown",
   "metadata": {
    "colab_type": "text",
    "id": "l0OlDfLLBRoT"
   },
   "source": [
    "### Aim 2.3 Selecting the appropriate test to perform."
   ]
  },
  {
   "cell_type": "code",
   "execution_count": 55,
   "metadata": {
    "colab": {
     "base_uri": "https://localhost:8080/",
     "height": 137
    },
    "colab_type": "code",
    "id": "0OVY01SMRD_l",
    "outputId": "87810342-0701-4cdf-867b-30b327aa8829"
   },
   "outputs": [
    {
     "data": {
      "text/html": [
       "<div>\n",
       "<style scoped>\n",
       "    .dataframe tbody tr th:only-of-type {\n",
       "        vertical-align: middle;\n",
       "    }\n",
       "\n",
       "    .dataframe tbody tr th {\n",
       "        vertical-align: top;\n",
       "    }\n",
       "\n",
       "    .dataframe thead th {\n",
       "        text-align: right;\n",
       "    }\n",
       "</style>\n",
       "<table border=\"1\" class=\"dataframe\">\n",
       "  <thead>\n",
       "    <tr style=\"text-align: right;\">\n",
       "      <th></th>\n",
       "      <th>Group:</th>\n",
       "      <th>TestName</th>\n",
       "      <th>Test Purpose</th>\n",
       "      <th>stat</th>\n",
       "      <th>p</th>\n",
       "    </tr>\n",
       "  </thead>\n",
       "  <tbody>\n",
       "    <tr>\n",
       "      <th>0</th>\n",
       "      <td>A: ['Discount'] &gt; 0</td>\n",
       "      <td>normaltest</td>\n",
       "      <td>Normality</td>\n",
       "      <td>261.528012</td>\n",
       "      <td>1.621488e-57</td>\n",
       "    </tr>\n",
       "    <tr>\n",
       "      <th>1</th>\n",
       "      <td>B: ['Discount'] == 0</td>\n",
       "      <td>normaltest</td>\n",
       "      <td>Normality</td>\n",
       "      <td>544.577005</td>\n",
       "      <td>5.579637e-119</td>\n",
       "    </tr>\n",
       "    <tr>\n",
       "      <th>2</th>\n",
       "      <td>A&amp;B</td>\n",
       "      <td>stats.levene</td>\n",
       "      <td>Equal Var</td>\n",
       "      <td>14.832672</td>\n",
       "      <td>1.209138e-04</td>\n",
       "    </tr>\n",
       "  </tbody>\n",
       "</table>\n",
       "</div>"
      ],
      "text/plain": [
       "                 Group:      TestName Test Purpose        stat              p\n",
       "0   A: ['Discount'] > 0    normaltest    Normality  261.528012   1.621488e-57\n",
       "1  B: ['Discount'] == 0    normaltest    Normality  544.577005  5.579637e-119\n",
       "2                   A&B  stats.levene    Equal Var   14.832672   1.209138e-04"
      ]
     },
     "execution_count": 55,
     "metadata": {},
     "output_type": "execute_result"
    }
   ],
   "source": [
    "list2df(H1_tests)"
   ]
  },
  {
   "cell_type": "markdown",
   "metadata": {
    "colab_type": "text",
    "id": "Zq38mtURQaoN"
   },
   "source": [
    "### Conclusions so far...\n",
    "- We failed both normaltests and homo variance\n",
    "- Need non-parametric 2sample ttest\n",
    "    - [**Mann-Whitney U test**](https://docs.scipy.org/doc/scipy/reference/generated/scipy.stats.mannwhitneyu.html)"
   ]
  },
  {
   "cell_type": "code",
   "execution_count": 56,
   "metadata": {
    "colab": {},
    "colab_type": "code",
    "id": "NqYI47YbBRoY"
   },
   "outputs": [],
   "source": [
    "#### Mann-Whitney U test"
   ]
  },
  {
   "cell_type": "code",
   "execution_count": 57,
   "metadata": {
    "colab": {},
    "colab_type": "code",
    "id": "z0cdkzP5S9SX"
   },
   "outputs": [],
   "source": [
    "# Mann Whitney U test+\n",
    "import scipy.stats as stats\n",
    "# arrA was discounted, arrB was non-discounted\n",
    "test_to_run = 'stats.mannwhitneyu'\n",
    "stat, p = eval(test_to_run)(arrA,arrB,alternative='greater')\n",
    "stat, p\n",
    "H1_tests.append(['A vs. B',test_to_run, 'H1_sig', stat,p])"
   ]
  },
  {
   "cell_type": "code",
   "execution_count": 58,
   "metadata": {
    "colab": {},
    "colab_type": "code",
    "id": "v1CpLOgKTVMw"
   },
   "outputs": [],
   "source": [
    "list2df(H1_tests).round(4).to_csv('H1_tests_MWU.csv')\n",
    "# list2df(H1_tests)"
   ]
  },
  {
   "cell_type": "markdown",
   "metadata": {
    "colab_type": "text",
    "id": "sm80dpULk7OR"
   },
   "source": [
    "### TESTING TABLE METHODS"
   ]
  },
  {
   "cell_type": "code",
   "execution_count": 59,
   "metadata": {
    "colab": {
     "base_uri": "https://localhost:8080/",
     "height": 166
    },
    "colab_type": "code",
    "id": "WrSegcuukn_R",
    "outputId": "0e9ef995-1317-4622-c9d7-3a6c0458dbde"
   },
   "outputs": [
    {
     "data": {
      "text/html": [
       "<div>\n",
       "<style scoped>\n",
       "    .dataframe tbody tr th:only-of-type {\n",
       "        vertical-align: middle;\n",
       "    }\n",
       "\n",
       "    .dataframe tbody tr th {\n",
       "        vertical-align: top;\n",
       "    }\n",
       "\n",
       "    .dataframe thead th {\n",
       "        text-align: right;\n",
       "    }\n",
       "</style>\n",
       "<table border=\"1\" class=\"dataframe\">\n",
       "  <thead>\n",
       "    <tr style=\"text-align: right;\">\n",
       "      <th></th>\n",
       "      <th>Group:</th>\n",
       "      <th>TestName</th>\n",
       "      <th>Test Purpose</th>\n",
       "      <th>stat</th>\n",
       "      <th>p</th>\n",
       "    </tr>\n",
       "  </thead>\n",
       "  <tbody>\n",
       "    <tr>\n",
       "      <th>0</th>\n",
       "      <td>A: ['Discount'] &gt; 0</td>\n",
       "      <td>normaltest</td>\n",
       "      <td>Normality</td>\n",
       "      <td>261.5280</td>\n",
       "      <td>0.0000</td>\n",
       "    </tr>\n",
       "    <tr>\n",
       "      <th>1</th>\n",
       "      <td>B: ['Discount'] == 0</td>\n",
       "      <td>normaltest</td>\n",
       "      <td>Normality</td>\n",
       "      <td>544.5770</td>\n",
       "      <td>0.0000</td>\n",
       "    </tr>\n",
       "    <tr>\n",
       "      <th>2</th>\n",
       "      <td>A&amp;B</td>\n",
       "      <td>stats.levene</td>\n",
       "      <td>Equal Var</td>\n",
       "      <td>14.8327</td>\n",
       "      <td>0.0001</td>\n",
       "    </tr>\n",
       "    <tr>\n",
       "      <th>3</th>\n",
       "      <td>A vs. B</td>\n",
       "      <td>stats.mannwhitneyu</td>\n",
       "      <td>H1_sig</td>\n",
       "      <td>642105.0000</td>\n",
       "      <td>0.0000</td>\n",
       "    </tr>\n",
       "  </tbody>\n",
       "</table>\n",
       "</div>"
      ],
      "text/plain": [
       "                 Group:            TestName Test Purpose         stat       p\n",
       "0   A: ['Discount'] > 0          normaltest    Normality     261.5280  0.0000\n",
       "1  B: ['Discount'] == 0          normaltest    Normality     544.5770  0.0000\n",
       "2                   A&B        stats.levene    Equal Var      14.8327  0.0001\n",
       "3               A vs. B  stats.mannwhitneyu       H1_sig  642105.0000  0.0000"
      ]
     },
     "metadata": {},
     "output_type": "display_data"
    }
   ],
   "source": [
    "df_table= list2df(H1_tests).round(4)\n",
    "# dfH1_table.round(4).to_html('table.html')\n",
    "from IPython.display import display\n",
    "display(df_table)"
   ]
  },
  {
   "cell_type": "code",
   "execution_count": 60,
   "metadata": {
    "colab": {},
    "colab_type": "code",
    "id": "hiKBkkC6jgWk"
   },
   "outputs": [],
   "source": [
    "# import matplotlib.pyplot as plt\n",
    "# import pandas as pd\n",
    "# from pandas.tools.plotting import table\n",
    "# ax = plt.subplot(111,frame_on=False)\n",
    "# ax.xaxis.set_visible(False)\n",
    "# ax.yaxis.set_visible(False)\n",
    "\n",
    "# table(ax, list2df(H1_tests))"
   ]
  },
  {
   "cell_type": "markdown",
   "metadata": {
    "colab_type": "text",
    "id": "fhPYorQYBRof"
   },
   "source": [
    "#### Calculating Effect Size"
   ]
  },
  {
   "cell_type": "code",
   "execution_count": 61,
   "metadata": {
    "colab": {
     "base_uri": "https://localhost:8080/",
     "height": 33
    },
    "colab_type": "code",
    "id": "YNNnHq2TBRof",
    "outputId": "88dc9e65-3a16-4392-97e3-37a2c4acb969"
   },
   "outputs": [
    {
     "name": "stdout",
     "output_type": "stream",
     "text": [
      "Cohen's d=0.286\n"
     ]
    }
   ],
   "source": [
    "# Calculating Cohens d\n",
    "d = Cohen_d(arrA,arrB)\n",
    "print(f\"Cohen's d={round(d,3)}\")"
   ]
  },
  {
   "cell_type": "markdown",
   "metadata": {
    "colab_type": "text",
    "id": "SUw1pUtfYNy7"
   },
   "source": []
  },
  {
   "cell_type": "markdown",
   "metadata": {
    "colab_type": "text",
    "id": "wHEx112CTia4"
   },
   "source": [
    "**We have a significant Mann Whitney U results, but we have yet to say anything about**\n",
    "\n",
    "- We should now run post-hoc tests using pairwise Tukey's tests \n",
    "- Maybe best to run them so that the full price group is run vs the levels of discount pairwise (But not to test pairwise within the levels of discounts)"
   ]
  },
  {
   "cell_type": "markdown",
   "metadata": {
    "colab_type": "text",
    "id": "Tlxz4CgRBRoj"
   },
   "source": [
    "## ***H1, Aim 3: To perform post-hoc pairwise comparisons for level of discount***"
   ]
  },
  {
   "cell_type": "code",
   "execution_count": 62,
   "metadata": {
    "colab": {
     "base_uri": "https://localhost:8080/",
     "height": 375
    },
    "colab_type": "code",
    "id": "NmGwt-GyUDFF",
    "outputId": "eb7caf12-e80a-4cca-ea65-2b3499dfc092"
   },
   "outputs": [
    {
     "data": {
      "text/html": [
       "<div>\n",
       "<style scoped>\n",
       "    .dataframe tbody tr th:only-of-type {\n",
       "        vertical-align: middle;\n",
       "    }\n",
       "\n",
       "    .dataframe tbody tr th {\n",
       "        vertical-align: top;\n",
       "    }\n",
       "\n",
       "    .dataframe thead th {\n",
       "        text-align: right;\n",
       "    }\n",
       "</style>\n",
       "<table border=\"1\" class=\"dataframe\">\n",
       "  <thead>\n",
       "    <tr style=\"text-align: right;\">\n",
       "      <th></th>\n",
       "      <th>Discount</th>\n",
       "    </tr>\n",
       "  </thead>\n",
       "  <tbody>\n",
       "    <tr>\n",
       "      <th>0.00</th>\n",
       "      <td>1317</td>\n",
       "    </tr>\n",
       "    <tr>\n",
       "      <th>0.01</th>\n",
       "      <td>1</td>\n",
       "    </tr>\n",
       "    <tr>\n",
       "      <th>0.02</th>\n",
       "      <td>2</td>\n",
       "    </tr>\n",
       "    <tr>\n",
       "      <th>0.03</th>\n",
       "      <td>3</td>\n",
       "    </tr>\n",
       "    <tr>\n",
       "      <th>0.04</th>\n",
       "      <td>1</td>\n",
       "    </tr>\n",
       "    <tr>\n",
       "      <th>0.05</th>\n",
       "      <td>185</td>\n",
       "    </tr>\n",
       "    <tr>\n",
       "      <th>0.06</th>\n",
       "      <td>1</td>\n",
       "    </tr>\n",
       "    <tr>\n",
       "      <th>0.10</th>\n",
       "      <td>173</td>\n",
       "    </tr>\n",
       "    <tr>\n",
       "      <th>0.15</th>\n",
       "      <td>157</td>\n",
       "    </tr>\n",
       "    <tr>\n",
       "      <th>0.20</th>\n",
       "      <td>161</td>\n",
       "    </tr>\n",
       "    <tr>\n",
       "      <th>0.25</th>\n",
       "      <td>154</td>\n",
       "    </tr>\n",
       "  </tbody>\n",
       "</table>\n",
       "</div>"
      ],
      "text/plain": [
       "      Discount\n",
       "0.00      1317\n",
       "0.01         1\n",
       "0.02         2\n",
       "0.03         3\n",
       "0.04         1\n",
       "0.05       185\n",
       "0.06         1\n",
       "0.10       173\n",
       "0.15       157\n",
       "0.20       161\n",
       "0.25       154"
      ]
     },
     "execution_count": 62,
     "metadata": {},
     "output_type": "execute_result"
    }
   ],
   "source": [
    "pd.DataFrame(df['Discount'].value_counts().sort_index())"
   ]
  },
  {
   "cell_type": "code",
   "execution_count": 63,
   "metadata": {
    "colab": {
     "base_uri": "https://localhost:8080/",
     "height": 418
    },
    "colab_type": "code",
    "id": "0Vr2q4dFYdEe",
    "outputId": "202f3eee-bbf0-42eb-f20b-13e388f74f7a"
   },
   "outputs": [
    {
     "name": "stdout",
     "output_type": "stream",
     "text": [
      "<class 'pandas.core.frame.DataFrame'>\n",
      "Int64Index: 2155 entries, 0 to 2154\n",
      "Data columns (total 19 columns):\n",
      "Id                2155 non-null object\n",
      "OrderId           2155 non-null int64\n",
      "ProductId         2155 non-null int64\n",
      "UnitPrice         2155 non-null float64\n",
      "Quantity          2155 non-null int64\n",
      "Discount          2155 non-null float64\n",
      "CustomerId        2155 non-null object\n",
      "EmployeeId        2155 non-null int64\n",
      "OrderDate         2155 non-null object\n",
      "RequiredDate      2155 non-null object\n",
      "ShippedDate       2082 non-null object\n",
      "ShipVia           2155 non-null int64\n",
      "Freight           2155 non-null float64\n",
      "ShipName          2155 non-null object\n",
      "ShipAddress       2155 non-null object\n",
      "ShipCity          2155 non-null object\n",
      "ShipRegion        2155 non-null object\n",
      "ShipPostalCode    2100 non-null object\n",
      "ShipCountry       2155 non-null object\n",
      "dtypes: float64(3), int64(5), object(11)\n",
      "memory usage: 336.7+ KB\n"
     ]
    }
   ],
   "source": [
    "df.info()"
   ]
  },
  {
   "cell_type": "markdown",
   "metadata": {
    "colab_type": "text",
    "id": "sNKUUYlR7WDu"
   },
   "source": [
    "### Creating Discount Level Variables for Tukey\n",
    "- Adding LabelEncoding\n",
    "- Question: do we want to have \"None\" encoded? Not sure. Would need to replace the current np.NaN with \"NaN\" first or likely will return error"
   ]
  },
  {
   "cell_type": "code",
   "execution_count": 64,
   "metadata": {
    "colab": {
     "base_uri": "https://localhost:8080/",
     "height": 117
    },
    "colab_type": "code",
    "id": "C-DVFhJMk_yb",
    "outputId": "4db437b8-d400-4410-d8b1-97800ff9be0f"
   },
   "outputs": [
    {
     "data": {
      "text/plain": [
       "((Interval(-0.05, 0.0, closed='right'), 0),\n",
       " (Interval(0.0, 0.05, closed='right'), 1),\n",
       " (Interval(0.05, 0.1, closed='right'), 2),\n",
       " (Interval(0.1, 0.15, closed='right'), 3),\n",
       " (Interval(0.15, 0.2, closed='right'), 4),\n",
       " (Interval(0.2, 0.25, closed='right'), 5))"
      ]
     },
     "execution_count": 64,
     "metadata": {},
     "output_type": "execute_result"
    }
   ],
   "source": [
    "# intervalIndex = pd.IntervalIndex(())\n",
    "df_cut = df.copy().drop('Discount',axis=1)\n",
    "\n",
    "new_discounts = pd.cut(df['Discount'],[-0.05,0.0,0.05,0.10,0.15,0.20,0.25,0.3], include_lowest=False)\n",
    "new_discouts = new_discounts.cat.as_ordered(inplace=True)\n",
    "df_disc_codes  = new_discounts.cat.codes\n",
    "\n",
    "# Save code info for later\n",
    "disc_intervals = new_discounts.unique().sort_values()\n",
    "disc_codes = sorted(df_disc_codes.unique())\n",
    "\n",
    "# Save the intervals \n",
    "labelCodes = tuple(zip(disc_intervals,disc_codes))\n",
    "labelCodes"
   ]
  },
  {
   "cell_type": "code",
   "execution_count": 65,
   "metadata": {
    "colab": {
     "base_uri": "https://localhost:8080/",
     "height": 583
    },
    "colab_type": "code",
    "id": "OtMWYl-sp2qJ",
    "outputId": "6a8f7ce2-db3c-46f6-d25d-f4d3fbbd3546"
   },
   "outputs": [
    {
     "name": "stdout",
     "output_type": "stream",
     "text": [
      "<class 'pandas.core.frame.DataFrame'>\n",
      "Int64Index: 2155 entries, 0 to 2154\n",
      "Data columns (total 20 columns):\n",
      "Id                2155 non-null object\n",
      "OrderId           2155 non-null int64\n",
      "ProductId         2155 non-null int64\n",
      "UnitPrice         2155 non-null float64\n",
      "Quantity          2155 non-null int64\n",
      "CustomerId        2155 non-null object\n",
      "EmployeeId        2155 non-null int64\n",
      "OrderDate         2155 non-null object\n",
      "RequiredDate      2155 non-null object\n",
      "ShippedDate       2082 non-null object\n",
      "ShipVia           2155 non-null int64\n",
      "Freight           2155 non-null float64\n",
      "ShipName          2155 non-null object\n",
      "ShipAddress       2155 non-null object\n",
      "ShipCity          2155 non-null object\n",
      "ShipRegion        2155 non-null object\n",
      "ShipPostalCode    2100 non-null object\n",
      "ShipCountry       2155 non-null object\n",
      "Discount          2155 non-null category\n",
      "0                 2155 non-null int8\n",
      "dtypes: category(1), float64(2), int64(5), int8(1), object(11)\n",
      "memory usage: 324.2+ KB\n"
     ]
    },
    {
     "data": {
      "text/plain": [
       "[(-0.05, 0.0], (0.1, 0.15], (0.0, 0.05], (0.15, 0.2], (0.2, 0.25], (0.05, 0.1]]\n",
       "Categories (6, interval[float64]): [(-0.05, 0.0] < (0.0, 0.05] < (0.05, 0.1] < (0.1, 0.15] < (0.15, 0.2] < (0.2, 0.25]]"
      ]
     },
     "execution_count": 65,
     "metadata": {},
     "output_type": "execute_result"
    }
   ],
   "source": [
    "# Before encoding\n",
    "df_H1codes = pd.concat([df_cut,new_discounts,df_disc_codes],axis=1)\n",
    "df_H1codes.info()\n",
    "df_H1codes.Discount.unique()"
   ]
  },
  {
   "cell_type": "code",
   "execution_count": 66,
   "metadata": {
    "colab": {
     "base_uri": "https://localhost:8080/",
     "height": 350
    },
    "colab_type": "code",
    "id": "NIDghtaWjKKB",
    "outputId": "c7559a2f-ee69-45d2-ec0f-699d83f57290"
   },
   "outputs": [],
   "source": [
    "# colnames = list(df_H1codes.columns)\n",
    "# colnames[-1] = 'DiscSize'\n",
    "# df_H1codes.columns = colnames\n",
    "# df_H1codes.head()"
   ]
  },
  {
   "cell_type": "markdown",
   "metadata": {
    "colab_type": "text",
    "id": "Pq0W7aFQdt1O"
   },
   "source": [
    "### Use Tukey's Pairwise Multiple Comparison test.\n",
    "```statsmodels.stats.multicomp.pairwise_tukeyhsd```"
   ]
  },
  {
   "cell_type": "code",
   "execution_count": 67,
   "metadata": {
    "colab": {
     "base_uri": "https://localhost:8080/",
     "height": 351
    },
    "colab_type": "code",
    "id": "NSrS7lQajjJy",
    "outputId": "b12c5051-36cf-4634-ac83-d62c33606193"
   },
   "outputs": [
    {
     "name": "stdout",
     "output_type": "stream",
     "text": [
      "   Multiple Comparison of Means - Tukey HSD,FWER=0.05   \n",
      "========================================================\n",
      "   group1       group2   meandiff  lower   upper  reject\n",
      "--------------------------------------------------------\n",
      "(-0.05, 0.0] (0.0, 0.05]  5.3368   1.1841  9.4895  True \n",
      "(-0.05, 0.0] (0.05, 0.1]  3.3882  -0.9479  7.7243 False \n",
      "(-0.05, 0.0] (0.1, 0.15]  6.6669   2.1282 11.2056  True \n",
      "(-0.05, 0.0] (0.15, 0.2]  5.3096   0.8215  9.7977  True \n",
      "(-0.05, 0.0] (0.2, 0.25]  6.525    1.9469 11.1031  True \n",
      "(0.0, 0.05]  (0.05, 0.1] -1.9486  -7.5752  3.6779 False \n",
      "(0.0, 0.05]  (0.1, 0.15]  1.3301  -4.4541  7.1143 False \n",
      "(0.0, 0.05]  (0.15, 0.2] -0.0272  -5.7718  5.7173 False \n",
      "(0.0, 0.05]  (0.2, 0.25]  1.1882  -4.6269  7.0033 False \n",
      "(0.05, 0.1]  (0.1, 0.15]  3.2787  -2.6385  9.196  False \n",
      "(0.05, 0.1]  (0.15, 0.2]  1.9214  -3.9571  7.7999 False \n",
      "(0.05, 0.1]  (0.2, 0.25]  3.1368  -2.8106  9.0843 False \n",
      "(0.1, 0.15]  (0.15, 0.2] -1.3573  -7.3868  4.6722 False \n",
      "(0.1, 0.15]  (0.2, 0.25] -0.1419  -6.2387  5.9549 False \n",
      "(0.15, 0.2]  (0.2, 0.25]  1.2154  -4.8437  7.2746 False \n",
      "--------------------------------------------------------\n"
     ]
    }
   ],
   "source": [
    "# Importing tukey's test\n",
    "from statsmodels.stats.multicomp import pairwise_tukeyhsd as tukey\n",
    "int_str = [str(x) for x in new_discounts]\n",
    "\n",
    "tukey_results =tukey(df_H1codes['Quantity'], int_str, 0.05)\n",
    "print(tukey_results.summary())"
   ]
  },
  {
   "cell_type": "code",
   "execution_count": 68,
   "metadata": {},
   "outputs": [
    {
     "name": "stdout",
     "output_type": "stream",
     "text": [
      "<class 'pandas.core.frame.DataFrame'>\n",
      "Int64Index: 2155 entries, 0 to 2154\n",
      "Data columns (total 20 columns):\n",
      "Id                2155 non-null object\n",
      "OrderId           2155 non-null int64\n",
      "ProductId         2155 non-null int64\n",
      "UnitPrice         2155 non-null float64\n",
      "Quantity          2155 non-null int64\n",
      "CustomerId        2155 non-null object\n",
      "EmployeeId        2155 non-null int64\n",
      "OrderDate         2155 non-null object\n",
      "RequiredDate      2155 non-null object\n",
      "ShippedDate       2082 non-null object\n",
      "ShipVia           2155 non-null int64\n",
      "Freight           2155 non-null float64\n",
      "ShipName          2155 non-null object\n",
      "ShipAddress       2155 non-null object\n",
      "ShipCity          2155 non-null object\n",
      "ShipRegion        2155 non-null object\n",
      "ShipPostalCode    2100 non-null object\n",
      "ShipCountry       2155 non-null object\n",
      "Discount          2155 non-null category\n",
      "0                 2155 non-null int8\n",
      "dtypes: category(1), float64(2), int64(5), int8(1), object(11)\n",
      "memory usage: 324.2+ KB\n"
     ]
    }
   ],
   "source": [
    "df_H1codes.info()"
   ]
  },
  {
   "cell_type": "code",
   "execution_count": 69,
   "metadata": {},
   "outputs": [],
   "source": [
    "from scipy.stats import sem\n",
    "# fig = plt.figure()\n",
    "# ax = fig.add_subplot(111)\n",
    "\n",
    "H1_means = df_H1codes.groupby('Discount')['Quantity'].mean()\n",
    "H1_sem = df_H1codes.groupby('Discount')['Quantity'].sem()\n",
    "H1_std = df_H1codes.groupby('Discount')['Quantity'].std()\n",
    "H1_index = H1_means.index"
   ]
  },
  {
   "cell_type": "code",
   "execution_count": 70,
   "metadata": {},
   "outputs": [
    {
     "data": {
      "text/plain": [
       "CategoricalIndex([(-0.05, 0.0],  (0.0, 0.05],  (0.05, 0.1],  (0.1, 0.15],\n",
       "                   (0.15, 0.2],  (0.2, 0.25],  (0.25, 0.3]],\n",
       "                 categories=[(-0.05, 0.0], (0.0, 0.05], (0.05, 0.1], (0.1, 0.15], (0.15, 0.2], (0.2, 0.25], (0.25, 0.3]], ordered=True, name='Discount', dtype='category')"
      ]
     },
     "execution_count": 70,
     "metadata": {},
     "output_type": "execute_result"
    }
   ],
   "source": [
    "H1_index"
   ]
  },
  {
   "cell_type": "code",
   "execution_count": 71,
   "metadata": {},
   "outputs": [
    {
     "name": "stdout",
     "output_type": "stream",
     "text": [
      "<class 'pandas.core.frame.DataFrame'>\n",
      "CategoricalIndex: 7 entries, (-0.05, 0.0] to (0.25, 0.3]\n",
      "Data columns (total 5 columns):\n",
      "index     7 non-null category\n",
      "labels    7 non-null object\n",
      "mean      6 non-null float64\n",
      "sem       6 non-null float64\n",
      "std       6 non-null float64\n",
      "dtypes: category(1), float64(3), object(1)\n",
      "memory usage: 462.0+ bytes\n"
     ]
    },
    {
     "data": {
      "text/html": [
       "<div>\n",
       "<style scoped>\n",
       "    .dataframe tbody tr th:only-of-type {\n",
       "        vertical-align: middle;\n",
       "    }\n",
       "\n",
       "    .dataframe tbody tr th {\n",
       "        vertical-align: top;\n",
       "    }\n",
       "\n",
       "    .dataframe thead th {\n",
       "        text-align: right;\n",
       "    }\n",
       "</style>\n",
       "<table border=\"1\" class=\"dataframe\">\n",
       "  <thead>\n",
       "    <tr style=\"text-align: right;\">\n",
       "      <th></th>\n",
       "      <th>index</th>\n",
       "      <th>mean</th>\n",
       "      <th>sem</th>\n",
       "      <th>std</th>\n",
       "    </tr>\n",
       "    <tr>\n",
       "      <th>labels</th>\n",
       "      <th></th>\n",
       "      <th></th>\n",
       "      <th></th>\n",
       "      <th></th>\n",
       "    </tr>\n",
       "  </thead>\n",
       "  <tbody>\n",
       "    <tr>\n",
       "      <th>0 %</th>\n",
       "      <td>(-0.05, 0.0]</td>\n",
       "      <td>21.715262</td>\n",
       "      <td>0.482426</td>\n",
       "      <td>17.507493</td>\n",
       "    </tr>\n",
       "    <tr>\n",
       "      <th>&lt;=5 %</th>\n",
       "      <td>(0.0, 0.05]</td>\n",
       "      <td>27.052083</td>\n",
       "      <td>1.611625</td>\n",
       "      <td>22.331332</td>\n",
       "    </tr>\n",
       "    <tr>\n",
       "      <th>5-10 %</th>\n",
       "      <td>(0.05, 0.1]</td>\n",
       "      <td>25.103448</td>\n",
       "      <td>1.607054</td>\n",
       "      <td>21.198503</td>\n",
       "    </tr>\n",
       "    <tr>\n",
       "      <th>10-15 %</th>\n",
       "      <td>(0.1, 0.15]</td>\n",
       "      <td>28.382166</td>\n",
       "      <td>1.669845</td>\n",
       "      <td>20.923099</td>\n",
       "    </tr>\n",
       "    <tr>\n",
       "      <th>15-20 %</th>\n",
       "      <td>(0.15, 0.2]</td>\n",
       "      <td>27.024845</td>\n",
       "      <td>1.484233</td>\n",
       "      <td>18.832801</td>\n",
       "    </tr>\n",
       "    <tr>\n",
       "      <th>20-25 %</th>\n",
       "      <td>(0.2, 0.25]</td>\n",
       "      <td>28.240260</td>\n",
       "      <td>1.621362</td>\n",
       "      <td>20.120570</td>\n",
       "    </tr>\n",
       "    <tr>\n",
       "      <th>25-30 %</th>\n",
       "      <td>(0.25, 0.3]</td>\n",
       "      <td>NaN</td>\n",
       "      <td>NaN</td>\n",
       "      <td>NaN</td>\n",
       "    </tr>\n",
       "  </tbody>\n",
       "</table>\n",
       "</div>"
      ],
      "text/plain": [
       "                index       mean       sem        std\n",
       "labels                                               \n",
       "0 %      (-0.05, 0.0]  21.715262  0.482426  17.507493\n",
       "<=5 %     (0.0, 0.05]  27.052083  1.611625  22.331332\n",
       "5-10 %    (0.05, 0.1]  25.103448  1.607054  21.198503\n",
       "10-15 %   (0.1, 0.15]  28.382166  1.669845  20.923099\n",
       "15-20 %   (0.15, 0.2]  27.024845  1.484233  18.832801\n",
       "20-25 %   (0.2, 0.25]  28.240260  1.621362  20.120570\n",
       "25-30 %   (0.25, 0.3]        NaN       NaN        NaN"
      ]
     },
     "execution_count": 71,
     "metadata": {},
     "output_type": "execute_result"
    }
   ],
   "source": [
    "# H1_means.index\n",
    "xticklabels = ['0 %','<=5 %','5-10 %','10-15 %','15-20 %','20-25 %','25-30 %']\n",
    "plot_data = {'index':H1_index,'labels':xticklabels,'mean':H1_means,'sem':H1_sem,'std':H1_std}\n",
    "df_plot = pd.DataFrame.from_dict(plot_data,orient='columns')\n",
    "df_plot.info(), df_plot.set_index('labels',inplace=True)\n",
    "\n",
    "df_plot"
   ]
  },
  {
   "cell_type": "code",
   "execution_count": 72,
   "metadata": {},
   "outputs": [
    {
     "data": {
      "image/png": "[encoded data removed]",
      "text/plain": [
       "<Figure size 720x360 with 1 Axes>"
      ]
     },
     "metadata": {},
     "output_type": "display_data"
    }
   ],
   "source": [
    "with plt.style.context('dark_background'):\n",
    "    fig = plt.figure(figsize=(10,5))\n",
    "    ax = fig.add_subplot(1,1,1)\n",
    "    \n",
    "    color = ['red','orange','yellow','green','blue','indigo','violet']\n",
    "    \n",
    "    err_kws = {'ecolor': 'w', 'capsize':5,\n",
    "               'elinewidth': 2 ,'capthick': 2}\n",
    "    \n",
    "    fontTitle = {'fontfamily':'serif',\n",
    "               'fontweight':'medium',\n",
    "               'fontsize':16}\n",
    "    \n",
    "    fontAxis = {'fontfamily':'serif',\n",
    "               'fontweight':'medium',\n",
    "               'fontsize':12}\n",
    "    \n",
    "    ax.bar(x = df_plot.index,width=0.6, height = df_plot['mean'], yerr = df_plot['sem'], error_kw=err_kws,\n",
    "          edgecolor='white', linewidth = 2,color = color)\n",
    "    \n",
    "    ax.set_title('Quantities Purchased By Discount Size',fontdict=fontTitle)\n",
    "    ax.set_ylabel('Average Quantity',fontdict=fontAxis)\n",
    "    ax.set_xlabel('Discount Size', fontdict=fontAxis)\n",
    "    \n",
    "#     plt.tight_layout()\n",
    "    plt.show()"
   ]
  },
  {
   "cell_type": "code",
   "execution_count": 73,
   "metadata": {},
   "outputs": [],
   "source": [
    "# ## Uncomment this cell in order to save the image.\n",
    "# fig.savefig('H1_Avg_quantity_by_discount.png', dpi=300, frameon=True,facecolor='k')"
   ]
  },
  {
   "cell_type": "code",
   "execution_count": 74,
   "metadata": {
    "colab": {
     "base_uri": "https://localhost:8080/",
     "height": 166
    },
    "colab_type": "code",
    "id": "j6-3co5F1NWz",
    "outputId": "6cdf2fd8-811d-42a7-ce8c-5cb95ef019ba"
   },
   "outputs": [
    {
     "data": {
      "text/html": [
       "<div>\n",
       "<style scoped>\n",
       "    .dataframe tbody tr th:only-of-type {\n",
       "        vertical-align: middle;\n",
       "    }\n",
       "\n",
       "    .dataframe tbody tr th {\n",
       "        vertical-align: top;\n",
       "    }\n",
       "\n",
       "    .dataframe thead th {\n",
       "        text-align: right;\n",
       "    }\n",
       "</style>\n",
       "<table border=\"1\" class=\"dataframe\">\n",
       "  <thead>\n",
       "    <tr style=\"text-align: right;\">\n",
       "      <th></th>\n",
       "      <th>group1</th>\n",
       "      <th>group2</th>\n",
       "      <th>meandiff</th>\n",
       "      <th>lower</th>\n",
       "      <th>upper</th>\n",
       "      <th>reject</th>\n",
       "    </tr>\n",
       "  </thead>\n",
       "  <tbody>\n",
       "    <tr>\n",
       "      <th>0</th>\n",
       "      <td>(-0.05, 0.0]</td>\n",
       "      <td>(0.0, 0.05]</td>\n",
       "      <td>5.3368</td>\n",
       "      <td>1.1841</td>\n",
       "      <td>9.4895</td>\n",
       "      <td>True</td>\n",
       "    </tr>\n",
       "    <tr>\n",
       "      <th>2</th>\n",
       "      <td>(-0.05, 0.0]</td>\n",
       "      <td>(0.1, 0.15]</td>\n",
       "      <td>6.6669</td>\n",
       "      <td>2.1282</td>\n",
       "      <td>11.2056</td>\n",
       "      <td>True</td>\n",
       "    </tr>\n",
       "    <tr>\n",
       "      <th>3</th>\n",
       "      <td>(-0.05, 0.0]</td>\n",
       "      <td>(0.15, 0.2]</td>\n",
       "      <td>5.3096</td>\n",
       "      <td>0.8215</td>\n",
       "      <td>9.7977</td>\n",
       "      <td>True</td>\n",
       "    </tr>\n",
       "    <tr>\n",
       "      <th>4</th>\n",
       "      <td>(-0.05, 0.0]</td>\n",
       "      <td>(0.2, 0.25]</td>\n",
       "      <td>6.5250</td>\n",
       "      <td>1.9469</td>\n",
       "      <td>11.1031</td>\n",
       "      <td>True</td>\n",
       "    </tr>\n",
       "  </tbody>\n",
       "</table>\n",
       "</div>"
      ],
      "text/plain": [
       "         group1       group2  meandiff   lower    upper  reject\n",
       "0  (-0.05, 0.0]  (0.0, 0.05]    5.3368  1.1841   9.4895    True\n",
       "2  (-0.05, 0.0]  (0.1, 0.15]    6.6669  2.1282  11.2056    True\n",
       "3  (-0.05, 0.0]  (0.15, 0.2]    5.3096  0.8215   9.7977    True\n",
       "4  (-0.05, 0.0]  (0.2, 0.25]    6.5250  1.9469  11.1031    True"
      ]
     },
     "execution_count": 74,
     "metadata": {},
     "output_type": "execute_result"
    }
   ],
   "source": [
    "# Save the results into a dataframe\n",
    "dfH_tukey = pd.DataFrame(data=tukey_results._results_table.data[1:], columns=tukey_results._results_table.data[0])\n",
    "dfH_tukey.loc[dfH_tukey['reject']==True]"
   ]
  },
  {
   "cell_type": "markdown",
   "metadata": {
    "colab_type": "text",
    "id": "3JKcx3pw5_LK"
   },
   "source": [
    "## ***Conclusions for Hypothesis 1:***\n",
    "1. **We first used D'Agostino & Perason's test (normaltest) to check for normal distributions**\n",
    "    -  Both groups had p-values very far below our $\\alpha=0.05$  (Rows 0,1 below)\n",
    "        - We rejecteded the null hypothesis that the groups came from a populatiin with a normal distribtuion. \n",
    "2. **We tested for equal variances using Levene's test. **\n",
    "    - Level's test had a signifcant p-value, so we rejected the hypothesis that the groups have equal variances\n",
    "    \n",
    "3. **We then concluded we need a non-parametric 2-sample test, so we used the Mann-Whitney U test**. \n",
    "    -  Our comparison had a p-value less than .05\n",
    "    - We reject the null hypothesis that discounts do not affect quantities sold.\n",
    "\n"
   ]
  },
  {
   "cell_type": "code",
   "execution_count": 75,
   "metadata": {
    "colab": {
     "base_uri": "https://localhost:8080/",
     "height": 166
    },
    "colab_type": "code",
    "id": "qydzhcXa4dz3",
    "outputId": "08e93ff3-aaea-4ba5-a15b-3994e304edf4"
   },
   "outputs": [
    {
     "data": {
      "text/html": [
       "<div>\n",
       "<style scoped>\n",
       "    .dataframe tbody tr th:only-of-type {\n",
       "        vertical-align: middle;\n",
       "    }\n",
       "\n",
       "    .dataframe tbody tr th {\n",
       "        vertical-align: top;\n",
       "    }\n",
       "\n",
       "    .dataframe thead th {\n",
       "        text-align: right;\n",
       "    }\n",
       "</style>\n",
       "<table border=\"1\" class=\"dataframe\">\n",
       "  <thead>\n",
       "    <tr style=\"text-align: right;\">\n",
       "      <th></th>\n",
       "      <th>Group:</th>\n",
       "      <th>TestName</th>\n",
       "      <th>Test Purpose</th>\n",
       "      <th>stat</th>\n",
       "      <th>p</th>\n",
       "    </tr>\n",
       "  </thead>\n",
       "  <tbody>\n",
       "    <tr>\n",
       "      <th>0</th>\n",
       "      <td>A: ['Discount'] &gt; 0</td>\n",
       "      <td>normaltest</td>\n",
       "      <td>Normality</td>\n",
       "      <td>261.528012</td>\n",
       "      <td>1.621488e-57</td>\n",
       "    </tr>\n",
       "    <tr>\n",
       "      <th>1</th>\n",
       "      <td>B: ['Discount'] == 0</td>\n",
       "      <td>normaltest</td>\n",
       "      <td>Normality</td>\n",
       "      <td>544.577005</td>\n",
       "      <td>5.579637e-119</td>\n",
       "    </tr>\n",
       "    <tr>\n",
       "      <th>2</th>\n",
       "      <td>A&amp;B</td>\n",
       "      <td>stats.levene</td>\n",
       "      <td>Equal Var</td>\n",
       "      <td>14.832672</td>\n",
       "      <td>1.209138e-04</td>\n",
       "    </tr>\n",
       "    <tr>\n",
       "      <th>3</th>\n",
       "      <td>A vs. B</td>\n",
       "      <td>stats.mannwhitneyu</td>\n",
       "      <td>H1_sig</td>\n",
       "      <td>642105.000000</td>\n",
       "      <td>6.629382e-11</td>\n",
       "    </tr>\n",
       "  </tbody>\n",
       "</table>\n",
       "</div>"
      ],
      "text/plain": [
       "                 Group:            TestName Test Purpose           stat  \\\n",
       "0   A: ['Discount'] > 0          normaltest    Normality     261.528012   \n",
       "1  B: ['Discount'] == 0          normaltest    Normality     544.577005   \n",
       "2                   A&B        stats.levene    Equal Var      14.832672   \n",
       "3               A vs. B  stats.mannwhitneyu       H1_sig  642105.000000   \n",
       "\n",
       "               p  \n",
       "0   1.621488e-57  \n",
       "1  5.579637e-119  \n",
       "2   1.209138e-04  \n",
       "3   6.629382e-11  "
      ]
     },
     "execution_count": 75,
     "metadata": {},
     "output_type": "execute_result"
    }
   ],
   "source": [
    "\n",
    "H1_tests_table = list2df(H1_tests)\n",
    "H1_tests_table"
   ]
  },
  {
   "cell_type": "markdown",
   "metadata": {
    "colab_type": "text",
    "id": "Qcn4RlASByQm"
   },
   "source": [
    "4. **To determine which level of discounts had the largest effect, we performed a pairwise multiple comparison Tukey's test**. \n",
    "    - Our results showed that \n",
    "    "
   ]
  },
  {
   "cell_type": "code",
   "execution_count": 76,
   "metadata": {
    "colab": {
     "base_uri": "https://localhost:8080/",
     "height": 196
    },
    "colab_type": "code",
    "id": "Xlhygsxa9mML",
    "outputId": "e3dfc1e9-46df-45e7-b323-6b06bf791515"
   },
   "outputs": [
    {
     "data": {
      "text/html": [
       "<div>\n",
       "<style scoped>\n",
       "    .dataframe tbody tr th:only-of-type {\n",
       "        vertical-align: middle;\n",
       "    }\n",
       "\n",
       "    .dataframe tbody tr th {\n",
       "        vertical-align: top;\n",
       "    }\n",
       "\n",
       "    .dataframe thead th {\n",
       "        text-align: right;\n",
       "    }\n",
       "</style>\n",
       "<table border=\"1\" class=\"dataframe\">\n",
       "  <thead>\n",
       "    <tr style=\"text-align: right;\">\n",
       "      <th></th>\n",
       "      <th>group1</th>\n",
       "      <th>group2</th>\n",
       "      <th>meandiff</th>\n",
       "      <th>lower</th>\n",
       "      <th>upper</th>\n",
       "      <th>reject</th>\n",
       "    </tr>\n",
       "  </thead>\n",
       "  <tbody>\n",
       "    <tr>\n",
       "      <th>0</th>\n",
       "      <td>(-0.05, 0.0]</td>\n",
       "      <td>(0.0, 0.05]</td>\n",
       "      <td>5.3368</td>\n",
       "      <td>1.1841</td>\n",
       "      <td>9.4895</td>\n",
       "      <td>True</td>\n",
       "    </tr>\n",
       "    <tr>\n",
       "      <th>1</th>\n",
       "      <td>(-0.05, 0.0]</td>\n",
       "      <td>(0.05, 0.1]</td>\n",
       "      <td>3.3882</td>\n",
       "      <td>-0.9479</td>\n",
       "      <td>7.7243</td>\n",
       "      <td>False</td>\n",
       "    </tr>\n",
       "    <tr>\n",
       "      <th>2</th>\n",
       "      <td>(-0.05, 0.0]</td>\n",
       "      <td>(0.1, 0.15]</td>\n",
       "      <td>6.6669</td>\n",
       "      <td>2.1282</td>\n",
       "      <td>11.2056</td>\n",
       "      <td>True</td>\n",
       "    </tr>\n",
       "    <tr>\n",
       "      <th>3</th>\n",
       "      <td>(-0.05, 0.0]</td>\n",
       "      <td>(0.15, 0.2]</td>\n",
       "      <td>5.3096</td>\n",
       "      <td>0.8215</td>\n",
       "      <td>9.7977</td>\n",
       "      <td>True</td>\n",
       "    </tr>\n",
       "    <tr>\n",
       "      <th>4</th>\n",
       "      <td>(-0.05, 0.0]</td>\n",
       "      <td>(0.2, 0.25]</td>\n",
       "      <td>6.5250</td>\n",
       "      <td>1.9469</td>\n",
       "      <td>11.1031</td>\n",
       "      <td>True</td>\n",
       "    </tr>\n",
       "  </tbody>\n",
       "</table>\n",
       "</div>"
      ],
      "text/plain": [
       "         group1       group2  meandiff   lower    upper  reject\n",
       "0  (-0.05, 0.0]  (0.0, 0.05]    5.3368  1.1841   9.4895    True\n",
       "1  (-0.05, 0.0]  (0.05, 0.1]    3.3882 -0.9479   7.7243   False\n",
       "2  (-0.05, 0.0]  (0.1, 0.15]    6.6669  2.1282  11.2056    True\n",
       "3  (-0.05, 0.0]  (0.15, 0.2]    5.3096  0.8215   9.7977    True\n",
       "4  (-0.05, 0.0]  (0.2, 0.25]    6.5250  1.9469  11.1031    True"
      ]
     },
     "execution_count": 76,
     "metadata": {},
     "output_type": "execute_result"
    }
   ],
   "source": [
    "# Print JUST significant results\n",
    "dfH_tukey.loc[dfH_tukey['group1'] =='(-0.05, 0.0]']"
   ]
  },
  {
   "cell_type": "code",
   "execution_count": 77,
   "metadata": {
    "colab": {},
    "colab_type": "code",
    "id": "vp_RWWFBBRo6"
   },
   "outputs": [],
   "source": [
    "# Save results to new dataframe\n",
    "df_orig_save = df.copy()\n",
    "dfH1_save = dfH.copy()"
   ]
  },
  {
   "cell_type": "markdown",
   "metadata": {
    "colab_type": "text",
    "id": "P23rLwIWwwTC"
   },
   "source": [
    "___\n",
    "# **Hypothesis 2:**\n"
   ]
  },
  {
   "cell_type": "markdown",
   "metadata": {
    "colab_type": "text",
    "id": "eeQIJm_ESU6C"
   },
   "source": [
    "> **Do customers spend more money if they are buying discounted items?**\n",
    "\n",
    "- $H_1$: Customers spend more money overall when their order includes discounted items.\n",
    "\n",
    "- $H_0$: Customers spend the same amount regardless of discounted items. \n",
    "\n",
    "**Specific Aims:**\n",
    "\n",
    "* ***Aim 1:To select the proper dataset for analysis, perform EDA, and generate data groups for testing.***\n",
    "    - Used sqlalchemy and pandas.read_sql_query()\n",
    "    ```query = \"SELECT* FROM OrderDetails,\n",
    "            GROUPBY discount```\n",
    "\n",
    "* ***Aim 2: Select the appropriate t-test based on tests for the assumptions of normality and homogeneity of variance.***\n",
    "    1. **Test for Normality**\n",
    "        - D'Agostino-Pearson's normality test<br>\n",
    "        ```scipy.stats.normaltest```\n",
    "        - Shapiro-Wilik Test<br>\n",
    "        ```scipy.stats.shapiro```\n",
    "    2. **Test for Homogeneity of Variance**\n",
    "        - Levene's Test<br>\n",
    "         ```scipy.stats.levene```\n",
    "\n",
    "    3. **Choose appropriate test based upon 1. and 2.** <br> \n",
    "    \n",
    "    \n",
    "* ***Aim 3: To perform post-hoc painrwise comparison testing to determine which level of discounts affect quantity and if any discount has a greater effect than the others.***\n",
    "\n",
    "     - Tukey's test for multiple pairwise comparisons"
   ]
  },
  {
   "cell_type": "markdown",
   "metadata": {
    "colab_type": "text",
    "id": "m9GqTizvBRo8"
   },
   "source": [
    "_________\n",
    "## ***H2, Aim 1 : To select the proper dataset for analysis  and generate data groups for testing.***\n",
    "\n",
    "#### Importing Method\n",
    "- Used sqlalchemy to create engine to connect to Northwind_small.sqlite.\n",
    "- used ```pd.read_sql_query('SELECT * FROM OrderDetail',engine)``` to directly read db into df"
   ]
  },
  {
   "cell_type": "code",
   "execution_count": 78,
   "metadata": {
    "colab": {
     "base_uri": "https://localhost:8080/",
     "height": 170
    },
    "colab_type": "code",
    "id": "a_22M7dSftkZ",
    "outputId": "2e326aa5-00e0-4e9b-834c-596e2d839bfa"
   },
   "outputs": [
    {
     "name": "stdout",
     "output_type": "stream",
     "text": [
      "2019-04-08 00:51:49,472 INFO sqlalchemy.engine.base.Engine SELECT CAST('test plain returns' AS VARCHAR(60)) AS anon_1\n",
      "2019-04-08 00:51:49,473 INFO sqlalchemy.engine.base.Engine ()\n",
      "2019-04-08 00:51:49,475 INFO sqlalchemy.engine.base.Engine SELECT CAST('test unicode returns' AS VARCHAR(60)) AS anon_1\n",
      "2019-04-08 00:51:49,476 INFO sqlalchemy.engine.base.Engine ()\n",
      "2019-04-08 00:51:49,478 INFO sqlalchemy.engine.base.Engine SELECT name FROM sqlite_master WHERE type='table' ORDER BY name\n",
      "2019-04-08 00:51:49,479 INFO sqlalchemy.engine.base.Engine ()\n",
      "\n",
      " ['Category', 'Customer', 'CustomerCustomerDemo', 'CustomerDemographic', 'Employee', 'EmployeeTerritory', 'Order', 'OrderDetail', 'Product', 'Region', 'Shipper', 'Supplier', 'Territory']\n"
     ]
    }
   ],
   "source": [
    "# filepath = '/content/drive/My Drive/Colab Notebooks/datasets/Northwind_small.sqlite'\n",
    "# filepath = 'Northwind_small.sqlite'\n",
    "#-------------------\n",
    "# Testing minimal version of prior code\n",
    "import sqlite3\n",
    "from sqlalchemy import create_engine, inspect\n",
    "# from sqlalchemy import Table, Column, Integer, String, MetaData, ForeignKey,text, Float\n",
    "\n",
    "engine = create_engine('sqlite:///'+filepath,echo=True);\n",
    "inspector = inspect(engine);\n",
    "db_tables = inspector.get_table_names();\n",
    "print('\\n',db_tables);"
   ]
  },
  {
   "cell_type": "code",
   "execution_count": 79,
   "metadata": {
    "colab": {
     "base_uri": "https://localhost:8080/",
     "height": 230
    },
    "colab_type": "code",
    "id": "Mhf5gyVYHovd",
    "outputId": "82f51b7d-1e81-4f9e-82a0-a89a705feec7"
   },
   "outputs": [
    {
     "name": "stdout",
     "output_type": "stream",
     "text": [
      "2019-04-08 00:51:49,486 INFO sqlalchemy.engine.base.Engine SELECT * FROM OrderDetail\n",
      "2019-04-08 00:51:49,487 INFO sqlalchemy.engine.base.Engine ()\n"
     ]
    },
    {
     "data": {
      "text/html": [
       "<div>\n",
       "<style scoped>\n",
       "    .dataframe tbody tr th:only-of-type {\n",
       "        vertical-align: middle;\n",
       "    }\n",
       "\n",
       "    .dataframe tbody tr th {\n",
       "        vertical-align: top;\n",
       "    }\n",
       "\n",
       "    .dataframe thead th {\n",
       "        text-align: right;\n",
       "    }\n",
       "</style>\n",
       "<table border=\"1\" class=\"dataframe\">\n",
       "  <thead>\n",
       "    <tr style=\"text-align: right;\">\n",
       "      <th></th>\n",
       "      <th>Id</th>\n",
       "      <th>OrderId</th>\n",
       "      <th>ProductId</th>\n",
       "      <th>UnitPrice</th>\n",
       "      <th>Quantity</th>\n",
       "      <th>Discount</th>\n",
       "    </tr>\n",
       "  </thead>\n",
       "  <tbody>\n",
       "    <tr>\n",
       "      <th>0</th>\n",
       "      <td>10248/11</td>\n",
       "      <td>10248</td>\n",
       "      <td>11</td>\n",
       "      <td>14.0</td>\n",
       "      <td>12</td>\n",
       "      <td>0.0</td>\n",
       "    </tr>\n",
       "    <tr>\n",
       "      <th>1</th>\n",
       "      <td>10248/42</td>\n",
       "      <td>10248</td>\n",
       "      <td>42</td>\n",
       "      <td>9.8</td>\n",
       "      <td>10</td>\n",
       "      <td>0.0</td>\n",
       "    </tr>\n",
       "    <tr>\n",
       "      <th>2</th>\n",
       "      <td>10248/72</td>\n",
       "      <td>10248</td>\n",
       "      <td>72</td>\n",
       "      <td>34.8</td>\n",
       "      <td>5</td>\n",
       "      <td>0.0</td>\n",
       "    </tr>\n",
       "    <tr>\n",
       "      <th>3</th>\n",
       "      <td>10249/14</td>\n",
       "      <td>10249</td>\n",
       "      <td>14</td>\n",
       "      <td>18.6</td>\n",
       "      <td>9</td>\n",
       "      <td>0.0</td>\n",
       "    </tr>\n",
       "    <tr>\n",
       "      <th>4</th>\n",
       "      <td>10249/51</td>\n",
       "      <td>10249</td>\n",
       "      <td>51</td>\n",
       "      <td>42.4</td>\n",
       "      <td>40</td>\n",
       "      <td>0.0</td>\n",
       "    </tr>\n",
       "  </tbody>\n",
       "</table>\n",
       "</div>"
      ],
      "text/plain": [
       "         Id  OrderId  ProductId  UnitPrice  Quantity  Discount\n",
       "0  10248/11    10248         11       14.0        12       0.0\n",
       "1  10248/42    10248         42        9.8        10       0.0\n",
       "2  10248/72    10248         72       34.8         5       0.0\n",
       "3  10249/14    10249         14       18.6         9       0.0\n",
       "4  10249/51    10249         51       42.4        40       0.0"
      ]
     },
     "execution_count": 79,
     "metadata": {},
     "output_type": "execute_result"
    }
   ],
   "source": [
    "# We want to test hypothesis one, so we need OrderDetail table.\n",
    "table_to_test = \"OrderDetail\"\n",
    "df = pd.read_sql_query(\"SELECT * FROM OrderDetail\",  engine)\n",
    "df.head()"
   ]
  },
  {
   "cell_type": "markdown",
   "metadata": {
    "colab_type": "text",
    "id": "kSqmOZAHTcNQ"
   },
   "source": [
    "### Aim 1.1: Calculating order totals, adding discount groups"
   ]
  },
  {
   "cell_type": "code",
   "execution_count": 80,
   "metadata": {
    "colab": {
     "base_uri": "https://localhost:8080/",
     "height": 196
    },
    "colab_type": "code",
    "id": "05KbXlvlTvlt",
    "outputId": "6721abd7-a5e0-4f4c-9699-14e02f1d902a"
   },
   "outputs": [
    {
     "data": {
      "text/html": [
       "<div>\n",
       "<style scoped>\n",
       "    .dataframe tbody tr th:only-of-type {\n",
       "        vertical-align: middle;\n",
       "    }\n",
       "\n",
       "    .dataframe tbody tr th {\n",
       "        vertical-align: top;\n",
       "    }\n",
       "\n",
       "    .dataframe thead th {\n",
       "        text-align: right;\n",
       "    }\n",
       "</style>\n",
       "<table border=\"1\" class=\"dataframe\">\n",
       "  <thead>\n",
       "    <tr style=\"text-align: right;\">\n",
       "      <th></th>\n",
       "      <th>Id</th>\n",
       "      <th>OrderId</th>\n",
       "      <th>ProductId</th>\n",
       "      <th>UnitPrice</th>\n",
       "      <th>Quantity</th>\n",
       "      <th>Discount</th>\n",
       "      <th>price</th>\n",
       "      <th>OnSale</th>\n",
       "      <th>discounted_order</th>\n",
       "      <th>order_total</th>\n",
       "    </tr>\n",
       "  </thead>\n",
       "  <tbody>\n",
       "    <tr>\n",
       "      <th>0</th>\n",
       "      <td>10248/11</td>\n",
       "      <td>10248</td>\n",
       "      <td>11</td>\n",
       "      <td>14.0</td>\n",
       "      <td>12</td>\n",
       "      <td>0.0</td>\n",
       "      <td>168.0</td>\n",
       "      <td>0</td>\n",
       "      <td>0</td>\n",
       "      <td>440.0</td>\n",
       "    </tr>\n",
       "    <tr>\n",
       "      <th>1</th>\n",
       "      <td>10248/42</td>\n",
       "      <td>10248</td>\n",
       "      <td>42</td>\n",
       "      <td>9.8</td>\n",
       "      <td>10</td>\n",
       "      <td>0.0</td>\n",
       "      <td>98.0</td>\n",
       "      <td>0</td>\n",
       "      <td>0</td>\n",
       "      <td>440.0</td>\n",
       "    </tr>\n",
       "    <tr>\n",
       "      <th>2</th>\n",
       "      <td>10248/72</td>\n",
       "      <td>10248</td>\n",
       "      <td>72</td>\n",
       "      <td>34.8</td>\n",
       "      <td>5</td>\n",
       "      <td>0.0</td>\n",
       "      <td>174.0</td>\n",
       "      <td>0</td>\n",
       "      <td>0</td>\n",
       "      <td>440.0</td>\n",
       "    </tr>\n",
       "    <tr>\n",
       "      <th>3</th>\n",
       "      <td>10249/14</td>\n",
       "      <td>10249</td>\n",
       "      <td>14</td>\n",
       "      <td>18.6</td>\n",
       "      <td>9</td>\n",
       "      <td>0.0</td>\n",
       "      <td>167.4</td>\n",
       "      <td>0</td>\n",
       "      <td>0</td>\n",
       "      <td>1863.4</td>\n",
       "    </tr>\n",
       "    <tr>\n",
       "      <th>4</th>\n",
       "      <td>10249/51</td>\n",
       "      <td>10249</td>\n",
       "      <td>51</td>\n",
       "      <td>42.4</td>\n",
       "      <td>40</td>\n",
       "      <td>0.0</td>\n",
       "      <td>1696.0</td>\n",
       "      <td>0</td>\n",
       "      <td>0</td>\n",
       "      <td>1863.4</td>\n",
       "    </tr>\n",
       "  </tbody>\n",
       "</table>\n",
       "</div>"
      ],
      "text/plain": [
       "         Id  OrderId  ProductId  UnitPrice  Quantity  Discount   price  \\\n",
       "0  10248/11    10248         11       14.0        12       0.0   168.0   \n",
       "1  10248/42    10248         42        9.8        10       0.0    98.0   \n",
       "2  10248/72    10248         72       34.8         5       0.0   174.0   \n",
       "3  10249/14    10249         14       18.6         9       0.0   167.4   \n",
       "4  10249/51    10249         51       42.4        40       0.0  1696.0   \n",
       "\n",
       "   OnSale  discounted_order  order_total  \n",
       "0       0                 0        440.0  \n",
       "1       0                 0        440.0  \n",
       "2       0                 0        440.0  \n",
       "3       0                 0       1863.4  \n",
       "4       0                 0       1863.4  "
      ]
     },
     "execution_count": 80,
     "metadata": {},
     "output_type": "execute_result"
    }
   ],
   "source": [
    "# Source of df = pd.read_sql_query(\"SELECT * FROM OrderDetail\",  engine)\n",
    "\n",
    "# Define calc_product_review to add product price column\n",
    "def calc_product_price(row):\n",
    "    price = row['UnitPrice']*(1-row['Discount'])*row['Quantity']\n",
    "    row['price'] = price\n",
    "    if row['Discount']>0:\n",
    "        row['OnSale'] = 1\n",
    "    else:\n",
    "        row['OnSale'] = 0\n",
    "    return row    \n",
    "\n",
    "# Use calc_order_total to fill in order_total column\n",
    "def calc_order_total(row,df):\n",
    "    order = row['OrderId']\n",
    "    df_temp = df.groupby('OrderId').get_group(order)\n",
    "\n",
    "    \n",
    "    if any(df_temp['OnSale']):\n",
    "        row['discounted_order'] = 1\n",
    "    else:\n",
    "        row['discounted_order'] = 0\n",
    "    \n",
    "    order_total = df_temp['price'].sum()\n",
    "    row['order_total'] = order_total\n",
    "    \n",
    "    return row\n",
    "# Apply calc_product_price to every row \n",
    "df_price = df.apply(lambda x: calc_product_price(x),axis=1)\n",
    "# df_price['order_total'] = None\n",
    "\n",
    "\n",
    "# Apply_calc_order_total to every row\n",
    "df_price = df_price.apply(lambda x: calc_order_total(x,df_price), axis=1)  \n",
    "df_price.head()"
   ]
  },
  {
   "cell_type": "code",
   "execution_count": 81,
   "metadata": {
    "colab": {},
    "colab_type": "code",
    "id": "8sQvyJggXHDO"
   },
   "outputs": [],
   "source": [
    "df_export= df_price.copy().reset_index()\n",
    "# df_export['OnSale'].loc[df_export['OnSale']==False] = 0\n",
    "# df_export['OnSale'].loc[df_export['OnSale']==True] = 1\n",
    "\n",
    "# df_export['discounted_order'].loc[df_export['discounted_order']==False] = 0\n",
    "# df_export['discounted_order'].loc[df_export['discounted_order']==True] = 1\n",
    "\n",
    "# df_export.describe().round()\n",
    "# df_expo\n",
    "# df_export.to_csv('hypothesis_1_to_plot.csv')\n",
    "# import pandas as pd\n",
    "\n",
    "# df_export.to_csv('For Tableau- join_order_details_calc_total.csv')\n",
    "# df_export.to_excel('For Tableau- join_order_details_calc_total.xlsx')"
   ]
  },
  {
   "cell_type": "code",
   "execution_count": 82,
   "metadata": {
    "colab": {},
    "colab_type": "code",
    "id": "HDSxCjdrXOkE"
   },
   "outputs": [],
   "source": [
    "# import matplotlib\n",
    "# matplotlib.get_configdir()\n",
    "# plt.style.use('dark_backm')"
   ]
  },
  {
   "cell_type": "markdown",
   "metadata": {
    "colab_type": "text",
    "id": "mtDQUswqgxb0"
   },
   "source": [
    "## BOOKMARK: REPLACE FIGURE"
   ]
  },
  {
   "cell_type": "markdown",
   "metadata": {
    "colab_type": "text",
    "id": "tKIkrSUH7S95"
   },
   "source": [
    "### def plot_wide_kde_mean_sem_bar()"
   ]
  },
  {
   "cell_type": "code",
   "execution_count": null,
   "metadata": {},
   "outputs": [],
   "source": []
  },
  {
   "cell_type": "code",
   "execution_count": 83,
   "metadata": {},
   "outputs": [
    {
     "name": "stdout",
     "output_type": "stream",
     "text": [
      "Mean of Discounted: 1967.286576076555\n",
      " Mean of Full Price: 1748.1294774774774\n"
     ]
    },
    {
     "data": {
      "text/plain": [
       "<Figure size 432x288 with 0 Axes>"
      ]
     },
     "metadata": {},
     "output_type": "display_data"
    },
    {
     "data": {
      "image/png": "[encoded data removed]",
      "text/plain": [
       "<Figure size 720x360 with 2 Axes>"
      ]
     },
     "metadata": {},
     "output_type": "display_data"
    }
   ],
   "source": [
    "\n",
    "# Define groups\n",
    "# A: discounted df_price.groupby('discounted_order').get_group(1)\n",
    "# B: full price df_price.groupbt('discounted_order').get_group(0)\n",
    "grpA = df_price.groupby('discounted_order').get_group(1)\n",
    "grpB = df_price.groupby('discounted_order').get_group(0)\n",
    "\n",
    "\n",
    "fig, ax =plot_wide_kde_thin_bar(grpA['order_total'],'Discounted',grpB['order_total'],'Full Price')\n",
    "# fig.clip_box()\n",
    "fig.savefig('H2_KDE_Bar_Mean+sem.png',dpi=300,facecolor='k')"
   ]
  },
  {
   "cell_type": "code",
   "execution_count": 84,
   "metadata": {
    "colab": {
     "base_uri": "https://localhost:8080/",
     "height": 33
    },
    "colab_type": "code",
    "id": "-vzZZ4_Ik61w",
    "outputId": "5af64e49-2314-4ddf-a44e-3bf5b21a0d5b"
   },
   "outputs": [],
   "source": [
    "# pause\n",
    "# ax=fig.get_axes()\n",
    "# # ax[0].set_xlim([0, 15000])\n",
    "# # fig\n",
    "# # # # ax = fig.get_axes()\n",
    "# # # # xlabel = ax[0].get_xlabel()\n",
    "\n",
    "# # # # xl = xlabel.replace('_',' ').title()\n",
    "# # # # print(xl)\n",
    "\n",
    "# # # box = fig.get_clip_box()\n",
    "# # # print(box)\n"
   ]
  },
  {
   "cell_type": "markdown",
   "metadata": {
    "colab_type": "text",
    "id": "KzQo_3AAxHGj"
   },
   "source": [
    "### Aim 1.2: EDA on dataset \n"
   ]
  },
  {
   "cell_type": "code",
   "execution_count": 85,
   "metadata": {
    "colab": {
     "base_uri": "https://localhost:8080/",
     "height": 345
    },
    "colab_type": "code",
    "id": "d5hsveQvqptC",
    "outputId": "a4b347b7-0e1a-4338-ca51-3eb6960169f8"
   },
   "outputs": [
    {
     "name": "stdout",
     "output_type": "stream",
     "text": [
      "Mean of Full Price: 1748.1294774774774\n",
      " Mean of Discounted: 1967.286576076555\n"
     ]
    },
    {
     "data": {
      "text/plain": [
       "<Figure size 432x288 with 0 Axes>"
      ]
     },
     "metadata": {},
     "output_type": "display_data"
    },
    {
     "data": {
      "image/png": "[encoded data removed]",
      "text/plain": [
       "<Figure size 720x360 with 2 Axes>"
      ]
     },
     "metadata": {},
     "output_type": "display_data"
    }
   ],
   "source": [
    "import warnings\n",
    "warnings.filterwarnings(\"ignore\")\n",
    "# Define groups\n",
    "# A: discounted df_price.groupby('discounted_order').get_group(1)\n",
    "# B: full price df_price.groupbt('discounted_order').get_group(0)\n",
    "grpA = df_price.groupby('discounted_order').get_group(1)\n",
    "grpB = df_price.groupby('discounted_order').get_group(0)\n",
    "\n",
    "kwargs = {'title_var':'Order Totals'}\n",
    "fig, ax =plot_wide_kde_thin_bar(grpB['order_total'],'Full Price',grpA['order_total'],'Discounted',**kwargs)\n"
   ]
  },
  {
   "cell_type": "code",
   "execution_count": 86,
   "metadata": {
    "colab_type": "text",
    "id": "V5h8J1CXwlbO"
   },
   "outputs": [],
   "source": [
    "fig.savefig('H2_kde_bar_black.png',dpi=300,facecolor='k')"
   ]
  },
  {
   "cell_type": "code",
   "execution_count": 87,
   "metadata": {
    "colab": {
     "base_uri": "https://localhost:8080/",
     "height": 196
    },
    "colab_type": "code",
    "id": "6Nltea0kvYDT",
    "outputId": "8ff7d61c-faa7-4e45-cc52-2dccdb83f051"
   },
   "outputs": [
    {
     "data": {
      "text/html": [
       "<div>\n",
       "<style scoped>\n",
       "    .dataframe tbody tr th:only-of-type {\n",
       "        vertical-align: middle;\n",
       "    }\n",
       "\n",
       "    .dataframe tbody tr th {\n",
       "        vertical-align: top;\n",
       "    }\n",
       "\n",
       "    .dataframe thead th {\n",
       "        text-align: right;\n",
       "    }\n",
       "</style>\n",
       "<table border=\"1\" class=\"dataframe\">\n",
       "  <thead>\n",
       "    <tr style=\"text-align: right;\">\n",
       "      <th></th>\n",
       "      <th>OrderId</th>\n",
       "      <th>order_total</th>\n",
       "      <th>discounted_order</th>\n",
       "    </tr>\n",
       "  </thead>\n",
       "  <tbody>\n",
       "    <tr>\n",
       "      <th>0</th>\n",
       "      <td>10248.0</td>\n",
       "      <td>440.00</td>\n",
       "      <td>0.0</td>\n",
       "    </tr>\n",
       "    <tr>\n",
       "      <th>3</th>\n",
       "      <td>10249.0</td>\n",
       "      <td>1863.40</td>\n",
       "      <td>0.0</td>\n",
       "    </tr>\n",
       "    <tr>\n",
       "      <th>5</th>\n",
       "      <td>10250.0</td>\n",
       "      <td>1552.60</td>\n",
       "      <td>1.0</td>\n",
       "    </tr>\n",
       "    <tr>\n",
       "      <th>8</th>\n",
       "      <td>10251.0</td>\n",
       "      <td>654.06</td>\n",
       "      <td>1.0</td>\n",
       "    </tr>\n",
       "    <tr>\n",
       "      <th>11</th>\n",
       "      <td>10252.0</td>\n",
       "      <td>3597.90</td>\n",
       "      <td>1.0</td>\n",
       "    </tr>\n",
       "  </tbody>\n",
       "</table>\n",
       "</div>"
      ],
      "text/plain": [
       "    OrderId  order_total  discounted_order\n",
       "0   10248.0       440.00               0.0\n",
       "3   10249.0      1863.40               0.0\n",
       "5   10250.0      1552.60               1.0\n",
       "8   10251.0       654.06               1.0\n",
       "11  10252.0      3597.90               1.0"
      ]
     },
     "execution_count": 87,
     "metadata": {},
     "output_type": "execute_result"
    }
   ],
   "source": [
    "# 1 - Separating groups from dfH (dataframeHypothesis)\n",
    "df_temp = df_price[['OrderId','order_total','discounted_order']]\n",
    "\n",
    "unique_orders = df_temp['OrderId'].unique()\n",
    "\n",
    "len(unique_orders)\n",
    "keep_me=[['OrderId','order_total','discounted_order']]\n",
    "\n",
    "for u in unique_orders:\n",
    "#     grouped = dfH.groupby('OrderId').get_group(u)\n",
    "#     keep_me.append(grouped.iloc[0,:])\n",
    "    grouped_idx = df_temp.groupby('OrderId').get_group(u).index\n",
    "    keep_me.append(df_temp.loc[grouped_idx[0]])\n",
    "dfH = list2df(keep_me)\n",
    "dfH.head()"
   ]
  },
  {
   "cell_type": "code",
   "execution_count": 88,
   "metadata": {
    "colab": {
     "base_uri": "https://localhost:8080/",
     "height": 166
    },
    "colab_type": "code",
    "id": "BtsXbgtKBRpF",
    "outputId": "b24d380a-aa8b-4428-d8c0-81b33fa5ed13"
   },
   "outputs": [
    {
     "data": {
      "text/html": [
       "<div>\n",
       "<style scoped>\n",
       "    .dataframe tbody tr th:only-of-type {\n",
       "        vertical-align: middle;\n",
       "    }\n",
       "\n",
       "    .dataframe tbody tr th {\n",
       "        vertical-align: top;\n",
       "    }\n",
       "\n",
       "    .dataframe thead tr th {\n",
       "        text-align: left;\n",
       "    }\n",
       "\n",
       "    .dataframe thead tr:last-of-type th {\n",
       "        text-align: right;\n",
       "    }\n",
       "</style>\n",
       "<table border=\"1\" class=\"dataframe\">\n",
       "  <thead>\n",
       "    <tr>\n",
       "      <th></th>\n",
       "      <th colspan=\"8\" halign=\"left\">order_total</th>\n",
       "    </tr>\n",
       "    <tr>\n",
       "      <th></th>\n",
       "      <th>count</th>\n",
       "      <th>mean</th>\n",
       "      <th>std</th>\n",
       "      <th>min</th>\n",
       "      <th>25%</th>\n",
       "      <th>50%</th>\n",
       "      <th>75%</th>\n",
       "      <th>max</th>\n",
       "    </tr>\n",
       "    <tr>\n",
       "      <th>discounted_order</th>\n",
       "      <th></th>\n",
       "      <th></th>\n",
       "      <th></th>\n",
       "      <th></th>\n",
       "      <th></th>\n",
       "      <th></th>\n",
       "      <th></th>\n",
       "      <th></th>\n",
       "    </tr>\n",
       "  </thead>\n",
       "  <tbody>\n",
       "    <tr>\n",
       "      <th>0.0</th>\n",
       "      <td>450.0</td>\n",
       "      <td>1375.331844</td>\n",
       "      <td>1792.781223</td>\n",
       "      <td>12.5</td>\n",
       "      <td>360.25</td>\n",
       "      <td>810.25000</td>\n",
       "      <td>1731.67</td>\n",
       "      <td>15810.0</td>\n",
       "    </tr>\n",
       "    <tr>\n",
       "      <th>1.0</th>\n",
       "      <td>380.0</td>\n",
       "      <td>1702.351867</td>\n",
       "      <td>1892.448163</td>\n",
       "      <td>23.8</td>\n",
       "      <td>587.75</td>\n",
       "      <td>1244.88525</td>\n",
       "      <td>2027.91</td>\n",
       "      <td>16387.5</td>\n",
       "    </tr>\n",
       "  </tbody>\n",
       "</table>\n",
       "</div>"
      ],
      "text/plain": [
       "                 order_total                                          \\\n",
       "                       count         mean          std   min     25%   \n",
       "discounted_order                                                       \n",
       "0.0                    450.0  1375.331844  1792.781223  12.5  360.25   \n",
       "1.0                    380.0  1702.351867  1892.448163  23.8  587.75   \n",
       "\n",
       "                                                \n",
       "                         50%      75%      max  \n",
       "discounted_order                                \n",
       "0.0                810.25000  1731.67  15810.0  \n",
       "1.0               1244.88525  2027.91  16387.5  "
      ]
     },
     "execution_count": 88,
     "metadata": {},
     "output_type": "execute_result"
    }
   ],
   "source": [
    "dfH[['order_total','discounted_order']].groupby('discounted_order').describe()#.stack()"
   ]
  },
  {
   "cell_type": "code",
   "execution_count": 89,
   "metadata": {
    "colab": {
     "base_uri": "https://localhost:8080/",
     "height": 334
    },
    "colab_type": "code",
    "id": "3uGVTWbyBRpG",
    "outputId": "75ab3230-1c8c-4d72-c784-02798bdabac9"
   },
   "outputs": [
    {
     "data": {
      "text/plain": [
       "(            OrderId   order_total  discounted_order\n",
       " count    380.000000    380.000000             380.0\n",
       " mean   10659.555263   1702.351867               1.0\n",
       " std      234.869401   1892.448163               0.0\n",
       " min    10250.000000     23.800000               1.0\n",
       " 25%    10460.750000    587.750000               1.0\n",
       " 50%    10649.000000   1244.885250               1.0\n",
       " 75%    10854.250000   2027.910000               1.0\n",
       " max    11077.000000  16387.500000               1.0,\n",
       " '--------------------------------------------------',\n",
       "             OrderId   order_total  discounted_order\n",
       " count    450.000000    450.000000             450.0\n",
       " mean   10664.986667   1375.331844               0.0\n",
       " std      244.018656   1792.781223               0.0\n",
       " min    10248.000000     12.500000               0.0\n",
       " 25%    10447.250000    360.250000               0.0\n",
       " 50%    10678.500000    810.250000               0.0\n",
       " 75%    10884.500000   1731.670000               0.0\n",
       " max    11073.000000  15810.000000               0.0)"
      ]
     },
     "execution_count": 89,
     "metadata": {},
     "output_type": "execute_result"
    }
   ],
   "source": [
    "#Adding group definitions\n",
    "grpA = \"['discounted_order'] == True\"\n",
    "grpB = \"['discounted_order'] == False\"\n",
    "\n",
    "# Using eval to create df_A and df_B; will allow us to fill in our results \n",
    "# with the exact definitions of Group A and Group B\n",
    "df_A = eval(f'dfH.loc[dfH{grpA}]')\n",
    "df_B = eval(f'dfH.loc[dfH{grpB}]')\n",
    "\n",
    "# dfj_D = dfH.loc[dfj['Discount']>0] \n",
    "# dfj_F = dfH.loc[dfj['Discount']==0]\n",
    "df_A.describe(),'--'*25,df_B.describe()"
   ]
  },
  {
   "cell_type": "code",
   "execution_count": null,
   "metadata": {
    "colab": {},
    "colab_type": "code",
    "id": "LH-bkoSXqgBk"
   },
   "outputs": [],
   "source": []
  },
  {
   "cell_type": "markdown",
   "metadata": {
    "colab_type": "text",
    "id": "DZfc0jqTxeNA"
   },
   "source": [
    "## ***H2, Aim 2: Select the appropriate t-test based on tests for the assumptions of normality and homogeneity of variance.***"
   ]
  },
  {
   "cell_type": "code",
   "execution_count": 90,
   "metadata": {
    "colab": {},
    "colab_type": "code",
    "id": "6o7eXWHUvYDY"
   },
   "outputs": [],
   "source": [
    "# Adding table to collect summary statistics\n",
    "H2_tests = [['Group:','TestName','Test Purpose','stat','p']  ]"
   ]
  },
  {
   "cell_type": "markdown",
   "metadata": {
    "colab_type": "text",
    "id": "SaXaorm5BRpM"
   },
   "source": [
    "### Aim 2.1: Test for Normality"
   ]
  },
  {
   "cell_type": "code",
   "execution_count": 91,
   "metadata": {
    "colab": {
     "base_uri": "https://localhost:8080/",
     "height": 50
    },
    "colab_type": "code",
    "id": "HXMiuzjTvYDd",
    "outputId": "592a280b-0a3f-4a7d-f999-33db61823bca"
   },
   "outputs": [
    {
     "name": "stdout",
     "output_type": "stream",
     "text": [
      "A:stat=309.8566632385119, p=5.193743376505954e-68\n",
      "B:stat=368.4093987857893, p=1.0021102701214462e-80\n"
     ]
    }
   ],
   "source": [
    "# 2. Testing normality\n",
    "test_purpose = 'Normality'\n",
    "test_to_run = 'normaltest'\n",
    "\n",
    "arrA = np.array(df_A['order_total'])\n",
    "arrB = np.array(df_B['order_total'])\n",
    "\n",
    "statA, pA = eval(test_to_run)(arrA)\n",
    "statB, pB = eval(test_to_run)(arrB)\n",
    "\n",
    "print(f'A:stat={statA}, p={pA}')\n",
    "print(f'B:stat={statB}, p={pB}')\n",
    "\n",
    "H2_tests.append(['A: '+grpA,test_to_run,test_purpose,statA,pA])\n",
    "H2_tests.append(['B: '+grpB,test_to_run,test_purpose,statB,pB])\n",
    "# list2df(H1_tests)"
   ]
  },
  {
   "cell_type": "code",
   "execution_count": 92,
   "metadata": {
    "colab": {
     "base_uri": "https://localhost:8080/",
     "height": 107
    },
    "colab_type": "code",
    "id": "djdIF4bpvYDg",
    "outputId": "984f0b93-550e-457e-aab7-8aa0a6458e2e"
   },
   "outputs": [
    {
     "data": {
      "text/html": [
       "<div>\n",
       "<style scoped>\n",
       "    .dataframe tbody tr th:only-of-type {\n",
       "        vertical-align: middle;\n",
       "    }\n",
       "\n",
       "    .dataframe tbody tr th {\n",
       "        vertical-align: top;\n",
       "    }\n",
       "\n",
       "    .dataframe thead th {\n",
       "        text-align: right;\n",
       "    }\n",
       "</style>\n",
       "<table border=\"1\" class=\"dataframe\">\n",
       "  <thead>\n",
       "    <tr style=\"text-align: right;\">\n",
       "      <th></th>\n",
       "      <th>Group:</th>\n",
       "      <th>TestName</th>\n",
       "      <th>Test Purpose</th>\n",
       "      <th>stat</th>\n",
       "      <th>p</th>\n",
       "    </tr>\n",
       "  </thead>\n",
       "  <tbody>\n",
       "    <tr>\n",
       "      <th>0</th>\n",
       "      <td>A: ['discounted_order'] == True</td>\n",
       "      <td>normaltest</td>\n",
       "      <td>Normality</td>\n",
       "      <td>309.856663</td>\n",
       "      <td>5.193743e-68</td>\n",
       "    </tr>\n",
       "    <tr>\n",
       "      <th>1</th>\n",
       "      <td>B: ['discounted_order'] == False</td>\n",
       "      <td>normaltest</td>\n",
       "      <td>Normality</td>\n",
       "      <td>368.409399</td>\n",
       "      <td>1.002110e-80</td>\n",
       "    </tr>\n",
       "  </tbody>\n",
       "</table>\n",
       "</div>"
      ],
      "text/plain": [
       "                             Group:    TestName Test Purpose        stat  \\\n",
       "0   A: ['discounted_order'] == True  normaltest    Normality  309.856663   \n",
       "1  B: ['discounted_order'] == False  normaltest    Normality  368.409399   \n",
       "\n",
       "              p  \n",
       "0  5.193743e-68  \n",
       "1  1.002110e-80  "
      ]
     },
     "execution_count": 92,
     "metadata": {},
     "output_type": "execute_result"
    }
   ],
   "source": [
    "list2df(H2_tests)"
   ]
  },
  {
   "cell_type": "markdown",
   "metadata": {
    "colab_type": "text",
    "id": "T-RHTuiWBRpR"
   },
   "source": [
    "### Aim 2.2 Test for Homogeneity of Variance"
   ]
  },
  {
   "cell_type": "code",
   "execution_count": 93,
   "metadata": {
    "colab": {},
    "colab_type": "code",
    "id": "9GfzS_Vxxswy"
   },
   "outputs": [],
   "source": [
    "# 3. Test for homo var\n",
    "test_to_run = 'stats.levene'\n",
    "stat,p = eval(test_to_run)(arrA,arrB,center='median')\n",
    "\n",
    "H2_tests.append(['A&B',test_to_run,'Equal Var',stat,p])"
   ]
  },
  {
   "cell_type": "code",
   "execution_count": 94,
   "metadata": {
    "colab": {
     "base_uri": "https://localhost:8080/",
     "height": 137
    },
    "colab_type": "code",
    "id": "36BZIyyYxsw0",
    "outputId": "019d6ab7-21d2-44ab-c553-8ef459367dc7"
   },
   "outputs": [
    {
     "data": {
      "text/html": [
       "<div>\n",
       "<style scoped>\n",
       "    .dataframe tbody tr th:only-of-type {\n",
       "        vertical-align: middle;\n",
       "    }\n",
       "\n",
       "    .dataframe tbody tr th {\n",
       "        vertical-align: top;\n",
       "    }\n",
       "\n",
       "    .dataframe thead th {\n",
       "        text-align: right;\n",
       "    }\n",
       "</style>\n",
       "<table border=\"1\" class=\"dataframe\">\n",
       "  <thead>\n",
       "    <tr style=\"text-align: right;\">\n",
       "      <th></th>\n",
       "      <th>Group:</th>\n",
       "      <th>TestName</th>\n",
       "      <th>Test Purpose</th>\n",
       "      <th>stat</th>\n",
       "      <th>p</th>\n",
       "    </tr>\n",
       "  </thead>\n",
       "  <tbody>\n",
       "    <tr>\n",
       "      <th>0</th>\n",
       "      <td>A: ['discounted_order'] == True</td>\n",
       "      <td>normaltest</td>\n",
       "      <td>Normality</td>\n",
       "      <td>309.856663</td>\n",
       "      <td>5.193743e-68</td>\n",
       "    </tr>\n",
       "    <tr>\n",
       "      <th>1</th>\n",
       "      <td>B: ['discounted_order'] == False</td>\n",
       "      <td>normaltest</td>\n",
       "      <td>Normality</td>\n",
       "      <td>368.409399</td>\n",
       "      <td>1.002110e-80</td>\n",
       "    </tr>\n",
       "    <tr>\n",
       "      <th>2</th>\n",
       "      <td>A&amp;B</td>\n",
       "      <td>stats.levene</td>\n",
       "      <td>Equal Var</td>\n",
       "      <td>0.714267</td>\n",
       "      <td>3.982750e-01</td>\n",
       "    </tr>\n",
       "  </tbody>\n",
       "</table>\n",
       "</div>"
      ],
      "text/plain": [
       "                             Group:      TestName Test Purpose        stat  \\\n",
       "0   A: ['discounted_order'] == True    normaltest    Normality  309.856663   \n",
       "1  B: ['discounted_order'] == False    normaltest    Normality  368.409399   \n",
       "2                               A&B  stats.levene    Equal Var    0.714267   \n",
       "\n",
       "              p  \n",
       "0  5.193743e-68  \n",
       "1  1.002110e-80  \n",
       "2  3.982750e-01  "
      ]
     },
     "execution_count": 94,
     "metadata": {},
     "output_type": "execute_result"
    }
   ],
   "source": [
    "list2df(H2_tests)"
   ]
  },
  {
   "cell_type": "markdown",
   "metadata": {
    "colab_type": "text",
    "id": "0OCGqU7PyiIc"
   },
   "source": [
    "### Aim 2.3 Selecting the appropriate test to perform.\n",
    "- We failed both normaltests\n",
    "- We passed Levene's test for homo. of variance\n",
    "- Need non-parametric 2sample ttest\n",
    "    - [**Mann-Whitney U test**](https://docs.scipy.org/doc/scipy/reference/generated/scipy.stats.mannwhitneyu.html)"
   ]
  },
  {
   "cell_type": "markdown",
   "metadata": {
    "colab_type": "text",
    "id": "CxxTNQymBRpX"
   },
   "source": [
    "#### Mann-Whitney U test"
   ]
  },
  {
   "cell_type": "code",
   "execution_count": 95,
   "metadata": {
    "colab": {},
    "colab_type": "code",
    "id": "Yp7l-KeFyiIe"
   },
   "outputs": [],
   "source": [
    "# Mann Whitney U test+\n",
    "import scipy.stats as stats\n",
    "# arrA was discounted, arrB was non-discounted\n",
    "test_to_run = 'stats.mannwhitneyu'\n",
    "stat, p = eval(test_to_run)(arrA,arrB,alternative='greater')\n",
    "stat, p\n",
    "H2_tests.append(['A vs. B',test_to_run, 'H2_sig', stat,p])"
   ]
  },
  {
   "cell_type": "code",
   "execution_count": 96,
   "metadata": {
    "colab": {
     "base_uri": "https://localhost:8080/",
     "height": 166
    },
    "colab_type": "code",
    "id": "yg_MQfQEyiIh",
    "outputId": "bf10449d-ca12-4b0f-a380-4bc1b3c074c9"
   },
   "outputs": [
    {
     "data": {
      "text/html": [
       "<div>\n",
       "<style scoped>\n",
       "    .dataframe tbody tr th:only-of-type {\n",
       "        vertical-align: middle;\n",
       "    }\n",
       "\n",
       "    .dataframe tbody tr th {\n",
       "        vertical-align: top;\n",
       "    }\n",
       "\n",
       "    .dataframe thead th {\n",
       "        text-align: right;\n",
       "    }\n",
       "</style>\n",
       "<table border=\"1\" class=\"dataframe\">\n",
       "  <thead>\n",
       "    <tr style=\"text-align: right;\">\n",
       "      <th></th>\n",
       "      <th>Group:</th>\n",
       "      <th>TestName</th>\n",
       "      <th>Test Purpose</th>\n",
       "      <th>stat</th>\n",
       "      <th>p</th>\n",
       "    </tr>\n",
       "  </thead>\n",
       "  <tbody>\n",
       "    <tr>\n",
       "      <th>0</th>\n",
       "      <td>A: ['discounted_order'] == True</td>\n",
       "      <td>normaltest</td>\n",
       "      <td>Normality</td>\n",
       "      <td>309.856663</td>\n",
       "      <td>5.193743e-68</td>\n",
       "    </tr>\n",
       "    <tr>\n",
       "      <th>1</th>\n",
       "      <td>B: ['discounted_order'] == False</td>\n",
       "      <td>normaltest</td>\n",
       "      <td>Normality</td>\n",
       "      <td>368.409399</td>\n",
       "      <td>1.002110e-80</td>\n",
       "    </tr>\n",
       "    <tr>\n",
       "      <th>2</th>\n",
       "      <td>A&amp;B</td>\n",
       "      <td>stats.levene</td>\n",
       "      <td>Equal Var</td>\n",
       "      <td>0.714267</td>\n",
       "      <td>3.982750e-01</td>\n",
       "    </tr>\n",
       "    <tr>\n",
       "      <th>3</th>\n",
       "      <td>A vs. B</td>\n",
       "      <td>stats.mannwhitneyu</td>\n",
       "      <td>H2_sig</td>\n",
       "      <td>102021.000000</td>\n",
       "      <td>7.900897e-07</td>\n",
       "    </tr>\n",
       "  </tbody>\n",
       "</table>\n",
       "</div>"
      ],
      "text/plain": [
       "                             Group:            TestName Test Purpose  \\\n",
       "0   A: ['discounted_order'] == True          normaltest    Normality   \n",
       "1  B: ['discounted_order'] == False          normaltest    Normality   \n",
       "2                               A&B        stats.levene    Equal Var   \n",
       "3                           A vs. B  stats.mannwhitneyu       H2_sig   \n",
       "\n",
       "            stat             p  \n",
       "0     309.856663  5.193743e-68  \n",
       "1     368.409399  1.002110e-80  \n",
       "2       0.714267  3.982750e-01  \n",
       "3  102021.000000  7.900897e-07  "
      ]
     },
     "execution_count": 96,
     "metadata": {},
     "output_type": "execute_result"
    }
   ],
   "source": [
    "list2df(H2_tests)"
   ]
  },
  {
   "cell_type": "markdown",
   "metadata": {
    "colab_type": "text",
    "id": "w9BLLITiBRpb"
   },
   "source": [
    "#### Calculating Effect Size"
   ]
  },
  {
   "cell_type": "code",
   "execution_count": 97,
   "metadata": {
    "colab": {
     "base_uri": "https://localhost:8080/",
     "height": 33
    },
    "colab_type": "code",
    "id": "ZDS5WifXBRpd",
    "outputId": "9e11b135-4218-43c6-929d-9ac586a5dec7"
   },
   "outputs": [
    {
     "name": "stdout",
     "output_type": "stream",
     "text": [
      "Cohen's d=0.178\n"
     ]
    }
   ],
   "source": [
    "# Calculating Cohens d\n",
    "d = Cohen_d(arrA,arrB)\n",
    "print(f\"Cohen's d={round(d,3)}\")"
   ]
  },
  {
   "cell_type": "code",
   "execution_count": 98,
   "metadata": {
    "colab": {
     "base_uri": "https://localhost:8080/",
     "height": 468
    },
    "colab_type": "code",
    "id": "5DYTOgh-BRpf",
    "outputId": "0a44636d-7c57-4675-e6da-02d11906e8ed"
   },
   "outputs": [
    {
     "data": {
      "image/png": "[encoded data removed]",
      "text/plain": [
       "<Figure size 432x288 with 1 Axes>"
      ]
     },
     "metadata": {
      "needs_background": "light"
     },
     "output_type": "display_data"
    },
    {
     "name": "stdout",
     "output_type": "stream",
     "text": [
      "Normality: stat =106.21385355492637, p = 8.62888636430599e-24\n"
     ]
    }
   ],
   "source": [
    "# Plot the re-sampled data\n",
    "\n",
    "# # IF want to take smaller sample from population:\n",
    "\n",
    "# pop_samp_disc = np.random.choice(pop_samp_disc,1000)\n",
    "# pop_samp_full = np.random.choice(pop_samp_full, 1000)\n",
    "with plt.style.context(('tableau-colorblind10')):\n",
    "    fig = plt.figure()\n",
    "    \n",
    "    plt.title('Order Total  of Orders with Discounted Items vs Full Price')\n",
    "    \n",
    "    plt.hist(arrA,alpha = 0.5, bins=30,label='Discounted')\n",
    "    plt.hist(arrB,color='black', alpha = 0.5, bins=30,label='Full Price')\n",
    "\n",
    "    # Adding annotations\n",
    "    meanD = round(np.mean(arrA),3)\n",
    "    meanS = round(np.mean(arrB),3)\n",
    "    \n",
    "    plt.axvline(meanD, linestyle='--',label='Discounted Mean')\n",
    "    plt.text(meanD-1000,165,f'Mean:{meanD}',rotation=90)\n",
    "    \n",
    "    plt.axvline(meanS,color='k',linestyle='--',label='Full Price Mean')\n",
    "    plt.text(meanS+500,165,f'Mean:{meanS}',rotation=90)\n",
    "\n",
    "\n",
    "    plt.legend()\n",
    "    plt.show()\n",
    "\n",
    "# Run normality testing\n",
    "stat,p = normaltest(pop_samp_full)\n",
    "print(f'Normality: stat ={stat}, p = {p}')\n",
    "\n",
    "# Run ttest\n",
    "# tstat,tp = stats.ttest_ind(arrA, arrB)\n",
    "# print(f'T-test: stat ={tstat}, p = {tp}')#tstat,tp\n",
    "# ax.text("
   ]
  },
  {
   "cell_type": "markdown",
   "metadata": {
    "colab_type": "text",
    "id": "IrLcQDMPyiIl"
   },
   "source": [
    "### Conclusions for Hypothesis 2\n",
    "- We reject the null hypothesis that there is no effect of an order containing discounted items on the order total.\n",
    "- Cohen's d indicates it a small effect size."
   ]
  },
  {
   "cell_type": "markdown",
   "metadata": {
    "colab_type": "text",
    "id": "dBDZ_d_71Vat"
   },
   "source": [
    "# **Hypothesis 3**\n",
    "> **Does the time of year affect quantity of items sold?**\n",
    "\n",
    "- $H_1$ = The month an order is placed relates to either a higher or lower mean quantity of items sold.\n",
    "- $H_0$ = The month of an order has no affect on the mean quantity of items sold.\n",
    "\n",
    "<br>\n",
    "\n"
   ]
  },
  {
   "cell_type": "markdown",
   "metadata": {
    "colab_type": "text",
    "id": "7PaYTrUi1YH0"
   },
   "source": [
    "_________\n",
    "## ***H3, Aim 1.1 : To select the proper dataset for analyiss  and generate data groups for testing.***\n",
    "\n",
    "#### Importing Method\n",
    "- Use sqlalchemy to create engine to connect to Northwind_small.sqlite.\n",
    "ENTER YOUR SQL HERE\n"
   ]
  },
  {
   "cell_type": "code",
   "execution_count": 99,
   "metadata": {
    "colab": {
     "base_uri": "https://localhost:8080/",
     "height": 170
    },
    "colab_type": "code",
    "id": "flNBkgM2RY3-",
    "outputId": "f5748db3-0417-4028-e836-43ce8bc54986"
   },
   "outputs": [
    {
     "name": "stdout",
     "output_type": "stream",
     "text": [
      "2019-04-08 00:52:08,483 INFO sqlalchemy.engine.base.Engine SELECT CAST('test plain returns' AS VARCHAR(60)) AS anon_1\n",
      "2019-04-08 00:52:08,484 INFO sqlalchemy.engine.base.Engine ()\n",
      "2019-04-08 00:52:08,485 INFO sqlalchemy.engine.base.Engine SELECT CAST('test unicode returns' AS VARCHAR(60)) AS anon_1\n",
      "2019-04-08 00:52:08,485 INFO sqlalchemy.engine.base.Engine ()\n",
      "2019-04-08 00:52:08,487 INFO sqlalchemy.engine.base.Engine SELECT name FROM sqlite_master WHERE type='table' ORDER BY name\n",
      "2019-04-08 00:52:08,487 INFO sqlalchemy.engine.base.Engine ()\n",
      "['Category', 'Customer', 'CustomerCustomerDemo', 'CustomerDemographic', 'Employee', 'EmployeeTerritory', 'Order', 'OrderDetail', 'Product', 'Region', 'Shipper', 'Supplier', 'Territory']\n"
     ]
    }
   ],
   "source": [
    "# Import librairies\n",
    "import sqlalchemy\n",
    "from sqlalchemy import create_engine\n",
    "from sqlalchemy.orm import Session, sessionmaker\n",
    "\n",
    "# from google.colab import drive\n",
    "# drive.mount('/content/drive/', force_remount=True)\n",
    "\n",
    "# filepath = '/content/drive/My Drive/Colab Notebooks/datasets/Northwind_small.sqlite'\n",
    "filepath = 'Northwind_small.sqlite'\n",
    "engine = create_engine('sqlite:///'+filepath,echo=True)\n",
    "inspector = inspect(engine);\n",
    "\n",
    "# df_employee = pd.read_sql_query(\"SELECT Id, Title, LastName, HireDate , BirthDate  FROM [EMPLOYEE]\", engine )\n",
    "# df_cust_ord = pd.read_sql_query(\"SELECT *FROM [Order] JOIN [Customer] ON [Customer].Id = [Order].CustomerId\", engine)\n",
    "print(inspector.get_table_names())"
   ]
  },
  {
   "cell_type": "markdown",
   "metadata": {
    "colab_type": "text",
    "id": "-8M9eXYeYwMo"
   },
   "source": [
    "### Import tables and clean/combine"
   ]
  },
  {
   "cell_type": "code",
   "execution_count": 100,
   "metadata": {
    "colab": {
     "base_uri": "https://localhost:8080/",
     "height": 856
    },
    "colab_type": "code",
    "id": "gmZ-B9tLOIaj",
    "outputId": "6da34f0b-b8cd-41fd-b04c-e0e327d1cd87"
   },
   "outputs": [
    {
     "name": "stdout",
     "output_type": "stream",
     "text": [
      "2019-04-08 00:52:08,495 INFO sqlalchemy.engine.base.Engine SELECT name FROM sqlite_master WHERE type='table' ORDER BY name\n",
      "2019-04-08 00:52:08,496 INFO sqlalchemy.engine.base.Engine ()\n",
      "2019-04-08 00:52:08,497 INFO sqlalchemy.engine.base.Engine SELECT name FROM sqlite_master WHERE type='view' ORDER BY name\n",
      "2019-04-08 00:52:08,498 INFO sqlalchemy.engine.base.Engine ()\n",
      "2019-04-08 00:52:08,499 INFO sqlalchemy.engine.base.Engine PRAGMA table_info(\"Order\")\n",
      "2019-04-08 00:52:08,500 INFO sqlalchemy.engine.base.Engine ()\n",
      "2019-04-08 00:52:08,502 INFO sqlalchemy.engine.base.Engine SELECT sql FROM  (SELECT * FROM sqlite_master UNION ALL   SELECT * FROM sqlite_temp_master) WHERE name = 'Order' AND type = 'table'\n",
      "2019-04-08 00:52:08,503 INFO sqlalchemy.engine.base.Engine ()\n",
      "2019-04-08 00:52:08,504 INFO sqlalchemy.engine.base.Engine PRAGMA foreign_key_list(\"Order\")\n",
      "2019-04-08 00:52:08,504 INFO sqlalchemy.engine.base.Engine ()\n",
      "2019-04-08 00:52:08,505 INFO sqlalchemy.engine.base.Engine SELECT sql FROM  (SELECT * FROM sqlite_master UNION ALL   SELECT * FROM sqlite_temp_master) WHERE name = 'Order' AND type = 'table'\n",
      "2019-04-08 00:52:08,505 INFO sqlalchemy.engine.base.Engine ()\n",
      "2019-04-08 00:52:08,508 INFO sqlalchemy.engine.base.Engine PRAGMA index_list(\"Order\")\n",
      "2019-04-08 00:52:08,508 INFO sqlalchemy.engine.base.Engine ()\n",
      "2019-04-08 00:52:08,509 INFO sqlalchemy.engine.base.Engine PRAGMA index_list(\"Order\")\n",
      "2019-04-08 00:52:08,510 INFO sqlalchemy.engine.base.Engine ()\n",
      "2019-04-08 00:52:08,511 INFO sqlalchemy.engine.base.Engine SELECT sql FROM  (SELECT * FROM sqlite_master UNION ALL   SELECT * FROM sqlite_temp_master) WHERE name = 'Order' AND type = 'table'\n",
      "2019-04-08 00:52:08,511 INFO sqlalchemy.engine.base.Engine ()\n",
      "2019-04-08 00:52:08,515 INFO sqlalchemy.engine.base.Engine SELECT \"Order\".\"Id\", \"Order\".\"CustomerId\", \"Order\".\"EmployeeId\", \"Order\".\"OrderDate\", \"Order\".\"RequiredDate\", \"Order\".\"ShippedDate\", \"Order\".\"ShipVia\", \"Order\".\"Freight\", \"Order\".\"ShipName\", \"Order\".\"ShipAddress\", \"Order\".\"ShipCity\", \"Order\".\"ShipRegion\", \"Order\".\"ShipPostalCode\", \"Order\".\"ShipCountry\" \n",
      "FROM \"Order\"\n",
      "2019-04-08 00:52:08,516 INFO sqlalchemy.engine.base.Engine ()\n",
      "2019-04-08 00:52:08,535 INFO sqlalchemy.engine.base.Engine SELECT name FROM sqlite_master WHERE type='table' ORDER BY name\n",
      "2019-04-08 00:52:08,535 INFO sqlalchemy.engine.base.Engine ()\n",
      "2019-04-08 00:52:08,537 INFO sqlalchemy.engine.base.Engine SELECT name FROM sqlite_master WHERE type='view' ORDER BY name\n",
      "2019-04-08 00:52:08,538 INFO sqlalchemy.engine.base.Engine ()\n",
      "2019-04-08 00:52:08,540 INFO sqlalchemy.engine.base.Engine PRAGMA table_info(\"OrderDetail\")\n",
      "2019-04-08 00:52:08,540 INFO sqlalchemy.engine.base.Engine ()\n",
      "2019-04-08 00:52:08,542 INFO sqlalchemy.engine.base.Engine SELECT sql FROM  (SELECT * FROM sqlite_master UNION ALL   SELECT * FROM sqlite_temp_master) WHERE name = 'OrderDetail' AND type = 'table'\n",
      "2019-04-08 00:52:08,542 INFO sqlalchemy.engine.base.Engine ()\n",
      "2019-04-08 00:52:08,543 INFO sqlalchemy.engine.base.Engine PRAGMA foreign_key_list(\"OrderDetail\")\n",
      "2019-04-08 00:52:08,544 INFO sqlalchemy.engine.base.Engine ()\n",
      "2019-04-08 00:52:08,544 INFO sqlalchemy.engine.base.Engine SELECT sql FROM  (SELECT * FROM sqlite_master UNION ALL   SELECT * FROM sqlite_temp_master) WHERE name = 'OrderDetail' AND type = 'table'\n",
      "2019-04-08 00:52:08,545 INFO sqlalchemy.engine.base.Engine ()\n",
      "2019-04-08 00:52:08,546 INFO sqlalchemy.engine.base.Engine PRAGMA index_list(\"OrderDetail\")\n",
      "2019-04-08 00:52:08,546 INFO sqlalchemy.engine.base.Engine ()\n",
      "2019-04-08 00:52:08,547 INFO sqlalchemy.engine.base.Engine PRAGMA index_list(\"OrderDetail\")\n",
      "2019-04-08 00:52:08,548 INFO sqlalchemy.engine.base.Engine ()\n",
      "2019-04-08 00:52:08,549 INFO sqlalchemy.engine.base.Engine PRAGMA index_info(\"sqlite_autoindex_OrderDetail_1\")\n",
      "2019-04-08 00:52:08,549 INFO sqlalchemy.engine.base.Engine ()\n",
      "2019-04-08 00:52:08,551 INFO sqlalchemy.engine.base.Engine SELECT sql FROM  (SELECT * FROM sqlite_master UNION ALL   SELECT * FROM sqlite_temp_master) WHERE name = 'OrderDetail' AND type = 'table'\n",
      "2019-04-08 00:52:08,552 INFO sqlalchemy.engine.base.Engine ()\n",
      "2019-04-08 00:52:08,554 INFO sqlalchemy.engine.base.Engine SELECT \"OrderDetail\".\"Id\", \"OrderDetail\".\"OrderId\", \"OrderDetail\".\"ProductId\", \"OrderDetail\".\"UnitPrice\", \"OrderDetail\".\"Quantity\", \"OrderDetail\".\"Discount\" \n",
      "FROM \"OrderDetail\"\n",
      "2019-04-08 00:52:08,555 INFO sqlalchemy.engine.base.Engine ()\n",
      "DB_Order columns:Index(['Id', 'CustomerId', 'EmployeeId', 'OrderDate', 'RequiredDate',\n",
      "       'ShippedDate', 'ShipVia', 'Freight', 'ShipName', 'ShipAddress',\n",
      "       'ShipCity', 'ShipRegion', 'ShipPostalCode', 'ShipCountry'],\n",
      "      dtype='object')n\n",
      " DB_OrderDetail columns: Index(['Id', 'OrderId', 'ProductId', 'UnitPrice', 'Quantity', 'Discount'], dtype='object')\n"
     ]
    }
   ],
   "source": [
    "#JMI checking importing of tables\n",
    "DB_Order = pd.read_sql_table('Order',engine);\n",
    "DB_OrderDetail = pd.read_sql_table('OrderDetail',engine);\n",
    "print(f\"DB_Order columns:{DB_Order.columns}n\\n DB_OrderDetail columns: {DB_OrderDetail.columns}\")"
   ]
  },
  {
   "cell_type": "code",
   "execution_count": 101,
   "metadata": {
    "colab": {},
    "colab_type": "code",
    "id": "7q84Lj2EW0cj"
   },
   "outputs": [],
   "source": [
    "def df_drop_regex(DF, regex_list):\n",
    "    '''Use a list of regex to remove columns names. Returns new df.\n",
    "    \n",
    "    Parameters:\n",
    "        DF -- input dataframe to remove columns from.\n",
    "        regex_list -- list of string patterns or regexp to remove.\n",
    "    \n",
    "    Returns:\n",
    "        df_cut -- input df without the dropped columns. \n",
    "        '''\n",
    "    df_cut = DF.copy()\n",
    "    \n",
    "    for r in regex_list:\n",
    "        \n",
    "        df_cut = df_cut[df_cut.columns.drop(list(df_cut.filter(regex=r)))]\n",
    "        print(f'Removed {r}\\n')\n",
    "        \n",
    "    return df_cut"
   ]
  },
  {
   "cell_type": "code",
   "execution_count": 102,
   "metadata": {
    "colab": {
     "base_uri": "https://localhost:8080/",
     "height": 384
    },
    "colab_type": "code",
    "id": "mOvR5VevPGPP",
    "outputId": "b4360577-0dd3-43a7-f068-61adb5f915da"
   },
   "outputs": [
    {
     "name": "stdout",
     "output_type": "stream",
     "text": [
      "Removed Date\n",
      "\n",
      "Removed Freight\n",
      "\n"
     ]
    },
    {
     "data": {
      "text/html": [
       "<div>\n",
       "<style scoped>\n",
       "    .dataframe tbody tr th:only-of-type {\n",
       "        vertical-align: middle;\n",
       "    }\n",
       "\n",
       "    .dataframe tbody tr th {\n",
       "        vertical-align: top;\n",
       "    }\n",
       "\n",
       "    .dataframe thead th {\n",
       "        text-align: right;\n",
       "    }\n",
       "</style>\n",
       "<table border=\"1\" class=\"dataframe\">\n",
       "  <thead>\n",
       "    <tr style=\"text-align: right;\">\n",
       "      <th></th>\n",
       "      <th>OrderId</th>\n",
       "      <th>CustomerId</th>\n",
       "      <th>EmployeeId</th>\n",
       "      <th>OrderDate</th>\n",
       "      <th>ShipVia</th>\n",
       "      <th>ShipName</th>\n",
       "      <th>ShipAddress</th>\n",
       "      <th>ShipCity</th>\n",
       "      <th>ShipRegion</th>\n",
       "      <th>ShipPostalCode</th>\n",
       "      <th>ShipCountry</th>\n",
       "    </tr>\n",
       "  </thead>\n",
       "  <tbody>\n",
       "    <tr>\n",
       "      <th>0</th>\n",
       "      <td>10248</td>\n",
       "      <td>VINET</td>\n",
       "      <td>5</td>\n",
       "      <td>2012-07-04</td>\n",
       "      <td>3</td>\n",
       "      <td>Vins et alcools Chevalier</td>\n",
       "      <td>59 rue de l'Abbaye</td>\n",
       "      <td>Reims</td>\n",
       "      <td>Western Europe</td>\n",
       "      <td>51100</td>\n",
       "      <td>France</td>\n",
       "    </tr>\n",
       "    <tr>\n",
       "      <th>1</th>\n",
       "      <td>10249</td>\n",
       "      <td>TOMSP</td>\n",
       "      <td>6</td>\n",
       "      <td>2012-07-05</td>\n",
       "      <td>1</td>\n",
       "      <td>Toms Spezialitäten</td>\n",
       "      <td>Luisenstr. 48</td>\n",
       "      <td>Münster</td>\n",
       "      <td>Western Europe</td>\n",
       "      <td>44087</td>\n",
       "      <td>Germany</td>\n",
       "    </tr>\n",
       "    <tr>\n",
       "      <th>2</th>\n",
       "      <td>10250</td>\n",
       "      <td>HANAR</td>\n",
       "      <td>4</td>\n",
       "      <td>2012-07-08</td>\n",
       "      <td>2</td>\n",
       "      <td>Hanari Carnes</td>\n",
       "      <td>Rua do Paço, 67</td>\n",
       "      <td>Rio de Janeiro</td>\n",
       "      <td>South America</td>\n",
       "      <td>05454-876</td>\n",
       "      <td>Brazil</td>\n",
       "    </tr>\n",
       "    <tr>\n",
       "      <th>3</th>\n",
       "      <td>10251</td>\n",
       "      <td>VICTE</td>\n",
       "      <td>3</td>\n",
       "      <td>2012-07-08</td>\n",
       "      <td>1</td>\n",
       "      <td>Victuailles en stock</td>\n",
       "      <td>2, rue du Commerce</td>\n",
       "      <td>Lyon</td>\n",
       "      <td>Western Europe</td>\n",
       "      <td>69004</td>\n",
       "      <td>France</td>\n",
       "    </tr>\n",
       "    <tr>\n",
       "      <th>4</th>\n",
       "      <td>10252</td>\n",
       "      <td>SUPRD</td>\n",
       "      <td>4</td>\n",
       "      <td>2012-07-09</td>\n",
       "      <td>2</td>\n",
       "      <td>Suprêmes délices</td>\n",
       "      <td>Boulevard Tirou, 255</td>\n",
       "      <td>Charleroi</td>\n",
       "      <td>Western Europe</td>\n",
       "      <td>B-6000</td>\n",
       "      <td>Belgium</td>\n",
       "    </tr>\n",
       "  </tbody>\n",
       "</table>\n",
       "</div>"
      ],
      "text/plain": [
       "   OrderId CustomerId  EmployeeId   OrderDate  ShipVia  \\\n",
       "0    10248      VINET           5  2012-07-04        3   \n",
       "1    10249      TOMSP           6  2012-07-05        1   \n",
       "2    10250      HANAR           4  2012-07-08        2   \n",
       "3    10251      VICTE           3  2012-07-08        1   \n",
       "4    10252      SUPRD           4  2012-07-09        2   \n",
       "\n",
       "                    ShipName           ShipAddress        ShipCity  \\\n",
       "0  Vins et alcools Chevalier    59 rue de l'Abbaye           Reims   \n",
       "1         Toms Spezialitäten         Luisenstr. 48         Münster   \n",
       "2              Hanari Carnes       Rua do Paço, 67  Rio de Janeiro   \n",
       "3       Victuailles en stock    2, rue du Commerce            Lyon   \n",
       "4           Suprêmes délices  Boulevard Tirou, 255       Charleroi   \n",
       "\n",
       "       ShipRegion ShipPostalCode ShipCountry  \n",
       "0  Western Europe          51100      France  \n",
       "1  Western Europe          44087     Germany  \n",
       "2   South America      05454-876      Brazil  \n",
       "3  Western Europe          69004      France  \n",
       "4  Western Europe         B-6000     Belgium  "
      ]
     },
     "execution_count": 102,
     "metadata": {},
     "output_type": "execute_result"
    }
   ],
   "source": [
    "# TAKE  DB_Orderm rename index, remove unwanted columns\n",
    "DB_Order.rename({'Id':'OrderId','OrderDate':'OrderPlaced'},axis=1,inplace=True)\n",
    "\n",
    "# Drop unwanted columns from DB_Orde to make df_Order\n",
    "regex_to_drop = ['Date','Freight']\n",
    "\n",
    "df_Order = df_drop_regex(DB_Order, regex_to_drop)\n",
    "df_Order.rename({'OrderPlaced':'OrderDate'},axis=1,inplace=True)\n",
    "df_Order.head()"
   ]
  },
  {
   "cell_type": "code",
   "execution_count": null,
   "metadata": {
    "colab": {},
    "colab_type": "code",
    "id": "2xHb9mSVi3hA"
   },
   "outputs": [],
   "source": []
  },
  {
   "cell_type": "code",
   "execution_count": 103,
   "metadata": {
    "colab": {},
    "colab_type": "code",
    "id": "WAk83CU3ZT0h"
   },
   "outputs": [],
   "source": [
    "# MERGING IMPORT DB_OrderDetail and cleaned df_Order\n",
    "df_merged = DB_OrderDetail.merge(df_Order, on='OrderId',copy=True)"
   ]
  },
  {
   "cell_type": "code",
   "execution_count": 104,
   "metadata": {
    "colab": {
     "base_uri": "https://localhost:8080/",
     "height": 368
    },
    "colab_type": "code",
    "id": "9SgnDaDnafwe",
    "outputId": "81463de5-07dc-45ee-f542-8188583bd7a6"
   },
   "outputs": [
    {
     "name": "stdout",
     "output_type": "stream",
     "text": [
      "<class 'pandas.core.frame.DataFrame'>\n",
      "Int64Index: 2155 entries, 0 to 2154\n",
      "Data columns (total 16 columns):\n",
      "Id                2155 non-null object\n",
      "OrderId           2155 non-null int64\n",
      "ProductId         2155 non-null int64\n",
      "UnitPrice         2155 non-null float64\n",
      "Quantity          2155 non-null int64\n",
      "Discount          2155 non-null float64\n",
      "CustomerId        2155 non-null object\n",
      "EmployeeId        2155 non-null int64\n",
      "OrderDate         2155 non-null object\n",
      "ShipVia           2155 non-null int64\n",
      "ShipName          2155 non-null object\n",
      "ShipAddress       2155 non-null object\n",
      "ShipCity          2155 non-null object\n",
      "ShipRegion        2155 non-null object\n",
      "ShipPostalCode    2100 non-null object\n",
      "ShipCountry       2155 non-null object\n",
      "dtypes: float64(2), int64(5), object(9)\n",
      "memory usage: 286.2+ KB\n"
     ]
    }
   ],
   "source": [
    "df_order_geo = df_merged.copy()\n",
    "df_order_geo.info()\n"
   ]
  },
  {
   "cell_type": "code",
   "execution_count": 105,
   "metadata": {
    "colab": {},
    "colab_type": "code",
    "id": "f0ixD1WJM9rZ"
   },
   "outputs": [],
   "source": [
    "# df_order_geo.describe()"
   ]
  },
  {
   "cell_type": "code",
   "execution_count": 106,
   "metadata": {
    "colab": {},
    "colab_type": "code",
    "id": "kZrILqbzLakW"
   },
   "outputs": [],
   "source": [
    "# # Remove some columns from df_order_geo\n",
    "\n",
    "# df_order_geo.drop(['OrderId', 'ShipName', 'ShippedDate', 'RequiredDate', 'ShipVia','ShipAddress',\n",
    "#              'RequiredDate','ShippedDate', 'Freight'],inplace=True, axis=1)\n",
    "# # relabel the Id column so they have unique names\n",
    "# df_order_geo.rename(columns={'Id':'OrderId_'},inplace=True )\n",
    "# df_order_geo.info()\n",
    "# # print(f'df_ord.info():\\n {df_ord.info()}\\n\\ndf_order_geo.info():\\n{df_order_geo.info()}')\n"
   ]
  },
  {
   "cell_type": "code",
   "execution_count": 107,
   "metadata": {
    "colab": {
     "base_uri": "https://localhost:8080/",
     "height": 435
    },
    "colab_type": "code",
    "id": "xMsnQk78MlLi",
    "outputId": "e86c9ef9-0ed7-489c-c25a-c81fe1e5dfc4"
   },
   "outputs": [
    {
     "name": "stdout",
     "output_type": "stream",
     "text": [
      "<class 'pandas.core.frame.DataFrame'>\n",
      "Int64Index: 2155 entries, 0 to 2154\n",
      "Data columns (total 20 columns):\n",
      "Id                  2155 non-null object\n",
      "OrderId             2155 non-null int64\n",
      "ProductId           2155 non-null int64\n",
      "UnitPrice           2155 non-null float64\n",
      "Quantity            2155 non-null int64\n",
      "Discount            2155 non-null float64\n",
      "CustomerId          2155 non-null object\n",
      "EmployeeId          2155 non-null int64\n",
      "OrderDate           2155 non-null object\n",
      "ShipVia             2155 non-null int64\n",
      "ShipName            2155 non-null object\n",
      "ShipAddress         2155 non-null object\n",
      "ShipCity            2155 non-null object\n",
      "ShipRegion          2155 non-null object\n",
      "ShipPostalCode      2100 non-null object\n",
      "ShipCountry         2155 non-null object\n",
      "price               2155 non-null float64\n",
      "OnSale              2155 non-null int64\n",
      "discounted_order    2155 non-null int64\n",
      "order_total         2155 non-null float64\n",
      "dtypes: float64(4), int64(7), object(9)\n",
      "memory usage: 353.6+ KB\n"
     ]
    }
   ],
   "source": [
    "#Apply calc_product_price to every row \n",
    "df_price_geo = df_order_geo.apply(lambda x: calc_product_price(x),axis=1)\n",
    "\n",
    "# Apply_calc_order_total to every row\n",
    "df_price_geo = df_price_geo.apply(lambda x: calc_order_total(x,df_price_geo), axis=1)  \n",
    "df_price_geo.info()"
   ]
  },
  {
   "cell_type": "code",
   "execution_count": 108,
   "metadata": {
    "colab": {
     "base_uri": "https://localhost:8080/",
     "height": 67
    },
    "colab_type": "code",
    "id": "IHFWsYrQh5qU",
    "outputId": "023223eb-4cff-4d14-c6ae-987915551b56"
   },
   "outputs": [
    {
     "data": {
      "text/plain": [
       "max   2014-05-06\n",
       "min   2012-07-04\n",
       "Name: OrderDate, dtype: datetime64[ns]"
      ]
     },
     "execution_count": 108,
     "metadata": {},
     "output_type": "execute_result"
    }
   ],
   "source": [
    "#convert dates to datetime\n",
    "df_price_geo['OrderDate'] = pd.to_datetime(df_price_geo.OrderDate )\n",
    "df_price_geo.OrderDate.agg(['mean','max','min'])"
   ]
  },
  {
   "cell_type": "code",
   "execution_count": 109,
   "metadata": {
    "colab": {},
    "colab_type": "code",
    "id": "-nDormu4h5qX"
   },
   "outputs": [],
   "source": [
    "# concat two dfs\n",
    "# df_price = pd.concat([df_price, df_ord[['OrderDate']]], axis=1) #, 'EmployeeId', 'employee_title"
   ]
  },
  {
   "cell_type": "code",
   "execution_count": 110,
   "metadata": {
    "colab": {
     "base_uri": "https://localhost:8080/",
     "height": 468
    },
    "colab_type": "code",
    "id": "AprRVK06h5qZ",
    "outputId": "132a835e-71c0-4864-869b-d13ca6c44c47"
   },
   "outputs": [
    {
     "name": "stdout",
     "output_type": "stream",
     "text": [
      "<class 'pandas.core.frame.DataFrame'>\n",
      "Int64Index: 2155 entries, 0 to 2154\n",
      "Data columns (total 22 columns):\n",
      "Id                  2155 non-null object\n",
      "OrderId             2155 non-null int64\n",
      "ProductId           2155 non-null int64\n",
      "UnitPrice           2155 non-null float64\n",
      "Quantity            2155 non-null int64\n",
      "Discount            2155 non-null float64\n",
      "CustomerId          2155 non-null object\n",
      "EmployeeId          2155 non-null int64\n",
      "OrderDate           2155 non-null datetime64[ns]\n",
      "ShipVia             2155 non-null int64\n",
      "ShipName            2155 non-null object\n",
      "ShipAddress         2155 non-null object\n",
      "ShipCity            2155 non-null object\n",
      "ShipRegion          2155 non-null object\n",
      "ShipPostalCode      2100 non-null object\n",
      "ShipCountry         2155 non-null object\n",
      "price               2155 non-null float64\n",
      "OnSale              2155 non-null int64\n",
      "discounted_order    2155 non-null int64\n",
      "order_total         2155 non-null float64\n",
      "week_day            2155 non-null int64\n",
      "month               2155 non-null int64\n",
      "dtypes: datetime64[ns](1), float64(4), int64(9), object(8)\n",
      "memory usage: 387.2+ KB\n"
     ]
    }
   ],
   "source": [
    "#\n",
    "# create columns for day of week and month\n",
    "df_price_geo['OrderDate'] = pd.to_datetime(df_price_geo.OrderDate)\n",
    "\n",
    "df_price_geo['week_day'] = df_price_geo['OrderDate'].dt.dayofweek\n",
    "df_price_geo['month'] = df_price_geo['OrderDate'].dt.month\n",
    "\n",
    "df_price_geo.info()"
   ]
  },
  {
   "cell_type": "code",
   "execution_count": 111,
   "metadata": {
    "colab": {
     "base_uri": "https://localhost:8080/",
     "height": 234
    },
    "colab_type": "code",
    "id": "vDqA5Xe8jY8h",
    "outputId": "91e51550-e15b-4ae4-f2f8-9043c032d27e"
   },
   "outputs": [
    {
     "data": {
      "text/plain": [
       "apr    261\n",
       "mar    255\n",
       "jan    237\n",
       "feb    201\n",
       "dec    195\n",
       "oct    179\n",
       "nov    155\n",
       "may    155\n",
       "aug    153\n",
       "sep    152\n",
       "jul    136\n",
       "jun     76\n",
       "Name: month_name, dtype: int64"
      ]
     },
     "execution_count": 111,
     "metadata": {},
     "output_type": "execute_result"
    }
   ],
   "source": [
    "#make list of month names (strings) \n",
    "months = ['jan','feb', 'mar', 'apr', 'may' , 'jun', 'jul', 'aug', 'sep', 'oct', 'nov', 'dec']#creating label names\n",
    "# month_code =\n",
    "month_dict = dict(zip( list(range(1,len(months)+1)),months)) # zip the two into a dictionary\n",
    "\n",
    "# MAP THE MONTH_DICT ONTO NEW COLUMN month_name\n",
    "df_price_geo['month_name'] = df_price_geo['month'].map(month_dict)\n",
    "df_price_geo['month_name'].value_counts()"
   ]
  },
  {
   "cell_type": "code",
   "execution_count": 112,
   "metadata": {
    "colab": {
     "base_uri": "https://localhost:8080/",
     "height": 485
    },
    "colab_type": "code",
    "id": "_LQyDa6_lwJa",
    "outputId": "be6a9409-4362-43f5-cc53-67e534b9ab3b"
   },
   "outputs": [],
   "source": [
    "# df_price_geo.info()"
   ]
  },
  {
   "cell_type": "code",
   "execution_count": 113,
   "metadata": {
    "colab": {
     "base_uri": "https://localhost:8080/",
     "height": 33
    },
    "colab_type": "code",
    "id": "M9BSk8NMJMLi",
    "outputId": "a152bd95-791b-4a97-cc31-4e7aba9e0fef"
   },
   "outputs": [
    {
     "name": "stdout",
     "output_type": "stream",
     "text": [
      "The cell above is currently commented out, uncomment to export csv\n",
      "Would you like to export the dataframe above? (y/n)\n",
      "y\n",
      "df_price exported and saved as df_H3_price_w_dates_products.csv...\n",
      "if you are running this on Colab:...\n",
      "Open File sidebar, click Refresh, right click on df_H3_price_w_dates_products.csv to Download.\n",
      "if you are running this on Colab:...\n",
      "Open File sidebar, click Refresh, right click on df_H3_price_w_dates_orders.csv to Download.\n"
     ]
    }
   ],
   "source": [
    "print(f'The cell above is currently commented out, uncomment to export csv')\n",
    "# Ssave df_price_Geo \n",
    "save = input(prompt='Would you like to export the dataframe above? (y/n)\\n')\n",
    "if save.lower()=='y':\n",
    "    filename ='df_H3_price_w_dates_products.csv'\n",
    "    df_H3_price_w_dates_products = df_price_geo.copy()\n",
    "    df_H3_price_w_dates_products.to_csv(filename)\n",
    "    print(f'df_price exported and saved as {filename}...')\n",
    "    print(f'if you are running this on Colab:...\\nOpen File sidebar, click Refresh, right click on {filename} to Download.')\n",
    "    \n",
    "    filename ='df_H3_price_w_dates_orders.csv'\n",
    "    df_H3_price_w_dates_orders = df_H3_price_w_dates_products.drop_duplicates(subset=['OrderId'])\n",
    "    df_H3_price_w_dates_orders.to_csv(filename)\n",
    "    print(f'if you are running this on Colab:...\\nOpen File sidebar, click Refresh, right click on {filename} to Download.')\n",
    "\n",
    "else:\n",
    "    print('No .csv exported.')"
   ]
  },
  {
   "cell_type": "code",
   "execution_count": 114,
   "metadata": {
    "colab": {},
    "colab_type": "code",
    "id": "EaZSLM9pmVTc"
   },
   "outputs": [],
   "source": [
    "#- Adding df_year_orders = df_price_geo should ensure that the rest of mike's code runs\n",
    "df_year = df_price_geo.copy()\n",
    "df_year_orders = df_price_geo.drop_duplicates(subset=['OrderId']).copy()\n",
    "df_year_orders.set_index('OrderId',inplace=True,verify_integrity=True)\n",
    "# df_year_orders.info()"
   ]
  },
  {
   "cell_type": "code",
   "execution_count": 115,
   "metadata": {
    "colab": {
     "base_uri": "https://localhost:8080/",
     "height": 318
    },
    "colab_type": "code",
    "id": "WFi_GbL4BYUw",
    "outputId": "5074da99-d580-4c64-c5e4-b062c6c001d5"
   },
   "outputs": [
    {
     "name": "stdout",
     "output_type": "stream",
     "text": [
      "<class 'pandas.core.frame.DataFrame'>\n",
      "Int64Index: 830 entries, 10248 to 11077\n",
      "Data columns (total 13 columns):\n",
      "UnitPrice           830 non-null float64\n",
      "Quantity            830 non-null int64\n",
      "Discount            830 non-null float64\n",
      "CustomerId          830 non-null object\n",
      "OrderDate           830 non-null datetime64[ns]\n",
      "ShipCity            830 non-null object\n",
      "ShipPostalCode      811 non-null object\n",
      "ShipCountry         830 non-null object\n",
      "discounted_order    830 non-null int64\n",
      "order_total         830 non-null float64\n",
      "week_day            830 non-null int64\n",
      "month               830 non-null int64\n",
      "month_name          830 non-null object\n",
      "dtypes: datetime64[ns](1), float64(3), int64(4), object(5)\n",
      "memory usage: 90.8+ KB\n"
     ]
    }
   ],
   "source": [
    "# Drop unneeded and misleading formerly product-associated columns\n",
    "vars_to_drop = ['EmployeeId','ShipVia','ShipAddress','ShipRegion','ProductId','ShipName','Id','price','OnSale']\n",
    "df_year_orders.drop(vars_to_drop,axis=1,inplace=True)\n",
    "df_year_orders.info()"
   ]
  },
  {
   "cell_type": "markdown",
   "metadata": {
    "colab_type": "text",
    "id": "eOHvLslMTz2u"
   },
   "source": [
    "### EDA\n",
    " - define uselful functions for visualizations\n",
    " - Plotting and visualizing features"
   ]
  },
  {
   "cell_type": "markdown",
   "metadata": {
    "colab_type": "text",
    "id": "m-IJsfaeZShd"
   },
   "source": [
    "#### plot initial order totals by month"
   ]
  },
  {
   "cell_type": "code",
   "execution_count": 116,
   "metadata": {
    "colab": {},
    "colab_type": "code",
    "id": "vWUI5areZg83"
   },
   "outputs": [],
   "source": [
    "#declare variables to be plotted\n",
    "\n",
    "x = df_year_orders['month']\n",
    "y = df_year_orders['order_total']\n",
    "ticks = [v for v in month_dict.values()] \n",
    "title = 'Order totals per month with or without discounts'\n",
    "hue = df_year_orders['Discount']>0"
   ]
  },
  {
   "cell_type": "code",
   "execution_count": 117,
   "metadata": {
    "colab": {
     "base_uri": "https://localhost:8080/",
     "height": 892
    },
    "colab_type": "code",
    "id": "600QfjFUZo0N",
    "outputId": "76511f69-8584-4047-c785-549d312773fa"
   },
   "outputs": [],
   "source": [
    "# make_violinplot(x,y,title,hue, ticks)"
   ]
  },
  {
   "cell_type": "code",
   "execution_count": 118,
   "metadata": {
    "colab": {
     "base_uri": "https://localhost:8080/",
     "height": 564
    },
    "colab_type": "code",
    "id": "yKstXyROa-5y",
    "outputId": "6a9123c3-c733-4f05-a23f-ac71d6675757"
   },
   "outputs": [],
   "source": [
    "# make_stripplot(x,y,title,hue,ticks)"
   ]
  },
  {
   "cell_type": "markdown",
   "metadata": {
    "colab_type": "text",
    "id": "i4ODtjI71c03"
   },
   "source": [
    "## ***H3, Aim 2 : Test for assumptions of normality and equal variance, then choose test***\n",
    "---\n",
    "\n"
   ]
  },
  {
   "cell_type": "markdown",
   "metadata": {
    "colab_type": "text",
    "id": "xkFmrtPc1a8I"
   },
   "source": [
    "\n",
    "* ***Aim 2: Select the appropriate t-test based on tests for the assumptions of normality and homogeneity of variance.***\n",
    "    1. **Test for Normality**<br>\n",
    "        - [Normaltest/ D’Agostino and Pearson’s](https://docs.scipy.org/doc/scipy/reference/generated/scipy.stats.normaltest.html)\n",
    "<br>\n",
    "        ```scipy.stats.normaltest```\n",
    "        - Shapiro-Wilik Test<br>\n",
    "        ```scipy.stats.shapiro```\n",
    "    2. **Test for Homogeneity of Variance**<br>\n",
    "        - [Levene's Test](https://docs.scipy.org/doc/scipy-0.14.0/reference/generated/scipy.stats.levene.html)<br>         ```scipy.stats.levene```\n",
    "    3. **Choose appropriate test based upon 1. and 2.** \n",
    "        - [Mann Whitney U Test](https://docs.scipy.org/doc/scipy/reference/generated/scipy.stats.mannwhitneyu.html)<br>  - non parametric equivalent of ANOVA)<br>\n",
    "    ```stats.mannwhitneyu```<br>\n",
    "        - Normal: 2 sample t-test\n",
    "        - Welch's t-test (Jeff)\n",
    "        \n",
    "    4.  Calculate effect size, post-hoc tukeys tests.\n",
    "        - Effect size: [cohen's d](https://stackoverflow.com/questions/21532471/how-to-calculate-cohens-d-in-python)\n",
    "          \n",
    "* ***Aim 3: To perform post-hoc pairwise comparisons for level of discount***      \n",
    " \n",
    "     \n",
    "    6. If significant result, follow up with post-hoc tests\n",
    "        - [Tukey's] https://www.statsmodels.org/stable/generated/statsmodels.stats.multicomp.pairwise_tukeyhsd.html)\n",
    "        ```statsmodels.stats.multicomp.pairwise_tukeyhsd```\n"
   ]
  },
  {
   "cell_type": "markdown",
   "metadata": {
    "colab_type": "text",
    "id": "GFMslgjQqhPW"
   },
   "source": [
    "#### Histograms month vs all months"
   ]
  },
  {
   "cell_type": "code",
   "execution_count": 119,
   "metadata": {
    "colab": {
     "base_uri": "https://localhost:8080/",
     "height": 318
    },
    "colab_type": "code",
    "id": "_IgmmlODvphN",
    "outputId": "55d27cad-b13b-4e47-f0ca-3ee85abf81ae"
   },
   "outputs": [
    {
     "name": "stdout",
     "output_type": "stream",
     "text": [
      "<class 'pandas.core.frame.DataFrame'>\n",
      "Int64Index: 830 entries, 10248 to 11077\n",
      "Data columns (total 13 columns):\n",
      "UnitPrice           830 non-null float64\n",
      "Quantity            830 non-null int64\n",
      "Discount            830 non-null float64\n",
      "CustomerId          830 non-null object\n",
      "OrderDate           830 non-null datetime64[ns]\n",
      "ShipCity            830 non-null object\n",
      "ShipPostalCode      811 non-null object\n",
      "ShipCountry         830 non-null object\n",
      "discounted_order    830 non-null int64\n",
      "order_total         830 non-null float64\n",
      "week_day            830 non-null int64\n",
      "month               830 non-null int64\n",
      "month_name          830 non-null object\n",
      "dtypes: datetime64[ns](1), float64(3), int64(4), object(5)\n",
      "memory usage: 90.8+ KB\n"
     ]
    }
   ],
   "source": [
    "df_year_orders.info()"
   ]
  },
  {
   "cell_type": "code",
   "execution_count": 120,
   "metadata": {
    "colab": {},
    "colab_type": "code",
    "id": "rz4ikqv7BvGE"
   },
   "outputs": [],
   "source": [
    "# draw_histograms_from_sample(df_year_orders, 'month', month_dict, 4, 3)\n",
    "# df_year_orders[['Quantity','Discount','price','order_total']].describe()"
   ]
  },
  {
   "cell_type": "code",
   "execution_count": 121,
   "metadata": {
    "colab": {
     "base_uri": "https://localhost:8080/",
     "height": 514
    },
    "colab_type": "code",
    "id": "R0viFRByBym2",
    "outputId": "bd68cffc-6085-47cb-f811-a9e478427dff"
   },
   "outputs": [
    {
     "data": {
      "text/html": [
       "<div>\n",
       "<style scoped>\n",
       "    .dataframe tbody tr th:only-of-type {\n",
       "        vertical-align: middle;\n",
       "    }\n",
       "\n",
       "    .dataframe tbody tr th {\n",
       "        vertical-align: top;\n",
       "    }\n",
       "\n",
       "    .dataframe thead tr th {\n",
       "        text-align: left;\n",
       "    }\n",
       "\n",
       "    .dataframe thead tr:last-of-type th {\n",
       "        text-align: right;\n",
       "    }\n",
       "</style>\n",
       "<table border=\"1\" class=\"dataframe\">\n",
       "  <thead>\n",
       "    <tr>\n",
       "      <th></th>\n",
       "      <th colspan=\"5\" halign=\"left\">UnitPrice</th>\n",
       "      <th colspan=\"5\" halign=\"left\">Quantity</th>\n",
       "      <th>...</th>\n",
       "      <th colspan=\"5\" halign=\"left\">week_day</th>\n",
       "      <th colspan=\"5\" halign=\"left\">month</th>\n",
       "    </tr>\n",
       "    <tr>\n",
       "      <th></th>\n",
       "      <th>mean</th>\n",
       "      <th>std</th>\n",
       "      <th>min</th>\n",
       "      <th>max</th>\n",
       "      <th>count</th>\n",
       "      <th>mean</th>\n",
       "      <th>std</th>\n",
       "      <th>min</th>\n",
       "      <th>max</th>\n",
       "      <th>count</th>\n",
       "      <th>...</th>\n",
       "      <th>mean</th>\n",
       "      <th>std</th>\n",
       "      <th>min</th>\n",
       "      <th>max</th>\n",
       "      <th>count</th>\n",
       "      <th>mean</th>\n",
       "      <th>std</th>\n",
       "      <th>min</th>\n",
       "      <th>max</th>\n",
       "      <th>count</th>\n",
       "    </tr>\n",
       "    <tr>\n",
       "      <th>month_name</th>\n",
       "      <th></th>\n",
       "      <th></th>\n",
       "      <th></th>\n",
       "      <th></th>\n",
       "      <th></th>\n",
       "      <th></th>\n",
       "      <th></th>\n",
       "      <th></th>\n",
       "      <th></th>\n",
       "      <th></th>\n",
       "      <th></th>\n",
       "      <th></th>\n",
       "      <th></th>\n",
       "      <th></th>\n",
       "      <th></th>\n",
       "      <th></th>\n",
       "      <th></th>\n",
       "      <th></th>\n",
       "      <th></th>\n",
       "      <th></th>\n",
       "      <th></th>\n",
       "    </tr>\n",
       "  </thead>\n",
       "  <tbody>\n",
       "    <tr>\n",
       "      <th>apr</th>\n",
       "      <td>25.007905</td>\n",
       "      <td>22.271453</td>\n",
       "      <td>2.5</td>\n",
       "      <td>123.79</td>\n",
       "      <td>105</td>\n",
       "      <td>23.533333</td>\n",
       "      <td>18.802653</td>\n",
       "      <td>2</td>\n",
       "      <td>100</td>\n",
       "      <td>105</td>\n",
       "      <td>...</td>\n",
       "      <td>2.247619</td>\n",
       "      <td>1.984463</td>\n",
       "      <td>0</td>\n",
       "      <td>6</td>\n",
       "      <td>105</td>\n",
       "      <td>4</td>\n",
       "      <td>0.0</td>\n",
       "      <td>4</td>\n",
       "      <td>4</td>\n",
       "      <td>105</td>\n",
       "    </tr>\n",
       "    <tr>\n",
       "      <th>aug</th>\n",
       "      <td>26.153966</td>\n",
       "      <td>21.416484</td>\n",
       "      <td>2.0</td>\n",
       "      <td>123.79</td>\n",
       "      <td>58</td>\n",
       "      <td>21.413793</td>\n",
       "      <td>16.387880</td>\n",
       "      <td>1</td>\n",
       "      <td>100</td>\n",
       "      <td>58</td>\n",
       "      <td>...</td>\n",
       "      <td>2.293103</td>\n",
       "      <td>1.991285</td>\n",
       "      <td>0</td>\n",
       "      <td>6</td>\n",
       "      <td>58</td>\n",
       "      <td>8</td>\n",
       "      <td>0.0</td>\n",
       "      <td>8</td>\n",
       "      <td>8</td>\n",
       "      <td>58</td>\n",
       "    </tr>\n",
       "    <tr>\n",
       "      <th>dec</th>\n",
       "      <td>22.594937</td>\n",
       "      <td>22.746372</td>\n",
       "      <td>3.6</td>\n",
       "      <td>123.79</td>\n",
       "      <td>79</td>\n",
       "      <td>22.873418</td>\n",
       "      <td>17.150441</td>\n",
       "      <td>1</td>\n",
       "      <td>80</td>\n",
       "      <td>79</td>\n",
       "      <td>...</td>\n",
       "      <td>2.430380</td>\n",
       "      <td>2.181998</td>\n",
       "      <td>0</td>\n",
       "      <td>6</td>\n",
       "      <td>79</td>\n",
       "      <td>12</td>\n",
       "      <td>0.0</td>\n",
       "      <td>12</td>\n",
       "      <td>12</td>\n",
       "      <td>79</td>\n",
       "    </tr>\n",
       "    <tr>\n",
       "      <th>feb</th>\n",
       "      <td>24.440482</td>\n",
       "      <td>31.329334</td>\n",
       "      <td>4.5</td>\n",
       "      <td>263.50</td>\n",
       "      <td>83</td>\n",
       "      <td>24.349398</td>\n",
       "      <td>20.917045</td>\n",
       "      <td>3</td>\n",
       "      <td>120</td>\n",
       "      <td>83</td>\n",
       "      <td>...</td>\n",
       "      <td>2.421687</td>\n",
       "      <td>2.024969</td>\n",
       "      <td>0</td>\n",
       "      <td>6</td>\n",
       "      <td>83</td>\n",
       "      <td>2</td>\n",
       "      <td>0.0</td>\n",
       "      <td>2</td>\n",
       "      <td>2</td>\n",
       "      <td>83</td>\n",
       "    </tr>\n",
       "    <tr>\n",
       "      <th>jan</th>\n",
       "      <td>29.006818</td>\n",
       "      <td>38.054456</td>\n",
       "      <td>2.0</td>\n",
       "      <td>263.50</td>\n",
       "      <td>88</td>\n",
       "      <td>24.170455</td>\n",
       "      <td>19.499025</td>\n",
       "      <td>2</td>\n",
       "      <td>100</td>\n",
       "      <td>88</td>\n",
       "      <td>...</td>\n",
       "      <td>2.329545</td>\n",
       "      <td>1.957723</td>\n",
       "      <td>0</td>\n",
       "      <td>6</td>\n",
       "      <td>88</td>\n",
       "      <td>1</td>\n",
       "      <td>0.0</td>\n",
       "      <td>1</td>\n",
       "      <td>1</td>\n",
       "      <td>88</td>\n",
       "    </tr>\n",
       "    <tr>\n",
       "      <th>jul</th>\n",
       "      <td>27.470545</td>\n",
       "      <td>37.793881</td>\n",
       "      <td>2.0</td>\n",
       "      <td>263.50</td>\n",
       "      <td>55</td>\n",
       "      <td>22.872727</td>\n",
       "      <td>17.372876</td>\n",
       "      <td>3</td>\n",
       "      <td>70</td>\n",
       "      <td>55</td>\n",
       "      <td>...</td>\n",
       "      <td>2.327273</td>\n",
       "      <td>2.028086</td>\n",
       "      <td>0</td>\n",
       "      <td>6</td>\n",
       "      <td>55</td>\n",
       "      <td>7</td>\n",
       "      <td>0.0</td>\n",
       "      <td>7</td>\n",
       "      <td>7</td>\n",
       "      <td>55</td>\n",
       "    </tr>\n",
       "    <tr>\n",
       "      <th>jun</th>\n",
       "      <td>23.742667</td>\n",
       "      <td>22.215527</td>\n",
       "      <td>2.5</td>\n",
       "      <td>123.79</td>\n",
       "      <td>30</td>\n",
       "      <td>21.100000</td>\n",
       "      <td>13.727270</td>\n",
       "      <td>4</td>\n",
       "      <td>60</td>\n",
       "      <td>30</td>\n",
       "      <td>...</td>\n",
       "      <td>2.500000</td>\n",
       "      <td>2.208916</td>\n",
       "      <td>0</td>\n",
       "      <td>6</td>\n",
       "      <td>30</td>\n",
       "      <td>6</td>\n",
       "      <td>0.0</td>\n",
       "      <td>6</td>\n",
       "      <td>6</td>\n",
       "      <td>30</td>\n",
       "    </tr>\n",
       "    <tr>\n",
       "      <th>mar</th>\n",
       "      <td>27.081068</td>\n",
       "      <td>35.097423</td>\n",
       "      <td>2.0</td>\n",
       "      <td>263.50</td>\n",
       "      <td>103</td>\n",
       "      <td>22.757282</td>\n",
       "      <td>17.413915</td>\n",
       "      <td>1</td>\n",
       "      <td>84</td>\n",
       "      <td>103</td>\n",
       "      <td>...</td>\n",
       "      <td>2.485437</td>\n",
       "      <td>2.186698</td>\n",
       "      <td>0</td>\n",
       "      <td>6</td>\n",
       "      <td>103</td>\n",
       "      <td>3</td>\n",
       "      <td>0.0</td>\n",
       "      <td>3</td>\n",
       "      <td>3</td>\n",
       "      <td>103</td>\n",
       "    </tr>\n",
       "    <tr>\n",
       "      <th>may</th>\n",
       "      <td>24.300435</td>\n",
       "      <td>11.071452</td>\n",
       "      <td>4.5</td>\n",
       "      <td>55.00</td>\n",
       "      <td>46</td>\n",
       "      <td>21.478261</td>\n",
       "      <td>17.649349</td>\n",
       "      <td>2</td>\n",
       "      <td>77</td>\n",
       "      <td>46</td>\n",
       "      <td>...</td>\n",
       "      <td>2.500000</td>\n",
       "      <td>2.116076</td>\n",
       "      <td>0</td>\n",
       "      <td>6</td>\n",
       "      <td>46</td>\n",
       "      <td>5</td>\n",
       "      <td>0.0</td>\n",
       "      <td>5</td>\n",
       "      <td>5</td>\n",
       "      <td>46</td>\n",
       "    </tr>\n",
       "    <tr>\n",
       "      <th>nov</th>\n",
       "      <td>22.942373</td>\n",
       "      <td>27.842115</td>\n",
       "      <td>3.6</td>\n",
       "      <td>210.80</td>\n",
       "      <td>59</td>\n",
       "      <td>22.474576</td>\n",
       "      <td>15.366057</td>\n",
       "      <td>3</td>\n",
       "      <td>70</td>\n",
       "      <td>59</td>\n",
       "      <td>...</td>\n",
       "      <td>2.457627</td>\n",
       "      <td>2.078810</td>\n",
       "      <td>0</td>\n",
       "      <td>6</td>\n",
       "      <td>59</td>\n",
       "      <td>11</td>\n",
       "      <td>0.0</td>\n",
       "      <td>11</td>\n",
       "      <td>11</td>\n",
       "      <td>59</td>\n",
       "    </tr>\n",
       "    <tr>\n",
       "      <th>oct</th>\n",
       "      <td>23.578594</td>\n",
       "      <td>16.280238</td>\n",
       "      <td>2.0</td>\n",
       "      <td>97.00</td>\n",
       "      <td>64</td>\n",
       "      <td>19.546875</td>\n",
       "      <td>15.301136</td>\n",
       "      <td>3</td>\n",
       "      <td>90</td>\n",
       "      <td>64</td>\n",
       "      <td>...</td>\n",
       "      <td>2.265625</td>\n",
       "      <td>1.977992</td>\n",
       "      <td>0</td>\n",
       "      <td>6</td>\n",
       "      <td>64</td>\n",
       "      <td>10</td>\n",
       "      <td>0.0</td>\n",
       "      <td>10</td>\n",
       "      <td>10</td>\n",
       "      <td>64</td>\n",
       "    </tr>\n",
       "    <tr>\n",
       "      <th>sep</th>\n",
       "      <td>28.891000</td>\n",
       "      <td>37.459391</td>\n",
       "      <td>2.5</td>\n",
       "      <td>263.50</td>\n",
       "      <td>60</td>\n",
       "      <td>22.950000</td>\n",
       "      <td>18.237998</td>\n",
       "      <td>1</td>\n",
       "      <td>100</td>\n",
       "      <td>60</td>\n",
       "      <td>...</td>\n",
       "      <td>2.533333</td>\n",
       "      <td>2.182105</td>\n",
       "      <td>0</td>\n",
       "      <td>6</td>\n",
       "      <td>60</td>\n",
       "      <td>9</td>\n",
       "      <td>0.0</td>\n",
       "      <td>9</td>\n",
       "      <td>9</td>\n",
       "      <td>60</td>\n",
       "    </tr>\n",
       "  </tbody>\n",
       "</table>\n",
       "<p>12 rows × 35 columns</p>\n",
       "</div>"
      ],
      "text/plain": [
       "            UnitPrice                                 Quantity                 \\\n",
       "                 mean        std  min     max count       mean        std min   \n",
       "month_name                                                                      \n",
       "apr         25.007905  22.271453  2.5  123.79   105  23.533333  18.802653   2   \n",
       "aug         26.153966  21.416484  2.0  123.79    58  21.413793  16.387880   1   \n",
       "dec         22.594937  22.746372  3.6  123.79    79  22.873418  17.150441   1   \n",
       "feb         24.440482  31.329334  4.5  263.50    83  24.349398  20.917045   3   \n",
       "jan         29.006818  38.054456  2.0  263.50    88  24.170455  19.499025   2   \n",
       "jul         27.470545  37.793881  2.0  263.50    55  22.872727  17.372876   3   \n",
       "jun         23.742667  22.215527  2.5  123.79    30  21.100000  13.727270   4   \n",
       "mar         27.081068  35.097423  2.0  263.50   103  22.757282  17.413915   1   \n",
       "may         24.300435  11.071452  4.5   55.00    46  21.478261  17.649349   2   \n",
       "nov         22.942373  27.842115  3.6  210.80    59  22.474576  15.366057   3   \n",
       "oct         23.578594  16.280238  2.0   97.00    64  19.546875  15.301136   3   \n",
       "sep         28.891000  37.459391  2.5  263.50    60  22.950000  18.237998   1   \n",
       "\n",
       "                       ...  week_day                         month           \\\n",
       "            max count  ...      mean       std min max count  mean  std min   \n",
       "month_name             ...                                                    \n",
       "apr         100   105  ...  2.247619  1.984463   0   6   105     4  0.0   4   \n",
       "aug         100    58  ...  2.293103  1.991285   0   6    58     8  0.0   8   \n",
       "dec          80    79  ...  2.430380  2.181998   0   6    79    12  0.0  12   \n",
       "feb         120    83  ...  2.421687  2.024969   0   6    83     2  0.0   2   \n",
       "jan         100    88  ...  2.329545  1.957723   0   6    88     1  0.0   1   \n",
       "jul          70    55  ...  2.327273  2.028086   0   6    55     7  0.0   7   \n",
       "jun          60    30  ...  2.500000  2.208916   0   6    30     6  0.0   6   \n",
       "mar          84   103  ...  2.485437  2.186698   0   6   103     3  0.0   3   \n",
       "may          77    46  ...  2.500000  2.116076   0   6    46     5  0.0   5   \n",
       "nov          70    59  ...  2.457627  2.078810   0   6    59    11  0.0  11   \n",
       "oct          90    64  ...  2.265625  1.977992   0   6    64    10  0.0  10   \n",
       "sep         100    60  ...  2.533333  2.182105   0   6    60     9  0.0   9   \n",
       "\n",
       "                      \n",
       "           max count  \n",
       "month_name            \n",
       "apr          4   105  \n",
       "aug          8    58  \n",
       "dec         12    79  \n",
       "feb          2    83  \n",
       "jan          1    88  \n",
       "jul          7    55  \n",
       "jun          6    30  \n",
       "mar          3   103  \n",
       "may          5    46  \n",
       "nov         11    59  \n",
       "oct         10    64  \n",
       "sep          9    60  \n",
       "\n",
       "[12 rows x 35 columns]"
      ]
     },
     "execution_count": 121,
     "metadata": {},
     "output_type": "execute_result"
    }
   ],
   "source": [
    "df_year_orders.groupby('month_name').agg(['mean','std','min','max','count'])"
   ]
  },
  {
   "cell_type": "markdown",
   "metadata": {
    "colab_type": "text",
    "id": "mMMdkmZ4CqHD"
   },
   "source": [
    "### New Worfklow from Mike"
   ]
  },
  {
   "cell_type": "code",
   "execution_count": 122,
   "metadata": {
    "colab": {},
    "colab_type": "code",
    "id": "oVpC31QUC9cg"
   },
   "outputs": [],
   "source": [
    "# create a dict to test stats\n",
    "dict_to_test ={}\n",
    "for month in list(df_year_orders['month_name'].unique()):\n",
    "    dict_to_test[month] = df_year_orders.groupby('month_name').get_group(month)"
   ]
  },
  {
   "cell_type": "code",
   "execution_count": 123,
   "metadata": {
    "colab": {
     "base_uri": "https://localhost:8080/",
     "height": 217
    },
    "colab_type": "code",
    "id": "yeigRWPhC-yb",
    "outputId": "61bc2cda-62d6-4846-da43-5a6e7fbbbda6"
   },
   "outputs": [
    {
     "name": "stdout",
     "output_type": "stream",
     "text": [
      "jul has: 55 rows.\n",
      "aug has: 58 rows.\n",
      "sep has: 60 rows.\n",
      "oct has: 64 rows.\n",
      "nov has: 59 rows.\n",
      "dec has: 79 rows.\n",
      "jan has: 88 rows.\n",
      "feb has: 83 rows.\n",
      "mar has: 103 rows.\n",
      "apr has: 105 rows.\n",
      "may has: 46 rows.\n",
      "jun has: 30 rows.\n"
     ]
    }
   ],
   "source": [
    "for k,v in dict_to_test.items():\n",
    "    print(f'{k} has: {len(v)} rows.')\n",
    "# len(dict_to_test.values())\n",
    "# dict_to_test.keys()"
   ]
  },
  {
   "cell_type": "markdown",
   "metadata": {
    "colab_type": "text",
    "id": "hwvBZywE0V0B"
   },
   "source": [
    "### Aim 2.1: Test for Normality"
   ]
  },
  {
   "cell_type": "code",
   "execution_count": 124,
   "metadata": {
    "colab": {},
    "colab_type": "code",
    "id": "gqiBjl0W4SP_"
   },
   "outputs": [],
   "source": [
    "H3_tests = [['Group:','TestName','Test Purpose','stat','p','sig?']  ]"
   ]
  },
  {
   "cell_type": "code",
   "execution_count": 125,
   "metadata": {
    "colab": {
     "base_uri": "https://localhost:8080/",
     "height": 435
    },
    "colab_type": "code",
    "id": "34ds8zvRz-X7",
    "outputId": "360af9ac-ee1e-440f-b403-4f2576feb7dc"
   },
   "outputs": [
    {
     "data": {
      "text/html": [
       "<div>\n",
       "<style scoped>\n",
       "    .dataframe tbody tr th:only-of-type {\n",
       "        vertical-align: middle;\n",
       "    }\n",
       "\n",
       "    .dataframe tbody tr th {\n",
       "        vertical-align: top;\n",
       "    }\n",
       "\n",
       "    .dataframe thead th {\n",
       "        text-align: right;\n",
       "    }\n",
       "</style>\n",
       "<table border=\"1\" class=\"dataframe\">\n",
       "  <thead>\n",
       "    <tr style=\"text-align: right;\">\n",
       "      <th></th>\n",
       "      <th>Group:</th>\n",
       "      <th>TestName</th>\n",
       "      <th>Test Purpose</th>\n",
       "      <th>stat</th>\n",
       "      <th>p</th>\n",
       "      <th>sig?</th>\n",
       "    </tr>\n",
       "  </thead>\n",
       "  <tbody>\n",
       "    <tr>\n",
       "      <th>0</th>\n",
       "      <td>jul</td>\n",
       "      <td>normaltest</td>\n",
       "      <td>Normality</td>\n",
       "      <td>28.482051</td>\n",
       "      <td>6.534332e-07</td>\n",
       "      <td>True</td>\n",
       "    </tr>\n",
       "    <tr>\n",
       "      <th>1</th>\n",
       "      <td>aug</td>\n",
       "      <td>normaltest</td>\n",
       "      <td>Normality</td>\n",
       "      <td>35.416298</td>\n",
       "      <td>2.039147e-08</td>\n",
       "      <td>True</td>\n",
       "    </tr>\n",
       "    <tr>\n",
       "      <th>2</th>\n",
       "      <td>sep</td>\n",
       "      <td>normaltest</td>\n",
       "      <td>Normality</td>\n",
       "      <td>20.546302</td>\n",
       "      <td>3.454835e-05</td>\n",
       "      <td>True</td>\n",
       "    </tr>\n",
       "    <tr>\n",
       "      <th>3</th>\n",
       "      <td>oct</td>\n",
       "      <td>normaltest</td>\n",
       "      <td>Normality</td>\n",
       "      <td>55.131433</td>\n",
       "      <td>1.067484e-12</td>\n",
       "      <td>True</td>\n",
       "    </tr>\n",
       "    <tr>\n",
       "      <th>4</th>\n",
       "      <td>nov</td>\n",
       "      <td>normaltest</td>\n",
       "      <td>Normality</td>\n",
       "      <td>47.558321</td>\n",
       "      <td>4.708059e-11</td>\n",
       "      <td>True</td>\n",
       "    </tr>\n",
       "    <tr>\n",
       "      <th>5</th>\n",
       "      <td>dec</td>\n",
       "      <td>normaltest</td>\n",
       "      <td>Normality</td>\n",
       "      <td>65.102052</td>\n",
       "      <td>7.299096e-15</td>\n",
       "      <td>True</td>\n",
       "    </tr>\n",
       "    <tr>\n",
       "      <th>6</th>\n",
       "      <td>jan</td>\n",
       "      <td>normaltest</td>\n",
       "      <td>Normality</td>\n",
       "      <td>71.688386</td>\n",
       "      <td>2.710596e-16</td>\n",
       "      <td>True</td>\n",
       "    </tr>\n",
       "    <tr>\n",
       "      <th>7</th>\n",
       "      <td>feb</td>\n",
       "      <td>normaltest</td>\n",
       "      <td>Normality</td>\n",
       "      <td>91.351570</td>\n",
       "      <td>1.456326e-20</td>\n",
       "      <td>True</td>\n",
       "    </tr>\n",
       "    <tr>\n",
       "      <th>8</th>\n",
       "      <td>mar</td>\n",
       "      <td>normaltest</td>\n",
       "      <td>Normality</td>\n",
       "      <td>139.721993</td>\n",
       "      <td>4.568301e-31</td>\n",
       "      <td>True</td>\n",
       "    </tr>\n",
       "    <tr>\n",
       "      <th>9</th>\n",
       "      <td>apr</td>\n",
       "      <td>normaltest</td>\n",
       "      <td>Normality</td>\n",
       "      <td>81.806603</td>\n",
       "      <td>1.721558e-18</td>\n",
       "      <td>True</td>\n",
       "    </tr>\n",
       "    <tr>\n",
       "      <th>10</th>\n",
       "      <td>may</td>\n",
       "      <td>normaltest</td>\n",
       "      <td>Normality</td>\n",
       "      <td>51.838466</td>\n",
       "      <td>5.538857e-12</td>\n",
       "      <td>True</td>\n",
       "    </tr>\n",
       "    <tr>\n",
       "      <th>11</th>\n",
       "      <td>jun</td>\n",
       "      <td>normaltest</td>\n",
       "      <td>Normality</td>\n",
       "      <td>4.169504</td>\n",
       "      <td>1.243379e-01</td>\n",
       "      <td>False</td>\n",
       "    </tr>\n",
       "    <tr>\n",
       "      <th>12</th>\n",
       "      <td>Total Pop</td>\n",
       "      <td>normaltest</td>\n",
       "      <td>Normality</td>\n",
       "      <td>643.646268</td>\n",
       "      <td>1.713913e-140</td>\n",
       "      <td>True</td>\n",
       "    </tr>\n",
       "  </tbody>\n",
       "</table>\n",
       "</div>"
      ],
      "text/plain": [
       "       Group:    TestName Test Purpose        stat              p   sig?\n",
       "0         jul  normaltest    Normality   28.482051   6.534332e-07   True\n",
       "1         aug  normaltest    Normality   35.416298   2.039147e-08   True\n",
       "2         sep  normaltest    Normality   20.546302   3.454835e-05   True\n",
       "3         oct  normaltest    Normality   55.131433   1.067484e-12   True\n",
       "4         nov  normaltest    Normality   47.558321   4.708059e-11   True\n",
       "5         dec  normaltest    Normality   65.102052   7.299096e-15   True\n",
       "6         jan  normaltest    Normality   71.688386   2.710596e-16   True\n",
       "7         feb  normaltest    Normality   91.351570   1.456326e-20   True\n",
       "8         mar  normaltest    Normality  139.721993   4.568301e-31   True\n",
       "9         apr  normaltest    Normality   81.806603   1.721558e-18   True\n",
       "10        may  normaltest    Normality   51.838466   5.538857e-12   True\n",
       "11        jun  normaltest    Normality    4.169504   1.243379e-01  False\n",
       "12  Total Pop  normaltest    Normality  643.646268  1.713913e-140   True"
      ]
     },
     "execution_count": 125,
     "metadata": {},
     "output_type": "execute_result"
    }
   ],
   "source": [
    "from scipy.stats import normaltest\n",
    "\n",
    "for month,  df  in dict_to_test.items(): #month = key, df = values\n",
    "\n",
    "    arrA = dict_to_test[month]['order_total']\n",
    "\n",
    "    #1. Test for normality\n",
    "    test_purpose = 'Normality'\n",
    "    test_to_run = 'normaltest'\n",
    "\n",
    "    arrA = np.array(arrA)\n",
    "    statA, pA = eval(test_to_run)(arrA)\n",
    "\n",
    "    H3_tests.append([month, test_to_run, test_purpose ,statA, pA, pA<0.05])\n",
    "    \n",
    "arrB = np.array(df_year_orders['order_total'])\n",
    "stat, p = eval(test_to_run)(arrB)\n",
    "H3_tests.append(['Total Pop', test_to_run, test_purpose,stat, p,p<0.05])\n",
    "\n",
    "\n",
    "H3_results_norm = list2df(H3_tests)\n",
    "H3_results_norm"
   ]
  },
  {
   "cell_type": "markdown",
   "metadata": {
    "colab_type": "text",
    "id": "cNlFwil16GUb"
   },
   "source": [
    "### Aim 2.2: Test for Homogneity of Variance\n",
    "- Levenes Test"
   ]
  },
  {
   "cell_type": "code",
   "execution_count": 126,
   "metadata": {
    "colab": {
     "base_uri": "https://localhost:8080/",
     "height": 793
    },
    "colab_type": "code",
    "id": "WYGU5I1f6K2e",
    "outputId": "eceb5ab3-8bf7-434e-b8f5-e9801232d51c"
   },
   "outputs": [
    {
     "data": {
      "text/html": [
       "<div>\n",
       "<style scoped>\n",
       "    .dataframe tbody tr th:only-of-type {\n",
       "        vertical-align: middle;\n",
       "    }\n",
       "\n",
       "    .dataframe tbody tr th {\n",
       "        vertical-align: top;\n",
       "    }\n",
       "\n",
       "    .dataframe thead th {\n",
       "        text-align: right;\n",
       "    }\n",
       "</style>\n",
       "<table border=\"1\" class=\"dataframe\">\n",
       "  <thead>\n",
       "    <tr style=\"text-align: right;\">\n",
       "      <th></th>\n",
       "      <th>Group:</th>\n",
       "      <th>TestName</th>\n",
       "      <th>Test Purpose</th>\n",
       "      <th>stat</th>\n",
       "      <th>p</th>\n",
       "      <th>sig?</th>\n",
       "    </tr>\n",
       "  </thead>\n",
       "  <tbody>\n",
       "    <tr>\n",
       "      <th>0</th>\n",
       "      <td>jul</td>\n",
       "      <td>normaltest</td>\n",
       "      <td>Normality</td>\n",
       "      <td>28.482051</td>\n",
       "      <td>6.534332e-07</td>\n",
       "      <td>True</td>\n",
       "    </tr>\n",
       "    <tr>\n",
       "      <th>1</th>\n",
       "      <td>aug</td>\n",
       "      <td>normaltest</td>\n",
       "      <td>Normality</td>\n",
       "      <td>35.416298</td>\n",
       "      <td>2.039147e-08</td>\n",
       "      <td>True</td>\n",
       "    </tr>\n",
       "    <tr>\n",
       "      <th>2</th>\n",
       "      <td>sep</td>\n",
       "      <td>normaltest</td>\n",
       "      <td>Normality</td>\n",
       "      <td>20.546302</td>\n",
       "      <td>3.454835e-05</td>\n",
       "      <td>True</td>\n",
       "    </tr>\n",
       "    <tr>\n",
       "      <th>3</th>\n",
       "      <td>oct</td>\n",
       "      <td>normaltest</td>\n",
       "      <td>Normality</td>\n",
       "      <td>55.131433</td>\n",
       "      <td>1.067484e-12</td>\n",
       "      <td>True</td>\n",
       "    </tr>\n",
       "    <tr>\n",
       "      <th>4</th>\n",
       "      <td>nov</td>\n",
       "      <td>normaltest</td>\n",
       "      <td>Normality</td>\n",
       "      <td>47.558321</td>\n",
       "      <td>4.708059e-11</td>\n",
       "      <td>True</td>\n",
       "    </tr>\n",
       "    <tr>\n",
       "      <th>5</th>\n",
       "      <td>dec</td>\n",
       "      <td>normaltest</td>\n",
       "      <td>Normality</td>\n",
       "      <td>65.102052</td>\n",
       "      <td>7.299096e-15</td>\n",
       "      <td>True</td>\n",
       "    </tr>\n",
       "    <tr>\n",
       "      <th>6</th>\n",
       "      <td>jan</td>\n",
       "      <td>normaltest</td>\n",
       "      <td>Normality</td>\n",
       "      <td>71.688386</td>\n",
       "      <td>2.710596e-16</td>\n",
       "      <td>True</td>\n",
       "    </tr>\n",
       "    <tr>\n",
       "      <th>7</th>\n",
       "      <td>feb</td>\n",
       "      <td>normaltest</td>\n",
       "      <td>Normality</td>\n",
       "      <td>91.351570</td>\n",
       "      <td>1.456326e-20</td>\n",
       "      <td>True</td>\n",
       "    </tr>\n",
       "    <tr>\n",
       "      <th>8</th>\n",
       "      <td>mar</td>\n",
       "      <td>normaltest</td>\n",
       "      <td>Normality</td>\n",
       "      <td>139.721993</td>\n",
       "      <td>4.568301e-31</td>\n",
       "      <td>True</td>\n",
       "    </tr>\n",
       "    <tr>\n",
       "      <th>9</th>\n",
       "      <td>apr</td>\n",
       "      <td>normaltest</td>\n",
       "      <td>Normality</td>\n",
       "      <td>81.806603</td>\n",
       "      <td>1.721558e-18</td>\n",
       "      <td>True</td>\n",
       "    </tr>\n",
       "    <tr>\n",
       "      <th>10</th>\n",
       "      <td>may</td>\n",
       "      <td>normaltest</td>\n",
       "      <td>Normality</td>\n",
       "      <td>51.838466</td>\n",
       "      <td>5.538857e-12</td>\n",
       "      <td>True</td>\n",
       "    </tr>\n",
       "    <tr>\n",
       "      <th>11</th>\n",
       "      <td>jun</td>\n",
       "      <td>normaltest</td>\n",
       "      <td>Normality</td>\n",
       "      <td>4.169504</td>\n",
       "      <td>1.243379e-01</td>\n",
       "      <td>False</td>\n",
       "    </tr>\n",
       "    <tr>\n",
       "      <th>12</th>\n",
       "      <td>Total Pop</td>\n",
       "      <td>normaltest</td>\n",
       "      <td>Normality</td>\n",
       "      <td>643.646268</td>\n",
       "      <td>1.713913e-140</td>\n",
       "      <td>True</td>\n",
       "    </tr>\n",
       "    <tr>\n",
       "      <th>13</th>\n",
       "      <td>jul vs. Other Months</td>\n",
       "      <td>levene</td>\n",
       "      <td>Equal Variance</td>\n",
       "      <td>0.089087</td>\n",
       "      <td>7.654160e-01</td>\n",
       "      <td>False</td>\n",
       "    </tr>\n",
       "    <tr>\n",
       "      <th>14</th>\n",
       "      <td>aug vs. Other Months</td>\n",
       "      <td>levene</td>\n",
       "      <td>Equal Variance</td>\n",
       "      <td>2.311798</td>\n",
       "      <td>1.287772e-01</td>\n",
       "      <td>False</td>\n",
       "    </tr>\n",
       "    <tr>\n",
       "      <th>15</th>\n",
       "      <td>sep vs. Other Months</td>\n",
       "      <td>levene</td>\n",
       "      <td>Equal Variance</td>\n",
       "      <td>0.416413</td>\n",
       "      <td>5.189112e-01</td>\n",
       "      <td>False</td>\n",
       "    </tr>\n",
       "    <tr>\n",
       "      <th>16</th>\n",
       "      <td>oct vs. Other Months</td>\n",
       "      <td>levene</td>\n",
       "      <td>Equal Variance</td>\n",
       "      <td>0.049549</td>\n",
       "      <td>8.239048e-01</td>\n",
       "      <td>False</td>\n",
       "    </tr>\n",
       "    <tr>\n",
       "      <th>17</th>\n",
       "      <td>nov vs. Other Months</td>\n",
       "      <td>levene</td>\n",
       "      <td>Equal Variance</td>\n",
       "      <td>0.001106</td>\n",
       "      <td>9.734797e-01</td>\n",
       "      <td>False</td>\n",
       "    </tr>\n",
       "    <tr>\n",
       "      <th>18</th>\n",
       "      <td>dec vs. Other Months</td>\n",
       "      <td>levene</td>\n",
       "      <td>Equal Variance</td>\n",
       "      <td>0.156702</td>\n",
       "      <td>6.923132e-01</td>\n",
       "      <td>False</td>\n",
       "    </tr>\n",
       "    <tr>\n",
       "      <th>19</th>\n",
       "      <td>jan vs. Other Months</td>\n",
       "      <td>levene</td>\n",
       "      <td>Equal Variance</td>\n",
       "      <td>0.872446</td>\n",
       "      <td>3.505514e-01</td>\n",
       "      <td>False</td>\n",
       "    </tr>\n",
       "    <tr>\n",
       "      <th>20</th>\n",
       "      <td>feb vs. Other Months</td>\n",
       "      <td>levene</td>\n",
       "      <td>Equal Variance</td>\n",
       "      <td>1.396524</td>\n",
       "      <td>2.376456e-01</td>\n",
       "      <td>False</td>\n",
       "    </tr>\n",
       "    <tr>\n",
       "      <th>21</th>\n",
       "      <td>mar vs. Other Months</td>\n",
       "      <td>levene</td>\n",
       "      <td>Equal Variance</td>\n",
       "      <td>0.515745</td>\n",
       "      <td>4.728649e-01</td>\n",
       "      <td>False</td>\n",
       "    </tr>\n",
       "    <tr>\n",
       "      <th>22</th>\n",
       "      <td>apr vs. Other Months</td>\n",
       "      <td>levene</td>\n",
       "      <td>Equal Variance</td>\n",
       "      <td>1.649587</td>\n",
       "      <td>1.993744e-01</td>\n",
       "      <td>False</td>\n",
       "    </tr>\n",
       "    <tr>\n",
       "      <th>23</th>\n",
       "      <td>may vs. Other Months</td>\n",
       "      <td>levene</td>\n",
       "      <td>Equal Variance</td>\n",
       "      <td>0.023840</td>\n",
       "      <td>8.773304e-01</td>\n",
       "      <td>False</td>\n",
       "    </tr>\n",
       "    <tr>\n",
       "      <th>24</th>\n",
       "      <td>jun vs. Other Months</td>\n",
       "      <td>levene</td>\n",
       "      <td>Equal Variance</td>\n",
       "      <td>1.930863</td>\n",
       "      <td>1.650375e-01</td>\n",
       "      <td>False</td>\n",
       "    </tr>\n",
       "  </tbody>\n",
       "</table>\n",
       "</div>"
      ],
      "text/plain": [
       "                  Group:    TestName    Test Purpose        stat  \\\n",
       "0                    jul  normaltest       Normality   28.482051   \n",
       "1                    aug  normaltest       Normality   35.416298   \n",
       "2                    sep  normaltest       Normality   20.546302   \n",
       "3                    oct  normaltest       Normality   55.131433   \n",
       "4                    nov  normaltest       Normality   47.558321   \n",
       "5                    dec  normaltest       Normality   65.102052   \n",
       "6                    jan  normaltest       Normality   71.688386   \n",
       "7                    feb  normaltest       Normality   91.351570   \n",
       "8                    mar  normaltest       Normality  139.721993   \n",
       "9                    apr  normaltest       Normality   81.806603   \n",
       "10                   may  normaltest       Normality   51.838466   \n",
       "11                   jun  normaltest       Normality    4.169504   \n",
       "12             Total Pop  normaltest       Normality  643.646268   \n",
       "13  jul vs. Other Months      levene  Equal Variance    0.089087   \n",
       "14  aug vs. Other Months      levene  Equal Variance    2.311798   \n",
       "15  sep vs. Other Months      levene  Equal Variance    0.416413   \n",
       "16  oct vs. Other Months      levene  Equal Variance    0.049549   \n",
       "17  nov vs. Other Months      levene  Equal Variance    0.001106   \n",
       "18  dec vs. Other Months      levene  Equal Variance    0.156702   \n",
       "19  jan vs. Other Months      levene  Equal Variance    0.872446   \n",
       "20  feb vs. Other Months      levene  Equal Variance    1.396524   \n",
       "21  mar vs. Other Months      levene  Equal Variance    0.515745   \n",
       "22  apr vs. Other Months      levene  Equal Variance    1.649587   \n",
       "23  may vs. Other Months      levene  Equal Variance    0.023840   \n",
       "24  jun vs. Other Months      levene  Equal Variance    1.930863   \n",
       "\n",
       "                p   sig?  \n",
       "0    6.534332e-07   True  \n",
       "1    2.039147e-08   True  \n",
       "2    3.454835e-05   True  \n",
       "3    1.067484e-12   True  \n",
       "4    4.708059e-11   True  \n",
       "5    7.299096e-15   True  \n",
       "6    2.710596e-16   True  \n",
       "7    1.456326e-20   True  \n",
       "8    4.568301e-31   True  \n",
       "9    1.721558e-18   True  \n",
       "10   5.538857e-12   True  \n",
       "11   1.243379e-01  False  \n",
       "12  1.713913e-140   True  \n",
       "13   7.654160e-01  False  \n",
       "14   1.287772e-01  False  \n",
       "15   5.189112e-01  False  \n",
       "16   8.239048e-01  False  \n",
       "17   9.734797e-01  False  \n",
       "18   6.923132e-01  False  \n",
       "19   3.505514e-01  False  \n",
       "20   2.376456e-01  False  \n",
       "21   4.728649e-01  False  \n",
       "22   1.993744e-01  False  \n",
       "23   8.773304e-01  False  \n",
       "24   1.650375e-01  False  "
      ]
     },
     "execution_count": 126,
     "metadata": {},
     "output_type": "execute_result"
    }
   ],
   "source": [
    "from scipy.stats import levene\n",
    "\n",
    "for month,  df  in dict_to_test.items(): #month = key, df = values\n",
    "\n",
    "    arrA = dict_to_test[month]['order_total']\n",
    "    arrB = df_year_orders[df_year_orders['month_name']!= month]['order_total']\n",
    "    #1. Test for normality\n",
    "    test_to_run = 'levene'\n",
    "    test_purpose = 'Equal Variance'\n",
    "\n",
    "    arrA = np.array(arrA)\n",
    "    arrB = np.array(arrB)\n",
    "\n",
    "    stat, p = eval(test_to_run)(arrA,arrB,center='median')\n",
    "    \n",
    "    H3_tests.append([f'{month} vs. Other Months', test_to_run, test_purpose ,stat, p, p<0.05])\n",
    "\n",
    "\n",
    "list2df(H3_tests)"
   ]
  },
  {
   "cell_type": "markdown",
   "metadata": {
    "colab_type": "text",
    "id": "zqTFEWNju4DM"
   },
   "source": [
    "### Aim 2.3. Choose Appropriate Test Based on Testing Assumptions\n",
    "\n",
    "- Note: We did not meet the criteria for normality or equal variance. \n",
    "- ~~Perform a Mann-Whitney U test~~\n",
    "- Perofrm Tukey's pairwise test"
   ]
  },
  {
   "cell_type": "markdown",
   "metadata": {
    "colab_type": "text",
    "id": "azg_e4Sjylcg"
   },
   "source": [
    "### Use Tukey's Pairwise Multiple Comparison test.\n",
    "```statsmodels.stats.multicomp.pairwise_tukeyhsd```"
   ]
  },
  {
   "cell_type": "code",
   "execution_count": 127,
   "metadata": {
    "colab": {
     "base_uri": "https://localhost:8080/",
     "height": 1895
    },
    "colab_type": "code",
    "id": "l-icO2sgylch",
    "outputId": "f327354d-d539-4080-b02a-4288aa8641b3"
   },
   "outputs": [
    {
     "data": {
      "text/html": [
       "<div>\n",
       "<style scoped>\n",
       "    .dataframe tbody tr th:only-of-type {\n",
       "        vertical-align: middle;\n",
       "    }\n",
       "\n",
       "    .dataframe tbody tr th {\n",
       "        vertical-align: top;\n",
       "    }\n",
       "\n",
       "    .dataframe thead th {\n",
       "        text-align: right;\n",
       "    }\n",
       "</style>\n",
       "<table border=\"1\" class=\"dataframe\">\n",
       "  <thead>\n",
       "    <tr style=\"text-align: right;\">\n",
       "      <th></th>\n",
       "      <th>group1</th>\n",
       "      <th>group2</th>\n",
       "      <th>meandiff</th>\n",
       "      <th>lower</th>\n",
       "      <th>upper</th>\n",
       "      <th>reject</th>\n",
       "    </tr>\n",
       "  </thead>\n",
       "  <tbody>\n",
       "    <tr>\n",
       "      <th>0</th>\n",
       "      <td>apr</td>\n",
       "      <td>aug</td>\n",
       "      <td>-429.4049</td>\n",
       "      <td>-1421.7047</td>\n",
       "      <td>562.8950</td>\n",
       "      <td>False</td>\n",
       "    </tr>\n",
       "    <tr>\n",
       "      <th>1</th>\n",
       "      <td>apr</td>\n",
       "      <td>dec</td>\n",
       "      <td>-207.6797</td>\n",
       "      <td>-1111.0347</td>\n",
       "      <td>695.6754</td>\n",
       "      <td>False</td>\n",
       "    </tr>\n",
       "    <tr>\n",
       "      <th>2</th>\n",
       "      <td>apr</td>\n",
       "      <td>feb</td>\n",
       "      <td>-22.6780</td>\n",
       "      <td>-913.5247</td>\n",
       "      <td>868.1687</td>\n",
       "      <td>False</td>\n",
       "    </tr>\n",
       "    <tr>\n",
       "      <th>3</th>\n",
       "      <td>apr</td>\n",
       "      <td>jan</td>\n",
       "      <td>82.7094</td>\n",
       "      <td>-793.8885</td>\n",
       "      <td>959.3073</td>\n",
       "      <td>False</td>\n",
       "    </tr>\n",
       "    <tr>\n",
       "      <th>4</th>\n",
       "      <td>apr</td>\n",
       "      <td>jul</td>\n",
       "      <td>-249.8789</td>\n",
       "      <td>-1259.4613</td>\n",
       "      <td>759.7034</td>\n",
       "      <td>False</td>\n",
       "    </tr>\n",
       "    <tr>\n",
       "      <th>5</th>\n",
       "      <td>apr</td>\n",
       "      <td>jun</td>\n",
       "      <td>-472.0174</td>\n",
       "      <td>-1727.6696</td>\n",
       "      <td>783.6348</td>\n",
       "      <td>False</td>\n",
       "    </tr>\n",
       "    <tr>\n",
       "      <th>6</th>\n",
       "      <td>apr</td>\n",
       "      <td>mar</td>\n",
       "      <td>-291.8645</td>\n",
       "      <td>-1133.0197</td>\n",
       "      <td>549.2908</td>\n",
       "      <td>False</td>\n",
       "    </tr>\n",
       "    <tr>\n",
       "      <th>7</th>\n",
       "      <td>apr</td>\n",
       "      <td>may</td>\n",
       "      <td>-116.3951</td>\n",
       "      <td>-1188.8343</td>\n",
       "      <td>956.0440</td>\n",
       "      <td>False</td>\n",
       "    </tr>\n",
       "    <tr>\n",
       "      <th>8</th>\n",
       "      <td>apr</td>\n",
       "      <td>nov</td>\n",
       "      <td>-173.3675</td>\n",
       "      <td>-1160.2354</td>\n",
       "      <td>813.5004</td>\n",
       "      <td>False</td>\n",
       "    </tr>\n",
       "    <tr>\n",
       "      <th>9</th>\n",
       "      <td>apr</td>\n",
       "      <td>oct</td>\n",
       "      <td>-54.9710</td>\n",
       "      <td>-1016.8412</td>\n",
       "      <td>906.8993</td>\n",
       "      <td>False</td>\n",
       "    </tr>\n",
       "    <tr>\n",
       "      <th>10</th>\n",
       "      <td>apr</td>\n",
       "      <td>sep</td>\n",
       "      <td>-317.2668</td>\n",
       "      <td>-1298.8553</td>\n",
       "      <td>664.3217</td>\n",
       "      <td>False</td>\n",
       "    </tr>\n",
       "    <tr>\n",
       "      <th>11</th>\n",
       "      <td>aug</td>\n",
       "      <td>dec</td>\n",
       "      <td>221.7252</td>\n",
       "      <td>-827.0696</td>\n",
       "      <td>1270.5199</td>\n",
       "      <td>False</td>\n",
       "    </tr>\n",
       "    <tr>\n",
       "      <th>12</th>\n",
       "      <td>aug</td>\n",
       "      <td>feb</td>\n",
       "      <td>406.7269</td>\n",
       "      <td>-631.3136</td>\n",
       "      <td>1444.7673</td>\n",
       "      <td>False</td>\n",
       "    </tr>\n",
       "    <tr>\n",
       "      <th>13</th>\n",
       "      <td>aug</td>\n",
       "      <td>jan</td>\n",
       "      <td>512.1143</td>\n",
       "      <td>-513.7239</td>\n",
       "      <td>1537.9525</td>\n",
       "      <td>False</td>\n",
       "    </tr>\n",
       "    <tr>\n",
       "      <th>14</th>\n",
       "      <td>aug</td>\n",
       "      <td>jul</td>\n",
       "      <td>179.5259</td>\n",
       "      <td>-962.0417</td>\n",
       "      <td>1321.0935</td>\n",
       "      <td>False</td>\n",
       "    </tr>\n",
       "    <tr>\n",
       "      <th>15</th>\n",
       "      <td>aug</td>\n",
       "      <td>jun</td>\n",
       "      <td>-42.6125</td>\n",
       "      <td>-1406.6443</td>\n",
       "      <td>1321.4192</td>\n",
       "      <td>False</td>\n",
       "    </tr>\n",
       "    <tr>\n",
       "      <th>16</th>\n",
       "      <td>aug</td>\n",
       "      <td>mar</td>\n",
       "      <td>137.5404</td>\n",
       "      <td>-858.1816</td>\n",
       "      <td>1133.2624</td>\n",
       "      <td>False</td>\n",
       "    </tr>\n",
       "    <tr>\n",
       "      <th>17</th>\n",
       "      <td>aug</td>\n",
       "      <td>may</td>\n",
       "      <td>313.0097</td>\n",
       "      <td>-884.5068</td>\n",
       "      <td>1510.5262</td>\n",
       "      <td>False</td>\n",
       "    </tr>\n",
       "    <tr>\n",
       "      <th>18</th>\n",
       "      <td>aug</td>\n",
       "      <td>nov</td>\n",
       "      <td>256.0373</td>\n",
       "      <td>-865.4921</td>\n",
       "      <td>1377.5668</td>\n",
       "      <td>False</td>\n",
       "    </tr>\n",
       "    <tr>\n",
       "      <th>19</th>\n",
       "      <td>aug</td>\n",
       "      <td>oct</td>\n",
       "      <td>374.4339</td>\n",
       "      <td>-725.1635</td>\n",
       "      <td>1474.0313</td>\n",
       "      <td>False</td>\n",
       "    </tr>\n",
       "    <tr>\n",
       "      <th>20</th>\n",
       "      <td>aug</td>\n",
       "      <td>sep</td>\n",
       "      <td>112.1381</td>\n",
       "      <td>-1004.7487</td>\n",
       "      <td>1229.0249</td>\n",
       "      <td>False</td>\n",
       "    </tr>\n",
       "    <tr>\n",
       "      <th>21</th>\n",
       "      <td>dec</td>\n",
       "      <td>feb</td>\n",
       "      <td>185.0017</td>\n",
       "      <td>-768.3709</td>\n",
       "      <td>1138.3743</td>\n",
       "      <td>False</td>\n",
       "    </tr>\n",
       "    <tr>\n",
       "      <th>22</th>\n",
       "      <td>dec</td>\n",
       "      <td>jan</td>\n",
       "      <td>290.3891</td>\n",
       "      <td>-649.6829</td>\n",
       "      <td>1230.4611</td>\n",
       "      <td>False</td>\n",
       "    </tr>\n",
       "    <tr>\n",
       "      <th>23</th>\n",
       "      <td>dec</td>\n",
       "      <td>jul</td>\n",
       "      <td>-42.1993</td>\n",
       "      <td>-1107.3603</td>\n",
       "      <td>1022.9618</td>\n",
       "      <td>False</td>\n",
       "    </tr>\n",
       "    <tr>\n",
       "      <th>24</th>\n",
       "      <td>dec</td>\n",
       "      <td>jun</td>\n",
       "      <td>-264.3377</td>\n",
       "      <td>-1565.0967</td>\n",
       "      <td>1036.4213</td>\n",
       "      <td>False</td>\n",
       "    </tr>\n",
       "    <tr>\n",
       "      <th>25</th>\n",
       "      <td>dec</td>\n",
       "      <td>mar</td>\n",
       "      <td>-84.1848</td>\n",
       "      <td>-991.2976</td>\n",
       "      <td>822.9280</td>\n",
       "      <td>False</td>\n",
       "    </tr>\n",
       "    <tr>\n",
       "      <th>26</th>\n",
       "      <td>dec</td>\n",
       "      <td>may</td>\n",
       "      <td>91.2845</td>\n",
       "      <td>-1033.6320</td>\n",
       "      <td>1216.2011</td>\n",
       "      <td>False</td>\n",
       "    </tr>\n",
       "    <tr>\n",
       "      <th>27</th>\n",
       "      <td>dec</td>\n",
       "      <td>nov</td>\n",
       "      <td>34.3122</td>\n",
       "      <td>-1009.3447</td>\n",
       "      <td>1077.9691</td>\n",
       "      <td>False</td>\n",
       "    </tr>\n",
       "    <tr>\n",
       "      <th>28</th>\n",
       "      <td>dec</td>\n",
       "      <td>oct</td>\n",
       "      <td>152.7087</td>\n",
       "      <td>-867.3431</td>\n",
       "      <td>1172.7606</td>\n",
       "      <td>False</td>\n",
       "    </tr>\n",
       "    <tr>\n",
       "      <th>29</th>\n",
       "      <td>dec</td>\n",
       "      <td>sep</td>\n",
       "      <td>-109.5871</td>\n",
       "      <td>-1148.2533</td>\n",
       "      <td>929.0791</td>\n",
       "      <td>False</td>\n",
       "    </tr>\n",
       "    <tr>\n",
       "      <th>...</th>\n",
       "      <td>...</td>\n",
       "      <td>...</td>\n",
       "      <td>...</td>\n",
       "      <td>...</td>\n",
       "      <td>...</td>\n",
       "      <td>...</td>\n",
       "    </tr>\n",
       "    <tr>\n",
       "      <th>36</th>\n",
       "      <td>feb</td>\n",
       "      <td>oct</td>\n",
       "      <td>-32.2929</td>\n",
       "      <td>-1041.2842</td>\n",
       "      <td>976.6983</td>\n",
       "      <td>False</td>\n",
       "    </tr>\n",
       "    <tr>\n",
       "      <th>37</th>\n",
       "      <td>feb</td>\n",
       "      <td>sep</td>\n",
       "      <td>-294.5888</td>\n",
       "      <td>-1322.3947</td>\n",
       "      <td>733.2171</td>\n",
       "      <td>False</td>\n",
       "    </tr>\n",
       "    <tr>\n",
       "      <th>38</th>\n",
       "      <td>jan</td>\n",
       "      <td>jul</td>\n",
       "      <td>-332.5884</td>\n",
       "      <td>-1375.1533</td>\n",
       "      <td>709.9765</td>\n",
       "      <td>False</td>\n",
       "    </tr>\n",
       "    <tr>\n",
       "      <th>39</th>\n",
       "      <td>jan</td>\n",
       "      <td>jun</td>\n",
       "      <td>-554.7268</td>\n",
       "      <td>-1837.0480</td>\n",
       "      <td>727.5943</td>\n",
       "      <td>False</td>\n",
       "    </tr>\n",
       "    <tr>\n",
       "      <th>40</th>\n",
       "      <td>jan</td>\n",
       "      <td>mar</td>\n",
       "      <td>-374.5739</td>\n",
       "      <td>-1255.0437</td>\n",
       "      <td>505.8960</td>\n",
       "      <td>False</td>\n",
       "    </tr>\n",
       "    <tr>\n",
       "      <th>41</th>\n",
       "      <td>jan</td>\n",
       "      <td>may</td>\n",
       "      <td>-199.1046</td>\n",
       "      <td>-1302.6492</td>\n",
       "      <td>904.4401</td>\n",
       "      <td>False</td>\n",
       "    </tr>\n",
       "    <tr>\n",
       "      <th>42</th>\n",
       "      <td>jan</td>\n",
       "      <td>nov</td>\n",
       "      <td>-256.0769</td>\n",
       "      <td>-1276.6617</td>\n",
       "      <td>764.5078</td>\n",
       "      <td>False</td>\n",
       "    </tr>\n",
       "    <tr>\n",
       "      <th>43</th>\n",
       "      <td>jan</td>\n",
       "      <td>oct</td>\n",
       "      <td>-137.6804</td>\n",
       "      <td>-1134.1137</td>\n",
       "      <td>858.7529</td>\n",
       "      <td>False</td>\n",
       "    </tr>\n",
       "    <tr>\n",
       "      <th>44</th>\n",
       "      <td>jan</td>\n",
       "      <td>sep</td>\n",
       "      <td>-399.9762</td>\n",
       "      <td>-1415.4569</td>\n",
       "      <td>615.5045</td>\n",
       "      <td>False</td>\n",
       "    </tr>\n",
       "    <tr>\n",
       "      <th>45</th>\n",
       "      <td>jul</td>\n",
       "      <td>jun</td>\n",
       "      <td>-222.1384</td>\n",
       "      <td>-1598.7939</td>\n",
       "      <td>1154.5170</td>\n",
       "      <td>False</td>\n",
       "    </tr>\n",
       "    <tr>\n",
       "      <th>46</th>\n",
       "      <td>jul</td>\n",
       "      <td>mar</td>\n",
       "      <td>-41.9855</td>\n",
       "      <td>-1054.9316</td>\n",
       "      <td>970.9606</td>\n",
       "      <td>False</td>\n",
       "    </tr>\n",
       "    <tr>\n",
       "      <th>47</th>\n",
       "      <td>jul</td>\n",
       "      <td>may</td>\n",
       "      <td>133.4838</td>\n",
       "      <td>-1078.3922</td>\n",
       "      <td>1345.3598</td>\n",
       "      <td>False</td>\n",
       "    </tr>\n",
       "    <tr>\n",
       "      <th>48</th>\n",
       "      <td>jul</td>\n",
       "      <td>nov</td>\n",
       "      <td>76.5114</td>\n",
       "      <td>-1060.3377</td>\n",
       "      <td>1213.3606</td>\n",
       "      <td>False</td>\n",
       "    </tr>\n",
       "    <tr>\n",
       "      <th>49</th>\n",
       "      <td>jul</td>\n",
       "      <td>oct</td>\n",
       "      <td>194.9080</td>\n",
       "      <td>-920.3104</td>\n",
       "      <td>1310.1264</td>\n",
       "      <td>False</td>\n",
       "    </tr>\n",
       "    <tr>\n",
       "      <th>50</th>\n",
       "      <td>jul</td>\n",
       "      <td>sep</td>\n",
       "      <td>-67.3878</td>\n",
       "      <td>-1199.6571</td>\n",
       "      <td>1064.8814</td>\n",
       "      <td>False</td>\n",
       "    </tr>\n",
       "    <tr>\n",
       "      <th>51</th>\n",
       "      <td>jun</td>\n",
       "      <td>mar</td>\n",
       "      <td>180.1529</td>\n",
       "      <td>-1078.2054</td>\n",
       "      <td>1438.5113</td>\n",
       "      <td>False</td>\n",
       "    </tr>\n",
       "    <tr>\n",
       "      <th>52</th>\n",
       "      <td>jun</td>\n",
       "      <td>may</td>\n",
       "      <td>355.6222</td>\n",
       "      <td>-1067.7714</td>\n",
       "      <td>1779.0159</td>\n",
       "      <td>False</td>\n",
       "    </tr>\n",
       "    <tr>\n",
       "      <th>53</th>\n",
       "      <td>jun</td>\n",
       "      <td>nov</td>\n",
       "      <td>298.6499</td>\n",
       "      <td>-1061.4354</td>\n",
       "      <td>1658.7351</td>\n",
       "      <td>False</td>\n",
       "    </tr>\n",
       "    <tr>\n",
       "      <th>54</th>\n",
       "      <td>jun</td>\n",
       "      <td>oct</td>\n",
       "      <td>417.0464</td>\n",
       "      <td>-925.0109</td>\n",
       "      <td>1759.1038</td>\n",
       "      <td>False</td>\n",
       "    </tr>\n",
       "    <tr>\n",
       "      <th>55</th>\n",
       "      <td>jun</td>\n",
       "      <td>sep</td>\n",
       "      <td>154.7506</td>\n",
       "      <td>-1201.5088</td>\n",
       "      <td>1511.0100</td>\n",
       "      <td>False</td>\n",
       "    </tr>\n",
       "    <tr>\n",
       "      <th>56</th>\n",
       "      <td>mar</td>\n",
       "      <td>may</td>\n",
       "      <td>175.4693</td>\n",
       "      <td>-900.1371</td>\n",
       "      <td>1251.0757</td>\n",
       "      <td>False</td>\n",
       "    </tr>\n",
       "    <tr>\n",
       "      <th>57</th>\n",
       "      <td>mar</td>\n",
       "      <td>nov</td>\n",
       "      <td>118.4969</td>\n",
       "      <td>-871.8119</td>\n",
       "      <td>1108.8058</td>\n",
       "      <td>False</td>\n",
       "    </tr>\n",
       "    <tr>\n",
       "      <th>58</th>\n",
       "      <td>mar</td>\n",
       "      <td>oct</td>\n",
       "      <td>236.8935</td>\n",
       "      <td>-728.5067</td>\n",
       "      <td>1202.2937</td>\n",
       "      <td>False</td>\n",
       "    </tr>\n",
       "    <tr>\n",
       "      <th>59</th>\n",
       "      <td>mar</td>\n",
       "      <td>sep</td>\n",
       "      <td>-25.4023</td>\n",
       "      <td>-1010.4502</td>\n",
       "      <td>959.6455</td>\n",
       "      <td>False</td>\n",
       "    </tr>\n",
       "    <tr>\n",
       "      <th>60</th>\n",
       "      <td>may</td>\n",
       "      <td>nov</td>\n",
       "      <td>-56.9724</td>\n",
       "      <td>-1249.9917</td>\n",
       "      <td>1136.0470</td>\n",
       "      <td>False</td>\n",
       "    </tr>\n",
       "    <tr>\n",
       "      <th>61</th>\n",
       "      <td>may</td>\n",
       "      <td>oct</td>\n",
       "      <td>61.4242</td>\n",
       "      <td>-1111.0012</td>\n",
       "      <td>1233.8495</td>\n",
       "      <td>False</td>\n",
       "    </tr>\n",
       "    <tr>\n",
       "      <th>62</th>\n",
       "      <td>may</td>\n",
       "      <td>sep</td>\n",
       "      <td>-200.8716</td>\n",
       "      <td>-1389.5275</td>\n",
       "      <td>987.7843</td>\n",
       "      <td>False</td>\n",
       "    </tr>\n",
       "    <tr>\n",
       "      <th>63</th>\n",
       "      <td>nov</td>\n",
       "      <td>oct</td>\n",
       "      <td>118.3966</td>\n",
       "      <td>-976.3014</td>\n",
       "      <td>1213.0946</td>\n",
       "      <td>False</td>\n",
       "    </tr>\n",
       "    <tr>\n",
       "      <th>64</th>\n",
       "      <td>nov</td>\n",
       "      <td>sep</td>\n",
       "      <td>-143.8992</td>\n",
       "      <td>-1255.9628</td>\n",
       "      <td>968.1643</td>\n",
       "      <td>False</td>\n",
       "    </tr>\n",
       "    <tr>\n",
       "      <th>65</th>\n",
       "      <td>oct</td>\n",
       "      <td>sep</td>\n",
       "      <td>-262.2958</td>\n",
       "      <td>-1352.2368</td>\n",
       "      <td>827.6452</td>\n",
       "      <td>False</td>\n",
       "    </tr>\n",
       "  </tbody>\n",
       "</table>\n",
       "<p>66 rows × 6 columns</p>\n",
       "</div>"
      ],
      "text/plain": [
       "   group1 group2  meandiff      lower      upper  reject\n",
       "0     apr    aug -429.4049 -1421.7047   562.8950   False\n",
       "1     apr    dec -207.6797 -1111.0347   695.6754   False\n",
       "2     apr    feb  -22.6780  -913.5247   868.1687   False\n",
       "3     apr    jan   82.7094  -793.8885   959.3073   False\n",
       "4     apr    jul -249.8789 -1259.4613   759.7034   False\n",
       "5     apr    jun -472.0174 -1727.6696   783.6348   False\n",
       "6     apr    mar -291.8645 -1133.0197   549.2908   False\n",
       "7     apr    may -116.3951 -1188.8343   956.0440   False\n",
       "8     apr    nov -173.3675 -1160.2354   813.5004   False\n",
       "9     apr    oct  -54.9710 -1016.8412   906.8993   False\n",
       "10    apr    sep -317.2668 -1298.8553   664.3217   False\n",
       "11    aug    dec  221.7252  -827.0696  1270.5199   False\n",
       "12    aug    feb  406.7269  -631.3136  1444.7673   False\n",
       "13    aug    jan  512.1143  -513.7239  1537.9525   False\n",
       "14    aug    jul  179.5259  -962.0417  1321.0935   False\n",
       "15    aug    jun  -42.6125 -1406.6443  1321.4192   False\n",
       "16    aug    mar  137.5404  -858.1816  1133.2624   False\n",
       "17    aug    may  313.0097  -884.5068  1510.5262   False\n",
       "18    aug    nov  256.0373  -865.4921  1377.5668   False\n",
       "19    aug    oct  374.4339  -725.1635  1474.0313   False\n",
       "20    aug    sep  112.1381 -1004.7487  1229.0249   False\n",
       "21    dec    feb  185.0017  -768.3709  1138.3743   False\n",
       "22    dec    jan  290.3891  -649.6829  1230.4611   False\n",
       "23    dec    jul  -42.1993 -1107.3603  1022.9618   False\n",
       "24    dec    jun -264.3377 -1565.0967  1036.4213   False\n",
       "25    dec    mar  -84.1848  -991.2976   822.9280   False\n",
       "26    dec    may   91.2845 -1033.6320  1216.2011   False\n",
       "27    dec    nov   34.3122 -1009.3447  1077.9691   False\n",
       "28    dec    oct  152.7087  -867.3431  1172.7606   False\n",
       "29    dec    sep -109.5871 -1148.2533   929.0791   False\n",
       "..    ...    ...       ...        ...        ...     ...\n",
       "36    feb    oct  -32.2929 -1041.2842   976.6983   False\n",
       "37    feb    sep -294.5888 -1322.3947   733.2171   False\n",
       "38    jan    jul -332.5884 -1375.1533   709.9765   False\n",
       "39    jan    jun -554.7268 -1837.0480   727.5943   False\n",
       "40    jan    mar -374.5739 -1255.0437   505.8960   False\n",
       "41    jan    may -199.1046 -1302.6492   904.4401   False\n",
       "42    jan    nov -256.0769 -1276.6617   764.5078   False\n",
       "43    jan    oct -137.6804 -1134.1137   858.7529   False\n",
       "44    jan    sep -399.9762 -1415.4569   615.5045   False\n",
       "45    jul    jun -222.1384 -1598.7939  1154.5170   False\n",
       "46    jul    mar  -41.9855 -1054.9316   970.9606   False\n",
       "47    jul    may  133.4838 -1078.3922  1345.3598   False\n",
       "48    jul    nov   76.5114 -1060.3377  1213.3606   False\n",
       "49    jul    oct  194.9080  -920.3104  1310.1264   False\n",
       "50    jul    sep  -67.3878 -1199.6571  1064.8814   False\n",
       "51    jun    mar  180.1529 -1078.2054  1438.5113   False\n",
       "52    jun    may  355.6222 -1067.7714  1779.0159   False\n",
       "53    jun    nov  298.6499 -1061.4354  1658.7351   False\n",
       "54    jun    oct  417.0464  -925.0109  1759.1038   False\n",
       "55    jun    sep  154.7506 -1201.5088  1511.0100   False\n",
       "56    mar    may  175.4693  -900.1371  1251.0757   False\n",
       "57    mar    nov  118.4969  -871.8119  1108.8058   False\n",
       "58    mar    oct  236.8935  -728.5067  1202.2937   False\n",
       "59    mar    sep  -25.4023 -1010.4502   959.6455   False\n",
       "60    may    nov  -56.9724 -1249.9917  1136.0470   False\n",
       "61    may    oct   61.4242 -1111.0012  1233.8495   False\n",
       "62    may    sep -200.8716 -1389.5275   987.7843   False\n",
       "63    nov    oct  118.3966  -976.3014  1213.0946   False\n",
       "64    nov    sep -143.8992 -1255.9628   968.1643   False\n",
       "65    oct    sep -262.2958 -1352.2368   827.6452   False\n",
       "\n",
       "[66 rows x 6 columns]"
      ]
     },
     "execution_count": 127,
     "metadata": {},
     "output_type": "execute_result"
    }
   ],
   "source": [
    "# Importing tukey's test\n",
    "from statsmodels.stats.multicomp import pairwise_tukeyhsd as tukey\n",
    "\n",
    "# Defome the dataframe containing column of interest and group labels. \n",
    "df_test_hypothesis = df_year_orders[['order_total','month_name','week_day']]\n",
    "grp_labels = df_test_hypothesis['month_name']\n",
    "\n",
    "\n",
    "# Run tukey's test\n",
    "tukey_results =tukey(df_test_hypothesis['order_total'], grp_labels, 0.05)\n",
    "\n",
    "\n",
    "# Save the results into a dataframe\n",
    "dfH_tukey = pd.DataFrame(data=tukey_results._results_table.data[1:], columns=tukey_results._results_table.data[0])\n",
    "dfH_tukey\n",
    "# dfH_tukey.loc[dfH_tukey['reject']==True] # To show just significant results."
   ]
  },
  {
   "cell_type": "code",
   "execution_count": 128,
   "metadata": {
    "colab": {
     "base_uri": "https://localhost:8080/",
     "height": 47
    },
    "colab_type": "code",
    "id": "_snGJgXiylck",
    "outputId": "9891c04e-17b1-4005-c0c8-4b47b3471fa5"
   },
   "outputs": [
    {
     "data": {
      "text/html": [
       "<div>\n",
       "<style scoped>\n",
       "    .dataframe tbody tr th:only-of-type {\n",
       "        vertical-align: middle;\n",
       "    }\n",
       "\n",
       "    .dataframe tbody tr th {\n",
       "        vertical-align: top;\n",
       "    }\n",
       "\n",
       "    .dataframe thead th {\n",
       "        text-align: right;\n",
       "    }\n",
       "</style>\n",
       "<table border=\"1\" class=\"dataframe\">\n",
       "  <thead>\n",
       "    <tr style=\"text-align: right;\">\n",
       "      <th></th>\n",
       "      <th>group1</th>\n",
       "      <th>group2</th>\n",
       "      <th>meandiff</th>\n",
       "      <th>lower</th>\n",
       "      <th>upper</th>\n",
       "      <th>reject</th>\n",
       "    </tr>\n",
       "  </thead>\n",
       "  <tbody>\n",
       "  </tbody>\n",
       "</table>\n",
       "</div>"
      ],
      "text/plain": [
       "Empty DataFrame\n",
       "Columns: [group1, group2, meandiff, lower, upper, reject]\n",
       "Index: []"
      ]
     },
     "execution_count": 128,
     "metadata": {},
     "output_type": "execute_result"
    }
   ],
   "source": [
    "# # Save the results into a dataframe\n",
    "# dfH_tukey = pd.DataFrame(data=tukey_results._results_table.data[1:], columns=tukey_results._results_table.data[0])\n",
    "dfH_tukey.loc[dfH_tukey['reject']==True]"
   ]
  },
  {
   "cell_type": "markdown",
   "metadata": {
    "colab_type": "text",
    "id": "y6J9p4XL3Lnr"
   },
   "source": [
    "### SAVE THIS: using groupby to get mean, sem, for plotting"
   ]
  },
  {
   "cell_type": "code",
   "execution_count": 129,
   "metadata": {
    "colab": {},
    "colab_type": "code",
    "id": "hAuj-cPF22k6"
   },
   "outputs": [],
   "source": [
    "# WANT TO CALCULATE MEAN AND SEM FOR BAR PLOT FOR DF\n",
    "# Calc Standard Error of the Mean for PLotting.\n",
    "from scipy.stats import sem\n",
    "\n",
    "d_plot={}\n",
    "d_plot['mean'] = df_year_orders.groupby(['month'])['order_total'].mean()\n",
    "d_plot['sem'] =df_year_orders.groupby(['month'])['order_total'].sem()\n",
    "\n",
    "df_plot = pd.DataFrame.from_dict(d_plot)\n",
    "\n",
    "# Convert month index to month_num column\n",
    "df_plot['month_num'] = df_plot.index\n",
    "\n",
    "# Use month_dict to get months labeled with names\n",
    "df_plot['month_name']=df_plot['month_num'].map(month_dict)\n",
    "df_plot.set_index('month_name',drop=False,inplace=True)"
   ]
  },
  {
   "cell_type": "code",
   "execution_count": 130,
   "metadata": {
    "colab": {
     "base_uri": "https://localhost:8080/",
     "height": 435
    },
    "colab_type": "code",
    "id": "6sgbscPBR3Jb",
    "outputId": "d6d36286-1393-4c8a-ab0a-1a89b0644252"
   },
   "outputs": [
    {
     "data": {
      "text/html": [
       "<div>\n",
       "<style scoped>\n",
       "    .dataframe tbody tr th:only-of-type {\n",
       "        vertical-align: middle;\n",
       "    }\n",
       "\n",
       "    .dataframe tbody tr th {\n",
       "        vertical-align: top;\n",
       "    }\n",
       "\n",
       "    .dataframe thead th {\n",
       "        text-align: right;\n",
       "    }\n",
       "</style>\n",
       "<table border=\"1\" class=\"dataframe\">\n",
       "  <thead>\n",
       "    <tr style=\"text-align: right;\">\n",
       "      <th></th>\n",
       "      <th>mean</th>\n",
       "      <th>sem</th>\n",
       "      <th>month_num</th>\n",
       "      <th>month_name</th>\n",
       "    </tr>\n",
       "    <tr>\n",
       "      <th>month_name</th>\n",
       "      <th></th>\n",
       "      <th></th>\n",
       "      <th></th>\n",
       "      <th></th>\n",
       "    </tr>\n",
       "  </thead>\n",
       "  <tbody>\n",
       "    <tr>\n",
       "      <th>jan</th>\n",
       "      <td>1766.820233</td>\n",
       "      <td>229.216484</td>\n",
       "      <td>1</td>\n",
       "      <td>jan</td>\n",
       "    </tr>\n",
       "    <tr>\n",
       "      <th>feb</th>\n",
       "      <td>1661.432801</td>\n",
       "      <td>284.949716</td>\n",
       "      <td>2</td>\n",
       "      <td>feb</td>\n",
       "    </tr>\n",
       "    <tr>\n",
       "      <th>mar</th>\n",
       "      <td>1392.246359</td>\n",
       "      <td>195.747163</td>\n",
       "      <td>3</td>\n",
       "      <td>mar</td>\n",
       "    </tr>\n",
       "    <tr>\n",
       "      <th>apr</th>\n",
       "      <td>1684.110810</td>\n",
       "      <td>210.208624</td>\n",
       "      <td>4</td>\n",
       "      <td>apr</td>\n",
       "    </tr>\n",
       "    <tr>\n",
       "      <th>may</th>\n",
       "      <td>1567.715663</td>\n",
       "      <td>261.780574</td>\n",
       "      <td>5</td>\n",
       "      <td>may</td>\n",
       "    </tr>\n",
       "    <tr>\n",
       "      <th>jun</th>\n",
       "      <td>1212.093417</td>\n",
       "      <td>152.376840</td>\n",
       "      <td>6</td>\n",
       "      <td>jun</td>\n",
       "    </tr>\n",
       "    <tr>\n",
       "      <th>jul</th>\n",
       "      <td>1434.231864</td>\n",
       "      <td>204.700933</td>\n",
       "      <td>7</td>\n",
       "      <td>jul</td>\n",
       "    </tr>\n",
       "    <tr>\n",
       "      <th>aug</th>\n",
       "      <td>1254.705948</td>\n",
       "      <td>141.289027</td>\n",
       "      <td>8</td>\n",
       "      <td>aug</td>\n",
       "    </tr>\n",
       "    <tr>\n",
       "      <th>sep</th>\n",
       "      <td>1366.844042</td>\n",
       "      <td>172.444868</td>\n",
       "      <td>9</td>\n",
       "      <td>sep</td>\n",
       "    </tr>\n",
       "    <tr>\n",
       "      <th>oct</th>\n",
       "      <td>1629.139859</td>\n",
       "      <td>209.653937</td>\n",
       "      <td>10</td>\n",
       "      <td>oct</td>\n",
       "    </tr>\n",
       "    <tr>\n",
       "      <th>nov</th>\n",
       "      <td>1510.743288</td>\n",
       "      <td>215.249752</td>\n",
       "      <td>11</td>\n",
       "      <td>nov</td>\n",
       "    </tr>\n",
       "    <tr>\n",
       "      <th>dec</th>\n",
       "      <td>1476.431120</td>\n",
       "      <td>164.974805</td>\n",
       "      <td>12</td>\n",
       "      <td>dec</td>\n",
       "    </tr>\n",
       "  </tbody>\n",
       "</table>\n",
       "</div>"
      ],
      "text/plain": [
       "                   mean         sem  month_num month_name\n",
       "month_name                                               \n",
       "jan         1766.820233  229.216484          1        jan\n",
       "feb         1661.432801  284.949716          2        feb\n",
       "mar         1392.246359  195.747163          3        mar\n",
       "apr         1684.110810  210.208624          4        apr\n",
       "may         1567.715663  261.780574          5        may\n",
       "jun         1212.093417  152.376840          6        jun\n",
       "jul         1434.231864  204.700933          7        jul\n",
       "aug         1254.705948  141.289027          8        aug\n",
       "sep         1366.844042  172.444868          9        sep\n",
       "oct         1629.139859  209.653937         10        oct\n",
       "nov         1510.743288  215.249752         11        nov\n",
       "dec         1476.431120  164.974805         12        dec"
      ]
     },
     "execution_count": 130,
     "metadata": {},
     "output_type": "execute_result"
    }
   ],
   "source": [
    "df_plot"
   ]
  },
  {
   "cell_type": "markdown",
   "metadata": {},
   "source": [
    "## BOOKMARK- FIGURE "
   ]
  },
  {
   "cell_type": "code",
   "execution_count": 131,
   "metadata": {},
   "outputs": [
    {
     "data": {
      "image/png": "[encoded data removed]",
      "text/plain": [
       "<Figure size 720x360 with 1 Axes>"
      ]
     },
     "metadata": {},
     "output_type": "display_data"
    }
   ],
   "source": [
    "#  ax.bar(x=df_plot.index, height= df_plot['mean'], yerr=df_plot['sem'])\n",
    "\n",
    "with plt.style.context('dark_background'):\n",
    "    fig = plt.figure(figsize=(10,5))\n",
    "    ax = fig.add_subplot(1,1,1)\n",
    "    \n",
    "    color = ['red','orange','yellow','green','blue','indigo','violet']\n",
    "    \n",
    "    err_kws = {'ecolor': 'w', 'capsize':5,\n",
    "               'elinewidth': 2 ,'capthick': 2}\n",
    "    \n",
    "    fontTitle = {'fontfamily':'serif',\n",
    "               'fontweight':'medium',\n",
    "               'fontsize':16}\n",
    "    \n",
    "    fontAxis = {'fontfamily':'serif',\n",
    "               'fontweight':'medium',\n",
    "               'fontsize':12}\n",
    "    labels = [str(i).title() for i in df_plot.index]\n",
    "    ax.bar(x = labels,width=0.6, height = df_plot['mean'], yerr = df_plot['sem'], error_kw=err_kws,\n",
    "          edgecolor='white', linewidth = 2,color = color)\n",
    "    \n",
    "    ax.set_title('Order Totals By Month',fontdict=fontTitle)\n",
    "    ax.set_ylabel('Average Order Total',fontdict=fontAxis)\n",
    "    ax.set_xlabel('Month', fontdict=fontAxis)\n",
    "    \n",
    "#     plt.tight_layout()\n",
    "    plt.show()"
   ]
  },
  {
   "cell_type": "code",
   "execution_count": 132,
   "metadata": {},
   "outputs": [],
   "source": [
    "fig.savefig('H3_Month_Bar_mean_sem_black.png',dpi=300,facecolor='k')"
   ]
  },
  {
   "cell_type": "markdown",
   "metadata": {
    "colab_type": "text",
    "id": "YUqcqJPZylcn"
   },
   "source": [
    "## ***Conclusions for Hypothesis 3:***\n",
    "1. **We first used D'Agostino & Perason's test (normaltest) to check for normal distributions**\n",
    "        - We rejecteded the null hypothesis that the groups came from a populatiin with a normal distribtuion. \n",
    "2. **We tested for equal variances using Levene's test. **\n",
    "    - Level's test had a signifcant p-value, so we rejected the hypothesis that the groups have equal variances\n",
    "    \n",
    "3. **We then concluded we need a non-parametric test for 12 samples, so we used the Tukey's pairwise multple comparison test**. \n",
    "\n"
   ]
  },
  {
   "cell_type": "code",
   "execution_count": 133,
   "metadata": {
    "colab": {
     "base_uri": "https://localhost:8080/",
     "height": 793
    },
    "colab_type": "code",
    "id": "yMuJZ7-yylcn",
    "outputId": "54565adc-1713-4f71-c8a6-9d939002851a"
   },
   "outputs": [
    {
     "data": {
      "text/html": [
       "<div>\n",
       "<style scoped>\n",
       "    .dataframe tbody tr th:only-of-type {\n",
       "        vertical-align: middle;\n",
       "    }\n",
       "\n",
       "    .dataframe tbody tr th {\n",
       "        vertical-align: top;\n",
       "    }\n",
       "\n",
       "    .dataframe thead th {\n",
       "        text-align: right;\n",
       "    }\n",
       "</style>\n",
       "<table border=\"1\" class=\"dataframe\">\n",
       "  <thead>\n",
       "    <tr style=\"text-align: right;\">\n",
       "      <th></th>\n",
       "      <th>Group:</th>\n",
       "      <th>TestName</th>\n",
       "      <th>Test Purpose</th>\n",
       "      <th>stat</th>\n",
       "      <th>p</th>\n",
       "      <th>sig?</th>\n",
       "    </tr>\n",
       "  </thead>\n",
       "  <tbody>\n",
       "    <tr>\n",
       "      <th>0</th>\n",
       "      <td>jul</td>\n",
       "      <td>normaltest</td>\n",
       "      <td>Normality</td>\n",
       "      <td>28.482051</td>\n",
       "      <td>6.534332e-07</td>\n",
       "      <td>True</td>\n",
       "    </tr>\n",
       "    <tr>\n",
       "      <th>1</th>\n",
       "      <td>aug</td>\n",
       "      <td>normaltest</td>\n",
       "      <td>Normality</td>\n",
       "      <td>35.416298</td>\n",
       "      <td>2.039147e-08</td>\n",
       "      <td>True</td>\n",
       "    </tr>\n",
       "    <tr>\n",
       "      <th>2</th>\n",
       "      <td>sep</td>\n",
       "      <td>normaltest</td>\n",
       "      <td>Normality</td>\n",
       "      <td>20.546302</td>\n",
       "      <td>3.454835e-05</td>\n",
       "      <td>True</td>\n",
       "    </tr>\n",
       "    <tr>\n",
       "      <th>3</th>\n",
       "      <td>oct</td>\n",
       "      <td>normaltest</td>\n",
       "      <td>Normality</td>\n",
       "      <td>55.131433</td>\n",
       "      <td>1.067484e-12</td>\n",
       "      <td>True</td>\n",
       "    </tr>\n",
       "    <tr>\n",
       "      <th>4</th>\n",
       "      <td>nov</td>\n",
       "      <td>normaltest</td>\n",
       "      <td>Normality</td>\n",
       "      <td>47.558321</td>\n",
       "      <td>4.708059e-11</td>\n",
       "      <td>True</td>\n",
       "    </tr>\n",
       "    <tr>\n",
       "      <th>5</th>\n",
       "      <td>dec</td>\n",
       "      <td>normaltest</td>\n",
       "      <td>Normality</td>\n",
       "      <td>65.102052</td>\n",
       "      <td>7.299096e-15</td>\n",
       "      <td>True</td>\n",
       "    </tr>\n",
       "    <tr>\n",
       "      <th>6</th>\n",
       "      <td>jan</td>\n",
       "      <td>normaltest</td>\n",
       "      <td>Normality</td>\n",
       "      <td>71.688386</td>\n",
       "      <td>2.710596e-16</td>\n",
       "      <td>True</td>\n",
       "    </tr>\n",
       "    <tr>\n",
       "      <th>7</th>\n",
       "      <td>feb</td>\n",
       "      <td>normaltest</td>\n",
       "      <td>Normality</td>\n",
       "      <td>91.351570</td>\n",
       "      <td>1.456326e-20</td>\n",
       "      <td>True</td>\n",
       "    </tr>\n",
       "    <tr>\n",
       "      <th>8</th>\n",
       "      <td>mar</td>\n",
       "      <td>normaltest</td>\n",
       "      <td>Normality</td>\n",
       "      <td>139.721993</td>\n",
       "      <td>4.568301e-31</td>\n",
       "      <td>True</td>\n",
       "    </tr>\n",
       "    <tr>\n",
       "      <th>9</th>\n",
       "      <td>apr</td>\n",
       "      <td>normaltest</td>\n",
       "      <td>Normality</td>\n",
       "      <td>81.806603</td>\n",
       "      <td>1.721558e-18</td>\n",
       "      <td>True</td>\n",
       "    </tr>\n",
       "    <tr>\n",
       "      <th>10</th>\n",
       "      <td>may</td>\n",
       "      <td>normaltest</td>\n",
       "      <td>Normality</td>\n",
       "      <td>51.838466</td>\n",
       "      <td>5.538857e-12</td>\n",
       "      <td>True</td>\n",
       "    </tr>\n",
       "    <tr>\n",
       "      <th>11</th>\n",
       "      <td>jun</td>\n",
       "      <td>normaltest</td>\n",
       "      <td>Normality</td>\n",
       "      <td>4.169504</td>\n",
       "      <td>1.243379e-01</td>\n",
       "      <td>False</td>\n",
       "    </tr>\n",
       "    <tr>\n",
       "      <th>12</th>\n",
       "      <td>Total Pop</td>\n",
       "      <td>normaltest</td>\n",
       "      <td>Normality</td>\n",
       "      <td>643.646268</td>\n",
       "      <td>1.713913e-140</td>\n",
       "      <td>True</td>\n",
       "    </tr>\n",
       "    <tr>\n",
       "      <th>13</th>\n",
       "      <td>jul vs. Other Months</td>\n",
       "      <td>levene</td>\n",
       "      <td>Equal Variance</td>\n",
       "      <td>0.089087</td>\n",
       "      <td>7.654160e-01</td>\n",
       "      <td>False</td>\n",
       "    </tr>\n",
       "    <tr>\n",
       "      <th>14</th>\n",
       "      <td>aug vs. Other Months</td>\n",
       "      <td>levene</td>\n",
       "      <td>Equal Variance</td>\n",
       "      <td>2.311798</td>\n",
       "      <td>1.287772e-01</td>\n",
       "      <td>False</td>\n",
       "    </tr>\n",
       "    <tr>\n",
       "      <th>15</th>\n",
       "      <td>sep vs. Other Months</td>\n",
       "      <td>levene</td>\n",
       "      <td>Equal Variance</td>\n",
       "      <td>0.416413</td>\n",
       "      <td>5.189112e-01</td>\n",
       "      <td>False</td>\n",
       "    </tr>\n",
       "    <tr>\n",
       "      <th>16</th>\n",
       "      <td>oct vs. Other Months</td>\n",
       "      <td>levene</td>\n",
       "      <td>Equal Variance</td>\n",
       "      <td>0.049549</td>\n",
       "      <td>8.239048e-01</td>\n",
       "      <td>False</td>\n",
       "    </tr>\n",
       "    <tr>\n",
       "      <th>17</th>\n",
       "      <td>nov vs. Other Months</td>\n",
       "      <td>levene</td>\n",
       "      <td>Equal Variance</td>\n",
       "      <td>0.001106</td>\n",
       "      <td>9.734797e-01</td>\n",
       "      <td>False</td>\n",
       "    </tr>\n",
       "    <tr>\n",
       "      <th>18</th>\n",
       "      <td>dec vs. Other Months</td>\n",
       "      <td>levene</td>\n",
       "      <td>Equal Variance</td>\n",
       "      <td>0.156702</td>\n",
       "      <td>6.923132e-01</td>\n",
       "      <td>False</td>\n",
       "    </tr>\n",
       "    <tr>\n",
       "      <th>19</th>\n",
       "      <td>jan vs. Other Months</td>\n",
       "      <td>levene</td>\n",
       "      <td>Equal Variance</td>\n",
       "      <td>0.872446</td>\n",
       "      <td>3.505514e-01</td>\n",
       "      <td>False</td>\n",
       "    </tr>\n",
       "    <tr>\n",
       "      <th>20</th>\n",
       "      <td>feb vs. Other Months</td>\n",
       "      <td>levene</td>\n",
       "      <td>Equal Variance</td>\n",
       "      <td>1.396524</td>\n",
       "      <td>2.376456e-01</td>\n",
       "      <td>False</td>\n",
       "    </tr>\n",
       "    <tr>\n",
       "      <th>21</th>\n",
       "      <td>mar vs. Other Months</td>\n",
       "      <td>levene</td>\n",
       "      <td>Equal Variance</td>\n",
       "      <td>0.515745</td>\n",
       "      <td>4.728649e-01</td>\n",
       "      <td>False</td>\n",
       "    </tr>\n",
       "    <tr>\n",
       "      <th>22</th>\n",
       "      <td>apr vs. Other Months</td>\n",
       "      <td>levene</td>\n",
       "      <td>Equal Variance</td>\n",
       "      <td>1.649587</td>\n",
       "      <td>1.993744e-01</td>\n",
       "      <td>False</td>\n",
       "    </tr>\n",
       "    <tr>\n",
       "      <th>23</th>\n",
       "      <td>may vs. Other Months</td>\n",
       "      <td>levene</td>\n",
       "      <td>Equal Variance</td>\n",
       "      <td>0.023840</td>\n",
       "      <td>8.773304e-01</td>\n",
       "      <td>False</td>\n",
       "    </tr>\n",
       "    <tr>\n",
       "      <th>24</th>\n",
       "      <td>jun vs. Other Months</td>\n",
       "      <td>levene</td>\n",
       "      <td>Equal Variance</td>\n",
       "      <td>1.930863</td>\n",
       "      <td>1.650375e-01</td>\n",
       "      <td>False</td>\n",
       "    </tr>\n",
       "  </tbody>\n",
       "</table>\n",
       "</div>"
      ],
      "text/plain": [
       "                  Group:    TestName    Test Purpose        stat  \\\n",
       "0                    jul  normaltest       Normality   28.482051   \n",
       "1                    aug  normaltest       Normality   35.416298   \n",
       "2                    sep  normaltest       Normality   20.546302   \n",
       "3                    oct  normaltest       Normality   55.131433   \n",
       "4                    nov  normaltest       Normality   47.558321   \n",
       "5                    dec  normaltest       Normality   65.102052   \n",
       "6                    jan  normaltest       Normality   71.688386   \n",
       "7                    feb  normaltest       Normality   91.351570   \n",
       "8                    mar  normaltest       Normality  139.721993   \n",
       "9                    apr  normaltest       Normality   81.806603   \n",
       "10                   may  normaltest       Normality   51.838466   \n",
       "11                   jun  normaltest       Normality    4.169504   \n",
       "12             Total Pop  normaltest       Normality  643.646268   \n",
       "13  jul vs. Other Months      levene  Equal Variance    0.089087   \n",
       "14  aug vs. Other Months      levene  Equal Variance    2.311798   \n",
       "15  sep vs. Other Months      levene  Equal Variance    0.416413   \n",
       "16  oct vs. Other Months      levene  Equal Variance    0.049549   \n",
       "17  nov vs. Other Months      levene  Equal Variance    0.001106   \n",
       "18  dec vs. Other Months      levene  Equal Variance    0.156702   \n",
       "19  jan vs. Other Months      levene  Equal Variance    0.872446   \n",
       "20  feb vs. Other Months      levene  Equal Variance    1.396524   \n",
       "21  mar vs. Other Months      levene  Equal Variance    0.515745   \n",
       "22  apr vs. Other Months      levene  Equal Variance    1.649587   \n",
       "23  may vs. Other Months      levene  Equal Variance    0.023840   \n",
       "24  jun vs. Other Months      levene  Equal Variance    1.930863   \n",
       "\n",
       "                p   sig?  \n",
       "0    6.534332e-07   True  \n",
       "1    2.039147e-08   True  \n",
       "2    3.454835e-05   True  \n",
       "3    1.067484e-12   True  \n",
       "4    4.708059e-11   True  \n",
       "5    7.299096e-15   True  \n",
       "6    2.710596e-16   True  \n",
       "7    1.456326e-20   True  \n",
       "8    4.568301e-31   True  \n",
       "9    1.721558e-18   True  \n",
       "10   5.538857e-12   True  \n",
       "11   1.243379e-01  False  \n",
       "12  1.713913e-140   True  \n",
       "13   7.654160e-01  False  \n",
       "14   1.287772e-01  False  \n",
       "15   5.189112e-01  False  \n",
       "16   8.239048e-01  False  \n",
       "17   9.734797e-01  False  \n",
       "18   6.923132e-01  False  \n",
       "19   3.505514e-01  False  \n",
       "20   2.376456e-01  False  \n",
       "21   4.728649e-01  False  \n",
       "22   1.993744e-01  False  \n",
       "23   8.773304e-01  False  \n",
       "24   1.650375e-01  False  "
      ]
     },
     "execution_count": 133,
     "metadata": {},
     "output_type": "execute_result"
    }
   ],
   "source": [
    "\n",
    "H3_tests_table = list2df(H3_tests)\n",
    "H3_tests_table"
   ]
  },
  {
   "cell_type": "markdown",
   "metadata": {
    "colab_type": "text",
    "id": "JS20iSiaylcq"
   },
   "source": [
    "4. **To determine which level of discounts had the largest effect, we performed a pairwise multiple comparison Tukey's test**. \n",
    "    - Our results showed that \n",
    "    "
   ]
  },
  {
   "cell_type": "code",
   "execution_count": 134,
   "metadata": {
    "colab": {
     "base_uri": "https://localhost:8080/",
     "height": 268
    },
    "colab_type": "code",
    "id": "u59S2GPKylcq",
    "outputId": "f7c2750b-50a0-4c2b-ae9a-2201c5e8ae76"
   },
   "outputs": [
    {
     "name": "stdout",
     "output_type": "stream",
     "text": [
      "Multiple Comparison of Means - Tukey HSD,FWER=0.05\n",
      "=================================================\n",
      "group1 group2  meandiff   lower    upper   reject\n",
      "-------------------------------------------------\n",
      "  0      1     -56.1493 -609.8688 497.5702 False \n",
      "  0      2    -123.4291 -674.6487 427.7905 False \n",
      "  0      3     107.6829 -446.8877 662.2534 False \n",
      "  0      6     34.6381  -519.0814 588.3576 False \n",
      "  1      2     -67.2798 -620.9993 486.4397 False \n",
      "  1      3     163.8322 -393.2232 720.8876 False \n",
      "  1      6     90.7874  -465.4207 646.9956 False \n",
      "  2      3     231.112  -323.4586 785.6825 False \n",
      "  2      6     158.0672 -395.6523 711.7867 False \n",
      "  3      6     -73.0448 -630.1001 484.0106 False \n",
      "-------------------------------------------------\n"
     ]
    }
   ],
   "source": [
    "# Importing tukey's test\n",
    "from statsmodels.stats.multicomp import pairwise_tukeyhsd as tukey\n",
    "df_test_hypothesis = df_year_orders[['order_total','month_name','week_day']]\n",
    "grp_labels = df_test_hypothesis['week_day']\n",
    "\n",
    "\n",
    "tukey_results_weekday =tukey(df_test_hypothesis['order_total'], grp_labels, 0.05)\n",
    "print(tukey_results_weekday.summary())"
   ]
  },
  {
   "cell_type": "markdown",
   "metadata": {
    "colab_type": "text",
    "id": "JkU49DaCyAcw"
   },
   "source": [
    "#### Calculating Effect Size"
   ]
  },
  {
   "cell_type": "code",
   "execution_count": 135,
   "metadata": {
    "colab": {
     "base_uri": "https://localhost:8080/",
     "height": 468
    },
    "colab_type": "code",
    "id": "Y9SFO5lMyAc4",
    "outputId": "38837854-05f3-44d1-86f5-c550a6c37e7a"
   },
   "outputs": [
    {
     "data": {
      "image/png": "[encoded data removed]",
      "text/plain": [
       "<Figure size 432x288 with 1 Axes>"
      ]
     },
     "metadata": {
      "needs_background": "light"
     },
     "output_type": "display_data"
    },
    {
     "name": "stdout",
     "output_type": "stream",
     "text": [
      "Normality: stat =106.21385355492637, p = 8.62888636430599e-24\n"
     ]
    }
   ],
   "source": [
    "# Plot the re-sampled data\n",
    "\n",
    "# # IF want to take smaller sample from population:\n",
    "\n",
    "# pop_samp_disc = np.random.choice(pop_samp_disc,1000)\n",
    "# pop_samp_full = np.random.choice(pop_samp_full, 1000)\n",
    "with plt.style.context(('tableau-colorblind10')):\n",
    "    fig = plt.figure()\n",
    "    \n",
    "    plt.title('Order Total  of Orders with Discounted Items vs Full Price')\n",
    "    \n",
    "    plt.hist(arrA,alpha = 0.5, bins=30,label='Discounted')\n",
    "    plt.hist(arrB,color='black', alpha = 0.5, bins=30,label='Full Price')\n",
    "\n",
    "    # Adding annotations\n",
    "    meanD = round(np.mean(arrA),3)\n",
    "    meanS = round(np.mean(arrB),3)\n",
    "    \n",
    "    plt.axvline(meanD, linestyle='--',label='Discounted Mean')\n",
    "    plt.text(meanD-1000,165,f'Mean:{meanD}',rotation=90)\n",
    "    \n",
    "    plt.axvline(meanS,color='k',linestyle='--',label='Full Price Mean')\n",
    "    plt.text(meanS+500,165,f'Mean:{meanS}',rotation=90)\n",
    "\n",
    "\n",
    "    plt.legend()\n",
    "    plt.show()\n",
    "\n",
    "# Run normality testing\n",
    "stat,p = normaltest(pop_samp_full)\n",
    "print(f'Normality: stat ={stat}, p = {p}')\n",
    "\n",
    "# Run ttest\n",
    "# tstat,tp = stats.ttest_ind(arrA, arrB)\n",
    "# print(f'T-test: stat ={tstat}, p = {tp}')#tstat,tp\n",
    "# ax.text("
   ]
  },
  {
   "cell_type": "markdown",
   "metadata": {
    "colab_type": "text",
    "heading_collapsed": true,
    "id": "jQXu0oOktzjb"
   },
   "source": [
    "# OLD - Hypothesis 4 - JMI"
   ]
  },
  {
   "cell_type": "markdown",
   "metadata": {
    "colab_type": "text",
    "hidden": true,
    "id": "NSv7gEWPuXTn"
   },
   "source": [
    "$H_1$ \n",
    "\n",
    "$H_0$ : \n",
    "\n",
    "**Specific Aims:**\n",
    "\n",
    "* ***Aim 1:To select the proper dataset for analysis, perform EDA, and generate data groups for testing.***\n",
    "    - Used sqlalchemy and pandas.read_sql_query()\n",
    "    query = \n",
    "\n",
    "* ***Aim 2: Select the appropriate t-test based on tests for the assumptions of normality and homogeneity of variance.***\n",
    "    1. **Test for Normality**\n",
    "        - D'Agostino-Pearson's normality test<br>\n",
    "        ```scipy.stats.normaltest```\n",
    "        - Shapiro-Wilik Test<br>\n",
    "        ```scipy.stats.shapiro```\n",
    "    2. **Test for Homogeneity of Variance**\n",
    "        - Levene's Test<br>\n",
    "         ```scipy.stats.levene```\n",
    "\n",
    "    3. **Choose appropriate test based upon 1. and 2.** \n",
    "\n",
    "\n",
    "* ***Aim 3: To perform post-hoc painrwise comparison testing to determine which level of discounts affect quantity and if any discount has a greater effect than the others.***\n",
    "     - Tukey's test for multiple pairwise comparisons\n"
   ]
  },
  {
   "cell_type": "markdown",
   "metadata": {
    "colab_type": "text",
    "hidden": true,
    "id": "ZnY9sSjWuKZL"
   },
   "source": [
    "_________\n",
    "## ***H4, Aim 1.1 : To select the proper dataset for analyiss  and generate data groups for testing.***\n",
    "\n",
    "#### Importing Method\n",
    "- Use sqlalchemy to create engine to connect to Northwind_small.sqlite.\n",
    "- use pd.read_sql_query('SELECT * FROM OrderDetail',egine) to directly read db into df"
   ]
  },
  {
   "cell_type": "code",
   "execution_count": 136,
   "metadata": {
    "colab": {},
    "colab_type": "code",
    "hidden": true,
    "id": "ZlBZKZo1goxY"
   },
   "outputs": [],
   "source": [
    "# df_H4 = df_H3_price_w_dates_products\n",
    "# df_H4.set_index('Id',inplace=True)\n",
    "# df_H4.head()\n"
   ]
  },
  {
   "cell_type": "code",
   "execution_count": 137,
   "metadata": {
    "colab": {},
    "colab_type": "code",
    "hidden": true,
    "id": "jH4e7ph8j5qG"
   },
   "outputs": [],
   "source": [
    "# df_H4.info()"
   ]
  },
  {
   "cell_type": "code",
   "execution_count": 138,
   "metadata": {
    "cellView": "both",
    "colab": {},
    "colab_type": "code",
    "hidden": true,
    "id": "SVOKjSMluKZL"
   },
   "outputs": [],
   "source": [
    "# # #CELL A : IF ON COLAB.\n",
    "# # #The northwind.sqlite is located in: content/drive/My Drive/Colab Notebooks/datasets/Northwind_small.sqlite\n",
    "# from google.colab import drive\n",
    "# drive.mount('/content/drive/', force_remount=True)\n",
    "\n",
    "# # # If in Google Drive \n",
    "# filepath = '/content/drive/My Drive/Colab Notebooks/datasets/Northwind_small.sqlite'"
   ]
  },
  {
   "cell_type": "code",
   "execution_count": 139,
   "metadata": {
    "colab": {},
    "colab_type": "code",
    "hidden": true,
    "id": "DBToLtImuKZN"
   },
   "outputs": [],
   "source": [
    "# #CELL B: If RUNNING LOCALLY.\n",
    "# filepath = 'Northwind_small.sqlite'"
   ]
  },
  {
   "cell_type": "markdown",
   "metadata": {
    "colab_type": "text",
    "hidden": true,
    "id": "4Jfb8uTXiPa1"
   },
   "source": [
    "##  H4: Some countries  are more responsive to discounts thatn others.\n",
    "- Group by country.\n",
    "- Compare disc vs full-price?\n",
    "    1. Amount ($)spent on products\n",
    "    2. Quantity of products \n",
    "- Compare by calculating:\n",
    "    1. discount - no discount\n",
    "    2. discount/(total)\n",
    "    3. dscount / no-discount\n",
    "    "
   ]
  },
  {
   "cell_type": "code",
   "execution_count": 140,
   "metadata": {
    "colab": {},
    "colab_type": "code",
    "hidden": true,
    "id": "yaUKMstniy1s"
   },
   "outputs": [
    {
     "ename": "NameError",
     "evalue": "name 'df_H4' is not defined",
     "output_type": "error",
     "traceback": [
      "\u001b[1;31m---------------------------------------------------------------------------\u001b[0m",
      "\u001b[1;31mNameError\u001b[0m                                 Traceback (most recent call last)",
      "\u001b[1;32m<ipython-input-140-4ddb541c54d6>\u001b[0m in \u001b[0;36m<module>\u001b[1;34m\u001b[0m\n\u001b[1;32m----> 1\u001b[1;33m \u001b[0mdf\u001b[0m \u001b[1;33m=\u001b[0m \u001b[0mdf_H4\u001b[0m\u001b[1;33m.\u001b[0m\u001b[0mcopy\u001b[0m\u001b[1;33m(\u001b[0m\u001b[1;33m)\u001b[0m\u001b[1;33m\u001b[0m\u001b[1;33m\u001b[0m\u001b[0m\n\u001b[0m",
      "\u001b[1;31mNameError\u001b[0m: name 'df_H4' is not defined"
     ]
    }
   ],
   "source": [
    "# df = df_H4.copy()"
   ]
  },
  {
   "cell_type": "code",
   "execution_count": null,
   "metadata": {
    "colab": {},
    "colab_type": "code",
    "hidden": true,
    "id": "81K3aQsHi22k"
   },
   "outputs": [],
   "source": [
    "# df.groupby(['ShipCountry','OnSale'])['Quantity','price'].agg(['mean','std','count'])"
   ]
  },
  {
   "cell_type": "code",
   "execution_count": null,
   "metadata": {
    "colab": {},
    "colab_type": "code",
    "hidden": true,
    "id": "YiJ2CaG7k_Tx"
   },
   "outputs": [],
   "source": []
  },
  {
   "cell_type": "markdown",
   "metadata": {
    "colab_type": "text",
    "hidden": true,
    "id": "HCQz20HQ7-oY"
   },
   "source": [
    "## ***H4, Aim 1.2: Using EDA to decide best metric for hypothesis***"
   ]
  },
  {
   "cell_type": "markdown",
   "metadata": {
    "colab_type": "text",
    "hidden": true,
    "id": "vxdXWOhtpMR2"
   },
   "source": [
    "### Look through all countries, check if they have both classes of items, then separate them into D_country dictionary "
   ]
  },
  {
   "cell_type": "code",
   "execution_count": null,
   "metadata": {
    "colab": {},
    "colab_type": "code",
    "hidden": true,
    "id": "Fy9pBOKbi76e"
   },
   "outputs": [],
   "source": [
    "D_country = {}\n",
    "countries = list(df['ShipCountry'].unique())\n",
    "\n",
    "for country in countries:\n",
    "    \n",
    "    check_if_discounted = len(df.groupby('ShipCountry').get_group(country)['OnSale'].unique())\n",
    "    \n",
    "    if check_if_discounted < 2:\n",
    "        print(f'{country} did not have both discounted and non-discounted items.')\n",
    "        continue\n",
    "        \n",
    "    else:\n",
    "    \n",
    "        D_country[country]={}\n",
    "\n",
    "        D_country[country]['df_sale'] = df.loc[df['OnSale']==1].groupby('ShipCountry').get_group(country)\n",
    "        D_country[country]['df_fullprice'] = df.loc[df['OnSale']==0].groupby('ShipCountry').get_group(country)\n",
    "\n",
    "        D_country[country]['price']={}\n",
    "        D_country[country]['price']['OnSale'] = D_country[country]['df_sale']['price']\n",
    "        D_country[country]['price']['FullPrice'] = D_country[country]['df_fullprice']['price']\n",
    "\n",
    "        D_country[country]['quantity']={}\n",
    "        D_country[country]['quantity']['OnSale'] = D_country[country]['df_sale']['Quantity']\n",
    "        D_country[country]['quantity']['FullPrice'] = D_country[country]['df_fullprice']['Quantity']\n",
    "\n",
    "#     D_country[country] = df.groupby(['ShipCountry','OnSale']).get_group(country)"
   ]
  },
  {
   "cell_type": "markdown",
   "metadata": {
    "colab_type": "text",
    "hidden": true,
    "id": "iWXkXdQLpKmQ"
   },
   "source": []
  },
  {
   "cell_type": "code",
   "execution_count": null,
   "metadata": {
    "colab": {},
    "colab_type": "code",
    "hidden": true,
    "id": "hDuEOmbhjz4y"
   },
   "outputs": [],
   "source": [
    "dC = D_country\n",
    "\n",
    "# price_sale-full = []\n",
    "results=pd.DataFrame()\n",
    "results = [['country','Price_Disc-Full','Price_Disc/Total','Quant_Disc-Full','Quant_Disc/Total','AvgPrice_Disc','AvgPrice_Full']]\n",
    "for c in dC.keys():\n",
    "    \n",
    "    temp = ['country','Price_Disc-Full','Price_Disc/Total','Quant_Disc-Full','Quant_Disc/Total','AvgPrice_Disc','AvgPrice_Full']\n",
    "    \n",
    "    calc = dC[c]\n",
    "    \n",
    "    i=0\n",
    "    \n",
    "    # country name\n",
    "    temp[i] = c\n",
    "    i+=1\n",
    "    #price sub\n",
    "    temp[i] = calc['price']['OnSale'].sum() - calc['price']['FullPrice'].sum()\n",
    "    i+=1\n",
    "    # price/total\n",
    "    temp[i] =  calc['price']['OnSale'].sum() / ( calc['price']['FullPrice'].sum() + calc['price']['OnSale'].sum() )\n",
    "    i+=1\n",
    "    # quantitty sub\n",
    "    temp[i] = calc['quantity']['OnSale'].sum() - calc['quantity']['FullPrice'].sum()\n",
    "    i+=1\n",
    "    # quantity total\n",
    "    temp[i] = calc['quantity']['OnSale'].sum() / ( calc['quantity']['FullPrice'].sum() + calc['quantity']['OnSale'].sum() )\n",
    "    i+=1\n",
    "    # average spent on sale items\n",
    "    temp[i] = calc['price']['OnSale'].sum()  / calc['quantity']['OnSale'].sum() \n",
    "    i+=1\n",
    "   # average spent on full price items\n",
    "    temp[i] = calc['price']['FullPrice'].sum()  / calc['quantity']['FullPrice'].sum() \n",
    "\n",
    "\n",
    "    \n",
    "    \n",
    "    results.append(temp)\n",
    "# sum(D_country['USA']['df_sale']['Quantity']) - sum(D_country['USA']['df_fullprice']['Quantity'])\n",
    "\n",
    "\n",
    "df_countries = list2df(results)\n",
    "df_countries.set_index('country',inplace=True)\n",
    "df_countries.sort_index().round(3)"
   ]
  },
  {
   "cell_type": "code",
   "execution_count": null,
   "metadata": {
    "colab": {},
    "colab_type": "code",
    "hidden": true,
    "id": "XGG3cOREHENP"
   },
   "outputs": [],
   "source": []
  },
  {
   "cell_type": "code",
   "execution_count": null,
   "metadata": {
    "colab": {},
    "colab_type": "code",
    "hidden": true,
    "id": "ZgOLa2foj1My"
   },
   "outputs": [],
   "source": [
    "# def calc_mean_mean_sem(column):\n",
    "#     column.name\n",
    "#     col_mean = column.mean()\n",
    "#     col_sem = column.sem()\n",
    "#     column.append(col_mean,col_sem)\n",
    "#     return columns\n",
    "# df_countries.plot(kind='bar',subplots=True,sharex=True,figsize=(10,8))\n",
    "# plt.tight_layout\n",
    "# total_row = df_countries.apply(lambda x: calc_mean_mean_sem(x),axis=1)\n",
    "df_header = df_countries.columns\n",
    "country_col_means = pd.Series(df_countries.mean(axis=0))\n",
    "country_col_sem = pd.Series(df_countries.sem(axis=0))\n",
    "country_col_std = pd.Series(df_countries.std(axis=0))\n",
    "\n",
    "# test['']\n",
    "df_test = pd.DataFrame([country_col_means, country_col_sem,country_col_std],columns=df_header)\n",
    "df_test.index = ['mean','sem','std']\n",
    "df_test"
   ]
  },
  {
   "cell_type": "code",
   "execution_count": null,
   "metadata": {
    "colab": {},
    "colab_type": "code",
    "hidden": true,
    "id": "-Ox_mbYcGY3u"
   },
   "outputs": [],
   "source": [
    "# # bar_kws = {'figsize':[6,4],\n",
    "# #           'title': 'Order Totals By Month',\n",
    "# #           'grid':False,\n",
    "# #           'legend':False,\n",
    "# #           'rot':45}\n",
    "\n",
    "# for col in df_countries.columns:\n",
    "#     fig = plt.figure()\n",
    "    \n",
    "#     plt.bar(x=df_countries.index, height=df_countries[col],yerr=df_test.loc['sem',col])#,**bar_kws)\n",
    "#     ax = fig.gca()\n",
    "#     ax.set_xticklabels(df_countries.index, rotation=45)\n",
    "#     ax.set_ylabel(col)\n",
    "#     plt.tight_layout\n",
    "# # plt.bar(x=df_countries.index, y=df_countries['Price_Disc-Full'], country_col_means)"
   ]
  },
  {
   "cell_type": "code",
   "execution_count": null,
   "metadata": {
    "colab": {},
    "colab_type": "code",
    "hidden": true,
    "id": "y3dxopWryBvq"
   },
   "outputs": [],
   "source": [
    "# # df_countries.plot(kind='bar',subplots=True,sharex=True,figsize=(10,8))\n",
    "# import math as mt\n",
    "# plt.style.use('default')\n",
    "# bar_kws = {'figsize':[8, 8],\n",
    "# #           'title': 'Prference for Discounts by Country',\n",
    "#           'grid':False,\n",
    "#           'legend':False,\n",
    "#           'rot':45,\n",
    "#           'subplots':True,\n",
    "#           'sharex' : True, \n",
    "# #            'yerr':total_row[\"sem\"],\n",
    "#            'ecolor':'black',\n",
    "\n",
    "# #           'layout':(mt.ceil(len(df_countries)/2),2)}\n",
    "# #            'yerr':'sem',\n",
    "# #           'ylim': [0,2500]}\n",
    "#           }\n",
    "\n",
    "    \n",
    "# fig = df_countries.plot(kind='bar',**bar_kws)#,table=True)\n",
    "# plt.tight_layout()\n",
    "\n",
    "\n",
    "# # fig.set(**{'xlabel':'Month','ylabel':'Order Total($)'})\n",
    "\n",
    "# # for num, ax in enumerate(fig):\n",
    "# #     ax.set_ylabel(df_countries.columns[num])"
   ]
  },
  {
   "cell_type": "markdown",
   "metadata": {
    "colab_type": "text",
    "hidden": true,
    "id": "x984auli8bFz"
   },
   "source": [
    "### Deciding which metric to use\n",
    "- Difference scores seem more helpful \n",
    "- Use Price Difference and Quant Difference"
   ]
  }
 ],
 "metadata": {
  "accelerator": "GPU",
  "colab": {
   "collapsed_sections": [],
   "include_colab_link": true,
   "name": "_Mod2_Project_JMI_04-07-19_H1-H3.ipynb",
   "provenance": [],
   "toc_visible": true,
   "version": "0.3.2"
  },
  "kernelspec": {
   "display_name": "learn-env",
   "language": "python",
   "name": "learn-env"
  },
  "language_info": {
   "codemirror_mode": {
    "name": "ipython",
    "version": 3
   },
   "file_extension": ".py",
   "mimetype": "text/x-python",
   "name": "python",
   "nbconvert_exporter": "python",
   "pygments_lexer": "ipython3",
   "version": "3.6.8"
  },
  "toc": {
   "base_numbering": 1,
   "nav_menu": {},
   "number_sections": false,
   "sideBar": true,
   "skip_h1_title": false,
   "title_cell": "Table of Contents",
   "title_sidebar": "Contents",
   "toc_cell": false,
   "toc_position": {
    "height": "calc(100% - 180px)",
    "left": "10px",
    "top": "150px",
    "width": "307.2px"
   },
   "toc_section_display": true,
   "toc_window_display": true
  },
  "varInspector": {
   "cols": {
    "lenName": 16,
    "lenType": 16,
    "lenVar": 40
   },
   "kernels_config": {
    "python": {
     "delete_cmd_postfix": "",
     "delete_cmd_prefix": "del ",
     "library": "var_list.py",
     "varRefreshCmd": "print(var_dic_list())"
    },
    "r": {
     "delete_cmd_postfix": ") ",
     "delete_cmd_prefix": "rm(",
     "library": "var_list.r",
     "varRefreshCmd": "cat(var_dic_list()) "
    }
   },
   "oldHeight": 525.1999999999999,
   "position": {
    "height": "40px",
    "left": "720px",
    "right": "20px",
    "top": "33px",
    "width": "759.2px"
   },
   "types_to_exclude": [
    "module",
    "function",
    "builtin_function_or_method",
    "instance",
    "_Feature"
   ],
   "varInspector_section_display": "none",
   "window_display": true
  }
 },
 "nbformat": 4,
 "nbformat_minor": 1
}
